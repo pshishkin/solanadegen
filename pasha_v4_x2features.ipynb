{
 "cells": [
  {
   "cell_type": "code",
   "execution_count": 1,
   "outputs": [
    {
     "name": "stderr",
     "output_type": "stream",
     "text": [
      "2024-01-07 22:43:07,361 - INFO - Getting data from db\n",
      "2024-01-07 22:43:18,911 - INFO - Got 10000 records from db\n",
      "2024-01-07 22:43:18,912 - INFO - From 2024-01-07 11:35:30 to 2024-01-07 22:39:59\n",
      "2024-01-07 22:43:18,915 - INFO - Filtered df by program_id, got 9670 records\n",
      "2024-01-07 22:43:18,921 - INFO - Using memory: 4.930463790893555 MB\n",
      "2024-01-07 22:43:23,276 - INFO - Got price tables for 676 mints\n",
      "2024-01-07 22:43:24,091 - INFO - Assigned labels to 4568 records\n",
      "2024-01-07 22:43:24,092 - INFO - label\n",
      "flat    3608\n",
      "na       509\n",
      "down     256\n",
      "up       195\n",
      "Name: count, dtype: int64\n",
      "2024-01-07 22:43:24,093 - INFO - Assigning features\n",
      "2024-01-07 22:44:00,360 - INFO - Features assigned\n"
     ]
    }
   ],
   "source": [
    "from dataprep import DatasetBuilder\n",
    "from datetime import timedelta\n",
    "\n",
    "PREDICTION_TIMEDELTA = timedelta(hours=1)\n",
    "QUANT_TIMEDELTA = timedelta(minutes=10)\n",
    "BUY_TIMEDELTA = timedelta(seconds=0)\n",
    "CHANGE_MAGNITUDE = 1.2\n",
    "\n",
    "builder = DatasetBuilder(10000, BUY_TIMEDELTA, (QUANT_TIMEDELTA, PREDICTION_TIMEDELTA), CHANGE_MAGNITUDE)\n",
    "dataset = builder.build_dataset()\n"
   ],
   "metadata": {
    "collapsed": false,
    "ExecuteTime": {
     "end_time": "2024-01-07T22:44:00.372442Z",
     "start_time": "2024-01-07T22:43:07.346886Z"
    }
   },
   "id": "efcea48a30cd5d32"
  },
  {
   "cell_type": "code",
   "execution_count": null,
   "outputs": [],
   "source": [
    "#PREDICTION_TIMEDELTA = timedelta(hours=1)\n",
    "CHANGE_MAGNITUDE = 3.5\n",
    "\n",
    "dataset = builder.reassign_values(BUY_TIMEDELTA, (QUANT_TIMEDELTA, PREDICTION_TIMEDELTA), CHANGE_MAGNITUDE)\n"
   ],
   "metadata": {
    "collapsed": false
   },
   "id": "fb2725437b2b9501"
  },
  {
   "cell_type": "code",
   "execution_count": 2,
   "outputs": [
    {
     "data": {
      "text/plain": "              time_quant                                          mint  \\\n2441 2024-01-07 17:50:00  H5n9BQfULHEEtvLVf2WErUHsXHhRaUkYqVhNzxUkWJGf   \n\n         price  buy_price  sell_price label  day_of_week  hour  \\\n2441  0.000003   0.000003    0.000004    up            6    17   \n\n      found_points_now  u_price_sma_now  ...  vol_ema_sum_10m  \\\n2441               1.0              1.0  ...         0.213134   \n\n      trcnt_sma_sum_1h  vol_sma_sum_1h  vol_ema_sum_1h  trcnt_sma_sum_4h  \\\n2441          1.166667         1.68492        1.150132               5.0   \n\n      vol_sma_sum_4h  vol_ema_sum_4h  trcnt_sma_sum_1d  vol_sma_sum_1d  \\\n2441        8.748421        8.748421               0.0             0.0   \n\n      vol_ema_sum_1d  \n2441             0.0  \n\n[1 rows x 93 columns]",
      "text/html": "<div>\n<style scoped>\n    .dataframe tbody tr th:only-of-type {\n        vertical-align: middle;\n    }\n\n    .dataframe tbody tr th {\n        vertical-align: top;\n    }\n\n    .dataframe thead th {\n        text-align: right;\n    }\n</style>\n<table border=\"1\" class=\"dataframe\">\n  <thead>\n    <tr style=\"text-align: right;\">\n      <th></th>\n      <th>time_quant</th>\n      <th>mint</th>\n      <th>price</th>\n      <th>buy_price</th>\n      <th>sell_price</th>\n      <th>label</th>\n      <th>day_of_week</th>\n      <th>hour</th>\n      <th>found_points_now</th>\n      <th>u_price_sma_now</th>\n      <th>...</th>\n      <th>vol_ema_sum_10m</th>\n      <th>trcnt_sma_sum_1h</th>\n      <th>vol_sma_sum_1h</th>\n      <th>vol_ema_sum_1h</th>\n      <th>trcnt_sma_sum_4h</th>\n      <th>vol_sma_sum_4h</th>\n      <th>vol_ema_sum_4h</th>\n      <th>trcnt_sma_sum_1d</th>\n      <th>vol_sma_sum_1d</th>\n      <th>vol_ema_sum_1d</th>\n    </tr>\n  </thead>\n  <tbody>\n    <tr>\n      <th>2441</th>\n      <td>2024-01-07 17:50:00</td>\n      <td>H5n9BQfULHEEtvLVf2WErUHsXHhRaUkYqVhNzxUkWJGf</td>\n      <td>0.000003</td>\n      <td>0.000003</td>\n      <td>0.000004</td>\n      <td>up</td>\n      <td>6</td>\n      <td>17</td>\n      <td>1.0</td>\n      <td>1.0</td>\n      <td>...</td>\n      <td>0.213134</td>\n      <td>1.166667</td>\n      <td>1.68492</td>\n      <td>1.150132</td>\n      <td>5.0</td>\n      <td>8.748421</td>\n      <td>8.748421</td>\n      <td>0.0</td>\n      <td>0.0</td>\n      <td>0.0</td>\n    </tr>\n  </tbody>\n</table>\n<p>1 rows × 93 columns</p>\n</div>"
     },
     "execution_count": 2,
     "metadata": {},
     "output_type": "execute_result"
    }
   ],
   "source": [
    "dataset[(dataset['label'] == 'up') & (dataset['mint'] == 'H5n9BQfULHEEtvLVf2WErUHsXHhRaUkYqVhNzxUkWJGf')]"
   ],
   "metadata": {
    "collapsed": false,
    "ExecuteTime": {
     "end_time": "2024-01-07T22:44:02.196306Z",
     "start_time": "2024-01-07T22:44:02.179730Z"
    }
   },
   "id": "4826623dcd12af48"
  },
  {
   "cell_type": "code",
   "execution_count": 3,
   "outputs": [
    {
     "data": {
      "text/plain": "70"
     },
     "execution_count": 3,
     "metadata": {},
     "output_type": "execute_result"
    }
   ],
   "source": [
    "dataset[dataset['label'] == 'up']['mint'].nunique()\n"
   ],
   "metadata": {
    "collapsed": false,
    "ExecuteTime": {
     "end_time": "2024-01-07T22:44:26.735775Z",
     "start_time": "2024-01-07T22:44:26.723382Z"
    }
   },
   "id": "43cf93a151512c70"
  },
  {
   "cell_type": "code",
   "execution_count": 4,
   "outputs": [
    {
     "data": {
      "text/plain": "                          time_quant         price     buy_price  \\\ncount                           4568  4.568000e+03  4.568000e+03   \nmean   2024-01-07 17:20:19.964973568  1.699936e+00  1.699936e+00   \nmin              2024-01-07 11:40:00  8.906252e-18  8.906252e-18   \n25%              2024-01-07 14:40:00  4.101458e-07  4.101458e-07   \n50%              2024-01-07 17:30:00  5.622129e-06  5.622129e-06   \n75%              2024-01-07 20:10:00  1.396249e-04  1.396249e-04   \nmax              2024-01-07 22:20:00  5.462988e+02  5.462988e+02   \nstd                              NaN  2.585028e+01  2.585028e+01   \n\n         sell_price  day_of_week         hour  found_points_now  \\\ncount  4.568000e+03       4568.0  4568.000000            4568.0   \nmean   1.392176e+00          6.0    16.926445               1.0   \nmin    0.000000e+00          6.0    11.000000               1.0   \n25%    8.443855e-08          6.0    14.000000               1.0   \n50%    3.748833e-06          6.0    17.000000               1.0   \n75%    6.931794e-05          6.0    20.000000               1.0   \nmax    4.799114e+02          6.0    22.000000               1.0   \nstd    2.274762e+01          0.0     3.137576               0.0   \n\n       u_price_sma_now  u_price_ema_now  u_price_rsi_now  ...  \\\ncount           4568.0           4568.0           4568.0  ...   \nmean               1.0              1.0             -1.0  ...   \nmin                1.0              1.0             -1.0  ...   \n25%                1.0              1.0             -1.0  ...   \n50%                1.0              1.0             -1.0  ...   \n75%                1.0              1.0             -1.0  ...   \nmax                1.0              1.0             -1.0  ...   \nstd                0.0              0.0              0.0  ...   \n\n       vol_ema_sum_10m  trcnt_sma_sum_1h  vol_sma_sum_1h  vol_ema_sum_1h  \\\ncount      4568.000000       4568.000000     4568.000000     4568.000000   \nmean          6.060650          6.165669       29.490196       27.956637   \nmin           0.000000          0.000000        0.000000        0.000000   \n25%           0.142869          0.625000        0.387605        0.295307   \n50%           0.666897          2.000000        2.699690        2.452915   \n75%           2.778541          6.000000       12.950996       11.332653   \nmax         837.658369        104.800000     1434.769026     1579.702163   \nstd          27.340970         13.943857      115.783924      109.774703   \n\n       trcnt_sma_sum_4h  vol_sma_sum_4h  vol_ema_sum_4h  trcnt_sma_sum_1d  \\\ncount       4568.000000     4568.000000     4568.000000            4568.0   \nmean          18.269046       86.058111       83.040084               0.0   \nmin            0.000000        0.000000        0.000000               0.0   \n25%            0.000000        0.000000        0.000000               0.0   \n50%            3.000000        2.903769        2.098692               0.0   \n75%           14.000000       30.541918       26.682338               0.0   \nmax          432.500000     6108.394418     3966.384727               0.0   \nstd           49.234270      415.208864      383.957031               0.0   \n\n       vol_sma_sum_1d  vol_ema_sum_1d  \ncount          4568.0          4568.0  \nmean              0.0             0.0  \nmin               0.0             0.0  \n25%               0.0             0.0  \n50%               0.0             0.0  \n75%               0.0             0.0  \nmax               0.0             0.0  \nstd               0.0             0.0  \n\n[8 rows x 91 columns]",
      "text/html": "<div>\n<style scoped>\n    .dataframe tbody tr th:only-of-type {\n        vertical-align: middle;\n    }\n\n    .dataframe tbody tr th {\n        vertical-align: top;\n    }\n\n    .dataframe thead th {\n        text-align: right;\n    }\n</style>\n<table border=\"1\" class=\"dataframe\">\n  <thead>\n    <tr style=\"text-align: right;\">\n      <th></th>\n      <th>time_quant</th>\n      <th>price</th>\n      <th>buy_price</th>\n      <th>sell_price</th>\n      <th>day_of_week</th>\n      <th>hour</th>\n      <th>found_points_now</th>\n      <th>u_price_sma_now</th>\n      <th>u_price_ema_now</th>\n      <th>u_price_rsi_now</th>\n      <th>...</th>\n      <th>vol_ema_sum_10m</th>\n      <th>trcnt_sma_sum_1h</th>\n      <th>vol_sma_sum_1h</th>\n      <th>vol_ema_sum_1h</th>\n      <th>trcnt_sma_sum_4h</th>\n      <th>vol_sma_sum_4h</th>\n      <th>vol_ema_sum_4h</th>\n      <th>trcnt_sma_sum_1d</th>\n      <th>vol_sma_sum_1d</th>\n      <th>vol_ema_sum_1d</th>\n    </tr>\n  </thead>\n  <tbody>\n    <tr>\n      <th>count</th>\n      <td>4568</td>\n      <td>4.568000e+03</td>\n      <td>4.568000e+03</td>\n      <td>4.568000e+03</td>\n      <td>4568.0</td>\n      <td>4568.000000</td>\n      <td>4568.0</td>\n      <td>4568.0</td>\n      <td>4568.0</td>\n      <td>4568.0</td>\n      <td>...</td>\n      <td>4568.000000</td>\n      <td>4568.000000</td>\n      <td>4568.000000</td>\n      <td>4568.000000</td>\n      <td>4568.000000</td>\n      <td>4568.000000</td>\n      <td>4568.000000</td>\n      <td>4568.0</td>\n      <td>4568.0</td>\n      <td>4568.0</td>\n    </tr>\n    <tr>\n      <th>mean</th>\n      <td>2024-01-07 17:20:19.964973568</td>\n      <td>1.699936e+00</td>\n      <td>1.699936e+00</td>\n      <td>1.392176e+00</td>\n      <td>6.0</td>\n      <td>16.926445</td>\n      <td>1.0</td>\n      <td>1.0</td>\n      <td>1.0</td>\n      <td>-1.0</td>\n      <td>...</td>\n      <td>6.060650</td>\n      <td>6.165669</td>\n      <td>29.490196</td>\n      <td>27.956637</td>\n      <td>18.269046</td>\n      <td>86.058111</td>\n      <td>83.040084</td>\n      <td>0.0</td>\n      <td>0.0</td>\n      <td>0.0</td>\n    </tr>\n    <tr>\n      <th>min</th>\n      <td>2024-01-07 11:40:00</td>\n      <td>8.906252e-18</td>\n      <td>8.906252e-18</td>\n      <td>0.000000e+00</td>\n      <td>6.0</td>\n      <td>11.000000</td>\n      <td>1.0</td>\n      <td>1.0</td>\n      <td>1.0</td>\n      <td>-1.0</td>\n      <td>...</td>\n      <td>0.000000</td>\n      <td>0.000000</td>\n      <td>0.000000</td>\n      <td>0.000000</td>\n      <td>0.000000</td>\n      <td>0.000000</td>\n      <td>0.000000</td>\n      <td>0.0</td>\n      <td>0.0</td>\n      <td>0.0</td>\n    </tr>\n    <tr>\n      <th>25%</th>\n      <td>2024-01-07 14:40:00</td>\n      <td>4.101458e-07</td>\n      <td>4.101458e-07</td>\n      <td>8.443855e-08</td>\n      <td>6.0</td>\n      <td>14.000000</td>\n      <td>1.0</td>\n      <td>1.0</td>\n      <td>1.0</td>\n      <td>-1.0</td>\n      <td>...</td>\n      <td>0.142869</td>\n      <td>0.625000</td>\n      <td>0.387605</td>\n      <td>0.295307</td>\n      <td>0.000000</td>\n      <td>0.000000</td>\n      <td>0.000000</td>\n      <td>0.0</td>\n      <td>0.0</td>\n      <td>0.0</td>\n    </tr>\n    <tr>\n      <th>50%</th>\n      <td>2024-01-07 17:30:00</td>\n      <td>5.622129e-06</td>\n      <td>5.622129e-06</td>\n      <td>3.748833e-06</td>\n      <td>6.0</td>\n      <td>17.000000</td>\n      <td>1.0</td>\n      <td>1.0</td>\n      <td>1.0</td>\n      <td>-1.0</td>\n      <td>...</td>\n      <td>0.666897</td>\n      <td>2.000000</td>\n      <td>2.699690</td>\n      <td>2.452915</td>\n      <td>3.000000</td>\n      <td>2.903769</td>\n      <td>2.098692</td>\n      <td>0.0</td>\n      <td>0.0</td>\n      <td>0.0</td>\n    </tr>\n    <tr>\n      <th>75%</th>\n      <td>2024-01-07 20:10:00</td>\n      <td>1.396249e-04</td>\n      <td>1.396249e-04</td>\n      <td>6.931794e-05</td>\n      <td>6.0</td>\n      <td>20.000000</td>\n      <td>1.0</td>\n      <td>1.0</td>\n      <td>1.0</td>\n      <td>-1.0</td>\n      <td>...</td>\n      <td>2.778541</td>\n      <td>6.000000</td>\n      <td>12.950996</td>\n      <td>11.332653</td>\n      <td>14.000000</td>\n      <td>30.541918</td>\n      <td>26.682338</td>\n      <td>0.0</td>\n      <td>0.0</td>\n      <td>0.0</td>\n    </tr>\n    <tr>\n      <th>max</th>\n      <td>2024-01-07 22:20:00</td>\n      <td>5.462988e+02</td>\n      <td>5.462988e+02</td>\n      <td>4.799114e+02</td>\n      <td>6.0</td>\n      <td>22.000000</td>\n      <td>1.0</td>\n      <td>1.0</td>\n      <td>1.0</td>\n      <td>-1.0</td>\n      <td>...</td>\n      <td>837.658369</td>\n      <td>104.800000</td>\n      <td>1434.769026</td>\n      <td>1579.702163</td>\n      <td>432.500000</td>\n      <td>6108.394418</td>\n      <td>3966.384727</td>\n      <td>0.0</td>\n      <td>0.0</td>\n      <td>0.0</td>\n    </tr>\n    <tr>\n      <th>std</th>\n      <td>NaN</td>\n      <td>2.585028e+01</td>\n      <td>2.585028e+01</td>\n      <td>2.274762e+01</td>\n      <td>0.0</td>\n      <td>3.137576</td>\n      <td>0.0</td>\n      <td>0.0</td>\n      <td>0.0</td>\n      <td>0.0</td>\n      <td>...</td>\n      <td>27.340970</td>\n      <td>13.943857</td>\n      <td>115.783924</td>\n      <td>109.774703</td>\n      <td>49.234270</td>\n      <td>415.208864</td>\n      <td>383.957031</td>\n      <td>0.0</td>\n      <td>0.0</td>\n      <td>0.0</td>\n    </tr>\n  </tbody>\n</table>\n<p>8 rows × 91 columns</p>\n</div>"
     },
     "execution_count": 4,
     "metadata": {},
     "output_type": "execute_result"
    }
   ],
   "source": [
    "dataset.describe()\n"
   ],
   "metadata": {
    "collapsed": false,
    "ExecuteTime": {
     "end_time": "2024-01-07T22:44:27.405261Z",
     "start_time": "2024-01-07T22:44:27.330229Z"
    }
   },
   "id": "46d802310b2736d9"
  },
  {
   "cell_type": "code",
   "execution_count": 5,
   "outputs": [
    {
     "data": {
      "text/plain": "                          time_quant         price     buy_price  \\\ncount                           4568  4.568000e+03  4.568000e+03   \nmean   2024-01-07 17:20:19.964973568  1.699936e+00  1.699936e+00   \nmin              2024-01-07 11:40:00  8.906252e-18  8.906252e-18   \n25%              2024-01-07 14:40:00  4.101458e-07  4.101458e-07   \n50%              2024-01-07 17:30:00  5.622129e-06  5.622129e-06   \n75%              2024-01-07 20:10:00  1.396249e-04  1.396249e-04   \nmax              2024-01-07 22:20:00  5.462988e+02  5.462988e+02   \nstd                              NaN  2.585028e+01  2.585028e+01   \n\n         sell_price  day_of_week         hour  found_points_now  \\\ncount  4.568000e+03       4568.0  4568.000000            4568.0   \nmean   1.392176e+00          6.0    16.926445               1.0   \nmin    0.000000e+00          6.0    11.000000               1.0   \n25%    8.443855e-08          6.0    14.000000               1.0   \n50%    3.748833e-06          6.0    17.000000               1.0   \n75%    6.931794e-05          6.0    20.000000               1.0   \nmax    4.799114e+02          6.0    22.000000               1.0   \nstd    2.274762e+01          0.0     3.137576               0.0   \n\n       u_price_sma_now  u_price_ema_now  u_price_rsi_now  ...  \\\ncount           4568.0           4568.0           4568.0  ...   \nmean               1.0              1.0             -1.0  ...   \nmin                1.0              1.0             -1.0  ...   \n25%                1.0              1.0             -1.0  ...   \n50%                1.0              1.0             -1.0  ...   \n75%                1.0              1.0             -1.0  ...   \nmax                1.0              1.0             -1.0  ...   \nstd                0.0              0.0              0.0  ...   \n\n       vol_ema_sum_10m  trcnt_sma_sum_1h  vol_sma_sum_1h  vol_ema_sum_1h  \\\ncount      4568.000000       4568.000000     4568.000000     4568.000000   \nmean          6.060650          6.165669       29.490196       27.956637   \nmin           0.000000          0.000000        0.000000        0.000000   \n25%           0.142869          0.625000        0.387605        0.295307   \n50%           0.666897          2.000000        2.699690        2.452915   \n75%           2.778541          6.000000       12.950996       11.332653   \nmax         837.658369        104.800000     1434.769026     1579.702163   \nstd          27.340970         13.943857      115.783924      109.774703   \n\n       trcnt_sma_sum_4h  vol_sma_sum_4h  vol_ema_sum_4h  trcnt_sma_sum_1d  \\\ncount       4568.000000     4568.000000     4568.000000            4568.0   \nmean          18.269046       86.058111       83.040084               0.0   \nmin            0.000000        0.000000        0.000000               0.0   \n25%            0.000000        0.000000        0.000000               0.0   \n50%            3.000000        2.903769        2.098692               0.0   \n75%           14.000000       30.541918       26.682338               0.0   \nmax          432.500000     6108.394418     3966.384727               0.0   \nstd           49.234270      415.208864      383.957031               0.0   \n\n       vol_sma_sum_1d  vol_ema_sum_1d  \ncount          4568.0          4568.0  \nmean              0.0             0.0  \nmin               0.0             0.0  \n25%               0.0             0.0  \n50%               0.0             0.0  \n75%               0.0             0.0  \nmax               0.0             0.0  \nstd               0.0             0.0  \n\n[8 rows x 91 columns]",
      "text/html": "<div>\n<style scoped>\n    .dataframe tbody tr th:only-of-type {\n        vertical-align: middle;\n    }\n\n    .dataframe tbody tr th {\n        vertical-align: top;\n    }\n\n    .dataframe thead th {\n        text-align: right;\n    }\n</style>\n<table border=\"1\" class=\"dataframe\">\n  <thead>\n    <tr style=\"text-align: right;\">\n      <th></th>\n      <th>time_quant</th>\n      <th>price</th>\n      <th>buy_price</th>\n      <th>sell_price</th>\n      <th>day_of_week</th>\n      <th>hour</th>\n      <th>found_points_now</th>\n      <th>u_price_sma_now</th>\n      <th>u_price_ema_now</th>\n      <th>u_price_rsi_now</th>\n      <th>...</th>\n      <th>vol_ema_sum_10m</th>\n      <th>trcnt_sma_sum_1h</th>\n      <th>vol_sma_sum_1h</th>\n      <th>vol_ema_sum_1h</th>\n      <th>trcnt_sma_sum_4h</th>\n      <th>vol_sma_sum_4h</th>\n      <th>vol_ema_sum_4h</th>\n      <th>trcnt_sma_sum_1d</th>\n      <th>vol_sma_sum_1d</th>\n      <th>vol_ema_sum_1d</th>\n    </tr>\n  </thead>\n  <tbody>\n    <tr>\n      <th>count</th>\n      <td>4568</td>\n      <td>4.568000e+03</td>\n      <td>4.568000e+03</td>\n      <td>4.568000e+03</td>\n      <td>4568.0</td>\n      <td>4568.000000</td>\n      <td>4568.0</td>\n      <td>4568.0</td>\n      <td>4568.0</td>\n      <td>4568.0</td>\n      <td>...</td>\n      <td>4568.000000</td>\n      <td>4568.000000</td>\n      <td>4568.000000</td>\n      <td>4568.000000</td>\n      <td>4568.000000</td>\n      <td>4568.000000</td>\n      <td>4568.000000</td>\n      <td>4568.0</td>\n      <td>4568.0</td>\n      <td>4568.0</td>\n    </tr>\n    <tr>\n      <th>mean</th>\n      <td>2024-01-07 17:20:19.964973568</td>\n      <td>1.699936e+00</td>\n      <td>1.699936e+00</td>\n      <td>1.392176e+00</td>\n      <td>6.0</td>\n      <td>16.926445</td>\n      <td>1.0</td>\n      <td>1.0</td>\n      <td>1.0</td>\n      <td>-1.0</td>\n      <td>...</td>\n      <td>6.060650</td>\n      <td>6.165669</td>\n      <td>29.490196</td>\n      <td>27.956637</td>\n      <td>18.269046</td>\n      <td>86.058111</td>\n      <td>83.040084</td>\n      <td>0.0</td>\n      <td>0.0</td>\n      <td>0.0</td>\n    </tr>\n    <tr>\n      <th>min</th>\n      <td>2024-01-07 11:40:00</td>\n      <td>8.906252e-18</td>\n      <td>8.906252e-18</td>\n      <td>0.000000e+00</td>\n      <td>6.0</td>\n      <td>11.000000</td>\n      <td>1.0</td>\n      <td>1.0</td>\n      <td>1.0</td>\n      <td>-1.0</td>\n      <td>...</td>\n      <td>0.000000</td>\n      <td>0.000000</td>\n      <td>0.000000</td>\n      <td>0.000000</td>\n      <td>0.000000</td>\n      <td>0.000000</td>\n      <td>0.000000</td>\n      <td>0.0</td>\n      <td>0.0</td>\n      <td>0.0</td>\n    </tr>\n    <tr>\n      <th>25%</th>\n      <td>2024-01-07 14:40:00</td>\n      <td>4.101458e-07</td>\n      <td>4.101458e-07</td>\n      <td>8.443855e-08</td>\n      <td>6.0</td>\n      <td>14.000000</td>\n      <td>1.0</td>\n      <td>1.0</td>\n      <td>1.0</td>\n      <td>-1.0</td>\n      <td>...</td>\n      <td>0.142869</td>\n      <td>0.625000</td>\n      <td>0.387605</td>\n      <td>0.295307</td>\n      <td>0.000000</td>\n      <td>0.000000</td>\n      <td>0.000000</td>\n      <td>0.0</td>\n      <td>0.0</td>\n      <td>0.0</td>\n    </tr>\n    <tr>\n      <th>50%</th>\n      <td>2024-01-07 17:30:00</td>\n      <td>5.622129e-06</td>\n      <td>5.622129e-06</td>\n      <td>3.748833e-06</td>\n      <td>6.0</td>\n      <td>17.000000</td>\n      <td>1.0</td>\n      <td>1.0</td>\n      <td>1.0</td>\n      <td>-1.0</td>\n      <td>...</td>\n      <td>0.666897</td>\n      <td>2.000000</td>\n      <td>2.699690</td>\n      <td>2.452915</td>\n      <td>3.000000</td>\n      <td>2.903769</td>\n      <td>2.098692</td>\n      <td>0.0</td>\n      <td>0.0</td>\n      <td>0.0</td>\n    </tr>\n    <tr>\n      <th>75%</th>\n      <td>2024-01-07 20:10:00</td>\n      <td>1.396249e-04</td>\n      <td>1.396249e-04</td>\n      <td>6.931794e-05</td>\n      <td>6.0</td>\n      <td>20.000000</td>\n      <td>1.0</td>\n      <td>1.0</td>\n      <td>1.0</td>\n      <td>-1.0</td>\n      <td>...</td>\n      <td>2.778541</td>\n      <td>6.000000</td>\n      <td>12.950996</td>\n      <td>11.332653</td>\n      <td>14.000000</td>\n      <td>30.541918</td>\n      <td>26.682338</td>\n      <td>0.0</td>\n      <td>0.0</td>\n      <td>0.0</td>\n    </tr>\n    <tr>\n      <th>max</th>\n      <td>2024-01-07 22:20:00</td>\n      <td>5.462988e+02</td>\n      <td>5.462988e+02</td>\n      <td>4.799114e+02</td>\n      <td>6.0</td>\n      <td>22.000000</td>\n      <td>1.0</td>\n      <td>1.0</td>\n      <td>1.0</td>\n      <td>-1.0</td>\n      <td>...</td>\n      <td>837.658369</td>\n      <td>104.800000</td>\n      <td>1434.769026</td>\n      <td>1579.702163</td>\n      <td>432.500000</td>\n      <td>6108.394418</td>\n      <td>3966.384727</td>\n      <td>0.0</td>\n      <td>0.0</td>\n      <td>0.0</td>\n    </tr>\n    <tr>\n      <th>std</th>\n      <td>NaN</td>\n      <td>2.585028e+01</td>\n      <td>2.585028e+01</td>\n      <td>2.274762e+01</td>\n      <td>0.0</td>\n      <td>3.137576</td>\n      <td>0.0</td>\n      <td>0.0</td>\n      <td>0.0</td>\n      <td>0.0</td>\n      <td>...</td>\n      <td>27.340970</td>\n      <td>13.943857</td>\n      <td>115.783924</td>\n      <td>109.774703</td>\n      <td>49.234270</td>\n      <td>415.208864</td>\n      <td>383.957031</td>\n      <td>0.0</td>\n      <td>0.0</td>\n      <td>0.0</td>\n    </tr>\n  </tbody>\n</table>\n<p>8 rows × 91 columns</p>\n</div>"
     },
     "execution_count": 5,
     "metadata": {},
     "output_type": "execute_result"
    }
   ],
   "source": [
    "dataset.describe()"
   ],
   "metadata": {
    "collapsed": false,
    "ExecuteTime": {
     "end_time": "2024-01-07T22:44:27.842444Z",
     "start_time": "2024-01-07T22:44:27.777802Z"
    }
   },
   "id": "91fbb5d998719382"
  },
  {
   "cell_type": "code",
   "execution_count": 6,
   "outputs": [
    {
     "name": "stdout",
     "output_type": "stream",
     "text": [
      "dataset len: 4568\n",
      "train_test_dataset len: 4059\n",
      "train_test_dataset len: 4059\n",
      "unique_mints len: 635\n"
     ]
    }
   ],
   "source": [
    "from sklearn.model_selection import TimeSeriesSplit\n",
    "\n",
    "print(\"dataset len: %d\" % len(dataset))\n",
    "train_test_dataset = dataset[dataset['label'] != 'na']\n",
    "print(\"train_test_dataset len: %d\" % len(train_test_dataset))\n",
    "# train_test_dataset = train_test_dataset[train_test_dataset['sma_vol_sum_1h'] > 1]\n",
    "print(\"train_test_dataset len: %d\" % len(train_test_dataset))\n",
    "unique_mints = train_test_dataset['mint'].unique()\n",
    "print(\"unique_mints len: %d\" % len(unique_mints))\n"
   ],
   "metadata": {
    "collapsed": false,
    "ExecuteTime": {
     "end_time": "2024-01-07T22:45:11.164842Z",
     "start_time": "2024-01-07T22:45:10.969897Z"
    }
   },
   "id": "cd9ba54930ee096f"
  },
  {
   "cell_type": "code",
   "execution_count": 7,
   "outputs": [
    {
     "name": "stdout",
     "output_type": "stream",
     "text": [
      "70\n",
      "195\n"
     ]
    }
   ],
   "source": [
    "# how many mints have up label\n",
    "print(train_test_dataset[train_test_dataset['label'] == 'up']['mint'].nunique())\n",
    "print(len(train_test_dataset[train_test_dataset['label'] == 'up']))"
   ],
   "metadata": {
    "collapsed": false,
    "ExecuteTime": {
     "end_time": "2024-01-07T22:45:12.895003Z",
     "start_time": "2024-01-07T22:45:12.873124Z"
    }
   },
   "id": "783473e3cc65b98b"
  },
  {
   "cell_type": "code",
   "execution_count": 8,
   "outputs": [
    {
     "ename": "KeyError",
     "evalue": "'sma_vol_sum_1d'",
     "output_type": "error",
     "traceback": [
      "\u001B[0;31m---------------------------------------------------------------------------\u001B[0m",
      "\u001B[0;31mKeyError\u001B[0m                                  Traceback (most recent call last)",
      "File \u001B[0;32m~/dev/solanadegen/.venv/lib/python3.10/site-packages/pandas/core/indexes/base.py:3791\u001B[0m, in \u001B[0;36mIndex.get_loc\u001B[0;34m(self, key)\u001B[0m\n\u001B[1;32m   3790\u001B[0m \u001B[38;5;28;01mtry\u001B[39;00m:\n\u001B[0;32m-> 3791\u001B[0m     \u001B[38;5;28;01mreturn\u001B[39;00m \u001B[38;5;28;43mself\u001B[39;49m\u001B[38;5;241;43m.\u001B[39;49m\u001B[43m_engine\u001B[49m\u001B[38;5;241;43m.\u001B[39;49m\u001B[43mget_loc\u001B[49m\u001B[43m(\u001B[49m\u001B[43mcasted_key\u001B[49m\u001B[43m)\u001B[49m\n\u001B[1;32m   3792\u001B[0m \u001B[38;5;28;01mexcept\u001B[39;00m \u001B[38;5;167;01mKeyError\u001B[39;00m \u001B[38;5;28;01mas\u001B[39;00m err:\n",
      "File \u001B[0;32mindex.pyx:152\u001B[0m, in \u001B[0;36mpandas._libs.index.IndexEngine.get_loc\u001B[0;34m()\u001B[0m\n",
      "File \u001B[0;32mindex.pyx:181\u001B[0m, in \u001B[0;36mpandas._libs.index.IndexEngine.get_loc\u001B[0;34m()\u001B[0m\n",
      "File \u001B[0;32mpandas/_libs/hashtable_class_helper.pxi:7080\u001B[0m, in \u001B[0;36mpandas._libs.hashtable.PyObjectHashTable.get_item\u001B[0;34m()\u001B[0m\n",
      "File \u001B[0;32mpandas/_libs/hashtable_class_helper.pxi:7088\u001B[0m, in \u001B[0;36mpandas._libs.hashtable.PyObjectHashTable.get_item\u001B[0;34m()\u001B[0m\n",
      "\u001B[0;31mKeyError\u001B[0m: 'sma_vol_sum_1d'",
      "\nThe above exception was the direct cause of the following exception:\n",
      "\u001B[0;31mKeyError\u001B[0m                                  Traceback (most recent call last)",
      "Cell \u001B[0;32mIn[8], line 1\u001B[0m\n\u001B[0;32m----> 1\u001B[0m \u001B[43mtrain_test_dataset\u001B[49m\u001B[43m[\u001B[49m\u001B[43mtrain_test_dataset\u001B[49m\u001B[43m[\u001B[49m\u001B[38;5;124;43m'\u001B[39;49m\u001B[38;5;124;43mlabel\u001B[39;49m\u001B[38;5;124;43m'\u001B[39;49m\u001B[43m]\u001B[49m\u001B[43m \u001B[49m\u001B[38;5;241;43m==\u001B[39;49m\u001B[43m \u001B[49m\u001B[38;5;124;43m'\u001B[39;49m\u001B[38;5;124;43mup\u001B[39;49m\u001B[38;5;124;43m'\u001B[39;49m\u001B[43m]\u001B[49m\u001B[43m[\u001B[49m\u001B[38;5;124;43m'\u001B[39;49m\u001B[38;5;124;43msma_vol_sum_1d\u001B[39;49m\u001B[38;5;124;43m'\u001B[39;49m\u001B[43m]\u001B[49m\n",
      "File \u001B[0;32m~/dev/solanadegen/.venv/lib/python3.10/site-packages/pandas/core/frame.py:3893\u001B[0m, in \u001B[0;36mDataFrame.__getitem__\u001B[0;34m(self, key)\u001B[0m\n\u001B[1;32m   3891\u001B[0m \u001B[38;5;28;01mif\u001B[39;00m \u001B[38;5;28mself\u001B[39m\u001B[38;5;241m.\u001B[39mcolumns\u001B[38;5;241m.\u001B[39mnlevels \u001B[38;5;241m>\u001B[39m \u001B[38;5;241m1\u001B[39m:\n\u001B[1;32m   3892\u001B[0m     \u001B[38;5;28;01mreturn\u001B[39;00m \u001B[38;5;28mself\u001B[39m\u001B[38;5;241m.\u001B[39m_getitem_multilevel(key)\n\u001B[0;32m-> 3893\u001B[0m indexer \u001B[38;5;241m=\u001B[39m \u001B[38;5;28;43mself\u001B[39;49m\u001B[38;5;241;43m.\u001B[39;49m\u001B[43mcolumns\u001B[49m\u001B[38;5;241;43m.\u001B[39;49m\u001B[43mget_loc\u001B[49m\u001B[43m(\u001B[49m\u001B[43mkey\u001B[49m\u001B[43m)\u001B[49m\n\u001B[1;32m   3894\u001B[0m \u001B[38;5;28;01mif\u001B[39;00m is_integer(indexer):\n\u001B[1;32m   3895\u001B[0m     indexer \u001B[38;5;241m=\u001B[39m [indexer]\n",
      "File \u001B[0;32m~/dev/solanadegen/.venv/lib/python3.10/site-packages/pandas/core/indexes/base.py:3798\u001B[0m, in \u001B[0;36mIndex.get_loc\u001B[0;34m(self, key)\u001B[0m\n\u001B[1;32m   3793\u001B[0m     \u001B[38;5;28;01mif\u001B[39;00m \u001B[38;5;28misinstance\u001B[39m(casted_key, \u001B[38;5;28mslice\u001B[39m) \u001B[38;5;129;01mor\u001B[39;00m (\n\u001B[1;32m   3794\u001B[0m         \u001B[38;5;28misinstance\u001B[39m(casted_key, abc\u001B[38;5;241m.\u001B[39mIterable)\n\u001B[1;32m   3795\u001B[0m         \u001B[38;5;129;01mand\u001B[39;00m \u001B[38;5;28many\u001B[39m(\u001B[38;5;28misinstance\u001B[39m(x, \u001B[38;5;28mslice\u001B[39m) \u001B[38;5;28;01mfor\u001B[39;00m x \u001B[38;5;129;01min\u001B[39;00m casted_key)\n\u001B[1;32m   3796\u001B[0m     ):\n\u001B[1;32m   3797\u001B[0m         \u001B[38;5;28;01mraise\u001B[39;00m InvalidIndexError(key)\n\u001B[0;32m-> 3798\u001B[0m     \u001B[38;5;28;01mraise\u001B[39;00m \u001B[38;5;167;01mKeyError\u001B[39;00m(key) \u001B[38;5;28;01mfrom\u001B[39;00m \u001B[38;5;21;01merr\u001B[39;00m\n\u001B[1;32m   3799\u001B[0m \u001B[38;5;28;01mexcept\u001B[39;00m \u001B[38;5;167;01mTypeError\u001B[39;00m:\n\u001B[1;32m   3800\u001B[0m     \u001B[38;5;66;03m# If we have a listlike key, _check_indexing_error will raise\u001B[39;00m\n\u001B[1;32m   3801\u001B[0m     \u001B[38;5;66;03m#  InvalidIndexError. Otherwise we fall through and re-raise\u001B[39;00m\n\u001B[1;32m   3802\u001B[0m     \u001B[38;5;66;03m#  the TypeError.\u001B[39;00m\n\u001B[1;32m   3803\u001B[0m     \u001B[38;5;28mself\u001B[39m\u001B[38;5;241m.\u001B[39m_check_indexing_error(key)\n",
      "\u001B[0;31mKeyError\u001B[0m: 'sma_vol_sum_1d'"
     ]
    }
   ],
   "source": [
    "train_test_dataset[train_test_dataset['label'] == 'up']['sma_vol_sum_1d']\n"
   ],
   "metadata": {
    "collapsed": false,
    "ExecuteTime": {
     "end_time": "2024-01-07T22:45:14.223555Z",
     "start_time": "2024-01-07T22:45:13.621200Z"
    }
   },
   "id": "65c53e8dae31421d"
  },
  {
   "cell_type": "code",
   "execution_count": null,
   "outputs": [],
   "source": [
    "train_test_dataset[train_test_dataset['label'] == 'up']['sma_vol_sum_1d'].describe()"
   ],
   "metadata": {
    "collapsed": false,
    "ExecuteTime": {
     "end_time": "2024-01-07T22:45:14.225369Z",
     "start_time": "2024-01-07T22:45:14.224226Z"
    }
   },
   "id": "bd3d63b2b2a9694a"
  },
  {
   "cell_type": "code",
   "execution_count": null,
   "outputs": [],
   "source": [
    "train_test_dataset"
   ],
   "metadata": {
    "collapsed": false,
    "ExecuteTime": {
     "end_time": "2024-01-07T22:45:14.226232Z",
     "start_time": "2024-01-07T22:45:14.225738Z"
    }
   },
   "id": "ab86e197b0b04654"
  },
  {
   "cell_type": "code",
   "execution_count": 9,
   "outputs": [
    {
     "name": "stdout",
     "output_type": "stream",
     "text": [
      "feature_names: ['day_of_week', 'hour', 'found_points_now', 'u_price_sma_now', 'u_price_ema_now', 'u_price_rsi_now', 'found_points_now_trunc', 'u_price_sma_now_trunc', 'u_price_ema_now_trunc', 'u_price_rsi_now_trunc', 'found_points_10m', 'u_price_sma_10m', 'u_price_ema_10m', 'u_price_rsi_10m', 'found_points_10m_trunc', 'u_price_sma_10m_trunc', 'u_price_ema_10m_trunc', 'u_price_rsi_10m_trunc', 'found_points_1h', 'u_price_sma_1h', 'u_price_ema_1h', 'u_price_rsi_1h', 'found_points_1h_trunc', 'u_price_sma_1h_trunc', 'u_price_ema_1h_trunc', 'u_price_rsi_1h_trunc', 'found_points_4h', 'u_price_sma_4h', 'u_price_ema_4h', 'u_price_rsi_4h', 'found_points_4h_trunc', 'u_price_sma_4h_trunc', 'u_price_ema_4h_trunc', 'u_price_rsi_4h_trunc', 'found_points_1d', 'u_price_sma_1d', 'u_price_ema_1d', 'u_price_rsi_1d', 'found_points_1d_trunc', 'u_price_sma_1d_trunc', 'u_price_ema_1d_trunc', 'u_price_rsi_1d_trunc', 'trcnt_sma_buy_now', 'vol_sma_buy_now', 'vol_ema_buy_now', 'trcnt_sma_buy_10m', 'vol_sma_buy_10m', 'vol_ema_buy_10m', 'trcnt_sma_buy_1h', 'vol_sma_buy_1h', 'vol_ema_buy_1h', 'trcnt_sma_buy_4h', 'vol_sma_buy_4h', 'vol_ema_buy_4h', 'trcnt_sma_buy_1d', 'vol_sma_buy_1d', 'vol_ema_buy_1d', 'trcnt_sma_sell_now', 'vol_sma_sell_now', 'vol_ema_sell_now', 'trcnt_sma_sell_10m', 'vol_sma_sell_10m', 'vol_ema_sell_10m', 'trcnt_sma_sell_1h', 'vol_sma_sell_1h', 'vol_ema_sell_1h', 'trcnt_sma_sell_4h', 'vol_sma_sell_4h', 'vol_ema_sell_4h', 'trcnt_sma_sell_1d', 'vol_sma_sell_1d', 'vol_ema_sell_1d', 'trcnt_sma_sum_now', 'vol_sma_sum_now', 'vol_ema_sum_now', 'trcnt_sma_sum_10m', 'vol_sma_sum_10m', 'vol_ema_sum_10m', 'trcnt_sma_sum_1h', 'vol_sma_sum_1h', 'vol_ema_sum_1h', 'trcnt_sma_sum_4h', 'vol_sma_sum_4h', 'vol_ema_sum_4h', 'trcnt_sma_sum_1d', 'vol_sma_sum_1d', 'vol_ema_sum_1d']\n"
     ]
    }
   ],
   "source": [
    "column_names = list(train_test_dataset.columns)\n",
    "# feature names start after 'label'\n",
    "label_index = column_names.index('label')\n",
    "feature_names = column_names[label_index+1:]\n",
    "print(f\"feature_names: {feature_names}\")"
   ],
   "metadata": {
    "collapsed": false,
    "ExecuteTime": {
     "end_time": "2024-01-07T22:45:14.877853Z",
     "start_time": "2024-01-07T22:45:14.865321Z"
    }
   },
   "id": "34b9df2488215da7"
  },
  {
   "cell_type": "code",
   "execution_count": 10,
   "outputs": [
    {
     "name": "stdout",
     "output_type": "stream",
     "text": [
      "train [2024-01-07 11:40:00; 2024-01-07 17:42:30)\n",
      "test [2024-01-07 18:42:30; 2024-01-07 19:55:00)\n",
      "train_data (2387) [2024-01-07 11:40:00; 2024-01-07 17:40:00]\n",
      "test_data (508) [2024-01-07 18:50:00 to 2024-01-07 19:50:00]\n",
      "train [2024-01-07 11:40:00; 2024-01-07 18:55:00)\n",
      "test [2024-01-07 19:55:00; 2024-01-07 21:07:30)\n",
      "train_data (2931) [2024-01-07 11:40:00; 2024-01-07 18:50:00]\n",
      "test_data (531) [2024-01-07 20:00:00 to 2024-01-07 21:00:00]\n",
      "train [2024-01-07 11:40:00; 2024-01-07 20:07:30)\n",
      "test [2024-01-07 21:07:30; 2024-01-07 22:20:00)\n",
      "train_data (3425) [2024-01-07 11:40:00; 2024-01-07 20:00:00]\n",
      "test_data (168) [2024-01-07 21:10:00 to 2024-01-07 21:20:00]\n"
     ]
    }
   ],
   "source": [
    "import pandas as pd\n",
    "from catboost import CatBoostClassifier, Pool\n",
    "from sklearn.model_selection import TimeSeriesSplit\n",
    "from sklearn.metrics import confusion_matrix\n",
    "import matplotlib.pyplot as plt\n",
    "import seaborn as sns\n",
    "\n",
    "# Convert 'mint' to a categorical feature\n",
    "# train_test_dataset['mint'] = train_test_dataset['mint'].astype('category')\n",
    "\n",
    "# Define features and target\n",
    "# feature_names = ['mint', 'hour', 'trades', 'token_volume', 'sol_volume', 'price'] + list(features.columns[2:])\n",
    "# cat_feature_names = ['mint']\n",
    "# feature_names = ['trades', 'token_volume', 'sol_volume', 'price'] + list(features.columns[2:])\n",
    "cat_feature_names = []\n",
    "target = 'label'\n",
    "\n",
    "# Initialize CatBoost Classifier\n",
    "model = CatBoostClassifier(loss_function='MultiClass', verbose=False)\n",
    "\n",
    "# TimeSeriesSplit for cross-validation\n",
    "nsplits = 3\n",
    "\n",
    "# To store predictions and actuals\n",
    "actuals = []\n",
    "raw_predictions = []\n",
    "up_probabilities = []\n",
    "down_probabilities = []\n",
    "details_df = pd.DataFrame() \n",
    "train_len = 0\n",
    "up_train_len = 0\n",
    "\n",
    "def split_tscv(ordered_df, nsplits):\n",
    "    min_quant = ordered_df['time_quant'].min()\n",
    "    max_quant = ordered_df['time_quant'].max()\n",
    "    range_quant = (max_quant - min_quant) / (nsplits + 1) / 2\n",
    "    for i in range(nsplits):\n",
    "        train_start = min_quant \n",
    "        train_end = min_quant + (i + 1) * range_quant + (max_quant - min_quant) / 2\n",
    "        test_start = train_end + PREDICTION_TIMEDELTA\n",
    "        test_end = test_start + range_quant\n",
    "        print(f'train [{train_start}; {train_end})\\ntest [{test_start}; {test_end})')\n",
    "        train_df = ordered_df[(ordered_df['time_quant'] >= train_start) & (ordered_df['time_quant'] < train_end)]\n",
    "        test_df = ordered_df[(ordered_df['time_quant'] >= test_start) & (ordered_df['time_quant'] < test_end)]\n",
    "        yield train_df, test_df\n",
    "    \n",
    "    \n",
    "split_tscv(train_test_dataset, nsplits)\n",
    "\n",
    "for train_data, test_data in split_tscv(train_test_dataset, nsplits):\n",
    "    print(f'train_data ({len(train_data)}) [{min(train_data[\"time_quant\"])}; {max(train_data[\"time_quant\"])}]')\n",
    "    if len(test_data) == 0:\n",
    "        print(f'No data left for test data')\n",
    "        break\n",
    "    print(f'test_data ({len(test_data)}) [{min(test_data[\"time_quant\"])} to {max(test_data[\"time_quant\"])}]')\n",
    "\n",
    "    train_len += len(train_data)\n",
    "    up_train_len += len(train_data[train_data[target] == 'up'])\n",
    "\n",
    "    # Create Pool\n",
    "    train_pool = Pool(data=train_data[feature_names], label=train_data[target], cat_features=cat_feature_names)\n",
    "    test_pool = Pool(data=test_data[feature_names], label=test_data[target], cat_features=cat_feature_names)\n",
    "\n",
    "    # Train model\n",
    "    model.fit(train_pool)\n",
    "\n",
    "    # Predict\n",
    "    classes = model.classes_\n",
    "    probs = model.predict_proba(test_pool)\n",
    "    classes_to_index = {c: i for i, c in enumerate(classes)}\n",
    "    \n",
    "    for probs_row in probs:\n",
    "        raw_predictions.append(classes[probs_row.argmax()])\n",
    "        up_probabilities.append(probs_row[classes_to_index['up']])\n",
    "        down_probabilities.append(probs_row[classes_to_index['down']])\n",
    "\n",
    "    actuals.extend(test_data[target].values)\n",
    "    if len(details_df) == 0:\n",
    "        details_df = test_data\n",
    "    else:\n",
    "        details_df = pd.concat([details_df, test_data])\n",
    "    \n"
   ],
   "metadata": {
    "collapsed": false,
    "ExecuteTime": {
     "end_time": "2024-01-07T22:45:29.648300Z",
     "start_time": "2024-01-07T22:45:15.686102Z"
    }
   },
   "id": "62eb4dc2618fa53e"
  },
  {
   "cell_type": "code",
   "execution_count": 11,
   "outputs": [
    {
     "name": "stdout",
     "output_type": "stream",
     "text": [
      "desired_up_amount: 50 of 61\n",
      "up_threshold: 0.09494304340143445\n",
      "pred len 1207, actuals len 1207, comparison_df len 1207, details len 1207, results_df len 1207\n",
      "Confusion Matrix:\n",
      "       up  flat  down\n",
      "up     8    41    12\n",
      "flat  35  1018     4\n",
      "down   8    67    14\n",
      "ROI1: 87.45% of 100%\n",
      "ROI2: 18.82% of 100%\n",
      "Bench ROI2: 6.06% of 100%\n",
      "Used: 4.23% (51 of 1207 trades)\n",
      "\n",
      "purchased upsides: 1.0556830867969391, top 10 upsides ['3', '2', '2', '2', '1', '1', '1', '1', '1', '1']\n",
      "all upsides: 1.010307781324537, top 10 upsides ['9', '3', '3', '3', '2', '2', '2', '2', '2', '2']\n"
     ]
    }
   ],
   "source": [
    "import numpy as np\n",
    "\n",
    "desired_up_amount = int(up_train_len * 1. / train_len * len(actuals) * 0.9)\n",
    "print(f\"desired_up_amount: {desired_up_amount} of {actuals.count('up')}\")\n",
    "\n",
    "delta_probabilities = list(np.array(up_probabilities) - np.array(down_probabilities) / CHANGE_MAGNITUDE)\n",
    "\n",
    "up_threshold = sorted(delta_probabilities, reverse=True)[desired_up_amount]\n",
    "print(f\"up_threshold: {up_threshold}\")\n",
    "\n",
    "predictions = []\n",
    "for raw_pred, up_prob in zip(raw_predictions, delta_probabilities):\n",
    "    if up_prob < up_threshold:\n",
    "        predictions.append(raw_pred if raw_pred != 'up' else 'flat')\n",
    "    else:\n",
    "        predictions.append('up')\n",
    "\n",
    "# Confusion Matrix\n",
    "conf_matrix = confusion_matrix(actuals, predictions, labels=['up', 'flat', 'down'])\n",
    "conf_matrix_df = pd.DataFrame(conf_matrix, index=['up', 'flat', 'down'], columns=['up', 'flat', 'down'])\n",
    "\n",
    "# Last iteration's predictions and actuals\n",
    "comparison_df = pd.DataFrame({'Actual': actuals, 'Predicted': predictions, 'UpP': up_probabilities, 'DownP': down_probabilities})\n",
    "# comparison_df = comparison_df.reset_index(drop=True)\n",
    "\n",
    "# add details to results_df\n",
    "results_df = pd.concat([comparison_df.reset_index(drop=True), details_df.reset_index(drop=True)], axis=1)\n",
    "print(f\"pred len {len(predictions)}, actuals len {len(actuals)}, \"\n",
    "      f\"comparison_df len {len(comparison_df)}, details len {len(details_df)}, results_df len {len(results_df)}\")\n",
    "\n",
    "#join prices to results_df\n",
    "# results_df = results_df.join(prices[['mint', 'hour', 'price'+prediction_type['suffix']]].set_index(['mint', 'hour']), on=['mint', 'hour'])\n",
    "results_df['upside'] = results_df['sell_price'] / results_df['buy_price']\n",
    "# if price is inf, set upside to 0\n",
    "results_df['upside'] = results_df['upside'].replace([np.inf, -np.inf], 1)\n",
    "\n",
    "purchased_upsides = results_df[(results_df['Predicted']=='up')]['upside']\n",
    "all_upsides = results_df['upside']\n",
    "\n",
    "\n",
    "# Output\n",
    "print(\"Confusion Matrix:\\n\", conf_matrix_df)\n",
    "print(\"ROI1: %.2f%% of 100%%\\n\"\n",
    "      \"ROI2: %.2f%% of 100%%\\n\"\n",
    "      \"Bench ROI2: %.2f%% of 100%%\\n\"\n",
    "      \"Used: %.2f%% (%d of %d trades)\\n\"\n",
    "      %(\n",
    "        (100 * (CHANGE_MAGNITUDE * 1. * conf_matrix_df.loc['up', 'up'].sum() + conf_matrix_df.loc['flat', 'up'].sum()) / conf_matrix_df.loc[:, 'up'].sum()),\n",
    "        (100 * (CHANGE_MAGNITUDE * 1. * conf_matrix_df.loc['up', 'up'].sum()) / conf_matrix_df.loc[:, 'up'].sum()),\n",
    "        (100 * (CHANGE_MAGNITUDE * 1. * conf_matrix_df.loc['up', :].sum()) / conf_matrix_df.loc[:, :].sum().sum()),\n",
    "        (100 * (1. * conf_matrix_df.loc[:, 'up'].sum()) / conf_matrix_df.loc[:, :].sum().sum()),\n",
    "        conf_matrix_df.loc[:, 'up'].sum(),\n",
    "        conf_matrix_df.loc[:, :].sum().sum(),\n",
    "      )\n",
    "      )\n",
    "print(f'purchased upsides: {purchased_upsides.mean()}, top 10 upsides {[\"%.0f\" % u for u in list(purchased_upsides.sort_values(ascending=False).head(10))]}')\n",
    "print(f'all upsides: {all_upsides.mean()}, top 10 upsides {[\"%.0f\" % u for u in list(all_upsides.sort_values(ascending=False).head(10))]}')"
   ],
   "metadata": {
    "collapsed": false,
    "ExecuteTime": {
     "end_time": "2024-01-07T22:45:31.060985Z",
     "start_time": "2024-01-07T22:45:31.046392Z"
    }
   },
   "id": "fef1b11c7c2205ff"
  },
  {
   "cell_type": "code",
   "execution_count": 12,
   "outputs": [
    {
     "name": "stdout",
     "output_type": "stream",
     "text": [
      "Confusion Matrix:\n",
      "       up  flat  down\n",
      "up     8    41    12\n",
      "flat  35  1018     4\n",
      "down   8    67    14\n",
      "ROI1: 87.45% of 100%\n",
      "ROI2: 18.82% of 100%\n",
      "Bench ROI2: 6.06% of 100%\n",
      "Used: 4.23% (51 of 1207 trades)\n",
      "\n",
      "purchased upsides: 1.0556830867969391, top 10 upsides ['3', '2', '2', '2', '1', '1', '1', '1', '1', '1']\n",
      "all upsides: 1.010307781324537, top 10 upsides ['9', '3', '3', '3', '2', '2', '2', '2', '2', '2']\n"
     ]
    }
   ],
   "source": [
    "print(\"Confusion Matrix:\\n\", conf_matrix_df)\n",
    "print(\"ROI1: %.2f%% of 100%%\\n\"\n",
    "      \"ROI2: %.2f%% of 100%%\\n\"\n",
    "      \"Bench ROI2: %.2f%% of 100%%\\n\"\n",
    "      \"Used: %.2f%% (%d of %d trades)\\n\"\n",
    "      %(\n",
    "        (100 * (CHANGE_MAGNITUDE * 1. * conf_matrix_df.loc['up', 'up'].sum() + conf_matrix_df.loc['flat', 'up'].sum()) / conf_matrix_df.loc[:, 'up'].sum()),\n",
    "        (100 * (CHANGE_MAGNITUDE * 1. * conf_matrix_df.loc['up', 'up'].sum()) / conf_matrix_df.loc[:, 'up'].sum()),\n",
    "        (100 * (CHANGE_MAGNITUDE * 1. * conf_matrix_df.loc['up', :].sum()) / conf_matrix_df.loc[:, :].sum().sum()),\n",
    "        (100 * (1. * conf_matrix_df.loc[:, 'up'].sum()) / conf_matrix_df.loc[:, :].sum().sum()),\n",
    "        conf_matrix_df.loc[:, 'up'].sum(),\n",
    "        conf_matrix_df.loc[:, :].sum().sum(),\n",
    "      )\n",
    "      )\n",
    "print(f'purchased upsides: {purchased_upsides.mean()}, top 10 upsides {[\"%.0f\" % u for u in list(purchased_upsides.sort_values(ascending=False).head(10))]}')\n",
    "print(f'all upsides: {all_upsides.mean()}, top 10 upsides {[\"%.0f\" % u for u in list(all_upsides.sort_values(ascending=False).head(10))]}')"
   ],
   "metadata": {
    "collapsed": false,
    "ExecuteTime": {
     "end_time": "2024-01-07T22:45:45.384399Z",
     "start_time": "2024-01-07T22:45:45.378390Z"
    }
   },
   "id": "94a5c8e242f78fdf"
  },
  {
   "cell_type": "code",
   "execution_count": 13,
   "outputs": [
    {
     "data": {
      "text/plain": "               Feature Id  Importances\n0   u_price_ema_10m_trunc     4.837744\n1          u_price_sma_1h     4.006440\n2   u_price_sma_10m_trunc     3.596870\n3         u_price_sma_10m     3.117951\n4         vol_sma_sum_now     3.087807\n..                    ...          ...\n82        vol_sma_sell_1d     0.000000\n83        vol_ema_sell_1d     0.000000\n84       trcnt_sma_sum_1d     0.000000\n85         vol_sma_sum_1d     0.000000\n86         vol_ema_sum_1d     0.000000\n\n[87 rows x 2 columns]",
      "text/html": "<div>\n<style scoped>\n    .dataframe tbody tr th:only-of-type {\n        vertical-align: middle;\n    }\n\n    .dataframe tbody tr th {\n        vertical-align: top;\n    }\n\n    .dataframe thead th {\n        text-align: right;\n    }\n</style>\n<table border=\"1\" class=\"dataframe\">\n  <thead>\n    <tr style=\"text-align: right;\">\n      <th></th>\n      <th>Feature Id</th>\n      <th>Importances</th>\n    </tr>\n  </thead>\n  <tbody>\n    <tr>\n      <th>0</th>\n      <td>u_price_ema_10m_trunc</td>\n      <td>4.837744</td>\n    </tr>\n    <tr>\n      <th>1</th>\n      <td>u_price_sma_1h</td>\n      <td>4.006440</td>\n    </tr>\n    <tr>\n      <th>2</th>\n      <td>u_price_sma_10m_trunc</td>\n      <td>3.596870</td>\n    </tr>\n    <tr>\n      <th>3</th>\n      <td>u_price_sma_10m</td>\n      <td>3.117951</td>\n    </tr>\n    <tr>\n      <th>4</th>\n      <td>vol_sma_sum_now</td>\n      <td>3.087807</td>\n    </tr>\n    <tr>\n      <th>...</th>\n      <td>...</td>\n      <td>...</td>\n    </tr>\n    <tr>\n      <th>82</th>\n      <td>vol_sma_sell_1d</td>\n      <td>0.000000</td>\n    </tr>\n    <tr>\n      <th>83</th>\n      <td>vol_ema_sell_1d</td>\n      <td>0.000000</td>\n    </tr>\n    <tr>\n      <th>84</th>\n      <td>trcnt_sma_sum_1d</td>\n      <td>0.000000</td>\n    </tr>\n    <tr>\n      <th>85</th>\n      <td>vol_sma_sum_1d</td>\n      <td>0.000000</td>\n    </tr>\n    <tr>\n      <th>86</th>\n      <td>vol_ema_sum_1d</td>\n      <td>0.000000</td>\n    </tr>\n  </tbody>\n</table>\n<p>87 rows × 2 columns</p>\n</div>"
     },
     "execution_count": 13,
     "metadata": {},
     "output_type": "execute_result"
    }
   ],
   "source": [
    "# feature importance\n",
    "model.get_feature_importance(prettified=True)"
   ],
   "metadata": {
    "collapsed": false,
    "ExecuteTime": {
     "end_time": "2024-01-07T22:45:45.867633Z",
     "start_time": "2024-01-07T22:45:45.858765Z"
    }
   },
   "id": "aa3a8642a70c940b"
  },
  {
   "cell_type": "code",
   "execution_count": 14,
   "outputs": [
    {
     "data": {
      "text/plain": "                                              mint          time_quant  \\\n1125  4QzSfBswj8KpVgwBpNo1aPRYteajf5nFpExxuXEZZf7n 2024-01-07 21:20:00   \n1112   tx4Xec7ueAEYz4csDqfGGwQxkMTR3qmkr4mixdxN72K 2024-01-07 21:10:00   \n1096  GpnYgsWrEVCPP6jwGgQzzsdhmkpR2qaBprdXJejWDndJ 2024-01-07 21:10:00   \n1005  E2Vvh3dXgZGbUf76d3wBJgwfWSZ3GjjakidnHR7sjdfC 2024-01-07 21:00:00   \n969   4QzSfBswj8KpVgwBpNo1aPRYteajf5nFpExxuXEZZf7n 2024-01-07 21:00:00   \n855   E2Vvh3dXgZGbUf76d3wBJgwfWSZ3GjjakidnHR7sjdfC 2024-01-07 20:40:00   \n727    krDcAcJEKFyCKHF38VhF4pGSiN7gs8QtD8GBv2e2EvF 2024-01-07 20:20:00   \n57    FzcutcA9io6vcABawtaPJYAMLg4b9hadH59YLFeWdieU 2024-01-07 18:50:00   \n\n             price     buy_price    sell_price    upside  \n1125  2.842648e-07  2.842648e-07  5.217911e-07  1.835581  \n1112  6.111818e-08  6.111818e-08  7.754217e-08  1.268725  \n1096  3.884356e-07  3.884356e-07  4.714588e-07  1.213737  \n1005  1.642227e-12  1.642227e-12  2.160367e-12  1.315511  \n969   1.306179e-07  1.306179e-07  4.003519e-07  3.065061  \n855   1.054911e-12  1.054911e-12  1.855225e-12  1.758655  \n727   1.084484e-06  1.084484e-06  1.365717e-06  1.259325  \n57    2.393740e-07  2.393740e-07  4.728845e-07  1.975505  ",
      "text/html": "<div>\n<style scoped>\n    .dataframe tbody tr th:only-of-type {\n        vertical-align: middle;\n    }\n\n    .dataframe tbody tr th {\n        vertical-align: top;\n    }\n\n    .dataframe thead th {\n        text-align: right;\n    }\n</style>\n<table border=\"1\" class=\"dataframe\">\n  <thead>\n    <tr style=\"text-align: right;\">\n      <th></th>\n      <th>mint</th>\n      <th>time_quant</th>\n      <th>price</th>\n      <th>buy_price</th>\n      <th>sell_price</th>\n      <th>upside</th>\n    </tr>\n  </thead>\n  <tbody>\n    <tr>\n      <th>1125</th>\n      <td>4QzSfBswj8KpVgwBpNo1aPRYteajf5nFpExxuXEZZf7n</td>\n      <td>2024-01-07 21:20:00</td>\n      <td>2.842648e-07</td>\n      <td>2.842648e-07</td>\n      <td>5.217911e-07</td>\n      <td>1.835581</td>\n    </tr>\n    <tr>\n      <th>1112</th>\n      <td>tx4Xec7ueAEYz4csDqfGGwQxkMTR3qmkr4mixdxN72K</td>\n      <td>2024-01-07 21:10:00</td>\n      <td>6.111818e-08</td>\n      <td>6.111818e-08</td>\n      <td>7.754217e-08</td>\n      <td>1.268725</td>\n    </tr>\n    <tr>\n      <th>1096</th>\n      <td>GpnYgsWrEVCPP6jwGgQzzsdhmkpR2qaBprdXJejWDndJ</td>\n      <td>2024-01-07 21:10:00</td>\n      <td>3.884356e-07</td>\n      <td>3.884356e-07</td>\n      <td>4.714588e-07</td>\n      <td>1.213737</td>\n    </tr>\n    <tr>\n      <th>1005</th>\n      <td>E2Vvh3dXgZGbUf76d3wBJgwfWSZ3GjjakidnHR7sjdfC</td>\n      <td>2024-01-07 21:00:00</td>\n      <td>1.642227e-12</td>\n      <td>1.642227e-12</td>\n      <td>2.160367e-12</td>\n      <td>1.315511</td>\n    </tr>\n    <tr>\n      <th>969</th>\n      <td>4QzSfBswj8KpVgwBpNo1aPRYteajf5nFpExxuXEZZf7n</td>\n      <td>2024-01-07 21:00:00</td>\n      <td>1.306179e-07</td>\n      <td>1.306179e-07</td>\n      <td>4.003519e-07</td>\n      <td>3.065061</td>\n    </tr>\n    <tr>\n      <th>855</th>\n      <td>E2Vvh3dXgZGbUf76d3wBJgwfWSZ3GjjakidnHR7sjdfC</td>\n      <td>2024-01-07 20:40:00</td>\n      <td>1.054911e-12</td>\n      <td>1.054911e-12</td>\n      <td>1.855225e-12</td>\n      <td>1.758655</td>\n    </tr>\n    <tr>\n      <th>727</th>\n      <td>krDcAcJEKFyCKHF38VhF4pGSiN7gs8QtD8GBv2e2EvF</td>\n      <td>2024-01-07 20:20:00</td>\n      <td>1.084484e-06</td>\n      <td>1.084484e-06</td>\n      <td>1.365717e-06</td>\n      <td>1.259325</td>\n    </tr>\n    <tr>\n      <th>57</th>\n      <td>FzcutcA9io6vcABawtaPJYAMLg4b9hadH59YLFeWdieU</td>\n      <td>2024-01-07 18:50:00</td>\n      <td>2.393740e-07</td>\n      <td>2.393740e-07</td>\n      <td>4.728845e-07</td>\n      <td>1.975505</td>\n    </tr>\n  </tbody>\n</table>\n</div>"
     },
     "execution_count": 14,
     "metadata": {},
     "output_type": "execute_result"
    }
   ],
   "source": [
    "# what was guessed correctly\n",
    "guessed = results_df[(results_df['Actual']=='up') & (results_df['Predicted']=='up')].sort_values(by=['time_quant', 'mint'], ascending=False)\n",
    "guessed[['mint', 'time_quant', 'price', 'buy_price', 'sell_price', 'upside']]"
   ],
   "metadata": {
    "collapsed": false,
    "ExecuteTime": {
     "end_time": "2024-01-07T22:46:03.893965Z",
     "start_time": "2024-01-07T22:46:03.887436Z"
    }
   },
   "id": "610d77d03127299e"
  },
  {
   "cell_type": "code",
   "execution_count": 151,
   "outputs": [
    {
     "data": {
      "text/plain": "count                                                1\nunique                                               1\ntop       14JnYcbAooDAZVb72DgmFGVZGDon5Ko4SN6ELrpU6ood\nfreq                                                 1\nName: mint, dtype: object"
     },
     "execution_count": 151,
     "metadata": {},
     "output_type": "execute_result"
    }
   ],
   "source": [
    "guessed.mint.describe()"
   ],
   "metadata": {
    "collapsed": false,
    "ExecuteTime": {
     "end_time": "2024-01-04T13:18:12.134111Z",
     "start_time": "2024-01-04T13:18:12.125494Z"
    }
   },
   "id": "eb5aa523d3a36f3b"
  },
  {
   "cell_type": "code",
   "execution_count": 26,
   "outputs": [
    {
     "data": {
      "text/plain": "                                             mint          time_quant  \\\n441  HoXqxVbmnVKvRM2DS58ivipKx8bzPN5Nv1e3ZnKzxVDR 2024-01-07 18:00:00   \n416  HoXqxVbmnVKvRM2DS58ivipKx8bzPN5Nv1e3ZnKzxVDR 2024-01-07 17:50:00   \n389  HoXqxVbmnVKvRM2DS58ivipKx8bzPN5Nv1e3ZnKzxVDR 2024-01-07 17:40:00   \n365  HoXqxVbmnVKvRM2DS58ivipKx8bzPN5Nv1e3ZnKzxVDR 2024-01-07 17:30:00   \n340  HoXqxVbmnVKvRM2DS58ivipKx8bzPN5Nv1e3ZnKzxVDR 2024-01-07 17:20:00   \n315  HoXqxVbmnVKvRM2DS58ivipKx8bzPN5Nv1e3ZnKzxVDR 2024-01-07 17:10:00   \n290  HoXqxVbmnVKvRM2DS58ivipKx8bzPN5Nv1e3ZnKzxVDR 2024-01-07 17:00:00   \n259  HoXqxVbmnVKvRM2DS58ivipKx8bzPN5Nv1e3ZnKzxVDR 2024-01-07 16:50:00   \n\n            price     buy_price    sell_price    upside  \n441  1.149847e-06  1.149847e-06  8.783024e-07  0.763843  \n416  1.367898e-06  1.367898e-06  9.869638e-07  0.721519  \n389  5.948328e-07  5.948328e-07  1.087740e-06  1.828648  \n365  7.157571e-07  7.157571e-07  1.059672e-06  1.480491  \n340  6.499731e-07  6.499731e-07  1.017298e-06  1.565139  \n315  6.067764e-07  6.067764e-07  9.380257e-07  1.545917  \n290  7.073857e-07  7.073857e-07  8.475140e-07  1.198093  \n259  1.016539e-06  1.016539e-06  7.737705e-07  0.761181  ",
      "text/html": "<div>\n<style scoped>\n    .dataframe tbody tr th:only-of-type {\n        vertical-align: middle;\n    }\n\n    .dataframe tbody tr th {\n        vertical-align: top;\n    }\n\n    .dataframe thead th {\n        text-align: right;\n    }\n</style>\n<table border=\"1\" class=\"dataframe\">\n  <thead>\n    <tr style=\"text-align: right;\">\n      <th></th>\n      <th>mint</th>\n      <th>time_quant</th>\n      <th>price</th>\n      <th>buy_price</th>\n      <th>sell_price</th>\n      <th>upside</th>\n    </tr>\n  </thead>\n  <tbody>\n    <tr>\n      <th>441</th>\n      <td>HoXqxVbmnVKvRM2DS58ivipKx8bzPN5Nv1e3ZnKzxVDR</td>\n      <td>2024-01-07 18:00:00</td>\n      <td>1.149847e-06</td>\n      <td>1.149847e-06</td>\n      <td>8.783024e-07</td>\n      <td>0.763843</td>\n    </tr>\n    <tr>\n      <th>416</th>\n      <td>HoXqxVbmnVKvRM2DS58ivipKx8bzPN5Nv1e3ZnKzxVDR</td>\n      <td>2024-01-07 17:50:00</td>\n      <td>1.367898e-06</td>\n      <td>1.367898e-06</td>\n      <td>9.869638e-07</td>\n      <td>0.721519</td>\n    </tr>\n    <tr>\n      <th>389</th>\n      <td>HoXqxVbmnVKvRM2DS58ivipKx8bzPN5Nv1e3ZnKzxVDR</td>\n      <td>2024-01-07 17:40:00</td>\n      <td>5.948328e-07</td>\n      <td>5.948328e-07</td>\n      <td>1.087740e-06</td>\n      <td>1.828648</td>\n    </tr>\n    <tr>\n      <th>365</th>\n      <td>HoXqxVbmnVKvRM2DS58ivipKx8bzPN5Nv1e3ZnKzxVDR</td>\n      <td>2024-01-07 17:30:00</td>\n      <td>7.157571e-07</td>\n      <td>7.157571e-07</td>\n      <td>1.059672e-06</td>\n      <td>1.480491</td>\n    </tr>\n    <tr>\n      <th>340</th>\n      <td>HoXqxVbmnVKvRM2DS58ivipKx8bzPN5Nv1e3ZnKzxVDR</td>\n      <td>2024-01-07 17:20:00</td>\n      <td>6.499731e-07</td>\n      <td>6.499731e-07</td>\n      <td>1.017298e-06</td>\n      <td>1.565139</td>\n    </tr>\n    <tr>\n      <th>315</th>\n      <td>HoXqxVbmnVKvRM2DS58ivipKx8bzPN5Nv1e3ZnKzxVDR</td>\n      <td>2024-01-07 17:10:00</td>\n      <td>6.067764e-07</td>\n      <td>6.067764e-07</td>\n      <td>9.380257e-07</td>\n      <td>1.545917</td>\n    </tr>\n    <tr>\n      <th>290</th>\n      <td>HoXqxVbmnVKvRM2DS58ivipKx8bzPN5Nv1e3ZnKzxVDR</td>\n      <td>2024-01-07 17:00:00</td>\n      <td>7.073857e-07</td>\n      <td>7.073857e-07</td>\n      <td>8.475140e-07</td>\n      <td>1.198093</td>\n    </tr>\n    <tr>\n      <th>259</th>\n      <td>HoXqxVbmnVKvRM2DS58ivipKx8bzPN5Nv1e3ZnKzxVDR</td>\n      <td>2024-01-07 16:50:00</td>\n      <td>1.016539e-06</td>\n      <td>1.016539e-06</td>\n      <td>7.737705e-07</td>\n      <td>0.761181</td>\n    </tr>\n  </tbody>\n</table>\n</div>"
     },
     "execution_count": 26,
     "metadata": {},
     "output_type": "execute_result"
    }
   ],
   "source": [
    "purchased = results_df[results_df['Predicted']=='up'].sort_values(by=['time_quant', 'mint'], ascending=False)\n",
    "purchased[['mint', 'time_quant', 'price', 'buy_price', 'sell_price', 'upside']].sort_values(by=['time_quant'], ascending=False)  "
   ],
   "metadata": {
    "collapsed": false,
    "ExecuteTime": {
     "end_time": "2024-01-07T20:11:08.644788Z",
     "start_time": "2024-01-07T20:11:08.638903Z"
    }
   },
   "id": "770de9eb31dcc677"
  },
  {
   "cell_type": "code",
   "execution_count": 195,
   "outputs": [
    {
     "data": {
      "text/plain": "count                                              150\nunique                                              71\ntop       87QbDz6Ze5B8L3PoGvqLyJ3JAydi39jNtvzXDEz7zbcK\nfreq                                                14\nName: mint, dtype: object"
     },
     "execution_count": 195,
     "metadata": {},
     "output_type": "execute_result"
    }
   ],
   "source": [
    "purchased.mint.describe()\n"
   ],
   "metadata": {
    "collapsed": false,
    "ExecuteTime": {
     "end_time": "2024-01-07T18:44:02.034183Z",
     "start_time": "2024-01-07T18:44:02.026727Z"
    }
   },
   "id": "8c7e3d155a4a0fba"
  },
  {
   "cell_type": "code",
   "execution_count": 154,
   "outputs": [
    {
     "data": {
      "text/plain": "count    7.000000\nmean     0.875333\nstd      0.923304\nmin      0.015222\n25%      0.070902\n50%      0.619517\n75%      1.590961\nmax      2.168864\nName: sma_vol_sum_1d, dtype: float64"
     },
     "execution_count": 154,
     "metadata": {},
     "output_type": "execute_result"
    }
   ],
   "source": [
    "results_df[results_df['Predicted']=='up'].sma_vol_sum_1d.describe()\n",
    "# fix negative volume\n"
   ],
   "metadata": {
    "collapsed": false,
    "ExecuteTime": {
     "end_time": "2024-01-04T13:18:14.158307Z",
     "start_time": "2024-01-04T13:18:14.150524Z"
    }
   },
   "id": "f29d45cc497bb320"
  },
  {
   "cell_type": "code",
   "execution_count": 155,
   "outputs": [
    {
     "data": {
      "text/plain": "Predicted\nflat    12864\ndown      441\nup          7\nName: count, dtype: int64"
     },
     "execution_count": 155,
     "metadata": {},
     "output_type": "execute_result"
    }
   ],
   "source": [
    "results_df['Predicted'].value_counts()"
   ],
   "metadata": {
    "collapsed": false,
    "ExecuteTime": {
     "end_time": "2024-01-04T13:18:15.135829Z",
     "start_time": "2024-01-04T13:18:15.113352Z"
    }
   },
   "id": "13102803fac1ca11"
  },
  {
   "cell_type": "code",
   "execution_count": 156,
   "outputs": [
    {
     "data": {
      "text/plain": "mint\nEPjFWdd5AufqSSqeM2qN1xzybapC8G4wEGGkZwyTDt1v    300\nEs9vMFrzaCERmJfrF4H2FYD4KCoNkY11McCe8BenwNYB    297\nDezXAZ8z7PnrnRJjz3wXBoRgixCa6xjnB7YaB1pPB263    280\n9gwTegFJJErDpWJKjPfLr2g2zrE3nL1v5zpwbtsk3c6P    273\nLFG1ezantSY2LPX8jRz2qa31pPEhpwN9msFDzZw4T9Q     271\n                                               ... \n5Gd5vzFS31oSb52Jegvncrhr5Bt4MGRHqz2NepyJZcHh      1\nF2mGAvcNr47h4Qx1W8TcvTWhGhA58b2hsHH4uYSZrGYL      1\nFjRUB1HafHsaGQxibEwKpQxXgVXbE4k3pw3XWqKLxAiX      1\nHCKZPSGLvUyWTWwPtmcL41fdR8dNgDmzgx11mgCihVkG      1\n7MAMEPQdexxy2z5sbohRqzcNAdRmrisnHnETq6yptjdo      1\nName: count, Length: 236, dtype: int64"
     },
     "execution_count": 156,
     "metadata": {},
     "output_type": "execute_result"
    }
   ],
   "source": [
    "results_df['mint'].value_counts()"
   ],
   "metadata": {
    "collapsed": false,
    "ExecuteTime": {
     "end_time": "2024-01-04T13:18:17.674586Z",
     "start_time": "2024-01-04T13:18:17.650010Z"
    }
   },
   "id": "498de5f3068d5ac4"
  },
  {
   "cell_type": "code",
   "execution_count": 116,
   "outputs": [
    {
     "data": {
      "text/plain": "      Actual Predicted          time_quant  \\\n165     flat      flat 2023-12-30 09:10:00   \n445     flat      flat 2023-12-30 10:30:00   \n598     flat      flat 2023-12-30 11:10:00   \n1098    flat      flat 2023-12-30 13:20:00   \n1358    flat      flat 2023-12-30 14:30:00   \n...      ...       ...                 ...   \n26648   flat      flat 2024-01-03 21:00:00   \n26804   flat      flat 2024-01-03 21:30:00   \n26914   flat      flat 2024-01-03 21:50:00   \n26976   flat      flat 2024-01-03 22:00:00   \n27510   flat      flat 2024-01-03 23:40:00   \n\n                                               mint     price  future_price  \\\n165    99fp2z9TANArLJR4hcwx8fJSzjz7GQwUn7huGf32nDdv  0.000095      0.000104   \n445    99fp2z9TANArLJR4hcwx8fJSzjz7GQwUn7huGf32nDdv  0.000098      0.000132   \n598    99fp2z9TANArLJR4hcwx8fJSzjz7GQwUn7huGf32nDdv  0.000120      0.000133   \n1098   99fp2z9TANArLJR4hcwx8fJSzjz7GQwUn7huGf32nDdv  0.000125      0.000125   \n1358   99fp2z9TANArLJR4hcwx8fJSzjz7GQwUn7huGf32nDdv  0.000097      0.000141   \n...                                             ...       ...           ...   \n26648  99fp2z9TANArLJR4hcwx8fJSzjz7GQwUn7huGf32nDdv  0.000043      0.000042   \n26804  99fp2z9TANArLJR4hcwx8fJSzjz7GQwUn7huGf32nDdv  0.000037      0.000042   \n26914  99fp2z9TANArLJR4hcwx8fJSzjz7GQwUn7huGf32nDdv  0.000047      0.000042   \n26976  99fp2z9TANArLJR4hcwx8fJSzjz7GQwUn7huGf32nDdv  0.000046      0.000042   \n27510  99fp2z9TANArLJR4hcwx8fJSzjz7GQwUn7huGf32nDdv  0.000047      0.000053   \n\n      label  day_of_week  hour  u_price_sma_10m  ...  ema_vol_sell_1d  \\\n165    flat            5     9         0.930400  ...        90.930654   \n445    flat            5    10         0.939484  ...        94.127106   \n598    flat            5    11         0.809310  ...        93.952888   \n1098   flat            5    13         0.960984  ...        87.483720   \n1358   flat            5    14         1.243228  ...        96.866656   \n...     ...          ...   ...              ...  ...              ...   \n26648  flat            2    21         1.111615  ...        67.862975   \n26804  flat            2    21         1.248536  ...        67.381968   \n26914  flat            2    21         0.973278  ...        66.101457   \n26976  flat            2    22         0.975319  ...        66.101457   \n27510  flat            2    23         0.965762  ...        67.015584   \n\n       sma_vol_sum_10m  ema_vol_sum_10m  sma_vol_sum_1h  ema_vol_sum_1h  \\\n165           0.115989         0.107761        3.788072        5.061999   \n445           0.095148         0.133825        2.479048        2.220667   \n598           0.102302         0.088852        2.424012        2.155592   \n1098          0.012154         0.024919        1.882639        1.614058   \n1358          0.030008         0.050110        1.659913        1.125329   \n...                ...              ...             ...             ...   \n26648         0.153787         0.225146        1.251825        1.382052   \n26804         0.121401         0.102121        1.255153        1.246121   \n26914         0.157165         0.143465        1.290918        1.311373   \n26976         0.578594         0.911004        1.712347        2.070908   \n27510         0.503379         0.289151        1.748061        1.747806   \n\n       sma_vol_sum_4h  ema_vol_sum_4h  sma_vol_sum_1d  ema_vol_sum_1d  \\\n165         28.803518       31.480449      154.270505      152.896013   \n445         24.955202       22.916505      149.483234      151.282205   \n598         29.098655       31.816594      149.376050      151.022980   \n1098        26.609313       26.908793      142.030561      145.353317   \n1358        23.209849       19.930340      141.104119      154.474622   \n...               ...             ...             ...             ...   \n26648        3.707916        3.544978       63.566965      111.606969   \n26804        3.711244        3.520122       63.165621      110.886213   \n26914        3.747009        3.557458       62.526303      109.672463   \n26976        4.168437        4.344125       63.484637      110.383990   \n27510        4.211295        4.602389       61.683999      106.468573   \n\n         upside  \n165    1.095196  \n445    1.352834  \n598    1.109808  \n1098   0.996687  \n1358   1.446352  \n...         ...  \n26648  0.968080  \n26804  1.129669  \n26914  0.902549  \n26976  0.909573  \n27510  1.131750  \n\n[107 rows x 46 columns]",
      "text/html": "<div>\n<style scoped>\n    .dataframe tbody tr th:only-of-type {\n        vertical-align: middle;\n    }\n\n    .dataframe tbody tr th {\n        vertical-align: top;\n    }\n\n    .dataframe thead th {\n        text-align: right;\n    }\n</style>\n<table border=\"1\" class=\"dataframe\">\n  <thead>\n    <tr style=\"text-align: right;\">\n      <th></th>\n      <th>Actual</th>\n      <th>Predicted</th>\n      <th>time_quant</th>\n      <th>mint</th>\n      <th>price</th>\n      <th>future_price</th>\n      <th>label</th>\n      <th>day_of_week</th>\n      <th>hour</th>\n      <th>u_price_sma_10m</th>\n      <th>...</th>\n      <th>ema_vol_sell_1d</th>\n      <th>sma_vol_sum_10m</th>\n      <th>ema_vol_sum_10m</th>\n      <th>sma_vol_sum_1h</th>\n      <th>ema_vol_sum_1h</th>\n      <th>sma_vol_sum_4h</th>\n      <th>ema_vol_sum_4h</th>\n      <th>sma_vol_sum_1d</th>\n      <th>ema_vol_sum_1d</th>\n      <th>upside</th>\n    </tr>\n  </thead>\n  <tbody>\n    <tr>\n      <th>165</th>\n      <td>flat</td>\n      <td>flat</td>\n      <td>2023-12-30 09:10:00</td>\n      <td>99fp2z9TANArLJR4hcwx8fJSzjz7GQwUn7huGf32nDdv</td>\n      <td>0.000095</td>\n      <td>0.000104</td>\n      <td>flat</td>\n      <td>5</td>\n      <td>9</td>\n      <td>0.930400</td>\n      <td>...</td>\n      <td>90.930654</td>\n      <td>0.115989</td>\n      <td>0.107761</td>\n      <td>3.788072</td>\n      <td>5.061999</td>\n      <td>28.803518</td>\n      <td>31.480449</td>\n      <td>154.270505</td>\n      <td>152.896013</td>\n      <td>1.095196</td>\n    </tr>\n    <tr>\n      <th>445</th>\n      <td>flat</td>\n      <td>flat</td>\n      <td>2023-12-30 10:30:00</td>\n      <td>99fp2z9TANArLJR4hcwx8fJSzjz7GQwUn7huGf32nDdv</td>\n      <td>0.000098</td>\n      <td>0.000132</td>\n      <td>flat</td>\n      <td>5</td>\n      <td>10</td>\n      <td>0.939484</td>\n      <td>...</td>\n      <td>94.127106</td>\n      <td>0.095148</td>\n      <td>0.133825</td>\n      <td>2.479048</td>\n      <td>2.220667</td>\n      <td>24.955202</td>\n      <td>22.916505</td>\n      <td>149.483234</td>\n      <td>151.282205</td>\n      <td>1.352834</td>\n    </tr>\n    <tr>\n      <th>598</th>\n      <td>flat</td>\n      <td>flat</td>\n      <td>2023-12-30 11:10:00</td>\n      <td>99fp2z9TANArLJR4hcwx8fJSzjz7GQwUn7huGf32nDdv</td>\n      <td>0.000120</td>\n      <td>0.000133</td>\n      <td>flat</td>\n      <td>5</td>\n      <td>11</td>\n      <td>0.809310</td>\n      <td>...</td>\n      <td>93.952888</td>\n      <td>0.102302</td>\n      <td>0.088852</td>\n      <td>2.424012</td>\n      <td>2.155592</td>\n      <td>29.098655</td>\n      <td>31.816594</td>\n      <td>149.376050</td>\n      <td>151.022980</td>\n      <td>1.109808</td>\n    </tr>\n    <tr>\n      <th>1098</th>\n      <td>flat</td>\n      <td>flat</td>\n      <td>2023-12-30 13:20:00</td>\n      <td>99fp2z9TANArLJR4hcwx8fJSzjz7GQwUn7huGf32nDdv</td>\n      <td>0.000125</td>\n      <td>0.000125</td>\n      <td>flat</td>\n      <td>5</td>\n      <td>13</td>\n      <td>0.960984</td>\n      <td>...</td>\n      <td>87.483720</td>\n      <td>0.012154</td>\n      <td>0.024919</td>\n      <td>1.882639</td>\n      <td>1.614058</td>\n      <td>26.609313</td>\n      <td>26.908793</td>\n      <td>142.030561</td>\n      <td>145.353317</td>\n      <td>0.996687</td>\n    </tr>\n    <tr>\n      <th>1358</th>\n      <td>flat</td>\n      <td>flat</td>\n      <td>2023-12-30 14:30:00</td>\n      <td>99fp2z9TANArLJR4hcwx8fJSzjz7GQwUn7huGf32nDdv</td>\n      <td>0.000097</td>\n      <td>0.000141</td>\n      <td>flat</td>\n      <td>5</td>\n      <td>14</td>\n      <td>1.243228</td>\n      <td>...</td>\n      <td>96.866656</td>\n      <td>0.030008</td>\n      <td>0.050110</td>\n      <td>1.659913</td>\n      <td>1.125329</td>\n      <td>23.209849</td>\n      <td>19.930340</td>\n      <td>141.104119</td>\n      <td>154.474622</td>\n      <td>1.446352</td>\n    </tr>\n    <tr>\n      <th>...</th>\n      <td>...</td>\n      <td>...</td>\n      <td>...</td>\n      <td>...</td>\n      <td>...</td>\n      <td>...</td>\n      <td>...</td>\n      <td>...</td>\n      <td>...</td>\n      <td>...</td>\n      <td>...</td>\n      <td>...</td>\n      <td>...</td>\n      <td>...</td>\n      <td>...</td>\n      <td>...</td>\n      <td>...</td>\n      <td>...</td>\n      <td>...</td>\n      <td>...</td>\n      <td>...</td>\n    </tr>\n    <tr>\n      <th>26648</th>\n      <td>flat</td>\n      <td>flat</td>\n      <td>2024-01-03 21:00:00</td>\n      <td>99fp2z9TANArLJR4hcwx8fJSzjz7GQwUn7huGf32nDdv</td>\n      <td>0.000043</td>\n      <td>0.000042</td>\n      <td>flat</td>\n      <td>2</td>\n      <td>21</td>\n      <td>1.111615</td>\n      <td>...</td>\n      <td>67.862975</td>\n      <td>0.153787</td>\n      <td>0.225146</td>\n      <td>1.251825</td>\n      <td>1.382052</td>\n      <td>3.707916</td>\n      <td>3.544978</td>\n      <td>63.566965</td>\n      <td>111.606969</td>\n      <td>0.968080</td>\n    </tr>\n    <tr>\n      <th>26804</th>\n      <td>flat</td>\n      <td>flat</td>\n      <td>2024-01-03 21:30:00</td>\n      <td>99fp2z9TANArLJR4hcwx8fJSzjz7GQwUn7huGf32nDdv</td>\n      <td>0.000037</td>\n      <td>0.000042</td>\n      <td>flat</td>\n      <td>2</td>\n      <td>21</td>\n      <td>1.248536</td>\n      <td>...</td>\n      <td>67.381968</td>\n      <td>0.121401</td>\n      <td>0.102121</td>\n      <td>1.255153</td>\n      <td>1.246121</td>\n      <td>3.711244</td>\n      <td>3.520122</td>\n      <td>63.165621</td>\n      <td>110.886213</td>\n      <td>1.129669</td>\n    </tr>\n    <tr>\n      <th>26914</th>\n      <td>flat</td>\n      <td>flat</td>\n      <td>2024-01-03 21:50:00</td>\n      <td>99fp2z9TANArLJR4hcwx8fJSzjz7GQwUn7huGf32nDdv</td>\n      <td>0.000047</td>\n      <td>0.000042</td>\n      <td>flat</td>\n      <td>2</td>\n      <td>21</td>\n      <td>0.973278</td>\n      <td>...</td>\n      <td>66.101457</td>\n      <td>0.157165</td>\n      <td>0.143465</td>\n      <td>1.290918</td>\n      <td>1.311373</td>\n      <td>3.747009</td>\n      <td>3.557458</td>\n      <td>62.526303</td>\n      <td>109.672463</td>\n      <td>0.902549</td>\n    </tr>\n    <tr>\n      <th>26976</th>\n      <td>flat</td>\n      <td>flat</td>\n      <td>2024-01-03 22:00:00</td>\n      <td>99fp2z9TANArLJR4hcwx8fJSzjz7GQwUn7huGf32nDdv</td>\n      <td>0.000046</td>\n      <td>0.000042</td>\n      <td>flat</td>\n      <td>2</td>\n      <td>22</td>\n      <td>0.975319</td>\n      <td>...</td>\n      <td>66.101457</td>\n      <td>0.578594</td>\n      <td>0.911004</td>\n      <td>1.712347</td>\n      <td>2.070908</td>\n      <td>4.168437</td>\n      <td>4.344125</td>\n      <td>63.484637</td>\n      <td>110.383990</td>\n      <td>0.909573</td>\n    </tr>\n    <tr>\n      <th>27510</th>\n      <td>flat</td>\n      <td>flat</td>\n      <td>2024-01-03 23:40:00</td>\n      <td>99fp2z9TANArLJR4hcwx8fJSzjz7GQwUn7huGf32nDdv</td>\n      <td>0.000047</td>\n      <td>0.000053</td>\n      <td>flat</td>\n      <td>2</td>\n      <td>23</td>\n      <td>0.965762</td>\n      <td>...</td>\n      <td>67.015584</td>\n      <td>0.503379</td>\n      <td>0.289151</td>\n      <td>1.748061</td>\n      <td>1.747806</td>\n      <td>4.211295</td>\n      <td>4.602389</td>\n      <td>61.683999</td>\n      <td>106.468573</td>\n      <td>1.131750</td>\n    </tr>\n  </tbody>\n</table>\n<p>107 rows × 46 columns</p>\n</div>"
     },
     "execution_count": 116,
     "metadata": {},
     "output_type": "execute_result"
    }
   ],
   "source": [
    "# mint 99fp2z9TANArLJR4hcwx8fJSzjz7GQwUn7huGf32nDdv\n",
    "results_df[results_df['mint']=='99fp2z9TANArLJR4hcwx8fJSzjz7GQwUn7huGf32nDdv']"
   ],
   "metadata": {
    "collapsed": false,
    "ExecuteTime": {
     "end_time": "2024-01-04T13:11:18.622646Z",
     "start_time": "2024-01-04T13:11:18.614034Z"
    }
   },
   "id": "85a6209339a06f78"
  },
  {
   "cell_type": "code",
   "execution_count": 117,
   "outputs": [
    {
     "data": {
      "text/plain": "      Actual Predicted          time_quant  \\\n0       flat      flat 2023-12-30 08:30:00   \n1       flat      flat 2023-12-30 08:30:00   \n2       flat      flat 2023-12-30 08:30:00   \n3       flat      flat 2023-12-30 08:30:00   \n4       flat      flat 2023-12-30 08:30:00   \n...      ...       ...                 ...   \n27727   flat      flat 2024-01-04 00:20:00   \n27728   flat      flat 2024-01-04 00:20:00   \n27729   flat      flat 2024-01-04 00:20:00   \n27730   flat      flat 2024-01-04 00:20:00   \n27731   flat      flat 2024-01-04 00:20:00   \n\n                                               mint         price  \\\n0      12FvihLoAzTtaA98YVuErGftCXtoc83t3YFk4WdKK79T  9.930370e-07   \n1      2XNuNgqFpNxEWq8wcqRpJFeWBVsLgxa56fMDQVfq7i7Y  2.826238e-04   \n2      2x8o3hA5S5fBxCSE9hzVTf3RohcMWHqkDNKNEPuzprD5  2.976297e-05   \n3      2zwuFv4tzMrJMA3Gq5nNH3i4ojWPtCkjmGzTMXe4RpMc  1.944247e-05   \n4      31iQsahfa4CMiirU7REygBzuAWg4R4ah7Y4aDu9ZfXJP  1.039810e-10   \n...                                             ...           ...   \n27727   KTMEEZDPyYiJmDeiy8ChLcWHP52jhzMG9g6FQrYDTf8  7.980008e-11   \n27728   LFG1ezantSY2LPX8jRz2qa31pPEhpwN9msFDzZw4T9Q  2.730993e-07   \n27729   drakduQWnTS89CdTUdgHmZzEkN6reBLYqrk8rzVhU53  5.363368e-08   \n27730   gxNuJSHRScR7WkzQEYqvxVditaKkcc9V32KXPJLCbcT  6.396623e-05   \n27731   skJyor4eEoBsDpxyURP367RjGEK5xbqrjWjjyjQGo2N  8.941823e-07   \n\n       future_price label  day_of_week  hour  u_price_sma_10m  ...  \\\n0      4.359319e-07  flat            5     8         0.747452  ...   \n1      2.169545e-04  flat            5     8         1.087920  ...   \n2      2.607552e-05  flat            5     8         1.026468  ...   \n3      1.500439e-05  flat            5     8         1.069679  ...   \n4      5.917822e-11  flat            5     8         0.808583  ...   \n...             ...   ...          ...   ...              ...  ...   \n27727  3.277159e-11  flat            3     0         1.149582  ...   \n27728  2.105918e-07  flat            3     0         0.942776  ...   \n27729  5.334881e-08  flat            3     0         1.019868  ...   \n27730  5.061710e-05  flat            3     0         0.732243  ...   \n27731  1.985846e-06  flat            3     0         1.664710  ...   \n\n       ema_vol_sell_1d  sma_vol_sum_10m  ema_vol_sum_10m  sma_vol_sum_1h  \\\n0            19.374471         0.242418         0.234116        1.145117   \n1            19.966602         0.652804         0.681182       12.042169   \n2           101.836320         0.521736         0.538792        8.972038   \n3           232.486088         0.651856         0.579489        9.376199   \n4           186.058000         1.543446         1.977391       17.563163   \n...                ...              ...              ...             ...   \n27727        27.644720         2.919935         4.487728        3.786115   \n27728       556.648984         1.150401         1.745633       46.976387   \n27729       162.160206         0.670125         0.947271       12.693423   \n27730       162.375073         0.532225         0.435274        9.465668   \n27731         3.522837         0.099650         0.137254        0.268418   \n\n       ema_vol_sum_1h  sma_vol_sum_4h  ema_vol_sum_4h  sma_vol_sum_1d  \\\n0            1.328542        3.890211        3.748550       24.440557   \n1           10.282466       20.429140       25.838622      132.789408   \n2            6.993093       36.080560       37.152979      212.977115   \n3            8.926900       70.665628       76.172024      361.950123   \n4           20.297679       65.775765       61.970659      426.796282   \n...               ...             ...             ...             ...   \n27727        6.206388        5.761930        8.733140       85.505423   \n27728       54.598590      555.989226      358.029839     1297.308194   \n27729       10.512182       95.411569       86.925002      500.631668   \n27730        6.493125       71.455419       75.697797      556.782302   \n27731        0.385697        4.524898        3.237085       10.558095   \n\n       ema_vol_sum_1d    upside  \n0           29.679349  0.438989  \n1           36.391252  0.767644  \n2          178.242873  0.876106  \n3          448.937875  0.771733  \n4          345.141176  0.569125  \n...               ...       ...  \n27727       44.384374  0.410671  \n27728      928.001224  0.771118  \n27729      319.042967  0.994689  \n27730      309.413279  0.791310  \n27731        7.440468  2.220852  \n\n[27732 rows x 46 columns]",
      "text/html": "<div>\n<style scoped>\n    .dataframe tbody tr th:only-of-type {\n        vertical-align: middle;\n    }\n\n    .dataframe tbody tr th {\n        vertical-align: top;\n    }\n\n    .dataframe thead th {\n        text-align: right;\n    }\n</style>\n<table border=\"1\" class=\"dataframe\">\n  <thead>\n    <tr style=\"text-align: right;\">\n      <th></th>\n      <th>Actual</th>\n      <th>Predicted</th>\n      <th>time_quant</th>\n      <th>mint</th>\n      <th>price</th>\n      <th>future_price</th>\n      <th>label</th>\n      <th>day_of_week</th>\n      <th>hour</th>\n      <th>u_price_sma_10m</th>\n      <th>...</th>\n      <th>ema_vol_sell_1d</th>\n      <th>sma_vol_sum_10m</th>\n      <th>ema_vol_sum_10m</th>\n      <th>sma_vol_sum_1h</th>\n      <th>ema_vol_sum_1h</th>\n      <th>sma_vol_sum_4h</th>\n      <th>ema_vol_sum_4h</th>\n      <th>sma_vol_sum_1d</th>\n      <th>ema_vol_sum_1d</th>\n      <th>upside</th>\n    </tr>\n  </thead>\n  <tbody>\n    <tr>\n      <th>0</th>\n      <td>flat</td>\n      <td>flat</td>\n      <td>2023-12-30 08:30:00</td>\n      <td>12FvihLoAzTtaA98YVuErGftCXtoc83t3YFk4WdKK79T</td>\n      <td>9.930370e-07</td>\n      <td>4.359319e-07</td>\n      <td>flat</td>\n      <td>5</td>\n      <td>8</td>\n      <td>0.747452</td>\n      <td>...</td>\n      <td>19.374471</td>\n      <td>0.242418</td>\n      <td>0.234116</td>\n      <td>1.145117</td>\n      <td>1.328542</td>\n      <td>3.890211</td>\n      <td>3.748550</td>\n      <td>24.440557</td>\n      <td>29.679349</td>\n      <td>0.438989</td>\n    </tr>\n    <tr>\n      <th>1</th>\n      <td>flat</td>\n      <td>flat</td>\n      <td>2023-12-30 08:30:00</td>\n      <td>2XNuNgqFpNxEWq8wcqRpJFeWBVsLgxa56fMDQVfq7i7Y</td>\n      <td>2.826238e-04</td>\n      <td>2.169545e-04</td>\n      <td>flat</td>\n      <td>5</td>\n      <td>8</td>\n      <td>1.087920</td>\n      <td>...</td>\n      <td>19.966602</td>\n      <td>0.652804</td>\n      <td>0.681182</td>\n      <td>12.042169</td>\n      <td>10.282466</td>\n      <td>20.429140</td>\n      <td>25.838622</td>\n      <td>132.789408</td>\n      <td>36.391252</td>\n      <td>0.767644</td>\n    </tr>\n    <tr>\n      <th>2</th>\n      <td>flat</td>\n      <td>flat</td>\n      <td>2023-12-30 08:30:00</td>\n      <td>2x8o3hA5S5fBxCSE9hzVTf3RohcMWHqkDNKNEPuzprD5</td>\n      <td>2.976297e-05</td>\n      <td>2.607552e-05</td>\n      <td>flat</td>\n      <td>5</td>\n      <td>8</td>\n      <td>1.026468</td>\n      <td>...</td>\n      <td>101.836320</td>\n      <td>0.521736</td>\n      <td>0.538792</td>\n      <td>8.972038</td>\n      <td>6.993093</td>\n      <td>36.080560</td>\n      <td>37.152979</td>\n      <td>212.977115</td>\n      <td>178.242873</td>\n      <td>0.876106</td>\n    </tr>\n    <tr>\n      <th>3</th>\n      <td>flat</td>\n      <td>flat</td>\n      <td>2023-12-30 08:30:00</td>\n      <td>2zwuFv4tzMrJMA3Gq5nNH3i4ojWPtCkjmGzTMXe4RpMc</td>\n      <td>1.944247e-05</td>\n      <td>1.500439e-05</td>\n      <td>flat</td>\n      <td>5</td>\n      <td>8</td>\n      <td>1.069679</td>\n      <td>...</td>\n      <td>232.486088</td>\n      <td>0.651856</td>\n      <td>0.579489</td>\n      <td>9.376199</td>\n      <td>8.926900</td>\n      <td>70.665628</td>\n      <td>76.172024</td>\n      <td>361.950123</td>\n      <td>448.937875</td>\n      <td>0.771733</td>\n    </tr>\n    <tr>\n      <th>4</th>\n      <td>flat</td>\n      <td>flat</td>\n      <td>2023-12-30 08:30:00</td>\n      <td>31iQsahfa4CMiirU7REygBzuAWg4R4ah7Y4aDu9ZfXJP</td>\n      <td>1.039810e-10</td>\n      <td>5.917822e-11</td>\n      <td>flat</td>\n      <td>5</td>\n      <td>8</td>\n      <td>0.808583</td>\n      <td>...</td>\n      <td>186.058000</td>\n      <td>1.543446</td>\n      <td>1.977391</td>\n      <td>17.563163</td>\n      <td>20.297679</td>\n      <td>65.775765</td>\n      <td>61.970659</td>\n      <td>426.796282</td>\n      <td>345.141176</td>\n      <td>0.569125</td>\n    </tr>\n    <tr>\n      <th>...</th>\n      <td>...</td>\n      <td>...</td>\n      <td>...</td>\n      <td>...</td>\n      <td>...</td>\n      <td>...</td>\n      <td>...</td>\n      <td>...</td>\n      <td>...</td>\n      <td>...</td>\n      <td>...</td>\n      <td>...</td>\n      <td>...</td>\n      <td>...</td>\n      <td>...</td>\n      <td>...</td>\n      <td>...</td>\n      <td>...</td>\n      <td>...</td>\n      <td>...</td>\n      <td>...</td>\n    </tr>\n    <tr>\n      <th>27727</th>\n      <td>flat</td>\n      <td>flat</td>\n      <td>2024-01-04 00:20:00</td>\n      <td>KTMEEZDPyYiJmDeiy8ChLcWHP52jhzMG9g6FQrYDTf8</td>\n      <td>7.980008e-11</td>\n      <td>3.277159e-11</td>\n      <td>flat</td>\n      <td>3</td>\n      <td>0</td>\n      <td>1.149582</td>\n      <td>...</td>\n      <td>27.644720</td>\n      <td>2.919935</td>\n      <td>4.487728</td>\n      <td>3.786115</td>\n      <td>6.206388</td>\n      <td>5.761930</td>\n      <td>8.733140</td>\n      <td>85.505423</td>\n      <td>44.384374</td>\n      <td>0.410671</td>\n    </tr>\n    <tr>\n      <th>27728</th>\n      <td>flat</td>\n      <td>flat</td>\n      <td>2024-01-04 00:20:00</td>\n      <td>LFG1ezantSY2LPX8jRz2qa31pPEhpwN9msFDzZw4T9Q</td>\n      <td>2.730993e-07</td>\n      <td>2.105918e-07</td>\n      <td>flat</td>\n      <td>3</td>\n      <td>0</td>\n      <td>0.942776</td>\n      <td>...</td>\n      <td>556.648984</td>\n      <td>1.150401</td>\n      <td>1.745633</td>\n      <td>46.976387</td>\n      <td>54.598590</td>\n      <td>555.989226</td>\n      <td>358.029839</td>\n      <td>1297.308194</td>\n      <td>928.001224</td>\n      <td>0.771118</td>\n    </tr>\n    <tr>\n      <th>27729</th>\n      <td>flat</td>\n      <td>flat</td>\n      <td>2024-01-04 00:20:00</td>\n      <td>drakduQWnTS89CdTUdgHmZzEkN6reBLYqrk8rzVhU53</td>\n      <td>5.363368e-08</td>\n      <td>5.334881e-08</td>\n      <td>flat</td>\n      <td>3</td>\n      <td>0</td>\n      <td>1.019868</td>\n      <td>...</td>\n      <td>162.160206</td>\n      <td>0.670125</td>\n      <td>0.947271</td>\n      <td>12.693423</td>\n      <td>10.512182</td>\n      <td>95.411569</td>\n      <td>86.925002</td>\n      <td>500.631668</td>\n      <td>319.042967</td>\n      <td>0.994689</td>\n    </tr>\n    <tr>\n      <th>27730</th>\n      <td>flat</td>\n      <td>flat</td>\n      <td>2024-01-04 00:20:00</td>\n      <td>gxNuJSHRScR7WkzQEYqvxVditaKkcc9V32KXPJLCbcT</td>\n      <td>6.396623e-05</td>\n      <td>5.061710e-05</td>\n      <td>flat</td>\n      <td>3</td>\n      <td>0</td>\n      <td>0.732243</td>\n      <td>...</td>\n      <td>162.375073</td>\n      <td>0.532225</td>\n      <td>0.435274</td>\n      <td>9.465668</td>\n      <td>6.493125</td>\n      <td>71.455419</td>\n      <td>75.697797</td>\n      <td>556.782302</td>\n      <td>309.413279</td>\n      <td>0.791310</td>\n    </tr>\n    <tr>\n      <th>27731</th>\n      <td>flat</td>\n      <td>flat</td>\n      <td>2024-01-04 00:20:00</td>\n      <td>skJyor4eEoBsDpxyURP367RjGEK5xbqrjWjjyjQGo2N</td>\n      <td>8.941823e-07</td>\n      <td>1.985846e-06</td>\n      <td>flat</td>\n      <td>3</td>\n      <td>0</td>\n      <td>1.664710</td>\n      <td>...</td>\n      <td>3.522837</td>\n      <td>0.099650</td>\n      <td>0.137254</td>\n      <td>0.268418</td>\n      <td>0.385697</td>\n      <td>4.524898</td>\n      <td>3.237085</td>\n      <td>10.558095</td>\n      <td>7.440468</td>\n      <td>2.220852</td>\n    </tr>\n  </tbody>\n</table>\n<p>27732 rows × 46 columns</p>\n</div>"
     },
     "execution_count": 117,
     "metadata": {},
     "output_type": "execute_result"
    }
   ],
   "source": [
    "results_df"
   ],
   "metadata": {
    "collapsed": false,
    "ExecuteTime": {
     "end_time": "2024-01-04T13:11:21.306968Z",
     "start_time": "2024-01-04T13:11:21.287117Z"
    }
   },
   "id": "5bbf8e693f460b06"
  },
  {
   "cell_type": "code",
   "execution_count": null,
   "outputs": [],
   "source": [],
   "metadata": {
    "collapsed": false
   },
   "id": "19b1514301d14e46"
  }
 ],
 "metadata": {
  "kernelspec": {
   "display_name": "Python 3",
   "language": "python",
   "name": "python3"
  },
  "language_info": {
   "codemirror_mode": {
    "name": "ipython",
    "version": 2
   },
   "file_extension": ".py",
   "mimetype": "text/x-python",
   "name": "python",
   "nbconvert_exporter": "python",
   "pygments_lexer": "ipython2",
   "version": "2.7.6"
  }
 },
 "nbformat": 4,
 "nbformat_minor": 5
}
