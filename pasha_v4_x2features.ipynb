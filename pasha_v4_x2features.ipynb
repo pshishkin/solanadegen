{
 "cells": [
  {
   "cell_type": "code",
   "execution_count": 1,
   "outputs": [
    {
     "name": "stderr",
     "output_type": "stream",
     "text": [
      "2024-01-07 21:35:41,006 - INFO - Getting data from db\n",
      "2024-01-07 21:35:49,635 - INFO - Got 10000 records from db\n",
      "2024-01-07 21:35:49,636 - INFO - From 2024-01-07 09:26:03 to 2024-01-07 21:32:21\n",
      "2024-01-07 21:35:49,640 - INFO - Filtered df by program_id, got 9639 records\n",
      "2024-01-07 21:35:49,647 - INFO - Using memory: 4.914640426635742 MB\n",
      "2024-01-07 21:35:49,654 - INFO - Before rare tokens filtering 9639 trades, 680 mints\n",
      "2024-01-07 21:35:49,657 - INFO - After rare tokens filtering 5751 trades, 42 mints\n",
      "2024-01-07 21:35:50,904 - INFO - Got price tables for 42 mints\n",
      "2024-01-07 21:35:51,197 - INFO - Assigned labels to 1605 records\n",
      "2024-01-07 21:35:51,197 - INFO - label\n",
      "flat    1228\n",
      "na       144\n",
      "down     135\n",
      "up        98\n",
      "Name: count, dtype: int64\n",
      "2024-01-07 21:35:51,198 - INFO - Assigning features\n",
      "2024-01-07 21:35:56,893 - INFO - Features assigned\n"
     ]
    }
   ],
   "source": [
    "from dataprep import DatasetBuilder\n",
    "from datetime import timedelta\n",
    "\n",
    "PREDICTION_TIMEDELTA = timedelta(hours=1)\n",
    "QUANT_TIMEDELTA = timedelta(minutes=10)\n",
    "BUY_TIMEDELTA = timedelta(seconds=0)\n",
    "CHANGE_MAGNITUDE = 1.2\n",
    "\n",
    "builder = DatasetBuilder(10000, BUY_TIMEDELTA, (QUANT_TIMEDELTA, PREDICTION_TIMEDELTA), CHANGE_MAGNITUDE)\n",
    "dataset = builder.build_dataset()\n"
   ],
   "metadata": {
    "collapsed": false,
    "ExecuteTime": {
     "end_time": "2024-01-07T21:35:56.901788Z",
     "start_time": "2024-01-07T21:35:40.992007Z"
    }
   },
   "id": "efcea48a30cd5d32"
  },
  {
   "cell_type": "code",
   "execution_count": null,
   "outputs": [],
   "source": [
    "#PREDICTION_TIMEDELTA = timedelta(hours=1)\n",
    "CHANGE_MAGNITUDE = 3.5\n",
    "\n",
    "dataset = builder.reassign_values(BUY_TIMEDELTA, (QUANT_TIMEDELTA, PREDICTION_TIMEDELTA), CHANGE_MAGNITUDE)\n"
   ],
   "metadata": {
    "collapsed": false
   },
   "id": "fb2725437b2b9501"
  },
  {
   "cell_type": "code",
   "execution_count": 160,
   "outputs": [
    {
     "data": {
      "text/plain": "               time_quant                                          mint  \\\n32149 2023-12-31 03:00:00  H5n9BQfULHEEtvLVf2WErUHsXHhRaUkYqVhNzxUkWJGf   \n\n          price  future_price label  day_of_week  hour  u_price_sma_10m  \\\n32149  0.000004      0.000023    up            6     3         0.071429   \n\n       u_price_ema_10m  u_price_rsi_10m  ...  sma_vol_sell_1d  \\\n32149         0.133333            100.0  ...         2.144877   \n\n       ema_vol_sell_1d  sma_vol_sum_10m  ema_vol_sum_10m  sma_vol_sum_1h  \\\n32149         1.429918         0.766028         1.429918        0.766028   \n\n       ema_vol_sum_1h  sma_vol_sum_4h  ema_vol_sum_4h  sma_vol_sum_1d  \\\n32149        1.429918        0.766028        1.429918        2.144877   \n\n       ema_vol_sum_1d  \n32149        1.429918  \n\n[1 rows x 43 columns]",
      "text/html": "<div>\n<style scoped>\n    .dataframe tbody tr th:only-of-type {\n        vertical-align: middle;\n    }\n\n    .dataframe tbody tr th {\n        vertical-align: top;\n    }\n\n    .dataframe thead th {\n        text-align: right;\n    }\n</style>\n<table border=\"1\" class=\"dataframe\">\n  <thead>\n    <tr style=\"text-align: right;\">\n      <th></th>\n      <th>time_quant</th>\n      <th>mint</th>\n      <th>price</th>\n      <th>future_price</th>\n      <th>label</th>\n      <th>day_of_week</th>\n      <th>hour</th>\n      <th>u_price_sma_10m</th>\n      <th>u_price_ema_10m</th>\n      <th>u_price_rsi_10m</th>\n      <th>...</th>\n      <th>sma_vol_sell_1d</th>\n      <th>ema_vol_sell_1d</th>\n      <th>sma_vol_sum_10m</th>\n      <th>ema_vol_sum_10m</th>\n      <th>sma_vol_sum_1h</th>\n      <th>ema_vol_sum_1h</th>\n      <th>sma_vol_sum_4h</th>\n      <th>ema_vol_sum_4h</th>\n      <th>sma_vol_sum_1d</th>\n      <th>ema_vol_sum_1d</th>\n    </tr>\n  </thead>\n  <tbody>\n    <tr>\n      <th>32149</th>\n      <td>2023-12-31 03:00:00</td>\n      <td>H5n9BQfULHEEtvLVf2WErUHsXHhRaUkYqVhNzxUkWJGf</td>\n      <td>0.000004</td>\n      <td>0.000023</td>\n      <td>up</td>\n      <td>6</td>\n      <td>3</td>\n      <td>0.071429</td>\n      <td>0.133333</td>\n      <td>100.0</td>\n      <td>...</td>\n      <td>2.144877</td>\n      <td>1.429918</td>\n      <td>0.766028</td>\n      <td>1.429918</td>\n      <td>0.766028</td>\n      <td>1.429918</td>\n      <td>0.766028</td>\n      <td>1.429918</td>\n      <td>2.144877</td>\n      <td>1.429918</td>\n    </tr>\n  </tbody>\n</table>\n<p>1 rows × 43 columns</p>\n</div>"
     },
     "execution_count": 160,
     "metadata": {},
     "output_type": "execute_result"
    }
   ],
   "source": [
    "dataset[(dataset['label'] == 'up') & (dataset['mint'] == 'H5n9BQfULHEEtvLVf2WErUHsXHhRaUkYqVhNzxUkWJGf')]"
   ],
   "metadata": {
    "collapsed": false,
    "ExecuteTime": {
     "end_time": "2024-01-04T21:08:26.472394Z",
     "start_time": "2024-01-04T21:08:26.445797Z"
    }
   },
   "id": "4826623dcd12af48"
  },
  {
   "cell_type": "code",
   "execution_count": 2,
   "outputs": [
    {
     "data": {
      "text/plain": "15"
     },
     "execution_count": 2,
     "metadata": {},
     "output_type": "execute_result"
    }
   ],
   "source": [
    "dataset[dataset['label'] == 'up']['mint'].nunique()\n"
   ],
   "metadata": {
    "collapsed": false,
    "ExecuteTime": {
     "end_time": "2024-01-07T20:25:37.487341Z",
     "start_time": "2024-01-07T20:25:37.482740Z"
    }
   },
   "id": "43cf93a151512c70"
  },
  {
   "cell_type": "code",
   "execution_count": 3,
   "outputs": [
    {
     "data": {
      "text/plain": "12      0.0\n29      0.0\n45      0.0\n61      0.0\n70      0.0\n       ... \n1406    0.0\n1431    0.0\n1456    0.0\n1463    0.0\n1479    0.0\nName: sma_vol_sum_1d, Length: 92, dtype: float64"
     },
     "execution_count": 3,
     "metadata": {},
     "output_type": "execute_result"
    }
   ],
   "source": [
    "dataset[dataset['label'] == 'up']['sma_vol_sum_1d']"
   ],
   "metadata": {
    "collapsed": false,
    "ExecuteTime": {
     "end_time": "2024-01-07T20:25:41.225693Z",
     "start_time": "2024-01-07T20:25:41.216551Z"
    }
   },
   "id": "552463f0316c247b"
  },
  {
   "cell_type": "code",
   "execution_count": 4,
   "outputs": [
    {
     "data": {
      "text/plain": "                          time_quant         price     buy_price  \\\ncount                           1637  1.637000e+03  1.637000e+03   \nmean   2024-01-07 14:17:33.756872448  7.223667e-02  7.223667e-02   \nmin              2024-01-07 07:30:00  2.818814e-10  2.818814e-10   \n25%              2024-01-07 11:10:00  6.595649e-07  6.595649e-07   \n50%              2024-01-07 14:40:00  6.662415e-06  6.662415e-06   \n75%              2024-01-07 17:20:00  5.745163e-04  5.745163e-04   \nmax              2024-01-07 20:10:00  1.160209e+00  1.160209e+00   \nstd                              NaN  2.730824e-01  2.730824e-01   \n\n         sell_price  day_of_week         hour  u_price_sma_10m  \\\ncount  1.637000e+03       1637.0  1637.000000      1637.000000   \nmean   6.601770e-02          6.0    13.871106         1.047190   \nmin    0.000000e+00          6.0     7.000000         0.071429   \n25%    1.146335e-07          6.0    11.000000         0.944855   \n50%    5.026481e-06          6.0    14.000000         0.999999   \n75%    3.321623e-04          6.0    17.000000         1.041268   \nmax    1.159233e+00          6.0    20.000000        11.256543   \nstd    2.618719e-01          0.0     3.667224         0.584840   \n\n       u_price_ema_10m  u_price_rsi_10m  u_price_sma_1h  ...  sma_vol_sell_1d  \\\ncount      1637.000000      1637.000000     1637.000000  ...           1637.0   \nmean          1.021914        54.122323        1.006567  ...              0.0   \nmin           0.133333        -1.000000        0.076923  ...              0.0   \n25%           0.947972        42.990497        0.878477  ...              0.0   \n50%           1.000000        52.886897        0.999162  ...              0.0   \n75%           1.037167        63.181336        1.029519  ...              0.0   \nmax           8.034145       100.000000        6.391211  ...              0.0   \nstd           0.461742        20.089795        0.534556  ...              0.0   \n\n       ema_vol_sell_1d  sma_vol_sum_10m  ema_vol_sum_10m  sma_vol_sum_1h  \\\ncount           1637.0      1637.000000      1637.000000     1637.000000   \nmean               0.0        13.731291        13.735168       69.655847   \nmin                0.0         0.000000         0.000000        0.000000   \n25%                0.0         1.284718         1.316650        6.666733   \n50%                0.0         3.747971         3.633060       17.717212   \n75%                0.0         9.282923         9.100868       46.617883   \nmax                0.0       286.609076       351.380052     1057.372090   \nstd                0.0        30.003963        30.680553      145.118322   \n\n       ema_vol_sum_1h  sma_vol_sum_4h  ema_vol_sum_4h  sma_vol_sum_1d  \\\ncount     1637.000000     1637.000000     1637.000000          1637.0   \nmean        74.804064      216.322657      200.040409             0.0   \nmin          0.000000        0.000000        0.000000             0.0   \n25%          6.330175        0.000000        0.000000             0.0   \n50%         16.176456       45.748947       36.977797             0.0   \n75%         42.563262      113.860085      107.577011             0.0   \nmax       1057.372090     3424.150719     2923.979742             0.0   \nstd        171.222261      515.202293      468.149007             0.0   \n\n       ema_vol_sum_1d  \ncount          1637.0  \nmean              0.0  \nmin               0.0  \n25%               0.0  \n50%               0.0  \n75%               0.0  \nmax               0.0  \nstd               0.0  \n\n[8 rows x 42 columns]",
      "text/html": "<div>\n<style scoped>\n    .dataframe tbody tr th:only-of-type {\n        vertical-align: middle;\n    }\n\n    .dataframe tbody tr th {\n        vertical-align: top;\n    }\n\n    .dataframe thead th {\n        text-align: right;\n    }\n</style>\n<table border=\"1\" class=\"dataframe\">\n  <thead>\n    <tr style=\"text-align: right;\">\n      <th></th>\n      <th>time_quant</th>\n      <th>price</th>\n      <th>buy_price</th>\n      <th>sell_price</th>\n      <th>day_of_week</th>\n      <th>hour</th>\n      <th>u_price_sma_10m</th>\n      <th>u_price_ema_10m</th>\n      <th>u_price_rsi_10m</th>\n      <th>u_price_sma_1h</th>\n      <th>...</th>\n      <th>sma_vol_sell_1d</th>\n      <th>ema_vol_sell_1d</th>\n      <th>sma_vol_sum_10m</th>\n      <th>ema_vol_sum_10m</th>\n      <th>sma_vol_sum_1h</th>\n      <th>ema_vol_sum_1h</th>\n      <th>sma_vol_sum_4h</th>\n      <th>ema_vol_sum_4h</th>\n      <th>sma_vol_sum_1d</th>\n      <th>ema_vol_sum_1d</th>\n    </tr>\n  </thead>\n  <tbody>\n    <tr>\n      <th>count</th>\n      <td>1637</td>\n      <td>1.637000e+03</td>\n      <td>1.637000e+03</td>\n      <td>1.637000e+03</td>\n      <td>1637.0</td>\n      <td>1637.000000</td>\n      <td>1637.000000</td>\n      <td>1637.000000</td>\n      <td>1637.000000</td>\n      <td>1637.000000</td>\n      <td>...</td>\n      <td>1637.0</td>\n      <td>1637.0</td>\n      <td>1637.000000</td>\n      <td>1637.000000</td>\n      <td>1637.000000</td>\n      <td>1637.000000</td>\n      <td>1637.000000</td>\n      <td>1637.000000</td>\n      <td>1637.0</td>\n      <td>1637.0</td>\n    </tr>\n    <tr>\n      <th>mean</th>\n      <td>2024-01-07 14:17:33.756872448</td>\n      <td>7.223667e-02</td>\n      <td>7.223667e-02</td>\n      <td>6.601770e-02</td>\n      <td>6.0</td>\n      <td>13.871106</td>\n      <td>1.047190</td>\n      <td>1.021914</td>\n      <td>54.122323</td>\n      <td>1.006567</td>\n      <td>...</td>\n      <td>0.0</td>\n      <td>0.0</td>\n      <td>13.731291</td>\n      <td>13.735168</td>\n      <td>69.655847</td>\n      <td>74.804064</td>\n      <td>216.322657</td>\n      <td>200.040409</td>\n      <td>0.0</td>\n      <td>0.0</td>\n    </tr>\n    <tr>\n      <th>min</th>\n      <td>2024-01-07 07:30:00</td>\n      <td>2.818814e-10</td>\n      <td>2.818814e-10</td>\n      <td>0.000000e+00</td>\n      <td>6.0</td>\n      <td>7.000000</td>\n      <td>0.071429</td>\n      <td>0.133333</td>\n      <td>-1.000000</td>\n      <td>0.076923</td>\n      <td>...</td>\n      <td>0.0</td>\n      <td>0.0</td>\n      <td>0.000000</td>\n      <td>0.000000</td>\n      <td>0.000000</td>\n      <td>0.000000</td>\n      <td>0.000000</td>\n      <td>0.000000</td>\n      <td>0.0</td>\n      <td>0.0</td>\n    </tr>\n    <tr>\n      <th>25%</th>\n      <td>2024-01-07 11:10:00</td>\n      <td>6.595649e-07</td>\n      <td>6.595649e-07</td>\n      <td>1.146335e-07</td>\n      <td>6.0</td>\n      <td>11.000000</td>\n      <td>0.944855</td>\n      <td>0.947972</td>\n      <td>42.990497</td>\n      <td>0.878477</td>\n      <td>...</td>\n      <td>0.0</td>\n      <td>0.0</td>\n      <td>1.284718</td>\n      <td>1.316650</td>\n      <td>6.666733</td>\n      <td>6.330175</td>\n      <td>0.000000</td>\n      <td>0.000000</td>\n      <td>0.0</td>\n      <td>0.0</td>\n    </tr>\n    <tr>\n      <th>50%</th>\n      <td>2024-01-07 14:40:00</td>\n      <td>6.662415e-06</td>\n      <td>6.662415e-06</td>\n      <td>5.026481e-06</td>\n      <td>6.0</td>\n      <td>14.000000</td>\n      <td>0.999999</td>\n      <td>1.000000</td>\n      <td>52.886897</td>\n      <td>0.999162</td>\n      <td>...</td>\n      <td>0.0</td>\n      <td>0.0</td>\n      <td>3.747971</td>\n      <td>3.633060</td>\n      <td>17.717212</td>\n      <td>16.176456</td>\n      <td>45.748947</td>\n      <td>36.977797</td>\n      <td>0.0</td>\n      <td>0.0</td>\n    </tr>\n    <tr>\n      <th>75%</th>\n      <td>2024-01-07 17:20:00</td>\n      <td>5.745163e-04</td>\n      <td>5.745163e-04</td>\n      <td>3.321623e-04</td>\n      <td>6.0</td>\n      <td>17.000000</td>\n      <td>1.041268</td>\n      <td>1.037167</td>\n      <td>63.181336</td>\n      <td>1.029519</td>\n      <td>...</td>\n      <td>0.0</td>\n      <td>0.0</td>\n      <td>9.282923</td>\n      <td>9.100868</td>\n      <td>46.617883</td>\n      <td>42.563262</td>\n      <td>113.860085</td>\n      <td>107.577011</td>\n      <td>0.0</td>\n      <td>0.0</td>\n    </tr>\n    <tr>\n      <th>max</th>\n      <td>2024-01-07 20:10:00</td>\n      <td>1.160209e+00</td>\n      <td>1.160209e+00</td>\n      <td>1.159233e+00</td>\n      <td>6.0</td>\n      <td>20.000000</td>\n      <td>11.256543</td>\n      <td>8.034145</td>\n      <td>100.000000</td>\n      <td>6.391211</td>\n      <td>...</td>\n      <td>0.0</td>\n      <td>0.0</td>\n      <td>286.609076</td>\n      <td>351.380052</td>\n      <td>1057.372090</td>\n      <td>1057.372090</td>\n      <td>3424.150719</td>\n      <td>2923.979742</td>\n      <td>0.0</td>\n      <td>0.0</td>\n    </tr>\n    <tr>\n      <th>std</th>\n      <td>NaN</td>\n      <td>2.730824e-01</td>\n      <td>2.730824e-01</td>\n      <td>2.618719e-01</td>\n      <td>0.0</td>\n      <td>3.667224</td>\n      <td>0.584840</td>\n      <td>0.461742</td>\n      <td>20.089795</td>\n      <td>0.534556</td>\n      <td>...</td>\n      <td>0.0</td>\n      <td>0.0</td>\n      <td>30.003963</td>\n      <td>30.680553</td>\n      <td>145.118322</td>\n      <td>171.222261</td>\n      <td>515.202293</td>\n      <td>468.149007</td>\n      <td>0.0</td>\n      <td>0.0</td>\n    </tr>\n  </tbody>\n</table>\n<p>8 rows × 42 columns</p>\n</div>"
     },
     "execution_count": 4,
     "metadata": {},
     "output_type": "execute_result"
    }
   ],
   "source": [
    "dataset.describe()"
   ],
   "metadata": {
    "collapsed": false,
    "ExecuteTime": {
     "end_time": "2024-01-07T20:25:43.409075Z",
     "start_time": "2024-01-07T20:25:43.359572Z"
    }
   },
   "id": "91fbb5d998719382"
  },
  {
   "cell_type": "code",
   "execution_count": 5,
   "outputs": [
    {
     "name": "stdout",
     "output_type": "stream",
     "text": [
      "dataset len: 1637\n",
      "train_test_dataset len: 1494\n",
      "train_test_dataset len: 1494\n",
      "unique_mints len: 37\n"
     ]
    }
   ],
   "source": [
    "from sklearn.model_selection import TimeSeriesSplit\n",
    "\n",
    "print(\"dataset len: %d\" % len(dataset))\n",
    "train_test_dataset = dataset[dataset['label'] != 'na']\n",
    "print(\"train_test_dataset len: %d\" % len(train_test_dataset))\n",
    "# train_test_dataset = train_test_dataset[train_test_dataset['sma_vol_sum_1h'] > 1]\n",
    "print(\"train_test_dataset len: %d\" % len(train_test_dataset))\n",
    "unique_mints = train_test_dataset['mint'].unique()\n",
    "print(\"unique_mints len: %d\" % len(unique_mints))\n"
   ],
   "metadata": {
    "collapsed": false,
    "ExecuteTime": {
     "end_time": "2024-01-07T20:25:44.275433Z",
     "start_time": "2024-01-07T20:25:44.083227Z"
    }
   },
   "id": "cd9ba54930ee096f"
  },
  {
   "cell_type": "code",
   "execution_count": 6,
   "outputs": [
    {
     "name": "stdout",
     "output_type": "stream",
     "text": [
      "15\n",
      "92\n"
     ]
    }
   ],
   "source": [
    "# how many mints have up label\n",
    "print(train_test_dataset[train_test_dataset['label'] == 'up']['mint'].nunique())\n",
    "print(len(train_test_dataset[train_test_dataset['label'] == 'up']))"
   ],
   "metadata": {
    "collapsed": false,
    "ExecuteTime": {
     "end_time": "2024-01-07T20:25:45.555581Z",
     "start_time": "2024-01-07T20:25:45.549762Z"
    }
   },
   "id": "783473e3cc65b98b"
  },
  {
   "cell_type": "code",
   "execution_count": 7,
   "outputs": [
    {
     "data": {
      "text/plain": "12      0.0\n29      0.0\n45      0.0\n61      0.0\n70      0.0\n       ... \n1406    0.0\n1431    0.0\n1456    0.0\n1463    0.0\n1479    0.0\nName: sma_vol_sum_1d, Length: 92, dtype: float64"
     },
     "execution_count": 7,
     "metadata": {},
     "output_type": "execute_result"
    }
   ],
   "source": [
    "train_test_dataset[train_test_dataset['label'] == 'up']['sma_vol_sum_1d']\n"
   ],
   "metadata": {
    "collapsed": false,
    "ExecuteTime": {
     "end_time": "2024-01-07T20:25:56.222383Z",
     "start_time": "2024-01-07T20:25:56.216894Z"
    }
   },
   "id": "65c53e8dae31421d"
  },
  {
   "cell_type": "code",
   "execution_count": 8,
   "outputs": [
    {
     "data": {
      "text/plain": "count    92.0\nmean      0.0\nstd       0.0\nmin       0.0\n25%       0.0\n50%       0.0\n75%       0.0\nmax       0.0\nName: sma_vol_sum_1d, dtype: float64"
     },
     "execution_count": 8,
     "metadata": {},
     "output_type": "execute_result"
    }
   ],
   "source": [
    "train_test_dataset[train_test_dataset['label'] == 'up']['sma_vol_sum_1d'].describe()"
   ],
   "metadata": {
    "collapsed": false,
    "ExecuteTime": {
     "end_time": "2024-01-07T20:25:56.825299Z",
     "start_time": "2024-01-07T20:25:56.804726Z"
    }
   },
   "id": "bd3d63b2b2a9694a"
  },
  {
   "cell_type": "code",
   "execution_count": 9,
   "outputs": [
    {
     "data": {
      "text/plain": "              time_quant                                          mint  \\\n0    2024-01-07 07:30:00  25vHoSeyJeroPYaTf72o97rCKmyEoGK7iNNHDAv6zYy6   \n1    2024-01-07 07:30:00  4icEZCrEYNop2ZaMMCkRHaNzkt6xG9BpijMCQV7mpw6Z   \n2    2024-01-07 07:30:00  4jZXkSNgTQKCDb36ECZ6a2aNzcUniGcDeXgTdtM2HxAX   \n3    2024-01-07 07:30:00  7EYnhQoR9YM3N7UoaKRoA44Uy8JeaZV3qyouov87awMs   \n4    2024-01-07 07:30:00  7iT1GRYYhEop2nV1dyCwK2MGyLmPHq47WhPGSwiqcUg5   \n...                  ...                                           ...   \n1489 2024-01-07 19:10:00  GACxkcy9WDWHhB15oKLHp3PPzQV4zLt2m7dcGPoZLkZY   \n1490 2024-01-07 19:10:00  HhJpBhRRn4g56VsyLuT8DL5Bv31HkXqsrahTTUCZeZg4   \n1491 2024-01-07 19:10:00  J1toso1uCk3RLmjorhTtrVwY9HJ7X8V9yYac6Y7kGCPn   \n1492 2024-01-07 19:10:00   LFG1ezantSY2LPX8jRz2qa31pPEhpwN9msFDzZw4T9Q   \n1493 2024-01-07 19:10:00   mSoLzYCxHdYgdzU16g5QSh3i5K3z3KZK7ytfqcJm7So   \n\n             price     buy_price    sell_price label  day_of_week  hour  \\\n0     2.983492e-04  2.983492e-04  2.872103e-04  flat            6     7   \n1     3.497989e-05  3.497989e-05  3.635281e-05  flat            6     7   \n2     6.889992e-06  6.889992e-06  6.997350e-06  flat            6     7   \n3     8.339724e-04  8.339724e-04  8.282076e-04  flat            6     7   \n4     2.060321e-06  2.060321e-06  2.041177e-06  flat            6     7   \n...            ...           ...           ...   ...          ...   ...   \n1489  6.857340e-07  6.857340e-07  7.076977e-07  flat            6    19   \n1490  6.120961e-04  6.120961e-04  6.016473e-04  flat            6    19   \n1491  1.080139e+00  1.080139e+00  1.081075e+00  flat            6    19   \n1492  3.643782e-07  3.643782e-07  3.687017e-07  flat            6    19   \n1493  1.158604e+00  1.158604e+00  1.158888e+00  flat            6    19   \n\n      u_price_sma_10m  u_price_ema_10m  ...  sma_vol_sell_1d  ema_vol_sell_1d  \\\n0            1.000000         1.000000  ...              0.0              0.0   \n1            1.000000         1.000000  ...              0.0              0.0   \n2            1.000000         1.000000  ...              0.0              0.0   \n3            1.000000         1.000000  ...              0.0              0.0   \n4            1.000000         1.000000  ...              0.0              0.0   \n...               ...              ...  ...              ...              ...   \n1489         1.060451         1.081264  ...              0.0              0.0   \n1490         0.990933         1.001669  ...              0.0              0.0   \n1491         1.000808         1.001593  ...              0.0              0.0   \n1492         1.087314         1.071184  ...              0.0              0.0   \n1493         1.000198         1.000203  ...              0.0              0.0   \n\n      sma_vol_sum_10m  ema_vol_sum_10m  sma_vol_sum_1h  ema_vol_sum_1h  \\\n0            0.000000         0.000000        0.000000        0.000000   \n1            0.000000         0.000000        0.000000        0.000000   \n2            0.000000         0.000000        0.000000        0.000000   \n3            0.000000         0.000000        0.000000        0.000000   \n4            0.000000         0.000000        0.000000        0.000000   \n...               ...              ...             ...             ...   \n1489         2.337759         2.911189        8.592461        9.471527   \n1490        14.299265        13.156799       65.647327       63.822179   \n1491         7.931988         9.851784       26.724484       36.172345   \n1492         7.457702         8.177207       22.801295       44.040176   \n1493         6.185614         5.599093       82.400008      164.631857   \n\n      sma_vol_sum_4h  ema_vol_sum_4h  sma_vol_sum_1d  ema_vol_sum_1d  \n0           0.000000        0.000000             0.0             0.0  \n1           0.000000        0.000000             0.0             0.0  \n2           0.000000        0.000000             0.0             0.0  \n3           0.000000        0.000000             0.0             0.0  \n4           0.000000        0.000000             0.0             0.0  \n...              ...             ...             ...             ...  \n1489       40.373643       20.023869             0.0             0.0  \n1490      334.487863      366.372004             0.0             0.0  \n1491      111.284674       81.029398             0.0             0.0  \n1492       61.994156       28.783095             0.0             0.0  \n1493      110.701865       88.372395             0.0             0.0  \n\n[1494 rows x 44 columns]",
      "text/html": "<div>\n<style scoped>\n    .dataframe tbody tr th:only-of-type {\n        vertical-align: middle;\n    }\n\n    .dataframe tbody tr th {\n        vertical-align: top;\n    }\n\n    .dataframe thead th {\n        text-align: right;\n    }\n</style>\n<table border=\"1\" class=\"dataframe\">\n  <thead>\n    <tr style=\"text-align: right;\">\n      <th></th>\n      <th>time_quant</th>\n      <th>mint</th>\n      <th>price</th>\n      <th>buy_price</th>\n      <th>sell_price</th>\n      <th>label</th>\n      <th>day_of_week</th>\n      <th>hour</th>\n      <th>u_price_sma_10m</th>\n      <th>u_price_ema_10m</th>\n      <th>...</th>\n      <th>sma_vol_sell_1d</th>\n      <th>ema_vol_sell_1d</th>\n      <th>sma_vol_sum_10m</th>\n      <th>ema_vol_sum_10m</th>\n      <th>sma_vol_sum_1h</th>\n      <th>ema_vol_sum_1h</th>\n      <th>sma_vol_sum_4h</th>\n      <th>ema_vol_sum_4h</th>\n      <th>sma_vol_sum_1d</th>\n      <th>ema_vol_sum_1d</th>\n    </tr>\n  </thead>\n  <tbody>\n    <tr>\n      <th>0</th>\n      <td>2024-01-07 07:30:00</td>\n      <td>25vHoSeyJeroPYaTf72o97rCKmyEoGK7iNNHDAv6zYy6</td>\n      <td>2.983492e-04</td>\n      <td>2.983492e-04</td>\n      <td>2.872103e-04</td>\n      <td>flat</td>\n      <td>6</td>\n      <td>7</td>\n      <td>1.000000</td>\n      <td>1.000000</td>\n      <td>...</td>\n      <td>0.0</td>\n      <td>0.0</td>\n      <td>0.000000</td>\n      <td>0.000000</td>\n      <td>0.000000</td>\n      <td>0.000000</td>\n      <td>0.000000</td>\n      <td>0.000000</td>\n      <td>0.0</td>\n      <td>0.0</td>\n    </tr>\n    <tr>\n      <th>1</th>\n      <td>2024-01-07 07:30:00</td>\n      <td>4icEZCrEYNop2ZaMMCkRHaNzkt6xG9BpijMCQV7mpw6Z</td>\n      <td>3.497989e-05</td>\n      <td>3.497989e-05</td>\n      <td>3.635281e-05</td>\n      <td>flat</td>\n      <td>6</td>\n      <td>7</td>\n      <td>1.000000</td>\n      <td>1.000000</td>\n      <td>...</td>\n      <td>0.0</td>\n      <td>0.0</td>\n      <td>0.000000</td>\n      <td>0.000000</td>\n      <td>0.000000</td>\n      <td>0.000000</td>\n      <td>0.000000</td>\n      <td>0.000000</td>\n      <td>0.0</td>\n      <td>0.0</td>\n    </tr>\n    <tr>\n      <th>2</th>\n      <td>2024-01-07 07:30:00</td>\n      <td>4jZXkSNgTQKCDb36ECZ6a2aNzcUniGcDeXgTdtM2HxAX</td>\n      <td>6.889992e-06</td>\n      <td>6.889992e-06</td>\n      <td>6.997350e-06</td>\n      <td>flat</td>\n      <td>6</td>\n      <td>7</td>\n      <td>1.000000</td>\n      <td>1.000000</td>\n      <td>...</td>\n      <td>0.0</td>\n      <td>0.0</td>\n      <td>0.000000</td>\n      <td>0.000000</td>\n      <td>0.000000</td>\n      <td>0.000000</td>\n      <td>0.000000</td>\n      <td>0.000000</td>\n      <td>0.0</td>\n      <td>0.0</td>\n    </tr>\n    <tr>\n      <th>3</th>\n      <td>2024-01-07 07:30:00</td>\n      <td>7EYnhQoR9YM3N7UoaKRoA44Uy8JeaZV3qyouov87awMs</td>\n      <td>8.339724e-04</td>\n      <td>8.339724e-04</td>\n      <td>8.282076e-04</td>\n      <td>flat</td>\n      <td>6</td>\n      <td>7</td>\n      <td>1.000000</td>\n      <td>1.000000</td>\n      <td>...</td>\n      <td>0.0</td>\n      <td>0.0</td>\n      <td>0.000000</td>\n      <td>0.000000</td>\n      <td>0.000000</td>\n      <td>0.000000</td>\n      <td>0.000000</td>\n      <td>0.000000</td>\n      <td>0.0</td>\n      <td>0.0</td>\n    </tr>\n    <tr>\n      <th>4</th>\n      <td>2024-01-07 07:30:00</td>\n      <td>7iT1GRYYhEop2nV1dyCwK2MGyLmPHq47WhPGSwiqcUg5</td>\n      <td>2.060321e-06</td>\n      <td>2.060321e-06</td>\n      <td>2.041177e-06</td>\n      <td>flat</td>\n      <td>6</td>\n      <td>7</td>\n      <td>1.000000</td>\n      <td>1.000000</td>\n      <td>...</td>\n      <td>0.0</td>\n      <td>0.0</td>\n      <td>0.000000</td>\n      <td>0.000000</td>\n      <td>0.000000</td>\n      <td>0.000000</td>\n      <td>0.000000</td>\n      <td>0.000000</td>\n      <td>0.0</td>\n      <td>0.0</td>\n    </tr>\n    <tr>\n      <th>...</th>\n      <td>...</td>\n      <td>...</td>\n      <td>...</td>\n      <td>...</td>\n      <td>...</td>\n      <td>...</td>\n      <td>...</td>\n      <td>...</td>\n      <td>...</td>\n      <td>...</td>\n      <td>...</td>\n      <td>...</td>\n      <td>...</td>\n      <td>...</td>\n      <td>...</td>\n      <td>...</td>\n      <td>...</td>\n      <td>...</td>\n      <td>...</td>\n      <td>...</td>\n      <td>...</td>\n    </tr>\n    <tr>\n      <th>1489</th>\n      <td>2024-01-07 19:10:00</td>\n      <td>GACxkcy9WDWHhB15oKLHp3PPzQV4zLt2m7dcGPoZLkZY</td>\n      <td>6.857340e-07</td>\n      <td>6.857340e-07</td>\n      <td>7.076977e-07</td>\n      <td>flat</td>\n      <td>6</td>\n      <td>19</td>\n      <td>1.060451</td>\n      <td>1.081264</td>\n      <td>...</td>\n      <td>0.0</td>\n      <td>0.0</td>\n      <td>2.337759</td>\n      <td>2.911189</td>\n      <td>8.592461</td>\n      <td>9.471527</td>\n      <td>40.373643</td>\n      <td>20.023869</td>\n      <td>0.0</td>\n      <td>0.0</td>\n    </tr>\n    <tr>\n      <th>1490</th>\n      <td>2024-01-07 19:10:00</td>\n      <td>HhJpBhRRn4g56VsyLuT8DL5Bv31HkXqsrahTTUCZeZg4</td>\n      <td>6.120961e-04</td>\n      <td>6.120961e-04</td>\n      <td>6.016473e-04</td>\n      <td>flat</td>\n      <td>6</td>\n      <td>19</td>\n      <td>0.990933</td>\n      <td>1.001669</td>\n      <td>...</td>\n      <td>0.0</td>\n      <td>0.0</td>\n      <td>14.299265</td>\n      <td>13.156799</td>\n      <td>65.647327</td>\n      <td>63.822179</td>\n      <td>334.487863</td>\n      <td>366.372004</td>\n      <td>0.0</td>\n      <td>0.0</td>\n    </tr>\n    <tr>\n      <th>1491</th>\n      <td>2024-01-07 19:10:00</td>\n      <td>J1toso1uCk3RLmjorhTtrVwY9HJ7X8V9yYac6Y7kGCPn</td>\n      <td>1.080139e+00</td>\n      <td>1.080139e+00</td>\n      <td>1.081075e+00</td>\n      <td>flat</td>\n      <td>6</td>\n      <td>19</td>\n      <td>1.000808</td>\n      <td>1.001593</td>\n      <td>...</td>\n      <td>0.0</td>\n      <td>0.0</td>\n      <td>7.931988</td>\n      <td>9.851784</td>\n      <td>26.724484</td>\n      <td>36.172345</td>\n      <td>111.284674</td>\n      <td>81.029398</td>\n      <td>0.0</td>\n      <td>0.0</td>\n    </tr>\n    <tr>\n      <th>1492</th>\n      <td>2024-01-07 19:10:00</td>\n      <td>LFG1ezantSY2LPX8jRz2qa31pPEhpwN9msFDzZw4T9Q</td>\n      <td>3.643782e-07</td>\n      <td>3.643782e-07</td>\n      <td>3.687017e-07</td>\n      <td>flat</td>\n      <td>6</td>\n      <td>19</td>\n      <td>1.087314</td>\n      <td>1.071184</td>\n      <td>...</td>\n      <td>0.0</td>\n      <td>0.0</td>\n      <td>7.457702</td>\n      <td>8.177207</td>\n      <td>22.801295</td>\n      <td>44.040176</td>\n      <td>61.994156</td>\n      <td>28.783095</td>\n      <td>0.0</td>\n      <td>0.0</td>\n    </tr>\n    <tr>\n      <th>1493</th>\n      <td>2024-01-07 19:10:00</td>\n      <td>mSoLzYCxHdYgdzU16g5QSh3i5K3z3KZK7ytfqcJm7So</td>\n      <td>1.158604e+00</td>\n      <td>1.158604e+00</td>\n      <td>1.158888e+00</td>\n      <td>flat</td>\n      <td>6</td>\n      <td>19</td>\n      <td>1.000198</td>\n      <td>1.000203</td>\n      <td>...</td>\n      <td>0.0</td>\n      <td>0.0</td>\n      <td>6.185614</td>\n      <td>5.599093</td>\n      <td>82.400008</td>\n      <td>164.631857</td>\n      <td>110.701865</td>\n      <td>88.372395</td>\n      <td>0.0</td>\n      <td>0.0</td>\n    </tr>\n  </tbody>\n</table>\n<p>1494 rows × 44 columns</p>\n</div>"
     },
     "execution_count": 9,
     "metadata": {},
     "output_type": "execute_result"
    }
   ],
   "source": [
    "train_test_dataset"
   ],
   "metadata": {
    "collapsed": false,
    "ExecuteTime": {
     "end_time": "2024-01-07T20:25:57.433386Z",
     "start_time": "2024-01-07T20:25:57.406430Z"
    }
   },
   "id": "ab86e197b0b04654"
  },
  {
   "cell_type": "code",
   "execution_count": 10,
   "outputs": [
    {
     "name": "stdout",
     "output_type": "stream",
     "text": [
      "feature_names: ['day_of_week', 'hour', 'u_price_sma_10m', 'u_price_ema_10m', 'u_price_rsi_10m', 'u_price_sma_1h', 'u_price_ema_1h', 'u_price_rsi_1h', 'u_price_sma_4h', 'u_price_ema_4h', 'u_price_rsi_4h', 'u_price_sma_1d', 'u_price_ema_1d', 'u_price_rsi_1d', 'sma_vol_buy_10m', 'ema_vol_buy_10m', 'sma_vol_buy_1h', 'ema_vol_buy_1h', 'sma_vol_buy_4h', 'ema_vol_buy_4h', 'sma_vol_buy_1d', 'ema_vol_buy_1d', 'sma_vol_sell_10m', 'ema_vol_sell_10m', 'sma_vol_sell_1h', 'ema_vol_sell_1h', 'sma_vol_sell_4h', 'ema_vol_sell_4h', 'sma_vol_sell_1d', 'ema_vol_sell_1d', 'sma_vol_sum_10m', 'ema_vol_sum_10m', 'sma_vol_sum_1h', 'ema_vol_sum_1h', 'sma_vol_sum_4h', 'ema_vol_sum_4h', 'sma_vol_sum_1d', 'ema_vol_sum_1d']\n"
     ]
    }
   ],
   "source": [
    "column_names = list(train_test_dataset.columns)\n",
    "# feature names start after 'label'\n",
    "label_index = column_names.index('label')\n",
    "feature_names = column_names[label_index+1:]\n",
    "print(f\"feature_names: {feature_names}\")"
   ],
   "metadata": {
    "collapsed": false,
    "ExecuteTime": {
     "end_time": "2024-01-07T20:25:58.062925Z",
     "start_time": "2024-01-07T20:25:58.038317Z"
    }
   },
   "id": "34b9df2488215da7"
  },
  {
   "cell_type": "code",
   "execution_count": 11,
   "outputs": [
    {
     "name": "stdout",
     "output_type": "stream",
     "text": [
      "train [2024-01-07 07:30:00; 2024-01-07 14:47:30)\n",
      "test [2024-01-07 15:47:30; 2024-01-07 17:15:00)\n",
      "train_data (831) [2024-01-07 07:30:00; 2024-01-07 14:40:00]\n",
      "test_data (234) [2024-01-07 15:50:00 to 2024-01-07 17:10:00]\n",
      "train [2024-01-07 07:30:00; 2024-01-07 16:15:00)\n",
      "test [2024-01-07 17:15:00; 2024-01-07 18:42:30)\n",
      "train_data (1048) [2024-01-07 07:30:00; 2024-01-07 16:10:00]\n",
      "test_data (217) [2024-01-07 17:20:00 to 2024-01-07 18:40:00]\n",
      "train [2024-01-07 07:30:00; 2024-01-07 17:42:30)\n",
      "test [2024-01-07 18:42:30; 2024-01-07 20:10:00)\n",
      "train_data (1277) [2024-01-07 07:30:00; 2024-01-07 17:40:00]\n",
      "test_data (68) [2024-01-07 18:50:00 to 2024-01-07 19:10:00]\n"
     ]
    }
   ],
   "source": [
    "import pandas as pd\n",
    "from catboost import CatBoostClassifier, Pool\n",
    "from sklearn.model_selection import TimeSeriesSplit\n",
    "from sklearn.metrics import confusion_matrix\n",
    "import matplotlib.pyplot as plt\n",
    "import seaborn as sns\n",
    "\n",
    "# Convert 'mint' to a categorical feature\n",
    "# train_test_dataset['mint'] = train_test_dataset['mint'].astype('category')\n",
    "\n",
    "# Define features and target\n",
    "# feature_names = ['mint', 'hour', 'trades', 'token_volume', 'sol_volume', 'price'] + list(features.columns[2:])\n",
    "# cat_feature_names = ['mint']\n",
    "# feature_names = ['trades', 'token_volume', 'sol_volume', 'price'] + list(features.columns[2:])\n",
    "cat_feature_names = []\n",
    "target = 'label'\n",
    "\n",
    "# Initialize CatBoost Classifier\n",
    "model = CatBoostClassifier(loss_function='MultiClass', verbose=False)\n",
    "\n",
    "# TimeSeriesSplit for cross-validation\n",
    "nsplits = 3\n",
    "\n",
    "# To store predictions and actuals\n",
    "actuals = []\n",
    "raw_predictions = []\n",
    "up_probabilities = []\n",
    "down_probabilities = []\n",
    "details_df = pd.DataFrame() \n",
    "train_len = 0\n",
    "up_train_len = 0\n",
    "\n",
    "def split_tscv(ordered_df, nsplits):\n",
    "    min_quant = ordered_df['time_quant'].min()\n",
    "    max_quant = ordered_df['time_quant'].max()\n",
    "    range_quant = (max_quant - min_quant) / (nsplits + 1) / 2\n",
    "    for i in range(nsplits):\n",
    "        train_start = min_quant \n",
    "        train_end = min_quant + (i + 1) * range_quant + (max_quant - min_quant) / 2\n",
    "        test_start = train_end + PREDICTION_TIMEDELTA\n",
    "        test_end = test_start + range_quant\n",
    "        print(f'train [{train_start}; {train_end})\\ntest [{test_start}; {test_end})')\n",
    "        train_df = ordered_df[(ordered_df['time_quant'] >= train_start) & (ordered_df['time_quant'] < train_end)]\n",
    "        test_df = ordered_df[(ordered_df['time_quant'] >= test_start) & (ordered_df['time_quant'] < test_end)]\n",
    "        yield train_df, test_df\n",
    "    \n",
    "    \n",
    "split_tscv(train_test_dataset, nsplits)\n",
    "\n",
    "for train_data, test_data in split_tscv(train_test_dataset, nsplits):\n",
    "    print(f'train_data ({len(train_data)}) [{min(train_data[\"time_quant\"])}; {max(train_data[\"time_quant\"])}]')\n",
    "    if len(test_data) == 0:\n",
    "        print(f'No data left for test data')\n",
    "        break\n",
    "    print(f'test_data ({len(test_data)}) [{min(test_data[\"time_quant\"])} to {max(test_data[\"time_quant\"])}]')\n",
    "\n",
    "    train_len += len(train_data)\n",
    "    up_train_len += len(train_data[train_data[target] == 'up'])\n",
    "\n",
    "    # Create Pool\n",
    "    train_pool = Pool(data=train_data[feature_names], label=train_data[target], cat_features=cat_feature_names)\n",
    "    test_pool = Pool(data=test_data[feature_names], label=test_data[target], cat_features=cat_feature_names)\n",
    "\n",
    "    # Train model\n",
    "    model.fit(train_pool)\n",
    "\n",
    "    # Predict\n",
    "    classes = model.classes_\n",
    "    probs = model.predict_proba(test_pool)\n",
    "    classes_to_index = {c: i for i, c in enumerate(classes)}\n",
    "    \n",
    "    for probs_row in probs:\n",
    "        raw_predictions.append(classes[probs_row.argmax()])\n",
    "        up_probabilities.append(probs_row[classes_to_index['up']])\n",
    "        down_probabilities.append(probs_row[classes_to_index['down']])\n",
    "\n",
    "    actuals.extend(test_data[target].values)\n",
    "    if len(details_df) == 0:\n",
    "        details_df = test_data\n",
    "    else:\n",
    "        details_df = pd.concat([details_df, test_data])\n",
    "    \n"
   ],
   "metadata": {
    "collapsed": false,
    "ExecuteTime": {
     "end_time": "2024-01-07T20:26:09.548696Z",
     "start_time": "2024-01-07T20:25:59.143930Z"
    }
   },
   "id": "62eb4dc2618fa53e"
  },
  {
   "cell_type": "code",
   "execution_count": 14,
   "outputs": [
    {
     "name": "stdout",
     "output_type": "stream",
     "text": [
      "desired_up_amount: 31 of 26\n",
      "up_threshold: 0.2691145184331763\n",
      "pred len 519, actuals len 519, comparison_df len 519, details len 519, results_df len 519\n",
      "Confusion Matrix:\n",
      "       up  flat  down\n",
      "up     9    14     3\n",
      "flat  12   413     8\n",
      "down  11    39    10\n",
      "ROI1: 71.25% of 100%\n",
      "ROI2: 33.75% of 100%\n",
      "Bench ROI2: 6.01% of 100%\n",
      "Used: 6.17% (32 of 519 trades)\n",
      "\n",
      "purchased upsides: 1.1142472656370734, top 10 upsides ['3', '3', '2', '2', '1', '1', '1', '1', '1', '1']\n",
      "all upsides: 0.97818479701497, top 10 upsides ['3', '3', '2', '2', '2', '2', '2', '1', '1', '1']\n"
     ]
    }
   ],
   "source": [
    "import numpy as np\n",
    "\n",
    "desired_up_amount = int(up_train_len * 1. / train_len * len(actuals) * 0.9)\n",
    "print(f\"desired_up_amount: {desired_up_amount} of {actuals.count('up')}\")\n",
    "\n",
    "delta_probabilities = list(np.array(up_probabilities) - np.array(down_probabilities) / CHANGE_MAGNITUDE)\n",
    "\n",
    "up_threshold = sorted(delta_probabilities, reverse=True)[desired_up_amount]\n",
    "print(f\"up_threshold: {up_threshold}\")\n",
    "\n",
    "predictions = []\n",
    "for raw_pred, up_prob in zip(raw_predictions, delta_probabilities):\n",
    "    if up_prob < up_threshold:\n",
    "        predictions.append(raw_pred if raw_pred != 'up' else 'flat')\n",
    "    else:\n",
    "        predictions.append('up')\n",
    "\n",
    "# Confusion Matrix\n",
    "conf_matrix = confusion_matrix(actuals, predictions, labels=['up', 'flat', 'down'])\n",
    "conf_matrix_df = pd.DataFrame(conf_matrix, index=['up', 'flat', 'down'], columns=['up', 'flat', 'down'])\n",
    "\n",
    "# Last iteration's predictions and actuals\n",
    "comparison_df = pd.DataFrame({'Actual': actuals, 'Predicted': predictions, 'UpP': up_probabilities, 'DownP': down_probabilities})\n",
    "# comparison_df = comparison_df.reset_index(drop=True)\n",
    "\n",
    "# add details to results_df\n",
    "results_df = pd.concat([comparison_df.reset_index(drop=True), details_df.reset_index(drop=True)], axis=1)\n",
    "print(f\"pred len {len(predictions)}, actuals len {len(actuals)}, \"\n",
    "      f\"comparison_df len {len(comparison_df)}, details len {len(details_df)}, results_df len {len(results_df)}\")\n",
    "\n",
    "#join prices to results_df\n",
    "# results_df = results_df.join(prices[['mint', 'hour', 'price'+prediction_type['suffix']]].set_index(['mint', 'hour']), on=['mint', 'hour'])\n",
    "results_df['upside'] = results_df['sell_price'] / results_df['buy_price']\n",
    "# if price is inf, set upside to 0\n",
    "results_df['upside'] = results_df['upside'].replace([np.inf, -np.inf], 1)\n",
    "\n",
    "purchased_upsides = results_df[(results_df['Predicted']=='up')]['upside']\n",
    "all_upsides = results_df['upside']\n",
    "\n",
    "\n",
    "# Output\n",
    "print(\"Confusion Matrix:\\n\", conf_matrix_df)\n",
    "print(\"ROI1: %.2f%% of 100%%\\n\"\n",
    "      \"ROI2: %.2f%% of 100%%\\n\"\n",
    "      \"Bench ROI2: %.2f%% of 100%%\\n\"\n",
    "      \"Used: %.2f%% (%d of %d trades)\\n\"\n",
    "      %(\n",
    "        (100 * (CHANGE_MAGNITUDE * 1. * conf_matrix_df.loc['up', 'up'].sum() + conf_matrix_df.loc['flat', 'up'].sum()) / conf_matrix_df.loc[:, 'up'].sum()),\n",
    "        (100 * (CHANGE_MAGNITUDE * 1. * conf_matrix_df.loc['up', 'up'].sum()) / conf_matrix_df.loc[:, 'up'].sum()),\n",
    "        (100 * (CHANGE_MAGNITUDE * 1. * conf_matrix_df.loc['up', :].sum()) / conf_matrix_df.loc[:, :].sum().sum()),\n",
    "        (100 * (1. * conf_matrix_df.loc[:, 'up'].sum()) / conf_matrix_df.loc[:, :].sum().sum()),\n",
    "        conf_matrix_df.loc[:, 'up'].sum(),\n",
    "        conf_matrix_df.loc[:, :].sum().sum(),\n",
    "      )\n",
    "      )\n",
    "print(f'purchased upsides: {purchased_upsides.mean()}, top 10 upsides {[\"%.0f\" % u for u in list(purchased_upsides.sort_values(ascending=False).head(10))]}')\n",
    "print(f'all upsides: {all_upsides.mean()}, top 10 upsides {[\"%.0f\" % u for u in list(all_upsides.sort_values(ascending=False).head(10))]}')"
   ],
   "metadata": {
    "collapsed": false,
    "ExecuteTime": {
     "end_time": "2024-01-07T20:26:37.215773Z",
     "start_time": "2024-01-07T20:26:37.208727Z"
    }
   },
   "id": "fef1b11c7c2205ff"
  },
  {
   "cell_type": "code",
   "execution_count": 18,
   "outputs": [
    {
     "name": "stdout",
     "output_type": "stream",
     "text": [
      "Confusion Matrix:\n",
      "       up  flat  down\n",
      "up     0     3     0\n",
      "flat   8   522     0\n",
      "down   0    13     0\n",
      "ROI1: 100.00% of 100%\n",
      "ROI2: 0.00% of 100%\n",
      "Bench ROI2: 1.10% of 100%\n",
      "Used: 1.47% (8 of 546 trades)\n",
      "\n",
      "purchased upsides: 1.2331037495665522, top 10 upsides ['2', '2', '2', '1', '1', '1', '1', '1']\n",
      "all upsides: 0.9811525962765717, top 10 upsides ['3', '3', '2', '2', '2', '2', '2', '2', '1', '1']\n"
     ]
    }
   ],
   "source": [
    "print(\"Confusion Matrix:\\n\", conf_matrix_df)\n",
    "print(\"ROI1: %.2f%% of 100%%\\n\"\n",
    "      \"ROI2: %.2f%% of 100%%\\n\"\n",
    "      \"Bench ROI2: %.2f%% of 100%%\\n\"\n",
    "      \"Used: %.2f%% (%d of %d trades)\\n\"\n",
    "      %(\n",
    "        (100 * (CHANGE_MAGNITUDE * 1. * conf_matrix_df.loc['up', 'up'].sum() + conf_matrix_df.loc['flat', 'up'].sum()) / conf_matrix_df.loc[:, 'up'].sum()),\n",
    "        (100 * (CHANGE_MAGNITUDE * 1. * conf_matrix_df.loc['up', 'up'].sum()) / conf_matrix_df.loc[:, 'up'].sum()),\n",
    "        (100 * (CHANGE_MAGNITUDE * 1. * conf_matrix_df.loc['up', :].sum()) / conf_matrix_df.loc[:, :].sum().sum()),\n",
    "        (100 * (1. * conf_matrix_df.loc[:, 'up'].sum()) / conf_matrix_df.loc[:, :].sum().sum()),\n",
    "        conf_matrix_df.loc[:, 'up'].sum(),\n",
    "        conf_matrix_df.loc[:, :].sum().sum(),\n",
    "      )\n",
    "      )\n",
    "print(f'purchased upsides: {purchased_upsides.mean()}, top 10 upsides {[\"%.0f\" % u for u in list(purchased_upsides.sort_values(ascending=False).head(10))]}')\n",
    "print(f'all upsides: {all_upsides.mean()}, top 10 upsides {[\"%.0f\" % u for u in list(all_upsides.sort_values(ascending=False).head(10))]}')"
   ],
   "metadata": {
    "collapsed": false,
    "ExecuteTime": {
     "end_time": "2024-01-07T20:04:40.250451Z",
     "start_time": "2024-01-07T20:04:40.243186Z"
    }
   },
   "id": "94a5c8e242f78fdf"
  },
  {
   "cell_type": "code",
   "execution_count": 19,
   "outputs": [
    {
     "data": {
      "text/plain": "          Feature Id  Importances\n0    u_price_rsi_10m    12.316405\n1    u_price_ema_10m     8.639839\n2    ema_vol_sum_10m     8.200553\n3    u_price_sma_10m     7.705218\n4     u_price_sma_1h     6.564212\n5               hour     5.822946\n6   ema_vol_sell_10m     5.331273\n7     u_price_sma_4h     4.247515\n8     u_price_ema_4h     3.572563\n9   sma_vol_sell_10m     3.295116\n10   sma_vol_sum_10m     3.206007\n11   ema_vol_buy_10m     2.893315\n12    u_price_ema_1h     2.886441\n13   sma_vol_sell_4h     2.594346\n14   ema_vol_sell_1h     2.508983\n15    u_price_rsi_1h     2.490626\n16    ema_vol_sum_1h     1.983800\n17   sma_vol_sell_1h     1.931475\n18    sma_vol_buy_4h     1.867936\n19   sma_vol_buy_10m     1.819378\n20   ema_vol_sell_4h     1.764819\n21    ema_vol_buy_4h     1.693816\n22    sma_vol_sum_4h     1.226245\n23    sma_vol_sum_1h     1.209325\n24    ema_vol_sum_4h     1.204670\n25    ema_vol_buy_1h     1.202081\n26    u_price_rsi_4h     1.165471\n27    sma_vol_buy_1h     0.655629\n28       day_of_week     0.000000\n29    u_price_sma_1d     0.000000\n30    u_price_ema_1d     0.000000\n31    u_price_rsi_1d     0.000000\n32    sma_vol_buy_1d     0.000000\n33    ema_vol_buy_1d     0.000000\n34   sma_vol_sell_1d     0.000000\n35   ema_vol_sell_1d     0.000000\n36    sma_vol_sum_1d     0.000000\n37    ema_vol_sum_1d     0.000000",
      "text/html": "<div>\n<style scoped>\n    .dataframe tbody tr th:only-of-type {\n        vertical-align: middle;\n    }\n\n    .dataframe tbody tr th {\n        vertical-align: top;\n    }\n\n    .dataframe thead th {\n        text-align: right;\n    }\n</style>\n<table border=\"1\" class=\"dataframe\">\n  <thead>\n    <tr style=\"text-align: right;\">\n      <th></th>\n      <th>Feature Id</th>\n      <th>Importances</th>\n    </tr>\n  </thead>\n  <tbody>\n    <tr>\n      <th>0</th>\n      <td>u_price_rsi_10m</td>\n      <td>12.316405</td>\n    </tr>\n    <tr>\n      <th>1</th>\n      <td>u_price_ema_10m</td>\n      <td>8.639839</td>\n    </tr>\n    <tr>\n      <th>2</th>\n      <td>ema_vol_sum_10m</td>\n      <td>8.200553</td>\n    </tr>\n    <tr>\n      <th>3</th>\n      <td>u_price_sma_10m</td>\n      <td>7.705218</td>\n    </tr>\n    <tr>\n      <th>4</th>\n      <td>u_price_sma_1h</td>\n      <td>6.564212</td>\n    </tr>\n    <tr>\n      <th>5</th>\n      <td>hour</td>\n      <td>5.822946</td>\n    </tr>\n    <tr>\n      <th>6</th>\n      <td>ema_vol_sell_10m</td>\n      <td>5.331273</td>\n    </tr>\n    <tr>\n      <th>7</th>\n      <td>u_price_sma_4h</td>\n      <td>4.247515</td>\n    </tr>\n    <tr>\n      <th>8</th>\n      <td>u_price_ema_4h</td>\n      <td>3.572563</td>\n    </tr>\n    <tr>\n      <th>9</th>\n      <td>sma_vol_sell_10m</td>\n      <td>3.295116</td>\n    </tr>\n    <tr>\n      <th>10</th>\n      <td>sma_vol_sum_10m</td>\n      <td>3.206007</td>\n    </tr>\n    <tr>\n      <th>11</th>\n      <td>ema_vol_buy_10m</td>\n      <td>2.893315</td>\n    </tr>\n    <tr>\n      <th>12</th>\n      <td>u_price_ema_1h</td>\n      <td>2.886441</td>\n    </tr>\n    <tr>\n      <th>13</th>\n      <td>sma_vol_sell_4h</td>\n      <td>2.594346</td>\n    </tr>\n    <tr>\n      <th>14</th>\n      <td>ema_vol_sell_1h</td>\n      <td>2.508983</td>\n    </tr>\n    <tr>\n      <th>15</th>\n      <td>u_price_rsi_1h</td>\n      <td>2.490626</td>\n    </tr>\n    <tr>\n      <th>16</th>\n      <td>ema_vol_sum_1h</td>\n      <td>1.983800</td>\n    </tr>\n    <tr>\n      <th>17</th>\n      <td>sma_vol_sell_1h</td>\n      <td>1.931475</td>\n    </tr>\n    <tr>\n      <th>18</th>\n      <td>sma_vol_buy_4h</td>\n      <td>1.867936</td>\n    </tr>\n    <tr>\n      <th>19</th>\n      <td>sma_vol_buy_10m</td>\n      <td>1.819378</td>\n    </tr>\n    <tr>\n      <th>20</th>\n      <td>ema_vol_sell_4h</td>\n      <td>1.764819</td>\n    </tr>\n    <tr>\n      <th>21</th>\n      <td>ema_vol_buy_4h</td>\n      <td>1.693816</td>\n    </tr>\n    <tr>\n      <th>22</th>\n      <td>sma_vol_sum_4h</td>\n      <td>1.226245</td>\n    </tr>\n    <tr>\n      <th>23</th>\n      <td>sma_vol_sum_1h</td>\n      <td>1.209325</td>\n    </tr>\n    <tr>\n      <th>24</th>\n      <td>ema_vol_sum_4h</td>\n      <td>1.204670</td>\n    </tr>\n    <tr>\n      <th>25</th>\n      <td>ema_vol_buy_1h</td>\n      <td>1.202081</td>\n    </tr>\n    <tr>\n      <th>26</th>\n      <td>u_price_rsi_4h</td>\n      <td>1.165471</td>\n    </tr>\n    <tr>\n      <th>27</th>\n      <td>sma_vol_buy_1h</td>\n      <td>0.655629</td>\n    </tr>\n    <tr>\n      <th>28</th>\n      <td>day_of_week</td>\n      <td>0.000000</td>\n    </tr>\n    <tr>\n      <th>29</th>\n      <td>u_price_sma_1d</td>\n      <td>0.000000</td>\n    </tr>\n    <tr>\n      <th>30</th>\n      <td>u_price_ema_1d</td>\n      <td>0.000000</td>\n    </tr>\n    <tr>\n      <th>31</th>\n      <td>u_price_rsi_1d</td>\n      <td>0.000000</td>\n    </tr>\n    <tr>\n      <th>32</th>\n      <td>sma_vol_buy_1d</td>\n      <td>0.000000</td>\n    </tr>\n    <tr>\n      <th>33</th>\n      <td>ema_vol_buy_1d</td>\n      <td>0.000000</td>\n    </tr>\n    <tr>\n      <th>34</th>\n      <td>sma_vol_sell_1d</td>\n      <td>0.000000</td>\n    </tr>\n    <tr>\n      <th>35</th>\n      <td>ema_vol_sell_1d</td>\n      <td>0.000000</td>\n    </tr>\n    <tr>\n      <th>36</th>\n      <td>sma_vol_sum_1d</td>\n      <td>0.000000</td>\n    </tr>\n    <tr>\n      <th>37</th>\n      <td>ema_vol_sum_1d</td>\n      <td>0.000000</td>\n    </tr>\n  </tbody>\n</table>\n</div>"
     },
     "execution_count": 19,
     "metadata": {},
     "output_type": "execute_result"
    }
   ],
   "source": [
    "# feature importance\n",
    "model.get_feature_importance(prettified=True)"
   ],
   "metadata": {
    "collapsed": false,
    "ExecuteTime": {
     "end_time": "2024-01-07T20:04:43.201582Z",
     "start_time": "2024-01-07T20:04:43.186479Z"
    }
   },
   "id": "aa3a8642a70c940b"
  },
  {
   "cell_type": "code",
   "execution_count": 25,
   "outputs": [
    {
     "data": {
      "text/plain": "Empty DataFrame\nColumns: [mint, time_quant, price, buy_price, sell_price, upside]\nIndex: []",
      "text/html": "<div>\n<style scoped>\n    .dataframe tbody tr th:only-of-type {\n        vertical-align: middle;\n    }\n\n    .dataframe tbody tr th {\n        vertical-align: top;\n    }\n\n    .dataframe thead th {\n        text-align: right;\n    }\n</style>\n<table border=\"1\" class=\"dataframe\">\n  <thead>\n    <tr style=\"text-align: right;\">\n      <th></th>\n      <th>mint</th>\n      <th>time_quant</th>\n      <th>price</th>\n      <th>buy_price</th>\n      <th>sell_price</th>\n      <th>upside</th>\n    </tr>\n  </thead>\n  <tbody>\n  </tbody>\n</table>\n</div>"
     },
     "execution_count": 25,
     "metadata": {},
     "output_type": "execute_result"
    }
   ],
   "source": [
    "# what was guessed correctly\n",
    "guessed = results_df[(results_df['Actual']=='up') & (results_df['Predicted']=='up')].sort_values(by=['time_quant', 'mint'], ascending=False)\n",
    "guessed[['mint', 'time_quant', 'price', 'buy_price', 'sell_price', 'upside']]"
   ],
   "metadata": {
    "collapsed": false,
    "ExecuteTime": {
     "end_time": "2024-01-07T20:10:54.179039Z",
     "start_time": "2024-01-07T20:10:54.162678Z"
    }
   },
   "id": "610d77d03127299e"
  },
  {
   "cell_type": "code",
   "execution_count": 151,
   "outputs": [
    {
     "data": {
      "text/plain": "count                                                1\nunique                                               1\ntop       14JnYcbAooDAZVb72DgmFGVZGDon5Ko4SN6ELrpU6ood\nfreq                                                 1\nName: mint, dtype: object"
     },
     "execution_count": 151,
     "metadata": {},
     "output_type": "execute_result"
    }
   ],
   "source": [
    "guessed.mint.describe()"
   ],
   "metadata": {
    "collapsed": false,
    "ExecuteTime": {
     "end_time": "2024-01-04T13:18:12.134111Z",
     "start_time": "2024-01-04T13:18:12.125494Z"
    }
   },
   "id": "eb5aa523d3a36f3b"
  },
  {
   "cell_type": "code",
   "execution_count": 26,
   "outputs": [
    {
     "data": {
      "text/plain": "                                             mint          time_quant  \\\n441  HoXqxVbmnVKvRM2DS58ivipKx8bzPN5Nv1e3ZnKzxVDR 2024-01-07 18:00:00   \n416  HoXqxVbmnVKvRM2DS58ivipKx8bzPN5Nv1e3ZnKzxVDR 2024-01-07 17:50:00   \n389  HoXqxVbmnVKvRM2DS58ivipKx8bzPN5Nv1e3ZnKzxVDR 2024-01-07 17:40:00   \n365  HoXqxVbmnVKvRM2DS58ivipKx8bzPN5Nv1e3ZnKzxVDR 2024-01-07 17:30:00   \n340  HoXqxVbmnVKvRM2DS58ivipKx8bzPN5Nv1e3ZnKzxVDR 2024-01-07 17:20:00   \n315  HoXqxVbmnVKvRM2DS58ivipKx8bzPN5Nv1e3ZnKzxVDR 2024-01-07 17:10:00   \n290  HoXqxVbmnVKvRM2DS58ivipKx8bzPN5Nv1e3ZnKzxVDR 2024-01-07 17:00:00   \n259  HoXqxVbmnVKvRM2DS58ivipKx8bzPN5Nv1e3ZnKzxVDR 2024-01-07 16:50:00   \n\n            price     buy_price    sell_price    upside  \n441  1.149847e-06  1.149847e-06  8.783024e-07  0.763843  \n416  1.367898e-06  1.367898e-06  9.869638e-07  0.721519  \n389  5.948328e-07  5.948328e-07  1.087740e-06  1.828648  \n365  7.157571e-07  7.157571e-07  1.059672e-06  1.480491  \n340  6.499731e-07  6.499731e-07  1.017298e-06  1.565139  \n315  6.067764e-07  6.067764e-07  9.380257e-07  1.545917  \n290  7.073857e-07  7.073857e-07  8.475140e-07  1.198093  \n259  1.016539e-06  1.016539e-06  7.737705e-07  0.761181  ",
      "text/html": "<div>\n<style scoped>\n    .dataframe tbody tr th:only-of-type {\n        vertical-align: middle;\n    }\n\n    .dataframe tbody tr th {\n        vertical-align: top;\n    }\n\n    .dataframe thead th {\n        text-align: right;\n    }\n</style>\n<table border=\"1\" class=\"dataframe\">\n  <thead>\n    <tr style=\"text-align: right;\">\n      <th></th>\n      <th>mint</th>\n      <th>time_quant</th>\n      <th>price</th>\n      <th>buy_price</th>\n      <th>sell_price</th>\n      <th>upside</th>\n    </tr>\n  </thead>\n  <tbody>\n    <tr>\n      <th>441</th>\n      <td>HoXqxVbmnVKvRM2DS58ivipKx8bzPN5Nv1e3ZnKzxVDR</td>\n      <td>2024-01-07 18:00:00</td>\n      <td>1.149847e-06</td>\n      <td>1.149847e-06</td>\n      <td>8.783024e-07</td>\n      <td>0.763843</td>\n    </tr>\n    <tr>\n      <th>416</th>\n      <td>HoXqxVbmnVKvRM2DS58ivipKx8bzPN5Nv1e3ZnKzxVDR</td>\n      <td>2024-01-07 17:50:00</td>\n      <td>1.367898e-06</td>\n      <td>1.367898e-06</td>\n      <td>9.869638e-07</td>\n      <td>0.721519</td>\n    </tr>\n    <tr>\n      <th>389</th>\n      <td>HoXqxVbmnVKvRM2DS58ivipKx8bzPN5Nv1e3ZnKzxVDR</td>\n      <td>2024-01-07 17:40:00</td>\n      <td>5.948328e-07</td>\n      <td>5.948328e-07</td>\n      <td>1.087740e-06</td>\n      <td>1.828648</td>\n    </tr>\n    <tr>\n      <th>365</th>\n      <td>HoXqxVbmnVKvRM2DS58ivipKx8bzPN5Nv1e3ZnKzxVDR</td>\n      <td>2024-01-07 17:30:00</td>\n      <td>7.157571e-07</td>\n      <td>7.157571e-07</td>\n      <td>1.059672e-06</td>\n      <td>1.480491</td>\n    </tr>\n    <tr>\n      <th>340</th>\n      <td>HoXqxVbmnVKvRM2DS58ivipKx8bzPN5Nv1e3ZnKzxVDR</td>\n      <td>2024-01-07 17:20:00</td>\n      <td>6.499731e-07</td>\n      <td>6.499731e-07</td>\n      <td>1.017298e-06</td>\n      <td>1.565139</td>\n    </tr>\n    <tr>\n      <th>315</th>\n      <td>HoXqxVbmnVKvRM2DS58ivipKx8bzPN5Nv1e3ZnKzxVDR</td>\n      <td>2024-01-07 17:10:00</td>\n      <td>6.067764e-07</td>\n      <td>6.067764e-07</td>\n      <td>9.380257e-07</td>\n      <td>1.545917</td>\n    </tr>\n    <tr>\n      <th>290</th>\n      <td>HoXqxVbmnVKvRM2DS58ivipKx8bzPN5Nv1e3ZnKzxVDR</td>\n      <td>2024-01-07 17:00:00</td>\n      <td>7.073857e-07</td>\n      <td>7.073857e-07</td>\n      <td>8.475140e-07</td>\n      <td>1.198093</td>\n    </tr>\n    <tr>\n      <th>259</th>\n      <td>HoXqxVbmnVKvRM2DS58ivipKx8bzPN5Nv1e3ZnKzxVDR</td>\n      <td>2024-01-07 16:50:00</td>\n      <td>1.016539e-06</td>\n      <td>1.016539e-06</td>\n      <td>7.737705e-07</td>\n      <td>0.761181</td>\n    </tr>\n  </tbody>\n</table>\n</div>"
     },
     "execution_count": 26,
     "metadata": {},
     "output_type": "execute_result"
    }
   ],
   "source": [
    "purchased = results_df[results_df['Predicted']=='up'].sort_values(by=['time_quant', 'mint'], ascending=False)\n",
    "purchased[['mint', 'time_quant', 'price', 'buy_price', 'sell_price', 'upside']].sort_values(by=['time_quant'], ascending=False)  "
   ],
   "metadata": {
    "collapsed": false,
    "ExecuteTime": {
     "end_time": "2024-01-07T20:11:08.644788Z",
     "start_time": "2024-01-07T20:11:08.638903Z"
    }
   },
   "id": "770de9eb31dcc677"
  },
  {
   "cell_type": "code",
   "execution_count": 195,
   "outputs": [
    {
     "data": {
      "text/plain": "count                                              150\nunique                                              71\ntop       87QbDz6Ze5B8L3PoGvqLyJ3JAydi39jNtvzXDEz7zbcK\nfreq                                                14\nName: mint, dtype: object"
     },
     "execution_count": 195,
     "metadata": {},
     "output_type": "execute_result"
    }
   ],
   "source": [
    "purchased.mint.describe()\n"
   ],
   "metadata": {
    "collapsed": false,
    "ExecuteTime": {
     "end_time": "2024-01-07T18:44:02.034183Z",
     "start_time": "2024-01-07T18:44:02.026727Z"
    }
   },
   "id": "8c7e3d155a4a0fba"
  },
  {
   "cell_type": "code",
   "execution_count": 154,
   "outputs": [
    {
     "data": {
      "text/plain": "count    7.000000\nmean     0.875333\nstd      0.923304\nmin      0.015222\n25%      0.070902\n50%      0.619517\n75%      1.590961\nmax      2.168864\nName: sma_vol_sum_1d, dtype: float64"
     },
     "execution_count": 154,
     "metadata": {},
     "output_type": "execute_result"
    }
   ],
   "source": [
    "results_df[results_df['Predicted']=='up'].sma_vol_sum_1d.describe()\n",
    "# fix negative volume\n"
   ],
   "metadata": {
    "collapsed": false,
    "ExecuteTime": {
     "end_time": "2024-01-04T13:18:14.158307Z",
     "start_time": "2024-01-04T13:18:14.150524Z"
    }
   },
   "id": "f29d45cc497bb320"
  },
  {
   "cell_type": "code",
   "execution_count": 155,
   "outputs": [
    {
     "data": {
      "text/plain": "Predicted\nflat    12864\ndown      441\nup          7\nName: count, dtype: int64"
     },
     "execution_count": 155,
     "metadata": {},
     "output_type": "execute_result"
    }
   ],
   "source": [
    "results_df['Predicted'].value_counts()"
   ],
   "metadata": {
    "collapsed": false,
    "ExecuteTime": {
     "end_time": "2024-01-04T13:18:15.135829Z",
     "start_time": "2024-01-04T13:18:15.113352Z"
    }
   },
   "id": "13102803fac1ca11"
  },
  {
   "cell_type": "code",
   "execution_count": 156,
   "outputs": [
    {
     "data": {
      "text/plain": "mint\nEPjFWdd5AufqSSqeM2qN1xzybapC8G4wEGGkZwyTDt1v    300\nEs9vMFrzaCERmJfrF4H2FYD4KCoNkY11McCe8BenwNYB    297\nDezXAZ8z7PnrnRJjz3wXBoRgixCa6xjnB7YaB1pPB263    280\n9gwTegFJJErDpWJKjPfLr2g2zrE3nL1v5zpwbtsk3c6P    273\nLFG1ezantSY2LPX8jRz2qa31pPEhpwN9msFDzZw4T9Q     271\n                                               ... \n5Gd5vzFS31oSb52Jegvncrhr5Bt4MGRHqz2NepyJZcHh      1\nF2mGAvcNr47h4Qx1W8TcvTWhGhA58b2hsHH4uYSZrGYL      1\nFjRUB1HafHsaGQxibEwKpQxXgVXbE4k3pw3XWqKLxAiX      1\nHCKZPSGLvUyWTWwPtmcL41fdR8dNgDmzgx11mgCihVkG      1\n7MAMEPQdexxy2z5sbohRqzcNAdRmrisnHnETq6yptjdo      1\nName: count, Length: 236, dtype: int64"
     },
     "execution_count": 156,
     "metadata": {},
     "output_type": "execute_result"
    }
   ],
   "source": [
    "results_df['mint'].value_counts()"
   ],
   "metadata": {
    "collapsed": false,
    "ExecuteTime": {
     "end_time": "2024-01-04T13:18:17.674586Z",
     "start_time": "2024-01-04T13:18:17.650010Z"
    }
   },
   "id": "498de5f3068d5ac4"
  },
  {
   "cell_type": "code",
   "execution_count": 116,
   "outputs": [
    {
     "data": {
      "text/plain": "      Actual Predicted          time_quant  \\\n165     flat      flat 2023-12-30 09:10:00   \n445     flat      flat 2023-12-30 10:30:00   \n598     flat      flat 2023-12-30 11:10:00   \n1098    flat      flat 2023-12-30 13:20:00   \n1358    flat      flat 2023-12-30 14:30:00   \n...      ...       ...                 ...   \n26648   flat      flat 2024-01-03 21:00:00   \n26804   flat      flat 2024-01-03 21:30:00   \n26914   flat      flat 2024-01-03 21:50:00   \n26976   flat      flat 2024-01-03 22:00:00   \n27510   flat      flat 2024-01-03 23:40:00   \n\n                                               mint     price  future_price  \\\n165    99fp2z9TANArLJR4hcwx8fJSzjz7GQwUn7huGf32nDdv  0.000095      0.000104   \n445    99fp2z9TANArLJR4hcwx8fJSzjz7GQwUn7huGf32nDdv  0.000098      0.000132   \n598    99fp2z9TANArLJR4hcwx8fJSzjz7GQwUn7huGf32nDdv  0.000120      0.000133   \n1098   99fp2z9TANArLJR4hcwx8fJSzjz7GQwUn7huGf32nDdv  0.000125      0.000125   \n1358   99fp2z9TANArLJR4hcwx8fJSzjz7GQwUn7huGf32nDdv  0.000097      0.000141   \n...                                             ...       ...           ...   \n26648  99fp2z9TANArLJR4hcwx8fJSzjz7GQwUn7huGf32nDdv  0.000043      0.000042   \n26804  99fp2z9TANArLJR4hcwx8fJSzjz7GQwUn7huGf32nDdv  0.000037      0.000042   \n26914  99fp2z9TANArLJR4hcwx8fJSzjz7GQwUn7huGf32nDdv  0.000047      0.000042   \n26976  99fp2z9TANArLJR4hcwx8fJSzjz7GQwUn7huGf32nDdv  0.000046      0.000042   \n27510  99fp2z9TANArLJR4hcwx8fJSzjz7GQwUn7huGf32nDdv  0.000047      0.000053   \n\n      label  day_of_week  hour  u_price_sma_10m  ...  ema_vol_sell_1d  \\\n165    flat            5     9         0.930400  ...        90.930654   \n445    flat            5    10         0.939484  ...        94.127106   \n598    flat            5    11         0.809310  ...        93.952888   \n1098   flat            5    13         0.960984  ...        87.483720   \n1358   flat            5    14         1.243228  ...        96.866656   \n...     ...          ...   ...              ...  ...              ...   \n26648  flat            2    21         1.111615  ...        67.862975   \n26804  flat            2    21         1.248536  ...        67.381968   \n26914  flat            2    21         0.973278  ...        66.101457   \n26976  flat            2    22         0.975319  ...        66.101457   \n27510  flat            2    23         0.965762  ...        67.015584   \n\n       sma_vol_sum_10m  ema_vol_sum_10m  sma_vol_sum_1h  ema_vol_sum_1h  \\\n165           0.115989         0.107761        3.788072        5.061999   \n445           0.095148         0.133825        2.479048        2.220667   \n598           0.102302         0.088852        2.424012        2.155592   \n1098          0.012154         0.024919        1.882639        1.614058   \n1358          0.030008         0.050110        1.659913        1.125329   \n...                ...              ...             ...             ...   \n26648         0.153787         0.225146        1.251825        1.382052   \n26804         0.121401         0.102121        1.255153        1.246121   \n26914         0.157165         0.143465        1.290918        1.311373   \n26976         0.578594         0.911004        1.712347        2.070908   \n27510         0.503379         0.289151        1.748061        1.747806   \n\n       sma_vol_sum_4h  ema_vol_sum_4h  sma_vol_sum_1d  ema_vol_sum_1d  \\\n165         28.803518       31.480449      154.270505      152.896013   \n445         24.955202       22.916505      149.483234      151.282205   \n598         29.098655       31.816594      149.376050      151.022980   \n1098        26.609313       26.908793      142.030561      145.353317   \n1358        23.209849       19.930340      141.104119      154.474622   \n...               ...             ...             ...             ...   \n26648        3.707916        3.544978       63.566965      111.606969   \n26804        3.711244        3.520122       63.165621      110.886213   \n26914        3.747009        3.557458       62.526303      109.672463   \n26976        4.168437        4.344125       63.484637      110.383990   \n27510        4.211295        4.602389       61.683999      106.468573   \n\n         upside  \n165    1.095196  \n445    1.352834  \n598    1.109808  \n1098   0.996687  \n1358   1.446352  \n...         ...  \n26648  0.968080  \n26804  1.129669  \n26914  0.902549  \n26976  0.909573  \n27510  1.131750  \n\n[107 rows x 46 columns]",
      "text/html": "<div>\n<style scoped>\n    .dataframe tbody tr th:only-of-type {\n        vertical-align: middle;\n    }\n\n    .dataframe tbody tr th {\n        vertical-align: top;\n    }\n\n    .dataframe thead th {\n        text-align: right;\n    }\n</style>\n<table border=\"1\" class=\"dataframe\">\n  <thead>\n    <tr style=\"text-align: right;\">\n      <th></th>\n      <th>Actual</th>\n      <th>Predicted</th>\n      <th>time_quant</th>\n      <th>mint</th>\n      <th>price</th>\n      <th>future_price</th>\n      <th>label</th>\n      <th>day_of_week</th>\n      <th>hour</th>\n      <th>u_price_sma_10m</th>\n      <th>...</th>\n      <th>ema_vol_sell_1d</th>\n      <th>sma_vol_sum_10m</th>\n      <th>ema_vol_sum_10m</th>\n      <th>sma_vol_sum_1h</th>\n      <th>ema_vol_sum_1h</th>\n      <th>sma_vol_sum_4h</th>\n      <th>ema_vol_sum_4h</th>\n      <th>sma_vol_sum_1d</th>\n      <th>ema_vol_sum_1d</th>\n      <th>upside</th>\n    </tr>\n  </thead>\n  <tbody>\n    <tr>\n      <th>165</th>\n      <td>flat</td>\n      <td>flat</td>\n      <td>2023-12-30 09:10:00</td>\n      <td>99fp2z9TANArLJR4hcwx8fJSzjz7GQwUn7huGf32nDdv</td>\n      <td>0.000095</td>\n      <td>0.000104</td>\n      <td>flat</td>\n      <td>5</td>\n      <td>9</td>\n      <td>0.930400</td>\n      <td>...</td>\n      <td>90.930654</td>\n      <td>0.115989</td>\n      <td>0.107761</td>\n      <td>3.788072</td>\n      <td>5.061999</td>\n      <td>28.803518</td>\n      <td>31.480449</td>\n      <td>154.270505</td>\n      <td>152.896013</td>\n      <td>1.095196</td>\n    </tr>\n    <tr>\n      <th>445</th>\n      <td>flat</td>\n      <td>flat</td>\n      <td>2023-12-30 10:30:00</td>\n      <td>99fp2z9TANArLJR4hcwx8fJSzjz7GQwUn7huGf32nDdv</td>\n      <td>0.000098</td>\n      <td>0.000132</td>\n      <td>flat</td>\n      <td>5</td>\n      <td>10</td>\n      <td>0.939484</td>\n      <td>...</td>\n      <td>94.127106</td>\n      <td>0.095148</td>\n      <td>0.133825</td>\n      <td>2.479048</td>\n      <td>2.220667</td>\n      <td>24.955202</td>\n      <td>22.916505</td>\n      <td>149.483234</td>\n      <td>151.282205</td>\n      <td>1.352834</td>\n    </tr>\n    <tr>\n      <th>598</th>\n      <td>flat</td>\n      <td>flat</td>\n      <td>2023-12-30 11:10:00</td>\n      <td>99fp2z9TANArLJR4hcwx8fJSzjz7GQwUn7huGf32nDdv</td>\n      <td>0.000120</td>\n      <td>0.000133</td>\n      <td>flat</td>\n      <td>5</td>\n      <td>11</td>\n      <td>0.809310</td>\n      <td>...</td>\n      <td>93.952888</td>\n      <td>0.102302</td>\n      <td>0.088852</td>\n      <td>2.424012</td>\n      <td>2.155592</td>\n      <td>29.098655</td>\n      <td>31.816594</td>\n      <td>149.376050</td>\n      <td>151.022980</td>\n      <td>1.109808</td>\n    </tr>\n    <tr>\n      <th>1098</th>\n      <td>flat</td>\n      <td>flat</td>\n      <td>2023-12-30 13:20:00</td>\n      <td>99fp2z9TANArLJR4hcwx8fJSzjz7GQwUn7huGf32nDdv</td>\n      <td>0.000125</td>\n      <td>0.000125</td>\n      <td>flat</td>\n      <td>5</td>\n      <td>13</td>\n      <td>0.960984</td>\n      <td>...</td>\n      <td>87.483720</td>\n      <td>0.012154</td>\n      <td>0.024919</td>\n      <td>1.882639</td>\n      <td>1.614058</td>\n      <td>26.609313</td>\n      <td>26.908793</td>\n      <td>142.030561</td>\n      <td>145.353317</td>\n      <td>0.996687</td>\n    </tr>\n    <tr>\n      <th>1358</th>\n      <td>flat</td>\n      <td>flat</td>\n      <td>2023-12-30 14:30:00</td>\n      <td>99fp2z9TANArLJR4hcwx8fJSzjz7GQwUn7huGf32nDdv</td>\n      <td>0.000097</td>\n      <td>0.000141</td>\n      <td>flat</td>\n      <td>5</td>\n      <td>14</td>\n      <td>1.243228</td>\n      <td>...</td>\n      <td>96.866656</td>\n      <td>0.030008</td>\n      <td>0.050110</td>\n      <td>1.659913</td>\n      <td>1.125329</td>\n      <td>23.209849</td>\n      <td>19.930340</td>\n      <td>141.104119</td>\n      <td>154.474622</td>\n      <td>1.446352</td>\n    </tr>\n    <tr>\n      <th>...</th>\n      <td>...</td>\n      <td>...</td>\n      <td>...</td>\n      <td>...</td>\n      <td>...</td>\n      <td>...</td>\n      <td>...</td>\n      <td>...</td>\n      <td>...</td>\n      <td>...</td>\n      <td>...</td>\n      <td>...</td>\n      <td>...</td>\n      <td>...</td>\n      <td>...</td>\n      <td>...</td>\n      <td>...</td>\n      <td>...</td>\n      <td>...</td>\n      <td>...</td>\n      <td>...</td>\n    </tr>\n    <tr>\n      <th>26648</th>\n      <td>flat</td>\n      <td>flat</td>\n      <td>2024-01-03 21:00:00</td>\n      <td>99fp2z9TANArLJR4hcwx8fJSzjz7GQwUn7huGf32nDdv</td>\n      <td>0.000043</td>\n      <td>0.000042</td>\n      <td>flat</td>\n      <td>2</td>\n      <td>21</td>\n      <td>1.111615</td>\n      <td>...</td>\n      <td>67.862975</td>\n      <td>0.153787</td>\n      <td>0.225146</td>\n      <td>1.251825</td>\n      <td>1.382052</td>\n      <td>3.707916</td>\n      <td>3.544978</td>\n      <td>63.566965</td>\n      <td>111.606969</td>\n      <td>0.968080</td>\n    </tr>\n    <tr>\n      <th>26804</th>\n      <td>flat</td>\n      <td>flat</td>\n      <td>2024-01-03 21:30:00</td>\n      <td>99fp2z9TANArLJR4hcwx8fJSzjz7GQwUn7huGf32nDdv</td>\n      <td>0.000037</td>\n      <td>0.000042</td>\n      <td>flat</td>\n      <td>2</td>\n      <td>21</td>\n      <td>1.248536</td>\n      <td>...</td>\n      <td>67.381968</td>\n      <td>0.121401</td>\n      <td>0.102121</td>\n      <td>1.255153</td>\n      <td>1.246121</td>\n      <td>3.711244</td>\n      <td>3.520122</td>\n      <td>63.165621</td>\n      <td>110.886213</td>\n      <td>1.129669</td>\n    </tr>\n    <tr>\n      <th>26914</th>\n      <td>flat</td>\n      <td>flat</td>\n      <td>2024-01-03 21:50:00</td>\n      <td>99fp2z9TANArLJR4hcwx8fJSzjz7GQwUn7huGf32nDdv</td>\n      <td>0.000047</td>\n      <td>0.000042</td>\n      <td>flat</td>\n      <td>2</td>\n      <td>21</td>\n      <td>0.973278</td>\n      <td>...</td>\n      <td>66.101457</td>\n      <td>0.157165</td>\n      <td>0.143465</td>\n      <td>1.290918</td>\n      <td>1.311373</td>\n      <td>3.747009</td>\n      <td>3.557458</td>\n      <td>62.526303</td>\n      <td>109.672463</td>\n      <td>0.902549</td>\n    </tr>\n    <tr>\n      <th>26976</th>\n      <td>flat</td>\n      <td>flat</td>\n      <td>2024-01-03 22:00:00</td>\n      <td>99fp2z9TANArLJR4hcwx8fJSzjz7GQwUn7huGf32nDdv</td>\n      <td>0.000046</td>\n      <td>0.000042</td>\n      <td>flat</td>\n      <td>2</td>\n      <td>22</td>\n      <td>0.975319</td>\n      <td>...</td>\n      <td>66.101457</td>\n      <td>0.578594</td>\n      <td>0.911004</td>\n      <td>1.712347</td>\n      <td>2.070908</td>\n      <td>4.168437</td>\n      <td>4.344125</td>\n      <td>63.484637</td>\n      <td>110.383990</td>\n      <td>0.909573</td>\n    </tr>\n    <tr>\n      <th>27510</th>\n      <td>flat</td>\n      <td>flat</td>\n      <td>2024-01-03 23:40:00</td>\n      <td>99fp2z9TANArLJR4hcwx8fJSzjz7GQwUn7huGf32nDdv</td>\n      <td>0.000047</td>\n      <td>0.000053</td>\n      <td>flat</td>\n      <td>2</td>\n      <td>23</td>\n      <td>0.965762</td>\n      <td>...</td>\n      <td>67.015584</td>\n      <td>0.503379</td>\n      <td>0.289151</td>\n      <td>1.748061</td>\n      <td>1.747806</td>\n      <td>4.211295</td>\n      <td>4.602389</td>\n      <td>61.683999</td>\n      <td>106.468573</td>\n      <td>1.131750</td>\n    </tr>\n  </tbody>\n</table>\n<p>107 rows × 46 columns</p>\n</div>"
     },
     "execution_count": 116,
     "metadata": {},
     "output_type": "execute_result"
    }
   ],
   "source": [
    "# mint 99fp2z9TANArLJR4hcwx8fJSzjz7GQwUn7huGf32nDdv\n",
    "results_df[results_df['mint']=='99fp2z9TANArLJR4hcwx8fJSzjz7GQwUn7huGf32nDdv']"
   ],
   "metadata": {
    "collapsed": false,
    "ExecuteTime": {
     "end_time": "2024-01-04T13:11:18.622646Z",
     "start_time": "2024-01-04T13:11:18.614034Z"
    }
   },
   "id": "85a6209339a06f78"
  },
  {
   "cell_type": "code",
   "execution_count": 117,
   "outputs": [
    {
     "data": {
      "text/plain": "      Actual Predicted          time_quant  \\\n0       flat      flat 2023-12-30 08:30:00   \n1       flat      flat 2023-12-30 08:30:00   \n2       flat      flat 2023-12-30 08:30:00   \n3       flat      flat 2023-12-30 08:30:00   \n4       flat      flat 2023-12-30 08:30:00   \n...      ...       ...                 ...   \n27727   flat      flat 2024-01-04 00:20:00   \n27728   flat      flat 2024-01-04 00:20:00   \n27729   flat      flat 2024-01-04 00:20:00   \n27730   flat      flat 2024-01-04 00:20:00   \n27731   flat      flat 2024-01-04 00:20:00   \n\n                                               mint         price  \\\n0      12FvihLoAzTtaA98YVuErGftCXtoc83t3YFk4WdKK79T  9.930370e-07   \n1      2XNuNgqFpNxEWq8wcqRpJFeWBVsLgxa56fMDQVfq7i7Y  2.826238e-04   \n2      2x8o3hA5S5fBxCSE9hzVTf3RohcMWHqkDNKNEPuzprD5  2.976297e-05   \n3      2zwuFv4tzMrJMA3Gq5nNH3i4ojWPtCkjmGzTMXe4RpMc  1.944247e-05   \n4      31iQsahfa4CMiirU7REygBzuAWg4R4ah7Y4aDu9ZfXJP  1.039810e-10   \n...                                             ...           ...   \n27727   KTMEEZDPyYiJmDeiy8ChLcWHP52jhzMG9g6FQrYDTf8  7.980008e-11   \n27728   LFG1ezantSY2LPX8jRz2qa31pPEhpwN9msFDzZw4T9Q  2.730993e-07   \n27729   drakduQWnTS89CdTUdgHmZzEkN6reBLYqrk8rzVhU53  5.363368e-08   \n27730   gxNuJSHRScR7WkzQEYqvxVditaKkcc9V32KXPJLCbcT  6.396623e-05   \n27731   skJyor4eEoBsDpxyURP367RjGEK5xbqrjWjjyjQGo2N  8.941823e-07   \n\n       future_price label  day_of_week  hour  u_price_sma_10m  ...  \\\n0      4.359319e-07  flat            5     8         0.747452  ...   \n1      2.169545e-04  flat            5     8         1.087920  ...   \n2      2.607552e-05  flat            5     8         1.026468  ...   \n3      1.500439e-05  flat            5     8         1.069679  ...   \n4      5.917822e-11  flat            5     8         0.808583  ...   \n...             ...   ...          ...   ...              ...  ...   \n27727  3.277159e-11  flat            3     0         1.149582  ...   \n27728  2.105918e-07  flat            3     0         0.942776  ...   \n27729  5.334881e-08  flat            3     0         1.019868  ...   \n27730  5.061710e-05  flat            3     0         0.732243  ...   \n27731  1.985846e-06  flat            3     0         1.664710  ...   \n\n       ema_vol_sell_1d  sma_vol_sum_10m  ema_vol_sum_10m  sma_vol_sum_1h  \\\n0            19.374471         0.242418         0.234116        1.145117   \n1            19.966602         0.652804         0.681182       12.042169   \n2           101.836320         0.521736         0.538792        8.972038   \n3           232.486088         0.651856         0.579489        9.376199   \n4           186.058000         1.543446         1.977391       17.563163   \n...                ...              ...              ...             ...   \n27727        27.644720         2.919935         4.487728        3.786115   \n27728       556.648984         1.150401         1.745633       46.976387   \n27729       162.160206         0.670125         0.947271       12.693423   \n27730       162.375073         0.532225         0.435274        9.465668   \n27731         3.522837         0.099650         0.137254        0.268418   \n\n       ema_vol_sum_1h  sma_vol_sum_4h  ema_vol_sum_4h  sma_vol_sum_1d  \\\n0            1.328542        3.890211        3.748550       24.440557   \n1           10.282466       20.429140       25.838622      132.789408   \n2            6.993093       36.080560       37.152979      212.977115   \n3            8.926900       70.665628       76.172024      361.950123   \n4           20.297679       65.775765       61.970659      426.796282   \n...               ...             ...             ...             ...   \n27727        6.206388        5.761930        8.733140       85.505423   \n27728       54.598590      555.989226      358.029839     1297.308194   \n27729       10.512182       95.411569       86.925002      500.631668   \n27730        6.493125       71.455419       75.697797      556.782302   \n27731        0.385697        4.524898        3.237085       10.558095   \n\n       ema_vol_sum_1d    upside  \n0           29.679349  0.438989  \n1           36.391252  0.767644  \n2          178.242873  0.876106  \n3          448.937875  0.771733  \n4          345.141176  0.569125  \n...               ...       ...  \n27727       44.384374  0.410671  \n27728      928.001224  0.771118  \n27729      319.042967  0.994689  \n27730      309.413279  0.791310  \n27731        7.440468  2.220852  \n\n[27732 rows x 46 columns]",
      "text/html": "<div>\n<style scoped>\n    .dataframe tbody tr th:only-of-type {\n        vertical-align: middle;\n    }\n\n    .dataframe tbody tr th {\n        vertical-align: top;\n    }\n\n    .dataframe thead th {\n        text-align: right;\n    }\n</style>\n<table border=\"1\" class=\"dataframe\">\n  <thead>\n    <tr style=\"text-align: right;\">\n      <th></th>\n      <th>Actual</th>\n      <th>Predicted</th>\n      <th>time_quant</th>\n      <th>mint</th>\n      <th>price</th>\n      <th>future_price</th>\n      <th>label</th>\n      <th>day_of_week</th>\n      <th>hour</th>\n      <th>u_price_sma_10m</th>\n      <th>...</th>\n      <th>ema_vol_sell_1d</th>\n      <th>sma_vol_sum_10m</th>\n      <th>ema_vol_sum_10m</th>\n      <th>sma_vol_sum_1h</th>\n      <th>ema_vol_sum_1h</th>\n      <th>sma_vol_sum_4h</th>\n      <th>ema_vol_sum_4h</th>\n      <th>sma_vol_sum_1d</th>\n      <th>ema_vol_sum_1d</th>\n      <th>upside</th>\n    </tr>\n  </thead>\n  <tbody>\n    <tr>\n      <th>0</th>\n      <td>flat</td>\n      <td>flat</td>\n      <td>2023-12-30 08:30:00</td>\n      <td>12FvihLoAzTtaA98YVuErGftCXtoc83t3YFk4WdKK79T</td>\n      <td>9.930370e-07</td>\n      <td>4.359319e-07</td>\n      <td>flat</td>\n      <td>5</td>\n      <td>8</td>\n      <td>0.747452</td>\n      <td>...</td>\n      <td>19.374471</td>\n      <td>0.242418</td>\n      <td>0.234116</td>\n      <td>1.145117</td>\n      <td>1.328542</td>\n      <td>3.890211</td>\n      <td>3.748550</td>\n      <td>24.440557</td>\n      <td>29.679349</td>\n      <td>0.438989</td>\n    </tr>\n    <tr>\n      <th>1</th>\n      <td>flat</td>\n      <td>flat</td>\n      <td>2023-12-30 08:30:00</td>\n      <td>2XNuNgqFpNxEWq8wcqRpJFeWBVsLgxa56fMDQVfq7i7Y</td>\n      <td>2.826238e-04</td>\n      <td>2.169545e-04</td>\n      <td>flat</td>\n      <td>5</td>\n      <td>8</td>\n      <td>1.087920</td>\n      <td>...</td>\n      <td>19.966602</td>\n      <td>0.652804</td>\n      <td>0.681182</td>\n      <td>12.042169</td>\n      <td>10.282466</td>\n      <td>20.429140</td>\n      <td>25.838622</td>\n      <td>132.789408</td>\n      <td>36.391252</td>\n      <td>0.767644</td>\n    </tr>\n    <tr>\n      <th>2</th>\n      <td>flat</td>\n      <td>flat</td>\n      <td>2023-12-30 08:30:00</td>\n      <td>2x8o3hA5S5fBxCSE9hzVTf3RohcMWHqkDNKNEPuzprD5</td>\n      <td>2.976297e-05</td>\n      <td>2.607552e-05</td>\n      <td>flat</td>\n      <td>5</td>\n      <td>8</td>\n      <td>1.026468</td>\n      <td>...</td>\n      <td>101.836320</td>\n      <td>0.521736</td>\n      <td>0.538792</td>\n      <td>8.972038</td>\n      <td>6.993093</td>\n      <td>36.080560</td>\n      <td>37.152979</td>\n      <td>212.977115</td>\n      <td>178.242873</td>\n      <td>0.876106</td>\n    </tr>\n    <tr>\n      <th>3</th>\n      <td>flat</td>\n      <td>flat</td>\n      <td>2023-12-30 08:30:00</td>\n      <td>2zwuFv4tzMrJMA3Gq5nNH3i4ojWPtCkjmGzTMXe4RpMc</td>\n      <td>1.944247e-05</td>\n      <td>1.500439e-05</td>\n      <td>flat</td>\n      <td>5</td>\n      <td>8</td>\n      <td>1.069679</td>\n      <td>...</td>\n      <td>232.486088</td>\n      <td>0.651856</td>\n      <td>0.579489</td>\n      <td>9.376199</td>\n      <td>8.926900</td>\n      <td>70.665628</td>\n      <td>76.172024</td>\n      <td>361.950123</td>\n      <td>448.937875</td>\n      <td>0.771733</td>\n    </tr>\n    <tr>\n      <th>4</th>\n      <td>flat</td>\n      <td>flat</td>\n      <td>2023-12-30 08:30:00</td>\n      <td>31iQsahfa4CMiirU7REygBzuAWg4R4ah7Y4aDu9ZfXJP</td>\n      <td>1.039810e-10</td>\n      <td>5.917822e-11</td>\n      <td>flat</td>\n      <td>5</td>\n      <td>8</td>\n      <td>0.808583</td>\n      <td>...</td>\n      <td>186.058000</td>\n      <td>1.543446</td>\n      <td>1.977391</td>\n      <td>17.563163</td>\n      <td>20.297679</td>\n      <td>65.775765</td>\n      <td>61.970659</td>\n      <td>426.796282</td>\n      <td>345.141176</td>\n      <td>0.569125</td>\n    </tr>\n    <tr>\n      <th>...</th>\n      <td>...</td>\n      <td>...</td>\n      <td>...</td>\n      <td>...</td>\n      <td>...</td>\n      <td>...</td>\n      <td>...</td>\n      <td>...</td>\n      <td>...</td>\n      <td>...</td>\n      <td>...</td>\n      <td>...</td>\n      <td>...</td>\n      <td>...</td>\n      <td>...</td>\n      <td>...</td>\n      <td>...</td>\n      <td>...</td>\n      <td>...</td>\n      <td>...</td>\n      <td>...</td>\n    </tr>\n    <tr>\n      <th>27727</th>\n      <td>flat</td>\n      <td>flat</td>\n      <td>2024-01-04 00:20:00</td>\n      <td>KTMEEZDPyYiJmDeiy8ChLcWHP52jhzMG9g6FQrYDTf8</td>\n      <td>7.980008e-11</td>\n      <td>3.277159e-11</td>\n      <td>flat</td>\n      <td>3</td>\n      <td>0</td>\n      <td>1.149582</td>\n      <td>...</td>\n      <td>27.644720</td>\n      <td>2.919935</td>\n      <td>4.487728</td>\n      <td>3.786115</td>\n      <td>6.206388</td>\n      <td>5.761930</td>\n      <td>8.733140</td>\n      <td>85.505423</td>\n      <td>44.384374</td>\n      <td>0.410671</td>\n    </tr>\n    <tr>\n      <th>27728</th>\n      <td>flat</td>\n      <td>flat</td>\n      <td>2024-01-04 00:20:00</td>\n      <td>LFG1ezantSY2LPX8jRz2qa31pPEhpwN9msFDzZw4T9Q</td>\n      <td>2.730993e-07</td>\n      <td>2.105918e-07</td>\n      <td>flat</td>\n      <td>3</td>\n      <td>0</td>\n      <td>0.942776</td>\n      <td>...</td>\n      <td>556.648984</td>\n      <td>1.150401</td>\n      <td>1.745633</td>\n      <td>46.976387</td>\n      <td>54.598590</td>\n      <td>555.989226</td>\n      <td>358.029839</td>\n      <td>1297.308194</td>\n      <td>928.001224</td>\n      <td>0.771118</td>\n    </tr>\n    <tr>\n      <th>27729</th>\n      <td>flat</td>\n      <td>flat</td>\n      <td>2024-01-04 00:20:00</td>\n      <td>drakduQWnTS89CdTUdgHmZzEkN6reBLYqrk8rzVhU53</td>\n      <td>5.363368e-08</td>\n      <td>5.334881e-08</td>\n      <td>flat</td>\n      <td>3</td>\n      <td>0</td>\n      <td>1.019868</td>\n      <td>...</td>\n      <td>162.160206</td>\n      <td>0.670125</td>\n      <td>0.947271</td>\n      <td>12.693423</td>\n      <td>10.512182</td>\n      <td>95.411569</td>\n      <td>86.925002</td>\n      <td>500.631668</td>\n      <td>319.042967</td>\n      <td>0.994689</td>\n    </tr>\n    <tr>\n      <th>27730</th>\n      <td>flat</td>\n      <td>flat</td>\n      <td>2024-01-04 00:20:00</td>\n      <td>gxNuJSHRScR7WkzQEYqvxVditaKkcc9V32KXPJLCbcT</td>\n      <td>6.396623e-05</td>\n      <td>5.061710e-05</td>\n      <td>flat</td>\n      <td>3</td>\n      <td>0</td>\n      <td>0.732243</td>\n      <td>...</td>\n      <td>162.375073</td>\n      <td>0.532225</td>\n      <td>0.435274</td>\n      <td>9.465668</td>\n      <td>6.493125</td>\n      <td>71.455419</td>\n      <td>75.697797</td>\n      <td>556.782302</td>\n      <td>309.413279</td>\n      <td>0.791310</td>\n    </tr>\n    <tr>\n      <th>27731</th>\n      <td>flat</td>\n      <td>flat</td>\n      <td>2024-01-04 00:20:00</td>\n      <td>skJyor4eEoBsDpxyURP367RjGEK5xbqrjWjjyjQGo2N</td>\n      <td>8.941823e-07</td>\n      <td>1.985846e-06</td>\n      <td>flat</td>\n      <td>3</td>\n      <td>0</td>\n      <td>1.664710</td>\n      <td>...</td>\n      <td>3.522837</td>\n      <td>0.099650</td>\n      <td>0.137254</td>\n      <td>0.268418</td>\n      <td>0.385697</td>\n      <td>4.524898</td>\n      <td>3.237085</td>\n      <td>10.558095</td>\n      <td>7.440468</td>\n      <td>2.220852</td>\n    </tr>\n  </tbody>\n</table>\n<p>27732 rows × 46 columns</p>\n</div>"
     },
     "execution_count": 117,
     "metadata": {},
     "output_type": "execute_result"
    }
   ],
   "source": [
    "results_df"
   ],
   "metadata": {
    "collapsed": false,
    "ExecuteTime": {
     "end_time": "2024-01-04T13:11:21.306968Z",
     "start_time": "2024-01-04T13:11:21.287117Z"
    }
   },
   "id": "5bbf8e693f460b06"
  },
  {
   "cell_type": "code",
   "execution_count": null,
   "outputs": [],
   "source": [],
   "metadata": {
    "collapsed": false
   },
   "id": "19b1514301d14e46"
  }
 ],
 "metadata": {
  "kernelspec": {
   "display_name": "Python 3",
   "language": "python",
   "name": "python3"
  },
  "language_info": {
   "codemirror_mode": {
    "name": "ipython",
    "version": 2
   },
   "file_extension": ".py",
   "mimetype": "text/x-python",
   "name": "python",
   "nbconvert_exporter": "python",
   "pygments_lexer": "ipython2",
   "version": "2.7.6"
  }
 },
 "nbformat": 4,
 "nbformat_minor": 5
}
