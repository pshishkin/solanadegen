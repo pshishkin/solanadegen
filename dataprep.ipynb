{
 "cells": [
  {
   "cell_type": "code",
   "execution_count": 123,
   "id": "initial_id",
   "metadata": {
    "collapsed": true,
    "ExecuteTime": {
     "end_time": "2024-01-03T17:18:40.518242Z",
     "start_time": "2024-01-03T17:18:36.237764Z"
    }
   },
   "outputs": [],
   "source": [
    "import os\n",
    "import psycopg2\n",
    "import pandas as pd\n",
    "from dotenv import load_dotenv\n",
    "\n",
    "def get_db_df():\n",
    "    load_dotenv()\n",
    "    \n",
    "    conn = psycopg2.connect(os.getenv('DATABASE_URL'))\n",
    "    \n",
    "    # Open a cursor to perform database operations\n",
    "    cur = conn.cursor()\n",
    "    \n",
    "    # Execute a query\n",
    "    cur.execute(\"\"\"\n",
    "    SELECT * FROM united_trades\n",
    "    where \n",
    "    abs(sol_delta) > 0.1\n",
    "    and abs(token_delta) > 0.01\n",
    "    order by timestamp\n",
    "    limit 50000\n",
    "    \"\"\")\n",
    "    \n",
    "    # Retrieve query results\n",
    "    records = cur.fetchall()\n",
    "    \n",
    "    # Convert to pandas DataFrame\n",
    "    df_from_db = pd.DataFrame(records, columns=[desc[0] for desc in cur.description])\n",
    "    \n",
    "    # Close communication with the database\n",
    "    cur.close()\n",
    "    conn.close()\n",
    "    \n",
    "    return df_from_db\n",
    "\n",
    "df_from_db = get_db_df()"
   ]
  },
  {
   "cell_type": "code",
   "execution_count": 124,
   "outputs": [
    {
     "data": {
      "text/plain": "      source                                          signature  \\\n0        sol  5qWeD3HaQRDYmmMaSzc7ZLtR7T9GfJDFfvRJ3JuUZMAoRp...   \n1        sol  6LSYVK4dmyKTX9ru22SYzRWKQ2JT4PZ9mnfq5x3MFniCt3...   \n2        sol  677uidK1chWa9B8b6VPTEyk6SbBGpwAaB9SZZg234KAw4y...   \n3        sol  5QTABc6v6TyuJq4CT2TFCS8WRB1q2zGsEMNHiof7qvtFCo...   \n4        sol  WQMqcwKwJ7K6LqSZz2ZaXKkRzxV3eCWTd2kjoVhYLuh1UJ...   \n...      ...                                                ...   \n49995    sol  4T6iLCsd7dzXYqtXdD2DfALog21mSL5zVDvVNn4WFWx89V...   \n49996    sol  3ardbU6Xg7vF49XDi4JT7CYgPSBn7xxWNVBCWje9Apxvg7...   \n49997  token  65ATtpaokKCsRheUb4KnV2pkg7DF1fTGp4yNGqZaRx2shg...   \n49998    sol  5myF51qh45hPDqLT2cJAQ4pmTx6b3gpGKP8rourASjQYTC...   \n49999    sol  3VdRsDNcxgqPq7NtMPp5vuBw12KzRQqyhXPiDxpjnPY6Pp...   \n\n                timestamp                                          mint  \\\n0     2023-12-26 23:42:12  2EgRd5AdhxeBtQ8iAgYQoSBtrbsuLGmDq1wQrPZr7KLs   \n1     2023-12-26 23:42:14  7rhhtc2DTTAsPr9P3ZRqUjYZESRj2B29L6qrEXG4VLkh   \n2     2023-12-26 23:42:21  GqqjcyCSzoxtGHrfHr33JcUR3xTwNZw9T8KD4pFqStSv   \n3     2023-12-26 23:42:22  93RC484oMK5T9H89rzT5qiAXKHGP9jscXfFfrihNbe57   \n4     2023-12-26 23:42:25  EPjFWdd5AufqSSqeM2qN1xzybapC8G4wEGGkZwyTDt1v   \n...                   ...                                           ...   \n49995 2023-12-29 21:51:18  9gwTegFJJErDpWJKjPfLr2g2zrE3nL1v5zpwbtsk3c6P   \n49996 2023-12-29 21:51:18  4jZXkSNgTQKCDb36ECZ6a2aNzcUniGcDeXgTdtM2HxAX   \n49997 2023-12-29 21:51:22  3WoJHGNAcQpjuiT4FqbkqooWkcCMKC5oYDTWjAM9cMmS   \n49998 2023-12-29 21:51:32  EPjFWdd5AufqSSqeM2qN1xzybapC8G4wEGGkZwyTDt1v   \n49999 2023-12-29 21:51:39   iotEVVZLEywoTn1QdwNPddxPWszn3zFhEot3MfL9fns   \n\n        token_delta  sol_delta trader  \n0      8.694103e+04  -0.200705   None  \n1     -1.831851e+06   4.293143   None  \n2      6.064050e+08  -1.000145   None  \n3     -1.500000e+02   2.975218   None  \n4     -2.642058e+03  23.776658   None  \n...             ...        ...    ...  \n49995 -8.649436e+02   0.237151   None  \n49996 -1.771235e+06   3.212379   None  \n49997 -8.498612e+09   1.126034   None  \n49998  4.056703e+01  -0.390007   None  \n49999 -1.396009e+04   0.249729   None  \n\n[50000 rows x 7 columns]",
      "text/html": "<div>\n<style scoped>\n    .dataframe tbody tr th:only-of-type {\n        vertical-align: middle;\n    }\n\n    .dataframe tbody tr th {\n        vertical-align: top;\n    }\n\n    .dataframe thead th {\n        text-align: right;\n    }\n</style>\n<table border=\"1\" class=\"dataframe\">\n  <thead>\n    <tr style=\"text-align: right;\">\n      <th></th>\n      <th>source</th>\n      <th>signature</th>\n      <th>timestamp</th>\n      <th>mint</th>\n      <th>token_delta</th>\n      <th>sol_delta</th>\n      <th>trader</th>\n    </tr>\n  </thead>\n  <tbody>\n    <tr>\n      <th>0</th>\n      <td>sol</td>\n      <td>5qWeD3HaQRDYmmMaSzc7ZLtR7T9GfJDFfvRJ3JuUZMAoRp...</td>\n      <td>2023-12-26 23:42:12</td>\n      <td>2EgRd5AdhxeBtQ8iAgYQoSBtrbsuLGmDq1wQrPZr7KLs</td>\n      <td>8.694103e+04</td>\n      <td>-0.200705</td>\n      <td>None</td>\n    </tr>\n    <tr>\n      <th>1</th>\n      <td>sol</td>\n      <td>6LSYVK4dmyKTX9ru22SYzRWKQ2JT4PZ9mnfq5x3MFniCt3...</td>\n      <td>2023-12-26 23:42:14</td>\n      <td>7rhhtc2DTTAsPr9P3ZRqUjYZESRj2B29L6qrEXG4VLkh</td>\n      <td>-1.831851e+06</td>\n      <td>4.293143</td>\n      <td>None</td>\n    </tr>\n    <tr>\n      <th>2</th>\n      <td>sol</td>\n      <td>677uidK1chWa9B8b6VPTEyk6SbBGpwAaB9SZZg234KAw4y...</td>\n      <td>2023-12-26 23:42:21</td>\n      <td>GqqjcyCSzoxtGHrfHr33JcUR3xTwNZw9T8KD4pFqStSv</td>\n      <td>6.064050e+08</td>\n      <td>-1.000145</td>\n      <td>None</td>\n    </tr>\n    <tr>\n      <th>3</th>\n      <td>sol</td>\n      <td>5QTABc6v6TyuJq4CT2TFCS8WRB1q2zGsEMNHiof7qvtFCo...</td>\n      <td>2023-12-26 23:42:22</td>\n      <td>93RC484oMK5T9H89rzT5qiAXKHGP9jscXfFfrihNbe57</td>\n      <td>-1.500000e+02</td>\n      <td>2.975218</td>\n      <td>None</td>\n    </tr>\n    <tr>\n      <th>4</th>\n      <td>sol</td>\n      <td>WQMqcwKwJ7K6LqSZz2ZaXKkRzxV3eCWTd2kjoVhYLuh1UJ...</td>\n      <td>2023-12-26 23:42:25</td>\n      <td>EPjFWdd5AufqSSqeM2qN1xzybapC8G4wEGGkZwyTDt1v</td>\n      <td>-2.642058e+03</td>\n      <td>23.776658</td>\n      <td>None</td>\n    </tr>\n    <tr>\n      <th>...</th>\n      <td>...</td>\n      <td>...</td>\n      <td>...</td>\n      <td>...</td>\n      <td>...</td>\n      <td>...</td>\n      <td>...</td>\n    </tr>\n    <tr>\n      <th>49995</th>\n      <td>sol</td>\n      <td>4T6iLCsd7dzXYqtXdD2DfALog21mSL5zVDvVNn4WFWx89V...</td>\n      <td>2023-12-29 21:51:18</td>\n      <td>9gwTegFJJErDpWJKjPfLr2g2zrE3nL1v5zpwbtsk3c6P</td>\n      <td>-8.649436e+02</td>\n      <td>0.237151</td>\n      <td>None</td>\n    </tr>\n    <tr>\n      <th>49996</th>\n      <td>sol</td>\n      <td>3ardbU6Xg7vF49XDi4JT7CYgPSBn7xxWNVBCWje9Apxvg7...</td>\n      <td>2023-12-29 21:51:18</td>\n      <td>4jZXkSNgTQKCDb36ECZ6a2aNzcUniGcDeXgTdtM2HxAX</td>\n      <td>-1.771235e+06</td>\n      <td>3.212379</td>\n      <td>None</td>\n    </tr>\n    <tr>\n      <th>49997</th>\n      <td>token</td>\n      <td>65ATtpaokKCsRheUb4KnV2pkg7DF1fTGp4yNGqZaRx2shg...</td>\n      <td>2023-12-29 21:51:22</td>\n      <td>3WoJHGNAcQpjuiT4FqbkqooWkcCMKC5oYDTWjAM9cMmS</td>\n      <td>-8.498612e+09</td>\n      <td>1.126034</td>\n      <td>None</td>\n    </tr>\n    <tr>\n      <th>49998</th>\n      <td>sol</td>\n      <td>5myF51qh45hPDqLT2cJAQ4pmTx6b3gpGKP8rourASjQYTC...</td>\n      <td>2023-12-29 21:51:32</td>\n      <td>EPjFWdd5AufqSSqeM2qN1xzybapC8G4wEGGkZwyTDt1v</td>\n      <td>4.056703e+01</td>\n      <td>-0.390007</td>\n      <td>None</td>\n    </tr>\n    <tr>\n      <th>49999</th>\n      <td>sol</td>\n      <td>3VdRsDNcxgqPq7NtMPp5vuBw12KzRQqyhXPiDxpjnPY6Pp...</td>\n      <td>2023-12-29 21:51:39</td>\n      <td>iotEVVZLEywoTn1QdwNPddxPWszn3zFhEot3MfL9fns</td>\n      <td>-1.396009e+04</td>\n      <td>0.249729</td>\n      <td>None</td>\n    </tr>\n  </tbody>\n</table>\n<p>50000 rows × 7 columns</p>\n</div>"
     },
     "execution_count": 124,
     "metadata": {},
     "output_type": "execute_result"
    }
   ],
   "source": [
    "df_from_db"
   ],
   "metadata": {
    "collapsed": false,
    "ExecuteTime": {
     "end_time": "2024-01-03T17:18:42.808280Z",
     "start_time": "2024-01-03T17:18:42.800011Z"
    }
   },
   "id": "6a6d69d4a61d7ab"
  },
  {
   "cell_type": "code",
   "execution_count": 125,
   "outputs": [
    {
     "data": {
      "text/plain": "                           timestamp   token_delta     sol_delta\ncount                          50000  5.000000e+04  50000.000000\nmean   2023-12-28 23:57:46.976639744 -4.199909e+12      0.962761\nmin              2023-12-26 23:42:12 -7.871866e+16  -5000.083480\n25%    2023-12-28 13:58:43.249999872 -8.517645e+03     -1.002832\n50%       2023-12-28 23:18:35.500000 -2.591963e-01      0.106032\n75%              2023-12-29 11:00:18  5.881324e+03      1.359609\nmax              2023-12-29 21:51:39  3.839719e+16  25009.120798\nstd                              NaN  5.600269e+14    136.346357",
      "text/html": "<div>\n<style scoped>\n    .dataframe tbody tr th:only-of-type {\n        vertical-align: middle;\n    }\n\n    .dataframe tbody tr th {\n        vertical-align: top;\n    }\n\n    .dataframe thead th {\n        text-align: right;\n    }\n</style>\n<table border=\"1\" class=\"dataframe\">\n  <thead>\n    <tr style=\"text-align: right;\">\n      <th></th>\n      <th>timestamp</th>\n      <th>token_delta</th>\n      <th>sol_delta</th>\n    </tr>\n  </thead>\n  <tbody>\n    <tr>\n      <th>count</th>\n      <td>50000</td>\n      <td>5.000000e+04</td>\n      <td>50000.000000</td>\n    </tr>\n    <tr>\n      <th>mean</th>\n      <td>2023-12-28 23:57:46.976639744</td>\n      <td>-4.199909e+12</td>\n      <td>0.962761</td>\n    </tr>\n    <tr>\n      <th>min</th>\n      <td>2023-12-26 23:42:12</td>\n      <td>-7.871866e+16</td>\n      <td>-5000.083480</td>\n    </tr>\n    <tr>\n      <th>25%</th>\n      <td>2023-12-28 13:58:43.249999872</td>\n      <td>-8.517645e+03</td>\n      <td>-1.002832</td>\n    </tr>\n    <tr>\n      <th>50%</th>\n      <td>2023-12-28 23:18:35.500000</td>\n      <td>-2.591963e-01</td>\n      <td>0.106032</td>\n    </tr>\n    <tr>\n      <th>75%</th>\n      <td>2023-12-29 11:00:18</td>\n      <td>5.881324e+03</td>\n      <td>1.359609</td>\n    </tr>\n    <tr>\n      <th>max</th>\n      <td>2023-12-29 21:51:39</td>\n      <td>3.839719e+16</td>\n      <td>25009.120798</td>\n    </tr>\n    <tr>\n      <th>std</th>\n      <td>NaN</td>\n      <td>5.600269e+14</td>\n      <td>136.346357</td>\n    </tr>\n  </tbody>\n</table>\n</div>"
     },
     "execution_count": 125,
     "metadata": {},
     "output_type": "execute_result"
    }
   ],
   "source": [
    "df_from_db.describe()"
   ],
   "metadata": {
    "collapsed": false,
    "ExecuteTime": {
     "end_time": "2024-01-03T17:18:45.771833Z",
     "start_time": "2024-01-03T17:18:45.753241Z"
    }
   },
   "id": "1f0c31be25200e46"
  },
  {
   "cell_type": "code",
   "execution_count": 126,
   "outputs": [
    {
     "data": {
      "text/plain": "20434294"
     },
     "execution_count": 126,
     "metadata": {},
     "output_type": "execute_result"
    }
   ],
   "source": [
    "df_from_db.memory_usage(deep=True).sum()"
   ],
   "metadata": {
    "collapsed": false,
    "ExecuteTime": {
     "end_time": "2024-01-03T17:18:49.037953Z",
     "start_time": "2024-01-03T17:18:49.012382Z"
    }
   },
   "id": "fc0ad56121f0daf2"
  },
  {
   "cell_type": "code",
   "execution_count": 127,
   "outputs": [],
   "source": [
    "trades_df = df_from_db.copy()"
   ],
   "metadata": {
    "collapsed": false,
    "ExecuteTime": {
     "end_time": "2024-01-03T17:18:50.424330Z",
     "start_time": "2024-01-03T17:18:50.411662Z"
    }
   },
   "id": "55302987fe88410a"
  },
  {
   "cell_type": "code",
   "execution_count": 128,
   "outputs": [],
   "source": [
    "from datetime import timedelta\n",
    "TIME_QUANTIZATION = '10min'\n",
    "QUANT_TIMEDELTA = timedelta(minutes=10)\n",
    "\n",
    "def add_time_quantization(trades_df):\n",
    "    trades_df['time_quant'] = trades_df['timestamp'].dt.floor('10min')\n",
    "\n",
    "add_time_quantization(trades_df)"
   ],
   "metadata": {
    "collapsed": false,
    "ExecuteTime": {
     "end_time": "2024-01-03T17:18:50.874903Z",
     "start_time": "2024-01-03T17:18:50.873073Z"
    }
   },
   "id": "34f7e6906a3d66c4"
  },
  {
   "cell_type": "code",
   "execution_count": 129,
   "outputs": [
    {
     "name": "stdout",
     "output_type": "stream",
     "text": [
      "50000\n",
      "1141\n",
      "45405\n",
      "231\n"
     ]
    }
   ],
   "source": [
    "def remove_rare_tokens(trades_df, min_trades=10, min_quants=3):\n",
    "    # mints that appears in at least 10 trades\n",
    "    mints_counts = trades_df.groupby('mint').size()\n",
    "    mints_with_n_trades = mints_counts[mints_counts >= min_trades].index\n",
    "    # print(mints_with_10_trades)\n",
    "    # mints that appears in at least 3 pairs (mint, time_quant)\n",
    "    keys_counts = trades_df.groupby(['mint', 'time_quant']).size()\n",
    "    mints_with_n_quants = keys_counts[keys_counts >= min_quants].index.get_level_values(0).unique()\n",
    "    # print(mints_with_3_pairs)\n",
    "    # intersection of these mints\n",
    "    mints_to_keep = mints_with_n_trades.intersection(mints_with_n_quants)\n",
    "    # filter df by these mints\n",
    "    trades_df = trades_df[trades_df.mint.isin(mints_to_keep)]\n",
    "    return trades_df\n",
    "    \n",
    "print(len(trades_df))\n",
    "print(trades_df.mint.nunique())\n",
    "trades_df = remove_rare_tokens(trades_df)\n",
    "print(len(trades_df))\n",
    "print(trades_df.mint.nunique())\n"
   ],
   "metadata": {
    "collapsed": false,
    "ExecuteTime": {
     "end_time": "2024-01-03T17:18:51.528941Z",
     "start_time": "2024-01-03T17:18:51.497836Z"
    }
   },
   "id": "1c9cfd1a8406ee9"
  },
  {
   "cell_type": "code",
   "execution_count": 130,
   "outputs": [],
   "source": [
    "from typing import Dict\n",
    "import numpy as np\n",
    "from dataclasses import dataclass\n",
    "\n",
    "@dataclass\n",
    "class PriceTables:\n",
    "    quants: pd.DatetimeIndex\n",
    "    sol_prices: Dict[str, np.array]\n",
    "    united_prices: Dict[str, np.array]\n",
    "\n",
    "def get_exponential_price_average(df, alpha=0.5) -> float:\n",
    "    # calculates exponential moving average of price,\n",
    "    # with sol_delta / token_delta as price,\n",
    "    # and sol_delta as weight\n",
    "    prices = abs(df.sol_delta / df.token_delta)\n",
    "    weights = abs(df.sol_delta)\n",
    "    # multiply weight exponentially\n",
    "    exp = (1 - alpha) ** np.arange(len(df))\n",
    "    # reverse last series\n",
    "    exp = exp[::-1]\n",
    "    # multiply weight by exp and make sum equal to 1\n",
    "    weights = weights * exp\n",
    "    weights = weights / weights.sum()\n",
    "    # calc weighted average price\n",
    "    price = (prices * weights).sum()\n",
    "    return price\n",
    "\n",
    "def get_price_tables(trades_df) -> PriceTables:\n",
    "    min_quant = trades_df.time_quant.min()\n",
    "    max_quant = trades_df.time_quant.max()\n",
    "    global_quants = pd.date_range(min_quant, max_quant, freq=TIME_QUANTIZATION)\n",
    "    quants_len = len(global_quants)\n",
    "    \n",
    "    trades_df.sort_values(by=['mint', 'time_quant'], inplace=True)\n",
    "    sol_prices = {}\n",
    "    united_prices = {}\n",
    "    for mint in trades_df.mint.unique():\n",
    "        sol_prices[mint] = np.zeros(quants_len)\n",
    "        united_prices[mint] = np.zeros(quants_len)\n",
    "        mint_df = trades_df[trades_df.mint == mint]\n",
    "        mint_df.set_index('time_quant', inplace=True)\n",
    "        last_sol_price = 0.\n",
    "        last_united_price = 0.\n",
    "        quants_in_df = mint_df.index.unique()\n",
    "        for i, quant in enumerate(global_quants):\n",
    "            if quant in quants_in_df:\n",
    "                mint_quant_df = mint_df.loc[[quant]]\n",
    "                last_united_price = get_exponential_price_average(mint_quant_df)\n",
    "                # get only sol trades which means source is 'sol\n",
    "                sol_df = mint_quant_df[mint_quant_df['source'] == 'sol'] \n",
    "                # if it's non-empty, calc price\n",
    "                if len(sol_df) > 0:\n",
    "                    last_sol_price = get_exponential_price_average(sol_df)\n",
    "            sol_prices[mint][i] = last_sol_price\n",
    "            united_prices[mint][i] = last_united_price\n",
    "    return PriceTables(sol_prices=sol_prices, united_prices=united_prices, quants=global_quants)\n",
    "\n",
    "price_tables = get_price_tables(trades_df)"
   ],
   "metadata": {
    "collapsed": false,
    "ExecuteTime": {
     "end_time": "2024-01-03T17:19:03.078946Z",
     "start_time": "2024-01-03T17:18:52.609366Z"
    }
   },
   "id": "b08cfc72d88b34b6"
  },
  {
   "cell_type": "code",
   "execution_count": 131,
   "outputs": [
    {
     "data": {
      "text/plain": "                  quant    united       sol\n0   2023-12-26 23:40:00  0.000000  0.000000\n1   2023-12-26 23:50:00  1.099779  1.099779\n2   2023-12-27 00:00:00  1.099779  1.099779\n3   2023-12-27 00:10:00  1.099779  1.099779\n4   2023-12-27 00:20:00  1.099779  1.099779\n..                  ...       ...       ...\n417 2023-12-29 21:10:00  1.098857  1.100309\n418 2023-12-29 21:20:00  1.098857  1.100309\n419 2023-12-29 21:30:00  0.003433  1.100309\n420 2023-12-29 21:40:00  1.099969  1.099969\n421 2023-12-29 21:50:00  1.099969  1.099969\n\n[422 rows x 3 columns]",
      "text/html": "<div>\n<style scoped>\n    .dataframe tbody tr th:only-of-type {\n        vertical-align: middle;\n    }\n\n    .dataframe tbody tr th {\n        vertical-align: top;\n    }\n\n    .dataframe thead th {\n        text-align: right;\n    }\n</style>\n<table border=\"1\" class=\"dataframe\">\n  <thead>\n    <tr style=\"text-align: right;\">\n      <th></th>\n      <th>quant</th>\n      <th>united</th>\n      <th>sol</th>\n    </tr>\n  </thead>\n  <tbody>\n    <tr>\n      <th>0</th>\n      <td>2023-12-26 23:40:00</td>\n      <td>0.000000</td>\n      <td>0.000000</td>\n    </tr>\n    <tr>\n      <th>1</th>\n      <td>2023-12-26 23:50:00</td>\n      <td>1.099779</td>\n      <td>1.099779</td>\n    </tr>\n    <tr>\n      <th>2</th>\n      <td>2023-12-27 00:00:00</td>\n      <td>1.099779</td>\n      <td>1.099779</td>\n    </tr>\n    <tr>\n      <th>3</th>\n      <td>2023-12-27 00:10:00</td>\n      <td>1.099779</td>\n      <td>1.099779</td>\n    </tr>\n    <tr>\n      <th>4</th>\n      <td>2023-12-27 00:20:00</td>\n      <td>1.099779</td>\n      <td>1.099779</td>\n    </tr>\n    <tr>\n      <th>...</th>\n      <td>...</td>\n      <td>...</td>\n      <td>...</td>\n    </tr>\n    <tr>\n      <th>417</th>\n      <td>2023-12-29 21:10:00</td>\n      <td>1.098857</td>\n      <td>1.100309</td>\n    </tr>\n    <tr>\n      <th>418</th>\n      <td>2023-12-29 21:20:00</td>\n      <td>1.098857</td>\n      <td>1.100309</td>\n    </tr>\n    <tr>\n      <th>419</th>\n      <td>2023-12-29 21:30:00</td>\n      <td>0.003433</td>\n      <td>1.100309</td>\n    </tr>\n    <tr>\n      <th>420</th>\n      <td>2023-12-29 21:40:00</td>\n      <td>1.099969</td>\n      <td>1.099969</td>\n    </tr>\n    <tr>\n      <th>421</th>\n      <td>2023-12-29 21:50:00</td>\n      <td>1.099969</td>\n      <td>1.099969</td>\n    </tr>\n  </tbody>\n</table>\n<p>422 rows × 3 columns</p>\n</div>"
     },
     "execution_count": 131,
     "metadata": {},
     "output_type": "execute_result"
    }
   ],
   "source": [
    "mint = 'bSo13r4TkiE4KumL71LsHTPpL2euBYLFx6h9HP3piy1'\n",
    "\n",
    "up = price_tables.united_prices[mint]\n",
    "sp = price_tables.sol_prices[mint]\n",
    "quants = price_tables.quants\n",
    "# unite them in one df\n",
    "pdf = pd.DataFrame({\n",
    "    'quant': quants,\n",
    "    'united': up, 'sol': sp\n",
    "})\n",
    "pdf"
   ],
   "metadata": {
    "collapsed": false,
    "ExecuteTime": {
     "end_time": "2024-01-03T17:19:04.766343Z",
     "start_time": "2024-01-03T17:19:04.756811Z"
    }
   },
   "id": "34c5a0b8e34b4941"
  },
  {
   "cell_type": "code",
   "execution_count": 134,
   "outputs": [
    {
     "data": {
      "text/plain": "                               quant      united         sol\ncount                            422  422.000000  422.000000\nmean   2023-12-28 10:45:00.000000512    1.280526    1.285093\nmin              2023-12-26 23:40:00    0.000000    0.000000\n25%              2023-12-27 17:12:30    1.099467    1.099717\n50%              2023-12-28 10:45:00    1.099779    1.099779\n75%              2023-12-29 04:17:30    1.099845    1.099947\nmax              2023-12-29 21:50:00   40.710355   40.710355\nstd                              NaN    2.725305    2.724358",
      "text/html": "<div>\n<style scoped>\n    .dataframe tbody tr th:only-of-type {\n        vertical-align: middle;\n    }\n\n    .dataframe tbody tr th {\n        vertical-align: top;\n    }\n\n    .dataframe thead th {\n        text-align: right;\n    }\n</style>\n<table border=\"1\" class=\"dataframe\">\n  <thead>\n    <tr style=\"text-align: right;\">\n      <th></th>\n      <th>quant</th>\n      <th>united</th>\n      <th>sol</th>\n    </tr>\n  </thead>\n  <tbody>\n    <tr>\n      <th>count</th>\n      <td>422</td>\n      <td>422.000000</td>\n      <td>422.000000</td>\n    </tr>\n    <tr>\n      <th>mean</th>\n      <td>2023-12-28 10:45:00.000000512</td>\n      <td>1.280526</td>\n      <td>1.285093</td>\n    </tr>\n    <tr>\n      <th>min</th>\n      <td>2023-12-26 23:40:00</td>\n      <td>0.000000</td>\n      <td>0.000000</td>\n    </tr>\n    <tr>\n      <th>25%</th>\n      <td>2023-12-27 17:12:30</td>\n      <td>1.099467</td>\n      <td>1.099717</td>\n    </tr>\n    <tr>\n      <th>50%</th>\n      <td>2023-12-28 10:45:00</td>\n      <td>1.099779</td>\n      <td>1.099779</td>\n    </tr>\n    <tr>\n      <th>75%</th>\n      <td>2023-12-29 04:17:30</td>\n      <td>1.099845</td>\n      <td>1.099947</td>\n    </tr>\n    <tr>\n      <th>max</th>\n      <td>2023-12-29 21:50:00</td>\n      <td>40.710355</td>\n      <td>40.710355</td>\n    </tr>\n    <tr>\n      <th>std</th>\n      <td>NaN</td>\n      <td>2.725305</td>\n      <td>2.724358</td>\n    </tr>\n  </tbody>\n</table>\n</div>"
     },
     "execution_count": 134,
     "metadata": {},
     "output_type": "execute_result"
    }
   ],
   "source": [
    "pdf.describe()"
   ],
   "metadata": {
    "collapsed": false,
    "ExecuteTime": {
     "end_time": "2024-01-03T17:19:36.457902Z",
     "start_time": "2024-01-03T17:19:36.450783Z"
    }
   },
   "id": "5bcbc52942236192"
  },
  {
   "cell_type": "code",
   "execution_count": 135,
   "outputs": [
    {
     "data": {
      "text/plain": "      source                                          signature  \\\n19829    sol  2rTduCbHRiM2EAdkWHbRUDsrgD4ZSiKUfToWEgLr8htW8e...   \n20008    sol  3u2BRaWmTvLVh3vUh3x4hUu4QxVggFmKRp6WXBk84vaZ2P...   \n\n                timestamp                                         mint  \\\n19829 2023-12-28 19:10:18  bSo13r4TkiE4KumL71LsHTPpL2euBYLFx6h9HP3piy1   \n20008 2023-12-28 19:17:43  bSo13r4TkiE4KumL71LsHTPpL2euBYLFx6h9HP3piy1   \n\n       token_delta  sol_delta                                        trader  \\\n19829    -5.303587   5.831234  7YmiQpsYeJ8TPc9sFcJbMCTTUYjXuixCEiwyzyML18yz   \n20008     0.507837 -23.202044  4W55gPe3PD4DaJxPVpLEbnNV5yRCQieFVABQVbeBvsPg   \n\n               time_quant  \n19829 2023-12-28 19:10:00  \n20008 2023-12-28 19:10:00  ",
      "text/html": "<div>\n<style scoped>\n    .dataframe tbody tr th:only-of-type {\n        vertical-align: middle;\n    }\n\n    .dataframe tbody tr th {\n        vertical-align: top;\n    }\n\n    .dataframe thead th {\n        text-align: right;\n    }\n</style>\n<table border=\"1\" class=\"dataframe\">\n  <thead>\n    <tr style=\"text-align: right;\">\n      <th></th>\n      <th>source</th>\n      <th>signature</th>\n      <th>timestamp</th>\n      <th>mint</th>\n      <th>token_delta</th>\n      <th>sol_delta</th>\n      <th>trader</th>\n      <th>time_quant</th>\n    </tr>\n  </thead>\n  <tbody>\n    <tr>\n      <th>19829</th>\n      <td>sol</td>\n      <td>2rTduCbHRiM2EAdkWHbRUDsrgD4ZSiKUfToWEgLr8htW8e...</td>\n      <td>2023-12-28 19:10:18</td>\n      <td>bSo13r4TkiE4KumL71LsHTPpL2euBYLFx6h9HP3piy1</td>\n      <td>-5.303587</td>\n      <td>5.831234</td>\n      <td>7YmiQpsYeJ8TPc9sFcJbMCTTUYjXuixCEiwyzyML18yz</td>\n      <td>2023-12-28 19:10:00</td>\n    </tr>\n    <tr>\n      <th>20008</th>\n      <td>sol</td>\n      <td>3u2BRaWmTvLVh3vUh3x4hUu4QxVggFmKRp6WXBk84vaZ2P...</td>\n      <td>2023-12-28 19:17:43</td>\n      <td>bSo13r4TkiE4KumL71LsHTPpL2euBYLFx6h9HP3piy1</td>\n      <td>0.507837</td>\n      <td>-23.202044</td>\n      <td>4W55gPe3PD4DaJxPVpLEbnNV5yRCQieFVABQVbeBvsPg</td>\n      <td>2023-12-28 19:10:00</td>\n    </tr>\n  </tbody>\n</table>\n</div>"
     },
     "execution_count": 135,
     "metadata": {},
     "output_type": "execute_result"
    }
   ],
   "source": [
    "interesting_quant = '2023-12-28 19:10:00'\n",
    "# filter by quant and mint\n",
    "trades_df[(trades_df.mint == mint) & (trades_df.time_quant == interesting_quant)]\n"
   ],
   "metadata": {
    "collapsed": false,
    "ExecuteTime": {
     "end_time": "2024-01-03T17:20:39.644273Z",
     "start_time": "2024-01-03T17:20:39.638817Z"
    }
   },
   "id": "bad65b4c70214e7"
  },
  {
   "cell_type": "code",
   "execution_count": 119,
   "outputs": [
    {
     "data": {
      "text/plain": "      source                                          signature  \\\n20683  token  568wJrnDbEjM8n4d3UWJKX2EddsZYRBqfB9F1tackTVXmb...   \n\n                timestamp                                         mint  \\\n20683 2023-12-28 21:06:47  bSo13r4TkiE4KumL71LsHTPpL2euBYLFx6h9HP3piy1   \n\n       token_delta  sol_delta                                        trader  \\\n20683     0.392477   -0.42996  5M5yosrLEUQRnusnnQmfBq2c7btQ6AXvMxx43EUsfaXW   \n\n               time_quant  \n20683 2023-12-28 21:00:00  ",
      "text/html": "<div>\n<style scoped>\n    .dataframe tbody tr th:only-of-type {\n        vertical-align: middle;\n    }\n\n    .dataframe tbody tr th {\n        vertical-align: top;\n    }\n\n    .dataframe thead th {\n        text-align: right;\n    }\n</style>\n<table border=\"1\" class=\"dataframe\">\n  <thead>\n    <tr style=\"text-align: right;\">\n      <th></th>\n      <th>source</th>\n      <th>signature</th>\n      <th>timestamp</th>\n      <th>mint</th>\n      <th>token_delta</th>\n      <th>sol_delta</th>\n      <th>trader</th>\n      <th>time_quant</th>\n    </tr>\n  </thead>\n  <tbody>\n    <tr>\n      <th>20683</th>\n      <td>token</td>\n      <td>568wJrnDbEjM8n4d3UWJKX2EddsZYRBqfB9F1tackTVXmb...</td>\n      <td>2023-12-28 21:06:47</td>\n      <td>bSo13r4TkiE4KumL71LsHTPpL2euBYLFx6h9HP3piy1</td>\n      <td>0.392477</td>\n      <td>-0.42996</td>\n      <td>5M5yosrLEUQRnusnnQmfBq2c7btQ6AXvMxx43EUsfaXW</td>\n      <td>2023-12-28 21:00:00</td>\n    </tr>\n  </tbody>\n</table>\n</div>"
     },
     "execution_count": 119,
     "metadata": {},
     "output_type": "execute_result"
    }
   ],
   "source": [
    "interesting_quant = '2023-12-28 21:00:00'\n",
    "# filter by quant and mint\n",
    "trades_df[(trades_df.mint == mint) & (trades_df.time_quant == interesting_quant)]\n"
   ],
   "metadata": {
    "collapsed": false,
    "ExecuteTime": {
     "end_time": "2024-01-03T17:12:41.397132Z",
     "start_time": "2024-01-03T17:12:41.382925Z"
    }
   },
   "id": "4b41d4d897067299"
  },
  {
   "cell_type": "code",
   "execution_count": null,
   "outputs": [],
   "source": [],
   "metadata": {
    "collapsed": false
   },
   "id": "793e6bdc6d60948e"
  }
 ],
 "metadata": {
  "kernelspec": {
   "display_name": "Python 3",
   "language": "python",
   "name": "python3"
  },
  "language_info": {
   "codemirror_mode": {
    "name": "ipython",
    "version": 2
   },
   "file_extension": ".py",
   "mimetype": "text/x-python",
   "name": "python",
   "nbconvert_exporter": "python",
   "pygments_lexer": "ipython2",
   "version": "2.7.6"
  }
 },
 "nbformat": 4,
 "nbformat_minor": 5
}
