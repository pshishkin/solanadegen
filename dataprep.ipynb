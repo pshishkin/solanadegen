{
 "cells": [
  {
   "cell_type": "code",
   "execution_count": 1,
   "id": "initial_id",
   "metadata": {
    "collapsed": true,
    "ExecuteTime": {
     "end_time": "2024-01-04T12:45:44.178256Z",
     "start_time": "2024-01-04T12:45:34.066549Z"
    }
   },
   "outputs": [
    {
     "name": "stderr",
     "output_type": "stream",
     "text": [
      "2024-01-04 12:45:34,078 - INFO - Getting data from db\n",
      "2024-01-04 12:45:44,172 - INFO - Got 50000 records from db\n"
     ]
    }
   ],
   "source": [
    "import os\n",
    "import psycopg2\n",
    "import pandas as pd\n",
    "from dotenv import load_dotenv\n",
    "import logging\n",
    "\n",
    "logging.basicConfig(level=logging.INFO, format='%(asctime)s - %(levelname)s - %(message)s')\n",
    "\n",
    "def get_db_df():\n",
    "    \n",
    "    logging.info('Getting data from db')\n",
    "    \n",
    "    load_dotenv()\n",
    "    \n",
    "    conn = psycopg2.connect(os.getenv('DATABASE_URL'))\n",
    "    \n",
    "    # Open a cursor to perform database operations\n",
    "    cur = conn.cursor()\n",
    "    \n",
    "    # Execute a query\n",
    "    cur.execute(\"\"\"\n",
    "    SELECT * FROM united_trades\n",
    "    where \n",
    "    abs(sol_delta) > 0.01\n",
    "    --abs(sol_delta) > 0.01\n",
    "    --and abs(token_delta) > 0.01\n",
    "    order by timestamp desc \n",
    "    limit 50000\n",
    "    \"\"\")\n",
    "    \n",
    "    # Retrieve query results\n",
    "    records = cur.fetchall()\n",
    "    \n",
    "    # Convert to pandas DataFrame\n",
    "    df_from_db = pd.DataFrame(records, columns=[desc[0] for desc in cur.description])\n",
    "    \n",
    "    # Close communication with the database\n",
    "    cur.close()\n",
    "    conn.close()\n",
    "    \n",
    "    logging.info(f'Got {len(df_from_db)} records from db')\n",
    "    \n",
    "    return df_from_db\n",
    "\n",
    "df_from_db = get_db_df()"
   ]
  },
  {
   "cell_type": "code",
   "execution_count": 2,
   "outputs": [
    {
     "data": {
      "text/plain": "      source                                          signature  \\\n0        sol  3tB1UKUKxxCxJvckxQsBpnekNgx7sw5zoRHq7PrhyYsBuE...   \n1        sol  2Lo3981tj5panLb7PCdHvqHM3nD2xZYj6BA6LNizQawZdR...   \n2        sol  51yWzCgzRCD9RT4JFH9hJTahw7kCzd25QhJUZUNNgmZVRG...   \n3        sol  prkNojeBGimChBRHVeNLvBLbzNeC7VXDhDGZU7Fh7KG97H...   \n4        sol  5Y7q4hUXGHwvUukx1V8u7QHzyveBviXZCBDxm6kxWuuApa...   \n...      ...                                                ...   \n49995  token  5RHEih9AJcDf6ESFS2pWM5C3mwRHqnZyV2pTEngYZe3ZJR...   \n49996  token  5RHEih9AJcDf6ESFS2pWM5C3mwRHqnZyV2pTEngYZe3ZJR...   \n49997    sol  5AQeBm6Y9HvBPkbWPz9VYm2JpP5xKsaPEY4Yw5jjeNVLbx...   \n49998  token  4WVYNAtYAM6z8FvJk6oaYgaopn3uLhVpfihd2X2WxtL15x...   \n49999  token  4WVYNAtYAM6z8FvJk6oaYgaopn3uLhVpfihd2X2WxtL15x...   \n\n                                         program_ids           timestamp  \\\n0      [JUP6LkbZbjS1jKKwapdHNy74zcZ3tLUZoi5QNyVTaV4] 2024-01-04 12:41:30   \n1      [JUP6LkbZbjS1jKKwapdHNy74zcZ3tLUZoi5QNyVTaV4] 2024-01-04 12:41:29   \n2      [JUP6LkbZbjS1jKKwapdHNy74zcZ3tLUZoi5QNyVTaV4] 2024-01-04 12:41:13   \n3      [JUP6LkbZbjS1jKKwapdHNy74zcZ3tLUZoi5QNyVTaV4] 2024-01-04 12:41:13   \n4      [JUP6LkbZbjS1jKKwapdHNy74zcZ3tLUZoi5QNyVTaV4] 2024-01-04 12:41:07   \n...                                              ...                 ...   \n49995  [JUP6LkbZbjS1jKKwapdHNy74zcZ3tLUZoi5QNyVTaV4] 2024-01-03 06:53:58   \n49996  [JUP6LkbZbjS1jKKwapdHNy74zcZ3tLUZoi5QNyVTaV4] 2024-01-03 06:53:58   \n49997  [JUP6LkbZbjS1jKKwapdHNy74zcZ3tLUZoi5QNyVTaV4] 2024-01-03 06:53:57   \n49998  [JUP6LkbZbjS1jKKwapdHNy74zcZ3tLUZoi5QNyVTaV4] 2024-01-03 06:53:57   \n49999  [JUP6LkbZbjS1jKKwapdHNy74zcZ3tLUZoi5QNyVTaV4] 2024-01-03 06:53:57   \n\n                                               mint   token_delta  sol_delta  \\\n0      DH9CFyU13rGKdR6ohWkS7THfSQqetSBqnXFCzt93iqr7 -4.397729e+05   1.783756   \n1      EdNiGWbkBwmmz7uhtdY3DqKZn1n5m1c61uLVgvXYZWGS  1.382082e+08  -0.010082   \n2      94sFWT94hg6qK9VtYwGz8VxbyEMaXf9H2U3HTTbofimy -7.755679e+08   1.833103   \n3      CUk8cQBHQFz35UQnY457ebNEPMTUgGc9QwiSDWJUGqqP  7.933989e+06  -1.990007   \n4      3FG9DAv3CDBEh1CQJhRM9BYe5thUMvP5GmW46524Qahv  5.461599e+03  -1.165005   \n...                                             ...           ...        ...   \n49995  HZ1JovNiVvGrGNiiYvEozEVgZ58xaU3RKwX8eACQBCt3  2.893700e+02  -0.916925   \n49996  EPjFWdd5AufqSSqeM2qN1xzybapC8G4wEGGkZwyTDt1v -1.000000e+02   0.904549   \n49997  39dmB1koRSHpnrnqQYB3Psbbo525Rviz4utg49HqqyrY -1.396147e+04   2.193346   \n49998  Es9vMFrzaCERmJfrF4H2FYD4KCoNkY11McCe8BenwNYB -3.000000e+02   2.821848   \n49999  7EYnhQoR9YM3N7UoaKRoA44Uy8JeaZV3qyouov87awMs  3.563007e+03  -2.774803   \n\n                                             trader  \n0      7qp8So5tkqpJm3qhQZHPAxBj5T9QWkqTSeP8fx3gKcbY  \n1      A1xZ6wXqutw53EGwc2Eu88vCtPqq4D35otUoUeyZaxok  \n2      BhCXGfyKVvpQypvACXqkLvEmjDdmqws5TPcjExM54Cxx  \n3      71UUEy1d8W4m5nGtN7FmqCGTkxaoaAEEDb4aKpFcH61f  \n4      5pyKssZ8322YC2LexSgdbVLVXGFjm5GEGyWNMuheA8CQ  \n...                                             ...  \n49995  252c9fkfFAMCjJM1vaVdLnn1hYHRRZNrqZY8fbJbAzTT  \n49996  252c9fkfFAMCjJM1vaVdLnn1hYHRRZNrqZY8fbJbAzTT  \n49997  FhaeUYRWk8FdSyfWTZ4LuggfX8x8VvGnVCgnyXZznCDX  \n49998  61gP5t3MFDbPmUacrai8PhkqSyqmdB4Pn3fmabck53uQ  \n49999  61gP5t3MFDbPmUacrai8PhkqSyqmdB4Pn3fmabck53uQ  \n\n[50000 rows x 8 columns]",
      "text/html": "<div>\n<style scoped>\n    .dataframe tbody tr th:only-of-type {\n        vertical-align: middle;\n    }\n\n    .dataframe tbody tr th {\n        vertical-align: top;\n    }\n\n    .dataframe thead th {\n        text-align: right;\n    }\n</style>\n<table border=\"1\" class=\"dataframe\">\n  <thead>\n    <tr style=\"text-align: right;\">\n      <th></th>\n      <th>source</th>\n      <th>signature</th>\n      <th>program_ids</th>\n      <th>timestamp</th>\n      <th>mint</th>\n      <th>token_delta</th>\n      <th>sol_delta</th>\n      <th>trader</th>\n    </tr>\n  </thead>\n  <tbody>\n    <tr>\n      <th>0</th>\n      <td>sol</td>\n      <td>3tB1UKUKxxCxJvckxQsBpnekNgx7sw5zoRHq7PrhyYsBuE...</td>\n      <td>[JUP6LkbZbjS1jKKwapdHNy74zcZ3tLUZoi5QNyVTaV4]</td>\n      <td>2024-01-04 12:41:30</td>\n      <td>DH9CFyU13rGKdR6ohWkS7THfSQqetSBqnXFCzt93iqr7</td>\n      <td>-4.397729e+05</td>\n      <td>1.783756</td>\n      <td>7qp8So5tkqpJm3qhQZHPAxBj5T9QWkqTSeP8fx3gKcbY</td>\n    </tr>\n    <tr>\n      <th>1</th>\n      <td>sol</td>\n      <td>2Lo3981tj5panLb7PCdHvqHM3nD2xZYj6BA6LNizQawZdR...</td>\n      <td>[JUP6LkbZbjS1jKKwapdHNy74zcZ3tLUZoi5QNyVTaV4]</td>\n      <td>2024-01-04 12:41:29</td>\n      <td>EdNiGWbkBwmmz7uhtdY3DqKZn1n5m1c61uLVgvXYZWGS</td>\n      <td>1.382082e+08</td>\n      <td>-0.010082</td>\n      <td>A1xZ6wXqutw53EGwc2Eu88vCtPqq4D35otUoUeyZaxok</td>\n    </tr>\n    <tr>\n      <th>2</th>\n      <td>sol</td>\n      <td>51yWzCgzRCD9RT4JFH9hJTahw7kCzd25QhJUZUNNgmZVRG...</td>\n      <td>[JUP6LkbZbjS1jKKwapdHNy74zcZ3tLUZoi5QNyVTaV4]</td>\n      <td>2024-01-04 12:41:13</td>\n      <td>94sFWT94hg6qK9VtYwGz8VxbyEMaXf9H2U3HTTbofimy</td>\n      <td>-7.755679e+08</td>\n      <td>1.833103</td>\n      <td>BhCXGfyKVvpQypvACXqkLvEmjDdmqws5TPcjExM54Cxx</td>\n    </tr>\n    <tr>\n      <th>3</th>\n      <td>sol</td>\n      <td>prkNojeBGimChBRHVeNLvBLbzNeC7VXDhDGZU7Fh7KG97H...</td>\n      <td>[JUP6LkbZbjS1jKKwapdHNy74zcZ3tLUZoi5QNyVTaV4]</td>\n      <td>2024-01-04 12:41:13</td>\n      <td>CUk8cQBHQFz35UQnY457ebNEPMTUgGc9QwiSDWJUGqqP</td>\n      <td>7.933989e+06</td>\n      <td>-1.990007</td>\n      <td>71UUEy1d8W4m5nGtN7FmqCGTkxaoaAEEDb4aKpFcH61f</td>\n    </tr>\n    <tr>\n      <th>4</th>\n      <td>sol</td>\n      <td>5Y7q4hUXGHwvUukx1V8u7QHzyveBviXZCBDxm6kxWuuApa...</td>\n      <td>[JUP6LkbZbjS1jKKwapdHNy74zcZ3tLUZoi5QNyVTaV4]</td>\n      <td>2024-01-04 12:41:07</td>\n      <td>3FG9DAv3CDBEh1CQJhRM9BYe5thUMvP5GmW46524Qahv</td>\n      <td>5.461599e+03</td>\n      <td>-1.165005</td>\n      <td>5pyKssZ8322YC2LexSgdbVLVXGFjm5GEGyWNMuheA8CQ</td>\n    </tr>\n    <tr>\n      <th>...</th>\n      <td>...</td>\n      <td>...</td>\n      <td>...</td>\n      <td>...</td>\n      <td>...</td>\n      <td>...</td>\n      <td>...</td>\n      <td>...</td>\n    </tr>\n    <tr>\n      <th>49995</th>\n      <td>token</td>\n      <td>5RHEih9AJcDf6ESFS2pWM5C3mwRHqnZyV2pTEngYZe3ZJR...</td>\n      <td>[JUP6LkbZbjS1jKKwapdHNy74zcZ3tLUZoi5QNyVTaV4]</td>\n      <td>2024-01-03 06:53:58</td>\n      <td>HZ1JovNiVvGrGNiiYvEozEVgZ58xaU3RKwX8eACQBCt3</td>\n      <td>2.893700e+02</td>\n      <td>-0.916925</td>\n      <td>252c9fkfFAMCjJM1vaVdLnn1hYHRRZNrqZY8fbJbAzTT</td>\n    </tr>\n    <tr>\n      <th>49996</th>\n      <td>token</td>\n      <td>5RHEih9AJcDf6ESFS2pWM5C3mwRHqnZyV2pTEngYZe3ZJR...</td>\n      <td>[JUP6LkbZbjS1jKKwapdHNy74zcZ3tLUZoi5QNyVTaV4]</td>\n      <td>2024-01-03 06:53:58</td>\n      <td>EPjFWdd5AufqSSqeM2qN1xzybapC8G4wEGGkZwyTDt1v</td>\n      <td>-1.000000e+02</td>\n      <td>0.904549</td>\n      <td>252c9fkfFAMCjJM1vaVdLnn1hYHRRZNrqZY8fbJbAzTT</td>\n    </tr>\n    <tr>\n      <th>49997</th>\n      <td>sol</td>\n      <td>5AQeBm6Y9HvBPkbWPz9VYm2JpP5xKsaPEY4Yw5jjeNVLbx...</td>\n      <td>[JUP6LkbZbjS1jKKwapdHNy74zcZ3tLUZoi5QNyVTaV4]</td>\n      <td>2024-01-03 06:53:57</td>\n      <td>39dmB1koRSHpnrnqQYB3Psbbo525Rviz4utg49HqqyrY</td>\n      <td>-1.396147e+04</td>\n      <td>2.193346</td>\n      <td>FhaeUYRWk8FdSyfWTZ4LuggfX8x8VvGnVCgnyXZznCDX</td>\n    </tr>\n    <tr>\n      <th>49998</th>\n      <td>token</td>\n      <td>4WVYNAtYAM6z8FvJk6oaYgaopn3uLhVpfihd2X2WxtL15x...</td>\n      <td>[JUP6LkbZbjS1jKKwapdHNy74zcZ3tLUZoi5QNyVTaV4]</td>\n      <td>2024-01-03 06:53:57</td>\n      <td>Es9vMFrzaCERmJfrF4H2FYD4KCoNkY11McCe8BenwNYB</td>\n      <td>-3.000000e+02</td>\n      <td>2.821848</td>\n      <td>61gP5t3MFDbPmUacrai8PhkqSyqmdB4Pn3fmabck53uQ</td>\n    </tr>\n    <tr>\n      <th>49999</th>\n      <td>token</td>\n      <td>4WVYNAtYAM6z8FvJk6oaYgaopn3uLhVpfihd2X2WxtL15x...</td>\n      <td>[JUP6LkbZbjS1jKKwapdHNy74zcZ3tLUZoi5QNyVTaV4]</td>\n      <td>2024-01-03 06:53:57</td>\n      <td>7EYnhQoR9YM3N7UoaKRoA44Uy8JeaZV3qyouov87awMs</td>\n      <td>3.563007e+03</td>\n      <td>-2.774803</td>\n      <td>61gP5t3MFDbPmUacrai8PhkqSyqmdB4Pn3fmabck53uQ</td>\n    </tr>\n  </tbody>\n</table>\n<p>50000 rows × 8 columns</p>\n</div>"
     },
     "execution_count": 2,
     "metadata": {},
     "output_type": "execute_result"
    }
   ],
   "source": [
    "df_from_db"
   ],
   "metadata": {
    "collapsed": false,
    "ExecuteTime": {
     "end_time": "2024-01-04T12:45:45.774959Z",
     "start_time": "2024-01-04T12:45:45.769977Z"
    }
   },
   "id": "6a6d69d4a61d7ab"
  },
  {
   "cell_type": "code",
   "execution_count": 7,
   "outputs": [
    {
     "name": "stdout",
     "output_type": "stream",
     "text": [
      "2024-01-03 07:04:23 12AjTG16m3oWzjVy2kP2C1bUEzZv8PayQDM9csRR1obM 0.346824274 -101158227771.94292\n",
      "2024-01-03 07:52:45 12AjTG16m3oWzjVy2kP2C1bUEzZv8PayQDM9csRR1obM 0.223280192 -64991741632.80637\n",
      "2024-01-03 16:53:30 12AjTG16m3oWzjVy2kP2C1bUEzZv8PayQDM9csRR1obM -0.500005003 189478272346.01355\n",
      "2024-01-04 10:45:20 12AjTG16m3oWzjVy2kP2C1bUEzZv8PayQDM9csRR1obM -0.300005408 79016579696.48972\n",
      "2024-01-03 15:01:51 12FvihLoAzTtaA98YVuErGftCXtoc83t3YFk4WdKK79T 0.226812216 -700000.0\n",
      "2024-01-03 15:22:23 12FvihLoAzTtaA98YVuErGftCXtoc83t3YFk4WdKK79T 0.170390857 -539806.965447244\n",
      "2024-01-03 17:50:23 12FvihLoAzTtaA98YVuErGftCXtoc83t3YFk4WdKK79T 0.109741257 -266930.142651348\n",
      "2024-01-03 21:36:47 12FvihLoAzTtaA98YVuErGftCXtoc83t3YFk4WdKK79T 0.086776927 -220708.505947388\n",
      "2024-01-04 01:42:17 12FvihLoAzTtaA98YVuErGftCXtoc83t3YFk4WdKK79T 1.006459559 -1880906.2656870717\n",
      "2024-01-04 04:09:44 12FvihLoAzTtaA98YVuErGftCXtoc83t3YFk4WdKK79T -0.400082 709725.7356539108\n"
     ]
    }
   ],
   "source": [
    "df_from_db.sort_values(by=['mint', 'timestamp'], inplace=True)\n",
    "cnt = 0\n",
    "for i, row in df_from_db.iterrows():\n",
    "    cnt += 1\n",
    "    print(row['timestamp'], row['mint'], row['sol_delta'], row['token_delta'])\n",
    "    if cnt >= 10:\n",
    "        break"
   ],
   "metadata": {
    "collapsed": false,
    "ExecuteTime": {
     "end_time": "2024-01-04T12:55:51.929729Z",
     "start_time": "2024-01-04T12:55:51.880975Z"
    }
   },
   "id": "f055ab6c25a9a7c1"
  },
  {
   "cell_type": "code",
   "execution_count": 192,
   "outputs": [
    {
     "data": {
      "text/plain": "                           timestamp   token_delta     sol_delta\ncount                          50000  5.000000e+04  50000.000000\nmean   2024-01-03 09:32:24.591880192 -1.645981e+12      0.399118\nmin              2024-01-02 17:40:32 -7.825310e+16  -1419.814702\n25%       2024-01-03 02:34:58.500000 -1.925216e+04     -0.891305\n50%       2024-01-03 10:32:33.500000 -8.291130e-01      0.013577\n75%              2024-01-03 16:36:52  1.282740e+04      0.783524\nmax              2024-01-03 23:22:37  4.770387e+14   2207.287738\nstd                              NaN  3.501978e+14     36.405884",
      "text/html": "<div>\n<style scoped>\n    .dataframe tbody tr th:only-of-type {\n        vertical-align: middle;\n    }\n\n    .dataframe tbody tr th {\n        vertical-align: top;\n    }\n\n    .dataframe thead th {\n        text-align: right;\n    }\n</style>\n<table border=\"1\" class=\"dataframe\">\n  <thead>\n    <tr style=\"text-align: right;\">\n      <th></th>\n      <th>timestamp</th>\n      <th>token_delta</th>\n      <th>sol_delta</th>\n    </tr>\n  </thead>\n  <tbody>\n    <tr>\n      <th>count</th>\n      <td>50000</td>\n      <td>5.000000e+04</td>\n      <td>50000.000000</td>\n    </tr>\n    <tr>\n      <th>mean</th>\n      <td>2024-01-03 09:32:24.591880192</td>\n      <td>-1.645981e+12</td>\n      <td>0.399118</td>\n    </tr>\n    <tr>\n      <th>min</th>\n      <td>2024-01-02 17:40:32</td>\n      <td>-7.825310e+16</td>\n      <td>-1419.814702</td>\n    </tr>\n    <tr>\n      <th>25%</th>\n      <td>2024-01-03 02:34:58.500000</td>\n      <td>-1.925216e+04</td>\n      <td>-0.891305</td>\n    </tr>\n    <tr>\n      <th>50%</th>\n      <td>2024-01-03 10:32:33.500000</td>\n      <td>-8.291130e-01</td>\n      <td>0.013577</td>\n    </tr>\n    <tr>\n      <th>75%</th>\n      <td>2024-01-03 16:36:52</td>\n      <td>1.282740e+04</td>\n      <td>0.783524</td>\n    </tr>\n    <tr>\n      <th>max</th>\n      <td>2024-01-03 23:22:37</td>\n      <td>4.770387e+14</td>\n      <td>2207.287738</td>\n    </tr>\n    <tr>\n      <th>std</th>\n      <td>NaN</td>\n      <td>3.501978e+14</td>\n      <td>36.405884</td>\n    </tr>\n  </tbody>\n</table>\n</div>"
     },
     "execution_count": 192,
     "metadata": {},
     "output_type": "execute_result"
    }
   ],
   "source": [
    "df_from_db.describe()"
   ],
   "metadata": {
    "collapsed": false,
    "ExecuteTime": {
     "end_time": "2024-01-03T23:26:47.151646Z",
     "start_time": "2024-01-03T23:26:47.141011Z"
    }
   },
   "id": "1f0c31be25200e46"
  },
  {
   "cell_type": "code",
   "execution_count": 193,
   "outputs": [
    {
     "name": "stderr",
     "output_type": "stream",
     "text": [
      "2024-01-03 23:26:49,239 - INFO - Filtered df by program_id, got 49076 records\n"
     ]
    }
   ],
   "source": [
    "def filter_by_program_id(df_from_db):\n",
    "    # The value to filter by, wrapped in a list to match the column's data type\n",
    "    value_to_filter = ['JUP6LkbZbjS1jKKwapdHNy74zcZ3tLUZoi5QNyVTaV4']\n",
    "    # Use the `.apply()` method with a lambda function to check for equality\n",
    "    filtered_df = df_from_db[df_from_db['program_ids'].apply(lambda x: x == value_to_filter)]\n",
    "    logging.info(f'Filtered df by program_id, got {len(filtered_df)} records')\n",
    "    return filtered_df\n",
    "\n",
    "df_from_db = filter_by_program_id(df_from_db)\n"
   ],
   "metadata": {
    "collapsed": false,
    "ExecuteTime": {
     "end_time": "2024-01-03T23:26:49.248833Z",
     "start_time": "2024-01-03T23:26:49.235773Z"
    }
   },
   "id": "fe96916d2febd2d4"
  },
  {
   "cell_type": "code",
   "execution_count": 194,
   "outputs": [
    {
     "data": {
      "text/plain": "26269710"
     },
     "execution_count": 194,
     "metadata": {},
     "output_type": "execute_result"
    }
   ],
   "source": [
    "df_from_db.memory_usage(deep=True).sum()"
   ],
   "metadata": {
    "collapsed": false,
    "ExecuteTime": {
     "end_time": "2024-01-03T23:26:50.143650Z",
     "start_time": "2024-01-03T23:26:50.140470Z"
    }
   },
   "id": "fc0ad56121f0daf2"
  },
  {
   "cell_type": "code",
   "execution_count": 195,
   "outputs": [],
   "source": [
    "trades_df = df_from_db.copy()"
   ],
   "metadata": {
    "collapsed": false,
    "ExecuteTime": {
     "end_time": "2024-01-03T23:26:52.076217Z",
     "start_time": "2024-01-03T23:26:52.063767Z"
    }
   },
   "id": "55302987fe88410a"
  },
  {
   "cell_type": "code",
   "execution_count": 196,
   "outputs": [],
   "source": [
    "from datetime import timedelta\n",
    "TIME_QUANTIZATION = '10min'\n",
    "QUANT_TIMEDELTA = timedelta(minutes=10)\n",
    "\n",
    "def add_time_quantization(trades_df):\n",
    "    trades_df['time_quant'] = trades_df['timestamp'].dt.floor('10min')\n",
    "\n",
    "add_time_quantization(trades_df)"
   ],
   "metadata": {
    "collapsed": false,
    "ExecuteTime": {
     "end_time": "2024-01-03T23:26:52.731567Z",
     "start_time": "2024-01-03T23:26:52.727023Z"
    }
   },
   "id": "34f7e6906a3d66c4"
  },
  {
   "cell_type": "code",
   "execution_count": 199,
   "outputs": [
    {
     "name": "stdout",
     "output_type": "stream",
     "text": [
      "44193\n",
      "265\n",
      "38784\n",
      "136\n"
     ]
    }
   ],
   "source": [
    "def remove_rare_tokens(trades_df, min_trades=20, min_quants=5):\n",
    "    # mints that appears in at least 10 trades\n",
    "    mints_counts = trades_df.groupby('mint').size()\n",
    "    mints_with_n_trades = mints_counts[mints_counts >= min_trades].index\n",
    "    # print(mints_with_10_trades)\n",
    "    # mints that appears in at least 3 pairs (mint, time_quant)\n",
    "    keys_counts = trades_df.groupby(['mint', 'time_quant']).size()\n",
    "    mints_with_n_quants = keys_counts[keys_counts >= min_quants].index.get_level_values(0).unique()\n",
    "    # print(mints_with_3_pairs)\n",
    "    # intersection of these mints\n",
    "    mints_to_keep = mints_with_n_trades.intersection(mints_with_n_quants)\n",
    "    # filter df by these mints\n",
    "    trades_df = trades_df[trades_df.mint.isin(mints_to_keep)]\n",
    "    return trades_df\n",
    "    \n",
    "print(len(trades_df))\n",
    "print(trades_df.mint.nunique())\n",
    "trades_df = remove_rare_tokens(trades_df)\n",
    "print(len(trades_df))\n",
    "print(trades_df.mint.nunique())\n"
   ],
   "metadata": {
    "collapsed": false,
    "ExecuteTime": {
     "end_time": "2024-01-03T23:27:36.032603Z",
     "start_time": "2024-01-03T23:27:35.997337Z"
    }
   },
   "id": "1c9cfd1a8406ee9"
  },
  {
   "cell_type": "code",
   "execution_count": 219,
   "outputs": [
    {
     "name": "stderr",
     "output_type": "stream",
     "text": [
      "2024-01-03 23:56:00,479 - INFO - Got price tables for 136 mints\n"
     ]
    }
   ],
   "source": [
    "from typing import Dict\n",
    "import numpy as np\n",
    "\n",
    "class PriceTables:\n",
    "    quants: pd.DatetimeIndex\n",
    "    sol_prices: Dict[str, np.array]\n",
    "    united_prices: Dict[str, np.array]\n",
    "    \n",
    "    def __init__(self, sol_prices, united_prices, quants):\n",
    "        self.sol_prices = sol_prices\n",
    "        self.united_prices = united_prices\n",
    "        self.quants = quants\n",
    "    \n",
    "    def get_price(self, mint, quant, price_type):\n",
    "        quant_index_float = (quant - self.quants[0]) / QUANT_TIMEDELTA\n",
    "        # convert to int, but check that it's close to integer\n",
    "        quant_index = round(quant_index_float)\n",
    "        if abs(quant_index_float - quant_index) > 0.01:\n",
    "            raise ValueError(f'Quant {quant} is not close to quantization')\n",
    "        \n",
    "        if quant_index < 0 or quant_index >= len(self.quants):\n",
    "            return -1\n",
    "\n",
    "        if price_type == 'sol':\n",
    "            return self.sol_prices[mint][quant_index]\n",
    "        elif price_type == 'united':\n",
    "            return self.united_prices[mint][quant_index]\n",
    "        else:\n",
    "            raise ValueError(f'Unknown price type: {price_type}')\n",
    "    \n",
    "def get_exponential_price_average(df, alpha=0.5) -> float:\n",
    "    # calculates exponential moving average of price,\n",
    "    # with sol_delta / token_delta as price,\n",
    "    # and sol_delta as weight\n",
    "    prices = abs(df.sol_delta / df.token_delta)\n",
    "    weights = abs(df.sol_delta)\n",
    "    # multiply weight exponentially\n",
    "    exp = (1 - alpha) ** np.arange(len(df))\n",
    "    # reverse last series\n",
    "    exp = exp[::-1]\n",
    "    # multiply weight by exp and make sum equal to 1\n",
    "    weights = weights * exp\n",
    "    weights = weights / weights.sum()\n",
    "    # calc weighted average price\n",
    "    price = (prices * weights).sum()\n",
    "    return price\n",
    "\n",
    "def get_price_tables(trades_df) -> PriceTables:\n",
    "    min_quant = trades_df.time_quant.min()\n",
    "    max_quant = trades_df.time_quant.max()\n",
    "    global_quants = pd.date_range(min_quant, max_quant, freq=TIME_QUANTIZATION)\n",
    "    quants_len = len(global_quants)\n",
    "    \n",
    "    trades_df.sort_values(by=['mint', 'time_quant'], inplace=True)\n",
    "    sol_prices = {}\n",
    "    united_prices = {}\n",
    "    for mint in trades_df.mint.unique():\n",
    "        sol_prices[mint] = np.zeros(quants_len)\n",
    "        united_prices[mint] = np.zeros(quants_len)\n",
    "        mint_df = trades_df[trades_df.mint == mint]\n",
    "        mint_df.set_index('time_quant', inplace=True)\n",
    "        last_sol_price = 0.\n",
    "        last_united_price = 0.\n",
    "        quants_in_df = mint_df.index.unique()\n",
    "        for i, quant in enumerate(global_quants):\n",
    "            if quant in quants_in_df:\n",
    "                # mint_quant_df = mint_df[['source', 'sol_delta', 'token_delta']].loc[[quant]]\n",
    "                mint_quant_df = mint_df.loc[[quant]]\n",
    "                last_united_price = get_exponential_price_average(mint_quant_df)\n",
    "                # get only sol trades which means source is 'sol\n",
    "                sol_df = mint_quant_df[mint_quant_df['source'] == 'sol'] \n",
    "                # if it's non-empty, calc price\n",
    "                if len(sol_df) > 0:\n",
    "                    last_sol_price = get_exponential_price_average(sol_df)\n",
    "            sol_prices[mint][i] = last_sol_price\n",
    "            united_prices[mint][i] = last_united_price\n",
    "    logging.info(f'Got price tables for {len(sol_prices)} mints')\n",
    "    return PriceTables(sol_prices, united_prices, global_quants)\n",
    "\n",
    "price_tables = get_price_tables(trades_df)"
   ],
   "metadata": {
    "collapsed": false,
    "ExecuteTime": {
     "end_time": "2024-01-03T23:56:00.486306Z",
     "start_time": "2024-01-03T23:55:53.828500Z"
    }
   },
   "id": "b08cfc72d88b34b6"
  },
  {
   "cell_type": "code",
   "execution_count": 220,
   "outputs": [
    {
     "data": {
      "text/plain": "                  quant    united       sol  united/sol\n0   2024-01-02 17:40:00  1.101182  1.101159    1.000021\n1   2024-01-02 17:50:00  1.102057  1.102188    0.999882\n2   2024-01-02 18:00:00  1.102057  1.102188    0.999882\n3   2024-01-02 18:10:00  1.096199  1.102188    0.994567\n4   2024-01-02 18:20:00  1.102761  1.102913    0.999863\n..                  ...       ...       ...         ...\n174 2024-01-03 22:40:00  1.100666  1.100666    1.000000\n175 2024-01-03 22:50:00  1.100666  1.100666    1.000000\n176 2024-01-03 23:00:00  1.100666  1.100666    1.000000\n177 2024-01-03 23:10:00  1.100993  1.100993    1.000000\n178 2024-01-03 23:20:00  1.100993  1.100993    1.000000\n\n[179 rows x 4 columns]",
      "text/html": "<div>\n<style scoped>\n    .dataframe tbody tr th:only-of-type {\n        vertical-align: middle;\n    }\n\n    .dataframe tbody tr th {\n        vertical-align: top;\n    }\n\n    .dataframe thead th {\n        text-align: right;\n    }\n</style>\n<table border=\"1\" class=\"dataframe\">\n  <thead>\n    <tr style=\"text-align: right;\">\n      <th></th>\n      <th>quant</th>\n      <th>united</th>\n      <th>sol</th>\n      <th>united/sol</th>\n    </tr>\n  </thead>\n  <tbody>\n    <tr>\n      <th>0</th>\n      <td>2024-01-02 17:40:00</td>\n      <td>1.101182</td>\n      <td>1.101159</td>\n      <td>1.000021</td>\n    </tr>\n    <tr>\n      <th>1</th>\n      <td>2024-01-02 17:50:00</td>\n      <td>1.102057</td>\n      <td>1.102188</td>\n      <td>0.999882</td>\n    </tr>\n    <tr>\n      <th>2</th>\n      <td>2024-01-02 18:00:00</td>\n      <td>1.102057</td>\n      <td>1.102188</td>\n      <td>0.999882</td>\n    </tr>\n    <tr>\n      <th>3</th>\n      <td>2024-01-02 18:10:00</td>\n      <td>1.096199</td>\n      <td>1.102188</td>\n      <td>0.994567</td>\n    </tr>\n    <tr>\n      <th>4</th>\n      <td>2024-01-02 18:20:00</td>\n      <td>1.102761</td>\n      <td>1.102913</td>\n      <td>0.999863</td>\n    </tr>\n    <tr>\n      <th>...</th>\n      <td>...</td>\n      <td>...</td>\n      <td>...</td>\n      <td>...</td>\n    </tr>\n    <tr>\n      <th>174</th>\n      <td>2024-01-03 22:40:00</td>\n      <td>1.100666</td>\n      <td>1.100666</td>\n      <td>1.000000</td>\n    </tr>\n    <tr>\n      <th>175</th>\n      <td>2024-01-03 22:50:00</td>\n      <td>1.100666</td>\n      <td>1.100666</td>\n      <td>1.000000</td>\n    </tr>\n    <tr>\n      <th>176</th>\n      <td>2024-01-03 23:00:00</td>\n      <td>1.100666</td>\n      <td>1.100666</td>\n      <td>1.000000</td>\n    </tr>\n    <tr>\n      <th>177</th>\n      <td>2024-01-03 23:10:00</td>\n      <td>1.100993</td>\n      <td>1.100993</td>\n      <td>1.000000</td>\n    </tr>\n    <tr>\n      <th>178</th>\n      <td>2024-01-03 23:20:00</td>\n      <td>1.100993</td>\n      <td>1.100993</td>\n      <td>1.000000</td>\n    </tr>\n  </tbody>\n</table>\n<p>179 rows × 4 columns</p>\n</div>"
     },
     "execution_count": 220,
     "metadata": {},
     "output_type": "execute_result"
    }
   ],
   "source": [
    "mint = 'bSo13r4TkiE4KumL71LsHTPpL2euBYLFx6h9HP3piy1'\n",
    "\n",
    "up = price_tables.united_prices[mint]\n",
    "sp = price_tables.sol_prices[mint]\n",
    "quants = price_tables.quants\n",
    "# unite them in one df\n",
    "pdf = pd.DataFrame({\n",
    "    'quant': quants,\n",
    "    'united': up, 'sol': sp,\n",
    "    'united/sol': up / sp,\n",
    "})\n",
    "pdf"
   ],
   "metadata": {
    "collapsed": false,
    "ExecuteTime": {
     "end_time": "2024-01-03T23:56:02.581723Z",
     "start_time": "2024-01-03T23:56:02.570254Z"
    }
   },
   "id": "34c5a0b8e34b4941"
  },
  {
   "cell_type": "code",
   "execution_count": 202,
   "outputs": [
    {
     "data": {
      "text/plain": "                     quant      united         sol  united/sol\ncount                  179  179.000000  179.000000  179.000000\nmean   2024-01-03 08:30:00    1.101395    1.102949    0.998649\nmin    2024-01-02 17:40:00    1.061562    1.086432    0.959704\n25%    2024-01-03 01:05:00    1.100653    1.100852    0.999711\n50%    2024-01-03 08:30:00    1.100993    1.101015    1.000000\n75%    2024-01-03 15:55:00    1.101330    1.101272    1.000078\nmax    2024-01-03 23:20:00    1.128551    1.143234    1.029346\nstd                    NaN    0.007073    0.008459    0.009949",
      "text/html": "<div>\n<style scoped>\n    .dataframe tbody tr th:only-of-type {\n        vertical-align: middle;\n    }\n\n    .dataframe tbody tr th {\n        vertical-align: top;\n    }\n\n    .dataframe thead th {\n        text-align: right;\n    }\n</style>\n<table border=\"1\" class=\"dataframe\">\n  <thead>\n    <tr style=\"text-align: right;\">\n      <th></th>\n      <th>quant</th>\n      <th>united</th>\n      <th>sol</th>\n      <th>united/sol</th>\n    </tr>\n  </thead>\n  <tbody>\n    <tr>\n      <th>count</th>\n      <td>179</td>\n      <td>179.000000</td>\n      <td>179.000000</td>\n      <td>179.000000</td>\n    </tr>\n    <tr>\n      <th>mean</th>\n      <td>2024-01-03 08:30:00</td>\n      <td>1.101395</td>\n      <td>1.102949</td>\n      <td>0.998649</td>\n    </tr>\n    <tr>\n      <th>min</th>\n      <td>2024-01-02 17:40:00</td>\n      <td>1.061562</td>\n      <td>1.086432</td>\n      <td>0.959704</td>\n    </tr>\n    <tr>\n      <th>25%</th>\n      <td>2024-01-03 01:05:00</td>\n      <td>1.100653</td>\n      <td>1.100852</td>\n      <td>0.999711</td>\n    </tr>\n    <tr>\n      <th>50%</th>\n      <td>2024-01-03 08:30:00</td>\n      <td>1.100993</td>\n      <td>1.101015</td>\n      <td>1.000000</td>\n    </tr>\n    <tr>\n      <th>75%</th>\n      <td>2024-01-03 15:55:00</td>\n      <td>1.101330</td>\n      <td>1.101272</td>\n      <td>1.000078</td>\n    </tr>\n    <tr>\n      <th>max</th>\n      <td>2024-01-03 23:20:00</td>\n      <td>1.128551</td>\n      <td>1.143234</td>\n      <td>1.029346</td>\n    </tr>\n    <tr>\n      <th>std</th>\n      <td>NaN</td>\n      <td>0.007073</td>\n      <td>0.008459</td>\n      <td>0.009949</td>\n    </tr>\n  </tbody>\n</table>\n</div>"
     },
     "execution_count": 202,
     "metadata": {},
     "output_type": "execute_result"
    }
   ],
   "source": [
    "pdf.describe()"
   ],
   "metadata": {
    "collapsed": false,
    "ExecuteTime": {
     "end_time": "2024-01-03T23:28:55.913978Z",
     "start_time": "2024-01-03T23:28:55.882249Z"
    }
   },
   "id": "5bcbc52942236192"
  },
  {
   "cell_type": "code",
   "execution_count": 203,
   "outputs": [
    {
     "data": {
      "text/plain": "Empty DataFrame\nColumns: [source, signature, program_ids, timestamp, mint, token_delta, sol_delta, trader, time_quant]\nIndex: []",
      "text/html": "<div>\n<style scoped>\n    .dataframe tbody tr th:only-of-type {\n        vertical-align: middle;\n    }\n\n    .dataframe tbody tr th {\n        vertical-align: top;\n    }\n\n    .dataframe thead th {\n        text-align: right;\n    }\n</style>\n<table border=\"1\" class=\"dataframe\">\n  <thead>\n    <tr style=\"text-align: right;\">\n      <th></th>\n      <th>source</th>\n      <th>signature</th>\n      <th>program_ids</th>\n      <th>timestamp</th>\n      <th>mint</th>\n      <th>token_delta</th>\n      <th>sol_delta</th>\n      <th>trader</th>\n      <th>time_quant</th>\n    </tr>\n  </thead>\n  <tbody>\n  </tbody>\n</table>\n</div>"
     },
     "execution_count": 203,
     "metadata": {},
     "output_type": "execute_result"
    }
   ],
   "source": [
    "interesting_quant = '2024-01-02 17:30:00'\n",
    "# filter by quant and mint\n",
    "trades_df[(trades_df.mint == mint) & (trades_df.time_quant == interesting_quant)]\n"
   ],
   "metadata": {
    "collapsed": false,
    "ExecuteTime": {
     "end_time": "2024-01-03T23:29:31.807592Z",
     "start_time": "2024-01-03T23:29:31.796172Z"
    }
   },
   "id": "bad65b4c70214e7"
  },
  {
   "cell_type": "code",
   "execution_count": 231,
   "outputs": [
    {
     "data": {
      "text/plain": "                                              mint          time_quant\n0     14JnYcbAooDAZVb72DgmFGVZGDon5Ko4SN6ELrpU6ood 2024-01-02 18:10:00\n1     14JnYcbAooDAZVb72DgmFGVZGDon5Ko4SN6ELrpU6ood 2024-01-02 19:10:00\n2     14JnYcbAooDAZVb72DgmFGVZGDon5Ko4SN6ELrpU6ood 2024-01-02 21:50:00\n3     14JnYcbAooDAZVb72DgmFGVZGDon5Ko4SN6ELrpU6ood 2024-01-02 22:00:00\n4     14JnYcbAooDAZVb72DgmFGVZGDon5Ko4SN6ELrpU6ood 2024-01-02 22:10:00\n...                                            ...                 ...\n9876   zebeczgi5fSEtbpfQKVZKCJ3WgYXxjkMUkNNx7fLKAF 2024-01-03 22:10:00\n9877   zebeczgi5fSEtbpfQKVZKCJ3WgYXxjkMUkNNx7fLKAF 2024-01-03 22:20:00\n9878   zebeczgi5fSEtbpfQKVZKCJ3WgYXxjkMUkNNx7fLKAF 2024-01-03 22:30:00\n9879   zebeczgi5fSEtbpfQKVZKCJ3WgYXxjkMUkNNx7fLKAF 2024-01-03 22:50:00\n9880   zebeczgi5fSEtbpfQKVZKCJ3WgYXxjkMUkNNx7fLKAF 2024-01-03 23:10:00\n\n[9881 rows x 2 columns]",
      "text/html": "<div>\n<style scoped>\n    .dataframe tbody tr th:only-of-type {\n        vertical-align: middle;\n    }\n\n    .dataframe tbody tr th {\n        vertical-align: top;\n    }\n\n    .dataframe thead th {\n        text-align: right;\n    }\n</style>\n<table border=\"1\" class=\"dataframe\">\n  <thead>\n    <tr style=\"text-align: right;\">\n      <th></th>\n      <th>mint</th>\n      <th>time_quant</th>\n    </tr>\n  </thead>\n  <tbody>\n    <tr>\n      <th>0</th>\n      <td>14JnYcbAooDAZVb72DgmFGVZGDon5Ko4SN6ELrpU6ood</td>\n      <td>2024-01-02 18:10:00</td>\n    </tr>\n    <tr>\n      <th>1</th>\n      <td>14JnYcbAooDAZVb72DgmFGVZGDon5Ko4SN6ELrpU6ood</td>\n      <td>2024-01-02 19:10:00</td>\n    </tr>\n    <tr>\n      <th>2</th>\n      <td>14JnYcbAooDAZVb72DgmFGVZGDon5Ko4SN6ELrpU6ood</td>\n      <td>2024-01-02 21:50:00</td>\n    </tr>\n    <tr>\n      <th>3</th>\n      <td>14JnYcbAooDAZVb72DgmFGVZGDon5Ko4SN6ELrpU6ood</td>\n      <td>2024-01-02 22:00:00</td>\n    </tr>\n    <tr>\n      <th>4</th>\n      <td>14JnYcbAooDAZVb72DgmFGVZGDon5Ko4SN6ELrpU6ood</td>\n      <td>2024-01-02 22:10:00</td>\n    </tr>\n    <tr>\n      <th>...</th>\n      <td>...</td>\n      <td>...</td>\n    </tr>\n    <tr>\n      <th>9876</th>\n      <td>zebeczgi5fSEtbpfQKVZKCJ3WgYXxjkMUkNNx7fLKAF</td>\n      <td>2024-01-03 22:10:00</td>\n    </tr>\n    <tr>\n      <th>9877</th>\n      <td>zebeczgi5fSEtbpfQKVZKCJ3WgYXxjkMUkNNx7fLKAF</td>\n      <td>2024-01-03 22:20:00</td>\n    </tr>\n    <tr>\n      <th>9878</th>\n      <td>zebeczgi5fSEtbpfQKVZKCJ3WgYXxjkMUkNNx7fLKAF</td>\n      <td>2024-01-03 22:30:00</td>\n    </tr>\n    <tr>\n      <th>9879</th>\n      <td>zebeczgi5fSEtbpfQKVZKCJ3WgYXxjkMUkNNx7fLKAF</td>\n      <td>2024-01-03 22:50:00</td>\n    </tr>\n    <tr>\n      <th>9880</th>\n      <td>zebeczgi5fSEtbpfQKVZKCJ3WgYXxjkMUkNNx7fLKAF</td>\n      <td>2024-01-03 23:10:00</td>\n    </tr>\n  </tbody>\n</table>\n<p>9881 rows × 2 columns</p>\n</div>"
     },
     "execution_count": 231,
     "metadata": {},
     "output_type": "execute_result"
    }
   ],
   "source": [
    "def get_dataset_keys(trades_df):\n",
    "    # get all pairs (mint, time_quant)\n",
    "    keys = trades_df[['mint', 'time_quant']].drop_duplicates()\n",
    "    # sort by mint, time_quant\n",
    "    keys.sort_values(by=['mint', 'time_quant'], inplace=True)\n",
    "    # reset index\n",
    "    keys.reset_index(drop=True, inplace=True)\n",
    "    return keys\n",
    "\n",
    "dataset = get_dataset_keys(trades_df)\n",
    "dataset"
   ],
   "metadata": {
    "collapsed": false,
    "ExecuteTime": {
     "end_time": "2024-01-04T00:11:45.768586Z",
     "start_time": "2024-01-04T00:11:45.749598Z"
    }
   },
   "id": "4b41d4d897067299"
  },
  {
   "cell_type": "code",
   "execution_count": 232,
   "outputs": [
    {
     "name": "stderr",
     "output_type": "stream",
     "text": [
      "2024-01-04 00:11:47,102 - INFO - Assigned labels to 9881 records\n",
      "2024-01-04 00:11:47,103 - INFO - label\n",
      "flat    8507\n",
      "na       720\n",
      "down     378\n",
      "up       276\n",
      "Name: count, dtype: int64\n"
     ]
    },
    {
     "data": {
      "text/plain": "                                              mint          time_quant  \\\n0     14JnYcbAooDAZVb72DgmFGVZGDon5Ko4SN6ELrpU6ood 2024-01-02 18:10:00   \n1     14JnYcbAooDAZVb72DgmFGVZGDon5Ko4SN6ELrpU6ood 2024-01-02 19:10:00   \n2     14JnYcbAooDAZVb72DgmFGVZGDon5Ko4SN6ELrpU6ood 2024-01-02 21:50:00   \n3     14JnYcbAooDAZVb72DgmFGVZGDon5Ko4SN6ELrpU6ood 2024-01-02 22:00:00   \n4     14JnYcbAooDAZVb72DgmFGVZGDon5Ko4SN6ELrpU6ood 2024-01-02 22:10:00   \n...                                            ...                 ...   \n9876   zebeczgi5fSEtbpfQKVZKCJ3WgYXxjkMUkNNx7fLKAF 2024-01-03 22:10:00   \n9877   zebeczgi5fSEtbpfQKVZKCJ3WgYXxjkMUkNNx7fLKAF 2024-01-03 22:20:00   \n9878   zebeczgi5fSEtbpfQKVZKCJ3WgYXxjkMUkNNx7fLKAF 2024-01-03 22:30:00   \n9879   zebeczgi5fSEtbpfQKVZKCJ3WgYXxjkMUkNNx7fLKAF 2024-01-03 22:50:00   \n9880   zebeczgi5fSEtbpfQKVZKCJ3WgYXxjkMUkNNx7fLKAF 2024-01-03 23:10:00   \n\n             price  future_price label  \n0     5.193299e-08  1.642084e-08  down  \n1     1.642084e-08  1.642084e-08  flat  \n2     5.657210e-08  5.638049e-08  flat  \n3     5.657210e-08  5.638049e-08  flat  \n4     1.498326e-07  5.638049e-08  down  \n...            ...           ...   ...  \n9876  1.389651e-04  0.000000e+00    na  \n9877  1.389651e-04  0.000000e+00    na  \n9878  1.389651e-04  0.000000e+00    na  \n9879  1.389651e-04  0.000000e+00    na  \n9880  1.389651e-04  0.000000e+00    na  \n\n[9881 rows x 5 columns]",
      "text/html": "<div>\n<style scoped>\n    .dataframe tbody tr th:only-of-type {\n        vertical-align: middle;\n    }\n\n    .dataframe tbody tr th {\n        vertical-align: top;\n    }\n\n    .dataframe thead th {\n        text-align: right;\n    }\n</style>\n<table border=\"1\" class=\"dataframe\">\n  <thead>\n    <tr style=\"text-align: right;\">\n      <th></th>\n      <th>mint</th>\n      <th>time_quant</th>\n      <th>price</th>\n      <th>future_price</th>\n      <th>label</th>\n    </tr>\n  </thead>\n  <tbody>\n    <tr>\n      <th>0</th>\n      <td>14JnYcbAooDAZVb72DgmFGVZGDon5Ko4SN6ELrpU6ood</td>\n      <td>2024-01-02 18:10:00</td>\n      <td>5.193299e-08</td>\n      <td>1.642084e-08</td>\n      <td>down</td>\n    </tr>\n    <tr>\n      <th>1</th>\n      <td>14JnYcbAooDAZVb72DgmFGVZGDon5Ko4SN6ELrpU6ood</td>\n      <td>2024-01-02 19:10:00</td>\n      <td>1.642084e-08</td>\n      <td>1.642084e-08</td>\n      <td>flat</td>\n    </tr>\n    <tr>\n      <th>2</th>\n      <td>14JnYcbAooDAZVb72DgmFGVZGDon5Ko4SN6ELrpU6ood</td>\n      <td>2024-01-02 21:50:00</td>\n      <td>5.657210e-08</td>\n      <td>5.638049e-08</td>\n      <td>flat</td>\n    </tr>\n    <tr>\n      <th>3</th>\n      <td>14JnYcbAooDAZVb72DgmFGVZGDon5Ko4SN6ELrpU6ood</td>\n      <td>2024-01-02 22:00:00</td>\n      <td>5.657210e-08</td>\n      <td>5.638049e-08</td>\n      <td>flat</td>\n    </tr>\n    <tr>\n      <th>4</th>\n      <td>14JnYcbAooDAZVb72DgmFGVZGDon5Ko4SN6ELrpU6ood</td>\n      <td>2024-01-02 22:10:00</td>\n      <td>1.498326e-07</td>\n      <td>5.638049e-08</td>\n      <td>down</td>\n    </tr>\n    <tr>\n      <th>...</th>\n      <td>...</td>\n      <td>...</td>\n      <td>...</td>\n      <td>...</td>\n      <td>...</td>\n    </tr>\n    <tr>\n      <th>9876</th>\n      <td>zebeczgi5fSEtbpfQKVZKCJ3WgYXxjkMUkNNx7fLKAF</td>\n      <td>2024-01-03 22:10:00</td>\n      <td>1.389651e-04</td>\n      <td>0.000000e+00</td>\n      <td>na</td>\n    </tr>\n    <tr>\n      <th>9877</th>\n      <td>zebeczgi5fSEtbpfQKVZKCJ3WgYXxjkMUkNNx7fLKAF</td>\n      <td>2024-01-03 22:20:00</td>\n      <td>1.389651e-04</td>\n      <td>0.000000e+00</td>\n      <td>na</td>\n    </tr>\n    <tr>\n      <th>9878</th>\n      <td>zebeczgi5fSEtbpfQKVZKCJ3WgYXxjkMUkNNx7fLKAF</td>\n      <td>2024-01-03 22:30:00</td>\n      <td>1.389651e-04</td>\n      <td>0.000000e+00</td>\n      <td>na</td>\n    </tr>\n    <tr>\n      <th>9879</th>\n      <td>zebeczgi5fSEtbpfQKVZKCJ3WgYXxjkMUkNNx7fLKAF</td>\n      <td>2024-01-03 22:50:00</td>\n      <td>1.389651e-04</td>\n      <td>0.000000e+00</td>\n      <td>na</td>\n    </tr>\n    <tr>\n      <th>9880</th>\n      <td>zebeczgi5fSEtbpfQKVZKCJ3WgYXxjkMUkNNx7fLKAF</td>\n      <td>2024-01-03 23:10:00</td>\n      <td>1.389651e-04</td>\n      <td>0.000000e+00</td>\n      <td>na</td>\n    </tr>\n  </tbody>\n</table>\n<p>9881 rows × 5 columns</p>\n</div>"
     },
     "execution_count": 232,
     "metadata": {},
     "output_type": "execute_result"
    }
   ],
   "source": [
    "def assign_labels(dataset: pd.DataFrame, price_tables, forcast_timedelta, change_magnitude):\n",
    "    dataset['price'] = 0.\n",
    "    dataset['future_price'] = 0.\n",
    "    dataset['label'] = 'na'\n",
    "    \n",
    "    for i, row in dataset.iterrows():\n",
    "        mint = row['mint']\n",
    "        quant = row['time_quant']\n",
    "        price_now = price_tables.get_price(mint, quant, 'sol')\n",
    "        dataset.at[i, 'price'] = price_now\n",
    "        price_future = price_tables.get_price(mint, quant + forcast_timedelta, 'sol')\n",
    "        if price_future == -1:\n",
    "            continue\n",
    "        dataset.at[i, 'future_price'] = price_future\n",
    "        if price_future > price_now * change_magnitude:\n",
    "            dataset.at[i, 'label'] = 'up'\n",
    "        elif price_future < price_now / change_magnitude:\n",
    "            dataset.at[i, 'label'] = 'down'\n",
    "        else:\n",
    "            dataset.at[i, 'label'] = 'flat'\n",
    "    \n",
    "    logging.info(f'Assigned labels to {len(dataset)} records')\n",
    "    logging.info(dataset.label.value_counts())\n",
    "    \n",
    "assign_labels(dataset, price_tables, timedelta(hours=2), change_magnitude=2)\n",
    "dataset"
   ],
   "metadata": {
    "collapsed": false,
    "ExecuteTime": {
     "end_time": "2024-01-04T00:11:47.111268Z",
     "start_time": "2024-01-04T00:11:46.564005Z"
    }
   },
   "id": "793e6bdc6d60948e"
  },
  {
   "cell_type": "code",
   "execution_count": 240,
   "outputs": [
    {
     "data": {
      "text/plain": "                                              mint          time_quant  \\\n0     14JnYcbAooDAZVb72DgmFGVZGDon5Ko4SN6ELrpU6ood 2024-01-02 18:10:00   \n1     14JnYcbAooDAZVb72DgmFGVZGDon5Ko4SN6ELrpU6ood 2024-01-02 19:10:00   \n2     14JnYcbAooDAZVb72DgmFGVZGDon5Ko4SN6ELrpU6ood 2024-01-02 21:50:00   \n3     14JnYcbAooDAZVb72DgmFGVZGDon5Ko4SN6ELrpU6ood 2024-01-02 22:00:00   \n4     14JnYcbAooDAZVb72DgmFGVZGDon5Ko4SN6ELrpU6ood 2024-01-02 22:10:00   \n...                                            ...                 ...   \n9876   zebeczgi5fSEtbpfQKVZKCJ3WgYXxjkMUkNNx7fLKAF 2024-01-03 22:10:00   \n9877   zebeczgi5fSEtbpfQKVZKCJ3WgYXxjkMUkNNx7fLKAF 2024-01-03 22:20:00   \n9878   zebeczgi5fSEtbpfQKVZKCJ3WgYXxjkMUkNNx7fLKAF 2024-01-03 22:30:00   \n9879   zebeczgi5fSEtbpfQKVZKCJ3WgYXxjkMUkNNx7fLKAF 2024-01-03 22:50:00   \n9880   zebeczgi5fSEtbpfQKVZKCJ3WgYXxjkMUkNNx7fLKAF 2024-01-03 23:10:00   \n\n             price  future_price label  day_of_week  hour  s_price_sma_10m  \\\n0     5.193299e-08  1.642084e-08  down            1    18         0.250000   \n1     1.642084e-08  1.642084e-08  flat            1    19         1.997576   \n2     5.657210e-08  5.638049e-08  flat            1    21         0.340959   \n3     5.657210e-08  5.638049e-08  flat            1    22         0.391655   \n4     1.498326e-07  5.638049e-08  down            1    22         0.211477   \n...            ...           ...   ...          ...   ...              ...   \n9876  1.389651e-04  0.000000e+00    na            2    22         1.000897   \n9877  1.389651e-04  0.000000e+00    na            2    22         1.000828   \n9878  1.389651e-04  0.000000e+00    na            2    22         1.000759   \n9879  1.389651e-04  0.000000e+00    na            2    22         1.000621   \n9880  1.389651e-04  0.000000e+00    na            2    23         1.000483   \n\n      s_price_sma_1h  s_price_sma_4h  ...  u_price_ema_1d  u_price_rsi_1d  \\\n0           1.000000        1.000000  ...        1.000000            -1.0   \n1           2.081313        1.000000  ...        1.000000            -1.0   \n2           0.499705        0.500000  ...        1.000000            -1.0   \n3           0.499705        0.500000  ...        1.000000            -1.0   \n4           0.335078        0.673303  ...        1.000000            -1.0   \n...              ...             ...  ...             ...             ...   \n9876        0.969467        0.714106  ...        0.644697           100.0   \n9877        0.969467        0.714106  ...        0.639317           100.0   \n9878        0.965458        0.707092  ...        0.639896           100.0   \n9879        0.967190        0.707092  ...        0.642247           100.0   \n9880        0.970777        0.717005  ...        0.650551           100.0   \n\n       sma_vol_10m   ema_vol_10m    sma_vol_1h    ema_vol_1h    sma_vol_4h  \\\n0     1.731100e-08  6.924399e-09  0.000000e+00  0.000000e+00  0.000000e+00   \n1     1.824538e-09 -1.800720e-09 -3.551215e-08 -3.551215e-08  0.000000e+00   \n2     2.867947e-09  5.353501e-09  1.414303e-08  3.560348e-08  5.657210e-08   \n3     5.090411e-09  8.788301e-09  2.192165e-08  3.975208e-08  8.768660e-08   \n4     9.529411e-09  1.590266e-08  2.447490e-08 -5.328861e-09  9.789960e-08   \n...            ...           ...           ...           ...           ...   \n9876  2.436320e-07  1.912093e-07  5.341264e-07 -6.675696e-07  1.984730e-05   \n9877  3.491388e-07  7.539475e-08  8.178068e-07 -1.721228e-07  2.005831e-05   \n9878  4.898165e-07  5.256088e-07  1.072443e-06  3.871543e-07  2.003540e-05   \n9879  1.731550e-07  1.803487e-07  1.255768e-06  9.734387e-07  1.994284e-05   \n9880 -2.457290e-07 -4.997091e-07  1.064263e-06  4.482772e-07  1.962266e-05   \n\n        ema_vol_4h  sma_vol_1d  ema_vol_1d  \n0     0.000000e+00    0.000000    0.000000  \n1     0.000000e+00    0.000000    0.000000  \n2     5.657210e-08    0.000000    0.000000  \n3     8.768660e-08    0.000000    0.000000  \n4     9.789960e-08    0.000000    0.000000  \n...            ...         ...         ...  \n9876  3.937838e-05    0.000057    0.000057  \n9877  3.947312e-05    0.000058    0.000058  \n9878  3.938599e-05    0.000058    0.000058  \n9879  3.894917e-05    0.000058    0.000058  \n9880  3.866281e-05    0.000055    0.000055  \n\n[9881 rows x 39 columns]",
      "text/html": "<div>\n<style scoped>\n    .dataframe tbody tr th:only-of-type {\n        vertical-align: middle;\n    }\n\n    .dataframe tbody tr th {\n        vertical-align: top;\n    }\n\n    .dataframe thead th {\n        text-align: right;\n    }\n</style>\n<table border=\"1\" class=\"dataframe\">\n  <thead>\n    <tr style=\"text-align: right;\">\n      <th></th>\n      <th>mint</th>\n      <th>time_quant</th>\n      <th>price</th>\n      <th>future_price</th>\n      <th>label</th>\n      <th>day_of_week</th>\n      <th>hour</th>\n      <th>s_price_sma_10m</th>\n      <th>s_price_sma_1h</th>\n      <th>s_price_sma_4h</th>\n      <th>...</th>\n      <th>u_price_ema_1d</th>\n      <th>u_price_rsi_1d</th>\n      <th>sma_vol_10m</th>\n      <th>ema_vol_10m</th>\n      <th>sma_vol_1h</th>\n      <th>ema_vol_1h</th>\n      <th>sma_vol_4h</th>\n      <th>ema_vol_4h</th>\n      <th>sma_vol_1d</th>\n      <th>ema_vol_1d</th>\n    </tr>\n  </thead>\n  <tbody>\n    <tr>\n      <th>0</th>\n      <td>14JnYcbAooDAZVb72DgmFGVZGDon5Ko4SN6ELrpU6ood</td>\n      <td>2024-01-02 18:10:00</td>\n      <td>5.193299e-08</td>\n      <td>1.642084e-08</td>\n      <td>down</td>\n      <td>1</td>\n      <td>18</td>\n      <td>0.250000</td>\n      <td>1.000000</td>\n      <td>1.000000</td>\n      <td>...</td>\n      <td>1.000000</td>\n      <td>-1.0</td>\n      <td>1.731100e-08</td>\n      <td>6.924399e-09</td>\n      <td>0.000000e+00</td>\n      <td>0.000000e+00</td>\n      <td>0.000000e+00</td>\n      <td>0.000000e+00</td>\n      <td>0.000000</td>\n      <td>0.000000</td>\n    </tr>\n    <tr>\n      <th>1</th>\n      <td>14JnYcbAooDAZVb72DgmFGVZGDon5Ko4SN6ELrpU6ood</td>\n      <td>2024-01-02 19:10:00</td>\n      <td>1.642084e-08</td>\n      <td>1.642084e-08</td>\n      <td>flat</td>\n      <td>1</td>\n      <td>19</td>\n      <td>1.997576</td>\n      <td>2.081313</td>\n      <td>1.000000</td>\n      <td>...</td>\n      <td>1.000000</td>\n      <td>-1.0</td>\n      <td>1.824538e-09</td>\n      <td>-1.800720e-09</td>\n      <td>-3.551215e-08</td>\n      <td>-3.551215e-08</td>\n      <td>0.000000e+00</td>\n      <td>0.000000e+00</td>\n      <td>0.000000</td>\n      <td>0.000000</td>\n    </tr>\n    <tr>\n      <th>2</th>\n      <td>14JnYcbAooDAZVb72DgmFGVZGDon5Ko4SN6ELrpU6ood</td>\n      <td>2024-01-02 21:50:00</td>\n      <td>5.657210e-08</td>\n      <td>5.638049e-08</td>\n      <td>flat</td>\n      <td>1</td>\n      <td>21</td>\n      <td>0.340959</td>\n      <td>0.499705</td>\n      <td>0.500000</td>\n      <td>...</td>\n      <td>1.000000</td>\n      <td>-1.0</td>\n      <td>2.867947e-09</td>\n      <td>5.353501e-09</td>\n      <td>1.414303e-08</td>\n      <td>3.560348e-08</td>\n      <td>5.657210e-08</td>\n      <td>5.657210e-08</td>\n      <td>0.000000</td>\n      <td>0.000000</td>\n    </tr>\n    <tr>\n      <th>3</th>\n      <td>14JnYcbAooDAZVb72DgmFGVZGDon5Ko4SN6ELrpU6ood</td>\n      <td>2024-01-02 22:00:00</td>\n      <td>5.657210e-08</td>\n      <td>5.638049e-08</td>\n      <td>flat</td>\n      <td>1</td>\n      <td>22</td>\n      <td>0.391655</td>\n      <td>0.499705</td>\n      <td>0.500000</td>\n      <td>...</td>\n      <td>1.000000</td>\n      <td>-1.0</td>\n      <td>5.090411e-09</td>\n      <td>8.788301e-09</td>\n      <td>2.192165e-08</td>\n      <td>3.975208e-08</td>\n      <td>8.768660e-08</td>\n      <td>8.768660e-08</td>\n      <td>0.000000</td>\n      <td>0.000000</td>\n    </tr>\n    <tr>\n      <th>4</th>\n      <td>14JnYcbAooDAZVb72DgmFGVZGDon5Ko4SN6ELrpU6ood</td>\n      <td>2024-01-02 22:10:00</td>\n      <td>1.498326e-07</td>\n      <td>5.638049e-08</td>\n      <td>down</td>\n      <td>1</td>\n      <td>22</td>\n      <td>0.211477</td>\n      <td>0.335078</td>\n      <td>0.673303</td>\n      <td>...</td>\n      <td>1.000000</td>\n      <td>-1.0</td>\n      <td>9.529411e-09</td>\n      <td>1.590266e-08</td>\n      <td>2.447490e-08</td>\n      <td>-5.328861e-09</td>\n      <td>9.789960e-08</td>\n      <td>9.789960e-08</td>\n      <td>0.000000</td>\n      <td>0.000000</td>\n    </tr>\n    <tr>\n      <th>...</th>\n      <td>...</td>\n      <td>...</td>\n      <td>...</td>\n      <td>...</td>\n      <td>...</td>\n      <td>...</td>\n      <td>...</td>\n      <td>...</td>\n      <td>...</td>\n      <td>...</td>\n      <td>...</td>\n      <td>...</td>\n      <td>...</td>\n      <td>...</td>\n      <td>...</td>\n      <td>...</td>\n      <td>...</td>\n      <td>...</td>\n      <td>...</td>\n      <td>...</td>\n      <td>...</td>\n    </tr>\n    <tr>\n      <th>9876</th>\n      <td>zebeczgi5fSEtbpfQKVZKCJ3WgYXxjkMUkNNx7fLKAF</td>\n      <td>2024-01-03 22:10:00</td>\n      <td>1.389651e-04</td>\n      <td>0.000000e+00</td>\n      <td>na</td>\n      <td>2</td>\n      <td>22</td>\n      <td>1.000897</td>\n      <td>0.969467</td>\n      <td>0.714106</td>\n      <td>...</td>\n      <td>0.644697</td>\n      <td>100.0</td>\n      <td>2.436320e-07</td>\n      <td>1.912093e-07</td>\n      <td>5.341264e-07</td>\n      <td>-6.675696e-07</td>\n      <td>1.984730e-05</td>\n      <td>3.937838e-05</td>\n      <td>0.000057</td>\n      <td>0.000057</td>\n    </tr>\n    <tr>\n      <th>9877</th>\n      <td>zebeczgi5fSEtbpfQKVZKCJ3WgYXxjkMUkNNx7fLKAF</td>\n      <td>2024-01-03 22:20:00</td>\n      <td>1.389651e-04</td>\n      <td>0.000000e+00</td>\n      <td>na</td>\n      <td>2</td>\n      <td>22</td>\n      <td>1.000828</td>\n      <td>0.969467</td>\n      <td>0.714106</td>\n      <td>...</td>\n      <td>0.639317</td>\n      <td>100.0</td>\n      <td>3.491388e-07</td>\n      <td>7.539475e-08</td>\n      <td>8.178068e-07</td>\n      <td>-1.721228e-07</td>\n      <td>2.005831e-05</td>\n      <td>3.947312e-05</td>\n      <td>0.000058</td>\n      <td>0.000058</td>\n    </tr>\n    <tr>\n      <th>9878</th>\n      <td>zebeczgi5fSEtbpfQKVZKCJ3WgYXxjkMUkNNx7fLKAF</td>\n      <td>2024-01-03 22:30:00</td>\n      <td>1.389651e-04</td>\n      <td>0.000000e+00</td>\n      <td>na</td>\n      <td>2</td>\n      <td>22</td>\n      <td>1.000759</td>\n      <td>0.965458</td>\n      <td>0.707092</td>\n      <td>...</td>\n      <td>0.639896</td>\n      <td>100.0</td>\n      <td>4.898165e-07</td>\n      <td>5.256088e-07</td>\n      <td>1.072443e-06</td>\n      <td>3.871543e-07</td>\n      <td>2.003540e-05</td>\n      <td>3.938599e-05</td>\n      <td>0.000058</td>\n      <td>0.000058</td>\n    </tr>\n    <tr>\n      <th>9879</th>\n      <td>zebeczgi5fSEtbpfQKVZKCJ3WgYXxjkMUkNNx7fLKAF</td>\n      <td>2024-01-03 22:50:00</td>\n      <td>1.389651e-04</td>\n      <td>0.000000e+00</td>\n      <td>na</td>\n      <td>2</td>\n      <td>22</td>\n      <td>1.000621</td>\n      <td>0.967190</td>\n      <td>0.707092</td>\n      <td>...</td>\n      <td>0.642247</td>\n      <td>100.0</td>\n      <td>1.731550e-07</td>\n      <td>1.803487e-07</td>\n      <td>1.255768e-06</td>\n      <td>9.734387e-07</td>\n      <td>1.994284e-05</td>\n      <td>3.894917e-05</td>\n      <td>0.000058</td>\n      <td>0.000058</td>\n    </tr>\n    <tr>\n      <th>9880</th>\n      <td>zebeczgi5fSEtbpfQKVZKCJ3WgYXxjkMUkNNx7fLKAF</td>\n      <td>2024-01-03 23:10:00</td>\n      <td>1.389651e-04</td>\n      <td>0.000000e+00</td>\n      <td>na</td>\n      <td>2</td>\n      <td>23</td>\n      <td>1.000483</td>\n      <td>0.970777</td>\n      <td>0.717005</td>\n      <td>...</td>\n      <td>0.650551</td>\n      <td>100.0</td>\n      <td>-2.457290e-07</td>\n      <td>-4.997091e-07</td>\n      <td>1.064263e-06</td>\n      <td>4.482772e-07</td>\n      <td>1.962266e-05</td>\n      <td>3.866281e-05</td>\n      <td>0.000055</td>\n      <td>0.000055</td>\n    </tr>\n  </tbody>\n</table>\n<p>9881 rows × 39 columns</p>\n</div>"
     },
     "execution_count": 240,
     "metadata": {},
     "output_type": "execute_result"
    }
   ],
   "source": [
    "from dataclasses import dataclass\n",
    "from datetime import datetime, timedelta\n",
    "\n",
    "\n",
    "@dataclass\n",
    "class FeatureAggr:\n",
    "    name: str\n",
    "    delta: timedelta\n",
    "    num_points: int\n",
    "\n",
    "\n",
    "class FeatureCalculator:\n",
    "    \n",
    "    def __init__(\n",
    "            self, \n",
    "            dataset: pd.DataFrame, \n",
    "            price_tables: PriceTables, \n",
    "            trades_df: pd.DataFrame, \n",
    "            periods: int\n",
    "    ):\n",
    "        self.dataset = dataset\n",
    "        self.price_tables = price_tables\n",
    "        self.trades_df = trades_df\n",
    "        self.periods = periods\n",
    "    \n",
    "        self.aggregations = [\n",
    "            FeatureAggr('10m', timedelta(minutes=10), self.periods),\n",
    "            FeatureAggr('1h', timedelta(hours=1), self.periods),\n",
    "            FeatureAggr('4h', timedelta(hours=4), self.periods),\n",
    "            FeatureAggr('1d', timedelta(hours=24), self.periods),\n",
    "        ]\n",
    "    \n",
    "    def assign_features(self):\n",
    "        dataset['day_of_week'] = dataset['time_quant'].dt.dayofweek\n",
    "        dataset['hour'] = dataset['time_quant'].dt.hour\n",
    "\n",
    "        # sol price\n",
    "        for a in self.aggregations:\n",
    "            dataset['s_price_sma_' + a.name] = [-1.] * len(dataset)\n",
    "            dataset['s_price_ema_' + a.name] = [-1.] * len(dataset)\n",
    "            dataset['s_price_rsi_' + a.name] = [-1.] * len(dataset)\n",
    "            for index, row in dataset.iterrows():\n",
    "                mint = row['mint']\n",
    "                time_quant = row['time_quant']\n",
    "                dataset.loc[index, 's_price_sma_' + a.name] = self.sma_price('sol', mint, time_quant, a.delta, a.num_points)\n",
    "                dataset.loc[index, 's_price_ema_' + a.name] = self.ema_price('sol', mint, time_quant, a.delta, a.num_points)\n",
    "                dataset.loc[index, 's_price_rsi_' + a.name] = self.relative_strength_index('sol', mint, time_quant, a.delta, a.num_points)\n",
    "\n",
    "        # united price\n",
    "        for a in self.aggregations:\n",
    "            dataset['u_price_sma_' + a.name] = [-1.] * len(dataset)\n",
    "            dataset['u_price_ema_' + a.name] = [-1.] * len(dataset)\n",
    "            dataset['u_price_rsi_' + a.name] = [-1.] * len(dataset)\n",
    "            for index, row in dataset.iterrows():\n",
    "                mint = row['mint']\n",
    "                time_quant = row['time_quant']\n",
    "                dataset.loc[index, 'u_price_sma_' + a.name] = self.sma_price('united', mint, time_quant, a.delta, a.num_points)\n",
    "                dataset.loc[index, 'u_price_ema_' + a.name] = self.ema_price('united', mint, time_quant, a.delta, a.num_points)\n",
    "                dataset.loc[index, 'u_price_rsi_' + a.name] = self.relative_strength_index('united', mint, time_quant, a.delta, a.num_points)\n",
    "        \n",
    "        # volume        \n",
    "        for a in self.aggregations:\n",
    "            dataset['sma_vol_' + a.name] = [-1.] * len(dataset)\n",
    "            dataset['ema_vol_' + a.name] = [-1.] * len(dataset)\n",
    "            for index, row in dataset.iterrows():\n",
    "                mint = row['mint']\n",
    "                time_quant = row['time_quant']\n",
    "                dataset.loc[index, 'sma_vol_' + a.name] = self.sma_volume('united', mint, time_quant, a.delta, a.num_points)\n",
    "                dataset.loc[index, 'ema_vol_' + a.name] = self.ema_volume('united', mint, time_quant, a.delta, a.num_points)\n",
    "\n",
    "    def get_base_price(self, mode, inp_mint, inp_quant):\n",
    "        ans = self.price_tables.get_price(inp_mint, inp_quant, mode)\n",
    "        assert(ans != -1)\n",
    "        return ans    \n",
    "    \n",
    "    def get_price_points(self, mode, inp_mint, last_quant, interval, num_points):\n",
    "        ans = []\n",
    "        for i in range(num_points):\n",
    "            quant = last_quant - i * interval\n",
    "            if quant < self.price_tables.quants[0]:\n",
    "                break\n",
    "            ans.append(self.get_base_price(mode, inp_mint, quant))\n",
    "        # reverse list\n",
    "        ans = ans[::-1]\n",
    "        return ans\n",
    "    \n",
    "    def sma_price(self, mode, inp_mint, last_quant, interval, num_points):\n",
    "        price_points = self.get_price_points(mode, inp_mint, last_quant, interval, num_points)\n",
    "        if len(price_points) == 0 or sum(price_points) == 0:\n",
    "            return 0.\n",
    "        return sum(price_points) / len(price_points) / self.get_base_price(mode, inp_mint, last_quant)\n",
    "    \n",
    "    def ema_price(self, mode, inp_mint, last_quant, interval, num_points):\n",
    "        price_points = self.get_price_points(mode, inp_mint, last_quant, interval, num_points)\n",
    "        if len(price_points) == 0 or sum(price_points) == 0:\n",
    "            return 0.\n",
    "        k = 2 / (num_points + 1)\n",
    "        ans = price_points[0]\n",
    "        for i in range(1, len(price_points)):\n",
    "            ans = k * price_points[i] + (1 - k) * ans\n",
    "        return ans / self.get_base_price(mode, inp_mint, last_quant)\n",
    "    \n",
    "    def relative_strength_index(self, mode, inp_mint, last_quant, interval, num_points):\n",
    "        price_points = self.get_price_points(mode, inp_mint, last_quant, interval, num_points)\n",
    "        if len(price_points) <= 1 or sum(price_points) == 0:\n",
    "            return -1.\n",
    "        gains = []\n",
    "        losses = []\n",
    "        for i in range(1, len(price_points)):\n",
    "            diff = price_points[i] - price_points[i - 1]\n",
    "            if diff > 0:\n",
    "                gains.append(diff)\n",
    "            elif diff < 0:\n",
    "                losses.append(-diff)\n",
    "        if len(gains) == 0:\n",
    "            return 0.\n",
    "        if len(losses) == 0:\n",
    "            return 100.\n",
    "        avg_gain = sum(gains) / len(gains)\n",
    "        avg_loss = sum(losses) / len(losses)\n",
    "        return 100 - 100 / (1 + avg_gain / avg_loss)\n",
    "    \n",
    "    def get_volume_points(self, mode, inp_mint, last_quant, interval, num_points):\n",
    "        ans = []\n",
    "        for i in range(num_points):\n",
    "            quant = last_quant - i * interval\n",
    "            prev_quant = quant - interval\n",
    "            if prev_quant < self.price_tables.quants[0]:\n",
    "                break\n",
    "            price = self.get_base_price(mode, inp_mint, quant)\n",
    "            prev_price = self.get_base_price(mode, inp_mint, prev_quant)\n",
    "            ans.append(price - prev_price)\n",
    "        # reverse list\n",
    "        ans = ans[::-1]\n",
    "        return ans\n",
    "    \n",
    "    def sma_volume(self, mode, inp_mint, last_quant, interval, num_points):\n",
    "        volume_points = self.get_volume_points(mode, inp_mint, last_quant, interval, num_points)\n",
    "        if len(volume_points) == 0:\n",
    "            return 0.\n",
    "        return sum(volume_points) / len(volume_points)\n",
    "    \n",
    "    def ema_volume(self, mode, inp_mint, last_quant, interval, num_points):\n",
    "        volume_points = self.get_volume_points(mode, inp_mint, last_quant, interval, num_points)\n",
    "        if len(volume_points) == 0:\n",
    "            return 0.\n",
    "        k = 2 / (num_points + 1)\n",
    "        ans = volume_points[0]\n",
    "        for i in range(1, len(volume_points)):\n",
    "            ans = k * volume_points[i] + (1 - k) * ans\n",
    "        return ans\n",
    "\n",
    "# \n",
    "# \n",
    "\n",
    "feature_calculator = FeatureCalculator(dataset, price_tables, trades_df, periods=14)\n",
    "feature_calculator.assign_features()\n",
    "\n",
    "dataset"
   ],
   "metadata": {
    "collapsed": false,
    "ExecuteTime": {
     "end_time": "2024-01-04T00:43:37.099453Z",
     "start_time": "2024-01-04T00:42:55.677646Z"
    }
   },
   "id": "516c321f4bb6cc36"
  },
  {
   "cell_type": "code",
   "execution_count": null,
   "outputs": [],
   "source": [],
   "metadata": {
    "collapsed": false
   },
   "id": "7ba9ab727e95d888"
  }
 ],
 "metadata": {
  "kernelspec": {
   "display_name": "Python 3",
   "language": "python",
   "name": "python3"
  },
  "language_info": {
   "codemirror_mode": {
    "name": "ipython",
    "version": 2
   },
   "file_extension": ".py",
   "mimetype": "text/x-python",
   "name": "python",
   "nbconvert_exporter": "python",
   "pygments_lexer": "ipython2",
   "version": "2.7.6"
  }
 },
 "nbformat": 4,
 "nbformat_minor": 5
}
