{
 "cells": [
  {
   "cell_type": "code",
   "execution_count": null,
   "id": "initial_id",
   "metadata": {
    "collapsed": true
   },
   "outputs": [],
   "source": [
    "import os\n",
    "import psycopg2\n",
    "import pandas as pd\n",
    "from dotenv import load_dotenv\n",
    "\n",
    "load_dotenv()\n",
    "\n",
    "conn = psycopg2.connect(os.getenv('DATABASE_URL'))\n",
    "\n",
    "# Open a cursor to perform database operations\n",
    "cur = conn.cursor()\n",
    "\n",
    "# Execute a query\n",
    "cur.execute(\"\"\"\n",
    "SELECT *, date_trunc('hour', timestamp) as hour FROM trades\n",
    "where sol_volume > 0.1\n",
    "order by timestamp desc\n",
    "--limit 50000\n",
    "\"\"\")\n",
    "\n",
    "# Retrieve query results\n",
    "records = cur.fetchall()\n",
    "\n",
    "# Convert to pandas DataFrame\n",
    "df = pd.DataFrame(records, columns=[desc[0] for desc in cur.description])\n",
    "\n",
    "# Close communication with the database\n",
    "cur.close()\n",
    "conn.close()\n",
    "\n",
    "original_df = df.copy()"
   ]
  }
 ],
 "metadata": {
  "kernelspec": {
   "display_name": "Python 3",
   "language": "python",
   "name": "python3"
  },
  "language_info": {
   "codemirror_mode": {
    "name": "ipython",
    "version": 2
   },
   "file_extension": ".py",
   "mimetype": "text/x-python",
   "name": "python",
   "nbconvert_exporter": "python",
   "pygments_lexer": "ipython2",
   "version": "2.7.6"
  }
 },
 "nbformat": 4,
 "nbformat_minor": 5
}
