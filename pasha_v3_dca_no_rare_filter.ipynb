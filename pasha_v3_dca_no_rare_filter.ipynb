{
 "cells": [
  {
   "cell_type": "code",
   "execution_count": 1,
   "outputs": [
    {
     "name": "stderr",
     "output_type": "stream",
     "text": [
      "2024-01-07 21:39:13,359 - INFO - Getting data from db\n",
      "2024-01-07 21:39:35,266 - INFO - Got 583543 records from db\n",
      "2024-01-07 21:39:35,268 - INFO - From 2023-12-01 00:00:14 to 2024-01-07 21:36:01\n",
      "2024-01-07 21:39:35,398 - INFO - Filtered df by program_id, got 546805 records\n",
      "2024-01-07 21:39:35,719 - INFO - Using memory: 278.79154682159424 MB\n",
      "2024-01-07 21:45:50,863 - INFO - Got price tables for 5583 mints\n",
      "2024-01-07 21:52:54,761 - INFO - Assigned labels to 257489 records\n",
      "2024-01-07 21:52:54,769 - INFO - label\n",
      "flat    241407\n",
      "na        8782\n",
      "down      4827\n",
      "up        2473\n",
      "Name: count, dtype: int64\n",
      "2024-01-07 21:52:54,842 - INFO - Assigning features\n",
      "2024-01-07 22:24:18,667 - INFO - Features assigned\n"
     ]
    }
   ],
   "source": [
    "from dataprep import DatasetBuilder\n",
    "from datetime import timedelta\n",
    "\n",
    "PREDICTION_TIMEDELTA = timedelta(hours=24)\n",
    "QUANT_TIMEDELTA = timedelta(minutes=10)\n",
    "BUY_TIMEDELTA = timedelta(seconds=0)\n",
    "CHANGE_MAGNITUDE = 4.\n",
    "\n",
    "builder = DatasetBuilder(10000000, BUY_TIMEDELTA, (QUANT_TIMEDELTA, PREDICTION_TIMEDELTA), CHANGE_MAGNITUDE)\n",
    "dataset = builder.build_dataset()\n"
   ],
   "metadata": {
    "collapsed": false,
    "ExecuteTime": {
     "end_time": "2024-01-07T22:24:18.919575Z",
     "start_time": "2024-01-07T21:39:13.336616Z"
    }
   },
   "id": "efcea48a30cd5d32"
  },
  {
   "cell_type": "code",
   "execution_count": 37,
   "outputs": [
    {
     "name": "stderr",
     "output_type": "stream",
     "text": [
      "2024-01-07 21:09:09,015 - INFO - Assigned labels to 195359 records\n",
      "2024-01-07 21:09:09,020 - INFO - label\n",
      "flat    184328\n",
      "na        6566\n",
      "down      2330\n",
      "up        2135\n",
      "Name: count, dtype: int64\n"
     ]
    }
   ],
   "source": [
    "PREDICTION_TIMEDELTA = timedelta(hours=24)\n",
    "QUANT_TIMEDELTA = timedelta(minutes=10)\n",
    "BUY_TIMEDELTA = timedelta(minutes=10)\n",
    "CHANGE_MAGNITUDE = 4.\n",
    "\n",
    "dataset = builder.reassign_values(BUY_TIMEDELTA, (QUANT_TIMEDELTA, PREDICTION_TIMEDELTA), CHANGE_MAGNITUDE)\n"
   ],
   "metadata": {
    "collapsed": false,
    "ExecuteTime": {
     "end_time": "2024-01-07T21:09:09.077816Z",
     "start_time": "2024-01-07T21:06:27.479283Z"
    }
   },
   "id": "fb2725437b2b9501"
  },
  {
   "cell_type": "code",
   "execution_count": 2,
   "outputs": [
    {
     "data": {
      "text/plain": "                time_quant                                          mint  \\\n186551 2023-12-31 03:00:00  H5n9BQfULHEEtvLVf2WErUHsXHhRaUkYqVhNzxUkWJGf   \n\n           price  buy_price  sell_price label  day_of_week  hour  \\\n186551  0.000004   0.000004    0.000021    up            6     3   \n\n        u_price_sma_10m  u_price_ema_10m  ...  sma_vol_sell_1d  \\\n186551         0.071429         0.133333  ...         0.766028   \n\n        ema_vol_sell_1d  sma_vol_sum_10m  ema_vol_sum_10m  sma_vol_sum_1h  \\\n186551         1.429918         0.766028         1.429918        0.766028   \n\n        ema_vol_sum_1h  sma_vol_sum_4h  ema_vol_sum_4h  sma_vol_sum_1d  \\\n186551        1.429918        0.766028        1.429918        0.766028   \n\n        ema_vol_sum_1d  \n186551        1.429918  \n\n[1 rows x 44 columns]",
      "text/html": "<div>\n<style scoped>\n    .dataframe tbody tr th:only-of-type {\n        vertical-align: middle;\n    }\n\n    .dataframe tbody tr th {\n        vertical-align: top;\n    }\n\n    .dataframe thead th {\n        text-align: right;\n    }\n</style>\n<table border=\"1\" class=\"dataframe\">\n  <thead>\n    <tr style=\"text-align: right;\">\n      <th></th>\n      <th>time_quant</th>\n      <th>mint</th>\n      <th>price</th>\n      <th>buy_price</th>\n      <th>sell_price</th>\n      <th>label</th>\n      <th>day_of_week</th>\n      <th>hour</th>\n      <th>u_price_sma_10m</th>\n      <th>u_price_ema_10m</th>\n      <th>...</th>\n      <th>sma_vol_sell_1d</th>\n      <th>ema_vol_sell_1d</th>\n      <th>sma_vol_sum_10m</th>\n      <th>ema_vol_sum_10m</th>\n      <th>sma_vol_sum_1h</th>\n      <th>ema_vol_sum_1h</th>\n      <th>sma_vol_sum_4h</th>\n      <th>ema_vol_sum_4h</th>\n      <th>sma_vol_sum_1d</th>\n      <th>ema_vol_sum_1d</th>\n    </tr>\n  </thead>\n  <tbody>\n    <tr>\n      <th>186551</th>\n      <td>2023-12-31 03:00:00</td>\n      <td>H5n9BQfULHEEtvLVf2WErUHsXHhRaUkYqVhNzxUkWJGf</td>\n      <td>0.000004</td>\n      <td>0.000004</td>\n      <td>0.000021</td>\n      <td>up</td>\n      <td>6</td>\n      <td>3</td>\n      <td>0.071429</td>\n      <td>0.133333</td>\n      <td>...</td>\n      <td>0.766028</td>\n      <td>1.429918</td>\n      <td>0.766028</td>\n      <td>1.429918</td>\n      <td>0.766028</td>\n      <td>1.429918</td>\n      <td>0.766028</td>\n      <td>1.429918</td>\n      <td>0.766028</td>\n      <td>1.429918</td>\n    </tr>\n  </tbody>\n</table>\n<p>1 rows × 44 columns</p>\n</div>"
     },
     "execution_count": 2,
     "metadata": {},
     "output_type": "execute_result"
    }
   ],
   "source": [
    "dataset[(dataset['label'] == 'up') & (dataset['mint'] == 'H5n9BQfULHEEtvLVf2WErUHsXHhRaUkYqVhNzxUkWJGf')]"
   ],
   "metadata": {
    "collapsed": false,
    "ExecuteTime": {
     "end_time": "2024-01-07T22:24:36.055888Z",
     "start_time": "2024-01-07T22:24:36.039227Z"
    }
   },
   "id": "4826623dcd12af48"
  },
  {
   "cell_type": "code",
   "execution_count": 3,
   "outputs": [
    {
     "data": {
      "text/plain": "                time_quant                                          mint  \\\n0      2023-12-01 00:10:00  2ZE6hSL36e44wP168YMnxrbi1CSCFuD2BJm7NoNHfsmN   \n1      2023-12-01 00:10:00  2x8o3hA5S5fBxCSE9hzVTf3RohcMWHqkDNKNEPuzprD5   \n2      2023-12-01 00:10:00  3EagcZ66c8z2hZdFSd5412yEW9U48AAb9P6d1yhjuGmY   \n3      2023-12-01 00:10:00  7SZUnH7H9KptyJkUhJ5L4Kee5fFAbqVgCHvt7B6wg4Xc   \n4      2023-12-01 00:10:00  7xKXtg2CW87d97TXJSDpbD5jBkheTqA83TZRuJosgAsU   \n...                    ...                                           ...   \n257484 2024-01-07 21:20:00   drakduQWnTS89CdTUdgHmZzEkN6reBLYqrk8rzVhU53   \n257485 2024-01-07 21:20:00   iotEVVZLEywoTn1QdwNPddxPWszn3zFhEot3MfL9fns   \n257486 2024-01-07 21:20:00   kNkT1RDnexWqYP3EYGyWv5ZtazB8CfgGAfJtv9AQ3kz   \n257487 2024-01-07 21:20:00   orcaEKTdK7LKz57vaAYr9QeNsVEPfiu6QeMU1kektZE   \n257488 2024-01-07 21:20:00   tx4Xec7ueAEYz4csDqfGGwQxkMTR3qmkr4mixdxN72K   \n\n               price     buy_price    sell_price label  day_of_week  hour  \\\n0       5.512779e-05  5.512779e-05  5.371476e-05  flat            4     0   \n1       6.712853e-06  6.712853e-06  9.691156e-06  flat            4     0   \n2       1.079326e-05  1.079326e-05  1.202554e-05  flat            4     0   \n3       2.025078e-08  2.025078e-08  2.025078e-08  flat            4     0   \n4       1.332301e-04  1.332301e-04  1.539738e-04  flat            4     0   \n...              ...           ...           ...   ...          ...   ...   \n257484  3.820480e-08  3.820480e-08  0.000000e+00    na            6    21   \n257485  1.624998e-05  1.624998e-05  0.000000e+00    na            6    21   \n257486  1.220627e-02  1.220627e-02  0.000000e+00    na            6    21   \n257487  5.639945e-02  5.639945e-02  0.000000e+00    na            6    21   \n257488  7.141549e-08  7.141549e-08  0.000000e+00    na            6    21   \n\n        u_price_sma_10m  u_price_ema_10m  ...  sma_vol_sell_1d  \\\n0              1.000000         1.000000  ...         0.000000   \n1              1.000000         1.000000  ...         0.000000   \n2              1.000000         1.000000  ...         0.000000   \n3              1.000000         1.000000  ...         0.000000   \n4              1.000000         1.000000  ...         0.000000   \n...                 ...              ...  ...              ...   \n257484         1.008838         1.009374  ...       122.149534   \n257485         1.003167         1.001635  ...        77.574443   \n257486         0.999722         0.995989  ...         5.323052   \n257487         0.980192         0.982025  ...        65.175530   \n257488         1.347401         1.269992  ...         0.910725   \n\n        ema_vol_sell_1d  sma_vol_sum_10m  ema_vol_sum_10m  sma_vol_sum_1h  \\\n0              0.000000         0.000000         0.000000        0.000000   \n1              0.000000         0.000000         0.000000        0.000000   \n2              0.000000         0.000000         0.000000        0.000000   \n3              0.000000         0.000000         0.000000        0.000000   \n4              0.000000         0.000000         0.000000        0.000000   \n...                 ...              ...              ...             ...   \n257484       116.202689         0.442886         0.573693        1.878506   \n257485        62.420942         0.230010         0.220649        1.219324   \n257486         2.790945         0.500742         0.885104        0.523605   \n257487        71.984015         3.286921         4.855312       16.633638   \n257488         1.700020         0.220434         0.175723        1.563568   \n\n        ema_vol_sum_1h  sma_vol_sum_4h  ema_vol_sum_4h  sma_vol_sum_1d  \\\n0             0.000000        0.000000        0.000000        0.000000   \n1             0.000000        0.000000        0.000000        0.000000   \n2             0.000000        0.000000        0.000000        0.000000   \n3             0.000000        0.000000        0.000000        0.000000   \n4             0.000000        0.000000        0.000000        0.000000   \n...                ...             ...             ...             ...   \n257484        1.654477       17.315763       13.375311      249.740066   \n257485        1.530431        5.042947        6.427591       90.716370   \n257486        0.937848        1.217902        1.622342       12.544518   \n257487       26.508924       30.941454       33.789803      157.974353   \n257488        1.837204        1.563568        2.646676        1.563568   \n\n        ema_vol_sum_1d  \n0             0.000000  \n1             0.000000  \n2             0.000000  \n3             0.000000  \n4             0.000000  \n...                ...  \n257484      233.704186  \n257485       74.942022  \n257486        8.921687  \n257487      152.228603  \n257488        2.918660  \n\n[257489 rows x 44 columns]",
      "text/html": "<div>\n<style scoped>\n    .dataframe tbody tr th:only-of-type {\n        vertical-align: middle;\n    }\n\n    .dataframe tbody tr th {\n        vertical-align: top;\n    }\n\n    .dataframe thead th {\n        text-align: right;\n    }\n</style>\n<table border=\"1\" class=\"dataframe\">\n  <thead>\n    <tr style=\"text-align: right;\">\n      <th></th>\n      <th>time_quant</th>\n      <th>mint</th>\n      <th>price</th>\n      <th>buy_price</th>\n      <th>sell_price</th>\n      <th>label</th>\n      <th>day_of_week</th>\n      <th>hour</th>\n      <th>u_price_sma_10m</th>\n      <th>u_price_ema_10m</th>\n      <th>...</th>\n      <th>sma_vol_sell_1d</th>\n      <th>ema_vol_sell_1d</th>\n      <th>sma_vol_sum_10m</th>\n      <th>ema_vol_sum_10m</th>\n      <th>sma_vol_sum_1h</th>\n      <th>ema_vol_sum_1h</th>\n      <th>sma_vol_sum_4h</th>\n      <th>ema_vol_sum_4h</th>\n      <th>sma_vol_sum_1d</th>\n      <th>ema_vol_sum_1d</th>\n    </tr>\n  </thead>\n  <tbody>\n    <tr>\n      <th>0</th>\n      <td>2023-12-01 00:10:00</td>\n      <td>2ZE6hSL36e44wP168YMnxrbi1CSCFuD2BJm7NoNHfsmN</td>\n      <td>5.512779e-05</td>\n      <td>5.512779e-05</td>\n      <td>5.371476e-05</td>\n      <td>flat</td>\n      <td>4</td>\n      <td>0</td>\n      <td>1.000000</td>\n      <td>1.000000</td>\n      <td>...</td>\n      <td>0.000000</td>\n      <td>0.000000</td>\n      <td>0.000000</td>\n      <td>0.000000</td>\n      <td>0.000000</td>\n      <td>0.000000</td>\n      <td>0.000000</td>\n      <td>0.000000</td>\n      <td>0.000000</td>\n      <td>0.000000</td>\n    </tr>\n    <tr>\n      <th>1</th>\n      <td>2023-12-01 00:10:00</td>\n      <td>2x8o3hA5S5fBxCSE9hzVTf3RohcMWHqkDNKNEPuzprD5</td>\n      <td>6.712853e-06</td>\n      <td>6.712853e-06</td>\n      <td>9.691156e-06</td>\n      <td>flat</td>\n      <td>4</td>\n      <td>0</td>\n      <td>1.000000</td>\n      <td>1.000000</td>\n      <td>...</td>\n      <td>0.000000</td>\n      <td>0.000000</td>\n      <td>0.000000</td>\n      <td>0.000000</td>\n      <td>0.000000</td>\n      <td>0.000000</td>\n      <td>0.000000</td>\n      <td>0.000000</td>\n      <td>0.000000</td>\n      <td>0.000000</td>\n    </tr>\n    <tr>\n      <th>2</th>\n      <td>2023-12-01 00:10:00</td>\n      <td>3EagcZ66c8z2hZdFSd5412yEW9U48AAb9P6d1yhjuGmY</td>\n      <td>1.079326e-05</td>\n      <td>1.079326e-05</td>\n      <td>1.202554e-05</td>\n      <td>flat</td>\n      <td>4</td>\n      <td>0</td>\n      <td>1.000000</td>\n      <td>1.000000</td>\n      <td>...</td>\n      <td>0.000000</td>\n      <td>0.000000</td>\n      <td>0.000000</td>\n      <td>0.000000</td>\n      <td>0.000000</td>\n      <td>0.000000</td>\n      <td>0.000000</td>\n      <td>0.000000</td>\n      <td>0.000000</td>\n      <td>0.000000</td>\n    </tr>\n    <tr>\n      <th>3</th>\n      <td>2023-12-01 00:10:00</td>\n      <td>7SZUnH7H9KptyJkUhJ5L4Kee5fFAbqVgCHvt7B6wg4Xc</td>\n      <td>2.025078e-08</td>\n      <td>2.025078e-08</td>\n      <td>2.025078e-08</td>\n      <td>flat</td>\n      <td>4</td>\n      <td>0</td>\n      <td>1.000000</td>\n      <td>1.000000</td>\n      <td>...</td>\n      <td>0.000000</td>\n      <td>0.000000</td>\n      <td>0.000000</td>\n      <td>0.000000</td>\n      <td>0.000000</td>\n      <td>0.000000</td>\n      <td>0.000000</td>\n      <td>0.000000</td>\n      <td>0.000000</td>\n      <td>0.000000</td>\n    </tr>\n    <tr>\n      <th>4</th>\n      <td>2023-12-01 00:10:00</td>\n      <td>7xKXtg2CW87d97TXJSDpbD5jBkheTqA83TZRuJosgAsU</td>\n      <td>1.332301e-04</td>\n      <td>1.332301e-04</td>\n      <td>1.539738e-04</td>\n      <td>flat</td>\n      <td>4</td>\n      <td>0</td>\n      <td>1.000000</td>\n      <td>1.000000</td>\n      <td>...</td>\n      <td>0.000000</td>\n      <td>0.000000</td>\n      <td>0.000000</td>\n      <td>0.000000</td>\n      <td>0.000000</td>\n      <td>0.000000</td>\n      <td>0.000000</td>\n      <td>0.000000</td>\n      <td>0.000000</td>\n      <td>0.000000</td>\n    </tr>\n    <tr>\n      <th>...</th>\n      <td>...</td>\n      <td>...</td>\n      <td>...</td>\n      <td>...</td>\n      <td>...</td>\n      <td>...</td>\n      <td>...</td>\n      <td>...</td>\n      <td>...</td>\n      <td>...</td>\n      <td>...</td>\n      <td>...</td>\n      <td>...</td>\n      <td>...</td>\n      <td>...</td>\n      <td>...</td>\n      <td>...</td>\n      <td>...</td>\n      <td>...</td>\n      <td>...</td>\n      <td>...</td>\n    </tr>\n    <tr>\n      <th>257484</th>\n      <td>2024-01-07 21:20:00</td>\n      <td>drakduQWnTS89CdTUdgHmZzEkN6reBLYqrk8rzVhU53</td>\n      <td>3.820480e-08</td>\n      <td>3.820480e-08</td>\n      <td>0.000000e+00</td>\n      <td>na</td>\n      <td>6</td>\n      <td>21</td>\n      <td>1.008838</td>\n      <td>1.009374</td>\n      <td>...</td>\n      <td>122.149534</td>\n      <td>116.202689</td>\n      <td>0.442886</td>\n      <td>0.573693</td>\n      <td>1.878506</td>\n      <td>1.654477</td>\n      <td>17.315763</td>\n      <td>13.375311</td>\n      <td>249.740066</td>\n      <td>233.704186</td>\n    </tr>\n    <tr>\n      <th>257485</th>\n      <td>2024-01-07 21:20:00</td>\n      <td>iotEVVZLEywoTn1QdwNPddxPWszn3zFhEot3MfL9fns</td>\n      <td>1.624998e-05</td>\n      <td>1.624998e-05</td>\n      <td>0.000000e+00</td>\n      <td>na</td>\n      <td>6</td>\n      <td>21</td>\n      <td>1.003167</td>\n      <td>1.001635</td>\n      <td>...</td>\n      <td>77.574443</td>\n      <td>62.420942</td>\n      <td>0.230010</td>\n      <td>0.220649</td>\n      <td>1.219324</td>\n      <td>1.530431</td>\n      <td>5.042947</td>\n      <td>6.427591</td>\n      <td>90.716370</td>\n      <td>74.942022</td>\n    </tr>\n    <tr>\n      <th>257486</th>\n      <td>2024-01-07 21:20:00</td>\n      <td>kNkT1RDnexWqYP3EYGyWv5ZtazB8CfgGAfJtv9AQ3kz</td>\n      <td>1.220627e-02</td>\n      <td>1.220627e-02</td>\n      <td>0.000000e+00</td>\n      <td>na</td>\n      <td>6</td>\n      <td>21</td>\n      <td>0.999722</td>\n      <td>0.995989</td>\n      <td>...</td>\n      <td>5.323052</td>\n      <td>2.790945</td>\n      <td>0.500742</td>\n      <td>0.885104</td>\n      <td>0.523605</td>\n      <td>0.937848</td>\n      <td>1.217902</td>\n      <td>1.622342</td>\n      <td>12.544518</td>\n      <td>8.921687</td>\n    </tr>\n    <tr>\n      <th>257487</th>\n      <td>2024-01-07 21:20:00</td>\n      <td>orcaEKTdK7LKz57vaAYr9QeNsVEPfiu6QeMU1kektZE</td>\n      <td>5.639945e-02</td>\n      <td>5.639945e-02</td>\n      <td>0.000000e+00</td>\n      <td>na</td>\n      <td>6</td>\n      <td>21</td>\n      <td>0.980192</td>\n      <td>0.982025</td>\n      <td>...</td>\n      <td>65.175530</td>\n      <td>71.984015</td>\n      <td>3.286921</td>\n      <td>4.855312</td>\n      <td>16.633638</td>\n      <td>26.508924</td>\n      <td>30.941454</td>\n      <td>33.789803</td>\n      <td>157.974353</td>\n      <td>152.228603</td>\n    </tr>\n    <tr>\n      <th>257488</th>\n      <td>2024-01-07 21:20:00</td>\n      <td>tx4Xec7ueAEYz4csDqfGGwQxkMTR3qmkr4mixdxN72K</td>\n      <td>7.141549e-08</td>\n      <td>7.141549e-08</td>\n      <td>0.000000e+00</td>\n      <td>na</td>\n      <td>6</td>\n      <td>21</td>\n      <td>1.347401</td>\n      <td>1.269992</td>\n      <td>...</td>\n      <td>0.910725</td>\n      <td>1.700020</td>\n      <td>0.220434</td>\n      <td>0.175723</td>\n      <td>1.563568</td>\n      <td>1.837204</td>\n      <td>1.563568</td>\n      <td>2.646676</td>\n      <td>1.563568</td>\n      <td>2.918660</td>\n    </tr>\n  </tbody>\n</table>\n<p>257489 rows × 44 columns</p>\n</div>"
     },
     "execution_count": 3,
     "metadata": {},
     "output_type": "execute_result"
    }
   ],
   "source": [
    "dataset\n"
   ],
   "metadata": {
    "collapsed": false,
    "ExecuteTime": {
     "end_time": "2024-01-07T22:24:39.426838Z",
     "start_time": "2024-01-07T22:24:39.338055Z"
    }
   },
   "id": "e1c63fe9a306adc1"
  },
  {
   "cell_type": "code",
   "execution_count": 4,
   "outputs": [
    {
     "data": {
      "text/plain": "337"
     },
     "execution_count": 4,
     "metadata": {},
     "output_type": "execute_result"
    }
   ],
   "source": [
    "dataset[dataset['label'] == 'up']['mint'].nunique()\n"
   ],
   "metadata": {
    "collapsed": false,
    "ExecuteTime": {
     "end_time": "2024-01-07T22:24:46.063377Z",
     "start_time": "2024-01-07T22:24:46.052450Z"
    }
   },
   "id": "43cf93a151512c70"
  },
  {
   "cell_type": "code",
   "execution_count": 5,
   "outputs": [
    {
     "data": {
      "text/plain": "622       0.000000\n3002      0.100005\n3019      0.110005\n3278      1.000006\n3307      1.426790\n            ...   \n247028    0.312248\n247326    0.385137\n247424    0.406026\n248520    3.523738\n248650    3.538124\nName: sma_vol_sum_1d, Length: 2473, dtype: float64"
     },
     "execution_count": 5,
     "metadata": {},
     "output_type": "execute_result"
    }
   ],
   "source": [
    "dataset[dataset['label'] == 'up']['sma_vol_sum_1d']"
   ],
   "metadata": {
    "collapsed": false,
    "ExecuteTime": {
     "end_time": "2024-01-07T22:24:47.509044Z",
     "start_time": "2024-01-07T22:24:47.481090Z"
    }
   },
   "id": "552463f0316c247b"
  },
  {
   "cell_type": "code",
   "execution_count": 6,
   "outputs": [
    {
     "data": {
      "text/plain": "                          time_quant         price     buy_price  \\\ncount                         257489  2.574890e+05  2.574890e+05   \nmean   2023-12-23 17:29:17.730233600  1.442056e+02  1.442056e+02   \nmin              2023-12-01 00:10:00  3.076663e-18  3.076663e-18   \n25%              2023-12-17 11:30:00  3.755693e-07  3.755693e-07   \n50%              2023-12-24 10:30:00  8.336819e-06  8.336819e-06   \n75%              2023-12-31 22:10:00  4.187073e-04  4.187073e-04   \nmax              2024-01-07 21:20:00  3.620890e+07  3.620890e+07   \nstd                              NaN  7.136324e+04  7.136324e+04   \n\n         sell_price    day_of_week           hour  u_price_sma_10m  \\\ncount  2.574890e+05  257489.000000  257489.000000     2.574890e+05   \nmean   1.442666e+02       3.145773      12.058950     1.727507e+04   \nmin    0.000000e+00       0.000000       0.000000     7.142857e-02   \n25%    2.051476e-07       2.000000       6.000000     9.269636e-01   \n50%    6.363473e-06       3.000000      13.000000     1.000577e+00   \n75%    3.384608e-04       5.000000      18.000000     1.076425e+00   \nmax    1.257253e+06       6.000000      23.000000     1.120179e+09   \nstd    1.325968e+04       1.944445       6.992743     3.271120e+06   \n\n       u_price_ema_10m  u_price_rsi_10m  u_price_sma_1h  ...  sma_vol_sell_1d  \\\ncount     2.574890e+05    257489.000000    2.574890e+05  ...    257489.000000   \nmean      1.651629e+04        50.047730    1.884402e+04  ...       813.542929   \nmin       1.333333e-01        -1.000000    7.142857e-02  ...         0.000000   \n25%       9.381105e-01        32.023678    8.001383e-01  ...         4.113016   \n50%       1.000598e+00        50.540419    9.986798e-01  ...        35.865906   \n75%       1.067226e+00        68.458069    1.099397e+00  ...       220.428131   \nmax       1.389201e+09       100.000000    2.203771e+08  ...     19574.669065   \nstd       3.454716e+06        30.340540    1.794474e+06  ...      2556.927285   \n\n       ema_vol_sell_1d  sma_vol_sum_10m  ema_vol_sum_10m  sma_vol_sum_1h  \\\ncount    257489.000000    257489.000000    257489.000000   257489.000000   \nmean        805.801093        13.298435        13.548787       75.432798   \nmin           0.000000         0.000000         0.000000        0.000000   \n25%           5.659407         0.153760         0.195678        0.879774   \n50%          43.545710         0.937601         1.040395        5.442096   \n75%         246.254576         4.872201         5.066554       29.818118   \nmax       20994.371439      2399.835261      3951.450136     3222.103782   \nstd        2504.389061        54.435736        57.824474      250.734868   \n\n       ema_vol_sum_1h  sma_vol_sum_4h  ema_vol_sum_4h  sma_vol_sum_1d  \\\ncount   257489.000000   257489.000000   257489.000000   257489.000000   \nmean        76.203607      287.875661      290.879553     1517.320517   \nmin          0.000000        0.000000        0.000000        0.000000   \n25%          1.030192        2.856152        3.443764        7.136993   \n50%          5.849640       19.343560       21.230067       63.217978   \n75%         30.763840      106.516746      111.620553      401.630691   \nmax       4968.290079     9353.895137    11040.231491    41485.872802   \nstd        255.196673      909.823724      917.694534     4968.472832   \n\n       ema_vol_sum_1d  \ncount   257489.000000  \nmean      1493.862713  \nmin          0.000000  \n25%          9.970679  \n50%         77.110950  \n75%        447.770047  \nmax      43769.370587  \nstd       4846.584181  \n\n[8 rows x 42 columns]",
      "text/html": "<div>\n<style scoped>\n    .dataframe tbody tr th:only-of-type {\n        vertical-align: middle;\n    }\n\n    .dataframe tbody tr th {\n        vertical-align: top;\n    }\n\n    .dataframe thead th {\n        text-align: right;\n    }\n</style>\n<table border=\"1\" class=\"dataframe\">\n  <thead>\n    <tr style=\"text-align: right;\">\n      <th></th>\n      <th>time_quant</th>\n      <th>price</th>\n      <th>buy_price</th>\n      <th>sell_price</th>\n      <th>day_of_week</th>\n      <th>hour</th>\n      <th>u_price_sma_10m</th>\n      <th>u_price_ema_10m</th>\n      <th>u_price_rsi_10m</th>\n      <th>u_price_sma_1h</th>\n      <th>...</th>\n      <th>sma_vol_sell_1d</th>\n      <th>ema_vol_sell_1d</th>\n      <th>sma_vol_sum_10m</th>\n      <th>ema_vol_sum_10m</th>\n      <th>sma_vol_sum_1h</th>\n      <th>ema_vol_sum_1h</th>\n      <th>sma_vol_sum_4h</th>\n      <th>ema_vol_sum_4h</th>\n      <th>sma_vol_sum_1d</th>\n      <th>ema_vol_sum_1d</th>\n    </tr>\n  </thead>\n  <tbody>\n    <tr>\n      <th>count</th>\n      <td>257489</td>\n      <td>2.574890e+05</td>\n      <td>2.574890e+05</td>\n      <td>2.574890e+05</td>\n      <td>257489.000000</td>\n      <td>257489.000000</td>\n      <td>2.574890e+05</td>\n      <td>2.574890e+05</td>\n      <td>257489.000000</td>\n      <td>2.574890e+05</td>\n      <td>...</td>\n      <td>257489.000000</td>\n      <td>257489.000000</td>\n      <td>257489.000000</td>\n      <td>257489.000000</td>\n      <td>257489.000000</td>\n      <td>257489.000000</td>\n      <td>257489.000000</td>\n      <td>257489.000000</td>\n      <td>257489.000000</td>\n      <td>257489.000000</td>\n    </tr>\n    <tr>\n      <th>mean</th>\n      <td>2023-12-23 17:29:17.730233600</td>\n      <td>1.442056e+02</td>\n      <td>1.442056e+02</td>\n      <td>1.442666e+02</td>\n      <td>3.145773</td>\n      <td>12.058950</td>\n      <td>1.727507e+04</td>\n      <td>1.651629e+04</td>\n      <td>50.047730</td>\n      <td>1.884402e+04</td>\n      <td>...</td>\n      <td>813.542929</td>\n      <td>805.801093</td>\n      <td>13.298435</td>\n      <td>13.548787</td>\n      <td>75.432798</td>\n      <td>76.203607</td>\n      <td>287.875661</td>\n      <td>290.879553</td>\n      <td>1517.320517</td>\n      <td>1493.862713</td>\n    </tr>\n    <tr>\n      <th>min</th>\n      <td>2023-12-01 00:10:00</td>\n      <td>3.076663e-18</td>\n      <td>3.076663e-18</td>\n      <td>0.000000e+00</td>\n      <td>0.000000</td>\n      <td>0.000000</td>\n      <td>7.142857e-02</td>\n      <td>1.333333e-01</td>\n      <td>-1.000000</td>\n      <td>7.142857e-02</td>\n      <td>...</td>\n      <td>0.000000</td>\n      <td>0.000000</td>\n      <td>0.000000</td>\n      <td>0.000000</td>\n      <td>0.000000</td>\n      <td>0.000000</td>\n      <td>0.000000</td>\n      <td>0.000000</td>\n      <td>0.000000</td>\n      <td>0.000000</td>\n    </tr>\n    <tr>\n      <th>25%</th>\n      <td>2023-12-17 11:30:00</td>\n      <td>3.755693e-07</td>\n      <td>3.755693e-07</td>\n      <td>2.051476e-07</td>\n      <td>2.000000</td>\n      <td>6.000000</td>\n      <td>9.269636e-01</td>\n      <td>9.381105e-01</td>\n      <td>32.023678</td>\n      <td>8.001383e-01</td>\n      <td>...</td>\n      <td>4.113016</td>\n      <td>5.659407</td>\n      <td>0.153760</td>\n      <td>0.195678</td>\n      <td>0.879774</td>\n      <td>1.030192</td>\n      <td>2.856152</td>\n      <td>3.443764</td>\n      <td>7.136993</td>\n      <td>9.970679</td>\n    </tr>\n    <tr>\n      <th>50%</th>\n      <td>2023-12-24 10:30:00</td>\n      <td>8.336819e-06</td>\n      <td>8.336819e-06</td>\n      <td>6.363473e-06</td>\n      <td>3.000000</td>\n      <td>13.000000</td>\n      <td>1.000577e+00</td>\n      <td>1.000598e+00</td>\n      <td>50.540419</td>\n      <td>9.986798e-01</td>\n      <td>...</td>\n      <td>35.865906</td>\n      <td>43.545710</td>\n      <td>0.937601</td>\n      <td>1.040395</td>\n      <td>5.442096</td>\n      <td>5.849640</td>\n      <td>19.343560</td>\n      <td>21.230067</td>\n      <td>63.217978</td>\n      <td>77.110950</td>\n    </tr>\n    <tr>\n      <th>75%</th>\n      <td>2023-12-31 22:10:00</td>\n      <td>4.187073e-04</td>\n      <td>4.187073e-04</td>\n      <td>3.384608e-04</td>\n      <td>5.000000</td>\n      <td>18.000000</td>\n      <td>1.076425e+00</td>\n      <td>1.067226e+00</td>\n      <td>68.458069</td>\n      <td>1.099397e+00</td>\n      <td>...</td>\n      <td>220.428131</td>\n      <td>246.254576</td>\n      <td>4.872201</td>\n      <td>5.066554</td>\n      <td>29.818118</td>\n      <td>30.763840</td>\n      <td>106.516746</td>\n      <td>111.620553</td>\n      <td>401.630691</td>\n      <td>447.770047</td>\n    </tr>\n    <tr>\n      <th>max</th>\n      <td>2024-01-07 21:20:00</td>\n      <td>3.620890e+07</td>\n      <td>3.620890e+07</td>\n      <td>1.257253e+06</td>\n      <td>6.000000</td>\n      <td>23.000000</td>\n      <td>1.120179e+09</td>\n      <td>1.389201e+09</td>\n      <td>100.000000</td>\n      <td>2.203771e+08</td>\n      <td>...</td>\n      <td>19574.669065</td>\n      <td>20994.371439</td>\n      <td>2399.835261</td>\n      <td>3951.450136</td>\n      <td>3222.103782</td>\n      <td>4968.290079</td>\n      <td>9353.895137</td>\n      <td>11040.231491</td>\n      <td>41485.872802</td>\n      <td>43769.370587</td>\n    </tr>\n    <tr>\n      <th>std</th>\n      <td>NaN</td>\n      <td>7.136324e+04</td>\n      <td>7.136324e+04</td>\n      <td>1.325968e+04</td>\n      <td>1.944445</td>\n      <td>6.992743</td>\n      <td>3.271120e+06</td>\n      <td>3.454716e+06</td>\n      <td>30.340540</td>\n      <td>1.794474e+06</td>\n      <td>...</td>\n      <td>2556.927285</td>\n      <td>2504.389061</td>\n      <td>54.435736</td>\n      <td>57.824474</td>\n      <td>250.734868</td>\n      <td>255.196673</td>\n      <td>909.823724</td>\n      <td>917.694534</td>\n      <td>4968.472832</td>\n      <td>4846.584181</td>\n    </tr>\n  </tbody>\n</table>\n<p>8 rows × 42 columns</p>\n</div>"
     },
     "execution_count": 6,
     "metadata": {},
     "output_type": "execute_result"
    }
   ],
   "source": [
    "dataset.describe()"
   ],
   "metadata": {
    "collapsed": false,
    "ExecuteTime": {
     "end_time": "2024-01-07T22:24:48.626368Z",
     "start_time": "2024-01-07T22:24:48.188293Z"
    }
   },
   "id": "91fbb5d998719382"
  },
  {
   "cell_type": "code",
   "execution_count": 7,
   "outputs": [
    {
     "name": "stdout",
     "output_type": "stream",
     "text": [
      "dataset len: 257489\n",
      "train_test_dataset len: 248707\n",
      "train_test_dataset len: 248707\n",
      "unique_mints len: 5442\n"
     ]
    }
   ],
   "source": [
    "from sklearn.model_selection import TimeSeriesSplit\n",
    "\n",
    "print(\"dataset len: %d\" % len(dataset))\n",
    "train_test_dataset = dataset[dataset['label'] != 'na']\n",
    "print(\"train_test_dataset len: %d\" % len(train_test_dataset))\n",
    "# train_test_dataset = train_test_dataset[train_test_dataset['sma_vol_sum_1h'] > 1]\n",
    "print(\"train_test_dataset len: %d\" % len(train_test_dataset))\n",
    "unique_mints = train_test_dataset['mint'].unique()\n",
    "print(\"unique_mints len: %d\" % len(unique_mints))\n"
   ],
   "metadata": {
    "collapsed": false,
    "ExecuteTime": {
     "end_time": "2024-01-07T22:24:53.254816Z",
     "start_time": "2024-01-07T22:24:52.966972Z"
    }
   },
   "id": "cd9ba54930ee096f"
  },
  {
   "cell_type": "code",
   "execution_count": 8,
   "outputs": [
    {
     "name": "stdout",
     "output_type": "stream",
     "text": [
      "337\n",
      "2473\n"
     ]
    }
   ],
   "source": [
    "# how many mints have up label\n",
    "print(train_test_dataset[train_test_dataset['label'] == 'up']['mint'].nunique())\n",
    "print(len(train_test_dataset[train_test_dataset['label'] == 'up']))"
   ],
   "metadata": {
    "collapsed": false,
    "ExecuteTime": {
     "end_time": "2024-01-07T22:25:00.101988Z",
     "start_time": "2024-01-07T22:25:00.078272Z"
    }
   },
   "id": "783473e3cc65b98b"
  },
  {
   "cell_type": "code",
   "execution_count": 9,
   "outputs": [
    {
     "data": {
      "text/plain": "622       0.000000\n3002      0.100005\n3019      0.110005\n3278      1.000006\n3307      1.426790\n            ...   \n247028    0.312248\n247326    0.385137\n247424    0.406026\n248520    3.523738\n248650    3.538124\nName: sma_vol_sum_1d, Length: 2473, dtype: float64"
     },
     "execution_count": 9,
     "metadata": {},
     "output_type": "execute_result"
    }
   ],
   "source": [
    "train_test_dataset[train_test_dataset['label'] == 'up']['sma_vol_sum_1d']\n"
   ],
   "metadata": {
    "collapsed": false,
    "ExecuteTime": {
     "end_time": "2024-01-07T22:25:03.438185Z",
     "start_time": "2024-01-07T22:25:03.431290Z"
    }
   },
   "id": "65c53e8dae31421d"
  },
  {
   "cell_type": "code",
   "execution_count": 10,
   "outputs": [
    {
     "data": {
      "text/plain": "count    2473.000000\nmean      579.424001\nstd      1775.376092\nmin         0.000000\n25%         0.804365\n50%        13.566728\n75%       159.366981\nmax      9814.180373\nName: sma_vol_sum_1d, dtype: float64"
     },
     "execution_count": 10,
     "metadata": {},
     "output_type": "execute_result"
    }
   ],
   "source": [
    "train_test_dataset[train_test_dataset['label'] == 'up']['sma_vol_sum_1d'].describe()"
   ],
   "metadata": {
    "collapsed": false,
    "ExecuteTime": {
     "end_time": "2024-01-07T22:25:04.079798Z",
     "start_time": "2024-01-07T22:25:04.066461Z"
    }
   },
   "id": "bd3d63b2b2a9694a"
  },
  {
   "cell_type": "code",
   "execution_count": 11,
   "outputs": [
    {
     "data": {
      "text/plain": "                time_quant                                          mint  \\\n0      2023-12-01 00:10:00  2ZE6hSL36e44wP168YMnxrbi1CSCFuD2BJm7NoNHfsmN   \n1      2023-12-01 00:10:00  2x8o3hA5S5fBxCSE9hzVTf3RohcMWHqkDNKNEPuzprD5   \n2      2023-12-01 00:10:00  3EagcZ66c8z2hZdFSd5412yEW9U48AAb9P6d1yhjuGmY   \n3      2023-12-01 00:10:00  7SZUnH7H9KptyJkUhJ5L4Kee5fFAbqVgCHvt7B6wg4Xc   \n4      2023-12-01 00:10:00  7xKXtg2CW87d97TXJSDpbD5jBkheTqA83TZRuJosgAsU   \n...                    ...                                           ...   \n248702 2024-01-06 21:20:00   mSoLzYCxHdYgdzU16g5QSh3i5K3z3KZK7ytfqcJm7So   \n248703 2024-01-06 21:20:00   orcaEKTdK7LKz57vaAYr9QeNsVEPfiu6QeMU1kektZE   \n248704 2024-01-06 21:20:00   r89LZwYf7ZiWVSk8uR6yEboWDEn52EgeXxMJg7UtX7w   \n248705 2024-01-06 21:20:00   skJyor4eEoBsDpxyURP367RjGEK5xbqrjWjjyjQGo2N   \n248706 2024-01-06 21:20:00   tGSdnVTzv45tX5Ef9xUrQXrD7dQb3th5stz4aM3V3zN   \n\n               price     buy_price    sell_price label  day_of_week  hour  \\\n0       5.512779e-05  5.512779e-05  5.371476e-05  flat            4     0   \n1       6.712853e-06  6.712853e-06  9.691156e-06  flat            4     0   \n2       1.079326e-05  1.079326e-05  1.202554e-05  flat            4     0   \n3       2.025078e-08  2.025078e-08  2.025078e-08  flat            4     0   \n4       1.332301e-04  1.332301e-04  1.539738e-04  flat            4     0   \n...              ...           ...           ...   ...          ...   ...   \n248702  1.159173e+00  1.159173e+00  1.158825e+00  flat            5    21   \n248703  5.453821e-02  5.453821e-02  5.463510e-02  flat            5    21   \n248704  7.953436e-07  7.953436e-07  8.571247e-07  flat            5    21   \n248705  1.662048e-06  1.662048e-06  1.899461e-06  flat            5    21   \n248706  1.595033e-06  1.595033e-06  8.255610e-07  flat            5    21   \n\n        u_price_sma_10m  u_price_ema_10m  ...  sma_vol_sell_1d  \\\n0              1.000000         1.000000  ...         0.000000   \n1              1.000000         1.000000  ...         0.000000   \n2              1.000000         1.000000  ...         0.000000   \n3              1.000000         1.000000  ...         0.000000   \n4              1.000000         1.000000  ...         0.000000   \n...                 ...              ...  ...              ...   \n248702         0.999639         0.999927  ...      6143.589916   \n248703         1.001701         1.002413  ...        69.181842   \n248704         1.457200         1.426720  ...         1.842587   \n248705         1.174185         1.162573  ...         2.707560   \n248706         0.989622         0.983992  ...        18.201707   \n\n        ema_vol_sell_1d  sma_vol_sum_10m  ema_vol_sum_10m  sma_vol_sum_1h  \\\n0              0.000000         0.000000         0.000000        0.000000   \n1              0.000000         0.000000         0.000000        0.000000   \n2              0.000000         0.000000         0.000000        0.000000   \n3              0.000000         0.000000         0.000000        0.000000   \n4              0.000000         0.000000         0.000000        0.000000   \n...                 ...              ...              ...             ...   \n248702      5731.557628        51.324359        59.647754      114.788908   \n248703        73.531003         0.303918         0.259605        7.889743   \n248704         1.534916         0.004575         0.008539        0.008152   \n248705         3.190907         0.010655         0.019890        0.030189   \n248706        32.441978         0.530716         0.402606       11.001487   \n\n        ema_vol_sum_1h  sma_vol_sum_4h  ema_vol_sum_4h  sma_vol_sum_1d  \\\n0             0.000000        0.000000        0.000000        0.000000   \n1             0.000000        0.000000        0.000000        0.000000   \n2             0.000000        0.000000        0.000000        0.000000   \n3             0.000000        0.000000        0.000000        0.000000   \n4             0.000000        0.000000        0.000000        0.000000   \n...                ...             ...             ...             ...   \n248702      149.568183      377.928546      553.043797     8067.981241   \n248703        4.861710       25.239336       31.181061      150.835343   \n248704        0.010992        0.041956        0.075156        3.050126   \n248705        0.031050        0.655743        0.663644        5.492843   \n248706        9.258604       27.639109       31.104124       27.639109   \n\n        ema_vol_sum_1d  \n0             0.000000  \n1             0.000000  \n2             0.000000  \n3             0.000000  \n4             0.000000  \n...                ...  \n248702     7539.853829  \n248703      138.029663  \n248704        2.429927  \n248705        6.465712  \n248706       49.761126  \n\n[248707 rows x 44 columns]",
      "text/html": "<div>\n<style scoped>\n    .dataframe tbody tr th:only-of-type {\n        vertical-align: middle;\n    }\n\n    .dataframe tbody tr th {\n        vertical-align: top;\n    }\n\n    .dataframe thead th {\n        text-align: right;\n    }\n</style>\n<table border=\"1\" class=\"dataframe\">\n  <thead>\n    <tr style=\"text-align: right;\">\n      <th></th>\n      <th>time_quant</th>\n      <th>mint</th>\n      <th>price</th>\n      <th>buy_price</th>\n      <th>sell_price</th>\n      <th>label</th>\n      <th>day_of_week</th>\n      <th>hour</th>\n      <th>u_price_sma_10m</th>\n      <th>u_price_ema_10m</th>\n      <th>...</th>\n      <th>sma_vol_sell_1d</th>\n      <th>ema_vol_sell_1d</th>\n      <th>sma_vol_sum_10m</th>\n      <th>ema_vol_sum_10m</th>\n      <th>sma_vol_sum_1h</th>\n      <th>ema_vol_sum_1h</th>\n      <th>sma_vol_sum_4h</th>\n      <th>ema_vol_sum_4h</th>\n      <th>sma_vol_sum_1d</th>\n      <th>ema_vol_sum_1d</th>\n    </tr>\n  </thead>\n  <tbody>\n    <tr>\n      <th>0</th>\n      <td>2023-12-01 00:10:00</td>\n      <td>2ZE6hSL36e44wP168YMnxrbi1CSCFuD2BJm7NoNHfsmN</td>\n      <td>5.512779e-05</td>\n      <td>5.512779e-05</td>\n      <td>5.371476e-05</td>\n      <td>flat</td>\n      <td>4</td>\n      <td>0</td>\n      <td>1.000000</td>\n      <td>1.000000</td>\n      <td>...</td>\n      <td>0.000000</td>\n      <td>0.000000</td>\n      <td>0.000000</td>\n      <td>0.000000</td>\n      <td>0.000000</td>\n      <td>0.000000</td>\n      <td>0.000000</td>\n      <td>0.000000</td>\n      <td>0.000000</td>\n      <td>0.000000</td>\n    </tr>\n    <tr>\n      <th>1</th>\n      <td>2023-12-01 00:10:00</td>\n      <td>2x8o3hA5S5fBxCSE9hzVTf3RohcMWHqkDNKNEPuzprD5</td>\n      <td>6.712853e-06</td>\n      <td>6.712853e-06</td>\n      <td>9.691156e-06</td>\n      <td>flat</td>\n      <td>4</td>\n      <td>0</td>\n      <td>1.000000</td>\n      <td>1.000000</td>\n      <td>...</td>\n      <td>0.000000</td>\n      <td>0.000000</td>\n      <td>0.000000</td>\n      <td>0.000000</td>\n      <td>0.000000</td>\n      <td>0.000000</td>\n      <td>0.000000</td>\n      <td>0.000000</td>\n      <td>0.000000</td>\n      <td>0.000000</td>\n    </tr>\n    <tr>\n      <th>2</th>\n      <td>2023-12-01 00:10:00</td>\n      <td>3EagcZ66c8z2hZdFSd5412yEW9U48AAb9P6d1yhjuGmY</td>\n      <td>1.079326e-05</td>\n      <td>1.079326e-05</td>\n      <td>1.202554e-05</td>\n      <td>flat</td>\n      <td>4</td>\n      <td>0</td>\n      <td>1.000000</td>\n      <td>1.000000</td>\n      <td>...</td>\n      <td>0.000000</td>\n      <td>0.000000</td>\n      <td>0.000000</td>\n      <td>0.000000</td>\n      <td>0.000000</td>\n      <td>0.000000</td>\n      <td>0.000000</td>\n      <td>0.000000</td>\n      <td>0.000000</td>\n      <td>0.000000</td>\n    </tr>\n    <tr>\n      <th>3</th>\n      <td>2023-12-01 00:10:00</td>\n      <td>7SZUnH7H9KptyJkUhJ5L4Kee5fFAbqVgCHvt7B6wg4Xc</td>\n      <td>2.025078e-08</td>\n      <td>2.025078e-08</td>\n      <td>2.025078e-08</td>\n      <td>flat</td>\n      <td>4</td>\n      <td>0</td>\n      <td>1.000000</td>\n      <td>1.000000</td>\n      <td>...</td>\n      <td>0.000000</td>\n      <td>0.000000</td>\n      <td>0.000000</td>\n      <td>0.000000</td>\n      <td>0.000000</td>\n      <td>0.000000</td>\n      <td>0.000000</td>\n      <td>0.000000</td>\n      <td>0.000000</td>\n      <td>0.000000</td>\n    </tr>\n    <tr>\n      <th>4</th>\n      <td>2023-12-01 00:10:00</td>\n      <td>7xKXtg2CW87d97TXJSDpbD5jBkheTqA83TZRuJosgAsU</td>\n      <td>1.332301e-04</td>\n      <td>1.332301e-04</td>\n      <td>1.539738e-04</td>\n      <td>flat</td>\n      <td>4</td>\n      <td>0</td>\n      <td>1.000000</td>\n      <td>1.000000</td>\n      <td>...</td>\n      <td>0.000000</td>\n      <td>0.000000</td>\n      <td>0.000000</td>\n      <td>0.000000</td>\n      <td>0.000000</td>\n      <td>0.000000</td>\n      <td>0.000000</td>\n      <td>0.000000</td>\n      <td>0.000000</td>\n      <td>0.000000</td>\n    </tr>\n    <tr>\n      <th>...</th>\n      <td>...</td>\n      <td>...</td>\n      <td>...</td>\n      <td>...</td>\n      <td>...</td>\n      <td>...</td>\n      <td>...</td>\n      <td>...</td>\n      <td>...</td>\n      <td>...</td>\n      <td>...</td>\n      <td>...</td>\n      <td>...</td>\n      <td>...</td>\n      <td>...</td>\n      <td>...</td>\n      <td>...</td>\n      <td>...</td>\n      <td>...</td>\n      <td>...</td>\n      <td>...</td>\n    </tr>\n    <tr>\n      <th>248702</th>\n      <td>2024-01-06 21:20:00</td>\n      <td>mSoLzYCxHdYgdzU16g5QSh3i5K3z3KZK7ytfqcJm7So</td>\n      <td>1.159173e+00</td>\n      <td>1.159173e+00</td>\n      <td>1.158825e+00</td>\n      <td>flat</td>\n      <td>5</td>\n      <td>21</td>\n      <td>0.999639</td>\n      <td>0.999927</td>\n      <td>...</td>\n      <td>6143.589916</td>\n      <td>5731.557628</td>\n      <td>51.324359</td>\n      <td>59.647754</td>\n      <td>114.788908</td>\n      <td>149.568183</td>\n      <td>377.928546</td>\n      <td>553.043797</td>\n      <td>8067.981241</td>\n      <td>7539.853829</td>\n    </tr>\n    <tr>\n      <th>248703</th>\n      <td>2024-01-06 21:20:00</td>\n      <td>orcaEKTdK7LKz57vaAYr9QeNsVEPfiu6QeMU1kektZE</td>\n      <td>5.453821e-02</td>\n      <td>5.453821e-02</td>\n      <td>5.463510e-02</td>\n      <td>flat</td>\n      <td>5</td>\n      <td>21</td>\n      <td>1.001701</td>\n      <td>1.002413</td>\n      <td>...</td>\n      <td>69.181842</td>\n      <td>73.531003</td>\n      <td>0.303918</td>\n      <td>0.259605</td>\n      <td>7.889743</td>\n      <td>4.861710</td>\n      <td>25.239336</td>\n      <td>31.181061</td>\n      <td>150.835343</td>\n      <td>138.029663</td>\n    </tr>\n    <tr>\n      <th>248704</th>\n      <td>2024-01-06 21:20:00</td>\n      <td>r89LZwYf7ZiWVSk8uR6yEboWDEn52EgeXxMJg7UtX7w</td>\n      <td>7.953436e-07</td>\n      <td>7.953436e-07</td>\n      <td>8.571247e-07</td>\n      <td>flat</td>\n      <td>5</td>\n      <td>21</td>\n      <td>1.457200</td>\n      <td>1.426720</td>\n      <td>...</td>\n      <td>1.842587</td>\n      <td>1.534916</td>\n      <td>0.004575</td>\n      <td>0.008539</td>\n      <td>0.008152</td>\n      <td>0.010992</td>\n      <td>0.041956</td>\n      <td>0.075156</td>\n      <td>3.050126</td>\n      <td>2.429927</td>\n    </tr>\n    <tr>\n      <th>248705</th>\n      <td>2024-01-06 21:20:00</td>\n      <td>skJyor4eEoBsDpxyURP367RjGEK5xbqrjWjjyjQGo2N</td>\n      <td>1.662048e-06</td>\n      <td>1.662048e-06</td>\n      <td>1.899461e-06</td>\n      <td>flat</td>\n      <td>5</td>\n      <td>21</td>\n      <td>1.174185</td>\n      <td>1.162573</td>\n      <td>...</td>\n      <td>2.707560</td>\n      <td>3.190907</td>\n      <td>0.010655</td>\n      <td>0.019890</td>\n      <td>0.030189</td>\n      <td>0.031050</td>\n      <td>0.655743</td>\n      <td>0.663644</td>\n      <td>5.492843</td>\n      <td>6.465712</td>\n    </tr>\n    <tr>\n      <th>248706</th>\n      <td>2024-01-06 21:20:00</td>\n      <td>tGSdnVTzv45tX5Ef9xUrQXrD7dQb3th5stz4aM3V3zN</td>\n      <td>1.595033e-06</td>\n      <td>1.595033e-06</td>\n      <td>8.255610e-07</td>\n      <td>flat</td>\n      <td>5</td>\n      <td>21</td>\n      <td>0.989622</td>\n      <td>0.983992</td>\n      <td>...</td>\n      <td>18.201707</td>\n      <td>32.441978</td>\n      <td>0.530716</td>\n      <td>0.402606</td>\n      <td>11.001487</td>\n      <td>9.258604</td>\n      <td>27.639109</td>\n      <td>31.104124</td>\n      <td>27.639109</td>\n      <td>49.761126</td>\n    </tr>\n  </tbody>\n</table>\n<p>248707 rows × 44 columns</p>\n</div>"
     },
     "execution_count": 11,
     "metadata": {},
     "output_type": "execute_result"
    }
   ],
   "source": [
    "train_test_dataset"
   ],
   "metadata": {
    "collapsed": false,
    "ExecuteTime": {
     "end_time": "2024-01-07T22:25:04.655694Z",
     "start_time": "2024-01-07T22:25:04.572604Z"
    }
   },
   "id": "ab86e197b0b04654"
  },
  {
   "cell_type": "code",
   "execution_count": 12,
   "outputs": [
    {
     "name": "stdout",
     "output_type": "stream",
     "text": [
      "feature_names: ['day_of_week', 'hour', 'u_price_sma_10m', 'u_price_ema_10m', 'u_price_rsi_10m', 'u_price_sma_1h', 'u_price_ema_1h', 'u_price_rsi_1h', 'u_price_sma_4h', 'u_price_ema_4h', 'u_price_rsi_4h', 'u_price_sma_1d', 'u_price_ema_1d', 'u_price_rsi_1d', 'sma_vol_buy_10m', 'ema_vol_buy_10m', 'sma_vol_buy_1h', 'ema_vol_buy_1h', 'sma_vol_buy_4h', 'ema_vol_buy_4h', 'sma_vol_buy_1d', 'ema_vol_buy_1d', 'sma_vol_sell_10m', 'ema_vol_sell_10m', 'sma_vol_sell_1h', 'ema_vol_sell_1h', 'sma_vol_sell_4h', 'ema_vol_sell_4h', 'sma_vol_sell_1d', 'ema_vol_sell_1d', 'sma_vol_sum_10m', 'ema_vol_sum_10m', 'sma_vol_sum_1h', 'ema_vol_sum_1h', 'sma_vol_sum_4h', 'ema_vol_sum_4h', 'sma_vol_sum_1d', 'ema_vol_sum_1d']\n"
     ]
    }
   ],
   "source": [
    "column_names = list(train_test_dataset.columns)\n",
    "# feature names start after 'label'\n",
    "label_index = column_names.index('label')\n",
    "feature_names = column_names[label_index+1:]\n",
    "print(f\"feature_names: {feature_names}\")"
   ],
   "metadata": {
    "collapsed": false,
    "ExecuteTime": {
     "end_time": "2024-01-07T22:25:06.188670Z",
     "start_time": "2024-01-07T22:25:06.176449Z"
    }
   },
   "id": "34b9df2488215da7"
  },
  {
   "cell_type": "code",
   "execution_count": 13,
   "outputs": [
    {
     "name": "stdout",
     "output_type": "stream",
     "text": [
      "train [2023-12-01 00:10:00; 2023-12-24 01:23:45)\n",
      "test [2023-12-25 01:23:45; 2023-12-29 16:02:30)\n",
      "train_data (125756) [2023-12-01 00:10:00; 2023-12-24 01:20:00]\n",
      "test_data (40166) [2023-12-25 01:30:00 to 2023-12-29 16:00:00]\n",
      "train [2023-12-01 00:10:00; 2023-12-28 16:02:30)\n",
      "test [2023-12-29 16:02:30; 2024-01-03 06:41:15)\n",
      "train_data (165459) [2023-12-01 00:10:00; 2023-12-28 16:00:00]\n",
      "test_data (40902) [2023-12-29 16:10:00 to 2024-01-03 06:40:00]\n",
      "train [2023-12-01 00:10:00; 2024-01-02 06:41:15)\n",
      "test [2024-01-03 06:41:15; 2024-01-07 21:20:00)\n",
      "train_data (205289) [2023-12-01 00:10:00; 2024-01-02 06:40:00]\n",
      "test_data (34250) [2024-01-03 06:50:00 to 2024-01-06 21:20:00]\n"
     ]
    }
   ],
   "source": [
    "import pandas as pd\n",
    "from catboost import CatBoostClassifier, Pool\n",
    "from sklearn.model_selection import TimeSeriesSplit\n",
    "from sklearn.metrics import confusion_matrix\n",
    "import matplotlib.pyplot as plt\n",
    "import seaborn as sns\n",
    "\n",
    "# Convert 'mint' to a categorical feature\n",
    "# train_test_dataset['mint'] = train_test_dataset['mint'].astype('category')\n",
    "\n",
    "# Define features and target\n",
    "# feature_names = ['mint', 'hour', 'trades', 'token_volume', 'sol_volume', 'price'] + list(features.columns[2:])\n",
    "# cat_feature_names = ['mint']\n",
    "# feature_names = ['trades', 'token_volume', 'sol_volume', 'price'] + list(features.columns[2:])\n",
    "cat_feature_names = []\n",
    "target = 'label'\n",
    "\n",
    "# Initialize CatBoost Classifier\n",
    "model = CatBoostClassifier(loss_function='MultiClass', verbose=False)\n",
    "\n",
    "# TimeSeriesSplit for cross-validation\n",
    "nsplits = 3\n",
    "\n",
    "# To store predictions and actuals\n",
    "actuals = []\n",
    "raw_predictions = []\n",
    "up_probabilities = []\n",
    "down_probabilities = []\n",
    "details_df = pd.DataFrame() \n",
    "train_len = 0\n",
    "up_train_len = 0\n",
    "\n",
    "def split_tscv(ordered_df, nsplits):\n",
    "    min_quant = ordered_df['time_quant'].min()\n",
    "    max_quant = ordered_df['time_quant'].max()\n",
    "    range_quant = (max_quant - min_quant) / (nsplits + 1) / 2\n",
    "    for i in range(nsplits):\n",
    "        train_start = min_quant \n",
    "        train_end = min_quant + (i + 1) * range_quant + (max_quant - min_quant) / 2\n",
    "        test_start = train_end + PREDICTION_TIMEDELTA\n",
    "        test_end = test_start + range_quant\n",
    "        print(f'train [{train_start}; {train_end})\\ntest [{test_start}; {test_end})')\n",
    "        train_df = ordered_df[(ordered_df['time_quant'] >= train_start) & (ordered_df['time_quant'] < train_end)]\n",
    "        test_df = ordered_df[(ordered_df['time_quant'] >= test_start) & (ordered_df['time_quant'] < test_end)]\n",
    "        yield train_df, test_df\n",
    "    \n",
    "    \n",
    "split_tscv(train_test_dataset, nsplits)\n",
    "\n",
    "for train_data, test_data in split_tscv(train_test_dataset, nsplits):\n",
    "    print(f'train_data ({len(train_data)}) [{min(train_data[\"time_quant\"])}; {max(train_data[\"time_quant\"])}]')\n",
    "    if len(test_data) == 0:\n",
    "        print(f'No data left for test data')\n",
    "        break\n",
    "    print(f'test_data ({len(test_data)}) [{min(test_data[\"time_quant\"])} to {max(test_data[\"time_quant\"])}]')\n",
    "\n",
    "    train_len += len(train_data)\n",
    "    up_train_len += len(train_data[train_data[target] == 'up'])\n",
    "\n",
    "    # Create Pool\n",
    "    train_pool = Pool(data=train_data[feature_names], label=train_data[target], cat_features=cat_feature_names)\n",
    "    test_pool = Pool(data=test_data[feature_names], label=test_data[target], cat_features=cat_feature_names)\n",
    "\n",
    "    # Train model\n",
    "    model.fit(train_pool)\n",
    "\n",
    "    # Predict\n",
    "    classes = model.classes_\n",
    "    probs = model.predict_proba(test_pool)\n",
    "    classes_to_index = {c: i for i, c in enumerate(classes)}\n",
    "    \n",
    "    for probs_row in probs:\n",
    "        raw_predictions.append(classes[probs_row.argmax()])\n",
    "        up_probabilities.append(probs_row[classes_to_index['up']])\n",
    "        down_probabilities.append(probs_row[classes_to_index['down']])\n",
    "\n",
    "    actuals.extend(test_data[target].values)\n",
    "    if len(details_df) == 0:\n",
    "        details_df = test_data\n",
    "    else:\n",
    "        details_df = pd.concat([details_df, test_data])\n",
    "    \n"
   ],
   "metadata": {
    "collapsed": false,
    "ExecuteTime": {
     "end_time": "2024-01-07T22:25:52.162331Z",
     "start_time": "2024-01-07T22:25:07.826890Z"
    }
   },
   "id": "62eb4dc2618fa53e"
  },
  {
   "cell_type": "code",
   "execution_count": 14,
   "outputs": [
    {
     "name": "stdout",
     "output_type": "stream",
     "text": [
      "desired_up_amount: 364 of 967\n",
      "up_threshold: 0.11647353497246572\n",
      "pred len 115318, actuals len 115318, comparison_df len 115318, details len 115318, results_df len 115318\n",
      "Confusion Matrix:\n",
      "        up    flat  down\n",
      "up     23     940     4\n",
      "flat  314  111247    90\n",
      "down   28    2600    72\n",
      "ROI1: 111.23% of 100%\n",
      "ROI2: 25.21% of 100%\n",
      "Bench ROI2: 3.35% of 100%\n",
      "Used: 0.32% (365 of 115318 trades)\n",
      "\n",
      "purchased upsides: 3.6703987268681924, top 10 upsides ['134', '124', '123', '120', '56', '56', '40', '40', '40', '40']\n",
      "all upsides: 45040.49961283234, top 10 upsides ['116369018', '115634784', '114432685', '113517379', '113123397', '112882797', '112584762', '112421034', '112206623', '112066362']\n"
     ]
    }
   ],
   "source": [
    "import numpy as np\n",
    "\n",
    "desired_up_amount = int(up_train_len * 1. / train_len * len(actuals) * 0.3)\n",
    "print(f\"desired_up_amount: {desired_up_amount} of {actuals.count('up')}\")\n",
    "\n",
    "delta_probabilities = list(np.array(up_probabilities) - np.array(down_probabilities) / CHANGE_MAGNITUDE)\n",
    "\n",
    "up_threshold = sorted(delta_probabilities, reverse=True)[desired_up_amount]\n",
    "print(f\"up_threshold: {up_threshold}\")\n",
    "\n",
    "predictions = []\n",
    "for raw_pred, up_prob in zip(raw_predictions, delta_probabilities):\n",
    "    if up_prob < up_threshold:\n",
    "        predictions.append(raw_pred if raw_pred != 'up' else 'flat')\n",
    "    else:\n",
    "        predictions.append('up')\n",
    "\n",
    "# Confusion Matrix\n",
    "conf_matrix = confusion_matrix(actuals, predictions, labels=['up', 'flat', 'down'])\n",
    "conf_matrix_df = pd.DataFrame(conf_matrix, index=['up', 'flat', 'down'], columns=['up', 'flat', 'down'])\n",
    "\n",
    "# Last iteration's predictions and actuals\n",
    "comparison_df = pd.DataFrame({'Actual': actuals, 'Predicted': predictions, 'UpP': up_probabilities, 'DownP': down_probabilities})\n",
    "# comparison_df = comparison_df.reset_index(drop=True)\n",
    "\n",
    "# add details to results_df\n",
    "results_df = pd.concat([comparison_df.reset_index(drop=True), details_df.reset_index(drop=True)], axis=1)\n",
    "print(f\"pred len {len(predictions)}, actuals len {len(actuals)}, \"\n",
    "      f\"comparison_df len {len(comparison_df)}, details len {len(details_df)}, results_df len {len(results_df)}\")\n",
    "\n",
    "#join prices to results_df\n",
    "# results_df = results_df.join(prices[['mint', 'hour', 'price'+prediction_type['suffix']]].set_index(['mint', 'hour']), on=['mint', 'hour'])\n",
    "results_df['upside'] = results_df['sell_price'] / results_df['buy_price']\n",
    "# if price is inf, set upside to 0\n",
    "results_df['upside'] = results_df['upside'].replace([np.inf, -np.inf], 1)\n",
    "\n",
    "purchased_upsides = results_df[(results_df['Predicted']=='up')]['upside']\n",
    "all_upsides = results_df['upside']\n",
    "\n",
    "\n",
    "# Output\n",
    "print(\"Confusion Matrix:\\n\", conf_matrix_df)\n",
    "print(\"ROI1: %.2f%% of 100%%\\n\"\n",
    "      \"ROI2: %.2f%% of 100%%\\n\"\n",
    "      \"Bench ROI2: %.2f%% of 100%%\\n\"\n",
    "      \"Used: %.2f%% (%d of %d trades)\\n\"\n",
    "      %(\n",
    "        (100 * (CHANGE_MAGNITUDE * 1. * conf_matrix_df.loc['up', 'up'].sum() + conf_matrix_df.loc['flat', 'up'].sum()) / conf_matrix_df.loc[:, 'up'].sum()),\n",
    "        (100 * (CHANGE_MAGNITUDE * 1. * conf_matrix_df.loc['up', 'up'].sum()) / conf_matrix_df.loc[:, 'up'].sum()),\n",
    "        (100 * (CHANGE_MAGNITUDE * 1. * conf_matrix_df.loc['up', :].sum()) / conf_matrix_df.loc[:, :].sum().sum()),\n",
    "        (100 * (1. * conf_matrix_df.loc[:, 'up'].sum()) / conf_matrix_df.loc[:, :].sum().sum()),\n",
    "        conf_matrix_df.loc[:, 'up'].sum(),\n",
    "        conf_matrix_df.loc[:, :].sum().sum(),\n",
    "      )\n",
    "      )\n",
    "print(f'purchased upsides: {purchased_upsides.mean()}, top 10 upsides {[\"%.0f\" % u for u in list(purchased_upsides.sort_values(ascending=False).head(10))]}')\n",
    "print(f'all upsides: {all_upsides.mean()}, top 10 upsides {[\"%.0f\" % u for u in list(all_upsides.sort_values(ascending=False).head(10))]}')"
   ],
   "metadata": {
    "collapsed": false,
    "ExecuteTime": {
     "end_time": "2024-01-07T22:25:54.558162Z",
     "start_time": "2024-01-07T22:25:54.294679Z"
    }
   },
   "id": "fef1b11c7c2205ff"
  },
  {
   "cell_type": "code",
   "execution_count": 24,
   "outputs": [
    {
     "name": "stdout",
     "output_type": "stream",
     "text": [
      "Confusion Matrix:\n",
      "        up    flat  down\n",
      "up     23     940     4\n",
      "flat  314  111247    90\n",
      "down   28    2600    72\n",
      "ROI1: 111.23% of 100%\n",
      "ROI2: 25.21% of 100%\n",
      "Bench ROI2: 3.35% of 100%\n",
      "Used: 0.32% (365 of 115318 trades)\n",
      "\n",
      "purchased upsides: 3.6703987268681924, top 10 upsides ['134', '124', '123', '120', '56', '56', '40', '40', '40', '40']\n",
      "all upsides: 45040.49961283234, top 10 upsides ['116369018', '115634784', '114432685', '113517379', '113123397', '112882797', '112584762', '112421034', '112206623', '112066362']\n"
     ]
    }
   ],
   "source": [
    "print(\"Confusion Matrix:\\n\", conf_matrix_df)\n",
    "print(\"ROI1: %.2f%% of 100%%\\n\"\n",
    "      \"ROI2: %.2f%% of 100%%\\n\"\n",
    "      \"Bench ROI2: %.2f%% of 100%%\\n\"\n",
    "      \"Used: %.2f%% (%d of %d trades)\\n\"\n",
    "      %(\n",
    "        (100 * (CHANGE_MAGNITUDE * 1. * conf_matrix_df.loc['up', 'up'].sum() + conf_matrix_df.loc['flat', 'up'].sum()) / conf_matrix_df.loc[:, 'up'].sum()),\n",
    "        (100 * (CHANGE_MAGNITUDE * 1. * conf_matrix_df.loc['up', 'up'].sum()) / conf_matrix_df.loc[:, 'up'].sum()),\n",
    "        (100 * (CHANGE_MAGNITUDE * 1. * conf_matrix_df.loc['up', :].sum()) / conf_matrix_df.loc[:, :].sum().sum()),\n",
    "        (100 * (1. * conf_matrix_df.loc[:, 'up'].sum()) / conf_matrix_df.loc[:, :].sum().sum()),\n",
    "        conf_matrix_df.loc[:, 'up'].sum(),\n",
    "        conf_matrix_df.loc[:, :].sum().sum(),\n",
    "      )\n",
    "      )\n",
    "print(f'purchased upsides: {purchased_upsides.mean()}, top 10 upsides {[\"%.0f\" % u for u in list(purchased_upsides.sort_values(ascending=False).head(10))]}')\n",
    "print(f'all upsides: {all_upsides.mean()}, top 10 upsides {[\"%.0f\" % u for u in list(all_upsides.sort_values(ascending=False).head(10))]}')"
   ],
   "metadata": {
    "collapsed": false,
    "ExecuteTime": {
     "end_time": "2024-01-07T22:43:20.776133Z",
     "start_time": "2024-01-07T22:43:20.752688Z"
    }
   },
   "id": "94a5c8e242f78fdf"
  },
  {
   "cell_type": "code",
   "execution_count": 25,
   "outputs": [
    {
     "data": {
      "text/plain": "          Feature Id  Importances\n0        day_of_week    10.611004\n1               hour     8.736362\n2     u_price_sma_4h     5.282725\n3     u_price_sma_1d     4.597396\n4     u_price_ema_1d     4.368766\n5    u_price_rsi_10m     3.922446\n6     sma_vol_buy_1d     3.254150\n7    ema_vol_sell_1d     2.951060\n8   ema_vol_sell_10m     2.823960\n9    sma_vol_buy_10m     2.518401\n10   sma_vol_sell_1h     2.450626\n11   ema_vol_buy_10m     2.440727\n12   sma_vol_sell_1d     2.410291\n13  sma_vol_sell_10m     2.373164\n14    ema_vol_buy_4h     2.307422\n15    u_price_rsi_1h     2.241704\n16    ema_vol_buy_1d     2.238152\n17    u_price_ema_4h     2.095479\n18   ema_vol_sell_4h     2.026192\n19    ema_vol_buy_1h     2.016966\n20    u_price_sma_1h     1.968495\n21    sma_vol_sum_1d     1.958996\n22    u_price_rsi_1d     1.943750\n23   u_price_sma_10m     1.942363\n24   ema_vol_sum_10m     1.828271\n25   sma_vol_sell_4h     1.797975\n26   sma_vol_sum_10m     1.713183\n27    u_price_ema_1h     1.625074\n28   u_price_ema_10m     1.564464\n29   ema_vol_sell_1h     1.545192\n30    sma_vol_buy_1h     1.522934\n31    ema_vol_sum_4h     1.522767\n32    ema_vol_sum_1d     1.516379\n33    sma_vol_buy_4h     1.485579\n34    sma_vol_sum_4h     1.349973\n35    sma_vol_sum_1h     1.233632\n36    ema_vol_sum_1h     0.960169\n37    u_price_rsi_4h     0.853811",
      "text/html": "<div>\n<style scoped>\n    .dataframe tbody tr th:only-of-type {\n        vertical-align: middle;\n    }\n\n    .dataframe tbody tr th {\n        vertical-align: top;\n    }\n\n    .dataframe thead th {\n        text-align: right;\n    }\n</style>\n<table border=\"1\" class=\"dataframe\">\n  <thead>\n    <tr style=\"text-align: right;\">\n      <th></th>\n      <th>Feature Id</th>\n      <th>Importances</th>\n    </tr>\n  </thead>\n  <tbody>\n    <tr>\n      <th>0</th>\n      <td>day_of_week</td>\n      <td>10.611004</td>\n    </tr>\n    <tr>\n      <th>1</th>\n      <td>hour</td>\n      <td>8.736362</td>\n    </tr>\n    <tr>\n      <th>2</th>\n      <td>u_price_sma_4h</td>\n      <td>5.282725</td>\n    </tr>\n    <tr>\n      <th>3</th>\n      <td>u_price_sma_1d</td>\n      <td>4.597396</td>\n    </tr>\n    <tr>\n      <th>4</th>\n      <td>u_price_ema_1d</td>\n      <td>4.368766</td>\n    </tr>\n    <tr>\n      <th>5</th>\n      <td>u_price_rsi_10m</td>\n      <td>3.922446</td>\n    </tr>\n    <tr>\n      <th>6</th>\n      <td>sma_vol_buy_1d</td>\n      <td>3.254150</td>\n    </tr>\n    <tr>\n      <th>7</th>\n      <td>ema_vol_sell_1d</td>\n      <td>2.951060</td>\n    </tr>\n    <tr>\n      <th>8</th>\n      <td>ema_vol_sell_10m</td>\n      <td>2.823960</td>\n    </tr>\n    <tr>\n      <th>9</th>\n      <td>sma_vol_buy_10m</td>\n      <td>2.518401</td>\n    </tr>\n    <tr>\n      <th>10</th>\n      <td>sma_vol_sell_1h</td>\n      <td>2.450626</td>\n    </tr>\n    <tr>\n      <th>11</th>\n      <td>ema_vol_buy_10m</td>\n      <td>2.440727</td>\n    </tr>\n    <tr>\n      <th>12</th>\n      <td>sma_vol_sell_1d</td>\n      <td>2.410291</td>\n    </tr>\n    <tr>\n      <th>13</th>\n      <td>sma_vol_sell_10m</td>\n      <td>2.373164</td>\n    </tr>\n    <tr>\n      <th>14</th>\n      <td>ema_vol_buy_4h</td>\n      <td>2.307422</td>\n    </tr>\n    <tr>\n      <th>15</th>\n      <td>u_price_rsi_1h</td>\n      <td>2.241704</td>\n    </tr>\n    <tr>\n      <th>16</th>\n      <td>ema_vol_buy_1d</td>\n      <td>2.238152</td>\n    </tr>\n    <tr>\n      <th>17</th>\n      <td>u_price_ema_4h</td>\n      <td>2.095479</td>\n    </tr>\n    <tr>\n      <th>18</th>\n      <td>ema_vol_sell_4h</td>\n      <td>2.026192</td>\n    </tr>\n    <tr>\n      <th>19</th>\n      <td>ema_vol_buy_1h</td>\n      <td>2.016966</td>\n    </tr>\n    <tr>\n      <th>20</th>\n      <td>u_price_sma_1h</td>\n      <td>1.968495</td>\n    </tr>\n    <tr>\n      <th>21</th>\n      <td>sma_vol_sum_1d</td>\n      <td>1.958996</td>\n    </tr>\n    <tr>\n      <th>22</th>\n      <td>u_price_rsi_1d</td>\n      <td>1.943750</td>\n    </tr>\n    <tr>\n      <th>23</th>\n      <td>u_price_sma_10m</td>\n      <td>1.942363</td>\n    </tr>\n    <tr>\n      <th>24</th>\n      <td>ema_vol_sum_10m</td>\n      <td>1.828271</td>\n    </tr>\n    <tr>\n      <th>25</th>\n      <td>sma_vol_sell_4h</td>\n      <td>1.797975</td>\n    </tr>\n    <tr>\n      <th>26</th>\n      <td>sma_vol_sum_10m</td>\n      <td>1.713183</td>\n    </tr>\n    <tr>\n      <th>27</th>\n      <td>u_price_ema_1h</td>\n      <td>1.625074</td>\n    </tr>\n    <tr>\n      <th>28</th>\n      <td>u_price_ema_10m</td>\n      <td>1.564464</td>\n    </tr>\n    <tr>\n      <th>29</th>\n      <td>ema_vol_sell_1h</td>\n      <td>1.545192</td>\n    </tr>\n    <tr>\n      <th>30</th>\n      <td>sma_vol_buy_1h</td>\n      <td>1.522934</td>\n    </tr>\n    <tr>\n      <th>31</th>\n      <td>ema_vol_sum_4h</td>\n      <td>1.522767</td>\n    </tr>\n    <tr>\n      <th>32</th>\n      <td>ema_vol_sum_1d</td>\n      <td>1.516379</td>\n    </tr>\n    <tr>\n      <th>33</th>\n      <td>sma_vol_buy_4h</td>\n      <td>1.485579</td>\n    </tr>\n    <tr>\n      <th>34</th>\n      <td>sma_vol_sum_4h</td>\n      <td>1.349973</td>\n    </tr>\n    <tr>\n      <th>35</th>\n      <td>sma_vol_sum_1h</td>\n      <td>1.233632</td>\n    </tr>\n    <tr>\n      <th>36</th>\n      <td>ema_vol_sum_1h</td>\n      <td>0.960169</td>\n    </tr>\n    <tr>\n      <th>37</th>\n      <td>u_price_rsi_4h</td>\n      <td>0.853811</td>\n    </tr>\n  </tbody>\n</table>\n</div>"
     },
     "execution_count": 25,
     "metadata": {},
     "output_type": "execute_result"
    }
   ],
   "source": [
    "# feature importance\n",
    "model.get_feature_importance(prettified=True)"
   ],
   "metadata": {
    "collapsed": false,
    "ExecuteTime": {
     "end_time": "2024-01-07T22:43:22.017173Z",
     "start_time": "2024-01-07T22:43:22.007342Z"
    }
   },
   "id": "aa3a8642a70c940b"
  },
  {
   "cell_type": "code",
   "execution_count": 26,
   "outputs": [
    {
     "data": {
      "text/plain": "                                                mint          time_quant  \\\n102813  F4TwqC6nbFTN59UakGwEV4shLSrTeyq4D2hmvpdzQnpt 2024-01-05 13:00:00   \n95833   9RQWJyXPF8CC4RFxU6LQjs3wr8tosRWx7xYAHgoR1keE 2024-01-04 18:20:00   \n95432   9RQWJyXPF8CC4RFxU6LQjs3wr8tosRWx7xYAHgoR1keE 2024-01-04 17:30:00   \n94943   9RQWJyXPF8CC4RFxU6LQjs3wr8tosRWx7xYAHgoR1keE 2024-01-04 16:30:00   \n94855   9RQWJyXPF8CC4RFxU6LQjs3wr8tosRWx7xYAHgoR1keE 2024-01-04 16:20:00   \n27679   7xKXtg2CW87d97TXJSDpbD5jBkheTqA83TZRuJosgAsU 2023-12-28 04:10:00   \n27246   7xKXtg2CW87d97TXJSDpbD5jBkheTqA83TZRuJosgAsU 2023-12-28 03:00:00   \n26149   7xKXtg2CW87d97TXJSDpbD5jBkheTqA83TZRuJosgAsU 2023-12-28 00:30:00   \n24697   7xKXtg2CW87d97TXJSDpbD5jBkheTqA83TZRuJosgAsU 2023-12-27 21:30:00   \n24262   7xKXtg2CW87d97TXJSDpbD5jBkheTqA83TZRuJosgAsU 2023-12-27 20:40:00   \n21347   7xKXtg2CW87d97TXJSDpbD5jBkheTqA83TZRuJosgAsU 2023-12-27 14:50:00   \n21207   7xKXtg2CW87d97TXJSDpbD5jBkheTqA83TZRuJosgAsU 2023-12-27 14:30:00   \n20441   7xKXtg2CW87d97TXJSDpbD5jBkheTqA83TZRuJosgAsU 2023-12-27 12:40:00   \n19937   7xKXtg2CW87d97TXJSDpbD5jBkheTqA83TZRuJosgAsU 2023-12-27 11:20:00   \n17993   7xKXtg2CW87d97TXJSDpbD5jBkheTqA83TZRuJosgAsU 2023-12-27 04:50:00   \n16755   7xKXtg2CW87d97TXJSDpbD5jBkheTqA83TZRuJosgAsU 2023-12-27 01:10:00   \n15904   7xKXtg2CW87d97TXJSDpbD5jBkheTqA83TZRuJosgAsU 2023-12-26 22:50:00   \n12596   7xKXtg2CW87d97TXJSDpbD5jBkheTqA83TZRuJosgAsU 2023-12-26 14:10:00   \n11341   7xKXtg2CW87d97TXJSDpbD5jBkheTqA83TZRuJosgAsU 2023-12-26 10:10:00   \n11287   7xKXtg2CW87d97TXJSDpbD5jBkheTqA83TZRuJosgAsU 2023-12-26 10:00:00   \n10889   7xKXtg2CW87d97TXJSDpbD5jBkheTqA83TZRuJosgAsU 2023-12-26 08:40:00   \n8115    59JqWigb2AUvqjzY1bPz4RgYosY5pC5VGPCjiKPjqssH 2023-12-26 00:40:00   \n1605    7xKXtg2CW87d97TXJSDpbD5jBkheTqA83TZRuJosgAsU 2023-12-25 07:40:00   \n\n               price     buy_price    sell_price      upside  \n102813  9.754889e-08  9.754889e-08  5.158731e-07    5.288354  \n95833   6.104110e-08  6.104110e-08  3.556775e-07    5.826853  \n95432   7.927776e-08  7.927776e-08  3.489044e-07    4.401038  \n94943   7.769572e-08  7.769572e-08  3.406085e-07    4.383877  \n94855   6.085532e-08  6.085532e-08  3.386812e-07    5.565350  \n27679   1.350743e-04  1.350743e-04  5.087490e-03   37.664386  \n27246   1.380653e-04  1.380653e-04  5.088060e-03   36.852572  \n26149   1.321640e-04  1.321640e-04  5.256586e-03   39.773213  \n24697   1.313049e-04  1.313049e-04  5.257597e-03   40.041150  \n24262   1.303456e-04  1.303456e-04  5.257741e-03   40.336927  \n21347   1.344436e-04  1.344436e-04  5.258837e-03   39.115571  \n21207   1.373529e-04  1.373529e-04  5.258923e-03   38.287664  \n20441   1.357056e-04  1.357056e-04  5.259398e-03   38.755943  \n19937   1.347741e-04  1.347741e-04  5.427237e-03   40.269147  \n17993   1.302276e-04  1.302276e-04  3.493056e-03   26.822710  \n16755   1.337181e-04  1.337181e-04  7.464359e-03   55.821604  \n15904   1.374381e-04  1.374381e-04  7.756227e-03   56.434326  \n12596   1.558123e-04  1.558123e-04  1.869515e-02  119.985046  \n11341   1.548664e-04  1.548664e-04  1.901519e-02  122.784489  \n11287   1.523997e-04  1.523997e-04  1.884781e-02  123.673488  \n10889   1.524918e-04  1.524918e-04  2.038785e-02  133.697959  \n8115    3.646059e-08  3.646059e-08  1.683860e-07    4.618301  \n1605    1.564198e-04  1.564198e-04  6.537960e-04    4.179752  ",
      "text/html": "<div>\n<style scoped>\n    .dataframe tbody tr th:only-of-type {\n        vertical-align: middle;\n    }\n\n    .dataframe tbody tr th {\n        vertical-align: top;\n    }\n\n    .dataframe thead th {\n        text-align: right;\n    }\n</style>\n<table border=\"1\" class=\"dataframe\">\n  <thead>\n    <tr style=\"text-align: right;\">\n      <th></th>\n      <th>mint</th>\n      <th>time_quant</th>\n      <th>price</th>\n      <th>buy_price</th>\n      <th>sell_price</th>\n      <th>upside</th>\n    </tr>\n  </thead>\n  <tbody>\n    <tr>\n      <th>102813</th>\n      <td>F4TwqC6nbFTN59UakGwEV4shLSrTeyq4D2hmvpdzQnpt</td>\n      <td>2024-01-05 13:00:00</td>\n      <td>9.754889e-08</td>\n      <td>9.754889e-08</td>\n      <td>5.158731e-07</td>\n      <td>5.288354</td>\n    </tr>\n    <tr>\n      <th>95833</th>\n      <td>9RQWJyXPF8CC4RFxU6LQjs3wr8tosRWx7xYAHgoR1keE</td>\n      <td>2024-01-04 18:20:00</td>\n      <td>6.104110e-08</td>\n      <td>6.104110e-08</td>\n      <td>3.556775e-07</td>\n      <td>5.826853</td>\n    </tr>\n    <tr>\n      <th>95432</th>\n      <td>9RQWJyXPF8CC4RFxU6LQjs3wr8tosRWx7xYAHgoR1keE</td>\n      <td>2024-01-04 17:30:00</td>\n      <td>7.927776e-08</td>\n      <td>7.927776e-08</td>\n      <td>3.489044e-07</td>\n      <td>4.401038</td>\n    </tr>\n    <tr>\n      <th>94943</th>\n      <td>9RQWJyXPF8CC4RFxU6LQjs3wr8tosRWx7xYAHgoR1keE</td>\n      <td>2024-01-04 16:30:00</td>\n      <td>7.769572e-08</td>\n      <td>7.769572e-08</td>\n      <td>3.406085e-07</td>\n      <td>4.383877</td>\n    </tr>\n    <tr>\n      <th>94855</th>\n      <td>9RQWJyXPF8CC4RFxU6LQjs3wr8tosRWx7xYAHgoR1keE</td>\n      <td>2024-01-04 16:20:00</td>\n      <td>6.085532e-08</td>\n      <td>6.085532e-08</td>\n      <td>3.386812e-07</td>\n      <td>5.565350</td>\n    </tr>\n    <tr>\n      <th>27679</th>\n      <td>7xKXtg2CW87d97TXJSDpbD5jBkheTqA83TZRuJosgAsU</td>\n      <td>2023-12-28 04:10:00</td>\n      <td>1.350743e-04</td>\n      <td>1.350743e-04</td>\n      <td>5.087490e-03</td>\n      <td>37.664386</td>\n    </tr>\n    <tr>\n      <th>27246</th>\n      <td>7xKXtg2CW87d97TXJSDpbD5jBkheTqA83TZRuJosgAsU</td>\n      <td>2023-12-28 03:00:00</td>\n      <td>1.380653e-04</td>\n      <td>1.380653e-04</td>\n      <td>5.088060e-03</td>\n      <td>36.852572</td>\n    </tr>\n    <tr>\n      <th>26149</th>\n      <td>7xKXtg2CW87d97TXJSDpbD5jBkheTqA83TZRuJosgAsU</td>\n      <td>2023-12-28 00:30:00</td>\n      <td>1.321640e-04</td>\n      <td>1.321640e-04</td>\n      <td>5.256586e-03</td>\n      <td>39.773213</td>\n    </tr>\n    <tr>\n      <th>24697</th>\n      <td>7xKXtg2CW87d97TXJSDpbD5jBkheTqA83TZRuJosgAsU</td>\n      <td>2023-12-27 21:30:00</td>\n      <td>1.313049e-04</td>\n      <td>1.313049e-04</td>\n      <td>5.257597e-03</td>\n      <td>40.041150</td>\n    </tr>\n    <tr>\n      <th>24262</th>\n      <td>7xKXtg2CW87d97TXJSDpbD5jBkheTqA83TZRuJosgAsU</td>\n      <td>2023-12-27 20:40:00</td>\n      <td>1.303456e-04</td>\n      <td>1.303456e-04</td>\n      <td>5.257741e-03</td>\n      <td>40.336927</td>\n    </tr>\n    <tr>\n      <th>21347</th>\n      <td>7xKXtg2CW87d97TXJSDpbD5jBkheTqA83TZRuJosgAsU</td>\n      <td>2023-12-27 14:50:00</td>\n      <td>1.344436e-04</td>\n      <td>1.344436e-04</td>\n      <td>5.258837e-03</td>\n      <td>39.115571</td>\n    </tr>\n    <tr>\n      <th>21207</th>\n      <td>7xKXtg2CW87d97TXJSDpbD5jBkheTqA83TZRuJosgAsU</td>\n      <td>2023-12-27 14:30:00</td>\n      <td>1.373529e-04</td>\n      <td>1.373529e-04</td>\n      <td>5.258923e-03</td>\n      <td>38.287664</td>\n    </tr>\n    <tr>\n      <th>20441</th>\n      <td>7xKXtg2CW87d97TXJSDpbD5jBkheTqA83TZRuJosgAsU</td>\n      <td>2023-12-27 12:40:00</td>\n      <td>1.357056e-04</td>\n      <td>1.357056e-04</td>\n      <td>5.259398e-03</td>\n      <td>38.755943</td>\n    </tr>\n    <tr>\n      <th>19937</th>\n      <td>7xKXtg2CW87d97TXJSDpbD5jBkheTqA83TZRuJosgAsU</td>\n      <td>2023-12-27 11:20:00</td>\n      <td>1.347741e-04</td>\n      <td>1.347741e-04</td>\n      <td>5.427237e-03</td>\n      <td>40.269147</td>\n    </tr>\n    <tr>\n      <th>17993</th>\n      <td>7xKXtg2CW87d97TXJSDpbD5jBkheTqA83TZRuJosgAsU</td>\n      <td>2023-12-27 04:50:00</td>\n      <td>1.302276e-04</td>\n      <td>1.302276e-04</td>\n      <td>3.493056e-03</td>\n      <td>26.822710</td>\n    </tr>\n    <tr>\n      <th>16755</th>\n      <td>7xKXtg2CW87d97TXJSDpbD5jBkheTqA83TZRuJosgAsU</td>\n      <td>2023-12-27 01:10:00</td>\n      <td>1.337181e-04</td>\n      <td>1.337181e-04</td>\n      <td>7.464359e-03</td>\n      <td>55.821604</td>\n    </tr>\n    <tr>\n      <th>15904</th>\n      <td>7xKXtg2CW87d97TXJSDpbD5jBkheTqA83TZRuJosgAsU</td>\n      <td>2023-12-26 22:50:00</td>\n      <td>1.374381e-04</td>\n      <td>1.374381e-04</td>\n      <td>7.756227e-03</td>\n      <td>56.434326</td>\n    </tr>\n    <tr>\n      <th>12596</th>\n      <td>7xKXtg2CW87d97TXJSDpbD5jBkheTqA83TZRuJosgAsU</td>\n      <td>2023-12-26 14:10:00</td>\n      <td>1.558123e-04</td>\n      <td>1.558123e-04</td>\n      <td>1.869515e-02</td>\n      <td>119.985046</td>\n    </tr>\n    <tr>\n      <th>11341</th>\n      <td>7xKXtg2CW87d97TXJSDpbD5jBkheTqA83TZRuJosgAsU</td>\n      <td>2023-12-26 10:10:00</td>\n      <td>1.548664e-04</td>\n      <td>1.548664e-04</td>\n      <td>1.901519e-02</td>\n      <td>122.784489</td>\n    </tr>\n    <tr>\n      <th>11287</th>\n      <td>7xKXtg2CW87d97TXJSDpbD5jBkheTqA83TZRuJosgAsU</td>\n      <td>2023-12-26 10:00:00</td>\n      <td>1.523997e-04</td>\n      <td>1.523997e-04</td>\n      <td>1.884781e-02</td>\n      <td>123.673488</td>\n    </tr>\n    <tr>\n      <th>10889</th>\n      <td>7xKXtg2CW87d97TXJSDpbD5jBkheTqA83TZRuJosgAsU</td>\n      <td>2023-12-26 08:40:00</td>\n      <td>1.524918e-04</td>\n      <td>1.524918e-04</td>\n      <td>2.038785e-02</td>\n      <td>133.697959</td>\n    </tr>\n    <tr>\n      <th>8115</th>\n      <td>59JqWigb2AUvqjzY1bPz4RgYosY5pC5VGPCjiKPjqssH</td>\n      <td>2023-12-26 00:40:00</td>\n      <td>3.646059e-08</td>\n      <td>3.646059e-08</td>\n      <td>1.683860e-07</td>\n      <td>4.618301</td>\n    </tr>\n    <tr>\n      <th>1605</th>\n      <td>7xKXtg2CW87d97TXJSDpbD5jBkheTqA83TZRuJosgAsU</td>\n      <td>2023-12-25 07:40:00</td>\n      <td>1.564198e-04</td>\n      <td>1.564198e-04</td>\n      <td>6.537960e-04</td>\n      <td>4.179752</td>\n    </tr>\n  </tbody>\n</table>\n</div>"
     },
     "execution_count": 26,
     "metadata": {},
     "output_type": "execute_result"
    }
   ],
   "source": [
    "# what was guessed correctly\n",
    "guessed = results_df[(results_df['Actual']=='up') & (results_df['Predicted']=='up')].sort_values(by=['time_quant', 'mint'], ascending=False)\n",
    "guessed[['mint', 'time_quant', 'price', 'buy_price', 'sell_price', 'upside']]"
   ],
   "metadata": {
    "collapsed": false,
    "ExecuteTime": {
     "end_time": "2024-01-07T22:43:29.021474Z",
     "start_time": "2024-01-07T22:43:29.011455Z"
    }
   },
   "id": "610d77d03127299e"
  },
  {
   "cell_type": "code",
   "execution_count": 27,
   "outputs": [
    {
     "data": {
      "text/plain": "count                                               23\nunique                                               4\ntop       7xKXtg2CW87d97TXJSDpbD5jBkheTqA83TZRuJosgAsU\nfreq                                                17\nName: mint, dtype: object"
     },
     "execution_count": 27,
     "metadata": {},
     "output_type": "execute_result"
    }
   ],
   "source": [
    "guessed.mint.describe()"
   ],
   "metadata": {
    "collapsed": false,
    "ExecuteTime": {
     "end_time": "2024-01-07T22:43:29.532417Z",
     "start_time": "2024-01-07T22:43:29.494146Z"
    }
   },
   "id": "eb5aa523d3a36f3b"
  },
  {
   "cell_type": "code",
   "execution_count": 28,
   "outputs": [],
   "source": [
    "purchased = results_df[results_df['Predicted']=='up'].sort_values(by=['time_quant', 'mint'], ascending=False)\n",
    "purchased = purchased[['mint', 'time_quant', 'price', 'buy_price', 'sell_price', 'upside']]"
   ],
   "metadata": {
    "collapsed": false,
    "ExecuteTime": {
     "end_time": "2024-01-07T22:43:29.926003Z",
     "start_time": "2024-01-07T22:43:29.920380Z"
    }
   },
   "id": "770de9eb31dcc677"
  },
  {
   "cell_type": "code",
   "execution_count": 29,
   "outputs": [
    {
     "data": {
      "text/plain": "count                                              365\nunique                                             166\ntop       87QbDz6Ze5B8L3PoGvqLyJ3JAydi39jNtvzXDEz7zbcK\nfreq                                                38\nName: mint, dtype: object"
     },
     "execution_count": 29,
     "metadata": {},
     "output_type": "execute_result"
    }
   ],
   "source": [
    "purchased.mint.describe()\n"
   ],
   "metadata": {
    "collapsed": false,
    "ExecuteTime": {
     "end_time": "2024-01-07T22:43:30.224292Z",
     "start_time": "2024-01-07T22:43:30.221858Z"
    }
   },
   "id": "8c7e3d155a4a0fba"
  },
  {
   "cell_type": "code",
   "execution_count": 30,
   "outputs": [
    {
     "data": {
      "text/plain": "                                             mint          time_quant  \\\n0    J8Qh7BKXETqwzkeg1S976MNhQzryYrG2oY5ybtVTAD7K 2024-01-06 15:10:00   \n1    Fu4ixir2Zs5HM44LmzkjTjCCFoTCqhdJD56ZQFyUQ7r6 2024-01-06 12:50:00   \n2    AUYZoApYuvZeVmDcfC6LK6Rz1zShWYju5ZG7eCTjQbre 2024-01-06 09:10:00   \n3    DqTKHDkRttkuHoFUJWZ3zUbxRrdsndTwe7qKwDG6SYCS 2024-01-06 05:30:00   \n4    AJEvrTRyVwH53Ne2mj4FP8rw5a9J5QMcHbm5PjCBeY9q 2024-01-06 02:00:00   \n..                                            ...                 ...   \n161  8V9DhVW7xNyPEF3WtKsRpdQP2VhgoEgASrZWCQwzo6Ve 2023-12-25 22:30:00   \n162  725YnAx1QJbjTFHriqgR7yxZyP2qjMm2UsKHh91zYV3C 2023-12-25 21:20:00   \n163  53HBhU7E6NvubejXoNnM2fyKYjXFc8LLLrFa9dJQi588 2023-12-25 20:00:00   \n164  7xKXtg2CW87d97TXJSDpbD5jBkheTqA83TZRuJosgAsU 2023-12-25 07:40:00   \n165  GPyzPHuFFGvN4yWWixt6TYUtDG49gfMdFFi2iniTmCkh 2023-12-25 06:50:00   \n\n            price     buy_price    sell_price    upside  \n0    1.181311e-06  1.181311e-06  1.282706e-06  1.085833  \n1    1.228070e-06  1.228070e-06  1.310741e-06  1.067318  \n2    1.307041e-06  1.307041e-06  3.782479e-06  2.893925  \n3    6.178589e-07  6.178589e-07  1.425330e-06  2.306886  \n4    1.876979e-07  1.876979e-07  1.206886e-07  0.642994  \n..            ...           ...           ...       ...  \n161  6.427212e-07  6.427212e-07  4.426337e-07  0.688687  \n162  6.618777e-08  6.618777e-08  6.754763e-08  1.020545  \n163  7.156462e-08  7.156462e-08  7.664213e-08  1.070950  \n164  1.564198e-04  1.564198e-04  6.537960e-04  4.179752  \n165  4.317431e-13  4.317431e-13  2.745284e-13  0.635860  \n\n[166 rows x 6 columns]",
      "text/html": "<div>\n<style scoped>\n    .dataframe tbody tr th:only-of-type {\n        vertical-align: middle;\n    }\n\n    .dataframe tbody tr th {\n        vertical-align: top;\n    }\n\n    .dataframe thead th {\n        text-align: right;\n    }\n</style>\n<table border=\"1\" class=\"dataframe\">\n  <thead>\n    <tr style=\"text-align: right;\">\n      <th></th>\n      <th>mint</th>\n      <th>time_quant</th>\n      <th>price</th>\n      <th>buy_price</th>\n      <th>sell_price</th>\n      <th>upside</th>\n    </tr>\n  </thead>\n  <tbody>\n    <tr>\n      <th>0</th>\n      <td>J8Qh7BKXETqwzkeg1S976MNhQzryYrG2oY5ybtVTAD7K</td>\n      <td>2024-01-06 15:10:00</td>\n      <td>1.181311e-06</td>\n      <td>1.181311e-06</td>\n      <td>1.282706e-06</td>\n      <td>1.085833</td>\n    </tr>\n    <tr>\n      <th>1</th>\n      <td>Fu4ixir2Zs5HM44LmzkjTjCCFoTCqhdJD56ZQFyUQ7r6</td>\n      <td>2024-01-06 12:50:00</td>\n      <td>1.228070e-06</td>\n      <td>1.228070e-06</td>\n      <td>1.310741e-06</td>\n      <td>1.067318</td>\n    </tr>\n    <tr>\n      <th>2</th>\n      <td>AUYZoApYuvZeVmDcfC6LK6Rz1zShWYju5ZG7eCTjQbre</td>\n      <td>2024-01-06 09:10:00</td>\n      <td>1.307041e-06</td>\n      <td>1.307041e-06</td>\n      <td>3.782479e-06</td>\n      <td>2.893925</td>\n    </tr>\n    <tr>\n      <th>3</th>\n      <td>DqTKHDkRttkuHoFUJWZ3zUbxRrdsndTwe7qKwDG6SYCS</td>\n      <td>2024-01-06 05:30:00</td>\n      <td>6.178589e-07</td>\n      <td>6.178589e-07</td>\n      <td>1.425330e-06</td>\n      <td>2.306886</td>\n    </tr>\n    <tr>\n      <th>4</th>\n      <td>AJEvrTRyVwH53Ne2mj4FP8rw5a9J5QMcHbm5PjCBeY9q</td>\n      <td>2024-01-06 02:00:00</td>\n      <td>1.876979e-07</td>\n      <td>1.876979e-07</td>\n      <td>1.206886e-07</td>\n      <td>0.642994</td>\n    </tr>\n    <tr>\n      <th>...</th>\n      <td>...</td>\n      <td>...</td>\n      <td>...</td>\n      <td>...</td>\n      <td>...</td>\n      <td>...</td>\n    </tr>\n    <tr>\n      <th>161</th>\n      <td>8V9DhVW7xNyPEF3WtKsRpdQP2VhgoEgASrZWCQwzo6Ve</td>\n      <td>2023-12-25 22:30:00</td>\n      <td>6.427212e-07</td>\n      <td>6.427212e-07</td>\n      <td>4.426337e-07</td>\n      <td>0.688687</td>\n    </tr>\n    <tr>\n      <th>162</th>\n      <td>725YnAx1QJbjTFHriqgR7yxZyP2qjMm2UsKHh91zYV3C</td>\n      <td>2023-12-25 21:20:00</td>\n      <td>6.618777e-08</td>\n      <td>6.618777e-08</td>\n      <td>6.754763e-08</td>\n      <td>1.020545</td>\n    </tr>\n    <tr>\n      <th>163</th>\n      <td>53HBhU7E6NvubejXoNnM2fyKYjXFc8LLLrFa9dJQi588</td>\n      <td>2023-12-25 20:00:00</td>\n      <td>7.156462e-08</td>\n      <td>7.156462e-08</td>\n      <td>7.664213e-08</td>\n      <td>1.070950</td>\n    </tr>\n    <tr>\n      <th>164</th>\n      <td>7xKXtg2CW87d97TXJSDpbD5jBkheTqA83TZRuJosgAsU</td>\n      <td>2023-12-25 07:40:00</td>\n      <td>1.564198e-04</td>\n      <td>1.564198e-04</td>\n      <td>6.537960e-04</td>\n      <td>4.179752</td>\n    </tr>\n    <tr>\n      <th>165</th>\n      <td>GPyzPHuFFGvN4yWWixt6TYUtDG49gfMdFFi2iniTmCkh</td>\n      <td>2023-12-25 06:50:00</td>\n      <td>4.317431e-13</td>\n      <td>4.317431e-13</td>\n      <td>2.745284e-13</td>\n      <td>0.635860</td>\n    </tr>\n  </tbody>\n</table>\n<p>166 rows × 6 columns</p>\n</div>"
     },
     "execution_count": 30,
     "metadata": {},
     "output_type": "execute_result"
    }
   ],
   "source": [
    "#min time_quant for every mint\n",
    "first_purchased_keys = purchased.groupby('mint')['time_quant'].min().reset_index()\n",
    "first_purchased = purchased.merge(first_purchased_keys, on=['mint', 'time_quant'])\n",
    "first_purchased"
   ],
   "metadata": {
    "collapsed": false,
    "ExecuteTime": {
     "end_time": "2024-01-07T22:43:30.605841Z",
     "start_time": "2024-01-07T22:43:30.597486Z"
    }
   },
   "id": "41fb5b062526a994"
  },
  {
   "cell_type": "code",
   "execution_count": 31,
   "outputs": [
    {
     "data": {
      "text/plain": "0.9934060246244523"
     },
     "execution_count": 31,
     "metadata": {},
     "output_type": "execute_result"
    }
   ],
   "source": [
    "# average of upside\n",
    "first_purchased['upside'].mean()"
   ],
   "metadata": {
    "collapsed": false,
    "ExecuteTime": {
     "end_time": "2024-01-07T22:43:31.040987Z",
     "start_time": "2024-01-07T22:43:31.032080Z"
    }
   },
   "id": "261db8473ea6d381"
  },
  {
   "cell_type": "code",
   "execution_count": 32,
   "outputs": [
    {
     "data": {
      "text/plain": "Empty DataFrame\nColumns: [mint, time_quant, price, buy_price, sell_price, upside]\nIndex: []",
      "text/html": "<div>\n<style scoped>\n    .dataframe tbody tr th:only-of-type {\n        vertical-align: middle;\n    }\n\n    .dataframe tbody tr th {\n        vertical-align: top;\n    }\n\n    .dataframe thead th {\n        text-align: right;\n    }\n</style>\n<table border=\"1\" class=\"dataframe\">\n  <thead>\n    <tr style=\"text-align: right;\">\n      <th></th>\n      <th>mint</th>\n      <th>time_quant</th>\n      <th>price</th>\n      <th>buy_price</th>\n      <th>sell_price</th>\n      <th>upside</th>\n    </tr>\n  </thead>\n  <tbody>\n  </tbody>\n</table>\n</div>"
     },
     "execution_count": 32,
     "metadata": {},
     "output_type": "execute_result"
    }
   ],
   "source": [
    "first_purchased_changed_price = first_purchased[first_purchased['price'] != first_purchased['buy_price']]\n",
    "first_purchased_changed_price"
   ],
   "metadata": {
    "collapsed": false,
    "ExecuteTime": {
     "end_time": "2024-01-07T22:43:31.575909Z",
     "start_time": "2024-01-07T22:43:31.566821Z"
    }
   },
   "id": "2d289d942a5b6e5b"
  },
  {
   "cell_type": "code",
   "execution_count": 33,
   "outputs": [
    {
     "data": {
      "text/plain": "nan"
     },
     "execution_count": 33,
     "metadata": {},
     "output_type": "execute_result"
    }
   ],
   "source": [
    "first_purchased_changed_price['upside'].mean()"
   ],
   "metadata": {
    "collapsed": false,
    "ExecuteTime": {
     "end_time": "2024-01-07T22:43:31.908445Z",
     "start_time": "2024-01-07T22:43:31.905357Z"
    }
   },
   "id": "e33dcecf50d6ee4c"
  },
  {
   "cell_type": "code",
   "execution_count": 34,
   "outputs": [
    {
     "data": {
      "text/plain": "count     365.000000\nmean      194.421117\nstd       901.671445\nmin         0.004004\n25%         0.339467\n50%         5.578409\n75%        65.250117\nmax      7758.909750\nName: sma_vol_sum_1d, dtype: float64"
     },
     "execution_count": 34,
     "metadata": {},
     "output_type": "execute_result"
    }
   ],
   "source": [
    "results_df[results_df['Predicted']=='up'].sma_vol_sum_1d.describe()\n",
    "# fix negative volume\n"
   ],
   "metadata": {
    "collapsed": false,
    "ExecuteTime": {
     "end_time": "2024-01-07T22:43:32.163607Z",
     "start_time": "2024-01-07T22:43:32.160096Z"
    }
   },
   "id": "f29d45cc497bb320"
  },
  {
   "cell_type": "code",
   "execution_count": 35,
   "outputs": [
    {
     "data": {
      "text/plain": "Predicted\nflat    114787\nup         365\ndown       166\nName: count, dtype: int64"
     },
     "execution_count": 35,
     "metadata": {},
     "output_type": "execute_result"
    }
   ],
   "source": [
    "results_df['Predicted'].value_counts()"
   ],
   "metadata": {
    "collapsed": false,
    "ExecuteTime": {
     "end_time": "2024-01-07T22:43:32.565893Z",
     "start_time": "2024-01-07T22:43:32.562233Z"
    }
   },
   "id": "13102803fac1ca11"
  },
  {
   "cell_type": "code",
   "execution_count": 36,
   "outputs": [
    {
     "data": {
      "text/plain": "mint\nEPjFWdd5AufqSSqeM2qN1xzybapC8G4wEGGkZwyTDt1v    1847\nEs9vMFrzaCERmJfrF4H2FYD4KCoNkY11McCe8BenwNYB    1804\nDezXAZ8z7PnrnRJjz3wXBoRgixCa6xjnB7YaB1pPB263    1712\n9gwTegFJJErDpWJKjPfLr2g2zrE3nL1v5zpwbtsk3c6P    1559\nEKpQGSJtjMFqKZ9KQanSqYXRcF8fBopzLHYxdM65zcjm    1458\n                                                ... \n8u5cJUkYLJLU9fk5YwkaNNSzFmxqqi3dfDz776Z8rsGC       1\n6gsbcTpxMSz2v4vkUgWafXcEMXUaBKZXwU8pj3zjPom7       1\n8GM5uzDWyZcgwXLovFsgdCB2bKZ5e9KuJQm2LyMVuKAY       1\n4zzhtwzcTExHVpAvazzZtDxSLixZTpmVABmQ7pc2PVVV       1\nG7WPNtgRjBr3pueqGYs5TZdH8zq9cKGhxgFDzhPocE4G       1\nName: count, Length: 3870, dtype: int64"
     },
     "execution_count": 36,
     "metadata": {},
     "output_type": "execute_result"
    }
   ],
   "source": [
    "results_df['mint'].value_counts()"
   ],
   "metadata": {
    "collapsed": false,
    "ExecuteTime": {
     "end_time": "2024-01-07T22:43:33.012130Z",
     "start_time": "2024-01-07T22:43:33.006273Z"
    }
   },
   "id": "498de5f3068d5ac4"
  },
  {
   "cell_type": "code",
   "execution_count": 37,
   "outputs": [
    {
     "data": {
      "text/plain": "       Actual Predicted       UpP     DownP          time_quant  \\\n24611      up      flat  0.026081  0.120062 2023-12-27 21:20:00   \n24703      up      flat  0.100401  0.262903 2023-12-27 21:30:00   \n24882    flat      flat  0.048138  0.164722 2023-12-27 21:50:00   \n24966    flat      flat  0.030121  0.140905 2023-12-27 22:00:00   \n25047    flat      flat  0.019503  0.157640 2023-12-27 22:10:00   \n...       ...       ...       ...       ...                 ...   \n110206   flat      flat  0.004233  0.000100 2024-01-06 06:20:00   \n113680   flat      flat  0.001536  0.000183 2024-01-06 17:10:00   \n114393   flat      flat  0.001443  0.000140 2024-01-06 19:10:00   \n114656   flat      flat  0.002792  0.000701 2024-01-06 19:50:00   \n114811   flat      flat  0.007184  0.000075 2024-01-06 20:10:00   \n\n                                                mint     price  buy_price  \\\n24611   99fp2z9TANArLJR4hcwx8fJSzjz7GQwUn7huGf32nDdv  0.000010   0.000010   \n24703   99fp2z9TANArLJR4hcwx8fJSzjz7GQwUn7huGf32nDdv  0.000013   0.000013   \n24882   99fp2z9TANArLJR4hcwx8fJSzjz7GQwUn7huGf32nDdv  0.000023   0.000023   \n24966   99fp2z9TANArLJR4hcwx8fJSzjz7GQwUn7huGf32nDdv  0.000028   0.000028   \n25047   99fp2z9TANArLJR4hcwx8fJSzjz7GQwUn7huGf32nDdv  0.000033   0.000033   \n...                                              ...       ...        ...   \n110206  99fp2z9TANArLJR4hcwx8fJSzjz7GQwUn7huGf32nDdv  0.000044   0.000044   \n113680  99fp2z9TANArLJR4hcwx8fJSzjz7GQwUn7huGf32nDdv  0.000041   0.000041   \n114393  99fp2z9TANArLJR4hcwx8fJSzjz7GQwUn7huGf32nDdv  0.000040   0.000040   \n114656  99fp2z9TANArLJR4hcwx8fJSzjz7GQwUn7huGf32nDdv  0.000041   0.000041   \n114811  99fp2z9TANArLJR4hcwx8fJSzjz7GQwUn7huGf32nDdv  0.000048   0.000048   \n\n        sell_price label  ...  ema_vol_sell_1d  sma_vol_sum_10m  \\\n24611     0.000057    up  ...         0.000000         0.214286   \n24703     0.000057    up  ...         0.211773         0.465523   \n24882     0.000058  flat  ...         0.238972         0.515809   \n24966     0.000058  flat  ...         0.238972         0.610186   \n25047     0.000058  flat  ...         0.238972         0.687330   \n...            ...   ...  ...              ...              ...   \n110206    0.000044  flat  ...        24.229227         0.186414   \n113680    0.000042  flat  ...        22.826899         0.007933   \n114393    0.000041  flat  ...        22.489533         0.011818   \n114656    0.000041  flat  ...        22.526461         0.091385   \n114811    0.000041  flat  ...        22.458964         0.179242   \n\n        ema_vol_sum_10m  sma_vol_sum_1h  ema_vol_sum_1h  sma_vol_sum_4h  \\\n24611          0.400001        0.214286        0.400001        0.214286   \n24703          0.815643        0.465523        0.868977        0.465523   \n24882          0.706506        0.515809        0.962844        0.515809   \n24966          0.788474        0.610186        1.139013        0.610186   \n25047          0.827347        0.687330        1.283016        0.687330   \n...                 ...             ...             ...             ...   \n110206         0.347973        0.526814        0.622915        2.600614   \n113680         0.014809        0.244989        0.208333        2.216083   \n114393         0.009910        0.198232        0.080858        2.213886   \n114656         0.167424        0.285732        0.587855        2.301386   \n114811         0.289755        0.373589        0.749406        2.353529   \n\n        ema_vol_sum_4h  sma_vol_sum_1d  ema_vol_sum_1d    upside  \n24611         0.400001        0.214286        0.400001  5.540767  \n24703         0.868977        0.465523        0.868977  4.364073  \n24882         0.962844        0.515809        0.962844  2.468587  \n24966         1.139013        0.610186        1.139013  2.103323  \n25047         1.283016        0.687330        1.283016  1.783441  \n...                ...             ...             ...       ...  \n110206        3.386644       55.791088       40.737022  1.002310  \n113680        1.948007       55.799021       38.612746  1.021707  \n114393        1.745457       55.802905       38.109903  1.029095  \n114656        1.889850       55.890405       38.135420  1.009887  \n114811        1.950511       55.978263       38.176418  0.858674  \n\n[356 rows x 49 columns]",
      "text/html": "<div>\n<style scoped>\n    .dataframe tbody tr th:only-of-type {\n        vertical-align: middle;\n    }\n\n    .dataframe tbody tr th {\n        vertical-align: top;\n    }\n\n    .dataframe thead th {\n        text-align: right;\n    }\n</style>\n<table border=\"1\" class=\"dataframe\">\n  <thead>\n    <tr style=\"text-align: right;\">\n      <th></th>\n      <th>Actual</th>\n      <th>Predicted</th>\n      <th>UpP</th>\n      <th>DownP</th>\n      <th>time_quant</th>\n      <th>mint</th>\n      <th>price</th>\n      <th>buy_price</th>\n      <th>sell_price</th>\n      <th>label</th>\n      <th>...</th>\n      <th>ema_vol_sell_1d</th>\n      <th>sma_vol_sum_10m</th>\n      <th>ema_vol_sum_10m</th>\n      <th>sma_vol_sum_1h</th>\n      <th>ema_vol_sum_1h</th>\n      <th>sma_vol_sum_4h</th>\n      <th>ema_vol_sum_4h</th>\n      <th>sma_vol_sum_1d</th>\n      <th>ema_vol_sum_1d</th>\n      <th>upside</th>\n    </tr>\n  </thead>\n  <tbody>\n    <tr>\n      <th>24611</th>\n      <td>up</td>\n      <td>flat</td>\n      <td>0.026081</td>\n      <td>0.120062</td>\n      <td>2023-12-27 21:20:00</td>\n      <td>99fp2z9TANArLJR4hcwx8fJSzjz7GQwUn7huGf32nDdv</td>\n      <td>0.000010</td>\n      <td>0.000010</td>\n      <td>0.000057</td>\n      <td>up</td>\n      <td>...</td>\n      <td>0.000000</td>\n      <td>0.214286</td>\n      <td>0.400001</td>\n      <td>0.214286</td>\n      <td>0.400001</td>\n      <td>0.214286</td>\n      <td>0.400001</td>\n      <td>0.214286</td>\n      <td>0.400001</td>\n      <td>5.540767</td>\n    </tr>\n    <tr>\n      <th>24703</th>\n      <td>up</td>\n      <td>flat</td>\n      <td>0.100401</td>\n      <td>0.262903</td>\n      <td>2023-12-27 21:30:00</td>\n      <td>99fp2z9TANArLJR4hcwx8fJSzjz7GQwUn7huGf32nDdv</td>\n      <td>0.000013</td>\n      <td>0.000013</td>\n      <td>0.000057</td>\n      <td>up</td>\n      <td>...</td>\n      <td>0.211773</td>\n      <td>0.465523</td>\n      <td>0.815643</td>\n      <td>0.465523</td>\n      <td>0.868977</td>\n      <td>0.465523</td>\n      <td>0.868977</td>\n      <td>0.465523</td>\n      <td>0.868977</td>\n      <td>4.364073</td>\n    </tr>\n    <tr>\n      <th>24882</th>\n      <td>flat</td>\n      <td>flat</td>\n      <td>0.048138</td>\n      <td>0.164722</td>\n      <td>2023-12-27 21:50:00</td>\n      <td>99fp2z9TANArLJR4hcwx8fJSzjz7GQwUn7huGf32nDdv</td>\n      <td>0.000023</td>\n      <td>0.000023</td>\n      <td>0.000058</td>\n      <td>flat</td>\n      <td>...</td>\n      <td>0.238972</td>\n      <td>0.515809</td>\n      <td>0.706506</td>\n      <td>0.515809</td>\n      <td>0.962844</td>\n      <td>0.515809</td>\n      <td>0.962844</td>\n      <td>0.515809</td>\n      <td>0.962844</td>\n      <td>2.468587</td>\n    </tr>\n    <tr>\n      <th>24966</th>\n      <td>flat</td>\n      <td>flat</td>\n      <td>0.030121</td>\n      <td>0.140905</td>\n      <td>2023-12-27 22:00:00</td>\n      <td>99fp2z9TANArLJR4hcwx8fJSzjz7GQwUn7huGf32nDdv</td>\n      <td>0.000028</td>\n      <td>0.000028</td>\n      <td>0.000058</td>\n      <td>flat</td>\n      <td>...</td>\n      <td>0.238972</td>\n      <td>0.610186</td>\n      <td>0.788474</td>\n      <td>0.610186</td>\n      <td>1.139013</td>\n      <td>0.610186</td>\n      <td>1.139013</td>\n      <td>0.610186</td>\n      <td>1.139013</td>\n      <td>2.103323</td>\n    </tr>\n    <tr>\n      <th>25047</th>\n      <td>flat</td>\n      <td>flat</td>\n      <td>0.019503</td>\n      <td>0.157640</td>\n      <td>2023-12-27 22:10:00</td>\n      <td>99fp2z9TANArLJR4hcwx8fJSzjz7GQwUn7huGf32nDdv</td>\n      <td>0.000033</td>\n      <td>0.000033</td>\n      <td>0.000058</td>\n      <td>flat</td>\n      <td>...</td>\n      <td>0.238972</td>\n      <td>0.687330</td>\n      <td>0.827347</td>\n      <td>0.687330</td>\n      <td>1.283016</td>\n      <td>0.687330</td>\n      <td>1.283016</td>\n      <td>0.687330</td>\n      <td>1.283016</td>\n      <td>1.783441</td>\n    </tr>\n    <tr>\n      <th>...</th>\n      <td>...</td>\n      <td>...</td>\n      <td>...</td>\n      <td>...</td>\n      <td>...</td>\n      <td>...</td>\n      <td>...</td>\n      <td>...</td>\n      <td>...</td>\n      <td>...</td>\n      <td>...</td>\n      <td>...</td>\n      <td>...</td>\n      <td>...</td>\n      <td>...</td>\n      <td>...</td>\n      <td>...</td>\n      <td>...</td>\n      <td>...</td>\n      <td>...</td>\n      <td>...</td>\n    </tr>\n    <tr>\n      <th>110206</th>\n      <td>flat</td>\n      <td>flat</td>\n      <td>0.004233</td>\n      <td>0.000100</td>\n      <td>2024-01-06 06:20:00</td>\n      <td>99fp2z9TANArLJR4hcwx8fJSzjz7GQwUn7huGf32nDdv</td>\n      <td>0.000044</td>\n      <td>0.000044</td>\n      <td>0.000044</td>\n      <td>flat</td>\n      <td>...</td>\n      <td>24.229227</td>\n      <td>0.186414</td>\n      <td>0.347973</td>\n      <td>0.526814</td>\n      <td>0.622915</td>\n      <td>2.600614</td>\n      <td>3.386644</td>\n      <td>55.791088</td>\n      <td>40.737022</td>\n      <td>1.002310</td>\n    </tr>\n    <tr>\n      <th>113680</th>\n      <td>flat</td>\n      <td>flat</td>\n      <td>0.001536</td>\n      <td>0.000183</td>\n      <td>2024-01-06 17:10:00</td>\n      <td>99fp2z9TANArLJR4hcwx8fJSzjz7GQwUn7huGf32nDdv</td>\n      <td>0.000041</td>\n      <td>0.000041</td>\n      <td>0.000042</td>\n      <td>flat</td>\n      <td>...</td>\n      <td>22.826899</td>\n      <td>0.007933</td>\n      <td>0.014809</td>\n      <td>0.244989</td>\n      <td>0.208333</td>\n      <td>2.216083</td>\n      <td>1.948007</td>\n      <td>55.799021</td>\n      <td>38.612746</td>\n      <td>1.021707</td>\n    </tr>\n    <tr>\n      <th>114393</th>\n      <td>flat</td>\n      <td>flat</td>\n      <td>0.001443</td>\n      <td>0.000140</td>\n      <td>2024-01-06 19:10:00</td>\n      <td>99fp2z9TANArLJR4hcwx8fJSzjz7GQwUn7huGf32nDdv</td>\n      <td>0.000040</td>\n      <td>0.000040</td>\n      <td>0.000041</td>\n      <td>flat</td>\n      <td>...</td>\n      <td>22.489533</td>\n      <td>0.011818</td>\n      <td>0.009910</td>\n      <td>0.198232</td>\n      <td>0.080858</td>\n      <td>2.213886</td>\n      <td>1.745457</td>\n      <td>55.802905</td>\n      <td>38.109903</td>\n      <td>1.029095</td>\n    </tr>\n    <tr>\n      <th>114656</th>\n      <td>flat</td>\n      <td>flat</td>\n      <td>0.002792</td>\n      <td>0.000701</td>\n      <td>2024-01-06 19:50:00</td>\n      <td>99fp2z9TANArLJR4hcwx8fJSzjz7GQwUn7huGf32nDdv</td>\n      <td>0.000041</td>\n      <td>0.000041</td>\n      <td>0.000041</td>\n      <td>flat</td>\n      <td>...</td>\n      <td>22.526461</td>\n      <td>0.091385</td>\n      <td>0.167424</td>\n      <td>0.285732</td>\n      <td>0.587855</td>\n      <td>2.301386</td>\n      <td>1.889850</td>\n      <td>55.890405</td>\n      <td>38.135420</td>\n      <td>1.009887</td>\n    </tr>\n    <tr>\n      <th>114811</th>\n      <td>flat</td>\n      <td>flat</td>\n      <td>0.007184</td>\n      <td>0.000075</td>\n      <td>2024-01-06 20:10:00</td>\n      <td>99fp2z9TANArLJR4hcwx8fJSzjz7GQwUn7huGf32nDdv</td>\n      <td>0.000048</td>\n      <td>0.000048</td>\n      <td>0.000041</td>\n      <td>flat</td>\n      <td>...</td>\n      <td>22.458964</td>\n      <td>0.179242</td>\n      <td>0.289755</td>\n      <td>0.373589</td>\n      <td>0.749406</td>\n      <td>2.353529</td>\n      <td>1.950511</td>\n      <td>55.978263</td>\n      <td>38.176418</td>\n      <td>0.858674</td>\n    </tr>\n  </tbody>\n</table>\n<p>356 rows × 49 columns</p>\n</div>"
     },
     "execution_count": 37,
     "metadata": {},
     "output_type": "execute_result"
    }
   ],
   "source": [
    "# mint 99fp2z9TANArLJR4hcwx8fJSzjz7GQwUn7huGf32nDdv\n",
    "results_df[results_df['mint']=='99fp2z9TANArLJR4hcwx8fJSzjz7GQwUn7huGf32nDdv']"
   ],
   "metadata": {
    "collapsed": false,
    "ExecuteTime": {
     "end_time": "2024-01-07T22:43:33.599899Z",
     "start_time": "2024-01-07T22:43:33.586014Z"
    }
   },
   "id": "85a6209339a06f78"
  },
  {
   "cell_type": "code",
   "execution_count": 38,
   "outputs": [
    {
     "data": {
      "text/plain": "       Actual Predicted       UpP     DownP          time_quant  \\\n0        flat      flat  0.001246  0.001955 2023-12-25 01:30:00   \n1        flat      flat  0.001284  0.001417 2023-12-25 01:30:00   \n2        flat      flat  0.003442  0.000042 2023-12-25 01:30:00   \n3        flat      flat  0.002985  0.000459 2023-12-25 01:30:00   \n4        flat      flat  0.001914  0.000063 2023-12-25 01:30:00   \n...       ...       ...       ...       ...                 ...   \n115313   flat      flat  0.000848  0.000004 2024-01-06 21:20:00   \n115314   flat      flat  0.001522  0.000123 2024-01-06 21:20:00   \n115315   flat      flat  0.002862  0.000063 2024-01-06 21:20:00   \n115316   flat      flat  0.002818  0.000113 2024-01-06 21:20:00   \n115317   flat      flat  0.001267  0.000183 2024-01-06 21:20:00   \n\n                                                mint         price  \\\n0       2Ar2n5DJSiQuMhY4XeSzg7C5AGMezZPoLUt98VmmjsAR  9.553849e-14   \n1       31GUGbRSct8MsJJnditGy98xMxowq58sFsZ9CGQRMLT8  1.265659e-06   \n2       3FHpkMTQ3QyAJoLoXVdBpH4TfHiehnL2kXmv9UXBpYuF  2.489798e-04   \n3       3h4DGQd9k5gsiMnNzDuGXAcjkMm5G7iC3knykdvBBnxU  2.259079e-07   \n4       4k3Dyjzvzp8eMZWUXbBCjEvwSkkk59S5iCNLY3QrkX6R  1.462202e-02   \n...                                              ...           ...   \n115313   mSoLzYCxHdYgdzU16g5QSh3i5K3z3KZK7ytfqcJm7So  1.159173e+00   \n115314   orcaEKTdK7LKz57vaAYr9QeNsVEPfiu6QeMU1kektZE  5.453821e-02   \n115315   r89LZwYf7ZiWVSk8uR6yEboWDEn52EgeXxMJg7UtX7w  7.953436e-07   \n115316   skJyor4eEoBsDpxyURP367RjGEK5xbqrjWjjyjQGo2N  1.662048e-06   \n115317   tGSdnVTzv45tX5Ef9xUrQXrD7dQb3th5stz4aM3V3zN  1.595033e-06   \n\n           buy_price    sell_price label  ...  ema_vol_sell_1d  \\\n0       9.553849e-14  7.844530e-14  flat  ...         6.972086   \n1       1.265659e-06  1.218213e-06  flat  ...        20.850289   \n2       2.489798e-04  1.959688e-04  flat  ...         0.031733   \n3       2.259079e-07  2.947991e-07  flat  ...        11.409960   \n4       1.462202e-02  1.481616e-02  flat  ...       230.553132   \n...              ...           ...   ...  ...              ...   \n115313  1.159173e+00  1.158825e+00  flat  ...      5731.557628   \n115314  5.453821e-02  5.463510e-02  flat  ...        73.531003   \n115315  7.953436e-07  8.571247e-07  flat  ...         1.534916   \n115316  1.662048e-06  1.899461e-06  flat  ...         3.190907   \n115317  1.595033e-06  8.255610e-07  flat  ...        32.441978   \n\n        sma_vol_sum_10m  ema_vol_sum_10m  sma_vol_sum_1h  ema_vol_sum_1h  \\\n0              0.017307         0.032306        0.256178        0.259721   \n1              0.142860         0.189836        0.647174        0.765609   \n2              0.357149         0.666678        0.500018        0.840282   \n3              0.127347         0.237714        1.061423        1.299928   \n4              0.096367         0.179885       26.671347       34.231572   \n...                 ...              ...             ...             ...   \n115313        51.324359        59.647754      114.788908      149.568183   \n115314         0.303918         0.259605        7.889743        4.861710   \n115315         0.004575         0.008539        0.008152        0.010992   \n115316         0.010655         0.019890        0.030189        0.031050   \n115317         0.530716         0.402606       11.001487        9.258604   \n\n        sma_vol_sum_4h  ema_vol_sum_4h  sma_vol_sum_1d  ema_vol_sum_1d  \\\n0             8.360208        8.321688        8.891022       13.491437   \n1             7.894624        5.552829       30.020318       35.401037   \n2             0.558593        0.959506        1.051184        1.240236   \n3             2.560615        2.711615       18.866127       15.218785   \n4           113.832100      110.116894      405.934400      473.812536   \n...                ...             ...             ...             ...   \n115313      377.928546      553.043797     8067.981241     7539.853829   \n115314       25.239336       31.181061      150.835343      138.029663   \n115315        0.041956        0.075156        3.050126        2.429927   \n115316        0.655743        0.663644        5.492843        6.465712   \n115317       27.639109       31.104124       27.639109       49.761126   \n\n          upside  \n0       0.821086  \n1       0.962513  \n2       0.787087  \n3       1.304953  \n4       1.013278  \n...          ...  \n115313  0.999699  \n115314  1.001776  \n115315  1.077678  \n115316  1.142844  \n115317  0.517582  \n\n[115318 rows x 49 columns]",
      "text/html": "<div>\n<style scoped>\n    .dataframe tbody tr th:only-of-type {\n        vertical-align: middle;\n    }\n\n    .dataframe tbody tr th {\n        vertical-align: top;\n    }\n\n    .dataframe thead th {\n        text-align: right;\n    }\n</style>\n<table border=\"1\" class=\"dataframe\">\n  <thead>\n    <tr style=\"text-align: right;\">\n      <th></th>\n      <th>Actual</th>\n      <th>Predicted</th>\n      <th>UpP</th>\n      <th>DownP</th>\n      <th>time_quant</th>\n      <th>mint</th>\n      <th>price</th>\n      <th>buy_price</th>\n      <th>sell_price</th>\n      <th>label</th>\n      <th>...</th>\n      <th>ema_vol_sell_1d</th>\n      <th>sma_vol_sum_10m</th>\n      <th>ema_vol_sum_10m</th>\n      <th>sma_vol_sum_1h</th>\n      <th>ema_vol_sum_1h</th>\n      <th>sma_vol_sum_4h</th>\n      <th>ema_vol_sum_4h</th>\n      <th>sma_vol_sum_1d</th>\n      <th>ema_vol_sum_1d</th>\n      <th>upside</th>\n    </tr>\n  </thead>\n  <tbody>\n    <tr>\n      <th>0</th>\n      <td>flat</td>\n      <td>flat</td>\n      <td>0.001246</td>\n      <td>0.001955</td>\n      <td>2023-12-25 01:30:00</td>\n      <td>2Ar2n5DJSiQuMhY4XeSzg7C5AGMezZPoLUt98VmmjsAR</td>\n      <td>9.553849e-14</td>\n      <td>9.553849e-14</td>\n      <td>7.844530e-14</td>\n      <td>flat</td>\n      <td>...</td>\n      <td>6.972086</td>\n      <td>0.017307</td>\n      <td>0.032306</td>\n      <td>0.256178</td>\n      <td>0.259721</td>\n      <td>8.360208</td>\n      <td>8.321688</td>\n      <td>8.891022</td>\n      <td>13.491437</td>\n      <td>0.821086</td>\n    </tr>\n    <tr>\n      <th>1</th>\n      <td>flat</td>\n      <td>flat</td>\n      <td>0.001284</td>\n      <td>0.001417</td>\n      <td>2023-12-25 01:30:00</td>\n      <td>31GUGbRSct8MsJJnditGy98xMxowq58sFsZ9CGQRMLT8</td>\n      <td>1.265659e-06</td>\n      <td>1.265659e-06</td>\n      <td>1.218213e-06</td>\n      <td>flat</td>\n      <td>...</td>\n      <td>20.850289</td>\n      <td>0.142860</td>\n      <td>0.189836</td>\n      <td>0.647174</td>\n      <td>0.765609</td>\n      <td>7.894624</td>\n      <td>5.552829</td>\n      <td>30.020318</td>\n      <td>35.401037</td>\n      <td>0.962513</td>\n    </tr>\n    <tr>\n      <th>2</th>\n      <td>flat</td>\n      <td>flat</td>\n      <td>0.003442</td>\n      <td>0.000042</td>\n      <td>2023-12-25 01:30:00</td>\n      <td>3FHpkMTQ3QyAJoLoXVdBpH4TfHiehnL2kXmv9UXBpYuF</td>\n      <td>2.489798e-04</td>\n      <td>2.489798e-04</td>\n      <td>1.959688e-04</td>\n      <td>flat</td>\n      <td>...</td>\n      <td>0.031733</td>\n      <td>0.357149</td>\n      <td>0.666678</td>\n      <td>0.500018</td>\n      <td>0.840282</td>\n      <td>0.558593</td>\n      <td>0.959506</td>\n      <td>1.051184</td>\n      <td>1.240236</td>\n      <td>0.787087</td>\n    </tr>\n    <tr>\n      <th>3</th>\n      <td>flat</td>\n      <td>flat</td>\n      <td>0.002985</td>\n      <td>0.000459</td>\n      <td>2023-12-25 01:30:00</td>\n      <td>3h4DGQd9k5gsiMnNzDuGXAcjkMm5G7iC3knykdvBBnxU</td>\n      <td>2.259079e-07</td>\n      <td>2.259079e-07</td>\n      <td>2.947991e-07</td>\n      <td>flat</td>\n      <td>...</td>\n      <td>11.409960</td>\n      <td>0.127347</td>\n      <td>0.237714</td>\n      <td>1.061423</td>\n      <td>1.299928</td>\n      <td>2.560615</td>\n      <td>2.711615</td>\n      <td>18.866127</td>\n      <td>15.218785</td>\n      <td>1.304953</td>\n    </tr>\n    <tr>\n      <th>4</th>\n      <td>flat</td>\n      <td>flat</td>\n      <td>0.001914</td>\n      <td>0.000063</td>\n      <td>2023-12-25 01:30:00</td>\n      <td>4k3Dyjzvzp8eMZWUXbBCjEvwSkkk59S5iCNLY3QrkX6R</td>\n      <td>1.462202e-02</td>\n      <td>1.462202e-02</td>\n      <td>1.481616e-02</td>\n      <td>flat</td>\n      <td>...</td>\n      <td>230.553132</td>\n      <td>0.096367</td>\n      <td>0.179885</td>\n      <td>26.671347</td>\n      <td>34.231572</td>\n      <td>113.832100</td>\n      <td>110.116894</td>\n      <td>405.934400</td>\n      <td>473.812536</td>\n      <td>1.013278</td>\n    </tr>\n    <tr>\n      <th>...</th>\n      <td>...</td>\n      <td>...</td>\n      <td>...</td>\n      <td>...</td>\n      <td>...</td>\n      <td>...</td>\n      <td>...</td>\n      <td>...</td>\n      <td>...</td>\n      <td>...</td>\n      <td>...</td>\n      <td>...</td>\n      <td>...</td>\n      <td>...</td>\n      <td>...</td>\n      <td>...</td>\n      <td>...</td>\n      <td>...</td>\n      <td>...</td>\n      <td>...</td>\n      <td>...</td>\n    </tr>\n    <tr>\n      <th>115313</th>\n      <td>flat</td>\n      <td>flat</td>\n      <td>0.000848</td>\n      <td>0.000004</td>\n      <td>2024-01-06 21:20:00</td>\n      <td>mSoLzYCxHdYgdzU16g5QSh3i5K3z3KZK7ytfqcJm7So</td>\n      <td>1.159173e+00</td>\n      <td>1.159173e+00</td>\n      <td>1.158825e+00</td>\n      <td>flat</td>\n      <td>...</td>\n      <td>5731.557628</td>\n      <td>51.324359</td>\n      <td>59.647754</td>\n      <td>114.788908</td>\n      <td>149.568183</td>\n      <td>377.928546</td>\n      <td>553.043797</td>\n      <td>8067.981241</td>\n      <td>7539.853829</td>\n      <td>0.999699</td>\n    </tr>\n    <tr>\n      <th>115314</th>\n      <td>flat</td>\n      <td>flat</td>\n      <td>0.001522</td>\n      <td>0.000123</td>\n      <td>2024-01-06 21:20:00</td>\n      <td>orcaEKTdK7LKz57vaAYr9QeNsVEPfiu6QeMU1kektZE</td>\n      <td>5.453821e-02</td>\n      <td>5.453821e-02</td>\n      <td>5.463510e-02</td>\n      <td>flat</td>\n      <td>...</td>\n      <td>73.531003</td>\n      <td>0.303918</td>\n      <td>0.259605</td>\n      <td>7.889743</td>\n      <td>4.861710</td>\n      <td>25.239336</td>\n      <td>31.181061</td>\n      <td>150.835343</td>\n      <td>138.029663</td>\n      <td>1.001776</td>\n    </tr>\n    <tr>\n      <th>115315</th>\n      <td>flat</td>\n      <td>flat</td>\n      <td>0.002862</td>\n      <td>0.000063</td>\n      <td>2024-01-06 21:20:00</td>\n      <td>r89LZwYf7ZiWVSk8uR6yEboWDEn52EgeXxMJg7UtX7w</td>\n      <td>7.953436e-07</td>\n      <td>7.953436e-07</td>\n      <td>8.571247e-07</td>\n      <td>flat</td>\n      <td>...</td>\n      <td>1.534916</td>\n      <td>0.004575</td>\n      <td>0.008539</td>\n      <td>0.008152</td>\n      <td>0.010992</td>\n      <td>0.041956</td>\n      <td>0.075156</td>\n      <td>3.050126</td>\n      <td>2.429927</td>\n      <td>1.077678</td>\n    </tr>\n    <tr>\n      <th>115316</th>\n      <td>flat</td>\n      <td>flat</td>\n      <td>0.002818</td>\n      <td>0.000113</td>\n      <td>2024-01-06 21:20:00</td>\n      <td>skJyor4eEoBsDpxyURP367RjGEK5xbqrjWjjyjQGo2N</td>\n      <td>1.662048e-06</td>\n      <td>1.662048e-06</td>\n      <td>1.899461e-06</td>\n      <td>flat</td>\n      <td>...</td>\n      <td>3.190907</td>\n      <td>0.010655</td>\n      <td>0.019890</td>\n      <td>0.030189</td>\n      <td>0.031050</td>\n      <td>0.655743</td>\n      <td>0.663644</td>\n      <td>5.492843</td>\n      <td>6.465712</td>\n      <td>1.142844</td>\n    </tr>\n    <tr>\n      <th>115317</th>\n      <td>flat</td>\n      <td>flat</td>\n      <td>0.001267</td>\n      <td>0.000183</td>\n      <td>2024-01-06 21:20:00</td>\n      <td>tGSdnVTzv45tX5Ef9xUrQXrD7dQb3th5stz4aM3V3zN</td>\n      <td>1.595033e-06</td>\n      <td>1.595033e-06</td>\n      <td>8.255610e-07</td>\n      <td>flat</td>\n      <td>...</td>\n      <td>32.441978</td>\n      <td>0.530716</td>\n      <td>0.402606</td>\n      <td>11.001487</td>\n      <td>9.258604</td>\n      <td>27.639109</td>\n      <td>31.104124</td>\n      <td>27.639109</td>\n      <td>49.761126</td>\n      <td>0.517582</td>\n    </tr>\n  </tbody>\n</table>\n<p>115318 rows × 49 columns</p>\n</div>"
     },
     "execution_count": 38,
     "metadata": {},
     "output_type": "execute_result"
    }
   ],
   "source": [
    "results_df"
   ],
   "metadata": {
    "collapsed": false,
    "ExecuteTime": {
     "end_time": "2024-01-07T22:43:33.971568Z",
     "start_time": "2024-01-07T22:43:33.909086Z"
    }
   },
   "id": "5bbf8e693f460b06"
  },
  {
   "cell_type": "code",
   "execution_count": 38,
   "outputs": [],
   "source": [],
   "metadata": {
    "collapsed": false,
    "ExecuteTime": {
     "end_time": "2024-01-07T22:43:33.971875Z",
     "start_time": "2024-01-07T22:43:33.958802Z"
    }
   },
   "id": "19b1514301d14e46"
  },
  {
   "cell_type": "code",
   "execution_count": 38,
   "outputs": [],
   "source": [],
   "metadata": {
    "collapsed": false,
    "ExecuteTime": {
     "end_time": "2024-01-07T22:43:34.284456Z",
     "start_time": "2024-01-07T22:43:34.265996Z"
    }
   },
   "id": "7b6a2925f30d4f3d"
  },
  {
   "cell_type": "code",
   "execution_count": null,
   "outputs": [],
   "source": [],
   "metadata": {
    "collapsed": false
   },
   "id": "c32a4041fb10c913"
  }
 ],
 "metadata": {
  "kernelspec": {
   "display_name": "Python 3",
   "language": "python",
   "name": "python3"
  },
  "language_info": {
   "codemirror_mode": {
    "name": "ipython",
    "version": 2
   },
   "file_extension": ".py",
   "mimetype": "text/x-python",
   "name": "python",
   "nbconvert_exporter": "python",
   "pygments_lexer": "ipython2",
   "version": "2.7.6"
  }
 },
 "nbformat": 4,
 "nbformat_minor": 5
}
