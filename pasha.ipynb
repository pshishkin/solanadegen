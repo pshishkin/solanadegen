{
 "cells": [
  {
   "cell_type": "code",
   "execution_count": 537,
   "id": "initial_id",
   "metadata": {
    "collapsed": true,
    "ExecuteTime": {
     "end_time": "2024-01-02T19:09:55.911124Z",
     "start_time": "2024-01-02T19:09:51.704454Z"
    }
   },
   "outputs": [],
   "source": [
    "import os\n",
    "import psycopg2\n",
    "import pandas as pd\n",
    "from dotenv import load_dotenv\n",
    "\n",
    "load_dotenv()\n",
    "\n",
    "conn = psycopg2.connect(os.getenv('DATABASE_URL'))\n",
    "\n",
    "# Open a cursor to perform database operations\n",
    "cur = conn.cursor()\n",
    "\n",
    "# Execute a query\n",
    "cur.execute(\"\"\"\n",
    "SELECT *, date_trunc('hour', timestamp) as hour FROM trades\n",
    "where sol_volume > 0.1\n",
    "order by timestamp desc\n",
    "--limit 50000\n",
    "\"\"\")\n",
    "\n",
    "# Retrieve query results\n",
    "records = cur.fetchall()\n",
    "\n",
    "# Convert to pandas DataFrame\n",
    "df = pd.DataFrame(records, columns=[desc[0] for desc in cur.description])\n",
    "\n",
    "# Close communication with the database\n",
    "cur.close()\n",
    "conn.close()\n",
    "\n",
    "original_df = df.copy()"
   ]
  },
  {
   "cell_type": "code",
   "execution_count": 548,
   "outputs": [
    {
     "data": {
      "text/plain": "count                                            81579\nunique                                            2715\ntop       DezXAZ8z7PnrnRJjz3wXBoRgixCa6xjnB7YaB1pPB263\nfreq                                              6709\nName: mint, dtype: object"
     },
     "execution_count": 548,
     "metadata": {},
     "output_type": "execute_result"
    }
   ],
   "source": [
    "original_df.mint.describe()"
   ],
   "metadata": {
    "collapsed": false,
    "ExecuteTime": {
     "end_time": "2024-01-02T19:12:46.433409Z",
     "start_time": "2024-01-02T19:12:46.418104Z"
    }
   },
   "id": "91fbb5d998719382"
  },
  {
   "cell_type": "code",
   "execution_count": 554,
   "outputs": [
    {
     "data": {
      "text/plain": "count                                            75227\nunique                                             688\ntop       DezXAZ8z7PnrnRJjz3wXBoRgixCa6xjnB7YaB1pPB263\nfreq                                              6709\nName: mint, dtype: object"
     },
     "execution_count": 554,
     "metadata": {},
     "output_type": "execute_result"
    }
   ],
   "source": [
    "# get keys with at least 10 sol_volume and 10 trades\n",
    "per_mint_data = original_df[['mint', 'sol_volume', 'trades']].groupby('mint').sum()\n",
    "big_mints = per_mint_data[(per_mint_data['sol_volume'] >= 10) & (per_mint_data['trades'] >= 10)].index\n",
    "df = original_df[original_df['mint'].isin(big_mints)]\n",
    "\n",
    "df.mint.describe()"
   ],
   "metadata": {
    "collapsed": false,
    "ExecuteTime": {
     "end_time": "2024-01-02T19:13:38.629260Z",
     "start_time": "2024-01-02T19:13:38.604641Z"
    }
   },
   "id": "56b75376c7356cd3"
  },
  {
   "cell_type": "code",
   "execution_count": 555,
   "outputs": [
    {
     "data": {
      "text/plain": "                                               mint                hour\n0      DhRQWsiP53gVXnG8KQwq63Uo1FvouRpVNL8536tsVD5H 2024-01-02 19:00:00\n3      65nTNuJGHme4PQvKQyJykKp1bJAkK4A8Q66sd2yBWugf 2024-01-02 19:00:00\n4      562W2R6aFggFGZsEsReJo89GEAJm7XhQZWQxHuqkKHBD 2024-01-02 19:00:00\n8      3FQqnC42Z8ykMxeRnYVj6sGoPmrhVURCG8ot7EPWLYjX 2024-01-02 19:00:00\n10     E2WYCGJJtWBodVLy1NKcN8ve4UAtsJJBU2mdErbXxP8h 2024-01-02 19:00:00\n...                                             ...                 ...\n81574  5SD4mnz5kNhnAmVQKKX911XBY6RJcqCD4pkH699bP5U3 2023-11-01 00:00:00\n81575  DezXAZ8z7PnrnRJjz3wXBoRgixCa6xjnB7YaB1pPB263 2023-11-01 00:00:00\n81576  D7rcV8SPxbv94s3kJETkrfMrWqHFs6qrmtbiu6saaany 2023-11-01 00:00:00\n81577  AZsHEMXd36Bj1EMNXhowJajpUXzrKcK57wW4ZGXVa7yR 2023-11-01 00:00:00\n81578  3J5QaP1zJN9yXE7jr5XJa3Lq2TyGHSHu2wssK7N1Aw4p 2023-11-01 00:00:00\n\n[37947 rows x 2 columns]",
      "text/html": "<div>\n<style scoped>\n    .dataframe tbody tr th:only-of-type {\n        vertical-align: middle;\n    }\n\n    .dataframe tbody tr th {\n        vertical-align: top;\n    }\n\n    .dataframe thead th {\n        text-align: right;\n    }\n</style>\n<table border=\"1\" class=\"dataframe\">\n  <thead>\n    <tr style=\"text-align: right;\">\n      <th></th>\n      <th>mint</th>\n      <th>hour</th>\n    </tr>\n  </thead>\n  <tbody>\n    <tr>\n      <th>0</th>\n      <td>DhRQWsiP53gVXnG8KQwq63Uo1FvouRpVNL8536tsVD5H</td>\n      <td>2024-01-02 19:00:00</td>\n    </tr>\n    <tr>\n      <th>3</th>\n      <td>65nTNuJGHme4PQvKQyJykKp1bJAkK4A8Q66sd2yBWugf</td>\n      <td>2024-01-02 19:00:00</td>\n    </tr>\n    <tr>\n      <th>4</th>\n      <td>562W2R6aFggFGZsEsReJo89GEAJm7XhQZWQxHuqkKHBD</td>\n      <td>2024-01-02 19:00:00</td>\n    </tr>\n    <tr>\n      <th>8</th>\n      <td>3FQqnC42Z8ykMxeRnYVj6sGoPmrhVURCG8ot7EPWLYjX</td>\n      <td>2024-01-02 19:00:00</td>\n    </tr>\n    <tr>\n      <th>10</th>\n      <td>E2WYCGJJtWBodVLy1NKcN8ve4UAtsJJBU2mdErbXxP8h</td>\n      <td>2024-01-02 19:00:00</td>\n    </tr>\n    <tr>\n      <th>...</th>\n      <td>...</td>\n      <td>...</td>\n    </tr>\n    <tr>\n      <th>81574</th>\n      <td>5SD4mnz5kNhnAmVQKKX911XBY6RJcqCD4pkH699bP5U3</td>\n      <td>2023-11-01 00:00:00</td>\n    </tr>\n    <tr>\n      <th>81575</th>\n      <td>DezXAZ8z7PnrnRJjz3wXBoRgixCa6xjnB7YaB1pPB263</td>\n      <td>2023-11-01 00:00:00</td>\n    </tr>\n    <tr>\n      <th>81576</th>\n      <td>D7rcV8SPxbv94s3kJETkrfMrWqHFs6qrmtbiu6saaany</td>\n      <td>2023-11-01 00:00:00</td>\n    </tr>\n    <tr>\n      <th>81577</th>\n      <td>AZsHEMXd36Bj1EMNXhowJajpUXzrKcK57wW4ZGXVa7yR</td>\n      <td>2023-11-01 00:00:00</td>\n    </tr>\n    <tr>\n      <th>81578</th>\n      <td>3J5QaP1zJN9yXE7jr5XJa3Lq2TyGHSHu2wssK7N1Aw4p</td>\n      <td>2023-11-01 00:00:00</td>\n    </tr>\n  </tbody>\n</table>\n<p>37947 rows × 2 columns</p>\n</div>"
     },
     "execution_count": 555,
     "metadata": {},
     "output_type": "execute_result"
    }
   ],
   "source": [
    "# all uniq pairs of mint and hour in separate columns in keys dataframe\n",
    "keys = df[['mint', 'hour']].drop_duplicates()\n",
    "keys"
   ],
   "metadata": {
    "collapsed": false,
    "ExecuteTime": {
     "end_time": "2024-01-02T19:13:42.474949Z",
     "start_time": "2024-01-02T19:13:42.465427Z"
    }
   },
   "id": "52ce501fdc30d10"
  },
  {
   "cell_type": "code",
   "execution_count": 556,
   "outputs": [
    {
     "name": "stdout",
     "output_type": "stream",
     "text": [
      "min date: 2023-11-01 00:14:03, max date: 2024-01-02 19:08:48\n"
     ]
    }
   ],
   "source": [
    "# print min and max dates\n",
    "print(f\"min date: {df['timestamp'].min()}, max date: {df['timestamp'].max()}\")"
   ],
   "metadata": {
    "collapsed": false,
    "ExecuteTime": {
     "end_time": "2024-01-02T19:13:45.791207Z",
     "start_time": "2024-01-02T19:13:45.775318Z"
    }
   },
   "id": "23ae3000191bd2a8"
  },
  {
   "cell_type": "code",
   "execution_count": 557,
   "outputs": [
    {
     "data": {
      "text/plain": "                                               mint                hour  \\\n0      12AjTG16m3oWzjVy2kP2C1bUEzZv8PayQDM9csRR1obM 2023-12-16 10:00:00   \n1      12AjTG16m3oWzjVy2kP2C1bUEzZv8PayQDM9csRR1obM 2023-12-16 12:00:00   \n2      12AjTG16m3oWzjVy2kP2C1bUEzZv8PayQDM9csRR1obM 2023-12-16 14:00:00   \n3      12AjTG16m3oWzjVy2kP2C1bUEzZv8PayQDM9csRR1obM 2023-12-20 04:00:00   \n4      12AjTG16m3oWzjVy2kP2C1bUEzZv8PayQDM9csRR1obM 2023-12-20 05:00:00   \n...                                             ...                 ...   \n37942   zebeczgi5fSEtbpfQKVZKCJ3WgYXxjkMUkNNx7fLKAF 2023-12-11 07:00:00   \n37943   zebeczgi5fSEtbpfQKVZKCJ3WgYXxjkMUkNNx7fLKAF 2023-12-25 11:00:00   \n37944   zebeczgi5fSEtbpfQKVZKCJ3WgYXxjkMUkNNx7fLKAF 2023-12-27 12:00:00   \n37945   zebeczgi5fSEtbpfQKVZKCJ3WgYXxjkMUkNNx7fLKAF 2023-12-29 12:00:00   \n37946   zebeczgi5fSEtbpfQKVZKCJ3WgYXxjkMUkNNx7fLKAF 2024-01-02 11:00:00   \n\n       trades  token_volume  sol_volume         price  \n0           1  1.295834e+11    0.599024  4.622694e-12  \n1           1  1.663637e+11    0.500006  3.005502e-12  \n2           1  1.344338e+11    0.549258  4.085712e-12  \n3           2  1.746382e+12    2.140559  1.225711e-12  \n4           1  3.011002e+11    0.210124  6.978527e-13  \n...       ...           ...         ...           ...  \n37942       1  1.507630e+03    0.162542  1.078130e-04  \n37943       1  4.178073e+03    0.301122  7.207201e-05  \n37944       1  1.623808e+03    0.130625  8.044334e-05  \n37945       1  3.000000e+04    2.378402  7.928006e-05  \n37946       1  6.510839e+03    0.500008  7.679629e-05  \n\n[37947 rows x 6 columns]",
      "text/html": "<div>\n<style scoped>\n    .dataframe tbody tr th:only-of-type {\n        vertical-align: middle;\n    }\n\n    .dataframe tbody tr th {\n        vertical-align: top;\n    }\n\n    .dataframe thead th {\n        text-align: right;\n    }\n</style>\n<table border=\"1\" class=\"dataframe\">\n  <thead>\n    <tr style=\"text-align: right;\">\n      <th></th>\n      <th>mint</th>\n      <th>hour</th>\n      <th>trades</th>\n      <th>token_volume</th>\n      <th>sol_volume</th>\n      <th>price</th>\n    </tr>\n  </thead>\n  <tbody>\n    <tr>\n      <th>0</th>\n      <td>12AjTG16m3oWzjVy2kP2C1bUEzZv8PayQDM9csRR1obM</td>\n      <td>2023-12-16 10:00:00</td>\n      <td>1</td>\n      <td>1.295834e+11</td>\n      <td>0.599024</td>\n      <td>4.622694e-12</td>\n    </tr>\n    <tr>\n      <th>1</th>\n      <td>12AjTG16m3oWzjVy2kP2C1bUEzZv8PayQDM9csRR1obM</td>\n      <td>2023-12-16 12:00:00</td>\n      <td>1</td>\n      <td>1.663637e+11</td>\n      <td>0.500006</td>\n      <td>3.005502e-12</td>\n    </tr>\n    <tr>\n      <th>2</th>\n      <td>12AjTG16m3oWzjVy2kP2C1bUEzZv8PayQDM9csRR1obM</td>\n      <td>2023-12-16 14:00:00</td>\n      <td>1</td>\n      <td>1.344338e+11</td>\n      <td>0.549258</td>\n      <td>4.085712e-12</td>\n    </tr>\n    <tr>\n      <th>3</th>\n      <td>12AjTG16m3oWzjVy2kP2C1bUEzZv8PayQDM9csRR1obM</td>\n      <td>2023-12-20 04:00:00</td>\n      <td>2</td>\n      <td>1.746382e+12</td>\n      <td>2.140559</td>\n      <td>1.225711e-12</td>\n    </tr>\n    <tr>\n      <th>4</th>\n      <td>12AjTG16m3oWzjVy2kP2C1bUEzZv8PayQDM9csRR1obM</td>\n      <td>2023-12-20 05:00:00</td>\n      <td>1</td>\n      <td>3.011002e+11</td>\n      <td>0.210124</td>\n      <td>6.978527e-13</td>\n    </tr>\n    <tr>\n      <th>...</th>\n      <td>...</td>\n      <td>...</td>\n      <td>...</td>\n      <td>...</td>\n      <td>...</td>\n      <td>...</td>\n    </tr>\n    <tr>\n      <th>37942</th>\n      <td>zebeczgi5fSEtbpfQKVZKCJ3WgYXxjkMUkNNx7fLKAF</td>\n      <td>2023-12-11 07:00:00</td>\n      <td>1</td>\n      <td>1.507630e+03</td>\n      <td>0.162542</td>\n      <td>1.078130e-04</td>\n    </tr>\n    <tr>\n      <th>37943</th>\n      <td>zebeczgi5fSEtbpfQKVZKCJ3WgYXxjkMUkNNx7fLKAF</td>\n      <td>2023-12-25 11:00:00</td>\n      <td>1</td>\n      <td>4.178073e+03</td>\n      <td>0.301122</td>\n      <td>7.207201e-05</td>\n    </tr>\n    <tr>\n      <th>37944</th>\n      <td>zebeczgi5fSEtbpfQKVZKCJ3WgYXxjkMUkNNx7fLKAF</td>\n      <td>2023-12-27 12:00:00</td>\n      <td>1</td>\n      <td>1.623808e+03</td>\n      <td>0.130625</td>\n      <td>8.044334e-05</td>\n    </tr>\n    <tr>\n      <th>37945</th>\n      <td>zebeczgi5fSEtbpfQKVZKCJ3WgYXxjkMUkNNx7fLKAF</td>\n      <td>2023-12-29 12:00:00</td>\n      <td>1</td>\n      <td>3.000000e+04</td>\n      <td>2.378402</td>\n      <td>7.928006e-05</td>\n    </tr>\n    <tr>\n      <th>37946</th>\n      <td>zebeczgi5fSEtbpfQKVZKCJ3WgYXxjkMUkNNx7fLKAF</td>\n      <td>2024-01-02 11:00:00</td>\n      <td>1</td>\n      <td>6.510839e+03</td>\n      <td>0.500008</td>\n      <td>7.679629e-05</td>\n    </tr>\n  </tbody>\n</table>\n<p>37947 rows × 6 columns</p>\n</div>"
     },
     "execution_count": 557,
     "metadata": {},
     "output_type": "execute_result"
    }
   ],
   "source": [
    "pre_prices = df[['mint', 'hour', 'trades', 'token_volume', 'sol_volume']]\n",
    "\n",
    "# dataframe prices show price of each mint at each hour\n",
    "# it's calculated as sum of token_volume divided by sum of sol_volume for each mint at each hour\n",
    "prices = pre_prices.groupby(['mint', 'hour']).sum().reset_index()\n",
    "prices['price'] = prices['sol_volume'] / prices['token_volume']\n",
    "prices"
   ],
   "metadata": {
    "collapsed": false,
    "ExecuteTime": {
     "end_time": "2024-01-02T19:13:50.043009Z",
     "start_time": "2024-01-02T19:13:50.005036Z"
    }
   },
   "id": "71fd6326d43d7b41"
  },
  {
   "cell_type": "code",
   "execution_count": 558,
   "outputs": [],
   "source": [
    "from datetime import timedelta\n",
    "\n",
    "prediction_types = [\n",
    "    {'suffix': '_2h', 'delta': timedelta(hours=2)},\n",
    "    {'suffix': '_6h', 'delta': timedelta(hours=6)},\n",
    "    {'suffix': '_24h', 'delta': timedelta(hours=24)},\n",
    "    {'suffix': '_7d', 'delta': timedelta(days=7)},\n",
    "]\n",
    "\n",
    "for prediction in prediction_types:\n",
    "    # list of -1s with length of prices\n",
    "    prices['price' + prediction['suffix']] = [-1.] * len(prices)\n",
    "\n",
    "prices_map = {}\n",
    "for index, row in prices.iterrows():\n",
    "    mint = row['mint']\n",
    "    hour = row['hour']\n",
    "    prices_map[(mint, hour)] = row['price']\n",
    "\n",
    "sol_volume_map = {}\n",
    "for index, row in prices.iterrows():\n",
    "    mint = row['mint']\n",
    "    hour = row['hour']\n",
    "    sol_volume_map[(mint, hour)] = row['sol_volume']\n",
    "\n",
    "min_hour = prices['hour'].min()\n",
    "max_hour = prices['hour'].max()\n",
    "\n",
    "# fill gaps in prices_map\n",
    "for mint in keys['mint'].unique():\n",
    "    # from min to max hour\n",
    "    hour = min_hour\n",
    "    last_price = 0.\n",
    "    while hour <= max_hour:\n",
    "        if (mint, hour) not in prices_map:\n",
    "            prices_map[(mint, hour)] = last_price\n",
    "        else:\n",
    "            last_price = prices_map[(mint, hour)]\n",
    "        hour += timedelta(hours=1)\n",
    "\n",
    "# fill gaps in sol_volume_map\n",
    "for mint in keys['mint'].unique():\n",
    "    # from min to max hour\n",
    "    hour = min_hour\n",
    "    cum_sol_volume = 0.\n",
    "    while hour <= max_hour:\n",
    "        cum_sol_volume += sol_volume_map.get((mint, hour), 0.)\n",
    "        sol_volume_map[(mint, hour)] = cum_sol_volume        \n",
    "        hour += timedelta(hours=1)\n",
    "\n",
    "max_hour = prices['hour'].max()\n",
    "# iterate over mint and hour pairs\n",
    "for index, row in prices.iterrows():\n",
    "    # get mint and hour from row\n",
    "    mint = row['mint']\n",
    "    hour = row['hour']\n",
    "    for p in prediction_types:\n",
    "        prediction_hour = hour + p['delta']\n",
    "        # if there's no data for prediction_hour, skip\n",
    "        if prediction_hour > max_hour:\n",
    "            continue\n",
    "        future_price = prices_map.get((mint, prediction_hour), -1)\n",
    "        assert(future_price != -1)\n",
    "        prices.loc[index, 'price' + p['suffix']] = future_price            \n"
   ],
   "metadata": {
    "collapsed": false,
    "ExecuteTime": {
     "end_time": "2024-01-02T19:14:09.085827Z",
     "start_time": "2024-01-02T19:13:54.985685Z"
    }
   },
   "id": "24578e6cbae9f792"
  },
  {
   "cell_type": "code",
   "execution_count": 569,
   "outputs": [
    {
     "data": {
      "text/plain": "                                               mint                hour  \\\n0      12AjTG16m3oWzjVy2kP2C1bUEzZv8PayQDM9csRR1obM 2023-12-16 10:00:00   \n1      12AjTG16m3oWzjVy2kP2C1bUEzZv8PayQDM9csRR1obM 2023-12-16 12:00:00   \n2      12AjTG16m3oWzjVy2kP2C1bUEzZv8PayQDM9csRR1obM 2023-12-16 14:00:00   \n3      12AjTG16m3oWzjVy2kP2C1bUEzZv8PayQDM9csRR1obM 2023-12-20 04:00:00   \n4      12AjTG16m3oWzjVy2kP2C1bUEzZv8PayQDM9csRR1obM 2023-12-20 05:00:00   \n...                                             ...                 ...   \n37942   zebeczgi5fSEtbpfQKVZKCJ3WgYXxjkMUkNNx7fLKAF 2023-12-11 07:00:00   \n37943   zebeczgi5fSEtbpfQKVZKCJ3WgYXxjkMUkNNx7fLKAF 2023-12-25 11:00:00   \n37944   zebeczgi5fSEtbpfQKVZKCJ3WgYXxjkMUkNNx7fLKAF 2023-12-27 12:00:00   \n37945   zebeczgi5fSEtbpfQKVZKCJ3WgYXxjkMUkNNx7fLKAF 2023-12-29 12:00:00   \n37946   zebeczgi5fSEtbpfQKVZKCJ3WgYXxjkMUkNNx7fLKAF 2024-01-02 11:00:00   \n\n       trades  token_volume  sol_volume         price      price_2h  \\\n0           1  1.295834e+11    0.599024  4.622694e-12  3.005502e-12   \n1           1  1.663637e+11    0.500006  3.005502e-12  4.085712e-12   \n2           1  1.344338e+11    0.549258  4.085712e-12  4.085712e-12   \n3           2  1.746382e+12    2.140559  1.225711e-12  4.953954e-12   \n4           1  3.011002e+11    0.210124  6.978527e-13  3.400636e-12   \n...       ...           ...         ...           ...           ...   \n37942       1  1.507630e+03    0.162542  1.078130e-04  1.078130e-04   \n37943       1  4.178073e+03    0.301122  7.207201e-05  7.207201e-05   \n37944       1  1.623808e+03    0.130625  8.044334e-05  8.044334e-05   \n37945       1  3.000000e+04    2.378402  7.928006e-05  7.928006e-05   \n37946       1  6.510839e+03    0.500008  7.679629e-05  7.679629e-05   \n\n           price_6h     price_24h      price_7d  \n0      4.085712e-12  4.085712e-12  4.571769e-12  \n1      4.085712e-12  4.085712e-12  3.556662e-12  \n2      4.085712e-12  4.085712e-12  3.556662e-12  \n3      2.735042e-12  2.555918e-12  5.370183e-12  \n4      2.735042e-12  2.555918e-12  5.370183e-12  \n...             ...           ...           ...  \n37942  1.078130e-04  1.078130e-04  1.078130e-04  \n37943  7.207201e-05  7.207201e-05  7.928006e-05  \n37944  8.044334e-05  8.044334e-05 -1.000000e+00  \n37945  7.928006e-05  7.928006e-05 -1.000000e+00  \n37946  7.679629e-05 -1.000000e+00 -1.000000e+00  \n\n[37947 rows x 10 columns]",
      "text/html": "<div>\n<style scoped>\n    .dataframe tbody tr th:only-of-type {\n        vertical-align: middle;\n    }\n\n    .dataframe tbody tr th {\n        vertical-align: top;\n    }\n\n    .dataframe thead th {\n        text-align: right;\n    }\n</style>\n<table border=\"1\" class=\"dataframe\">\n  <thead>\n    <tr style=\"text-align: right;\">\n      <th></th>\n      <th>mint</th>\n      <th>hour</th>\n      <th>trades</th>\n      <th>token_volume</th>\n      <th>sol_volume</th>\n      <th>price</th>\n      <th>price_2h</th>\n      <th>price_6h</th>\n      <th>price_24h</th>\n      <th>price_7d</th>\n    </tr>\n  </thead>\n  <tbody>\n    <tr>\n      <th>0</th>\n      <td>12AjTG16m3oWzjVy2kP2C1bUEzZv8PayQDM9csRR1obM</td>\n      <td>2023-12-16 10:00:00</td>\n      <td>1</td>\n      <td>1.295834e+11</td>\n      <td>0.599024</td>\n      <td>4.622694e-12</td>\n      <td>3.005502e-12</td>\n      <td>4.085712e-12</td>\n      <td>4.085712e-12</td>\n      <td>4.571769e-12</td>\n    </tr>\n    <tr>\n      <th>1</th>\n      <td>12AjTG16m3oWzjVy2kP2C1bUEzZv8PayQDM9csRR1obM</td>\n      <td>2023-12-16 12:00:00</td>\n      <td>1</td>\n      <td>1.663637e+11</td>\n      <td>0.500006</td>\n      <td>3.005502e-12</td>\n      <td>4.085712e-12</td>\n      <td>4.085712e-12</td>\n      <td>4.085712e-12</td>\n      <td>3.556662e-12</td>\n    </tr>\n    <tr>\n      <th>2</th>\n      <td>12AjTG16m3oWzjVy2kP2C1bUEzZv8PayQDM9csRR1obM</td>\n      <td>2023-12-16 14:00:00</td>\n      <td>1</td>\n      <td>1.344338e+11</td>\n      <td>0.549258</td>\n      <td>4.085712e-12</td>\n      <td>4.085712e-12</td>\n      <td>4.085712e-12</td>\n      <td>4.085712e-12</td>\n      <td>3.556662e-12</td>\n    </tr>\n    <tr>\n      <th>3</th>\n      <td>12AjTG16m3oWzjVy2kP2C1bUEzZv8PayQDM9csRR1obM</td>\n      <td>2023-12-20 04:00:00</td>\n      <td>2</td>\n      <td>1.746382e+12</td>\n      <td>2.140559</td>\n      <td>1.225711e-12</td>\n      <td>4.953954e-12</td>\n      <td>2.735042e-12</td>\n      <td>2.555918e-12</td>\n      <td>5.370183e-12</td>\n    </tr>\n    <tr>\n      <th>4</th>\n      <td>12AjTG16m3oWzjVy2kP2C1bUEzZv8PayQDM9csRR1obM</td>\n      <td>2023-12-20 05:00:00</td>\n      <td>1</td>\n      <td>3.011002e+11</td>\n      <td>0.210124</td>\n      <td>6.978527e-13</td>\n      <td>3.400636e-12</td>\n      <td>2.735042e-12</td>\n      <td>2.555918e-12</td>\n      <td>5.370183e-12</td>\n    </tr>\n    <tr>\n      <th>...</th>\n      <td>...</td>\n      <td>...</td>\n      <td>...</td>\n      <td>...</td>\n      <td>...</td>\n      <td>...</td>\n      <td>...</td>\n      <td>...</td>\n      <td>...</td>\n      <td>...</td>\n    </tr>\n    <tr>\n      <th>37942</th>\n      <td>zebeczgi5fSEtbpfQKVZKCJ3WgYXxjkMUkNNx7fLKAF</td>\n      <td>2023-12-11 07:00:00</td>\n      <td>1</td>\n      <td>1.507630e+03</td>\n      <td>0.162542</td>\n      <td>1.078130e-04</td>\n      <td>1.078130e-04</td>\n      <td>1.078130e-04</td>\n      <td>1.078130e-04</td>\n      <td>1.078130e-04</td>\n    </tr>\n    <tr>\n      <th>37943</th>\n      <td>zebeczgi5fSEtbpfQKVZKCJ3WgYXxjkMUkNNx7fLKAF</td>\n      <td>2023-12-25 11:00:00</td>\n      <td>1</td>\n      <td>4.178073e+03</td>\n      <td>0.301122</td>\n      <td>7.207201e-05</td>\n      <td>7.207201e-05</td>\n      <td>7.207201e-05</td>\n      <td>7.207201e-05</td>\n      <td>7.928006e-05</td>\n    </tr>\n    <tr>\n      <th>37944</th>\n      <td>zebeczgi5fSEtbpfQKVZKCJ3WgYXxjkMUkNNx7fLKAF</td>\n      <td>2023-12-27 12:00:00</td>\n      <td>1</td>\n      <td>1.623808e+03</td>\n      <td>0.130625</td>\n      <td>8.044334e-05</td>\n      <td>8.044334e-05</td>\n      <td>8.044334e-05</td>\n      <td>8.044334e-05</td>\n      <td>-1.000000e+00</td>\n    </tr>\n    <tr>\n      <th>37945</th>\n      <td>zebeczgi5fSEtbpfQKVZKCJ3WgYXxjkMUkNNx7fLKAF</td>\n      <td>2023-12-29 12:00:00</td>\n      <td>1</td>\n      <td>3.000000e+04</td>\n      <td>2.378402</td>\n      <td>7.928006e-05</td>\n      <td>7.928006e-05</td>\n      <td>7.928006e-05</td>\n      <td>7.928006e-05</td>\n      <td>-1.000000e+00</td>\n    </tr>\n    <tr>\n      <th>37946</th>\n      <td>zebeczgi5fSEtbpfQKVZKCJ3WgYXxjkMUkNNx7fLKAF</td>\n      <td>2024-01-02 11:00:00</td>\n      <td>1</td>\n      <td>6.510839e+03</td>\n      <td>0.500008</td>\n      <td>7.679629e-05</td>\n      <td>7.679629e-05</td>\n      <td>7.679629e-05</td>\n      <td>-1.000000e+00</td>\n      <td>-1.000000e+00</td>\n    </tr>\n  </tbody>\n</table>\n<p>37947 rows × 10 columns</p>\n</div>"
     },
     "execution_count": 569,
     "metadata": {},
     "output_type": "execute_result"
    }
   ],
   "source": [
    "prices"
   ],
   "metadata": {
    "collapsed": false,
    "ExecuteTime": {
     "end_time": "2024-01-02T19:18:43.460266Z",
     "start_time": "2024-01-02T19:18:43.456349Z"
    }
   },
   "id": "42231a65d4a7b91d"
  },
  {
   "cell_type": "code",
   "execution_count": 572,
   "outputs": [],
   "source": [
    "from dataclasses import dataclass\n",
    "from datetime import datetime, timedelta\n",
    "\n",
    "FEATURES_PERIOD = 14\n",
    "\n",
    "features = keys.copy()\n",
    "\n",
    "def get_base_price(inp_mint, inp_hour):\n",
    "    ans = prices_map.get((inp_mint, inp_hour), -1)\n",
    "    assert(ans != -1)\n",
    "    return ans\n",
    "\n",
    "\n",
    "def get_price_points(inp_mint, last_hour, interval, num_points):\n",
    "    ans = []\n",
    "    for i in range(num_points):\n",
    "        hour = last_hour - i * interval\n",
    "        if hour < min_hour:\n",
    "            break\n",
    "        ans.append(get_base_price(inp_mint, hour))\n",
    "    # reverse list\n",
    "    ans = ans[::-1]\n",
    "    return ans\n",
    "\n",
    "def get_volume_points(inp_mint, last_hour, interval, num_points):\n",
    "    ans = []\n",
    "    for i in range(num_points):\n",
    "        hour = last_hour - i * interval\n",
    "        prev_hour = hour - interval\n",
    "        if hour < min_hour:\n",
    "            break\n",
    "        ans.append(sol_volume_map.get((inp_mint, hour), 0.) - sol_volume_map.get((inp_mint, prev_hour), 0.))\n",
    "    # reverse list\n",
    "    ans = ans[::-1]\n",
    "    return ans\n",
    "\n",
    "def sma_price(inp_mint, last_hour, interval, num_points):\n",
    "    price_points = get_price_points(inp_mint, last_hour, interval, num_points)\n",
    "    return sum(price_points) / len(price_points) / get_base_price(inp_mint, last_hour)\n",
    "\n",
    "def ema_price(inp_mint, last_hour, interval, num_points):\n",
    "    price_points = get_price_points(inp_mint, last_hour, interval, num_points)\n",
    "    k = 2 / (num_points + 1)\n",
    "    ans = price_points[0]\n",
    "    for i in range(1, len(price_points)):\n",
    "        ans = k * price_points[i] + (1 - k) * ans\n",
    "    return ans / get_base_price(inp_mint, last_hour)\n",
    "\n",
    "def relative_strength_index(inp_mint, last_hour, interval, num_points):\n",
    "    price_points = get_price_points(inp_mint, last_hour, interval, num_points)\n",
    "    gains = []\n",
    "    losses = []\n",
    "    for i in range(1, len(price_points)):\n",
    "        diff = price_points[i] - price_points[i - 1]\n",
    "        if diff > 0:\n",
    "            gains.append(diff)\n",
    "        elif diff < 0:\n",
    "            losses.append(-diff)\n",
    "    if len(gains) == 0:\n",
    "        return 0.\n",
    "    if len(losses) == 0:\n",
    "        return 100.\n",
    "    avg_gain = sum(gains) / len(gains)\n",
    "    avg_loss = sum(losses) / len(losses)\n",
    "    return 100 - 100 / (1 + avg_gain / avg_loss)\n",
    "\n",
    "def sma_volume(inp_mint, last_hour, interval, num_points):\n",
    "    volume_points = get_volume_points(inp_mint, last_hour, interval, num_points)\n",
    "    return sum(volume_points) / len(volume_points)\n",
    "\n",
    "def ema_volume(inp_mint, last_hour, interval, num_points):\n",
    "    volume_points = get_volume_points(inp_mint, last_hour, interval, num_points)\n",
    "    k = 2 / (num_points + 1)\n",
    "    ans = volume_points[0]\n",
    "    for i in range(1, len(volume_points)):\n",
    "        ans = k * volume_points[i] + (1 - k) * ans\n",
    "    return ans\n",
    "\n",
    "@dataclass\n",
    "class FeatureAggr:\n",
    "    name: str\n",
    "    delta: timedelta\n",
    "    num_points: int\n",
    "\n",
    "aggregations = [\n",
    "    FeatureAggr('1h', timedelta(hours=1), 14),\n",
    "    FeatureAggr('4h', timedelta(hours=4), 14),\n",
    "    FeatureAggr('1d', timedelta(hours=24), 14),\n",
    "]\n",
    "\n",
    "for a in aggregations:\n",
    "    features['sma_' + a.name] = [-1.] * len(features)\n",
    "    features['ema_' + a.name] = [-1.] * len(features)\n",
    "    features['rsi_' + a.name] = [-1.] * len(features)\n",
    "    for index, row in features.iterrows():\n",
    "        mint = row['mint']\n",
    "        hour = row['hour']\n",
    "        features.loc[index, 'sma_' + a.name] = sma_price(mint, hour, a.delta, a.num_points)\n",
    "        features.loc[index, 'ema_' + a.name] = ema_price(mint, hour, a.delta, a.num_points)\n",
    "        features.loc[index, 'rsi_' + a.name] = relative_strength_index(mint, hour, a.delta, a.num_points)\n",
    "\n",
    "#calculate volume features\n",
    "for a in aggregations:\n",
    "    features['sma_vol_' + a.name] = [-1.] * len(features)\n",
    "    features['ema_vol_' + a.name] = [-1.] * len(features)\n",
    "    for index, row in features.iterrows():\n",
    "        mint = row['mint']\n",
    "        hour = row['hour']\n",
    "        features.loc[index, 'sma_vol_' + a.name] = sma_volume(mint, hour, a.delta, a.num_points)\n",
    "        features.loc[index, 'ema_vol_' + a.name] = ema_volume(mint, hour, a.delta, a.num_points)"
   ],
   "metadata": {
    "collapsed": false,
    "ExecuteTime": {
     "end_time": "2024-01-02T19:22:14.055287Z",
     "start_time": "2024-01-02T19:21:22.722787Z"
    }
   },
   "id": "22f3c47bc89a04f3"
  },
  {
   "cell_type": "code",
   "execution_count": 573,
   "outputs": [
    {
     "data": {
      "text/plain": "                                               mint                hour  \\\n49204  12AjTG16m3oWzjVy2kP2C1bUEzZv8PayQDM9csRR1obM 2023-12-16 10:00:00   \n49079  12AjTG16m3oWzjVy2kP2C1bUEzZv8PayQDM9csRR1obM 2023-12-16 12:00:00   \n48954  12AjTG16m3oWzjVy2kP2C1bUEzZv8PayQDM9csRR1obM 2023-12-16 14:00:00   \n40497  12AjTG16m3oWzjVy2kP2C1bUEzZv8PayQDM9csRR1obM 2023-12-20 04:00:00   \n40484  12AjTG16m3oWzjVy2kP2C1bUEzZv8PayQDM9csRR1obM 2023-12-20 05:00:00   \n...                                             ...                 ...   \n56650   zebeczgi5fSEtbpfQKVZKCJ3WgYXxjkMUkNNx7fLKAF 2023-12-11 07:00:00   \n22950   zebeczgi5fSEtbpfQKVZKCJ3WgYXxjkMUkNNx7fLKAF 2023-12-25 11:00:00   \n16931   zebeczgi5fSEtbpfQKVZKCJ3WgYXxjkMUkNNx7fLKAF 2023-12-27 12:00:00   \n11371   zebeczgi5fSEtbpfQKVZKCJ3WgYXxjkMUkNNx7fLKAF 2023-12-29 12:00:00   \n766     zebeczgi5fSEtbpfQKVZKCJ3WgYXxjkMUkNNx7fLKAF 2024-01-02 11:00:00   \n\n         sma_1h    ema_1h      rsi_1h    sma_4h    ema_4h      rsi_4h  \\\n49204  0.071429  0.133333  100.000000  0.071429  0.133333  100.000000   \n49079  0.291154  0.465102   74.082988  0.071429  0.133333  100.000000   \n48954  0.338149  0.475319   63.810228  0.152245  0.264076   89.592712   \n40497  3.166673  3.022229    0.000000  3.166673  3.022229    0.000000   \n40484  5.215192  4.733819    0.000000  5.507927  5.207398    0.000000   \n...         ...       ...         ...       ...       ...         ...   \n56650  1.055331  1.052771   14.736419  1.181180  1.144888    5.800634   \n22950  1.460485  1.429786    0.000000  1.460485  1.429786    0.000000   \n16931  0.903368  0.909810  100.000000  0.935104  0.978954   18.977298   \n11371  1.013625  1.012717    0.000000  1.006083  0.996284   87.799386   \n766    1.030032  1.028030    0.000000  1.030032  1.028030    0.000000   \n\n         sma_1d    ema_1d      rsi_1d  sma_vol_1h  ema_vol_1h  sma_vol_4h  \\\n49204  0.071429  0.133333  100.000000    0.042787    0.079870    0.042787   \n49079  0.071429  0.133333  100.000000    0.078502    0.126659    0.078502   \n48954  0.071429  0.133333  100.000000    0.117735    0.168369    0.117735   \n40497  0.785716  1.141665   58.823507    0.152897    0.285408    0.152897   \n40484  1.326005  1.904370   54.668804    0.167906    0.275370    0.167906   \n...         ...       ...         ...         ...         ...         ...   \n56650  1.369964  1.319035    0.000000    0.032203    0.037961    0.504694   \n22950  1.460485  1.429786    0.000000    0.021509    0.040150    0.021509   \n16931  1.252461  1.199033   18.977298    0.009330    0.017417    0.030839   \n11371  1.220472  1.164406   31.208969    0.169886    0.317120    0.179216   \n766    1.144776  1.118763   38.935181    0.035715    0.066668    0.035715   \n\n       ema_vol_4h  sma_vol_1d  ema_vol_1d  \n49204    0.079870    0.042787    0.079870  \n49079    0.146537    0.078502    0.146537  \n48954    0.209122    0.117735    0.219772  \n40497    0.285408    0.270632    0.428471  \n40484    0.313424    0.285641    0.456488  \n...           ...         ...         ...  \n56650    0.378897    0.511837    0.831017  \n22950    0.040150    0.021509    0.040150  \n16931    0.024626    0.030839    0.047573  \n11371    0.320248    0.200725    0.352853  \n766      0.066668    0.236440    0.294396  \n\n[37947 rows x 17 columns]",
      "text/html": "<div>\n<style scoped>\n    .dataframe tbody tr th:only-of-type {\n        vertical-align: middle;\n    }\n\n    .dataframe tbody tr th {\n        vertical-align: top;\n    }\n\n    .dataframe thead th {\n        text-align: right;\n    }\n</style>\n<table border=\"1\" class=\"dataframe\">\n  <thead>\n    <tr style=\"text-align: right;\">\n      <th></th>\n      <th>mint</th>\n      <th>hour</th>\n      <th>sma_1h</th>\n      <th>ema_1h</th>\n      <th>rsi_1h</th>\n      <th>sma_4h</th>\n      <th>ema_4h</th>\n      <th>rsi_4h</th>\n      <th>sma_1d</th>\n      <th>ema_1d</th>\n      <th>rsi_1d</th>\n      <th>sma_vol_1h</th>\n      <th>ema_vol_1h</th>\n      <th>sma_vol_4h</th>\n      <th>ema_vol_4h</th>\n      <th>sma_vol_1d</th>\n      <th>ema_vol_1d</th>\n    </tr>\n  </thead>\n  <tbody>\n    <tr>\n      <th>49204</th>\n      <td>12AjTG16m3oWzjVy2kP2C1bUEzZv8PayQDM9csRR1obM</td>\n      <td>2023-12-16 10:00:00</td>\n      <td>0.071429</td>\n      <td>0.133333</td>\n      <td>100.000000</td>\n      <td>0.071429</td>\n      <td>0.133333</td>\n      <td>100.000000</td>\n      <td>0.071429</td>\n      <td>0.133333</td>\n      <td>100.000000</td>\n      <td>0.042787</td>\n      <td>0.079870</td>\n      <td>0.042787</td>\n      <td>0.079870</td>\n      <td>0.042787</td>\n      <td>0.079870</td>\n    </tr>\n    <tr>\n      <th>49079</th>\n      <td>12AjTG16m3oWzjVy2kP2C1bUEzZv8PayQDM9csRR1obM</td>\n      <td>2023-12-16 12:00:00</td>\n      <td>0.291154</td>\n      <td>0.465102</td>\n      <td>74.082988</td>\n      <td>0.071429</td>\n      <td>0.133333</td>\n      <td>100.000000</td>\n      <td>0.071429</td>\n      <td>0.133333</td>\n      <td>100.000000</td>\n      <td>0.078502</td>\n      <td>0.126659</td>\n      <td>0.078502</td>\n      <td>0.146537</td>\n      <td>0.078502</td>\n      <td>0.146537</td>\n    </tr>\n    <tr>\n      <th>48954</th>\n      <td>12AjTG16m3oWzjVy2kP2C1bUEzZv8PayQDM9csRR1obM</td>\n      <td>2023-12-16 14:00:00</td>\n      <td>0.338149</td>\n      <td>0.475319</td>\n      <td>63.810228</td>\n      <td>0.152245</td>\n      <td>0.264076</td>\n      <td>89.592712</td>\n      <td>0.071429</td>\n      <td>0.133333</td>\n      <td>100.000000</td>\n      <td>0.117735</td>\n      <td>0.168369</td>\n      <td>0.117735</td>\n      <td>0.209122</td>\n      <td>0.117735</td>\n      <td>0.219772</td>\n    </tr>\n    <tr>\n      <th>40497</th>\n      <td>12AjTG16m3oWzjVy2kP2C1bUEzZv8PayQDM9csRR1obM</td>\n      <td>2023-12-20 04:00:00</td>\n      <td>3.166673</td>\n      <td>3.022229</td>\n      <td>0.000000</td>\n      <td>3.166673</td>\n      <td>3.022229</td>\n      <td>0.000000</td>\n      <td>0.785716</td>\n      <td>1.141665</td>\n      <td>58.823507</td>\n      <td>0.152897</td>\n      <td>0.285408</td>\n      <td>0.152897</td>\n      <td>0.285408</td>\n      <td>0.270632</td>\n      <td>0.428471</td>\n    </tr>\n    <tr>\n      <th>40484</th>\n      <td>12AjTG16m3oWzjVy2kP2C1bUEzZv8PayQDM9csRR1obM</td>\n      <td>2023-12-20 05:00:00</td>\n      <td>5.215192</td>\n      <td>4.733819</td>\n      <td>0.000000</td>\n      <td>5.507927</td>\n      <td>5.207398</td>\n      <td>0.000000</td>\n      <td>1.326005</td>\n      <td>1.904370</td>\n      <td>54.668804</td>\n      <td>0.167906</td>\n      <td>0.275370</td>\n      <td>0.167906</td>\n      <td>0.313424</td>\n      <td>0.285641</td>\n      <td>0.456488</td>\n    </tr>\n    <tr>\n      <th>...</th>\n      <td>...</td>\n      <td>...</td>\n      <td>...</td>\n      <td>...</td>\n      <td>...</td>\n      <td>...</td>\n      <td>...</td>\n      <td>...</td>\n      <td>...</td>\n      <td>...</td>\n      <td>...</td>\n      <td>...</td>\n      <td>...</td>\n      <td>...</td>\n      <td>...</td>\n      <td>...</td>\n      <td>...</td>\n    </tr>\n    <tr>\n      <th>56650</th>\n      <td>zebeczgi5fSEtbpfQKVZKCJ3WgYXxjkMUkNNx7fLKAF</td>\n      <td>2023-12-11 07:00:00</td>\n      <td>1.055331</td>\n      <td>1.052771</td>\n      <td>14.736419</td>\n      <td>1.181180</td>\n      <td>1.144888</td>\n      <td>5.800634</td>\n      <td>1.369964</td>\n      <td>1.319035</td>\n      <td>0.000000</td>\n      <td>0.032203</td>\n      <td>0.037961</td>\n      <td>0.504694</td>\n      <td>0.378897</td>\n      <td>0.511837</td>\n      <td>0.831017</td>\n    </tr>\n    <tr>\n      <th>22950</th>\n      <td>zebeczgi5fSEtbpfQKVZKCJ3WgYXxjkMUkNNx7fLKAF</td>\n      <td>2023-12-25 11:00:00</td>\n      <td>1.460485</td>\n      <td>1.429786</td>\n      <td>0.000000</td>\n      <td>1.460485</td>\n      <td>1.429786</td>\n      <td>0.000000</td>\n      <td>1.460485</td>\n      <td>1.429786</td>\n      <td>0.000000</td>\n      <td>0.021509</td>\n      <td>0.040150</td>\n      <td>0.021509</td>\n      <td>0.040150</td>\n      <td>0.021509</td>\n      <td>0.040150</td>\n    </tr>\n    <tr>\n      <th>16931</th>\n      <td>zebeczgi5fSEtbpfQKVZKCJ3WgYXxjkMUkNNx7fLKAF</td>\n      <td>2023-12-27 12:00:00</td>\n      <td>0.903368</td>\n      <td>0.909810</td>\n      <td>100.000000</td>\n      <td>0.935104</td>\n      <td>0.978954</td>\n      <td>18.977298</td>\n      <td>1.252461</td>\n      <td>1.199033</td>\n      <td>18.977298</td>\n      <td>0.009330</td>\n      <td>0.017417</td>\n      <td>0.030839</td>\n      <td>0.024626</td>\n      <td>0.030839</td>\n      <td>0.047573</td>\n    </tr>\n    <tr>\n      <th>11371</th>\n      <td>zebeczgi5fSEtbpfQKVZKCJ3WgYXxjkMUkNNx7fLKAF</td>\n      <td>2023-12-29 12:00:00</td>\n      <td>1.013625</td>\n      <td>1.012717</td>\n      <td>0.000000</td>\n      <td>1.006083</td>\n      <td>0.996284</td>\n      <td>87.799386</td>\n      <td>1.220472</td>\n      <td>1.164406</td>\n      <td>31.208969</td>\n      <td>0.169886</td>\n      <td>0.317120</td>\n      <td>0.179216</td>\n      <td>0.320248</td>\n      <td>0.200725</td>\n      <td>0.352853</td>\n    </tr>\n    <tr>\n      <th>766</th>\n      <td>zebeczgi5fSEtbpfQKVZKCJ3WgYXxjkMUkNNx7fLKAF</td>\n      <td>2024-01-02 11:00:00</td>\n      <td>1.030032</td>\n      <td>1.028030</td>\n      <td>0.000000</td>\n      <td>1.030032</td>\n      <td>1.028030</td>\n      <td>0.000000</td>\n      <td>1.144776</td>\n      <td>1.118763</td>\n      <td>38.935181</td>\n      <td>0.035715</td>\n      <td>0.066668</td>\n      <td>0.035715</td>\n      <td>0.066668</td>\n      <td>0.236440</td>\n      <td>0.294396</td>\n    </tr>\n  </tbody>\n</table>\n<p>37947 rows × 17 columns</p>\n</div>"
     },
     "execution_count": 573,
     "metadata": {},
     "output_type": "execute_result"
    }
   ],
   "source": [
    "features.sort_values(by=['mint', 'hour'])"
   ],
   "metadata": {
    "collapsed": false,
    "ExecuteTime": {
     "end_time": "2024-01-02T19:22:14.074596Z",
     "start_time": "2024-01-02T19:22:14.057778Z"
    }
   },
   "id": "b70c32dbb22e8571"
  },
  {
   "cell_type": "code",
   "execution_count": 665,
   "outputs": [
    {
     "data": {
      "text/plain": "                                               mint                hour  \\\n2045   3J5QaP1zJN9yXE7jr5XJa3Lq2TyGHSHu2wssK7N1Aw4p 2023-11-01 00:00:00   \n4990   5SD4mnz5kNhnAmVQKKX911XBY6RJcqCD4pkH699bP5U3 2023-11-01 00:00:00   \n9876   7kbnvuGBxxj8AG9qp8Scn56muWGaRaFqxg1FsRp3PaFT 2023-11-01 00:00:00   \n12048  94XduSfSnyas7jAEFSJSXiCi1xQ4mENWcii1aCvjVuqu 2023-11-01 00:00:00   \n12858  9WMwGcY6TcbSfy9XPpQymY3qNEsvEaYL3wivdwPG2fpp 2023-11-01 00:00:00   \n...                                             ...                 ...   \n8124   7AmejD1Jdox7YRLpeML7EdZ3JFGW78XBSM8xP6MEn6T2 2024-01-02 19:00:00   \n12731  9L1hpsP3cqVeZjHcp9fXLWCTYeofeP52j9eEBQUFzbR8 2024-01-02 19:00:00   \n19996  DhRQWsiP53gVXnG8KQwq63Uo1FvouRpVNL8536tsVD5H 2024-01-02 19:00:00   \n20637  E2WYCGJJtWBodVLy1NKcN8ve4UAtsJJBU2mdErbXxP8h 2024-01-02 19:00:00   \n31015   KDriegomzHbJDmGkVWFuXrZWfpiruauhMSTg7N6WZvD 2024-01-02 19:00:00   \n\n       trades  token_volume  sol_volume         price      price_2h  \\\n2045        1  1.930000e+08    2.617965  1.356458e-08  1.356458e-08   \n4990        1  4.375231e+07    3.222574  7.365495e-08  9.118888e-08   \n9876        1  3.859803e+03  100.000006  2.590806e-02  2.590806e-02   \n12048       1  1.000000e+05    0.166931  1.669306e-06  3.096264e-06   \n12858       1  3.500819e+02    1.000006  2.856491e-03  2.856491e-03   \n...       ...           ...         ...           ...           ...   \n8124        1  2.283524e+03    0.262717  1.150490e-04 -1.000000e+00   \n12731       1  1.913543e+07    2.180041  1.139270e-07 -1.000000e+00   \n19996       1  4.089509e+05    1.475644  3.608366e-06 -1.000000e+00   \n20637       1  1.223751e+06    0.236705  1.934261e-07 -1.000000e+00   \n31015       1  3.000000e+05   79.728779  2.657626e-04 -1.000000e+00   \n\n           price_6h     price_24h      price_7d class_2h class_6h class_24h  \\\n2045   1.356458e-08  9.007497e-09  4.647018e-09     flat     flat      flat   \n4990   6.138228e-08  1.789658e-08  1.789658e-08     flat     flat      down   \n9876   2.590806e-02  2.362193e-02  2.423463e-02     flat     flat      flat   \n12048  3.096264e-06  3.877707e-06  4.437695e-06     flat     flat      flat   \n12858  2.856491e-03  2.856491e-03  2.188399e-03     flat     flat      flat   \n...             ...           ...           ...      ...      ...       ...   \n8124  -1.000000e+00 -1.000000e+00 -1.000000e+00       na       na        na   \n12731 -1.000000e+00 -1.000000e+00 -1.000000e+00       na       na        na   \n19996 -1.000000e+00 -1.000000e+00 -1.000000e+00       na       na        na   \n20637 -1.000000e+00 -1.000000e+00 -1.000000e+00       na       na        na   \n31015 -1.000000e+00 -1.000000e+00 -1.000000e+00       na       na        na   \n\n      class_7d  \n2045      flat  \n4990      down  \n9876      flat  \n12048     flat  \n12858     flat  \n...        ...  \n8124        na  \n12731       na  \n19996       na  \n20637       na  \n31015       na  \n\n[37947 rows x 14 columns]",
      "text/html": "<div>\n<style scoped>\n    .dataframe tbody tr th:only-of-type {\n        vertical-align: middle;\n    }\n\n    .dataframe tbody tr th {\n        vertical-align: top;\n    }\n\n    .dataframe thead th {\n        text-align: right;\n    }\n</style>\n<table border=\"1\" class=\"dataframe\">\n  <thead>\n    <tr style=\"text-align: right;\">\n      <th></th>\n      <th>mint</th>\n      <th>hour</th>\n      <th>trades</th>\n      <th>token_volume</th>\n      <th>sol_volume</th>\n      <th>price</th>\n      <th>price_2h</th>\n      <th>price_6h</th>\n      <th>price_24h</th>\n      <th>price_7d</th>\n      <th>class_2h</th>\n      <th>class_6h</th>\n      <th>class_24h</th>\n      <th>class_7d</th>\n    </tr>\n  </thead>\n  <tbody>\n    <tr>\n      <th>2045</th>\n      <td>3J5QaP1zJN9yXE7jr5XJa3Lq2TyGHSHu2wssK7N1Aw4p</td>\n      <td>2023-11-01 00:00:00</td>\n      <td>1</td>\n      <td>1.930000e+08</td>\n      <td>2.617965</td>\n      <td>1.356458e-08</td>\n      <td>1.356458e-08</td>\n      <td>1.356458e-08</td>\n      <td>9.007497e-09</td>\n      <td>4.647018e-09</td>\n      <td>flat</td>\n      <td>flat</td>\n      <td>flat</td>\n      <td>flat</td>\n    </tr>\n    <tr>\n      <th>4990</th>\n      <td>5SD4mnz5kNhnAmVQKKX911XBY6RJcqCD4pkH699bP5U3</td>\n      <td>2023-11-01 00:00:00</td>\n      <td>1</td>\n      <td>4.375231e+07</td>\n      <td>3.222574</td>\n      <td>7.365495e-08</td>\n      <td>9.118888e-08</td>\n      <td>6.138228e-08</td>\n      <td>1.789658e-08</td>\n      <td>1.789658e-08</td>\n      <td>flat</td>\n      <td>flat</td>\n      <td>down</td>\n      <td>down</td>\n    </tr>\n    <tr>\n      <th>9876</th>\n      <td>7kbnvuGBxxj8AG9qp8Scn56muWGaRaFqxg1FsRp3PaFT</td>\n      <td>2023-11-01 00:00:00</td>\n      <td>1</td>\n      <td>3.859803e+03</td>\n      <td>100.000006</td>\n      <td>2.590806e-02</td>\n      <td>2.590806e-02</td>\n      <td>2.590806e-02</td>\n      <td>2.362193e-02</td>\n      <td>2.423463e-02</td>\n      <td>flat</td>\n      <td>flat</td>\n      <td>flat</td>\n      <td>flat</td>\n    </tr>\n    <tr>\n      <th>12048</th>\n      <td>94XduSfSnyas7jAEFSJSXiCi1xQ4mENWcii1aCvjVuqu</td>\n      <td>2023-11-01 00:00:00</td>\n      <td>1</td>\n      <td>1.000000e+05</td>\n      <td>0.166931</td>\n      <td>1.669306e-06</td>\n      <td>3.096264e-06</td>\n      <td>3.096264e-06</td>\n      <td>3.877707e-06</td>\n      <td>4.437695e-06</td>\n      <td>flat</td>\n      <td>flat</td>\n      <td>flat</td>\n      <td>flat</td>\n    </tr>\n    <tr>\n      <th>12858</th>\n      <td>9WMwGcY6TcbSfy9XPpQymY3qNEsvEaYL3wivdwPG2fpp</td>\n      <td>2023-11-01 00:00:00</td>\n      <td>1</td>\n      <td>3.500819e+02</td>\n      <td>1.000006</td>\n      <td>2.856491e-03</td>\n      <td>2.856491e-03</td>\n      <td>2.856491e-03</td>\n      <td>2.856491e-03</td>\n      <td>2.188399e-03</td>\n      <td>flat</td>\n      <td>flat</td>\n      <td>flat</td>\n      <td>flat</td>\n    </tr>\n    <tr>\n      <th>...</th>\n      <td>...</td>\n      <td>...</td>\n      <td>...</td>\n      <td>...</td>\n      <td>...</td>\n      <td>...</td>\n      <td>...</td>\n      <td>...</td>\n      <td>...</td>\n      <td>...</td>\n      <td>...</td>\n      <td>...</td>\n      <td>...</td>\n      <td>...</td>\n    </tr>\n    <tr>\n      <th>8124</th>\n      <td>7AmejD1Jdox7YRLpeML7EdZ3JFGW78XBSM8xP6MEn6T2</td>\n      <td>2024-01-02 19:00:00</td>\n      <td>1</td>\n      <td>2.283524e+03</td>\n      <td>0.262717</td>\n      <td>1.150490e-04</td>\n      <td>-1.000000e+00</td>\n      <td>-1.000000e+00</td>\n      <td>-1.000000e+00</td>\n      <td>-1.000000e+00</td>\n      <td>na</td>\n      <td>na</td>\n      <td>na</td>\n      <td>na</td>\n    </tr>\n    <tr>\n      <th>12731</th>\n      <td>9L1hpsP3cqVeZjHcp9fXLWCTYeofeP52j9eEBQUFzbR8</td>\n      <td>2024-01-02 19:00:00</td>\n      <td>1</td>\n      <td>1.913543e+07</td>\n      <td>2.180041</td>\n      <td>1.139270e-07</td>\n      <td>-1.000000e+00</td>\n      <td>-1.000000e+00</td>\n      <td>-1.000000e+00</td>\n      <td>-1.000000e+00</td>\n      <td>na</td>\n      <td>na</td>\n      <td>na</td>\n      <td>na</td>\n    </tr>\n    <tr>\n      <th>19996</th>\n      <td>DhRQWsiP53gVXnG8KQwq63Uo1FvouRpVNL8536tsVD5H</td>\n      <td>2024-01-02 19:00:00</td>\n      <td>1</td>\n      <td>4.089509e+05</td>\n      <td>1.475644</td>\n      <td>3.608366e-06</td>\n      <td>-1.000000e+00</td>\n      <td>-1.000000e+00</td>\n      <td>-1.000000e+00</td>\n      <td>-1.000000e+00</td>\n      <td>na</td>\n      <td>na</td>\n      <td>na</td>\n      <td>na</td>\n    </tr>\n    <tr>\n      <th>20637</th>\n      <td>E2WYCGJJtWBodVLy1NKcN8ve4UAtsJJBU2mdErbXxP8h</td>\n      <td>2024-01-02 19:00:00</td>\n      <td>1</td>\n      <td>1.223751e+06</td>\n      <td>0.236705</td>\n      <td>1.934261e-07</td>\n      <td>-1.000000e+00</td>\n      <td>-1.000000e+00</td>\n      <td>-1.000000e+00</td>\n      <td>-1.000000e+00</td>\n      <td>na</td>\n      <td>na</td>\n      <td>na</td>\n      <td>na</td>\n    </tr>\n    <tr>\n      <th>31015</th>\n      <td>KDriegomzHbJDmGkVWFuXrZWfpiruauhMSTg7N6WZvD</td>\n      <td>2024-01-02 19:00:00</td>\n      <td>1</td>\n      <td>3.000000e+05</td>\n      <td>79.728779</td>\n      <td>2.657626e-04</td>\n      <td>-1.000000e+00</td>\n      <td>-1.000000e+00</td>\n      <td>-1.000000e+00</td>\n      <td>-1.000000e+00</td>\n      <td>na</td>\n      <td>na</td>\n      <td>na</td>\n      <td>na</td>\n    </tr>\n  </tbody>\n</table>\n<p>37947 rows × 14 columns</p>\n</div>"
     },
     "execution_count": 665,
     "metadata": {},
     "output_type": "execute_result"
    }
   ],
   "source": [
    "PRICE_THRESHOLD = 4\n",
    "\n",
    "for p in prediction_types:\n",
    "    prices['class' + p['suffix']] = ['na'] * len(prices)\n",
    "    \n",
    "for index, row in prices.iterrows():\n",
    "    for p in prediction_types:\n",
    "        price = row['price']\n",
    "        future_price = row['price' + p['suffix']]\n",
    "        if future_price == -1:\n",
    "            continue\n",
    "        if future_price > PRICE_THRESHOLD * price:\n",
    "            prices.loc[index, 'class' + p['suffix']] = 'up'\n",
    "        elif future_price < price / PRICE_THRESHOLD:\n",
    "            prices.loc[index, 'class' + p['suffix']] = 'down'\n",
    "        else:\n",
    "            prices.loc[index, 'class' + p['suffix']] = 'flat'\n",
    "\n",
    "#sort prices by hour then mint\n",
    "prices = prices.sort_values(by=['hour', 'mint'])\n",
    "\n",
    "prices"
   ],
   "metadata": {
    "collapsed": false,
    "ExecuteTime": {
     "end_time": "2024-01-02T20:47:34.349648Z",
     "start_time": "2024-01-02T20:47:29.666214Z"
    }
   },
   "id": "45332f270e59b1ac"
  },
  {
   "cell_type": "code",
   "execution_count": 666,
   "outputs": [
    {
     "data": {
      "text/plain": "      class_2h  class_6h  class_24h  class_7d\nflat     37501     36916      34313     22618\nup         198       337        721      1612\ndown       175       406       1707      5366\nna          73       288       1206      8351",
      "text/html": "<div>\n<style scoped>\n    .dataframe tbody tr th:only-of-type {\n        vertical-align: middle;\n    }\n\n    .dataframe tbody tr th {\n        vertical-align: top;\n    }\n\n    .dataframe thead th {\n        text-align: right;\n    }\n</style>\n<table border=\"1\" class=\"dataframe\">\n  <thead>\n    <tr style=\"text-align: right;\">\n      <th></th>\n      <th>class_2h</th>\n      <th>class_6h</th>\n      <th>class_24h</th>\n      <th>class_7d</th>\n    </tr>\n  </thead>\n  <tbody>\n    <tr>\n      <th>flat</th>\n      <td>37501</td>\n      <td>36916</td>\n      <td>34313</td>\n      <td>22618</td>\n    </tr>\n    <tr>\n      <th>up</th>\n      <td>198</td>\n      <td>337</td>\n      <td>721</td>\n      <td>1612</td>\n    </tr>\n    <tr>\n      <th>down</th>\n      <td>175</td>\n      <td>406</td>\n      <td>1707</td>\n      <td>5366</td>\n    </tr>\n    <tr>\n      <th>na</th>\n      <td>73</td>\n      <td>288</td>\n      <td>1206</td>\n      <td>8351</td>\n    </tr>\n  </tbody>\n</table>\n</div>"
     },
     "execution_count": 666,
     "metadata": {},
     "output_type": "execute_result"
    }
   ],
   "source": [
    "td_names = ['class' + p['suffix'] for p in prediction_types]\n",
    "classes = pd.concat([prices[name].value_counts() for name in td_names], axis=1)\n",
    "classes.columns = td_names\n",
    "classes"
   ],
   "metadata": {
    "collapsed": false,
    "ExecuteTime": {
     "end_time": "2024-01-02T20:47:34.351692Z",
     "start_time": "2024-01-02T20:47:34.346195Z"
    }
   },
   "id": "6a437b7473528409"
  },
  {
   "cell_type": "code",
   "execution_count": 667,
   "outputs": [
    {
     "name": "stdout",
     "output_type": "stream",
     "text": [
      "Prediction type: _24h\n",
      "Removed 1206 of 37947 rows with class \"na\"\n"
     ]
    }
   ],
   "source": [
    "from sklearn.model_selection import TimeSeriesSplit\n",
    "\n",
    "prediction_type = prediction_types[2]\n",
    "print(f\"Prediction type: {prediction_type['suffix']}\")\n",
    "\n",
    "pool_df = prices.copy()\n",
    "pool_df = pool_df[['mint', 'hour', 'trades', 'token_volume', 'sol_volume', 'price', 'class' + prediction_type['suffix']]]\n",
    "\n",
    "len_before = len(pool_df)\n",
    "# remove from pool rows with class 'na'\n",
    "pool_df = pool_df[pool_df['class' + prediction_type['suffix']] != 'na']\n",
    "len_after = len(pool_df)\n",
    "print(f'Removed {len_before - len_after} of {len_before} rows with class \"na\"')"
   ],
   "metadata": {
    "collapsed": false,
    "ExecuteTime": {
     "end_time": "2024-01-02T20:47:34.360138Z",
     "start_time": "2024-01-02T20:47:34.351292Z"
    }
   },
   "id": "cd9ba54930ee096f"
  },
  {
   "cell_type": "code",
   "execution_count": 668,
   "outputs": [
    {
     "data": {
      "text/plain": "                                               mint                hour  \\\n2045   3J5QaP1zJN9yXE7jr5XJa3Lq2TyGHSHu2wssK7N1Aw4p 2023-11-01 00:00:00   \n4990   5SD4mnz5kNhnAmVQKKX911XBY6RJcqCD4pkH699bP5U3 2023-11-01 00:00:00   \n9876   7kbnvuGBxxj8AG9qp8Scn56muWGaRaFqxg1FsRp3PaFT 2023-11-01 00:00:00   \n12048  94XduSfSnyas7jAEFSJSXiCi1xQ4mENWcii1aCvjVuqu 2023-11-01 00:00:00   \n12858  9WMwGcY6TcbSfy9XPpQymY3qNEsvEaYL3wivdwPG2fpp 2023-11-01 00:00:00   \n...                                             ...                 ...   \n35067   iotEVVZLEywoTn1QdwNPddxPWszn3zFhEot3MfL9fns 2024-01-01 19:00:00   \n35488   jtojtomepa8beP8AuQc6eXt5FriJwfFMwQx2v2f9mCL 2024-01-01 19:00:00   \n35578   kiraZUmSnzgfVfhrdvNj6hxHFaPFTTUk8ioY98cbh6G 2024-01-01 19:00:00   \n36383   mSoLzYCxHdYgdzU16g5QSh3i5K3z3KZK7ytfqcJm7So 2024-01-01 19:00:00   \n36719   mb1eu7TzEc71KxDpsmsKoucSSuuoGLv1drys1oP2jh6 2024-01-01 19:00:00   \n\n       trades  token_volume  sol_volume         price class_24h  \n2045        1  1.930000e+08    2.617965  1.356458e-08      flat  \n4990        1  4.375231e+07    3.222574  7.365495e-08      down  \n9876        1  3.859803e+03  100.000006  2.590806e-02      flat  \n12048       1  1.000000e+05    0.166931  1.669306e-06      flat  \n12858       1  3.500819e+02    1.000006  2.856491e-03      flat  \n...       ...           ...         ...           ...       ...  \n35067       1  1.742559e+05    3.139126  1.801446e-05      flat  \n35488       1  5.724078e+00    0.103688  1.811443e-02      flat  \n35578       1  1.100000e+03    0.538952  4.899561e-04      flat  \n36383       4  2.258449e+00    2.609253  1.155330e+00      flat  \n36719       1  5.459678e+04    1.898036  3.476461e-05      flat  \n\n[36741 rows x 7 columns]",
      "text/html": "<div>\n<style scoped>\n    .dataframe tbody tr th:only-of-type {\n        vertical-align: middle;\n    }\n\n    .dataframe tbody tr th {\n        vertical-align: top;\n    }\n\n    .dataframe thead th {\n        text-align: right;\n    }\n</style>\n<table border=\"1\" class=\"dataframe\">\n  <thead>\n    <tr style=\"text-align: right;\">\n      <th></th>\n      <th>mint</th>\n      <th>hour</th>\n      <th>trades</th>\n      <th>token_volume</th>\n      <th>sol_volume</th>\n      <th>price</th>\n      <th>class_24h</th>\n    </tr>\n  </thead>\n  <tbody>\n    <tr>\n      <th>2045</th>\n      <td>3J5QaP1zJN9yXE7jr5XJa3Lq2TyGHSHu2wssK7N1Aw4p</td>\n      <td>2023-11-01 00:00:00</td>\n      <td>1</td>\n      <td>1.930000e+08</td>\n      <td>2.617965</td>\n      <td>1.356458e-08</td>\n      <td>flat</td>\n    </tr>\n    <tr>\n      <th>4990</th>\n      <td>5SD4mnz5kNhnAmVQKKX911XBY6RJcqCD4pkH699bP5U3</td>\n      <td>2023-11-01 00:00:00</td>\n      <td>1</td>\n      <td>4.375231e+07</td>\n      <td>3.222574</td>\n      <td>7.365495e-08</td>\n      <td>down</td>\n    </tr>\n    <tr>\n      <th>9876</th>\n      <td>7kbnvuGBxxj8AG9qp8Scn56muWGaRaFqxg1FsRp3PaFT</td>\n      <td>2023-11-01 00:00:00</td>\n      <td>1</td>\n      <td>3.859803e+03</td>\n      <td>100.000006</td>\n      <td>2.590806e-02</td>\n      <td>flat</td>\n    </tr>\n    <tr>\n      <th>12048</th>\n      <td>94XduSfSnyas7jAEFSJSXiCi1xQ4mENWcii1aCvjVuqu</td>\n      <td>2023-11-01 00:00:00</td>\n      <td>1</td>\n      <td>1.000000e+05</td>\n      <td>0.166931</td>\n      <td>1.669306e-06</td>\n      <td>flat</td>\n    </tr>\n    <tr>\n      <th>12858</th>\n      <td>9WMwGcY6TcbSfy9XPpQymY3qNEsvEaYL3wivdwPG2fpp</td>\n      <td>2023-11-01 00:00:00</td>\n      <td>1</td>\n      <td>3.500819e+02</td>\n      <td>1.000006</td>\n      <td>2.856491e-03</td>\n      <td>flat</td>\n    </tr>\n    <tr>\n      <th>...</th>\n      <td>...</td>\n      <td>...</td>\n      <td>...</td>\n      <td>...</td>\n      <td>...</td>\n      <td>...</td>\n      <td>...</td>\n    </tr>\n    <tr>\n      <th>35067</th>\n      <td>iotEVVZLEywoTn1QdwNPddxPWszn3zFhEot3MfL9fns</td>\n      <td>2024-01-01 19:00:00</td>\n      <td>1</td>\n      <td>1.742559e+05</td>\n      <td>3.139126</td>\n      <td>1.801446e-05</td>\n      <td>flat</td>\n    </tr>\n    <tr>\n      <th>35488</th>\n      <td>jtojtomepa8beP8AuQc6eXt5FriJwfFMwQx2v2f9mCL</td>\n      <td>2024-01-01 19:00:00</td>\n      <td>1</td>\n      <td>5.724078e+00</td>\n      <td>0.103688</td>\n      <td>1.811443e-02</td>\n      <td>flat</td>\n    </tr>\n    <tr>\n      <th>35578</th>\n      <td>kiraZUmSnzgfVfhrdvNj6hxHFaPFTTUk8ioY98cbh6G</td>\n      <td>2024-01-01 19:00:00</td>\n      <td>1</td>\n      <td>1.100000e+03</td>\n      <td>0.538952</td>\n      <td>4.899561e-04</td>\n      <td>flat</td>\n    </tr>\n    <tr>\n      <th>36383</th>\n      <td>mSoLzYCxHdYgdzU16g5QSh3i5K3z3KZK7ytfqcJm7So</td>\n      <td>2024-01-01 19:00:00</td>\n      <td>4</td>\n      <td>2.258449e+00</td>\n      <td>2.609253</td>\n      <td>1.155330e+00</td>\n      <td>flat</td>\n    </tr>\n    <tr>\n      <th>36719</th>\n      <td>mb1eu7TzEc71KxDpsmsKoucSSuuoGLv1drys1oP2jh6</td>\n      <td>2024-01-01 19:00:00</td>\n      <td>1</td>\n      <td>5.459678e+04</td>\n      <td>1.898036</td>\n      <td>3.476461e-05</td>\n      <td>flat</td>\n    </tr>\n  </tbody>\n</table>\n<p>36741 rows × 7 columns</p>\n</div>"
     },
     "execution_count": 668,
     "metadata": {},
     "output_type": "execute_result"
    }
   ],
   "source": [
    "pool_df"
   ],
   "metadata": {
    "collapsed": false,
    "ExecuteTime": {
     "end_time": "2024-01-02T20:47:34.367256Z",
     "start_time": "2024-01-02T20:47:34.362288Z"
    }
   },
   "id": "7ad9375766b556ad"
  },
  {
   "cell_type": "code",
   "execution_count": 669,
   "outputs": [
    {
     "name": "stdout",
     "output_type": "stream",
     "text": [
      "(36741, 7)\n",
      "(36741, 22)\n"
     ]
    }
   ],
   "source": [
    "print(pool_df.shape)\n",
    "pool_df = pool_df.join(features.set_index(['mint', 'hour']), on=['mint', 'hour'])\n",
    "print(pool_df.shape)"
   ],
   "metadata": {
    "collapsed": false,
    "ExecuteTime": {
     "end_time": "2024-01-02T20:47:34.385503Z",
     "start_time": "2024-01-02T20:47:34.364672Z"
    }
   },
   "id": "2240a2846c0a4f22"
  },
  {
   "cell_type": "code",
   "execution_count": 670,
   "outputs": [
    {
     "data": {
      "text/plain": "                                               mint                hour  \\\n2045   3J5QaP1zJN9yXE7jr5XJa3Lq2TyGHSHu2wssK7N1Aw4p 2023-11-01 00:00:00   \n4990   5SD4mnz5kNhnAmVQKKX911XBY6RJcqCD4pkH699bP5U3 2023-11-01 00:00:00   \n9876   7kbnvuGBxxj8AG9qp8Scn56muWGaRaFqxg1FsRp3PaFT 2023-11-01 00:00:00   \n12048  94XduSfSnyas7jAEFSJSXiCi1xQ4mENWcii1aCvjVuqu 2023-11-01 00:00:00   \n12858  9WMwGcY6TcbSfy9XPpQymY3qNEsvEaYL3wivdwPG2fpp 2023-11-01 00:00:00   \n...                                             ...                 ...   \n35067   iotEVVZLEywoTn1QdwNPddxPWszn3zFhEot3MfL9fns 2024-01-01 19:00:00   \n35488   jtojtomepa8beP8AuQc6eXt5FriJwfFMwQx2v2f9mCL 2024-01-01 19:00:00   \n35578   kiraZUmSnzgfVfhrdvNj6hxHFaPFTTUk8ioY98cbh6G 2024-01-01 19:00:00   \n36383   mSoLzYCxHdYgdzU16g5QSh3i5K3z3KZK7ytfqcJm7So 2024-01-01 19:00:00   \n36719   mb1eu7TzEc71KxDpsmsKoucSSuuoGLv1drys1oP2jh6 2024-01-01 19:00:00   \n\n       trades  token_volume  sol_volume         price class_24h    sma_1h  \\\n2045        1  1.930000e+08    2.617965  1.356458e-08      flat  1.000000   \n4990        1  4.375231e+07    3.222574  7.365495e-08      down  1.000000   \n9876        1  3.859803e+03  100.000006  2.590806e-02      flat  1.000000   \n12048       1  1.000000e+05    0.166931  1.669306e-06      flat  1.000000   \n12858       1  3.500819e+02    1.000006  2.856491e-03      flat  1.000000   \n...       ...           ...         ...           ...       ...       ...   \n35067       1  1.742559e+05    3.139126  1.801446e-05      flat  1.064907   \n35488       1  5.724078e+00    0.103688  1.811443e-02      flat  0.980618   \n35578       1  1.100000e+03    0.538952  4.899561e-04      flat  0.944439   \n36383       4  2.258449e+00    2.609253  1.155330e+00      flat  1.001630   \n36719       1  5.459678e+04    1.898036  3.476461e-05      flat  1.064792   \n\n         ema_1h     rsi_1h  ...     rsi_4h        sma_1d        ema_1d  \\\n2045   1.000000   0.000000  ...   0.000000  1.000000e+00  1.000000e+00   \n4990   1.000000   0.000000  ...   0.000000  1.000000e+00  1.000000e+00   \n9876   1.000000   0.000000  ...   0.000000  1.000000e+00  1.000000e+00   \n12048  1.000000   0.000000  ...   0.000000  1.000000e+00  1.000000e+00   \n12858  1.000000   0.000000  ...   0.000000  1.000000e+00  1.000000e+00   \n...         ...        ...  ...        ...           ...           ...   \n35067  1.055609   0.000000  ...  33.667369  1.203141e+00  1.248823e+00   \n35488  0.982468  82.341511  ...  23.308232  1.347536e+00  1.315768e+00   \n35578  0.967168  83.018777  ...  89.754962  3.807236e-01  4.369517e-01   \n36383  1.001233  62.331952  ...  76.923077  6.312357e+06  1.021199e+07   \n36719  1.058946  30.605330  ...  43.347835  1.287558e+00  1.324891e+00   \n\n          rsi_1d  sma_vol_1h  ema_vol_1h  sma_vol_4h  ema_vol_4h  sma_vol_1d  \\\n2045    0.000000    2.617965    2.617965    2.617965    2.617965    2.617965   \n4990    0.000000    3.222574    3.222574    3.222574    3.222574    3.222574   \n9876    0.000000  100.000006  100.000006  100.000006  100.000006  100.000006   \n12048   0.000000    0.166931    0.166931    0.166931    0.166931    0.166931   \n12858   0.000000    1.000006    1.000006    1.000006    1.000006    1.000006   \n...          ...         ...         ...         ...         ...         ...   \n35067  19.328394    0.339518    0.596113    1.952009    2.156837   26.451202   \n35488  27.749206    2.561340    2.576904   11.220160   11.878039  186.715113   \n35578  45.431530    0.078859    0.099530    0.157441    0.183846    0.480774   \n36383  46.153846   13.933845   16.066291   58.111424   58.413627  911.853747   \n36719  22.173768    0.173486    0.267734    2.077638    2.142347  292.208840   \n\n       ema_vol_1d  \n2045     2.617965  \n4990     3.222574  \n9876   100.000006  \n12048    0.166931  \n12858    1.000006  \n...           ...  \n35067   34.628548  \n35488  149.920035  \n35578    0.547720  \n36383  815.276083  \n36719  224.401897  \n\n[36741 rows x 22 columns]",
      "text/html": "<div>\n<style scoped>\n    .dataframe tbody tr th:only-of-type {\n        vertical-align: middle;\n    }\n\n    .dataframe tbody tr th {\n        vertical-align: top;\n    }\n\n    .dataframe thead th {\n        text-align: right;\n    }\n</style>\n<table border=\"1\" class=\"dataframe\">\n  <thead>\n    <tr style=\"text-align: right;\">\n      <th></th>\n      <th>mint</th>\n      <th>hour</th>\n      <th>trades</th>\n      <th>token_volume</th>\n      <th>sol_volume</th>\n      <th>price</th>\n      <th>class_24h</th>\n      <th>sma_1h</th>\n      <th>ema_1h</th>\n      <th>rsi_1h</th>\n      <th>...</th>\n      <th>rsi_4h</th>\n      <th>sma_1d</th>\n      <th>ema_1d</th>\n      <th>rsi_1d</th>\n      <th>sma_vol_1h</th>\n      <th>ema_vol_1h</th>\n      <th>sma_vol_4h</th>\n      <th>ema_vol_4h</th>\n      <th>sma_vol_1d</th>\n      <th>ema_vol_1d</th>\n    </tr>\n  </thead>\n  <tbody>\n    <tr>\n      <th>2045</th>\n      <td>3J5QaP1zJN9yXE7jr5XJa3Lq2TyGHSHu2wssK7N1Aw4p</td>\n      <td>2023-11-01 00:00:00</td>\n      <td>1</td>\n      <td>1.930000e+08</td>\n      <td>2.617965</td>\n      <td>1.356458e-08</td>\n      <td>flat</td>\n      <td>1.000000</td>\n      <td>1.000000</td>\n      <td>0.000000</td>\n      <td>...</td>\n      <td>0.000000</td>\n      <td>1.000000e+00</td>\n      <td>1.000000e+00</td>\n      <td>0.000000</td>\n      <td>2.617965</td>\n      <td>2.617965</td>\n      <td>2.617965</td>\n      <td>2.617965</td>\n      <td>2.617965</td>\n      <td>2.617965</td>\n    </tr>\n    <tr>\n      <th>4990</th>\n      <td>5SD4mnz5kNhnAmVQKKX911XBY6RJcqCD4pkH699bP5U3</td>\n      <td>2023-11-01 00:00:00</td>\n      <td>1</td>\n      <td>4.375231e+07</td>\n      <td>3.222574</td>\n      <td>7.365495e-08</td>\n      <td>down</td>\n      <td>1.000000</td>\n      <td>1.000000</td>\n      <td>0.000000</td>\n      <td>...</td>\n      <td>0.000000</td>\n      <td>1.000000e+00</td>\n      <td>1.000000e+00</td>\n      <td>0.000000</td>\n      <td>3.222574</td>\n      <td>3.222574</td>\n      <td>3.222574</td>\n      <td>3.222574</td>\n      <td>3.222574</td>\n      <td>3.222574</td>\n    </tr>\n    <tr>\n      <th>9876</th>\n      <td>7kbnvuGBxxj8AG9qp8Scn56muWGaRaFqxg1FsRp3PaFT</td>\n      <td>2023-11-01 00:00:00</td>\n      <td>1</td>\n      <td>3.859803e+03</td>\n      <td>100.000006</td>\n      <td>2.590806e-02</td>\n      <td>flat</td>\n      <td>1.000000</td>\n      <td>1.000000</td>\n      <td>0.000000</td>\n      <td>...</td>\n      <td>0.000000</td>\n      <td>1.000000e+00</td>\n      <td>1.000000e+00</td>\n      <td>0.000000</td>\n      <td>100.000006</td>\n      <td>100.000006</td>\n      <td>100.000006</td>\n      <td>100.000006</td>\n      <td>100.000006</td>\n      <td>100.000006</td>\n    </tr>\n    <tr>\n      <th>12048</th>\n      <td>94XduSfSnyas7jAEFSJSXiCi1xQ4mENWcii1aCvjVuqu</td>\n      <td>2023-11-01 00:00:00</td>\n      <td>1</td>\n      <td>1.000000e+05</td>\n      <td>0.166931</td>\n      <td>1.669306e-06</td>\n      <td>flat</td>\n      <td>1.000000</td>\n      <td>1.000000</td>\n      <td>0.000000</td>\n      <td>...</td>\n      <td>0.000000</td>\n      <td>1.000000e+00</td>\n      <td>1.000000e+00</td>\n      <td>0.000000</td>\n      <td>0.166931</td>\n      <td>0.166931</td>\n      <td>0.166931</td>\n      <td>0.166931</td>\n      <td>0.166931</td>\n      <td>0.166931</td>\n    </tr>\n    <tr>\n      <th>12858</th>\n      <td>9WMwGcY6TcbSfy9XPpQymY3qNEsvEaYL3wivdwPG2fpp</td>\n      <td>2023-11-01 00:00:00</td>\n      <td>1</td>\n      <td>3.500819e+02</td>\n      <td>1.000006</td>\n      <td>2.856491e-03</td>\n      <td>flat</td>\n      <td>1.000000</td>\n      <td>1.000000</td>\n      <td>0.000000</td>\n      <td>...</td>\n      <td>0.000000</td>\n      <td>1.000000e+00</td>\n      <td>1.000000e+00</td>\n      <td>0.000000</td>\n      <td>1.000006</td>\n      <td>1.000006</td>\n      <td>1.000006</td>\n      <td>1.000006</td>\n      <td>1.000006</td>\n      <td>1.000006</td>\n    </tr>\n    <tr>\n      <th>...</th>\n      <td>...</td>\n      <td>...</td>\n      <td>...</td>\n      <td>...</td>\n      <td>...</td>\n      <td>...</td>\n      <td>...</td>\n      <td>...</td>\n      <td>...</td>\n      <td>...</td>\n      <td>...</td>\n      <td>...</td>\n      <td>...</td>\n      <td>...</td>\n      <td>...</td>\n      <td>...</td>\n      <td>...</td>\n      <td>...</td>\n      <td>...</td>\n      <td>...</td>\n      <td>...</td>\n    </tr>\n    <tr>\n      <th>35067</th>\n      <td>iotEVVZLEywoTn1QdwNPddxPWszn3zFhEot3MfL9fns</td>\n      <td>2024-01-01 19:00:00</td>\n      <td>1</td>\n      <td>1.742559e+05</td>\n      <td>3.139126</td>\n      <td>1.801446e-05</td>\n      <td>flat</td>\n      <td>1.064907</td>\n      <td>1.055609</td>\n      <td>0.000000</td>\n      <td>...</td>\n      <td>33.667369</td>\n      <td>1.203141e+00</td>\n      <td>1.248823e+00</td>\n      <td>19.328394</td>\n      <td>0.339518</td>\n      <td>0.596113</td>\n      <td>1.952009</td>\n      <td>2.156837</td>\n      <td>26.451202</td>\n      <td>34.628548</td>\n    </tr>\n    <tr>\n      <th>35488</th>\n      <td>jtojtomepa8beP8AuQc6eXt5FriJwfFMwQx2v2f9mCL</td>\n      <td>2024-01-01 19:00:00</td>\n      <td>1</td>\n      <td>5.724078e+00</td>\n      <td>0.103688</td>\n      <td>1.811443e-02</td>\n      <td>flat</td>\n      <td>0.980618</td>\n      <td>0.982468</td>\n      <td>82.341511</td>\n      <td>...</td>\n      <td>23.308232</td>\n      <td>1.347536e+00</td>\n      <td>1.315768e+00</td>\n      <td>27.749206</td>\n      <td>2.561340</td>\n      <td>2.576904</td>\n      <td>11.220160</td>\n      <td>11.878039</td>\n      <td>186.715113</td>\n      <td>149.920035</td>\n    </tr>\n    <tr>\n      <th>35578</th>\n      <td>kiraZUmSnzgfVfhrdvNj6hxHFaPFTTUk8ioY98cbh6G</td>\n      <td>2024-01-01 19:00:00</td>\n      <td>1</td>\n      <td>1.100000e+03</td>\n      <td>0.538952</td>\n      <td>4.899561e-04</td>\n      <td>flat</td>\n      <td>0.944439</td>\n      <td>0.967168</td>\n      <td>83.018777</td>\n      <td>...</td>\n      <td>89.754962</td>\n      <td>3.807236e-01</td>\n      <td>4.369517e-01</td>\n      <td>45.431530</td>\n      <td>0.078859</td>\n      <td>0.099530</td>\n      <td>0.157441</td>\n      <td>0.183846</td>\n      <td>0.480774</td>\n      <td>0.547720</td>\n    </tr>\n    <tr>\n      <th>36383</th>\n      <td>mSoLzYCxHdYgdzU16g5QSh3i5K3z3KZK7ytfqcJm7So</td>\n      <td>2024-01-01 19:00:00</td>\n      <td>4</td>\n      <td>2.258449e+00</td>\n      <td>2.609253</td>\n      <td>1.155330e+00</td>\n      <td>flat</td>\n      <td>1.001630</td>\n      <td>1.001233</td>\n      <td>62.331952</td>\n      <td>...</td>\n      <td>76.923077</td>\n      <td>6.312357e+06</td>\n      <td>1.021199e+07</td>\n      <td>46.153846</td>\n      <td>13.933845</td>\n      <td>16.066291</td>\n      <td>58.111424</td>\n      <td>58.413627</td>\n      <td>911.853747</td>\n      <td>815.276083</td>\n    </tr>\n    <tr>\n      <th>36719</th>\n      <td>mb1eu7TzEc71KxDpsmsKoucSSuuoGLv1drys1oP2jh6</td>\n      <td>2024-01-01 19:00:00</td>\n      <td>1</td>\n      <td>5.459678e+04</td>\n      <td>1.898036</td>\n      <td>3.476461e-05</td>\n      <td>flat</td>\n      <td>1.064792</td>\n      <td>1.058946</td>\n      <td>30.605330</td>\n      <td>...</td>\n      <td>43.347835</td>\n      <td>1.287558e+00</td>\n      <td>1.324891e+00</td>\n      <td>22.173768</td>\n      <td>0.173486</td>\n      <td>0.267734</td>\n      <td>2.077638</td>\n      <td>2.142347</td>\n      <td>292.208840</td>\n      <td>224.401897</td>\n    </tr>\n  </tbody>\n</table>\n<p>36741 rows × 22 columns</p>\n</div>"
     },
     "execution_count": 670,
     "metadata": {},
     "output_type": "execute_result"
    }
   ],
   "source": [
    "pool_df"
   ],
   "metadata": {
    "collapsed": false,
    "ExecuteTime": {
     "end_time": "2024-01-02T20:47:34.464091Z",
     "start_time": "2024-01-02T20:47:34.376827Z"
    }
   },
   "id": "2a592d84636a48b2"
  },
  {
   "cell_type": "code",
   "execution_count": 671,
   "outputs": [
    {
     "data": {
      "text/plain": "['sma_1h',\n 'ema_1h',\n 'rsi_1h',\n 'sma_4h',\n 'ema_4h',\n 'rsi_4h',\n 'sma_1d',\n 'ema_1d',\n 'rsi_1d',\n 'sma_vol_1h',\n 'ema_vol_1h',\n 'sma_vol_4h',\n 'ema_vol_4h',\n 'sma_vol_1d',\n 'ema_vol_1d']"
     },
     "execution_count": 671,
     "metadata": {},
     "output_type": "execute_result"
    }
   ],
   "source": [
    "list(features.columns[2:])"
   ],
   "metadata": {
    "collapsed": false,
    "ExecuteTime": {
     "end_time": "2024-01-02T20:47:34.468665Z",
     "start_time": "2024-01-02T20:47:34.392544Z"
    }
   },
   "id": "34b9df2488215da7"
  },
  {
   "cell_type": "code",
   "execution_count": 672,
   "outputs": [
    {
     "name": "stdout",
     "output_type": "stream",
     "text": [
      "big_mints: 191\n",
      "Removed 515 of 9923 rows from test data\n",
      "since 2023-12-09 21:00:00 to 2023-12-10 21:00:00\n",
      "big_mints: 244\n",
      "Removed 1179 of 9714 rows from test data\n",
      "since 2023-12-22 19:00:00 to 2023-12-23 19:00:00\n"
     ]
    }
   ],
   "source": [
    "import pandas as pd\n",
    "from catboost import CatBoostClassifier, Pool\n",
    "from sklearn.model_selection import TimeSeriesSplit\n",
    "from sklearn.metrics import confusion_matrix\n",
    "import matplotlib.pyplot as plt\n",
    "import seaborn as sns\n",
    "\n",
    "# Convert 'mint' to a categorical feature\n",
    "pool_df['mint'] = pool_df['mint'].astype('category')\n",
    "\n",
    "# Define features and target\n",
    "# feature_names = ['mint', 'hour', 'trades', 'token_volume', 'sol_volume', 'price'] + list(features.columns[2:])\n",
    "# cat_feature_names = ['mint']\n",
    "# feature_names = ['trades', 'token_volume', 'sol_volume', 'price'] + list(features.columns[2:])\n",
    "feature_names = list(features.columns[2:])\n",
    "cat_feature_names = []\n",
    "target = 'class' + prediction_type['suffix']\n",
    "\n",
    "# Initialize CatBoost Classifier\n",
    "model = CatBoostClassifier(loss_function='MultiClass', verbose=False)\n",
    "\n",
    "# TimeSeriesSplit for cross-validation\n",
    "tscv = TimeSeriesSplit(n_splits=2)\n",
    "\n",
    "# To store predictions and actuals\n",
    "actuals = []\n",
    "raw_predictions = []\n",
    "up_probabilities = []\n",
    "details_df = pd.DataFrame() \n",
    "train_len = 0\n",
    "up_train_len = 0\n",
    "\n",
    "\n",
    "for train_index, test_index in tscv.split(pool_df):\n",
    "    train_data, test_data = pool_df.iloc[train_index], pool_df.iloc[test_index]\n",
    "\n",
    "    # mints that have at least 10 sol_volume in train_data\n",
    "    big_mints = test_data[test_data['sma_vol_1d'] >= 5]['mint'].unique()\n",
    "    print(f\"big_mints: {len(big_mints)}\")\n",
    "    train_data = train_data[train_data['mint'].isin(big_mints)]\n",
    "    test_data = test_data[test_data['mint'].isin(big_mints)]\n",
    "\n",
    "\n",
    "    max_train_hour = train_data['hour'].max()\n",
    "    len_before = len(test_data)\n",
    "    # change those lines together please\n",
    "    removed_data = test_data[test_data['hour'] <= max_train_hour + prediction_type['delta']]\n",
    "    test_data = test_data[test_data['hour'] > max_train_hour + prediction_type['delta']]\n",
    "    len_after = len(test_data)\n",
    "    if len_after == 0:\n",
    "        break\n",
    "    print(f'Removed {len_before - len_after} of {len_before} rows from test data')\n",
    "    print(f'since {min(removed_data[\"hour\"])} to {max(removed_data[\"hour\"])}')\n",
    "\n",
    "    train_len += len(train_data)\n",
    "    up_train_len += len(train_data[train_data[target] == 'up'])\n",
    "\n",
    "    # Create Pool\n",
    "    train_pool = Pool(data=train_data[feature_names], label=train_data[target], cat_features=cat_feature_names)\n",
    "    test_pool = Pool(data=test_data[feature_names], label=test_data[target], cat_features=cat_feature_names)\n",
    "\n",
    "    # Train model\n",
    "    model.fit(train_pool)\n",
    "\n",
    "    # Predict\n",
    "    classes = model.classes_\n",
    "    probs = model.predict_proba(test_pool)\n",
    "    classes_to_index = {c: i for i, c in enumerate(classes)}\n",
    "    \n",
    "    for probs_row in probs:\n",
    "        raw_predictions.append(classes[probs_row.argmax()])\n",
    "        up_probabilities.append(probs_row[classes_to_index['up']])\n",
    "\n",
    "    actuals.extend(test_data[target].values)\n",
    "    if len(details_df) == 0:\n",
    "        details_df = test_data\n",
    "    else:\n",
    "        details_df = pd.concat([details_df, test_data])\n",
    "    \n"
   ],
   "metadata": {
    "collapsed": false,
    "ExecuteTime": {
     "end_time": "2024-01-02T20:47:41.983804Z",
     "start_time": "2024-01-02T20:47:34.399272Z"
    }
   },
   "id": "62eb4dc2618fa53e"
  },
  {
   "cell_type": "code",
   "execution_count": 679,
   "outputs": [
    {
     "name": "stdout",
     "output_type": "stream",
     "text": [
      "desired_up_amount: 42 of 386\n",
      "up_threshold: 0.4715479153675694\n",
      "pred len 17943, actuals len 17943, comparison_df len 17943, details len 17943, results_df len 17943\n",
      "Confusion Matrix:\n",
      "       up   flat  down\n",
      "up    11    370     5\n",
      "flat  34  16969    15\n",
      "down   0    482    57\n",
      "ROI1: 173.33% of 100%\n",
      "ROI2: 97.78% of 100%\n",
      "Benchmark: 8.61% of 100%\n",
      "Used: 0.25% (45 of 17943 trades)\n",
      "\n",
      "upsides: 4.576713417995695, top 10 upsides ['53', '17', '16', '12', '10', '8', '8', '6', '5', '5']\n"
     ]
    }
   ],
   "source": [
    "desired_up_amount = int(up_train_len * 1. / train_len * len(actuals) * 0.1)\n",
    "print(f\"desired_up_amount: {desired_up_amount} of {actuals.count('up')}\")\n",
    "\n",
    "up_threshold = sorted(up_probabilities, reverse=True)[desired_up_amount]\n",
    "print(f\"up_threshold: {up_threshold}\")\n",
    "\n",
    "predictions = []\n",
    "for raw_pred, up_prob in zip(raw_predictions, up_probabilities):\n",
    "    if up_prob < up_threshold:\n",
    "        predictions.append(raw_pred)\n",
    "    else:\n",
    "        predictions.append('up')\n",
    "\n",
    "# Confusion Matrix\n",
    "conf_matrix = confusion_matrix(actuals, predictions, labels=['up', 'flat', 'down'])\n",
    "conf_matrix_df = pd.DataFrame(conf_matrix, index=['up', 'flat', 'down'], columns=['up', 'flat', 'down'])\n",
    "\n",
    "# Last iteration's predictions and actuals\n",
    "comparison_df = pd.DataFrame({'Actual': actuals, 'Predicted': predictions})\n",
    "# comparison_df = comparison_df.reset_index(drop=True)\n",
    "\n",
    "# add details to results_df\n",
    "results_df = pd.concat([comparison_df.reset_index(drop=True), details_df.reset_index(drop=True)], axis=1)\n",
    "print(f\"pred len {len(predictions)}, actuals len {len(actuals)}, \"\n",
    "      f\"comparison_df len {len(comparison_df)}, details len {len(details_df)}, results_df len {len(results_df)}\")\n",
    "\n",
    "#join prices to results_df\n",
    "results_df = results_df.join(prices[['mint', 'hour', 'price'+prediction_type['suffix']]].set_index(['mint', 'hour']), on=['mint', 'hour'])\n",
    "results_df['upside'] = results_df['price'+prediction_type['suffix']] / results_df['price']\n",
    "upsides = results_df[(results_df['Predicted']=='up')&(results_df['upside']<1000)]['upside']\n",
    "\n",
    "\n",
    "# Output\n",
    "print(\"Confusion Matrix:\\n\", conf_matrix_df)\n",
    "print(\"ROI1: %.2f%% of 100%%\\n\"\n",
    "      \"ROI2: %.2f%% of 100%%\\n\"\n",
    "      \"Benchmark: %.2f%% of 100%%\\n\"\n",
    "      \"Used: %.2f%% (%d of %d trades)\\n\"\n",
    "      %(\n",
    "        (100 * (PRICE_THRESHOLD * 1. * conf_matrix_df.loc['up', 'up'].sum() + conf_matrix_df.loc['flat', 'up'].sum()) / conf_matrix_df.loc[:, 'up'].sum()),\n",
    "        (100 * (PRICE_THRESHOLD * 1. * conf_matrix_df.loc['up', 'up'].sum()) / conf_matrix_df.loc[:, 'up'].sum()),\n",
    "        (100 * (PRICE_THRESHOLD * 1. * conf_matrix_df.loc['up', :].sum()) / conf_matrix_df.loc[:, :].sum().sum()),\n",
    "        (100 * (1. * conf_matrix_df.loc[:, 'up'].sum()) / conf_matrix_df.loc[:, :].sum().sum()),\n",
    "        conf_matrix_df.loc[:, 'up'].sum(),\n",
    "        conf_matrix_df.loc[:, :].sum().sum(),\n",
    "      )\n",
    "      )\n",
    "print(f'upsides: {upsides.mean()}, top 10 upsides {[\"%d\" % u for u in list(upsides.sort_values(ascending=False).head(10))]}')"
   ],
   "metadata": {
    "collapsed": false,
    "ExecuteTime": {
     "end_time": "2024-01-02T20:50:32.872198Z",
     "start_time": "2024-01-02T20:50:32.833376Z"
    }
   },
   "id": "fef1b11c7c2205ff"
  },
  {
   "cell_type": "code",
   "execution_count": 694,
   "outputs": [
    {
     "name": "stdout",
     "output_type": "stream",
     "text": [
      "Confusion Matrix:\n",
      "       up   flat  down\n",
      "up    11    370     5\n",
      "flat  34  16969    15\n",
      "down   0    482    57\n",
      "ROI1: 173.33% of 100%\n",
      "ROI2: 97.78% of 100%\n",
      "Benchmark: 8.61% of 100%\n",
      "Used: 0.25% (45 of 17943 trades)\n",
      "\n",
      "upsides: 4.576713417995695, top 10 upsides ['53', '17', '16', '12', '10', '8', '8', '6', '5', '5']\n"
     ]
    }
   ],
   "source": [
    "print(\"Confusion Matrix:\\n\", conf_matrix_df)\n",
    "print(\"ROI1: %.2f%% of 100%%\\n\"\n",
    "      \"ROI2: %.2f%% of 100%%\\n\"\n",
    "      \"Benchmark: %.2f%% of 100%%\\n\"\n",
    "      \"Used: %.2f%% (%d of %d trades)\\n\"\n",
    "      %(\n",
    "        (100 * (PRICE_THRESHOLD * 1. * conf_matrix_df.loc['up', 'up'].sum() + conf_matrix_df.loc['flat', 'up'].sum()) / conf_matrix_df.loc[:, 'up'].sum()),\n",
    "        (100 * (PRICE_THRESHOLD * 1. * conf_matrix_df.loc['up', 'up'].sum()) / conf_matrix_df.loc[:, 'up'].sum()),\n",
    "        (100 * (PRICE_THRESHOLD * 1. * conf_matrix_df.loc['up', :].sum()) / conf_matrix_df.loc[:, :].sum().sum()),\n",
    "        (100 * (1. * conf_matrix_df.loc[:, 'up'].sum()) / conf_matrix_df.loc[:, :].sum().sum()),\n",
    "        conf_matrix_df.loc[:, 'up'].sum(),\n",
    "        conf_matrix_df.loc[:, :].sum().sum(),\n",
    "      )\n",
    "      )\n",
    "print(f'upsides: {upsides.mean()}, top 10 upsides {[\"%d\" % u for u in list(upsides.sort_values(ascending=False).head(10))]}')\n"
   ],
   "metadata": {
    "collapsed": false,
    "ExecuteTime": {
     "end_time": "2024-01-02T21:40:23.330481Z",
     "start_time": "2024-01-02T21:40:23.321639Z"
    }
   },
   "id": "94a5c8e242f78fdf"
  },
  {
   "cell_type": "code",
   "execution_count": 681,
   "outputs": [
    {
     "data": {
      "text/plain": "                                               mint                hour  \\\n0      4icEZCrEYNop2ZaMMCkRHaNzkt6xG9BpijMCQV7mpw6Z 2023-12-10 22:00:00   \n1      4k3Dyjzvzp8eMZWUXbBCjEvwSkkk59S5iCNLY3QrkX6R 2023-12-10 22:00:00   \n2      53ctv3wwFXQbXruKWsbQcCe7sefowyu96pXK6FRLTjfv 2023-12-10 22:00:00   \n3      5ritAPtFPqQtEFHcHVqNjR5oFNUJqcmgKtZyPd2AyLLy 2023-12-10 22:00:00   \n4      5yxNbU8DgYJZNi3mPD9rs4XLh9ckXrhPjJ5VCujUWg5H 2023-12-10 22:00:00   \n...                                             ...                 ...   \n17938   gxNuJSHRScR7WkzQEYqvxVditaKkcc9V32KXPJLCbcT 2024-01-01 19:00:00   \n17939   iotEVVZLEywoTn1QdwNPddxPWszn3zFhEot3MfL9fns 2024-01-01 19:00:00   \n17940   jtojtomepa8beP8AuQc6eXt5FriJwfFMwQx2v2f9mCL 2024-01-01 19:00:00   \n17941   mSoLzYCxHdYgdzU16g5QSh3i5K3z3KZK7ytfqcJm7So 2024-01-01 19:00:00   \n17942   mb1eu7TzEc71KxDpsmsKoucSSuuoGLv1drys1oP2jh6 2024-01-01 19:00:00   \n\n              price     price_24h    upside  \n0      3.857099e-05  3.466783e-05  0.898806  \n1      1.017082e-02  1.027790e-02  1.010529  \n2      2.935986e-06  4.230865e-06  1.441037  \n3      3.566448e-07  3.864511e-07  1.083574  \n4      1.510666e-09  1.068960e-09  0.707608  \n...             ...           ...       ...  \n17938  6.392509e-05  8.026535e-05  1.255616  \n17939  1.801446e-05  1.709458e-05  0.948937  \n17940  1.811443e-02  1.742858e-02  0.962138  \n17941  1.155330e+00  1.153767e+00  0.998647  \n17942  3.476461e-05  3.061637e-05  0.880676  \n\n[17943 rows x 5 columns]",
      "text/html": "<div>\n<style scoped>\n    .dataframe tbody tr th:only-of-type {\n        vertical-align: middle;\n    }\n\n    .dataframe tbody tr th {\n        vertical-align: top;\n    }\n\n    .dataframe thead th {\n        text-align: right;\n    }\n</style>\n<table border=\"1\" class=\"dataframe\">\n  <thead>\n    <tr style=\"text-align: right;\">\n      <th></th>\n      <th>mint</th>\n      <th>hour</th>\n      <th>price</th>\n      <th>price_24h</th>\n      <th>upside</th>\n    </tr>\n  </thead>\n  <tbody>\n    <tr>\n      <th>0</th>\n      <td>4icEZCrEYNop2ZaMMCkRHaNzkt6xG9BpijMCQV7mpw6Z</td>\n      <td>2023-12-10 22:00:00</td>\n      <td>3.857099e-05</td>\n      <td>3.466783e-05</td>\n      <td>0.898806</td>\n    </tr>\n    <tr>\n      <th>1</th>\n      <td>4k3Dyjzvzp8eMZWUXbBCjEvwSkkk59S5iCNLY3QrkX6R</td>\n      <td>2023-12-10 22:00:00</td>\n      <td>1.017082e-02</td>\n      <td>1.027790e-02</td>\n      <td>1.010529</td>\n    </tr>\n    <tr>\n      <th>2</th>\n      <td>53ctv3wwFXQbXruKWsbQcCe7sefowyu96pXK6FRLTjfv</td>\n      <td>2023-12-10 22:00:00</td>\n      <td>2.935986e-06</td>\n      <td>4.230865e-06</td>\n      <td>1.441037</td>\n    </tr>\n    <tr>\n      <th>3</th>\n      <td>5ritAPtFPqQtEFHcHVqNjR5oFNUJqcmgKtZyPd2AyLLy</td>\n      <td>2023-12-10 22:00:00</td>\n      <td>3.566448e-07</td>\n      <td>3.864511e-07</td>\n      <td>1.083574</td>\n    </tr>\n    <tr>\n      <th>4</th>\n      <td>5yxNbU8DgYJZNi3mPD9rs4XLh9ckXrhPjJ5VCujUWg5H</td>\n      <td>2023-12-10 22:00:00</td>\n      <td>1.510666e-09</td>\n      <td>1.068960e-09</td>\n      <td>0.707608</td>\n    </tr>\n    <tr>\n      <th>...</th>\n      <td>...</td>\n      <td>...</td>\n      <td>...</td>\n      <td>...</td>\n      <td>...</td>\n    </tr>\n    <tr>\n      <th>17938</th>\n      <td>gxNuJSHRScR7WkzQEYqvxVditaKkcc9V32KXPJLCbcT</td>\n      <td>2024-01-01 19:00:00</td>\n      <td>6.392509e-05</td>\n      <td>8.026535e-05</td>\n      <td>1.255616</td>\n    </tr>\n    <tr>\n      <th>17939</th>\n      <td>iotEVVZLEywoTn1QdwNPddxPWszn3zFhEot3MfL9fns</td>\n      <td>2024-01-01 19:00:00</td>\n      <td>1.801446e-05</td>\n      <td>1.709458e-05</td>\n      <td>0.948937</td>\n    </tr>\n    <tr>\n      <th>17940</th>\n      <td>jtojtomepa8beP8AuQc6eXt5FriJwfFMwQx2v2f9mCL</td>\n      <td>2024-01-01 19:00:00</td>\n      <td>1.811443e-02</td>\n      <td>1.742858e-02</td>\n      <td>0.962138</td>\n    </tr>\n    <tr>\n      <th>17941</th>\n      <td>mSoLzYCxHdYgdzU16g5QSh3i5K3z3KZK7ytfqcJm7So</td>\n      <td>2024-01-01 19:00:00</td>\n      <td>1.155330e+00</td>\n      <td>1.153767e+00</td>\n      <td>0.998647</td>\n    </tr>\n    <tr>\n      <th>17942</th>\n      <td>mb1eu7TzEc71KxDpsmsKoucSSuuoGLv1drys1oP2jh6</td>\n      <td>2024-01-01 19:00:00</td>\n      <td>3.476461e-05</td>\n      <td>3.061637e-05</td>\n      <td>0.880676</td>\n    </tr>\n  </tbody>\n</table>\n<p>17943 rows × 5 columns</p>\n</div>"
     },
     "execution_count": 681,
     "metadata": {},
     "output_type": "execute_result"
    }
   ],
   "source": [
    "# results_df\n",
    "results_df[['mint', 'hour', 'price', 'price'+prediction_type['suffix'], 'upside']]"
   ],
   "metadata": {
    "collapsed": false,
    "ExecuteTime": {
     "end_time": "2024-01-02T20:50:57.332498Z",
     "start_time": "2024-01-02T20:50:57.319789Z"
    }
   },
   "id": "3f6bcaf6080552ec"
  },
  {
   "cell_type": "code",
   "execution_count": 682,
   "outputs": [
    {
     "data": {
      "text/plain": "    Feature Id  Importances\n0       rsi_1h    11.706403\n1   sma_vol_1d     8.554256\n2       rsi_4h     8.437217\n3   ema_vol_1h     7.939414\n4       sma_1d     6.878882\n5   sma_vol_1h     6.821743\n6       ema_1d     6.427885\n7   ema_vol_1d     6.184165\n8   ema_vol_4h     6.180397\n9       sma_4h     5.508012\n10      ema_4h     5.481360\n11  sma_vol_4h     5.441259\n12      rsi_1d     5.093370\n13      ema_1h     4.770061\n14      sma_1h     4.575576",
      "text/html": "<div>\n<style scoped>\n    .dataframe tbody tr th:only-of-type {\n        vertical-align: middle;\n    }\n\n    .dataframe tbody tr th {\n        vertical-align: top;\n    }\n\n    .dataframe thead th {\n        text-align: right;\n    }\n</style>\n<table border=\"1\" class=\"dataframe\">\n  <thead>\n    <tr style=\"text-align: right;\">\n      <th></th>\n      <th>Feature Id</th>\n      <th>Importances</th>\n    </tr>\n  </thead>\n  <tbody>\n    <tr>\n      <th>0</th>\n      <td>rsi_1h</td>\n      <td>11.706403</td>\n    </tr>\n    <tr>\n      <th>1</th>\n      <td>sma_vol_1d</td>\n      <td>8.554256</td>\n    </tr>\n    <tr>\n      <th>2</th>\n      <td>rsi_4h</td>\n      <td>8.437217</td>\n    </tr>\n    <tr>\n      <th>3</th>\n      <td>ema_vol_1h</td>\n      <td>7.939414</td>\n    </tr>\n    <tr>\n      <th>4</th>\n      <td>sma_1d</td>\n      <td>6.878882</td>\n    </tr>\n    <tr>\n      <th>5</th>\n      <td>sma_vol_1h</td>\n      <td>6.821743</td>\n    </tr>\n    <tr>\n      <th>6</th>\n      <td>ema_1d</td>\n      <td>6.427885</td>\n    </tr>\n    <tr>\n      <th>7</th>\n      <td>ema_vol_1d</td>\n      <td>6.184165</td>\n    </tr>\n    <tr>\n      <th>8</th>\n      <td>ema_vol_4h</td>\n      <td>6.180397</td>\n    </tr>\n    <tr>\n      <th>9</th>\n      <td>sma_4h</td>\n      <td>5.508012</td>\n    </tr>\n    <tr>\n      <th>10</th>\n      <td>ema_4h</td>\n      <td>5.481360</td>\n    </tr>\n    <tr>\n      <th>11</th>\n      <td>sma_vol_4h</td>\n      <td>5.441259</td>\n    </tr>\n    <tr>\n      <th>12</th>\n      <td>rsi_1d</td>\n      <td>5.093370</td>\n    </tr>\n    <tr>\n      <th>13</th>\n      <td>ema_1h</td>\n      <td>4.770061</td>\n    </tr>\n    <tr>\n      <th>14</th>\n      <td>sma_1h</td>\n      <td>4.575576</td>\n    </tr>\n  </tbody>\n</table>\n</div>"
     },
     "execution_count": 682,
     "metadata": {},
     "output_type": "execute_result"
    }
   ],
   "source": [
    "# feature importance\n",
    "model.get_feature_importance(prettified=True)"
   ],
   "metadata": {
    "collapsed": false,
    "ExecuteTime": {
     "end_time": "2024-01-02T20:50:57.730175Z",
     "start_time": "2024-01-02T20:50:57.721857Z"
    }
   },
   "id": "aa3a8642a70c940b"
  },
  {
   "cell_type": "code",
   "execution_count": 683,
   "outputs": [
    {
     "data": {
      "text/plain": "                                               mint                hour  \\\n7427   6Xemh445fWbG7C8HpHRbfvTwc2nucuCtPq1WEAAbaRtd 2023-12-21 05:00:00   \n5334   6fdCC8xfrXNy6PmNaVcxdEY5XNCTAha2V54zYYnmBCey 2023-12-19 09:00:00   \n15354  6sWet5H2qNpXnV5CwxSmRThx4z3uVtdjHqRB4VyMkJ8Z 2023-12-29 20:00:00   \n6115   7iT1GRYYhEop2nV1dyCwK2MGyLmPHq47WhPGSwiqcUg5 2023-12-20 02:00:00   \n6025   9yLRWFwhTi9g9kaXqteTBfneLU2yBL6xYsHjktRVFyrL 2023-12-20 00:00:00   \n5888   E2ppaAxedkdsHPB4GpB2s6doMG7DWUUXBkH5UwNxvLRR 2023-12-19 21:00:00   \n798    G3vWvAaXPHCnncnyAbq6yBRXqfRtEV3h7vExzasZeT6g 2023-12-12 10:00:00   \n7260   GztDUVZbtdWJ6ur9E9STs1SMsHgddUt5q3bGtUboE9sr 2023-12-21 01:00:00   \n3628   JA5KRHnXv2fuPjQoGwCBw2RXKsbiWMDJ9adPqpZUMDzV 2023-12-17 05:00:00   \n15550   gxNuJSHRScR7WkzQEYqvxVditaKkcc9V32KXPJLCbcT 2023-12-30 00:00:00   \n1494    rockaPXZqTqtt9LvznNopikNQn3YSTMwTC4swr7HAiy 2023-12-13 22:00:00   \n\n              price     price_24h     upside  \n7427   1.206808e-08  6.424759e-07  53.237626  \n5334   9.978044e-07  6.427538e-06   6.441681  \n15354  4.054676e-07  1.697392e-06   4.186257  \n6115   6.077024e-08  1.008810e-06  16.600387  \n6025   4.774916e-07  3.844946e-06   8.052385  \n5888   2.230599e-07  3.827344e-06  17.158365  \n798    3.361695e-07  1.942213e-06   5.777480  \n7260   1.864968e-07  1.620347e-06   8.688340  \n3628   6.609408e-05  3.829702e-04   5.794319  \n15550  1.449023e-05  1.837584e-04  12.681537  \n1494   1.492858e-12  1.525866e-11  10.221109  ",
      "text/html": "<div>\n<style scoped>\n    .dataframe tbody tr th:only-of-type {\n        vertical-align: middle;\n    }\n\n    .dataframe tbody tr th {\n        vertical-align: top;\n    }\n\n    .dataframe thead th {\n        text-align: right;\n    }\n</style>\n<table border=\"1\" class=\"dataframe\">\n  <thead>\n    <tr style=\"text-align: right;\">\n      <th></th>\n      <th>mint</th>\n      <th>hour</th>\n      <th>price</th>\n      <th>price_24h</th>\n      <th>upside</th>\n    </tr>\n  </thead>\n  <tbody>\n    <tr>\n      <th>7427</th>\n      <td>6Xemh445fWbG7C8HpHRbfvTwc2nucuCtPq1WEAAbaRtd</td>\n      <td>2023-12-21 05:00:00</td>\n      <td>1.206808e-08</td>\n      <td>6.424759e-07</td>\n      <td>53.237626</td>\n    </tr>\n    <tr>\n      <th>5334</th>\n      <td>6fdCC8xfrXNy6PmNaVcxdEY5XNCTAha2V54zYYnmBCey</td>\n      <td>2023-12-19 09:00:00</td>\n      <td>9.978044e-07</td>\n      <td>6.427538e-06</td>\n      <td>6.441681</td>\n    </tr>\n    <tr>\n      <th>15354</th>\n      <td>6sWet5H2qNpXnV5CwxSmRThx4z3uVtdjHqRB4VyMkJ8Z</td>\n      <td>2023-12-29 20:00:00</td>\n      <td>4.054676e-07</td>\n      <td>1.697392e-06</td>\n      <td>4.186257</td>\n    </tr>\n    <tr>\n      <th>6115</th>\n      <td>7iT1GRYYhEop2nV1dyCwK2MGyLmPHq47WhPGSwiqcUg5</td>\n      <td>2023-12-20 02:00:00</td>\n      <td>6.077024e-08</td>\n      <td>1.008810e-06</td>\n      <td>16.600387</td>\n    </tr>\n    <tr>\n      <th>6025</th>\n      <td>9yLRWFwhTi9g9kaXqteTBfneLU2yBL6xYsHjktRVFyrL</td>\n      <td>2023-12-20 00:00:00</td>\n      <td>4.774916e-07</td>\n      <td>3.844946e-06</td>\n      <td>8.052385</td>\n    </tr>\n    <tr>\n      <th>5888</th>\n      <td>E2ppaAxedkdsHPB4GpB2s6doMG7DWUUXBkH5UwNxvLRR</td>\n      <td>2023-12-19 21:00:00</td>\n      <td>2.230599e-07</td>\n      <td>3.827344e-06</td>\n      <td>17.158365</td>\n    </tr>\n    <tr>\n      <th>798</th>\n      <td>G3vWvAaXPHCnncnyAbq6yBRXqfRtEV3h7vExzasZeT6g</td>\n      <td>2023-12-12 10:00:00</td>\n      <td>3.361695e-07</td>\n      <td>1.942213e-06</td>\n      <td>5.777480</td>\n    </tr>\n    <tr>\n      <th>7260</th>\n      <td>GztDUVZbtdWJ6ur9E9STs1SMsHgddUt5q3bGtUboE9sr</td>\n      <td>2023-12-21 01:00:00</td>\n      <td>1.864968e-07</td>\n      <td>1.620347e-06</td>\n      <td>8.688340</td>\n    </tr>\n    <tr>\n      <th>3628</th>\n      <td>JA5KRHnXv2fuPjQoGwCBw2RXKsbiWMDJ9adPqpZUMDzV</td>\n      <td>2023-12-17 05:00:00</td>\n      <td>6.609408e-05</td>\n      <td>3.829702e-04</td>\n      <td>5.794319</td>\n    </tr>\n    <tr>\n      <th>15550</th>\n      <td>gxNuJSHRScR7WkzQEYqvxVditaKkcc9V32KXPJLCbcT</td>\n      <td>2023-12-30 00:00:00</td>\n      <td>1.449023e-05</td>\n      <td>1.837584e-04</td>\n      <td>12.681537</td>\n    </tr>\n    <tr>\n      <th>1494</th>\n      <td>rockaPXZqTqtt9LvznNopikNQn3YSTMwTC4swr7HAiy</td>\n      <td>2023-12-13 22:00:00</td>\n      <td>1.492858e-12</td>\n      <td>1.525866e-11</td>\n      <td>10.221109</td>\n    </tr>\n  </tbody>\n</table>\n</div>"
     },
     "execution_count": 683,
     "metadata": {},
     "output_type": "execute_result"
    }
   ],
   "source": [
    "guessed = results_df[(results_df['Actual']=='up') & (results_df['Predicted']=='up')].sort_values(by=['mint', 'hour'])\n",
    "guessed[['mint', 'hour', 'price', 'price'+prediction_type['suffix'], 'upside']]"
   ],
   "metadata": {
    "collapsed": false,
    "ExecuteTime": {
     "end_time": "2024-01-02T20:50:58.057487Z",
     "start_time": "2024-01-02T20:50:58.051310Z"
    }
   },
   "id": "610d77d03127299e"
  },
  {
   "cell_type": "code",
   "execution_count": 695,
   "outputs": [
    {
     "data": {
      "text/plain": "count                                               11\nunique                                              11\ntop       6Xemh445fWbG7C8HpHRbfvTwc2nucuCtPq1WEAAbaRtd\nfreq                                                 1\nName: mint, dtype: object"
     },
     "execution_count": 695,
     "metadata": {},
     "output_type": "execute_result"
    }
   ],
   "source": [
    "guessed.mint.describe()"
   ],
   "metadata": {
    "collapsed": false,
    "ExecuteTime": {
     "end_time": "2024-01-02T21:41:09.594806Z",
     "start_time": "2024-01-02T21:41:09.593175Z"
    }
   },
   "id": "eb5aa523d3a36f3b"
  },
  {
   "cell_type": "code",
   "execution_count": 696,
   "outputs": [
    {
     "data": {
      "text/plain": "                                               mint                hour  \\\n15695   gxNuJSHRScR7WkzQEYqvxVditaKkcc9V32KXPJLCbcT 2023-12-30 04:00:00   \n15550   gxNuJSHRScR7WkzQEYqvxVditaKkcc9V32KXPJLCbcT 2023-12-30 00:00:00   \n15354  6sWet5H2qNpXnV5CwxSmRThx4z3uVtdjHqRB4VyMkJ8Z 2023-12-29 20:00:00   \n14634  EVoLsbmQXT6R3b11WjPpGEXyCjw1zmmir271XqDbKRsg 2023-12-29 01:00:00   \n13483  DdNYDNeqF9MgLEWMUAqQpYesH7uAaK8biNLaiNvCD2TR 2023-12-27 21:00:00   \n12698  E2WYCGJJtWBodVLy1NKcN8ve4UAtsJJBU2mdErbXxP8h 2023-12-27 03:00:00   \n12610  CUwif1FiX5b3bwwb2n5Bm35AixvnR8LJjGUVmEwNZNgR 2023-12-27 01:00:00   \n10848  GHK2LWebz1uFNSd3FrDrwwJwzs6nDxgmce3bJxMYwoQi 2023-12-25 07:00:00   \n7826   8nTJvVeeQf4n728YWqBF7dX6AoUhqGnxhtuHPQDBEWGJ 2023-12-21 13:00:00   \n7427   6Xemh445fWbG7C8HpHRbfvTwc2nucuCtPq1WEAAbaRtd 2023-12-21 05:00:00   \n7260   GztDUVZbtdWJ6ur9E9STs1SMsHgddUt5q3bGtUboE9sr 2023-12-21 01:00:00   \n6810   9V5otwffY6EYuxKdL17d2zJ6jicDcg66uZwDXgMF2fx9 2023-12-20 17:00:00   \n6815   B9i778H3tmERji9gk84TgKngDopMA4sgTeexS5E5f85h 2023-12-20 17:00:00   \n6761   B9i778H3tmERji9gk84TgKngDopMA4sgTeexS5E5f85h 2023-12-20 16:00:00   \n6527   6sEBEFa4djEbQyYor8DTR4xKP95gks3zZ5HxNzXMnJM2 2023-12-20 11:00:00   \n6307   7dHbWXmci3dT8UFYWYZweBLXgycu7Y3iL6trKn1Y7ARj 2023-12-20 06:00:00   \n6225   F23fFqpRNsmWjuUrFpfM1pvoVvMSpLuN6hY978Y1JXLt 2023-12-20 04:00:00   \n6115   7iT1GRYYhEop2nV1dyCwK2MGyLmPHq47WhPGSwiqcUg5 2023-12-20 02:00:00   \n6071   CAvkAD9yAqfBiXqyrX186qnA6sFvchfCUGaxYF3Hoxbp 2023-12-20 01:00:00   \n6025   9yLRWFwhTi9g9kaXqteTBfneLU2yBL6xYsHjktRVFyrL 2023-12-20 00:00:00   \n6019   8vRnnknwERunJEEDtEFoxzaxbxGnEY61FPbx8uTVKsUD 2023-12-20 00:00:00   \n5973   8vRnnknwERunJEEDtEFoxzaxbxGnEY61FPbx8uTVKsUD 2023-12-19 23:00:00   \n5888   E2ppaAxedkdsHPB4GpB2s6doMG7DWUUXBkH5UwNxvLRR 2023-12-19 21:00:00   \n5441   6fdCC8xfrXNy6PmNaVcxdEY5XNCTAha2V54zYYnmBCey 2023-12-19 12:00:00   \n5334   6fdCC8xfrXNy6PmNaVcxdEY5XNCTAha2V54zYYnmBCey 2023-12-19 09:00:00   \n5263   CsVgb8T3fJoh98ffXiESLRVLtueYnJdC2vccEewuPXZy 2023-12-19 07:00:00   \n5144   CsVgb8T3fJoh98ffXiESLRVLtueYnJdC2vccEewuPXZy 2023-12-19 04:00:00   \n4908   96QoNkZLTKH7Gecf6dKMRXBQXW1wqh378uF9pnTejgAw 2023-12-18 22:00:00   \n4650   CDk4NPvYzfY6xWy6RE2YkBmLwztXvNFEMW1YMaW7gnvM 2023-12-18 15:00:00   \n4617   CDk4NPvYzfY6xWy6RE2YkBmLwztXvNFEMW1YMaW7gnvM 2023-12-18 14:00:00   \n3875    HCrJxauTiVbke6dnNJVVGyzpFDqgPGuan9d3tbR65HJ 2023-12-17 14:00:00   \n3700   FYa25XnBsXQXAdTnsyKBKd5gZ1VZhChBRF57CqfRxJZX 2023-12-17 08:00:00   \n3628   JA5KRHnXv2fuPjQoGwCBw2RXKsbiWMDJ9adPqpZUMDzV 2023-12-17 05:00:00   \n2979   HqLRjru6pD6GFGnQ7TwSSGQRuPhF8UZNey9T4yCsZzuq 2023-12-16 06:00:00   \n2852   GUfVMChbnYKV6RCibVhBsVPfwuUaVnS5XJ13gAkPodoL 2023-12-16 02:00:00   \n2832    bSo13r4TkiE4KumL71LsHTPpL2euBYLFx6h9HP3piy1 2023-12-16 01:00:00   \n2822   GUfVMChbnYKV6RCibVhBsVPfwuUaVnS5XJ13gAkPodoL 2023-12-16 01:00:00   \n2588   29J8aCeJWjD9vSeFPdqAkveqnhNsvah97QsdHxcHyD6X 2023-12-15 18:00:00   \n2326   F47vvwFYuLioQsqEVAjqdY6Yihc8wVRiUcfHGcBR9XUs 2023-12-15 08:00:00   \n2305   F47vvwFYuLioQsqEVAjqdY6Yihc8wVRiUcfHGcBR9XUs 2023-12-15 07:00:00   \n1536    rockaPXZqTqtt9LvznNopikNQn3YSTMwTC4swr7HAiy 2023-12-14 00:00:00   \n1494    rockaPXZqTqtt9LvznNopikNQn3YSTMwTC4swr7HAiy 2023-12-13 22:00:00   \n1061   29REKkAfdkdZEwERmCuNHd2yPi9U1mqy9hafdb8exnsb 2023-12-12 23:00:00   \n855    EVcLppxi4vF3ah3Gc5qppFtmnoSNtAkDRWqJUqvmNJcN 2023-12-12 13:00:00   \n798    G3vWvAaXPHCnncnyAbq6yBRXqfRtEV3h7vExzasZeT6g 2023-12-12 10:00:00   \n\n              price     price_24h     upside  \n15695  1.001932e-04  1.769616e-04   1.766203  \n15550  1.449023e-05  1.837584e-04  12.681537  \n15354  4.054676e-07  1.697392e-06   4.186257  \n14634  4.035982e-04  9.493233e-04   2.352149  \n13483  2.648762e-06  5.828702e-06   2.200538  \n12698  7.308997e-08  5.756745e-08   0.787625  \n12610  3.978199e-06  8.698667e-06   2.186584  \n10848  1.189862e-05  9.624835e-06   0.808903  \n7826   1.895175e-05  1.775148e-05   0.936667  \n7427   1.206808e-08  6.424759e-07  53.237626  \n7260   1.864968e-07  1.620347e-06   8.688340  \n6810   4.249111e-06  1.443433e-06   0.339702  \n6815   2.018086e-06  5.430206e-07   0.269077  \n6761   1.233221e-06  5.430206e-07   0.440327  \n6527   1.922865e-07  4.680414e-07   2.434083  \n6307   1.149764e+00  1.146148e+00   0.996855  \n6225   9.871192e-08  3.261987e-07   3.304552  \n6115   6.077024e-08  1.008810e-06  16.600387  \n6071   2.379438e-06  1.381280e-06   0.580507  \n6025   4.774916e-07  3.844946e-06   8.052385  \n6019   8.244681e-09  1.975713e-08   2.396348  \n5973   2.474521e-08  1.975713e-08   0.798422  \n5888   2.230599e-07  3.827344e-06  17.158365  \n5441   2.200775e-06  6.427538e-06   2.920579  \n5334   9.978044e-07  6.427538e-06   6.441681  \n5263   9.575942e-07  2.385022e-06   2.490639  \n5144   6.855564e-07  2.142814e-06   3.125657  \n4908   1.345937e-06  4.157701e-06   3.089075  \n4650   4.369830e-12  3.362269e-12   0.769428  \n4617   2.819211e-12  4.766720e-12   1.690799  \n3875   9.910921e-07  1.365996e-06   1.378274  \n3700   9.153247e-07  1.993522e-06   2.177940  \n3628   6.609408e-05  3.829702e-04   5.794319  \n2979   2.259916e-06  1.643537e-06   0.727256  \n2852   9.316090e-15  8.646056e-15   0.928078  \n2832   1.097629e+00  1.098093e+00   1.000422  \n2822   7.037275e-15  1.405909e-14   1.997803  \n2588   1.362839e-06  2.744389e-06   2.013729  \n2326   5.626537e-07  9.393075e-07   1.669424  \n2305   6.538775e-07  9.393075e-07   1.436519  \n1536   3.298019e-12  1.172490e-11   3.555133  \n1494   1.492858e-12  1.525866e-11  10.221109  \n1061   1.564470e-04  4.307208e-04   2.753141  \n855    3.845922e-08  3.038956e-08   0.790176  \n798    3.361695e-07  1.942213e-06   5.777480  ",
      "text/html": "<div>\n<style scoped>\n    .dataframe tbody tr th:only-of-type {\n        vertical-align: middle;\n    }\n\n    .dataframe tbody tr th {\n        vertical-align: top;\n    }\n\n    .dataframe thead th {\n        text-align: right;\n    }\n</style>\n<table border=\"1\" class=\"dataframe\">\n  <thead>\n    <tr style=\"text-align: right;\">\n      <th></th>\n      <th>mint</th>\n      <th>hour</th>\n      <th>price</th>\n      <th>price_24h</th>\n      <th>upside</th>\n    </tr>\n  </thead>\n  <tbody>\n    <tr>\n      <th>15695</th>\n      <td>gxNuJSHRScR7WkzQEYqvxVditaKkcc9V32KXPJLCbcT</td>\n      <td>2023-12-30 04:00:00</td>\n      <td>1.001932e-04</td>\n      <td>1.769616e-04</td>\n      <td>1.766203</td>\n    </tr>\n    <tr>\n      <th>15550</th>\n      <td>gxNuJSHRScR7WkzQEYqvxVditaKkcc9V32KXPJLCbcT</td>\n      <td>2023-12-30 00:00:00</td>\n      <td>1.449023e-05</td>\n      <td>1.837584e-04</td>\n      <td>12.681537</td>\n    </tr>\n    <tr>\n      <th>15354</th>\n      <td>6sWet5H2qNpXnV5CwxSmRThx4z3uVtdjHqRB4VyMkJ8Z</td>\n      <td>2023-12-29 20:00:00</td>\n      <td>4.054676e-07</td>\n      <td>1.697392e-06</td>\n      <td>4.186257</td>\n    </tr>\n    <tr>\n      <th>14634</th>\n      <td>EVoLsbmQXT6R3b11WjPpGEXyCjw1zmmir271XqDbKRsg</td>\n      <td>2023-12-29 01:00:00</td>\n      <td>4.035982e-04</td>\n      <td>9.493233e-04</td>\n      <td>2.352149</td>\n    </tr>\n    <tr>\n      <th>13483</th>\n      <td>DdNYDNeqF9MgLEWMUAqQpYesH7uAaK8biNLaiNvCD2TR</td>\n      <td>2023-12-27 21:00:00</td>\n      <td>2.648762e-06</td>\n      <td>5.828702e-06</td>\n      <td>2.200538</td>\n    </tr>\n    <tr>\n      <th>12698</th>\n      <td>E2WYCGJJtWBodVLy1NKcN8ve4UAtsJJBU2mdErbXxP8h</td>\n      <td>2023-12-27 03:00:00</td>\n      <td>7.308997e-08</td>\n      <td>5.756745e-08</td>\n      <td>0.787625</td>\n    </tr>\n    <tr>\n      <th>12610</th>\n      <td>CUwif1FiX5b3bwwb2n5Bm35AixvnR8LJjGUVmEwNZNgR</td>\n      <td>2023-12-27 01:00:00</td>\n      <td>3.978199e-06</td>\n      <td>8.698667e-06</td>\n      <td>2.186584</td>\n    </tr>\n    <tr>\n      <th>10848</th>\n      <td>GHK2LWebz1uFNSd3FrDrwwJwzs6nDxgmce3bJxMYwoQi</td>\n      <td>2023-12-25 07:00:00</td>\n      <td>1.189862e-05</td>\n      <td>9.624835e-06</td>\n      <td>0.808903</td>\n    </tr>\n    <tr>\n      <th>7826</th>\n      <td>8nTJvVeeQf4n728YWqBF7dX6AoUhqGnxhtuHPQDBEWGJ</td>\n      <td>2023-12-21 13:00:00</td>\n      <td>1.895175e-05</td>\n      <td>1.775148e-05</td>\n      <td>0.936667</td>\n    </tr>\n    <tr>\n      <th>7427</th>\n      <td>6Xemh445fWbG7C8HpHRbfvTwc2nucuCtPq1WEAAbaRtd</td>\n      <td>2023-12-21 05:00:00</td>\n      <td>1.206808e-08</td>\n      <td>6.424759e-07</td>\n      <td>53.237626</td>\n    </tr>\n    <tr>\n      <th>7260</th>\n      <td>GztDUVZbtdWJ6ur9E9STs1SMsHgddUt5q3bGtUboE9sr</td>\n      <td>2023-12-21 01:00:00</td>\n      <td>1.864968e-07</td>\n      <td>1.620347e-06</td>\n      <td>8.688340</td>\n    </tr>\n    <tr>\n      <th>6810</th>\n      <td>9V5otwffY6EYuxKdL17d2zJ6jicDcg66uZwDXgMF2fx9</td>\n      <td>2023-12-20 17:00:00</td>\n      <td>4.249111e-06</td>\n      <td>1.443433e-06</td>\n      <td>0.339702</td>\n    </tr>\n    <tr>\n      <th>6815</th>\n      <td>B9i778H3tmERji9gk84TgKngDopMA4sgTeexS5E5f85h</td>\n      <td>2023-12-20 17:00:00</td>\n      <td>2.018086e-06</td>\n      <td>5.430206e-07</td>\n      <td>0.269077</td>\n    </tr>\n    <tr>\n      <th>6761</th>\n      <td>B9i778H3tmERji9gk84TgKngDopMA4sgTeexS5E5f85h</td>\n      <td>2023-12-20 16:00:00</td>\n      <td>1.233221e-06</td>\n      <td>5.430206e-07</td>\n      <td>0.440327</td>\n    </tr>\n    <tr>\n      <th>6527</th>\n      <td>6sEBEFa4djEbQyYor8DTR4xKP95gks3zZ5HxNzXMnJM2</td>\n      <td>2023-12-20 11:00:00</td>\n      <td>1.922865e-07</td>\n      <td>4.680414e-07</td>\n      <td>2.434083</td>\n    </tr>\n    <tr>\n      <th>6307</th>\n      <td>7dHbWXmci3dT8UFYWYZweBLXgycu7Y3iL6trKn1Y7ARj</td>\n      <td>2023-12-20 06:00:00</td>\n      <td>1.149764e+00</td>\n      <td>1.146148e+00</td>\n      <td>0.996855</td>\n    </tr>\n    <tr>\n      <th>6225</th>\n      <td>F23fFqpRNsmWjuUrFpfM1pvoVvMSpLuN6hY978Y1JXLt</td>\n      <td>2023-12-20 04:00:00</td>\n      <td>9.871192e-08</td>\n      <td>3.261987e-07</td>\n      <td>3.304552</td>\n    </tr>\n    <tr>\n      <th>6115</th>\n      <td>7iT1GRYYhEop2nV1dyCwK2MGyLmPHq47WhPGSwiqcUg5</td>\n      <td>2023-12-20 02:00:00</td>\n      <td>6.077024e-08</td>\n      <td>1.008810e-06</td>\n      <td>16.600387</td>\n    </tr>\n    <tr>\n      <th>6071</th>\n      <td>CAvkAD9yAqfBiXqyrX186qnA6sFvchfCUGaxYF3Hoxbp</td>\n      <td>2023-12-20 01:00:00</td>\n      <td>2.379438e-06</td>\n      <td>1.381280e-06</td>\n      <td>0.580507</td>\n    </tr>\n    <tr>\n      <th>6025</th>\n      <td>9yLRWFwhTi9g9kaXqteTBfneLU2yBL6xYsHjktRVFyrL</td>\n      <td>2023-12-20 00:00:00</td>\n      <td>4.774916e-07</td>\n      <td>3.844946e-06</td>\n      <td>8.052385</td>\n    </tr>\n    <tr>\n      <th>6019</th>\n      <td>8vRnnknwERunJEEDtEFoxzaxbxGnEY61FPbx8uTVKsUD</td>\n      <td>2023-12-20 00:00:00</td>\n      <td>8.244681e-09</td>\n      <td>1.975713e-08</td>\n      <td>2.396348</td>\n    </tr>\n    <tr>\n      <th>5973</th>\n      <td>8vRnnknwERunJEEDtEFoxzaxbxGnEY61FPbx8uTVKsUD</td>\n      <td>2023-12-19 23:00:00</td>\n      <td>2.474521e-08</td>\n      <td>1.975713e-08</td>\n      <td>0.798422</td>\n    </tr>\n    <tr>\n      <th>5888</th>\n      <td>E2ppaAxedkdsHPB4GpB2s6doMG7DWUUXBkH5UwNxvLRR</td>\n      <td>2023-12-19 21:00:00</td>\n      <td>2.230599e-07</td>\n      <td>3.827344e-06</td>\n      <td>17.158365</td>\n    </tr>\n    <tr>\n      <th>5441</th>\n      <td>6fdCC8xfrXNy6PmNaVcxdEY5XNCTAha2V54zYYnmBCey</td>\n      <td>2023-12-19 12:00:00</td>\n      <td>2.200775e-06</td>\n      <td>6.427538e-06</td>\n      <td>2.920579</td>\n    </tr>\n    <tr>\n      <th>5334</th>\n      <td>6fdCC8xfrXNy6PmNaVcxdEY5XNCTAha2V54zYYnmBCey</td>\n      <td>2023-12-19 09:00:00</td>\n      <td>9.978044e-07</td>\n      <td>6.427538e-06</td>\n      <td>6.441681</td>\n    </tr>\n    <tr>\n      <th>5263</th>\n      <td>CsVgb8T3fJoh98ffXiESLRVLtueYnJdC2vccEewuPXZy</td>\n      <td>2023-12-19 07:00:00</td>\n      <td>9.575942e-07</td>\n      <td>2.385022e-06</td>\n      <td>2.490639</td>\n    </tr>\n    <tr>\n      <th>5144</th>\n      <td>CsVgb8T3fJoh98ffXiESLRVLtueYnJdC2vccEewuPXZy</td>\n      <td>2023-12-19 04:00:00</td>\n      <td>6.855564e-07</td>\n      <td>2.142814e-06</td>\n      <td>3.125657</td>\n    </tr>\n    <tr>\n      <th>4908</th>\n      <td>96QoNkZLTKH7Gecf6dKMRXBQXW1wqh378uF9pnTejgAw</td>\n      <td>2023-12-18 22:00:00</td>\n      <td>1.345937e-06</td>\n      <td>4.157701e-06</td>\n      <td>3.089075</td>\n    </tr>\n    <tr>\n      <th>4650</th>\n      <td>CDk4NPvYzfY6xWy6RE2YkBmLwztXvNFEMW1YMaW7gnvM</td>\n      <td>2023-12-18 15:00:00</td>\n      <td>4.369830e-12</td>\n      <td>3.362269e-12</td>\n      <td>0.769428</td>\n    </tr>\n    <tr>\n      <th>4617</th>\n      <td>CDk4NPvYzfY6xWy6RE2YkBmLwztXvNFEMW1YMaW7gnvM</td>\n      <td>2023-12-18 14:00:00</td>\n      <td>2.819211e-12</td>\n      <td>4.766720e-12</td>\n      <td>1.690799</td>\n    </tr>\n    <tr>\n      <th>3875</th>\n      <td>HCrJxauTiVbke6dnNJVVGyzpFDqgPGuan9d3tbR65HJ</td>\n      <td>2023-12-17 14:00:00</td>\n      <td>9.910921e-07</td>\n      <td>1.365996e-06</td>\n      <td>1.378274</td>\n    </tr>\n    <tr>\n      <th>3700</th>\n      <td>FYa25XnBsXQXAdTnsyKBKd5gZ1VZhChBRF57CqfRxJZX</td>\n      <td>2023-12-17 08:00:00</td>\n      <td>9.153247e-07</td>\n      <td>1.993522e-06</td>\n      <td>2.177940</td>\n    </tr>\n    <tr>\n      <th>3628</th>\n      <td>JA5KRHnXv2fuPjQoGwCBw2RXKsbiWMDJ9adPqpZUMDzV</td>\n      <td>2023-12-17 05:00:00</td>\n      <td>6.609408e-05</td>\n      <td>3.829702e-04</td>\n      <td>5.794319</td>\n    </tr>\n    <tr>\n      <th>2979</th>\n      <td>HqLRjru6pD6GFGnQ7TwSSGQRuPhF8UZNey9T4yCsZzuq</td>\n      <td>2023-12-16 06:00:00</td>\n      <td>2.259916e-06</td>\n      <td>1.643537e-06</td>\n      <td>0.727256</td>\n    </tr>\n    <tr>\n      <th>2852</th>\n      <td>GUfVMChbnYKV6RCibVhBsVPfwuUaVnS5XJ13gAkPodoL</td>\n      <td>2023-12-16 02:00:00</td>\n      <td>9.316090e-15</td>\n      <td>8.646056e-15</td>\n      <td>0.928078</td>\n    </tr>\n    <tr>\n      <th>2832</th>\n      <td>bSo13r4TkiE4KumL71LsHTPpL2euBYLFx6h9HP3piy1</td>\n      <td>2023-12-16 01:00:00</td>\n      <td>1.097629e+00</td>\n      <td>1.098093e+00</td>\n      <td>1.000422</td>\n    </tr>\n    <tr>\n      <th>2822</th>\n      <td>GUfVMChbnYKV6RCibVhBsVPfwuUaVnS5XJ13gAkPodoL</td>\n      <td>2023-12-16 01:00:00</td>\n      <td>7.037275e-15</td>\n      <td>1.405909e-14</td>\n      <td>1.997803</td>\n    </tr>\n    <tr>\n      <th>2588</th>\n      <td>29J8aCeJWjD9vSeFPdqAkveqnhNsvah97QsdHxcHyD6X</td>\n      <td>2023-12-15 18:00:00</td>\n      <td>1.362839e-06</td>\n      <td>2.744389e-06</td>\n      <td>2.013729</td>\n    </tr>\n    <tr>\n      <th>2326</th>\n      <td>F47vvwFYuLioQsqEVAjqdY6Yihc8wVRiUcfHGcBR9XUs</td>\n      <td>2023-12-15 08:00:00</td>\n      <td>5.626537e-07</td>\n      <td>9.393075e-07</td>\n      <td>1.669424</td>\n    </tr>\n    <tr>\n      <th>2305</th>\n      <td>F47vvwFYuLioQsqEVAjqdY6Yihc8wVRiUcfHGcBR9XUs</td>\n      <td>2023-12-15 07:00:00</td>\n      <td>6.538775e-07</td>\n      <td>9.393075e-07</td>\n      <td>1.436519</td>\n    </tr>\n    <tr>\n      <th>1536</th>\n      <td>rockaPXZqTqtt9LvznNopikNQn3YSTMwTC4swr7HAiy</td>\n      <td>2023-12-14 00:00:00</td>\n      <td>3.298019e-12</td>\n      <td>1.172490e-11</td>\n      <td>3.555133</td>\n    </tr>\n    <tr>\n      <th>1494</th>\n      <td>rockaPXZqTqtt9LvznNopikNQn3YSTMwTC4swr7HAiy</td>\n      <td>2023-12-13 22:00:00</td>\n      <td>1.492858e-12</td>\n      <td>1.525866e-11</td>\n      <td>10.221109</td>\n    </tr>\n    <tr>\n      <th>1061</th>\n      <td>29REKkAfdkdZEwERmCuNHd2yPi9U1mqy9hafdb8exnsb</td>\n      <td>2023-12-12 23:00:00</td>\n      <td>1.564470e-04</td>\n      <td>4.307208e-04</td>\n      <td>2.753141</td>\n    </tr>\n    <tr>\n      <th>855</th>\n      <td>EVcLppxi4vF3ah3Gc5qppFtmnoSNtAkDRWqJUqvmNJcN</td>\n      <td>2023-12-12 13:00:00</td>\n      <td>3.845922e-08</td>\n      <td>3.038956e-08</td>\n      <td>0.790176</td>\n    </tr>\n    <tr>\n      <th>798</th>\n      <td>G3vWvAaXPHCnncnyAbq6yBRXqfRtEV3h7vExzasZeT6g</td>\n      <td>2023-12-12 10:00:00</td>\n      <td>3.361695e-07</td>\n      <td>1.942213e-06</td>\n      <td>5.777480</td>\n    </tr>\n  </tbody>\n</table>\n</div>"
     },
     "execution_count": 696,
     "metadata": {},
     "output_type": "execute_result"
    }
   ],
   "source": [
    "purchased = results_df[results_df['Predicted']=='up'].sort_values(by=['mint', 'hour'])\n",
    "purchased[['mint', 'hour', 'price', 'price'+prediction_type['suffix'], 'upside']].sort_values(by=['hour'], ascending=False)"
   ],
   "metadata": {
    "collapsed": false,
    "ExecuteTime": {
     "end_time": "2024-01-02T21:41:14.043516Z",
     "start_time": "2024-01-02T21:41:14.033755Z"
    }
   },
   "id": "770de9eb31dcc677"
  },
  {
   "cell_type": "code",
   "execution_count": 693,
   "outputs": [
    {
     "data": {
      "text/plain": "count                                              45\nunique                                             36\ntop       rockaPXZqTqtt9LvznNopikNQn3YSTMwTC4swr7HAiy\nfreq                                                2\nName: mint, dtype: object"
     },
     "execution_count": 693,
     "metadata": {},
     "output_type": "execute_result"
    }
   ],
   "source": [
    "purchased.mint.describe()\n"
   ],
   "metadata": {
    "collapsed": false,
    "ExecuteTime": {
     "end_time": "2024-01-02T21:40:12.756776Z",
     "start_time": "2024-01-02T21:40:12.751784Z"
    }
   },
   "id": "8c7e3d155a4a0fba"
  },
  {
   "cell_type": "code",
   "execution_count": 360,
   "outputs": [
    {
     "data": {
      "text/plain": "count    488.000000\nmean       5.342037\nstd       10.948481\nmin        0.007143\n25%        0.292289\n50%        2.135455\n75%        4.358562\nmax       86.023002\nName: sma_vol_1h, dtype: float64"
     },
     "execution_count": 360,
     "metadata": {},
     "output_type": "execute_result"
    }
   ],
   "source": [
    "results_df[results_df['Predicted']=='up'].sma_vol_1h.describe()\n",
    "# fix it\n"
   ],
   "metadata": {
    "collapsed": false,
    "ExecuteTime": {
     "end_time": "2024-01-02T18:16:15.985857Z",
     "start_time": "2024-01-02T18:16:15.975115Z"
    }
   },
   "id": "f29d45cc497bb320"
  },
  {
   "cell_type": "code",
   "execution_count": 361,
   "outputs": [
    {
     "data": {
      "text/plain": "count    43.000000\nmean      4.515062\nstd      11.375974\nmin       0.025854\n25%       0.408001\n50%       1.589663\n75%       3.144892\nmax      73.194186\nName: sma_vol_1h, dtype: float64"
     },
     "execution_count": 361,
     "metadata": {},
     "output_type": "execute_result"
    }
   ],
   "source": [
    "results_df[(results_df['Actual']=='up') & (results_df['Predicted']=='up')].sma_vol_1h.describe()\n"
   ],
   "metadata": {
    "collapsed": false,
    "ExecuteTime": {
     "end_time": "2024-01-02T18:16:16.821735Z",
     "start_time": "2024-01-02T18:16:16.813043Z"
    }
   },
   "id": "e02e53c3de4562fa"
  },
  {
   "cell_type": "code",
   "execution_count": 362,
   "outputs": [
    {
     "data": {
      "text/plain": "count    1648.000000\nmean        6.710630\nstd        20.849291\nmin         0.007143\n25%         0.178021\n50%         0.860083\n75%         4.247758\nmax       333.278670\nName: sma_vol_1h, dtype: float64"
     },
     "execution_count": 362,
     "metadata": {},
     "output_type": "execute_result"
    }
   ],
   "source": [
    "results_df[results_df['Actual']=='up'].sma_vol_1h.describe()"
   ],
   "metadata": {
    "collapsed": false,
    "ExecuteTime": {
     "end_time": "2024-01-02T18:16:49.654197Z",
     "start_time": "2024-01-02T18:16:49.644034Z"
    }
   },
   "id": "d1c8a735f92634"
  },
  {
   "cell_type": "code",
   "execution_count": 165,
   "outputs": [
    {
     "data": {
      "text/plain": "Predicted\nflat    24975\ndown      265\nup         30\nName: count, dtype: int64"
     },
     "execution_count": 165,
     "metadata": {},
     "output_type": "execute_result"
    }
   ],
   "source": [
    "results_df['Predicted'].value_counts()"
   ],
   "metadata": {
    "collapsed": false,
    "ExecuteTime": {
     "end_time": "2023-12-30T23:25:43.676961Z",
     "start_time": "2023-12-30T23:25:43.659101Z"
    }
   },
   "id": "13102803fac1ca11"
  },
  {
   "cell_type": "code",
   "execution_count": 412,
   "outputs": [
    {
     "data": {
      "text/plain": "mint\nDezXAZ8z7PnrnRJjz3wXBoRgixCa6xjnB7YaB1pPB263    491\nEKpQGSJtjMFqKZ9KQanSqYXRcF8fBopzLHYxdM65zcjm    434\nJ1toso1uCk3RLmjorhTtrVwY9HJ7X8V9yYac6Y7kGCPn    345\nmSoLzYCxHdYgdzU16g5QSh3i5K3z3KZK7ytfqcJm7So     341\nbSo13r4TkiE4KumL71LsHTPpL2euBYLFx6h9HP3piy1     330\n                                               ... \n8Gr67j6ktcJ2hzYpbnQGE5CQta2PK1E3GjgvWvZXKbRU      0\nGCesTN676jxegJmCQXH6jNaadgtUGsbowKmWJP2F79jt      0\nGCkfdzfEgKRV7XTmyjFzif5xE2wTD3fbqu5g1nGy3su8      0\nGDHk3Hb9rgv6XCvUyHz7AGRFSEtrv3NHDuiKrP2MN6GM      0\nA2z4UBnM3qkiFe4qSPhTkoaUPu8Ehe9UdiJ3aUDVovzD      0\nName: count, Length: 2598, dtype: int64"
     },
     "execution_count": 412,
     "metadata": {},
     "output_type": "execute_result"
    }
   ],
   "source": [
    "results_df['mint'].value_counts()"
   ],
   "metadata": {
    "collapsed": false,
    "ExecuteTime": {
     "end_time": "2024-01-02T18:32:18.531208Z",
     "start_time": "2024-01-02T18:32:18.505978Z"
    }
   },
   "id": "498de5f3068d5ac4"
  },
  {
   "cell_type": "code",
   "execution_count": 414,
   "outputs": [
    {
     "data": {
      "text/plain": "      Actual Predicted                                          mint  \\\n18576     up      flat  99fp2z9TANArLJR4hcwx8fJSzjz7GQwUn7huGf32nDdv   \n18647   flat      flat  99fp2z9TANArLJR4hcwx8fJSzjz7GQwUn7huGf32nDdv   \n18725   flat      flat  99fp2z9TANArLJR4hcwx8fJSzjz7GQwUn7huGf32nDdv   \n18800   flat      flat  99fp2z9TANArLJR4hcwx8fJSzjz7GQwUn7huGf32nDdv   \n18876   flat      flat  99fp2z9TANArLJR4hcwx8fJSzjz7GQwUn7huGf32nDdv   \n18952   flat      flat  99fp2z9TANArLJR4hcwx8fJSzjz7GQwUn7huGf32nDdv   \n19018   flat      flat  99fp2z9TANArLJR4hcwx8fJSzjz7GQwUn7huGf32nDdv   \n19078   flat      flat  99fp2z9TANArLJR4hcwx8fJSzjz7GQwUn7huGf32nDdv   \n19144   flat      flat  99fp2z9TANArLJR4hcwx8fJSzjz7GQwUn7huGf32nDdv   \n19326   flat      flat  99fp2z9TANArLJR4hcwx8fJSzjz7GQwUn7huGf32nDdv   \n19431   flat      flat  99fp2z9TANArLJR4hcwx8fJSzjz7GQwUn7huGf32nDdv   \n19539   flat      flat  99fp2z9TANArLJR4hcwx8fJSzjz7GQwUn7huGf32nDdv   \n19663   flat      flat  99fp2z9TANArLJR4hcwx8fJSzjz7GQwUn7huGf32nDdv   \n19740   flat      flat  99fp2z9TANArLJR4hcwx8fJSzjz7GQwUn7huGf32nDdv   \n19874   flat      flat  99fp2z9TANArLJR4hcwx8fJSzjz7GQwUn7huGf32nDdv   \n19934   flat      flat  99fp2z9TANArLJR4hcwx8fJSzjz7GQwUn7huGf32nDdv   \n20000   flat      flat  99fp2z9TANArLJR4hcwx8fJSzjz7GQwUn7huGf32nDdv   \n20068   flat      flat  99fp2z9TANArLJR4hcwx8fJSzjz7GQwUn7huGf32nDdv   \n20176   flat      flat  99fp2z9TANArLJR4hcwx8fJSzjz7GQwUn7huGf32nDdv   \n20240   flat      flat  99fp2z9TANArLJR4hcwx8fJSzjz7GQwUn7huGf32nDdv   \n20403   flat      flat  99fp2z9TANArLJR4hcwx8fJSzjz7GQwUn7huGf32nDdv   \n20643   flat      flat  99fp2z9TANArLJR4hcwx8fJSzjz7GQwUn7huGf32nDdv   \n20748   flat      flat  99fp2z9TANArLJR4hcwx8fJSzjz7GQwUn7huGf32nDdv   \n20900   flat      flat  99fp2z9TANArLJR4hcwx8fJSzjz7GQwUn7huGf32nDdv   \n20959   flat      flat  99fp2z9TANArLJR4hcwx8fJSzjz7GQwUn7huGf32nDdv   \n21227   flat      flat  99fp2z9TANArLJR4hcwx8fJSzjz7GQwUn7huGf32nDdv   \n21288   flat      flat  99fp2z9TANArLJR4hcwx8fJSzjz7GQwUn7huGf32nDdv   \n21351   flat      flat  99fp2z9TANArLJR4hcwx8fJSzjz7GQwUn7huGf32nDdv   \n21492   flat      flat  99fp2z9TANArLJR4hcwx8fJSzjz7GQwUn7huGf32nDdv   \n21630   flat      flat  99fp2z9TANArLJR4hcwx8fJSzjz7GQwUn7huGf32nDdv   \n21682   flat      flat  99fp2z9TANArLJR4hcwx8fJSzjz7GQwUn7huGf32nDdv   \n21736   flat      flat  99fp2z9TANArLJR4hcwx8fJSzjz7GQwUn7huGf32nDdv   \n21789   flat      flat  99fp2z9TANArLJR4hcwx8fJSzjz7GQwUn7huGf32nDdv   \n21847   flat      flat  99fp2z9TANArLJR4hcwx8fJSzjz7GQwUn7huGf32nDdv   \n22007   flat      flat  99fp2z9TANArLJR4hcwx8fJSzjz7GQwUn7huGf32nDdv   \n22225   flat      flat  99fp2z9TANArLJR4hcwx8fJSzjz7GQwUn7huGf32nDdv   \n22570   flat      flat  99fp2z9TANArLJR4hcwx8fJSzjz7GQwUn7huGf32nDdv   \n22702   flat      flat  99fp2z9TANArLJR4hcwx8fJSzjz7GQwUn7huGf32nDdv   \n23012   flat      flat  99fp2z9TANArLJR4hcwx8fJSzjz7GQwUn7huGf32nDdv   \n23240   flat      flat  99fp2z9TANArLJR4hcwx8fJSzjz7GQwUn7huGf32nDdv   \n23282   flat      flat  99fp2z9TANArLJR4hcwx8fJSzjz7GQwUn7huGf32nDdv   \n23407   flat      flat  99fp2z9TANArLJR4hcwx8fJSzjz7GQwUn7huGf32nDdv   \n23456   flat      flat  99fp2z9TANArLJR4hcwx8fJSzjz7GQwUn7huGf32nDdv   \n23646   flat      flat  99fp2z9TANArLJR4hcwx8fJSzjz7GQwUn7huGf32nDdv   \n23896   flat      flat  99fp2z9TANArLJR4hcwx8fJSzjz7GQwUn7huGf32nDdv   \n23969   flat      flat  99fp2z9TANArLJR4hcwx8fJSzjz7GQwUn7huGf32nDdv   \n24414   flat      flat  99fp2z9TANArLJR4hcwx8fJSzjz7GQwUn7huGf32nDdv   \n24475   flat      flat  99fp2z9TANArLJR4hcwx8fJSzjz7GQwUn7huGf32nDdv   \n24532   flat      flat  99fp2z9TANArLJR4hcwx8fJSzjz7GQwUn7huGf32nDdv   \n25045   flat      flat  99fp2z9TANArLJR4hcwx8fJSzjz7GQwUn7huGf32nDdv   \n\n                     hour  trades   token_volume  sol_volume     price  \\\n18576 2023-12-27 21:00:00       2  310973.660216    3.231105  0.000010   \n18647 2023-12-27 22:00:00       4   55121.381882    1.559809  0.000028   \n18725 2023-12-27 23:00:00       2   41787.227666    0.900513  0.000022   \n18800 2023-12-28 00:00:00       4   59749.547101    2.223383  0.000037   \n18876 2023-12-28 01:00:00       3   42250.943520    3.151716  0.000075   \n18952 2023-12-28 02:00:00       5   59627.402609    5.053669  0.000085   \n19018 2023-12-28 03:00:00       2   72433.625519    6.210194  0.000086   \n19078 2023-12-28 04:00:00       3   70318.192675    7.026898  0.000100   \n19144 2023-12-28 05:00:00       6  105692.212029    6.425166  0.000061   \n19326 2023-12-28 08:00:00       2   14313.727769    0.896247  0.000063   \n19431 2023-12-28 10:00:00       1   18514.877798    0.944091  0.000051   \n19539 2023-12-28 12:00:00       1    8044.009686    0.358807  0.000045   \n19663 2023-12-28 14:00:00       1    7799.894785    0.223131  0.000029   \n19740 2023-12-28 15:00:00       1   17788.233984    0.638814  0.000036   \n19874 2023-12-28 17:00:00       1    2450.305006    0.110006  0.000045   \n19934 2023-12-28 18:00:00       1    3426.855251    0.220357  0.000064   \n20000 2023-12-28 19:00:00       1    7282.796578    0.568727  0.000078   \n20068 2023-12-28 20:00:00       1   29397.445581    2.048363  0.000070   \n20176 2023-12-28 22:00:00       1    2225.335452    0.150006  0.000067   \n20240 2023-12-28 23:00:00       1   44103.192957    2.002805  0.000045   \n20403 2023-12-29 02:00:00       1   47365.780478    1.785227  0.000038   \n20643 2023-12-29 07:00:00       3  219759.470979    9.342362  0.000043   \n20748 2023-12-29 09:00:00       1    3504.764667    0.126366  0.000036   \n20900 2023-12-29 12:00:00       1    7370.366539    0.350145  0.000048   \n20959 2023-12-29 13:00:00       2   16954.743679    0.911965  0.000054   \n21227 2023-12-29 17:00:00       4   38753.674955    3.249331  0.000084   \n21288 2023-12-29 18:00:00       1     896.804653    0.100005  0.000112   \n21351 2023-12-29 19:00:00       1    5279.466395    0.487831  0.000092   \n21492 2023-12-29 21:00:00       1    1478.089413    0.160145  0.000108   \n21630 2023-12-29 23:00:00       2   14453.578536    1.093154  0.000076   \n21682 2023-12-30 00:00:00       1   10210.197942    0.646810  0.000063   \n21736 2023-12-30 01:00:00       1    2507.742326    0.178558  0.000071   \n21789 2023-12-30 02:00:00       1    2931.343158    0.250145  0.000085   \n21847 2023-12-30 03:00:00       1    2572.539028    0.211629  0.000082   \n22007 2023-12-30 06:00:00       1   45526.212573    4.000006  0.000088   \n22225 2023-12-30 10:00:00       1    8689.450624    0.850362  0.000098   \n22570 2023-12-30 16:00:00       2    9782.233196    0.813521  0.000083   \n22702 2023-12-30 18:00:00       1   95751.078129   12.319522  0.000129   \n23012 2023-12-30 23:00:00       1    1379.305772    0.200007  0.000145   \n23240 2023-12-31 04:00:00       1   11747.637546    1.279438  0.000109   \n23282 2023-12-31 05:00:00       1    8859.022187    0.943217  0.000106   \n23407 2023-12-31 08:00:00       1   12925.052830    1.251359  0.000097   \n23456 2023-12-31 09:00:00       1    1879.410502    0.182274  0.000097   \n23646 2023-12-31 12:00:00       1    6509.288617    0.614771  0.000094   \n23896 2023-12-31 16:00:00       1   76974.976660    5.823136  0.000076   \n23969 2023-12-31 17:00:00       1    2718.382215    0.250145  0.000092   \n24414 2024-01-01 00:00:00       1    1111.391189    0.104091  0.000094   \n24475 2024-01-01 01:00:00       1   10721.643947    1.000007  0.000093   \n24532 2024-01-01 02:00:00       1   72717.370381    6.147242  0.000085   \n25045 2024-01-01 13:00:00       1   15794.135447    1.500005  0.000095   \n\n      class_24h    sma_1h  ...      rsi_4h    sma_1d    ema_1d      rsi_1d  \\\n18576        up  0.071429  ...  100.000000  0.071429  0.133333  100.000000   \n18647      flat  0.097656  ...  100.000000  0.071429  0.133333  100.000000   \n18725      flat  0.199662  ...  100.000000  0.071429  0.133333  100.000000   \n18800      flat  0.187056  ...  100.000000  0.071429  0.133333  100.000000   \n18876      flat  0.164741  ...  100.000000  0.071429  0.133333  100.000000   \n18952      flat  0.216423  ...  100.000000  0.071429  0.133333  100.000000   \n19018      flat  0.285373  ...  100.000000  0.071429  0.133333  100.000000   \n19078      flat  0.316268  ...  100.000000  0.071429  0.133333  100.000000   \n19144      flat  0.591317  ...   72.987332  0.071429  0.133333  100.000000   \n19326      flat  0.784225  ...   57.246451  0.071429  0.133333  100.000000   \n19431      flat  1.122131  ...   71.512012  0.071429  0.133333  100.000000   \n19539      flat  1.373899  ...   64.365263  0.071429  0.133333  100.000000   \n19663      flat  2.178340  ...   69.365067  0.071429  0.133333  100.000000   \n19740      flat  1.658282  ...   72.076142  0.071429  0.133333  100.000000   \n19874      flat  1.183805  ...   54.660972  0.071429  0.133333  100.000000   \n19934      flat  0.786928  ...   68.206081  0.071429  0.133333  100.000000   \n20000      flat  0.663802  ...   71.967982  0.071429  0.133333  100.000000   \n20068      flat  0.753065  ...   67.620979  0.071429  0.133333  100.000000   \n20176      flat  0.792924  ...   62.270126  0.101414  0.181843  100.000000   \n20240      flat  1.149937  ...   67.397224  0.105325  0.188170  100.000000   \n20403      flat  1.351272  ...   58.998703  0.232050  0.393183   64.296312   \n20643      flat  1.203630  ...   64.775876  0.173571  0.298576   76.882075   \n20748      flat  1.292712  ...   60.799765  0.195473  0.334009   70.216436   \n20900      flat  0.850073  ...   59.917200  0.138494  0.241831  100.000000   \n20959      flat  0.761931  ...   60.291195  0.130663  0.229161  100.000000   \n21227      flat  0.556094  ...   61.970418  0.109675  0.195207  100.000000   \n21288      flat  0.465410  ...   65.462017  0.112617  0.199967  100.000000   \n21351      flat  0.603963  ...   66.167352  0.131795  0.230994  100.000000   \n21492      flat  0.594554  ...   62.403904  0.124215  0.217252  100.000000   \n21630      flat  0.951275  ...   66.037453  0.134669  0.231252  100.000000   \n21682      flat  1.166491  ...   56.357359  0.164589  0.274996  100.000000   \n21736      flat  1.073089  ...   57.721861  0.191816  0.311952   63.234228   \n21789      flat  0.927044  ...   67.767260  0.173920  0.283838   58.447298   \n21847      flat  0.986365  ...   64.170800  0.178597  0.290651   57.557010   \n22007      flat  0.997533  ...   58.987311  0.151491  0.252196   70.602751   \n22225      flat  0.881942  ...   58.561189  0.134963  0.228090   79.062561   \n22570      flat  1.089573  ...   47.655503  0.148472  0.251319  100.000000   \n22702      flat  0.730523  ...   61.017116  0.169035  0.283539  100.000000   \n23012      flat  0.759482  ...   50.637410  0.141669  0.237867  100.000000   \n23240      flat  1.142118  ...   43.398183  0.215640  0.334914   47.824724   \n23282      flat  1.174074  ...   50.190020  0.192688  0.307628   65.152198   \n23407      flat  1.302030  ...   42.205430  0.213810  0.338309   65.971312   \n23456      flat  1.276445  ...   49.751798  0.208808  0.331287   60.792781   \n23646      flat  1.236971  ...   49.217010  0.215105  0.344437   90.520170   \n23896      flat  1.335597  ...   51.700454  0.234646  0.372776   78.675950   \n23969      flat  1.056868  ...   53.911780  0.235915  0.371365   97.838724   \n24414      flat  0.982454  ...   46.428623  0.293343  0.451951   41.383534   \n24475      flat  0.983702  ...   46.125991  0.328911  0.491860   58.933708   \n24532      flat  1.076961  ...   51.741661  0.369513  0.546755   54.353691   \n25045      flat  0.911392  ...   56.741037  0.290064  0.435929   87.805038   \n\n       sma_vol_1h  ema_vol_1h  sma_vol_4h  ema_vol_4h  sma_vol_1d  ema_vol_1d  \n18576    0.230793    0.430814    0.230793    0.430814    0.230793    0.430814  \n18647    0.342208    0.581347    0.342208    0.638788    0.342208    0.638788  \n18725    0.406530    0.623902    0.406530    0.758857    0.406530    0.758857  \n18800    0.565343    0.837166    0.565343    1.055308    0.565343    1.055308  \n18876    0.790466    1.145773    0.790466    1.418095    0.790466    1.475537  \n18952    1.151442    1.666826    1.151442    2.064187    1.151442    2.149359  \n19018    1.595028    2.272608    1.595028    2.876204    1.595028    2.977385  \n19078    2.096949    2.906513    2.096949    3.773597    2.096949    3.914305  \n19144    2.555889    3.375667    2.555889    4.524472    2.555889    4.770994  \n19326    2.619907    2.316934    2.619907    4.246639    2.619907    4.890493  \n19431    2.687342    2.301947    2.687342    4.067896    2.687342    5.016372  \n19539    2.370763    1.492577    2.712971    3.854140    2.712971    5.064213  \n19663    2.163566    1.430682    2.728909    3.603101    2.728909    5.093964  \n19740    1.984073    1.581624    2.774539    3.594930    2.774539    5.179139  \n19874    1.187369    1.447983    2.782396    3.315172    2.782396    5.193806  \n19934    0.701187    1.203141    2.798136    3.251911    2.798136    5.223187  \n20000    0.282870    0.251963    2.838759    3.235484    2.838759    5.299017  \n20068    0.429182    0.491483    2.985071    3.387484    2.985071    5.572132  \n20176    0.375879    0.373041    2.995786    3.187269    2.995786    5.506961  \n20240    0.518936    0.717677    3.138843    3.364243    3.138843    5.757993  \n20403    0.553388    0.603117    3.266359    3.267371    3.266359    5.810623  \n20643    1.151275    1.557041    3.933671    3.978861    3.933671    6.706720  \n20748    1.103938    1.426646    3.942697    3.800980    3.942697    6.707635  \n20900    0.971922    1.035298    3.967707    3.419847    3.967707    6.731159  \n20959    0.894005    0.748727    4.032848    3.462464    4.032848    6.852754  \n21227    0.998583    0.827828    4.264943    3.434046    4.264943    7.268719  \n21288    1.005727    0.730785    4.272086    3.384043    4.272086    7.278136  \n21351    1.040572    0.698391    4.306931    3.260213    4.306931    7.333069  \n21492    0.384699    0.377916    4.318370    3.075904    4.318370    7.268223  \n21630    0.453755    0.427338    4.396452    2.992624    4.396452    7.337798  \n21682    0.499956    0.456601    4.442653    3.014279    4.442653    7.389783  \n21736    0.512710    0.466754    4.455407    3.357380    4.455407    7.365031  \n21789    0.505567    0.513648    4.473275    3.551996    4.473275    7.288782  \n21847    0.455543    0.350378    4.488391    3.532854    4.488391    7.221316  \n22007    0.741258    1.199669    4.431898    4.521806    4.774106    7.547389  \n22225    0.527915    0.517556    3.683404    5.156185    4.834846    7.464083  \n22570    0.419680    0.316953    2.273048    1.966429    4.892955    7.531306  \n22702    1.284529    1.855932    3.085578    3.370991    5.772920    9.109275  \n23012    1.013101    1.001984    3.012668    2.907406    5.787207    8.955500  \n23240    1.043749    0.595802    2.893524    2.799483    5.878595    8.759691  \n23282    1.111122    0.751847    2.960897    2.899459    5.945968    8.799657  \n23407    0.262430    0.352313    2.896507    2.669251    6.035351    8.739485  \n23456    0.275450    0.329641    2.909527    2.654438    6.048370    8.761841  \n23646    0.319362    0.323529    2.825923    3.438887    6.092282    8.805900  \n23896    0.721014    0.941383    2.574550    2.561011    6.508221    9.542295  \n23969    0.738881    1.021781    2.583391    2.665859    6.526088    9.524115  \n24414    0.485153    0.287969    2.500675    2.411824    6.533523    9.118861  \n24475    0.556582    0.465824    2.340009    2.044490    6.604952    9.212970  \n24532    0.951759    1.140430    2.771955    2.746034    7.044041    9.946426  \n25045    0.625096    0.409963    2.662793    2.572041    7.151184    9.596219  \n\n[50 rows x 24 columns]",
      "text/html": "<div>\n<style scoped>\n    .dataframe tbody tr th:only-of-type {\n        vertical-align: middle;\n    }\n\n    .dataframe tbody tr th {\n        vertical-align: top;\n    }\n\n    .dataframe thead th {\n        text-align: right;\n    }\n</style>\n<table border=\"1\" class=\"dataframe\">\n  <thead>\n    <tr style=\"text-align: right;\">\n      <th></th>\n      <th>Actual</th>\n      <th>Predicted</th>\n      <th>mint</th>\n      <th>hour</th>\n      <th>trades</th>\n      <th>token_volume</th>\n      <th>sol_volume</th>\n      <th>price</th>\n      <th>class_24h</th>\n      <th>sma_1h</th>\n      <th>...</th>\n      <th>rsi_4h</th>\n      <th>sma_1d</th>\n      <th>ema_1d</th>\n      <th>rsi_1d</th>\n      <th>sma_vol_1h</th>\n      <th>ema_vol_1h</th>\n      <th>sma_vol_4h</th>\n      <th>ema_vol_4h</th>\n      <th>sma_vol_1d</th>\n      <th>ema_vol_1d</th>\n    </tr>\n  </thead>\n  <tbody>\n    <tr>\n      <th>18576</th>\n      <td>up</td>\n      <td>flat</td>\n      <td>99fp2z9TANArLJR4hcwx8fJSzjz7GQwUn7huGf32nDdv</td>\n      <td>2023-12-27 21:00:00</td>\n      <td>2</td>\n      <td>310973.660216</td>\n      <td>3.231105</td>\n      <td>0.000010</td>\n      <td>up</td>\n      <td>0.071429</td>\n      <td>...</td>\n      <td>100.000000</td>\n      <td>0.071429</td>\n      <td>0.133333</td>\n      <td>100.000000</td>\n      <td>0.230793</td>\n      <td>0.430814</td>\n      <td>0.230793</td>\n      <td>0.430814</td>\n      <td>0.230793</td>\n      <td>0.430814</td>\n    </tr>\n    <tr>\n      <th>18647</th>\n      <td>flat</td>\n      <td>flat</td>\n      <td>99fp2z9TANArLJR4hcwx8fJSzjz7GQwUn7huGf32nDdv</td>\n      <td>2023-12-27 22:00:00</td>\n      <td>4</td>\n      <td>55121.381882</td>\n      <td>1.559809</td>\n      <td>0.000028</td>\n      <td>flat</td>\n      <td>0.097656</td>\n      <td>...</td>\n      <td>100.000000</td>\n      <td>0.071429</td>\n      <td>0.133333</td>\n      <td>100.000000</td>\n      <td>0.342208</td>\n      <td>0.581347</td>\n      <td>0.342208</td>\n      <td>0.638788</td>\n      <td>0.342208</td>\n      <td>0.638788</td>\n    </tr>\n    <tr>\n      <th>18725</th>\n      <td>flat</td>\n      <td>flat</td>\n      <td>99fp2z9TANArLJR4hcwx8fJSzjz7GQwUn7huGf32nDdv</td>\n      <td>2023-12-27 23:00:00</td>\n      <td>2</td>\n      <td>41787.227666</td>\n      <td>0.900513</td>\n      <td>0.000022</td>\n      <td>flat</td>\n      <td>0.199662</td>\n      <td>...</td>\n      <td>100.000000</td>\n      <td>0.071429</td>\n      <td>0.133333</td>\n      <td>100.000000</td>\n      <td>0.406530</td>\n      <td>0.623902</td>\n      <td>0.406530</td>\n      <td>0.758857</td>\n      <td>0.406530</td>\n      <td>0.758857</td>\n    </tr>\n    <tr>\n      <th>18800</th>\n      <td>flat</td>\n      <td>flat</td>\n      <td>99fp2z9TANArLJR4hcwx8fJSzjz7GQwUn7huGf32nDdv</td>\n      <td>2023-12-28 00:00:00</td>\n      <td>4</td>\n      <td>59749.547101</td>\n      <td>2.223383</td>\n      <td>0.000037</td>\n      <td>flat</td>\n      <td>0.187056</td>\n      <td>...</td>\n      <td>100.000000</td>\n      <td>0.071429</td>\n      <td>0.133333</td>\n      <td>100.000000</td>\n      <td>0.565343</td>\n      <td>0.837166</td>\n      <td>0.565343</td>\n      <td>1.055308</td>\n      <td>0.565343</td>\n      <td>1.055308</td>\n    </tr>\n    <tr>\n      <th>18876</th>\n      <td>flat</td>\n      <td>flat</td>\n      <td>99fp2z9TANArLJR4hcwx8fJSzjz7GQwUn7huGf32nDdv</td>\n      <td>2023-12-28 01:00:00</td>\n      <td>3</td>\n      <td>42250.943520</td>\n      <td>3.151716</td>\n      <td>0.000075</td>\n      <td>flat</td>\n      <td>0.164741</td>\n      <td>...</td>\n      <td>100.000000</td>\n      <td>0.071429</td>\n      <td>0.133333</td>\n      <td>100.000000</td>\n      <td>0.790466</td>\n      <td>1.145773</td>\n      <td>0.790466</td>\n      <td>1.418095</td>\n      <td>0.790466</td>\n      <td>1.475537</td>\n    </tr>\n    <tr>\n      <th>18952</th>\n      <td>flat</td>\n      <td>flat</td>\n      <td>99fp2z9TANArLJR4hcwx8fJSzjz7GQwUn7huGf32nDdv</td>\n      <td>2023-12-28 02:00:00</td>\n      <td>5</td>\n      <td>59627.402609</td>\n      <td>5.053669</td>\n      <td>0.000085</td>\n      <td>flat</td>\n      <td>0.216423</td>\n      <td>...</td>\n      <td>100.000000</td>\n      <td>0.071429</td>\n      <td>0.133333</td>\n      <td>100.000000</td>\n      <td>1.151442</td>\n      <td>1.666826</td>\n      <td>1.151442</td>\n      <td>2.064187</td>\n      <td>1.151442</td>\n      <td>2.149359</td>\n    </tr>\n    <tr>\n      <th>19018</th>\n      <td>flat</td>\n      <td>flat</td>\n      <td>99fp2z9TANArLJR4hcwx8fJSzjz7GQwUn7huGf32nDdv</td>\n      <td>2023-12-28 03:00:00</td>\n      <td>2</td>\n      <td>72433.625519</td>\n      <td>6.210194</td>\n      <td>0.000086</td>\n      <td>flat</td>\n      <td>0.285373</td>\n      <td>...</td>\n      <td>100.000000</td>\n      <td>0.071429</td>\n      <td>0.133333</td>\n      <td>100.000000</td>\n      <td>1.595028</td>\n      <td>2.272608</td>\n      <td>1.595028</td>\n      <td>2.876204</td>\n      <td>1.595028</td>\n      <td>2.977385</td>\n    </tr>\n    <tr>\n      <th>19078</th>\n      <td>flat</td>\n      <td>flat</td>\n      <td>99fp2z9TANArLJR4hcwx8fJSzjz7GQwUn7huGf32nDdv</td>\n      <td>2023-12-28 04:00:00</td>\n      <td>3</td>\n      <td>70318.192675</td>\n      <td>7.026898</td>\n      <td>0.000100</td>\n      <td>flat</td>\n      <td>0.316268</td>\n      <td>...</td>\n      <td>100.000000</td>\n      <td>0.071429</td>\n      <td>0.133333</td>\n      <td>100.000000</td>\n      <td>2.096949</td>\n      <td>2.906513</td>\n      <td>2.096949</td>\n      <td>3.773597</td>\n      <td>2.096949</td>\n      <td>3.914305</td>\n    </tr>\n    <tr>\n      <th>19144</th>\n      <td>flat</td>\n      <td>flat</td>\n      <td>99fp2z9TANArLJR4hcwx8fJSzjz7GQwUn7huGf32nDdv</td>\n      <td>2023-12-28 05:00:00</td>\n      <td>6</td>\n      <td>105692.212029</td>\n      <td>6.425166</td>\n      <td>0.000061</td>\n      <td>flat</td>\n      <td>0.591317</td>\n      <td>...</td>\n      <td>72.987332</td>\n      <td>0.071429</td>\n      <td>0.133333</td>\n      <td>100.000000</td>\n      <td>2.555889</td>\n      <td>3.375667</td>\n      <td>2.555889</td>\n      <td>4.524472</td>\n      <td>2.555889</td>\n      <td>4.770994</td>\n    </tr>\n    <tr>\n      <th>19326</th>\n      <td>flat</td>\n      <td>flat</td>\n      <td>99fp2z9TANArLJR4hcwx8fJSzjz7GQwUn7huGf32nDdv</td>\n      <td>2023-12-28 08:00:00</td>\n      <td>2</td>\n      <td>14313.727769</td>\n      <td>0.896247</td>\n      <td>0.000063</td>\n      <td>flat</td>\n      <td>0.784225</td>\n      <td>...</td>\n      <td>57.246451</td>\n      <td>0.071429</td>\n      <td>0.133333</td>\n      <td>100.000000</td>\n      <td>2.619907</td>\n      <td>2.316934</td>\n      <td>2.619907</td>\n      <td>4.246639</td>\n      <td>2.619907</td>\n      <td>4.890493</td>\n    </tr>\n    <tr>\n      <th>19431</th>\n      <td>flat</td>\n      <td>flat</td>\n      <td>99fp2z9TANArLJR4hcwx8fJSzjz7GQwUn7huGf32nDdv</td>\n      <td>2023-12-28 10:00:00</td>\n      <td>1</td>\n      <td>18514.877798</td>\n      <td>0.944091</td>\n      <td>0.000051</td>\n      <td>flat</td>\n      <td>1.122131</td>\n      <td>...</td>\n      <td>71.512012</td>\n      <td>0.071429</td>\n      <td>0.133333</td>\n      <td>100.000000</td>\n      <td>2.687342</td>\n      <td>2.301947</td>\n      <td>2.687342</td>\n      <td>4.067896</td>\n      <td>2.687342</td>\n      <td>5.016372</td>\n    </tr>\n    <tr>\n      <th>19539</th>\n      <td>flat</td>\n      <td>flat</td>\n      <td>99fp2z9TANArLJR4hcwx8fJSzjz7GQwUn7huGf32nDdv</td>\n      <td>2023-12-28 12:00:00</td>\n      <td>1</td>\n      <td>8044.009686</td>\n      <td>0.358807</td>\n      <td>0.000045</td>\n      <td>flat</td>\n      <td>1.373899</td>\n      <td>...</td>\n      <td>64.365263</td>\n      <td>0.071429</td>\n      <td>0.133333</td>\n      <td>100.000000</td>\n      <td>2.370763</td>\n      <td>1.492577</td>\n      <td>2.712971</td>\n      <td>3.854140</td>\n      <td>2.712971</td>\n      <td>5.064213</td>\n    </tr>\n    <tr>\n      <th>19663</th>\n      <td>flat</td>\n      <td>flat</td>\n      <td>99fp2z9TANArLJR4hcwx8fJSzjz7GQwUn7huGf32nDdv</td>\n      <td>2023-12-28 14:00:00</td>\n      <td>1</td>\n      <td>7799.894785</td>\n      <td>0.223131</td>\n      <td>0.000029</td>\n      <td>flat</td>\n      <td>2.178340</td>\n      <td>...</td>\n      <td>69.365067</td>\n      <td>0.071429</td>\n      <td>0.133333</td>\n      <td>100.000000</td>\n      <td>2.163566</td>\n      <td>1.430682</td>\n      <td>2.728909</td>\n      <td>3.603101</td>\n      <td>2.728909</td>\n      <td>5.093964</td>\n    </tr>\n    <tr>\n      <th>19740</th>\n      <td>flat</td>\n      <td>flat</td>\n      <td>99fp2z9TANArLJR4hcwx8fJSzjz7GQwUn7huGf32nDdv</td>\n      <td>2023-12-28 15:00:00</td>\n      <td>1</td>\n      <td>17788.233984</td>\n      <td>0.638814</td>\n      <td>0.000036</td>\n      <td>flat</td>\n      <td>1.658282</td>\n      <td>...</td>\n      <td>72.076142</td>\n      <td>0.071429</td>\n      <td>0.133333</td>\n      <td>100.000000</td>\n      <td>1.984073</td>\n      <td>1.581624</td>\n      <td>2.774539</td>\n      <td>3.594930</td>\n      <td>2.774539</td>\n      <td>5.179139</td>\n    </tr>\n    <tr>\n      <th>19874</th>\n      <td>flat</td>\n      <td>flat</td>\n      <td>99fp2z9TANArLJR4hcwx8fJSzjz7GQwUn7huGf32nDdv</td>\n      <td>2023-12-28 17:00:00</td>\n      <td>1</td>\n      <td>2450.305006</td>\n      <td>0.110006</td>\n      <td>0.000045</td>\n      <td>flat</td>\n      <td>1.183805</td>\n      <td>...</td>\n      <td>54.660972</td>\n      <td>0.071429</td>\n      <td>0.133333</td>\n      <td>100.000000</td>\n      <td>1.187369</td>\n      <td>1.447983</td>\n      <td>2.782396</td>\n      <td>3.315172</td>\n      <td>2.782396</td>\n      <td>5.193806</td>\n    </tr>\n    <tr>\n      <th>19934</th>\n      <td>flat</td>\n      <td>flat</td>\n      <td>99fp2z9TANArLJR4hcwx8fJSzjz7GQwUn7huGf32nDdv</td>\n      <td>2023-12-28 18:00:00</td>\n      <td>1</td>\n      <td>3426.855251</td>\n      <td>0.220357</td>\n      <td>0.000064</td>\n      <td>flat</td>\n      <td>0.786928</td>\n      <td>...</td>\n      <td>68.206081</td>\n      <td>0.071429</td>\n      <td>0.133333</td>\n      <td>100.000000</td>\n      <td>0.701187</td>\n      <td>1.203141</td>\n      <td>2.798136</td>\n      <td>3.251911</td>\n      <td>2.798136</td>\n      <td>5.223187</td>\n    </tr>\n    <tr>\n      <th>20000</th>\n      <td>flat</td>\n      <td>flat</td>\n      <td>99fp2z9TANArLJR4hcwx8fJSzjz7GQwUn7huGf32nDdv</td>\n      <td>2023-12-28 19:00:00</td>\n      <td>1</td>\n      <td>7282.796578</td>\n      <td>0.568727</td>\n      <td>0.000078</td>\n      <td>flat</td>\n      <td>0.663802</td>\n      <td>...</td>\n      <td>71.967982</td>\n      <td>0.071429</td>\n      <td>0.133333</td>\n      <td>100.000000</td>\n      <td>0.282870</td>\n      <td>0.251963</td>\n      <td>2.838759</td>\n      <td>3.235484</td>\n      <td>2.838759</td>\n      <td>5.299017</td>\n    </tr>\n    <tr>\n      <th>20068</th>\n      <td>flat</td>\n      <td>flat</td>\n      <td>99fp2z9TANArLJR4hcwx8fJSzjz7GQwUn7huGf32nDdv</td>\n      <td>2023-12-28 20:00:00</td>\n      <td>1</td>\n      <td>29397.445581</td>\n      <td>2.048363</td>\n      <td>0.000070</td>\n      <td>flat</td>\n      <td>0.753065</td>\n      <td>...</td>\n      <td>67.620979</td>\n      <td>0.071429</td>\n      <td>0.133333</td>\n      <td>100.000000</td>\n      <td>0.429182</td>\n      <td>0.491483</td>\n      <td>2.985071</td>\n      <td>3.387484</td>\n      <td>2.985071</td>\n      <td>5.572132</td>\n    </tr>\n    <tr>\n      <th>20176</th>\n      <td>flat</td>\n      <td>flat</td>\n      <td>99fp2z9TANArLJR4hcwx8fJSzjz7GQwUn7huGf32nDdv</td>\n      <td>2023-12-28 22:00:00</td>\n      <td>1</td>\n      <td>2225.335452</td>\n      <td>0.150006</td>\n      <td>0.000067</td>\n      <td>flat</td>\n      <td>0.792924</td>\n      <td>...</td>\n      <td>62.270126</td>\n      <td>0.101414</td>\n      <td>0.181843</td>\n      <td>100.000000</td>\n      <td>0.375879</td>\n      <td>0.373041</td>\n      <td>2.995786</td>\n      <td>3.187269</td>\n      <td>2.995786</td>\n      <td>5.506961</td>\n    </tr>\n    <tr>\n      <th>20240</th>\n      <td>flat</td>\n      <td>flat</td>\n      <td>99fp2z9TANArLJR4hcwx8fJSzjz7GQwUn7huGf32nDdv</td>\n      <td>2023-12-28 23:00:00</td>\n      <td>1</td>\n      <td>44103.192957</td>\n      <td>2.002805</td>\n      <td>0.000045</td>\n      <td>flat</td>\n      <td>1.149937</td>\n      <td>...</td>\n      <td>67.397224</td>\n      <td>0.105325</td>\n      <td>0.188170</td>\n      <td>100.000000</td>\n      <td>0.518936</td>\n      <td>0.717677</td>\n      <td>3.138843</td>\n      <td>3.364243</td>\n      <td>3.138843</td>\n      <td>5.757993</td>\n    </tr>\n    <tr>\n      <th>20403</th>\n      <td>flat</td>\n      <td>flat</td>\n      <td>99fp2z9TANArLJR4hcwx8fJSzjz7GQwUn7huGf32nDdv</td>\n      <td>2023-12-29 02:00:00</td>\n      <td>1</td>\n      <td>47365.780478</td>\n      <td>1.785227</td>\n      <td>0.000038</td>\n      <td>flat</td>\n      <td>1.351272</td>\n      <td>...</td>\n      <td>58.998703</td>\n      <td>0.232050</td>\n      <td>0.393183</td>\n      <td>64.296312</td>\n      <td>0.553388</td>\n      <td>0.603117</td>\n      <td>3.266359</td>\n      <td>3.267371</td>\n      <td>3.266359</td>\n      <td>5.810623</td>\n    </tr>\n    <tr>\n      <th>20643</th>\n      <td>flat</td>\n      <td>flat</td>\n      <td>99fp2z9TANArLJR4hcwx8fJSzjz7GQwUn7huGf32nDdv</td>\n      <td>2023-12-29 07:00:00</td>\n      <td>3</td>\n      <td>219759.470979</td>\n      <td>9.342362</td>\n      <td>0.000043</td>\n      <td>flat</td>\n      <td>1.203630</td>\n      <td>...</td>\n      <td>64.775876</td>\n      <td>0.173571</td>\n      <td>0.298576</td>\n      <td>76.882075</td>\n      <td>1.151275</td>\n      <td>1.557041</td>\n      <td>3.933671</td>\n      <td>3.978861</td>\n      <td>3.933671</td>\n      <td>6.706720</td>\n    </tr>\n    <tr>\n      <th>20748</th>\n      <td>flat</td>\n      <td>flat</td>\n      <td>99fp2z9TANArLJR4hcwx8fJSzjz7GQwUn7huGf32nDdv</td>\n      <td>2023-12-29 09:00:00</td>\n      <td>1</td>\n      <td>3504.764667</td>\n      <td>0.126366</td>\n      <td>0.000036</td>\n      <td>flat</td>\n      <td>1.292712</td>\n      <td>...</td>\n      <td>60.799765</td>\n      <td>0.195473</td>\n      <td>0.334009</td>\n      <td>70.216436</td>\n      <td>1.103938</td>\n      <td>1.426646</td>\n      <td>3.942697</td>\n      <td>3.800980</td>\n      <td>3.942697</td>\n      <td>6.707635</td>\n    </tr>\n    <tr>\n      <th>20900</th>\n      <td>flat</td>\n      <td>flat</td>\n      <td>99fp2z9TANArLJR4hcwx8fJSzjz7GQwUn7huGf32nDdv</td>\n      <td>2023-12-29 12:00:00</td>\n      <td>1</td>\n      <td>7370.366539</td>\n      <td>0.350145</td>\n      <td>0.000048</td>\n      <td>flat</td>\n      <td>0.850073</td>\n      <td>...</td>\n      <td>59.917200</td>\n      <td>0.138494</td>\n      <td>0.241831</td>\n      <td>100.000000</td>\n      <td>0.971922</td>\n      <td>1.035298</td>\n      <td>3.967707</td>\n      <td>3.419847</td>\n      <td>3.967707</td>\n      <td>6.731159</td>\n    </tr>\n    <tr>\n      <th>20959</th>\n      <td>flat</td>\n      <td>flat</td>\n      <td>99fp2z9TANArLJR4hcwx8fJSzjz7GQwUn7huGf32nDdv</td>\n      <td>2023-12-29 13:00:00</td>\n      <td>2</td>\n      <td>16954.743679</td>\n      <td>0.911965</td>\n      <td>0.000054</td>\n      <td>flat</td>\n      <td>0.761931</td>\n      <td>...</td>\n      <td>60.291195</td>\n      <td>0.130663</td>\n      <td>0.229161</td>\n      <td>100.000000</td>\n      <td>0.894005</td>\n      <td>0.748727</td>\n      <td>4.032848</td>\n      <td>3.462464</td>\n      <td>4.032848</td>\n      <td>6.852754</td>\n    </tr>\n    <tr>\n      <th>21227</th>\n      <td>flat</td>\n      <td>flat</td>\n      <td>99fp2z9TANArLJR4hcwx8fJSzjz7GQwUn7huGf32nDdv</td>\n      <td>2023-12-29 17:00:00</td>\n      <td>4</td>\n      <td>38753.674955</td>\n      <td>3.249331</td>\n      <td>0.000084</td>\n      <td>flat</td>\n      <td>0.556094</td>\n      <td>...</td>\n      <td>61.970418</td>\n      <td>0.109675</td>\n      <td>0.195207</td>\n      <td>100.000000</td>\n      <td>0.998583</td>\n      <td>0.827828</td>\n      <td>4.264943</td>\n      <td>3.434046</td>\n      <td>4.264943</td>\n      <td>7.268719</td>\n    </tr>\n    <tr>\n      <th>21288</th>\n      <td>flat</td>\n      <td>flat</td>\n      <td>99fp2z9TANArLJR4hcwx8fJSzjz7GQwUn7huGf32nDdv</td>\n      <td>2023-12-29 18:00:00</td>\n      <td>1</td>\n      <td>896.804653</td>\n      <td>0.100005</td>\n      <td>0.000112</td>\n      <td>flat</td>\n      <td>0.465410</td>\n      <td>...</td>\n      <td>65.462017</td>\n      <td>0.112617</td>\n      <td>0.199967</td>\n      <td>100.000000</td>\n      <td>1.005727</td>\n      <td>0.730785</td>\n      <td>4.272086</td>\n      <td>3.384043</td>\n      <td>4.272086</td>\n      <td>7.278136</td>\n    </tr>\n    <tr>\n      <th>21351</th>\n      <td>flat</td>\n      <td>flat</td>\n      <td>99fp2z9TANArLJR4hcwx8fJSzjz7GQwUn7huGf32nDdv</td>\n      <td>2023-12-29 19:00:00</td>\n      <td>1</td>\n      <td>5279.466395</td>\n      <td>0.487831</td>\n      <td>0.000092</td>\n      <td>flat</td>\n      <td>0.603963</td>\n      <td>...</td>\n      <td>66.167352</td>\n      <td>0.131795</td>\n      <td>0.230994</td>\n      <td>100.000000</td>\n      <td>1.040572</td>\n      <td>0.698391</td>\n      <td>4.306931</td>\n      <td>3.260213</td>\n      <td>4.306931</td>\n      <td>7.333069</td>\n    </tr>\n    <tr>\n      <th>21492</th>\n      <td>flat</td>\n      <td>flat</td>\n      <td>99fp2z9TANArLJR4hcwx8fJSzjz7GQwUn7huGf32nDdv</td>\n      <td>2023-12-29 21:00:00</td>\n      <td>1</td>\n      <td>1478.089413</td>\n      <td>0.160145</td>\n      <td>0.000108</td>\n      <td>flat</td>\n      <td>0.594554</td>\n      <td>...</td>\n      <td>62.403904</td>\n      <td>0.124215</td>\n      <td>0.217252</td>\n      <td>100.000000</td>\n      <td>0.384699</td>\n      <td>0.377916</td>\n      <td>4.318370</td>\n      <td>3.075904</td>\n      <td>4.318370</td>\n      <td>7.268223</td>\n    </tr>\n    <tr>\n      <th>21630</th>\n      <td>flat</td>\n      <td>flat</td>\n      <td>99fp2z9TANArLJR4hcwx8fJSzjz7GQwUn7huGf32nDdv</td>\n      <td>2023-12-29 23:00:00</td>\n      <td>2</td>\n      <td>14453.578536</td>\n      <td>1.093154</td>\n      <td>0.000076</td>\n      <td>flat</td>\n      <td>0.951275</td>\n      <td>...</td>\n      <td>66.037453</td>\n      <td>0.134669</td>\n      <td>0.231252</td>\n      <td>100.000000</td>\n      <td>0.453755</td>\n      <td>0.427338</td>\n      <td>4.396452</td>\n      <td>2.992624</td>\n      <td>4.396452</td>\n      <td>7.337798</td>\n    </tr>\n    <tr>\n      <th>21682</th>\n      <td>flat</td>\n      <td>flat</td>\n      <td>99fp2z9TANArLJR4hcwx8fJSzjz7GQwUn7huGf32nDdv</td>\n      <td>2023-12-30 00:00:00</td>\n      <td>1</td>\n      <td>10210.197942</td>\n      <td>0.646810</td>\n      <td>0.000063</td>\n      <td>flat</td>\n      <td>1.166491</td>\n      <td>...</td>\n      <td>56.357359</td>\n      <td>0.164589</td>\n      <td>0.274996</td>\n      <td>100.000000</td>\n      <td>0.499956</td>\n      <td>0.456601</td>\n      <td>4.442653</td>\n      <td>3.014279</td>\n      <td>4.442653</td>\n      <td>7.389783</td>\n    </tr>\n    <tr>\n      <th>21736</th>\n      <td>flat</td>\n      <td>flat</td>\n      <td>99fp2z9TANArLJR4hcwx8fJSzjz7GQwUn7huGf32nDdv</td>\n      <td>2023-12-30 01:00:00</td>\n      <td>1</td>\n      <td>2507.742326</td>\n      <td>0.178558</td>\n      <td>0.000071</td>\n      <td>flat</td>\n      <td>1.073089</td>\n      <td>...</td>\n      <td>57.721861</td>\n      <td>0.191816</td>\n      <td>0.311952</td>\n      <td>63.234228</td>\n      <td>0.512710</td>\n      <td>0.466754</td>\n      <td>4.455407</td>\n      <td>3.357380</td>\n      <td>4.455407</td>\n      <td>7.365031</td>\n    </tr>\n    <tr>\n      <th>21789</th>\n      <td>flat</td>\n      <td>flat</td>\n      <td>99fp2z9TANArLJR4hcwx8fJSzjz7GQwUn7huGf32nDdv</td>\n      <td>2023-12-30 02:00:00</td>\n      <td>1</td>\n      <td>2931.343158</td>\n      <td>0.250145</td>\n      <td>0.000085</td>\n      <td>flat</td>\n      <td>0.927044</td>\n      <td>...</td>\n      <td>67.767260</td>\n      <td>0.173920</td>\n      <td>0.283838</td>\n      <td>58.447298</td>\n      <td>0.505567</td>\n      <td>0.513648</td>\n      <td>4.473275</td>\n      <td>3.551996</td>\n      <td>4.473275</td>\n      <td>7.288782</td>\n    </tr>\n    <tr>\n      <th>21847</th>\n      <td>flat</td>\n      <td>flat</td>\n      <td>99fp2z9TANArLJR4hcwx8fJSzjz7GQwUn7huGf32nDdv</td>\n      <td>2023-12-30 03:00:00</td>\n      <td>1</td>\n      <td>2572.539028</td>\n      <td>0.211629</td>\n      <td>0.000082</td>\n      <td>flat</td>\n      <td>0.986365</td>\n      <td>...</td>\n      <td>64.170800</td>\n      <td>0.178597</td>\n      <td>0.290651</td>\n      <td>57.557010</td>\n      <td>0.455543</td>\n      <td>0.350378</td>\n      <td>4.488391</td>\n      <td>3.532854</td>\n      <td>4.488391</td>\n      <td>7.221316</td>\n    </tr>\n    <tr>\n      <th>22007</th>\n      <td>flat</td>\n      <td>flat</td>\n      <td>99fp2z9TANArLJR4hcwx8fJSzjz7GQwUn7huGf32nDdv</td>\n      <td>2023-12-30 06:00:00</td>\n      <td>1</td>\n      <td>45526.212573</td>\n      <td>4.000006</td>\n      <td>0.000088</td>\n      <td>flat</td>\n      <td>0.997533</td>\n      <td>...</td>\n      <td>58.987311</td>\n      <td>0.151491</td>\n      <td>0.252196</td>\n      <td>70.602751</td>\n      <td>0.741258</td>\n      <td>1.199669</td>\n      <td>4.431898</td>\n      <td>4.521806</td>\n      <td>4.774106</td>\n      <td>7.547389</td>\n    </tr>\n    <tr>\n      <th>22225</th>\n      <td>flat</td>\n      <td>flat</td>\n      <td>99fp2z9TANArLJR4hcwx8fJSzjz7GQwUn7huGf32nDdv</td>\n      <td>2023-12-30 10:00:00</td>\n      <td>1</td>\n      <td>8689.450624</td>\n      <td>0.850362</td>\n      <td>0.000098</td>\n      <td>flat</td>\n      <td>0.881942</td>\n      <td>...</td>\n      <td>58.561189</td>\n      <td>0.134963</td>\n      <td>0.228090</td>\n      <td>79.062561</td>\n      <td>0.527915</td>\n      <td>0.517556</td>\n      <td>3.683404</td>\n      <td>5.156185</td>\n      <td>4.834846</td>\n      <td>7.464083</td>\n    </tr>\n    <tr>\n      <th>22570</th>\n      <td>flat</td>\n      <td>flat</td>\n      <td>99fp2z9TANArLJR4hcwx8fJSzjz7GQwUn7huGf32nDdv</td>\n      <td>2023-12-30 16:00:00</td>\n      <td>2</td>\n      <td>9782.233196</td>\n      <td>0.813521</td>\n      <td>0.000083</td>\n      <td>flat</td>\n      <td>1.089573</td>\n      <td>...</td>\n      <td>47.655503</td>\n      <td>0.148472</td>\n      <td>0.251319</td>\n      <td>100.000000</td>\n      <td>0.419680</td>\n      <td>0.316953</td>\n      <td>2.273048</td>\n      <td>1.966429</td>\n      <td>4.892955</td>\n      <td>7.531306</td>\n    </tr>\n    <tr>\n      <th>22702</th>\n      <td>flat</td>\n      <td>flat</td>\n      <td>99fp2z9TANArLJR4hcwx8fJSzjz7GQwUn7huGf32nDdv</td>\n      <td>2023-12-30 18:00:00</td>\n      <td>1</td>\n      <td>95751.078129</td>\n      <td>12.319522</td>\n      <td>0.000129</td>\n      <td>flat</td>\n      <td>0.730523</td>\n      <td>...</td>\n      <td>61.017116</td>\n      <td>0.169035</td>\n      <td>0.283539</td>\n      <td>100.000000</td>\n      <td>1.284529</td>\n      <td>1.855932</td>\n      <td>3.085578</td>\n      <td>3.370991</td>\n      <td>5.772920</td>\n      <td>9.109275</td>\n    </tr>\n    <tr>\n      <th>23012</th>\n      <td>flat</td>\n      <td>flat</td>\n      <td>99fp2z9TANArLJR4hcwx8fJSzjz7GQwUn7huGf32nDdv</td>\n      <td>2023-12-30 23:00:00</td>\n      <td>1</td>\n      <td>1379.305772</td>\n      <td>0.200007</td>\n      <td>0.000145</td>\n      <td>flat</td>\n      <td>0.759482</td>\n      <td>...</td>\n      <td>50.637410</td>\n      <td>0.141669</td>\n      <td>0.237867</td>\n      <td>100.000000</td>\n      <td>1.013101</td>\n      <td>1.001984</td>\n      <td>3.012668</td>\n      <td>2.907406</td>\n      <td>5.787207</td>\n      <td>8.955500</td>\n    </tr>\n    <tr>\n      <th>23240</th>\n      <td>flat</td>\n      <td>flat</td>\n      <td>99fp2z9TANArLJR4hcwx8fJSzjz7GQwUn7huGf32nDdv</td>\n      <td>2023-12-31 04:00:00</td>\n      <td>1</td>\n      <td>11747.637546</td>\n      <td>1.279438</td>\n      <td>0.000109</td>\n      <td>flat</td>\n      <td>1.142118</td>\n      <td>...</td>\n      <td>43.398183</td>\n      <td>0.215640</td>\n      <td>0.334914</td>\n      <td>47.824724</td>\n      <td>1.043749</td>\n      <td>0.595802</td>\n      <td>2.893524</td>\n      <td>2.799483</td>\n      <td>5.878595</td>\n      <td>8.759691</td>\n    </tr>\n    <tr>\n      <th>23282</th>\n      <td>flat</td>\n      <td>flat</td>\n      <td>99fp2z9TANArLJR4hcwx8fJSzjz7GQwUn7huGf32nDdv</td>\n      <td>2023-12-31 05:00:00</td>\n      <td>1</td>\n      <td>8859.022187</td>\n      <td>0.943217</td>\n      <td>0.000106</td>\n      <td>flat</td>\n      <td>1.174074</td>\n      <td>...</td>\n      <td>50.190020</td>\n      <td>0.192688</td>\n      <td>0.307628</td>\n      <td>65.152198</td>\n      <td>1.111122</td>\n      <td>0.751847</td>\n      <td>2.960897</td>\n      <td>2.899459</td>\n      <td>5.945968</td>\n      <td>8.799657</td>\n    </tr>\n    <tr>\n      <th>23407</th>\n      <td>flat</td>\n      <td>flat</td>\n      <td>99fp2z9TANArLJR4hcwx8fJSzjz7GQwUn7huGf32nDdv</td>\n      <td>2023-12-31 08:00:00</td>\n      <td>1</td>\n      <td>12925.052830</td>\n      <td>1.251359</td>\n      <td>0.000097</td>\n      <td>flat</td>\n      <td>1.302030</td>\n      <td>...</td>\n      <td>42.205430</td>\n      <td>0.213810</td>\n      <td>0.338309</td>\n      <td>65.971312</td>\n      <td>0.262430</td>\n      <td>0.352313</td>\n      <td>2.896507</td>\n      <td>2.669251</td>\n      <td>6.035351</td>\n      <td>8.739485</td>\n    </tr>\n    <tr>\n      <th>23456</th>\n      <td>flat</td>\n      <td>flat</td>\n      <td>99fp2z9TANArLJR4hcwx8fJSzjz7GQwUn7huGf32nDdv</td>\n      <td>2023-12-31 09:00:00</td>\n      <td>1</td>\n      <td>1879.410502</td>\n      <td>0.182274</td>\n      <td>0.000097</td>\n      <td>flat</td>\n      <td>1.276445</td>\n      <td>...</td>\n      <td>49.751798</td>\n      <td>0.208808</td>\n      <td>0.331287</td>\n      <td>60.792781</td>\n      <td>0.275450</td>\n      <td>0.329641</td>\n      <td>2.909527</td>\n      <td>2.654438</td>\n      <td>6.048370</td>\n      <td>8.761841</td>\n    </tr>\n    <tr>\n      <th>23646</th>\n      <td>flat</td>\n      <td>flat</td>\n      <td>99fp2z9TANArLJR4hcwx8fJSzjz7GQwUn7huGf32nDdv</td>\n      <td>2023-12-31 12:00:00</td>\n      <td>1</td>\n      <td>6509.288617</td>\n      <td>0.614771</td>\n      <td>0.000094</td>\n      <td>flat</td>\n      <td>1.236971</td>\n      <td>...</td>\n      <td>49.217010</td>\n      <td>0.215105</td>\n      <td>0.344437</td>\n      <td>90.520170</td>\n      <td>0.319362</td>\n      <td>0.323529</td>\n      <td>2.825923</td>\n      <td>3.438887</td>\n      <td>6.092282</td>\n      <td>8.805900</td>\n    </tr>\n    <tr>\n      <th>23896</th>\n      <td>flat</td>\n      <td>flat</td>\n      <td>99fp2z9TANArLJR4hcwx8fJSzjz7GQwUn7huGf32nDdv</td>\n      <td>2023-12-31 16:00:00</td>\n      <td>1</td>\n      <td>76974.976660</td>\n      <td>5.823136</td>\n      <td>0.000076</td>\n      <td>flat</td>\n      <td>1.335597</td>\n      <td>...</td>\n      <td>51.700454</td>\n      <td>0.234646</td>\n      <td>0.372776</td>\n      <td>78.675950</td>\n      <td>0.721014</td>\n      <td>0.941383</td>\n      <td>2.574550</td>\n      <td>2.561011</td>\n      <td>6.508221</td>\n      <td>9.542295</td>\n    </tr>\n    <tr>\n      <th>23969</th>\n      <td>flat</td>\n      <td>flat</td>\n      <td>99fp2z9TANArLJR4hcwx8fJSzjz7GQwUn7huGf32nDdv</td>\n      <td>2023-12-31 17:00:00</td>\n      <td>1</td>\n      <td>2718.382215</td>\n      <td>0.250145</td>\n      <td>0.000092</td>\n      <td>flat</td>\n      <td>1.056868</td>\n      <td>...</td>\n      <td>53.911780</td>\n      <td>0.235915</td>\n      <td>0.371365</td>\n      <td>97.838724</td>\n      <td>0.738881</td>\n      <td>1.021781</td>\n      <td>2.583391</td>\n      <td>2.665859</td>\n      <td>6.526088</td>\n      <td>9.524115</td>\n    </tr>\n    <tr>\n      <th>24414</th>\n      <td>flat</td>\n      <td>flat</td>\n      <td>99fp2z9TANArLJR4hcwx8fJSzjz7GQwUn7huGf32nDdv</td>\n      <td>2024-01-01 00:00:00</td>\n      <td>1</td>\n      <td>1111.391189</td>\n      <td>0.104091</td>\n      <td>0.000094</td>\n      <td>flat</td>\n      <td>0.982454</td>\n      <td>...</td>\n      <td>46.428623</td>\n      <td>0.293343</td>\n      <td>0.451951</td>\n      <td>41.383534</td>\n      <td>0.485153</td>\n      <td>0.287969</td>\n      <td>2.500675</td>\n      <td>2.411824</td>\n      <td>6.533523</td>\n      <td>9.118861</td>\n    </tr>\n    <tr>\n      <th>24475</th>\n      <td>flat</td>\n      <td>flat</td>\n      <td>99fp2z9TANArLJR4hcwx8fJSzjz7GQwUn7huGf32nDdv</td>\n      <td>2024-01-01 01:00:00</td>\n      <td>1</td>\n      <td>10721.643947</td>\n      <td>1.000007</td>\n      <td>0.000093</td>\n      <td>flat</td>\n      <td>0.983702</td>\n      <td>...</td>\n      <td>46.125991</td>\n      <td>0.328911</td>\n      <td>0.491860</td>\n      <td>58.933708</td>\n      <td>0.556582</td>\n      <td>0.465824</td>\n      <td>2.340009</td>\n      <td>2.044490</td>\n      <td>6.604952</td>\n      <td>9.212970</td>\n    </tr>\n    <tr>\n      <th>24532</th>\n      <td>flat</td>\n      <td>flat</td>\n      <td>99fp2z9TANArLJR4hcwx8fJSzjz7GQwUn7huGf32nDdv</td>\n      <td>2024-01-01 02:00:00</td>\n      <td>1</td>\n      <td>72717.370381</td>\n      <td>6.147242</td>\n      <td>0.000085</td>\n      <td>flat</td>\n      <td>1.076961</td>\n      <td>...</td>\n      <td>51.741661</td>\n      <td>0.369513</td>\n      <td>0.546755</td>\n      <td>54.353691</td>\n      <td>0.951759</td>\n      <td>1.140430</td>\n      <td>2.771955</td>\n      <td>2.746034</td>\n      <td>7.044041</td>\n      <td>9.946426</td>\n    </tr>\n    <tr>\n      <th>25045</th>\n      <td>flat</td>\n      <td>flat</td>\n      <td>99fp2z9TANArLJR4hcwx8fJSzjz7GQwUn7huGf32nDdv</td>\n      <td>2024-01-01 13:00:00</td>\n      <td>1</td>\n      <td>15794.135447</td>\n      <td>1.500005</td>\n      <td>0.000095</td>\n      <td>flat</td>\n      <td>0.911392</td>\n      <td>...</td>\n      <td>56.741037</td>\n      <td>0.290064</td>\n      <td>0.435929</td>\n      <td>87.805038</td>\n      <td>0.625096</td>\n      <td>0.409963</td>\n      <td>2.662793</td>\n      <td>2.572041</td>\n      <td>7.151184</td>\n      <td>9.596219</td>\n    </tr>\n  </tbody>\n</table>\n<p>50 rows × 24 columns</p>\n</div>"
     },
     "execution_count": 414,
     "metadata": {},
     "output_type": "execute_result"
    }
   ],
   "source": [
    "# mint 99fp2z9TANArLJR4hcwx8fJSzjz7GQwUn7huGf32nDdv\n",
    "results_df[results_df['mint']=='99fp2z9TANArLJR4hcwx8fJSzjz7GQwUn7huGf32nDdv']"
   ],
   "metadata": {
    "collapsed": false,
    "ExecuteTime": {
     "end_time": "2024-01-02T18:34:12.533582Z",
     "start_time": "2024-01-02T18:34:12.525379Z"
    }
   },
   "id": "85a6209339a06f78"
  },
  {
   "cell_type": "code",
   "execution_count": null,
   "outputs": [],
   "source": [],
   "metadata": {
    "collapsed": false
   },
   "id": "5bbf8e693f460b06"
  }
 ],
 "metadata": {
  "kernelspec": {
   "display_name": "Python 3",
   "language": "python",
   "name": "python3"
  },
  "language_info": {
   "codemirror_mode": {
    "name": "ipython",
    "version": 2
   },
   "file_extension": ".py",
   "mimetype": "text/x-python",
   "name": "python",
   "nbconvert_exporter": "python",
   "pygments_lexer": "ipython2",
   "version": "2.7.6"
  }
 },
 "nbformat": 4,
 "nbformat_minor": 5
}
