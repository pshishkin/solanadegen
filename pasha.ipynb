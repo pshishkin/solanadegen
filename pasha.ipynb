{
 "cells": [
  {
   "cell_type": "code",
   "execution_count": 4,
   "id": "initial_id",
   "metadata": {
    "collapsed": true,
    "ExecuteTime": {
     "end_time": "2023-12-30T20:21:07.050933Z",
     "start_time": "2023-12-30T20:21:06.149439Z"
    }
   },
   "outputs": [
    {
     "data": {
      "text/plain": "                                              signature  \\\n0     34bRjNpjx7rz9LmnpG4NZBfU1SBrssB95UUGk361dfjMVm...   \n1     37gmKXrvPEqGnGxcd2ULnjGAp5sUKZbPUwMNXhKYgMCAt9...   \n2     4t6actgwTfjYmNwTij9ff4Vc4Wtcfkt57mcm2kcHYgSXYB...   \n3     4QLDY8dhu4G5CbivAgG3xcLHwmhEuh76myrpGbLiVdYvYf...   \n4     2DFKVDHpWPM1z87WSNq3kNweG8EYVRA1jkwmkUeyE1jnHw...   \n...                                                 ...   \n9995  MWwRuv2wAE1Z9V4GCFhqaz7cXWQdaxfJM2aHoznZXCjdDs...   \n9996  31phYNF77rHWAokUJGDhuvXHeDNmMQbRhTVh3vmiEUDMUj...   \n9997  65ssZ5P8Cq8RDaCK5Gc9NTjS2V6Hx5QRvxfK8trwy5uM4L...   \n9998  358gBsLb5t1dmvgnFYerqmdm3CB6yuVePZsUPyC3NQJQiW...   \n9999  4bk5kYGCyPUR166JFYha6BG7LSLKbeZQMa8SnboXUouvep...   \n\n                                              mint           timestamp  \\\n0     3NZ9JMVBmGAqocybic2c7LQCJScmgsAZ6vQqTDzcqmJh 2023-11-13 18:10:45   \n1     B1oioV4pzLJD2wSWnnH366ByMtQsitmg7iLgB2m8npnP 2023-11-13 18:15:50   \n2     7mmXL6Et4SbpDs2iXoZQ3oPEeXeAiyETxh1QjDNi5qnV 2023-12-26 16:12:47   \n3     FaDqkweMBzYBfn6qCVvi8xrRAfynQgEif4JToCsRTMn9 2023-11-13 18:15:10   \n4     2x8o3hA5S5fBxCSE9hzVTf3RohcMWHqkDNKNEPuzprD5 2023-11-13 18:12:51   \n...                                            ...                 ...   \n9995   kinXdEcpDQeHPEuQnqmUgtYykqKGVFq6CeVX5iAHJq6 2023-11-09 12:37:50   \n9996   mSoLzYCxHdYgdzU16g5QSh3i5K3z3KZK7ytfqcJm7So 2023-11-09 12:37:22   \n9997  J1toso1uCk3RLmjorhTtrVwY9HJ7X8V9yYac6Y7kGCPn 2023-11-09 12:37:04   \n9998  J1toso1uCk3RLmjorhTtrVwY9HJ7X8V9yYac6Y7kGCPn 2023-11-09 12:37:08   \n9999  DUSTawucrTsGU8hcqRdHDCbuYhCPADMLM2VcCb8VnFnQ 2023-11-09 12:37:44   \n\n      trades  token_volume  usd_volume  sol_volume  sells   token_spent  \\\n0          1      0.001998   72.996627    0.000000      0      0.000000   \n1          1  49307.904983    0.000000    0.699441      1  49307.904983   \n2          1    742.415823    0.000000    0.009952      1    742.415823   \n3          1  28862.324860    0.000000    1.000005      0      0.000000   \n4          1  33889.561393   25.383116    0.000000      0      0.000000   \n...      ...           ...         ...         ...    ...           ...   \n9995       1      2.859790    0.000000    0.000000      0      0.000000   \n9996       1      0.000005    0.000000    0.000000      0      0.000000   \n9997       1      0.018745    0.950558    0.000000      1      0.018745   \n9998       1      8.692175  440.848651    0.000000      0      0.000000   \n9999       1      9.775002    0.000000    0.100005      0      0.000000   \n\n       usd_got   sol_got  purchases     token_got   usd_spent  sol_spent  \\\n0     0.000000  0.000000          1      0.001998   72.996627   0.000000   \n1     0.000000  0.699441          0      0.000000    0.000000   0.000000   \n2     0.000000  0.009952          0      0.000000    0.000000   0.000000   \n3     0.000000  0.000000          1  28862.324860    0.000000   1.000005   \n4     0.000000  0.000000          1  33889.561393   25.383116   0.000000   \n...        ...       ...        ...           ...         ...        ...   \n9995  0.000000  0.000000          1      2.859790    0.000000   0.000000   \n9996  0.000000  0.000000          1      0.000005    0.000000   0.000000   \n9997  0.950558  0.000000          0      0.000000    0.000000   0.000000   \n9998  0.000000  0.000000          1      8.692175  440.848651   0.000000   \n9999  0.000000  0.000000          1      9.775002    0.000000   0.100005   \n\n                    hour  \n0    2023-11-13 18:00:00  \n1    2023-11-13 18:00:00  \n2    2023-12-26 16:00:00  \n3    2023-11-13 18:00:00  \n4    2023-11-13 18:00:00  \n...                  ...  \n9995 2023-11-09 12:00:00  \n9996 2023-11-09 12:00:00  \n9997 2023-11-09 12:00:00  \n9998 2023-11-09 12:00:00  \n9999 2023-11-09 12:00:00  \n\n[10000 rows x 16 columns]",
      "text/html": "<div>\n<style scoped>\n    .dataframe tbody tr th:only-of-type {\n        vertical-align: middle;\n    }\n\n    .dataframe tbody tr th {\n        vertical-align: top;\n    }\n\n    .dataframe thead th {\n        text-align: right;\n    }\n</style>\n<table border=\"1\" class=\"dataframe\">\n  <thead>\n    <tr style=\"text-align: right;\">\n      <th></th>\n      <th>signature</th>\n      <th>mint</th>\n      <th>timestamp</th>\n      <th>trades</th>\n      <th>token_volume</th>\n      <th>usd_volume</th>\n      <th>sol_volume</th>\n      <th>sells</th>\n      <th>token_spent</th>\n      <th>usd_got</th>\n      <th>sol_got</th>\n      <th>purchases</th>\n      <th>token_got</th>\n      <th>usd_spent</th>\n      <th>sol_spent</th>\n      <th>hour</th>\n    </tr>\n  </thead>\n  <tbody>\n    <tr>\n      <th>0</th>\n      <td>34bRjNpjx7rz9LmnpG4NZBfU1SBrssB95UUGk361dfjMVm...</td>\n      <td>3NZ9JMVBmGAqocybic2c7LQCJScmgsAZ6vQqTDzcqmJh</td>\n      <td>2023-11-13 18:10:45</td>\n      <td>1</td>\n      <td>0.001998</td>\n      <td>72.996627</td>\n      <td>0.000000</td>\n      <td>0</td>\n      <td>0.000000</td>\n      <td>0.000000</td>\n      <td>0.000000</td>\n      <td>1</td>\n      <td>0.001998</td>\n      <td>72.996627</td>\n      <td>0.000000</td>\n      <td>2023-11-13 18:00:00</td>\n    </tr>\n    <tr>\n      <th>1</th>\n      <td>37gmKXrvPEqGnGxcd2ULnjGAp5sUKZbPUwMNXhKYgMCAt9...</td>\n      <td>B1oioV4pzLJD2wSWnnH366ByMtQsitmg7iLgB2m8npnP</td>\n      <td>2023-11-13 18:15:50</td>\n      <td>1</td>\n      <td>49307.904983</td>\n      <td>0.000000</td>\n      <td>0.699441</td>\n      <td>1</td>\n      <td>49307.904983</td>\n      <td>0.000000</td>\n      <td>0.699441</td>\n      <td>0</td>\n      <td>0.000000</td>\n      <td>0.000000</td>\n      <td>0.000000</td>\n      <td>2023-11-13 18:00:00</td>\n    </tr>\n    <tr>\n      <th>2</th>\n      <td>4t6actgwTfjYmNwTij9ff4Vc4Wtcfkt57mcm2kcHYgSXYB...</td>\n      <td>7mmXL6Et4SbpDs2iXoZQ3oPEeXeAiyETxh1QjDNi5qnV</td>\n      <td>2023-12-26 16:12:47</td>\n      <td>1</td>\n      <td>742.415823</td>\n      <td>0.000000</td>\n      <td>0.009952</td>\n      <td>1</td>\n      <td>742.415823</td>\n      <td>0.000000</td>\n      <td>0.009952</td>\n      <td>0</td>\n      <td>0.000000</td>\n      <td>0.000000</td>\n      <td>0.000000</td>\n      <td>2023-12-26 16:00:00</td>\n    </tr>\n    <tr>\n      <th>3</th>\n      <td>4QLDY8dhu4G5CbivAgG3xcLHwmhEuh76myrpGbLiVdYvYf...</td>\n      <td>FaDqkweMBzYBfn6qCVvi8xrRAfynQgEif4JToCsRTMn9</td>\n      <td>2023-11-13 18:15:10</td>\n      <td>1</td>\n      <td>28862.324860</td>\n      <td>0.000000</td>\n      <td>1.000005</td>\n      <td>0</td>\n      <td>0.000000</td>\n      <td>0.000000</td>\n      <td>0.000000</td>\n      <td>1</td>\n      <td>28862.324860</td>\n      <td>0.000000</td>\n      <td>1.000005</td>\n      <td>2023-11-13 18:00:00</td>\n    </tr>\n    <tr>\n      <th>4</th>\n      <td>2DFKVDHpWPM1z87WSNq3kNweG8EYVRA1jkwmkUeyE1jnHw...</td>\n      <td>2x8o3hA5S5fBxCSE9hzVTf3RohcMWHqkDNKNEPuzprD5</td>\n      <td>2023-11-13 18:12:51</td>\n      <td>1</td>\n      <td>33889.561393</td>\n      <td>25.383116</td>\n      <td>0.000000</td>\n      <td>0</td>\n      <td>0.000000</td>\n      <td>0.000000</td>\n      <td>0.000000</td>\n      <td>1</td>\n      <td>33889.561393</td>\n      <td>25.383116</td>\n      <td>0.000000</td>\n      <td>2023-11-13 18:00:00</td>\n    </tr>\n    <tr>\n      <th>...</th>\n      <td>...</td>\n      <td>...</td>\n      <td>...</td>\n      <td>...</td>\n      <td>...</td>\n      <td>...</td>\n      <td>...</td>\n      <td>...</td>\n      <td>...</td>\n      <td>...</td>\n      <td>...</td>\n      <td>...</td>\n      <td>...</td>\n      <td>...</td>\n      <td>...</td>\n      <td>...</td>\n    </tr>\n    <tr>\n      <th>9995</th>\n      <td>MWwRuv2wAE1Z9V4GCFhqaz7cXWQdaxfJM2aHoznZXCjdDs...</td>\n      <td>kinXdEcpDQeHPEuQnqmUgtYykqKGVFq6CeVX5iAHJq6</td>\n      <td>2023-11-09 12:37:50</td>\n      <td>1</td>\n      <td>2.859790</td>\n      <td>0.000000</td>\n      <td>0.000000</td>\n      <td>0</td>\n      <td>0.000000</td>\n      <td>0.000000</td>\n      <td>0.000000</td>\n      <td>1</td>\n      <td>2.859790</td>\n      <td>0.000000</td>\n      <td>0.000000</td>\n      <td>2023-11-09 12:00:00</td>\n    </tr>\n    <tr>\n      <th>9996</th>\n      <td>31phYNF77rHWAokUJGDhuvXHeDNmMQbRhTVh3vmiEUDMUj...</td>\n      <td>mSoLzYCxHdYgdzU16g5QSh3i5K3z3KZK7ytfqcJm7So</td>\n      <td>2023-11-09 12:37:22</td>\n      <td>1</td>\n      <td>0.000005</td>\n      <td>0.000000</td>\n      <td>0.000000</td>\n      <td>0</td>\n      <td>0.000000</td>\n      <td>0.000000</td>\n      <td>0.000000</td>\n      <td>1</td>\n      <td>0.000005</td>\n      <td>0.000000</td>\n      <td>0.000000</td>\n      <td>2023-11-09 12:00:00</td>\n    </tr>\n    <tr>\n      <th>9997</th>\n      <td>65ssZ5P8Cq8RDaCK5Gc9NTjS2V6Hx5QRvxfK8trwy5uM4L...</td>\n      <td>J1toso1uCk3RLmjorhTtrVwY9HJ7X8V9yYac6Y7kGCPn</td>\n      <td>2023-11-09 12:37:04</td>\n      <td>1</td>\n      <td>0.018745</td>\n      <td>0.950558</td>\n      <td>0.000000</td>\n      <td>1</td>\n      <td>0.018745</td>\n      <td>0.950558</td>\n      <td>0.000000</td>\n      <td>0</td>\n      <td>0.000000</td>\n      <td>0.000000</td>\n      <td>0.000000</td>\n      <td>2023-11-09 12:00:00</td>\n    </tr>\n    <tr>\n      <th>9998</th>\n      <td>358gBsLb5t1dmvgnFYerqmdm3CB6yuVePZsUPyC3NQJQiW...</td>\n      <td>J1toso1uCk3RLmjorhTtrVwY9HJ7X8V9yYac6Y7kGCPn</td>\n      <td>2023-11-09 12:37:08</td>\n      <td>1</td>\n      <td>8.692175</td>\n      <td>440.848651</td>\n      <td>0.000000</td>\n      <td>0</td>\n      <td>0.000000</td>\n      <td>0.000000</td>\n      <td>0.000000</td>\n      <td>1</td>\n      <td>8.692175</td>\n      <td>440.848651</td>\n      <td>0.000000</td>\n      <td>2023-11-09 12:00:00</td>\n    </tr>\n    <tr>\n      <th>9999</th>\n      <td>4bk5kYGCyPUR166JFYha6BG7LSLKbeZQMa8SnboXUouvep...</td>\n      <td>DUSTawucrTsGU8hcqRdHDCbuYhCPADMLM2VcCb8VnFnQ</td>\n      <td>2023-11-09 12:37:44</td>\n      <td>1</td>\n      <td>9.775002</td>\n      <td>0.000000</td>\n      <td>0.100005</td>\n      <td>0</td>\n      <td>0.000000</td>\n      <td>0.000000</td>\n      <td>0.000000</td>\n      <td>1</td>\n      <td>9.775002</td>\n      <td>0.000000</td>\n      <td>0.100005</td>\n      <td>2023-11-09 12:00:00</td>\n    </tr>\n  </tbody>\n</table>\n<p>10000 rows × 16 columns</p>\n</div>"
     },
     "execution_count": 4,
     "metadata": {},
     "output_type": "execute_result"
    }
   ],
   "source": [
    "import os\n",
    "import psycopg2\n",
    "import pandas as pd\n",
    "from dotenv import load_dotenv\n",
    "\n",
    "load_dotenv()\n",
    "\n",
    "conn = psycopg2.connect(os.getenv('DATABASE_URL'))\n",
    "\n",
    "# Open a cursor to perform database operations\n",
    "cur = conn.cursor()\n",
    "\n",
    "# Execute a query\n",
    "cur.execute(\"SELECT *, date_trunc('hour', timestamp) as hour FROM trades limit 10000\")\n",
    "\n",
    "# Retrieve query results\n",
    "records = cur.fetchall()\n",
    "\n",
    "# Convert to pandas DataFrame\n",
    "df = pd.DataFrame(records, columns=[desc[0] for desc in cur.description])\n",
    "\n",
    "# Close communication with the database\n",
    "cur.close()\n",
    "conn.close()\n",
    "\n",
    "df"
   ]
  },
  {
   "cell_type": "code",
   "execution_count": 5,
   "outputs": [
    {
     "data": {
      "text/plain": "array(['3NZ9JMVBmGAqocybic2c7LQCJScmgsAZ6vQqTDzcqmJh2023-11-13 18:00:00',\n       'B1oioV4pzLJD2wSWnnH366ByMtQsitmg7iLgB2m8npnP2023-11-13 18:00:00',\n       '7mmXL6Et4SbpDs2iXoZQ3oPEeXeAiyETxh1QjDNi5qnV2023-12-26 16:00:00',\n       ...,\n       'MELLd8PyFoeNW3D5VaUe7L96eZeihtrzgLWrbKz5DR22023-11-09 12:00:00',\n       'kinXdEcpDQeHPEuQnqmUgtYykqKGVFq6CeVX5iAHJq62023-11-09 12:00:00',\n       'HxRELUQfvvjToVbacjr9YECdfQMUqGgPYB68jVDYxkbr2023-11-09 12:00:00'],\n      dtype=object)"
     },
     "execution_count": 5,
     "metadata": {},
     "output_type": "execute_result"
    }
   ],
   "source": [
    "# all uniq pairs of mint and hour\n",
    "df['mint_hour'] = df['mint'] + df['hour'].astype(str)\n",
    "df['mint_hour'].unique()"
   ],
   "metadata": {
    "collapsed": false,
    "ExecuteTime": {
     "end_time": "2023-12-30T20:23:40.680050Z",
     "start_time": "2023-12-30T20:23:40.660053Z"
    }
   },
   "id": "52ce501fdc30d10"
  },
  {
   "cell_type": "code",
   "execution_count": null,
   "outputs": [],
   "source": [],
   "metadata": {
    "collapsed": false
   },
   "id": "71fd6326d43d7b41"
  }
 ],
 "metadata": {
  "kernelspec": {
   "display_name": "Python 3",
   "language": "python",
   "name": "python3"
  },
  "language_info": {
   "codemirror_mode": {
    "name": "ipython",
    "version": 2
   },
   "file_extension": ".py",
   "mimetype": "text/x-python",
   "name": "python",
   "nbconvert_exporter": "python",
   "pygments_lexer": "ipython2",
   "version": "2.7.6"
  }
 },
 "nbformat": 4,
 "nbformat_minor": 5
}
