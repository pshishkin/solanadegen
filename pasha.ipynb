{
 "cells": [
  {
   "cell_type": "code",
   "execution_count": 131,
   "id": "initial_id",
   "metadata": {
    "collapsed": true,
    "ExecuteTime": {
     "end_time": "2023-12-30T23:11:53.345046Z",
     "start_time": "2023-12-30T23:11:50.484471Z"
    }
   },
   "outputs": [
    {
     "data": {
      "text/plain": "                                               signature  \\\n0      4fr7yLwgw3e64o6L61fzXdM3AAoTcEPRmYxyGnkM5qifQj...   \n1      2o7SCuQ1jLfXgdfeXtEFMCcevLtrCV8LFmr8eDUc7Ba9Hd...   \n2      3qbiVFNRMkazBjuYpWBH2bsrfeC11pRqBgDPjziPXJW3Lt...   \n3      3Z8tKz3rt6ArmcaCPe6hkRChfocau36BxdxsTPU6t8fKCS...   \n4      2BmSc3VnntFo9WTcBC6JJ2zntYe9HykkMzTm3Xzxhqz2ME...   \n...                                                  ...   \n74187  3KcRvE4ooLjpaDpBT3tEarC4auLkzrueXJrB9vtje9K5fv...   \n74188  29H5ofPh9zapDxY6CHDBaFuCbZGeGEKeXiA71yR8U6JqqB...   \n74189  kryUxDz1v5fvTUN9cbGkNgCaC2pF7eshMYjJRYV4z9Umu1...   \n74190  3C8FgmV6JDEzGUZmyqjj4Jpt3D745kGqb2wuaA9domva4u...   \n74191  5bG3mg5yknaKN1pTCKwaZoX9KZvG33QSHMASmsSe9NK6Ji...   \n\n                                               mint           timestamp  \\\n0      8Uw7NNrhxotkgbtCCJ73iB36rfkyPjir8i9o3LnE1Z94 2023-12-30 23:10:29   \n1      9pPE1q9EW1bMQWbHmffrzUCfRr7S82UoxNUFfA6mAZC6 2023-12-30 23:09:28   \n2      8rgSvnQKQA9LrWBZhvUoSHUPxurf94bpyEgshaQHXRbL 2023-12-30 23:07:04   \n3      2fEE4jwfvpyBaysHTEABFAbzSPzYui2cBCqdRDPFLMRW 2023-12-30 23:06:58   \n4      5z3EqYQo9HiCEs3R84RCDMu2n7anpDMxRhdK8PSWmrRC 2023-12-30 23:06:25   \n...                                             ...                 ...   \n74187  5SD4mnz5kNhnAmVQKKX911XBY6RJcqCD4pkH699bP5U3 2023-11-01 00:50:44   \n74188  DezXAZ8z7PnrnRJjz3wXBoRgixCa6xjnB7YaB1pPB263 2023-11-01 00:35:44   \n74189  D7rcV8SPxbv94s3kJETkrfMrWqHFs6qrmtbiu6saaany 2023-11-01 00:34:37   \n74190  AZsHEMXd36Bj1EMNXhowJajpUXzrKcK57wW4ZGXVa7yR 2023-11-01 00:22:27   \n74191  3J5QaP1zJN9yXE7jr5XJa3Lq2TyGHSHu2wssK7N1Aw4p 2023-11-01 00:14:03   \n\n       trades  token_volume  usd_volume  sol_volume  sells   token_spent  \\\n0           1  6.575187e+07         0.0    0.583539      1  6.575187e+07   \n1           1  1.304326e+05         0.0    0.224610      1  1.304326e+05   \n2           1  4.486367e+04         0.0    0.149351      1  4.486367e+04   \n3           1  2.520646e+04         0.0    2.047057      0  0.000000e+00   \n4           1  4.431296e+04         0.0    4.946584      1  4.431296e+04   \n...       ...           ...         ...         ...    ...           ...   \n74187       1  4.375231e+07         0.0    3.222574      1  4.375231e+07   \n74188       1  1.481887e+07         0.0    0.300505      0  0.000000e+00   \n74189       1  2.500000e+06         0.0    3.241975      1  2.500000e+06   \n74190       1  4.210912e+09         0.0    4.446126      1  4.210912e+09   \n74191       1  1.930000e+08         0.0    2.617965      1  1.930000e+08   \n\n       usd_got   sol_got  purchases     token_got  usd_spent  sol_spent  \\\n0          0.0  0.583539          0  0.000000e+00        0.0   0.000000   \n1          0.0  0.224610          0  0.000000e+00        0.0   0.000000   \n2          0.0  0.149351          0  0.000000e+00        0.0   0.000000   \n3          0.0  0.000000          1  2.520646e+04        0.0   2.047057   \n4          0.0  4.946584          0  0.000000e+00        0.0   0.000000   \n...        ...       ...        ...           ...        ...        ...   \n74187      0.0  3.222574          0  0.000000e+00        0.0   0.000000   \n74188      0.0  0.000000          1  1.481887e+07        0.0   0.300505   \n74189      0.0  3.241975          0  0.000000e+00        0.0   0.000000   \n74190      0.0  4.446126          0  0.000000e+00        0.0   0.000000   \n74191      0.0  2.617965          0  0.000000e+00        0.0   0.000000   \n\n                     hour  \n0     2023-12-30 23:00:00  \n1     2023-12-30 23:00:00  \n2     2023-12-30 23:00:00  \n3     2023-12-30 23:00:00  \n4     2023-12-30 23:00:00  \n...                   ...  \n74187 2023-11-01 00:00:00  \n74188 2023-11-01 00:00:00  \n74189 2023-11-01 00:00:00  \n74190 2023-11-01 00:00:00  \n74191 2023-11-01 00:00:00  \n\n[74192 rows x 16 columns]",
      "text/html": "<div>\n<style scoped>\n    .dataframe tbody tr th:only-of-type {\n        vertical-align: middle;\n    }\n\n    .dataframe tbody tr th {\n        vertical-align: top;\n    }\n\n    .dataframe thead th {\n        text-align: right;\n    }\n</style>\n<table border=\"1\" class=\"dataframe\">\n  <thead>\n    <tr style=\"text-align: right;\">\n      <th></th>\n      <th>signature</th>\n      <th>mint</th>\n      <th>timestamp</th>\n      <th>trades</th>\n      <th>token_volume</th>\n      <th>usd_volume</th>\n      <th>sol_volume</th>\n      <th>sells</th>\n      <th>token_spent</th>\n      <th>usd_got</th>\n      <th>sol_got</th>\n      <th>purchases</th>\n      <th>token_got</th>\n      <th>usd_spent</th>\n      <th>sol_spent</th>\n      <th>hour</th>\n    </tr>\n  </thead>\n  <tbody>\n    <tr>\n      <th>0</th>\n      <td>4fr7yLwgw3e64o6L61fzXdM3AAoTcEPRmYxyGnkM5qifQj...</td>\n      <td>8Uw7NNrhxotkgbtCCJ73iB36rfkyPjir8i9o3LnE1Z94</td>\n      <td>2023-12-30 23:10:29</td>\n      <td>1</td>\n      <td>6.575187e+07</td>\n      <td>0.0</td>\n      <td>0.583539</td>\n      <td>1</td>\n      <td>6.575187e+07</td>\n      <td>0.0</td>\n      <td>0.583539</td>\n      <td>0</td>\n      <td>0.000000e+00</td>\n      <td>0.0</td>\n      <td>0.000000</td>\n      <td>2023-12-30 23:00:00</td>\n    </tr>\n    <tr>\n      <th>1</th>\n      <td>2o7SCuQ1jLfXgdfeXtEFMCcevLtrCV8LFmr8eDUc7Ba9Hd...</td>\n      <td>9pPE1q9EW1bMQWbHmffrzUCfRr7S82UoxNUFfA6mAZC6</td>\n      <td>2023-12-30 23:09:28</td>\n      <td>1</td>\n      <td>1.304326e+05</td>\n      <td>0.0</td>\n      <td>0.224610</td>\n      <td>1</td>\n      <td>1.304326e+05</td>\n      <td>0.0</td>\n      <td>0.224610</td>\n      <td>0</td>\n      <td>0.000000e+00</td>\n      <td>0.0</td>\n      <td>0.000000</td>\n      <td>2023-12-30 23:00:00</td>\n    </tr>\n    <tr>\n      <th>2</th>\n      <td>3qbiVFNRMkazBjuYpWBH2bsrfeC11pRqBgDPjziPXJW3Lt...</td>\n      <td>8rgSvnQKQA9LrWBZhvUoSHUPxurf94bpyEgshaQHXRbL</td>\n      <td>2023-12-30 23:07:04</td>\n      <td>1</td>\n      <td>4.486367e+04</td>\n      <td>0.0</td>\n      <td>0.149351</td>\n      <td>1</td>\n      <td>4.486367e+04</td>\n      <td>0.0</td>\n      <td>0.149351</td>\n      <td>0</td>\n      <td>0.000000e+00</td>\n      <td>0.0</td>\n      <td>0.000000</td>\n      <td>2023-12-30 23:00:00</td>\n    </tr>\n    <tr>\n      <th>3</th>\n      <td>3Z8tKz3rt6ArmcaCPe6hkRChfocau36BxdxsTPU6t8fKCS...</td>\n      <td>2fEE4jwfvpyBaysHTEABFAbzSPzYui2cBCqdRDPFLMRW</td>\n      <td>2023-12-30 23:06:58</td>\n      <td>1</td>\n      <td>2.520646e+04</td>\n      <td>0.0</td>\n      <td>2.047057</td>\n      <td>0</td>\n      <td>0.000000e+00</td>\n      <td>0.0</td>\n      <td>0.000000</td>\n      <td>1</td>\n      <td>2.520646e+04</td>\n      <td>0.0</td>\n      <td>2.047057</td>\n      <td>2023-12-30 23:00:00</td>\n    </tr>\n    <tr>\n      <th>4</th>\n      <td>2BmSc3VnntFo9WTcBC6JJ2zntYe9HykkMzTm3Xzxhqz2ME...</td>\n      <td>5z3EqYQo9HiCEs3R84RCDMu2n7anpDMxRhdK8PSWmrRC</td>\n      <td>2023-12-30 23:06:25</td>\n      <td>1</td>\n      <td>4.431296e+04</td>\n      <td>0.0</td>\n      <td>4.946584</td>\n      <td>1</td>\n      <td>4.431296e+04</td>\n      <td>0.0</td>\n      <td>4.946584</td>\n      <td>0</td>\n      <td>0.000000e+00</td>\n      <td>0.0</td>\n      <td>0.000000</td>\n      <td>2023-12-30 23:00:00</td>\n    </tr>\n    <tr>\n      <th>...</th>\n      <td>...</td>\n      <td>...</td>\n      <td>...</td>\n      <td>...</td>\n      <td>...</td>\n      <td>...</td>\n      <td>...</td>\n      <td>...</td>\n      <td>...</td>\n      <td>...</td>\n      <td>...</td>\n      <td>...</td>\n      <td>...</td>\n      <td>...</td>\n      <td>...</td>\n      <td>...</td>\n    </tr>\n    <tr>\n      <th>74187</th>\n      <td>3KcRvE4ooLjpaDpBT3tEarC4auLkzrueXJrB9vtje9K5fv...</td>\n      <td>5SD4mnz5kNhnAmVQKKX911XBY6RJcqCD4pkH699bP5U3</td>\n      <td>2023-11-01 00:50:44</td>\n      <td>1</td>\n      <td>4.375231e+07</td>\n      <td>0.0</td>\n      <td>3.222574</td>\n      <td>1</td>\n      <td>4.375231e+07</td>\n      <td>0.0</td>\n      <td>3.222574</td>\n      <td>0</td>\n      <td>0.000000e+00</td>\n      <td>0.0</td>\n      <td>0.000000</td>\n      <td>2023-11-01 00:00:00</td>\n    </tr>\n    <tr>\n      <th>74188</th>\n      <td>29H5ofPh9zapDxY6CHDBaFuCbZGeGEKeXiA71yR8U6JqqB...</td>\n      <td>DezXAZ8z7PnrnRJjz3wXBoRgixCa6xjnB7YaB1pPB263</td>\n      <td>2023-11-01 00:35:44</td>\n      <td>1</td>\n      <td>1.481887e+07</td>\n      <td>0.0</td>\n      <td>0.300505</td>\n      <td>0</td>\n      <td>0.000000e+00</td>\n      <td>0.0</td>\n      <td>0.000000</td>\n      <td>1</td>\n      <td>1.481887e+07</td>\n      <td>0.0</td>\n      <td>0.300505</td>\n      <td>2023-11-01 00:00:00</td>\n    </tr>\n    <tr>\n      <th>74189</th>\n      <td>kryUxDz1v5fvTUN9cbGkNgCaC2pF7eshMYjJRYV4z9Umu1...</td>\n      <td>D7rcV8SPxbv94s3kJETkrfMrWqHFs6qrmtbiu6saaany</td>\n      <td>2023-11-01 00:34:37</td>\n      <td>1</td>\n      <td>2.500000e+06</td>\n      <td>0.0</td>\n      <td>3.241975</td>\n      <td>1</td>\n      <td>2.500000e+06</td>\n      <td>0.0</td>\n      <td>3.241975</td>\n      <td>0</td>\n      <td>0.000000e+00</td>\n      <td>0.0</td>\n      <td>0.000000</td>\n      <td>2023-11-01 00:00:00</td>\n    </tr>\n    <tr>\n      <th>74190</th>\n      <td>3C8FgmV6JDEzGUZmyqjj4Jpt3D745kGqb2wuaA9domva4u...</td>\n      <td>AZsHEMXd36Bj1EMNXhowJajpUXzrKcK57wW4ZGXVa7yR</td>\n      <td>2023-11-01 00:22:27</td>\n      <td>1</td>\n      <td>4.210912e+09</td>\n      <td>0.0</td>\n      <td>4.446126</td>\n      <td>1</td>\n      <td>4.210912e+09</td>\n      <td>0.0</td>\n      <td>4.446126</td>\n      <td>0</td>\n      <td>0.000000e+00</td>\n      <td>0.0</td>\n      <td>0.000000</td>\n      <td>2023-11-01 00:00:00</td>\n    </tr>\n    <tr>\n      <th>74191</th>\n      <td>5bG3mg5yknaKN1pTCKwaZoX9KZvG33QSHMASmsSe9NK6Ji...</td>\n      <td>3J5QaP1zJN9yXE7jr5XJa3Lq2TyGHSHu2wssK7N1Aw4p</td>\n      <td>2023-11-01 00:14:03</td>\n      <td>1</td>\n      <td>1.930000e+08</td>\n      <td>0.0</td>\n      <td>2.617965</td>\n      <td>1</td>\n      <td>1.930000e+08</td>\n      <td>0.0</td>\n      <td>2.617965</td>\n      <td>0</td>\n      <td>0.000000e+00</td>\n      <td>0.0</td>\n      <td>0.000000</td>\n      <td>2023-11-01 00:00:00</td>\n    </tr>\n  </tbody>\n</table>\n<p>74192 rows × 16 columns</p>\n</div>"
     },
     "execution_count": 131,
     "metadata": {},
     "output_type": "execute_result"
    }
   ],
   "source": [
    "import os\n",
    "import psycopg2\n",
    "import pandas as pd\n",
    "from dotenv import load_dotenv\n",
    "\n",
    "load_dotenv()\n",
    "\n",
    "conn = psycopg2.connect(os.getenv('DATABASE_URL'))\n",
    "\n",
    "# Open a cursor to perform database operations\n",
    "cur = conn.cursor()\n",
    "\n",
    "# Execute a query\n",
    "cur.execute(\"\"\"\n",
    "SELECT *, date_trunc('hour', timestamp) as hour FROM trades\n",
    "where sol_volume > 0.1\n",
    "order by timestamp desc\n",
    "--limit 50000\n",
    "\"\"\")\n",
    "\n",
    "# Retrieve query results\n",
    "records = cur.fetchall()\n",
    "\n",
    "# Convert to pandas DataFrame\n",
    "df = pd.DataFrame(records, columns=[desc[0] for desc in cur.description])\n",
    "\n",
    "# Close communication with the database\n",
    "cur.close()\n",
    "conn.close()\n",
    "\n",
    "df"
   ]
  },
  {
   "cell_type": "code",
   "execution_count": 132,
   "outputs": [
    {
     "data": {
      "text/plain": "                                               mint                hour\n0      8Uw7NNrhxotkgbtCCJ73iB36rfkyPjir8i9o3LnE1Z94 2023-12-30 23:00:00\n1      9pPE1q9EW1bMQWbHmffrzUCfRr7S82UoxNUFfA6mAZC6 2023-12-30 23:00:00\n2      8rgSvnQKQA9LrWBZhvUoSHUPxurf94bpyEgshaQHXRbL 2023-12-30 23:00:00\n3      2fEE4jwfvpyBaysHTEABFAbzSPzYui2cBCqdRDPFLMRW 2023-12-30 23:00:00\n4      5z3EqYQo9HiCEs3R84RCDMu2n7anpDMxRhdK8PSWmrRC 2023-12-30 23:00:00\n...                                             ...                 ...\n74187  5SD4mnz5kNhnAmVQKKX911XBY6RJcqCD4pkH699bP5U3 2023-11-01 00:00:00\n74188  DezXAZ8z7PnrnRJjz3wXBoRgixCa6xjnB7YaB1pPB263 2023-11-01 00:00:00\n74189  D7rcV8SPxbv94s3kJETkrfMrWqHFs6qrmtbiu6saaany 2023-11-01 00:00:00\n74190  AZsHEMXd36Bj1EMNXhowJajpUXzrKcK57wW4ZGXVa7yR 2023-11-01 00:00:00\n74191  3J5QaP1zJN9yXE7jr5XJa3Lq2TyGHSHu2wssK7N1Aw4p 2023-11-01 00:00:00\n\n[39134 rows x 2 columns]",
      "text/html": "<div>\n<style scoped>\n    .dataframe tbody tr th:only-of-type {\n        vertical-align: middle;\n    }\n\n    .dataframe tbody tr th {\n        vertical-align: top;\n    }\n\n    .dataframe thead th {\n        text-align: right;\n    }\n</style>\n<table border=\"1\" class=\"dataframe\">\n  <thead>\n    <tr style=\"text-align: right;\">\n      <th></th>\n      <th>mint</th>\n      <th>hour</th>\n    </tr>\n  </thead>\n  <tbody>\n    <tr>\n      <th>0</th>\n      <td>8Uw7NNrhxotkgbtCCJ73iB36rfkyPjir8i9o3LnE1Z94</td>\n      <td>2023-12-30 23:00:00</td>\n    </tr>\n    <tr>\n      <th>1</th>\n      <td>9pPE1q9EW1bMQWbHmffrzUCfRr7S82UoxNUFfA6mAZC6</td>\n      <td>2023-12-30 23:00:00</td>\n    </tr>\n    <tr>\n      <th>2</th>\n      <td>8rgSvnQKQA9LrWBZhvUoSHUPxurf94bpyEgshaQHXRbL</td>\n      <td>2023-12-30 23:00:00</td>\n    </tr>\n    <tr>\n      <th>3</th>\n      <td>2fEE4jwfvpyBaysHTEABFAbzSPzYui2cBCqdRDPFLMRW</td>\n      <td>2023-12-30 23:00:00</td>\n    </tr>\n    <tr>\n      <th>4</th>\n      <td>5z3EqYQo9HiCEs3R84RCDMu2n7anpDMxRhdK8PSWmrRC</td>\n      <td>2023-12-30 23:00:00</td>\n    </tr>\n    <tr>\n      <th>...</th>\n      <td>...</td>\n      <td>...</td>\n    </tr>\n    <tr>\n      <th>74187</th>\n      <td>5SD4mnz5kNhnAmVQKKX911XBY6RJcqCD4pkH699bP5U3</td>\n      <td>2023-11-01 00:00:00</td>\n    </tr>\n    <tr>\n      <th>74188</th>\n      <td>DezXAZ8z7PnrnRJjz3wXBoRgixCa6xjnB7YaB1pPB263</td>\n      <td>2023-11-01 00:00:00</td>\n    </tr>\n    <tr>\n      <th>74189</th>\n      <td>D7rcV8SPxbv94s3kJETkrfMrWqHFs6qrmtbiu6saaany</td>\n      <td>2023-11-01 00:00:00</td>\n    </tr>\n    <tr>\n      <th>74190</th>\n      <td>AZsHEMXd36Bj1EMNXhowJajpUXzrKcK57wW4ZGXVa7yR</td>\n      <td>2023-11-01 00:00:00</td>\n    </tr>\n    <tr>\n      <th>74191</th>\n      <td>3J5QaP1zJN9yXE7jr5XJa3Lq2TyGHSHu2wssK7N1Aw4p</td>\n      <td>2023-11-01 00:00:00</td>\n    </tr>\n  </tbody>\n</table>\n<p>39134 rows × 2 columns</p>\n</div>"
     },
     "execution_count": 132,
     "metadata": {},
     "output_type": "execute_result"
    }
   ],
   "source": [
    "# all uniq pairs of mint and hour in separate columns in keys dataframe\n",
    "keys = df[['mint', 'hour']].drop_duplicates()\n",
    "keys"
   ],
   "metadata": {
    "collapsed": false,
    "ExecuteTime": {
     "end_time": "2023-12-30T23:12:14.103117Z",
     "start_time": "2023-12-30T23:12:14.082010Z"
    }
   },
   "id": "52ce501fdc30d10"
  },
  {
   "cell_type": "code",
   "execution_count": 133,
   "outputs": [
    {
     "name": "stdout",
     "output_type": "stream",
     "text": [
      "min date: 2023-11-01 00:14:03, max date: 2023-12-30 23:10:29\n"
     ]
    }
   ],
   "source": [
    "# print min and max dates\n",
    "print(f\"min date: {df['timestamp'].min()}, max date: {df['timestamp'].max()}\")"
   ],
   "metadata": {
    "collapsed": false,
    "ExecuteTime": {
     "end_time": "2023-12-30T23:12:17.593877Z",
     "start_time": "2023-12-30T23:12:17.579258Z"
    }
   },
   "id": "23ae3000191bd2a8"
  },
  {
   "cell_type": "code",
   "execution_count": 134,
   "outputs": [
    {
     "data": {
      "text/plain": "                                               mint                hour  \\\n0      12AjTG16m3oWzjVy2kP2C1bUEzZv8PayQDM9csRR1obM 2023-12-16 10:00:00   \n1      12AjTG16m3oWzjVy2kP2C1bUEzZv8PayQDM9csRR1obM 2023-12-16 12:00:00   \n2      12AjTG16m3oWzjVy2kP2C1bUEzZv8PayQDM9csRR1obM 2023-12-16 14:00:00   \n3      12AjTG16m3oWzjVy2kP2C1bUEzZv8PayQDM9csRR1obM 2023-12-20 04:00:00   \n4      12AjTG16m3oWzjVy2kP2C1bUEzZv8PayQDM9csRR1obM 2023-12-20 05:00:00   \n...                                             ...                 ...   \n39129   zebeczgi5fSEtbpfQKVZKCJ3WgYXxjkMUkNNx7fLKAF 2023-12-27 12:00:00   \n39130   zebeczgi5fSEtbpfQKVZKCJ3WgYXxjkMUkNNx7fLKAF 2023-12-29 12:00:00   \n39131   zf8ThQDYNWJXeQjuNK4bLpRsub8ydYEKXcGQ9wSZ6Fy 2023-12-15 23:00:00   \n39132   zxTtD4MMnEAgHMvXmfgPCyMY61ivxX5zwu12hTSqLoA 2023-12-18 19:00:00   \n39133   zxTtD4MMnEAgHMvXmfgPCyMY61ivxX5zwu12hTSqLoA 2023-12-19 00:00:00   \n\n       trades  token_volume  sol_volume         price  \n0           1  1.295834e+11    0.599024  4.622694e-12  \n1           1  1.663637e+11    0.500006  3.005502e-12  \n2           1  1.344338e+11    0.549258  4.085712e-12  \n3           2  1.746382e+12    2.140559  1.225711e-12  \n4           1  3.011002e+11    0.210124  6.978527e-13  \n...       ...           ...         ...           ...  \n39129       1  1.623808e+03    0.130625  8.044334e-05  \n39130       1  3.000000e+04    2.378402  7.928006e-05  \n39131       1  1.738238e+07    0.242221  1.393488e-08  \n39132       1  1.935591e+06    0.176098  9.097903e-08  \n39133       1  1.732433e+06    0.136599  7.884799e-08  \n\n[39134 rows x 6 columns]",
      "text/html": "<div>\n<style scoped>\n    .dataframe tbody tr th:only-of-type {\n        vertical-align: middle;\n    }\n\n    .dataframe tbody tr th {\n        vertical-align: top;\n    }\n\n    .dataframe thead th {\n        text-align: right;\n    }\n</style>\n<table border=\"1\" class=\"dataframe\">\n  <thead>\n    <tr style=\"text-align: right;\">\n      <th></th>\n      <th>mint</th>\n      <th>hour</th>\n      <th>trades</th>\n      <th>token_volume</th>\n      <th>sol_volume</th>\n      <th>price</th>\n    </tr>\n  </thead>\n  <tbody>\n    <tr>\n      <th>0</th>\n      <td>12AjTG16m3oWzjVy2kP2C1bUEzZv8PayQDM9csRR1obM</td>\n      <td>2023-12-16 10:00:00</td>\n      <td>1</td>\n      <td>1.295834e+11</td>\n      <td>0.599024</td>\n      <td>4.622694e-12</td>\n    </tr>\n    <tr>\n      <th>1</th>\n      <td>12AjTG16m3oWzjVy2kP2C1bUEzZv8PayQDM9csRR1obM</td>\n      <td>2023-12-16 12:00:00</td>\n      <td>1</td>\n      <td>1.663637e+11</td>\n      <td>0.500006</td>\n      <td>3.005502e-12</td>\n    </tr>\n    <tr>\n      <th>2</th>\n      <td>12AjTG16m3oWzjVy2kP2C1bUEzZv8PayQDM9csRR1obM</td>\n      <td>2023-12-16 14:00:00</td>\n      <td>1</td>\n      <td>1.344338e+11</td>\n      <td>0.549258</td>\n      <td>4.085712e-12</td>\n    </tr>\n    <tr>\n      <th>3</th>\n      <td>12AjTG16m3oWzjVy2kP2C1bUEzZv8PayQDM9csRR1obM</td>\n      <td>2023-12-20 04:00:00</td>\n      <td>2</td>\n      <td>1.746382e+12</td>\n      <td>2.140559</td>\n      <td>1.225711e-12</td>\n    </tr>\n    <tr>\n      <th>4</th>\n      <td>12AjTG16m3oWzjVy2kP2C1bUEzZv8PayQDM9csRR1obM</td>\n      <td>2023-12-20 05:00:00</td>\n      <td>1</td>\n      <td>3.011002e+11</td>\n      <td>0.210124</td>\n      <td>6.978527e-13</td>\n    </tr>\n    <tr>\n      <th>...</th>\n      <td>...</td>\n      <td>...</td>\n      <td>...</td>\n      <td>...</td>\n      <td>...</td>\n      <td>...</td>\n    </tr>\n    <tr>\n      <th>39129</th>\n      <td>zebeczgi5fSEtbpfQKVZKCJ3WgYXxjkMUkNNx7fLKAF</td>\n      <td>2023-12-27 12:00:00</td>\n      <td>1</td>\n      <td>1.623808e+03</td>\n      <td>0.130625</td>\n      <td>8.044334e-05</td>\n    </tr>\n    <tr>\n      <th>39130</th>\n      <td>zebeczgi5fSEtbpfQKVZKCJ3WgYXxjkMUkNNx7fLKAF</td>\n      <td>2023-12-29 12:00:00</td>\n      <td>1</td>\n      <td>3.000000e+04</td>\n      <td>2.378402</td>\n      <td>7.928006e-05</td>\n    </tr>\n    <tr>\n      <th>39131</th>\n      <td>zf8ThQDYNWJXeQjuNK4bLpRsub8ydYEKXcGQ9wSZ6Fy</td>\n      <td>2023-12-15 23:00:00</td>\n      <td>1</td>\n      <td>1.738238e+07</td>\n      <td>0.242221</td>\n      <td>1.393488e-08</td>\n    </tr>\n    <tr>\n      <th>39132</th>\n      <td>zxTtD4MMnEAgHMvXmfgPCyMY61ivxX5zwu12hTSqLoA</td>\n      <td>2023-12-18 19:00:00</td>\n      <td>1</td>\n      <td>1.935591e+06</td>\n      <td>0.176098</td>\n      <td>9.097903e-08</td>\n    </tr>\n    <tr>\n      <th>39133</th>\n      <td>zxTtD4MMnEAgHMvXmfgPCyMY61ivxX5zwu12hTSqLoA</td>\n      <td>2023-12-19 00:00:00</td>\n      <td>1</td>\n      <td>1.732433e+06</td>\n      <td>0.136599</td>\n      <td>7.884799e-08</td>\n    </tr>\n  </tbody>\n</table>\n<p>39134 rows × 6 columns</p>\n</div>"
     },
     "execution_count": 134,
     "metadata": {},
     "output_type": "execute_result"
    }
   ],
   "source": [
    "pre_prices = df[['mint', 'hour', 'trades', 'token_volume', 'sol_volume']]\n",
    "\n",
    "# dataframe prices show price of each mint at each hour\n",
    "# it's calculated as sum of token_volume divided by sum of sol_volume for each mint at each hour\n",
    "prices = pre_prices.groupby(['mint', 'hour']).sum().reset_index()\n",
    "prices['price'] = prices['sol_volume'] / prices['token_volume']\n",
    "prices"
   ],
   "metadata": {
    "collapsed": false,
    "ExecuteTime": {
     "end_time": "2023-12-30T23:12:19.976075Z",
     "start_time": "2023-12-30T23:12:19.946588Z"
    }
   },
   "id": "71fd6326d43d7b41"
  },
  {
   "cell_type": "code",
   "execution_count": 135,
   "outputs": [],
   "source": [
    "from datetime import timedelta\n",
    "\n",
    "prediction_types = [\n",
    "    {'suffix': '_2h', 'delta': timedelta(hours=2)},\n",
    "    {'suffix': '_24h', 'delta': timedelta(hours=24)},\n",
    "    {'suffix': '_7d', 'delta': timedelta(days=7)},\n",
    "]\n",
    "\n",
    "for prediction in prediction_types:\n",
    "    # list of -1s with length of prices\n",
    "    prices['price' + prediction['suffix']] = [-1.] * len(prices)\n",
    "\n",
    "prices_map = {}\n",
    "for index, row in prices.iterrows():\n",
    "    mint = row['mint']\n",
    "    hour = row['hour']\n",
    "    prices_map[(mint, hour)] = row['price']\n",
    "\n",
    "max_hour = prices['hour'].max()\n",
    "# iterate over mint and hour pairs\n",
    "for index, row in prices.iterrows():\n",
    "    # get mint and hour from row\n",
    "    mint = row['mint']\n",
    "    hour = row['hour']\n",
    "    for p in prediction_types:\n",
    "        prediction_hour = hour + p['delta']\n",
    "        # if there's no data for prediction_hour, skip\n",
    "        if prediction_hour > max_hour:\n",
    "            continue\n",
    "        while prediction_hour >= hour:\n",
    "            future_price = prices_map.get((mint, prediction_hour), -1)\n",
    "            if future_price != -1:\n",
    "                prices.loc[index, 'price' + p['suffix']] = future_price\n",
    "                break\n",
    "            prediction_hour -= timedelta(hours=1)\n",
    "            \n"
   ],
   "metadata": {
    "collapsed": false,
    "ExecuteTime": {
     "end_time": "2023-12-30T23:12:30.829306Z",
     "start_time": "2023-12-30T23:12:21.590293Z"
    }
   },
   "id": "24578e6cbae9f792"
  },
  {
   "cell_type": "code",
   "execution_count": 136,
   "outputs": [
    {
     "data": {
      "text/plain": "                                               mint                hour  \\\n0      12AjTG16m3oWzjVy2kP2C1bUEzZv8PayQDM9csRR1obM 2023-12-16 10:00:00   \n1      12AjTG16m3oWzjVy2kP2C1bUEzZv8PayQDM9csRR1obM 2023-12-16 12:00:00   \n2      12AjTG16m3oWzjVy2kP2C1bUEzZv8PayQDM9csRR1obM 2023-12-16 14:00:00   \n3      12AjTG16m3oWzjVy2kP2C1bUEzZv8PayQDM9csRR1obM 2023-12-20 04:00:00   \n4      12AjTG16m3oWzjVy2kP2C1bUEzZv8PayQDM9csRR1obM 2023-12-20 05:00:00   \n...                                             ...                 ...   \n39129   zebeczgi5fSEtbpfQKVZKCJ3WgYXxjkMUkNNx7fLKAF 2023-12-27 12:00:00   \n39130   zebeczgi5fSEtbpfQKVZKCJ3WgYXxjkMUkNNx7fLKAF 2023-12-29 12:00:00   \n39131   zf8ThQDYNWJXeQjuNK4bLpRsub8ydYEKXcGQ9wSZ6Fy 2023-12-15 23:00:00   \n39132   zxTtD4MMnEAgHMvXmfgPCyMY61ivxX5zwu12hTSqLoA 2023-12-18 19:00:00   \n39133   zxTtD4MMnEAgHMvXmfgPCyMY61ivxX5zwu12hTSqLoA 2023-12-19 00:00:00   \n\n       trades  token_volume  sol_volume         price      price_2h  \\\n0           1  1.295834e+11    0.599024  4.622694e-12  3.005502e-12   \n1           1  1.663637e+11    0.500006  3.005502e-12  4.085712e-12   \n2           1  1.344338e+11    0.549258  4.085712e-12  4.085712e-12   \n3           2  1.746382e+12    2.140559  1.225711e-12  4.953954e-12   \n4           1  3.011002e+11    0.210124  6.978527e-13  3.400636e-12   \n...       ...           ...         ...           ...           ...   \n39129       1  1.623808e+03    0.130625  8.044334e-05  8.044334e-05   \n39130       1  3.000000e+04    2.378402  7.928006e-05  7.928006e-05   \n39131       1  1.738238e+07    0.242221  1.393488e-08  1.393488e-08   \n39132       1  1.935591e+06    0.176098  9.097903e-08  9.097903e-08   \n39133       1  1.732433e+06    0.136599  7.884799e-08  7.884799e-08   \n\n          price_24h      price_7d  \n0      4.085712e-12  4.571769e-12  \n1      4.085712e-12  3.556662e-12  \n2      4.085712e-12  3.556662e-12  \n3      2.555918e-12  5.370183e-12  \n4      2.555918e-12  5.370183e-12  \n...             ...           ...  \n39129  8.044334e-05 -1.000000e+00  \n39130  7.928006e-05 -1.000000e+00  \n39131  1.393488e-08  1.393488e-08  \n39132  7.884799e-08  7.884799e-08  \n39133  7.884799e-08  7.884799e-08  \n\n[39134 rows x 9 columns]",
      "text/html": "<div>\n<style scoped>\n    .dataframe tbody tr th:only-of-type {\n        vertical-align: middle;\n    }\n\n    .dataframe tbody tr th {\n        vertical-align: top;\n    }\n\n    .dataframe thead th {\n        text-align: right;\n    }\n</style>\n<table border=\"1\" class=\"dataframe\">\n  <thead>\n    <tr style=\"text-align: right;\">\n      <th></th>\n      <th>mint</th>\n      <th>hour</th>\n      <th>trades</th>\n      <th>token_volume</th>\n      <th>sol_volume</th>\n      <th>price</th>\n      <th>price_2h</th>\n      <th>price_24h</th>\n      <th>price_7d</th>\n    </tr>\n  </thead>\n  <tbody>\n    <tr>\n      <th>0</th>\n      <td>12AjTG16m3oWzjVy2kP2C1bUEzZv8PayQDM9csRR1obM</td>\n      <td>2023-12-16 10:00:00</td>\n      <td>1</td>\n      <td>1.295834e+11</td>\n      <td>0.599024</td>\n      <td>4.622694e-12</td>\n      <td>3.005502e-12</td>\n      <td>4.085712e-12</td>\n      <td>4.571769e-12</td>\n    </tr>\n    <tr>\n      <th>1</th>\n      <td>12AjTG16m3oWzjVy2kP2C1bUEzZv8PayQDM9csRR1obM</td>\n      <td>2023-12-16 12:00:00</td>\n      <td>1</td>\n      <td>1.663637e+11</td>\n      <td>0.500006</td>\n      <td>3.005502e-12</td>\n      <td>4.085712e-12</td>\n      <td>4.085712e-12</td>\n      <td>3.556662e-12</td>\n    </tr>\n    <tr>\n      <th>2</th>\n      <td>12AjTG16m3oWzjVy2kP2C1bUEzZv8PayQDM9csRR1obM</td>\n      <td>2023-12-16 14:00:00</td>\n      <td>1</td>\n      <td>1.344338e+11</td>\n      <td>0.549258</td>\n      <td>4.085712e-12</td>\n      <td>4.085712e-12</td>\n      <td>4.085712e-12</td>\n      <td>3.556662e-12</td>\n    </tr>\n    <tr>\n      <th>3</th>\n      <td>12AjTG16m3oWzjVy2kP2C1bUEzZv8PayQDM9csRR1obM</td>\n      <td>2023-12-20 04:00:00</td>\n      <td>2</td>\n      <td>1.746382e+12</td>\n      <td>2.140559</td>\n      <td>1.225711e-12</td>\n      <td>4.953954e-12</td>\n      <td>2.555918e-12</td>\n      <td>5.370183e-12</td>\n    </tr>\n    <tr>\n      <th>4</th>\n      <td>12AjTG16m3oWzjVy2kP2C1bUEzZv8PayQDM9csRR1obM</td>\n      <td>2023-12-20 05:00:00</td>\n      <td>1</td>\n      <td>3.011002e+11</td>\n      <td>0.210124</td>\n      <td>6.978527e-13</td>\n      <td>3.400636e-12</td>\n      <td>2.555918e-12</td>\n      <td>5.370183e-12</td>\n    </tr>\n    <tr>\n      <th>...</th>\n      <td>...</td>\n      <td>...</td>\n      <td>...</td>\n      <td>...</td>\n      <td>...</td>\n      <td>...</td>\n      <td>...</td>\n      <td>...</td>\n      <td>...</td>\n    </tr>\n    <tr>\n      <th>39129</th>\n      <td>zebeczgi5fSEtbpfQKVZKCJ3WgYXxjkMUkNNx7fLKAF</td>\n      <td>2023-12-27 12:00:00</td>\n      <td>1</td>\n      <td>1.623808e+03</td>\n      <td>0.130625</td>\n      <td>8.044334e-05</td>\n      <td>8.044334e-05</td>\n      <td>8.044334e-05</td>\n      <td>-1.000000e+00</td>\n    </tr>\n    <tr>\n      <th>39130</th>\n      <td>zebeczgi5fSEtbpfQKVZKCJ3WgYXxjkMUkNNx7fLKAF</td>\n      <td>2023-12-29 12:00:00</td>\n      <td>1</td>\n      <td>3.000000e+04</td>\n      <td>2.378402</td>\n      <td>7.928006e-05</td>\n      <td>7.928006e-05</td>\n      <td>7.928006e-05</td>\n      <td>-1.000000e+00</td>\n    </tr>\n    <tr>\n      <th>39131</th>\n      <td>zf8ThQDYNWJXeQjuNK4bLpRsub8ydYEKXcGQ9wSZ6Fy</td>\n      <td>2023-12-15 23:00:00</td>\n      <td>1</td>\n      <td>1.738238e+07</td>\n      <td>0.242221</td>\n      <td>1.393488e-08</td>\n      <td>1.393488e-08</td>\n      <td>1.393488e-08</td>\n      <td>1.393488e-08</td>\n    </tr>\n    <tr>\n      <th>39132</th>\n      <td>zxTtD4MMnEAgHMvXmfgPCyMY61ivxX5zwu12hTSqLoA</td>\n      <td>2023-12-18 19:00:00</td>\n      <td>1</td>\n      <td>1.935591e+06</td>\n      <td>0.176098</td>\n      <td>9.097903e-08</td>\n      <td>9.097903e-08</td>\n      <td>7.884799e-08</td>\n      <td>7.884799e-08</td>\n    </tr>\n    <tr>\n      <th>39133</th>\n      <td>zxTtD4MMnEAgHMvXmfgPCyMY61ivxX5zwu12hTSqLoA</td>\n      <td>2023-12-19 00:00:00</td>\n      <td>1</td>\n      <td>1.732433e+06</td>\n      <td>0.136599</td>\n      <td>7.884799e-08</td>\n      <td>7.884799e-08</td>\n      <td>7.884799e-08</td>\n      <td>7.884799e-08</td>\n    </tr>\n  </tbody>\n</table>\n<p>39134 rows × 9 columns</p>\n</div>"
     },
     "execution_count": 136,
     "metadata": {},
     "output_type": "execute_result"
    }
   ],
   "source": [
    "prices"
   ],
   "metadata": {
    "collapsed": false,
    "ExecuteTime": {
     "end_time": "2023-12-30T23:12:33.621862Z",
     "start_time": "2023-12-30T23:12:33.618769Z"
    }
   },
   "id": "42231a65d4a7b91d"
  },
  {
   "cell_type": "code",
   "execution_count": 166,
   "outputs": [
    {
     "data": {
      "text/plain": "                                               mint                hour  \\\n2108   3J5QaP1zJN9yXE7jr5XJa3Lq2TyGHSHu2wssK7N1Aw4p 2023-11-01 00:00:00   \n5230   5SD4mnz5kNhnAmVQKKX911XBY6RJcqCD4pkH699bP5U3 2023-11-01 00:00:00   \n10283  7kbnvuGBxxj8AG9qp8Scn56muWGaRaFqxg1FsRp3PaFT 2023-11-01 00:00:00   \n12527  94XduSfSnyas7jAEFSJSXiCi1xQ4mENWcii1aCvjVuqu 2023-11-01 00:00:00   \n13313  9WMwGcY6TcbSfy9XPpQymY3qNEsvEaYL3wivdwPG2fpp 2023-11-01 00:00:00   \n...                                             ...                 ...   \n11744  8Uw7NNrhxotkgbtCCJ73iB36rfkyPjir8i9o3LnE1Z94 2023-12-30 23:00:00   \n12079  8rgSvnQKQA9LrWBZhvUoSHUPxurf94bpyEgshaQHXRbL 2023-12-30 23:00:00   \n12267  8yJ15ee2AUQmwbWPxXLTTeBTzyMGn4MtSRKMqVHw1J1G 2023-12-30 23:00:00   \n13853  9pPE1q9EW1bMQWbHmffrzUCfRr7S82UoxNUFfA6mAZC6 2023-12-30 23:00:00   \n31743  J34usKXUTz4aCanKftng4H3Szo2xg2hDbPFs5nsQ7adq 2023-12-30 23:00:00   \n\n       trades  token_volume  sol_volume         price      price_2h  \\\n2108        1  1.930000e+08    2.617965  1.356458e-08  1.356458e-08   \n5230        1  4.375231e+07    3.222574  7.365495e-08  9.118888e-08   \n10283       1  3.859803e+03  100.000006  2.590806e-02  2.590806e-02   \n12527       1  1.000000e+05    0.166931  1.669306e-06  3.096264e-06   \n13313       1  3.500819e+02    1.000006  2.856491e-03  2.856491e-03   \n...       ...           ...         ...           ...           ...   \n11744       1  6.575187e+07    0.583539  8.874863e-09 -1.000000e+00   \n12079       1  4.486367e+04    0.149351  3.328993e-06 -1.000000e+00   \n12267       1  1.296452e+05    0.593388  4.577013e-06 -1.000000e+00   \n13853       1  1.304326e+05    0.224610  1.722043e-06 -1.000000e+00   \n31743       1  2.009571e+05    0.326904  1.626733e-06 -1.000000e+00   \n\n          price_24h      price_7d class_2h class_24h class_7d  \n2108   9.007497e-09  4.647018e-09     flat      flat     down  \n5230   1.789658e-08  1.789658e-08     flat      down     down  \n10283  2.362193e-02  2.423463e-02     flat      flat     flat  \n12527  3.877707e-06  4.437695e-06     flat        up       up  \n13313  2.856491e-03  2.188399e-03     flat      flat     flat  \n...             ...           ...      ...       ...      ...  \n11744 -1.000000e+00 -1.000000e+00       na        na       na  \n12079 -1.000000e+00 -1.000000e+00       na        na       na  \n12267 -1.000000e+00 -1.000000e+00       na        na       na  \n13853 -1.000000e+00 -1.000000e+00       na        na       na  \n31743 -1.000000e+00 -1.000000e+00       na        na       na  \n\n[39134 rows x 12 columns]",
      "text/html": "<div>\n<style scoped>\n    .dataframe tbody tr th:only-of-type {\n        vertical-align: middle;\n    }\n\n    .dataframe tbody tr th {\n        vertical-align: top;\n    }\n\n    .dataframe thead th {\n        text-align: right;\n    }\n</style>\n<table border=\"1\" class=\"dataframe\">\n  <thead>\n    <tr style=\"text-align: right;\">\n      <th></th>\n      <th>mint</th>\n      <th>hour</th>\n      <th>trades</th>\n      <th>token_volume</th>\n      <th>sol_volume</th>\n      <th>price</th>\n      <th>price_2h</th>\n      <th>price_24h</th>\n      <th>price_7d</th>\n      <th>class_2h</th>\n      <th>class_24h</th>\n      <th>class_7d</th>\n    </tr>\n  </thead>\n  <tbody>\n    <tr>\n      <th>2108</th>\n      <td>3J5QaP1zJN9yXE7jr5XJa3Lq2TyGHSHu2wssK7N1Aw4p</td>\n      <td>2023-11-01 00:00:00</td>\n      <td>1</td>\n      <td>1.930000e+08</td>\n      <td>2.617965</td>\n      <td>1.356458e-08</td>\n      <td>1.356458e-08</td>\n      <td>9.007497e-09</td>\n      <td>4.647018e-09</td>\n      <td>flat</td>\n      <td>flat</td>\n      <td>down</td>\n    </tr>\n    <tr>\n      <th>5230</th>\n      <td>5SD4mnz5kNhnAmVQKKX911XBY6RJcqCD4pkH699bP5U3</td>\n      <td>2023-11-01 00:00:00</td>\n      <td>1</td>\n      <td>4.375231e+07</td>\n      <td>3.222574</td>\n      <td>7.365495e-08</td>\n      <td>9.118888e-08</td>\n      <td>1.789658e-08</td>\n      <td>1.789658e-08</td>\n      <td>flat</td>\n      <td>down</td>\n      <td>down</td>\n    </tr>\n    <tr>\n      <th>10283</th>\n      <td>7kbnvuGBxxj8AG9qp8Scn56muWGaRaFqxg1FsRp3PaFT</td>\n      <td>2023-11-01 00:00:00</td>\n      <td>1</td>\n      <td>3.859803e+03</td>\n      <td>100.000006</td>\n      <td>2.590806e-02</td>\n      <td>2.590806e-02</td>\n      <td>2.362193e-02</td>\n      <td>2.423463e-02</td>\n      <td>flat</td>\n      <td>flat</td>\n      <td>flat</td>\n    </tr>\n    <tr>\n      <th>12527</th>\n      <td>94XduSfSnyas7jAEFSJSXiCi1xQ4mENWcii1aCvjVuqu</td>\n      <td>2023-11-01 00:00:00</td>\n      <td>1</td>\n      <td>1.000000e+05</td>\n      <td>0.166931</td>\n      <td>1.669306e-06</td>\n      <td>3.096264e-06</td>\n      <td>3.877707e-06</td>\n      <td>4.437695e-06</td>\n      <td>flat</td>\n      <td>up</td>\n      <td>up</td>\n    </tr>\n    <tr>\n      <th>13313</th>\n      <td>9WMwGcY6TcbSfy9XPpQymY3qNEsvEaYL3wivdwPG2fpp</td>\n      <td>2023-11-01 00:00:00</td>\n      <td>1</td>\n      <td>3.500819e+02</td>\n      <td>1.000006</td>\n      <td>2.856491e-03</td>\n      <td>2.856491e-03</td>\n      <td>2.856491e-03</td>\n      <td>2.188399e-03</td>\n      <td>flat</td>\n      <td>flat</td>\n      <td>flat</td>\n    </tr>\n    <tr>\n      <th>...</th>\n      <td>...</td>\n      <td>...</td>\n      <td>...</td>\n      <td>...</td>\n      <td>...</td>\n      <td>...</td>\n      <td>...</td>\n      <td>...</td>\n      <td>...</td>\n      <td>...</td>\n      <td>...</td>\n      <td>...</td>\n    </tr>\n    <tr>\n      <th>11744</th>\n      <td>8Uw7NNrhxotkgbtCCJ73iB36rfkyPjir8i9o3LnE1Z94</td>\n      <td>2023-12-30 23:00:00</td>\n      <td>1</td>\n      <td>6.575187e+07</td>\n      <td>0.583539</td>\n      <td>8.874863e-09</td>\n      <td>-1.000000e+00</td>\n      <td>-1.000000e+00</td>\n      <td>-1.000000e+00</td>\n      <td>na</td>\n      <td>na</td>\n      <td>na</td>\n    </tr>\n    <tr>\n      <th>12079</th>\n      <td>8rgSvnQKQA9LrWBZhvUoSHUPxurf94bpyEgshaQHXRbL</td>\n      <td>2023-12-30 23:00:00</td>\n      <td>1</td>\n      <td>4.486367e+04</td>\n      <td>0.149351</td>\n      <td>3.328993e-06</td>\n      <td>-1.000000e+00</td>\n      <td>-1.000000e+00</td>\n      <td>-1.000000e+00</td>\n      <td>na</td>\n      <td>na</td>\n      <td>na</td>\n    </tr>\n    <tr>\n      <th>12267</th>\n      <td>8yJ15ee2AUQmwbWPxXLTTeBTzyMGn4MtSRKMqVHw1J1G</td>\n      <td>2023-12-30 23:00:00</td>\n      <td>1</td>\n      <td>1.296452e+05</td>\n      <td>0.593388</td>\n      <td>4.577013e-06</td>\n      <td>-1.000000e+00</td>\n      <td>-1.000000e+00</td>\n      <td>-1.000000e+00</td>\n      <td>na</td>\n      <td>na</td>\n      <td>na</td>\n    </tr>\n    <tr>\n      <th>13853</th>\n      <td>9pPE1q9EW1bMQWbHmffrzUCfRr7S82UoxNUFfA6mAZC6</td>\n      <td>2023-12-30 23:00:00</td>\n      <td>1</td>\n      <td>1.304326e+05</td>\n      <td>0.224610</td>\n      <td>1.722043e-06</td>\n      <td>-1.000000e+00</td>\n      <td>-1.000000e+00</td>\n      <td>-1.000000e+00</td>\n      <td>na</td>\n      <td>na</td>\n      <td>na</td>\n    </tr>\n    <tr>\n      <th>31743</th>\n      <td>J34usKXUTz4aCanKftng4H3Szo2xg2hDbPFs5nsQ7adq</td>\n      <td>2023-12-30 23:00:00</td>\n      <td>1</td>\n      <td>2.009571e+05</td>\n      <td>0.326904</td>\n      <td>1.626733e-06</td>\n      <td>-1.000000e+00</td>\n      <td>-1.000000e+00</td>\n      <td>-1.000000e+00</td>\n      <td>na</td>\n      <td>na</td>\n      <td>na</td>\n    </tr>\n  </tbody>\n</table>\n<p>39134 rows × 12 columns</p>\n</div>"
     },
     "execution_count": 166,
     "metadata": {},
     "output_type": "execute_result"
    }
   ],
   "source": [
    "PRICE_THRESHOLD = 2\n",
    "\n",
    "for p in prediction_types:\n",
    "    prices['class' + p['suffix']] = ['na'] * len(prices)\n",
    "    \n",
    "for index, row in prices.iterrows():\n",
    "    for p in prediction_types:\n",
    "        price = row['price']\n",
    "        future_price = row['price' + p['suffix']]\n",
    "        if future_price == -1:\n",
    "            continue\n",
    "        if future_price > PRICE_THRESHOLD * price:\n",
    "            prices.loc[index, 'class' + p['suffix']] = 'up'\n",
    "        elif future_price < price / PRICE_THRESHOLD:\n",
    "            prices.loc[index, 'class' + p['suffix']] = 'down'\n",
    "        else:\n",
    "            prices.loc[index, 'class' + p['suffix']] = 'flat'\n",
    "\n",
    "#sort prices by hour then mint\n",
    "prices = prices.sort_values(by=['hour', 'mint'])\n",
    "\n",
    "prices"
   ],
   "metadata": {
    "collapsed": false,
    "ExecuteTime": {
     "end_time": "2023-12-30T23:26:24.398509Z",
     "start_time": "2023-12-30T23:26:19.992367Z"
    }
   },
   "id": "45332f270e59b1ac"
  },
  {
   "cell_type": "code",
   "execution_count": 169,
   "outputs": [
    {
     "data": {
      "text/plain": "      class_2h  class_24h  class_7d\nflat     37542      30412     17260\ndown       800       5132      8990\nup         722       2249      3162\nna          70       1341      9722",
      "text/html": "<div>\n<style scoped>\n    .dataframe tbody tr th:only-of-type {\n        vertical-align: middle;\n    }\n\n    .dataframe tbody tr th {\n        vertical-align: top;\n    }\n\n    .dataframe thead th {\n        text-align: right;\n    }\n</style>\n<table border=\"1\" class=\"dataframe\">\n  <thead>\n    <tr style=\"text-align: right;\">\n      <th></th>\n      <th>class_2h</th>\n      <th>class_24h</th>\n      <th>class_7d</th>\n    </tr>\n  </thead>\n  <tbody>\n    <tr>\n      <th>flat</th>\n      <td>37542</td>\n      <td>30412</td>\n      <td>17260</td>\n    </tr>\n    <tr>\n      <th>down</th>\n      <td>800</td>\n      <td>5132</td>\n      <td>8990</td>\n    </tr>\n    <tr>\n      <th>up</th>\n      <td>722</td>\n      <td>2249</td>\n      <td>3162</td>\n    </tr>\n    <tr>\n      <th>na</th>\n      <td>70</td>\n      <td>1341</td>\n      <td>9722</td>\n    </tr>\n  </tbody>\n</table>\n</div>"
     },
     "execution_count": 169,
     "metadata": {},
     "output_type": "execute_result"
    }
   ],
   "source": [
    "td_names = ['class' + p['suffix'] for p in prediction_types]\n",
    "classes = pd.concat([prices[name].value_counts() for name in td_names], axis=1)\n",
    "classes.columns = td_names\n",
    "classes"
   ],
   "metadata": {
    "collapsed": false,
    "ExecuteTime": {
     "end_time": "2023-12-30T23:26:41.477406Z",
     "start_time": "2023-12-30T23:26:41.475336Z"
    }
   },
   "id": "6a437b7473528409"
  },
  {
   "cell_type": "code",
   "execution_count": 170,
   "outputs": [
    {
     "name": "stdout",
     "output_type": "stream",
     "text": [
      "Prediction type: _24h\n",
      "Removed 1341 of 39134 rows with class \"na\"\n"
     ]
    }
   ],
   "source": [
    "from sklearn.model_selection import TimeSeriesSplit\n",
    "\n",
    "prediction_type = prediction_types[1]\n",
    "print(f\"Prediction type: {prediction_type['suffix']}\")\n",
    "\n",
    "pool_df = prices.copy()\n",
    "pool_df = pool_df[['mint', 'hour', 'trades', 'token_volume', 'sol_volume', 'price', 'class' + prediction_type['suffix']]]\n",
    "\n",
    "len_before = len(pool_df)\n",
    "# remove from pool rows with class 'na'\n",
    "pool_df = pool_df[pool_df['class' + prediction_type['suffix']] != 'na']\n",
    "len_after = len(pool_df)\n",
    "print(f'Removed {len_before - len_after} of {len_before} rows with class \"na\"')"
   ],
   "metadata": {
    "collapsed": false,
    "ExecuteTime": {
     "end_time": "2023-12-30T23:26:47.077658Z",
     "start_time": "2023-12-30T23:26:47.065136Z"
    }
   },
   "id": "cd9ba54930ee096f"
  },
  {
   "cell_type": "code",
   "execution_count": 171,
   "outputs": [
    {
     "name": "stdout",
     "output_type": "stream",
     "text": [
      "Removed 473 of 9448 rows from test data\n",
      "since 2023-12-03 02:00:00 to 2023-12-04 02:00:00\n",
      "Removed 1004 of 9448 rows from test data\n",
      "since 2023-12-17 00:00:00 to 2023-12-18 00:00:00\n",
      "Removed 1597 of 9448 rows from test data\n",
      "since 2023-12-23 08:00:00 to 2023-12-24 08:00:00\n",
      "pred len 25270, actuals len 25270, comparison_df len 25270, details len 25270, results_df len 25270\n",
      "Confusion Matrix:\n",
      "        up   flat  down\n",
      "up     33   1441   178\n",
      "flat  251  18876  1035\n",
      "down   30   2807   619\n"
     ]
    }
   ],
   "source": [
    "import pandas as pd\n",
    "from catboost import CatBoostClassifier, Pool\n",
    "from sklearn.model_selection import TimeSeriesSplit\n",
    "from sklearn.metrics import confusion_matrix\n",
    "import matplotlib.pyplot as plt\n",
    "import seaborn as sns\n",
    "\n",
    "# Convert 'mint' to a categorical feature\n",
    "pool_df['mint'] = pool_df['mint'].astype('category')\n",
    "\n",
    "# Define features and target\n",
    "features = ['mint', 'hour', 'trades', 'token_volume', 'sol_volume', 'price']\n",
    "target = 'class' + prediction_type['suffix']\n",
    "\n",
    "# Initialize CatBoost Classifier\n",
    "model = CatBoostClassifier(loss_function='MultiClass', verbose=False)\n",
    "\n",
    "# TimeSeriesSplit for cross-validation\n",
    "tscv = TimeSeriesSplit(n_splits=3)\n",
    "\n",
    "# To store predictions and actuals\n",
    "predictions, actuals = [], []\n",
    "details_df = pd.DataFrame() \n",
    "\n",
    "for train_index, test_index in tscv.split(pool_df):\n",
    "    train_data, test_data = pool_df.iloc[train_index], pool_df.iloc[test_index]\n",
    "\n",
    "    max_train_hour = train_data['hour'].max()\n",
    "    len_before = len(test_data)\n",
    "    # change those lines together please\n",
    "    removed_data = test_data[test_data['hour'] <= max_train_hour + prediction_type['delta']]\n",
    "    test_data = test_data[test_data['hour'] > max_train_hour + prediction_type['delta']]\n",
    "    len_after = len(test_data)\n",
    "    print(f'Removed {len_before - len_after} of {len_before} rows from test data')\n",
    "    print(f'since {min(removed_data[\"hour\"])} to {max(removed_data[\"hour\"])}')\n",
    "\n",
    "    # Create Pool\n",
    "    train_pool = Pool(data=train_data[features], label=train_data[target], cat_features=['mint'])\n",
    "    test_pool = Pool(data=test_data[features], label=test_data[target], cat_features=['mint'])\n",
    "\n",
    "    # Train model\n",
    "    model.fit(train_pool)\n",
    "\n",
    "    # Predict\n",
    "    preds = model.predict(test_pool)\n",
    "    predictions.extend(preds.flatten())\n",
    "    actuals.extend(test_data[target].values)\n",
    "    if len(details_df) == 0:\n",
    "        details_df = test_data\n",
    "    else:\n",
    "        details_df = pd.concat([details_df, test_data])\n",
    "    \n",
    "\n",
    "# Confusion Matrix\n",
    "conf_matrix = confusion_matrix(actuals, predictions, labels=['up', 'flat', 'down'])\n",
    "conf_matrix_df = pd.DataFrame(conf_matrix, index=['up', 'flat', 'down'], columns=['up', 'flat', 'down'])\n",
    "\n",
    "# Last iteration's predictions and actuals\n",
    "comparison_df = pd.DataFrame({'Actual': actuals, 'Predicted': predictions})\n",
    "# comparison_df = comparison_df.reset_index(drop=True)\n",
    "\n",
    "# add details to results_df\n",
    "results_df = pd.concat([comparison_df.reset_index(drop=True), details_df.reset_index(drop=True)], axis=1)\n",
    "print(f\"pred len {len(predictions)}, actuals len {len(actuals)}, \"\n",
    "      f\"comparison_df len {len(comparison_df)}, details len {len(details_df)}, results_df len {len(results_df)}\")\n",
    "\n",
    "\n",
    "# Output\n",
    "print(\"Confusion Matrix:\\n\", conf_matrix_df)"
   ],
   "metadata": {
    "collapsed": false,
    "ExecuteTime": {
     "end_time": "2023-12-30T23:27:05.487265Z",
     "start_time": "2023-12-30T23:26:48.601889Z"
    }
   },
   "id": "62eb4dc2618fa53e"
  },
  {
   "cell_type": "code",
   "execution_count": 163,
   "outputs": [
    {
     "data": {
      "text/plain": "      Actual Predicted                                          mint  \\\n0       down      flat  296sdxzqFZb4YPnQpQYsDzBwTU3i1cT59rbaWdsvA5A5   \n1       flat      flat  3NZ9JMVBmGAqocybic2c7LQCJScmgsAZ6vQqTDzcqmJh   \n2       flat      flat  4k3Dyjzvzp8eMZWUXbBCjEvwSkkk59S5iCNLY3QrkX6R   \n3       flat      flat  65nTNuJGHme4PQvKQyJykKp1bJAkK4A8Q66sd2yBWugf   \n4       flat      flat  6DSqVXg9WLTWgz6LACqxN757QdHe1sCqkUfojWmxWtok   \n...      ...       ...                                           ...   \n25265   flat      flat  H7ed7UgcLp3ax4X1CQ5WuWDn6d1pprfMMYiv5ejwLWWU   \n25266   flat      flat  HF4b3Ttibi67z7McyugUgiQUc2Z3XRECTY5QFYiqbZXF   \n25267   flat      flat   bsAwuVJMPAazbQSVpPQND69mvwftQutZhxpWqsf2BUE   \n25268   flat      flat   iotEVVZLEywoTn1QdwNPddxPWszn3zFhEot3MfL9fns   \n25269   flat      flat   rockaPXZqTqtt9LvznNopikNQn3YSTMwTC4swr7HAiy   \n\n                     hour  trades  token_volume  sol_volume         price  \\\n0     2023-12-04 03:00:00       1  1.260813e+02    1.639232  1.300139e-02   \n1     2023-12-04 03:00:00       1  3.911030e-03    2.482911  6.348484e+02   \n2     2023-12-04 03:00:00       1  1.401933e+01    0.100005  7.133385e-03   \n3     2023-12-04 03:00:00       1  1.387802e+07    1.000006  7.205677e-08   \n4     2023-12-04 03:00:00       1  4.817849e+07    0.300005  6.226949e-09   \n...                   ...     ...           ...         ...           ...   \n25265 2023-12-29 23:00:00       1  7.796774e+05    0.265005  3.398909e-07   \n25266 2023-12-29 23:00:00       8  1.862945e+06   11.693213  6.276737e-06   \n25267 2023-12-29 23:00:00       1  1.000000e+05    2.267654  2.267654e-05   \n25268 2023-12-29 23:00:00       1  4.217470e+04    0.760408  1.802995e-05   \n25269 2023-12-29 23:00:00       1  1.126568e+12    2.651269  2.353404e-12   \n\n      class_24h  \n0          down  \n1          flat  \n2          flat  \n3          flat  \n4          flat  \n...         ...  \n25265      flat  \n25266      flat  \n25267      flat  \n25268      flat  \n25269      flat  \n\n[25270 rows x 9 columns]",
      "text/html": "<div>\n<style scoped>\n    .dataframe tbody tr th:only-of-type {\n        vertical-align: middle;\n    }\n\n    .dataframe tbody tr th {\n        vertical-align: top;\n    }\n\n    .dataframe thead th {\n        text-align: right;\n    }\n</style>\n<table border=\"1\" class=\"dataframe\">\n  <thead>\n    <tr style=\"text-align: right;\">\n      <th></th>\n      <th>Actual</th>\n      <th>Predicted</th>\n      <th>mint</th>\n      <th>hour</th>\n      <th>trades</th>\n      <th>token_volume</th>\n      <th>sol_volume</th>\n      <th>price</th>\n      <th>class_24h</th>\n    </tr>\n  </thead>\n  <tbody>\n    <tr>\n      <th>0</th>\n      <td>down</td>\n      <td>flat</td>\n      <td>296sdxzqFZb4YPnQpQYsDzBwTU3i1cT59rbaWdsvA5A5</td>\n      <td>2023-12-04 03:00:00</td>\n      <td>1</td>\n      <td>1.260813e+02</td>\n      <td>1.639232</td>\n      <td>1.300139e-02</td>\n      <td>down</td>\n    </tr>\n    <tr>\n      <th>1</th>\n      <td>flat</td>\n      <td>flat</td>\n      <td>3NZ9JMVBmGAqocybic2c7LQCJScmgsAZ6vQqTDzcqmJh</td>\n      <td>2023-12-04 03:00:00</td>\n      <td>1</td>\n      <td>3.911030e-03</td>\n      <td>2.482911</td>\n      <td>6.348484e+02</td>\n      <td>flat</td>\n    </tr>\n    <tr>\n      <th>2</th>\n      <td>flat</td>\n      <td>flat</td>\n      <td>4k3Dyjzvzp8eMZWUXbBCjEvwSkkk59S5iCNLY3QrkX6R</td>\n      <td>2023-12-04 03:00:00</td>\n      <td>1</td>\n      <td>1.401933e+01</td>\n      <td>0.100005</td>\n      <td>7.133385e-03</td>\n      <td>flat</td>\n    </tr>\n    <tr>\n      <th>3</th>\n      <td>flat</td>\n      <td>flat</td>\n      <td>65nTNuJGHme4PQvKQyJykKp1bJAkK4A8Q66sd2yBWugf</td>\n      <td>2023-12-04 03:00:00</td>\n      <td>1</td>\n      <td>1.387802e+07</td>\n      <td>1.000006</td>\n      <td>7.205677e-08</td>\n      <td>flat</td>\n    </tr>\n    <tr>\n      <th>4</th>\n      <td>flat</td>\n      <td>flat</td>\n      <td>6DSqVXg9WLTWgz6LACqxN757QdHe1sCqkUfojWmxWtok</td>\n      <td>2023-12-04 03:00:00</td>\n      <td>1</td>\n      <td>4.817849e+07</td>\n      <td>0.300005</td>\n      <td>6.226949e-09</td>\n      <td>flat</td>\n    </tr>\n    <tr>\n      <th>...</th>\n      <td>...</td>\n      <td>...</td>\n      <td>...</td>\n      <td>...</td>\n      <td>...</td>\n      <td>...</td>\n      <td>...</td>\n      <td>...</td>\n      <td>...</td>\n    </tr>\n    <tr>\n      <th>25265</th>\n      <td>flat</td>\n      <td>flat</td>\n      <td>H7ed7UgcLp3ax4X1CQ5WuWDn6d1pprfMMYiv5ejwLWWU</td>\n      <td>2023-12-29 23:00:00</td>\n      <td>1</td>\n      <td>7.796774e+05</td>\n      <td>0.265005</td>\n      <td>3.398909e-07</td>\n      <td>flat</td>\n    </tr>\n    <tr>\n      <th>25266</th>\n      <td>flat</td>\n      <td>flat</td>\n      <td>HF4b3Ttibi67z7McyugUgiQUc2Z3XRECTY5QFYiqbZXF</td>\n      <td>2023-12-29 23:00:00</td>\n      <td>8</td>\n      <td>1.862945e+06</td>\n      <td>11.693213</td>\n      <td>6.276737e-06</td>\n      <td>flat</td>\n    </tr>\n    <tr>\n      <th>25267</th>\n      <td>flat</td>\n      <td>flat</td>\n      <td>bsAwuVJMPAazbQSVpPQND69mvwftQutZhxpWqsf2BUE</td>\n      <td>2023-12-29 23:00:00</td>\n      <td>1</td>\n      <td>1.000000e+05</td>\n      <td>2.267654</td>\n      <td>2.267654e-05</td>\n      <td>flat</td>\n    </tr>\n    <tr>\n      <th>25268</th>\n      <td>flat</td>\n      <td>flat</td>\n      <td>iotEVVZLEywoTn1QdwNPddxPWszn3zFhEot3MfL9fns</td>\n      <td>2023-12-29 23:00:00</td>\n      <td>1</td>\n      <td>4.217470e+04</td>\n      <td>0.760408</td>\n      <td>1.802995e-05</td>\n      <td>flat</td>\n    </tr>\n    <tr>\n      <th>25269</th>\n      <td>flat</td>\n      <td>flat</td>\n      <td>rockaPXZqTqtt9LvznNopikNQn3YSTMwTC4swr7HAiy</td>\n      <td>2023-12-29 23:00:00</td>\n      <td>1</td>\n      <td>1.126568e+12</td>\n      <td>2.651269</td>\n      <td>2.353404e-12</td>\n      <td>flat</td>\n    </tr>\n  </tbody>\n</table>\n<p>25270 rows × 9 columns</p>\n</div>"
     },
     "execution_count": 163,
     "metadata": {},
     "output_type": "execute_result"
    }
   ],
   "source": [
    "results_df"
   ],
   "metadata": {
    "collapsed": false,
    "ExecuteTime": {
     "end_time": "2023-12-30T23:25:39.899521Z",
     "start_time": "2023-12-30T23:25:39.897116Z"
    }
   },
   "id": "3f6bcaf6080552ec"
  },
  {
   "cell_type": "code",
   "execution_count": 164,
   "outputs": [
    {
     "data": {
      "text/plain": "Actual\nflat    24016\ndown      892\nup        362\nName: count, dtype: int64"
     },
     "execution_count": 164,
     "metadata": {},
     "output_type": "execute_result"
    }
   ],
   "source": [
    "results_df['Actual'].value_counts()"
   ],
   "metadata": {
    "collapsed": false,
    "ExecuteTime": {
     "end_time": "2023-12-30T23:25:42.788498Z",
     "start_time": "2023-12-30T23:25:42.768035Z"
    }
   },
   "id": "d1c8a735f92634"
  },
  {
   "cell_type": "code",
   "execution_count": 165,
   "outputs": [
    {
     "data": {
      "text/plain": "Predicted\nflat    24975\ndown      265\nup         30\nName: count, dtype: int64"
     },
     "execution_count": 165,
     "metadata": {},
     "output_type": "execute_result"
    }
   ],
   "source": [
    "results_df['Predicted'].value_counts()"
   ],
   "metadata": {
    "collapsed": false,
    "ExecuteTime": {
     "end_time": "2023-12-30T23:25:43.676961Z",
     "start_time": "2023-12-30T23:25:43.659101Z"
    }
   },
   "id": "13102803fac1ca11"
  },
  {
   "cell_type": "code",
   "execution_count": null,
   "outputs": [],
   "source": [],
   "metadata": {
    "collapsed": false
   },
   "id": "498de5f3068d5ac4"
  }
 ],
 "metadata": {
  "kernelspec": {
   "display_name": "Python 3",
   "language": "python",
   "name": "python3"
  },
  "language_info": {
   "codemirror_mode": {
    "name": "ipython",
    "version": 2
   },
   "file_extension": ".py",
   "mimetype": "text/x-python",
   "name": "python",
   "nbconvert_exporter": "python",
   "pygments_lexer": "ipython2",
   "version": "2.7.6"
  }
 },
 "nbformat": 4,
 "nbformat_minor": 5
}
