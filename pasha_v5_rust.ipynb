{
 "cells": [
  {
   "cell_type": "code",
   "execution_count": 81,
   "outputs": [
    {
     "name": "stderr",
     "output_type": "stream",
     "text": [
      "2024-01-09 22:24:16,859 - INFO - Check rust, Original array: [1. 2. 3.]\n",
      "2024-01-09 22:24:16,860 - INFO - Check rust, Processed array: [2. 4. 6.]\n",
      "2024-01-09 22:24:16,860 - INFO - Getting data from db\n",
      "2024-01-09 22:24:41,889 - INFO - Got 626390 records from db\n",
      "2024-01-09 22:24:41,891 - INFO - From 2023-12-01 00:00:14 to 2024-01-09 22:21:12\n",
      "2024-01-09 22:24:42,064 - INFO - Filtered df by program_id, got 587760 records\n",
      "2024-01-09 22:24:42,450 - INFO - Using memory: 299.6728000640869 MB\n",
      "2024-01-09 22:25:28,918 - INFO - Records stored: 5971, keys got: 276427, from 1701389400 to 1704838200\n",
      "2024-01-09 22:25:28,921 - INFO - Got 270.7866916656494MB from Rust\n",
      "2024-01-09 22:25:31,101 - INFO - Assigning labels\n",
      "2024-01-09 22:25:31,193 - INFO - Done\n"
     ]
    }
   ],
   "source": [
    "from dataprep_rust import DatasetBuilder\n",
    "from datetime import timedelta\n",
    "\n",
    "QUANT_TIMEDELTA = timedelta(minutes=10)\n",
    "PREDICTION_TIMEDELTA = SELL_FROM_TIMEDELTA = timedelta(hours=1)\n",
    "SELL_TO_TIMEDELTA = timedelta(hours=1)\n",
    "BUY_TIMEDELTA = timedelta(minutes=10)\n",
    "CHANGE_MAGNITUDE = 1.5\n",
    "\n",
    "builder = DatasetBuilder(1000000, QUANT_TIMEDELTA, BUY_TIMEDELTA, (SELL_FROM_TIMEDELTA, SELL_TO_TIMEDELTA, QUANT_TIMEDELTA), CHANGE_MAGNITUDE)\n",
    "dataset = builder.build_dataset()\n"
   ],
   "metadata": {
    "collapsed": false,
    "ExecuteTime": {
     "end_time": "2024-01-09T22:25:31.214235Z",
     "start_time": "2024-01-09T22:24:16.860848Z"
    }
   },
   "id": "efcea48a30cd5d32"
  },
  {
   "cell_type": "code",
   "execution_count": 8,
   "outputs": [
    {
     "name": "stderr",
     "output_type": "stream",
     "text": [
      "2024-01-09 21:49:20,446 - INFO - Records stored: 2096, keys got: 45628, from 1704402600 to 1704835800\n",
      "2024-01-09 21:49:20,449 - INFO - Got 42.21687698364258MB from Rust\n",
      "2024-01-09 21:49:20,791 - INFO - Assigning labels\n",
      "2024-01-09 21:49:20,814 - INFO - Done\n"
     ]
    }
   ],
   "source": [
    "#PREDICTION_TIMEDELTA = timedelta(hours=1)\n",
    "CHANGE_MAGNITUDE = 1.2\n",
    "\n",
    "dataset = builder.rebuild_dataset(BUY_TIMEDELTA, (SELL_FROM_TIMEDELTA, SELL_TO_TIMEDELTA, QUANT_TIMEDELTA), CHANGE_MAGNITUDE)\n"
   ],
   "metadata": {
    "collapsed": false,
    "ExecuteTime": {
     "end_time": "2024-01-09T21:49:20.819617Z",
     "start_time": "2024-01-09T21:49:10.470128Z"
    }
   },
   "id": "fb2725437b2b9501"
  },
  {
   "cell_type": "code",
   "execution_count": 82,
   "outputs": [
    {
     "data": {
      "text/plain": "label\nflat    253476\ndown      9730\nup        7043\nna        6178\nName: count, dtype: int64"
     },
     "execution_count": 82,
     "metadata": {},
     "output_type": "execute_result"
    }
   ],
   "source": [
    "dataset.label.value_counts()\n"
   ],
   "metadata": {
    "collapsed": false,
    "ExecuteTime": {
     "end_time": "2024-01-09T22:25:31.221041Z",
     "start_time": "2024-01-09T22:25:31.217542Z"
    }
   },
   "id": "35241d7911343ca4"
  },
  {
   "cell_type": "code",
   "execution_count": 83,
   "outputs": [
    {
     "data": {
      "text/plain": "                                                mint           timestamp  \\\n186551  H5n9BQfULHEEtvLVf2WErUHsXHhRaUkYqVhNzxUkWJGf 2023-12-31 03:00:00   \n186653  H5n9BQfULHEEtvLVf2WErUHsXHhRaUkYqVhNzxUkWJGf 2023-12-31 03:20:00   \n186704  H5n9BQfULHEEtvLVf2WErUHsXHhRaUkYqVhNzxUkWJGf 2023-12-31 03:30:00   \n187370  H5n9BQfULHEEtvLVf2WErUHsXHhRaUkYqVhNzxUkWJGf 2023-12-31 06:00:00   \n187401  H5n9BQfULHEEtvLVf2WErUHsXHhRaUkYqVhNzxUkWJGf 2023-12-31 06:10:00   \n187441  H5n9BQfULHEEtvLVf2WErUHsXHhRaUkYqVhNzxUkWJGf 2023-12-31 06:20:00   \n187517  H5n9BQfULHEEtvLVf2WErUHsXHhRaUkYqVhNzxUkWJGf 2023-12-31 06:40:00   \n195217  H5n9BQfULHEEtvLVf2WErUHsXHhRaUkYqVhNzxUkWJGf 2024-01-01 04:00:00   \n195275  H5n9BQfULHEEtvLVf2WErUHsXHhRaUkYqVhNzxUkWJGf 2024-01-01 04:10:00   \n203357  H5n9BQfULHEEtvLVf2WErUHsXHhRaUkYqVhNzxUkWJGf 2024-01-02 01:40:00   \n209450  H5n9BQfULHEEtvLVf2WErUHsXHhRaUkYqVhNzxUkWJGf 2024-01-02 18:10:00   \n224452  H5n9BQfULHEEtvLVf2WErUHsXHhRaUkYqVhNzxUkWJGf 2024-01-04 06:20:00   \n\n        quant_price  buy_price  sell_price    upside label  found_points_now  \\\n186551     0.000004   0.000004    0.000014  2.234769    up                 1   \n186653     0.000006   0.000009    0.000021  1.201730    up                 1   \n186704     0.000009   0.000013    0.000022  0.755587    up                 1   \n187370     0.000016   0.000015    0.000025  0.674838    up                 1   \n187401     0.000015   0.000014    0.000027  0.913333    up                 1   \n187441     0.000014   0.000014    0.000032  1.330193    up                 1   \n187517     0.000018   0.000020    0.000030  0.520111    up                 1   \n195217     0.000007   0.000006    0.000010  0.668463    up                 1   \n195275     0.000006   0.000007    0.000011  0.543740    up                 1   \n203357     0.000002   0.000003    0.000006  1.112973    up                 1   \n209450     0.000002   0.000002    0.000004  0.608572    up                 1   \n224452     0.000005   0.000005    0.000009  0.869592    up                 1   \n\n        price_sma_now  price_ema_now  ...  vol_ema_sum_10m  trcnt_sma_sum_1h  \\\n186551              1              1  ...        10.724385          1.000000   \n186653              1              1  ...         3.891321          4.000000   \n186704              1              1  ...         3.698216          8.000000   \n187370              1              1  ...         4.931571         20.250000   \n187401              1              1  ...         5.123112         21.750000   \n187441              1              1  ...         4.664524         22.000000   \n187517              1              1  ...         3.573703         23.000000   \n195217              1              1  ...        10.585820         19.714286   \n195275              1              1  ...         5.462394         20.285714   \n203357              1              1  ...         0.363111          7.000000   \n209450              1              1  ...         0.280677          2.428571   \n224452              1              1  ...         0.335539          1.142857   \n\n        vol_sma_sum_1h  vol_ema_sum_1h  trcnt_sma_sum_4h  vol_sma_sum_4h  \\\n186551       10.724385       10.724385          1.000000       10.724385   \n186653       13.144834       13.144834          4.000000       13.144834   \n186704       15.146936       15.146936          8.000000       15.146936   \n187370       27.177890       26.202937         81.000000      108.711561   \n187401       28.190364       26.988341         87.000000      112.761457   \n187441       28.202866       25.185064         88.000000      112.811466   \n187517       29.296088       25.950834         92.000000      117.184353   \n195217       33.379022       31.644818         73.571429      120.798806   \n195275       34.180222       36.901979         74.714286      122.401206   \n203357        9.041714        7.908165         60.250000       92.387453   \n209450        2.320803        2.311475         41.571429       61.289704   \n224452        0.789076        0.902363          9.428571        8.512555   \n\n        vol_ema_sum_4h  trcnt_sma_sum_1d  vol_sma_sum_1d  vol_ema_sum_1d  \n186551       10.724385          1.000000       10.724385       10.724385  \n186653       13.144834          4.000000       13.144834       13.144834  \n186704       15.146936          8.000000       15.146936       15.146936  \n187370      108.711561         81.000000      108.711561      108.711561  \n187401      112.761457         87.000000      112.761457      112.761457  \n187441      112.811466         88.000000      112.811466      112.811466  \n187517      117.184353         92.000000      117.184353      117.184353  \n195217      116.535889        257.500000      422.795822      552.757870  \n195275      119.661660        261.500000      428.404220      557.571341  \n203357       73.995060        361.500000      554.324716      486.891947  \n209450       43.159789        257.666667      388.509205      318.209764  \n224452        7.513833        167.200000      242.165542      152.286504  \n\n[12 rows x 72 columns]",
      "text/html": "<div>\n<style scoped>\n    .dataframe tbody tr th:only-of-type {\n        vertical-align: middle;\n    }\n\n    .dataframe tbody tr th {\n        vertical-align: top;\n    }\n\n    .dataframe thead th {\n        text-align: right;\n    }\n</style>\n<table border=\"1\" class=\"dataframe\">\n  <thead>\n    <tr style=\"text-align: right;\">\n      <th></th>\n      <th>mint</th>\n      <th>timestamp</th>\n      <th>quant_price</th>\n      <th>buy_price</th>\n      <th>sell_price</th>\n      <th>upside</th>\n      <th>label</th>\n      <th>found_points_now</th>\n      <th>price_sma_now</th>\n      <th>price_ema_now</th>\n      <th>...</th>\n      <th>vol_ema_sum_10m</th>\n      <th>trcnt_sma_sum_1h</th>\n      <th>vol_sma_sum_1h</th>\n      <th>vol_ema_sum_1h</th>\n      <th>trcnt_sma_sum_4h</th>\n      <th>vol_sma_sum_4h</th>\n      <th>vol_ema_sum_4h</th>\n      <th>trcnt_sma_sum_1d</th>\n      <th>vol_sma_sum_1d</th>\n      <th>vol_ema_sum_1d</th>\n    </tr>\n  </thead>\n  <tbody>\n    <tr>\n      <th>186551</th>\n      <td>H5n9BQfULHEEtvLVf2WErUHsXHhRaUkYqVhNzxUkWJGf</td>\n      <td>2023-12-31 03:00:00</td>\n      <td>0.000004</td>\n      <td>0.000004</td>\n      <td>0.000014</td>\n      <td>2.234769</td>\n      <td>up</td>\n      <td>1</td>\n      <td>1</td>\n      <td>1</td>\n      <td>...</td>\n      <td>10.724385</td>\n      <td>1.000000</td>\n      <td>10.724385</td>\n      <td>10.724385</td>\n      <td>1.000000</td>\n      <td>10.724385</td>\n      <td>10.724385</td>\n      <td>1.000000</td>\n      <td>10.724385</td>\n      <td>10.724385</td>\n    </tr>\n    <tr>\n      <th>186653</th>\n      <td>H5n9BQfULHEEtvLVf2WErUHsXHhRaUkYqVhNzxUkWJGf</td>\n      <td>2023-12-31 03:20:00</td>\n      <td>0.000006</td>\n      <td>0.000009</td>\n      <td>0.000021</td>\n      <td>1.201730</td>\n      <td>up</td>\n      <td>1</td>\n      <td>1</td>\n      <td>1</td>\n      <td>...</td>\n      <td>3.891321</td>\n      <td>4.000000</td>\n      <td>13.144834</td>\n      <td>13.144834</td>\n      <td>4.000000</td>\n      <td>13.144834</td>\n      <td>13.144834</td>\n      <td>4.000000</td>\n      <td>13.144834</td>\n      <td>13.144834</td>\n    </tr>\n    <tr>\n      <th>186704</th>\n      <td>H5n9BQfULHEEtvLVf2WErUHsXHhRaUkYqVhNzxUkWJGf</td>\n      <td>2023-12-31 03:30:00</td>\n      <td>0.000009</td>\n      <td>0.000013</td>\n      <td>0.000022</td>\n      <td>0.755587</td>\n      <td>up</td>\n      <td>1</td>\n      <td>1</td>\n      <td>1</td>\n      <td>...</td>\n      <td>3.698216</td>\n      <td>8.000000</td>\n      <td>15.146936</td>\n      <td>15.146936</td>\n      <td>8.000000</td>\n      <td>15.146936</td>\n      <td>15.146936</td>\n      <td>8.000000</td>\n      <td>15.146936</td>\n      <td>15.146936</td>\n    </tr>\n    <tr>\n      <th>187370</th>\n      <td>H5n9BQfULHEEtvLVf2WErUHsXHhRaUkYqVhNzxUkWJGf</td>\n      <td>2023-12-31 06:00:00</td>\n      <td>0.000016</td>\n      <td>0.000015</td>\n      <td>0.000025</td>\n      <td>0.674838</td>\n      <td>up</td>\n      <td>1</td>\n      <td>1</td>\n      <td>1</td>\n      <td>...</td>\n      <td>4.931571</td>\n      <td>20.250000</td>\n      <td>27.177890</td>\n      <td>26.202937</td>\n      <td>81.000000</td>\n      <td>108.711561</td>\n      <td>108.711561</td>\n      <td>81.000000</td>\n      <td>108.711561</td>\n      <td>108.711561</td>\n    </tr>\n    <tr>\n      <th>187401</th>\n      <td>H5n9BQfULHEEtvLVf2WErUHsXHhRaUkYqVhNzxUkWJGf</td>\n      <td>2023-12-31 06:10:00</td>\n      <td>0.000015</td>\n      <td>0.000014</td>\n      <td>0.000027</td>\n      <td>0.913333</td>\n      <td>up</td>\n      <td>1</td>\n      <td>1</td>\n      <td>1</td>\n      <td>...</td>\n      <td>5.123112</td>\n      <td>21.750000</td>\n      <td>28.190364</td>\n      <td>26.988341</td>\n      <td>87.000000</td>\n      <td>112.761457</td>\n      <td>112.761457</td>\n      <td>87.000000</td>\n      <td>112.761457</td>\n      <td>112.761457</td>\n    </tr>\n    <tr>\n      <th>187441</th>\n      <td>H5n9BQfULHEEtvLVf2WErUHsXHhRaUkYqVhNzxUkWJGf</td>\n      <td>2023-12-31 06:20:00</td>\n      <td>0.000014</td>\n      <td>0.000014</td>\n      <td>0.000032</td>\n      <td>1.330193</td>\n      <td>up</td>\n      <td>1</td>\n      <td>1</td>\n      <td>1</td>\n      <td>...</td>\n      <td>4.664524</td>\n      <td>22.000000</td>\n      <td>28.202866</td>\n      <td>25.185064</td>\n      <td>88.000000</td>\n      <td>112.811466</td>\n      <td>112.811466</td>\n      <td>88.000000</td>\n      <td>112.811466</td>\n      <td>112.811466</td>\n    </tr>\n    <tr>\n      <th>187517</th>\n      <td>H5n9BQfULHEEtvLVf2WErUHsXHhRaUkYqVhNzxUkWJGf</td>\n      <td>2023-12-31 06:40:00</td>\n      <td>0.000018</td>\n      <td>0.000020</td>\n      <td>0.000030</td>\n      <td>0.520111</td>\n      <td>up</td>\n      <td>1</td>\n      <td>1</td>\n      <td>1</td>\n      <td>...</td>\n      <td>3.573703</td>\n      <td>23.000000</td>\n      <td>29.296088</td>\n      <td>25.950834</td>\n      <td>92.000000</td>\n      <td>117.184353</td>\n      <td>117.184353</td>\n      <td>92.000000</td>\n      <td>117.184353</td>\n      <td>117.184353</td>\n    </tr>\n    <tr>\n      <th>195217</th>\n      <td>H5n9BQfULHEEtvLVf2WErUHsXHhRaUkYqVhNzxUkWJGf</td>\n      <td>2024-01-01 04:00:00</td>\n      <td>0.000007</td>\n      <td>0.000006</td>\n      <td>0.000010</td>\n      <td>0.668463</td>\n      <td>up</td>\n      <td>1</td>\n      <td>1</td>\n      <td>1</td>\n      <td>...</td>\n      <td>10.585820</td>\n      <td>19.714286</td>\n      <td>33.379022</td>\n      <td>31.644818</td>\n      <td>73.571429</td>\n      <td>120.798806</td>\n      <td>116.535889</td>\n      <td>257.500000</td>\n      <td>422.795822</td>\n      <td>552.757870</td>\n    </tr>\n    <tr>\n      <th>195275</th>\n      <td>H5n9BQfULHEEtvLVf2WErUHsXHhRaUkYqVhNzxUkWJGf</td>\n      <td>2024-01-01 04:10:00</td>\n      <td>0.000006</td>\n      <td>0.000007</td>\n      <td>0.000011</td>\n      <td>0.543740</td>\n      <td>up</td>\n      <td>1</td>\n      <td>1</td>\n      <td>1</td>\n      <td>...</td>\n      <td>5.462394</td>\n      <td>20.285714</td>\n      <td>34.180222</td>\n      <td>36.901979</td>\n      <td>74.714286</td>\n      <td>122.401206</td>\n      <td>119.661660</td>\n      <td>261.500000</td>\n      <td>428.404220</td>\n      <td>557.571341</td>\n    </tr>\n    <tr>\n      <th>203357</th>\n      <td>H5n9BQfULHEEtvLVf2WErUHsXHhRaUkYqVhNzxUkWJGf</td>\n      <td>2024-01-02 01:40:00</td>\n      <td>0.000002</td>\n      <td>0.000003</td>\n      <td>0.000006</td>\n      <td>1.112973</td>\n      <td>up</td>\n      <td>1</td>\n      <td>1</td>\n      <td>1</td>\n      <td>...</td>\n      <td>0.363111</td>\n      <td>7.000000</td>\n      <td>9.041714</td>\n      <td>7.908165</td>\n      <td>60.250000</td>\n      <td>92.387453</td>\n      <td>73.995060</td>\n      <td>361.500000</td>\n      <td>554.324716</td>\n      <td>486.891947</td>\n    </tr>\n    <tr>\n      <th>209450</th>\n      <td>H5n9BQfULHEEtvLVf2WErUHsXHhRaUkYqVhNzxUkWJGf</td>\n      <td>2024-01-02 18:10:00</td>\n      <td>0.000002</td>\n      <td>0.000002</td>\n      <td>0.000004</td>\n      <td>0.608572</td>\n      <td>up</td>\n      <td>1</td>\n      <td>1</td>\n      <td>1</td>\n      <td>...</td>\n      <td>0.280677</td>\n      <td>2.428571</td>\n      <td>2.320803</td>\n      <td>2.311475</td>\n      <td>41.571429</td>\n      <td>61.289704</td>\n      <td>43.159789</td>\n      <td>257.666667</td>\n      <td>388.509205</td>\n      <td>318.209764</td>\n    </tr>\n    <tr>\n      <th>224452</th>\n      <td>H5n9BQfULHEEtvLVf2WErUHsXHhRaUkYqVhNzxUkWJGf</td>\n      <td>2024-01-04 06:20:00</td>\n      <td>0.000005</td>\n      <td>0.000005</td>\n      <td>0.000009</td>\n      <td>0.869592</td>\n      <td>up</td>\n      <td>1</td>\n      <td>1</td>\n      <td>1</td>\n      <td>...</td>\n      <td>0.335539</td>\n      <td>1.142857</td>\n      <td>0.789076</td>\n      <td>0.902363</td>\n      <td>9.428571</td>\n      <td>8.512555</td>\n      <td>7.513833</td>\n      <td>167.200000</td>\n      <td>242.165542</td>\n      <td>152.286504</td>\n    </tr>\n  </tbody>\n</table>\n<p>12 rows × 72 columns</p>\n</div>"
     },
     "execution_count": 83,
     "metadata": {},
     "output_type": "execute_result"
    }
   ],
   "source": [
    "dataset[(dataset['label'] == 'up') & (dataset['mint'] == 'H5n9BQfULHEEtvLVf2WErUHsXHhRaUkYqVhNzxUkWJGf')]"
   ],
   "metadata": {
    "collapsed": false,
    "ExecuteTime": {
     "end_time": "2024-01-09T22:25:39.539843Z",
     "start_time": "2024-01-09T22:25:39.514220Z"
    }
   },
   "id": "4826623dcd12af48"
  },
  {
   "cell_type": "code",
   "execution_count": 84,
   "outputs": [
    {
     "data": {
      "text/plain": "1253"
     },
     "execution_count": 84,
     "metadata": {},
     "output_type": "execute_result"
    }
   ],
   "source": [
    "dataset[dataset['label'] == 'up']['mint'].nunique()\n"
   ],
   "metadata": {
    "collapsed": false,
    "ExecuteTime": {
     "end_time": "2024-01-09T22:25:40.424017Z",
     "start_time": "2024-01-09T22:25:40.378292Z"
    }
   },
   "id": "43cf93a151512c70"
  },
  {
   "cell_type": "code",
   "execution_count": 85,
   "outputs": [
    {
     "name": "stdout",
     "output_type": "stream",
     "text": [
      "dataset len: 276427\n",
      "train_test_dataset len: 270249\n",
      "train_test_dataset len: 270249\n",
      "unique_mints len: 4201\n"
     ]
    }
   ],
   "source": [
    "from sklearn.model_selection import TimeSeriesSplit\n",
    "\n",
    "print(\"dataset len: %d\" % len(dataset))\n",
    "train_test_dataset = dataset[dataset['label'] != 'na']\n",
    "print(\"train_test_dataset len: %d\" % len(train_test_dataset))\n",
    "# train_test_dataset = train_test_dataset[train_test_dataset['sma_vol_sum_1h'] > 1]\n",
    "print(\"train_test_dataset len: %d\" % len(train_test_dataset))\n",
    "unique_mints = train_test_dataset['mint'].unique()\n",
    "print(\"unique_mints len: %d\" % len(unique_mints))\n"
   ],
   "metadata": {
    "collapsed": false,
    "ExecuteTime": {
     "end_time": "2024-01-09T22:25:45.568854Z",
     "start_time": "2024-01-09T22:25:45.478466Z"
    }
   },
   "id": "cd9ba54930ee096f"
  },
  {
   "cell_type": "code",
   "execution_count": 86,
   "outputs": [
    {
     "name": "stdout",
     "output_type": "stream",
     "text": [
      "1253\n",
      "7043\n"
     ]
    }
   ],
   "source": [
    "# how many mints have up label\n",
    "print(train_test_dataset[train_test_dataset['label'] == 'up']['mint'].nunique())\n",
    "print(len(train_test_dataset[train_test_dataset['label'] == 'up']))"
   ],
   "metadata": {
    "collapsed": false,
    "ExecuteTime": {
     "end_time": "2024-01-09T22:25:46.091107Z",
     "start_time": "2024-01-09T22:25:46.058419Z"
    }
   },
   "id": "783473e3cc65b98b"
  },
  {
   "cell_type": "code",
   "execution_count": 87,
   "outputs": [
    {
     "data": {
      "text/plain": "14          2.000005\n20          0.058627\n45          0.073061\n62          0.158632\n73         33.421965\n             ...    \n275719     62.911589\n275735    379.314980\n275753      6.396815\n275811    379.330052\n275940    173.164150\nName: vol_sma_sum_1d, Length: 7043, dtype: float64"
     },
     "execution_count": 87,
     "metadata": {},
     "output_type": "execute_result"
    }
   ],
   "source": [
    "train_test_dataset[train_test_dataset['label'] == 'up']['vol_sma_sum_1d']\n"
   ],
   "metadata": {
    "collapsed": false,
    "ExecuteTime": {
     "end_time": "2024-01-09T22:25:46.428839Z",
     "start_time": "2024-01-09T22:25:46.421105Z"
    }
   },
   "id": "65c53e8dae31421d"
  },
  {
   "cell_type": "code",
   "execution_count": 88,
   "outputs": [
    {
     "data": {
      "text/plain": "count     7043.000000\nmean       193.302545\nstd        535.794990\nmin          0.004127\n25%          6.572006\n50%         33.913218\n75%        147.464412\nmax      16364.577273\nName: vol_sma_sum_1d, dtype: float64"
     },
     "execution_count": 88,
     "metadata": {},
     "output_type": "execute_result"
    }
   ],
   "source": [
    "train_test_dataset[train_test_dataset['label'] == 'up']['vol_sma_sum_1d'].describe()"
   ],
   "metadata": {
    "collapsed": false,
    "ExecuteTime": {
     "end_time": "2024-01-09T22:25:46.673386Z",
     "start_time": "2024-01-09T22:25:46.664659Z"
    }
   },
   "id": "bd3d63b2b2a9694a"
  },
  {
   "cell_type": "code",
   "execution_count": 89,
   "outputs": [
    {
     "data": {
      "text/plain": "                                                mint           timestamp  \\\n0       2ZE6hSL36e44wP168YMnxrbi1CSCFuD2BJm7NoNHfsmN 2023-12-01 00:10:00   \n1       2x8o3hA5S5fBxCSE9hzVTf3RohcMWHqkDNKNEPuzprD5 2023-12-01 00:10:00   \n2       3EagcZ66c8z2hZdFSd5412yEW9U48AAb9P6d1yhjuGmY 2023-12-01 00:10:00   \n3       7SZUnH7H9KptyJkUhJ5L4Kee5fFAbqVgCHvt7B6wg4Xc 2023-12-01 00:10:00   \n4       7xKXtg2CW87d97TXJSDpbD5jBkheTqA83TZRuJosgAsU 2023-12-01 00:10:00   \n...                                              ...                 ...   \n276009   SHDWyBxihqiCj6YekG2GUr7wqKLeLAMK1gHZck9pL6y 2024-01-09 21:10:00   \n276010   X3f3cq4eeZFdSqXZ1HfpNthvF8B2WJKfVbw2wp569DF 2024-01-09 21:10:00   \n276012   mSoLzYCxHdYgdzU16g5QSh3i5K3z3KZK7ytfqcJm7So 2024-01-09 21:10:00   \n276014   tQZz1apyqnac2gW3CAodaLvEwrQzQqR5tDBiEUY2LRq 2024-01-09 21:10:00   \n276015   tx8pFF4XPVpf9PanWLcgKnQr5jgDVFpLVFHkwvTtVMh 2024-01-09 21:10:00   \n\n         quant_price     buy_price    sell_price    upside label  \\\n0       5.512779e-05  5.512779e-05  5.516046e-05  0.000593  flat   \n1       6.712853e-06  6.712853e-06  7.141960e-06  0.063923  flat   \n2       1.079326e-05  1.224739e-05  1.107218e-05 -0.095956  flat   \n3       2.025078e-08  2.025078e-08  2.025078e-08  0.000000  flat   \n4       1.332301e-04  1.332301e-04  1.325675e-04 -0.004973  flat   \n...              ...           ...           ...       ...   ...   \n276009  1.552424e-02  1.552424e-02  1.552424e-02  0.000000  flat   \n276010  1.343135e-06  9.234883e-07  9.234883e-07  0.000000  flat   \n276012  1.160574e+00  1.158366e+00  1.158192e+00 -0.000151  flat   \n276014  9.157859e-08  9.900470e-08  9.900470e-08  0.000000  flat   \n276015  3.241946e-08  3.241946e-08  3.240515e-08 -0.000441  flat   \n\n        found_points_now  price_sma_now  price_ema_now  ...  vol_ema_sum_10m  \\\n0                      1              1              1  ...         0.664408   \n1                      1              1              1  ...         0.200005   \n2                      1              1              1  ...         1.000006   \n3                      1              1              1  ...         0.055945   \n4                      1              1              1  ...         3.330751   \n...                  ...            ...            ...  ...              ...   \n276009                 1              1              1  ...        51.950008   \n276010                 1              1              1  ...         1.514707   \n276012                 1              1              1  ...        37.895481   \n276014                 1              1              1  ...         0.133353   \n276015                 1              1              1  ...         0.124249   \n\n        trcnt_sma_sum_1h  vol_sma_sum_1h  vol_ema_sum_1h  trcnt_sma_sum_4h  \\\n0               1.000000        0.664408        0.664408          1.000000   \n1               1.000000        0.200005        0.200005          1.000000   \n2               1.000000        1.000006        1.000006          1.000000   \n3               1.000000        0.055945        0.055945          1.000000   \n4               1.000000        3.330751        3.330751          1.000000   \n...                  ...             ...             ...               ...   \n276009          3.642857       50.780826       72.241331         13.142857   \n276010         15.333333        7.936739        8.419160         46.000000   \n276012         11.071429      150.252668      155.690881         34.785714   \n276014          0.928571        0.460971        0.667962         28.500000   \n276015          6.500000        3.280772        2.496347         26.000000   \n\n        vol_sma_sum_4h  vol_ema_sum_4h  trcnt_sma_sum_1d  vol_sma_sum_1d  \\\n0             0.664408        0.664408          1.000000        0.664408   \n1             0.200005        0.200005          1.000000        0.200005   \n2             1.000006        1.000006          1.000000        1.000006   \n3             0.055945        0.055945          1.000000        0.055945   \n4             3.330751        3.330751          1.000000        3.330751   \n...                ...             ...               ...             ...   \n276009      157.824621      168.590750         45.500000      607.141691   \n276010       23.810218       23.810218         46.000000       23.810218   \n276012      756.767732      701.417397        162.071429     7109.238082   \n276014       17.826107        9.478097        114.000000       71.304429   \n276015       13.123086       13.123086         26.000000       13.123086   \n\n        vol_ema_sum_1d  \n0             0.664408  \n1             0.200005  \n2             1.000006  \n3             0.055945  \n4             3.330751  \n...                ...  \n276009      633.574629  \n276010       23.810218  \n276012     5623.410970  \n276014       71.481579  \n276015       13.123086  \n\n[270249 rows x 72 columns]",
      "text/html": "<div>\n<style scoped>\n    .dataframe tbody tr th:only-of-type {\n        vertical-align: middle;\n    }\n\n    .dataframe tbody tr th {\n        vertical-align: top;\n    }\n\n    .dataframe thead th {\n        text-align: right;\n    }\n</style>\n<table border=\"1\" class=\"dataframe\">\n  <thead>\n    <tr style=\"text-align: right;\">\n      <th></th>\n      <th>mint</th>\n      <th>timestamp</th>\n      <th>quant_price</th>\n      <th>buy_price</th>\n      <th>sell_price</th>\n      <th>upside</th>\n      <th>label</th>\n      <th>found_points_now</th>\n      <th>price_sma_now</th>\n      <th>price_ema_now</th>\n      <th>...</th>\n      <th>vol_ema_sum_10m</th>\n      <th>trcnt_sma_sum_1h</th>\n      <th>vol_sma_sum_1h</th>\n      <th>vol_ema_sum_1h</th>\n      <th>trcnt_sma_sum_4h</th>\n      <th>vol_sma_sum_4h</th>\n      <th>vol_ema_sum_4h</th>\n      <th>trcnt_sma_sum_1d</th>\n      <th>vol_sma_sum_1d</th>\n      <th>vol_ema_sum_1d</th>\n    </tr>\n  </thead>\n  <tbody>\n    <tr>\n      <th>0</th>\n      <td>2ZE6hSL36e44wP168YMnxrbi1CSCFuD2BJm7NoNHfsmN</td>\n      <td>2023-12-01 00:10:00</td>\n      <td>5.512779e-05</td>\n      <td>5.512779e-05</td>\n      <td>5.516046e-05</td>\n      <td>0.000593</td>\n      <td>flat</td>\n      <td>1</td>\n      <td>1</td>\n      <td>1</td>\n      <td>...</td>\n      <td>0.664408</td>\n      <td>1.000000</td>\n      <td>0.664408</td>\n      <td>0.664408</td>\n      <td>1.000000</td>\n      <td>0.664408</td>\n      <td>0.664408</td>\n      <td>1.000000</td>\n      <td>0.664408</td>\n      <td>0.664408</td>\n    </tr>\n    <tr>\n      <th>1</th>\n      <td>2x8o3hA5S5fBxCSE9hzVTf3RohcMWHqkDNKNEPuzprD5</td>\n      <td>2023-12-01 00:10:00</td>\n      <td>6.712853e-06</td>\n      <td>6.712853e-06</td>\n      <td>7.141960e-06</td>\n      <td>0.063923</td>\n      <td>flat</td>\n      <td>1</td>\n      <td>1</td>\n      <td>1</td>\n      <td>...</td>\n      <td>0.200005</td>\n      <td>1.000000</td>\n      <td>0.200005</td>\n      <td>0.200005</td>\n      <td>1.000000</td>\n      <td>0.200005</td>\n      <td>0.200005</td>\n      <td>1.000000</td>\n      <td>0.200005</td>\n      <td>0.200005</td>\n    </tr>\n    <tr>\n      <th>2</th>\n      <td>3EagcZ66c8z2hZdFSd5412yEW9U48AAb9P6d1yhjuGmY</td>\n      <td>2023-12-01 00:10:00</td>\n      <td>1.079326e-05</td>\n      <td>1.224739e-05</td>\n      <td>1.107218e-05</td>\n      <td>-0.095956</td>\n      <td>flat</td>\n      <td>1</td>\n      <td>1</td>\n      <td>1</td>\n      <td>...</td>\n      <td>1.000006</td>\n      <td>1.000000</td>\n      <td>1.000006</td>\n      <td>1.000006</td>\n      <td>1.000000</td>\n      <td>1.000006</td>\n      <td>1.000006</td>\n      <td>1.000000</td>\n      <td>1.000006</td>\n      <td>1.000006</td>\n    </tr>\n    <tr>\n      <th>3</th>\n      <td>7SZUnH7H9KptyJkUhJ5L4Kee5fFAbqVgCHvt7B6wg4Xc</td>\n      <td>2023-12-01 00:10:00</td>\n      <td>2.025078e-08</td>\n      <td>2.025078e-08</td>\n      <td>2.025078e-08</td>\n      <td>0.000000</td>\n      <td>flat</td>\n      <td>1</td>\n      <td>1</td>\n      <td>1</td>\n      <td>...</td>\n      <td>0.055945</td>\n      <td>1.000000</td>\n      <td>0.055945</td>\n      <td>0.055945</td>\n      <td>1.000000</td>\n      <td>0.055945</td>\n      <td>0.055945</td>\n      <td>1.000000</td>\n      <td>0.055945</td>\n      <td>0.055945</td>\n    </tr>\n    <tr>\n      <th>4</th>\n      <td>7xKXtg2CW87d97TXJSDpbD5jBkheTqA83TZRuJosgAsU</td>\n      <td>2023-12-01 00:10:00</td>\n      <td>1.332301e-04</td>\n      <td>1.332301e-04</td>\n      <td>1.325675e-04</td>\n      <td>-0.004973</td>\n      <td>flat</td>\n      <td>1</td>\n      <td>1</td>\n      <td>1</td>\n      <td>...</td>\n      <td>3.330751</td>\n      <td>1.000000</td>\n      <td>3.330751</td>\n      <td>3.330751</td>\n      <td>1.000000</td>\n      <td>3.330751</td>\n      <td>3.330751</td>\n      <td>1.000000</td>\n      <td>3.330751</td>\n      <td>3.330751</td>\n    </tr>\n    <tr>\n      <th>...</th>\n      <td>...</td>\n      <td>...</td>\n      <td>...</td>\n      <td>...</td>\n      <td>...</td>\n      <td>...</td>\n      <td>...</td>\n      <td>...</td>\n      <td>...</td>\n      <td>...</td>\n      <td>...</td>\n      <td>...</td>\n      <td>...</td>\n      <td>...</td>\n      <td>...</td>\n      <td>...</td>\n      <td>...</td>\n      <td>...</td>\n      <td>...</td>\n      <td>...</td>\n      <td>...</td>\n    </tr>\n    <tr>\n      <th>276009</th>\n      <td>SHDWyBxihqiCj6YekG2GUr7wqKLeLAMK1gHZck9pL6y</td>\n      <td>2024-01-09 21:10:00</td>\n      <td>1.552424e-02</td>\n      <td>1.552424e-02</td>\n      <td>1.552424e-02</td>\n      <td>0.000000</td>\n      <td>flat</td>\n      <td>1</td>\n      <td>1</td>\n      <td>1</td>\n      <td>...</td>\n      <td>51.950008</td>\n      <td>3.642857</td>\n      <td>50.780826</td>\n      <td>72.241331</td>\n      <td>13.142857</td>\n      <td>157.824621</td>\n      <td>168.590750</td>\n      <td>45.500000</td>\n      <td>607.141691</td>\n      <td>633.574629</td>\n    </tr>\n    <tr>\n      <th>276010</th>\n      <td>X3f3cq4eeZFdSqXZ1HfpNthvF8B2WJKfVbw2wp569DF</td>\n      <td>2024-01-09 21:10:00</td>\n      <td>1.343135e-06</td>\n      <td>9.234883e-07</td>\n      <td>9.234883e-07</td>\n      <td>0.000000</td>\n      <td>flat</td>\n      <td>1</td>\n      <td>1</td>\n      <td>1</td>\n      <td>...</td>\n      <td>1.514707</td>\n      <td>15.333333</td>\n      <td>7.936739</td>\n      <td>8.419160</td>\n      <td>46.000000</td>\n      <td>23.810218</td>\n      <td>23.810218</td>\n      <td>46.000000</td>\n      <td>23.810218</td>\n      <td>23.810218</td>\n    </tr>\n    <tr>\n      <th>276012</th>\n      <td>mSoLzYCxHdYgdzU16g5QSh3i5K3z3KZK7ytfqcJm7So</td>\n      <td>2024-01-09 21:10:00</td>\n      <td>1.160574e+00</td>\n      <td>1.158366e+00</td>\n      <td>1.158192e+00</td>\n      <td>-0.000151</td>\n      <td>flat</td>\n      <td>1</td>\n      <td>1</td>\n      <td>1</td>\n      <td>...</td>\n      <td>37.895481</td>\n      <td>11.071429</td>\n      <td>150.252668</td>\n      <td>155.690881</td>\n      <td>34.785714</td>\n      <td>756.767732</td>\n      <td>701.417397</td>\n      <td>162.071429</td>\n      <td>7109.238082</td>\n      <td>5623.410970</td>\n    </tr>\n    <tr>\n      <th>276014</th>\n      <td>tQZz1apyqnac2gW3CAodaLvEwrQzQqR5tDBiEUY2LRq</td>\n      <td>2024-01-09 21:10:00</td>\n      <td>9.157859e-08</td>\n      <td>9.900470e-08</td>\n      <td>9.900470e-08</td>\n      <td>0.000000</td>\n      <td>flat</td>\n      <td>1</td>\n      <td>1</td>\n      <td>1</td>\n      <td>...</td>\n      <td>0.133353</td>\n      <td>0.928571</td>\n      <td>0.460971</td>\n      <td>0.667962</td>\n      <td>28.500000</td>\n      <td>17.826107</td>\n      <td>9.478097</td>\n      <td>114.000000</td>\n      <td>71.304429</td>\n      <td>71.481579</td>\n    </tr>\n    <tr>\n      <th>276015</th>\n      <td>tx8pFF4XPVpf9PanWLcgKnQr5jgDVFpLVFHkwvTtVMh</td>\n      <td>2024-01-09 21:10:00</td>\n      <td>3.241946e-08</td>\n      <td>3.241946e-08</td>\n      <td>3.240515e-08</td>\n      <td>-0.000441</td>\n      <td>flat</td>\n      <td>1</td>\n      <td>1</td>\n      <td>1</td>\n      <td>...</td>\n      <td>0.124249</td>\n      <td>6.500000</td>\n      <td>3.280772</td>\n      <td>2.496347</td>\n      <td>26.000000</td>\n      <td>13.123086</td>\n      <td>13.123086</td>\n      <td>26.000000</td>\n      <td>13.123086</td>\n      <td>13.123086</td>\n    </tr>\n  </tbody>\n</table>\n<p>270249 rows × 72 columns</p>\n</div>"
     },
     "execution_count": 89,
     "metadata": {},
     "output_type": "execute_result"
    }
   ],
   "source": [
    "train_test_dataset"
   ],
   "metadata": {
    "collapsed": false,
    "ExecuteTime": {
     "end_time": "2024-01-09T22:25:46.926090Z",
     "start_time": "2024-01-09T22:25:46.870278Z"
    }
   },
   "id": "ab86e197b0b04654"
  },
  {
   "cell_type": "code",
   "execution_count": 90,
   "outputs": [
    {
     "name": "stdout",
     "output_type": "stream",
     "text": [
      "feature_names: ['found_points_now', 'price_sma_now', 'price_ema_now', 'price_rsi_now', 'found_points_10m', 'price_sma_10m', 'price_ema_10m', 'price_rsi_10m', 'found_points_1h', 'price_sma_1h', 'price_ema_1h', 'price_rsi_1h', 'found_points_4h', 'price_sma_4h', 'price_ema_4h', 'price_rsi_4h', 'found_points_1d', 'price_sma_1d', 'price_ema_1d', 'price_rsi_1d', 'trcnt_sma_buy_now', 'vol_sma_buy_now', 'vol_ema_buy_now', 'trcnt_sma_buy_10m', 'vol_sma_buy_10m', 'vol_ema_buy_10m', 'trcnt_sma_buy_1h', 'vol_sma_buy_1h', 'vol_ema_buy_1h', 'trcnt_sma_buy_4h', 'vol_sma_buy_4h', 'vol_ema_buy_4h', 'trcnt_sma_buy_1d', 'vol_sma_buy_1d', 'vol_ema_buy_1d', 'trcnt_sma_sell_now', 'vol_sma_sell_now', 'vol_ema_sell_now', 'trcnt_sma_sell_10m', 'vol_sma_sell_10m', 'vol_ema_sell_10m', 'trcnt_sma_sell_1h', 'vol_sma_sell_1h', 'vol_ema_sell_1h', 'trcnt_sma_sell_4h', 'vol_sma_sell_4h', 'vol_ema_sell_4h', 'trcnt_sma_sell_1d', 'vol_sma_sell_1d', 'vol_ema_sell_1d', 'trcnt_sma_sum_now', 'vol_sma_sum_now', 'vol_ema_sum_now', 'trcnt_sma_sum_10m', 'vol_sma_sum_10m', 'vol_ema_sum_10m', 'trcnt_sma_sum_1h', 'vol_sma_sum_1h', 'vol_ema_sum_1h', 'trcnt_sma_sum_4h', 'vol_sma_sum_4h', 'vol_ema_sum_4h', 'trcnt_sma_sum_1d', 'vol_sma_sum_1d', 'vol_ema_sum_1d']\n"
     ]
    }
   ],
   "source": [
    "column_names = list(train_test_dataset.columns)\n",
    "# feature names start after 'label'\n",
    "label_index = column_names.index('label')\n",
    "feature_names = column_names[label_index+1:]\n",
    "print(f\"feature_names: {feature_names}\")"
   ],
   "metadata": {
    "collapsed": false,
    "ExecuteTime": {
     "end_time": "2024-01-09T22:25:46.971918Z",
     "start_time": "2024-01-09T22:25:46.951897Z"
    }
   },
   "id": "34b9df2488215da7"
  },
  {
   "cell_type": "code",
   "execution_count": 91,
   "outputs": [
    {
     "name": "stdout",
     "output_type": "stream",
     "text": [
      "train [2023-12-01 00:10:00; 2023-12-25 22:17:30)\n",
      "test [2023-12-25 23:17:30; 2023-12-30 22:55:00)\n",
      "train_data (138878) [2023-12-01 00:10:00; 2023-12-25 22:10:00]\n",
      "test_data (43171) [2023-12-25 23:20:00 to 2023-12-30 22:50:00]\n",
      "train [2023-12-01 00:10:00; 2023-12-30 21:55:00)\n",
      "test [2023-12-30 22:55:00; 2024-01-04 22:32:30)\n",
      "train_data (182148) [2023-12-01 00:10:00; 2023-12-30 21:50:00]\n",
      "test_data (44889) [2023-12-30 23:00:00 to 2024-01-04 22:30:00]\n",
      "train [2023-12-01 00:10:00; 2024-01-04 21:32:30)\n",
      "test [2024-01-04 22:32:30; 2024-01-09 22:10:00)\n",
      "train_data (226903) [2023-12-01 00:10:00; 2024-01-04 21:30:00]\n",
      "test_data (42901) [2024-01-04 22:40:00 to 2024-01-09 21:10:00]\n"
     ]
    }
   ],
   "source": [
    "import pandas as pd\n",
    "from catboost import CatBoostClassifier, Pool\n",
    "from sklearn.model_selection import TimeSeriesSplit\n",
    "from sklearn.metrics import confusion_matrix\n",
    "import matplotlib.pyplot as plt\n",
    "import seaborn as sns\n",
    "\n",
    "# Convert 'mint' to a categorical feature\n",
    "# train_test_dataset['mint'] = train_test_dataset['mint'].astype('category')\n",
    "\n",
    "# Define features and target\n",
    "# feature_names = ['mint', 'hour', 'trades', 'token_volume', 'sol_volume', 'price'] + list(features.columns[2:])\n",
    "# cat_feature_names = ['mint']\n",
    "# feature_names = ['trades', 'token_volume', 'sol_volume', 'price'] + list(features.columns[2:])\n",
    "cat_feature_names = []\n",
    "target = 'label'\n",
    "\n",
    "# Initialize CatBoost Classifier\n",
    "model = CatBoostClassifier(loss_function='MultiClass', verbose=False)\n",
    "\n",
    "# TimeSeriesSplit for cross-validation\n",
    "nsplits = 3\n",
    "\n",
    "# To store predictions and actuals\n",
    "actuals = []\n",
    "raw_predictions = []\n",
    "up_probabilities = []\n",
    "down_probabilities = []\n",
    "details_df = pd.DataFrame() \n",
    "train_len = 0\n",
    "up_train_len = 0\n",
    "\n",
    "def split_tscv(ordered_df, nsplits):\n",
    "    min_quant = ordered_df['timestamp'].min()\n",
    "    max_quant = ordered_df['timestamp'].max()\n",
    "    range_quant = (max_quant - min_quant) / (nsplits + 1) / 2\n",
    "    for i in range(nsplits):\n",
    "        train_start = min_quant \n",
    "        train_end = min_quant + (i + 1) * range_quant + (max_quant - min_quant) / 2\n",
    "        test_start = train_end + PREDICTION_TIMEDELTA\n",
    "        test_end = test_start + range_quant\n",
    "        print(f'train [{train_start}; {train_end})\\ntest [{test_start}; {test_end})')\n",
    "        train_df = ordered_df[(ordered_df['timestamp'] >= train_start) & (ordered_df['timestamp'] < train_end)]\n",
    "        test_df = ordered_df[(ordered_df['timestamp'] >= test_start) & (ordered_df['timestamp'] < test_end)]\n",
    "        yield train_df, test_df\n",
    "    \n",
    "    \n",
    "split_tscv(train_test_dataset, nsplits)\n",
    "\n",
    "for train_data, test_data in split_tscv(train_test_dataset, nsplits):\n",
    "    print(f'train_data ({len(train_data)}) [{min(train_data[\"timestamp\"])}; {max(train_data[\"timestamp\"])}]')\n",
    "    if len(test_data) == 0:\n",
    "        print(f'No data left for test data')\n",
    "        break\n",
    "    print(f'test_data ({len(test_data)}) [{min(test_data[\"timestamp\"])} to {max(test_data[\"timestamp\"])}]')\n",
    "\n",
    "    train_len += len(train_data)\n",
    "    up_train_len += len(train_data[train_data[target] == 'up'])\n",
    "\n",
    "    # Create Pool\n",
    "    train_pool = Pool(data=train_data[feature_names], label=train_data[target], cat_features=cat_feature_names)\n",
    "    test_pool = Pool(data=test_data[feature_names], label=test_data[target], cat_features=cat_feature_names)\n",
    "\n",
    "    # Train model\n",
    "    model.fit(train_pool)\n",
    "\n",
    "    # Predict\n",
    "    classes = model.classes_\n",
    "    probs = model.predict_proba(test_pool)\n",
    "    classes_to_index = {c: i for i, c in enumerate(classes)}\n",
    "    \n",
    "    for probs_row in probs:\n",
    "        raw_predictions.append(classes[probs_row.argmax()])\n",
    "        up_probabilities.append(probs_row[classes_to_index['up']])\n",
    "        down_probabilities.append(probs_row[classes_to_index['down']])\n",
    "\n",
    "    actuals.extend(test_data[target].values)\n",
    "    if len(details_df) == 0:\n",
    "        details_df = test_data\n",
    "    else:\n",
    "        details_df = pd.concat([details_df, test_data])\n",
    "    \n"
   ],
   "metadata": {
    "collapsed": false,
    "ExecuteTime": {
     "end_time": "2024-01-09T22:26:46.509699Z",
     "start_time": "2024-01-09T22:25:47.637079Z"
    }
   },
   "id": "62eb4dc2618fa53e"
  },
  {
   "cell_type": "code",
   "execution_count": 92,
   "outputs": [
    {
     "name": "stdout",
     "output_type": "stream",
     "text": [
      "desired_up_amount: 1061 of 3228\n",
      "up_threshold: 0.14429784606607812\n",
      "pred len 130961, actuals len 130961, comparison_df len 130961, details len 130961, results_df len 130961\n",
      "Confusion Matrix:\n",
      "        up    flat  down\n",
      "up    221    2897   110\n",
      "flat  656  121570   385\n",
      "down  185    4628   309\n",
      "ROI1: 92.98% of 100%\n",
      "ROI2: 31.21% of 100%\n",
      "Bench ROI2: 3.70% of 100%\n",
      "Used: 0.81% (1062 of 130961 trades)\n",
      "\n",
      "purchased upsides: 0.3297934958505622, top 10 upsides ['15', '13', '10', '9', '9', '8', '7', '6', '6', '5']\n",
      "all upsides: 8110.413460343383, top 10 upsides ['688050265', '312744434', '61342203', '2149', '1470', '1462', '906', '887', '377', '350']\n"
     ]
    }
   ],
   "source": [
    "import numpy as np\n",
    "\n",
    "desired_up_amount = int(up_train_len * 1. / train_len * len(actuals) * 0.3)\n",
    "print(f\"desired_up_amount: {desired_up_amount} of {actuals.count('up')}\")\n",
    "\n",
    "delta_probabilities = list(np.array(up_probabilities) - np.array(down_probabilities) / CHANGE_MAGNITUDE)\n",
    "\n",
    "up_threshold = sorted(delta_probabilities, reverse=True)[desired_up_amount]\n",
    "print(f\"up_threshold: {up_threshold}\")\n",
    "\n",
    "predictions = []\n",
    "for raw_pred, up_prob in zip(raw_predictions, delta_probabilities):\n",
    "    if up_prob < up_threshold:\n",
    "        predictions.append(raw_pred if raw_pred != 'up' else 'flat')\n",
    "    else:\n",
    "        predictions.append('up')\n",
    "\n",
    "# Confusion Matrix\n",
    "conf_matrix = confusion_matrix(actuals, predictions, labels=['up', 'flat', 'down'])\n",
    "conf_matrix_df = pd.DataFrame(conf_matrix, index=['up', 'flat', 'down'], columns=['up', 'flat', 'down'])\n",
    "\n",
    "# Last iteration's predictions and actuals\n",
    "comparison_df = pd.DataFrame({'Actual': actuals, 'Predicted': predictions, 'UpP': up_probabilities, 'DownP': down_probabilities})\n",
    "# comparison_df = comparison_df.reset_index(drop=True)\n",
    "\n",
    "# add details to results_df\n",
    "results_df = pd.concat([comparison_df.reset_index(drop=True), details_df.reset_index(drop=True)], axis=1)\n",
    "print(f\"pred len {len(predictions)}, actuals len {len(actuals)}, \"\n",
    "      f\"comparison_df len {len(comparison_df)}, details len {len(details_df)}, results_df len {len(results_df)}\")\n",
    "\n",
    "purchased_upsides = results_df[(results_df['Predicted']=='up')]['upside']\n",
    "all_upsides = results_df['upside']\n",
    "\n",
    "# Output\n",
    "print(\"Confusion Matrix:\\n\", conf_matrix_df)\n",
    "print(\"ROI1: %.2f%% of 100%%\\n\"\n",
    "      \"ROI2: %.2f%% of 100%%\\n\"\n",
    "      \"Bench ROI2: %.2f%% of 100%%\\n\"\n",
    "      \"Used: %.2f%% (%d of %d trades)\\n\"\n",
    "      %(\n",
    "        (100 * (CHANGE_MAGNITUDE * 1. * conf_matrix_df.loc['up', 'up'].sum() + conf_matrix_df.loc['flat', 'up'].sum()) / conf_matrix_df.loc[:, 'up'].sum()),\n",
    "        (100 * (CHANGE_MAGNITUDE * 1. * conf_matrix_df.loc['up', 'up'].sum()) / conf_matrix_df.loc[:, 'up'].sum()),\n",
    "        (100 * (CHANGE_MAGNITUDE * 1. * conf_matrix_df.loc['up', :].sum()) / conf_matrix_df.loc[:, :].sum().sum()),\n",
    "        (100 * (1. * conf_matrix_df.loc[:, 'up'].sum()) / conf_matrix_df.loc[:, :].sum().sum()),\n",
    "        conf_matrix_df.loc[:, 'up'].sum(),\n",
    "        conf_matrix_df.loc[:, :].sum().sum(),\n",
    "      )\n",
    "      )\n",
    "print(f'purchased upsides: {purchased_upsides.mean()}, top 10 upsides {[\"%.0f\" % u for u in list(purchased_upsides.sort_values(ascending=False).head(10))]}')\n",
    "print(f'all upsides: {all_upsides.mean()}, top 10 upsides {[\"%.0f\" % u for u in list(all_upsides.sort_values(ascending=False).head(10))]}')"
   ],
   "metadata": {
    "collapsed": false,
    "ExecuteTime": {
     "end_time": "2024-01-09T22:26:46.915834Z",
     "start_time": "2024-01-09T22:26:46.568154Z"
    }
   },
   "id": "fef1b11c7c2205ff"
  },
  {
   "cell_type": "code",
   "execution_count": 93,
   "outputs": [
    {
     "name": "stdout",
     "output_type": "stream",
     "text": [
      "Confusion Matrix:\n",
      "        up    flat  down\n",
      "up    221    2897   110\n",
      "flat  656  121570   385\n",
      "down  185    4628   309\n",
      "ROI1: 92.98% of 100%\n",
      "ROI2: 31.21% of 100%\n",
      "Bench ROI2: 3.70% of 100%\n",
      "Used: 0.81% (1062 of 130961 trades)\n",
      "\n",
      "purchased upsides: 0.3297934958505622, top 10 upsides ['15', '13', '10', '9', '9', '8', '7', '6', '6', '5']\n",
      "all upsides: 8110.413460343383, top 10 upsides ['688050265', '312744434', '61342203', '2149', '1470', '1462', '906', '887', '377', '350']\n"
     ]
    }
   ],
   "source": [
    "print(\"Confusion Matrix:\\n\", conf_matrix_df)\n",
    "print(\"ROI1: %.2f%% of 100%%\\n\"\n",
    "      \"ROI2: %.2f%% of 100%%\\n\"\n",
    "      \"Bench ROI2: %.2f%% of 100%%\\n\"\n",
    "      \"Used: %.2f%% (%d of %d trades)\\n\"\n",
    "      %(\n",
    "        (100 * (CHANGE_MAGNITUDE * 1. * conf_matrix_df.loc['up', 'up'].sum() + conf_matrix_df.loc['flat', 'up'].sum()) / conf_matrix_df.loc[:, 'up'].sum()),\n",
    "        (100 * (CHANGE_MAGNITUDE * 1. * conf_matrix_df.loc['up', 'up'].sum()) / conf_matrix_df.loc[:, 'up'].sum()),\n",
    "        (100 * (CHANGE_MAGNITUDE * 1. * conf_matrix_df.loc['up', :].sum()) / conf_matrix_df.loc[:, :].sum().sum()),\n",
    "        (100 * (1. * conf_matrix_df.loc[:, 'up'].sum()) / conf_matrix_df.loc[:, :].sum().sum()),\n",
    "        conf_matrix_df.loc[:, 'up'].sum(),\n",
    "        conf_matrix_df.loc[:, :].sum().sum(),\n",
    "      )\n",
    "      )\n",
    "print(f'purchased upsides: {purchased_upsides.mean()}, top 10 upsides {[\"%.0f\" % u for u in list(purchased_upsides.sort_values(ascending=False).head(10))]}')\n",
    "print(f'all upsides: {all_upsides.mean()}, top 10 upsides {[\"%.0f\" % u for u in list(all_upsides.sort_values(ascending=False).head(10))]}')"
   ],
   "metadata": {
    "collapsed": false,
    "ExecuteTime": {
     "end_time": "2024-01-09T22:27:06.786634Z",
     "start_time": "2024-01-09T22:27:06.769506Z"
    }
   },
   "id": "94a5c8e242f78fdf"
  },
  {
   "cell_type": "code",
   "execution_count": 94,
   "outputs": [
    {
     "data": {
      "text/plain": "            Feature Id  Importances\n0      found_points_1d     5.508473\n1        price_sma_10m     4.608955\n2         price_sma_1h     4.375274\n3      found_points_4h     4.204257\n4        price_ema_10m     3.383229\n..                 ...          ...\n60  trcnt_sma_sell_now     0.215566\n61    found_points_now     0.000000\n62       price_sma_now     0.000000\n63       price_ema_now     0.000000\n64       price_rsi_now     0.000000\n\n[65 rows x 2 columns]",
      "text/html": "<div>\n<style scoped>\n    .dataframe tbody tr th:only-of-type {\n        vertical-align: middle;\n    }\n\n    .dataframe tbody tr th {\n        vertical-align: top;\n    }\n\n    .dataframe thead th {\n        text-align: right;\n    }\n</style>\n<table border=\"1\" class=\"dataframe\">\n  <thead>\n    <tr style=\"text-align: right;\">\n      <th></th>\n      <th>Feature Id</th>\n      <th>Importances</th>\n    </tr>\n  </thead>\n  <tbody>\n    <tr>\n      <th>0</th>\n      <td>found_points_1d</td>\n      <td>5.508473</td>\n    </tr>\n    <tr>\n      <th>1</th>\n      <td>price_sma_10m</td>\n      <td>4.608955</td>\n    </tr>\n    <tr>\n      <th>2</th>\n      <td>price_sma_1h</td>\n      <td>4.375274</td>\n    </tr>\n    <tr>\n      <th>3</th>\n      <td>found_points_4h</td>\n      <td>4.204257</td>\n    </tr>\n    <tr>\n      <th>4</th>\n      <td>price_ema_10m</td>\n      <td>3.383229</td>\n    </tr>\n    <tr>\n      <th>...</th>\n      <td>...</td>\n      <td>...</td>\n    </tr>\n    <tr>\n      <th>60</th>\n      <td>trcnt_sma_sell_now</td>\n      <td>0.215566</td>\n    </tr>\n    <tr>\n      <th>61</th>\n      <td>found_points_now</td>\n      <td>0.000000</td>\n    </tr>\n    <tr>\n      <th>62</th>\n      <td>price_sma_now</td>\n      <td>0.000000</td>\n    </tr>\n    <tr>\n      <th>63</th>\n      <td>price_ema_now</td>\n      <td>0.000000</td>\n    </tr>\n    <tr>\n      <th>64</th>\n      <td>price_rsi_now</td>\n      <td>0.000000</td>\n    </tr>\n  </tbody>\n</table>\n<p>65 rows × 2 columns</p>\n</div>"
     },
     "execution_count": 94,
     "metadata": {},
     "output_type": "execute_result"
    }
   ],
   "source": [
    "# feature importance\n",
    "model.get_feature_importance(prettified=True)"
   ],
   "metadata": {
    "collapsed": false,
    "ExecuteTime": {
     "end_time": "2024-01-09T22:27:07.917213Z",
     "start_time": "2024-01-09T22:27:07.885391Z"
    }
   },
   "id": "aa3a8642a70c940b"
  },
  {
   "cell_type": "code",
   "execution_count": 95,
   "outputs": [
    {
     "data": {
      "text/plain": "                                                mint           timestamp  \\\n130227  2SmRBxVJ6b1d3AH8ii111haL7UAeC1i6jSkYa3Dv2qUt 2024-01-09 19:20:00   \n130168  2SmRBxVJ6b1d3AH8ii111haL7UAeC1i6jSkYa3Dv2qUt 2024-01-09 19:10:00   \n127876  2SmRBxVJ6b1d3AH8ii111haL7UAeC1i6jSkYa3Dv2qUt 2024-01-09 13:30:00   \n127812  2SmRBxVJ6b1d3AH8ii111haL7UAeC1i6jSkYa3Dv2qUt 2024-01-09 13:20:00   \n127756  2SmRBxVJ6b1d3AH8ii111haL7UAeC1i6jSkYa3Dv2qUt 2024-01-09 13:10:00   \n...                                              ...                 ...   \n3219    87QbDz6Ze5B8L3PoGvqLyJ3JAydi39jNtvzXDEz7zbcK 2023-12-26 08:30:00   \n1154    2EgRd5AdhxeBtQ8iAgYQoSBtrbsuLGmDq1wQrPZr7KLs 2023-12-26 02:20:00   \n1101    2EgRd5AdhxeBtQ8iAgYQoSBtrbsuLGmDq1wQrPZr7KLs 2023-12-26 02:10:00   \n931     3UvytZmYyueFChyHbJyxjsSax5wBRuMNrGToDDykTba6 2023-12-26 01:40:00   \n390     2EgRd5AdhxeBtQ8iAgYQoSBtrbsuLGmDq1wQrPZr7KLs 2023-12-26 00:20:00   \n\n         quant_price     buy_price    sell_price    upside  \n130227  1.086795e-06  8.186362e-07  6.657790e-06  7.132782  \n130168  1.328629e-06  1.086795e-06  5.119283e-06  3.710440  \n127876  2.065637e-06  3.867069e-06  7.264079e-06  0.878446  \n127812  2.734486e-06  2.065637e-06  8.293023e-06  3.014753  \n127756  1.446587e-06  2.734486e-06  1.152645e-05  3.215215  \n...              ...           ...           ...       ...  \n3219    7.594394e-08  2.723975e-08  6.172890e-08  1.266134  \n1154    6.472822e-06  5.144960e-06  1.009962e-05  0.963012  \n1101    7.239185e-06  6.472822e-06  9.850990e-06  0.521900  \n931     2.525254e-07  2.707661e-07  4.887810e-07  0.805178  \n390     6.796180e-06  6.774996e-06  1.149276e-05  0.696350  \n\n[221 rows x 6 columns]",
      "text/html": "<div>\n<style scoped>\n    .dataframe tbody tr th:only-of-type {\n        vertical-align: middle;\n    }\n\n    .dataframe tbody tr th {\n        vertical-align: top;\n    }\n\n    .dataframe thead th {\n        text-align: right;\n    }\n</style>\n<table border=\"1\" class=\"dataframe\">\n  <thead>\n    <tr style=\"text-align: right;\">\n      <th></th>\n      <th>mint</th>\n      <th>timestamp</th>\n      <th>quant_price</th>\n      <th>buy_price</th>\n      <th>sell_price</th>\n      <th>upside</th>\n    </tr>\n  </thead>\n  <tbody>\n    <tr>\n      <th>130227</th>\n      <td>2SmRBxVJ6b1d3AH8ii111haL7UAeC1i6jSkYa3Dv2qUt</td>\n      <td>2024-01-09 19:20:00</td>\n      <td>1.086795e-06</td>\n      <td>8.186362e-07</td>\n      <td>6.657790e-06</td>\n      <td>7.132782</td>\n    </tr>\n    <tr>\n      <th>130168</th>\n      <td>2SmRBxVJ6b1d3AH8ii111haL7UAeC1i6jSkYa3Dv2qUt</td>\n      <td>2024-01-09 19:10:00</td>\n      <td>1.328629e-06</td>\n      <td>1.086795e-06</td>\n      <td>5.119283e-06</td>\n      <td>3.710440</td>\n    </tr>\n    <tr>\n      <th>127876</th>\n      <td>2SmRBxVJ6b1d3AH8ii111haL7UAeC1i6jSkYa3Dv2qUt</td>\n      <td>2024-01-09 13:30:00</td>\n      <td>2.065637e-06</td>\n      <td>3.867069e-06</td>\n      <td>7.264079e-06</td>\n      <td>0.878446</td>\n    </tr>\n    <tr>\n      <th>127812</th>\n      <td>2SmRBxVJ6b1d3AH8ii111haL7UAeC1i6jSkYa3Dv2qUt</td>\n      <td>2024-01-09 13:20:00</td>\n      <td>2.734486e-06</td>\n      <td>2.065637e-06</td>\n      <td>8.293023e-06</td>\n      <td>3.014753</td>\n    </tr>\n    <tr>\n      <th>127756</th>\n      <td>2SmRBxVJ6b1d3AH8ii111haL7UAeC1i6jSkYa3Dv2qUt</td>\n      <td>2024-01-09 13:10:00</td>\n      <td>1.446587e-06</td>\n      <td>2.734486e-06</td>\n      <td>1.152645e-05</td>\n      <td>3.215215</td>\n    </tr>\n    <tr>\n      <th>...</th>\n      <td>...</td>\n      <td>...</td>\n      <td>...</td>\n      <td>...</td>\n      <td>...</td>\n      <td>...</td>\n    </tr>\n    <tr>\n      <th>3219</th>\n      <td>87QbDz6Ze5B8L3PoGvqLyJ3JAydi39jNtvzXDEz7zbcK</td>\n      <td>2023-12-26 08:30:00</td>\n      <td>7.594394e-08</td>\n      <td>2.723975e-08</td>\n      <td>6.172890e-08</td>\n      <td>1.266134</td>\n    </tr>\n    <tr>\n      <th>1154</th>\n      <td>2EgRd5AdhxeBtQ8iAgYQoSBtrbsuLGmDq1wQrPZr7KLs</td>\n      <td>2023-12-26 02:20:00</td>\n      <td>6.472822e-06</td>\n      <td>5.144960e-06</td>\n      <td>1.009962e-05</td>\n      <td>0.963012</td>\n    </tr>\n    <tr>\n      <th>1101</th>\n      <td>2EgRd5AdhxeBtQ8iAgYQoSBtrbsuLGmDq1wQrPZr7KLs</td>\n      <td>2023-12-26 02:10:00</td>\n      <td>7.239185e-06</td>\n      <td>6.472822e-06</td>\n      <td>9.850990e-06</td>\n      <td>0.521900</td>\n    </tr>\n    <tr>\n      <th>931</th>\n      <td>3UvytZmYyueFChyHbJyxjsSax5wBRuMNrGToDDykTba6</td>\n      <td>2023-12-26 01:40:00</td>\n      <td>2.525254e-07</td>\n      <td>2.707661e-07</td>\n      <td>4.887810e-07</td>\n      <td>0.805178</td>\n    </tr>\n    <tr>\n      <th>390</th>\n      <td>2EgRd5AdhxeBtQ8iAgYQoSBtrbsuLGmDq1wQrPZr7KLs</td>\n      <td>2023-12-26 00:20:00</td>\n      <td>6.796180e-06</td>\n      <td>6.774996e-06</td>\n      <td>1.149276e-05</td>\n      <td>0.696350</td>\n    </tr>\n  </tbody>\n</table>\n<p>221 rows × 6 columns</p>\n</div>"
     },
     "execution_count": 95,
     "metadata": {},
     "output_type": "execute_result"
    }
   ],
   "source": [
    "# what was guessed correctly\n",
    "guessed = results_df[(results_df['Actual']=='up') & (results_df['Predicted']=='up')].sort_values(by=['timestamp', 'mint'], ascending=False)\n",
    "guessed[['mint', 'timestamp', 'quant_price', 'buy_price', 'sell_price', 'upside']]"
   ],
   "metadata": {
    "collapsed": false,
    "ExecuteTime": {
     "end_time": "2024-01-09T22:27:09.352165Z",
     "start_time": "2024-01-09T22:27:09.316279Z"
    }
   },
   "id": "610d77d03127299e"
  },
  {
   "cell_type": "code",
   "execution_count": 96,
   "outputs": [
    {
     "data": {
      "text/plain": "count                                              221\nunique                                              83\ntop       DqTKHDkRttkuHoFUJWZ3zUbxRrdsndTwe7qKwDG6SYCS\nfreq                                                15\nName: mint, dtype: object"
     },
     "execution_count": 96,
     "metadata": {},
     "output_type": "execute_result"
    }
   ],
   "source": [
    "guessed.mint.describe()"
   ],
   "metadata": {
    "collapsed": false,
    "ExecuteTime": {
     "end_time": "2024-01-09T22:27:11.460126Z",
     "start_time": "2024-01-09T22:27:11.446710Z"
    }
   },
   "id": "eb5aa523d3a36f3b"
  },
  {
   "cell_type": "code",
   "execution_count": 97,
   "outputs": [
    {
     "data": {
      "text/plain": "                                                mint           timestamp  \\\n130906  3ZLC6dCEt1QkcjBLDh9GZzGuUStbstxhB5pDoeNkd1ZG 2024-01-09 21:10:00   \n130792  5gBB5nFwCMujcjjGMcJ4tNi8fLsf32DdfgZ4yXTeeTFu 2024-01-09 20:50:00   \n130730  5gBB5nFwCMujcjjGMcJ4tNi8fLsf32DdfgZ4yXTeeTFu 2024-01-09 20:40:00   \n130682  BPivnge2WgisHu7HE4JrCE6aiqyDdbs7NrVWiYTWsaX4 2024-01-09 20:30:00   \n130227  2SmRBxVJ6b1d3AH8ii111haL7UAeC1i6jSkYa3Dv2qUt 2024-01-09 19:20:00   \n...                                              ...                 ...   \n390     2EgRd5AdhxeBtQ8iAgYQoSBtrbsuLGmDq1wQrPZr7KLs 2023-12-26 00:20:00   \n318     2EgRd5AdhxeBtQ8iAgYQoSBtrbsuLGmDq1wQrPZr7KLs 2023-12-26 00:10:00   \n256     2EgRd5AdhxeBtQ8iAgYQoSBtrbsuLGmDq1wQrPZr7KLs 2023-12-26 00:00:00   \n159     AfkUkcoJ5Yt7eU9BwnF1RjRqt4fQG5zYV1eS1ytDk7FE 2023-12-25 23:40:00   \n54      H1BYwUinBP1vex5Zcx1xT7KgPZoTWoyECueAzep38F1E 2023-12-25 23:20:00   \n\n         quant_price     buy_price    sell_price    upside  \n130906  1.808782e-07  1.868942e-07  1.868942e-07  0.000000  \n130792  2.793710e-07  3.282400e-07  2.880511e-07 -0.122437  \n130730  3.773922e-07  2.793710e-07  2.843889e-07  0.017961  \n130682  1.848129e-08  1.848129e-08  1.848129e-08  0.000000  \n130227  1.086795e-06  8.186362e-07  6.657790e-06  7.132782  \n...              ...           ...           ...       ...  \n390     6.796180e-06  6.774996e-06  1.149276e-05  0.696350  \n318     7.210069e-06  6.796180e-06  9.863213e-06  0.451288  \n256     9.245003e-06  7.210069e-06  9.421915e-06  0.306772  \n159     3.879269e-06  4.962865e-06  4.282396e-06 -0.137112  \n54      2.306478e-07  3.978012e-07  2.698436e-07 -0.321662  \n\n[1062 rows x 6 columns]",
      "text/html": "<div>\n<style scoped>\n    .dataframe tbody tr th:only-of-type {\n        vertical-align: middle;\n    }\n\n    .dataframe tbody tr th {\n        vertical-align: top;\n    }\n\n    .dataframe thead th {\n        text-align: right;\n    }\n</style>\n<table border=\"1\" class=\"dataframe\">\n  <thead>\n    <tr style=\"text-align: right;\">\n      <th></th>\n      <th>mint</th>\n      <th>timestamp</th>\n      <th>quant_price</th>\n      <th>buy_price</th>\n      <th>sell_price</th>\n      <th>upside</th>\n    </tr>\n  </thead>\n  <tbody>\n    <tr>\n      <th>130906</th>\n      <td>3ZLC6dCEt1QkcjBLDh9GZzGuUStbstxhB5pDoeNkd1ZG</td>\n      <td>2024-01-09 21:10:00</td>\n      <td>1.808782e-07</td>\n      <td>1.868942e-07</td>\n      <td>1.868942e-07</td>\n      <td>0.000000</td>\n    </tr>\n    <tr>\n      <th>130792</th>\n      <td>5gBB5nFwCMujcjjGMcJ4tNi8fLsf32DdfgZ4yXTeeTFu</td>\n      <td>2024-01-09 20:50:00</td>\n      <td>2.793710e-07</td>\n      <td>3.282400e-07</td>\n      <td>2.880511e-07</td>\n      <td>-0.122437</td>\n    </tr>\n    <tr>\n      <th>130730</th>\n      <td>5gBB5nFwCMujcjjGMcJ4tNi8fLsf32DdfgZ4yXTeeTFu</td>\n      <td>2024-01-09 20:40:00</td>\n      <td>3.773922e-07</td>\n      <td>2.793710e-07</td>\n      <td>2.843889e-07</td>\n      <td>0.017961</td>\n    </tr>\n    <tr>\n      <th>130682</th>\n      <td>BPivnge2WgisHu7HE4JrCE6aiqyDdbs7NrVWiYTWsaX4</td>\n      <td>2024-01-09 20:30:00</td>\n      <td>1.848129e-08</td>\n      <td>1.848129e-08</td>\n      <td>1.848129e-08</td>\n      <td>0.000000</td>\n    </tr>\n    <tr>\n      <th>130227</th>\n      <td>2SmRBxVJ6b1d3AH8ii111haL7UAeC1i6jSkYa3Dv2qUt</td>\n      <td>2024-01-09 19:20:00</td>\n      <td>1.086795e-06</td>\n      <td>8.186362e-07</td>\n      <td>6.657790e-06</td>\n      <td>7.132782</td>\n    </tr>\n    <tr>\n      <th>...</th>\n      <td>...</td>\n      <td>...</td>\n      <td>...</td>\n      <td>...</td>\n      <td>...</td>\n      <td>...</td>\n    </tr>\n    <tr>\n      <th>390</th>\n      <td>2EgRd5AdhxeBtQ8iAgYQoSBtrbsuLGmDq1wQrPZr7KLs</td>\n      <td>2023-12-26 00:20:00</td>\n      <td>6.796180e-06</td>\n      <td>6.774996e-06</td>\n      <td>1.149276e-05</td>\n      <td>0.696350</td>\n    </tr>\n    <tr>\n      <th>318</th>\n      <td>2EgRd5AdhxeBtQ8iAgYQoSBtrbsuLGmDq1wQrPZr7KLs</td>\n      <td>2023-12-26 00:10:00</td>\n      <td>7.210069e-06</td>\n      <td>6.796180e-06</td>\n      <td>9.863213e-06</td>\n      <td>0.451288</td>\n    </tr>\n    <tr>\n      <th>256</th>\n      <td>2EgRd5AdhxeBtQ8iAgYQoSBtrbsuLGmDq1wQrPZr7KLs</td>\n      <td>2023-12-26 00:00:00</td>\n      <td>9.245003e-06</td>\n      <td>7.210069e-06</td>\n      <td>9.421915e-06</td>\n      <td>0.306772</td>\n    </tr>\n    <tr>\n      <th>159</th>\n      <td>AfkUkcoJ5Yt7eU9BwnF1RjRqt4fQG5zYV1eS1ytDk7FE</td>\n      <td>2023-12-25 23:40:00</td>\n      <td>3.879269e-06</td>\n      <td>4.962865e-06</td>\n      <td>4.282396e-06</td>\n      <td>-0.137112</td>\n    </tr>\n    <tr>\n      <th>54</th>\n      <td>H1BYwUinBP1vex5Zcx1xT7KgPZoTWoyECueAzep38F1E</td>\n      <td>2023-12-25 23:20:00</td>\n      <td>2.306478e-07</td>\n      <td>3.978012e-07</td>\n      <td>2.698436e-07</td>\n      <td>-0.321662</td>\n    </tr>\n  </tbody>\n</table>\n<p>1062 rows × 6 columns</p>\n</div>"
     },
     "execution_count": 97,
     "metadata": {},
     "output_type": "execute_result"
    }
   ],
   "source": [
    "purchased = results_df[results_df['Predicted']=='up'].sort_values(by=['timestamp', 'mint'], ascending=False)\n",
    "purchased[['mint', 'timestamp', 'quant_price', 'buy_price', 'sell_price', 'upside']].sort_values(by=['timestamp'], ascending=False)  "
   ],
   "metadata": {
    "collapsed": false,
    "ExecuteTime": {
     "end_time": "2024-01-09T22:27:11.931996Z",
     "start_time": "2024-01-09T22:27:11.913526Z"
    }
   },
   "id": "770de9eb31dcc677"
  },
  {
   "cell_type": "code",
   "execution_count": 98,
   "outputs": [
    {
     "data": {
      "text/plain": "count                                             1062\nunique                                             345\ntop       87QbDz6Ze5B8L3PoGvqLyJ3JAydi39jNtvzXDEz7zbcK\nfreq                                                41\nName: mint, dtype: object"
     },
     "execution_count": 98,
     "metadata": {},
     "output_type": "execute_result"
    }
   ],
   "source": [
    "purchased.mint.describe()\n"
   ],
   "metadata": {
    "collapsed": false,
    "ExecuteTime": {
     "end_time": "2024-01-09T22:27:12.429220Z",
     "start_time": "2024-01-09T22:27:12.426627Z"
    }
   },
   "id": "8c7e3d155a4a0fba"
  },
  {
   "cell_type": "code",
   "execution_count": 99,
   "outputs": [
    {
     "data": {
      "text/plain": "0.3297934958505622"
     },
     "execution_count": 99,
     "metadata": {},
     "output_type": "execute_result"
    }
   ],
   "source": [
    "purchased['upside'].mean()"
   ],
   "metadata": {
    "collapsed": false,
    "ExecuteTime": {
     "end_time": "2024-01-09T22:27:13.429302Z",
     "start_time": "2024-01-09T22:27:13.410967Z"
    }
   },
   "id": "fb73be4980a963e8"
  },
  {
   "cell_type": "code",
   "execution_count": 100,
   "outputs": [
    {
     "data": {
      "text/plain": "0.304442396181356"
     },
     "execution_count": 100,
     "metadata": {},
     "output_type": "execute_result"
    }
   ],
   "source": [
    "purchased[purchased['upside'] < 10]['upside'].mean()\n"
   ],
   "metadata": {
    "collapsed": false,
    "ExecuteTime": {
     "end_time": "2024-01-09T22:27:13.987190Z",
     "start_time": "2024-01-09T22:27:13.974737Z"
    }
   },
   "id": "32dfbbdfde4170b"
  },
  {
   "cell_type": "code",
   "execution_count": 101,
   "outputs": [
    {
     "data": {
      "text/plain": "                 upside                     mint\n                   mean        sum count nunique\ntimestamp_day                                   \n2024-01-09     0.691478  37.339790    54      15\n2024-01-08     0.421203  24.850970    59      21\n2024-01-07     0.385368  16.570810    43      11\n2024-01-06     1.417331  70.866526    50      11\n2024-01-05     0.815167  30.976342    38      14\n2024-01-04     0.524916  39.368735    75      31\n2024-01-03     0.312388  39.048534   125      37\n2024-01-02     0.185323   9.822111    53      28\n2024-01-01     0.152295  13.249706    87      36\n2023-12-31     0.245735  19.413103    79      33\n2023-12-30     0.224614  14.824519    66      36\n2023-12-29     0.028928   2.227433    77      35\n2023-12-28     0.073180   7.098469    97      41\n2023-12-27     0.084610   6.345723    75      32\n2023-12-26     0.228008  18.696696    82      16\n2023-12-25    -0.229387  -0.458774     2       2",
      "text/html": "<div>\n<style scoped>\n    .dataframe tbody tr th:only-of-type {\n        vertical-align: middle;\n    }\n\n    .dataframe tbody tr th {\n        vertical-align: top;\n    }\n\n    .dataframe thead tr th {\n        text-align: left;\n    }\n\n    .dataframe thead tr:last-of-type th {\n        text-align: right;\n    }\n</style>\n<table border=\"1\" class=\"dataframe\">\n  <thead>\n    <tr>\n      <th></th>\n      <th colspan=\"3\" halign=\"left\">upside</th>\n      <th>mint</th>\n    </tr>\n    <tr>\n      <th></th>\n      <th>mean</th>\n      <th>sum</th>\n      <th>count</th>\n      <th>nunique</th>\n    </tr>\n    <tr>\n      <th>timestamp_day</th>\n      <th></th>\n      <th></th>\n      <th></th>\n      <th></th>\n    </tr>\n  </thead>\n  <tbody>\n    <tr>\n      <th>2024-01-09</th>\n      <td>0.691478</td>\n      <td>37.339790</td>\n      <td>54</td>\n      <td>15</td>\n    </tr>\n    <tr>\n      <th>2024-01-08</th>\n      <td>0.421203</td>\n      <td>24.850970</td>\n      <td>59</td>\n      <td>21</td>\n    </tr>\n    <tr>\n      <th>2024-01-07</th>\n      <td>0.385368</td>\n      <td>16.570810</td>\n      <td>43</td>\n      <td>11</td>\n    </tr>\n    <tr>\n      <th>2024-01-06</th>\n      <td>1.417331</td>\n      <td>70.866526</td>\n      <td>50</td>\n      <td>11</td>\n    </tr>\n    <tr>\n      <th>2024-01-05</th>\n      <td>0.815167</td>\n      <td>30.976342</td>\n      <td>38</td>\n      <td>14</td>\n    </tr>\n    <tr>\n      <th>2024-01-04</th>\n      <td>0.524916</td>\n      <td>39.368735</td>\n      <td>75</td>\n      <td>31</td>\n    </tr>\n    <tr>\n      <th>2024-01-03</th>\n      <td>0.312388</td>\n      <td>39.048534</td>\n      <td>125</td>\n      <td>37</td>\n    </tr>\n    <tr>\n      <th>2024-01-02</th>\n      <td>0.185323</td>\n      <td>9.822111</td>\n      <td>53</td>\n      <td>28</td>\n    </tr>\n    <tr>\n      <th>2024-01-01</th>\n      <td>0.152295</td>\n      <td>13.249706</td>\n      <td>87</td>\n      <td>36</td>\n    </tr>\n    <tr>\n      <th>2023-12-31</th>\n      <td>0.245735</td>\n      <td>19.413103</td>\n      <td>79</td>\n      <td>33</td>\n    </tr>\n    <tr>\n      <th>2023-12-30</th>\n      <td>0.224614</td>\n      <td>14.824519</td>\n      <td>66</td>\n      <td>36</td>\n    </tr>\n    <tr>\n      <th>2023-12-29</th>\n      <td>0.028928</td>\n      <td>2.227433</td>\n      <td>77</td>\n      <td>35</td>\n    </tr>\n    <tr>\n      <th>2023-12-28</th>\n      <td>0.073180</td>\n      <td>7.098469</td>\n      <td>97</td>\n      <td>41</td>\n    </tr>\n    <tr>\n      <th>2023-12-27</th>\n      <td>0.084610</td>\n      <td>6.345723</td>\n      <td>75</td>\n      <td>32</td>\n    </tr>\n    <tr>\n      <th>2023-12-26</th>\n      <td>0.228008</td>\n      <td>18.696696</td>\n      <td>82</td>\n      <td>16</td>\n    </tr>\n    <tr>\n      <th>2023-12-25</th>\n      <td>-0.229387</td>\n      <td>-0.458774</td>\n      <td>2</td>\n      <td>2</td>\n    </tr>\n  </tbody>\n</table>\n</div>"
     },
     "execution_count": 101,
     "metadata": {},
     "output_type": "execute_result"
    }
   ],
   "source": [
    "purchased['timestamp_day'] = purchased['timestamp'].dt.floor('D')\n",
    "aggregated_data = purchased.groupby('timestamp_day').agg({\n",
    "    'upside': ['mean', 'sum', 'count'],\n",
    "    'mint': 'nunique'\n",
    "})\n",
    "aggregated_data.sort_values(by=['timestamp_day'], ascending=False)"
   ],
   "metadata": {
    "collapsed": false,
    "ExecuteTime": {
     "end_time": "2024-01-09T22:27:19.520597Z",
     "start_time": "2024-01-09T22:27:19.500809Z"
    }
   },
   "id": "cb5f3fb920ecbec2"
  },
  {
   "cell_type": "code",
   "execution_count": 102,
   "outputs": [
    {
     "data": {
      "text/plain": "    Actual Predicted       UpP     DownP  \\\n0     flat        up  0.209617  0.041035   \n1     flat        up  0.330061  0.271415   \n2     down        up  0.399273  0.248581   \n3     flat        up  0.212079  0.088129   \n4     flat        up  0.405662  0.225655   \n..     ...       ...       ...       ...   \n340   flat        up  0.207219  0.040755   \n341   flat        up  0.252403  0.063964   \n342   flat        up  0.198500  0.057767   \n343   flat        up  0.189175  0.043631   \n344   flat        up  0.228785  0.050739   \n\n                                             mint           timestamp  \\\n0    BPivnge2WgisHu7HE4JrCE6aiqyDdbs7NrVWiYTWsaX4 2024-01-09 20:30:00   \n1    GL8AaTa7imJPXyFdwxCNHmcZTtvf2UNsGkJFS8WKyCyM 2024-01-09 19:00:00   \n2    GLsSrgZxrfA7gzi69K44u2U5JwgznkZr5txRhyAo1Lqb 2024-01-09 18:40:00   \n3    5gBB5nFwCMujcjjGMcJ4tNi8fLsf32DdfgZ4yXTeeTFu 2024-01-09 17:30:00   \n4    HnJ1rwyEZcSMWjXQX4XruLFWqmqquGdXn9zJsRakQFex 2024-01-09 17:10:00   \n..                                            ...                 ...   \n340  8yJ15ee2AUQmwbWPxXLTTeBTzyMGn4MtSRKMqVHw1J1G 2023-12-26 04:50:00   \n341  3UvytZmYyueFChyHbJyxjsSax5wBRuMNrGToDDykTba6 2023-12-26 01:00:00   \n342  2EgRd5AdhxeBtQ8iAgYQoSBtrbsuLGmDq1wQrPZr7KLs 2023-12-26 00:00:00   \n343  AfkUkcoJ5Yt7eU9BwnF1RjRqt4fQG5zYV1eS1ytDk7FE 2023-12-25 23:40:00   \n344  H1BYwUinBP1vex5Zcx1xT7KgPZoTWoyECueAzep38F1E 2023-12-25 23:20:00   \n\n      quant_price     buy_price    sell_price    upside  ... trcnt_sma_sum_1h  \\\n0    1.848129e-08  1.848129e-08  1.848129e-08  0.000000  ...        27.333333   \n1    1.070756e-04  8.033747e-05  8.033747e-05  0.000000  ...         0.642857   \n2    1.110326e-06  8.130585e-07  2.752925e-07 -0.661411  ...         6.000000   \n3    5.042995e-07  5.534372e-07  5.403830e-07 -0.023587  ...        40.928571   \n4    5.245628e-08  5.078768e-08  5.364703e-08  0.056300  ...        29.500000   \n..            ...           ...           ...       ...  ...              ...   \n340  1.561408e-06  1.471687e-06  2.145249e-06  0.457680  ...         0.428571   \n341  2.654460e-07  3.358512e-07  2.401377e-07 -0.284988  ...        22.769231   \n342  9.245003e-06  7.210069e-06  9.421915e-06  0.306772  ...        38.181818   \n343  3.879269e-06  4.962865e-06  4.282396e-06 -0.137112  ...         9.071429   \n344  2.306478e-07  3.978012e-07  2.698436e-07 -0.321662  ...        29.636364   \n\n     vol_sma_sum_1h  vol_ema_sum_1h  trcnt_sma_sum_4h  vol_sma_sum_4h  \\\n0          8.704105        6.642595         82.000000       26.112316   \n1          0.450715        0.832357          0.642857        0.450715   \n2          3.881154        3.881154          6.000000        3.881154   \n3         40.372178       26.060404        145.500000      143.621994   \n4         19.319185       22.988818         59.000000       38.638369   \n..              ...             ...               ...             ...   \n340        0.959100        1.717173          1.000000        1.896594   \n341       25.421925       23.539635         74.000000       82.621255   \n342       71.830695       66.190080        140.000000      263.379216   \n343       21.087274       25.017419          9.714286       21.552667   \n344       85.834006       87.736896        108.666667      314.724687   \n\n     vol_ema_sum_4h  trcnt_sma_sum_1d  vol_sma_sum_1d  vol_ema_sum_1d  \\\n0         26.112316         82.000000       26.112316       26.112316   \n1          0.841335          3.500000        1.399523        2.091328   \n2          3.881154          6.000000        3.881154        3.881154   \n3        115.520951        582.000000      574.487975      574.487975   \n4         38.638369         59.000000       38.638369       38.638369   \n..              ...               ...             ...             ...   \n340        2.376256         73.400000      302.019586      407.501173   \n341       84.512977        296.000000      330.485019      330.485019   \n342      260.074119        420.000000      790.137648      790.137648   \n343       35.785383         45.666667      101.912449      150.764249   \n344      335.522493        326.000000      944.174062      944.174062   \n\n     timestamp_day  \n0       2024-01-09  \n1       2024-01-09  \n2       2024-01-09  \n3       2024-01-09  \n4       2024-01-09  \n..             ...  \n340     2023-12-26  \n341     2023-12-26  \n342     2023-12-26  \n343     2023-12-25  \n344     2023-12-25  \n\n[345 rows x 77 columns]",
      "text/html": "<div>\n<style scoped>\n    .dataframe tbody tr th:only-of-type {\n        vertical-align: middle;\n    }\n\n    .dataframe tbody tr th {\n        vertical-align: top;\n    }\n\n    .dataframe thead th {\n        text-align: right;\n    }\n</style>\n<table border=\"1\" class=\"dataframe\">\n  <thead>\n    <tr style=\"text-align: right;\">\n      <th></th>\n      <th>Actual</th>\n      <th>Predicted</th>\n      <th>UpP</th>\n      <th>DownP</th>\n      <th>mint</th>\n      <th>timestamp</th>\n      <th>quant_price</th>\n      <th>buy_price</th>\n      <th>sell_price</th>\n      <th>upside</th>\n      <th>...</th>\n      <th>trcnt_sma_sum_1h</th>\n      <th>vol_sma_sum_1h</th>\n      <th>vol_ema_sum_1h</th>\n      <th>trcnt_sma_sum_4h</th>\n      <th>vol_sma_sum_4h</th>\n      <th>vol_ema_sum_4h</th>\n      <th>trcnt_sma_sum_1d</th>\n      <th>vol_sma_sum_1d</th>\n      <th>vol_ema_sum_1d</th>\n      <th>timestamp_day</th>\n    </tr>\n  </thead>\n  <tbody>\n    <tr>\n      <th>0</th>\n      <td>flat</td>\n      <td>up</td>\n      <td>0.209617</td>\n      <td>0.041035</td>\n      <td>BPivnge2WgisHu7HE4JrCE6aiqyDdbs7NrVWiYTWsaX4</td>\n      <td>2024-01-09 20:30:00</td>\n      <td>1.848129e-08</td>\n      <td>1.848129e-08</td>\n      <td>1.848129e-08</td>\n      <td>0.000000</td>\n      <td>...</td>\n      <td>27.333333</td>\n      <td>8.704105</td>\n      <td>6.642595</td>\n      <td>82.000000</td>\n      <td>26.112316</td>\n      <td>26.112316</td>\n      <td>82.000000</td>\n      <td>26.112316</td>\n      <td>26.112316</td>\n      <td>2024-01-09</td>\n    </tr>\n    <tr>\n      <th>1</th>\n      <td>flat</td>\n      <td>up</td>\n      <td>0.330061</td>\n      <td>0.271415</td>\n      <td>GL8AaTa7imJPXyFdwxCNHmcZTtvf2UNsGkJFS8WKyCyM</td>\n      <td>2024-01-09 19:00:00</td>\n      <td>1.070756e-04</td>\n      <td>8.033747e-05</td>\n      <td>8.033747e-05</td>\n      <td>0.000000</td>\n      <td>...</td>\n      <td>0.642857</td>\n      <td>0.450715</td>\n      <td>0.832357</td>\n      <td>0.642857</td>\n      <td>0.450715</td>\n      <td>0.841335</td>\n      <td>3.500000</td>\n      <td>1.399523</td>\n      <td>2.091328</td>\n      <td>2024-01-09</td>\n    </tr>\n    <tr>\n      <th>2</th>\n      <td>down</td>\n      <td>up</td>\n      <td>0.399273</td>\n      <td>0.248581</td>\n      <td>GLsSrgZxrfA7gzi69K44u2U5JwgznkZr5txRhyAo1Lqb</td>\n      <td>2024-01-09 18:40:00</td>\n      <td>1.110326e-06</td>\n      <td>8.130585e-07</td>\n      <td>2.752925e-07</td>\n      <td>-0.661411</td>\n      <td>...</td>\n      <td>6.000000</td>\n      <td>3.881154</td>\n      <td>3.881154</td>\n      <td>6.000000</td>\n      <td>3.881154</td>\n      <td>3.881154</td>\n      <td>6.000000</td>\n      <td>3.881154</td>\n      <td>3.881154</td>\n      <td>2024-01-09</td>\n    </tr>\n    <tr>\n      <th>3</th>\n      <td>flat</td>\n      <td>up</td>\n      <td>0.212079</td>\n      <td>0.088129</td>\n      <td>5gBB5nFwCMujcjjGMcJ4tNi8fLsf32DdfgZ4yXTeeTFu</td>\n      <td>2024-01-09 17:30:00</td>\n      <td>5.042995e-07</td>\n      <td>5.534372e-07</td>\n      <td>5.403830e-07</td>\n      <td>-0.023587</td>\n      <td>...</td>\n      <td>40.928571</td>\n      <td>40.372178</td>\n      <td>26.060404</td>\n      <td>145.500000</td>\n      <td>143.621994</td>\n      <td>115.520951</td>\n      <td>582.000000</td>\n      <td>574.487975</td>\n      <td>574.487975</td>\n      <td>2024-01-09</td>\n    </tr>\n    <tr>\n      <th>4</th>\n      <td>flat</td>\n      <td>up</td>\n      <td>0.405662</td>\n      <td>0.225655</td>\n      <td>HnJ1rwyEZcSMWjXQX4XruLFWqmqquGdXn9zJsRakQFex</td>\n      <td>2024-01-09 17:10:00</td>\n      <td>5.245628e-08</td>\n      <td>5.078768e-08</td>\n      <td>5.364703e-08</td>\n      <td>0.056300</td>\n      <td>...</td>\n      <td>29.500000</td>\n      <td>19.319185</td>\n      <td>22.988818</td>\n      <td>59.000000</td>\n      <td>38.638369</td>\n      <td>38.638369</td>\n      <td>59.000000</td>\n      <td>38.638369</td>\n      <td>38.638369</td>\n      <td>2024-01-09</td>\n    </tr>\n    <tr>\n      <th>...</th>\n      <td>...</td>\n      <td>...</td>\n      <td>...</td>\n      <td>...</td>\n      <td>...</td>\n      <td>...</td>\n      <td>...</td>\n      <td>...</td>\n      <td>...</td>\n      <td>...</td>\n      <td>...</td>\n      <td>...</td>\n      <td>...</td>\n      <td>...</td>\n      <td>...</td>\n      <td>...</td>\n      <td>...</td>\n      <td>...</td>\n      <td>...</td>\n      <td>...</td>\n      <td>...</td>\n    </tr>\n    <tr>\n      <th>340</th>\n      <td>flat</td>\n      <td>up</td>\n      <td>0.207219</td>\n      <td>0.040755</td>\n      <td>8yJ15ee2AUQmwbWPxXLTTeBTzyMGn4MtSRKMqVHw1J1G</td>\n      <td>2023-12-26 04:50:00</td>\n      <td>1.561408e-06</td>\n      <td>1.471687e-06</td>\n      <td>2.145249e-06</td>\n      <td>0.457680</td>\n      <td>...</td>\n      <td>0.428571</td>\n      <td>0.959100</td>\n      <td>1.717173</td>\n      <td>1.000000</td>\n      <td>1.896594</td>\n      <td>2.376256</td>\n      <td>73.400000</td>\n      <td>302.019586</td>\n      <td>407.501173</td>\n      <td>2023-12-26</td>\n    </tr>\n    <tr>\n      <th>341</th>\n      <td>flat</td>\n      <td>up</td>\n      <td>0.252403</td>\n      <td>0.063964</td>\n      <td>3UvytZmYyueFChyHbJyxjsSax5wBRuMNrGToDDykTba6</td>\n      <td>2023-12-26 01:00:00</td>\n      <td>2.654460e-07</td>\n      <td>3.358512e-07</td>\n      <td>2.401377e-07</td>\n      <td>-0.284988</td>\n      <td>...</td>\n      <td>22.769231</td>\n      <td>25.421925</td>\n      <td>23.539635</td>\n      <td>74.000000</td>\n      <td>82.621255</td>\n      <td>84.512977</td>\n      <td>296.000000</td>\n      <td>330.485019</td>\n      <td>330.485019</td>\n      <td>2023-12-26</td>\n    </tr>\n    <tr>\n      <th>342</th>\n      <td>flat</td>\n      <td>up</td>\n      <td>0.198500</td>\n      <td>0.057767</td>\n      <td>2EgRd5AdhxeBtQ8iAgYQoSBtrbsuLGmDq1wQrPZr7KLs</td>\n      <td>2023-12-26 00:00:00</td>\n      <td>9.245003e-06</td>\n      <td>7.210069e-06</td>\n      <td>9.421915e-06</td>\n      <td>0.306772</td>\n      <td>...</td>\n      <td>38.181818</td>\n      <td>71.830695</td>\n      <td>66.190080</td>\n      <td>140.000000</td>\n      <td>263.379216</td>\n      <td>260.074119</td>\n      <td>420.000000</td>\n      <td>790.137648</td>\n      <td>790.137648</td>\n      <td>2023-12-26</td>\n    </tr>\n    <tr>\n      <th>343</th>\n      <td>flat</td>\n      <td>up</td>\n      <td>0.189175</td>\n      <td>0.043631</td>\n      <td>AfkUkcoJ5Yt7eU9BwnF1RjRqt4fQG5zYV1eS1ytDk7FE</td>\n      <td>2023-12-25 23:40:00</td>\n      <td>3.879269e-06</td>\n      <td>4.962865e-06</td>\n      <td>4.282396e-06</td>\n      <td>-0.137112</td>\n      <td>...</td>\n      <td>9.071429</td>\n      <td>21.087274</td>\n      <td>25.017419</td>\n      <td>9.714286</td>\n      <td>21.552667</td>\n      <td>35.785383</td>\n      <td>45.666667</td>\n      <td>101.912449</td>\n      <td>150.764249</td>\n      <td>2023-12-25</td>\n    </tr>\n    <tr>\n      <th>344</th>\n      <td>flat</td>\n      <td>up</td>\n      <td>0.228785</td>\n      <td>0.050739</td>\n      <td>H1BYwUinBP1vex5Zcx1xT7KgPZoTWoyECueAzep38F1E</td>\n      <td>2023-12-25 23:20:00</td>\n      <td>2.306478e-07</td>\n      <td>3.978012e-07</td>\n      <td>2.698436e-07</td>\n      <td>-0.321662</td>\n      <td>...</td>\n      <td>29.636364</td>\n      <td>85.834006</td>\n      <td>87.736896</td>\n      <td>108.666667</td>\n      <td>314.724687</td>\n      <td>335.522493</td>\n      <td>326.000000</td>\n      <td>944.174062</td>\n      <td>944.174062</td>\n      <td>2023-12-25</td>\n    </tr>\n  </tbody>\n</table>\n<p>345 rows × 77 columns</p>\n</div>"
     },
     "execution_count": 102,
     "metadata": {},
     "output_type": "execute_result"
    }
   ],
   "source": [
    "first_purchased_keys = purchased.groupby('mint')['timestamp'].min().reset_index()\n",
    "first_purchased = purchased.merge(first_purchased_keys, on=['mint', 'timestamp'])\n",
    "first_purchased"
   ],
   "metadata": {
    "collapsed": false,
    "ExecuteTime": {
     "end_time": "2024-01-09T22:27:54.261436Z",
     "start_time": "2024-01-09T22:27:54.224054Z"
    }
   },
   "id": "1c02c958655e01c8"
  },
  {
   "cell_type": "code",
   "execution_count": 103,
   "outputs": [
    {
     "data": {
      "text/plain": "0.10265537392326068"
     },
     "execution_count": 103,
     "metadata": {},
     "output_type": "execute_result"
    }
   ],
   "source": [
    "first_purchased['upside'].mean()\n"
   ],
   "metadata": {
    "collapsed": false,
    "ExecuteTime": {
     "end_time": "2024-01-09T22:27:55.325117Z",
     "start_time": "2024-01-09T22:27:55.309950Z"
    }
   },
   "id": "d5e088ad4266d82f"
  },
  {
   "cell_type": "code",
   "execution_count": 104,
   "outputs": [
    {
     "data": {
      "text/plain": "                 upside                     mint\n                   mean        sum count nunique\ntimestamp_day                                   \n2024-01-09     0.391744   4.309187    11      11\n2024-01-08    -0.111259  -2.113924    19      19\n2024-01-07    -0.122145  -1.221451    10      10\n2024-01-06     0.543477   5.434773    10      10\n2024-01-05    -0.187683  -2.064513    11      11\n2024-01-04     0.055424   1.496457    27      27\n2024-01-03     0.016485   0.544014    33      33\n2024-01-02    -0.058986  -1.297686    22      22\n2024-01-01     0.315769  10.104597    32      32\n2023-12-31     0.318638   9.559147    30      30\n2023-12-30     0.164936   4.618197    28      28\n2023-12-29     0.071323   2.068364    29      29\n2023-12-28    -0.019783  -0.692392    35      35\n2023-12-27     0.128376   3.851291    30      30\n2023-12-26     0.079926   1.278818    16      16\n2023-12-25    -0.229387  -0.458774     2       2",
      "text/html": "<div>\n<style scoped>\n    .dataframe tbody tr th:only-of-type {\n        vertical-align: middle;\n    }\n\n    .dataframe tbody tr th {\n        vertical-align: top;\n    }\n\n    .dataframe thead tr th {\n        text-align: left;\n    }\n\n    .dataframe thead tr:last-of-type th {\n        text-align: right;\n    }\n</style>\n<table border=\"1\" class=\"dataframe\">\n  <thead>\n    <tr>\n      <th></th>\n      <th colspan=\"3\" halign=\"left\">upside</th>\n      <th>mint</th>\n    </tr>\n    <tr>\n      <th></th>\n      <th>mean</th>\n      <th>sum</th>\n      <th>count</th>\n      <th>nunique</th>\n    </tr>\n    <tr>\n      <th>timestamp_day</th>\n      <th></th>\n      <th></th>\n      <th></th>\n      <th></th>\n    </tr>\n  </thead>\n  <tbody>\n    <tr>\n      <th>2024-01-09</th>\n      <td>0.391744</td>\n      <td>4.309187</td>\n      <td>11</td>\n      <td>11</td>\n    </tr>\n    <tr>\n      <th>2024-01-08</th>\n      <td>-0.111259</td>\n      <td>-2.113924</td>\n      <td>19</td>\n      <td>19</td>\n    </tr>\n    <tr>\n      <th>2024-01-07</th>\n      <td>-0.122145</td>\n      <td>-1.221451</td>\n      <td>10</td>\n      <td>10</td>\n    </tr>\n    <tr>\n      <th>2024-01-06</th>\n      <td>0.543477</td>\n      <td>5.434773</td>\n      <td>10</td>\n      <td>10</td>\n    </tr>\n    <tr>\n      <th>2024-01-05</th>\n      <td>-0.187683</td>\n      <td>-2.064513</td>\n      <td>11</td>\n      <td>11</td>\n    </tr>\n    <tr>\n      <th>2024-01-04</th>\n      <td>0.055424</td>\n      <td>1.496457</td>\n      <td>27</td>\n      <td>27</td>\n    </tr>\n    <tr>\n      <th>2024-01-03</th>\n      <td>0.016485</td>\n      <td>0.544014</td>\n      <td>33</td>\n      <td>33</td>\n    </tr>\n    <tr>\n      <th>2024-01-02</th>\n      <td>-0.058986</td>\n      <td>-1.297686</td>\n      <td>22</td>\n      <td>22</td>\n    </tr>\n    <tr>\n      <th>2024-01-01</th>\n      <td>0.315769</td>\n      <td>10.104597</td>\n      <td>32</td>\n      <td>32</td>\n    </tr>\n    <tr>\n      <th>2023-12-31</th>\n      <td>0.318638</td>\n      <td>9.559147</td>\n      <td>30</td>\n      <td>30</td>\n    </tr>\n    <tr>\n      <th>2023-12-30</th>\n      <td>0.164936</td>\n      <td>4.618197</td>\n      <td>28</td>\n      <td>28</td>\n    </tr>\n    <tr>\n      <th>2023-12-29</th>\n      <td>0.071323</td>\n      <td>2.068364</td>\n      <td>29</td>\n      <td>29</td>\n    </tr>\n    <tr>\n      <th>2023-12-28</th>\n      <td>-0.019783</td>\n      <td>-0.692392</td>\n      <td>35</td>\n      <td>35</td>\n    </tr>\n    <tr>\n      <th>2023-12-27</th>\n      <td>0.128376</td>\n      <td>3.851291</td>\n      <td>30</td>\n      <td>30</td>\n    </tr>\n    <tr>\n      <th>2023-12-26</th>\n      <td>0.079926</td>\n      <td>1.278818</td>\n      <td>16</td>\n      <td>16</td>\n    </tr>\n    <tr>\n      <th>2023-12-25</th>\n      <td>-0.229387</td>\n      <td>-0.458774</td>\n      <td>2</td>\n      <td>2</td>\n    </tr>\n  </tbody>\n</table>\n</div>"
     },
     "execution_count": 104,
     "metadata": {},
     "output_type": "execute_result"
    }
   ],
   "source": [
    "first_purchased['timestamp_day'] = first_purchased['timestamp'].dt.floor('D')\n",
    "aggregated_data = first_purchased.groupby('timestamp_day').agg({\n",
    "    'upside': ['mean', 'sum', 'count'],\n",
    "    'mint': 'nunique'\n",
    "})\n",
    "aggregated_data.sort_values(by=['timestamp_day'], ascending=False)"
   ],
   "metadata": {
    "collapsed": false,
    "ExecuteTime": {
     "end_time": "2024-01-09T22:27:57.030433Z",
     "start_time": "2024-01-09T22:27:57.004732Z"
    }
   },
   "id": "e56ac3f768d2e5ff"
  },
  {
   "cell_type": "code",
   "execution_count": null,
   "outputs": [],
   "source": [],
   "metadata": {
    "collapsed": false
   },
   "id": "89a1be3e50853ae7"
  }
 ],
 "metadata": {
  "kernelspec": {
   "display_name": "Python 3",
   "language": "python",
   "name": "python3"
  },
  "language_info": {
   "codemirror_mode": {
    "name": "ipython",
    "version": 2
   },
   "file_extension": ".py",
   "mimetype": "text/x-python",
   "name": "python",
   "nbconvert_exporter": "python",
   "pygments_lexer": "ipython2",
   "version": "2.7.6"
  }
 },
 "nbformat": 4,
 "nbformat_minor": 5
}
