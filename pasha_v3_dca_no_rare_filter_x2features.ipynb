{
 "cells": [
  {
   "cell_type": "code",
   "execution_count": 1,
   "outputs": [
    {
     "name": "stderr",
     "output_type": "stream",
     "text": [
      "2024-01-07 22:48:34,033 - INFO - Getting data from db\n",
      "2024-01-07 22:48:52,465 - INFO - Got 584987 records from db\n",
      "2024-01-07 22:48:52,467 - INFO - From 2023-12-01 00:00:14 to 2024-01-07 22:45:24\n",
      "2024-01-07 22:48:52,605 - INFO - Filtered df by program_id, got 548206 records\n",
      "2024-01-07 22:48:52,929 - INFO - Using memory: 279.5058889389038 MB\n",
      "2024-01-07 22:55:45,644 - INFO - Got price tables for 5591 mints\n",
      "2024-01-07 23:02:36,257 - INFO - Assigned labels to 258092 records\n",
      "2024-01-07 23:02:36,266 - INFO - label\n",
      "flat    241886\n",
      "na        8897\n",
      "down      4832\n",
      "up        2477\n",
      "Name: count, dtype: int64\n",
      "2024-01-07 23:02:36,336 - INFO - Assigning features\n",
      "2024-01-08 00:18:33,449 - INFO - Features assigned\n"
     ]
    }
   ],
   "source": [
    "from dataprep import DatasetBuilder\n",
    "from datetime import timedelta\n",
    "\n",
    "PREDICTION_TIMEDELTA = timedelta(hours=24)\n",
    "QUANT_TIMEDELTA = timedelta(minutes=10)\n",
    "BUY_TIMEDELTA = timedelta(seconds=0)\n",
    "CHANGE_MAGNITUDE = 4.\n",
    "\n",
    "builder = DatasetBuilder(10000000, BUY_TIMEDELTA, (QUANT_TIMEDELTA, PREDICTION_TIMEDELTA), CHANGE_MAGNITUDE)\n",
    "dataset = builder.build_dataset()\n"
   ],
   "metadata": {
    "collapsed": false,
    "ExecuteTime": {
     "end_time": "2024-01-08T00:18:33.897500Z",
     "start_time": "2024-01-07T22:48:34.015152Z"
    }
   },
   "id": "efcea48a30cd5d32"
  },
  {
   "cell_type": "code",
   "execution_count": 175,
   "outputs": [
    {
     "name": "stderr",
     "output_type": "stream",
     "text": [
      "2024-01-08 01:27:25,629 - INFO - Assigned labels to 258092 records\n",
      "2024-01-08 01:27:25,641 - INFO - label\n",
      "flat    253029\n",
      "down      2075\n",
      "up        1997\n",
      "na         991\n",
      "Name: count, dtype: int64\n"
     ]
    }
   ],
   "source": [
    "PREDICTION_TIMEDELTA = timedelta(hours=2)\n",
    "QUANT_TIMEDELTA = timedelta(minutes=10)\n",
    "BUY_TIMEDELTA = timedelta(minutes=10)\n",
    "CHANGE_MAGNITUDE = 2.\n",
    "\n",
    "dataset = builder.reassign_values(BUY_TIMEDELTA, (QUANT_TIMEDELTA, PREDICTION_TIMEDELTA), CHANGE_MAGNITUDE)\n"
   ],
   "metadata": {
    "collapsed": false,
    "ExecuteTime": {
     "end_time": "2024-01-08T01:27:25.973881Z",
     "start_time": "2024-01-08T01:25:44.816562Z"
    }
   },
   "id": "fb2725437b2b9501"
  },
  {
   "cell_type": "code",
   "execution_count": 176,
   "outputs": [
    {
     "data": {
      "text/plain": "                time_quant                                          mint  \\\n186551 2023-12-31 03:00:00  H5n9BQfULHEEtvLVf2WErUHsXHhRaUkYqVhNzxUkWJGf   \n186653 2023-12-31 03:20:00  H5n9BQfULHEEtvLVf2WErUHsXHhRaUkYqVhNzxUkWJGf   \n\n           price  buy_price  sell_price label  day_of_week  hour  \\\n186551  0.000004   0.000004    0.000014    up            6     3   \n186653  0.000006   0.000008    0.000016    up            6     3   \n\n        found_points_now  u_price_sma_now  ...  vol_ema_sum_10m  \\\n186551               1.0              1.0  ...         1.429918   \n186653               1.0              1.0  ...         1.396754   \n\n        trcnt_sma_sum_1h  vol_sma_sum_1h  vol_ema_sum_1h  trcnt_sma_sum_4h  \\\n186551          0.071429        0.766028        1.429918          0.071429   \n186653          0.285714        0.938917        1.752645          0.285714   \n\n        vol_sma_sum_4h  vol_ema_sum_4h  trcnt_sma_sum_1d  vol_sma_sum_1d  \\\n186551        0.766028        1.429918          0.071429        0.766028   \n186653        0.938917        1.752645          0.285714        0.938917   \n\n        vol_ema_sum_1d  \n186551        1.429918  \n186653        1.752645  \n\n[2 rows x 93 columns]",
      "text/html": "<div>\n<style scoped>\n    .dataframe tbody tr th:only-of-type {\n        vertical-align: middle;\n    }\n\n    .dataframe tbody tr th {\n        vertical-align: top;\n    }\n\n    .dataframe thead th {\n        text-align: right;\n    }\n</style>\n<table border=\"1\" class=\"dataframe\">\n  <thead>\n    <tr style=\"text-align: right;\">\n      <th></th>\n      <th>time_quant</th>\n      <th>mint</th>\n      <th>price</th>\n      <th>buy_price</th>\n      <th>sell_price</th>\n      <th>label</th>\n      <th>day_of_week</th>\n      <th>hour</th>\n      <th>found_points_now</th>\n      <th>u_price_sma_now</th>\n      <th>...</th>\n      <th>vol_ema_sum_10m</th>\n      <th>trcnt_sma_sum_1h</th>\n      <th>vol_sma_sum_1h</th>\n      <th>vol_ema_sum_1h</th>\n      <th>trcnt_sma_sum_4h</th>\n      <th>vol_sma_sum_4h</th>\n      <th>vol_ema_sum_4h</th>\n      <th>trcnt_sma_sum_1d</th>\n      <th>vol_sma_sum_1d</th>\n      <th>vol_ema_sum_1d</th>\n    </tr>\n  </thead>\n  <tbody>\n    <tr>\n      <th>186551</th>\n      <td>2023-12-31 03:00:00</td>\n      <td>H5n9BQfULHEEtvLVf2WErUHsXHhRaUkYqVhNzxUkWJGf</td>\n      <td>0.000004</td>\n      <td>0.000004</td>\n      <td>0.000014</td>\n      <td>up</td>\n      <td>6</td>\n      <td>3</td>\n      <td>1.0</td>\n      <td>1.0</td>\n      <td>...</td>\n      <td>1.429918</td>\n      <td>0.071429</td>\n      <td>0.766028</td>\n      <td>1.429918</td>\n      <td>0.071429</td>\n      <td>0.766028</td>\n      <td>1.429918</td>\n      <td>0.071429</td>\n      <td>0.766028</td>\n      <td>1.429918</td>\n    </tr>\n    <tr>\n      <th>186653</th>\n      <td>2023-12-31 03:20:00</td>\n      <td>H5n9BQfULHEEtvLVf2WErUHsXHhRaUkYqVhNzxUkWJGf</td>\n      <td>0.000006</td>\n      <td>0.000008</td>\n      <td>0.000016</td>\n      <td>up</td>\n      <td>6</td>\n      <td>3</td>\n      <td>1.0</td>\n      <td>1.0</td>\n      <td>...</td>\n      <td>1.396754</td>\n      <td>0.285714</td>\n      <td>0.938917</td>\n      <td>1.752645</td>\n      <td>0.285714</td>\n      <td>0.938917</td>\n      <td>1.752645</td>\n      <td>0.285714</td>\n      <td>0.938917</td>\n      <td>1.752645</td>\n    </tr>\n  </tbody>\n</table>\n<p>2 rows × 93 columns</p>\n</div>"
     },
     "execution_count": 176,
     "metadata": {},
     "output_type": "execute_result"
    }
   ],
   "source": [
    "dataset[(dataset['label'] == 'up') & (dataset['mint'] == 'H5n9BQfULHEEtvLVf2WErUHsXHhRaUkYqVhNzxUkWJGf')]"
   ],
   "metadata": {
    "collapsed": false,
    "ExecuteTime": {
     "end_time": "2024-01-08T01:27:36.321193Z",
     "start_time": "2024-01-08T01:27:36.262236Z"
    }
   },
   "id": "4826623dcd12af48"
  },
  {
   "cell_type": "code",
   "execution_count": 177,
   "outputs": [
    {
     "data": {
      "text/plain": "                time_quant                                          mint  \\\n0      2023-12-01 00:10:00  2ZE6hSL36e44wP168YMnxrbi1CSCFuD2BJm7NoNHfsmN   \n1      2023-12-01 00:10:00  2x8o3hA5S5fBxCSE9hzVTf3RohcMWHqkDNKNEPuzprD5   \n2      2023-12-01 00:10:00  3EagcZ66c8z2hZdFSd5412yEW9U48AAb9P6d1yhjuGmY   \n3      2023-12-01 00:10:00  7SZUnH7H9KptyJkUhJ5L4Kee5fFAbqVgCHvt7B6wg4Xc   \n4      2023-12-01 00:10:00  7xKXtg2CW87d97TXJSDpbD5jBkheTqA83TZRuJosgAsU   \n...                    ...                                           ...   \n258087 2024-01-07 22:30:00   ratioMVg27rSZbSvBopUvsdrGUzeALUfFma61mpxc8J   \n258088 2024-01-07 22:30:00   rndrizKT3MK1iimdxRdWabcF7Zg7AR5T4nud4EkHBof   \n258089 2024-01-07 22:30:00   rockaPXZqTqtt9LvznNopikNQn3YSTMwTC4swr7HAiy   \n258090 2024-01-07 22:30:00   tx4Xec7ueAEYz4csDqfGGwQxkMTR3qmkr4mixdxN72K   \n258091 2024-01-07 22:30:00   xLfNTYy76B8Tiix3hA51Jyvc1kMSFV4sPdR7szTZsRu   \n\n               price     buy_price    sell_price label  day_of_week  hour  \\\n0       5.512779e-05  5.512779e-05  5.536839e-05  flat            4     0   \n1       6.712853e-06  6.712853e-06  7.034683e-06  flat            4     0   \n2       1.079326e-05  1.224739e-05  1.156185e-05  flat            4     0   \n3       2.025078e-08  2.025078e-08  2.025078e-08  flat            4     0   \n4       1.332301e-04  1.332301e-04  1.326227e-04  flat            4     0   \n...              ...           ...           ...   ...          ...   ...   \n258087  1.618269e-04  0.000000e+00  0.000000e+00    na            6    22   \n258088  3.823089e-02  0.000000e+00  0.000000e+00    na            6    22   \n258089  5.058090e-13  0.000000e+00  0.000000e+00    na            6    22   \n258090  7.333221e-08  0.000000e+00  0.000000e+00    na            6    22   \n258091  1.858780e-02  0.000000e+00  0.000000e+00    na            6    22   \n\n        found_points_now  u_price_sma_now  ...  vol_ema_sum_10m  \\\n0                    1.0              1.0  ...         0.000000   \n1                    1.0              1.0  ...         0.000000   \n2                    1.0              1.0  ...         0.000000   \n3                    1.0              1.0  ...         0.000000   \n4                    1.0              1.0  ...         0.000000   \n...                  ...              ...  ...              ...   \n258087               1.0              1.0  ...         0.014462   \n258088               1.0              1.0  ...         0.261730   \n258089               1.0              1.0  ...         0.015444   \n258090               1.0              1.0  ...         0.177147   \n258091               1.0              1.0  ...         0.016114   \n\n        trcnt_sma_sum_1h  vol_sma_sum_1h  vol_ema_sum_1h  trcnt_sma_sum_4h  \\\n0               0.000000        0.000000        0.000000          0.000000   \n1               0.000000        0.000000        0.000000          0.000000   \n2               0.000000        0.000000        0.000000          0.000000   \n3               0.000000        0.000000        0.000000          0.000000   \n4               0.000000        0.000000        0.000000          0.000000   \n...                  ...             ...             ...               ...   \n258087          0.142857        0.079182        0.089690          0.214286   \n258088          0.428571       19.054225       10.459196          2.857143   \n258089          0.142857        0.010725        0.017125          0.142857   \n258090          3.642857        1.649129        1.683065          3.642857   \n258091          0.071429        0.008633        0.016114          0.142857   \n\n        vol_sma_sum_4h  vol_ema_sum_4h  trcnt_sma_sum_1d  vol_sma_sum_1d  \\\n0             0.000000        0.000000          0.000000        0.000000   \n1             0.000000        0.000000          0.000000        0.000000   \n2             0.000000        0.000000          0.000000        0.000000   \n3             0.000000        0.000000          0.000000        0.000000   \n4             0.000000        0.000000          0.000000        0.000000   \n...                ...             ...               ...             ...   \n258087        0.082553        0.132693          0.428571        0.300418   \n258088       29.203475       34.116174         11.714286      126.889928   \n258089        0.010725        0.019411         26.285714       31.694193   \n258090        1.649129        2.756213          3.642857        1.649129   \n258091        0.012210        0.019881          0.428571        0.579928   \n\n        vol_ema_sum_1d  \n0             0.000000  \n1             0.000000  \n2             0.000000  \n3             0.000000  \n4             0.000000  \n...                ...  \n258087        0.298746  \n258088      111.930865  \n258089       38.325997  \n258090        3.078374  \n258091        0.345508  \n\n[258092 rows x 93 columns]",
      "text/html": "<div>\n<style scoped>\n    .dataframe tbody tr th:only-of-type {\n        vertical-align: middle;\n    }\n\n    .dataframe tbody tr th {\n        vertical-align: top;\n    }\n\n    .dataframe thead th {\n        text-align: right;\n    }\n</style>\n<table border=\"1\" class=\"dataframe\">\n  <thead>\n    <tr style=\"text-align: right;\">\n      <th></th>\n      <th>time_quant</th>\n      <th>mint</th>\n      <th>price</th>\n      <th>buy_price</th>\n      <th>sell_price</th>\n      <th>label</th>\n      <th>day_of_week</th>\n      <th>hour</th>\n      <th>found_points_now</th>\n      <th>u_price_sma_now</th>\n      <th>...</th>\n      <th>vol_ema_sum_10m</th>\n      <th>trcnt_sma_sum_1h</th>\n      <th>vol_sma_sum_1h</th>\n      <th>vol_ema_sum_1h</th>\n      <th>trcnt_sma_sum_4h</th>\n      <th>vol_sma_sum_4h</th>\n      <th>vol_ema_sum_4h</th>\n      <th>trcnt_sma_sum_1d</th>\n      <th>vol_sma_sum_1d</th>\n      <th>vol_ema_sum_1d</th>\n    </tr>\n  </thead>\n  <tbody>\n    <tr>\n      <th>0</th>\n      <td>2023-12-01 00:10:00</td>\n      <td>2ZE6hSL36e44wP168YMnxrbi1CSCFuD2BJm7NoNHfsmN</td>\n      <td>5.512779e-05</td>\n      <td>5.512779e-05</td>\n      <td>5.536839e-05</td>\n      <td>flat</td>\n      <td>4</td>\n      <td>0</td>\n      <td>1.0</td>\n      <td>1.0</td>\n      <td>...</td>\n      <td>0.000000</td>\n      <td>0.000000</td>\n      <td>0.000000</td>\n      <td>0.000000</td>\n      <td>0.000000</td>\n      <td>0.000000</td>\n      <td>0.000000</td>\n      <td>0.000000</td>\n      <td>0.000000</td>\n      <td>0.000000</td>\n    </tr>\n    <tr>\n      <th>1</th>\n      <td>2023-12-01 00:10:00</td>\n      <td>2x8o3hA5S5fBxCSE9hzVTf3RohcMWHqkDNKNEPuzprD5</td>\n      <td>6.712853e-06</td>\n      <td>6.712853e-06</td>\n      <td>7.034683e-06</td>\n      <td>flat</td>\n      <td>4</td>\n      <td>0</td>\n      <td>1.0</td>\n      <td>1.0</td>\n      <td>...</td>\n      <td>0.000000</td>\n      <td>0.000000</td>\n      <td>0.000000</td>\n      <td>0.000000</td>\n      <td>0.000000</td>\n      <td>0.000000</td>\n      <td>0.000000</td>\n      <td>0.000000</td>\n      <td>0.000000</td>\n      <td>0.000000</td>\n    </tr>\n    <tr>\n      <th>2</th>\n      <td>2023-12-01 00:10:00</td>\n      <td>3EagcZ66c8z2hZdFSd5412yEW9U48AAb9P6d1yhjuGmY</td>\n      <td>1.079326e-05</td>\n      <td>1.224739e-05</td>\n      <td>1.156185e-05</td>\n      <td>flat</td>\n      <td>4</td>\n      <td>0</td>\n      <td>1.0</td>\n      <td>1.0</td>\n      <td>...</td>\n      <td>0.000000</td>\n      <td>0.000000</td>\n      <td>0.000000</td>\n      <td>0.000000</td>\n      <td>0.000000</td>\n      <td>0.000000</td>\n      <td>0.000000</td>\n      <td>0.000000</td>\n      <td>0.000000</td>\n      <td>0.000000</td>\n    </tr>\n    <tr>\n      <th>3</th>\n      <td>2023-12-01 00:10:00</td>\n      <td>7SZUnH7H9KptyJkUhJ5L4Kee5fFAbqVgCHvt7B6wg4Xc</td>\n      <td>2.025078e-08</td>\n      <td>2.025078e-08</td>\n      <td>2.025078e-08</td>\n      <td>flat</td>\n      <td>4</td>\n      <td>0</td>\n      <td>1.0</td>\n      <td>1.0</td>\n      <td>...</td>\n      <td>0.000000</td>\n      <td>0.000000</td>\n      <td>0.000000</td>\n      <td>0.000000</td>\n      <td>0.000000</td>\n      <td>0.000000</td>\n      <td>0.000000</td>\n      <td>0.000000</td>\n      <td>0.000000</td>\n      <td>0.000000</td>\n    </tr>\n    <tr>\n      <th>4</th>\n      <td>2023-12-01 00:10:00</td>\n      <td>7xKXtg2CW87d97TXJSDpbD5jBkheTqA83TZRuJosgAsU</td>\n      <td>1.332301e-04</td>\n      <td>1.332301e-04</td>\n      <td>1.326227e-04</td>\n      <td>flat</td>\n      <td>4</td>\n      <td>0</td>\n      <td>1.0</td>\n      <td>1.0</td>\n      <td>...</td>\n      <td>0.000000</td>\n      <td>0.000000</td>\n      <td>0.000000</td>\n      <td>0.000000</td>\n      <td>0.000000</td>\n      <td>0.000000</td>\n      <td>0.000000</td>\n      <td>0.000000</td>\n      <td>0.000000</td>\n      <td>0.000000</td>\n    </tr>\n    <tr>\n      <th>...</th>\n      <td>...</td>\n      <td>...</td>\n      <td>...</td>\n      <td>...</td>\n      <td>...</td>\n      <td>...</td>\n      <td>...</td>\n      <td>...</td>\n      <td>...</td>\n      <td>...</td>\n      <td>...</td>\n      <td>...</td>\n      <td>...</td>\n      <td>...</td>\n      <td>...</td>\n      <td>...</td>\n      <td>...</td>\n      <td>...</td>\n      <td>...</td>\n      <td>...</td>\n      <td>...</td>\n    </tr>\n    <tr>\n      <th>258087</th>\n      <td>2024-01-07 22:30:00</td>\n      <td>ratioMVg27rSZbSvBopUvsdrGUzeALUfFma61mpxc8J</td>\n      <td>1.618269e-04</td>\n      <td>0.000000e+00</td>\n      <td>0.000000e+00</td>\n      <td>na</td>\n      <td>6</td>\n      <td>22</td>\n      <td>1.0</td>\n      <td>1.0</td>\n      <td>...</td>\n      <td>0.014462</td>\n      <td>0.142857</td>\n      <td>0.079182</td>\n      <td>0.089690</td>\n      <td>0.214286</td>\n      <td>0.082553</td>\n      <td>0.132693</td>\n      <td>0.428571</td>\n      <td>0.300418</td>\n      <td>0.298746</td>\n    </tr>\n    <tr>\n      <th>258088</th>\n      <td>2024-01-07 22:30:00</td>\n      <td>rndrizKT3MK1iimdxRdWabcF7Zg7AR5T4nud4EkHBof</td>\n      <td>3.823089e-02</td>\n      <td>0.000000e+00</td>\n      <td>0.000000e+00</td>\n      <td>na</td>\n      <td>6</td>\n      <td>22</td>\n      <td>1.0</td>\n      <td>1.0</td>\n      <td>...</td>\n      <td>0.261730</td>\n      <td>0.428571</td>\n      <td>19.054225</td>\n      <td>10.459196</td>\n      <td>2.857143</td>\n      <td>29.203475</td>\n      <td>34.116174</td>\n      <td>11.714286</td>\n      <td>126.889928</td>\n      <td>111.930865</td>\n    </tr>\n    <tr>\n      <th>258089</th>\n      <td>2024-01-07 22:30:00</td>\n      <td>rockaPXZqTqtt9LvznNopikNQn3YSTMwTC4swr7HAiy</td>\n      <td>5.058090e-13</td>\n      <td>0.000000e+00</td>\n      <td>0.000000e+00</td>\n      <td>na</td>\n      <td>6</td>\n      <td>22</td>\n      <td>1.0</td>\n      <td>1.0</td>\n      <td>...</td>\n      <td>0.015444</td>\n      <td>0.142857</td>\n      <td>0.010725</td>\n      <td>0.017125</td>\n      <td>0.142857</td>\n      <td>0.010725</td>\n      <td>0.019411</td>\n      <td>26.285714</td>\n      <td>31.694193</td>\n      <td>38.325997</td>\n    </tr>\n    <tr>\n      <th>258090</th>\n      <td>2024-01-07 22:30:00</td>\n      <td>tx4Xec7ueAEYz4csDqfGGwQxkMTR3qmkr4mixdxN72K</td>\n      <td>7.333221e-08</td>\n      <td>0.000000e+00</td>\n      <td>0.000000e+00</td>\n      <td>na</td>\n      <td>6</td>\n      <td>22</td>\n      <td>1.0</td>\n      <td>1.0</td>\n      <td>...</td>\n      <td>0.177147</td>\n      <td>3.642857</td>\n      <td>1.649129</td>\n      <td>1.683065</td>\n      <td>3.642857</td>\n      <td>1.649129</td>\n      <td>2.756213</td>\n      <td>3.642857</td>\n      <td>1.649129</td>\n      <td>3.078374</td>\n    </tr>\n    <tr>\n      <th>258091</th>\n      <td>2024-01-07 22:30:00</td>\n      <td>xLfNTYy76B8Tiix3hA51Jyvc1kMSFV4sPdR7szTZsRu</td>\n      <td>1.858780e-02</td>\n      <td>0.000000e+00</td>\n      <td>0.000000e+00</td>\n      <td>na</td>\n      <td>6</td>\n      <td>22</td>\n      <td>1.0</td>\n      <td>1.0</td>\n      <td>...</td>\n      <td>0.016114</td>\n      <td>0.071429</td>\n      <td>0.008633</td>\n      <td>0.016114</td>\n      <td>0.142857</td>\n      <td>0.012210</td>\n      <td>0.019881</td>\n      <td>0.428571</td>\n      <td>0.579928</td>\n      <td>0.345508</td>\n    </tr>\n  </tbody>\n</table>\n<p>258092 rows × 93 columns</p>\n</div>"
     },
     "execution_count": 177,
     "metadata": {},
     "output_type": "execute_result"
    }
   ],
   "source": [
    "dataset\n"
   ],
   "metadata": {
    "collapsed": false,
    "ExecuteTime": {
     "end_time": "2024-01-08T01:27:40.026279Z",
     "start_time": "2024-01-08T01:27:39.919917Z"
    }
   },
   "id": "e1c63fe9a306adc1"
  },
  {
   "cell_type": "code",
   "execution_count": 178,
   "outputs": [
    {
     "data": {
      "text/plain": "638"
     },
     "execution_count": 178,
     "metadata": {},
     "output_type": "execute_result"
    }
   ],
   "source": [
    "dataset[dataset['label'] == 'up']['mint'].nunique()\n"
   ],
   "metadata": {
    "collapsed": false,
    "ExecuteTime": {
     "end_time": "2024-01-08T01:27:41.585270Z",
     "start_time": "2024-01-08T01:27:41.534979Z"
    }
   },
   "id": "43cf93a151512c70"
  },
  {
   "cell_type": "code",
   "execution_count": 5,
   "outputs": [
    {
     "ename": "KeyError",
     "evalue": "'sma_vol_sum_1d'",
     "output_type": "error",
     "traceback": [
      "\u001B[0;31m---------------------------------------------------------------------------\u001B[0m",
      "\u001B[0;31mKeyError\u001B[0m                                  Traceback (most recent call last)",
      "File \u001B[0;32m~/dev/solanadegen/.venv/lib/python3.10/site-packages/pandas/core/indexes/base.py:3791\u001B[0m, in \u001B[0;36mIndex.get_loc\u001B[0;34m(self, key)\u001B[0m\n\u001B[1;32m   3790\u001B[0m \u001B[38;5;28;01mtry\u001B[39;00m:\n\u001B[0;32m-> 3791\u001B[0m     \u001B[38;5;28;01mreturn\u001B[39;00m \u001B[38;5;28;43mself\u001B[39;49m\u001B[38;5;241;43m.\u001B[39;49m\u001B[43m_engine\u001B[49m\u001B[38;5;241;43m.\u001B[39;49m\u001B[43mget_loc\u001B[49m\u001B[43m(\u001B[49m\u001B[43mcasted_key\u001B[49m\u001B[43m)\u001B[49m\n\u001B[1;32m   3792\u001B[0m \u001B[38;5;28;01mexcept\u001B[39;00m \u001B[38;5;167;01mKeyError\u001B[39;00m \u001B[38;5;28;01mas\u001B[39;00m err:\n",
      "File \u001B[0;32mindex.pyx:152\u001B[0m, in \u001B[0;36mpandas._libs.index.IndexEngine.get_loc\u001B[0;34m()\u001B[0m\n",
      "File \u001B[0;32mindex.pyx:181\u001B[0m, in \u001B[0;36mpandas._libs.index.IndexEngine.get_loc\u001B[0;34m()\u001B[0m\n",
      "File \u001B[0;32mpandas/_libs/hashtable_class_helper.pxi:7080\u001B[0m, in \u001B[0;36mpandas._libs.hashtable.PyObjectHashTable.get_item\u001B[0;34m()\u001B[0m\n",
      "File \u001B[0;32mpandas/_libs/hashtable_class_helper.pxi:7088\u001B[0m, in \u001B[0;36mpandas._libs.hashtable.PyObjectHashTable.get_item\u001B[0;34m()\u001B[0m\n",
      "\u001B[0;31mKeyError\u001B[0m: 'sma_vol_sum_1d'",
      "\nThe above exception was the direct cause of the following exception:\n",
      "\u001B[0;31mKeyError\u001B[0m                                  Traceback (most recent call last)",
      "Cell \u001B[0;32mIn[5], line 1\u001B[0m\n\u001B[0;32m----> 1\u001B[0m \u001B[43mdataset\u001B[49m\u001B[43m[\u001B[49m\u001B[43mdataset\u001B[49m\u001B[43m[\u001B[49m\u001B[38;5;124;43m'\u001B[39;49m\u001B[38;5;124;43mlabel\u001B[39;49m\u001B[38;5;124;43m'\u001B[39;49m\u001B[43m]\u001B[49m\u001B[43m \u001B[49m\u001B[38;5;241;43m==\u001B[39;49m\u001B[43m \u001B[49m\u001B[38;5;124;43m'\u001B[39;49m\u001B[38;5;124;43mup\u001B[39;49m\u001B[38;5;124;43m'\u001B[39;49m\u001B[43m]\u001B[49m\u001B[43m[\u001B[49m\u001B[38;5;124;43m'\u001B[39;49m\u001B[38;5;124;43msma_vol_sum_1d\u001B[39;49m\u001B[38;5;124;43m'\u001B[39;49m\u001B[43m]\u001B[49m\n",
      "File \u001B[0;32m~/dev/solanadegen/.venv/lib/python3.10/site-packages/pandas/core/frame.py:3893\u001B[0m, in \u001B[0;36mDataFrame.__getitem__\u001B[0;34m(self, key)\u001B[0m\n\u001B[1;32m   3891\u001B[0m \u001B[38;5;28;01mif\u001B[39;00m \u001B[38;5;28mself\u001B[39m\u001B[38;5;241m.\u001B[39mcolumns\u001B[38;5;241m.\u001B[39mnlevels \u001B[38;5;241m>\u001B[39m \u001B[38;5;241m1\u001B[39m:\n\u001B[1;32m   3892\u001B[0m     \u001B[38;5;28;01mreturn\u001B[39;00m \u001B[38;5;28mself\u001B[39m\u001B[38;5;241m.\u001B[39m_getitem_multilevel(key)\n\u001B[0;32m-> 3893\u001B[0m indexer \u001B[38;5;241m=\u001B[39m \u001B[38;5;28;43mself\u001B[39;49m\u001B[38;5;241;43m.\u001B[39;49m\u001B[43mcolumns\u001B[49m\u001B[38;5;241;43m.\u001B[39;49m\u001B[43mget_loc\u001B[49m\u001B[43m(\u001B[49m\u001B[43mkey\u001B[49m\u001B[43m)\u001B[49m\n\u001B[1;32m   3894\u001B[0m \u001B[38;5;28;01mif\u001B[39;00m is_integer(indexer):\n\u001B[1;32m   3895\u001B[0m     indexer \u001B[38;5;241m=\u001B[39m [indexer]\n",
      "File \u001B[0;32m~/dev/solanadegen/.venv/lib/python3.10/site-packages/pandas/core/indexes/base.py:3798\u001B[0m, in \u001B[0;36mIndex.get_loc\u001B[0;34m(self, key)\u001B[0m\n\u001B[1;32m   3793\u001B[0m     \u001B[38;5;28;01mif\u001B[39;00m \u001B[38;5;28misinstance\u001B[39m(casted_key, \u001B[38;5;28mslice\u001B[39m) \u001B[38;5;129;01mor\u001B[39;00m (\n\u001B[1;32m   3794\u001B[0m         \u001B[38;5;28misinstance\u001B[39m(casted_key, abc\u001B[38;5;241m.\u001B[39mIterable)\n\u001B[1;32m   3795\u001B[0m         \u001B[38;5;129;01mand\u001B[39;00m \u001B[38;5;28many\u001B[39m(\u001B[38;5;28misinstance\u001B[39m(x, \u001B[38;5;28mslice\u001B[39m) \u001B[38;5;28;01mfor\u001B[39;00m x \u001B[38;5;129;01min\u001B[39;00m casted_key)\n\u001B[1;32m   3796\u001B[0m     ):\n\u001B[1;32m   3797\u001B[0m         \u001B[38;5;28;01mraise\u001B[39;00m InvalidIndexError(key)\n\u001B[0;32m-> 3798\u001B[0m     \u001B[38;5;28;01mraise\u001B[39;00m \u001B[38;5;167;01mKeyError\u001B[39;00m(key) \u001B[38;5;28;01mfrom\u001B[39;00m \u001B[38;5;21;01merr\u001B[39;00m\n\u001B[1;32m   3799\u001B[0m \u001B[38;5;28;01mexcept\u001B[39;00m \u001B[38;5;167;01mTypeError\u001B[39;00m:\n\u001B[1;32m   3800\u001B[0m     \u001B[38;5;66;03m# If we have a listlike key, _check_indexing_error will raise\u001B[39;00m\n\u001B[1;32m   3801\u001B[0m     \u001B[38;5;66;03m#  InvalidIndexError. Otherwise we fall through and re-raise\u001B[39;00m\n\u001B[1;32m   3802\u001B[0m     \u001B[38;5;66;03m#  the TypeError.\u001B[39;00m\n\u001B[1;32m   3803\u001B[0m     \u001B[38;5;28mself\u001B[39m\u001B[38;5;241m.\u001B[39m_check_indexing_error(key)\n",
      "\u001B[0;31mKeyError\u001B[0m: 'sma_vol_sum_1d'"
     ]
    }
   ],
   "source": [
    "dataset[dataset['label'] == 'up']['sma_vol_sum_1d']"
   ],
   "metadata": {
    "collapsed": false,
    "ExecuteTime": {
     "end_time": "2024-01-08T00:20:24.521510Z",
     "start_time": "2024-01-08T00:20:22.863942Z"
    }
   },
   "id": "552463f0316c247b"
  },
  {
   "cell_type": "code",
   "execution_count": 6,
   "outputs": [
    {
     "data": {
      "text/plain": "                          time_quant         price     buy_price  \\\ncount                         258092  2.580920e+05  2.580920e+05   \nmean   2023-12-23 18:20:23.738047232  1.438748e+02  1.438748e+02   \nmin              2023-12-01 00:10:00  3.076663e-18  3.076663e-18   \n25%              2023-12-17 12:00:00  3.754122e-07  3.754122e-07   \n50%              2023-12-24 11:30:00  8.319116e-06  8.319116e-06   \n75%              2023-12-31 23:10:00  4.180151e-04  4.180151e-04   \nmax              2024-01-07 22:30:00  3.620890e+07  3.620890e+07   \nstd                              NaN  7.127982e+04  7.127982e+04   \n\n         sell_price    day_of_week           hour  found_points_now  \\\ncount  2.580920e+05  258092.000000  258092.000000          258092.0   \nmean   1.439318e+02       3.152442      12.081219               1.0   \nmin    0.000000e+00       0.000000       0.000000               1.0   \n25%    2.044183e-07       2.000000       6.000000               1.0   \n50%    6.348724e-06       3.000000      13.000000               1.0   \n75%    3.375941e-04       5.000000      18.000000               1.0   \nmax    1.257253e+06       6.000000      23.000000               1.0   \nstd    1.324418e+04       1.947054       6.999753               0.0   \n\n       u_price_sma_now  u_price_ema_now  u_price_rsi_now  ...  \\\ncount         258092.0         258092.0         258092.0  ...   \nmean               1.0              1.0             -1.0  ...   \nmin                1.0              1.0             -1.0  ...   \n25%                1.0              1.0             -1.0  ...   \n50%                1.0              1.0             -1.0  ...   \n75%                1.0              1.0             -1.0  ...   \nmax                1.0              1.0             -1.0  ...   \nstd                0.0              0.0              0.0  ...   \n\n       vol_ema_sum_10m  trcnt_sma_sum_1h  vol_sma_sum_1h  vol_ema_sum_1h  \\\ncount    258092.000000     258092.000000   258092.000000   258092.000000   \nmean         13.537404          7.261119       75.315959       76.093858   \nmin           0.000000          0.000000        0.000000        0.000000   \n25%           0.195568          0.714286        0.878723        1.028973   \n50%           1.038965          2.500000        5.433897        5.840812   \n75%           5.059882          7.071429       29.740905       30.668750   \nmax        3951.450136        165.142857     3222.103782     4968.290079   \nstd          57.818316         13.806563      250.514617      254.998898   \n\n       trcnt_sma_sum_4h  vol_sma_sum_4h  vol_ema_sum_4h  trcnt_sma_sum_1d  \\\ncount     258092.000000   258092.000000   258092.000000     258092.000000   \nmean          25.016142      287.483913      290.463911        104.188100   \nmin            0.000000        0.000000        0.000000          0.000000   \n25%            2.142857        2.852396        3.440090          5.500000   \n50%            8.214286       19.300165       21.186946         25.142857   \n75%           23.214286      106.229204      111.330485         84.857143   \nmax          397.500000     9353.895137    11040.231491       2028.428571   \nstd           50.475714      909.206896      917.010091        254.277889   \n\n       vol_sma_sum_1d  vol_ema_sum_1d  \ncount   258092.000000   258092.000000  \nmean      1515.669978     1492.208666  \nmin          0.000000        0.000000  \n25%          7.129115        9.960613  \n50%         63.115892       77.031012  \n75%        401.088477      446.863669  \nmax      41485.872802    43769.370587  \nstd       4966.072890     4844.106475  \n\n[8 rows x 91 columns]",
      "text/html": "<div>\n<style scoped>\n    .dataframe tbody tr th:only-of-type {\n        vertical-align: middle;\n    }\n\n    .dataframe tbody tr th {\n        vertical-align: top;\n    }\n\n    .dataframe thead th {\n        text-align: right;\n    }\n</style>\n<table border=\"1\" class=\"dataframe\">\n  <thead>\n    <tr style=\"text-align: right;\">\n      <th></th>\n      <th>time_quant</th>\n      <th>price</th>\n      <th>buy_price</th>\n      <th>sell_price</th>\n      <th>day_of_week</th>\n      <th>hour</th>\n      <th>found_points_now</th>\n      <th>u_price_sma_now</th>\n      <th>u_price_ema_now</th>\n      <th>u_price_rsi_now</th>\n      <th>...</th>\n      <th>vol_ema_sum_10m</th>\n      <th>trcnt_sma_sum_1h</th>\n      <th>vol_sma_sum_1h</th>\n      <th>vol_ema_sum_1h</th>\n      <th>trcnt_sma_sum_4h</th>\n      <th>vol_sma_sum_4h</th>\n      <th>vol_ema_sum_4h</th>\n      <th>trcnt_sma_sum_1d</th>\n      <th>vol_sma_sum_1d</th>\n      <th>vol_ema_sum_1d</th>\n    </tr>\n  </thead>\n  <tbody>\n    <tr>\n      <th>count</th>\n      <td>258092</td>\n      <td>2.580920e+05</td>\n      <td>2.580920e+05</td>\n      <td>2.580920e+05</td>\n      <td>258092.000000</td>\n      <td>258092.000000</td>\n      <td>258092.0</td>\n      <td>258092.0</td>\n      <td>258092.0</td>\n      <td>258092.0</td>\n      <td>...</td>\n      <td>258092.000000</td>\n      <td>258092.000000</td>\n      <td>258092.000000</td>\n      <td>258092.000000</td>\n      <td>258092.000000</td>\n      <td>258092.000000</td>\n      <td>258092.000000</td>\n      <td>258092.000000</td>\n      <td>258092.000000</td>\n      <td>258092.000000</td>\n    </tr>\n    <tr>\n      <th>mean</th>\n      <td>2023-12-23 18:20:23.738047232</td>\n      <td>1.438748e+02</td>\n      <td>1.438748e+02</td>\n      <td>1.439318e+02</td>\n      <td>3.152442</td>\n      <td>12.081219</td>\n      <td>1.0</td>\n      <td>1.0</td>\n      <td>1.0</td>\n      <td>-1.0</td>\n      <td>...</td>\n      <td>13.537404</td>\n      <td>7.261119</td>\n      <td>75.315959</td>\n      <td>76.093858</td>\n      <td>25.016142</td>\n      <td>287.483913</td>\n      <td>290.463911</td>\n      <td>104.188100</td>\n      <td>1515.669978</td>\n      <td>1492.208666</td>\n    </tr>\n    <tr>\n      <th>min</th>\n      <td>2023-12-01 00:10:00</td>\n      <td>3.076663e-18</td>\n      <td>3.076663e-18</td>\n      <td>0.000000e+00</td>\n      <td>0.000000</td>\n      <td>0.000000</td>\n      <td>1.0</td>\n      <td>1.0</td>\n      <td>1.0</td>\n      <td>-1.0</td>\n      <td>...</td>\n      <td>0.000000</td>\n      <td>0.000000</td>\n      <td>0.000000</td>\n      <td>0.000000</td>\n      <td>0.000000</td>\n      <td>0.000000</td>\n      <td>0.000000</td>\n      <td>0.000000</td>\n      <td>0.000000</td>\n      <td>0.000000</td>\n    </tr>\n    <tr>\n      <th>25%</th>\n      <td>2023-12-17 12:00:00</td>\n      <td>3.754122e-07</td>\n      <td>3.754122e-07</td>\n      <td>2.044183e-07</td>\n      <td>2.000000</td>\n      <td>6.000000</td>\n      <td>1.0</td>\n      <td>1.0</td>\n      <td>1.0</td>\n      <td>-1.0</td>\n      <td>...</td>\n      <td>0.195568</td>\n      <td>0.714286</td>\n      <td>0.878723</td>\n      <td>1.028973</td>\n      <td>2.142857</td>\n      <td>2.852396</td>\n      <td>3.440090</td>\n      <td>5.500000</td>\n      <td>7.129115</td>\n      <td>9.960613</td>\n    </tr>\n    <tr>\n      <th>50%</th>\n      <td>2023-12-24 11:30:00</td>\n      <td>8.319116e-06</td>\n      <td>8.319116e-06</td>\n      <td>6.348724e-06</td>\n      <td>3.000000</td>\n      <td>13.000000</td>\n      <td>1.0</td>\n      <td>1.0</td>\n      <td>1.0</td>\n      <td>-1.0</td>\n      <td>...</td>\n      <td>1.038965</td>\n      <td>2.500000</td>\n      <td>5.433897</td>\n      <td>5.840812</td>\n      <td>8.214286</td>\n      <td>19.300165</td>\n      <td>21.186946</td>\n      <td>25.142857</td>\n      <td>63.115892</td>\n      <td>77.031012</td>\n    </tr>\n    <tr>\n      <th>75%</th>\n      <td>2023-12-31 23:10:00</td>\n      <td>4.180151e-04</td>\n      <td>4.180151e-04</td>\n      <td>3.375941e-04</td>\n      <td>5.000000</td>\n      <td>18.000000</td>\n      <td>1.0</td>\n      <td>1.0</td>\n      <td>1.0</td>\n      <td>-1.0</td>\n      <td>...</td>\n      <td>5.059882</td>\n      <td>7.071429</td>\n      <td>29.740905</td>\n      <td>30.668750</td>\n      <td>23.214286</td>\n      <td>106.229204</td>\n      <td>111.330485</td>\n      <td>84.857143</td>\n      <td>401.088477</td>\n      <td>446.863669</td>\n    </tr>\n    <tr>\n      <th>max</th>\n      <td>2024-01-07 22:30:00</td>\n      <td>3.620890e+07</td>\n      <td>3.620890e+07</td>\n      <td>1.257253e+06</td>\n      <td>6.000000</td>\n      <td>23.000000</td>\n      <td>1.0</td>\n      <td>1.0</td>\n      <td>1.0</td>\n      <td>-1.0</td>\n      <td>...</td>\n      <td>3951.450136</td>\n      <td>165.142857</td>\n      <td>3222.103782</td>\n      <td>4968.290079</td>\n      <td>397.500000</td>\n      <td>9353.895137</td>\n      <td>11040.231491</td>\n      <td>2028.428571</td>\n      <td>41485.872802</td>\n      <td>43769.370587</td>\n    </tr>\n    <tr>\n      <th>std</th>\n      <td>NaN</td>\n      <td>7.127982e+04</td>\n      <td>7.127982e+04</td>\n      <td>1.324418e+04</td>\n      <td>1.947054</td>\n      <td>6.999753</td>\n      <td>0.0</td>\n      <td>0.0</td>\n      <td>0.0</td>\n      <td>0.0</td>\n      <td>...</td>\n      <td>57.818316</td>\n      <td>13.806563</td>\n      <td>250.514617</td>\n      <td>254.998898</td>\n      <td>50.475714</td>\n      <td>909.206896</td>\n      <td>917.010091</td>\n      <td>254.277889</td>\n      <td>4966.072890</td>\n      <td>4844.106475</td>\n    </tr>\n  </tbody>\n</table>\n<p>8 rows × 91 columns</p>\n</div>"
     },
     "execution_count": 6,
     "metadata": {},
     "output_type": "execute_result"
    }
   ],
   "source": [
    "dataset.describe()"
   ],
   "metadata": {
    "collapsed": false,
    "ExecuteTime": {
     "end_time": "2024-01-08T00:20:35.216866Z",
     "start_time": "2024-01-08T00:20:33.589350Z"
    }
   },
   "id": "91fbb5d998719382"
  },
  {
   "cell_type": "code",
   "execution_count": 179,
   "outputs": [
    {
     "name": "stdout",
     "output_type": "stream",
     "text": [
      "dataset len: 258092\n",
      "train_test_dataset len: 257101\n",
      "train_test_dataset len: 257101\n",
      "unique_mints len: 5573\n"
     ]
    }
   ],
   "source": [
    "from sklearn.model_selection import TimeSeriesSplit\n",
    "\n",
    "print(\"dataset len: %d\" % len(dataset))\n",
    "train_test_dataset = dataset[dataset['label'] != 'na']\n",
    "print(\"train_test_dataset len: %d\" % len(train_test_dataset))\n",
    "# train_test_dataset = train_test_dataset[train_test_dataset['sma_vol_sum_1h'] > 1]\n",
    "print(\"train_test_dataset len: %d\" % len(train_test_dataset))\n",
    "unique_mints = train_test_dataset['mint'].unique()\n",
    "print(\"unique_mints len: %d\" % len(unique_mints))\n"
   ],
   "metadata": {
    "collapsed": false,
    "ExecuteTime": {
     "end_time": "2024-01-08T01:27:48.420762Z",
     "start_time": "2024-01-08T01:27:48.253429Z"
    }
   },
   "id": "cd9ba54930ee096f"
  },
  {
   "cell_type": "code",
   "execution_count": 180,
   "outputs": [
    {
     "name": "stdout",
     "output_type": "stream",
     "text": [
      "638\n",
      "1997\n"
     ]
    }
   ],
   "source": [
    "# how many mints have up label\n",
    "print(train_test_dataset[train_test_dataset['label'] == 'up']['mint'].nunique())\n",
    "print(len(train_test_dataset[train_test_dataset['label'] == 'up']))"
   ],
   "metadata": {
    "collapsed": false,
    "ExecuteTime": {
     "end_time": "2024-01-08T01:27:51.247356Z",
     "start_time": "2024-01-08T01:27:51.217889Z"
    }
   },
   "id": "783473e3cc65b98b"
  },
  {
   "cell_type": "code",
   "execution_count": 9,
   "outputs": [
    {
     "data": {
      "text/plain": "622       0.000000\n3002      0.100005\n3019      0.110005\n3278      1.000006\n3307      1.426790\n            ...   \n247028    0.312248\n247326    0.385137\n247424    0.406026\n248520    3.523738\n248650    3.538124\nName: sma_vol_sum_1d, Length: 2473, dtype: float64"
     },
     "execution_count": 9,
     "metadata": {},
     "output_type": "execute_result"
    }
   ],
   "source": [
    "train_test_dataset[train_test_dataset['label'] == 'up']['sma_vol_sum_1d']\n"
   ],
   "metadata": {
    "collapsed": false,
    "ExecuteTime": {
     "end_time": "2024-01-07T22:25:03.438185Z",
     "start_time": "2024-01-07T22:25:03.431290Z"
    }
   },
   "id": "65c53e8dae31421d"
  },
  {
   "cell_type": "code",
   "execution_count": 10,
   "outputs": [
    {
     "data": {
      "text/plain": "count    2473.000000\nmean      579.424001\nstd      1775.376092\nmin         0.000000\n25%         0.804365\n50%        13.566728\n75%       159.366981\nmax      9814.180373\nName: sma_vol_sum_1d, dtype: float64"
     },
     "execution_count": 10,
     "metadata": {},
     "output_type": "execute_result"
    }
   ],
   "source": [
    "train_test_dataset[train_test_dataset['label'] == 'up']['sma_vol_sum_1d'].describe()"
   ],
   "metadata": {
    "collapsed": false,
    "ExecuteTime": {
     "end_time": "2024-01-07T22:25:04.079798Z",
     "start_time": "2024-01-07T22:25:04.066461Z"
    }
   },
   "id": "bd3d63b2b2a9694a"
  },
  {
   "cell_type": "code",
   "execution_count": 11,
   "outputs": [
    {
     "data": {
      "text/plain": "                time_quant                                          mint  \\\n0      2023-12-01 00:10:00  2ZE6hSL36e44wP168YMnxrbi1CSCFuD2BJm7NoNHfsmN   \n1      2023-12-01 00:10:00  2x8o3hA5S5fBxCSE9hzVTf3RohcMWHqkDNKNEPuzprD5   \n2      2023-12-01 00:10:00  3EagcZ66c8z2hZdFSd5412yEW9U48AAb9P6d1yhjuGmY   \n3      2023-12-01 00:10:00  7SZUnH7H9KptyJkUhJ5L4Kee5fFAbqVgCHvt7B6wg4Xc   \n4      2023-12-01 00:10:00  7xKXtg2CW87d97TXJSDpbD5jBkheTqA83TZRuJosgAsU   \n...                    ...                                           ...   \n248702 2024-01-06 21:20:00   mSoLzYCxHdYgdzU16g5QSh3i5K3z3KZK7ytfqcJm7So   \n248703 2024-01-06 21:20:00   orcaEKTdK7LKz57vaAYr9QeNsVEPfiu6QeMU1kektZE   \n248704 2024-01-06 21:20:00   r89LZwYf7ZiWVSk8uR6yEboWDEn52EgeXxMJg7UtX7w   \n248705 2024-01-06 21:20:00   skJyor4eEoBsDpxyURP367RjGEK5xbqrjWjjyjQGo2N   \n248706 2024-01-06 21:20:00   tGSdnVTzv45tX5Ef9xUrQXrD7dQb3th5stz4aM3V3zN   \n\n               price     buy_price    sell_price label  day_of_week  hour  \\\n0       5.512779e-05  5.512779e-05  5.371476e-05  flat            4     0   \n1       6.712853e-06  6.712853e-06  9.691156e-06  flat            4     0   \n2       1.079326e-05  1.079326e-05  1.202554e-05  flat            4     0   \n3       2.025078e-08  2.025078e-08  2.025078e-08  flat            4     0   \n4       1.332301e-04  1.332301e-04  1.539738e-04  flat            4     0   \n...              ...           ...           ...   ...          ...   ...   \n248702  1.159173e+00  1.159173e+00  1.158825e+00  flat            5    21   \n248703  5.453821e-02  5.453821e-02  5.463510e-02  flat            5    21   \n248704  7.953436e-07  7.953436e-07  8.571247e-07  flat            5    21   \n248705  1.662048e-06  1.662048e-06  1.899461e-06  flat            5    21   \n248706  1.595033e-06  1.595033e-06  8.255610e-07  flat            5    21   \n\n        u_price_sma_10m  u_price_ema_10m  ...  sma_vol_sell_1d  \\\n0              1.000000         1.000000  ...         0.000000   \n1              1.000000         1.000000  ...         0.000000   \n2              1.000000         1.000000  ...         0.000000   \n3              1.000000         1.000000  ...         0.000000   \n4              1.000000         1.000000  ...         0.000000   \n...                 ...              ...  ...              ...   \n248702         0.999639         0.999927  ...      6143.589916   \n248703         1.001701         1.002413  ...        69.181842   \n248704         1.457200         1.426720  ...         1.842587   \n248705         1.174185         1.162573  ...         2.707560   \n248706         0.989622         0.983992  ...        18.201707   \n\n        ema_vol_sell_1d  sma_vol_sum_10m  ema_vol_sum_10m  sma_vol_sum_1h  \\\n0              0.000000         0.000000         0.000000        0.000000   \n1              0.000000         0.000000         0.000000        0.000000   \n2              0.000000         0.000000         0.000000        0.000000   \n3              0.000000         0.000000         0.000000        0.000000   \n4              0.000000         0.000000         0.000000        0.000000   \n...                 ...              ...              ...             ...   \n248702      5731.557628        51.324359        59.647754      114.788908   \n248703        73.531003         0.303918         0.259605        7.889743   \n248704         1.534916         0.004575         0.008539        0.008152   \n248705         3.190907         0.010655         0.019890        0.030189   \n248706        32.441978         0.530716         0.402606       11.001487   \n\n        ema_vol_sum_1h  sma_vol_sum_4h  ema_vol_sum_4h  sma_vol_sum_1d  \\\n0             0.000000        0.000000        0.000000        0.000000   \n1             0.000000        0.000000        0.000000        0.000000   \n2             0.000000        0.000000        0.000000        0.000000   \n3             0.000000        0.000000        0.000000        0.000000   \n4             0.000000        0.000000        0.000000        0.000000   \n...                ...             ...             ...             ...   \n248702      149.568183      377.928546      553.043797     8067.981241   \n248703        4.861710       25.239336       31.181061      150.835343   \n248704        0.010992        0.041956        0.075156        3.050126   \n248705        0.031050        0.655743        0.663644        5.492843   \n248706        9.258604       27.639109       31.104124       27.639109   \n\n        ema_vol_sum_1d  \n0             0.000000  \n1             0.000000  \n2             0.000000  \n3             0.000000  \n4             0.000000  \n...                ...  \n248702     7539.853829  \n248703      138.029663  \n248704        2.429927  \n248705        6.465712  \n248706       49.761126  \n\n[248707 rows x 44 columns]",
      "text/html": "<div>\n<style scoped>\n    .dataframe tbody tr th:only-of-type {\n        vertical-align: middle;\n    }\n\n    .dataframe tbody tr th {\n        vertical-align: top;\n    }\n\n    .dataframe thead th {\n        text-align: right;\n    }\n</style>\n<table border=\"1\" class=\"dataframe\">\n  <thead>\n    <tr style=\"text-align: right;\">\n      <th></th>\n      <th>time_quant</th>\n      <th>mint</th>\n      <th>price</th>\n      <th>buy_price</th>\n      <th>sell_price</th>\n      <th>label</th>\n      <th>day_of_week</th>\n      <th>hour</th>\n      <th>u_price_sma_10m</th>\n      <th>u_price_ema_10m</th>\n      <th>...</th>\n      <th>sma_vol_sell_1d</th>\n      <th>ema_vol_sell_1d</th>\n      <th>sma_vol_sum_10m</th>\n      <th>ema_vol_sum_10m</th>\n      <th>sma_vol_sum_1h</th>\n      <th>ema_vol_sum_1h</th>\n      <th>sma_vol_sum_4h</th>\n      <th>ema_vol_sum_4h</th>\n      <th>sma_vol_sum_1d</th>\n      <th>ema_vol_sum_1d</th>\n    </tr>\n  </thead>\n  <tbody>\n    <tr>\n      <th>0</th>\n      <td>2023-12-01 00:10:00</td>\n      <td>2ZE6hSL36e44wP168YMnxrbi1CSCFuD2BJm7NoNHfsmN</td>\n      <td>5.512779e-05</td>\n      <td>5.512779e-05</td>\n      <td>5.371476e-05</td>\n      <td>flat</td>\n      <td>4</td>\n      <td>0</td>\n      <td>1.000000</td>\n      <td>1.000000</td>\n      <td>...</td>\n      <td>0.000000</td>\n      <td>0.000000</td>\n      <td>0.000000</td>\n      <td>0.000000</td>\n      <td>0.000000</td>\n      <td>0.000000</td>\n      <td>0.000000</td>\n      <td>0.000000</td>\n      <td>0.000000</td>\n      <td>0.000000</td>\n    </tr>\n    <tr>\n      <th>1</th>\n      <td>2023-12-01 00:10:00</td>\n      <td>2x8o3hA5S5fBxCSE9hzVTf3RohcMWHqkDNKNEPuzprD5</td>\n      <td>6.712853e-06</td>\n      <td>6.712853e-06</td>\n      <td>9.691156e-06</td>\n      <td>flat</td>\n      <td>4</td>\n      <td>0</td>\n      <td>1.000000</td>\n      <td>1.000000</td>\n      <td>...</td>\n      <td>0.000000</td>\n      <td>0.000000</td>\n      <td>0.000000</td>\n      <td>0.000000</td>\n      <td>0.000000</td>\n      <td>0.000000</td>\n      <td>0.000000</td>\n      <td>0.000000</td>\n      <td>0.000000</td>\n      <td>0.000000</td>\n    </tr>\n    <tr>\n      <th>2</th>\n      <td>2023-12-01 00:10:00</td>\n      <td>3EagcZ66c8z2hZdFSd5412yEW9U48AAb9P6d1yhjuGmY</td>\n      <td>1.079326e-05</td>\n      <td>1.079326e-05</td>\n      <td>1.202554e-05</td>\n      <td>flat</td>\n      <td>4</td>\n      <td>0</td>\n      <td>1.000000</td>\n      <td>1.000000</td>\n      <td>...</td>\n      <td>0.000000</td>\n      <td>0.000000</td>\n      <td>0.000000</td>\n      <td>0.000000</td>\n      <td>0.000000</td>\n      <td>0.000000</td>\n      <td>0.000000</td>\n      <td>0.000000</td>\n      <td>0.000000</td>\n      <td>0.000000</td>\n    </tr>\n    <tr>\n      <th>3</th>\n      <td>2023-12-01 00:10:00</td>\n      <td>7SZUnH7H9KptyJkUhJ5L4Kee5fFAbqVgCHvt7B6wg4Xc</td>\n      <td>2.025078e-08</td>\n      <td>2.025078e-08</td>\n      <td>2.025078e-08</td>\n      <td>flat</td>\n      <td>4</td>\n      <td>0</td>\n      <td>1.000000</td>\n      <td>1.000000</td>\n      <td>...</td>\n      <td>0.000000</td>\n      <td>0.000000</td>\n      <td>0.000000</td>\n      <td>0.000000</td>\n      <td>0.000000</td>\n      <td>0.000000</td>\n      <td>0.000000</td>\n      <td>0.000000</td>\n      <td>0.000000</td>\n      <td>0.000000</td>\n    </tr>\n    <tr>\n      <th>4</th>\n      <td>2023-12-01 00:10:00</td>\n      <td>7xKXtg2CW87d97TXJSDpbD5jBkheTqA83TZRuJosgAsU</td>\n      <td>1.332301e-04</td>\n      <td>1.332301e-04</td>\n      <td>1.539738e-04</td>\n      <td>flat</td>\n      <td>4</td>\n      <td>0</td>\n      <td>1.000000</td>\n      <td>1.000000</td>\n      <td>...</td>\n      <td>0.000000</td>\n      <td>0.000000</td>\n      <td>0.000000</td>\n      <td>0.000000</td>\n      <td>0.000000</td>\n      <td>0.000000</td>\n      <td>0.000000</td>\n      <td>0.000000</td>\n      <td>0.000000</td>\n      <td>0.000000</td>\n    </tr>\n    <tr>\n      <th>...</th>\n      <td>...</td>\n      <td>...</td>\n      <td>...</td>\n      <td>...</td>\n      <td>...</td>\n      <td>...</td>\n      <td>...</td>\n      <td>...</td>\n      <td>...</td>\n      <td>...</td>\n      <td>...</td>\n      <td>...</td>\n      <td>...</td>\n      <td>...</td>\n      <td>...</td>\n      <td>...</td>\n      <td>...</td>\n      <td>...</td>\n      <td>...</td>\n      <td>...</td>\n      <td>...</td>\n    </tr>\n    <tr>\n      <th>248702</th>\n      <td>2024-01-06 21:20:00</td>\n      <td>mSoLzYCxHdYgdzU16g5QSh3i5K3z3KZK7ytfqcJm7So</td>\n      <td>1.159173e+00</td>\n      <td>1.159173e+00</td>\n      <td>1.158825e+00</td>\n      <td>flat</td>\n      <td>5</td>\n      <td>21</td>\n      <td>0.999639</td>\n      <td>0.999927</td>\n      <td>...</td>\n      <td>6143.589916</td>\n      <td>5731.557628</td>\n      <td>51.324359</td>\n      <td>59.647754</td>\n      <td>114.788908</td>\n      <td>149.568183</td>\n      <td>377.928546</td>\n      <td>553.043797</td>\n      <td>8067.981241</td>\n      <td>7539.853829</td>\n    </tr>\n    <tr>\n      <th>248703</th>\n      <td>2024-01-06 21:20:00</td>\n      <td>orcaEKTdK7LKz57vaAYr9QeNsVEPfiu6QeMU1kektZE</td>\n      <td>5.453821e-02</td>\n      <td>5.453821e-02</td>\n      <td>5.463510e-02</td>\n      <td>flat</td>\n      <td>5</td>\n      <td>21</td>\n      <td>1.001701</td>\n      <td>1.002413</td>\n      <td>...</td>\n      <td>69.181842</td>\n      <td>73.531003</td>\n      <td>0.303918</td>\n      <td>0.259605</td>\n      <td>7.889743</td>\n      <td>4.861710</td>\n      <td>25.239336</td>\n      <td>31.181061</td>\n      <td>150.835343</td>\n      <td>138.029663</td>\n    </tr>\n    <tr>\n      <th>248704</th>\n      <td>2024-01-06 21:20:00</td>\n      <td>r89LZwYf7ZiWVSk8uR6yEboWDEn52EgeXxMJg7UtX7w</td>\n      <td>7.953436e-07</td>\n      <td>7.953436e-07</td>\n      <td>8.571247e-07</td>\n      <td>flat</td>\n      <td>5</td>\n      <td>21</td>\n      <td>1.457200</td>\n      <td>1.426720</td>\n      <td>...</td>\n      <td>1.842587</td>\n      <td>1.534916</td>\n      <td>0.004575</td>\n      <td>0.008539</td>\n      <td>0.008152</td>\n      <td>0.010992</td>\n      <td>0.041956</td>\n      <td>0.075156</td>\n      <td>3.050126</td>\n      <td>2.429927</td>\n    </tr>\n    <tr>\n      <th>248705</th>\n      <td>2024-01-06 21:20:00</td>\n      <td>skJyor4eEoBsDpxyURP367RjGEK5xbqrjWjjyjQGo2N</td>\n      <td>1.662048e-06</td>\n      <td>1.662048e-06</td>\n      <td>1.899461e-06</td>\n      <td>flat</td>\n      <td>5</td>\n      <td>21</td>\n      <td>1.174185</td>\n      <td>1.162573</td>\n      <td>...</td>\n      <td>2.707560</td>\n      <td>3.190907</td>\n      <td>0.010655</td>\n      <td>0.019890</td>\n      <td>0.030189</td>\n      <td>0.031050</td>\n      <td>0.655743</td>\n      <td>0.663644</td>\n      <td>5.492843</td>\n      <td>6.465712</td>\n    </tr>\n    <tr>\n      <th>248706</th>\n      <td>2024-01-06 21:20:00</td>\n      <td>tGSdnVTzv45tX5Ef9xUrQXrD7dQb3th5stz4aM3V3zN</td>\n      <td>1.595033e-06</td>\n      <td>1.595033e-06</td>\n      <td>8.255610e-07</td>\n      <td>flat</td>\n      <td>5</td>\n      <td>21</td>\n      <td>0.989622</td>\n      <td>0.983992</td>\n      <td>...</td>\n      <td>18.201707</td>\n      <td>32.441978</td>\n      <td>0.530716</td>\n      <td>0.402606</td>\n      <td>11.001487</td>\n      <td>9.258604</td>\n      <td>27.639109</td>\n      <td>31.104124</td>\n      <td>27.639109</td>\n      <td>49.761126</td>\n    </tr>\n  </tbody>\n</table>\n<p>248707 rows × 44 columns</p>\n</div>"
     },
     "execution_count": 11,
     "metadata": {},
     "output_type": "execute_result"
    }
   ],
   "source": [
    "train_test_dataset"
   ],
   "metadata": {
    "collapsed": false,
    "ExecuteTime": {
     "end_time": "2024-01-07T22:25:04.655694Z",
     "start_time": "2024-01-07T22:25:04.572604Z"
    }
   },
   "id": "ab86e197b0b04654"
  },
  {
   "cell_type": "code",
   "execution_count": 142,
   "outputs": [
    {
     "name": "stdout",
     "output_type": "stream",
     "text": [
      "feature_names: ['day_of_week', 'hour', 'found_points_now', 'u_price_sma_now', 'u_price_ema_now', 'u_price_rsi_now', 'found_points_now_trunc', 'u_price_sma_now_trunc', 'u_price_ema_now_trunc', 'u_price_rsi_now_trunc', 'found_points_10m', 'u_price_sma_10m', 'u_price_ema_10m', 'u_price_rsi_10m', 'found_points_10m_trunc', 'u_price_sma_10m_trunc', 'u_price_ema_10m_trunc', 'u_price_rsi_10m_trunc', 'found_points_1h', 'u_price_sma_1h', 'u_price_ema_1h', 'u_price_rsi_1h', 'found_points_1h_trunc', 'u_price_sma_1h_trunc', 'u_price_ema_1h_trunc', 'u_price_rsi_1h_trunc', 'found_points_4h', 'u_price_sma_4h', 'u_price_ema_4h', 'u_price_rsi_4h', 'found_points_4h_trunc', 'u_price_sma_4h_trunc', 'u_price_ema_4h_trunc', 'u_price_rsi_4h_trunc', 'found_points_1d', 'u_price_sma_1d', 'u_price_ema_1d', 'u_price_rsi_1d', 'found_points_1d_trunc', 'u_price_sma_1d_trunc', 'u_price_ema_1d_trunc', 'u_price_rsi_1d_trunc', 'trcnt_sma_buy_now', 'vol_sma_buy_now', 'vol_ema_buy_now', 'trcnt_sma_buy_10m', 'vol_sma_buy_10m', 'vol_ema_buy_10m', 'trcnt_sma_buy_1h', 'vol_sma_buy_1h', 'vol_ema_buy_1h', 'trcnt_sma_buy_4h', 'vol_sma_buy_4h', 'vol_ema_buy_4h', 'trcnt_sma_buy_1d', 'vol_sma_buy_1d', 'vol_ema_buy_1d', 'trcnt_sma_sell_now', 'vol_sma_sell_now', 'vol_ema_sell_now', 'trcnt_sma_sell_10m', 'vol_sma_sell_10m', 'vol_ema_sell_10m', 'trcnt_sma_sell_1h', 'vol_sma_sell_1h', 'vol_ema_sell_1h', 'trcnt_sma_sell_4h', 'vol_sma_sell_4h', 'vol_ema_sell_4h', 'trcnt_sma_sell_1d', 'vol_sma_sell_1d', 'vol_ema_sell_1d', 'trcnt_sma_sum_now', 'vol_sma_sum_now', 'vol_ema_sum_now', 'trcnt_sma_sum_10m', 'vol_sma_sum_10m', 'vol_ema_sum_10m', 'trcnt_sma_sum_1h', 'vol_sma_sum_1h', 'vol_ema_sum_1h', 'trcnt_sma_sum_4h', 'vol_sma_sum_4h', 'vol_ema_sum_4h', 'trcnt_sma_sum_1d', 'vol_sma_sum_1d', 'vol_ema_sum_1d']\n"
     ]
    }
   ],
   "source": [
    "column_names = list(train_test_dataset.columns)\n",
    "# feature names start after 'label'\n",
    "label_index = column_names.index('label')\n",
    "feature_names = column_names[label_index+1:]\n",
    "print(f\"feature_names: {feature_names}\")"
   ],
   "metadata": {
    "collapsed": false,
    "ExecuteTime": {
     "end_time": "2024-01-08T01:14:54.126101Z",
     "start_time": "2024-01-08T01:14:54.090848Z"
    }
   },
   "id": "34b9df2488215da7"
  },
  {
   "cell_type": "code",
   "execution_count": 181,
   "outputs": [
    {
     "name": "stdout",
     "output_type": "stream",
     "text": [
      "train [2023-12-01 00:10:00; 2023-12-24 15:52:30)\n",
      "test [2023-12-24 17:52:30; 2023-12-29 11:25:00)\n",
      "train_data (130439) [2023-12-01 00:10:00; 2023-12-24 15:50:00]\n",
      "test_data (40782) [2023-12-24 18:00:00 to 2023-12-29 11:20:00]\n",
      "train [2023-12-01 00:10:00; 2023-12-29 09:25:00)\n",
      "test [2023-12-29 11:25:00; 2024-01-03 04:57:30)\n",
      "train_data (171279) [2023-12-01 00:10:00; 2023-12-29 09:20:00]\n",
      "test_data (41824) [2023-12-29 11:30:00 to 2024-01-03 04:50:00]\n",
      "train [2023-12-01 00:10:00; 2024-01-03 02:57:30)\n",
      "test [2024-01-03 04:57:30; 2024-01-07 22:30:00)\n",
      "train_data (212883) [2023-12-01 00:10:00; 2024-01-03 02:50:00]\n",
      "test_data (43407) [2024-01-03 05:00:00 to 2024-01-07 20:30:00]\n"
     ]
    }
   ],
   "source": [
    "import pandas as pd\n",
    "from catboost import CatBoostClassifier, Pool\n",
    "from sklearn.model_selection import TimeSeriesSplit\n",
    "from sklearn.metrics import confusion_matrix\n",
    "import matplotlib.pyplot as plt\n",
    "import seaborn as sns\n",
    "\n",
    "# Convert 'mint' to a categorical feature\n",
    "# train_test_dataset['mint'] = train_test_dataset['mint'].astype('category')\n",
    "\n",
    "# Define features and target\n",
    "# feature_names = ['mint', 'hour', 'trades', 'token_volume', 'sol_volume', 'price'] + list(features.columns[2:])\n",
    "# cat_feature_names = ['mint']\n",
    "# feature_names = ['trades', 'token_volume', 'sol_volume', 'price'] + list(features.columns[2:])\n",
    "cat_feature_names = []\n",
    "target = 'label'\n",
    "\n",
    "# Initialize CatBoost Classifier\n",
    "model = CatBoostClassifier(loss_function='MultiClass', verbose=False)\n",
    "\n",
    "# TimeSeriesSplit for cross-validation\n",
    "nsplits = 3\n",
    "\n",
    "# To store predictions and actuals\n",
    "actuals = []\n",
    "raw_predictions = []\n",
    "up_probabilities = []\n",
    "down_probabilities = []\n",
    "details_df = pd.DataFrame() \n",
    "train_len = 0\n",
    "up_train_len = 0\n",
    "\n",
    "def split_tscv(ordered_df, nsplits):\n",
    "    min_quant = ordered_df['time_quant'].min()\n",
    "    max_quant = ordered_df['time_quant'].max()\n",
    "    range_quant = (max_quant - min_quant) / (nsplits + 1) / 2\n",
    "    for i in range(nsplits):\n",
    "        train_start = min_quant \n",
    "        train_end = min_quant + (i + 1) * range_quant + (max_quant - min_quant) / 2\n",
    "        test_start = train_end + PREDICTION_TIMEDELTA\n",
    "        test_end = test_start + range_quant\n",
    "        print(f'train [{train_start}; {train_end})\\ntest [{test_start}; {test_end})')\n",
    "        train_df = ordered_df[(ordered_df['time_quant'] >= train_start) & (ordered_df['time_quant'] < train_end)]\n",
    "        test_df = ordered_df[(ordered_df['time_quant'] >= test_start) & (ordered_df['time_quant'] < test_end)]\n",
    "        yield train_df, test_df\n",
    "    \n",
    "    \n",
    "split_tscv(train_test_dataset, nsplits)\n",
    "\n",
    "for train_data, test_data in split_tscv(train_test_dataset, nsplits):\n",
    "    print(f'train_data ({len(train_data)}) [{min(train_data[\"time_quant\"])}; {max(train_data[\"time_quant\"])}]')\n",
    "    if len(test_data) == 0:\n",
    "        print(f'No data left for test data')\n",
    "        break\n",
    "    print(f'test_data ({len(test_data)}) [{min(test_data[\"time_quant\"])} to {max(test_data[\"time_quant\"])}]')\n",
    "\n",
    "    train_len += len(train_data)\n",
    "    up_train_len += len(train_data[train_data[target] == 'up'])\n",
    "\n",
    "    # Create Pool\n",
    "    train_pool = Pool(data=train_data[feature_names], label=train_data[target], cat_features=cat_feature_names)\n",
    "    test_pool = Pool(data=test_data[feature_names], label=test_data[target], cat_features=cat_feature_names)\n",
    "\n",
    "    # Train model\n",
    "    model.fit(train_pool)\n",
    "\n",
    "    # Predict\n",
    "    classes = model.classes_\n",
    "    probs = model.predict_proba(test_pool)\n",
    "    classes_to_index = {c: i for i, c in enumerate(classes)}\n",
    "    \n",
    "    for probs_row in probs:\n",
    "        raw_predictions.append(classes[probs_row.argmax()])\n",
    "        up_probabilities.append(probs_row[classes_to_index['up']])\n",
    "        down_probabilities.append(probs_row[classes_to_index['down']])\n",
    "\n",
    "    actuals.extend(test_data[target].values)\n",
    "    if len(details_df) == 0:\n",
    "        details_df = test_data\n",
    "    else:\n",
    "        details_df = pd.concat([details_df, test_data])\n",
    "    \n"
   ],
   "metadata": {
    "collapsed": false,
    "ExecuteTime": {
     "end_time": "2024-01-08T01:29:38.003486Z",
     "start_time": "2024-01-08T01:27:58.781140Z"
    }
   },
   "id": "62eb4dc2618fa53e"
  },
  {
   "cell_type": "code",
   "execution_count": 196,
   "outputs": [
    {
     "name": "stdout",
     "output_type": "stream",
     "text": [
      "desired_up_amount: 306 of 851\n",
      "up_threshold: 0.14990007235924355\n",
      "pred len 126013, actuals len 126013, comparison_df len 126013, details len 126013, results_df len 126013\n",
      "Confusion Matrix:\n",
      "        up    flat  down\n",
      "up     66     781     4\n",
      "flat  220  123803    14\n",
      "down   21    1094    10\n",
      "ROI1: 114.66% of 100%\n",
      "ROI2: 43.00% of 100%\n",
      "Bench ROI1: 99.78% of 100%\n",
      "Bench ROI2: 1.35% of 100%\n",
      "Used: 0.24% (307 of 126013 trades)\n",
      "\n",
      "purchased upsides: 0.818596174070991, top 10 upsides ['94', '9', '7', '7', '6', '4', '4', '4', '4', '4']\n",
      "all upsides: 55874.57396202684, top 10 upsides ['1222957725', '1222957725', '1221668857', '984657715', '738493286', '573375221', '486824564', '253454162', '225928980', '33686617']\n"
     ]
    }
   ],
   "source": [
    "import numpy as np\n",
    "\n",
    "desired_up_amount = int(up_train_len * 1. / train_len * len(actuals) * 0.3)\n",
    "print(f\"desired_up_amount: {desired_up_amount} of {actuals.count('up')}\")\n",
    "\n",
    "delta_probabilities = list(np.array(up_probabilities) - np.array(down_probabilities) / CHANGE_MAGNITUDE)\n",
    "\n",
    "up_threshold = sorted(delta_probabilities, reverse=True)[desired_up_amount]\n",
    "print(f\"up_threshold: {up_threshold}\")\n",
    "\n",
    "predictions = []\n",
    "for raw_pred, up_prob in zip(raw_predictions, delta_probabilities):\n",
    "    if up_prob < up_threshold:\n",
    "        predictions.append(raw_pred if raw_pred != 'up' else 'flat')\n",
    "    else:\n",
    "        predictions.append('up')\n",
    "\n",
    "# Confusion Matrix\n",
    "conf_matrix = confusion_matrix(actuals, predictions, labels=['up', 'flat', 'down'])\n",
    "conf_matrix_df = pd.DataFrame(conf_matrix, index=['up', 'flat', 'down'], columns=['up', 'flat', 'down'])\n",
    "\n",
    "# Last iteration's predictions and actuals\n",
    "comparison_df = pd.DataFrame({'Actual': actuals, 'Predicted': predictions, 'UpP': up_probabilities, 'DownP': down_probabilities})\n",
    "# comparison_df = comparison_df.reset_index(drop=True)\n",
    "\n",
    "# add details to results_df\n",
    "results_df = pd.concat([comparison_df.reset_index(drop=True), details_df.reset_index(drop=True)], axis=1)\n",
    "print(f\"pred len {len(predictions)}, actuals len {len(actuals)}, \"\n",
    "      f\"comparison_df len {len(comparison_df)}, details len {len(details_df)}, results_df len {len(results_df)}\")\n",
    "\n",
    "#join prices to results_df\n",
    "# results_df = results_df.join(prices[['mint', 'hour', 'price'+prediction_type['suffix']]].set_index(['mint', 'hour']), on=['mint', 'hour'])\n",
    "results_df['upside'] = results_df['sell_price'] / results_df['buy_price'] - 1.\n",
    "# if price is inf, set upside to 0\n",
    "results_df['upside'] = results_df['upside'].replace([np.inf, -np.inf], 1)\n",
    "\n",
    "purchased_upsides = results_df[(results_df['Predicted']=='up')]['upside']\n",
    "all_upsides = results_df['upside']\n",
    "\n",
    "\n",
    "# Output\n",
    "print(\"Confusion Matrix:\\n\", conf_matrix_df)\n",
    "print(\"ROI1: %.2f%% of 100%%\\n\"\n",
    "      \"ROI2: %.2f%% of 100%%\\n\"\n",
    "      \"Bench ROI1: %.2f%% of 100%%\\n\"\n",
    "      \"Bench ROI2: %.2f%% of 100%%\\n\"\n",
    "      \"Used: %.2f%% (%d of %d trades)\\n\"\n",
    "      %(\n",
    "        (100 * (CHANGE_MAGNITUDE * 1. * conf_matrix_df.loc['up', 'up'].sum() + conf_matrix_df.loc['flat', 'up'].sum()) / conf_matrix_df.loc[:, 'up'].sum()),\n",
    "        (100 * (CHANGE_MAGNITUDE * 1. * conf_matrix_df.loc['up', 'up'].sum()) / conf_matrix_df.loc[:, 'up'].sum()),\n",
    "        (100 * (CHANGE_MAGNITUDE * 1. * conf_matrix_df.loc['up', :].sum() + conf_matrix_df.loc['flat', :].sum()) / conf_matrix_df.loc[:, :].sum().sum()),\n",
    "        (100 * (CHANGE_MAGNITUDE * 1. * conf_matrix_df.loc['up', :].sum()) / conf_matrix_df.loc[:, :].sum().sum()),\n",
    "        (100 * (1. * conf_matrix_df.loc[:, 'up'].sum()) / conf_matrix_df.loc[:, :].sum().sum()),\n",
    "        conf_matrix_df.loc[:, 'up'].sum(),\n",
    "        conf_matrix_df.loc[:, :].sum().sum(),\n",
    "      )\n",
    "      )\n",
    "print(f'purchased upsides: {purchased_upsides.mean()}, top 10 upsides {[\"%.0f\" % u for u in list(purchased_upsides.sort_values(ascending=False).head(10))]}')\n",
    "print(f'all upsides: {all_upsides.mean()}, top 10 upsides {[\"%.0f\" % u for u in list(all_upsides.sort_values(ascending=False).head(10))]}')"
   ],
   "metadata": {
    "collapsed": false,
    "ExecuteTime": {
     "end_time": "2024-01-08T01:31:29.457972Z",
     "start_time": "2024-01-08T01:31:29.062152Z"
    }
   },
   "id": "fef1b11c7c2205ff"
  },
  {
   "cell_type": "code",
   "execution_count": 197,
   "outputs": [
    {
     "name": "stdout",
     "output_type": "stream",
     "text": [
      "Confusion Matrix:\n",
      "        up    flat  down\n",
      "up     66     781     4\n",
      "flat  220  123803    14\n",
      "down   21    1094    10\n",
      "ROI1: 114.66% of 100%\n",
      "ROI2: 43.00% of 100%\n",
      "Bench ROI1: 99.78% of 100%\n",
      "Bench ROI2: 1.35% of 100%\n",
      "Used: 0.24% (307 of 126013 trades)\n",
      "\n",
      "purchased upsides: 0.818596174070991, top 10 upsides ['94', '9', '7', '7', '6', '4', '4', '4', '4', '4']\n",
      "all upsides: 55874.57396202684, top 10 upsides ['1222957725', '1222957725', '1221668857', '984657715', '738493286', '573375221', '486824564', '253454162', '225928980', '33686617']\n"
     ]
    }
   ],
   "source": [
    "print(\"Confusion Matrix:\\n\", conf_matrix_df)\n",
    "print(\"ROI1: %.2f%% of 100%%\\n\"\n",
    "      \"ROI2: %.2f%% of 100%%\\n\"\n",
    "      \"Bench ROI1: %.2f%% of 100%%\\n\"\n",
    "      \"Bench ROI2: %.2f%% of 100%%\\n\"\n",
    "      \"Used: %.2f%% (%d of %d trades)\\n\"\n",
    "      %(\n",
    "        (100 * (CHANGE_MAGNITUDE * 1. * conf_matrix_df.loc['up', 'up'].sum() + conf_matrix_df.loc['flat', 'up'].sum()) / conf_matrix_df.loc[:, 'up'].sum()),\n",
    "        (100 * (CHANGE_MAGNITUDE * 1. * conf_matrix_df.loc['up', 'up'].sum()) / conf_matrix_df.loc[:, 'up'].sum()),\n",
    "        (100 * (CHANGE_MAGNITUDE * 1. * conf_matrix_df.loc['up', :].sum() + conf_matrix_df.loc['flat', :].sum()) / conf_matrix_df.loc[:, :].sum().sum()),\n",
    "        (100 * (CHANGE_MAGNITUDE * 1. * conf_matrix_df.loc['up', :].sum()) / conf_matrix_df.loc[:, :].sum().sum()),\n",
    "        (100 * (1. * conf_matrix_df.loc[:, 'up'].sum()) / conf_matrix_df.loc[:, :].sum().sum()),\n",
    "        conf_matrix_df.loc[:, 'up'].sum(),\n",
    "        conf_matrix_df.loc[:, :].sum().sum(),\n",
    "      )\n",
    "      )\n",
    "print(f'purchased upsides: {purchased_upsides.mean()}, top 10 upsides {[\"%.0f\" % u for u in list(purchased_upsides.sort_values(ascending=False).head(10))]}')\n",
    "print(f'all upsides: {all_upsides.mean()}, top 10 upsides {[\"%.0f\" % u for u in list(all_upsides.sort_values(ascending=False).head(10))]}')"
   ],
   "metadata": {
    "collapsed": false,
    "ExecuteTime": {
     "end_time": "2024-01-08T01:31:33.563582Z",
     "start_time": "2024-01-08T01:31:33.516724Z"
    }
   },
   "id": "94a5c8e242f78fdf"
  },
  {
   "cell_type": "code",
   "execution_count": 198,
   "outputs": [
    {
     "data": {
      "text/plain": "                Feature Id  Importances\n0                     hour     6.625498\n1              day_of_week     3.652091\n2          u_price_rsi_10m     3.438245\n3    u_price_sma_10m_trunc     2.880686\n4          vol_sma_buy_now     2.186125\n..                     ...          ...\n82         u_price_rsi_now     0.000000\n83  found_points_now_trunc     0.000000\n84   u_price_sma_now_trunc     0.000000\n85   u_price_ema_now_trunc     0.000000\n86   u_price_rsi_now_trunc     0.000000\n\n[87 rows x 2 columns]",
      "text/html": "<div>\n<style scoped>\n    .dataframe tbody tr th:only-of-type {\n        vertical-align: middle;\n    }\n\n    .dataframe tbody tr th {\n        vertical-align: top;\n    }\n\n    .dataframe thead th {\n        text-align: right;\n    }\n</style>\n<table border=\"1\" class=\"dataframe\">\n  <thead>\n    <tr style=\"text-align: right;\">\n      <th></th>\n      <th>Feature Id</th>\n      <th>Importances</th>\n    </tr>\n  </thead>\n  <tbody>\n    <tr>\n      <th>0</th>\n      <td>hour</td>\n      <td>6.625498</td>\n    </tr>\n    <tr>\n      <th>1</th>\n      <td>day_of_week</td>\n      <td>3.652091</td>\n    </tr>\n    <tr>\n      <th>2</th>\n      <td>u_price_rsi_10m</td>\n      <td>3.438245</td>\n    </tr>\n    <tr>\n      <th>3</th>\n      <td>u_price_sma_10m_trunc</td>\n      <td>2.880686</td>\n    </tr>\n    <tr>\n      <th>4</th>\n      <td>vol_sma_buy_now</td>\n      <td>2.186125</td>\n    </tr>\n    <tr>\n      <th>...</th>\n      <td>...</td>\n      <td>...</td>\n    </tr>\n    <tr>\n      <th>82</th>\n      <td>u_price_rsi_now</td>\n      <td>0.000000</td>\n    </tr>\n    <tr>\n      <th>83</th>\n      <td>found_points_now_trunc</td>\n      <td>0.000000</td>\n    </tr>\n    <tr>\n      <th>84</th>\n      <td>u_price_sma_now_trunc</td>\n      <td>0.000000</td>\n    </tr>\n    <tr>\n      <th>85</th>\n      <td>u_price_ema_now_trunc</td>\n      <td>0.000000</td>\n    </tr>\n    <tr>\n      <th>86</th>\n      <td>u_price_rsi_now_trunc</td>\n      <td>0.000000</td>\n    </tr>\n  </tbody>\n</table>\n<p>87 rows × 2 columns</p>\n</div>"
     },
     "execution_count": 198,
     "metadata": {},
     "output_type": "execute_result"
    }
   ],
   "source": [
    "# feature importance\n",
    "model.get_feature_importance(prettified=True)"
   ],
   "metadata": {
    "collapsed": false,
    "ExecuteTime": {
     "end_time": "2024-01-08T01:31:34.446842Z",
     "start_time": "2024-01-08T01:31:34.401481Z"
    }
   },
   "id": "aa3a8642a70c940b"
  },
  {
   "cell_type": "code",
   "execution_count": 199,
   "outputs": [
    {
     "data": {
      "text/plain": "                                                mint       UpP  \\\n123431  HoXqxVbmnVKvRM2DS58ivipKx8bzPN5Nv1e3ZnKzxVDR  0.443503   \n123356  HoXqxVbmnVKvRM2DS58ivipKx8bzPN5Nv1e3ZnKzxVDR  0.395982   \n123288  HoXqxVbmnVKvRM2DS58ivipKx8bzPN5Nv1e3ZnKzxVDR  0.422750   \n123224  HoXqxVbmnVKvRM2DS58ivipKx8bzPN5Nv1e3ZnKzxVDR  0.244596   \n123166  HoXqxVbmnVKvRM2DS58ivipKx8bzPN5Nv1e3ZnKzxVDR  0.347386   \n...                                              ...       ...   \n18683   42qPeNN3q5NG8ip73SoCBJUx3AF9TZogVu6pVjC2QP7g  0.277012   \n17030   FoGXCSdfTMkJSbeD2xfe7acM27rCLbxf6p8rKQzuefBv  0.278676   \n13293   87QbDz6Ze5B8L3PoGvqLyJ3JAydi39jNtvzXDEz7zbcK  0.187739   \n13243   87QbDz6Ze5B8L3PoGvqLyJ3JAydi39jNtvzXDEz7zbcK  0.242972   \n13191   87QbDz6Ze5B8L3PoGvqLyJ3JAydi39jNtvzXDEz7zbcK  0.242355   \n\n                time_quant         price     buy_price    sell_price  \\\n123431 2024-01-07 14:30:00  6.960453e-07  1.106938e-06  3.580843e-06   \n123356 2024-01-07 14:20:00  6.647819e-07  6.960453e-07  3.421822e-06   \n123288 2024-01-07 14:10:00  8.630983e-07  6.647819e-07  3.226505e-06   \n123224 2024-01-07 14:00:00  7.414580e-07  8.630983e-07  2.939485e-06   \n123166 2024-01-07 13:50:00  9.584367e-07  7.414580e-07  2.413745e-06   \n...                    ...           ...           ...           ...   \n18683  2023-12-27 00:10:00  2.563327e-08  2.563327e-08  5.206660e-08   \n17030  2023-12-26 19:50:00  1.074629e-08  2.837799e-09  2.688363e-07   \n13293  2023-12-26 09:00:00  1.382726e-08  2.104897e-08  9.165841e-08   \n13243  2023-12-26 08:50:00  1.617712e-08  1.382726e-08  6.283067e-08   \n13191  2023-12-26 08:40:00  6.296429e-08  1.617712e-08  4.566441e-08   \n\n           upside  \n123431   2.234908  \n123356   3.916091  \n123288   3.853478  \n123224   2.405736  \n123166   2.255403  \n...           ...  \n18683    1.031212  \n17030   93.734094  \n13293    3.354532  \n13243    3.543972  \n13191    1.822777  \n\n[66 rows x 7 columns]",
      "text/html": "<div>\n<style scoped>\n    .dataframe tbody tr th:only-of-type {\n        vertical-align: middle;\n    }\n\n    .dataframe tbody tr th {\n        vertical-align: top;\n    }\n\n    .dataframe thead th {\n        text-align: right;\n    }\n</style>\n<table border=\"1\" class=\"dataframe\">\n  <thead>\n    <tr style=\"text-align: right;\">\n      <th></th>\n      <th>mint</th>\n      <th>UpP</th>\n      <th>time_quant</th>\n      <th>price</th>\n      <th>buy_price</th>\n      <th>sell_price</th>\n      <th>upside</th>\n    </tr>\n  </thead>\n  <tbody>\n    <tr>\n      <th>123431</th>\n      <td>HoXqxVbmnVKvRM2DS58ivipKx8bzPN5Nv1e3ZnKzxVDR</td>\n      <td>0.443503</td>\n      <td>2024-01-07 14:30:00</td>\n      <td>6.960453e-07</td>\n      <td>1.106938e-06</td>\n      <td>3.580843e-06</td>\n      <td>2.234908</td>\n    </tr>\n    <tr>\n      <th>123356</th>\n      <td>HoXqxVbmnVKvRM2DS58ivipKx8bzPN5Nv1e3ZnKzxVDR</td>\n      <td>0.395982</td>\n      <td>2024-01-07 14:20:00</td>\n      <td>6.647819e-07</td>\n      <td>6.960453e-07</td>\n      <td>3.421822e-06</td>\n      <td>3.916091</td>\n    </tr>\n    <tr>\n      <th>123288</th>\n      <td>HoXqxVbmnVKvRM2DS58ivipKx8bzPN5Nv1e3ZnKzxVDR</td>\n      <td>0.422750</td>\n      <td>2024-01-07 14:10:00</td>\n      <td>8.630983e-07</td>\n      <td>6.647819e-07</td>\n      <td>3.226505e-06</td>\n      <td>3.853478</td>\n    </tr>\n    <tr>\n      <th>123224</th>\n      <td>HoXqxVbmnVKvRM2DS58ivipKx8bzPN5Nv1e3ZnKzxVDR</td>\n      <td>0.244596</td>\n      <td>2024-01-07 14:00:00</td>\n      <td>7.414580e-07</td>\n      <td>8.630983e-07</td>\n      <td>2.939485e-06</td>\n      <td>2.405736</td>\n    </tr>\n    <tr>\n      <th>123166</th>\n      <td>HoXqxVbmnVKvRM2DS58ivipKx8bzPN5Nv1e3ZnKzxVDR</td>\n      <td>0.347386</td>\n      <td>2024-01-07 13:50:00</td>\n      <td>9.584367e-07</td>\n      <td>7.414580e-07</td>\n      <td>2.413745e-06</td>\n      <td>2.255403</td>\n    </tr>\n    <tr>\n      <th>...</th>\n      <td>...</td>\n      <td>...</td>\n      <td>...</td>\n      <td>...</td>\n      <td>...</td>\n      <td>...</td>\n      <td>...</td>\n    </tr>\n    <tr>\n      <th>18683</th>\n      <td>42qPeNN3q5NG8ip73SoCBJUx3AF9TZogVu6pVjC2QP7g</td>\n      <td>0.277012</td>\n      <td>2023-12-27 00:10:00</td>\n      <td>2.563327e-08</td>\n      <td>2.563327e-08</td>\n      <td>5.206660e-08</td>\n      <td>1.031212</td>\n    </tr>\n    <tr>\n      <th>17030</th>\n      <td>FoGXCSdfTMkJSbeD2xfe7acM27rCLbxf6p8rKQzuefBv</td>\n      <td>0.278676</td>\n      <td>2023-12-26 19:50:00</td>\n      <td>1.074629e-08</td>\n      <td>2.837799e-09</td>\n      <td>2.688363e-07</td>\n      <td>93.734094</td>\n    </tr>\n    <tr>\n      <th>13293</th>\n      <td>87QbDz6Ze5B8L3PoGvqLyJ3JAydi39jNtvzXDEz7zbcK</td>\n      <td>0.187739</td>\n      <td>2023-12-26 09:00:00</td>\n      <td>1.382726e-08</td>\n      <td>2.104897e-08</td>\n      <td>9.165841e-08</td>\n      <td>3.354532</td>\n    </tr>\n    <tr>\n      <th>13243</th>\n      <td>87QbDz6Ze5B8L3PoGvqLyJ3JAydi39jNtvzXDEz7zbcK</td>\n      <td>0.242972</td>\n      <td>2023-12-26 08:50:00</td>\n      <td>1.617712e-08</td>\n      <td>1.382726e-08</td>\n      <td>6.283067e-08</td>\n      <td>3.543972</td>\n    </tr>\n    <tr>\n      <th>13191</th>\n      <td>87QbDz6Ze5B8L3PoGvqLyJ3JAydi39jNtvzXDEz7zbcK</td>\n      <td>0.242355</td>\n      <td>2023-12-26 08:40:00</td>\n      <td>6.296429e-08</td>\n      <td>1.617712e-08</td>\n      <td>4.566441e-08</td>\n      <td>1.822777</td>\n    </tr>\n  </tbody>\n</table>\n<p>66 rows × 7 columns</p>\n</div>"
     },
     "execution_count": 199,
     "metadata": {},
     "output_type": "execute_result"
    }
   ],
   "source": [
    "# what was guessed correctly\n",
    "guessed = results_df[(results_df['Actual']=='up') & (results_df['Predicted']=='up')].sort_values(by=['time_quant', 'mint'], ascending=False)\n",
    "guessed[['mint', 'UpP', 'time_quant', 'price', 'buy_price', 'sell_price', 'upside']]"
   ],
   "metadata": {
    "collapsed": false,
    "ExecuteTime": {
     "end_time": "2024-01-08T01:31:35.625447Z",
     "start_time": "2024-01-08T01:31:35.562628Z"
    }
   },
   "id": "610d77d03127299e"
  },
  {
   "cell_type": "code",
   "execution_count": 200,
   "outputs": [
    {
     "data": {
      "text/plain": "count                                               66\nunique                                              20\ntop       DqTKHDkRttkuHoFUJWZ3zUbxRrdsndTwe7qKwDG6SYCS\nfreq                                                15\nName: mint, dtype: object"
     },
     "execution_count": 200,
     "metadata": {},
     "output_type": "execute_result"
    }
   ],
   "source": [
    "guessed.mint.describe()"
   ],
   "metadata": {
    "collapsed": false,
    "ExecuteTime": {
     "end_time": "2024-01-08T01:31:36.426228Z",
     "start_time": "2024-01-08T01:31:36.387148Z"
    }
   },
   "id": "eb5aa523d3a36f3b"
  },
  {
   "cell_type": "code",
   "execution_count": 214,
   "outputs": [],
   "source": [
    "purchased = results_df[results_df['Predicted']=='up'].sort_values(by=['time_quant', 'mint'], ascending=False)\n",
    "purchased = purchased[['mint', 'UpP', 'time_quant', 'price', 'buy_price', 'sell_price', 'upside', 'trcnt_sma_sum_now', 'trcnt_sma_sum_10m']]"
   ],
   "metadata": {
    "collapsed": false,
    "ExecuteTime": {
     "end_time": "2024-01-08T01:40:55.622708Z",
     "start_time": "2024-01-08T01:40:55.575838Z"
    }
   },
   "id": "770de9eb31dcc677"
  },
  {
   "cell_type": "code",
   "execution_count": 215,
   "outputs": [
    {
     "data": {
      "text/plain": "                                                mint       UpP  \\\n125320  EyRH35HMt6rXYqCzccBTC8VenvPnn618rtdkqZinu1Fq  0.237978   \n123498  HoXqxVbmnVKvRM2DS58ivipKx8bzPN5Nv1e3ZnKzxVDR  0.256940   \n123431  HoXqxVbmnVKvRM2DS58ivipKx8bzPN5Nv1e3ZnKzxVDR  0.443503   \n123356  HoXqxVbmnVKvRM2DS58ivipKx8bzPN5Nv1e3ZnKzxVDR  0.395982   \n123288  HoXqxVbmnVKvRM2DS58ivipKx8bzPN5Nv1e3ZnKzxVDR  0.422750   \n...                                              ...       ...   \n1972    HR9eq4FLUTKv4EjgpTu3VVFY77o4MAKDUEsCAakGpmYr  0.383453   \n1736    8HJ81sHVsmJMzm6XBfTgywWQXwQTmVdmXaQHm7htGPH2  0.629840   \n1691    8HJ81sHVsmJMzm6XBfTgywWQXwQTmVdmXaQHm7htGPH2  0.484211   \n1552    8HJ81sHVsmJMzm6XBfTgywWQXwQTmVdmXaQHm7htGPH2  0.568198   \n1431    JAvkdR4qC6nMFkWxJNU9EbK6BH2tJvM9ZT2n87yGH5g8  0.171114   \n\n                time_quant         price     buy_price    sell_price  \\\n125320 2024-01-07 19:00:00  1.080520e-07  1.080520e-07  5.967069e-08   \n123498 2024-01-07 14:40:00  1.106938e-06  1.832584e-06  3.651630e-06   \n123431 2024-01-07 14:30:00  6.960453e-07  1.106938e-06  3.580843e-06   \n123356 2024-01-07 14:20:00  6.647819e-07  6.960453e-07  3.421822e-06   \n123288 2024-01-07 14:10:00  8.630983e-07  6.647819e-07  3.226505e-06   \n...                    ...           ...           ...           ...   \n1972   2023-12-25 00:10:00  4.440908e-08  4.440908e-08  4.440908e-08   \n1736   2023-12-24 23:20:00  1.558534e-06  1.558534e-06  2.521862e-06   \n1691   2023-12-24 23:10:00  1.468671e-06  1.558534e-06  2.387818e-06   \n1552   2023-12-24 22:40:00  1.000253e-06  1.000253e-06  1.998741e-06   \n1431   2023-12-24 22:10:00  2.335873e-07  2.946347e-07  4.258199e-07   \n\n              upside  trcnt_sma_sum_now  trcnt_sma_sum_10m  \n125320 -4.477595e-01                2.0           0.428571  \n123498  9.926131e-01               19.0          14.714286  \n123431  2.234908e+00               22.0          14.714286  \n123356  3.916091e+00               18.0          14.285714  \n123288  3.853478e+00               18.0          13.785714  \n...              ...                ...                ...  \n1972    2.220446e-16                1.0           0.142857  \n1736    6.180986e-01                1.0           0.285714  \n1691    5.320922e-01                1.0           0.214286  \n1552    9.982348e-01                2.0           0.142857  \n1431    4.452469e-01                2.0           0.214286  \n\n[307 rows x 9 columns]",
      "text/html": "<div>\n<style scoped>\n    .dataframe tbody tr th:only-of-type {\n        vertical-align: middle;\n    }\n\n    .dataframe tbody tr th {\n        vertical-align: top;\n    }\n\n    .dataframe thead th {\n        text-align: right;\n    }\n</style>\n<table border=\"1\" class=\"dataframe\">\n  <thead>\n    <tr style=\"text-align: right;\">\n      <th></th>\n      <th>mint</th>\n      <th>UpP</th>\n      <th>time_quant</th>\n      <th>price</th>\n      <th>buy_price</th>\n      <th>sell_price</th>\n      <th>upside</th>\n      <th>trcnt_sma_sum_now</th>\n      <th>trcnt_sma_sum_10m</th>\n    </tr>\n  </thead>\n  <tbody>\n    <tr>\n      <th>125320</th>\n      <td>EyRH35HMt6rXYqCzccBTC8VenvPnn618rtdkqZinu1Fq</td>\n      <td>0.237978</td>\n      <td>2024-01-07 19:00:00</td>\n      <td>1.080520e-07</td>\n      <td>1.080520e-07</td>\n      <td>5.967069e-08</td>\n      <td>-4.477595e-01</td>\n      <td>2.0</td>\n      <td>0.428571</td>\n    </tr>\n    <tr>\n      <th>123498</th>\n      <td>HoXqxVbmnVKvRM2DS58ivipKx8bzPN5Nv1e3ZnKzxVDR</td>\n      <td>0.256940</td>\n      <td>2024-01-07 14:40:00</td>\n      <td>1.106938e-06</td>\n      <td>1.832584e-06</td>\n      <td>3.651630e-06</td>\n      <td>9.926131e-01</td>\n      <td>19.0</td>\n      <td>14.714286</td>\n    </tr>\n    <tr>\n      <th>123431</th>\n      <td>HoXqxVbmnVKvRM2DS58ivipKx8bzPN5Nv1e3ZnKzxVDR</td>\n      <td>0.443503</td>\n      <td>2024-01-07 14:30:00</td>\n      <td>6.960453e-07</td>\n      <td>1.106938e-06</td>\n      <td>3.580843e-06</td>\n      <td>2.234908e+00</td>\n      <td>22.0</td>\n      <td>14.714286</td>\n    </tr>\n    <tr>\n      <th>123356</th>\n      <td>HoXqxVbmnVKvRM2DS58ivipKx8bzPN5Nv1e3ZnKzxVDR</td>\n      <td>0.395982</td>\n      <td>2024-01-07 14:20:00</td>\n      <td>6.647819e-07</td>\n      <td>6.960453e-07</td>\n      <td>3.421822e-06</td>\n      <td>3.916091e+00</td>\n      <td>18.0</td>\n      <td>14.285714</td>\n    </tr>\n    <tr>\n      <th>123288</th>\n      <td>HoXqxVbmnVKvRM2DS58ivipKx8bzPN5Nv1e3ZnKzxVDR</td>\n      <td>0.422750</td>\n      <td>2024-01-07 14:10:00</td>\n      <td>8.630983e-07</td>\n      <td>6.647819e-07</td>\n      <td>3.226505e-06</td>\n      <td>3.853478e+00</td>\n      <td>18.0</td>\n      <td>13.785714</td>\n    </tr>\n    <tr>\n      <th>...</th>\n      <td>...</td>\n      <td>...</td>\n      <td>...</td>\n      <td>...</td>\n      <td>...</td>\n      <td>...</td>\n      <td>...</td>\n      <td>...</td>\n      <td>...</td>\n    </tr>\n    <tr>\n      <th>1972</th>\n      <td>HR9eq4FLUTKv4EjgpTu3VVFY77o4MAKDUEsCAakGpmYr</td>\n      <td>0.383453</td>\n      <td>2023-12-25 00:10:00</td>\n      <td>4.440908e-08</td>\n      <td>4.440908e-08</td>\n      <td>4.440908e-08</td>\n      <td>2.220446e-16</td>\n      <td>1.0</td>\n      <td>0.142857</td>\n    </tr>\n    <tr>\n      <th>1736</th>\n      <td>8HJ81sHVsmJMzm6XBfTgywWQXwQTmVdmXaQHm7htGPH2</td>\n      <td>0.629840</td>\n      <td>2023-12-24 23:20:00</td>\n      <td>1.558534e-06</td>\n      <td>1.558534e-06</td>\n      <td>2.521862e-06</td>\n      <td>6.180986e-01</td>\n      <td>1.0</td>\n      <td>0.285714</td>\n    </tr>\n    <tr>\n      <th>1691</th>\n      <td>8HJ81sHVsmJMzm6XBfTgywWQXwQTmVdmXaQHm7htGPH2</td>\n      <td>0.484211</td>\n      <td>2023-12-24 23:10:00</td>\n      <td>1.468671e-06</td>\n      <td>1.558534e-06</td>\n      <td>2.387818e-06</td>\n      <td>5.320922e-01</td>\n      <td>1.0</td>\n      <td>0.214286</td>\n    </tr>\n    <tr>\n      <th>1552</th>\n      <td>8HJ81sHVsmJMzm6XBfTgywWQXwQTmVdmXaQHm7htGPH2</td>\n      <td>0.568198</td>\n      <td>2023-12-24 22:40:00</td>\n      <td>1.000253e-06</td>\n      <td>1.000253e-06</td>\n      <td>1.998741e-06</td>\n      <td>9.982348e-01</td>\n      <td>2.0</td>\n      <td>0.142857</td>\n    </tr>\n    <tr>\n      <th>1431</th>\n      <td>JAvkdR4qC6nMFkWxJNU9EbK6BH2tJvM9ZT2n87yGH5g8</td>\n      <td>0.171114</td>\n      <td>2023-12-24 22:10:00</td>\n      <td>2.335873e-07</td>\n      <td>2.946347e-07</td>\n      <td>4.258199e-07</td>\n      <td>4.452469e-01</td>\n      <td>2.0</td>\n      <td>0.214286</td>\n    </tr>\n  </tbody>\n</table>\n<p>307 rows × 9 columns</p>\n</div>"
     },
     "execution_count": 215,
     "metadata": {},
     "output_type": "execute_result"
    }
   ],
   "source": [
    "purchased"
   ],
   "metadata": {
    "collapsed": false,
    "ExecuteTime": {
     "end_time": "2024-01-08T01:40:57.158934Z",
     "start_time": "2024-01-08T01:40:57.150443Z"
    }
   },
   "id": "3eb7bcec307b5383"
  },
  {
   "cell_type": "code",
   "execution_count": 203,
   "outputs": [
    {
     "data": {
      "text/plain": "count                                              307\nunique                                             154\ntop       DqTKHDkRttkuHoFUJWZ3zUbxRrdsndTwe7qKwDG6SYCS\nfreq                                                16\nName: mint, dtype: object"
     },
     "execution_count": 203,
     "metadata": {},
     "output_type": "execute_result"
    }
   ],
   "source": [
    "purchased.mint.describe()\n"
   ],
   "metadata": {
    "collapsed": false,
    "ExecuteTime": {
     "end_time": "2024-01-08T01:31:38.748341Z",
     "start_time": "2024-01-08T01:31:38.736710Z"
    }
   },
   "id": "8c7e3d155a4a0fba"
  },
  {
   "cell_type": "code",
   "execution_count": 204,
   "outputs": [
    {
     "data": {
      "text/plain": "0.8185961740709911"
     },
     "execution_count": 204,
     "metadata": {},
     "output_type": "execute_result"
    }
   ],
   "source": [
    "purchased['upside'].mean()\n"
   ],
   "metadata": {
    "collapsed": false,
    "ExecuteTime": {
     "end_time": "2024-01-08T01:31:40.025204Z",
     "start_time": "2024-01-08T01:31:39.997605Z"
    }
   },
   "id": "a4bbd43e80557139"
  },
  {
   "cell_type": "code",
   "execution_count": 232,
   "outputs": [
    {
     "data": {
      "text/plain": "0.514950755608854"
     },
     "execution_count": 232,
     "metadata": {},
     "output_type": "execute_result"
    }
   ],
   "source": [
    "purchased[purchased['upside'] < 10]['upside'].mean()"
   ],
   "metadata": {
    "collapsed": false,
    "ExecuteTime": {
     "end_time": "2024-01-08T09:44:14.011949Z",
     "start_time": "2024-01-08T09:44:14.007184Z"
    }
   },
   "id": "c6368277bd74c9dd"
  },
  {
   "cell_type": "code",
   "execution_count": 213,
   "outputs": [
    {
     "data": {
      "text/plain": "                    mean        sum  count\ntime_quant_day                            \n2024-01-07      1.273610  16.556931     13\n2024-01-06      2.424821  70.319800     29\n2024-01-05      1.073630  18.251712     17\n2024-01-04      0.807545  19.381070     24\n2024-01-03      0.384892  13.086340     34\n2024-01-02      0.273984   4.383736     16\n2024-01-01      0.049980   0.849660     17\n2023-12-31     -0.001766  -0.026484     15\n2023-12-30      0.254438   6.106522     24\n2023-12-29     -0.135594  -1.491533     11\n2023-12-28      0.096629   2.898870     30\n2023-12-27     -0.041749  -1.461203     35\n2023-12-26      4.743561  99.614789     21\n2023-12-25      0.014420   0.245141     17\n2023-12-24      0.648418   2.593673      4",
      "text/html": "<div>\n<style scoped>\n    .dataframe tbody tr th:only-of-type {\n        vertical-align: middle;\n    }\n\n    .dataframe tbody tr th {\n        vertical-align: top;\n    }\n\n    .dataframe thead th {\n        text-align: right;\n    }\n</style>\n<table border=\"1\" class=\"dataframe\">\n  <thead>\n    <tr style=\"text-align: right;\">\n      <th></th>\n      <th>mean</th>\n      <th>sum</th>\n      <th>count</th>\n    </tr>\n    <tr>\n      <th>time_quant_day</th>\n      <th></th>\n      <th></th>\n      <th></th>\n    </tr>\n  </thead>\n  <tbody>\n    <tr>\n      <th>2024-01-07</th>\n      <td>1.273610</td>\n      <td>16.556931</td>\n      <td>13</td>\n    </tr>\n    <tr>\n      <th>2024-01-06</th>\n      <td>2.424821</td>\n      <td>70.319800</td>\n      <td>29</td>\n    </tr>\n    <tr>\n      <th>2024-01-05</th>\n      <td>1.073630</td>\n      <td>18.251712</td>\n      <td>17</td>\n    </tr>\n    <tr>\n      <th>2024-01-04</th>\n      <td>0.807545</td>\n      <td>19.381070</td>\n      <td>24</td>\n    </tr>\n    <tr>\n      <th>2024-01-03</th>\n      <td>0.384892</td>\n      <td>13.086340</td>\n      <td>34</td>\n    </tr>\n    <tr>\n      <th>2024-01-02</th>\n      <td>0.273984</td>\n      <td>4.383736</td>\n      <td>16</td>\n    </tr>\n    <tr>\n      <th>2024-01-01</th>\n      <td>0.049980</td>\n      <td>0.849660</td>\n      <td>17</td>\n    </tr>\n    <tr>\n      <th>2023-12-31</th>\n      <td>-0.001766</td>\n      <td>-0.026484</td>\n      <td>15</td>\n    </tr>\n    <tr>\n      <th>2023-12-30</th>\n      <td>0.254438</td>\n      <td>6.106522</td>\n      <td>24</td>\n    </tr>\n    <tr>\n      <th>2023-12-29</th>\n      <td>-0.135594</td>\n      <td>-1.491533</td>\n      <td>11</td>\n    </tr>\n    <tr>\n      <th>2023-12-28</th>\n      <td>0.096629</td>\n      <td>2.898870</td>\n      <td>30</td>\n    </tr>\n    <tr>\n      <th>2023-12-27</th>\n      <td>-0.041749</td>\n      <td>-1.461203</td>\n      <td>35</td>\n    </tr>\n    <tr>\n      <th>2023-12-26</th>\n      <td>4.743561</td>\n      <td>99.614789</td>\n      <td>21</td>\n    </tr>\n    <tr>\n      <th>2023-12-25</th>\n      <td>0.014420</td>\n      <td>0.245141</td>\n      <td>17</td>\n    </tr>\n    <tr>\n      <th>2023-12-24</th>\n      <td>0.648418</td>\n      <td>2.593673</td>\n      <td>4</td>\n    </tr>\n  </tbody>\n</table>\n</div>"
     },
     "execution_count": 213,
     "metadata": {},
     "output_type": "execute_result"
    }
   ],
   "source": [
    "purchased['time_quant_day'] = purchased['time_quant'].dt.floor('D')\n",
    "aggregated_data = purchased.groupby('time_quant_day')['upside'].agg(['mean', 'sum', 'count'])\n",
    "aggregated_data.sort_values(by=['time_quant_day'], ascending=False)"
   ],
   "metadata": {
    "collapsed": false,
    "ExecuteTime": {
     "end_time": "2024-01-08T01:39:21.243411Z",
     "start_time": "2024-01-08T01:39:21.231830Z"
    }
   },
   "id": "f8af2138ea49165f"
  },
  {
   "cell_type": "code",
   "execution_count": 206,
   "outputs": [
    {
     "data": {
      "text/plain": "                                             mint       UpP  \\\n0    EyRH35HMt6rXYqCzccBTC8VenvPnn618rtdkqZinu1Fq  0.237978   \n1    HoXqxVbmnVKvRM2DS58ivipKx8bzPN5Nv1e3ZnKzxVDR  0.630095   \n2    9kTeYpungrrJo5arzpXfkMQHvQ8otA2rVoC73FxYeTic  0.173767   \n3    ARVqqRBhYP4uFawK3DgCYeEFYmMwFVptFQxhVMwgh4nw  0.178269   \n4    DqTKHDkRttkuHoFUJWZ3zUbxRrdsndTwe7qKwDG6SYCS  0.247074   \n..                                            ...       ...   \n149  53XkFfUSsq5TJ4wkrkrjXR4rqS8JDZZ2Bc4VdxcCyi7A  0.256148   \n150  Fk4fiCavdntUSCfbzdGSeq9kvEfnXPhBoaNqgbgahovT  0.161105   \n151  HR9eq4FLUTKv4EjgpTu3VVFY77o4MAKDUEsCAakGpmYr  0.383453   \n152  8HJ81sHVsmJMzm6XBfTgywWQXwQTmVdmXaQHm7htGPH2  0.568198   \n153  JAvkdR4qC6nMFkWxJNU9EbK6BH2tJvM9ZT2n87yGH5g8  0.171114   \n\n             time_quant         price     buy_price    sell_price  \\\n0   2024-01-07 19:00:00  1.080520e-07  1.080520e-07  5.967069e-08   \n1   2024-01-07 11:50:00  1.650012e-06  6.291608e-06  4.527579e-06   \n2   2024-01-07 02:30:00  2.538463e-07  2.538463e-07  3.667950e-07   \n3   2024-01-06 20:20:00  1.575569e-06  9.180277e-07  1.250789e-06   \n4   2024-01-06 05:40:00  1.066071e-06  8.221907e-07  3.215128e-06   \n..                  ...           ...           ...           ...   \n149 2023-12-25 04:40:00  5.989142e-05  5.989142e-05  5.989142e-05   \n150 2023-12-25 03:00:00  1.648432e-06  1.648432e-06  1.482375e-06   \n151 2023-12-25 00:10:00  4.440908e-08  4.440908e-08  4.440908e-08   \n152 2023-12-24 22:40:00  1.000253e-06  1.000253e-06  1.998741e-06   \n153 2023-12-24 22:10:00  2.335873e-07  2.946347e-07  4.258199e-07   \n\n           upside  trcnt_sma_sum_now  trcnt_sma_sum_10m time_quant_day  \n0   -4.477595e-01                2.0           0.428571     2024-01-07  \n1   -2.803780e-01               25.0          10.642857     2024-01-07  \n2    4.449491e-01                1.0           0.714286     2024-01-07  \n3    3.624745e-01               14.0           8.000000     2024-01-06  \n4    2.910440e+00               17.0           2.142857     2024-01-06  \n..            ...                ...                ...            ...  \n149  2.220446e-16                4.0           0.285714     2023-12-25  \n150 -1.007365e-01                2.0           0.214286     2023-12-25  \n151  2.220446e-16                1.0           0.142857     2023-12-25  \n152  9.982348e-01                2.0           0.142857     2023-12-24  \n153  4.452469e-01                2.0           0.214286     2023-12-24  \n\n[154 rows x 10 columns]",
      "text/html": "<div>\n<style scoped>\n    .dataframe tbody tr th:only-of-type {\n        vertical-align: middle;\n    }\n\n    .dataframe tbody tr th {\n        vertical-align: top;\n    }\n\n    .dataframe thead th {\n        text-align: right;\n    }\n</style>\n<table border=\"1\" class=\"dataframe\">\n  <thead>\n    <tr style=\"text-align: right;\">\n      <th></th>\n      <th>mint</th>\n      <th>UpP</th>\n      <th>time_quant</th>\n      <th>price</th>\n      <th>buy_price</th>\n      <th>sell_price</th>\n      <th>upside</th>\n      <th>trcnt_sma_sum_now</th>\n      <th>trcnt_sma_sum_10m</th>\n      <th>time_quant_day</th>\n    </tr>\n  </thead>\n  <tbody>\n    <tr>\n      <th>0</th>\n      <td>EyRH35HMt6rXYqCzccBTC8VenvPnn618rtdkqZinu1Fq</td>\n      <td>0.237978</td>\n      <td>2024-01-07 19:00:00</td>\n      <td>1.080520e-07</td>\n      <td>1.080520e-07</td>\n      <td>5.967069e-08</td>\n      <td>-4.477595e-01</td>\n      <td>2.0</td>\n      <td>0.428571</td>\n      <td>2024-01-07</td>\n    </tr>\n    <tr>\n      <th>1</th>\n      <td>HoXqxVbmnVKvRM2DS58ivipKx8bzPN5Nv1e3ZnKzxVDR</td>\n      <td>0.630095</td>\n      <td>2024-01-07 11:50:00</td>\n      <td>1.650012e-06</td>\n      <td>6.291608e-06</td>\n      <td>4.527579e-06</td>\n      <td>-2.803780e-01</td>\n      <td>25.0</td>\n      <td>10.642857</td>\n      <td>2024-01-07</td>\n    </tr>\n    <tr>\n      <th>2</th>\n      <td>9kTeYpungrrJo5arzpXfkMQHvQ8otA2rVoC73FxYeTic</td>\n      <td>0.173767</td>\n      <td>2024-01-07 02:30:00</td>\n      <td>2.538463e-07</td>\n      <td>2.538463e-07</td>\n      <td>3.667950e-07</td>\n      <td>4.449491e-01</td>\n      <td>1.0</td>\n      <td>0.714286</td>\n      <td>2024-01-07</td>\n    </tr>\n    <tr>\n      <th>3</th>\n      <td>ARVqqRBhYP4uFawK3DgCYeEFYmMwFVptFQxhVMwgh4nw</td>\n      <td>0.178269</td>\n      <td>2024-01-06 20:20:00</td>\n      <td>1.575569e-06</td>\n      <td>9.180277e-07</td>\n      <td>1.250789e-06</td>\n      <td>3.624745e-01</td>\n      <td>14.0</td>\n      <td>8.000000</td>\n      <td>2024-01-06</td>\n    </tr>\n    <tr>\n      <th>4</th>\n      <td>DqTKHDkRttkuHoFUJWZ3zUbxRrdsndTwe7qKwDG6SYCS</td>\n      <td>0.247074</td>\n      <td>2024-01-06 05:40:00</td>\n      <td>1.066071e-06</td>\n      <td>8.221907e-07</td>\n      <td>3.215128e-06</td>\n      <td>2.910440e+00</td>\n      <td>17.0</td>\n      <td>2.142857</td>\n      <td>2024-01-06</td>\n    </tr>\n    <tr>\n      <th>...</th>\n      <td>...</td>\n      <td>...</td>\n      <td>...</td>\n      <td>...</td>\n      <td>...</td>\n      <td>...</td>\n      <td>...</td>\n      <td>...</td>\n      <td>...</td>\n      <td>...</td>\n    </tr>\n    <tr>\n      <th>149</th>\n      <td>53XkFfUSsq5TJ4wkrkrjXR4rqS8JDZZ2Bc4VdxcCyi7A</td>\n      <td>0.256148</td>\n      <td>2023-12-25 04:40:00</td>\n      <td>5.989142e-05</td>\n      <td>5.989142e-05</td>\n      <td>5.989142e-05</td>\n      <td>2.220446e-16</td>\n      <td>4.0</td>\n      <td>0.285714</td>\n      <td>2023-12-25</td>\n    </tr>\n    <tr>\n      <th>150</th>\n      <td>Fk4fiCavdntUSCfbzdGSeq9kvEfnXPhBoaNqgbgahovT</td>\n      <td>0.161105</td>\n      <td>2023-12-25 03:00:00</td>\n      <td>1.648432e-06</td>\n      <td>1.648432e-06</td>\n      <td>1.482375e-06</td>\n      <td>-1.007365e-01</td>\n      <td>2.0</td>\n      <td>0.214286</td>\n      <td>2023-12-25</td>\n    </tr>\n    <tr>\n      <th>151</th>\n      <td>HR9eq4FLUTKv4EjgpTu3VVFY77o4MAKDUEsCAakGpmYr</td>\n      <td>0.383453</td>\n      <td>2023-12-25 00:10:00</td>\n      <td>4.440908e-08</td>\n      <td>4.440908e-08</td>\n      <td>4.440908e-08</td>\n      <td>2.220446e-16</td>\n      <td>1.0</td>\n      <td>0.142857</td>\n      <td>2023-12-25</td>\n    </tr>\n    <tr>\n      <th>152</th>\n      <td>8HJ81sHVsmJMzm6XBfTgywWQXwQTmVdmXaQHm7htGPH2</td>\n      <td>0.568198</td>\n      <td>2023-12-24 22:40:00</td>\n      <td>1.000253e-06</td>\n      <td>1.000253e-06</td>\n      <td>1.998741e-06</td>\n      <td>9.982348e-01</td>\n      <td>2.0</td>\n      <td>0.142857</td>\n      <td>2023-12-24</td>\n    </tr>\n    <tr>\n      <th>153</th>\n      <td>JAvkdR4qC6nMFkWxJNU9EbK6BH2tJvM9ZT2n87yGH5g8</td>\n      <td>0.171114</td>\n      <td>2023-12-24 22:10:00</td>\n      <td>2.335873e-07</td>\n      <td>2.946347e-07</td>\n      <td>4.258199e-07</td>\n      <td>4.452469e-01</td>\n      <td>2.0</td>\n      <td>0.214286</td>\n      <td>2023-12-24</td>\n    </tr>\n  </tbody>\n</table>\n<p>154 rows × 10 columns</p>\n</div>"
     },
     "execution_count": 206,
     "metadata": {},
     "output_type": "execute_result"
    }
   ],
   "source": [
    "#min time_quant for every mint\n",
    "first_purchased_keys = purchased.groupby('mint')['time_quant'].min().reset_index()\n",
    "first_purchased = purchased.merge(first_purchased_keys, on=['mint', 'time_quant'])\n",
    "first_purchased"
   ],
   "metadata": {
    "collapsed": false,
    "ExecuteTime": {
     "end_time": "2024-01-08T01:31:52.728006Z",
     "start_time": "2024-01-08T01:31:52.644966Z"
    }
   },
   "id": "41fb5b062526a994"
  },
  {
   "cell_type": "code",
   "execution_count": 207,
   "outputs": [
    {
     "data": {
      "text/plain": "0.6863018579046669"
     },
     "execution_count": 207,
     "metadata": {},
     "output_type": "execute_result"
    }
   ],
   "source": [
    "# average of upside\n",
    "first_purchased['upside'].mean()"
   ],
   "metadata": {
    "collapsed": false,
    "ExecuteTime": {
     "end_time": "2024-01-08T01:31:53.588596Z",
     "start_time": "2024-01-08T01:31:53.548373Z"
    }
   },
   "id": "261db8473ea6d381"
  },
  {
   "cell_type": "code",
   "execution_count": 219,
   "outputs": [
    {
     "data": {
      "text/plain": "                                             mint       UpP  \\\n1    HoXqxVbmnVKvRM2DS58ivipKx8bzPN5Nv1e3ZnKzxVDR  0.630095   \n3    ARVqqRBhYP4uFawK3DgCYeEFYmMwFVptFQxhVMwgh4nw  0.178269   \n4    DqTKHDkRttkuHoFUJWZ3zUbxRrdsndTwe7qKwDG6SYCS  0.247074   \n6    Fc8Z1nT9wocb2wnbMF1fkntu61ctrLMqN3ZCky4byK1E  0.238396   \n9    F4TwqC6nbFTN59UakGwEV4shLSrTeyq4D2hmvpdzQnpt  0.461132   \n..                                            ...       ...   \n145  2J4sFeo4HXXqmkcpbUj5wHbb1s4dv4oxJVos8ktVYQS4  0.225674   \n146  33ZSZu1PT6ERHxT2uBDSJCU9ByeLXa2qTJhpmtxCZzpG  0.238263   \n147  H1BYwUinBP1vex5Zcx1xT7KgPZoTWoyECueAzep38F1E  0.266046   \n148  4ThReWAbAVZjNVgs5Ui9Pk3cZ5TYaD9u6Y89fp6EFzoF  0.152497   \n153  JAvkdR4qC6nMFkWxJNU9EbK6BH2tJvM9ZT2n87yGH5g8  0.171114   \n\n             time_quant         price     buy_price    sell_price    upside  \\\n1   2024-01-07 11:50:00  1.650012e-06  6.291608e-06  4.527579e-06 -0.280378   \n3   2024-01-06 20:20:00  1.575569e-06  9.180277e-07  1.250789e-06  0.362475   \n4   2024-01-06 05:40:00  1.066071e-06  8.221907e-07  3.215128e-06  2.910440   \n6   2024-01-06 00:40:00  7.030983e-06  4.220106e-06  3.752330e-06 -0.110845   \n9   2024-01-05 14:40:00  4.333699e-07  2.364662e-07  1.091979e-06  3.617905   \n..                  ...           ...           ...           ...       ...   \n145 2023-12-25 15:10:00  9.295643e-10  1.000473e-09  1.278649e-09  0.278044   \n146 2023-12-25 14:30:00  6.124532e-10  7.612649e-10  1.291243e-09  0.696181   \n147 2023-12-25 13:10:00  5.744864e-07  5.225805e-07  4.901445e-07 -0.062069   \n148 2023-12-25 11:30:00  5.809407e-04  5.660632e-04  6.051881e-04  0.069118   \n153 2023-12-24 22:10:00  2.335873e-07  2.946347e-07  4.258199e-07  0.445247   \n\n     trcnt_sma_sum_now  trcnt_sma_sum_10m time_quant_day  \n1                 25.0          10.642857     2024-01-07  \n3                 14.0           8.000000     2024-01-06  \n4                 17.0           2.142857     2024-01-06  \n6                  2.0           0.142857     2024-01-06  \n9                  7.0          10.642857     2024-01-05  \n..                 ...                ...            ...  \n145                1.0           0.071429     2023-12-25  \n146                1.0           0.214286     2023-12-25  \n147                1.0           0.285714     2023-12-25  \n148                1.0           0.071429     2023-12-25  \n153                2.0           0.214286     2023-12-24  \n\n[73 rows x 10 columns]",
      "text/html": "<div>\n<style scoped>\n    .dataframe tbody tr th:only-of-type {\n        vertical-align: middle;\n    }\n\n    .dataframe tbody tr th {\n        vertical-align: top;\n    }\n\n    .dataframe thead th {\n        text-align: right;\n    }\n</style>\n<table border=\"1\" class=\"dataframe\">\n  <thead>\n    <tr style=\"text-align: right;\">\n      <th></th>\n      <th>mint</th>\n      <th>UpP</th>\n      <th>time_quant</th>\n      <th>price</th>\n      <th>buy_price</th>\n      <th>sell_price</th>\n      <th>upside</th>\n      <th>trcnt_sma_sum_now</th>\n      <th>trcnt_sma_sum_10m</th>\n      <th>time_quant_day</th>\n    </tr>\n  </thead>\n  <tbody>\n    <tr>\n      <th>1</th>\n      <td>HoXqxVbmnVKvRM2DS58ivipKx8bzPN5Nv1e3ZnKzxVDR</td>\n      <td>0.630095</td>\n      <td>2024-01-07 11:50:00</td>\n      <td>1.650012e-06</td>\n      <td>6.291608e-06</td>\n      <td>4.527579e-06</td>\n      <td>-0.280378</td>\n      <td>25.0</td>\n      <td>10.642857</td>\n      <td>2024-01-07</td>\n    </tr>\n    <tr>\n      <th>3</th>\n      <td>ARVqqRBhYP4uFawK3DgCYeEFYmMwFVptFQxhVMwgh4nw</td>\n      <td>0.178269</td>\n      <td>2024-01-06 20:20:00</td>\n      <td>1.575569e-06</td>\n      <td>9.180277e-07</td>\n      <td>1.250789e-06</td>\n      <td>0.362475</td>\n      <td>14.0</td>\n      <td>8.000000</td>\n      <td>2024-01-06</td>\n    </tr>\n    <tr>\n      <th>4</th>\n      <td>DqTKHDkRttkuHoFUJWZ3zUbxRrdsndTwe7qKwDG6SYCS</td>\n      <td>0.247074</td>\n      <td>2024-01-06 05:40:00</td>\n      <td>1.066071e-06</td>\n      <td>8.221907e-07</td>\n      <td>3.215128e-06</td>\n      <td>2.910440</td>\n      <td>17.0</td>\n      <td>2.142857</td>\n      <td>2024-01-06</td>\n    </tr>\n    <tr>\n      <th>6</th>\n      <td>Fc8Z1nT9wocb2wnbMF1fkntu61ctrLMqN3ZCky4byK1E</td>\n      <td>0.238396</td>\n      <td>2024-01-06 00:40:00</td>\n      <td>7.030983e-06</td>\n      <td>4.220106e-06</td>\n      <td>3.752330e-06</td>\n      <td>-0.110845</td>\n      <td>2.0</td>\n      <td>0.142857</td>\n      <td>2024-01-06</td>\n    </tr>\n    <tr>\n      <th>9</th>\n      <td>F4TwqC6nbFTN59UakGwEV4shLSrTeyq4D2hmvpdzQnpt</td>\n      <td>0.461132</td>\n      <td>2024-01-05 14:40:00</td>\n      <td>4.333699e-07</td>\n      <td>2.364662e-07</td>\n      <td>1.091979e-06</td>\n      <td>3.617905</td>\n      <td>7.0</td>\n      <td>10.642857</td>\n      <td>2024-01-05</td>\n    </tr>\n    <tr>\n      <th>...</th>\n      <td>...</td>\n      <td>...</td>\n      <td>...</td>\n      <td>...</td>\n      <td>...</td>\n      <td>...</td>\n      <td>...</td>\n      <td>...</td>\n      <td>...</td>\n      <td>...</td>\n    </tr>\n    <tr>\n      <th>145</th>\n      <td>2J4sFeo4HXXqmkcpbUj5wHbb1s4dv4oxJVos8ktVYQS4</td>\n      <td>0.225674</td>\n      <td>2023-12-25 15:10:00</td>\n      <td>9.295643e-10</td>\n      <td>1.000473e-09</td>\n      <td>1.278649e-09</td>\n      <td>0.278044</td>\n      <td>1.0</td>\n      <td>0.071429</td>\n      <td>2023-12-25</td>\n    </tr>\n    <tr>\n      <th>146</th>\n      <td>33ZSZu1PT6ERHxT2uBDSJCU9ByeLXa2qTJhpmtxCZzpG</td>\n      <td>0.238263</td>\n      <td>2023-12-25 14:30:00</td>\n      <td>6.124532e-10</td>\n      <td>7.612649e-10</td>\n      <td>1.291243e-09</td>\n      <td>0.696181</td>\n      <td>1.0</td>\n      <td>0.214286</td>\n      <td>2023-12-25</td>\n    </tr>\n    <tr>\n      <th>147</th>\n      <td>H1BYwUinBP1vex5Zcx1xT7KgPZoTWoyECueAzep38F1E</td>\n      <td>0.266046</td>\n      <td>2023-12-25 13:10:00</td>\n      <td>5.744864e-07</td>\n      <td>5.225805e-07</td>\n      <td>4.901445e-07</td>\n      <td>-0.062069</td>\n      <td>1.0</td>\n      <td>0.285714</td>\n      <td>2023-12-25</td>\n    </tr>\n    <tr>\n      <th>148</th>\n      <td>4ThReWAbAVZjNVgs5Ui9Pk3cZ5TYaD9u6Y89fp6EFzoF</td>\n      <td>0.152497</td>\n      <td>2023-12-25 11:30:00</td>\n      <td>5.809407e-04</td>\n      <td>5.660632e-04</td>\n      <td>6.051881e-04</td>\n      <td>0.069118</td>\n      <td>1.0</td>\n      <td>0.071429</td>\n      <td>2023-12-25</td>\n    </tr>\n    <tr>\n      <th>153</th>\n      <td>JAvkdR4qC6nMFkWxJNU9EbK6BH2tJvM9ZT2n87yGH5g8</td>\n      <td>0.171114</td>\n      <td>2023-12-24 22:10:00</td>\n      <td>2.335873e-07</td>\n      <td>2.946347e-07</td>\n      <td>4.258199e-07</td>\n      <td>0.445247</td>\n      <td>2.0</td>\n      <td>0.214286</td>\n      <td>2023-12-24</td>\n    </tr>\n  </tbody>\n</table>\n<p>73 rows × 10 columns</p>\n</div>"
     },
     "execution_count": 219,
     "metadata": {},
     "output_type": "execute_result"
    }
   ],
   "source": [
    "first_purchased_changed_price = first_purchased[first_purchased['price'] != first_purchased['buy_price']]\n",
    "first_purchased_changed_price"
   ],
   "metadata": {
    "collapsed": false,
    "ExecuteTime": {
     "end_time": "2024-01-08T09:40:42.729330Z",
     "start_time": "2024-01-08T09:40:42.717376Z"
    }
   },
   "id": "2d289d942a5b6e5b"
  },
  {
   "cell_type": "code",
   "execution_count": 221,
   "outputs": [
    {
     "data": {
      "text/plain": "1.3431248514380745"
     },
     "execution_count": 221,
     "metadata": {},
     "output_type": "execute_result"
    }
   ],
   "source": [
    "first_purchased_changed_price['upside'].mean()"
   ],
   "metadata": {
    "collapsed": false,
    "ExecuteTime": {
     "end_time": "2024-01-08T09:41:48.707048Z",
     "start_time": "2024-01-08T09:41:48.697738Z"
    }
   },
   "id": "e33dcecf50d6ee4c"
  },
  {
   "cell_type": "code",
   "execution_count": 218,
   "outputs": [
    {
     "data": {
      "text/plain": "                    mean        sum  count\ntime_quant_day                            \n2024-01-07     -0.094396  -0.283188      3\n2024-01-06      0.772840   3.091362      4\n2024-01-05      0.623692   3.742154      6\n2024-01-04     -0.182240  -1.640158      9\n2024-01-03      0.154506   2.008574     13\n2024-01-02     -0.134595  -1.345949     10\n2024-01-01      0.063188   0.947827     15\n2023-12-31     -0.126394  -1.011155      8\n2023-12-30      0.283868   2.554813      9\n2023-12-29     -0.134812  -1.348117     10\n2023-12-28      0.156641   3.602734     23\n2023-12-27      0.066929   1.137798     17\n2023-12-26      9.308135  93.081353     10\n2023-12-25     -0.019403  -0.291043     15\n2023-12-24      0.721741   1.443482      2",
      "text/html": "<div>\n<style scoped>\n    .dataframe tbody tr th:only-of-type {\n        vertical-align: middle;\n    }\n\n    .dataframe tbody tr th {\n        vertical-align: top;\n    }\n\n    .dataframe thead th {\n        text-align: right;\n    }\n</style>\n<table border=\"1\" class=\"dataframe\">\n  <thead>\n    <tr style=\"text-align: right;\">\n      <th></th>\n      <th>mean</th>\n      <th>sum</th>\n      <th>count</th>\n    </tr>\n    <tr>\n      <th>time_quant_day</th>\n      <th></th>\n      <th></th>\n      <th></th>\n    </tr>\n  </thead>\n  <tbody>\n    <tr>\n      <th>2024-01-07</th>\n      <td>-0.094396</td>\n      <td>-0.283188</td>\n      <td>3</td>\n    </tr>\n    <tr>\n      <th>2024-01-06</th>\n      <td>0.772840</td>\n      <td>3.091362</td>\n      <td>4</td>\n    </tr>\n    <tr>\n      <th>2024-01-05</th>\n      <td>0.623692</td>\n      <td>3.742154</td>\n      <td>6</td>\n    </tr>\n    <tr>\n      <th>2024-01-04</th>\n      <td>-0.182240</td>\n      <td>-1.640158</td>\n      <td>9</td>\n    </tr>\n    <tr>\n      <th>2024-01-03</th>\n      <td>0.154506</td>\n      <td>2.008574</td>\n      <td>13</td>\n    </tr>\n    <tr>\n      <th>2024-01-02</th>\n      <td>-0.134595</td>\n      <td>-1.345949</td>\n      <td>10</td>\n    </tr>\n    <tr>\n      <th>2024-01-01</th>\n      <td>0.063188</td>\n      <td>0.947827</td>\n      <td>15</td>\n    </tr>\n    <tr>\n      <th>2023-12-31</th>\n      <td>-0.126394</td>\n      <td>-1.011155</td>\n      <td>8</td>\n    </tr>\n    <tr>\n      <th>2023-12-30</th>\n      <td>0.283868</td>\n      <td>2.554813</td>\n      <td>9</td>\n    </tr>\n    <tr>\n      <th>2023-12-29</th>\n      <td>-0.134812</td>\n      <td>-1.348117</td>\n      <td>10</td>\n    </tr>\n    <tr>\n      <th>2023-12-28</th>\n      <td>0.156641</td>\n      <td>3.602734</td>\n      <td>23</td>\n    </tr>\n    <tr>\n      <th>2023-12-27</th>\n      <td>0.066929</td>\n      <td>1.137798</td>\n      <td>17</td>\n    </tr>\n    <tr>\n      <th>2023-12-26</th>\n      <td>9.308135</td>\n      <td>93.081353</td>\n      <td>10</td>\n    </tr>\n    <tr>\n      <th>2023-12-25</th>\n      <td>-0.019403</td>\n      <td>-0.291043</td>\n      <td>15</td>\n    </tr>\n    <tr>\n      <th>2023-12-24</th>\n      <td>0.721741</td>\n      <td>1.443482</td>\n      <td>2</td>\n    </tr>\n  </tbody>\n</table>\n</div>"
     },
     "execution_count": 218,
     "metadata": {},
     "output_type": "execute_result"
    }
   ],
   "source": [
    "first_purchased['time_quant_day'] = first_purchased['time_quant'].dt.floor('D')\n",
    "aggregated_data = first_purchased.groupby('time_quant_day')['upside'].agg(['mean', 'sum', 'count'])\n",
    "aggregated_data.sort_values(by=['time_quant_day'], ascending=False)\n"
   ],
   "metadata": {
    "collapsed": false,
    "ExecuteTime": {
     "end_time": "2024-01-08T09:40:10.218787Z",
     "start_time": "2024-01-08T09:40:10.182931Z"
    }
   },
   "id": "f29d45cc497bb320"
  },
  {
   "cell_type": "code",
   "execution_count": 35,
   "outputs": [
    {
     "data": {
      "text/plain": "Predicted\nflat    114787\nup         365\ndown       166\nName: count, dtype: int64"
     },
     "execution_count": 35,
     "metadata": {},
     "output_type": "execute_result"
    }
   ],
   "source": [
    "results_df['Predicted'].value_counts()"
   ],
   "metadata": {
    "collapsed": false,
    "ExecuteTime": {
     "end_time": "2024-01-07T22:43:32.565893Z",
     "start_time": "2024-01-07T22:43:32.562233Z"
    }
   },
   "id": "13102803fac1ca11"
  },
  {
   "cell_type": "code",
   "execution_count": 36,
   "outputs": [
    {
     "data": {
      "text/plain": "mint\nEPjFWdd5AufqSSqeM2qN1xzybapC8G4wEGGkZwyTDt1v    1847\nEs9vMFrzaCERmJfrF4H2FYD4KCoNkY11McCe8BenwNYB    1804\nDezXAZ8z7PnrnRJjz3wXBoRgixCa6xjnB7YaB1pPB263    1712\n9gwTegFJJErDpWJKjPfLr2g2zrE3nL1v5zpwbtsk3c6P    1559\nEKpQGSJtjMFqKZ9KQanSqYXRcF8fBopzLHYxdM65zcjm    1458\n                                                ... \n8u5cJUkYLJLU9fk5YwkaNNSzFmxqqi3dfDz776Z8rsGC       1\n6gsbcTpxMSz2v4vkUgWafXcEMXUaBKZXwU8pj3zjPom7       1\n8GM5uzDWyZcgwXLovFsgdCB2bKZ5e9KuJQm2LyMVuKAY       1\n4zzhtwzcTExHVpAvazzZtDxSLixZTpmVABmQ7pc2PVVV       1\nG7WPNtgRjBr3pueqGYs5TZdH8zq9cKGhxgFDzhPocE4G       1\nName: count, Length: 3870, dtype: int64"
     },
     "execution_count": 36,
     "metadata": {},
     "output_type": "execute_result"
    }
   ],
   "source": [
    "results_df['mint'].value_counts()"
   ],
   "metadata": {
    "collapsed": false,
    "ExecuteTime": {
     "end_time": "2024-01-07T22:43:33.012130Z",
     "start_time": "2024-01-07T22:43:33.006273Z"
    }
   },
   "id": "498de5f3068d5ac4"
  },
  {
   "cell_type": "code",
   "execution_count": 37,
   "outputs": [
    {
     "data": {
      "text/plain": "       Actual Predicted       UpP     DownP          time_quant  \\\n24611      up      flat  0.026081  0.120062 2023-12-27 21:20:00   \n24703      up      flat  0.100401  0.262903 2023-12-27 21:30:00   \n24882    flat      flat  0.048138  0.164722 2023-12-27 21:50:00   \n24966    flat      flat  0.030121  0.140905 2023-12-27 22:00:00   \n25047    flat      flat  0.019503  0.157640 2023-12-27 22:10:00   \n...       ...       ...       ...       ...                 ...   \n110206   flat      flat  0.004233  0.000100 2024-01-06 06:20:00   \n113680   flat      flat  0.001536  0.000183 2024-01-06 17:10:00   \n114393   flat      flat  0.001443  0.000140 2024-01-06 19:10:00   \n114656   flat      flat  0.002792  0.000701 2024-01-06 19:50:00   \n114811   flat      flat  0.007184  0.000075 2024-01-06 20:10:00   \n\n                                                mint     price  buy_price  \\\n24611   99fp2z9TANArLJR4hcwx8fJSzjz7GQwUn7huGf32nDdv  0.000010   0.000010   \n24703   99fp2z9TANArLJR4hcwx8fJSzjz7GQwUn7huGf32nDdv  0.000013   0.000013   \n24882   99fp2z9TANArLJR4hcwx8fJSzjz7GQwUn7huGf32nDdv  0.000023   0.000023   \n24966   99fp2z9TANArLJR4hcwx8fJSzjz7GQwUn7huGf32nDdv  0.000028   0.000028   \n25047   99fp2z9TANArLJR4hcwx8fJSzjz7GQwUn7huGf32nDdv  0.000033   0.000033   \n...                                              ...       ...        ...   \n110206  99fp2z9TANArLJR4hcwx8fJSzjz7GQwUn7huGf32nDdv  0.000044   0.000044   \n113680  99fp2z9TANArLJR4hcwx8fJSzjz7GQwUn7huGf32nDdv  0.000041   0.000041   \n114393  99fp2z9TANArLJR4hcwx8fJSzjz7GQwUn7huGf32nDdv  0.000040   0.000040   \n114656  99fp2z9TANArLJR4hcwx8fJSzjz7GQwUn7huGf32nDdv  0.000041   0.000041   \n114811  99fp2z9TANArLJR4hcwx8fJSzjz7GQwUn7huGf32nDdv  0.000048   0.000048   \n\n        sell_price label  ...  ema_vol_sell_1d  sma_vol_sum_10m  \\\n24611     0.000057    up  ...         0.000000         0.214286   \n24703     0.000057    up  ...         0.211773         0.465523   \n24882     0.000058  flat  ...         0.238972         0.515809   \n24966     0.000058  flat  ...         0.238972         0.610186   \n25047     0.000058  flat  ...         0.238972         0.687330   \n...            ...   ...  ...              ...              ...   \n110206    0.000044  flat  ...        24.229227         0.186414   \n113680    0.000042  flat  ...        22.826899         0.007933   \n114393    0.000041  flat  ...        22.489533         0.011818   \n114656    0.000041  flat  ...        22.526461         0.091385   \n114811    0.000041  flat  ...        22.458964         0.179242   \n\n        ema_vol_sum_10m  sma_vol_sum_1h  ema_vol_sum_1h  sma_vol_sum_4h  \\\n24611          0.400001        0.214286        0.400001        0.214286   \n24703          0.815643        0.465523        0.868977        0.465523   \n24882          0.706506        0.515809        0.962844        0.515809   \n24966          0.788474        0.610186        1.139013        0.610186   \n25047          0.827347        0.687330        1.283016        0.687330   \n...                 ...             ...             ...             ...   \n110206         0.347973        0.526814        0.622915        2.600614   \n113680         0.014809        0.244989        0.208333        2.216083   \n114393         0.009910        0.198232        0.080858        2.213886   \n114656         0.167424        0.285732        0.587855        2.301386   \n114811         0.289755        0.373589        0.749406        2.353529   \n\n        ema_vol_sum_4h  sma_vol_sum_1d  ema_vol_sum_1d    upside  \n24611         0.400001        0.214286        0.400001  5.540767  \n24703         0.868977        0.465523        0.868977  4.364073  \n24882         0.962844        0.515809        0.962844  2.468587  \n24966         1.139013        0.610186        1.139013  2.103323  \n25047         1.283016        0.687330        1.283016  1.783441  \n...                ...             ...             ...       ...  \n110206        3.386644       55.791088       40.737022  1.002310  \n113680        1.948007       55.799021       38.612746  1.021707  \n114393        1.745457       55.802905       38.109903  1.029095  \n114656        1.889850       55.890405       38.135420  1.009887  \n114811        1.950511       55.978263       38.176418  0.858674  \n\n[356 rows x 49 columns]",
      "text/html": "<div>\n<style scoped>\n    .dataframe tbody tr th:only-of-type {\n        vertical-align: middle;\n    }\n\n    .dataframe tbody tr th {\n        vertical-align: top;\n    }\n\n    .dataframe thead th {\n        text-align: right;\n    }\n</style>\n<table border=\"1\" class=\"dataframe\">\n  <thead>\n    <tr style=\"text-align: right;\">\n      <th></th>\n      <th>Actual</th>\n      <th>Predicted</th>\n      <th>UpP</th>\n      <th>DownP</th>\n      <th>time_quant</th>\n      <th>mint</th>\n      <th>price</th>\n      <th>buy_price</th>\n      <th>sell_price</th>\n      <th>label</th>\n      <th>...</th>\n      <th>ema_vol_sell_1d</th>\n      <th>sma_vol_sum_10m</th>\n      <th>ema_vol_sum_10m</th>\n      <th>sma_vol_sum_1h</th>\n      <th>ema_vol_sum_1h</th>\n      <th>sma_vol_sum_4h</th>\n      <th>ema_vol_sum_4h</th>\n      <th>sma_vol_sum_1d</th>\n      <th>ema_vol_sum_1d</th>\n      <th>upside</th>\n    </tr>\n  </thead>\n  <tbody>\n    <tr>\n      <th>24611</th>\n      <td>up</td>\n      <td>flat</td>\n      <td>0.026081</td>\n      <td>0.120062</td>\n      <td>2023-12-27 21:20:00</td>\n      <td>99fp2z9TANArLJR4hcwx8fJSzjz7GQwUn7huGf32nDdv</td>\n      <td>0.000010</td>\n      <td>0.000010</td>\n      <td>0.000057</td>\n      <td>up</td>\n      <td>...</td>\n      <td>0.000000</td>\n      <td>0.214286</td>\n      <td>0.400001</td>\n      <td>0.214286</td>\n      <td>0.400001</td>\n      <td>0.214286</td>\n      <td>0.400001</td>\n      <td>0.214286</td>\n      <td>0.400001</td>\n      <td>5.540767</td>\n    </tr>\n    <tr>\n      <th>24703</th>\n      <td>up</td>\n      <td>flat</td>\n      <td>0.100401</td>\n      <td>0.262903</td>\n      <td>2023-12-27 21:30:00</td>\n      <td>99fp2z9TANArLJR4hcwx8fJSzjz7GQwUn7huGf32nDdv</td>\n      <td>0.000013</td>\n      <td>0.000013</td>\n      <td>0.000057</td>\n      <td>up</td>\n      <td>...</td>\n      <td>0.211773</td>\n      <td>0.465523</td>\n      <td>0.815643</td>\n      <td>0.465523</td>\n      <td>0.868977</td>\n      <td>0.465523</td>\n      <td>0.868977</td>\n      <td>0.465523</td>\n      <td>0.868977</td>\n      <td>4.364073</td>\n    </tr>\n    <tr>\n      <th>24882</th>\n      <td>flat</td>\n      <td>flat</td>\n      <td>0.048138</td>\n      <td>0.164722</td>\n      <td>2023-12-27 21:50:00</td>\n      <td>99fp2z9TANArLJR4hcwx8fJSzjz7GQwUn7huGf32nDdv</td>\n      <td>0.000023</td>\n      <td>0.000023</td>\n      <td>0.000058</td>\n      <td>flat</td>\n      <td>...</td>\n      <td>0.238972</td>\n      <td>0.515809</td>\n      <td>0.706506</td>\n      <td>0.515809</td>\n      <td>0.962844</td>\n      <td>0.515809</td>\n      <td>0.962844</td>\n      <td>0.515809</td>\n      <td>0.962844</td>\n      <td>2.468587</td>\n    </tr>\n    <tr>\n      <th>24966</th>\n      <td>flat</td>\n      <td>flat</td>\n      <td>0.030121</td>\n      <td>0.140905</td>\n      <td>2023-12-27 22:00:00</td>\n      <td>99fp2z9TANArLJR4hcwx8fJSzjz7GQwUn7huGf32nDdv</td>\n      <td>0.000028</td>\n      <td>0.000028</td>\n      <td>0.000058</td>\n      <td>flat</td>\n      <td>...</td>\n      <td>0.238972</td>\n      <td>0.610186</td>\n      <td>0.788474</td>\n      <td>0.610186</td>\n      <td>1.139013</td>\n      <td>0.610186</td>\n      <td>1.139013</td>\n      <td>0.610186</td>\n      <td>1.139013</td>\n      <td>2.103323</td>\n    </tr>\n    <tr>\n      <th>25047</th>\n      <td>flat</td>\n      <td>flat</td>\n      <td>0.019503</td>\n      <td>0.157640</td>\n      <td>2023-12-27 22:10:00</td>\n      <td>99fp2z9TANArLJR4hcwx8fJSzjz7GQwUn7huGf32nDdv</td>\n      <td>0.000033</td>\n      <td>0.000033</td>\n      <td>0.000058</td>\n      <td>flat</td>\n      <td>...</td>\n      <td>0.238972</td>\n      <td>0.687330</td>\n      <td>0.827347</td>\n      <td>0.687330</td>\n      <td>1.283016</td>\n      <td>0.687330</td>\n      <td>1.283016</td>\n      <td>0.687330</td>\n      <td>1.283016</td>\n      <td>1.783441</td>\n    </tr>\n    <tr>\n      <th>...</th>\n      <td>...</td>\n      <td>...</td>\n      <td>...</td>\n      <td>...</td>\n      <td>...</td>\n      <td>...</td>\n      <td>...</td>\n      <td>...</td>\n      <td>...</td>\n      <td>...</td>\n      <td>...</td>\n      <td>...</td>\n      <td>...</td>\n      <td>...</td>\n      <td>...</td>\n      <td>...</td>\n      <td>...</td>\n      <td>...</td>\n      <td>...</td>\n      <td>...</td>\n      <td>...</td>\n    </tr>\n    <tr>\n      <th>110206</th>\n      <td>flat</td>\n      <td>flat</td>\n      <td>0.004233</td>\n      <td>0.000100</td>\n      <td>2024-01-06 06:20:00</td>\n      <td>99fp2z9TANArLJR4hcwx8fJSzjz7GQwUn7huGf32nDdv</td>\n      <td>0.000044</td>\n      <td>0.000044</td>\n      <td>0.000044</td>\n      <td>flat</td>\n      <td>...</td>\n      <td>24.229227</td>\n      <td>0.186414</td>\n      <td>0.347973</td>\n      <td>0.526814</td>\n      <td>0.622915</td>\n      <td>2.600614</td>\n      <td>3.386644</td>\n      <td>55.791088</td>\n      <td>40.737022</td>\n      <td>1.002310</td>\n    </tr>\n    <tr>\n      <th>113680</th>\n      <td>flat</td>\n      <td>flat</td>\n      <td>0.001536</td>\n      <td>0.000183</td>\n      <td>2024-01-06 17:10:00</td>\n      <td>99fp2z9TANArLJR4hcwx8fJSzjz7GQwUn7huGf32nDdv</td>\n      <td>0.000041</td>\n      <td>0.000041</td>\n      <td>0.000042</td>\n      <td>flat</td>\n      <td>...</td>\n      <td>22.826899</td>\n      <td>0.007933</td>\n      <td>0.014809</td>\n      <td>0.244989</td>\n      <td>0.208333</td>\n      <td>2.216083</td>\n      <td>1.948007</td>\n      <td>55.799021</td>\n      <td>38.612746</td>\n      <td>1.021707</td>\n    </tr>\n    <tr>\n      <th>114393</th>\n      <td>flat</td>\n      <td>flat</td>\n      <td>0.001443</td>\n      <td>0.000140</td>\n      <td>2024-01-06 19:10:00</td>\n      <td>99fp2z9TANArLJR4hcwx8fJSzjz7GQwUn7huGf32nDdv</td>\n      <td>0.000040</td>\n      <td>0.000040</td>\n      <td>0.000041</td>\n      <td>flat</td>\n      <td>...</td>\n      <td>22.489533</td>\n      <td>0.011818</td>\n      <td>0.009910</td>\n      <td>0.198232</td>\n      <td>0.080858</td>\n      <td>2.213886</td>\n      <td>1.745457</td>\n      <td>55.802905</td>\n      <td>38.109903</td>\n      <td>1.029095</td>\n    </tr>\n    <tr>\n      <th>114656</th>\n      <td>flat</td>\n      <td>flat</td>\n      <td>0.002792</td>\n      <td>0.000701</td>\n      <td>2024-01-06 19:50:00</td>\n      <td>99fp2z9TANArLJR4hcwx8fJSzjz7GQwUn7huGf32nDdv</td>\n      <td>0.000041</td>\n      <td>0.000041</td>\n      <td>0.000041</td>\n      <td>flat</td>\n      <td>...</td>\n      <td>22.526461</td>\n      <td>0.091385</td>\n      <td>0.167424</td>\n      <td>0.285732</td>\n      <td>0.587855</td>\n      <td>2.301386</td>\n      <td>1.889850</td>\n      <td>55.890405</td>\n      <td>38.135420</td>\n      <td>1.009887</td>\n    </tr>\n    <tr>\n      <th>114811</th>\n      <td>flat</td>\n      <td>flat</td>\n      <td>0.007184</td>\n      <td>0.000075</td>\n      <td>2024-01-06 20:10:00</td>\n      <td>99fp2z9TANArLJR4hcwx8fJSzjz7GQwUn7huGf32nDdv</td>\n      <td>0.000048</td>\n      <td>0.000048</td>\n      <td>0.000041</td>\n      <td>flat</td>\n      <td>...</td>\n      <td>22.458964</td>\n      <td>0.179242</td>\n      <td>0.289755</td>\n      <td>0.373589</td>\n      <td>0.749406</td>\n      <td>2.353529</td>\n      <td>1.950511</td>\n      <td>55.978263</td>\n      <td>38.176418</td>\n      <td>0.858674</td>\n    </tr>\n  </tbody>\n</table>\n<p>356 rows × 49 columns</p>\n</div>"
     },
     "execution_count": 37,
     "metadata": {},
     "output_type": "execute_result"
    }
   ],
   "source": [
    "# mint 99fp2z9TANArLJR4hcwx8fJSzjz7GQwUn7huGf32nDdv\n",
    "results_df[results_df['mint']=='99fp2z9TANArLJR4hcwx8fJSzjz7GQwUn7huGf32nDdv']"
   ],
   "metadata": {
    "collapsed": false,
    "ExecuteTime": {
     "end_time": "2024-01-07T22:43:33.599899Z",
     "start_time": "2024-01-07T22:43:33.586014Z"
    }
   },
   "id": "85a6209339a06f78"
  },
  {
   "cell_type": "code",
   "execution_count": 38,
   "outputs": [
    {
     "data": {
      "text/plain": "       Actual Predicted       UpP     DownP          time_quant  \\\n0        flat      flat  0.001246  0.001955 2023-12-25 01:30:00   \n1        flat      flat  0.001284  0.001417 2023-12-25 01:30:00   \n2        flat      flat  0.003442  0.000042 2023-12-25 01:30:00   \n3        flat      flat  0.002985  0.000459 2023-12-25 01:30:00   \n4        flat      flat  0.001914  0.000063 2023-12-25 01:30:00   \n...       ...       ...       ...       ...                 ...   \n115313   flat      flat  0.000848  0.000004 2024-01-06 21:20:00   \n115314   flat      flat  0.001522  0.000123 2024-01-06 21:20:00   \n115315   flat      flat  0.002862  0.000063 2024-01-06 21:20:00   \n115316   flat      flat  0.002818  0.000113 2024-01-06 21:20:00   \n115317   flat      flat  0.001267  0.000183 2024-01-06 21:20:00   \n\n                                                mint         price  \\\n0       2Ar2n5DJSiQuMhY4XeSzg7C5AGMezZPoLUt98VmmjsAR  9.553849e-14   \n1       31GUGbRSct8MsJJnditGy98xMxowq58sFsZ9CGQRMLT8  1.265659e-06   \n2       3FHpkMTQ3QyAJoLoXVdBpH4TfHiehnL2kXmv9UXBpYuF  2.489798e-04   \n3       3h4DGQd9k5gsiMnNzDuGXAcjkMm5G7iC3knykdvBBnxU  2.259079e-07   \n4       4k3Dyjzvzp8eMZWUXbBCjEvwSkkk59S5iCNLY3QrkX6R  1.462202e-02   \n...                                              ...           ...   \n115313   mSoLzYCxHdYgdzU16g5QSh3i5K3z3KZK7ytfqcJm7So  1.159173e+00   \n115314   orcaEKTdK7LKz57vaAYr9QeNsVEPfiu6QeMU1kektZE  5.453821e-02   \n115315   r89LZwYf7ZiWVSk8uR6yEboWDEn52EgeXxMJg7UtX7w  7.953436e-07   \n115316   skJyor4eEoBsDpxyURP367RjGEK5xbqrjWjjyjQGo2N  1.662048e-06   \n115317   tGSdnVTzv45tX5Ef9xUrQXrD7dQb3th5stz4aM3V3zN  1.595033e-06   \n\n           buy_price    sell_price label  ...  ema_vol_sell_1d  \\\n0       9.553849e-14  7.844530e-14  flat  ...         6.972086   \n1       1.265659e-06  1.218213e-06  flat  ...        20.850289   \n2       2.489798e-04  1.959688e-04  flat  ...         0.031733   \n3       2.259079e-07  2.947991e-07  flat  ...        11.409960   \n4       1.462202e-02  1.481616e-02  flat  ...       230.553132   \n...              ...           ...   ...  ...              ...   \n115313  1.159173e+00  1.158825e+00  flat  ...      5731.557628   \n115314  5.453821e-02  5.463510e-02  flat  ...        73.531003   \n115315  7.953436e-07  8.571247e-07  flat  ...         1.534916   \n115316  1.662048e-06  1.899461e-06  flat  ...         3.190907   \n115317  1.595033e-06  8.255610e-07  flat  ...        32.441978   \n\n        sma_vol_sum_10m  ema_vol_sum_10m  sma_vol_sum_1h  ema_vol_sum_1h  \\\n0              0.017307         0.032306        0.256178        0.259721   \n1              0.142860         0.189836        0.647174        0.765609   \n2              0.357149         0.666678        0.500018        0.840282   \n3              0.127347         0.237714        1.061423        1.299928   \n4              0.096367         0.179885       26.671347       34.231572   \n...                 ...              ...             ...             ...   \n115313        51.324359        59.647754      114.788908      149.568183   \n115314         0.303918         0.259605        7.889743        4.861710   \n115315         0.004575         0.008539        0.008152        0.010992   \n115316         0.010655         0.019890        0.030189        0.031050   \n115317         0.530716         0.402606       11.001487        9.258604   \n\n        sma_vol_sum_4h  ema_vol_sum_4h  sma_vol_sum_1d  ema_vol_sum_1d  \\\n0             8.360208        8.321688        8.891022       13.491437   \n1             7.894624        5.552829       30.020318       35.401037   \n2             0.558593        0.959506        1.051184        1.240236   \n3             2.560615        2.711615       18.866127       15.218785   \n4           113.832100      110.116894      405.934400      473.812536   \n...                ...             ...             ...             ...   \n115313      377.928546      553.043797     8067.981241     7539.853829   \n115314       25.239336       31.181061      150.835343      138.029663   \n115315        0.041956        0.075156        3.050126        2.429927   \n115316        0.655743        0.663644        5.492843        6.465712   \n115317       27.639109       31.104124       27.639109       49.761126   \n\n          upside  \n0       0.821086  \n1       0.962513  \n2       0.787087  \n3       1.304953  \n4       1.013278  \n...          ...  \n115313  0.999699  \n115314  1.001776  \n115315  1.077678  \n115316  1.142844  \n115317  0.517582  \n\n[115318 rows x 49 columns]",
      "text/html": "<div>\n<style scoped>\n    .dataframe tbody tr th:only-of-type {\n        vertical-align: middle;\n    }\n\n    .dataframe tbody tr th {\n        vertical-align: top;\n    }\n\n    .dataframe thead th {\n        text-align: right;\n    }\n</style>\n<table border=\"1\" class=\"dataframe\">\n  <thead>\n    <tr style=\"text-align: right;\">\n      <th></th>\n      <th>Actual</th>\n      <th>Predicted</th>\n      <th>UpP</th>\n      <th>DownP</th>\n      <th>time_quant</th>\n      <th>mint</th>\n      <th>price</th>\n      <th>buy_price</th>\n      <th>sell_price</th>\n      <th>label</th>\n      <th>...</th>\n      <th>ema_vol_sell_1d</th>\n      <th>sma_vol_sum_10m</th>\n      <th>ema_vol_sum_10m</th>\n      <th>sma_vol_sum_1h</th>\n      <th>ema_vol_sum_1h</th>\n      <th>sma_vol_sum_4h</th>\n      <th>ema_vol_sum_4h</th>\n      <th>sma_vol_sum_1d</th>\n      <th>ema_vol_sum_1d</th>\n      <th>upside</th>\n    </tr>\n  </thead>\n  <tbody>\n    <tr>\n      <th>0</th>\n      <td>flat</td>\n      <td>flat</td>\n      <td>0.001246</td>\n      <td>0.001955</td>\n      <td>2023-12-25 01:30:00</td>\n      <td>2Ar2n5DJSiQuMhY4XeSzg7C5AGMezZPoLUt98VmmjsAR</td>\n      <td>9.553849e-14</td>\n      <td>9.553849e-14</td>\n      <td>7.844530e-14</td>\n      <td>flat</td>\n      <td>...</td>\n      <td>6.972086</td>\n      <td>0.017307</td>\n      <td>0.032306</td>\n      <td>0.256178</td>\n      <td>0.259721</td>\n      <td>8.360208</td>\n      <td>8.321688</td>\n      <td>8.891022</td>\n      <td>13.491437</td>\n      <td>0.821086</td>\n    </tr>\n    <tr>\n      <th>1</th>\n      <td>flat</td>\n      <td>flat</td>\n      <td>0.001284</td>\n      <td>0.001417</td>\n      <td>2023-12-25 01:30:00</td>\n      <td>31GUGbRSct8MsJJnditGy98xMxowq58sFsZ9CGQRMLT8</td>\n      <td>1.265659e-06</td>\n      <td>1.265659e-06</td>\n      <td>1.218213e-06</td>\n      <td>flat</td>\n      <td>...</td>\n      <td>20.850289</td>\n      <td>0.142860</td>\n      <td>0.189836</td>\n      <td>0.647174</td>\n      <td>0.765609</td>\n      <td>7.894624</td>\n      <td>5.552829</td>\n      <td>30.020318</td>\n      <td>35.401037</td>\n      <td>0.962513</td>\n    </tr>\n    <tr>\n      <th>2</th>\n      <td>flat</td>\n      <td>flat</td>\n      <td>0.003442</td>\n      <td>0.000042</td>\n      <td>2023-12-25 01:30:00</td>\n      <td>3FHpkMTQ3QyAJoLoXVdBpH4TfHiehnL2kXmv9UXBpYuF</td>\n      <td>2.489798e-04</td>\n      <td>2.489798e-04</td>\n      <td>1.959688e-04</td>\n      <td>flat</td>\n      <td>...</td>\n      <td>0.031733</td>\n      <td>0.357149</td>\n      <td>0.666678</td>\n      <td>0.500018</td>\n      <td>0.840282</td>\n      <td>0.558593</td>\n      <td>0.959506</td>\n      <td>1.051184</td>\n      <td>1.240236</td>\n      <td>0.787087</td>\n    </tr>\n    <tr>\n      <th>3</th>\n      <td>flat</td>\n      <td>flat</td>\n      <td>0.002985</td>\n      <td>0.000459</td>\n      <td>2023-12-25 01:30:00</td>\n      <td>3h4DGQd9k5gsiMnNzDuGXAcjkMm5G7iC3knykdvBBnxU</td>\n      <td>2.259079e-07</td>\n      <td>2.259079e-07</td>\n      <td>2.947991e-07</td>\n      <td>flat</td>\n      <td>...</td>\n      <td>11.409960</td>\n      <td>0.127347</td>\n      <td>0.237714</td>\n      <td>1.061423</td>\n      <td>1.299928</td>\n      <td>2.560615</td>\n      <td>2.711615</td>\n      <td>18.866127</td>\n      <td>15.218785</td>\n      <td>1.304953</td>\n    </tr>\n    <tr>\n      <th>4</th>\n      <td>flat</td>\n      <td>flat</td>\n      <td>0.001914</td>\n      <td>0.000063</td>\n      <td>2023-12-25 01:30:00</td>\n      <td>4k3Dyjzvzp8eMZWUXbBCjEvwSkkk59S5iCNLY3QrkX6R</td>\n      <td>1.462202e-02</td>\n      <td>1.462202e-02</td>\n      <td>1.481616e-02</td>\n      <td>flat</td>\n      <td>...</td>\n      <td>230.553132</td>\n      <td>0.096367</td>\n      <td>0.179885</td>\n      <td>26.671347</td>\n      <td>34.231572</td>\n      <td>113.832100</td>\n      <td>110.116894</td>\n      <td>405.934400</td>\n      <td>473.812536</td>\n      <td>1.013278</td>\n    </tr>\n    <tr>\n      <th>...</th>\n      <td>...</td>\n      <td>...</td>\n      <td>...</td>\n      <td>...</td>\n      <td>...</td>\n      <td>...</td>\n      <td>...</td>\n      <td>...</td>\n      <td>...</td>\n      <td>...</td>\n      <td>...</td>\n      <td>...</td>\n      <td>...</td>\n      <td>...</td>\n      <td>...</td>\n      <td>...</td>\n      <td>...</td>\n      <td>...</td>\n      <td>...</td>\n      <td>...</td>\n      <td>...</td>\n    </tr>\n    <tr>\n      <th>115313</th>\n      <td>flat</td>\n      <td>flat</td>\n      <td>0.000848</td>\n      <td>0.000004</td>\n      <td>2024-01-06 21:20:00</td>\n      <td>mSoLzYCxHdYgdzU16g5QSh3i5K3z3KZK7ytfqcJm7So</td>\n      <td>1.159173e+00</td>\n      <td>1.159173e+00</td>\n      <td>1.158825e+00</td>\n      <td>flat</td>\n      <td>...</td>\n      <td>5731.557628</td>\n      <td>51.324359</td>\n      <td>59.647754</td>\n      <td>114.788908</td>\n      <td>149.568183</td>\n      <td>377.928546</td>\n      <td>553.043797</td>\n      <td>8067.981241</td>\n      <td>7539.853829</td>\n      <td>0.999699</td>\n    </tr>\n    <tr>\n      <th>115314</th>\n      <td>flat</td>\n      <td>flat</td>\n      <td>0.001522</td>\n      <td>0.000123</td>\n      <td>2024-01-06 21:20:00</td>\n      <td>orcaEKTdK7LKz57vaAYr9QeNsVEPfiu6QeMU1kektZE</td>\n      <td>5.453821e-02</td>\n      <td>5.453821e-02</td>\n      <td>5.463510e-02</td>\n      <td>flat</td>\n      <td>...</td>\n      <td>73.531003</td>\n      <td>0.303918</td>\n      <td>0.259605</td>\n      <td>7.889743</td>\n      <td>4.861710</td>\n      <td>25.239336</td>\n      <td>31.181061</td>\n      <td>150.835343</td>\n      <td>138.029663</td>\n      <td>1.001776</td>\n    </tr>\n    <tr>\n      <th>115315</th>\n      <td>flat</td>\n      <td>flat</td>\n      <td>0.002862</td>\n      <td>0.000063</td>\n      <td>2024-01-06 21:20:00</td>\n      <td>r89LZwYf7ZiWVSk8uR6yEboWDEn52EgeXxMJg7UtX7w</td>\n      <td>7.953436e-07</td>\n      <td>7.953436e-07</td>\n      <td>8.571247e-07</td>\n      <td>flat</td>\n      <td>...</td>\n      <td>1.534916</td>\n      <td>0.004575</td>\n      <td>0.008539</td>\n      <td>0.008152</td>\n      <td>0.010992</td>\n      <td>0.041956</td>\n      <td>0.075156</td>\n      <td>3.050126</td>\n      <td>2.429927</td>\n      <td>1.077678</td>\n    </tr>\n    <tr>\n      <th>115316</th>\n      <td>flat</td>\n      <td>flat</td>\n      <td>0.002818</td>\n      <td>0.000113</td>\n      <td>2024-01-06 21:20:00</td>\n      <td>skJyor4eEoBsDpxyURP367RjGEK5xbqrjWjjyjQGo2N</td>\n      <td>1.662048e-06</td>\n      <td>1.662048e-06</td>\n      <td>1.899461e-06</td>\n      <td>flat</td>\n      <td>...</td>\n      <td>3.190907</td>\n      <td>0.010655</td>\n      <td>0.019890</td>\n      <td>0.030189</td>\n      <td>0.031050</td>\n      <td>0.655743</td>\n      <td>0.663644</td>\n      <td>5.492843</td>\n      <td>6.465712</td>\n      <td>1.142844</td>\n    </tr>\n    <tr>\n      <th>115317</th>\n      <td>flat</td>\n      <td>flat</td>\n      <td>0.001267</td>\n      <td>0.000183</td>\n      <td>2024-01-06 21:20:00</td>\n      <td>tGSdnVTzv45tX5Ef9xUrQXrD7dQb3th5stz4aM3V3zN</td>\n      <td>1.595033e-06</td>\n      <td>1.595033e-06</td>\n      <td>8.255610e-07</td>\n      <td>flat</td>\n      <td>...</td>\n      <td>32.441978</td>\n      <td>0.530716</td>\n      <td>0.402606</td>\n      <td>11.001487</td>\n      <td>9.258604</td>\n      <td>27.639109</td>\n      <td>31.104124</td>\n      <td>27.639109</td>\n      <td>49.761126</td>\n      <td>0.517582</td>\n    </tr>\n  </tbody>\n</table>\n<p>115318 rows × 49 columns</p>\n</div>"
     },
     "execution_count": 38,
     "metadata": {},
     "output_type": "execute_result"
    }
   ],
   "source": [
    "results_df"
   ],
   "metadata": {
    "collapsed": false,
    "ExecuteTime": {
     "end_time": "2024-01-07T22:43:33.971568Z",
     "start_time": "2024-01-07T22:43:33.909086Z"
    }
   },
   "id": "5bbf8e693f460b06"
  },
  {
   "cell_type": "code",
   "execution_count": 38,
   "outputs": [],
   "source": [],
   "metadata": {
    "collapsed": false,
    "ExecuteTime": {
     "end_time": "2024-01-07T22:43:33.971875Z",
     "start_time": "2024-01-07T22:43:33.958802Z"
    }
   },
   "id": "19b1514301d14e46"
  },
  {
   "cell_type": "code",
   "execution_count": 38,
   "outputs": [],
   "source": [],
   "metadata": {
    "collapsed": false,
    "ExecuteTime": {
     "end_time": "2024-01-07T22:43:34.284456Z",
     "start_time": "2024-01-07T22:43:34.265996Z"
    }
   },
   "id": "7b6a2925f30d4f3d"
  },
  {
   "cell_type": "code",
   "execution_count": null,
   "outputs": [],
   "source": [],
   "metadata": {
    "collapsed": false
   },
   "id": "c32a4041fb10c913"
  }
 ],
 "metadata": {
  "kernelspec": {
   "display_name": "Python 3",
   "language": "python",
   "name": "python3"
  },
  "language_info": {
   "codemirror_mode": {
    "name": "ipython",
    "version": 2
   },
   "file_extension": ".py",
   "mimetype": "text/x-python",
   "name": "python",
   "nbconvert_exporter": "python",
   "pygments_lexer": "ipython2",
   "version": "2.7.6"
  }
 },
 "nbformat": 4,
 "nbformat_minor": 5
}
