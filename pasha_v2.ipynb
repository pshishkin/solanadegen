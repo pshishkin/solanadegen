{
 "cells": [
  {
   "cell_type": "code",
   "execution_count": 158,
   "outputs": [
    {
     "name": "stderr",
     "output_type": "stream",
     "text": [
      "2024-01-04 20:53:17,365 - INFO - Getting data from db\n",
      "2024-01-04 20:53:23,837 - INFO - Got 213226 records from db\n",
      "2024-01-04 20:53:23,839 - INFO - From 2023-12-25 12:06:30 to 2024-01-04 20:49:07\n",
      "2024-01-04 20:53:23,890 - INFO - Filtered df by program_id, got 204234 records\n",
      "2024-01-04 20:53:24,005 - INFO - Using memory: 104.13260650634766 MB\n",
      "2024-01-04 20:53:24,099 - INFO - Before rare tokens filtering 204234 trades, 3471 mints\n",
      "2024-01-04 20:53:24,156 - INFO - After rare tokens filtering 168397 trades, 357 mints\n",
      "2024-01-04 20:54:21,149 - INFO - Got price tables for 357 mints\n",
      "2024-01-04 20:54:24,600 - INFO - Assigned labels to 62939 records\n",
      "2024-01-04 20:54:24,602 - INFO - label\n",
      "flat    58846\n",
      "down     2191\n",
      "up       1250\n",
      "na        652\n",
      "Name: count, dtype: int64\n",
      "2024-01-04 20:54:24,605 - INFO - Assigning features\n",
      "2024-01-04 21:02:21,716 - INFO - Features assigned\n"
     ]
    }
   ],
   "source": [
    "from dataprep import DatasetBuilder\n",
    "from datetime import timedelta\n",
    "\n",
    "PREDICTION_TIMEDELTA = timedelta(hours=2)\n",
    "CHANGE_MAGNITUDE = 2.\n",
    "\n",
    "builder = DatasetBuilder(350000, PREDICTION_TIMEDELTA, CHANGE_MAGNITUDE)\n",
    "dataset = builder.build_dataset()\n"
   ],
   "metadata": {
    "collapsed": false,
    "ExecuteTime": {
     "end_time": "2024-01-04T21:02:21.793162Z",
     "start_time": "2024-01-04T20:53:17.367516Z"
    }
   },
   "id": "efcea48a30cd5d32"
  },
  {
   "cell_type": "code",
   "execution_count": 159,
   "outputs": [
    {
     "name": "stderr",
     "output_type": "stream",
     "text": [
      "2024-01-04 21:08:16,293 - INFO - Assigned labels to 62939 records\n",
      "2024-01-04 21:08:16,296 - INFO - label\n",
      "flat    56353\n",
      "na       3642\n",
      "down     2381\n",
      "up        563\n",
      "Name: count, dtype: int64\n"
     ]
    }
   ],
   "source": [
    "PREDICTION_TIMEDELTA = timedelta(hours=12)\n",
    "CHANGE_MAGNITUDE = 4.\n",
    "\n",
    "dataset = builder.reassign_values(PREDICTION_TIMEDELTA, CHANGE_MAGNITUDE)\n"
   ],
   "metadata": {
    "collapsed": false,
    "ExecuteTime": {
     "end_time": "2024-01-04T21:08:16.316768Z",
     "start_time": "2024-01-04T21:08:11.776995Z"
    }
   },
   "id": "fb2725437b2b9501"
  },
  {
   "cell_type": "code",
   "execution_count": 160,
   "outputs": [
    {
     "data": {
      "text/plain": "               time_quant                                          mint  \\\n32149 2023-12-31 03:00:00  H5n9BQfULHEEtvLVf2WErUHsXHhRaUkYqVhNzxUkWJGf   \n\n          price  future_price label  day_of_week  hour  u_price_sma_10m  \\\n32149  0.000004      0.000023    up            6     3         0.071429   \n\n       u_price_ema_10m  u_price_rsi_10m  ...  sma_vol_sell_1d  \\\n32149         0.133333            100.0  ...         2.144877   \n\n       ema_vol_sell_1d  sma_vol_sum_10m  ema_vol_sum_10m  sma_vol_sum_1h  \\\n32149         1.429918         0.766028         1.429918        0.766028   \n\n       ema_vol_sum_1h  sma_vol_sum_4h  ema_vol_sum_4h  sma_vol_sum_1d  \\\n32149        1.429918        0.766028        1.429918        2.144877   \n\n       ema_vol_sum_1d  \n32149        1.429918  \n\n[1 rows x 43 columns]",
      "text/html": "<div>\n<style scoped>\n    .dataframe tbody tr th:only-of-type {\n        vertical-align: middle;\n    }\n\n    .dataframe tbody tr th {\n        vertical-align: top;\n    }\n\n    .dataframe thead th {\n        text-align: right;\n    }\n</style>\n<table border=\"1\" class=\"dataframe\">\n  <thead>\n    <tr style=\"text-align: right;\">\n      <th></th>\n      <th>time_quant</th>\n      <th>mint</th>\n      <th>price</th>\n      <th>future_price</th>\n      <th>label</th>\n      <th>day_of_week</th>\n      <th>hour</th>\n      <th>u_price_sma_10m</th>\n      <th>u_price_ema_10m</th>\n      <th>u_price_rsi_10m</th>\n      <th>...</th>\n      <th>sma_vol_sell_1d</th>\n      <th>ema_vol_sell_1d</th>\n      <th>sma_vol_sum_10m</th>\n      <th>ema_vol_sum_10m</th>\n      <th>sma_vol_sum_1h</th>\n      <th>ema_vol_sum_1h</th>\n      <th>sma_vol_sum_4h</th>\n      <th>ema_vol_sum_4h</th>\n      <th>sma_vol_sum_1d</th>\n      <th>ema_vol_sum_1d</th>\n    </tr>\n  </thead>\n  <tbody>\n    <tr>\n      <th>32149</th>\n      <td>2023-12-31 03:00:00</td>\n      <td>H5n9BQfULHEEtvLVf2WErUHsXHhRaUkYqVhNzxUkWJGf</td>\n      <td>0.000004</td>\n      <td>0.000023</td>\n      <td>up</td>\n      <td>6</td>\n      <td>3</td>\n      <td>0.071429</td>\n      <td>0.133333</td>\n      <td>100.0</td>\n      <td>...</td>\n      <td>2.144877</td>\n      <td>1.429918</td>\n      <td>0.766028</td>\n      <td>1.429918</td>\n      <td>0.766028</td>\n      <td>1.429918</td>\n      <td>0.766028</td>\n      <td>1.429918</td>\n      <td>2.144877</td>\n      <td>1.429918</td>\n    </tr>\n  </tbody>\n</table>\n<p>1 rows × 43 columns</p>\n</div>"
     },
     "execution_count": 160,
     "metadata": {},
     "output_type": "execute_result"
    }
   ],
   "source": [
    "dataset[(dataset['label'] == 'up') & (dataset['mint'] == 'H5n9BQfULHEEtvLVf2WErUHsXHhRaUkYqVhNzxUkWJGf')]"
   ],
   "metadata": {
    "collapsed": false,
    "ExecuteTime": {
     "end_time": "2024-01-04T21:08:26.472394Z",
     "start_time": "2024-01-04T21:08:26.445797Z"
    }
   },
   "id": "4826623dcd12af48"
  },
  {
   "cell_type": "code",
   "execution_count": 161,
   "outputs": [
    {
     "data": {
      "text/plain": "90"
     },
     "execution_count": 161,
     "metadata": {},
     "output_type": "execute_result"
    }
   ],
   "source": [
    "dataset[dataset['label'] == 'up']['mint'].nunique()\n"
   ],
   "metadata": {
    "collapsed": false,
    "ExecuteTime": {
     "end_time": "2024-01-04T21:08:27.012419Z",
     "start_time": "2024-01-04T21:08:26.990579Z"
    }
   },
   "id": "43cf93a151512c70"
  },
  {
   "cell_type": "code",
   "execution_count": 162,
   "outputs": [
    {
     "data": {
      "text/plain": "131         0.000000\n160         0.000000\n350         0.000000\n521         0.000000\n581         0.000000\n            ...     \n57574      15.770082\n57620      18.520239\n57715       0.055712\n57875    2993.142800\n58717       1.448928\nName: sma_vol_sum_1d, Length: 563, dtype: float64"
     },
     "execution_count": 162,
     "metadata": {},
     "output_type": "execute_result"
    }
   ],
   "source": [
    "dataset[dataset['label'] == 'up']['sma_vol_sum_1d']"
   ],
   "metadata": {
    "collapsed": false,
    "ExecuteTime": {
     "end_time": "2024-01-04T21:08:29.172946Z",
     "start_time": "2024-01-04T21:08:29.163684Z"
    }
   },
   "id": "552463f0316c247b"
  },
  {
   "cell_type": "code",
   "execution_count": 163,
   "outputs": [
    {
     "data": {
      "text/plain": "                          time_quant         price  future_price  \\\ncount                          62939  6.293900e+04  6.293900e+04   \nmean   2023-12-30 22:18:30.704014848  1.316129e+00  2.580461e+00   \nmin              2023-12-25 12:10:00  5.033276e-16  0.000000e+00   \n25%              2023-12-28 06:30:00  6.368994e-07  2.428878e-07   \n50%              2023-12-30 23:50:00  9.436820e-06  6.411196e-06   \n75%              2024-01-02 15:20:00  2.694610e-04  1.820457e-04   \nmax              2024-01-04 20:30:00  7.973648e+04  7.973648e+04   \nstd                              NaN  3.178315e+02  4.494780e+02   \n\n        day_of_week          hour  u_price_sma_10m  u_price_ema_10m  \\\ncount  62939.000000  62939.000000     6.293900e+04     6.293900e+04   \nmean       2.537632     12.060884     1.850514e+04     1.639581e+04   \nmin        0.000000      0.000000     7.142857e-02     1.333333e-01   \n25%        1.000000      6.000000     9.347716e-01     9.450214e-01   \n50%        2.000000     13.000000     1.001588e+00     1.001402e+00   \n75%        4.000000     18.000000     1.079816e+00     1.069047e+00   \nmax        6.000000     23.000000     6.893875e+08     6.434283e+08   \nstd        1.814929      6.923577     3.089496e+06     2.798239e+06   \n\n       u_price_rsi_10m  u_price_sma_1h  u_price_ema_1h  ...  sma_vol_sell_1d  \\\ncount     62939.000000    6.293900e+04    6.293900e+04  ...     62939.000000   \nmean         50.028052    2.317471e+04    2.259919e+04  ...      1047.021861   \nmin          -1.000000    7.142857e-02    1.333333e-01  ...         0.000000   \n25%          37.169250    8.191692e-01    8.450480e-01  ...        12.421879   \n50%          50.084206    9.998309e-01    9.999996e-01  ...        74.729568   \n75%          63.408416    1.117967e+00    1.105632e+00  ...       364.469267   \nmax         100.000000    1.590894e+08    2.245803e+08  ...     23719.146537   \nstd          24.255918    1.858894e+06    1.889151e+06  ...      3088.839045   \n\n       ema_vol_sell_1d  sma_vol_sum_10m  ema_vol_sum_10m  sma_vol_sum_1h  \\\ncount     62939.000000     62939.000000     62939.000000    62939.000000   \nmean       1078.149477        14.822857        15.045026       86.364668   \nmin           0.000000         0.000000         0.000000        0.000000   \n25%           9.617463         0.431318         0.472118        2.807457   \n50%          61.105127         1.674622         1.746368        9.923401   \n75%         354.372947         6.645911         6.812351       41.850739   \nmax       23719.146537      1841.891338      3902.586454     7052.229021   \nstd        3107.335087        59.459111        64.305393      284.829112   \n\n       ema_vol_sum_1h  sma_vol_sum_4h  ema_vol_sum_4h  sma_vol_sum_1d  \\\ncount    62939.000000    62939.000000    62939.000000    62939.000000   \nmean        86.953946      343.131495      345.498984     1971.086964   \nmin          0.000000        0.000000        0.000000        0.000000   \n25%          3.003352        9.532557       10.643176       22.456876   \n50%         10.297181       33.440673       35.944117      133.520813   \n75%         42.386476      150.172365      155.486040      615.757641   \nmax       7052.229021    14536.656683    14536.656683    62966.127975   \nstd        296.082572     1067.127756     1084.300337     6439.577929   \n\n       ema_vol_sum_1d  \ncount    62939.000000  \nmean      2081.591560  \nmin          0.000000  \n25%         16.560848  \n50%        111.228035  \n75%        609.893656  \nmax      62966.127975  \nstd       6927.127999  \n\n[8 rows x 41 columns]",
      "text/html": "<div>\n<style scoped>\n    .dataframe tbody tr th:only-of-type {\n        vertical-align: middle;\n    }\n\n    .dataframe tbody tr th {\n        vertical-align: top;\n    }\n\n    .dataframe thead th {\n        text-align: right;\n    }\n</style>\n<table border=\"1\" class=\"dataframe\">\n  <thead>\n    <tr style=\"text-align: right;\">\n      <th></th>\n      <th>time_quant</th>\n      <th>price</th>\n      <th>future_price</th>\n      <th>day_of_week</th>\n      <th>hour</th>\n      <th>u_price_sma_10m</th>\n      <th>u_price_ema_10m</th>\n      <th>u_price_rsi_10m</th>\n      <th>u_price_sma_1h</th>\n      <th>u_price_ema_1h</th>\n      <th>...</th>\n      <th>sma_vol_sell_1d</th>\n      <th>ema_vol_sell_1d</th>\n      <th>sma_vol_sum_10m</th>\n      <th>ema_vol_sum_10m</th>\n      <th>sma_vol_sum_1h</th>\n      <th>ema_vol_sum_1h</th>\n      <th>sma_vol_sum_4h</th>\n      <th>ema_vol_sum_4h</th>\n      <th>sma_vol_sum_1d</th>\n      <th>ema_vol_sum_1d</th>\n    </tr>\n  </thead>\n  <tbody>\n    <tr>\n      <th>count</th>\n      <td>62939</td>\n      <td>6.293900e+04</td>\n      <td>6.293900e+04</td>\n      <td>62939.000000</td>\n      <td>62939.000000</td>\n      <td>6.293900e+04</td>\n      <td>6.293900e+04</td>\n      <td>62939.000000</td>\n      <td>6.293900e+04</td>\n      <td>6.293900e+04</td>\n      <td>...</td>\n      <td>62939.000000</td>\n      <td>62939.000000</td>\n      <td>62939.000000</td>\n      <td>62939.000000</td>\n      <td>62939.000000</td>\n      <td>62939.000000</td>\n      <td>62939.000000</td>\n      <td>62939.000000</td>\n      <td>62939.000000</td>\n      <td>62939.000000</td>\n    </tr>\n    <tr>\n      <th>mean</th>\n      <td>2023-12-30 22:18:30.704014848</td>\n      <td>1.316129e+00</td>\n      <td>2.580461e+00</td>\n      <td>2.537632</td>\n      <td>12.060884</td>\n      <td>1.850514e+04</td>\n      <td>1.639581e+04</td>\n      <td>50.028052</td>\n      <td>2.317471e+04</td>\n      <td>2.259919e+04</td>\n      <td>...</td>\n      <td>1047.021861</td>\n      <td>1078.149477</td>\n      <td>14.822857</td>\n      <td>15.045026</td>\n      <td>86.364668</td>\n      <td>86.953946</td>\n      <td>343.131495</td>\n      <td>345.498984</td>\n      <td>1971.086964</td>\n      <td>2081.591560</td>\n    </tr>\n    <tr>\n      <th>min</th>\n      <td>2023-12-25 12:10:00</td>\n      <td>5.033276e-16</td>\n      <td>0.000000e+00</td>\n      <td>0.000000</td>\n      <td>0.000000</td>\n      <td>7.142857e-02</td>\n      <td>1.333333e-01</td>\n      <td>-1.000000</td>\n      <td>7.142857e-02</td>\n      <td>1.333333e-01</td>\n      <td>...</td>\n      <td>0.000000</td>\n      <td>0.000000</td>\n      <td>0.000000</td>\n      <td>0.000000</td>\n      <td>0.000000</td>\n      <td>0.000000</td>\n      <td>0.000000</td>\n      <td>0.000000</td>\n      <td>0.000000</td>\n      <td>0.000000</td>\n    </tr>\n    <tr>\n      <th>25%</th>\n      <td>2023-12-28 06:30:00</td>\n      <td>6.368994e-07</td>\n      <td>2.428878e-07</td>\n      <td>1.000000</td>\n      <td>6.000000</td>\n      <td>9.347716e-01</td>\n      <td>9.450214e-01</td>\n      <td>37.169250</td>\n      <td>8.191692e-01</td>\n      <td>8.450480e-01</td>\n      <td>...</td>\n      <td>12.421879</td>\n      <td>9.617463</td>\n      <td>0.431318</td>\n      <td>0.472118</td>\n      <td>2.807457</td>\n      <td>3.003352</td>\n      <td>9.532557</td>\n      <td>10.643176</td>\n      <td>22.456876</td>\n      <td>16.560848</td>\n    </tr>\n    <tr>\n      <th>50%</th>\n      <td>2023-12-30 23:50:00</td>\n      <td>9.436820e-06</td>\n      <td>6.411196e-06</td>\n      <td>2.000000</td>\n      <td>13.000000</td>\n      <td>1.001588e+00</td>\n      <td>1.001402e+00</td>\n      <td>50.084206</td>\n      <td>9.998309e-01</td>\n      <td>9.999996e-01</td>\n      <td>...</td>\n      <td>74.729568</td>\n      <td>61.105127</td>\n      <td>1.674622</td>\n      <td>1.746368</td>\n      <td>9.923401</td>\n      <td>10.297181</td>\n      <td>33.440673</td>\n      <td>35.944117</td>\n      <td>133.520813</td>\n      <td>111.228035</td>\n    </tr>\n    <tr>\n      <th>75%</th>\n      <td>2024-01-02 15:20:00</td>\n      <td>2.694610e-04</td>\n      <td>1.820457e-04</td>\n      <td>4.000000</td>\n      <td>18.000000</td>\n      <td>1.079816e+00</td>\n      <td>1.069047e+00</td>\n      <td>63.408416</td>\n      <td>1.117967e+00</td>\n      <td>1.105632e+00</td>\n      <td>...</td>\n      <td>364.469267</td>\n      <td>354.372947</td>\n      <td>6.645911</td>\n      <td>6.812351</td>\n      <td>41.850739</td>\n      <td>42.386476</td>\n      <td>150.172365</td>\n      <td>155.486040</td>\n      <td>615.757641</td>\n      <td>609.893656</td>\n    </tr>\n    <tr>\n      <th>max</th>\n      <td>2024-01-04 20:30:00</td>\n      <td>7.973648e+04</td>\n      <td>7.973648e+04</td>\n      <td>6.000000</td>\n      <td>23.000000</td>\n      <td>6.893875e+08</td>\n      <td>6.434283e+08</td>\n      <td>100.000000</td>\n      <td>1.590894e+08</td>\n      <td>2.245803e+08</td>\n      <td>...</td>\n      <td>23719.146537</td>\n      <td>23719.146537</td>\n      <td>1841.891338</td>\n      <td>3902.586454</td>\n      <td>7052.229021</td>\n      <td>7052.229021</td>\n      <td>14536.656683</td>\n      <td>14536.656683</td>\n      <td>62966.127975</td>\n      <td>62966.127975</td>\n    </tr>\n    <tr>\n      <th>std</th>\n      <td>NaN</td>\n      <td>3.178315e+02</td>\n      <td>4.494780e+02</td>\n      <td>1.814929</td>\n      <td>6.923577</td>\n      <td>3.089496e+06</td>\n      <td>2.798239e+06</td>\n      <td>24.255918</td>\n      <td>1.858894e+06</td>\n      <td>1.889151e+06</td>\n      <td>...</td>\n      <td>3088.839045</td>\n      <td>3107.335087</td>\n      <td>59.459111</td>\n      <td>64.305393</td>\n      <td>284.829112</td>\n      <td>296.082572</td>\n      <td>1067.127756</td>\n      <td>1084.300337</td>\n      <td>6439.577929</td>\n      <td>6927.127999</td>\n    </tr>\n  </tbody>\n</table>\n<p>8 rows × 41 columns</p>\n</div>"
     },
     "execution_count": 163,
     "metadata": {},
     "output_type": "execute_result"
    }
   ],
   "source": [
    "dataset.describe()"
   ],
   "metadata": {
    "collapsed": false,
    "ExecuteTime": {
     "end_time": "2024-01-04T21:08:30.029930Z",
     "start_time": "2024-01-04T21:08:29.920072Z"
    }
   },
   "id": "91fbb5d998719382"
  },
  {
   "cell_type": "code",
   "execution_count": 164,
   "outputs": [
    {
     "name": "stdout",
     "output_type": "stream",
     "text": [
      "dataset len: 62939\n",
      "train_test_dataset len: 59297\n",
      "train_test_dataset len: 59297\n",
      "unique_mints len: 343\n"
     ]
    }
   ],
   "source": [
    "from sklearn.model_selection import TimeSeriesSplit\n",
    "\n",
    "print(\"dataset len: %d\" % len(dataset))\n",
    "train_test_dataset = dataset[dataset['label'] != 'na']\n",
    "print(\"train_test_dataset len: %d\" % len(train_test_dataset))\n",
    "# train_test_dataset = train_test_dataset[train_test_dataset['sma_vol_sum_1h'] > 1]\n",
    "print(\"train_test_dataset len: %d\" % len(train_test_dataset))\n",
    "unique_mints = train_test_dataset['mint'].unique()\n",
    "print(\"unique_mints len: %d\" % len(unique_mints))\n"
   ],
   "metadata": {
    "collapsed": false,
    "ExecuteTime": {
     "end_time": "2024-01-04T21:08:30.929272Z",
     "start_time": "2024-01-04T21:08:30.897382Z"
    }
   },
   "id": "cd9ba54930ee096f"
  },
  {
   "cell_type": "code",
   "execution_count": 165,
   "outputs": [
    {
     "name": "stdout",
     "output_type": "stream",
     "text": [
      "90\n",
      "563\n"
     ]
    }
   ],
   "source": [
    "# how many mints have up label\n",
    "print(train_test_dataset[train_test_dataset['label'] == 'up']['mint'].nunique())\n",
    "print(len(train_test_dataset[train_test_dataset['label'] == 'up']))"
   ],
   "metadata": {
    "collapsed": false,
    "ExecuteTime": {
     "end_time": "2024-01-04T21:08:31.438062Z",
     "start_time": "2024-01-04T21:08:31.423186Z"
    }
   },
   "id": "783473e3cc65b98b"
  },
  {
   "cell_type": "code",
   "execution_count": 166,
   "outputs": [
    {
     "data": {
      "text/plain": "131         0.000000\n160         0.000000\n350         0.000000\n521         0.000000\n581         0.000000\n            ...     \n57574      15.770082\n57620      18.520239\n57715       0.055712\n57875    2993.142800\n58717       1.448928\nName: sma_vol_sum_1d, Length: 563, dtype: float64"
     },
     "execution_count": 166,
     "metadata": {},
     "output_type": "execute_result"
    }
   ],
   "source": [
    "train_test_dataset[train_test_dataset['label'] == 'up']['sma_vol_sum_1d']\n"
   ],
   "metadata": {
    "collapsed": false,
    "ExecuteTime": {
     "end_time": "2024-01-04T21:08:33.189199Z",
     "start_time": "2024-01-04T21:08:33.174101Z"
    }
   },
   "id": "65c53e8dae31421d"
  },
  {
   "cell_type": "code",
   "execution_count": 167,
   "outputs": [
    {
     "data": {
      "text/plain": "count     563.000000\nmean       86.955292\nstd       326.070282\nmin         0.000000\n25%         0.468681\n50%         5.272146\n75%        29.619504\nmax      4643.660411\nName: sma_vol_sum_1d, dtype: float64"
     },
     "execution_count": 167,
     "metadata": {},
     "output_type": "execute_result"
    }
   ],
   "source": [
    "train_test_dataset[train_test_dataset['label'] == 'up']['sma_vol_sum_1d'].describe()"
   ],
   "metadata": {
    "collapsed": false,
    "ExecuteTime": {
     "end_time": "2024-01-04T21:08:33.686339Z",
     "start_time": "2024-01-04T21:08:33.681298Z"
    }
   },
   "id": "bd3d63b2b2a9694a"
  },
  {
   "cell_type": "code",
   "execution_count": 168,
   "outputs": [
    {
     "data": {
      "text/plain": "               time_quant                                          mint  \\\n0     2023-12-25 12:10:00  5yxNbU8DgYJZNi3mPD9rs4XLh9ckXrhPjJ5VCujUWg5H   \n1     2023-12-25 12:10:00  5z3EqYQo9HiCEs3R84RCDMu2n7anpDMxRhdK8PSWmrRC   \n2     2023-12-25 12:10:00  6VHL2vMKgrF1YQFSv29Rs1pj9VCRK29bD11NtDqerqHA   \n3     2023-12-25 12:10:00  7EYnhQoR9YM3N7UoaKRoA44Uy8JeaZV3qyouov87awMs   \n4     2023-12-25 12:10:00  7iT1GRYYhEop2nV1dyCwK2MGyLmPHq47WhPGSwiqcUg5   \n...                   ...                                           ...   \n59292 2024-01-04 08:30:00  J7UbwqWkP9bPANMQnp5rMW6SDqVfpGHeR3hyjZHMFeRR   \n59293 2024-01-04 08:30:00   Kaomdm512wqy4By5cQCnVCgWPzJ6kJYvih5xzNfzoc6   \n59294 2024-01-04 08:30:00   LFG1ezantSY2LPX8jRz2qa31pPEhpwN9msFDzZw4T9Q   \n59295 2024-01-04 08:30:00   drakduQWnTS89CdTUdgHmZzEkN6reBLYqrk8rzVhU53   \n59296 2024-01-04 08:30:00   orcaEKTdK7LKz57vaAYr9QeNsVEPfiu6QeMU1kektZE   \n\n              price  future_price label  day_of_week  hour  u_price_sma_10m  \\\n0      5.104266e-10  5.279200e-10  flat            0    12         1.000000   \n1      4.530627e-04  3.433022e-04  flat            0    12         1.000000   \n2      1.340009e-09  7.270141e-10  flat            0    12         1.000000   \n3      1.072450e-03  9.906906e-04  flat            0    12         1.000000   \n4      1.783574e-05  1.083740e-05  flat            0    12         1.000000   \n...             ...           ...   ...          ...   ...              ...   \n59292  3.540629e-07  2.871306e-07  flat            3     8         1.036836   \n59293  5.262341e-06  5.257368e-06  flat            3     8         0.886492   \n59294  2.490911e-07  2.410999e-07  flat            3     8         0.997376   \n59295  4.953665e-08  4.941008e-08  flat            3     8         0.990806   \n59296  5.789978e-02  5.622288e-02  flat            3     8         0.989486   \n\n       u_price_ema_10m  u_price_rsi_10m  ...  sma_vol_sell_1d  \\\n0             1.000000        -1.000000  ...         0.000000   \n1             1.000000        -1.000000  ...         0.000000   \n2             1.000000        -1.000000  ...         0.000000   \n3             1.000000        -1.000000  ...         0.000000   \n4             1.000000        -1.000000  ...         0.000000   \n...                ...              ...  ...              ...   \n59292         1.036614        13.215498  ...         1.713636   \n59293         0.894059       100.000000  ...       218.300043   \n59294         0.994205        48.084108  ...       525.927906   \n59295         0.994911        53.317193  ...       168.663471   \n59296         0.991466        28.670821  ...        56.329496   \n\n       ema_vol_sell_1d  sma_vol_sum_10m  ema_vol_sum_10m  sma_vol_sum_1h  \\\n0             0.000000         0.000000         0.000000        0.000000   \n1             0.000000         0.000000         0.000000        0.000000   \n2             0.000000         0.000000         0.000000        0.000000   \n3             0.000000         0.000000         0.000000        0.000000   \n4             0.000000         0.000000         0.000000        0.000000   \n...                ...              ...              ...             ...   \n59292         2.056363         0.027642         0.028413        1.986811   \n59293       361.443137         0.628572         1.173334        0.860663   \n59294       512.563982         0.530868         0.869385       19.361304   \n59295       160.005409         0.427123         0.396557        5.851702   \n59296        45.629398         1.190579         0.704095        2.615172   \n\n       ema_vol_sum_1h  sma_vol_sum_4h  ema_vol_sum_4h  sma_vol_sum_1d  \\\n0            0.000000        0.000000        0.000000        0.000000   \n1            0.000000        0.000000        0.000000        0.000000   \n2            0.000000        0.000000        0.000000        0.000000   \n3            0.000000        0.000000        0.000000        0.000000   \n4            0.000000        0.000000        0.000000        0.000000   \n...               ...             ...             ...             ...   \n59292        1.166548        1.986811        2.844165        3.090595   \n59293        1.452996        9.017664        7.599946      328.869756   \n59294       13.363410      533.195668      393.010859      877.131646   \n59295        4.860158       65.888950       61.172411      338.855175   \n59296        3.066201       11.168026       13.145396      160.216827   \n\n       ema_vol_sum_1d  \n0            0.000000  \n1            0.000000  \n2            0.000000  \n3            0.000000  \n4            0.000000  \n...               ...  \n59292        3.708714  \n59293      538.382297  \n59294      866.165569  \n59295      304.990503  \n59296      116.302120  \n\n[59297 rows x 43 columns]",
      "text/html": "<div>\n<style scoped>\n    .dataframe tbody tr th:only-of-type {\n        vertical-align: middle;\n    }\n\n    .dataframe tbody tr th {\n        vertical-align: top;\n    }\n\n    .dataframe thead th {\n        text-align: right;\n    }\n</style>\n<table border=\"1\" class=\"dataframe\">\n  <thead>\n    <tr style=\"text-align: right;\">\n      <th></th>\n      <th>time_quant</th>\n      <th>mint</th>\n      <th>price</th>\n      <th>future_price</th>\n      <th>label</th>\n      <th>day_of_week</th>\n      <th>hour</th>\n      <th>u_price_sma_10m</th>\n      <th>u_price_ema_10m</th>\n      <th>u_price_rsi_10m</th>\n      <th>...</th>\n      <th>sma_vol_sell_1d</th>\n      <th>ema_vol_sell_1d</th>\n      <th>sma_vol_sum_10m</th>\n      <th>ema_vol_sum_10m</th>\n      <th>sma_vol_sum_1h</th>\n      <th>ema_vol_sum_1h</th>\n      <th>sma_vol_sum_4h</th>\n      <th>ema_vol_sum_4h</th>\n      <th>sma_vol_sum_1d</th>\n      <th>ema_vol_sum_1d</th>\n    </tr>\n  </thead>\n  <tbody>\n    <tr>\n      <th>0</th>\n      <td>2023-12-25 12:10:00</td>\n      <td>5yxNbU8DgYJZNi3mPD9rs4XLh9ckXrhPjJ5VCujUWg5H</td>\n      <td>5.104266e-10</td>\n      <td>5.279200e-10</td>\n      <td>flat</td>\n      <td>0</td>\n      <td>12</td>\n      <td>1.000000</td>\n      <td>1.000000</td>\n      <td>-1.000000</td>\n      <td>...</td>\n      <td>0.000000</td>\n      <td>0.000000</td>\n      <td>0.000000</td>\n      <td>0.000000</td>\n      <td>0.000000</td>\n      <td>0.000000</td>\n      <td>0.000000</td>\n      <td>0.000000</td>\n      <td>0.000000</td>\n      <td>0.000000</td>\n    </tr>\n    <tr>\n      <th>1</th>\n      <td>2023-12-25 12:10:00</td>\n      <td>5z3EqYQo9HiCEs3R84RCDMu2n7anpDMxRhdK8PSWmrRC</td>\n      <td>4.530627e-04</td>\n      <td>3.433022e-04</td>\n      <td>flat</td>\n      <td>0</td>\n      <td>12</td>\n      <td>1.000000</td>\n      <td>1.000000</td>\n      <td>-1.000000</td>\n      <td>...</td>\n      <td>0.000000</td>\n      <td>0.000000</td>\n      <td>0.000000</td>\n      <td>0.000000</td>\n      <td>0.000000</td>\n      <td>0.000000</td>\n      <td>0.000000</td>\n      <td>0.000000</td>\n      <td>0.000000</td>\n      <td>0.000000</td>\n    </tr>\n    <tr>\n      <th>2</th>\n      <td>2023-12-25 12:10:00</td>\n      <td>6VHL2vMKgrF1YQFSv29Rs1pj9VCRK29bD11NtDqerqHA</td>\n      <td>1.340009e-09</td>\n      <td>7.270141e-10</td>\n      <td>flat</td>\n      <td>0</td>\n      <td>12</td>\n      <td>1.000000</td>\n      <td>1.000000</td>\n      <td>-1.000000</td>\n      <td>...</td>\n      <td>0.000000</td>\n      <td>0.000000</td>\n      <td>0.000000</td>\n      <td>0.000000</td>\n      <td>0.000000</td>\n      <td>0.000000</td>\n      <td>0.000000</td>\n      <td>0.000000</td>\n      <td>0.000000</td>\n      <td>0.000000</td>\n    </tr>\n    <tr>\n      <th>3</th>\n      <td>2023-12-25 12:10:00</td>\n      <td>7EYnhQoR9YM3N7UoaKRoA44Uy8JeaZV3qyouov87awMs</td>\n      <td>1.072450e-03</td>\n      <td>9.906906e-04</td>\n      <td>flat</td>\n      <td>0</td>\n      <td>12</td>\n      <td>1.000000</td>\n      <td>1.000000</td>\n      <td>-1.000000</td>\n      <td>...</td>\n      <td>0.000000</td>\n      <td>0.000000</td>\n      <td>0.000000</td>\n      <td>0.000000</td>\n      <td>0.000000</td>\n      <td>0.000000</td>\n      <td>0.000000</td>\n      <td>0.000000</td>\n      <td>0.000000</td>\n      <td>0.000000</td>\n    </tr>\n    <tr>\n      <th>4</th>\n      <td>2023-12-25 12:10:00</td>\n      <td>7iT1GRYYhEop2nV1dyCwK2MGyLmPHq47WhPGSwiqcUg5</td>\n      <td>1.783574e-05</td>\n      <td>1.083740e-05</td>\n      <td>flat</td>\n      <td>0</td>\n      <td>12</td>\n      <td>1.000000</td>\n      <td>1.000000</td>\n      <td>-1.000000</td>\n      <td>...</td>\n      <td>0.000000</td>\n      <td>0.000000</td>\n      <td>0.000000</td>\n      <td>0.000000</td>\n      <td>0.000000</td>\n      <td>0.000000</td>\n      <td>0.000000</td>\n      <td>0.000000</td>\n      <td>0.000000</td>\n      <td>0.000000</td>\n    </tr>\n    <tr>\n      <th>...</th>\n      <td>...</td>\n      <td>...</td>\n      <td>...</td>\n      <td>...</td>\n      <td>...</td>\n      <td>...</td>\n      <td>...</td>\n      <td>...</td>\n      <td>...</td>\n      <td>...</td>\n      <td>...</td>\n      <td>...</td>\n      <td>...</td>\n      <td>...</td>\n      <td>...</td>\n      <td>...</td>\n      <td>...</td>\n      <td>...</td>\n      <td>...</td>\n      <td>...</td>\n      <td>...</td>\n    </tr>\n    <tr>\n      <th>59292</th>\n      <td>2024-01-04 08:30:00</td>\n      <td>J7UbwqWkP9bPANMQnp5rMW6SDqVfpGHeR3hyjZHMFeRR</td>\n      <td>3.540629e-07</td>\n      <td>2.871306e-07</td>\n      <td>flat</td>\n      <td>3</td>\n      <td>8</td>\n      <td>1.036836</td>\n      <td>1.036614</td>\n      <td>13.215498</td>\n      <td>...</td>\n      <td>1.713636</td>\n      <td>2.056363</td>\n      <td>0.027642</td>\n      <td>0.028413</td>\n      <td>1.986811</td>\n      <td>1.166548</td>\n      <td>1.986811</td>\n      <td>2.844165</td>\n      <td>3.090595</td>\n      <td>3.708714</td>\n    </tr>\n    <tr>\n      <th>59293</th>\n      <td>2024-01-04 08:30:00</td>\n      <td>Kaomdm512wqy4By5cQCnVCgWPzJ6kJYvih5xzNfzoc6</td>\n      <td>5.262341e-06</td>\n      <td>5.257368e-06</td>\n      <td>flat</td>\n      <td>3</td>\n      <td>8</td>\n      <td>0.886492</td>\n      <td>0.894059</td>\n      <td>100.000000</td>\n      <td>...</td>\n      <td>218.300043</td>\n      <td>361.443137</td>\n      <td>0.628572</td>\n      <td>1.173334</td>\n      <td>0.860663</td>\n      <td>1.452996</td>\n      <td>9.017664</td>\n      <td>7.599946</td>\n      <td>328.869756</td>\n      <td>538.382297</td>\n    </tr>\n    <tr>\n      <th>59294</th>\n      <td>2024-01-04 08:30:00</td>\n      <td>LFG1ezantSY2LPX8jRz2qa31pPEhpwN9msFDzZw4T9Q</td>\n      <td>2.490911e-07</td>\n      <td>2.410999e-07</td>\n      <td>flat</td>\n      <td>3</td>\n      <td>8</td>\n      <td>0.997376</td>\n      <td>0.994205</td>\n      <td>48.084108</td>\n      <td>...</td>\n      <td>525.927906</td>\n      <td>512.563982</td>\n      <td>0.530868</td>\n      <td>0.869385</td>\n      <td>19.361304</td>\n      <td>13.363410</td>\n      <td>533.195668</td>\n      <td>393.010859</td>\n      <td>877.131646</td>\n      <td>866.165569</td>\n    </tr>\n    <tr>\n      <th>59295</th>\n      <td>2024-01-04 08:30:00</td>\n      <td>drakduQWnTS89CdTUdgHmZzEkN6reBLYqrk8rzVhU53</td>\n      <td>4.953665e-08</td>\n      <td>4.941008e-08</td>\n      <td>flat</td>\n      <td>3</td>\n      <td>8</td>\n      <td>0.990806</td>\n      <td>0.994911</td>\n      <td>53.317193</td>\n      <td>...</td>\n      <td>168.663471</td>\n      <td>160.005409</td>\n      <td>0.427123</td>\n      <td>0.396557</td>\n      <td>5.851702</td>\n      <td>4.860158</td>\n      <td>65.888950</td>\n      <td>61.172411</td>\n      <td>338.855175</td>\n      <td>304.990503</td>\n    </tr>\n    <tr>\n      <th>59296</th>\n      <td>2024-01-04 08:30:00</td>\n      <td>orcaEKTdK7LKz57vaAYr9QeNsVEPfiu6QeMU1kektZE</td>\n      <td>5.789978e-02</td>\n      <td>5.622288e-02</td>\n      <td>flat</td>\n      <td>3</td>\n      <td>8</td>\n      <td>0.989486</td>\n      <td>0.991466</td>\n      <td>28.670821</td>\n      <td>...</td>\n      <td>56.329496</td>\n      <td>45.629398</td>\n      <td>1.190579</td>\n      <td>0.704095</td>\n      <td>2.615172</td>\n      <td>3.066201</td>\n      <td>11.168026</td>\n      <td>13.145396</td>\n      <td>160.216827</td>\n      <td>116.302120</td>\n    </tr>\n  </tbody>\n</table>\n<p>59297 rows × 43 columns</p>\n</div>"
     },
     "execution_count": 168,
     "metadata": {},
     "output_type": "execute_result"
    }
   ],
   "source": [
    "train_test_dataset"
   ],
   "metadata": {
    "collapsed": false,
    "ExecuteTime": {
     "end_time": "2024-01-04T21:08:34.298401Z",
     "start_time": "2024-01-04T21:08:34.262364Z"
    }
   },
   "id": "ab86e197b0b04654"
  },
  {
   "cell_type": "code",
   "execution_count": 169,
   "outputs": [
    {
     "name": "stdout",
     "output_type": "stream",
     "text": [
      "feature_names: ['day_of_week', 'hour', 'u_price_sma_10m', 'u_price_ema_10m', 'u_price_rsi_10m', 'u_price_sma_1h', 'u_price_ema_1h', 'u_price_rsi_1h', 'u_price_sma_4h', 'u_price_ema_4h', 'u_price_rsi_4h', 'u_price_sma_1d', 'u_price_ema_1d', 'u_price_rsi_1d', 'sma_vol_buy_10m', 'ema_vol_buy_10m', 'sma_vol_buy_1h', 'ema_vol_buy_1h', 'sma_vol_buy_4h', 'ema_vol_buy_4h', 'sma_vol_buy_1d', 'ema_vol_buy_1d', 'sma_vol_sell_10m', 'ema_vol_sell_10m', 'sma_vol_sell_1h', 'ema_vol_sell_1h', 'sma_vol_sell_4h', 'ema_vol_sell_4h', 'sma_vol_sell_1d', 'ema_vol_sell_1d', 'sma_vol_sum_10m', 'ema_vol_sum_10m', 'sma_vol_sum_1h', 'ema_vol_sum_1h', 'sma_vol_sum_4h', 'ema_vol_sum_4h', 'sma_vol_sum_1d', 'ema_vol_sum_1d']\n"
     ]
    }
   ],
   "source": [
    "column_names = list(train_test_dataset.columns)\n",
    "# feature names start after 'label'\n",
    "label_index = column_names.index('label')\n",
    "feature_names = column_names[label_index+1:]\n",
    "print(f\"feature_names: {feature_names}\")"
   ],
   "metadata": {
    "collapsed": false,
    "ExecuteTime": {
     "end_time": "2024-01-04T21:08:35.474516Z",
     "start_time": "2024-01-04T21:08:35.471154Z"
    }
   },
   "id": "34b9df2488215da7"
  },
  {
   "cell_type": "code",
   "execution_count": 170,
   "outputs": [
    {
     "name": "stdout",
     "output_type": "stream",
     "text": [
      "train_start 2023-12-25 12:10:00, train_end 2023-12-31 15:52:30, test_start 2024-01-01 03:52:30, test_end 2024-01-02 09:25:00\n",
      "train_data (34915) quants from 2023-12-25 12:10:00 to 2023-12-31 15:50:00\n",
      "test_data (7717) quants from 2024-01-01 04:00:00 to 2024-01-02 09:20:00\n",
      "train_start 2023-12-25 12:10:00, train_end 2024-01-01 21:25:00, test_start 2024-01-02 09:25:00, test_end 2024-01-03 14:57:30\n",
      "train_data (42600) quants from 2023-12-25 12:10:00 to 2024-01-01 21:20:00\n",
      "test_data (8049) quants from 2024-01-02 09:30:00 to 2024-01-03 14:50:00\n",
      "train_start 2023-12-25 12:10:00, train_end 2024-01-03 02:57:30, test_start 2024-01-03 14:57:30, test_end 2024-01-04 20:30:00\n",
      "train_data (50360) quants from 2023-12-25 12:10:00 to 2024-01-03 02:50:00\n",
      "test_data (5425) quants from 2024-01-03 15:00:00 to 2024-01-04 08:30:00\n"
     ]
    }
   ],
   "source": [
    "import pandas as pd\n",
    "from catboost import CatBoostClassifier, Pool\n",
    "from sklearn.model_selection import TimeSeriesSplit\n",
    "from sklearn.metrics import confusion_matrix\n",
    "import matplotlib.pyplot as plt\n",
    "import seaborn as sns\n",
    "\n",
    "# Convert 'mint' to a categorical feature\n",
    "# train_test_dataset['mint'] = train_test_dataset['mint'].astype('category')\n",
    "\n",
    "# Define features and target\n",
    "# feature_names = ['mint', 'hour', 'trades', 'token_volume', 'sol_volume', 'price'] + list(features.columns[2:])\n",
    "# cat_feature_names = ['mint']\n",
    "# feature_names = ['trades', 'token_volume', 'sol_volume', 'price'] + list(features.columns[2:])\n",
    "cat_feature_names = []\n",
    "target = 'label'\n",
    "\n",
    "# Initialize CatBoost Classifier\n",
    "model = CatBoostClassifier(loss_function='MultiClass', verbose=False)\n",
    "\n",
    "# TimeSeriesSplit for cross-validation\n",
    "nsplits = 3\n",
    "\n",
    "# To store predictions and actuals\n",
    "actuals = []\n",
    "raw_predictions = []\n",
    "up_probabilities = []\n",
    "down_probabilities = []\n",
    "details_df = pd.DataFrame() \n",
    "train_len = 0\n",
    "up_train_len = 0\n",
    "\n",
    "def split_tscv(ordered_df, nsplits):\n",
    "    min_quant = ordered_df['time_quant'].min()\n",
    "    max_quant = ordered_df['time_quant'].max()\n",
    "    range_quant = (max_quant - min_quant) / (nsplits + 1) / 2\n",
    "    for i in range(nsplits):\n",
    "        train_start = min_quant \n",
    "        train_end = min_quant + (i + 1) * range_quant + (max_quant - min_quant) / 2\n",
    "        test_start = train_end + PREDICTION_TIMEDELTA\n",
    "        test_end = test_start + range_quant\n",
    "        print(f'train_start {train_start}, train_end {train_end}, test_start {test_start}, test_end {test_end}')\n",
    "        train_df = ordered_df[(ordered_df['time_quant'] >= train_start) & (ordered_df['time_quant'] < train_end)]\n",
    "        test_df = ordered_df[(ordered_df['time_quant'] >= test_start) & (ordered_df['time_quant'] < test_end)]\n",
    "        yield train_df, test_df\n",
    "    \n",
    "    \n",
    "split_tscv(train_test_dataset, nsplits)\n",
    "\n",
    "for train_data, test_data in split_tscv(train_test_dataset, nsplits):\n",
    "    print(f'train_data ({len(train_data)}) quants from {min(train_data[\"time_quant\"])} to {max(train_data[\"time_quant\"])}')\n",
    "    if len(test_data) == 0:\n",
    "        print(f'No data left for test data')\n",
    "        break\n",
    "    print(f'test_data ({len(test_data)}) quants from {min(test_data[\"time_quant\"])} to {max(test_data[\"time_quant\"])}')\n",
    "\n",
    "    train_len += len(train_data)\n",
    "    up_train_len += len(train_data[train_data[target] == 'up'])\n",
    "\n",
    "    # Create Pool\n",
    "    train_pool = Pool(data=train_data[feature_names], label=train_data[target], cat_features=cat_feature_names)\n",
    "    test_pool = Pool(data=test_data[feature_names], label=test_data[target], cat_features=cat_feature_names)\n",
    "\n",
    "    # Train model\n",
    "    model.fit(train_pool)\n",
    "\n",
    "    # Predict\n",
    "    classes = model.classes_\n",
    "    probs = model.predict_proba(test_pool)\n",
    "    classes_to_index = {c: i for i, c in enumerate(classes)}\n",
    "    \n",
    "    for probs_row in probs:\n",
    "        raw_predictions.append(classes[probs_row.argmax()])\n",
    "        up_probabilities.append(probs_row[classes_to_index['up']])\n",
    "        down_probabilities.append(probs_row[classes_to_index['down']])\n",
    "\n",
    "    actuals.extend(test_data[target].values)\n",
    "    if len(details_df) == 0:\n",
    "        details_df = test_data\n",
    "    else:\n",
    "        details_df = pd.concat([details_df, test_data])\n",
    "    \n"
   ],
   "metadata": {
    "collapsed": false,
    "ExecuteTime": {
     "end_time": "2024-01-04T21:09:02.522095Z",
     "start_time": "2024-01-04T21:08:37.131373Z"
    }
   },
   "id": "62eb4dc2618fa53e"
  },
  {
   "cell_type": "code",
   "execution_count": 179,
   "outputs": [
    {
     "name": "stdout",
     "output_type": "stream",
     "text": [
      "desired_up_amount: 18 of 220\n",
      "up_threshold: 0.20070965763155785\n",
      "pred len 21191, actuals len 21191, comparison_df len 21191, details len 21191, results_df len 21191\n",
      "Confusion Matrix:\n",
      "       up   flat  down\n",
      "up     1    205    14\n",
      "flat  15  19506   390\n",
      "down   3    738   319\n",
      "ROI1: 100.00% of 100%\n",
      "ROI2: 21.05% of 100%\n",
      "Bench ROI2: 4.15% of 100%\n",
      "Used: 0.09% (19 of 21191 trades)\n",
      "\n",
      "purchased upsides: 1.2146299973120793, top 10 upsides ['4', '3', '3', '2', '1', '1', '1', '1', '1', '1']\n",
      "all upsides: 1.020966926162465, top 10 upsides ['61', '59', '37', '34', '30', '29', '28', '27', '26', '24']\n"
     ]
    }
   ],
   "source": [
    "import numpy as np\n",
    "\n",
    "desired_up_amount = int(up_train_len * 1. / train_len * len(actuals) * 0.1)\n",
    "print(f\"desired_up_amount: {desired_up_amount} of {actuals.count('up')}\")\n",
    "\n",
    "delta_probabilities = list(np.array(up_probabilities) - np.array(down_probabilities) / CHANGE_MAGNITUDE)\n",
    "\n",
    "up_threshold = sorted(delta_probabilities, reverse=True)[desired_up_amount]\n",
    "print(f\"up_threshold: {up_threshold}\")\n",
    "\n",
    "predictions = []\n",
    "for raw_pred, up_prob in zip(raw_predictions, delta_probabilities):\n",
    "    if up_prob < up_threshold:\n",
    "        predictions.append(raw_pred if raw_pred != 'up' else 'flat')\n",
    "    else:\n",
    "        predictions.append('up')\n",
    "\n",
    "# Confusion Matrix\n",
    "conf_matrix = confusion_matrix(actuals, predictions, labels=['up', 'flat', 'down'])\n",
    "conf_matrix_df = pd.DataFrame(conf_matrix, index=['up', 'flat', 'down'], columns=['up', 'flat', 'down'])\n",
    "\n",
    "# Last iteration's predictions and actuals\n",
    "comparison_df = pd.DataFrame({'Actual': actuals, 'Predicted': predictions, 'UpP': up_probabilities, 'DownP': down_probabilities})\n",
    "# comparison_df = comparison_df.reset_index(drop=True)\n",
    "\n",
    "# add details to results_df\n",
    "results_df = pd.concat([comparison_df.reset_index(drop=True), details_df.reset_index(drop=True)], axis=1)\n",
    "print(f\"pred len {len(predictions)}, actuals len {len(actuals)}, \"\n",
    "      f\"comparison_df len {len(comparison_df)}, details len {len(details_df)}, results_df len {len(results_df)}\")\n",
    "\n",
    "#join prices to results_df\n",
    "# results_df = results_df.join(prices[['mint', 'hour', 'price'+prediction_type['suffix']]].set_index(['mint', 'hour']), on=['mint', 'hour'])\n",
    "results_df['upside'] = results_df['future_price'] / results_df['price']\n",
    "# if price is inf, set upside to 0\n",
    "results_df['upside'] = results_df['upside'].replace([np.inf, -np.inf], 1)\n",
    "\n",
    "purchased_upsides = results_df[(results_df['Predicted']=='up')]['upside']\n",
    "all_upsides = results_df['upside']\n",
    "\n",
    "\n",
    "# Output\n",
    "print(\"Confusion Matrix:\\n\", conf_matrix_df)\n",
    "print(\"ROI1: %.2f%% of 100%%\\n\"\n",
    "      \"ROI2: %.2f%% of 100%%\\n\"\n",
    "      \"Bench ROI2: %.2f%% of 100%%\\n\"\n",
    "      \"Used: %.2f%% (%d of %d trades)\\n\"\n",
    "      %(\n",
    "        (100 * (CHANGE_MAGNITUDE * 1. * conf_matrix_df.loc['up', 'up'].sum() + conf_matrix_df.loc['flat', 'up'].sum()) / conf_matrix_df.loc[:, 'up'].sum()),\n",
    "        (100 * (CHANGE_MAGNITUDE * 1. * conf_matrix_df.loc['up', 'up'].sum()) / conf_matrix_df.loc[:, 'up'].sum()),\n",
    "        (100 * (CHANGE_MAGNITUDE * 1. * conf_matrix_df.loc['up', :].sum()) / conf_matrix_df.loc[:, :].sum().sum()),\n",
    "        (100 * (1. * conf_matrix_df.loc[:, 'up'].sum()) / conf_matrix_df.loc[:, :].sum().sum()),\n",
    "        conf_matrix_df.loc[:, 'up'].sum(),\n",
    "        conf_matrix_df.loc[:, :].sum().sum(),\n",
    "      )\n",
    "      )\n",
    "print(f'purchased upsides: {purchased_upsides.mean()}, top 10 upsides {[\"%.0f\" % u for u in list(purchased_upsides.sort_values(ascending=False).head(10))]}')\n",
    "print(f'all upsides: {all_upsides.mean()}, top 10 upsides {[\"%.0f\" % u for u in list(all_upsides.sort_values(ascending=False).head(10))]}')"
   ],
   "metadata": {
    "collapsed": false,
    "ExecuteTime": {
     "end_time": "2024-01-04T21:13:46.583153Z",
     "start_time": "2024-01-04T21:13:46.527630Z"
    }
   },
   "id": "fef1b11c7c2205ff"
  },
  {
   "cell_type": "code",
   "execution_count": 148,
   "outputs": [
    {
     "name": "stdout",
     "output_type": "stream",
     "text": [
      "Confusion Matrix:\n",
      "       up   flat  down\n",
      "up     1    177     7\n",
      "flat   6  12220   317\n",
      "down   0    467   117\n",
      "ROI1: 142.86% of 100%\n",
      "ROI2: 57.14% of 100%\n",
      "Bench ROI2: 5.56% of 100%\n",
      "Used: 0.05% (7 of 13312 trades)\n",
      "\n",
      "purchased upsides: 2.1825147665544393, top 10 upsides ['8', '3', '1', '1', '1', '1', '0']\n",
      "all upsides: 1.0727359955395337, top 10 upsides ['61', '59', '37', '34', '28', '27', '26', '24', '23', '22']\n"
     ]
    }
   ],
   "source": [
    "print(\"Confusion Matrix:\\n\", conf_matrix_df)\n",
    "print(\"ROI1: %.2f%% of 100%%\\n\"\n",
    "      \"ROI2: %.2f%% of 100%%\\n\"\n",
    "      \"Bench ROI2: %.2f%% of 100%%\\n\"\n",
    "      \"Used: %.2f%% (%d of %d trades)\\n\"\n",
    "      %(\n",
    "        (100 * (CHANGE_MAGNITUDE * 1. * conf_matrix_df.loc['up', 'up'].sum() + conf_matrix_df.loc['flat', 'up'].sum()) / conf_matrix_df.loc[:, 'up'].sum()),\n",
    "        (100 * (CHANGE_MAGNITUDE * 1. * conf_matrix_df.loc['up', 'up'].sum()) / conf_matrix_df.loc[:, 'up'].sum()),\n",
    "        (100 * (CHANGE_MAGNITUDE * 1. * conf_matrix_df.loc['up', :].sum()) / conf_matrix_df.loc[:, :].sum().sum()),\n",
    "        (100 * (1. * conf_matrix_df.loc[:, 'up'].sum()) / conf_matrix_df.loc[:, :].sum().sum()),\n",
    "        conf_matrix_df.loc[:, 'up'].sum(),\n",
    "        conf_matrix_df.loc[:, :].sum().sum(),\n",
    "      )\n",
    "      )\n",
    "print(f'purchased upsides: {purchased_upsides.mean()}, top 10 upsides {[\"%.0f\" % u for u in list(purchased_upsides.sort_values(ascending=False).head(10))]}')\n",
    "print(f'all upsides: {all_upsides.mean()}, top 10 upsides {[\"%.0f\" % u for u in list(all_upsides.sort_values(ascending=False).head(10))]}')"
   ],
   "metadata": {
    "collapsed": false,
    "ExecuteTime": {
     "end_time": "2024-01-04T13:18:09.189084Z",
     "start_time": "2024-01-04T13:18:09.179280Z"
    }
   },
   "id": "94a5c8e242f78fdf"
  },
  {
   "cell_type": "code",
   "execution_count": 149,
   "outputs": [
    {
     "data": {
      "text/plain": "          Feature Id  Importances\n0               hour     9.881167\n1        day_of_week     7.569058\n2     u_price_sma_1d     5.752357\n3    u_price_rsi_10m     4.463118\n4     u_price_sma_4h     3.730117\n5     u_price_ema_4h     3.595021\n6    ema_vol_sell_1d     3.519835\n7     ema_vol_buy_1d     2.925812\n8    sma_vol_sell_1d     2.821183\n9    sma_vol_buy_10m     2.722585\n10   sma_vol_sell_4h     2.692975\n11    sma_vol_buy_4h     2.558520\n12    ema_vol_buy_4h     2.534701\n13  ema_vol_sell_10m     2.365194\n14    ema_vol_buy_1h     2.213641\n15    u_price_sma_1h     2.196773\n16   u_price_sma_10m     2.190443\n17    u_price_rsi_1h     2.179450\n18   ema_vol_buy_10m     2.086464\n19    ema_vol_sum_1d     2.065968\n20    u_price_ema_1d     2.041173\n21   u_price_ema_10m     2.027198\n22    u_price_ema_1h     2.011711\n23  sma_vol_sell_10m     1.998346\n24   sma_vol_sell_1h     1.985643\n25   ema_vol_sell_1h     1.937716\n26    sma_vol_buy_1h     1.839377\n27    sma_vol_buy_1d     1.821578\n28    u_price_rsi_4h     1.815573\n29   ema_vol_sell_4h     1.699734\n30   sma_vol_sum_10m     1.614139\n31    sma_vol_sum_1d     1.555010\n32    sma_vol_sum_1h     1.497012\n33    ema_vol_sum_4h     1.414515\n34    sma_vol_sum_4h     1.364833\n35    ema_vol_sum_1h     1.222192\n36   ema_vol_sum_10m     1.210620\n37    u_price_rsi_1d     0.879249",
      "text/html": "<div>\n<style scoped>\n    .dataframe tbody tr th:only-of-type {\n        vertical-align: middle;\n    }\n\n    .dataframe tbody tr th {\n        vertical-align: top;\n    }\n\n    .dataframe thead th {\n        text-align: right;\n    }\n</style>\n<table border=\"1\" class=\"dataframe\">\n  <thead>\n    <tr style=\"text-align: right;\">\n      <th></th>\n      <th>Feature Id</th>\n      <th>Importances</th>\n    </tr>\n  </thead>\n  <tbody>\n    <tr>\n      <th>0</th>\n      <td>hour</td>\n      <td>9.881167</td>\n    </tr>\n    <tr>\n      <th>1</th>\n      <td>day_of_week</td>\n      <td>7.569058</td>\n    </tr>\n    <tr>\n      <th>2</th>\n      <td>u_price_sma_1d</td>\n      <td>5.752357</td>\n    </tr>\n    <tr>\n      <th>3</th>\n      <td>u_price_rsi_10m</td>\n      <td>4.463118</td>\n    </tr>\n    <tr>\n      <th>4</th>\n      <td>u_price_sma_4h</td>\n      <td>3.730117</td>\n    </tr>\n    <tr>\n      <th>5</th>\n      <td>u_price_ema_4h</td>\n      <td>3.595021</td>\n    </tr>\n    <tr>\n      <th>6</th>\n      <td>ema_vol_sell_1d</td>\n      <td>3.519835</td>\n    </tr>\n    <tr>\n      <th>7</th>\n      <td>ema_vol_buy_1d</td>\n      <td>2.925812</td>\n    </tr>\n    <tr>\n      <th>8</th>\n      <td>sma_vol_sell_1d</td>\n      <td>2.821183</td>\n    </tr>\n    <tr>\n      <th>9</th>\n      <td>sma_vol_buy_10m</td>\n      <td>2.722585</td>\n    </tr>\n    <tr>\n      <th>10</th>\n      <td>sma_vol_sell_4h</td>\n      <td>2.692975</td>\n    </tr>\n    <tr>\n      <th>11</th>\n      <td>sma_vol_buy_4h</td>\n      <td>2.558520</td>\n    </tr>\n    <tr>\n      <th>12</th>\n      <td>ema_vol_buy_4h</td>\n      <td>2.534701</td>\n    </tr>\n    <tr>\n      <th>13</th>\n      <td>ema_vol_sell_10m</td>\n      <td>2.365194</td>\n    </tr>\n    <tr>\n      <th>14</th>\n      <td>ema_vol_buy_1h</td>\n      <td>2.213641</td>\n    </tr>\n    <tr>\n      <th>15</th>\n      <td>u_price_sma_1h</td>\n      <td>2.196773</td>\n    </tr>\n    <tr>\n      <th>16</th>\n      <td>u_price_sma_10m</td>\n      <td>2.190443</td>\n    </tr>\n    <tr>\n      <th>17</th>\n      <td>u_price_rsi_1h</td>\n      <td>2.179450</td>\n    </tr>\n    <tr>\n      <th>18</th>\n      <td>ema_vol_buy_10m</td>\n      <td>2.086464</td>\n    </tr>\n    <tr>\n      <th>19</th>\n      <td>ema_vol_sum_1d</td>\n      <td>2.065968</td>\n    </tr>\n    <tr>\n      <th>20</th>\n      <td>u_price_ema_1d</td>\n      <td>2.041173</td>\n    </tr>\n    <tr>\n      <th>21</th>\n      <td>u_price_ema_10m</td>\n      <td>2.027198</td>\n    </tr>\n    <tr>\n      <th>22</th>\n      <td>u_price_ema_1h</td>\n      <td>2.011711</td>\n    </tr>\n    <tr>\n      <th>23</th>\n      <td>sma_vol_sell_10m</td>\n      <td>1.998346</td>\n    </tr>\n    <tr>\n      <th>24</th>\n      <td>sma_vol_sell_1h</td>\n      <td>1.985643</td>\n    </tr>\n    <tr>\n      <th>25</th>\n      <td>ema_vol_sell_1h</td>\n      <td>1.937716</td>\n    </tr>\n    <tr>\n      <th>26</th>\n      <td>sma_vol_buy_1h</td>\n      <td>1.839377</td>\n    </tr>\n    <tr>\n      <th>27</th>\n      <td>sma_vol_buy_1d</td>\n      <td>1.821578</td>\n    </tr>\n    <tr>\n      <th>28</th>\n      <td>u_price_rsi_4h</td>\n      <td>1.815573</td>\n    </tr>\n    <tr>\n      <th>29</th>\n      <td>ema_vol_sell_4h</td>\n      <td>1.699734</td>\n    </tr>\n    <tr>\n      <th>30</th>\n      <td>sma_vol_sum_10m</td>\n      <td>1.614139</td>\n    </tr>\n    <tr>\n      <th>31</th>\n      <td>sma_vol_sum_1d</td>\n      <td>1.555010</td>\n    </tr>\n    <tr>\n      <th>32</th>\n      <td>sma_vol_sum_1h</td>\n      <td>1.497012</td>\n    </tr>\n    <tr>\n      <th>33</th>\n      <td>ema_vol_sum_4h</td>\n      <td>1.414515</td>\n    </tr>\n    <tr>\n      <th>34</th>\n      <td>sma_vol_sum_4h</td>\n      <td>1.364833</td>\n    </tr>\n    <tr>\n      <th>35</th>\n      <td>ema_vol_sum_1h</td>\n      <td>1.222192</td>\n    </tr>\n    <tr>\n      <th>36</th>\n      <td>ema_vol_sum_10m</td>\n      <td>1.210620</td>\n    </tr>\n    <tr>\n      <th>37</th>\n      <td>u_price_rsi_1d</td>\n      <td>0.879249</td>\n    </tr>\n  </tbody>\n</table>\n</div>"
     },
     "execution_count": 149,
     "metadata": {},
     "output_type": "execute_result"
    }
   ],
   "source": [
    "# feature importance\n",
    "model.get_feature_importance(prettified=True)"
   ],
   "metadata": {
    "collapsed": false,
    "ExecuteTime": {
     "end_time": "2024-01-04T13:18:09.832898Z",
     "start_time": "2024-01-04T13:18:09.823649Z"
    }
   },
   "id": "aa3a8642a70c940b"
  },
  {
   "cell_type": "code",
   "execution_count": 150,
   "outputs": [
    {
     "data": {
      "text/plain": "                                              mint          time_quant  \\\n4778  14JnYcbAooDAZVb72DgmFGVZGDon5Ko4SN6ELrpU6ood 2024-01-02 18:10:00   \n\n             price  future_price    upside  \n4778  5.193299e-08  4.220040e-07  8.125933  ",
      "text/html": "<div>\n<style scoped>\n    .dataframe tbody tr th:only-of-type {\n        vertical-align: middle;\n    }\n\n    .dataframe tbody tr th {\n        vertical-align: top;\n    }\n\n    .dataframe thead th {\n        text-align: right;\n    }\n</style>\n<table border=\"1\" class=\"dataframe\">\n  <thead>\n    <tr style=\"text-align: right;\">\n      <th></th>\n      <th>mint</th>\n      <th>time_quant</th>\n      <th>price</th>\n      <th>future_price</th>\n      <th>upside</th>\n    </tr>\n  </thead>\n  <tbody>\n    <tr>\n      <th>4778</th>\n      <td>14JnYcbAooDAZVb72DgmFGVZGDon5Ko4SN6ELrpU6ood</td>\n      <td>2024-01-02 18:10:00</td>\n      <td>5.193299e-08</td>\n      <td>4.220040e-07</td>\n      <td>8.125933</td>\n    </tr>\n  </tbody>\n</table>\n</div>"
     },
     "execution_count": 150,
     "metadata": {},
     "output_type": "execute_result"
    }
   ],
   "source": [
    "# what was guessed correctly\n",
    "guessed = results_df[(results_df['Actual']=='up') & (results_df['Predicted']=='up')].sort_values(by=['time_quant', 'mint'], ascending=False)\n",
    "guessed[['mint', 'time_quant', 'price', 'future_price', 'upside']]"
   ],
   "metadata": {
    "collapsed": false,
    "ExecuteTime": {
     "end_time": "2024-01-04T13:18:11.341677Z",
     "start_time": "2024-01-04T13:18:11.331700Z"
    }
   },
   "id": "610d77d03127299e"
  },
  {
   "cell_type": "code",
   "execution_count": 151,
   "outputs": [
    {
     "data": {
      "text/plain": "count                                                1\nunique                                               1\ntop       14JnYcbAooDAZVb72DgmFGVZGDon5Ko4SN6ELrpU6ood\nfreq                                                 1\nName: mint, dtype: object"
     },
     "execution_count": 151,
     "metadata": {},
     "output_type": "execute_result"
    }
   ],
   "source": [
    "guessed.mint.describe()"
   ],
   "metadata": {
    "collapsed": false,
    "ExecuteTime": {
     "end_time": "2024-01-04T13:18:12.134111Z",
     "start_time": "2024-01-04T13:18:12.125494Z"
    }
   },
   "id": "eb5aa523d3a36f3b"
  },
  {
   "cell_type": "code",
   "execution_count": 180,
   "outputs": [
    {
     "data": {
      "text/plain": "            UpP     DownP                                          mint  \\\n20708  0.251378  0.064995  DH9CFyU13rGKdR6ohWkS7THfSQqetSBqnXFCzt93iqr7   \n19656  0.314780  0.100448  4iW2iF7vvPdcscxwTG8KXUZMQtvAYjXbts1SsBYQEiWX   \n19595  0.249692  0.013236  2g4o5LLBFr2JHjwLveRFA8aeaHiX4qTjCmmcSBZCqEGa   \n19501  0.277345  0.174813  4iW2iF7vvPdcscxwTG8KXUZMQtvAYjXbts1SsBYQEiWX   \n19140  0.506324  0.019642  Gar8ZEd1Mb7RAXitzpSH6bdsTM2pfWMEffjzoY3ywxZM   \n18413  0.207956  0.018334  J7UbwqWkP9bPANMQnp5rMW6SDqVfpGHeR3hyjZHMFeRR   \n17749  0.511942  0.251415  63ghEAM2EqPsb6xH5xsjWuCnwfTnrjBfePi2fjf4iQ5M   \n17627  0.379104  0.205717  63ghEAM2EqPsb6xH5xsjWuCnwfTnrjBfePi2fjf4iQ5M   \n17570  0.365603  0.206295  63ghEAM2EqPsb6xH5xsjWuCnwfTnrjBfePi2fjf4iQ5M   \n17471  0.290823  0.113515  D4yezxg28WEs4aM9snwDHSfWbqKUvPdrXBDUKwZ4TXLc   \n16682  0.369200  0.017808  8J8xnvvBHNiYfmLrFbsFmthjeQ4qYG4R5Q9JMK4AUrm4   \n16650  0.403075  0.088276  GEP33ZvdNjXL8hoyjuyq2MEtoPrvsz8XC121K3SjfuCN   \n16586  0.271939  0.126560  AxBe661F8tstJ2NDfuzUZRv2SLGvLSND7JcP6nC3MDuN   \n16487  0.315364  0.140781  79YcRKcdjddA61u5z8bfmzLtSAwPSnWjGGAsNhXNmxM8   \n16393  0.295016  0.327389  9kTeYpungrrJo5arzpXfkMQHvQ8otA2rVoC73FxYeTic   \n7636   0.202716  0.008023  GACxkcy9WDWHhB15oKLHp3PPzQV4zLt2m7dcGPoZLkZY   \n6360   0.243628  0.000432  Db8GSoyUCiCn2UftXUWDNHC7guCTKw5f6LQ7gcVWhAMn   \n5473   0.366027  0.389706  9HKpR3KPUdcBdJZz8kjDYRiS3Y9aTEEAbwyPypKnrcv6   \n2337   0.348577  0.479134  6h1NzvbFyW587EhGvaEg3NMTstPWCrpMtAtukJVLTyuA   \n\n               time_quant         price  future_price    upside  \\\n20708 2024-01-04 06:50:00  1.618195e-06  2.722387e-06  1.682360   \n19656 2024-01-04 03:20:00  4.091213e-10  3.967467e-10  0.969753   \n19595 2024-01-04 03:10:00  9.681165e-07  2.775243e-06  2.866642   \n19501 2024-01-04 02:50:00  3.656760e-10  3.967467e-10  1.084968   \n19140 2024-01-04 01:30:00  9.215441e-07  2.931964e-06  3.181577   \n18413 2024-01-03 23:00:00  5.891874e-07  2.455527e-07  0.416765   \n17749 2024-01-03 21:10:00  1.627082e-07  1.620410e-07  0.995900   \n17627 2024-01-03 20:50:00  2.067594e-07  1.620410e-07  0.783718   \n17570 2024-01-03 20:40:00  1.903704e-07  1.620410e-07  0.851188   \n17471 2024-01-03 20:20:00  7.637353e-06  6.155872e-06  0.806022   \n16682 2024-01-03 18:00:00  4.094236e-07  1.828242e-06  4.465404   \n16650 2024-01-03 17:50:00  1.126429e-06  7.367294e-08  0.065404   \n16586 2024-01-03 17:40:00  2.792277e-05  3.644410e-05  1.305175   \n16487 2024-01-03 17:20:00  4.083839e-08  2.772818e-08  0.678973   \n16393 2024-01-03 17:00:00  9.022999e-07  1.405585e-07  0.155778   \n7636  2024-01-02 09:00:00  6.857247e-09  7.695132e-09  1.122190   \n6360  2024-01-02 03:50:00  1.172432e-06  1.308532e-06  1.116084   \n5473  2024-01-02 00:40:00  2.926278e-06  1.316663e-06  0.449945   \n2337  2024-01-01 14:50:00  4.090170e-04  3.277272e-05  0.080126   \n\n       sma_vol_sum_1d  \n20708        0.119807  \n19656        0.856634  \n19595        0.619861  \n19501        0.711765  \n19140        0.022069  \n18413        0.473682  \n17749        0.797076  \n17627        0.497413  \n17570        0.480714  \n17471        0.021551  \n16682        0.162277  \n16650        0.011422  \n16586        1.445910  \n16487        1.324206  \n16393        0.027758  \n7636         0.319485  \n6360         0.380849  \n5473         0.011094  \n2337         0.073492  ",
      "text/html": "<div>\n<style scoped>\n    .dataframe tbody tr th:only-of-type {\n        vertical-align: middle;\n    }\n\n    .dataframe tbody tr th {\n        vertical-align: top;\n    }\n\n    .dataframe thead th {\n        text-align: right;\n    }\n</style>\n<table border=\"1\" class=\"dataframe\">\n  <thead>\n    <tr style=\"text-align: right;\">\n      <th></th>\n      <th>UpP</th>\n      <th>DownP</th>\n      <th>mint</th>\n      <th>time_quant</th>\n      <th>price</th>\n      <th>future_price</th>\n      <th>upside</th>\n      <th>sma_vol_sum_1d</th>\n    </tr>\n  </thead>\n  <tbody>\n    <tr>\n      <th>20708</th>\n      <td>0.251378</td>\n      <td>0.064995</td>\n      <td>DH9CFyU13rGKdR6ohWkS7THfSQqetSBqnXFCzt93iqr7</td>\n      <td>2024-01-04 06:50:00</td>\n      <td>1.618195e-06</td>\n      <td>2.722387e-06</td>\n      <td>1.682360</td>\n      <td>0.119807</td>\n    </tr>\n    <tr>\n      <th>19656</th>\n      <td>0.314780</td>\n      <td>0.100448</td>\n      <td>4iW2iF7vvPdcscxwTG8KXUZMQtvAYjXbts1SsBYQEiWX</td>\n      <td>2024-01-04 03:20:00</td>\n      <td>4.091213e-10</td>\n      <td>3.967467e-10</td>\n      <td>0.969753</td>\n      <td>0.856634</td>\n    </tr>\n    <tr>\n      <th>19595</th>\n      <td>0.249692</td>\n      <td>0.013236</td>\n      <td>2g4o5LLBFr2JHjwLveRFA8aeaHiX4qTjCmmcSBZCqEGa</td>\n      <td>2024-01-04 03:10:00</td>\n      <td>9.681165e-07</td>\n      <td>2.775243e-06</td>\n      <td>2.866642</td>\n      <td>0.619861</td>\n    </tr>\n    <tr>\n      <th>19501</th>\n      <td>0.277345</td>\n      <td>0.174813</td>\n      <td>4iW2iF7vvPdcscxwTG8KXUZMQtvAYjXbts1SsBYQEiWX</td>\n      <td>2024-01-04 02:50:00</td>\n      <td>3.656760e-10</td>\n      <td>3.967467e-10</td>\n      <td>1.084968</td>\n      <td>0.711765</td>\n    </tr>\n    <tr>\n      <th>19140</th>\n      <td>0.506324</td>\n      <td>0.019642</td>\n      <td>Gar8ZEd1Mb7RAXitzpSH6bdsTM2pfWMEffjzoY3ywxZM</td>\n      <td>2024-01-04 01:30:00</td>\n      <td>9.215441e-07</td>\n      <td>2.931964e-06</td>\n      <td>3.181577</td>\n      <td>0.022069</td>\n    </tr>\n    <tr>\n      <th>18413</th>\n      <td>0.207956</td>\n      <td>0.018334</td>\n      <td>J7UbwqWkP9bPANMQnp5rMW6SDqVfpGHeR3hyjZHMFeRR</td>\n      <td>2024-01-03 23:00:00</td>\n      <td>5.891874e-07</td>\n      <td>2.455527e-07</td>\n      <td>0.416765</td>\n      <td>0.473682</td>\n    </tr>\n    <tr>\n      <th>17749</th>\n      <td>0.511942</td>\n      <td>0.251415</td>\n      <td>63ghEAM2EqPsb6xH5xsjWuCnwfTnrjBfePi2fjf4iQ5M</td>\n      <td>2024-01-03 21:10:00</td>\n      <td>1.627082e-07</td>\n      <td>1.620410e-07</td>\n      <td>0.995900</td>\n      <td>0.797076</td>\n    </tr>\n    <tr>\n      <th>17627</th>\n      <td>0.379104</td>\n      <td>0.205717</td>\n      <td>63ghEAM2EqPsb6xH5xsjWuCnwfTnrjBfePi2fjf4iQ5M</td>\n      <td>2024-01-03 20:50:00</td>\n      <td>2.067594e-07</td>\n      <td>1.620410e-07</td>\n      <td>0.783718</td>\n      <td>0.497413</td>\n    </tr>\n    <tr>\n      <th>17570</th>\n      <td>0.365603</td>\n      <td>0.206295</td>\n      <td>63ghEAM2EqPsb6xH5xsjWuCnwfTnrjBfePi2fjf4iQ5M</td>\n      <td>2024-01-03 20:40:00</td>\n      <td>1.903704e-07</td>\n      <td>1.620410e-07</td>\n      <td>0.851188</td>\n      <td>0.480714</td>\n    </tr>\n    <tr>\n      <th>17471</th>\n      <td>0.290823</td>\n      <td>0.113515</td>\n      <td>D4yezxg28WEs4aM9snwDHSfWbqKUvPdrXBDUKwZ4TXLc</td>\n      <td>2024-01-03 20:20:00</td>\n      <td>7.637353e-06</td>\n      <td>6.155872e-06</td>\n      <td>0.806022</td>\n      <td>0.021551</td>\n    </tr>\n    <tr>\n      <th>16682</th>\n      <td>0.369200</td>\n      <td>0.017808</td>\n      <td>8J8xnvvBHNiYfmLrFbsFmthjeQ4qYG4R5Q9JMK4AUrm4</td>\n      <td>2024-01-03 18:00:00</td>\n      <td>4.094236e-07</td>\n      <td>1.828242e-06</td>\n      <td>4.465404</td>\n      <td>0.162277</td>\n    </tr>\n    <tr>\n      <th>16650</th>\n      <td>0.403075</td>\n      <td>0.088276</td>\n      <td>GEP33ZvdNjXL8hoyjuyq2MEtoPrvsz8XC121K3SjfuCN</td>\n      <td>2024-01-03 17:50:00</td>\n      <td>1.126429e-06</td>\n      <td>7.367294e-08</td>\n      <td>0.065404</td>\n      <td>0.011422</td>\n    </tr>\n    <tr>\n      <th>16586</th>\n      <td>0.271939</td>\n      <td>0.126560</td>\n      <td>AxBe661F8tstJ2NDfuzUZRv2SLGvLSND7JcP6nC3MDuN</td>\n      <td>2024-01-03 17:40:00</td>\n      <td>2.792277e-05</td>\n      <td>3.644410e-05</td>\n      <td>1.305175</td>\n      <td>1.445910</td>\n    </tr>\n    <tr>\n      <th>16487</th>\n      <td>0.315364</td>\n      <td>0.140781</td>\n      <td>79YcRKcdjddA61u5z8bfmzLtSAwPSnWjGGAsNhXNmxM8</td>\n      <td>2024-01-03 17:20:00</td>\n      <td>4.083839e-08</td>\n      <td>2.772818e-08</td>\n      <td>0.678973</td>\n      <td>1.324206</td>\n    </tr>\n    <tr>\n      <th>16393</th>\n      <td>0.295016</td>\n      <td>0.327389</td>\n      <td>9kTeYpungrrJo5arzpXfkMQHvQ8otA2rVoC73FxYeTic</td>\n      <td>2024-01-03 17:00:00</td>\n      <td>9.022999e-07</td>\n      <td>1.405585e-07</td>\n      <td>0.155778</td>\n      <td>0.027758</td>\n    </tr>\n    <tr>\n      <th>7636</th>\n      <td>0.202716</td>\n      <td>0.008023</td>\n      <td>GACxkcy9WDWHhB15oKLHp3PPzQV4zLt2m7dcGPoZLkZY</td>\n      <td>2024-01-02 09:00:00</td>\n      <td>6.857247e-09</td>\n      <td>7.695132e-09</td>\n      <td>1.122190</td>\n      <td>0.319485</td>\n    </tr>\n    <tr>\n      <th>6360</th>\n      <td>0.243628</td>\n      <td>0.000432</td>\n      <td>Db8GSoyUCiCn2UftXUWDNHC7guCTKw5f6LQ7gcVWhAMn</td>\n      <td>2024-01-02 03:50:00</td>\n      <td>1.172432e-06</td>\n      <td>1.308532e-06</td>\n      <td>1.116084</td>\n      <td>0.380849</td>\n    </tr>\n    <tr>\n      <th>5473</th>\n      <td>0.366027</td>\n      <td>0.389706</td>\n      <td>9HKpR3KPUdcBdJZz8kjDYRiS3Y9aTEEAbwyPypKnrcv6</td>\n      <td>2024-01-02 00:40:00</td>\n      <td>2.926278e-06</td>\n      <td>1.316663e-06</td>\n      <td>0.449945</td>\n      <td>0.011094</td>\n    </tr>\n    <tr>\n      <th>2337</th>\n      <td>0.348577</td>\n      <td>0.479134</td>\n      <td>6h1NzvbFyW587EhGvaEg3NMTstPWCrpMtAtukJVLTyuA</td>\n      <td>2024-01-01 14:50:00</td>\n      <td>4.090170e-04</td>\n      <td>3.277272e-05</td>\n      <td>0.080126</td>\n      <td>0.073492</td>\n    </tr>\n  </tbody>\n</table>\n</div>"
     },
     "execution_count": 180,
     "metadata": {},
     "output_type": "execute_result"
    }
   ],
   "source": [
    "purchased = results_df[results_df['Predicted']=='up'].sort_values(by=['time_quant', 'mint'], ascending=False)\n",
    "purchased[['UpP', 'DownP', 'mint', 'time_quant', 'price', 'future_price', 'upside', 'sma_vol_sum_1d']].sort_values(by=['time_quant'], ascending=False)  "
   ],
   "metadata": {
    "collapsed": false,
    "ExecuteTime": {
     "end_time": "2024-01-04T21:13:56.158167Z",
     "start_time": "2024-01-04T21:13:56.146063Z"
    }
   },
   "id": "770de9eb31dcc677"
  },
  {
   "cell_type": "code",
   "execution_count": 153,
   "outputs": [
    {
     "data": {
      "text/plain": "count                                                7\nunique                                               5\ntop       AxBe661F8tstJ2NDfuzUZRv2SLGvLSND7JcP6nC3MDuN\nfreq                                                 2\nName: mint, dtype: object"
     },
     "execution_count": 153,
     "metadata": {},
     "output_type": "execute_result"
    }
   ],
   "source": [
    "purchased.mint.describe()\n"
   ],
   "metadata": {
    "collapsed": false,
    "ExecuteTime": {
     "end_time": "2024-01-04T13:18:13.593658Z",
     "start_time": "2024-01-04T13:18:13.570523Z"
    }
   },
   "id": "8c7e3d155a4a0fba"
  },
  {
   "cell_type": "code",
   "execution_count": 154,
   "outputs": [
    {
     "data": {
      "text/plain": "count    7.000000\nmean     0.875333\nstd      0.923304\nmin      0.015222\n25%      0.070902\n50%      0.619517\n75%      1.590961\nmax      2.168864\nName: sma_vol_sum_1d, dtype: float64"
     },
     "execution_count": 154,
     "metadata": {},
     "output_type": "execute_result"
    }
   ],
   "source": [
    "results_df[results_df['Predicted']=='up'].sma_vol_sum_1d.describe()\n",
    "# fix negative volume\n"
   ],
   "metadata": {
    "collapsed": false,
    "ExecuteTime": {
     "end_time": "2024-01-04T13:18:14.158307Z",
     "start_time": "2024-01-04T13:18:14.150524Z"
    }
   },
   "id": "f29d45cc497bb320"
  },
  {
   "cell_type": "code",
   "execution_count": 155,
   "outputs": [
    {
     "data": {
      "text/plain": "Predicted\nflat    12864\ndown      441\nup          7\nName: count, dtype: int64"
     },
     "execution_count": 155,
     "metadata": {},
     "output_type": "execute_result"
    }
   ],
   "source": [
    "results_df['Predicted'].value_counts()"
   ],
   "metadata": {
    "collapsed": false,
    "ExecuteTime": {
     "end_time": "2024-01-04T13:18:15.135829Z",
     "start_time": "2024-01-04T13:18:15.113352Z"
    }
   },
   "id": "13102803fac1ca11"
  },
  {
   "cell_type": "code",
   "execution_count": 156,
   "outputs": [
    {
     "data": {
      "text/plain": "mint\nEPjFWdd5AufqSSqeM2qN1xzybapC8G4wEGGkZwyTDt1v    300\nEs9vMFrzaCERmJfrF4H2FYD4KCoNkY11McCe8BenwNYB    297\nDezXAZ8z7PnrnRJjz3wXBoRgixCa6xjnB7YaB1pPB263    280\n9gwTegFJJErDpWJKjPfLr2g2zrE3nL1v5zpwbtsk3c6P    273\nLFG1ezantSY2LPX8jRz2qa31pPEhpwN9msFDzZw4T9Q     271\n                                               ... \n5Gd5vzFS31oSb52Jegvncrhr5Bt4MGRHqz2NepyJZcHh      1\nF2mGAvcNr47h4Qx1W8TcvTWhGhA58b2hsHH4uYSZrGYL      1\nFjRUB1HafHsaGQxibEwKpQxXgVXbE4k3pw3XWqKLxAiX      1\nHCKZPSGLvUyWTWwPtmcL41fdR8dNgDmzgx11mgCihVkG      1\n7MAMEPQdexxy2z5sbohRqzcNAdRmrisnHnETq6yptjdo      1\nName: count, Length: 236, dtype: int64"
     },
     "execution_count": 156,
     "metadata": {},
     "output_type": "execute_result"
    }
   ],
   "source": [
    "results_df['mint'].value_counts()"
   ],
   "metadata": {
    "collapsed": false,
    "ExecuteTime": {
     "end_time": "2024-01-04T13:18:17.674586Z",
     "start_time": "2024-01-04T13:18:17.650010Z"
    }
   },
   "id": "498de5f3068d5ac4"
  },
  {
   "cell_type": "code",
   "execution_count": 116,
   "outputs": [
    {
     "data": {
      "text/plain": "      Actual Predicted          time_quant  \\\n165     flat      flat 2023-12-30 09:10:00   \n445     flat      flat 2023-12-30 10:30:00   \n598     flat      flat 2023-12-30 11:10:00   \n1098    flat      flat 2023-12-30 13:20:00   \n1358    flat      flat 2023-12-30 14:30:00   \n...      ...       ...                 ...   \n26648   flat      flat 2024-01-03 21:00:00   \n26804   flat      flat 2024-01-03 21:30:00   \n26914   flat      flat 2024-01-03 21:50:00   \n26976   flat      flat 2024-01-03 22:00:00   \n27510   flat      flat 2024-01-03 23:40:00   \n\n                                               mint     price  future_price  \\\n165    99fp2z9TANArLJR4hcwx8fJSzjz7GQwUn7huGf32nDdv  0.000095      0.000104   \n445    99fp2z9TANArLJR4hcwx8fJSzjz7GQwUn7huGf32nDdv  0.000098      0.000132   \n598    99fp2z9TANArLJR4hcwx8fJSzjz7GQwUn7huGf32nDdv  0.000120      0.000133   \n1098   99fp2z9TANArLJR4hcwx8fJSzjz7GQwUn7huGf32nDdv  0.000125      0.000125   \n1358   99fp2z9TANArLJR4hcwx8fJSzjz7GQwUn7huGf32nDdv  0.000097      0.000141   \n...                                             ...       ...           ...   \n26648  99fp2z9TANArLJR4hcwx8fJSzjz7GQwUn7huGf32nDdv  0.000043      0.000042   \n26804  99fp2z9TANArLJR4hcwx8fJSzjz7GQwUn7huGf32nDdv  0.000037      0.000042   \n26914  99fp2z9TANArLJR4hcwx8fJSzjz7GQwUn7huGf32nDdv  0.000047      0.000042   \n26976  99fp2z9TANArLJR4hcwx8fJSzjz7GQwUn7huGf32nDdv  0.000046      0.000042   \n27510  99fp2z9TANArLJR4hcwx8fJSzjz7GQwUn7huGf32nDdv  0.000047      0.000053   \n\n      label  day_of_week  hour  u_price_sma_10m  ...  ema_vol_sell_1d  \\\n165    flat            5     9         0.930400  ...        90.930654   \n445    flat            5    10         0.939484  ...        94.127106   \n598    flat            5    11         0.809310  ...        93.952888   \n1098   flat            5    13         0.960984  ...        87.483720   \n1358   flat            5    14         1.243228  ...        96.866656   \n...     ...          ...   ...              ...  ...              ...   \n26648  flat            2    21         1.111615  ...        67.862975   \n26804  flat            2    21         1.248536  ...        67.381968   \n26914  flat            2    21         0.973278  ...        66.101457   \n26976  flat            2    22         0.975319  ...        66.101457   \n27510  flat            2    23         0.965762  ...        67.015584   \n\n       sma_vol_sum_10m  ema_vol_sum_10m  sma_vol_sum_1h  ema_vol_sum_1h  \\\n165           0.115989         0.107761        3.788072        5.061999   \n445           0.095148         0.133825        2.479048        2.220667   \n598           0.102302         0.088852        2.424012        2.155592   \n1098          0.012154         0.024919        1.882639        1.614058   \n1358          0.030008         0.050110        1.659913        1.125329   \n...                ...              ...             ...             ...   \n26648         0.153787         0.225146        1.251825        1.382052   \n26804         0.121401         0.102121        1.255153        1.246121   \n26914         0.157165         0.143465        1.290918        1.311373   \n26976         0.578594         0.911004        1.712347        2.070908   \n27510         0.503379         0.289151        1.748061        1.747806   \n\n       sma_vol_sum_4h  ema_vol_sum_4h  sma_vol_sum_1d  ema_vol_sum_1d  \\\n165         28.803518       31.480449      154.270505      152.896013   \n445         24.955202       22.916505      149.483234      151.282205   \n598         29.098655       31.816594      149.376050      151.022980   \n1098        26.609313       26.908793      142.030561      145.353317   \n1358        23.209849       19.930340      141.104119      154.474622   \n...               ...             ...             ...             ...   \n26648        3.707916        3.544978       63.566965      111.606969   \n26804        3.711244        3.520122       63.165621      110.886213   \n26914        3.747009        3.557458       62.526303      109.672463   \n26976        4.168437        4.344125       63.484637      110.383990   \n27510        4.211295        4.602389       61.683999      106.468573   \n\n         upside  \n165    1.095196  \n445    1.352834  \n598    1.109808  \n1098   0.996687  \n1358   1.446352  \n...         ...  \n26648  0.968080  \n26804  1.129669  \n26914  0.902549  \n26976  0.909573  \n27510  1.131750  \n\n[107 rows x 46 columns]",
      "text/html": "<div>\n<style scoped>\n    .dataframe tbody tr th:only-of-type {\n        vertical-align: middle;\n    }\n\n    .dataframe tbody tr th {\n        vertical-align: top;\n    }\n\n    .dataframe thead th {\n        text-align: right;\n    }\n</style>\n<table border=\"1\" class=\"dataframe\">\n  <thead>\n    <tr style=\"text-align: right;\">\n      <th></th>\n      <th>Actual</th>\n      <th>Predicted</th>\n      <th>time_quant</th>\n      <th>mint</th>\n      <th>price</th>\n      <th>future_price</th>\n      <th>label</th>\n      <th>day_of_week</th>\n      <th>hour</th>\n      <th>u_price_sma_10m</th>\n      <th>...</th>\n      <th>ema_vol_sell_1d</th>\n      <th>sma_vol_sum_10m</th>\n      <th>ema_vol_sum_10m</th>\n      <th>sma_vol_sum_1h</th>\n      <th>ema_vol_sum_1h</th>\n      <th>sma_vol_sum_4h</th>\n      <th>ema_vol_sum_4h</th>\n      <th>sma_vol_sum_1d</th>\n      <th>ema_vol_sum_1d</th>\n      <th>upside</th>\n    </tr>\n  </thead>\n  <tbody>\n    <tr>\n      <th>165</th>\n      <td>flat</td>\n      <td>flat</td>\n      <td>2023-12-30 09:10:00</td>\n      <td>99fp2z9TANArLJR4hcwx8fJSzjz7GQwUn7huGf32nDdv</td>\n      <td>0.000095</td>\n      <td>0.000104</td>\n      <td>flat</td>\n      <td>5</td>\n      <td>9</td>\n      <td>0.930400</td>\n      <td>...</td>\n      <td>90.930654</td>\n      <td>0.115989</td>\n      <td>0.107761</td>\n      <td>3.788072</td>\n      <td>5.061999</td>\n      <td>28.803518</td>\n      <td>31.480449</td>\n      <td>154.270505</td>\n      <td>152.896013</td>\n      <td>1.095196</td>\n    </tr>\n    <tr>\n      <th>445</th>\n      <td>flat</td>\n      <td>flat</td>\n      <td>2023-12-30 10:30:00</td>\n      <td>99fp2z9TANArLJR4hcwx8fJSzjz7GQwUn7huGf32nDdv</td>\n      <td>0.000098</td>\n      <td>0.000132</td>\n      <td>flat</td>\n      <td>5</td>\n      <td>10</td>\n      <td>0.939484</td>\n      <td>...</td>\n      <td>94.127106</td>\n      <td>0.095148</td>\n      <td>0.133825</td>\n      <td>2.479048</td>\n      <td>2.220667</td>\n      <td>24.955202</td>\n      <td>22.916505</td>\n      <td>149.483234</td>\n      <td>151.282205</td>\n      <td>1.352834</td>\n    </tr>\n    <tr>\n      <th>598</th>\n      <td>flat</td>\n      <td>flat</td>\n      <td>2023-12-30 11:10:00</td>\n      <td>99fp2z9TANArLJR4hcwx8fJSzjz7GQwUn7huGf32nDdv</td>\n      <td>0.000120</td>\n      <td>0.000133</td>\n      <td>flat</td>\n      <td>5</td>\n      <td>11</td>\n      <td>0.809310</td>\n      <td>...</td>\n      <td>93.952888</td>\n      <td>0.102302</td>\n      <td>0.088852</td>\n      <td>2.424012</td>\n      <td>2.155592</td>\n      <td>29.098655</td>\n      <td>31.816594</td>\n      <td>149.376050</td>\n      <td>151.022980</td>\n      <td>1.109808</td>\n    </tr>\n    <tr>\n      <th>1098</th>\n      <td>flat</td>\n      <td>flat</td>\n      <td>2023-12-30 13:20:00</td>\n      <td>99fp2z9TANArLJR4hcwx8fJSzjz7GQwUn7huGf32nDdv</td>\n      <td>0.000125</td>\n      <td>0.000125</td>\n      <td>flat</td>\n      <td>5</td>\n      <td>13</td>\n      <td>0.960984</td>\n      <td>...</td>\n      <td>87.483720</td>\n      <td>0.012154</td>\n      <td>0.024919</td>\n      <td>1.882639</td>\n      <td>1.614058</td>\n      <td>26.609313</td>\n      <td>26.908793</td>\n      <td>142.030561</td>\n      <td>145.353317</td>\n      <td>0.996687</td>\n    </tr>\n    <tr>\n      <th>1358</th>\n      <td>flat</td>\n      <td>flat</td>\n      <td>2023-12-30 14:30:00</td>\n      <td>99fp2z9TANArLJR4hcwx8fJSzjz7GQwUn7huGf32nDdv</td>\n      <td>0.000097</td>\n      <td>0.000141</td>\n      <td>flat</td>\n      <td>5</td>\n      <td>14</td>\n      <td>1.243228</td>\n      <td>...</td>\n      <td>96.866656</td>\n      <td>0.030008</td>\n      <td>0.050110</td>\n      <td>1.659913</td>\n      <td>1.125329</td>\n      <td>23.209849</td>\n      <td>19.930340</td>\n      <td>141.104119</td>\n      <td>154.474622</td>\n      <td>1.446352</td>\n    </tr>\n    <tr>\n      <th>...</th>\n      <td>...</td>\n      <td>...</td>\n      <td>...</td>\n      <td>...</td>\n      <td>...</td>\n      <td>...</td>\n      <td>...</td>\n      <td>...</td>\n      <td>...</td>\n      <td>...</td>\n      <td>...</td>\n      <td>...</td>\n      <td>...</td>\n      <td>...</td>\n      <td>...</td>\n      <td>...</td>\n      <td>...</td>\n      <td>...</td>\n      <td>...</td>\n      <td>...</td>\n      <td>...</td>\n    </tr>\n    <tr>\n      <th>26648</th>\n      <td>flat</td>\n      <td>flat</td>\n      <td>2024-01-03 21:00:00</td>\n      <td>99fp2z9TANArLJR4hcwx8fJSzjz7GQwUn7huGf32nDdv</td>\n      <td>0.000043</td>\n      <td>0.000042</td>\n      <td>flat</td>\n      <td>2</td>\n      <td>21</td>\n      <td>1.111615</td>\n      <td>...</td>\n      <td>67.862975</td>\n      <td>0.153787</td>\n      <td>0.225146</td>\n      <td>1.251825</td>\n      <td>1.382052</td>\n      <td>3.707916</td>\n      <td>3.544978</td>\n      <td>63.566965</td>\n      <td>111.606969</td>\n      <td>0.968080</td>\n    </tr>\n    <tr>\n      <th>26804</th>\n      <td>flat</td>\n      <td>flat</td>\n      <td>2024-01-03 21:30:00</td>\n      <td>99fp2z9TANArLJR4hcwx8fJSzjz7GQwUn7huGf32nDdv</td>\n      <td>0.000037</td>\n      <td>0.000042</td>\n      <td>flat</td>\n      <td>2</td>\n      <td>21</td>\n      <td>1.248536</td>\n      <td>...</td>\n      <td>67.381968</td>\n      <td>0.121401</td>\n      <td>0.102121</td>\n      <td>1.255153</td>\n      <td>1.246121</td>\n      <td>3.711244</td>\n      <td>3.520122</td>\n      <td>63.165621</td>\n      <td>110.886213</td>\n      <td>1.129669</td>\n    </tr>\n    <tr>\n      <th>26914</th>\n      <td>flat</td>\n      <td>flat</td>\n      <td>2024-01-03 21:50:00</td>\n      <td>99fp2z9TANArLJR4hcwx8fJSzjz7GQwUn7huGf32nDdv</td>\n      <td>0.000047</td>\n      <td>0.000042</td>\n      <td>flat</td>\n      <td>2</td>\n      <td>21</td>\n      <td>0.973278</td>\n      <td>...</td>\n      <td>66.101457</td>\n      <td>0.157165</td>\n      <td>0.143465</td>\n      <td>1.290918</td>\n      <td>1.311373</td>\n      <td>3.747009</td>\n      <td>3.557458</td>\n      <td>62.526303</td>\n      <td>109.672463</td>\n      <td>0.902549</td>\n    </tr>\n    <tr>\n      <th>26976</th>\n      <td>flat</td>\n      <td>flat</td>\n      <td>2024-01-03 22:00:00</td>\n      <td>99fp2z9TANArLJR4hcwx8fJSzjz7GQwUn7huGf32nDdv</td>\n      <td>0.000046</td>\n      <td>0.000042</td>\n      <td>flat</td>\n      <td>2</td>\n      <td>22</td>\n      <td>0.975319</td>\n      <td>...</td>\n      <td>66.101457</td>\n      <td>0.578594</td>\n      <td>0.911004</td>\n      <td>1.712347</td>\n      <td>2.070908</td>\n      <td>4.168437</td>\n      <td>4.344125</td>\n      <td>63.484637</td>\n      <td>110.383990</td>\n      <td>0.909573</td>\n    </tr>\n    <tr>\n      <th>27510</th>\n      <td>flat</td>\n      <td>flat</td>\n      <td>2024-01-03 23:40:00</td>\n      <td>99fp2z9TANArLJR4hcwx8fJSzjz7GQwUn7huGf32nDdv</td>\n      <td>0.000047</td>\n      <td>0.000053</td>\n      <td>flat</td>\n      <td>2</td>\n      <td>23</td>\n      <td>0.965762</td>\n      <td>...</td>\n      <td>67.015584</td>\n      <td>0.503379</td>\n      <td>0.289151</td>\n      <td>1.748061</td>\n      <td>1.747806</td>\n      <td>4.211295</td>\n      <td>4.602389</td>\n      <td>61.683999</td>\n      <td>106.468573</td>\n      <td>1.131750</td>\n    </tr>\n  </tbody>\n</table>\n<p>107 rows × 46 columns</p>\n</div>"
     },
     "execution_count": 116,
     "metadata": {},
     "output_type": "execute_result"
    }
   ],
   "source": [
    "# mint 99fp2z9TANArLJR4hcwx8fJSzjz7GQwUn7huGf32nDdv\n",
    "results_df[results_df['mint']=='99fp2z9TANArLJR4hcwx8fJSzjz7GQwUn7huGf32nDdv']"
   ],
   "metadata": {
    "collapsed": false,
    "ExecuteTime": {
     "end_time": "2024-01-04T13:11:18.622646Z",
     "start_time": "2024-01-04T13:11:18.614034Z"
    }
   },
   "id": "85a6209339a06f78"
  },
  {
   "cell_type": "code",
   "execution_count": 117,
   "outputs": [
    {
     "data": {
      "text/plain": "      Actual Predicted          time_quant  \\\n0       flat      flat 2023-12-30 08:30:00   \n1       flat      flat 2023-12-30 08:30:00   \n2       flat      flat 2023-12-30 08:30:00   \n3       flat      flat 2023-12-30 08:30:00   \n4       flat      flat 2023-12-30 08:30:00   \n...      ...       ...                 ...   \n27727   flat      flat 2024-01-04 00:20:00   \n27728   flat      flat 2024-01-04 00:20:00   \n27729   flat      flat 2024-01-04 00:20:00   \n27730   flat      flat 2024-01-04 00:20:00   \n27731   flat      flat 2024-01-04 00:20:00   \n\n                                               mint         price  \\\n0      12FvihLoAzTtaA98YVuErGftCXtoc83t3YFk4WdKK79T  9.930370e-07   \n1      2XNuNgqFpNxEWq8wcqRpJFeWBVsLgxa56fMDQVfq7i7Y  2.826238e-04   \n2      2x8o3hA5S5fBxCSE9hzVTf3RohcMWHqkDNKNEPuzprD5  2.976297e-05   \n3      2zwuFv4tzMrJMA3Gq5nNH3i4ojWPtCkjmGzTMXe4RpMc  1.944247e-05   \n4      31iQsahfa4CMiirU7REygBzuAWg4R4ah7Y4aDu9ZfXJP  1.039810e-10   \n...                                             ...           ...   \n27727   KTMEEZDPyYiJmDeiy8ChLcWHP52jhzMG9g6FQrYDTf8  7.980008e-11   \n27728   LFG1ezantSY2LPX8jRz2qa31pPEhpwN9msFDzZw4T9Q  2.730993e-07   \n27729   drakduQWnTS89CdTUdgHmZzEkN6reBLYqrk8rzVhU53  5.363368e-08   \n27730   gxNuJSHRScR7WkzQEYqvxVditaKkcc9V32KXPJLCbcT  6.396623e-05   \n27731   skJyor4eEoBsDpxyURP367RjGEK5xbqrjWjjyjQGo2N  8.941823e-07   \n\n       future_price label  day_of_week  hour  u_price_sma_10m  ...  \\\n0      4.359319e-07  flat            5     8         0.747452  ...   \n1      2.169545e-04  flat            5     8         1.087920  ...   \n2      2.607552e-05  flat            5     8         1.026468  ...   \n3      1.500439e-05  flat            5     8         1.069679  ...   \n4      5.917822e-11  flat            5     8         0.808583  ...   \n...             ...   ...          ...   ...              ...  ...   \n27727  3.277159e-11  flat            3     0         1.149582  ...   \n27728  2.105918e-07  flat            3     0         0.942776  ...   \n27729  5.334881e-08  flat            3     0         1.019868  ...   \n27730  5.061710e-05  flat            3     0         0.732243  ...   \n27731  1.985846e-06  flat            3     0         1.664710  ...   \n\n       ema_vol_sell_1d  sma_vol_sum_10m  ema_vol_sum_10m  sma_vol_sum_1h  \\\n0            19.374471         0.242418         0.234116        1.145117   \n1            19.966602         0.652804         0.681182       12.042169   \n2           101.836320         0.521736         0.538792        8.972038   \n3           232.486088         0.651856         0.579489        9.376199   \n4           186.058000         1.543446         1.977391       17.563163   \n...                ...              ...              ...             ...   \n27727        27.644720         2.919935         4.487728        3.786115   \n27728       556.648984         1.150401         1.745633       46.976387   \n27729       162.160206         0.670125         0.947271       12.693423   \n27730       162.375073         0.532225         0.435274        9.465668   \n27731         3.522837         0.099650         0.137254        0.268418   \n\n       ema_vol_sum_1h  sma_vol_sum_4h  ema_vol_sum_4h  sma_vol_sum_1d  \\\n0            1.328542        3.890211        3.748550       24.440557   \n1           10.282466       20.429140       25.838622      132.789408   \n2            6.993093       36.080560       37.152979      212.977115   \n3            8.926900       70.665628       76.172024      361.950123   \n4           20.297679       65.775765       61.970659      426.796282   \n...               ...             ...             ...             ...   \n27727        6.206388        5.761930        8.733140       85.505423   \n27728       54.598590      555.989226      358.029839     1297.308194   \n27729       10.512182       95.411569       86.925002      500.631668   \n27730        6.493125       71.455419       75.697797      556.782302   \n27731        0.385697        4.524898        3.237085       10.558095   \n\n       ema_vol_sum_1d    upside  \n0           29.679349  0.438989  \n1           36.391252  0.767644  \n2          178.242873  0.876106  \n3          448.937875  0.771733  \n4          345.141176  0.569125  \n...               ...       ...  \n27727       44.384374  0.410671  \n27728      928.001224  0.771118  \n27729      319.042967  0.994689  \n27730      309.413279  0.791310  \n27731        7.440468  2.220852  \n\n[27732 rows x 46 columns]",
      "text/html": "<div>\n<style scoped>\n    .dataframe tbody tr th:only-of-type {\n        vertical-align: middle;\n    }\n\n    .dataframe tbody tr th {\n        vertical-align: top;\n    }\n\n    .dataframe thead th {\n        text-align: right;\n    }\n</style>\n<table border=\"1\" class=\"dataframe\">\n  <thead>\n    <tr style=\"text-align: right;\">\n      <th></th>\n      <th>Actual</th>\n      <th>Predicted</th>\n      <th>time_quant</th>\n      <th>mint</th>\n      <th>price</th>\n      <th>future_price</th>\n      <th>label</th>\n      <th>day_of_week</th>\n      <th>hour</th>\n      <th>u_price_sma_10m</th>\n      <th>...</th>\n      <th>ema_vol_sell_1d</th>\n      <th>sma_vol_sum_10m</th>\n      <th>ema_vol_sum_10m</th>\n      <th>sma_vol_sum_1h</th>\n      <th>ema_vol_sum_1h</th>\n      <th>sma_vol_sum_4h</th>\n      <th>ema_vol_sum_4h</th>\n      <th>sma_vol_sum_1d</th>\n      <th>ema_vol_sum_1d</th>\n      <th>upside</th>\n    </tr>\n  </thead>\n  <tbody>\n    <tr>\n      <th>0</th>\n      <td>flat</td>\n      <td>flat</td>\n      <td>2023-12-30 08:30:00</td>\n      <td>12FvihLoAzTtaA98YVuErGftCXtoc83t3YFk4WdKK79T</td>\n      <td>9.930370e-07</td>\n      <td>4.359319e-07</td>\n      <td>flat</td>\n      <td>5</td>\n      <td>8</td>\n      <td>0.747452</td>\n      <td>...</td>\n      <td>19.374471</td>\n      <td>0.242418</td>\n      <td>0.234116</td>\n      <td>1.145117</td>\n      <td>1.328542</td>\n      <td>3.890211</td>\n      <td>3.748550</td>\n      <td>24.440557</td>\n      <td>29.679349</td>\n      <td>0.438989</td>\n    </tr>\n    <tr>\n      <th>1</th>\n      <td>flat</td>\n      <td>flat</td>\n      <td>2023-12-30 08:30:00</td>\n      <td>2XNuNgqFpNxEWq8wcqRpJFeWBVsLgxa56fMDQVfq7i7Y</td>\n      <td>2.826238e-04</td>\n      <td>2.169545e-04</td>\n      <td>flat</td>\n      <td>5</td>\n      <td>8</td>\n      <td>1.087920</td>\n      <td>...</td>\n      <td>19.966602</td>\n      <td>0.652804</td>\n      <td>0.681182</td>\n      <td>12.042169</td>\n      <td>10.282466</td>\n      <td>20.429140</td>\n      <td>25.838622</td>\n      <td>132.789408</td>\n      <td>36.391252</td>\n      <td>0.767644</td>\n    </tr>\n    <tr>\n      <th>2</th>\n      <td>flat</td>\n      <td>flat</td>\n      <td>2023-12-30 08:30:00</td>\n      <td>2x8o3hA5S5fBxCSE9hzVTf3RohcMWHqkDNKNEPuzprD5</td>\n      <td>2.976297e-05</td>\n      <td>2.607552e-05</td>\n      <td>flat</td>\n      <td>5</td>\n      <td>8</td>\n      <td>1.026468</td>\n      <td>...</td>\n      <td>101.836320</td>\n      <td>0.521736</td>\n      <td>0.538792</td>\n      <td>8.972038</td>\n      <td>6.993093</td>\n      <td>36.080560</td>\n      <td>37.152979</td>\n      <td>212.977115</td>\n      <td>178.242873</td>\n      <td>0.876106</td>\n    </tr>\n    <tr>\n      <th>3</th>\n      <td>flat</td>\n      <td>flat</td>\n      <td>2023-12-30 08:30:00</td>\n      <td>2zwuFv4tzMrJMA3Gq5nNH3i4ojWPtCkjmGzTMXe4RpMc</td>\n      <td>1.944247e-05</td>\n      <td>1.500439e-05</td>\n      <td>flat</td>\n      <td>5</td>\n      <td>8</td>\n      <td>1.069679</td>\n      <td>...</td>\n      <td>232.486088</td>\n      <td>0.651856</td>\n      <td>0.579489</td>\n      <td>9.376199</td>\n      <td>8.926900</td>\n      <td>70.665628</td>\n      <td>76.172024</td>\n      <td>361.950123</td>\n      <td>448.937875</td>\n      <td>0.771733</td>\n    </tr>\n    <tr>\n      <th>4</th>\n      <td>flat</td>\n      <td>flat</td>\n      <td>2023-12-30 08:30:00</td>\n      <td>31iQsahfa4CMiirU7REygBzuAWg4R4ah7Y4aDu9ZfXJP</td>\n      <td>1.039810e-10</td>\n      <td>5.917822e-11</td>\n      <td>flat</td>\n      <td>5</td>\n      <td>8</td>\n      <td>0.808583</td>\n      <td>...</td>\n      <td>186.058000</td>\n      <td>1.543446</td>\n      <td>1.977391</td>\n      <td>17.563163</td>\n      <td>20.297679</td>\n      <td>65.775765</td>\n      <td>61.970659</td>\n      <td>426.796282</td>\n      <td>345.141176</td>\n      <td>0.569125</td>\n    </tr>\n    <tr>\n      <th>...</th>\n      <td>...</td>\n      <td>...</td>\n      <td>...</td>\n      <td>...</td>\n      <td>...</td>\n      <td>...</td>\n      <td>...</td>\n      <td>...</td>\n      <td>...</td>\n      <td>...</td>\n      <td>...</td>\n      <td>...</td>\n      <td>...</td>\n      <td>...</td>\n      <td>...</td>\n      <td>...</td>\n      <td>...</td>\n      <td>...</td>\n      <td>...</td>\n      <td>...</td>\n      <td>...</td>\n    </tr>\n    <tr>\n      <th>27727</th>\n      <td>flat</td>\n      <td>flat</td>\n      <td>2024-01-04 00:20:00</td>\n      <td>KTMEEZDPyYiJmDeiy8ChLcWHP52jhzMG9g6FQrYDTf8</td>\n      <td>7.980008e-11</td>\n      <td>3.277159e-11</td>\n      <td>flat</td>\n      <td>3</td>\n      <td>0</td>\n      <td>1.149582</td>\n      <td>...</td>\n      <td>27.644720</td>\n      <td>2.919935</td>\n      <td>4.487728</td>\n      <td>3.786115</td>\n      <td>6.206388</td>\n      <td>5.761930</td>\n      <td>8.733140</td>\n      <td>85.505423</td>\n      <td>44.384374</td>\n      <td>0.410671</td>\n    </tr>\n    <tr>\n      <th>27728</th>\n      <td>flat</td>\n      <td>flat</td>\n      <td>2024-01-04 00:20:00</td>\n      <td>LFG1ezantSY2LPX8jRz2qa31pPEhpwN9msFDzZw4T9Q</td>\n      <td>2.730993e-07</td>\n      <td>2.105918e-07</td>\n      <td>flat</td>\n      <td>3</td>\n      <td>0</td>\n      <td>0.942776</td>\n      <td>...</td>\n      <td>556.648984</td>\n      <td>1.150401</td>\n      <td>1.745633</td>\n      <td>46.976387</td>\n      <td>54.598590</td>\n      <td>555.989226</td>\n      <td>358.029839</td>\n      <td>1297.308194</td>\n      <td>928.001224</td>\n      <td>0.771118</td>\n    </tr>\n    <tr>\n      <th>27729</th>\n      <td>flat</td>\n      <td>flat</td>\n      <td>2024-01-04 00:20:00</td>\n      <td>drakduQWnTS89CdTUdgHmZzEkN6reBLYqrk8rzVhU53</td>\n      <td>5.363368e-08</td>\n      <td>5.334881e-08</td>\n      <td>flat</td>\n      <td>3</td>\n      <td>0</td>\n      <td>1.019868</td>\n      <td>...</td>\n      <td>162.160206</td>\n      <td>0.670125</td>\n      <td>0.947271</td>\n      <td>12.693423</td>\n      <td>10.512182</td>\n      <td>95.411569</td>\n      <td>86.925002</td>\n      <td>500.631668</td>\n      <td>319.042967</td>\n      <td>0.994689</td>\n    </tr>\n    <tr>\n      <th>27730</th>\n      <td>flat</td>\n      <td>flat</td>\n      <td>2024-01-04 00:20:00</td>\n      <td>gxNuJSHRScR7WkzQEYqvxVditaKkcc9V32KXPJLCbcT</td>\n      <td>6.396623e-05</td>\n      <td>5.061710e-05</td>\n      <td>flat</td>\n      <td>3</td>\n      <td>0</td>\n      <td>0.732243</td>\n      <td>...</td>\n      <td>162.375073</td>\n      <td>0.532225</td>\n      <td>0.435274</td>\n      <td>9.465668</td>\n      <td>6.493125</td>\n      <td>71.455419</td>\n      <td>75.697797</td>\n      <td>556.782302</td>\n      <td>309.413279</td>\n      <td>0.791310</td>\n    </tr>\n    <tr>\n      <th>27731</th>\n      <td>flat</td>\n      <td>flat</td>\n      <td>2024-01-04 00:20:00</td>\n      <td>skJyor4eEoBsDpxyURP367RjGEK5xbqrjWjjyjQGo2N</td>\n      <td>8.941823e-07</td>\n      <td>1.985846e-06</td>\n      <td>flat</td>\n      <td>3</td>\n      <td>0</td>\n      <td>1.664710</td>\n      <td>...</td>\n      <td>3.522837</td>\n      <td>0.099650</td>\n      <td>0.137254</td>\n      <td>0.268418</td>\n      <td>0.385697</td>\n      <td>4.524898</td>\n      <td>3.237085</td>\n      <td>10.558095</td>\n      <td>7.440468</td>\n      <td>2.220852</td>\n    </tr>\n  </tbody>\n</table>\n<p>27732 rows × 46 columns</p>\n</div>"
     },
     "execution_count": 117,
     "metadata": {},
     "output_type": "execute_result"
    }
   ],
   "source": [
    "results_df"
   ],
   "metadata": {
    "collapsed": false,
    "ExecuteTime": {
     "end_time": "2024-01-04T13:11:21.306968Z",
     "start_time": "2024-01-04T13:11:21.287117Z"
    }
   },
   "id": "5bbf8e693f460b06"
  },
  {
   "cell_type": "code",
   "execution_count": null,
   "outputs": [],
   "source": [],
   "metadata": {
    "collapsed": false
   },
   "id": "19b1514301d14e46"
  }
 ],
 "metadata": {
  "kernelspec": {
   "display_name": "Python 3",
   "language": "python",
   "name": "python3"
  },
  "language_info": {
   "codemirror_mode": {
    "name": "ipython",
    "version": 2
   },
   "file_extension": ".py",
   "mimetype": "text/x-python",
   "name": "python",
   "nbconvert_exporter": "python",
   "pygments_lexer": "ipython2",
   "version": "2.7.6"
  }
 },
 "nbformat": 4,
 "nbformat_minor": 5
}
