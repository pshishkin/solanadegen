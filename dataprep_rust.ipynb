{
 "cells": [
  {
   "cell_type": "code",
   "execution_count": 3,
   "id": "initial_id",
   "metadata": {
    "collapsed": true,
    "ExecuteTime": {
     "end_time": "2024-01-08T18:12:05.349018Z",
     "start_time": "2024-01-08T18:12:05.346277Z"
    }
   },
   "outputs": [
    {
     "name": "stdout",
     "output_type": "stream",
     "text": [
      "Original array: [1. 2. 3.]\n",
      "Processed array: [2. 4. 6.]\n"
     ]
    }
   ],
   "source": [
    "import numpy as np\n",
    "import rust_py_extension  # Import the Rust extension\n",
    "\n",
    "array = np.array([1.0, 2.0, 3.0])\n",
    "result = rust_py_extension.multiply_by_two(array)\n",
    "print(\"Original array:\", array)\n",
    "print(\"Processed array:\", result)\n"
   ]
  },
  {
   "cell_type": "code",
   "execution_count": null,
   "outputs": [],
   "source": [],
   "metadata": {
    "collapsed": false
   },
   "id": "1fd88f4549e3c02e"
  }
 ],
 "metadata": {
  "kernelspec": {
   "display_name": "Python 3",
   "language": "python",
   "name": "python3"
  },
  "language_info": {
   "codemirror_mode": {
    "name": "ipython",
    "version": 2
   },
   "file_extension": ".py",
   "mimetype": "text/x-python",
   "name": "python",
   "nbconvert_exporter": "python",
   "pygments_lexer": "ipython2",
   "version": "2.7.6"
  }
 },
 "nbformat": 4,
 "nbformat_minor": 5
}
