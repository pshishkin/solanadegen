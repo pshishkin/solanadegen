{
 "cells": [
  {
   "cell_type": "code",
   "execution_count": 2,
   "outputs": [
    {
     "name": "stderr",
     "output_type": "stream",
     "text": [
      "2024-01-08 19:33:15,045 - INFO - Getting data from db\n",
      "2024-01-08 19:33:35,340 - INFO - Got 601593 records from db\n",
      "2024-01-08 19:33:35,342 - INFO - From 2023-12-01 00:00:14 to 2024-01-08 19:29:36\n"
     ]
    }
   ],
   "source": [
    "from dataprep_rust import get_db_df\n",
    "\n",
    "df = get_db_df(1000000)"
   ],
   "metadata": {
    "collapsed": false,
    "ExecuteTime": {
     "end_time": "2024-01-08T19:33:35.388266Z",
     "start_time": "2024-01-08T19:33:15.031922Z"
    }
   },
   "id": "1fd88f4549e3c02e"
  },
  {
   "cell_type": "code",
   "execution_count": 3,
   "outputs": [
    {
     "data": {
      "text/plain": "       source                                          signature  \\\n0         sol  2YqoFiWbyk2G5xgreB1wJe6WBEcjuUv49eGJi323zFUB3x...   \n1         sol  dmTSXdyWJs32hLeCwSHSHA5yJEdAPBo5aPJPgxurVnzjeh...   \n2         sol  aZ6iuyPGAEYAhxMvV1EmWAuwwMPmn7AbAtBgEkv9YCpvAo...   \n3         sol  h2Bo4wxJq8FoewxTvy2MHocXhxi1s93ThbyDUzkgW3vMCP...   \n4         sol  5qrQkJr28hXZ5MDHZUiNhBg3PCFNay8FD1RdpjpNNkzU4X...   \n...       ...                                                ...   \n601588    sol  Ki7TwDaMC1rakdM2GXuFtWxW5GjZXmrptUmCjiYxEzDRg6...   \n601589    sol  5MLGrok9g8zfFBpG9ZsDwJK2aASqMn6Da8xXf8gTULufh8...   \n601590    sol  3cozyVKw8NzxL13z6G3qaKNwqSnn1qkAhjUVpxfpsTxo4m...   \n601591    sol  3HfnjcuNWNq2bM784H9qHVxcCpLp5dP7Xp3brkmA5v1XfT...   \n601592    sol  5Xh171aLr8fFrfjMh975m4sf8fGFELzp8zCjwubv5D5342...   \n\n                                          program_ids           timestamp  \\\n0       [JUP6LkbZbjS1jKKwapdHNy74zcZ3tLUZoi5QNyVTaV4] 2024-01-08 19:29:36   \n1       [JUP6LkbZbjS1jKKwapdHNy74zcZ3tLUZoi5QNyVTaV4] 2024-01-08 19:29:36   \n2       [JUP6LkbZbjS1jKKwapdHNy74zcZ3tLUZoi5QNyVTaV4] 2024-01-08 19:29:32   \n3       [JUP6LkbZbjS1jKKwapdHNy74zcZ3tLUZoi5QNyVTaV4] 2024-01-08 19:29:21   \n4       [JUP6LkbZbjS1jKKwapdHNy74zcZ3tLUZoi5QNyVTaV4] 2024-01-08 19:29:19   \n...                                               ...                 ...   \n601588  [JUP6LkbZbjS1jKKwapdHNy74zcZ3tLUZoi5QNyVTaV4] 2023-12-01 00:00:51   \n601589  [JUP6LkbZbjS1jKKwapdHNy74zcZ3tLUZoi5QNyVTaV4] 2023-12-01 00:00:29   \n601590  [JUP6LkbZbjS1jKKwapdHNy74zcZ3tLUZoi5QNyVTaV4] 2023-12-01 00:00:22   \n601591  [JUP6LkbZbjS1jKKwapdHNy74zcZ3tLUZoi5QNyVTaV4] 2023-12-01 00:00:18   \n601592  [JUP6LkbZbjS1jKKwapdHNy74zcZ3tLUZoi5QNyVTaV4] 2023-12-01 00:00:14   \n\n                                                mint   token_delta  sol_delta  \\\n0       AvNdeayYfLJmJ7jQFTEM8r3Q5haMSS1FyB49ptpiverW -1.710125e+06   0.970378   \n1       13stincmNezZEWzW1VUfg89TVyRz6Rt2DJVCWJ89WANp -3.403499e+05   1.710065   \n2       EkHr62PC6Y1axrLS7cR8YC4BZeW19mtHxQLCLMrf9vnq -6.667542e+06  15.011061   \n3       EXA537HSBVpsFijENbt6Muuy9AADUN8dUmYKD4oKbjJE  1.530619e+05  -8.000012   \n4       84GSi1FFvr7ABQmPGqaBzQPKVb1JvKcUSTgLHJQJxg4H -2.490380e+05   0.963048   \n...                                              ...           ...        ...   \n601588  BTCBZ6hrcn5g8MANyQep6QVqZWpD5TqjSUKTUKHivkfa  2.384775e+01  -0.500006   \n601589  34D4EMJYxuogro9XSejfaTLgFQoRQSaeHoDVN2fgZbjf  1.703537e+07  -0.200005   \n601590  EuQKmkFiG2d2GSYbSw55YhSj99eyFfaGhPR6dksgdsfq -1.250000e+09   1.376617   \n601591  DezXAZ8z7PnrnRJjz3wXBoRgixCa6xjnB7YaB1pPB263  5.868626e+07  -3.823362   \n601592   PumPRGmZ56t3Vngxo6fCP7ZJQ14oUg3biKxXrEyQBSf -4.778226e+03   0.092679   \n\n                                              trader  \n0       7xDbouXSM8KjtAS4Mun3iYha6iTFxvXZcaqxsBsNs4r2  \n1       G99374sQ9SiTVthLxgzKnyYvNTe6qNo9yAZV6Ua1qSHN  \n2       C1VCvKqwTgA5WqdbHH8Hyk1sP3L6L8QtDhXwdYysytES  \n3       EN5mwqPwzSRUM74N16eWovp77C6VRTB3q7wrP5LaBQyU  \n4       2mK8Jz51KGNDHcKGtMYxHVDKYpHsXoENLEnLQrs7ZG87  \n...                                              ...  \n601588  2Rh1fA8Dsny9nwJfb1iTd6CJY8exzyf5eevRmyCBRg2K  \n601589  B2Kfz5FYvxJ25KRpi6g4hb5iXm9mDPACZ1GnfrdjsAT2  \n601590  1233KY8anzqJLM2GzaDUHa7g2b5Mj9gcxbgE9ezGYXRk  \n601591   ZG98FUCjb8mJ824Gbs6RsgVmr1FhXb2oNiJHa2dwmPd  \n601592   ZG98FUCjb8mJ824Gbs6RsgVmr1FhXb2oNiJHa2dwmPd  \n\n[601593 rows x 8 columns]",
      "text/html": "<div>\n<style scoped>\n    .dataframe tbody tr th:only-of-type {\n        vertical-align: middle;\n    }\n\n    .dataframe tbody tr th {\n        vertical-align: top;\n    }\n\n    .dataframe thead th {\n        text-align: right;\n    }\n</style>\n<table border=\"1\" class=\"dataframe\">\n  <thead>\n    <tr style=\"text-align: right;\">\n      <th></th>\n      <th>source</th>\n      <th>signature</th>\n      <th>program_ids</th>\n      <th>timestamp</th>\n      <th>mint</th>\n      <th>token_delta</th>\n      <th>sol_delta</th>\n      <th>trader</th>\n    </tr>\n  </thead>\n  <tbody>\n    <tr>\n      <th>0</th>\n      <td>sol</td>\n      <td>2YqoFiWbyk2G5xgreB1wJe6WBEcjuUv49eGJi323zFUB3x...</td>\n      <td>[JUP6LkbZbjS1jKKwapdHNy74zcZ3tLUZoi5QNyVTaV4]</td>\n      <td>2024-01-08 19:29:36</td>\n      <td>AvNdeayYfLJmJ7jQFTEM8r3Q5haMSS1FyB49ptpiverW</td>\n      <td>-1.710125e+06</td>\n      <td>0.970378</td>\n      <td>7xDbouXSM8KjtAS4Mun3iYha6iTFxvXZcaqxsBsNs4r2</td>\n    </tr>\n    <tr>\n      <th>1</th>\n      <td>sol</td>\n      <td>dmTSXdyWJs32hLeCwSHSHA5yJEdAPBo5aPJPgxurVnzjeh...</td>\n      <td>[JUP6LkbZbjS1jKKwapdHNy74zcZ3tLUZoi5QNyVTaV4]</td>\n      <td>2024-01-08 19:29:36</td>\n      <td>13stincmNezZEWzW1VUfg89TVyRz6Rt2DJVCWJ89WANp</td>\n      <td>-3.403499e+05</td>\n      <td>1.710065</td>\n      <td>G99374sQ9SiTVthLxgzKnyYvNTe6qNo9yAZV6Ua1qSHN</td>\n    </tr>\n    <tr>\n      <th>2</th>\n      <td>sol</td>\n      <td>aZ6iuyPGAEYAhxMvV1EmWAuwwMPmn7AbAtBgEkv9YCpvAo...</td>\n      <td>[JUP6LkbZbjS1jKKwapdHNy74zcZ3tLUZoi5QNyVTaV4]</td>\n      <td>2024-01-08 19:29:32</td>\n      <td>EkHr62PC6Y1axrLS7cR8YC4BZeW19mtHxQLCLMrf9vnq</td>\n      <td>-6.667542e+06</td>\n      <td>15.011061</td>\n      <td>C1VCvKqwTgA5WqdbHH8Hyk1sP3L6L8QtDhXwdYysytES</td>\n    </tr>\n    <tr>\n      <th>3</th>\n      <td>sol</td>\n      <td>h2Bo4wxJq8FoewxTvy2MHocXhxi1s93ThbyDUzkgW3vMCP...</td>\n      <td>[JUP6LkbZbjS1jKKwapdHNy74zcZ3tLUZoi5QNyVTaV4]</td>\n      <td>2024-01-08 19:29:21</td>\n      <td>EXA537HSBVpsFijENbt6Muuy9AADUN8dUmYKD4oKbjJE</td>\n      <td>1.530619e+05</td>\n      <td>-8.000012</td>\n      <td>EN5mwqPwzSRUM74N16eWovp77C6VRTB3q7wrP5LaBQyU</td>\n    </tr>\n    <tr>\n      <th>4</th>\n      <td>sol</td>\n      <td>5qrQkJr28hXZ5MDHZUiNhBg3PCFNay8FD1RdpjpNNkzU4X...</td>\n      <td>[JUP6LkbZbjS1jKKwapdHNy74zcZ3tLUZoi5QNyVTaV4]</td>\n      <td>2024-01-08 19:29:19</td>\n      <td>84GSi1FFvr7ABQmPGqaBzQPKVb1JvKcUSTgLHJQJxg4H</td>\n      <td>-2.490380e+05</td>\n      <td>0.963048</td>\n      <td>2mK8Jz51KGNDHcKGtMYxHVDKYpHsXoENLEnLQrs7ZG87</td>\n    </tr>\n    <tr>\n      <th>...</th>\n      <td>...</td>\n      <td>...</td>\n      <td>...</td>\n      <td>...</td>\n      <td>...</td>\n      <td>...</td>\n      <td>...</td>\n      <td>...</td>\n    </tr>\n    <tr>\n      <th>601588</th>\n      <td>sol</td>\n      <td>Ki7TwDaMC1rakdM2GXuFtWxW5GjZXmrptUmCjiYxEzDRg6...</td>\n      <td>[JUP6LkbZbjS1jKKwapdHNy74zcZ3tLUZoi5QNyVTaV4]</td>\n      <td>2023-12-01 00:00:51</td>\n      <td>BTCBZ6hrcn5g8MANyQep6QVqZWpD5TqjSUKTUKHivkfa</td>\n      <td>2.384775e+01</td>\n      <td>-0.500006</td>\n      <td>2Rh1fA8Dsny9nwJfb1iTd6CJY8exzyf5eevRmyCBRg2K</td>\n    </tr>\n    <tr>\n      <th>601589</th>\n      <td>sol</td>\n      <td>5MLGrok9g8zfFBpG9ZsDwJK2aASqMn6Da8xXf8gTULufh8...</td>\n      <td>[JUP6LkbZbjS1jKKwapdHNy74zcZ3tLUZoi5QNyVTaV4]</td>\n      <td>2023-12-01 00:00:29</td>\n      <td>34D4EMJYxuogro9XSejfaTLgFQoRQSaeHoDVN2fgZbjf</td>\n      <td>1.703537e+07</td>\n      <td>-0.200005</td>\n      <td>B2Kfz5FYvxJ25KRpi6g4hb5iXm9mDPACZ1GnfrdjsAT2</td>\n    </tr>\n    <tr>\n      <th>601590</th>\n      <td>sol</td>\n      <td>3cozyVKw8NzxL13z6G3qaKNwqSnn1qkAhjUVpxfpsTxo4m...</td>\n      <td>[JUP6LkbZbjS1jKKwapdHNy74zcZ3tLUZoi5QNyVTaV4]</td>\n      <td>2023-12-01 00:00:22</td>\n      <td>EuQKmkFiG2d2GSYbSw55YhSj99eyFfaGhPR6dksgdsfq</td>\n      <td>-1.250000e+09</td>\n      <td>1.376617</td>\n      <td>1233KY8anzqJLM2GzaDUHa7g2b5Mj9gcxbgE9ezGYXRk</td>\n    </tr>\n    <tr>\n      <th>601591</th>\n      <td>sol</td>\n      <td>3HfnjcuNWNq2bM784H9qHVxcCpLp5dP7Xp3brkmA5v1XfT...</td>\n      <td>[JUP6LkbZbjS1jKKwapdHNy74zcZ3tLUZoi5QNyVTaV4]</td>\n      <td>2023-12-01 00:00:18</td>\n      <td>DezXAZ8z7PnrnRJjz3wXBoRgixCa6xjnB7YaB1pPB263</td>\n      <td>5.868626e+07</td>\n      <td>-3.823362</td>\n      <td>ZG98FUCjb8mJ824Gbs6RsgVmr1FhXb2oNiJHa2dwmPd</td>\n    </tr>\n    <tr>\n      <th>601592</th>\n      <td>sol</td>\n      <td>5Xh171aLr8fFrfjMh975m4sf8fGFELzp8zCjwubv5D5342...</td>\n      <td>[JUP6LkbZbjS1jKKwapdHNy74zcZ3tLUZoi5QNyVTaV4]</td>\n      <td>2023-12-01 00:00:14</td>\n      <td>PumPRGmZ56t3Vngxo6fCP7ZJQ14oUg3biKxXrEyQBSf</td>\n      <td>-4.778226e+03</td>\n      <td>0.092679</td>\n      <td>ZG98FUCjb8mJ824Gbs6RsgVmr1FhXb2oNiJHa2dwmPd</td>\n    </tr>\n  </tbody>\n</table>\n<p>601593 rows × 8 columns</p>\n</div>"
     },
     "execution_count": 3,
     "metadata": {},
     "output_type": "execute_result"
    }
   ],
   "source": [
    "df"
   ],
   "metadata": {
    "collapsed": false,
    "ExecuteTime": {
     "start_time": "2024-01-08T19:34:56.903903Z"
    }
   },
   "id": "37fe4f99ba1a0da7"
  },
  {
   "cell_type": "code",
   "execution_count": 1,
   "outputs": [
    {
     "ename": "NameError",
     "evalue": "name 'df' is not defined",
     "output_type": "error",
     "traceback": [
      "\u001B[0;31m---------------------------------------------------------------------------\u001B[0m",
      "\u001B[0;31mNameError\u001B[0m                                 Traceback (most recent call last)",
      "Cell \u001B[0;32mIn[1], line 2\u001B[0m\n\u001B[1;32m      1\u001B[0m \u001B[38;5;66;03m# save df to csv\u001B[39;00m\n\u001B[0;32m----> 2\u001B[0m \u001B[43mdf\u001B[49m\u001B[38;5;241m.\u001B[39mto_csv(\u001B[38;5;124m'\u001B[39m\u001B[38;5;124mdf.csv\u001B[39m\u001B[38;5;124m'\u001B[39m, index\u001B[38;5;241m=\u001B[39m\u001B[38;5;28;01mFalse\u001B[39;00m)\n",
      "\u001B[0;31mNameError\u001B[0m: name 'df' is not defined"
     ]
    }
   ],
   "source": [
    "# save df to csv\n",
    "df.to_csv('df.csv', index=False)"
   ],
   "metadata": {
    "collapsed": false,
    "ExecuteTime": {
     "end_time": "2024-01-08T19:37:31.066748Z",
     "start_time": "2024-01-08T19:37:30.878149Z"
    }
   },
   "id": "f5e2b8959c53d00f"
  },
  {
   "cell_type": "code",
   "execution_count": 1,
   "outputs": [
    {
     "name": "stdout",
     "output_type": "stream",
     "text": [
      "Original array: [1. 2. 3.]\n",
      "Processed array: [2. 4. 6.]\n"
     ]
    }
   ],
   "source": [
    "import numpy as np\n",
    "import rust_py_extension  # Import the Rust extension\n",
    "import pandas as pd\n",
    "\n",
    "array = np.array([1.0, 2.0, 3.0])\n",
    "result = rust_py_extension.multiply_by_two(array)\n",
    "print(\"Original array:\", array)\n",
    "print(\"Processed array:\", result)\n"
   ],
   "metadata": {
    "collapsed": false,
    "ExecuteTime": {
     "end_time": "2024-01-08T21:28:28.657038Z",
     "start_time": "2024-01-08T21:28:28.463841Z"
    }
   },
   "id": "initial_id"
  },
  {
   "cell_type": "code",
   "execution_count": 2,
   "outputs": [],
   "source": [
    "# load df from csv\n",
    "df = pd.read_csv('df.csv')"
   ],
   "metadata": {
    "collapsed": false,
    "ExecuteTime": {
     "end_time": "2024-01-08T21:28:31.351952Z",
     "start_time": "2024-01-08T21:28:29.452352Z"
    }
   },
   "id": "166666c6fe3caaac"
  },
  {
   "cell_type": "code",
   "execution_count": 6,
   "outputs": [
    {
     "name": "stdout",
     "output_type": "stream",
     "text": [
      "Records stored: 5762, keys got: 266710, from 2023-12-01T00:00:14+00:00 to 2024-01-08T19:29:36+00:00\n",
      "72561117\n"
     ]
    }
   ],
   "source": [
    "send_df = df[['timestamp', 'mint', 'token_delta', 'sol_delta']]\n",
    "\n",
    "# Convert DataFrame to CSV or JSON\n",
    "csv_data = send_df.to_csv(index=False)\n",
    "# Alternatively: json_data = df.to_json()\n",
    "\n",
    "# Call Rust function\n",
    "result, received_csv_data = rust_py_extension.process_dataframe(csv_data, 600)  # Assume this is your Rust function\n",
    "print(result)\n",
    "print(len(received_csv_data))\n"
   ],
   "metadata": {
    "collapsed": false,
    "ExecuteTime": {
     "end_time": "2024-01-08T21:30:39.354521Z",
     "start_time": "2024-01-08T21:30:28.308919Z"
    }
   },
   "id": "8d739abd5aaa3d39"
  },
  {
   "cell_type": "code",
   "execution_count": 7,
   "outputs": [
    {
     "data": {
      "text/plain": "                                                mint            timestamp  \\\n0       HL7jjWRVdxxEPKUnUP482udocoDMFjvnwCpiYST6KrUW  2024-01-03 10:22:31   \n1       HL7jjWRVdxxEPKUnUP482udocoDMFjvnwCpiYST6KrUW  2024-01-07 12:59:41   \n2       EeQUG1HR2Myiv4jWEZfQfi2S4S1ZgnmBPGVavnv9LqsK  2024-01-02 10:34:00   \n3       EeQUG1HR2Myiv4jWEZfQfi2S4S1ZgnmBPGVavnv9LqsK  2024-01-02 10:49:50   \n4       EeaRhcd9Ytd6FdxynR5fhvisovEa2AQyPq8iESax2nxS  2023-12-25 19:38:33   \n...                                              ...                  ...   \n601588  HDmaRocETBJc7ibVeZxa63E34MpY4hfFPyzxYZ2Fs2cB  2024-01-04 22:17:02   \n601589  HDmaRocETBJc7ibVeZxa63E34MpY4hfFPyzxYZ2Fs2cB  2024-01-05 00:08:45   \n601590  HDmaRocETBJc7ibVeZxa63E34MpY4hfFPyzxYZ2Fs2cB  2024-01-06 02:00:01   \n601591  HDmaRocETBJc7ibVeZxa63E34MpY4hfFPyzxYZ2Fs2cB  2024-01-07 15:56:12   \n601592  BMBK3eXbzJ7AdDuKXVspn8tatnpdt5Wfpo2Jic4k72Qt  2023-12-14 21:13:02   \n\n        last_price   token_delta  sol_delta  token_delta_1h  sol_delta_1h  \\\n0              0.0 -1.515155e+06   0.375406             0.0           0.0   \n1              0.0 -6.541580e+05   0.150262             0.0           0.0   \n2              0.0 -4.104477e+06   1.051975             0.0           0.0   \n3              0.0 -2.138234e+07   1.182206             0.0           0.0   \n4              0.0 -4.299922e+06   0.222379             0.0           0.0   \n...            ...           ...        ...             ...           ...   \n601588         0.0  3.643642e+06  -0.100006             0.0           0.0   \n601589         0.0 -9.168994e+05   0.030861             0.0           0.0   \n601590         0.0 -7.034099e+06   0.037120             0.0           0.0   \n601591         0.0 -1.295965e+07   0.062282             0.0           0.0   \n601592         0.0 -9.455954e+05   0.031458             0.0           0.0   \n\n        token_delta_1d  sol_delta_1d  token_delta_1w  sol_delta_1w  \n0                  0.0           0.0             0.0           0.0  \n1                  0.0           0.0             0.0           0.0  \n2                  0.0           0.0             0.0           0.0  \n3                  0.0           0.0             0.0           0.0  \n4                  0.0           0.0             0.0           0.0  \n...                ...           ...             ...           ...  \n601588             0.0           0.0             0.0           0.0  \n601589             0.0           0.0             0.0           0.0  \n601590             0.0           0.0             0.0           0.0  \n601591             0.0           0.0             0.0           0.0  \n601592             0.0           0.0             0.0           0.0  \n\n[601593 rows x 11 columns]",
      "text/html": "<div>\n<style scoped>\n    .dataframe tbody tr th:only-of-type {\n        vertical-align: middle;\n    }\n\n    .dataframe tbody tr th {\n        vertical-align: top;\n    }\n\n    .dataframe thead th {\n        text-align: right;\n    }\n</style>\n<table border=\"1\" class=\"dataframe\">\n  <thead>\n    <tr style=\"text-align: right;\">\n      <th></th>\n      <th>mint</th>\n      <th>timestamp</th>\n      <th>last_price</th>\n      <th>token_delta</th>\n      <th>sol_delta</th>\n      <th>token_delta_1h</th>\n      <th>sol_delta_1h</th>\n      <th>token_delta_1d</th>\n      <th>sol_delta_1d</th>\n      <th>token_delta_1w</th>\n      <th>sol_delta_1w</th>\n    </tr>\n  </thead>\n  <tbody>\n    <tr>\n      <th>0</th>\n      <td>HL7jjWRVdxxEPKUnUP482udocoDMFjvnwCpiYST6KrUW</td>\n      <td>2024-01-03 10:22:31</td>\n      <td>0.0</td>\n      <td>-1.515155e+06</td>\n      <td>0.375406</td>\n      <td>0.0</td>\n      <td>0.0</td>\n      <td>0.0</td>\n      <td>0.0</td>\n      <td>0.0</td>\n      <td>0.0</td>\n    </tr>\n    <tr>\n      <th>1</th>\n      <td>HL7jjWRVdxxEPKUnUP482udocoDMFjvnwCpiYST6KrUW</td>\n      <td>2024-01-07 12:59:41</td>\n      <td>0.0</td>\n      <td>-6.541580e+05</td>\n      <td>0.150262</td>\n      <td>0.0</td>\n      <td>0.0</td>\n      <td>0.0</td>\n      <td>0.0</td>\n      <td>0.0</td>\n      <td>0.0</td>\n    </tr>\n    <tr>\n      <th>2</th>\n      <td>EeQUG1HR2Myiv4jWEZfQfi2S4S1ZgnmBPGVavnv9LqsK</td>\n      <td>2024-01-02 10:34:00</td>\n      <td>0.0</td>\n      <td>-4.104477e+06</td>\n      <td>1.051975</td>\n      <td>0.0</td>\n      <td>0.0</td>\n      <td>0.0</td>\n      <td>0.0</td>\n      <td>0.0</td>\n      <td>0.0</td>\n    </tr>\n    <tr>\n      <th>3</th>\n      <td>EeQUG1HR2Myiv4jWEZfQfi2S4S1ZgnmBPGVavnv9LqsK</td>\n      <td>2024-01-02 10:49:50</td>\n      <td>0.0</td>\n      <td>-2.138234e+07</td>\n      <td>1.182206</td>\n      <td>0.0</td>\n      <td>0.0</td>\n      <td>0.0</td>\n      <td>0.0</td>\n      <td>0.0</td>\n      <td>0.0</td>\n    </tr>\n    <tr>\n      <th>4</th>\n      <td>EeaRhcd9Ytd6FdxynR5fhvisovEa2AQyPq8iESax2nxS</td>\n      <td>2023-12-25 19:38:33</td>\n      <td>0.0</td>\n      <td>-4.299922e+06</td>\n      <td>0.222379</td>\n      <td>0.0</td>\n      <td>0.0</td>\n      <td>0.0</td>\n      <td>0.0</td>\n      <td>0.0</td>\n      <td>0.0</td>\n    </tr>\n    <tr>\n      <th>...</th>\n      <td>...</td>\n      <td>...</td>\n      <td>...</td>\n      <td>...</td>\n      <td>...</td>\n      <td>...</td>\n      <td>...</td>\n      <td>...</td>\n      <td>...</td>\n      <td>...</td>\n      <td>...</td>\n    </tr>\n    <tr>\n      <th>601588</th>\n      <td>HDmaRocETBJc7ibVeZxa63E34MpY4hfFPyzxYZ2Fs2cB</td>\n      <td>2024-01-04 22:17:02</td>\n      <td>0.0</td>\n      <td>3.643642e+06</td>\n      <td>-0.100006</td>\n      <td>0.0</td>\n      <td>0.0</td>\n      <td>0.0</td>\n      <td>0.0</td>\n      <td>0.0</td>\n      <td>0.0</td>\n    </tr>\n    <tr>\n      <th>601589</th>\n      <td>HDmaRocETBJc7ibVeZxa63E34MpY4hfFPyzxYZ2Fs2cB</td>\n      <td>2024-01-05 00:08:45</td>\n      <td>0.0</td>\n      <td>-9.168994e+05</td>\n      <td>0.030861</td>\n      <td>0.0</td>\n      <td>0.0</td>\n      <td>0.0</td>\n      <td>0.0</td>\n      <td>0.0</td>\n      <td>0.0</td>\n    </tr>\n    <tr>\n      <th>601590</th>\n      <td>HDmaRocETBJc7ibVeZxa63E34MpY4hfFPyzxYZ2Fs2cB</td>\n      <td>2024-01-06 02:00:01</td>\n      <td>0.0</td>\n      <td>-7.034099e+06</td>\n      <td>0.037120</td>\n      <td>0.0</td>\n      <td>0.0</td>\n      <td>0.0</td>\n      <td>0.0</td>\n      <td>0.0</td>\n      <td>0.0</td>\n    </tr>\n    <tr>\n      <th>601591</th>\n      <td>HDmaRocETBJc7ibVeZxa63E34MpY4hfFPyzxYZ2Fs2cB</td>\n      <td>2024-01-07 15:56:12</td>\n      <td>0.0</td>\n      <td>-1.295965e+07</td>\n      <td>0.062282</td>\n      <td>0.0</td>\n      <td>0.0</td>\n      <td>0.0</td>\n      <td>0.0</td>\n      <td>0.0</td>\n      <td>0.0</td>\n    </tr>\n    <tr>\n      <th>601592</th>\n      <td>BMBK3eXbzJ7AdDuKXVspn8tatnpdt5Wfpo2Jic4k72Qt</td>\n      <td>2023-12-14 21:13:02</td>\n      <td>0.0</td>\n      <td>-9.455954e+05</td>\n      <td>0.031458</td>\n      <td>0.0</td>\n      <td>0.0</td>\n      <td>0.0</td>\n      <td>0.0</td>\n      <td>0.0</td>\n      <td>0.0</td>\n    </tr>\n  </tbody>\n</table>\n<p>601593 rows × 11 columns</p>\n</div>"
     },
     "execution_count": 7,
     "metadata": {},
     "output_type": "execute_result"
    }
   ],
   "source": [
    "from io import StringIO\n",
    "\n",
    "# Convert CSV back to DataFrame\n",
    "received_df = pd.read_csv(StringIO(received_csv_data))\n",
    "received_df"
   ],
   "metadata": {
    "collapsed": false,
    "ExecuteTime": {
     "end_time": "2024-01-08T21:30:49.673125Z",
     "start_time": "2024-01-08T21:30:49.183669Z"
    }
   },
   "id": "c5ff54c07ccafcbd"
  },
  {
   "cell_type": "code",
   "execution_count": null,
   "outputs": [],
   "source": [],
   "metadata": {
    "collapsed": false
   },
   "id": "fcac246bc84a41c7"
  }
 ],
 "metadata": {
  "kernelspec": {
   "display_name": "Python 3",
   "language": "python",
   "name": "python3"
  },
  "language_info": {
   "codemirror_mode": {
    "name": "ipython",
    "version": 2
   },
   "file_extension": ".py",
   "mimetype": "text/x-python",
   "name": "python",
   "nbconvert_exporter": "python",
   "pygments_lexer": "ipython2",
   "version": "2.7.6"
  }
 },
 "nbformat": 4,
 "nbformat_minor": 5
}
