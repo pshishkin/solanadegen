{
 "cells": [
  {
   "cell_type": "code",
   "execution_count": 5,
   "outputs": [
    {
     "name": "stderr",
     "output_type": "stream",
     "text": [
      "2024-01-08 22:52:32,748 - INFO - Getting data from db\n",
      "2024-01-08 22:52:52,417 - INFO - Got 605097 records from db\n",
      "2024-01-08 22:52:52,419 - INFO - From 2023-12-01 00:00:14 to 2024-01-08 22:49:23\n",
      "2024-01-08 22:52:52,600 - INFO - Filtered df by program_id, got 567567 records\n"
     ]
    }
   ],
   "source": [
    "from dataprep_rust import get_db_df, filter_by_program_id\n",
    "\n",
    "df = get_db_df(1000000)\n",
    "df = filter_by_program_id(df)"
   ],
   "metadata": {
    "collapsed": false,
    "ExecuteTime": {
     "end_time": "2024-01-08T22:52:52.626491Z",
     "start_time": "2024-01-08T22:52:32.726673Z"
    }
   },
   "id": "1fd88f4549e3c02e"
  },
  {
   "cell_type": "code",
   "execution_count": 6,
   "outputs": [
    {
     "data": {
      "text/plain": "       source                                          signature  \\\n0         sol  2MWRpzzL4b3fHR8d9CHaaNWi35w6R8DhsScDYZP6YVt8xM...   \n1         sol  fzkvPhG6uQYjww5ddZ9p2aojG15XQmUHYLvFmt3e17vQiw...   \n2         sol  E6d8kzJkswSmM53SWF37tY9hmKTVYGiYeZpasM4FxyVFRg...   \n3         sol  4KJsHiTS7Q7NRrMebDRgXjq6ugmW4HGUcHan4kMfjDffWN...   \n4         sol  5ZrdA1nvPbDjwqoSaED36u8Wkp1XBmkk2a56CwnXnTgXb9...   \n...       ...                                                ...   \n605092    sol  Ki7TwDaMC1rakdM2GXuFtWxW5GjZXmrptUmCjiYxEzDRg6...   \n605093    sol  5MLGrok9g8zfFBpG9ZsDwJK2aASqMn6Da8xXf8gTULufh8...   \n605094    sol  3cozyVKw8NzxL13z6G3qaKNwqSnn1qkAhjUVpxfpsTxo4m...   \n605095    sol  3HfnjcuNWNq2bM784H9qHVxcCpLp5dP7Xp3brkmA5v1XfT...   \n605096    sol  5Xh171aLr8fFrfjMh975m4sf8fGFELzp8zCjwubv5D5342...   \n\n                                          program_ids           timestamp  \\\n0       [JUP6LkbZbjS1jKKwapdHNy74zcZ3tLUZoi5QNyVTaV4] 2024-01-08 22:49:23   \n1       [JUP6LkbZbjS1jKKwapdHNy74zcZ3tLUZoi5QNyVTaV4] 2024-01-08 22:49:20   \n2       [JUP6LkbZbjS1jKKwapdHNy74zcZ3tLUZoi5QNyVTaV4] 2024-01-08 22:49:18   \n3       [JUP6LkbZbjS1jKKwapdHNy74zcZ3tLUZoi5QNyVTaV4] 2024-01-08 22:49:11   \n4       [JUP6LkbZbjS1jKKwapdHNy74zcZ3tLUZoi5QNyVTaV4] 2024-01-08 22:49:00   \n...                                               ...                 ...   \n605092  [JUP6LkbZbjS1jKKwapdHNy74zcZ3tLUZoi5QNyVTaV4] 2023-12-01 00:00:51   \n605093  [JUP6LkbZbjS1jKKwapdHNy74zcZ3tLUZoi5QNyVTaV4] 2023-12-01 00:00:29   \n605094  [JUP6LkbZbjS1jKKwapdHNy74zcZ3tLUZoi5QNyVTaV4] 2023-12-01 00:00:22   \n605095  [JUP6LkbZbjS1jKKwapdHNy74zcZ3tLUZoi5QNyVTaV4] 2023-12-01 00:00:18   \n605096  [JUP6LkbZbjS1jKKwapdHNy74zcZ3tLUZoi5QNyVTaV4] 2023-12-01 00:00:14   \n\n                                                mint   token_delta  sol_delta  \\\n0       Es9vMFrzaCERmJfrF4H2FYD4KCoNkY11McCe8BenwNYB  2.317414e+02  -2.376324   \n1       EPjFWdd5AufqSSqeM2qN1xzybapC8G4wEGGkZwyTDt1v  3.193000e+02  -3.300033   \n2       EPjFWdd5AufqSSqeM2qN1xzybapC8G4wEGGkZwyTDt1v -2.493780e+03  25.544986   \n3       5qN3WZM8ohUJhLmS8tCZHYXyEbzXa3CHcpuELHfbTe1q  6.954722e+05  -6.840008   \n4       4icEZCrEYNop2ZaMMCkRHaNzkt6xG9BpijMCQV7mpw6Z -4.000000e+04   0.808597   \n...                                              ...           ...        ...   \n605092  BTCBZ6hrcn5g8MANyQep6QVqZWpD5TqjSUKTUKHivkfa  2.384775e+01  -0.500006   \n605093  34D4EMJYxuogro9XSejfaTLgFQoRQSaeHoDVN2fgZbjf  1.703537e+07  -0.200005   \n605094  EuQKmkFiG2d2GSYbSw55YhSj99eyFfaGhPR6dksgdsfq -1.250000e+09   1.376617   \n605095  DezXAZ8z7PnrnRJjz3wXBoRgixCa6xjnB7YaB1pPB263  5.868626e+07  -3.823362   \n605096   PumPRGmZ56t3Vngxo6fCP7ZJQ14oUg3biKxXrEyQBSf -4.778226e+03   0.092679   \n\n                                              trader  \n0       G2KDmzwHEHGdCrpMH7kK8sNvubA2Xz8YrH5ox79eyVJZ  \n1       JECuNTMyPTbvNz7Mb6zuSgd7dFf3EmXP1q7NKHsqsojf  \n2       7VV57tseDwA35ApjTkuytEmRNFmNB4cDGD4Ed5uEM6mQ  \n3       BdZEeqBqkg7xnFnPifX9xjo6cj9wLcU83GmdXAp4UYar  \n4       4U1snZLWu32a6gAVS35PgibFx7RgqzmUBHsp9VWyxPEo  \n...                                              ...  \n605092  2Rh1fA8Dsny9nwJfb1iTd6CJY8exzyf5eevRmyCBRg2K  \n605093  B2Kfz5FYvxJ25KRpi6g4hb5iXm9mDPACZ1GnfrdjsAT2  \n605094  1233KY8anzqJLM2GzaDUHa7g2b5Mj9gcxbgE9ezGYXRk  \n605095   ZG98FUCjb8mJ824Gbs6RsgVmr1FhXb2oNiJHa2dwmPd  \n605096   ZG98FUCjb8mJ824Gbs6RsgVmr1FhXb2oNiJHa2dwmPd  \n\n[567567 rows x 8 columns]",
      "text/html": "<div>\n<style scoped>\n    .dataframe tbody tr th:only-of-type {\n        vertical-align: middle;\n    }\n\n    .dataframe tbody tr th {\n        vertical-align: top;\n    }\n\n    .dataframe thead th {\n        text-align: right;\n    }\n</style>\n<table border=\"1\" class=\"dataframe\">\n  <thead>\n    <tr style=\"text-align: right;\">\n      <th></th>\n      <th>source</th>\n      <th>signature</th>\n      <th>program_ids</th>\n      <th>timestamp</th>\n      <th>mint</th>\n      <th>token_delta</th>\n      <th>sol_delta</th>\n      <th>trader</th>\n    </tr>\n  </thead>\n  <tbody>\n    <tr>\n      <th>0</th>\n      <td>sol</td>\n      <td>2MWRpzzL4b3fHR8d9CHaaNWi35w6R8DhsScDYZP6YVt8xM...</td>\n      <td>[JUP6LkbZbjS1jKKwapdHNy74zcZ3tLUZoi5QNyVTaV4]</td>\n      <td>2024-01-08 22:49:23</td>\n      <td>Es9vMFrzaCERmJfrF4H2FYD4KCoNkY11McCe8BenwNYB</td>\n      <td>2.317414e+02</td>\n      <td>-2.376324</td>\n      <td>G2KDmzwHEHGdCrpMH7kK8sNvubA2Xz8YrH5ox79eyVJZ</td>\n    </tr>\n    <tr>\n      <th>1</th>\n      <td>sol</td>\n      <td>fzkvPhG6uQYjww5ddZ9p2aojG15XQmUHYLvFmt3e17vQiw...</td>\n      <td>[JUP6LkbZbjS1jKKwapdHNy74zcZ3tLUZoi5QNyVTaV4]</td>\n      <td>2024-01-08 22:49:20</td>\n      <td>EPjFWdd5AufqSSqeM2qN1xzybapC8G4wEGGkZwyTDt1v</td>\n      <td>3.193000e+02</td>\n      <td>-3.300033</td>\n      <td>JECuNTMyPTbvNz7Mb6zuSgd7dFf3EmXP1q7NKHsqsojf</td>\n    </tr>\n    <tr>\n      <th>2</th>\n      <td>sol</td>\n      <td>E6d8kzJkswSmM53SWF37tY9hmKTVYGiYeZpasM4FxyVFRg...</td>\n      <td>[JUP6LkbZbjS1jKKwapdHNy74zcZ3tLUZoi5QNyVTaV4]</td>\n      <td>2024-01-08 22:49:18</td>\n      <td>EPjFWdd5AufqSSqeM2qN1xzybapC8G4wEGGkZwyTDt1v</td>\n      <td>-2.493780e+03</td>\n      <td>25.544986</td>\n      <td>7VV57tseDwA35ApjTkuytEmRNFmNB4cDGD4Ed5uEM6mQ</td>\n    </tr>\n    <tr>\n      <th>3</th>\n      <td>sol</td>\n      <td>4KJsHiTS7Q7NRrMebDRgXjq6ugmW4HGUcHan4kMfjDffWN...</td>\n      <td>[JUP6LkbZbjS1jKKwapdHNy74zcZ3tLUZoi5QNyVTaV4]</td>\n      <td>2024-01-08 22:49:11</td>\n      <td>5qN3WZM8ohUJhLmS8tCZHYXyEbzXa3CHcpuELHfbTe1q</td>\n      <td>6.954722e+05</td>\n      <td>-6.840008</td>\n      <td>BdZEeqBqkg7xnFnPifX9xjo6cj9wLcU83GmdXAp4UYar</td>\n    </tr>\n    <tr>\n      <th>4</th>\n      <td>sol</td>\n      <td>5ZrdA1nvPbDjwqoSaED36u8Wkp1XBmkk2a56CwnXnTgXb9...</td>\n      <td>[JUP6LkbZbjS1jKKwapdHNy74zcZ3tLUZoi5QNyVTaV4]</td>\n      <td>2024-01-08 22:49:00</td>\n      <td>4icEZCrEYNop2ZaMMCkRHaNzkt6xG9BpijMCQV7mpw6Z</td>\n      <td>-4.000000e+04</td>\n      <td>0.808597</td>\n      <td>4U1snZLWu32a6gAVS35PgibFx7RgqzmUBHsp9VWyxPEo</td>\n    </tr>\n    <tr>\n      <th>...</th>\n      <td>...</td>\n      <td>...</td>\n      <td>...</td>\n      <td>...</td>\n      <td>...</td>\n      <td>...</td>\n      <td>...</td>\n      <td>...</td>\n    </tr>\n    <tr>\n      <th>605092</th>\n      <td>sol</td>\n      <td>Ki7TwDaMC1rakdM2GXuFtWxW5GjZXmrptUmCjiYxEzDRg6...</td>\n      <td>[JUP6LkbZbjS1jKKwapdHNy74zcZ3tLUZoi5QNyVTaV4]</td>\n      <td>2023-12-01 00:00:51</td>\n      <td>BTCBZ6hrcn5g8MANyQep6QVqZWpD5TqjSUKTUKHivkfa</td>\n      <td>2.384775e+01</td>\n      <td>-0.500006</td>\n      <td>2Rh1fA8Dsny9nwJfb1iTd6CJY8exzyf5eevRmyCBRg2K</td>\n    </tr>\n    <tr>\n      <th>605093</th>\n      <td>sol</td>\n      <td>5MLGrok9g8zfFBpG9ZsDwJK2aASqMn6Da8xXf8gTULufh8...</td>\n      <td>[JUP6LkbZbjS1jKKwapdHNy74zcZ3tLUZoi5QNyVTaV4]</td>\n      <td>2023-12-01 00:00:29</td>\n      <td>34D4EMJYxuogro9XSejfaTLgFQoRQSaeHoDVN2fgZbjf</td>\n      <td>1.703537e+07</td>\n      <td>-0.200005</td>\n      <td>B2Kfz5FYvxJ25KRpi6g4hb5iXm9mDPACZ1GnfrdjsAT2</td>\n    </tr>\n    <tr>\n      <th>605094</th>\n      <td>sol</td>\n      <td>3cozyVKw8NzxL13z6G3qaKNwqSnn1qkAhjUVpxfpsTxo4m...</td>\n      <td>[JUP6LkbZbjS1jKKwapdHNy74zcZ3tLUZoi5QNyVTaV4]</td>\n      <td>2023-12-01 00:00:22</td>\n      <td>EuQKmkFiG2d2GSYbSw55YhSj99eyFfaGhPR6dksgdsfq</td>\n      <td>-1.250000e+09</td>\n      <td>1.376617</td>\n      <td>1233KY8anzqJLM2GzaDUHa7g2b5Mj9gcxbgE9ezGYXRk</td>\n    </tr>\n    <tr>\n      <th>605095</th>\n      <td>sol</td>\n      <td>3HfnjcuNWNq2bM784H9qHVxcCpLp5dP7Xp3brkmA5v1XfT...</td>\n      <td>[JUP6LkbZbjS1jKKwapdHNy74zcZ3tLUZoi5QNyVTaV4]</td>\n      <td>2023-12-01 00:00:18</td>\n      <td>DezXAZ8z7PnrnRJjz3wXBoRgixCa6xjnB7YaB1pPB263</td>\n      <td>5.868626e+07</td>\n      <td>-3.823362</td>\n      <td>ZG98FUCjb8mJ824Gbs6RsgVmr1FhXb2oNiJHa2dwmPd</td>\n    </tr>\n    <tr>\n      <th>605096</th>\n      <td>sol</td>\n      <td>5Xh171aLr8fFrfjMh975m4sf8fGFELzp8zCjwubv5D5342...</td>\n      <td>[JUP6LkbZbjS1jKKwapdHNy74zcZ3tLUZoi5QNyVTaV4]</td>\n      <td>2023-12-01 00:00:14</td>\n      <td>PumPRGmZ56t3Vngxo6fCP7ZJQ14oUg3biKxXrEyQBSf</td>\n      <td>-4.778226e+03</td>\n      <td>0.092679</td>\n      <td>ZG98FUCjb8mJ824Gbs6RsgVmr1FhXb2oNiJHa2dwmPd</td>\n    </tr>\n  </tbody>\n</table>\n<p>567567 rows × 8 columns</p>\n</div>"
     },
     "execution_count": 6,
     "metadata": {},
     "output_type": "execute_result"
    }
   ],
   "source": [
    "df"
   ],
   "metadata": {
    "collapsed": false,
    "ExecuteTime": {
     "end_time": "2024-01-08T22:53:02.600710Z",
     "start_time": "2024-01-08T22:53:02.544264Z"
    }
   },
   "id": "37fe4f99ba1a0da7"
  },
  {
   "cell_type": "code",
   "execution_count": 7,
   "outputs": [],
   "source": [
    "# save df to csv\n",
    "df.to_csv('df.csv', index=False)"
   ],
   "metadata": {
    "collapsed": false,
    "ExecuteTime": {
     "end_time": "2024-01-08T22:53:08.311602Z",
     "start_time": "2024-01-08T22:53:05.769625Z"
    }
   },
   "id": "f5e2b8959c53d00f"
  },
  {
   "cell_type": "code",
   "execution_count": 1,
   "outputs": [
    {
     "name": "stdout",
     "output_type": "stream",
     "text": [
      "Original array: [1. 2. 3.]\n",
      "Processed array: [2. 4. 6.]\n"
     ]
    }
   ],
   "source": [
    "import numpy as np\n",
    "import rust_py_extension  # Import the Rust extension\n",
    "import pandas as pd\n",
    "\n",
    "array = np.array([1.0, 2.0, 3.0])\n",
    "result = rust_py_extension.multiply_by_two(array)\n",
    "print(\"Original array:\", array)\n",
    "print(\"Processed array:\", result)\n"
   ],
   "metadata": {
    "collapsed": false,
    "ExecuteTime": {
     "end_time": "2024-01-09T20:21:21.766991Z",
     "start_time": "2024-01-09T20:21:21.566750Z"
    }
   },
   "id": "initial_id"
  },
  {
   "cell_type": "code",
   "execution_count": 2,
   "outputs": [],
   "source": [
    "# load df from csv\n",
    "df = pd.read_csv('df.csv')"
   ],
   "metadata": {
    "collapsed": false,
    "ExecuteTime": {
     "end_time": "2024-01-09T20:21:23.474778Z",
     "start_time": "2024-01-09T20:21:22.256843Z"
    }
   },
   "id": "166666c6fe3caaac"
  },
  {
   "cell_type": "code",
   "execution_count": 3,
   "outputs": [
    {
     "name": "stdout",
     "output_type": "stream",
     "text": [
      "Records stored: 5785, keys got: 267371, from 1701388800 to 1704753600\n",
      "274377667\n"
     ]
    }
   ],
   "source": [
    "send_df = df[['timestamp', 'mint', 'token_delta', 'sol_delta']]\n",
    "\n",
    "# Convert DataFrame to CSV or JSON\n",
    "csv_data = send_df.to_csv(index=False)\n",
    "# Alternatively: json_data = df.to_json()\n",
    "\n",
    "# Call Rust function\n",
    "result, received_csv_data = rust_py_extension.process_dataframe(csv_data, 600, 600, 600 * 2, 600 * 24 * 6, 600)  # Assume this is your Rust function\n",
    "print(result)\n",
    "print(len(received_csv_data))\n"
   ],
   "metadata": {
    "collapsed": false,
    "ExecuteTime": {
     "end_time": "2024-01-09T20:22:11.498547Z",
     "start_time": "2024-01-09T20:21:23.475987Z"
    }
   },
   "id": "8d739abd5aaa3d39"
  },
  {
   "cell_type": "code",
   "execution_count": 4,
   "outputs": [
    {
     "data": {
      "text/plain": "                                                mint            timestamp  \\\n0       2ZE6hSL36e44wP168YMnxrbi1CSCFuD2BJm7NoNHfsmN  2023-12-01 00:00:00   \n1       34D4EMJYxuogro9XSejfaTLgFQoRQSaeHoDVN2fgZbjf  2023-12-01 00:00:00   \n2       3w1ZecfKMmjoKWizVncpt92QdWhW8EUwDsSY1Lvxz1Wm  2023-12-01 00:00:00   \n3       4SZjjNABoqhbd4hnapbvoEPEqT8mnNkfbEoAwALf1V8t  2023-12-01 00:00:00   \n4       65nTNuJGHme4PQvKQyJykKp1bJAkK4A8Q66sd2yBWugf  2023-12-01 00:00:00   \n...                                              ...                  ...   \n267366   hntyVP6YFm1Hg25TN9WGLqM12b8TQmcknKrdu1oxWux  2024-01-08 22:40:00   \n267367   mSoLzYCxHdYgdzU16g5QSh3i5K3z3KZK7ytfqcJm7So  2024-01-08 22:40:00   \n267368   mb1eu7TzEc71KxDpsmsKoucSSuuoGLv1drys1oP2jh6  2024-01-08 22:40:00   \n267369   o48K8V3WEhTdbXAWXRryM1J1mc7s69nnmPXJbi2PkPD  2024-01-08 22:40:00   \n267370   tQZz1apyqnac2gW3CAodaLvEwrQzQqR5tDBiEUY2LRq  2024-01-08 22:40:00   \n\n         quant_price     buy_price    sell_price    upside class  \\\n0       5.612008e-05  5.512779e-05  5.371040e-05 -0.025711  flat   \n1       1.174059e-08  1.174059e-08  0.000000e+00 -1.000000    na   \n2       4.608096e-11  0.000000e+00  0.000000e+00       NaN    na   \n3       2.668228e-03  2.668228e-03  2.750411e-03  0.030801  flat   \n4       6.101652e-08  6.101652e-08  6.545120e-08  0.072680  flat   \n...              ...           ...           ...       ...   ...   \n267366  5.535121e-02  0.000000e+00  0.000000e+00       NaN    na   \n267367  1.159259e+00  0.000000e+00  0.000000e+00       NaN    na   \n267368  2.988135e-05  0.000000e+00  0.000000e+00       NaN    na   \n267369  7.837979e-08  0.000000e+00  0.000000e+00       NaN    na   \n267370  7.825926e-07  0.000000e+00  0.000000e+00       NaN    na   \n\n        found_points_now  price_sma_now  price_ema_now  ...  vol_ema_sum_10m  \\\n0                      1              1              1  ...         0.072769   \n1                      1              1              1  ...         0.200005   \n2                      1              1              1  ...         0.764020   \n3                      1              1              1  ...         1.300014   \n4                      1              1              1  ...         0.047915   \n...                  ...            ...            ...  ...              ...   \n267366                 1              1              1  ...         1.606102   \n267367                 1              1              1  ...       108.785350   \n267368                 1              1              1  ...         1.856512   \n267369                 1              1              1  ...         0.951264   \n267370                 1              1              1  ...         2.822398   \n\n        trcnt_sma_sum_1h  vol_sma_sum_1h  vol_ema_sum_1h  trcnt_sma_sum_4h  \\\n0               1.000000        0.072769        0.072769          1.000000   \n1               1.000000        0.200005        0.200005          1.000000   \n2               2.000000        0.764020        0.764020          2.000000   \n3               1.000000        1.300014        1.300014          1.000000   \n4               1.000000        0.047915        0.047915          1.000000   \n...                  ...             ...             ...               ...   \n267366          2.642857        6.831300        6.158373          8.500000   \n267367          7.428571      199.355720      290.529203         28.285714   \n267368          2.000000       34.054859       43.722815          9.428571   \n267369         18.750000       12.023853       10.071340         75.000000   \n267370         26.500000       15.699176       15.268370         79.500000   \n\n        vol_sma_sum_4h  vol_ema_sum_4h  trcnt_sma_sum_1d  vol_sma_sum_1d  \\\n0             0.072769        0.072769          1.000000        0.072769   \n1             0.200005        0.200005          1.000000        0.200005   \n2             0.764020        0.764020          2.000000        0.764020   \n3             1.300014        1.300014          1.000000        1.300014   \n4             0.047915        0.047915          1.000000        0.047915   \n...                ...             ...               ...             ...   \n267366       33.637290       28.959246         54.928571      278.188959   \n267367      639.123404      740.130857        156.500000     7242.712469   \n267368       55.084170       75.064800         66.357143      611.167408   \n267369       48.095412       43.294913        150.000000       96.190823   \n267370       47.097529       49.403522        159.000000       94.195057   \n\n        vol_ema_sum_1d  \n0             0.072769  \n1             0.200005  \n2             0.764020  \n3             1.300014  \n4             0.047915  \n...                ...  \n267366      267.960805  \n267367     5675.008207  \n267368      581.214146  \n267369       96.190823  \n267370       94.195057  \n\n[267371 rows x 72 columns]",
      "text/html": "<div>\n<style scoped>\n    .dataframe tbody tr th:only-of-type {\n        vertical-align: middle;\n    }\n\n    .dataframe tbody tr th {\n        vertical-align: top;\n    }\n\n    .dataframe thead th {\n        text-align: right;\n    }\n</style>\n<table border=\"1\" class=\"dataframe\">\n  <thead>\n    <tr style=\"text-align: right;\">\n      <th></th>\n      <th>mint</th>\n      <th>timestamp</th>\n      <th>quant_price</th>\n      <th>buy_price</th>\n      <th>sell_price</th>\n      <th>upside</th>\n      <th>class</th>\n      <th>found_points_now</th>\n      <th>price_sma_now</th>\n      <th>price_ema_now</th>\n      <th>...</th>\n      <th>vol_ema_sum_10m</th>\n      <th>trcnt_sma_sum_1h</th>\n      <th>vol_sma_sum_1h</th>\n      <th>vol_ema_sum_1h</th>\n      <th>trcnt_sma_sum_4h</th>\n      <th>vol_sma_sum_4h</th>\n      <th>vol_ema_sum_4h</th>\n      <th>trcnt_sma_sum_1d</th>\n      <th>vol_sma_sum_1d</th>\n      <th>vol_ema_sum_1d</th>\n    </tr>\n  </thead>\n  <tbody>\n    <tr>\n      <th>0</th>\n      <td>2ZE6hSL36e44wP168YMnxrbi1CSCFuD2BJm7NoNHfsmN</td>\n      <td>2023-12-01 00:00:00</td>\n      <td>5.612008e-05</td>\n      <td>5.512779e-05</td>\n      <td>5.371040e-05</td>\n      <td>-0.025711</td>\n      <td>flat</td>\n      <td>1</td>\n      <td>1</td>\n      <td>1</td>\n      <td>...</td>\n      <td>0.072769</td>\n      <td>1.000000</td>\n      <td>0.072769</td>\n      <td>0.072769</td>\n      <td>1.000000</td>\n      <td>0.072769</td>\n      <td>0.072769</td>\n      <td>1.000000</td>\n      <td>0.072769</td>\n      <td>0.072769</td>\n    </tr>\n    <tr>\n      <th>1</th>\n      <td>34D4EMJYxuogro9XSejfaTLgFQoRQSaeHoDVN2fgZbjf</td>\n      <td>2023-12-01 00:00:00</td>\n      <td>1.174059e-08</td>\n      <td>1.174059e-08</td>\n      <td>0.000000e+00</td>\n      <td>-1.000000</td>\n      <td>na</td>\n      <td>1</td>\n      <td>1</td>\n      <td>1</td>\n      <td>...</td>\n      <td>0.200005</td>\n      <td>1.000000</td>\n      <td>0.200005</td>\n      <td>0.200005</td>\n      <td>1.000000</td>\n      <td>0.200005</td>\n      <td>0.200005</td>\n      <td>1.000000</td>\n      <td>0.200005</td>\n      <td>0.200005</td>\n    </tr>\n    <tr>\n      <th>2</th>\n      <td>3w1ZecfKMmjoKWizVncpt92QdWhW8EUwDsSY1Lvxz1Wm</td>\n      <td>2023-12-01 00:00:00</td>\n      <td>4.608096e-11</td>\n      <td>0.000000e+00</td>\n      <td>0.000000e+00</td>\n      <td>NaN</td>\n      <td>na</td>\n      <td>1</td>\n      <td>1</td>\n      <td>1</td>\n      <td>...</td>\n      <td>0.764020</td>\n      <td>2.000000</td>\n      <td>0.764020</td>\n      <td>0.764020</td>\n      <td>2.000000</td>\n      <td>0.764020</td>\n      <td>0.764020</td>\n      <td>2.000000</td>\n      <td>0.764020</td>\n      <td>0.764020</td>\n    </tr>\n    <tr>\n      <th>3</th>\n      <td>4SZjjNABoqhbd4hnapbvoEPEqT8mnNkfbEoAwALf1V8t</td>\n      <td>2023-12-01 00:00:00</td>\n      <td>2.668228e-03</td>\n      <td>2.668228e-03</td>\n      <td>2.750411e-03</td>\n      <td>0.030801</td>\n      <td>flat</td>\n      <td>1</td>\n      <td>1</td>\n      <td>1</td>\n      <td>...</td>\n      <td>1.300014</td>\n      <td>1.000000</td>\n      <td>1.300014</td>\n      <td>1.300014</td>\n      <td>1.000000</td>\n      <td>1.300014</td>\n      <td>1.300014</td>\n      <td>1.000000</td>\n      <td>1.300014</td>\n      <td>1.300014</td>\n    </tr>\n    <tr>\n      <th>4</th>\n      <td>65nTNuJGHme4PQvKQyJykKp1bJAkK4A8Q66sd2yBWugf</td>\n      <td>2023-12-01 00:00:00</td>\n      <td>6.101652e-08</td>\n      <td>6.101652e-08</td>\n      <td>6.545120e-08</td>\n      <td>0.072680</td>\n      <td>flat</td>\n      <td>1</td>\n      <td>1</td>\n      <td>1</td>\n      <td>...</td>\n      <td>0.047915</td>\n      <td>1.000000</td>\n      <td>0.047915</td>\n      <td>0.047915</td>\n      <td>1.000000</td>\n      <td>0.047915</td>\n      <td>0.047915</td>\n      <td>1.000000</td>\n      <td>0.047915</td>\n      <td>0.047915</td>\n    </tr>\n    <tr>\n      <th>...</th>\n      <td>...</td>\n      <td>...</td>\n      <td>...</td>\n      <td>...</td>\n      <td>...</td>\n      <td>...</td>\n      <td>...</td>\n      <td>...</td>\n      <td>...</td>\n      <td>...</td>\n      <td>...</td>\n      <td>...</td>\n      <td>...</td>\n      <td>...</td>\n      <td>...</td>\n      <td>...</td>\n      <td>...</td>\n      <td>...</td>\n      <td>...</td>\n      <td>...</td>\n      <td>...</td>\n    </tr>\n    <tr>\n      <th>267366</th>\n      <td>hntyVP6YFm1Hg25TN9WGLqM12b8TQmcknKrdu1oxWux</td>\n      <td>2024-01-08 22:40:00</td>\n      <td>5.535121e-02</td>\n      <td>0.000000e+00</td>\n      <td>0.000000e+00</td>\n      <td>NaN</td>\n      <td>na</td>\n      <td>1</td>\n      <td>1</td>\n      <td>1</td>\n      <td>...</td>\n      <td>1.606102</td>\n      <td>2.642857</td>\n      <td>6.831300</td>\n      <td>6.158373</td>\n      <td>8.500000</td>\n      <td>33.637290</td>\n      <td>28.959246</td>\n      <td>54.928571</td>\n      <td>278.188959</td>\n      <td>267.960805</td>\n    </tr>\n    <tr>\n      <th>267367</th>\n      <td>mSoLzYCxHdYgdzU16g5QSh3i5K3z3KZK7ytfqcJm7So</td>\n      <td>2024-01-08 22:40:00</td>\n      <td>1.159259e+00</td>\n      <td>0.000000e+00</td>\n      <td>0.000000e+00</td>\n      <td>NaN</td>\n      <td>na</td>\n      <td>1</td>\n      <td>1</td>\n      <td>1</td>\n      <td>...</td>\n      <td>108.785350</td>\n      <td>7.428571</td>\n      <td>199.355720</td>\n      <td>290.529203</td>\n      <td>28.285714</td>\n      <td>639.123404</td>\n      <td>740.130857</td>\n      <td>156.500000</td>\n      <td>7242.712469</td>\n      <td>5675.008207</td>\n    </tr>\n    <tr>\n      <th>267368</th>\n      <td>mb1eu7TzEc71KxDpsmsKoucSSuuoGLv1drys1oP2jh6</td>\n      <td>2024-01-08 22:40:00</td>\n      <td>2.988135e-05</td>\n      <td>0.000000e+00</td>\n      <td>0.000000e+00</td>\n      <td>NaN</td>\n      <td>na</td>\n      <td>1</td>\n      <td>1</td>\n      <td>1</td>\n      <td>...</td>\n      <td>1.856512</td>\n      <td>2.000000</td>\n      <td>34.054859</td>\n      <td>43.722815</td>\n      <td>9.428571</td>\n      <td>55.084170</td>\n      <td>75.064800</td>\n      <td>66.357143</td>\n      <td>611.167408</td>\n      <td>581.214146</td>\n    </tr>\n    <tr>\n      <th>267369</th>\n      <td>o48K8V3WEhTdbXAWXRryM1J1mc7s69nnmPXJbi2PkPD</td>\n      <td>2024-01-08 22:40:00</td>\n      <td>7.837979e-08</td>\n      <td>0.000000e+00</td>\n      <td>0.000000e+00</td>\n      <td>NaN</td>\n      <td>na</td>\n      <td>1</td>\n      <td>1</td>\n      <td>1</td>\n      <td>...</td>\n      <td>0.951264</td>\n      <td>18.750000</td>\n      <td>12.023853</td>\n      <td>10.071340</td>\n      <td>75.000000</td>\n      <td>48.095412</td>\n      <td>43.294913</td>\n      <td>150.000000</td>\n      <td>96.190823</td>\n      <td>96.190823</td>\n    </tr>\n    <tr>\n      <th>267370</th>\n      <td>tQZz1apyqnac2gW3CAodaLvEwrQzQqR5tDBiEUY2LRq</td>\n      <td>2024-01-08 22:40:00</td>\n      <td>7.825926e-07</td>\n      <td>0.000000e+00</td>\n      <td>0.000000e+00</td>\n      <td>NaN</td>\n      <td>na</td>\n      <td>1</td>\n      <td>1</td>\n      <td>1</td>\n      <td>...</td>\n      <td>2.822398</td>\n      <td>26.500000</td>\n      <td>15.699176</td>\n      <td>15.268370</td>\n      <td>79.500000</td>\n      <td>47.097529</td>\n      <td>49.403522</td>\n      <td>159.000000</td>\n      <td>94.195057</td>\n      <td>94.195057</td>\n    </tr>\n  </tbody>\n</table>\n<p>267371 rows × 72 columns</p>\n</div>"
     },
     "execution_count": 4,
     "metadata": {},
     "output_type": "execute_result"
    }
   ],
   "source": [
    "from io import StringIO\n",
    "\n",
    "# Convert CSV back to DataFrame\n",
    "received_df = pd.read_csv(StringIO(received_csv_data))\n",
    "received_df['upside'] = received_df['sell_price'] / received_df['buy_price'] - 1\n",
    "# move 'upside' to the second column\n",
    "cols = list(received_df)\n",
    "cols.insert(5, cols.pop(cols.index('upside')))\n",
    "received_df = received_df.loc[:, cols]\n",
    "received_df['class'] = 'na'\n",
    "cols = list(received_df)\n",
    "cols.insert(6, cols.pop(cols.index('class')))\n",
    "received_df = received_df.loc[:, cols]\n",
    "\n",
    "received_df.loc[(received_df['sell_price'] > 0), 'class'] = 'flat'\n",
    "received_df.loc[(received_df['upside'] + 1 > 4) & (received_df['sell_price'] > 0), 'class'] = 'up'\n",
    "received_df.loc[(received_df['upside'] + 1 < 0.25) & (received_df['sell_price'] > 0), 'class'] = 'down'\n",
    "\n",
    "received_df"
   ],
   "metadata": {
    "collapsed": false,
    "ExecuteTime": {
     "end_time": "2024-01-09T20:22:13.509980Z",
     "start_time": "2024-01-09T20:22:11.743601Z"
    }
   },
   "id": "c5ff54c07ccafcbd"
  },
  {
   "cell_type": "code",
   "execution_count": 5,
   "outputs": [
    {
     "data": {
      "text/plain": "class\nflat    240009\nna       21678\ndown      3376\nup        2308\nName: count, dtype: int64"
     },
     "execution_count": 5,
     "metadata": {},
     "output_type": "execute_result"
    }
   ],
   "source": [
    "# class stats\n",
    "received_df['class'].value_counts()"
   ],
   "metadata": {
    "collapsed": false,
    "ExecuteTime": {
     "end_time": "2024-01-09T20:09:30.627057Z",
     "start_time": "2024-01-09T20:09:30.618012Z"
    }
   },
   "id": "fcac246bc84a41c7"
  },
  {
   "cell_type": "code",
   "execution_count": 6,
   "outputs": [
    {
     "data": {
      "text/plain": "        quant_price     buy_price    sell_price        upside  day_of_week  \\\ncount  2.673710e+05  2.673710e+05  2.673710e+05  2.615860e+05     267371.0   \nmean   1.584268e+00  1.484605e+00  1.890791e+00  8.182289e+03         -1.0   \nstd    1.725316e+02  1.690201e+02  9.596950e+01  7.860196e+05          0.0   \nmin    3.076663e-18  0.000000e+00  0.000000e+00 -1.000000e+00         -1.0   \n25%    3.704599e-07  3.326203e-07  1.543997e-07 -2.330782e-01         -1.0   \n50%    8.130695e-06  7.821660e-06  5.763699e-06 -2.965642e-02         -1.0   \n75%    4.125806e-04  4.002249e-04  3.143871e-04  4.663736e-02         -1.0   \nmax    7.973648e+04  7.973648e+04  1.003676e+04  8.660773e+07         -1.0   \n\n           hour  found_points_now  price_sma_now  price_ema_now  \\\ncount  267371.0          267371.0       267371.0       267371.0   \nmean       -1.0               1.0            1.0            1.0   \nstd         0.0               0.0            0.0            0.0   \nmin        -1.0               1.0            1.0            1.0   \n25%        -1.0               1.0            1.0            1.0   \n50%        -1.0               1.0            1.0            1.0   \n75%        -1.0               1.0            1.0            1.0   \nmax        -1.0               1.0            1.0            1.0   \n\n       price_rsi_now  ...  vol_ema_sum_10m  trcnt_sma_sum_1h  vol_sma_sum_1h  \\\ncount       267371.0  ...     2.673710e+05     267371.000000    2.673710e+05   \nmean           100.0  ...    -5.611514e+01        -23.719939   -2.901578e+02   \nstd              0.0  ...     3.352810e+03        464.199481    8.270405e+03   \nmin            100.0  ...    -1.251929e+06     -66160.000000   -1.251929e+06   \n25%            100.0  ...    -4.588635e+00         -7.214286   -3.065291e+01   \n50%            100.0  ...    -7.522589e-01         -2.571429   -5.220787e+00   \n75%            100.0  ...    -6.950600e-02         -0.785714   -8.339732e-01   \nmax            100.0  ...     0.000000e+00          0.000000    0.000000e+00   \n\n       vol_ema_sum_1h  trcnt_sma_sum_4h  vol_sma_sum_4h  vol_ema_sum_4h  \\\ncount    2.673710e+05     267371.000000    2.673710e+05    2.673710e+05   \nmean    -3.036582e+02        -84.935984   -1.111342e+03   -1.166322e+03   \nstd      8.083618e+03        923.892798    1.650795e+04    1.612763e+04   \nmin     -1.251929e+06     -66160.000000   -1.251929e+06   -1.251929e+06   \n25%     -3.027858e+01        -26.357143   -1.320809e+02   -1.319887e+02   \n50%     -5.101042e+00         -9.000000   -1.986858e+01   -1.977111e+01   \n75%     -8.040793e-01         -2.642857   -3.176476e+00   -3.190518e+00   \nmax      0.000000e+00          0.000000    0.000000e+00    0.000000e+00   \n\n       trcnt_sma_sum_1d  vol_sma_sum_1d  vol_ema_sum_1d  \ncount     267371.000000    2.673710e+05    2.673710e+05  \nmean        -426.048367   -5.931882e+03   -6.137474e+03  \nstd         2191.168931    3.953789e+04    3.835172e+04  \nmin       -66160.000000   -1.251929e+06   -1.251929e+06  \n25%         -187.250000   -9.789016e+02   -1.055120e+03  \n50%          -58.000000   -1.366906e+02   -1.421580e+02  \n75%          -15.000000   -2.066289e+01   -2.151457e+01  \nmax            0.000000    0.000000e+00    0.000000e+00  \n\n[8 rows x 91 columns]",
      "text/html": "<div>\n<style scoped>\n    .dataframe tbody tr th:only-of-type {\n        vertical-align: middle;\n    }\n\n    .dataframe tbody tr th {\n        vertical-align: top;\n    }\n\n    .dataframe thead th {\n        text-align: right;\n    }\n</style>\n<table border=\"1\" class=\"dataframe\">\n  <thead>\n    <tr style=\"text-align: right;\">\n      <th></th>\n      <th>quant_price</th>\n      <th>buy_price</th>\n      <th>sell_price</th>\n      <th>upside</th>\n      <th>day_of_week</th>\n      <th>hour</th>\n      <th>found_points_now</th>\n      <th>price_sma_now</th>\n      <th>price_ema_now</th>\n      <th>price_rsi_now</th>\n      <th>...</th>\n      <th>vol_ema_sum_10m</th>\n      <th>trcnt_sma_sum_1h</th>\n      <th>vol_sma_sum_1h</th>\n      <th>vol_ema_sum_1h</th>\n      <th>trcnt_sma_sum_4h</th>\n      <th>vol_sma_sum_4h</th>\n      <th>vol_ema_sum_4h</th>\n      <th>trcnt_sma_sum_1d</th>\n      <th>vol_sma_sum_1d</th>\n      <th>vol_ema_sum_1d</th>\n    </tr>\n  </thead>\n  <tbody>\n    <tr>\n      <th>count</th>\n      <td>2.673710e+05</td>\n      <td>2.673710e+05</td>\n      <td>2.673710e+05</td>\n      <td>2.615860e+05</td>\n      <td>267371.0</td>\n      <td>267371.0</td>\n      <td>267371.0</td>\n      <td>267371.0</td>\n      <td>267371.0</td>\n      <td>267371.0</td>\n      <td>...</td>\n      <td>2.673710e+05</td>\n      <td>267371.000000</td>\n      <td>2.673710e+05</td>\n      <td>2.673710e+05</td>\n      <td>267371.000000</td>\n      <td>2.673710e+05</td>\n      <td>2.673710e+05</td>\n      <td>267371.000000</td>\n      <td>2.673710e+05</td>\n      <td>2.673710e+05</td>\n    </tr>\n    <tr>\n      <th>mean</th>\n      <td>1.584268e+00</td>\n      <td>1.484605e+00</td>\n      <td>1.890791e+00</td>\n      <td>8.182289e+03</td>\n      <td>-1.0</td>\n      <td>-1.0</td>\n      <td>1.0</td>\n      <td>1.0</td>\n      <td>1.0</td>\n      <td>100.0</td>\n      <td>...</td>\n      <td>-5.611514e+01</td>\n      <td>-23.719939</td>\n      <td>-2.901578e+02</td>\n      <td>-3.036582e+02</td>\n      <td>-84.935984</td>\n      <td>-1.111342e+03</td>\n      <td>-1.166322e+03</td>\n      <td>-426.048367</td>\n      <td>-5.931882e+03</td>\n      <td>-6.137474e+03</td>\n    </tr>\n    <tr>\n      <th>std</th>\n      <td>1.725316e+02</td>\n      <td>1.690201e+02</td>\n      <td>9.596950e+01</td>\n      <td>7.860196e+05</td>\n      <td>0.0</td>\n      <td>0.0</td>\n      <td>0.0</td>\n      <td>0.0</td>\n      <td>0.0</td>\n      <td>0.0</td>\n      <td>...</td>\n      <td>3.352810e+03</td>\n      <td>464.199481</td>\n      <td>8.270405e+03</td>\n      <td>8.083618e+03</td>\n      <td>923.892798</td>\n      <td>1.650795e+04</td>\n      <td>1.612763e+04</td>\n      <td>2191.168931</td>\n      <td>3.953789e+04</td>\n      <td>3.835172e+04</td>\n    </tr>\n    <tr>\n      <th>min</th>\n      <td>3.076663e-18</td>\n      <td>0.000000e+00</td>\n      <td>0.000000e+00</td>\n      <td>-1.000000e+00</td>\n      <td>-1.0</td>\n      <td>-1.0</td>\n      <td>1.0</td>\n      <td>1.0</td>\n      <td>1.0</td>\n      <td>100.0</td>\n      <td>...</td>\n      <td>-1.251929e+06</td>\n      <td>-66160.000000</td>\n      <td>-1.251929e+06</td>\n      <td>-1.251929e+06</td>\n      <td>-66160.000000</td>\n      <td>-1.251929e+06</td>\n      <td>-1.251929e+06</td>\n      <td>-66160.000000</td>\n      <td>-1.251929e+06</td>\n      <td>-1.251929e+06</td>\n    </tr>\n    <tr>\n      <th>25%</th>\n      <td>3.704599e-07</td>\n      <td>3.326203e-07</td>\n      <td>1.543997e-07</td>\n      <td>-2.330782e-01</td>\n      <td>-1.0</td>\n      <td>-1.0</td>\n      <td>1.0</td>\n      <td>1.0</td>\n      <td>1.0</td>\n      <td>100.0</td>\n      <td>...</td>\n      <td>-4.588635e+00</td>\n      <td>-7.214286</td>\n      <td>-3.065291e+01</td>\n      <td>-3.027858e+01</td>\n      <td>-26.357143</td>\n      <td>-1.320809e+02</td>\n      <td>-1.319887e+02</td>\n      <td>-187.250000</td>\n      <td>-9.789016e+02</td>\n      <td>-1.055120e+03</td>\n    </tr>\n    <tr>\n      <th>50%</th>\n      <td>8.130695e-06</td>\n      <td>7.821660e-06</td>\n      <td>5.763699e-06</td>\n      <td>-2.965642e-02</td>\n      <td>-1.0</td>\n      <td>-1.0</td>\n      <td>1.0</td>\n      <td>1.0</td>\n      <td>1.0</td>\n      <td>100.0</td>\n      <td>...</td>\n      <td>-7.522589e-01</td>\n      <td>-2.571429</td>\n      <td>-5.220787e+00</td>\n      <td>-5.101042e+00</td>\n      <td>-9.000000</td>\n      <td>-1.986858e+01</td>\n      <td>-1.977111e+01</td>\n      <td>-58.000000</td>\n      <td>-1.366906e+02</td>\n      <td>-1.421580e+02</td>\n    </tr>\n    <tr>\n      <th>75%</th>\n      <td>4.125806e-04</td>\n      <td>4.002249e-04</td>\n      <td>3.143871e-04</td>\n      <td>4.663736e-02</td>\n      <td>-1.0</td>\n      <td>-1.0</td>\n      <td>1.0</td>\n      <td>1.0</td>\n      <td>1.0</td>\n      <td>100.0</td>\n      <td>...</td>\n      <td>-6.950600e-02</td>\n      <td>-0.785714</td>\n      <td>-8.339732e-01</td>\n      <td>-8.040793e-01</td>\n      <td>-2.642857</td>\n      <td>-3.176476e+00</td>\n      <td>-3.190518e+00</td>\n      <td>-15.000000</td>\n      <td>-2.066289e+01</td>\n      <td>-2.151457e+01</td>\n    </tr>\n    <tr>\n      <th>max</th>\n      <td>7.973648e+04</td>\n      <td>7.973648e+04</td>\n      <td>1.003676e+04</td>\n      <td>8.660773e+07</td>\n      <td>-1.0</td>\n      <td>-1.0</td>\n      <td>1.0</td>\n      <td>1.0</td>\n      <td>1.0</td>\n      <td>100.0</td>\n      <td>...</td>\n      <td>0.000000e+00</td>\n      <td>0.000000</td>\n      <td>0.000000e+00</td>\n      <td>0.000000e+00</td>\n      <td>0.000000</td>\n      <td>0.000000e+00</td>\n      <td>0.000000e+00</td>\n      <td>0.000000</td>\n      <td>0.000000e+00</td>\n      <td>0.000000e+00</td>\n    </tr>\n  </tbody>\n</table>\n<p>8 rows × 91 columns</p>\n</div>"
     },
     "execution_count": 6,
     "metadata": {},
     "output_type": "execute_result"
    }
   ],
   "source": [
    "received_df.describe()\n"
   ],
   "metadata": {
    "collapsed": false,
    "ExecuteTime": {
     "end_time": "2024-01-09T20:09:32.340419Z",
     "start_time": "2024-01-09T20:09:31.767007Z"
    }
   },
   "id": "659ba622f579b251"
  },
  {
   "cell_type": "code",
   "execution_count": null,
   "outputs": [],
   "source": [],
   "metadata": {
    "collapsed": false
   },
   "id": "84ae761b0645233f"
  }
 ],
 "metadata": {
  "kernelspec": {
   "display_name": "Python 3",
   "language": "python",
   "name": "python3"
  },
  "language_info": {
   "codemirror_mode": {
    "name": "ipython",
    "version": 2
   },
   "file_extension": ".py",
   "mimetype": "text/x-python",
   "name": "python",
   "nbconvert_exporter": "python",
   "pygments_lexer": "ipython2",
   "version": "2.7.6"
  }
 },
 "nbformat": 4,
 "nbformat_minor": 5
}
