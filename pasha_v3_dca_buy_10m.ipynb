{
 "cells": [
  {
   "cell_type": "code",
   "execution_count": 1,
   "outputs": [
    {
     "name": "stderr",
     "output_type": "stream",
     "text": [
      "2024-01-07 20:14:57,190 - INFO - Getting data from db\n",
      "2024-01-07 20:15:27,290 - INFO - Got 582063 records from db\n",
      "2024-01-07 20:15:27,292 - INFO - From 2023-12-01 00:00:14 to 2024-01-07 20:11:51\n",
      "2024-01-07 20:15:27,418 - INFO - Filtered df by program_id, got 545348 records\n",
      "2024-01-07 20:15:27,709 - INFO - Using memory: 278.04863929748535 MB\n",
      "2024-01-07 20:15:27,945 - INFO - Before rare tokens filtering 545348 trades, 5568 mints\n",
      "2024-01-07 20:15:28,070 - INFO - After rare tokens filtering 474654 trades, 746 mints\n",
      "2024-01-07 20:18:40,752 - INFO - Got price tables for 746 mints\n",
      "2024-01-07 20:21:21,107 - INFO - Assigned labels to 195359 records\n",
      "2024-01-07 20:21:21,114 - INFO - label\n",
      "flat    184047\n",
      "na        6566\n",
      "down      2532\n",
      "up        2214\n",
      "Name: count, dtype: int64\n",
      "2024-01-07 20:21:21,156 - INFO - Assigning features\n",
      "2024-01-07 20:50:08,927 - INFO - Features assigned\n"
     ]
    }
   ],
   "source": [
    "from dataprep import DatasetBuilder\n",
    "from datetime import timedelta\n",
    "\n",
    "PREDICTION_TIMEDELTA = timedelta(hours=24)\n",
    "QUANT_TIMEDELTA = timedelta(minutes=10)\n",
    "BUY_TIMEDELTA = timedelta(seconds=0)\n",
    "CHANGE_MAGNITUDE = 4.\n",
    "\n",
    "builder = DatasetBuilder(10000000, BUY_TIMEDELTA, (QUANT_TIMEDELTA, PREDICTION_TIMEDELTA), CHANGE_MAGNITUDE)\n",
    "dataset = builder.build_dataset()\n"
   ],
   "metadata": {
    "collapsed": false,
    "ExecuteTime": {
     "end_time": "2024-01-07T20:50:09.256492Z",
     "start_time": "2024-01-07T20:14:57.179701Z"
    }
   },
   "id": "efcea48a30cd5d32"
  },
  {
   "cell_type": "code",
   "execution_count": 37,
   "outputs": [
    {
     "name": "stderr",
     "output_type": "stream",
     "text": [
      "2024-01-07 21:09:09,015 - INFO - Assigned labels to 195359 records\n",
      "2024-01-07 21:09:09,020 - INFO - label\n",
      "flat    184328\n",
      "na        6566\n",
      "down      2330\n",
      "up        2135\n",
      "Name: count, dtype: int64\n"
     ]
    }
   ],
   "source": [
    "PREDICTION_TIMEDELTA = timedelta(hours=24)\n",
    "QUANT_TIMEDELTA = timedelta(minutes=10)\n",
    "BUY_TIMEDELTA = timedelta(minutes=10)\n",
    "CHANGE_MAGNITUDE = 4.\n",
    "\n",
    "dataset = builder.reassign_values(BUY_TIMEDELTA, (QUANT_TIMEDELTA, PREDICTION_TIMEDELTA), CHANGE_MAGNITUDE)\n"
   ],
   "metadata": {
    "collapsed": false,
    "ExecuteTime": {
     "end_time": "2024-01-07T21:09:09.077816Z",
     "start_time": "2024-01-07T21:06:27.479283Z"
    }
   },
   "id": "fb2725437b2b9501"
  },
  {
   "cell_type": "code",
   "execution_count": 38,
   "outputs": [
    {
     "data": {
      "text/plain": "                time_quant                                          mint  \\\n140826 2023-12-31 03:00:00  H5n9BQfULHEEtvLVf2WErUHsXHhRaUkYqVhNzxUkWJGf   \n\n           price  buy_price  sell_price label  day_of_week  hour  \\\n140826  0.000004   0.000004    0.000021    up            6     3   \n\n        u_price_sma_10m  u_price_ema_10m  ...  sma_vol_sell_1d  \\\n140826         0.071429         0.133333  ...         0.766028   \n\n        ema_vol_sell_1d  sma_vol_sum_10m  ema_vol_sum_10m  sma_vol_sum_1h  \\\n140826         1.429918         0.766028         1.429918        0.766028   \n\n        ema_vol_sum_1h  sma_vol_sum_4h  ema_vol_sum_4h  sma_vol_sum_1d  \\\n140826        1.429918        0.766028        1.429918        0.766028   \n\n        ema_vol_sum_1d  \n140826        1.429918  \n\n[1 rows x 44 columns]",
      "text/html": "<div>\n<style scoped>\n    .dataframe tbody tr th:only-of-type {\n        vertical-align: middle;\n    }\n\n    .dataframe tbody tr th {\n        vertical-align: top;\n    }\n\n    .dataframe thead th {\n        text-align: right;\n    }\n</style>\n<table border=\"1\" class=\"dataframe\">\n  <thead>\n    <tr style=\"text-align: right;\">\n      <th></th>\n      <th>time_quant</th>\n      <th>mint</th>\n      <th>price</th>\n      <th>buy_price</th>\n      <th>sell_price</th>\n      <th>label</th>\n      <th>day_of_week</th>\n      <th>hour</th>\n      <th>u_price_sma_10m</th>\n      <th>u_price_ema_10m</th>\n      <th>...</th>\n      <th>sma_vol_sell_1d</th>\n      <th>ema_vol_sell_1d</th>\n      <th>sma_vol_sum_10m</th>\n      <th>ema_vol_sum_10m</th>\n      <th>sma_vol_sum_1h</th>\n      <th>ema_vol_sum_1h</th>\n      <th>sma_vol_sum_4h</th>\n      <th>ema_vol_sum_4h</th>\n      <th>sma_vol_sum_1d</th>\n      <th>ema_vol_sum_1d</th>\n    </tr>\n  </thead>\n  <tbody>\n    <tr>\n      <th>140826</th>\n      <td>2023-12-31 03:00:00</td>\n      <td>H5n9BQfULHEEtvLVf2WErUHsXHhRaUkYqVhNzxUkWJGf</td>\n      <td>0.000004</td>\n      <td>0.000004</td>\n      <td>0.000021</td>\n      <td>up</td>\n      <td>6</td>\n      <td>3</td>\n      <td>0.071429</td>\n      <td>0.133333</td>\n      <td>...</td>\n      <td>0.766028</td>\n      <td>1.429918</td>\n      <td>0.766028</td>\n      <td>1.429918</td>\n      <td>0.766028</td>\n      <td>1.429918</td>\n      <td>0.766028</td>\n      <td>1.429918</td>\n      <td>0.766028</td>\n      <td>1.429918</td>\n    </tr>\n  </tbody>\n</table>\n<p>1 rows × 44 columns</p>\n</div>"
     },
     "execution_count": 38,
     "metadata": {},
     "output_type": "execute_result"
    }
   ],
   "source": [
    "dataset[(dataset['label'] == 'up') & (dataset['mint'] == 'H5n9BQfULHEEtvLVf2WErUHsXHhRaUkYqVhNzxUkWJGf')]"
   ],
   "metadata": {
    "collapsed": false,
    "ExecuteTime": {
     "end_time": "2024-01-07T21:09:22.650835Z",
     "start_time": "2024-01-07T21:09:22.637943Z"
    }
   },
   "id": "4826623dcd12af48"
  },
  {
   "cell_type": "code",
   "execution_count": 39,
   "outputs": [
    {
     "data": {
      "text/plain": "                time_quant                                          mint  \\\n0      2023-12-01 00:10:00  2ZE6hSL36e44wP168YMnxrbi1CSCFuD2BJm7NoNHfsmN   \n1      2023-12-01 00:10:00  2x8o3hA5S5fBxCSE9hzVTf3RohcMWHqkDNKNEPuzprD5   \n2      2023-12-01 00:10:00  3EagcZ66c8z2hZdFSd5412yEW9U48AAb9P6d1yhjuGmY   \n3      2023-12-01 00:10:00  7xKXtg2CW87d97TXJSDpbD5jBkheTqA83TZRuJosgAsU   \n4      2023-12-01 00:10:00  AZsHEMXd36Bj1EMNXhowJajpUXzrKcK57wW4ZGXVa7yR   \n...                    ...                                           ...   \n195354 2024-01-07 20:00:00   iotEVVZLEywoTn1QdwNPddxPWszn3zFhEot3MfL9fns   \n195355 2024-01-07 20:00:00   jtojtomepa8beP8AuQc6eXt5FriJwfFMwQx2v2f9mCL   \n195356 2024-01-07 20:00:00   mSoLzYCxHdYgdzU16g5QSh3i5K3z3KZK7ytfqcJm7So   \n195357 2024-01-07 20:00:00   orcaEKTdK7LKz57vaAYr9QeNsVEPfiu6QeMU1kektZE   \n195358 2024-01-07 20:00:00   tx4Xec7ueAEYz4csDqfGGwQxkMTR3qmkr4mixdxN72K   \n\n               price     buy_price    sell_price label  day_of_week  hour  \\\n0       5.512779e-05  5.512779e-05  5.371476e-05  flat            4     0   \n1       6.712853e-06  6.712853e-06  9.691156e-06  flat            4     0   \n2       1.079326e-05  1.224739e-05  1.202554e-05  flat            4     0   \n3       1.332301e-04  1.332301e-04  1.539738e-04  flat            4     0   \n4       3.020955e-09  3.050377e-09  2.740962e-09  flat            4     0   \n...              ...           ...           ...   ...          ...   ...   \n195354  1.629424e-05  0.000000e+00  0.000000e+00    na            6    20   \n195355  1.710218e-02  0.000000e+00  0.000000e+00    na            6    20   \n195356  1.158875e+00  0.000000e+00  0.000000e+00    na            6    20   \n195357  5.523074e-02  0.000000e+00  0.000000e+00    na            6    20   \n195358  1.811732e-07  0.000000e+00  0.000000e+00    na            6    20   \n\n        u_price_sma_10m  u_price_ema_10m  ...  sma_vol_sell_1d  \\\n0              1.000000         1.000000  ...         0.000000   \n1              1.000000         1.000000  ...         0.000000   \n2              1.000000         1.000000  ...         0.000000   \n3              1.000000         1.000000  ...         0.000000   \n4              1.000000         1.000000  ...         0.000000   \n...                 ...              ...  ...              ...   \n195354         1.002635         1.002964  ...        77.934391   \n195355         0.985287         0.988548  ...       350.054113   \n195356         0.999978         1.000000  ...      5411.245040   \n195357         0.993659         0.995285  ...        64.524053   \n195358         0.681787         0.660668  ...         0.864940   \n\n        ema_vol_sell_1d  sma_vol_sum_10m  ema_vol_sum_10m  sma_vol_sum_1h  \\\n0              0.000000         0.000000         0.000000        0.000000   \n1              0.000000         0.000000         0.000000        0.000000   \n2              0.000000         0.000000         0.000000        0.000000   \n3              0.000000         0.000000         0.000000        0.000000   \n4              0.000000         0.000000         0.000000        0.000000   \n...                 ...              ...              ...             ...   \n195354        63.482753         0.162271         0.169805        1.129319   \n195355       363.156931         1.115459         1.199345       23.888885   \n195356      3688.066457         8.340428         8.150110       85.548048   \n195357        70.920776         0.679434         0.765494       13.960292   \n195358         1.614554         0.312281         0.265617        1.482067   \n\n        ema_vol_sum_1h  sma_vol_sum_4h  ema_vol_sum_4h  sma_vol_sum_1d  \\\n0             0.000000        0.000000        0.000000        0.000000   \n1             0.000000        0.000000        0.000000        0.000000   \n2             0.000000        0.000000        0.000000        0.000000   \n3             0.000000        0.000000        0.000000        0.000000   \n4             0.000000        0.000000        0.000000        0.000000   \n...                ...             ...             ...             ...   \n195354        1.099415        5.219342        4.876179       91.076318   \n195355       25.083198       73.888289       74.497995      561.993969   \n195356       51.708202      379.716851      417.660017     7107.140002   \n195357        9.468216       28.258704       29.407531      156.086504   \n195358        2.028595        1.482067        2.766525        1.482067   \n\n        ema_vol_sum_1d  \n0             0.000000  \n1             0.000000  \n2             0.000000  \n3             0.000000  \n4             0.000000  \n...                ...  \n195354       76.024019  \n195355      584.308684  \n195356     5025.929778  \n195357      149.146862  \n195358        2.766525  \n\n[195359 rows x 44 columns]",
      "text/html": "<div>\n<style scoped>\n    .dataframe tbody tr th:only-of-type {\n        vertical-align: middle;\n    }\n\n    .dataframe tbody tr th {\n        vertical-align: top;\n    }\n\n    .dataframe thead th {\n        text-align: right;\n    }\n</style>\n<table border=\"1\" class=\"dataframe\">\n  <thead>\n    <tr style=\"text-align: right;\">\n      <th></th>\n      <th>time_quant</th>\n      <th>mint</th>\n      <th>price</th>\n      <th>buy_price</th>\n      <th>sell_price</th>\n      <th>label</th>\n      <th>day_of_week</th>\n      <th>hour</th>\n      <th>u_price_sma_10m</th>\n      <th>u_price_ema_10m</th>\n      <th>...</th>\n      <th>sma_vol_sell_1d</th>\n      <th>ema_vol_sell_1d</th>\n      <th>sma_vol_sum_10m</th>\n      <th>ema_vol_sum_10m</th>\n      <th>sma_vol_sum_1h</th>\n      <th>ema_vol_sum_1h</th>\n      <th>sma_vol_sum_4h</th>\n      <th>ema_vol_sum_4h</th>\n      <th>sma_vol_sum_1d</th>\n      <th>ema_vol_sum_1d</th>\n    </tr>\n  </thead>\n  <tbody>\n    <tr>\n      <th>0</th>\n      <td>2023-12-01 00:10:00</td>\n      <td>2ZE6hSL36e44wP168YMnxrbi1CSCFuD2BJm7NoNHfsmN</td>\n      <td>5.512779e-05</td>\n      <td>5.512779e-05</td>\n      <td>5.371476e-05</td>\n      <td>flat</td>\n      <td>4</td>\n      <td>0</td>\n      <td>1.000000</td>\n      <td>1.000000</td>\n      <td>...</td>\n      <td>0.000000</td>\n      <td>0.000000</td>\n      <td>0.000000</td>\n      <td>0.000000</td>\n      <td>0.000000</td>\n      <td>0.000000</td>\n      <td>0.000000</td>\n      <td>0.000000</td>\n      <td>0.000000</td>\n      <td>0.000000</td>\n    </tr>\n    <tr>\n      <th>1</th>\n      <td>2023-12-01 00:10:00</td>\n      <td>2x8o3hA5S5fBxCSE9hzVTf3RohcMWHqkDNKNEPuzprD5</td>\n      <td>6.712853e-06</td>\n      <td>6.712853e-06</td>\n      <td>9.691156e-06</td>\n      <td>flat</td>\n      <td>4</td>\n      <td>0</td>\n      <td>1.000000</td>\n      <td>1.000000</td>\n      <td>...</td>\n      <td>0.000000</td>\n      <td>0.000000</td>\n      <td>0.000000</td>\n      <td>0.000000</td>\n      <td>0.000000</td>\n      <td>0.000000</td>\n      <td>0.000000</td>\n      <td>0.000000</td>\n      <td>0.000000</td>\n      <td>0.000000</td>\n    </tr>\n    <tr>\n      <th>2</th>\n      <td>2023-12-01 00:10:00</td>\n      <td>3EagcZ66c8z2hZdFSd5412yEW9U48AAb9P6d1yhjuGmY</td>\n      <td>1.079326e-05</td>\n      <td>1.224739e-05</td>\n      <td>1.202554e-05</td>\n      <td>flat</td>\n      <td>4</td>\n      <td>0</td>\n      <td>1.000000</td>\n      <td>1.000000</td>\n      <td>...</td>\n      <td>0.000000</td>\n      <td>0.000000</td>\n      <td>0.000000</td>\n      <td>0.000000</td>\n      <td>0.000000</td>\n      <td>0.000000</td>\n      <td>0.000000</td>\n      <td>0.000000</td>\n      <td>0.000000</td>\n      <td>0.000000</td>\n    </tr>\n    <tr>\n      <th>3</th>\n      <td>2023-12-01 00:10:00</td>\n      <td>7xKXtg2CW87d97TXJSDpbD5jBkheTqA83TZRuJosgAsU</td>\n      <td>1.332301e-04</td>\n      <td>1.332301e-04</td>\n      <td>1.539738e-04</td>\n      <td>flat</td>\n      <td>4</td>\n      <td>0</td>\n      <td>1.000000</td>\n      <td>1.000000</td>\n      <td>...</td>\n      <td>0.000000</td>\n      <td>0.000000</td>\n      <td>0.000000</td>\n      <td>0.000000</td>\n      <td>0.000000</td>\n      <td>0.000000</td>\n      <td>0.000000</td>\n      <td>0.000000</td>\n      <td>0.000000</td>\n      <td>0.000000</td>\n    </tr>\n    <tr>\n      <th>4</th>\n      <td>2023-12-01 00:10:00</td>\n      <td>AZsHEMXd36Bj1EMNXhowJajpUXzrKcK57wW4ZGXVa7yR</td>\n      <td>3.020955e-09</td>\n      <td>3.050377e-09</td>\n      <td>2.740962e-09</td>\n      <td>flat</td>\n      <td>4</td>\n      <td>0</td>\n      <td>1.000000</td>\n      <td>1.000000</td>\n      <td>...</td>\n      <td>0.000000</td>\n      <td>0.000000</td>\n      <td>0.000000</td>\n      <td>0.000000</td>\n      <td>0.000000</td>\n      <td>0.000000</td>\n      <td>0.000000</td>\n      <td>0.000000</td>\n      <td>0.000000</td>\n      <td>0.000000</td>\n    </tr>\n    <tr>\n      <th>...</th>\n      <td>...</td>\n      <td>...</td>\n      <td>...</td>\n      <td>...</td>\n      <td>...</td>\n      <td>...</td>\n      <td>...</td>\n      <td>...</td>\n      <td>...</td>\n      <td>...</td>\n      <td>...</td>\n      <td>...</td>\n      <td>...</td>\n      <td>...</td>\n      <td>...</td>\n      <td>...</td>\n      <td>...</td>\n      <td>...</td>\n      <td>...</td>\n      <td>...</td>\n      <td>...</td>\n    </tr>\n    <tr>\n      <th>195354</th>\n      <td>2024-01-07 20:00:00</td>\n      <td>iotEVVZLEywoTn1QdwNPddxPWszn3zFhEot3MfL9fns</td>\n      <td>1.629424e-05</td>\n      <td>0.000000e+00</td>\n      <td>0.000000e+00</td>\n      <td>na</td>\n      <td>6</td>\n      <td>20</td>\n      <td>1.002635</td>\n      <td>1.002964</td>\n      <td>...</td>\n      <td>77.934391</td>\n      <td>63.482753</td>\n      <td>0.162271</td>\n      <td>0.169805</td>\n      <td>1.129319</td>\n      <td>1.099415</td>\n      <td>5.219342</td>\n      <td>4.876179</td>\n      <td>91.076318</td>\n      <td>76.024019</td>\n    </tr>\n    <tr>\n      <th>195355</th>\n      <td>2024-01-07 20:00:00</td>\n      <td>jtojtomepa8beP8AuQc6eXt5FriJwfFMwQx2v2f9mCL</td>\n      <td>1.710218e-02</td>\n      <td>0.000000e+00</td>\n      <td>0.000000e+00</td>\n      <td>na</td>\n      <td>6</td>\n      <td>20</td>\n      <td>0.985287</td>\n      <td>0.988548</td>\n      <td>...</td>\n      <td>350.054113</td>\n      <td>363.156931</td>\n      <td>1.115459</td>\n      <td>1.199345</td>\n      <td>23.888885</td>\n      <td>25.083198</td>\n      <td>73.888289</td>\n      <td>74.497995</td>\n      <td>561.993969</td>\n      <td>584.308684</td>\n    </tr>\n    <tr>\n      <th>195356</th>\n      <td>2024-01-07 20:00:00</td>\n      <td>mSoLzYCxHdYgdzU16g5QSh3i5K3z3KZK7ytfqcJm7So</td>\n      <td>1.158875e+00</td>\n      <td>0.000000e+00</td>\n      <td>0.000000e+00</td>\n      <td>na</td>\n      <td>6</td>\n      <td>20</td>\n      <td>0.999978</td>\n      <td>1.000000</td>\n      <td>...</td>\n      <td>5411.245040</td>\n      <td>3688.066457</td>\n      <td>8.340428</td>\n      <td>8.150110</td>\n      <td>85.548048</td>\n      <td>51.708202</td>\n      <td>379.716851</td>\n      <td>417.660017</td>\n      <td>7107.140002</td>\n      <td>5025.929778</td>\n    </tr>\n    <tr>\n      <th>195357</th>\n      <td>2024-01-07 20:00:00</td>\n      <td>orcaEKTdK7LKz57vaAYr9QeNsVEPfiu6QeMU1kektZE</td>\n      <td>5.523074e-02</td>\n      <td>0.000000e+00</td>\n      <td>0.000000e+00</td>\n      <td>na</td>\n      <td>6</td>\n      <td>20</td>\n      <td>0.993659</td>\n      <td>0.995285</td>\n      <td>...</td>\n      <td>64.524053</td>\n      <td>70.920776</td>\n      <td>0.679434</td>\n      <td>0.765494</td>\n      <td>13.960292</td>\n      <td>9.468216</td>\n      <td>28.258704</td>\n      <td>29.407531</td>\n      <td>156.086504</td>\n      <td>149.146862</td>\n    </tr>\n    <tr>\n      <th>195358</th>\n      <td>2024-01-07 20:00:00</td>\n      <td>tx4Xec7ueAEYz4csDqfGGwQxkMTR3qmkr4mixdxN72K</td>\n      <td>1.811732e-07</td>\n      <td>0.000000e+00</td>\n      <td>0.000000e+00</td>\n      <td>na</td>\n      <td>6</td>\n      <td>20</td>\n      <td>0.681787</td>\n      <td>0.660668</td>\n      <td>...</td>\n      <td>0.864940</td>\n      <td>1.614554</td>\n      <td>0.312281</td>\n      <td>0.265617</td>\n      <td>1.482067</td>\n      <td>2.028595</td>\n      <td>1.482067</td>\n      <td>2.766525</td>\n      <td>1.482067</td>\n      <td>2.766525</td>\n    </tr>\n  </tbody>\n</table>\n<p>195359 rows × 44 columns</p>\n</div>"
     },
     "execution_count": 39,
     "metadata": {},
     "output_type": "execute_result"
    }
   ],
   "source": [
    "dataset\n"
   ],
   "metadata": {
    "collapsed": false,
    "ExecuteTime": {
     "end_time": "2024-01-07T21:09:36.552382Z",
     "start_time": "2024-01-07T21:09:36.470688Z"
    }
   },
   "id": "e1c63fe9a306adc1"
  },
  {
   "cell_type": "code",
   "execution_count": 40,
   "outputs": [
    {
     "data": {
      "text/plain": "204"
     },
     "execution_count": 40,
     "metadata": {},
     "output_type": "execute_result"
    }
   ],
   "source": [
    "dataset[dataset['label'] == 'up']['mint'].nunique()\n"
   ],
   "metadata": {
    "collapsed": false,
    "ExecuteTime": {
     "end_time": "2024-01-07T21:09:57.365473Z",
     "start_time": "2024-01-07T21:09:57.357531Z"
    }
   },
   "id": "43cf93a151512c70"
  },
  {
   "cell_type": "code",
   "execution_count": 41,
   "outputs": [
    {
     "data": {
      "text/plain": "2080       0.110005\n2266       1.000006\n2288       1.426790\n2299       2.061957\n2309       2.750670\n            ...    \n184267    13.539400\n185350     3.584788\n185744    57.604834\n185783    59.153401\n186668     3.417944\nName: sma_vol_sum_1d, Length: 2135, dtype: float64"
     },
     "execution_count": 41,
     "metadata": {},
     "output_type": "execute_result"
    }
   ],
   "source": [
    "dataset[dataset['label'] == 'up']['sma_vol_sum_1d']"
   ],
   "metadata": {
    "collapsed": false,
    "ExecuteTime": {
     "end_time": "2024-01-07T21:10:01.004476Z",
     "start_time": "2024-01-07T21:10:00.998596Z"
    }
   },
   "id": "552463f0316c247b"
  },
  {
   "cell_type": "code",
   "execution_count": 42,
   "outputs": [
    {
     "data": {
      "text/plain": "                          time_quant         price     buy_price  \\\ncount                         195359  1.953590e+05  1.953590e+05   \nmean   2023-12-23 19:58:48.863271936  1.882352e+02  1.882352e+02   \nmin              2023-12-01 00:10:00  1.390360e-16  0.000000e+00   \n25%              2023-12-17 16:30:00  6.445378e-07  6.431617e-07   \n50%              2023-12-24 12:30:00  1.101714e-05  1.099267e-05   \n75%              2024-01-01 00:30:00  5.124749e-04  5.118453e-04   \nmax              2024-01-07 20:00:00  3.620890e+07  3.620890e+07   \nstd                              NaN  8.192880e+04  8.192880e+04   \n\n         sell_price    day_of_week           hour  u_price_sma_10m  \\\ncount  1.953590e+05  195359.000000  195359.000000     1.953590e+05   \nmean   1.885532e+02       3.131240      11.956250     2.182851e+04   \nmin    0.000000e+00       0.000000       0.000000     7.142857e-02   \n25%    3.650970e-07       1.000000       6.000000     9.396131e-01   \n50%    8.365652e-06       3.000000      12.000000     1.000809e+00   \n75%    4.370518e-04       5.000000      18.000000     1.071273e+00   \nmax    1.257253e+06       6.000000      23.000000     1.120179e+09   \nstd    1.522220e+04       1.942427       6.994394     3.746351e+06   \n\n       u_price_ema_10m  u_price_rsi_10m  u_price_sma_1h  ...  sma_vol_sell_1d  \\\ncount     1.953590e+05    195359.000000    1.953590e+05  ...    195359.000000   \nmean      2.083805e+04        49.720419    2.447092e+04  ...      1063.414080   \nmin       1.333333e-01        -1.000000    7.142857e-02  ...         0.000000   \n25%       9.490554e-01        35.869701    8.342454e-01  ...        14.107644   \n50%       1.000773e+00        50.247345    9.997429e-01  ...        68.747424   \n75%       1.061744e+00        64.233447    1.102924e+00  ...       421.765671   \nmax       1.389201e+09       100.000000    2.203771e+08  ...     19574.669065   \nstd       3.957990e+06        25.836284    2.058781e+06  ...      2888.543486   \n\n       ema_vol_sell_1d  sma_vol_sum_10m  ema_vol_sum_10m  sma_vol_sum_1h  \\\ncount    195359.000000    195359.000000    195359.000000   195359.000000   \nmean       1053.296236        17.297849        17.572723       98.571110   \nmin           0.000000         0.000000         0.000000        0.000000   \n25%          19.402440         0.397137         0.446205        2.628818   \n50%          82.984422         1.787939         1.893877       10.679574   \n75%         448.496508         7.918743         8.076806       51.519501   \nmax       20994.371439      2399.835261      3951.450136     3222.103782   \nstd        2828.367641        61.902090        65.793730      283.872561   \n\n       ema_vol_sum_1h  sma_vol_sum_4h  ema_vol_sum_4h  sma_vol_sum_1d  \\\ncount   195359.000000   195359.000000   195359.000000   195359.000000   \nmean        99.502675      376.484908      380.289797     1984.988196   \nmin          0.000000        0.000000        0.000000        0.000000   \n25%          2.892948        9.418500       10.815559       24.060170   \n50%         11.268069       36.257249       39.943462      120.696968   \n75%         51.847432      191.567499      194.645247      758.414439   \nmax       4968.290079     9353.895137    11040.231491    41485.872802   \nstd        288.978739     1028.190306     1037.134962     5619.233594   \n\n       ema_vol_sum_1d  \ncount   195359.000000  \nmean      1953.941694  \nmin          0.000000  \n25%         33.401793  \n50%        146.361827  \n75%        822.011436  \nmax      43769.370587  \nstd       5480.279944  \n\n[8 rows x 42 columns]",
      "text/html": "<div>\n<style scoped>\n    .dataframe tbody tr th:only-of-type {\n        vertical-align: middle;\n    }\n\n    .dataframe tbody tr th {\n        vertical-align: top;\n    }\n\n    .dataframe thead th {\n        text-align: right;\n    }\n</style>\n<table border=\"1\" class=\"dataframe\">\n  <thead>\n    <tr style=\"text-align: right;\">\n      <th></th>\n      <th>time_quant</th>\n      <th>price</th>\n      <th>buy_price</th>\n      <th>sell_price</th>\n      <th>day_of_week</th>\n      <th>hour</th>\n      <th>u_price_sma_10m</th>\n      <th>u_price_ema_10m</th>\n      <th>u_price_rsi_10m</th>\n      <th>u_price_sma_1h</th>\n      <th>...</th>\n      <th>sma_vol_sell_1d</th>\n      <th>ema_vol_sell_1d</th>\n      <th>sma_vol_sum_10m</th>\n      <th>ema_vol_sum_10m</th>\n      <th>sma_vol_sum_1h</th>\n      <th>ema_vol_sum_1h</th>\n      <th>sma_vol_sum_4h</th>\n      <th>ema_vol_sum_4h</th>\n      <th>sma_vol_sum_1d</th>\n      <th>ema_vol_sum_1d</th>\n    </tr>\n  </thead>\n  <tbody>\n    <tr>\n      <th>count</th>\n      <td>195359</td>\n      <td>1.953590e+05</td>\n      <td>1.953590e+05</td>\n      <td>1.953590e+05</td>\n      <td>195359.000000</td>\n      <td>195359.000000</td>\n      <td>1.953590e+05</td>\n      <td>1.953590e+05</td>\n      <td>195359.000000</td>\n      <td>1.953590e+05</td>\n      <td>...</td>\n      <td>195359.000000</td>\n      <td>195359.000000</td>\n      <td>195359.000000</td>\n      <td>195359.000000</td>\n      <td>195359.000000</td>\n      <td>195359.000000</td>\n      <td>195359.000000</td>\n      <td>195359.000000</td>\n      <td>195359.000000</td>\n      <td>195359.000000</td>\n    </tr>\n    <tr>\n      <th>mean</th>\n      <td>2023-12-23 19:58:48.863271936</td>\n      <td>1.882352e+02</td>\n      <td>1.882352e+02</td>\n      <td>1.885532e+02</td>\n      <td>3.131240</td>\n      <td>11.956250</td>\n      <td>2.182851e+04</td>\n      <td>2.083805e+04</td>\n      <td>49.720419</td>\n      <td>2.447092e+04</td>\n      <td>...</td>\n      <td>1063.414080</td>\n      <td>1053.296236</td>\n      <td>17.297849</td>\n      <td>17.572723</td>\n      <td>98.571110</td>\n      <td>99.502675</td>\n      <td>376.484908</td>\n      <td>380.289797</td>\n      <td>1984.988196</td>\n      <td>1953.941694</td>\n    </tr>\n    <tr>\n      <th>min</th>\n      <td>2023-12-01 00:10:00</td>\n      <td>1.390360e-16</td>\n      <td>0.000000e+00</td>\n      <td>0.000000e+00</td>\n      <td>0.000000</td>\n      <td>0.000000</td>\n      <td>7.142857e-02</td>\n      <td>1.333333e-01</td>\n      <td>-1.000000</td>\n      <td>7.142857e-02</td>\n      <td>...</td>\n      <td>0.000000</td>\n      <td>0.000000</td>\n      <td>0.000000</td>\n      <td>0.000000</td>\n      <td>0.000000</td>\n      <td>0.000000</td>\n      <td>0.000000</td>\n      <td>0.000000</td>\n      <td>0.000000</td>\n      <td>0.000000</td>\n    </tr>\n    <tr>\n      <th>25%</th>\n      <td>2023-12-17 16:30:00</td>\n      <td>6.445378e-07</td>\n      <td>6.431617e-07</td>\n      <td>3.650970e-07</td>\n      <td>1.000000</td>\n      <td>6.000000</td>\n      <td>9.396131e-01</td>\n      <td>9.490554e-01</td>\n      <td>35.869701</td>\n      <td>8.342454e-01</td>\n      <td>...</td>\n      <td>14.107644</td>\n      <td>19.402440</td>\n      <td>0.397137</td>\n      <td>0.446205</td>\n      <td>2.628818</td>\n      <td>2.892948</td>\n      <td>9.418500</td>\n      <td>10.815559</td>\n      <td>24.060170</td>\n      <td>33.401793</td>\n    </tr>\n    <tr>\n      <th>50%</th>\n      <td>2023-12-24 12:30:00</td>\n      <td>1.101714e-05</td>\n      <td>1.099267e-05</td>\n      <td>8.365652e-06</td>\n      <td>3.000000</td>\n      <td>12.000000</td>\n      <td>1.000809e+00</td>\n      <td>1.000773e+00</td>\n      <td>50.247345</td>\n      <td>9.997429e-01</td>\n      <td>...</td>\n      <td>68.747424</td>\n      <td>82.984422</td>\n      <td>1.787939</td>\n      <td>1.893877</td>\n      <td>10.679574</td>\n      <td>11.268069</td>\n      <td>36.257249</td>\n      <td>39.943462</td>\n      <td>120.696968</td>\n      <td>146.361827</td>\n    </tr>\n    <tr>\n      <th>75%</th>\n      <td>2024-01-01 00:30:00</td>\n      <td>5.124749e-04</td>\n      <td>5.118453e-04</td>\n      <td>4.370518e-04</td>\n      <td>5.000000</td>\n      <td>18.000000</td>\n      <td>1.071273e+00</td>\n      <td>1.061744e+00</td>\n      <td>64.233447</td>\n      <td>1.102924e+00</td>\n      <td>...</td>\n      <td>421.765671</td>\n      <td>448.496508</td>\n      <td>7.918743</td>\n      <td>8.076806</td>\n      <td>51.519501</td>\n      <td>51.847432</td>\n      <td>191.567499</td>\n      <td>194.645247</td>\n      <td>758.414439</td>\n      <td>822.011436</td>\n    </tr>\n    <tr>\n      <th>max</th>\n      <td>2024-01-07 20:00:00</td>\n      <td>3.620890e+07</td>\n      <td>3.620890e+07</td>\n      <td>1.257253e+06</td>\n      <td>6.000000</td>\n      <td>23.000000</td>\n      <td>1.120179e+09</td>\n      <td>1.389201e+09</td>\n      <td>100.000000</td>\n      <td>2.203771e+08</td>\n      <td>...</td>\n      <td>19574.669065</td>\n      <td>20994.371439</td>\n      <td>2399.835261</td>\n      <td>3951.450136</td>\n      <td>3222.103782</td>\n      <td>4968.290079</td>\n      <td>9353.895137</td>\n      <td>11040.231491</td>\n      <td>41485.872802</td>\n      <td>43769.370587</td>\n    </tr>\n    <tr>\n      <th>std</th>\n      <td>NaN</td>\n      <td>8.192880e+04</td>\n      <td>8.192880e+04</td>\n      <td>1.522220e+04</td>\n      <td>1.942427</td>\n      <td>6.994394</td>\n      <td>3.746351e+06</td>\n      <td>3.957990e+06</td>\n      <td>25.836284</td>\n      <td>2.058781e+06</td>\n      <td>...</td>\n      <td>2888.543486</td>\n      <td>2828.367641</td>\n      <td>61.902090</td>\n      <td>65.793730</td>\n      <td>283.872561</td>\n      <td>288.978739</td>\n      <td>1028.190306</td>\n      <td>1037.134962</td>\n      <td>5619.233594</td>\n      <td>5480.279944</td>\n    </tr>\n  </tbody>\n</table>\n<p>8 rows × 42 columns</p>\n</div>"
     },
     "execution_count": 42,
     "metadata": {},
     "output_type": "execute_result"
    }
   ],
   "source": [
    "dataset.describe()"
   ],
   "metadata": {
    "collapsed": false,
    "ExecuteTime": {
     "end_time": "2024-01-07T21:10:01.462636Z",
     "start_time": "2024-01-07T21:10:01.212562Z"
    }
   },
   "id": "91fbb5d998719382"
  },
  {
   "cell_type": "code",
   "execution_count": 43,
   "outputs": [
    {
     "name": "stdout",
     "output_type": "stream",
     "text": [
      "dataset len: 195359\n",
      "train_test_dataset len: 188793\n",
      "train_test_dataset len: 188793\n",
      "unique_mints len: 737\n"
     ]
    }
   ],
   "source": [
    "from sklearn.model_selection import TimeSeriesSplit\n",
    "\n",
    "print(\"dataset len: %d\" % len(dataset))\n",
    "train_test_dataset = dataset[dataset['label'] != 'na']\n",
    "print(\"train_test_dataset len: %d\" % len(train_test_dataset))\n",
    "# train_test_dataset = train_test_dataset[train_test_dataset['sma_vol_sum_1h'] > 1]\n",
    "print(\"train_test_dataset len: %d\" % len(train_test_dataset))\n",
    "unique_mints = train_test_dataset['mint'].unique()\n",
    "print(\"unique_mints len: %d\" % len(unique_mints))\n"
   ],
   "metadata": {
    "collapsed": false,
    "ExecuteTime": {
     "end_time": "2024-01-07T21:10:01.526892Z",
     "start_time": "2024-01-07T21:10:01.463340Z"
    }
   },
   "id": "cd9ba54930ee096f"
  },
  {
   "cell_type": "code",
   "execution_count": 44,
   "outputs": [
    {
     "name": "stdout",
     "output_type": "stream",
     "text": [
      "204\n",
      "2135\n"
     ]
    }
   ],
   "source": [
    "# how many mints have up label\n",
    "print(train_test_dataset[train_test_dataset['label'] == 'up']['mint'].nunique())\n",
    "print(len(train_test_dataset[train_test_dataset['label'] == 'up']))"
   ],
   "metadata": {
    "collapsed": false,
    "ExecuteTime": {
     "end_time": "2024-01-07T21:10:02.148049Z",
     "start_time": "2024-01-07T21:10:02.119112Z"
    }
   },
   "id": "783473e3cc65b98b"
  },
  {
   "cell_type": "code",
   "execution_count": 45,
   "outputs": [
    {
     "data": {
      "text/plain": "2080       0.110005\n2266       1.000006\n2288       1.426790\n2299       2.061957\n2309       2.750670\n            ...    \n184267    13.539400\n185350     3.584788\n185744    57.604834\n185783    59.153401\n186668     3.417944\nName: sma_vol_sum_1d, Length: 2135, dtype: float64"
     },
     "execution_count": 45,
     "metadata": {},
     "output_type": "execute_result"
    }
   ],
   "source": [
    "train_test_dataset[train_test_dataset['label'] == 'up']['sma_vol_sum_1d']\n"
   ],
   "metadata": {
    "collapsed": false,
    "ExecuteTime": {
     "end_time": "2024-01-07T21:10:02.835012Z",
     "start_time": "2024-01-07T21:10:02.828945Z"
    }
   },
   "id": "65c53e8dae31421d"
  },
  {
   "cell_type": "code",
   "execution_count": 46,
   "outputs": [
    {
     "data": {
      "text/plain": "count    2135.000000\nmean      661.225466\nstd      1878.049252\nmin         0.002491\n25%         1.740347\n50%        34.367075\n75%       281.040700\nmax      8887.346046\nName: sma_vol_sum_1d, dtype: float64"
     },
     "execution_count": 46,
     "metadata": {},
     "output_type": "execute_result"
    }
   ],
   "source": [
    "train_test_dataset[train_test_dataset['label'] == 'up']['sma_vol_sum_1d'].describe()"
   ],
   "metadata": {
    "collapsed": false,
    "ExecuteTime": {
     "end_time": "2024-01-07T21:10:03.253519Z",
     "start_time": "2024-01-07T21:10:03.239834Z"
    }
   },
   "id": "bd3d63b2b2a9694a"
  },
  {
   "cell_type": "code",
   "execution_count": 47,
   "outputs": [
    {
     "data": {
      "text/plain": "                time_quant                                          mint  \\\n0      2023-12-01 00:10:00  2ZE6hSL36e44wP168YMnxrbi1CSCFuD2BJm7NoNHfsmN   \n1      2023-12-01 00:10:00  2x8o3hA5S5fBxCSE9hzVTf3RohcMWHqkDNKNEPuzprD5   \n2      2023-12-01 00:10:00  3EagcZ66c8z2hZdFSd5412yEW9U48AAb9P6d1yhjuGmY   \n3      2023-12-01 00:10:00  7xKXtg2CW87d97TXJSDpbD5jBkheTqA83TZRuJosgAsU   \n4      2023-12-01 00:10:00  AZsHEMXd36Bj1EMNXhowJajpUXzrKcK57wW4ZGXVa7yR   \n...                    ...                                           ...   \n188788 2024-01-06 20:00:00   bSo13r4TkiE4KumL71LsHTPpL2euBYLFx6h9HP3piy1   \n188789 2024-01-06 20:00:00   drakduQWnTS89CdTUdgHmZzEkN6reBLYqrk8rzVhU53   \n188790 2024-01-06 20:00:00   hntyVP6YFm1Hg25TN9WGLqM12b8TQmcknKrdu1oxWux   \n188791 2024-01-06 20:00:00   jtojtomepa8beP8AuQc6eXt5FriJwfFMwQx2v2f9mCL   \n188792 2024-01-06 20:00:00   mb1eu7TzEc71KxDpsmsKoucSSuuoGLv1drys1oP2jh6   \n\n               price     buy_price    sell_price label  day_of_week  hour  \\\n0       5.512779e-05  5.512779e-05  5.371476e-05  flat            4     0   \n1       6.712853e-06  6.712853e-06  9.691156e-06  flat            4     0   \n2       1.079326e-05  1.224739e-05  1.202554e-05  flat            4     0   \n3       1.332301e-04  1.332301e-04  1.539738e-04  flat            4     0   \n4       3.020955e-09  3.050377e-09  2.740962e-09  flat            4     0   \n...              ...           ...           ...   ...          ...   ...   \n188788  1.102740e+00  1.102740e+00  1.101336e+00  flat            5    20   \n188789  5.139652e-08  5.135126e-08  4.767785e-08  flat            5    20   \n188790  5.469759e-02  5.469759e-02  5.656602e-02  flat            5    20   \n188791  1.833676e-02  1.843941e-02  1.795991e-02  flat            5    20   \n188792  3.088555e-05  3.088555e-05  3.150703e-05  flat            5    20   \n\n        u_price_sma_10m  u_price_ema_10m  ...  sma_vol_sell_1d  \\\n0              1.000000         1.000000  ...         0.000000   \n1              1.000000         1.000000  ...         0.000000   \n2              1.000000         1.000000  ...         0.000000   \n3              1.000000         1.000000  ...         0.000000   \n4              1.000000         1.000000  ...         0.000000   \n...                 ...              ...  ...              ...   \n188788         0.998734         0.998753  ...      1458.985347   \n188789         1.130484         1.111542  ...       118.920790   \n188790         1.004781         1.004312  ...       152.474253   \n188791         1.013058         1.011966  ...       382.464987   \n188792         0.992563         0.993831  ...       434.378889   \n\n        ema_vol_sell_1d  sma_vol_sum_10m  ema_vol_sum_10m  sma_vol_sum_1h  \\\n0              0.000000         0.000000         0.000000        0.000000   \n1              0.000000         0.000000         0.000000        0.000000   \n2              0.000000         0.000000         0.000000        0.000000   \n3              0.000000         0.000000         0.000000        0.000000   \n4              0.000000         0.000000         0.000000        0.000000   \n...                 ...              ...              ...             ...   \n188788      1447.227913         0.823093         0.768758       20.904523   \n188789       127.740252         2.962468         5.172840        3.890894   \n188790       167.009113         0.311695         0.289519        2.451582   \n188791       374.358432         2.838082         4.023267       23.100710   \n188792       433.328087         0.082848         0.096660       27.555491   \n\n        ema_vol_sum_1h  sma_vol_sum_4h  ema_vol_sum_4h  sma_vol_sum_1d  \\\n0             0.000000        0.000000        0.000000        0.000000   \n1             0.000000        0.000000        0.000000        0.000000   \n2             0.000000        0.000000        0.000000        0.000000   \n3             0.000000        0.000000        0.000000        0.000000   \n4             0.000000        0.000000        0.000000        0.000000   \n...                ...             ...             ...             ...   \n188788       18.802536      332.293978      254.312691     3261.402092   \n188789        6.268960       27.690687       23.914199      245.760963   \n188790        2.472163       30.712818       23.678727      341.747655   \n188791       21.966102       60.654323       67.945679      625.130612   \n188792       16.729361      117.958899      100.340140      807.341539   \n\n        ema_vol_sum_1d  \n0             0.000000  \n1             0.000000  \n2             0.000000  \n3             0.000000  \n4             0.000000  \n...                ...  \n188788     2964.290065  \n188789      262.027600  \n188790      422.624583  \n188791      633.808990  \n188792      910.155319  \n\n[188793 rows x 44 columns]",
      "text/html": "<div>\n<style scoped>\n    .dataframe tbody tr th:only-of-type {\n        vertical-align: middle;\n    }\n\n    .dataframe tbody tr th {\n        vertical-align: top;\n    }\n\n    .dataframe thead th {\n        text-align: right;\n    }\n</style>\n<table border=\"1\" class=\"dataframe\">\n  <thead>\n    <tr style=\"text-align: right;\">\n      <th></th>\n      <th>time_quant</th>\n      <th>mint</th>\n      <th>price</th>\n      <th>buy_price</th>\n      <th>sell_price</th>\n      <th>label</th>\n      <th>day_of_week</th>\n      <th>hour</th>\n      <th>u_price_sma_10m</th>\n      <th>u_price_ema_10m</th>\n      <th>...</th>\n      <th>sma_vol_sell_1d</th>\n      <th>ema_vol_sell_1d</th>\n      <th>sma_vol_sum_10m</th>\n      <th>ema_vol_sum_10m</th>\n      <th>sma_vol_sum_1h</th>\n      <th>ema_vol_sum_1h</th>\n      <th>sma_vol_sum_4h</th>\n      <th>ema_vol_sum_4h</th>\n      <th>sma_vol_sum_1d</th>\n      <th>ema_vol_sum_1d</th>\n    </tr>\n  </thead>\n  <tbody>\n    <tr>\n      <th>0</th>\n      <td>2023-12-01 00:10:00</td>\n      <td>2ZE6hSL36e44wP168YMnxrbi1CSCFuD2BJm7NoNHfsmN</td>\n      <td>5.512779e-05</td>\n      <td>5.512779e-05</td>\n      <td>5.371476e-05</td>\n      <td>flat</td>\n      <td>4</td>\n      <td>0</td>\n      <td>1.000000</td>\n      <td>1.000000</td>\n      <td>...</td>\n      <td>0.000000</td>\n      <td>0.000000</td>\n      <td>0.000000</td>\n      <td>0.000000</td>\n      <td>0.000000</td>\n      <td>0.000000</td>\n      <td>0.000000</td>\n      <td>0.000000</td>\n      <td>0.000000</td>\n      <td>0.000000</td>\n    </tr>\n    <tr>\n      <th>1</th>\n      <td>2023-12-01 00:10:00</td>\n      <td>2x8o3hA5S5fBxCSE9hzVTf3RohcMWHqkDNKNEPuzprD5</td>\n      <td>6.712853e-06</td>\n      <td>6.712853e-06</td>\n      <td>9.691156e-06</td>\n      <td>flat</td>\n      <td>4</td>\n      <td>0</td>\n      <td>1.000000</td>\n      <td>1.000000</td>\n      <td>...</td>\n      <td>0.000000</td>\n      <td>0.000000</td>\n      <td>0.000000</td>\n      <td>0.000000</td>\n      <td>0.000000</td>\n      <td>0.000000</td>\n      <td>0.000000</td>\n      <td>0.000000</td>\n      <td>0.000000</td>\n      <td>0.000000</td>\n    </tr>\n    <tr>\n      <th>2</th>\n      <td>2023-12-01 00:10:00</td>\n      <td>3EagcZ66c8z2hZdFSd5412yEW9U48AAb9P6d1yhjuGmY</td>\n      <td>1.079326e-05</td>\n      <td>1.224739e-05</td>\n      <td>1.202554e-05</td>\n      <td>flat</td>\n      <td>4</td>\n      <td>0</td>\n      <td>1.000000</td>\n      <td>1.000000</td>\n      <td>...</td>\n      <td>0.000000</td>\n      <td>0.000000</td>\n      <td>0.000000</td>\n      <td>0.000000</td>\n      <td>0.000000</td>\n      <td>0.000000</td>\n      <td>0.000000</td>\n      <td>0.000000</td>\n      <td>0.000000</td>\n      <td>0.000000</td>\n    </tr>\n    <tr>\n      <th>3</th>\n      <td>2023-12-01 00:10:00</td>\n      <td>7xKXtg2CW87d97TXJSDpbD5jBkheTqA83TZRuJosgAsU</td>\n      <td>1.332301e-04</td>\n      <td>1.332301e-04</td>\n      <td>1.539738e-04</td>\n      <td>flat</td>\n      <td>4</td>\n      <td>0</td>\n      <td>1.000000</td>\n      <td>1.000000</td>\n      <td>...</td>\n      <td>0.000000</td>\n      <td>0.000000</td>\n      <td>0.000000</td>\n      <td>0.000000</td>\n      <td>0.000000</td>\n      <td>0.000000</td>\n      <td>0.000000</td>\n      <td>0.000000</td>\n      <td>0.000000</td>\n      <td>0.000000</td>\n    </tr>\n    <tr>\n      <th>4</th>\n      <td>2023-12-01 00:10:00</td>\n      <td>AZsHEMXd36Bj1EMNXhowJajpUXzrKcK57wW4ZGXVa7yR</td>\n      <td>3.020955e-09</td>\n      <td>3.050377e-09</td>\n      <td>2.740962e-09</td>\n      <td>flat</td>\n      <td>4</td>\n      <td>0</td>\n      <td>1.000000</td>\n      <td>1.000000</td>\n      <td>...</td>\n      <td>0.000000</td>\n      <td>0.000000</td>\n      <td>0.000000</td>\n      <td>0.000000</td>\n      <td>0.000000</td>\n      <td>0.000000</td>\n      <td>0.000000</td>\n      <td>0.000000</td>\n      <td>0.000000</td>\n      <td>0.000000</td>\n    </tr>\n    <tr>\n      <th>...</th>\n      <td>...</td>\n      <td>...</td>\n      <td>...</td>\n      <td>...</td>\n      <td>...</td>\n      <td>...</td>\n      <td>...</td>\n      <td>...</td>\n      <td>...</td>\n      <td>...</td>\n      <td>...</td>\n      <td>...</td>\n      <td>...</td>\n      <td>...</td>\n      <td>...</td>\n      <td>...</td>\n      <td>...</td>\n      <td>...</td>\n      <td>...</td>\n      <td>...</td>\n      <td>...</td>\n    </tr>\n    <tr>\n      <th>188788</th>\n      <td>2024-01-06 20:00:00</td>\n      <td>bSo13r4TkiE4KumL71LsHTPpL2euBYLFx6h9HP3piy1</td>\n      <td>1.102740e+00</td>\n      <td>1.102740e+00</td>\n      <td>1.101336e+00</td>\n      <td>flat</td>\n      <td>5</td>\n      <td>20</td>\n      <td>0.998734</td>\n      <td>0.998753</td>\n      <td>...</td>\n      <td>1458.985347</td>\n      <td>1447.227913</td>\n      <td>0.823093</td>\n      <td>0.768758</td>\n      <td>20.904523</td>\n      <td>18.802536</td>\n      <td>332.293978</td>\n      <td>254.312691</td>\n      <td>3261.402092</td>\n      <td>2964.290065</td>\n    </tr>\n    <tr>\n      <th>188789</th>\n      <td>2024-01-06 20:00:00</td>\n      <td>drakduQWnTS89CdTUdgHmZzEkN6reBLYqrk8rzVhU53</td>\n      <td>5.139652e-08</td>\n      <td>5.135126e-08</td>\n      <td>4.767785e-08</td>\n      <td>flat</td>\n      <td>5</td>\n      <td>20</td>\n      <td>1.130484</td>\n      <td>1.111542</td>\n      <td>...</td>\n      <td>118.920790</td>\n      <td>127.740252</td>\n      <td>2.962468</td>\n      <td>5.172840</td>\n      <td>3.890894</td>\n      <td>6.268960</td>\n      <td>27.690687</td>\n      <td>23.914199</td>\n      <td>245.760963</td>\n      <td>262.027600</td>\n    </tr>\n    <tr>\n      <th>188790</th>\n      <td>2024-01-06 20:00:00</td>\n      <td>hntyVP6YFm1Hg25TN9WGLqM12b8TQmcknKrdu1oxWux</td>\n      <td>5.469759e-02</td>\n      <td>5.469759e-02</td>\n      <td>5.656602e-02</td>\n      <td>flat</td>\n      <td>5</td>\n      <td>20</td>\n      <td>1.004781</td>\n      <td>1.004312</td>\n      <td>...</td>\n      <td>152.474253</td>\n      <td>167.009113</td>\n      <td>0.311695</td>\n      <td>0.289519</td>\n      <td>2.451582</td>\n      <td>2.472163</td>\n      <td>30.712818</td>\n      <td>23.678727</td>\n      <td>341.747655</td>\n      <td>422.624583</td>\n    </tr>\n    <tr>\n      <th>188791</th>\n      <td>2024-01-06 20:00:00</td>\n      <td>jtojtomepa8beP8AuQc6eXt5FriJwfFMwQx2v2f9mCL</td>\n      <td>1.833676e-02</td>\n      <td>1.843941e-02</td>\n      <td>1.795991e-02</td>\n      <td>flat</td>\n      <td>5</td>\n      <td>20</td>\n      <td>1.013058</td>\n      <td>1.011966</td>\n      <td>...</td>\n      <td>382.464987</td>\n      <td>374.358432</td>\n      <td>2.838082</td>\n      <td>4.023267</td>\n      <td>23.100710</td>\n      <td>21.966102</td>\n      <td>60.654323</td>\n      <td>67.945679</td>\n      <td>625.130612</td>\n      <td>633.808990</td>\n    </tr>\n    <tr>\n      <th>188792</th>\n      <td>2024-01-06 20:00:00</td>\n      <td>mb1eu7TzEc71KxDpsmsKoucSSuuoGLv1drys1oP2jh6</td>\n      <td>3.088555e-05</td>\n      <td>3.088555e-05</td>\n      <td>3.150703e-05</td>\n      <td>flat</td>\n      <td>5</td>\n      <td>20</td>\n      <td>0.992563</td>\n      <td>0.993831</td>\n      <td>...</td>\n      <td>434.378889</td>\n      <td>433.328087</td>\n      <td>0.082848</td>\n      <td>0.096660</td>\n      <td>27.555491</td>\n      <td>16.729361</td>\n      <td>117.958899</td>\n      <td>100.340140</td>\n      <td>807.341539</td>\n      <td>910.155319</td>\n    </tr>\n  </tbody>\n</table>\n<p>188793 rows × 44 columns</p>\n</div>"
     },
     "execution_count": 47,
     "metadata": {},
     "output_type": "execute_result"
    }
   ],
   "source": [
    "train_test_dataset"
   ],
   "metadata": {
    "collapsed": false,
    "ExecuteTime": {
     "end_time": "2024-01-07T21:10:03.869677Z",
     "start_time": "2024-01-07T21:10:03.803446Z"
    }
   },
   "id": "ab86e197b0b04654"
  },
  {
   "cell_type": "code",
   "execution_count": 48,
   "outputs": [
    {
     "name": "stdout",
     "output_type": "stream",
     "text": [
      "feature_names: ['day_of_week', 'hour', 'u_price_sma_10m', 'u_price_ema_10m', 'u_price_rsi_10m', 'u_price_sma_1h', 'u_price_ema_1h', 'u_price_rsi_1h', 'u_price_sma_4h', 'u_price_ema_4h', 'u_price_rsi_4h', 'u_price_sma_1d', 'u_price_ema_1d', 'u_price_rsi_1d', 'sma_vol_buy_10m', 'ema_vol_buy_10m', 'sma_vol_buy_1h', 'ema_vol_buy_1h', 'sma_vol_buy_4h', 'ema_vol_buy_4h', 'sma_vol_buy_1d', 'ema_vol_buy_1d', 'sma_vol_sell_10m', 'ema_vol_sell_10m', 'sma_vol_sell_1h', 'ema_vol_sell_1h', 'sma_vol_sell_4h', 'ema_vol_sell_4h', 'sma_vol_sell_1d', 'ema_vol_sell_1d', 'sma_vol_sum_10m', 'ema_vol_sum_10m', 'sma_vol_sum_1h', 'ema_vol_sum_1h', 'sma_vol_sum_4h', 'ema_vol_sum_4h', 'sma_vol_sum_1d', 'ema_vol_sum_1d']\n"
     ]
    }
   ],
   "source": [
    "column_names = list(train_test_dataset.columns)\n",
    "# feature names start after 'label'\n",
    "label_index = column_names.index('label')\n",
    "feature_names = column_names[label_index+1:]\n",
    "print(f\"feature_names: {feature_names}\")"
   ],
   "metadata": {
    "collapsed": false,
    "ExecuteTime": {
     "end_time": "2024-01-07T21:10:04.378334Z",
     "start_time": "2024-01-07T21:10:04.346151Z"
    }
   },
   "id": "34b9df2488215da7"
  },
  {
   "cell_type": "code",
   "execution_count": 49,
   "outputs": [
    {
     "name": "stdout",
     "output_type": "stream",
     "text": [
      "train [2023-12-01 00:10:00; 2023-12-24 00:33:45)\n",
      "test [2023-12-25 00:33:45; 2023-12-29 15:02:30)\n",
      "train_data (94692) [2023-12-01 00:10:00; 2023-12-24 00:30:00]\n",
      "test_data (30249) [2023-12-25 00:40:00 to 2023-12-29 15:00:00]\n",
      "train [2023-12-01 00:10:00; 2023-12-28 15:02:30)\n",
      "test [2023-12-29 15:02:30; 2024-01-03 05:31:15)\n",
      "train_data (124658) [2023-12-01 00:10:00; 2023-12-28 15:00:00]\n",
      "test_data (31116) [2023-12-29 15:10:00 to 2024-01-03 05:30:00]\n",
      "train [2023-12-01 00:10:00; 2024-01-02 05:31:15)\n",
      "test [2024-01-03 05:31:15; 2024-01-07 20:00:00)\n",
      "train_data (154948) [2023-12-01 00:10:00; 2024-01-02 05:30:00]\n",
      "test_data (26836) [2024-01-03 05:40:00 to 2024-01-06 20:00:00]\n"
     ]
    }
   ],
   "source": [
    "import pandas as pd\n",
    "from catboost import CatBoostClassifier, Pool\n",
    "from sklearn.model_selection import TimeSeriesSplit\n",
    "from sklearn.metrics import confusion_matrix\n",
    "import matplotlib.pyplot as plt\n",
    "import seaborn as sns\n",
    "\n",
    "# Convert 'mint' to a categorical feature\n",
    "# train_test_dataset['mint'] = train_test_dataset['mint'].astype('category')\n",
    "\n",
    "# Define features and target\n",
    "# feature_names = ['mint', 'hour', 'trades', 'token_volume', 'sol_volume', 'price'] + list(features.columns[2:])\n",
    "# cat_feature_names = ['mint']\n",
    "# feature_names = ['trades', 'token_volume', 'sol_volume', 'price'] + list(features.columns[2:])\n",
    "cat_feature_names = []\n",
    "target = 'label'\n",
    "\n",
    "# Initialize CatBoost Classifier\n",
    "model = CatBoostClassifier(loss_function='MultiClass', verbose=False)\n",
    "\n",
    "# TimeSeriesSplit for cross-validation\n",
    "nsplits = 3\n",
    "\n",
    "# To store predictions and actuals\n",
    "actuals = []\n",
    "raw_predictions = []\n",
    "up_probabilities = []\n",
    "down_probabilities = []\n",
    "details_df = pd.DataFrame() \n",
    "train_len = 0\n",
    "up_train_len = 0\n",
    "\n",
    "def split_tscv(ordered_df, nsplits):\n",
    "    min_quant = ordered_df['time_quant'].min()\n",
    "    max_quant = ordered_df['time_quant'].max()\n",
    "    range_quant = (max_quant - min_quant) / (nsplits + 1) / 2\n",
    "    for i in range(nsplits):\n",
    "        train_start = min_quant \n",
    "        train_end = min_quant + (i + 1) * range_quant + (max_quant - min_quant) / 2\n",
    "        test_start = train_end + PREDICTION_TIMEDELTA\n",
    "        test_end = test_start + range_quant\n",
    "        print(f'train [{train_start}; {train_end})\\ntest [{test_start}; {test_end})')\n",
    "        train_df = ordered_df[(ordered_df['time_quant'] >= train_start) & (ordered_df['time_quant'] < train_end)]\n",
    "        test_df = ordered_df[(ordered_df['time_quant'] >= test_start) & (ordered_df['time_quant'] < test_end)]\n",
    "        yield train_df, test_df\n",
    "    \n",
    "    \n",
    "split_tscv(train_test_dataset, nsplits)\n",
    "\n",
    "for train_data, test_data in split_tscv(train_test_dataset, nsplits):\n",
    "    print(f'train_data ({len(train_data)}) [{min(train_data[\"time_quant\"])}; {max(train_data[\"time_quant\"])}]')\n",
    "    if len(test_data) == 0:\n",
    "        print(f'No data left for test data')\n",
    "        break\n",
    "    print(f'test_data ({len(test_data)}) [{min(test_data[\"time_quant\"])} to {max(test_data[\"time_quant\"])}]')\n",
    "\n",
    "    train_len += len(train_data)\n",
    "    up_train_len += len(train_data[train_data[target] == 'up'])\n",
    "\n",
    "    # Create Pool\n",
    "    train_pool = Pool(data=train_data[feature_names], label=train_data[target], cat_features=cat_feature_names)\n",
    "    test_pool = Pool(data=test_data[feature_names], label=test_data[target], cat_features=cat_feature_names)\n",
    "\n",
    "    # Train model\n",
    "    model.fit(train_pool)\n",
    "\n",
    "    # Predict\n",
    "    classes = model.classes_\n",
    "    probs = model.predict_proba(test_pool)\n",
    "    classes_to_index = {c: i for i, c in enumerate(classes)}\n",
    "    \n",
    "    for probs_row in probs:\n",
    "        raw_predictions.append(classes[probs_row.argmax()])\n",
    "        up_probabilities.append(probs_row[classes_to_index['up']])\n",
    "        down_probabilities.append(probs_row[classes_to_index['down']])\n",
    "\n",
    "    actuals.extend(test_data[target].values)\n",
    "    if len(details_df) == 0:\n",
    "        details_df = test_data\n",
    "    else:\n",
    "        details_df = pd.concat([details_df, test_data])\n",
    "    \n"
   ],
   "metadata": {
    "collapsed": false,
    "ExecuteTime": {
     "end_time": "2024-01-07T21:10:41.697030Z",
     "start_time": "2024-01-07T21:10:05.252065Z"
    }
   },
   "id": "62eb4dc2618fa53e"
  },
  {
   "cell_type": "code",
   "execution_count": 50,
   "outputs": [
    {
     "name": "stdout",
     "output_type": "stream",
     "text": [
      "desired_up_amount: 319 of 827\n",
      "up_threshold: 0.18805459393849036\n",
      "pred len 88201, actuals len 88201, comparison_df len 88201, details len 88201, results_df len 88201\n",
      "Confusion Matrix:\n",
      "        up   flat  down\n",
      "up     20    803     4\n",
      "flat  274  85672    35\n",
      "down   26   1346    21\n",
      "ROI1: 110.62% of 100%\n",
      "ROI2: 25.00% of 100%\n",
      "Bench ROI2: 3.75% of 100%\n",
      "Used: 0.36% (320 of 88201 trades)\n",
      "\n",
      "purchased upsides: 1.5815938677219914, top 10 upsides ['27', '20', '10', '9', '9', '6', '6', '6', '5', '5']\n",
      "all upsides: 56852.316724332755, top 10 upsides ['116369018', '115634784', '114432685', '113517379', '112882797', '112584762', '112421034', '112206623', '112066362', '112066362']\n"
     ]
    }
   ],
   "source": [
    "import numpy as np\n",
    "\n",
    "desired_up_amount = int(up_train_len * 1. / train_len * len(actuals) * 0.3)\n",
    "print(f\"desired_up_amount: {desired_up_amount} of {actuals.count('up')}\")\n",
    "\n",
    "delta_probabilities = list(np.array(up_probabilities) - np.array(down_probabilities) / CHANGE_MAGNITUDE)\n",
    "\n",
    "up_threshold = sorted(delta_probabilities, reverse=True)[desired_up_amount]\n",
    "print(f\"up_threshold: {up_threshold}\")\n",
    "\n",
    "predictions = []\n",
    "for raw_pred, up_prob in zip(raw_predictions, delta_probabilities):\n",
    "    if up_prob < up_threshold:\n",
    "        predictions.append(raw_pred if raw_pred != 'up' else 'flat')\n",
    "    else:\n",
    "        predictions.append('up')\n",
    "\n",
    "# Confusion Matrix\n",
    "conf_matrix = confusion_matrix(actuals, predictions, labels=['up', 'flat', 'down'])\n",
    "conf_matrix_df = pd.DataFrame(conf_matrix, index=['up', 'flat', 'down'], columns=['up', 'flat', 'down'])\n",
    "\n",
    "# Last iteration's predictions and actuals\n",
    "comparison_df = pd.DataFrame({'Actual': actuals, 'Predicted': predictions, 'UpP': up_probabilities, 'DownP': down_probabilities})\n",
    "# comparison_df = comparison_df.reset_index(drop=True)\n",
    "\n",
    "# add details to results_df\n",
    "results_df = pd.concat([comparison_df.reset_index(drop=True), details_df.reset_index(drop=True)], axis=1)\n",
    "print(f\"pred len {len(predictions)}, actuals len {len(actuals)}, \"\n",
    "      f\"comparison_df len {len(comparison_df)}, details len {len(details_df)}, results_df len {len(results_df)}\")\n",
    "\n",
    "#join prices to results_df\n",
    "# results_df = results_df.join(prices[['mint', 'hour', 'price'+prediction_type['suffix']]].set_index(['mint', 'hour']), on=['mint', 'hour'])\n",
    "results_df['upside'] = results_df['sell_price'] / results_df['buy_price']\n",
    "# if price is inf, set upside to 0\n",
    "results_df['upside'] = results_df['upside'].replace([np.inf, -np.inf], 1)\n",
    "\n",
    "purchased_upsides = results_df[(results_df['Predicted']=='up')]['upside']\n",
    "all_upsides = results_df['upside']\n",
    "\n",
    "\n",
    "# Output\n",
    "print(\"Confusion Matrix:\\n\", conf_matrix_df)\n",
    "print(\"ROI1: %.2f%% of 100%%\\n\"\n",
    "      \"ROI2: %.2f%% of 100%%\\n\"\n",
    "      \"Bench ROI2: %.2f%% of 100%%\\n\"\n",
    "      \"Used: %.2f%% (%d of %d trades)\\n\"\n",
    "      %(\n",
    "        (100 * (CHANGE_MAGNITUDE * 1. * conf_matrix_df.loc['up', 'up'].sum() + conf_matrix_df.loc['flat', 'up'].sum()) / conf_matrix_df.loc[:, 'up'].sum()),\n",
    "        (100 * (CHANGE_MAGNITUDE * 1. * conf_matrix_df.loc['up', 'up'].sum()) / conf_matrix_df.loc[:, 'up'].sum()),\n",
    "        (100 * (CHANGE_MAGNITUDE * 1. * conf_matrix_df.loc['up', :].sum()) / conf_matrix_df.loc[:, :].sum().sum()),\n",
    "        (100 * (1. * conf_matrix_df.loc[:, 'up'].sum()) / conf_matrix_df.loc[:, :].sum().sum()),\n",
    "        conf_matrix_df.loc[:, 'up'].sum(),\n",
    "        conf_matrix_df.loc[:, :].sum().sum(),\n",
    "      )\n",
    "      )\n",
    "print(f'purchased upsides: {purchased_upsides.mean()}, top 10 upsides {[\"%.0f\" % u for u in list(purchased_upsides.sort_values(ascending=False).head(10))]}')\n",
    "print(f'all upsides: {all_upsides.mean()}, top 10 upsides {[\"%.0f\" % u for u in list(all_upsides.sort_values(ascending=False).head(10))]}')"
   ],
   "metadata": {
    "collapsed": false,
    "ExecuteTime": {
     "end_time": "2024-01-07T21:10:52.425733Z",
     "start_time": "2024-01-07T21:10:52.233385Z"
    }
   },
   "id": "fef1b11c7c2205ff"
  },
  {
   "cell_type": "code",
   "execution_count": 13,
   "outputs": [
    {
     "name": "stdout",
     "output_type": "stream",
     "text": [
      "Confusion Matrix:\n",
      "        up   flat  down\n",
      "up     40    812     4\n",
      "flat  266  85517    34\n",
      "down   25   1477    26\n",
      "ROI1: 128.70% of 100%\n",
      "ROI2: 48.34% of 100%\n",
      "Bench ROI2: 3.88% of 100%\n",
      "Used: 0.38% (331 of 88201 trades)\n",
      "\n",
      "purchased upsides: 3.3397670401012136, top 10 upsides ['73', '57', '56', '54', '40', '39', '39', '39', '38', '38']\n",
      "all upsides: 56927.42437034038, top 10 upsides ['116369018', '115634784', '114432685', '113517379', '113123397', '112882797', '112584762', '112421034', '112206623', '112066362']\n"
     ]
    }
   ],
   "source": [
    "print(\"Confusion Matrix:\\n\", conf_matrix_df)\n",
    "print(\"ROI1: %.2f%% of 100%%\\n\"\n",
    "      \"ROI2: %.2f%% of 100%%\\n\"\n",
    "      \"Bench ROI2: %.2f%% of 100%%\\n\"\n",
    "      \"Used: %.2f%% (%d of %d trades)\\n\"\n",
    "      %(\n",
    "        (100 * (CHANGE_MAGNITUDE * 1. * conf_matrix_df.loc['up', 'up'].sum() + conf_matrix_df.loc['flat', 'up'].sum()) / conf_matrix_df.loc[:, 'up'].sum()),\n",
    "        (100 * (CHANGE_MAGNITUDE * 1. * conf_matrix_df.loc['up', 'up'].sum()) / conf_matrix_df.loc[:, 'up'].sum()),\n",
    "        (100 * (CHANGE_MAGNITUDE * 1. * conf_matrix_df.loc['up', :].sum()) / conf_matrix_df.loc[:, :].sum().sum()),\n",
    "        (100 * (1. * conf_matrix_df.loc[:, 'up'].sum()) / conf_matrix_df.loc[:, :].sum().sum()),\n",
    "        conf_matrix_df.loc[:, 'up'].sum(),\n",
    "        conf_matrix_df.loc[:, :].sum().sum(),\n",
    "      )\n",
    "      )\n",
    "print(f'purchased upsides: {purchased_upsides.mean()}, top 10 upsides {[\"%.0f\" % u for u in list(purchased_upsides.sort_values(ascending=False).head(10))]}')\n",
    "print(f'all upsides: {all_upsides.mean()}, top 10 upsides {[\"%.0f\" % u for u in list(all_upsides.sort_values(ascending=False).head(10))]}')"
   ],
   "metadata": {
    "collapsed": false,
    "ExecuteTime": {
     "end_time": "2024-01-07T20:54:03.352952Z",
     "start_time": "2024-01-07T20:54:03.332987Z"
    }
   },
   "id": "94a5c8e242f78fdf"
  },
  {
   "cell_type": "code",
   "execution_count": 51,
   "outputs": [
    {
     "data": {
      "text/plain": "          Feature Id  Importances\n0        day_of_week    12.614887\n1               hour     9.598444\n2     u_price_sma_1d     4.416289\n3    u_price_rsi_10m     3.656474\n4     u_price_ema_1d     3.612294\n5     u_price_rsi_1d     3.395390\n6     u_price_sma_4h     3.334379\n7    sma_vol_sell_4h     2.783341\n8   sma_vol_sell_10m     2.755918\n9     sma_vol_buy_1d     2.750363\n10    ema_vol_buy_1d     2.738840\n11   sma_vol_buy_10m     2.646246\n12   ema_vol_sell_1d     2.645265\n13    ema_vol_buy_4h     2.532881\n14  ema_vol_sell_10m     2.499201\n15   ema_vol_buy_10m     2.473097\n16   sma_vol_sell_1d     2.417285\n17    u_price_ema_4h     2.213502\n18   sma_vol_sell_1h     2.101073\n19    u_price_rsi_1h     2.002019\n20    u_price_sma_1h     1.941828\n21   ema_vol_sell_1h     1.935461\n22   ema_vol_sum_10m     1.905169\n23   ema_vol_sell_4h     1.725907\n24    sma_vol_buy_4h     1.703702\n25    ema_vol_buy_1h     1.678737\n26    sma_vol_buy_1h     1.641855\n27    sma_vol_sum_1d     1.629090\n28    sma_vol_sum_4h     1.582356\n29   sma_vol_sum_10m     1.553165\n30   u_price_ema_10m     1.406421\n31    ema_vol_sum_1d     1.390180\n32   u_price_sma_10m     1.340480\n33    u_price_ema_1h     1.285407\n34    sma_vol_sum_1h     1.143194\n35    ema_vol_sum_4h     1.048915\n36    ema_vol_sum_1h     1.009976\n37    u_price_rsi_4h     0.890970",
      "text/html": "<div>\n<style scoped>\n    .dataframe tbody tr th:only-of-type {\n        vertical-align: middle;\n    }\n\n    .dataframe tbody tr th {\n        vertical-align: top;\n    }\n\n    .dataframe thead th {\n        text-align: right;\n    }\n</style>\n<table border=\"1\" class=\"dataframe\">\n  <thead>\n    <tr style=\"text-align: right;\">\n      <th></th>\n      <th>Feature Id</th>\n      <th>Importances</th>\n    </tr>\n  </thead>\n  <tbody>\n    <tr>\n      <th>0</th>\n      <td>day_of_week</td>\n      <td>12.614887</td>\n    </tr>\n    <tr>\n      <th>1</th>\n      <td>hour</td>\n      <td>9.598444</td>\n    </tr>\n    <tr>\n      <th>2</th>\n      <td>u_price_sma_1d</td>\n      <td>4.416289</td>\n    </tr>\n    <tr>\n      <th>3</th>\n      <td>u_price_rsi_10m</td>\n      <td>3.656474</td>\n    </tr>\n    <tr>\n      <th>4</th>\n      <td>u_price_ema_1d</td>\n      <td>3.612294</td>\n    </tr>\n    <tr>\n      <th>5</th>\n      <td>u_price_rsi_1d</td>\n      <td>3.395390</td>\n    </tr>\n    <tr>\n      <th>6</th>\n      <td>u_price_sma_4h</td>\n      <td>3.334379</td>\n    </tr>\n    <tr>\n      <th>7</th>\n      <td>sma_vol_sell_4h</td>\n      <td>2.783341</td>\n    </tr>\n    <tr>\n      <th>8</th>\n      <td>sma_vol_sell_10m</td>\n      <td>2.755918</td>\n    </tr>\n    <tr>\n      <th>9</th>\n      <td>sma_vol_buy_1d</td>\n      <td>2.750363</td>\n    </tr>\n    <tr>\n      <th>10</th>\n      <td>ema_vol_buy_1d</td>\n      <td>2.738840</td>\n    </tr>\n    <tr>\n      <th>11</th>\n      <td>sma_vol_buy_10m</td>\n      <td>2.646246</td>\n    </tr>\n    <tr>\n      <th>12</th>\n      <td>ema_vol_sell_1d</td>\n      <td>2.645265</td>\n    </tr>\n    <tr>\n      <th>13</th>\n      <td>ema_vol_buy_4h</td>\n      <td>2.532881</td>\n    </tr>\n    <tr>\n      <th>14</th>\n      <td>ema_vol_sell_10m</td>\n      <td>2.499201</td>\n    </tr>\n    <tr>\n      <th>15</th>\n      <td>ema_vol_buy_10m</td>\n      <td>2.473097</td>\n    </tr>\n    <tr>\n      <th>16</th>\n      <td>sma_vol_sell_1d</td>\n      <td>2.417285</td>\n    </tr>\n    <tr>\n      <th>17</th>\n      <td>u_price_ema_4h</td>\n      <td>2.213502</td>\n    </tr>\n    <tr>\n      <th>18</th>\n      <td>sma_vol_sell_1h</td>\n      <td>2.101073</td>\n    </tr>\n    <tr>\n      <th>19</th>\n      <td>u_price_rsi_1h</td>\n      <td>2.002019</td>\n    </tr>\n    <tr>\n      <th>20</th>\n      <td>u_price_sma_1h</td>\n      <td>1.941828</td>\n    </tr>\n    <tr>\n      <th>21</th>\n      <td>ema_vol_sell_1h</td>\n      <td>1.935461</td>\n    </tr>\n    <tr>\n      <th>22</th>\n      <td>ema_vol_sum_10m</td>\n      <td>1.905169</td>\n    </tr>\n    <tr>\n      <th>23</th>\n      <td>ema_vol_sell_4h</td>\n      <td>1.725907</td>\n    </tr>\n    <tr>\n      <th>24</th>\n      <td>sma_vol_buy_4h</td>\n      <td>1.703702</td>\n    </tr>\n    <tr>\n      <th>25</th>\n      <td>ema_vol_buy_1h</td>\n      <td>1.678737</td>\n    </tr>\n    <tr>\n      <th>26</th>\n      <td>sma_vol_buy_1h</td>\n      <td>1.641855</td>\n    </tr>\n    <tr>\n      <th>27</th>\n      <td>sma_vol_sum_1d</td>\n      <td>1.629090</td>\n    </tr>\n    <tr>\n      <th>28</th>\n      <td>sma_vol_sum_4h</td>\n      <td>1.582356</td>\n    </tr>\n    <tr>\n      <th>29</th>\n      <td>sma_vol_sum_10m</td>\n      <td>1.553165</td>\n    </tr>\n    <tr>\n      <th>30</th>\n      <td>u_price_ema_10m</td>\n      <td>1.406421</td>\n    </tr>\n    <tr>\n      <th>31</th>\n      <td>ema_vol_sum_1d</td>\n      <td>1.390180</td>\n    </tr>\n    <tr>\n      <th>32</th>\n      <td>u_price_sma_10m</td>\n      <td>1.340480</td>\n    </tr>\n    <tr>\n      <th>33</th>\n      <td>u_price_ema_1h</td>\n      <td>1.285407</td>\n    </tr>\n    <tr>\n      <th>34</th>\n      <td>sma_vol_sum_1h</td>\n      <td>1.143194</td>\n    </tr>\n    <tr>\n      <th>35</th>\n      <td>ema_vol_sum_4h</td>\n      <td>1.048915</td>\n    </tr>\n    <tr>\n      <th>36</th>\n      <td>ema_vol_sum_1h</td>\n      <td>1.009976</td>\n    </tr>\n    <tr>\n      <th>37</th>\n      <td>u_price_rsi_4h</td>\n      <td>0.890970</td>\n    </tr>\n  </tbody>\n</table>\n</div>"
     },
     "execution_count": 51,
     "metadata": {},
     "output_type": "execute_result"
    }
   ],
   "source": [
    "# feature importance\n",
    "model.get_feature_importance(prettified=True)"
   ],
   "metadata": {
    "collapsed": false,
    "ExecuteTime": {
     "end_time": "2024-01-07T21:13:46.181836Z",
     "start_time": "2024-01-07T21:13:46.159238Z"
    }
   },
   "id": "aa3a8642a70c940b"
  },
  {
   "cell_type": "code",
   "execution_count": 52,
   "outputs": [
    {
     "data": {
      "text/plain": "                                               mint          time_quant  \\\n83647  4M1cAJY21mzQSnoGu9gNW8dE7gf9ArJCi5VWoCLH1w1v 2024-01-06 02:20:00   \n83600  4M1cAJY21mzQSnoGu9gNW8dE7gf9ArJCi5VWoCLH1w1v 2024-01-06 02:10:00   \n77734  5b34GXFTk2p8n18VxHQyzbt4b7ZPWTU6wyBFFp7NsPqu 2024-01-05 07:50:00   \n77587  C9o9XkXyBXNodn2A7JsyAiTepT6Vkhsxi5N1GZV4VaSB 2024-01-05 07:10:00   \n60146  25vHoSeyJeroPYaTf72o97rCKmyEoGK7iNNHDAv6zYy6 2024-01-03 01:40:00   \n51804  4QaUgfV66YZh2hwoFLaucFfxedYJognmmgdifjT84nY7 2024-01-01 21:40:00   \n47920  BW6Xdf1C2Hj9zWCLdUQXitX5C6EmHjpCbWXRvKUmthQ6 2024-01-01 08:50:00   \n38308  J34usKXUTz4aCanKftng4H3Szo2xg2hDbPFs5nsQ7adq 2023-12-30 19:00:00   \n35494  A7Mu6u5MqGDTZGCnqysfhimTx1TcjRxTE7jrSPyTwqJ3 2023-12-30 09:50:00   \n35477  5cQe5Fo5LnRM5wpaHV7rDyvBHg1cRSyCwDdLRnuQWniu 2023-12-30 09:50:00   \n35058  8jPA4dUfhEcCPUd1cnXpTwsTZRCF2sxTfguQszJZjFWZ 2023-12-30 08:10:00   \n33942  9mk9KHxvNp968URfYpX6XKixJXZC3nUY85hs6DCC7Yo8 2023-12-30 04:10:00   \n33806  9mk9KHxvNp968URfYpX6XKixJXZC3nUY85hs6DCC7Yo8 2023-12-30 03:40:00   \n33641  FW4krU6xrXRRZFtC9QvFjipJ4GZHtvtDc3xfFDtTGzWv 2023-12-30 03:00:00   \n30610  FvVDc6gZmYho6DLLuJ3ptHS6rxb797Cxf1insiUnu2BL 2023-12-29 16:20:00   \n18877  99fp2z9TANArLJR4hcwx8fJSzjz7GQwUn7huGf32nDdv 2023-12-27 21:30:00   \n14098  7xKXtg2CW87d97TXJSDpbD5jBkheTqA83TZRuJosgAsU 2023-12-27 04:50:00   \n12292  CUwif1FiX5b3bwwb2n5Bm35AixvnR8LJjGUVmEwNZNgR 2023-12-26 22:10:00   \n8455   87QbDz6Ze5B8L3PoGvqLyJ3JAydi39jNtvzXDEz7zbcK 2023-12-26 08:10:00   \n6296   59JqWigb2AUvqjzY1bPz4RgYosY5pC5VGPCjiKPjqssH 2023-12-26 00:30:00   \n\n              price     buy_price    sell_price     upside  \n83647  7.486412e-06  7.486412e-06  4.809451e-05   6.424240  \n83600  9.044381e-06  7.486412e-06  4.787284e-05   6.394631  \n77734  2.752393e-04  2.752393e-04  1.466963e-03   5.329773  \n77587  4.515649e-05  4.515649e-05  2.284087e-04   5.058159  \n60146  2.067719e-06  2.570105e-06  2.561828e-05   9.967795  \n51804  5.880300e-08  5.880300e-08  5.327824e-07   9.060463  \n47920  4.680668e-10  4.680668e-10  1.956133e-09   4.179175  \n38308  3.203634e-07  3.245287e-07  1.912040e-06   5.891745  \n35494  1.873217e-06  1.873217e-06  3.830872e-05  20.450760  \n35477  1.148979e-07  1.148979e-07  4.649175e-07   4.046354  \n35058  3.896971e-07  3.896971e-07  1.951283e-06   5.007179  \n33942  5.344003e-02  5.344003e-02  2.451143e-01   4.586717  \n33806  8.797744e-02  4.616627e-02  2.402345e-01   5.203679  \n33641  1.987214e-07  7.454820e-08  4.036227e-07   5.414251  \n30610  2.489064e-09  2.489064e-09  2.325568e-08   9.343142  \n18877  1.312018e-05  1.312018e-05  5.725863e-05   4.364164  \n14098  1.302276e-04  1.302276e-04  3.493056e-03  26.822710  \n12292  1.210432e-06  1.210432e-06  5.245362e-06   4.333463  \n8455   1.911103e-09  1.147014e-08  5.707533e-08   4.975992  \n6296   1.231740e-08  3.646059e-08  1.680799e-07   4.609906  ",
      "text/html": "<div>\n<style scoped>\n    .dataframe tbody tr th:only-of-type {\n        vertical-align: middle;\n    }\n\n    .dataframe tbody tr th {\n        vertical-align: top;\n    }\n\n    .dataframe thead th {\n        text-align: right;\n    }\n</style>\n<table border=\"1\" class=\"dataframe\">\n  <thead>\n    <tr style=\"text-align: right;\">\n      <th></th>\n      <th>mint</th>\n      <th>time_quant</th>\n      <th>price</th>\n      <th>buy_price</th>\n      <th>sell_price</th>\n      <th>upside</th>\n    </tr>\n  </thead>\n  <tbody>\n    <tr>\n      <th>83647</th>\n      <td>4M1cAJY21mzQSnoGu9gNW8dE7gf9ArJCi5VWoCLH1w1v</td>\n      <td>2024-01-06 02:20:00</td>\n      <td>7.486412e-06</td>\n      <td>7.486412e-06</td>\n      <td>4.809451e-05</td>\n      <td>6.424240</td>\n    </tr>\n    <tr>\n      <th>83600</th>\n      <td>4M1cAJY21mzQSnoGu9gNW8dE7gf9ArJCi5VWoCLH1w1v</td>\n      <td>2024-01-06 02:10:00</td>\n      <td>9.044381e-06</td>\n      <td>7.486412e-06</td>\n      <td>4.787284e-05</td>\n      <td>6.394631</td>\n    </tr>\n    <tr>\n      <th>77734</th>\n      <td>5b34GXFTk2p8n18VxHQyzbt4b7ZPWTU6wyBFFp7NsPqu</td>\n      <td>2024-01-05 07:50:00</td>\n      <td>2.752393e-04</td>\n      <td>2.752393e-04</td>\n      <td>1.466963e-03</td>\n      <td>5.329773</td>\n    </tr>\n    <tr>\n      <th>77587</th>\n      <td>C9o9XkXyBXNodn2A7JsyAiTepT6Vkhsxi5N1GZV4VaSB</td>\n      <td>2024-01-05 07:10:00</td>\n      <td>4.515649e-05</td>\n      <td>4.515649e-05</td>\n      <td>2.284087e-04</td>\n      <td>5.058159</td>\n    </tr>\n    <tr>\n      <th>60146</th>\n      <td>25vHoSeyJeroPYaTf72o97rCKmyEoGK7iNNHDAv6zYy6</td>\n      <td>2024-01-03 01:40:00</td>\n      <td>2.067719e-06</td>\n      <td>2.570105e-06</td>\n      <td>2.561828e-05</td>\n      <td>9.967795</td>\n    </tr>\n    <tr>\n      <th>51804</th>\n      <td>4QaUgfV66YZh2hwoFLaucFfxedYJognmmgdifjT84nY7</td>\n      <td>2024-01-01 21:40:00</td>\n      <td>5.880300e-08</td>\n      <td>5.880300e-08</td>\n      <td>5.327824e-07</td>\n      <td>9.060463</td>\n    </tr>\n    <tr>\n      <th>47920</th>\n      <td>BW6Xdf1C2Hj9zWCLdUQXitX5C6EmHjpCbWXRvKUmthQ6</td>\n      <td>2024-01-01 08:50:00</td>\n      <td>4.680668e-10</td>\n      <td>4.680668e-10</td>\n      <td>1.956133e-09</td>\n      <td>4.179175</td>\n    </tr>\n    <tr>\n      <th>38308</th>\n      <td>J34usKXUTz4aCanKftng4H3Szo2xg2hDbPFs5nsQ7adq</td>\n      <td>2023-12-30 19:00:00</td>\n      <td>3.203634e-07</td>\n      <td>3.245287e-07</td>\n      <td>1.912040e-06</td>\n      <td>5.891745</td>\n    </tr>\n    <tr>\n      <th>35494</th>\n      <td>A7Mu6u5MqGDTZGCnqysfhimTx1TcjRxTE7jrSPyTwqJ3</td>\n      <td>2023-12-30 09:50:00</td>\n      <td>1.873217e-06</td>\n      <td>1.873217e-06</td>\n      <td>3.830872e-05</td>\n      <td>20.450760</td>\n    </tr>\n    <tr>\n      <th>35477</th>\n      <td>5cQe5Fo5LnRM5wpaHV7rDyvBHg1cRSyCwDdLRnuQWniu</td>\n      <td>2023-12-30 09:50:00</td>\n      <td>1.148979e-07</td>\n      <td>1.148979e-07</td>\n      <td>4.649175e-07</td>\n      <td>4.046354</td>\n    </tr>\n    <tr>\n      <th>35058</th>\n      <td>8jPA4dUfhEcCPUd1cnXpTwsTZRCF2sxTfguQszJZjFWZ</td>\n      <td>2023-12-30 08:10:00</td>\n      <td>3.896971e-07</td>\n      <td>3.896971e-07</td>\n      <td>1.951283e-06</td>\n      <td>5.007179</td>\n    </tr>\n    <tr>\n      <th>33942</th>\n      <td>9mk9KHxvNp968URfYpX6XKixJXZC3nUY85hs6DCC7Yo8</td>\n      <td>2023-12-30 04:10:00</td>\n      <td>5.344003e-02</td>\n      <td>5.344003e-02</td>\n      <td>2.451143e-01</td>\n      <td>4.586717</td>\n    </tr>\n    <tr>\n      <th>33806</th>\n      <td>9mk9KHxvNp968URfYpX6XKixJXZC3nUY85hs6DCC7Yo8</td>\n      <td>2023-12-30 03:40:00</td>\n      <td>8.797744e-02</td>\n      <td>4.616627e-02</td>\n      <td>2.402345e-01</td>\n      <td>5.203679</td>\n    </tr>\n    <tr>\n      <th>33641</th>\n      <td>FW4krU6xrXRRZFtC9QvFjipJ4GZHtvtDc3xfFDtTGzWv</td>\n      <td>2023-12-30 03:00:00</td>\n      <td>1.987214e-07</td>\n      <td>7.454820e-08</td>\n      <td>4.036227e-07</td>\n      <td>5.414251</td>\n    </tr>\n    <tr>\n      <th>30610</th>\n      <td>FvVDc6gZmYho6DLLuJ3ptHS6rxb797Cxf1insiUnu2BL</td>\n      <td>2023-12-29 16:20:00</td>\n      <td>2.489064e-09</td>\n      <td>2.489064e-09</td>\n      <td>2.325568e-08</td>\n      <td>9.343142</td>\n    </tr>\n    <tr>\n      <th>18877</th>\n      <td>99fp2z9TANArLJR4hcwx8fJSzjz7GQwUn7huGf32nDdv</td>\n      <td>2023-12-27 21:30:00</td>\n      <td>1.312018e-05</td>\n      <td>1.312018e-05</td>\n      <td>5.725863e-05</td>\n      <td>4.364164</td>\n    </tr>\n    <tr>\n      <th>14098</th>\n      <td>7xKXtg2CW87d97TXJSDpbD5jBkheTqA83TZRuJosgAsU</td>\n      <td>2023-12-27 04:50:00</td>\n      <td>1.302276e-04</td>\n      <td>1.302276e-04</td>\n      <td>3.493056e-03</td>\n      <td>26.822710</td>\n    </tr>\n    <tr>\n      <th>12292</th>\n      <td>CUwif1FiX5b3bwwb2n5Bm35AixvnR8LJjGUVmEwNZNgR</td>\n      <td>2023-12-26 22:10:00</td>\n      <td>1.210432e-06</td>\n      <td>1.210432e-06</td>\n      <td>5.245362e-06</td>\n      <td>4.333463</td>\n    </tr>\n    <tr>\n      <th>8455</th>\n      <td>87QbDz6Ze5B8L3PoGvqLyJ3JAydi39jNtvzXDEz7zbcK</td>\n      <td>2023-12-26 08:10:00</td>\n      <td>1.911103e-09</td>\n      <td>1.147014e-08</td>\n      <td>5.707533e-08</td>\n      <td>4.975992</td>\n    </tr>\n    <tr>\n      <th>6296</th>\n      <td>59JqWigb2AUvqjzY1bPz4RgYosY5pC5VGPCjiKPjqssH</td>\n      <td>2023-12-26 00:30:00</td>\n      <td>1.231740e-08</td>\n      <td>3.646059e-08</td>\n      <td>1.680799e-07</td>\n      <td>4.609906</td>\n    </tr>\n  </tbody>\n</table>\n</div>"
     },
     "execution_count": 52,
     "metadata": {},
     "output_type": "execute_result"
    }
   ],
   "source": [
    "# what was guessed correctly\n",
    "guessed = results_df[(results_df['Actual']=='up') & (results_df['Predicted']=='up')].sort_values(by=['time_quant', 'mint'], ascending=False)\n",
    "guessed[['mint', 'time_quant', 'price', 'buy_price', 'sell_price', 'upside']]"
   ],
   "metadata": {
    "collapsed": false,
    "ExecuteTime": {
     "end_time": "2024-01-07T21:13:53.340873Z",
     "start_time": "2024-01-07T21:13:53.316358Z"
    }
   },
   "id": "610d77d03127299e"
  },
  {
   "cell_type": "code",
   "execution_count": 53,
   "outputs": [
    {
     "data": {
      "text/plain": "count                                               20\nunique                                              18\ntop       4M1cAJY21mzQSnoGu9gNW8dE7gf9ArJCi5VWoCLH1w1v\nfreq                                                 2\nName: mint, dtype: object"
     },
     "execution_count": 53,
     "metadata": {},
     "output_type": "execute_result"
    }
   ],
   "source": [
    "guessed.mint.describe()"
   ],
   "metadata": {
    "collapsed": false,
    "ExecuteTime": {
     "end_time": "2024-01-07T21:13:54.129055Z",
     "start_time": "2024-01-07T21:13:54.120185Z"
    }
   },
   "id": "eb5aa523d3a36f3b"
  },
  {
   "cell_type": "code",
   "execution_count": 54,
   "outputs": [],
   "source": [
    "purchased = results_df[results_df['Predicted']=='up'].sort_values(by=['time_quant', 'mint'], ascending=False)\n",
    "purchased = purchased[['mint', 'time_quant', 'price', 'buy_price', 'sell_price', 'upside']]"
   ],
   "metadata": {
    "collapsed": false,
    "ExecuteTime": {
     "end_time": "2024-01-07T21:13:55.758735Z",
     "start_time": "2024-01-07T21:13:55.742013Z"
    }
   },
   "id": "770de9eb31dcc677"
  },
  {
   "cell_type": "code",
   "execution_count": 55,
   "outputs": [
    {
     "data": {
      "text/plain": "count                                              320\nunique                                             144\ntop       87QbDz6Ze5B8L3PoGvqLyJ3JAydi39jNtvzXDEz7zbcK\nfreq                                                26\nName: mint, dtype: object"
     },
     "execution_count": 55,
     "metadata": {},
     "output_type": "execute_result"
    }
   ],
   "source": [
    "purchased.mint.describe()\n"
   ],
   "metadata": {
    "collapsed": false,
    "ExecuteTime": {
     "end_time": "2024-01-07T21:13:57.085950Z",
     "start_time": "2024-01-07T21:13:57.082958Z"
    }
   },
   "id": "8c7e3d155a4a0fba"
  },
  {
   "cell_type": "code",
   "execution_count": 56,
   "outputs": [
    {
     "data": {
      "text/plain": "                                             mint          time_quant  \\\n0    HbfjuTMUTg4t5EyDaiYfoc6rA9jpoGNoCaotCvbNPCRY 2024-01-06 17:30:00   \n1    3ZLC6dCEt1QkcjBLDh9GZzGuUStbstxhB5pDoeNkd1ZG 2024-01-06 12:10:00   \n2    FAx3C1DSNnhU8Prm5d5Bi7m3FrTFaeB8QtJPxbGxv5kj 2024-01-06 09:50:00   \n3    4M1cAJY21mzQSnoGu9gNW8dE7gf9ArJCi5VWoCLH1w1v 2024-01-06 02:10:00   \n4    97aJ6tfsFzPBywEgDChEvodh3x2yGZtgr5SwPRZiPgf8 2024-01-06 01:10:00   \n..                                            ...                 ...   \n139  3gkEAjuukyYNeoJENJ1qRRwahefY4dWqYpyU53R66g4F 2023-12-25 23:40:00   \n140   ShEEsukacNfbBpULD1xtCZKjeMMzvc78xufMDuE3jvB 2023-12-25 16:30:00   \n141  33ZSZu1PT6ERHxT2uBDSJCU9ByeLXa2qTJhpmtxCZzpG 2023-12-25 13:40:00   \n142  2EgRd5AdhxeBtQ8iAgYQoSBtrbsuLGmDq1wQrPZr7KLs 2023-12-25 13:20:00   \n143  HUdqc5MR5h3FssESabPnQ1GTgTcPvnNudAuLj5J6a9sU 2023-12-25 12:20:00   \n\n            price     buy_price    sell_price    upside  \n0    5.857618e-06  7.020162e-06  6.949196e-07  0.098989  \n1    5.437741e-07  5.437741e-07  1.447554e-06  2.662051  \n2    7.109725e-07  7.109725e-07  4.023756e-07  0.565951  \n3    9.044381e-06  7.486412e-06  4.787284e-05  6.394631  \n4    6.166565e-07  2.584608e-07  4.174898e-08  0.161529  \n..            ...           ...           ...       ...  \n139  2.128785e-06  2.233701e-06  4.716690e-06  2.111603  \n140  8.226298e-04  8.226298e-04  9.378462e-04  1.140059  \n141  3.202711e-10  3.119058e-10  6.943302e-10  2.226089  \n142  1.493242e-05  1.783999e-05  1.455549e-05  0.815891  \n143  2.299578e-07  2.299578e-07  8.926716e-07  3.881893  \n\n[144 rows x 6 columns]",
      "text/html": "<div>\n<style scoped>\n    .dataframe tbody tr th:only-of-type {\n        vertical-align: middle;\n    }\n\n    .dataframe tbody tr th {\n        vertical-align: top;\n    }\n\n    .dataframe thead th {\n        text-align: right;\n    }\n</style>\n<table border=\"1\" class=\"dataframe\">\n  <thead>\n    <tr style=\"text-align: right;\">\n      <th></th>\n      <th>mint</th>\n      <th>time_quant</th>\n      <th>price</th>\n      <th>buy_price</th>\n      <th>sell_price</th>\n      <th>upside</th>\n    </tr>\n  </thead>\n  <tbody>\n    <tr>\n      <th>0</th>\n      <td>HbfjuTMUTg4t5EyDaiYfoc6rA9jpoGNoCaotCvbNPCRY</td>\n      <td>2024-01-06 17:30:00</td>\n      <td>5.857618e-06</td>\n      <td>7.020162e-06</td>\n      <td>6.949196e-07</td>\n      <td>0.098989</td>\n    </tr>\n    <tr>\n      <th>1</th>\n      <td>3ZLC6dCEt1QkcjBLDh9GZzGuUStbstxhB5pDoeNkd1ZG</td>\n      <td>2024-01-06 12:10:00</td>\n      <td>5.437741e-07</td>\n      <td>5.437741e-07</td>\n      <td>1.447554e-06</td>\n      <td>2.662051</td>\n    </tr>\n    <tr>\n      <th>2</th>\n      <td>FAx3C1DSNnhU8Prm5d5Bi7m3FrTFaeB8QtJPxbGxv5kj</td>\n      <td>2024-01-06 09:50:00</td>\n      <td>7.109725e-07</td>\n      <td>7.109725e-07</td>\n      <td>4.023756e-07</td>\n      <td>0.565951</td>\n    </tr>\n    <tr>\n      <th>3</th>\n      <td>4M1cAJY21mzQSnoGu9gNW8dE7gf9ArJCi5VWoCLH1w1v</td>\n      <td>2024-01-06 02:10:00</td>\n      <td>9.044381e-06</td>\n      <td>7.486412e-06</td>\n      <td>4.787284e-05</td>\n      <td>6.394631</td>\n    </tr>\n    <tr>\n      <th>4</th>\n      <td>97aJ6tfsFzPBywEgDChEvodh3x2yGZtgr5SwPRZiPgf8</td>\n      <td>2024-01-06 01:10:00</td>\n      <td>6.166565e-07</td>\n      <td>2.584608e-07</td>\n      <td>4.174898e-08</td>\n      <td>0.161529</td>\n    </tr>\n    <tr>\n      <th>...</th>\n      <td>...</td>\n      <td>...</td>\n      <td>...</td>\n      <td>...</td>\n      <td>...</td>\n      <td>...</td>\n    </tr>\n    <tr>\n      <th>139</th>\n      <td>3gkEAjuukyYNeoJENJ1qRRwahefY4dWqYpyU53R66g4F</td>\n      <td>2023-12-25 23:40:00</td>\n      <td>2.128785e-06</td>\n      <td>2.233701e-06</td>\n      <td>4.716690e-06</td>\n      <td>2.111603</td>\n    </tr>\n    <tr>\n      <th>140</th>\n      <td>ShEEsukacNfbBpULD1xtCZKjeMMzvc78xufMDuE3jvB</td>\n      <td>2023-12-25 16:30:00</td>\n      <td>8.226298e-04</td>\n      <td>8.226298e-04</td>\n      <td>9.378462e-04</td>\n      <td>1.140059</td>\n    </tr>\n    <tr>\n      <th>141</th>\n      <td>33ZSZu1PT6ERHxT2uBDSJCU9ByeLXa2qTJhpmtxCZzpG</td>\n      <td>2023-12-25 13:40:00</td>\n      <td>3.202711e-10</td>\n      <td>3.119058e-10</td>\n      <td>6.943302e-10</td>\n      <td>2.226089</td>\n    </tr>\n    <tr>\n      <th>142</th>\n      <td>2EgRd5AdhxeBtQ8iAgYQoSBtrbsuLGmDq1wQrPZr7KLs</td>\n      <td>2023-12-25 13:20:00</td>\n      <td>1.493242e-05</td>\n      <td>1.783999e-05</td>\n      <td>1.455549e-05</td>\n      <td>0.815891</td>\n    </tr>\n    <tr>\n      <th>143</th>\n      <td>HUdqc5MR5h3FssESabPnQ1GTgTcPvnNudAuLj5J6a9sU</td>\n      <td>2023-12-25 12:20:00</td>\n      <td>2.299578e-07</td>\n      <td>2.299578e-07</td>\n      <td>8.926716e-07</td>\n      <td>3.881893</td>\n    </tr>\n  </tbody>\n</table>\n<p>144 rows × 6 columns</p>\n</div>"
     },
     "execution_count": 56,
     "metadata": {},
     "output_type": "execute_result"
    }
   ],
   "source": [
    "#min time_quant for every mint\n",
    "first_purchased_keys = purchased.groupby('mint')['time_quant'].min().reset_index()\n",
    "first_purchased = purchased.merge(first_purchased_keys, on=['mint', 'time_quant'])\n",
    "first_purchased"
   ],
   "metadata": {
    "collapsed": false,
    "ExecuteTime": {
     "end_time": "2024-01-07T21:13:59.714618Z",
     "start_time": "2024-01-07T21:13:59.699629Z"
    }
   },
   "id": "41fb5b062526a994"
  },
  {
   "cell_type": "code",
   "execution_count": 57,
   "outputs": [
    {
     "data": {
      "text/plain": "1.8446769100661942"
     },
     "execution_count": 57,
     "metadata": {},
     "output_type": "execute_result"
    }
   ],
   "source": [
    "# average of upside\n",
    "first_purchased['upside'].mean()"
   ],
   "metadata": {
    "collapsed": false,
    "ExecuteTime": {
     "end_time": "2024-01-07T21:14:00.607610Z",
     "start_time": "2024-01-07T21:14:00.588624Z"
    }
   },
   "id": "261db8473ea6d381"
  },
  {
   "cell_type": "code",
   "execution_count": 60,
   "outputs": [
    {
     "data": {
      "text/plain": "                                             mint          time_quant  \\\n0    HbfjuTMUTg4t5EyDaiYfoc6rA9jpoGNoCaotCvbNPCRY 2024-01-06 17:30:00   \n3    4M1cAJY21mzQSnoGu9gNW8dE7gf9ArJCi5VWoCLH1w1v 2024-01-06 02:10:00   \n4    97aJ6tfsFzPBywEgDChEvodh3x2yGZtgr5SwPRZiPgf8 2024-01-06 01:10:00   \n5    3tPnEUfJjDN78zFcurzEo1p54Qyn2wV89r7hPnU9Jq33 2024-01-05 23:00:00   \n8    F4TwqC6nbFTN59UakGwEV4shLSrTeyq4D2hmvpdzQnpt 2024-01-05 13:40:00   \n9    EkHr62PC6Y1axrLS7cR8YC4BZeW19mtHxQLCLMrf9vnq 2024-01-05 11:40:00   \n14   3FQqnC42Z8ykMxeRnYVj6sGoPmrhVURCG8ot7EPWLYjX 2024-01-05 07:10:00   \n16   HKEW2BNJDVT8HCyJQfMni7mjCtZyhgX9ZWe8SrjWQYWQ 2024-01-04 18:00:00   \n19   GEP33ZvdNjXL8hoyjuyq2MEtoPrvsz8XC121K3SjfuCN 2024-01-03 17:50:00   \n20   3H2BC4CiVgJE1h3GkYk876aKwMphhHLRgtXD3K3QKwZp 2024-01-03 09:30:00   \n21   25vHoSeyJeroPYaTf72o97rCKmyEoGK7iNNHDAv6zYy6 2024-01-03 01:40:00   \n22   7k6cZGzuBjstHqaY2RLZ2h33jWF5oKWR6zHbFpfkt3Re 2024-01-02 22:40:00   \n26   3FG9DAv3CDBEh1CQJhRM9BYe5thUMvP5GmW46524Qahv 2024-01-02 17:30:00   \n34   9kxuWkeU7zyX1C6e2kbs8wQtJZjTMrinXjWaCTdyiNrQ 2024-01-02 02:10:00   \n35   9YjGvYLyDw5mh29yawv2MLYYuXNtkMFgsfn6rGdsnEEa 2024-01-02 02:00:00   \n36   AVLhahDcDQ4m4vHM4ug63oh7xc8Jtk49Dm5hoe9Sazqr 2024-01-02 01:10:00   \n37   9HKpR3KPUdcBdJZz8kjDYRiS3Y9aTEEAbwyPypKnrcv6 2024-01-02 00:40:00   \n43   29eMVMfehUCd22AUMNw3KK44PXHeb5ydMpFHL5SF8CK5 2024-01-01 08:50:00   \n44   7gFeLbzkkgSm7t97Jm4cbnXnHNULNF3VEpehFc6jTPwL 2024-01-01 05:20:00   \n46   7AmejD1Jdox7YRLpeML7EdZ3JFGW78XBSM8xP6MEn6T2 2023-12-31 22:20:00   \n47   CYQqL1bdkL2zB1mJfi88jk2bsps2UbMC1iSLqJr8Gr16 2023-12-31 21:50:00   \n48   Edh673pugpsPwmaR3BtHhUkZBmsmaqMucbNtEWefALL1 2023-12-31 21:30:00   \n49   DaCGbATbnLWkLcMxyvgdVgzVYCBzwa9V57yBsrfaVtGv 2023-12-31 20:40:00   \n51   DezXAZ8z7PnrnRJjz3wXBoRgixCa6xjnB7YaB1pPB263 2023-12-31 18:40:00   \n54   AczG6LcNQH54NCBWjZMv6FNFyT1kuEEiay74okAhvMGs 2023-12-31 09:00:00   \n55   CuPcmbfVh82HQ1X4mwr8rJ2M97Y8uQ9Yx1WoAkdQFgSS 2023-12-30 23:20:00   \n58   8rgSvnQKQA9LrWBZhvUoSHUPxurf94bpyEgshaQHXRbL 2023-12-30 20:10:00   \n61   J34usKXUTz4aCanKftng4H3Szo2xg2hDbPFs5nsQ7adq 2023-12-30 19:00:00   \n62   2fEE4jwfvpyBaysHTEABFAbzSPzYui2cBCqdRDPFLMRW 2023-12-30 19:00:00   \n67   J3yPtBUTYS84x5uFvD7M4Bbv1j61i4h1cdXymJLLNQZX 2023-12-30 11:20:00   \n69   4qmnSzq5Xn5Wf1aC52Z5cGj7MJj9jvZsFgLcHG6NdHoq 2023-12-30 10:20:00   \n73   8jPA4dUfhEcCPUd1cnXpTwsTZRCF2sxTfguQszJZjFWZ 2023-12-30 07:30:00   \n77   9mk9KHxvNp968URfYpX6XKixJXZC3nUY85hs6DCC7Yo8 2023-12-30 03:30:00   \n78    KTMEEZDPyYiJmDeiy8ChLcWHP52jhzMG9g6FQrYDTf8 2023-12-30 03:10:00   \n79   FW4krU6xrXRRZFtC9QvFjipJ4GZHtvtDc3xfFDtTGzWv 2023-12-30 03:00:00   \n81   4MPD7cGs9746SkZnqhfRigNmpNq17EgTt76YHKC6GEbN 2023-12-29 21:10:00   \n92   7MAMEPQdexxy2z5sbohRqzcNAdRmrisnHnETq6yptjdo 2023-12-29 08:30:00   \n95   2XNuNgqFpNxEWq8wcqRpJFeWBVsLgxa56fMDQVfq7i7Y 2023-12-29 07:20:00   \n98   Fh6RLkMdHCNEJ2mAr8QygUbJ7S9vmqK7DhMquSQcAq46 2023-12-28 23:20:00   \n100  DVFNH56sS65UTa7U22sgNCHdXnHy4uagJybz2bGtxuQT 2023-12-28 22:30:00   \n101  4jZXkSNgTQKCDb36ECZ6a2aNzcUniGcDeXgTdtM2HxAX 2023-12-28 21:40:00   \n109  FjRUB1HafHsaGQxibEwKpQxXgVXbE4k3pw3XWqKLxAiX 2023-12-28 06:50:00   \n110  4GorS9FK3EC7FcYwPRiiCtqVpjHarpRpx3zDmeD4Zwao 2023-12-28 00:30:00   \n112  ApH5gqSK9GUxr7f4a26gTbzrzTDscsqUeuDRVUpwWaib 2023-12-27 23:00:00   \n113  DdtiWtSRcVktw5BBBvN6VSFbB5Cy94SboJzZjGHRPRpd 2023-12-27 22:40:00   \n118  ALmnt24ewAyfK7WKnmALY5GnzrdqdCSoPXkg7PEznJAQ 2023-12-27 19:40:00   \n119  DHcSJc2YxbrbphshHynRCBXWivhQvgNtDrhHHHJPe9Gg 2023-12-27 18:50:00   \n120  2R4yaPHUsjBQ4ECjS4gDGF6Gpvuc59MCqP8Z3xNNqSsU 2023-12-27 17:20:00   \n121  22RTbo37y3NrdcgRotRNSnqGa6wLPaDh99cPXuw7X6zF 2023-12-27 15:10:00   \n133  F8qtcT3qnwQ24CHksuRrSELtm5k9ob8j64xAzj3JjsMs 2023-12-26 20:10:00   \n134  9hdFtZ23Vd2W6naJGtUpBdrF1thKz6y3mnDw1nfiavkd 2023-12-26 18:50:00   \n136  AgnHzGspNu7F3nFM4izuPt5g7m1URjVaTaFNgvqSXcjC 2023-12-26 11:20:00   \n137  87QbDz6Ze5B8L3PoGvqLyJ3JAydi39jNtvzXDEz7zbcK 2023-12-26 08:10:00   \n138  59JqWigb2AUvqjzY1bPz4RgYosY5pC5VGPCjiKPjqssH 2023-12-26 00:30:00   \n139  3gkEAjuukyYNeoJENJ1qRRwahefY4dWqYpyU53R66g4F 2023-12-25 23:40:00   \n141  33ZSZu1PT6ERHxT2uBDSJCU9ByeLXa2qTJhpmtxCZzpG 2023-12-25 13:40:00   \n142  2EgRd5AdhxeBtQ8iAgYQoSBtrbsuLGmDq1wQrPZr7KLs 2023-12-25 13:20:00   \n\n            price     buy_price    sell_price    upside  \n0    5.857618e-06  7.020162e-06  6.949196e-07  0.098989  \n3    9.044381e-06  7.486412e-06  4.787284e-05  6.394631  \n4    6.166565e-07  2.584608e-07  4.174898e-08  0.161529  \n5    1.759281e-08  9.623141e-09  1.679156e-08  1.744915  \n8    1.373779e-06  1.924363e-06  4.945208e-07  0.256979  \n9    9.278919e-07  9.802855e-07  1.264992e-06  1.290432  \n14   1.119796e-06  1.086230e-06  4.350024e-07  0.400470  \n16   9.399682e-09  7.813217e-10  7.813217e-10  1.000000  \n19   1.126429e-06  7.589039e-07  1.133065e-07  0.149303  \n20   7.920077e-06  9.243646e-06  5.354492e-06  0.579262  \n21   2.067719e-06  2.570105e-06  2.561828e-05  9.967795  \n22   1.893832e-05  2.663367e-05  3.801715e-05  1.427409  \n26   6.479114e-05  6.593937e-05  1.196095e-04  1.813931  \n34   3.184278e-08  2.790072e-08  2.204744e-08  0.790210  \n35   2.736526e-10  5.508896e-10  2.994035e-10  0.543491  \n36   4.436997e-07  3.757675e-07  5.850111e-07  1.556843  \n37   2.926278e-06  3.671303e-06  1.194125e-06  0.325259  \n43   9.127492e-07  7.563909e-07  3.146619e-07  0.416004  \n44   1.767973e-07  4.891169e-07  1.856892e-07  0.379642  \n46   5.161878e-04  6.813534e-04  6.371033e-04  0.935056  \n47   6.655853e-07  6.928268e-07  6.829009e-07  0.985673  \n48   1.565141e-04  1.972343e-04  2.612915e-05  0.132478  \n49   1.372126e-03  1.004291e-03  4.621208e-04  0.460146  \n51   2.522069e-04  1.368443e-07  1.292789e-07  0.944715  \n54   5.537406e-07  1.006989e-06  5.496325e-07  0.545818  \n55   3.528203e-07  6.444677e-07  4.408327e-07  0.684026  \n58   3.736450e-07  7.066173e-07  1.018837e-06  1.441851  \n61   3.203634e-07  3.245287e-07  1.912040e-06  5.891745  \n62   1.483527e-05  2.047257e-05  2.655365e-05  1.297036  \n67   5.213136e-07  7.154020e-07  1.300309e-07  0.181759  \n69   4.378674e-07  3.559267e-07  1.952433e-07  0.548549  \n73   6.596214e-07  5.047264e-07  1.915470e-06  3.795065  \n77   2.739154e-02  8.797744e-02  2.392855e-01  2.719851  \n78   1.965475e-10  2.530782e-10  3.157486e-10  1.247633  \n79   1.987214e-07  7.454820e-08  4.036227e-07  5.414251  \n81   1.075099e-05  8.671353e-06  1.837243e-05  2.118750  \n92   6.680904e-09  1.057787e-08  1.041032e-09  0.098416  \n95   1.576080e-04  2.192451e-04  2.914482e-04  1.329326  \n98   1.668092e-07  1.865731e-07  2.021034e-07  1.083240  \n100  1.388321e-04  1.640787e-04  2.921919e-05  0.178080  \n101  2.876969e-07  7.661682e-07  2.546240e-06  3.323344  \n109  2.831815e-06  4.022975e-06  1.404692e-06  0.349167  \n110  1.528491e-06  1.282748e-06  1.438024e-06  1.121050  \n112  1.591304e-08  1.326511e-08  2.254483e-09  0.169956  \n113  2.173495e-04  2.056630e-04  5.031182e-05  0.244632  \n118  1.076097e-06  9.389724e-07  1.644397e-06  1.751273  \n119  1.509835e-07  1.970250e-07  5.039753e-08  0.255793  \n120  1.292841e-05  1.086500e-05  4.629830e-07  0.042612  \n121  4.020482e-09  3.541428e-09  2.571273e-09  0.726055  \n133  9.459945e-11  7.910573e-11  1.244927e-10  1.573751  \n134  2.255208e-11  4.427327e-11  3.222202e-11  0.727798  \n136  9.444156e-03  1.106686e-02  7.301520e-03  0.659764  \n137  1.911103e-09  1.147014e-08  5.707533e-08  4.975992  \n138  1.231740e-08  3.646059e-08  1.680799e-07  4.609906  \n139  2.128785e-06  2.233701e-06  4.716690e-06  2.111603  \n141  3.202711e-10  3.119058e-10  6.943302e-10  2.226089  \n142  1.493242e-05  1.783999e-05  1.455549e-05  0.815891  ",
      "text/html": "<div>\n<style scoped>\n    .dataframe tbody tr th:only-of-type {\n        vertical-align: middle;\n    }\n\n    .dataframe tbody tr th {\n        vertical-align: top;\n    }\n\n    .dataframe thead th {\n        text-align: right;\n    }\n</style>\n<table border=\"1\" class=\"dataframe\">\n  <thead>\n    <tr style=\"text-align: right;\">\n      <th></th>\n      <th>mint</th>\n      <th>time_quant</th>\n      <th>price</th>\n      <th>buy_price</th>\n      <th>sell_price</th>\n      <th>upside</th>\n    </tr>\n  </thead>\n  <tbody>\n    <tr>\n      <th>0</th>\n      <td>HbfjuTMUTg4t5EyDaiYfoc6rA9jpoGNoCaotCvbNPCRY</td>\n      <td>2024-01-06 17:30:00</td>\n      <td>5.857618e-06</td>\n      <td>7.020162e-06</td>\n      <td>6.949196e-07</td>\n      <td>0.098989</td>\n    </tr>\n    <tr>\n      <th>3</th>\n      <td>4M1cAJY21mzQSnoGu9gNW8dE7gf9ArJCi5VWoCLH1w1v</td>\n      <td>2024-01-06 02:10:00</td>\n      <td>9.044381e-06</td>\n      <td>7.486412e-06</td>\n      <td>4.787284e-05</td>\n      <td>6.394631</td>\n    </tr>\n    <tr>\n      <th>4</th>\n      <td>97aJ6tfsFzPBywEgDChEvodh3x2yGZtgr5SwPRZiPgf8</td>\n      <td>2024-01-06 01:10:00</td>\n      <td>6.166565e-07</td>\n      <td>2.584608e-07</td>\n      <td>4.174898e-08</td>\n      <td>0.161529</td>\n    </tr>\n    <tr>\n      <th>5</th>\n      <td>3tPnEUfJjDN78zFcurzEo1p54Qyn2wV89r7hPnU9Jq33</td>\n      <td>2024-01-05 23:00:00</td>\n      <td>1.759281e-08</td>\n      <td>9.623141e-09</td>\n      <td>1.679156e-08</td>\n      <td>1.744915</td>\n    </tr>\n    <tr>\n      <th>8</th>\n      <td>F4TwqC6nbFTN59UakGwEV4shLSrTeyq4D2hmvpdzQnpt</td>\n      <td>2024-01-05 13:40:00</td>\n      <td>1.373779e-06</td>\n      <td>1.924363e-06</td>\n      <td>4.945208e-07</td>\n      <td>0.256979</td>\n    </tr>\n    <tr>\n      <th>9</th>\n      <td>EkHr62PC6Y1axrLS7cR8YC4BZeW19mtHxQLCLMrf9vnq</td>\n      <td>2024-01-05 11:40:00</td>\n      <td>9.278919e-07</td>\n      <td>9.802855e-07</td>\n      <td>1.264992e-06</td>\n      <td>1.290432</td>\n    </tr>\n    <tr>\n      <th>14</th>\n      <td>3FQqnC42Z8ykMxeRnYVj6sGoPmrhVURCG8ot7EPWLYjX</td>\n      <td>2024-01-05 07:10:00</td>\n      <td>1.119796e-06</td>\n      <td>1.086230e-06</td>\n      <td>4.350024e-07</td>\n      <td>0.400470</td>\n    </tr>\n    <tr>\n      <th>16</th>\n      <td>HKEW2BNJDVT8HCyJQfMni7mjCtZyhgX9ZWe8SrjWQYWQ</td>\n      <td>2024-01-04 18:00:00</td>\n      <td>9.399682e-09</td>\n      <td>7.813217e-10</td>\n      <td>7.813217e-10</td>\n      <td>1.000000</td>\n    </tr>\n    <tr>\n      <th>19</th>\n      <td>GEP33ZvdNjXL8hoyjuyq2MEtoPrvsz8XC121K3SjfuCN</td>\n      <td>2024-01-03 17:50:00</td>\n      <td>1.126429e-06</td>\n      <td>7.589039e-07</td>\n      <td>1.133065e-07</td>\n      <td>0.149303</td>\n    </tr>\n    <tr>\n      <th>20</th>\n      <td>3H2BC4CiVgJE1h3GkYk876aKwMphhHLRgtXD3K3QKwZp</td>\n      <td>2024-01-03 09:30:00</td>\n      <td>7.920077e-06</td>\n      <td>9.243646e-06</td>\n      <td>5.354492e-06</td>\n      <td>0.579262</td>\n    </tr>\n    <tr>\n      <th>21</th>\n      <td>25vHoSeyJeroPYaTf72o97rCKmyEoGK7iNNHDAv6zYy6</td>\n      <td>2024-01-03 01:40:00</td>\n      <td>2.067719e-06</td>\n      <td>2.570105e-06</td>\n      <td>2.561828e-05</td>\n      <td>9.967795</td>\n    </tr>\n    <tr>\n      <th>22</th>\n      <td>7k6cZGzuBjstHqaY2RLZ2h33jWF5oKWR6zHbFpfkt3Re</td>\n      <td>2024-01-02 22:40:00</td>\n      <td>1.893832e-05</td>\n      <td>2.663367e-05</td>\n      <td>3.801715e-05</td>\n      <td>1.427409</td>\n    </tr>\n    <tr>\n      <th>26</th>\n      <td>3FG9DAv3CDBEh1CQJhRM9BYe5thUMvP5GmW46524Qahv</td>\n      <td>2024-01-02 17:30:00</td>\n      <td>6.479114e-05</td>\n      <td>6.593937e-05</td>\n      <td>1.196095e-04</td>\n      <td>1.813931</td>\n    </tr>\n    <tr>\n      <th>34</th>\n      <td>9kxuWkeU7zyX1C6e2kbs8wQtJZjTMrinXjWaCTdyiNrQ</td>\n      <td>2024-01-02 02:10:00</td>\n      <td>3.184278e-08</td>\n      <td>2.790072e-08</td>\n      <td>2.204744e-08</td>\n      <td>0.790210</td>\n    </tr>\n    <tr>\n      <th>35</th>\n      <td>9YjGvYLyDw5mh29yawv2MLYYuXNtkMFgsfn6rGdsnEEa</td>\n      <td>2024-01-02 02:00:00</td>\n      <td>2.736526e-10</td>\n      <td>5.508896e-10</td>\n      <td>2.994035e-10</td>\n      <td>0.543491</td>\n    </tr>\n    <tr>\n      <th>36</th>\n      <td>AVLhahDcDQ4m4vHM4ug63oh7xc8Jtk49Dm5hoe9Sazqr</td>\n      <td>2024-01-02 01:10:00</td>\n      <td>4.436997e-07</td>\n      <td>3.757675e-07</td>\n      <td>5.850111e-07</td>\n      <td>1.556843</td>\n    </tr>\n    <tr>\n      <th>37</th>\n      <td>9HKpR3KPUdcBdJZz8kjDYRiS3Y9aTEEAbwyPypKnrcv6</td>\n      <td>2024-01-02 00:40:00</td>\n      <td>2.926278e-06</td>\n      <td>3.671303e-06</td>\n      <td>1.194125e-06</td>\n      <td>0.325259</td>\n    </tr>\n    <tr>\n      <th>43</th>\n      <td>29eMVMfehUCd22AUMNw3KK44PXHeb5ydMpFHL5SF8CK5</td>\n      <td>2024-01-01 08:50:00</td>\n      <td>9.127492e-07</td>\n      <td>7.563909e-07</td>\n      <td>3.146619e-07</td>\n      <td>0.416004</td>\n    </tr>\n    <tr>\n      <th>44</th>\n      <td>7gFeLbzkkgSm7t97Jm4cbnXnHNULNF3VEpehFc6jTPwL</td>\n      <td>2024-01-01 05:20:00</td>\n      <td>1.767973e-07</td>\n      <td>4.891169e-07</td>\n      <td>1.856892e-07</td>\n      <td>0.379642</td>\n    </tr>\n    <tr>\n      <th>46</th>\n      <td>7AmejD1Jdox7YRLpeML7EdZ3JFGW78XBSM8xP6MEn6T2</td>\n      <td>2023-12-31 22:20:00</td>\n      <td>5.161878e-04</td>\n      <td>6.813534e-04</td>\n      <td>6.371033e-04</td>\n      <td>0.935056</td>\n    </tr>\n    <tr>\n      <th>47</th>\n      <td>CYQqL1bdkL2zB1mJfi88jk2bsps2UbMC1iSLqJr8Gr16</td>\n      <td>2023-12-31 21:50:00</td>\n      <td>6.655853e-07</td>\n      <td>6.928268e-07</td>\n      <td>6.829009e-07</td>\n      <td>0.985673</td>\n    </tr>\n    <tr>\n      <th>48</th>\n      <td>Edh673pugpsPwmaR3BtHhUkZBmsmaqMucbNtEWefALL1</td>\n      <td>2023-12-31 21:30:00</td>\n      <td>1.565141e-04</td>\n      <td>1.972343e-04</td>\n      <td>2.612915e-05</td>\n      <td>0.132478</td>\n    </tr>\n    <tr>\n      <th>49</th>\n      <td>DaCGbATbnLWkLcMxyvgdVgzVYCBzwa9V57yBsrfaVtGv</td>\n      <td>2023-12-31 20:40:00</td>\n      <td>1.372126e-03</td>\n      <td>1.004291e-03</td>\n      <td>4.621208e-04</td>\n      <td>0.460146</td>\n    </tr>\n    <tr>\n      <th>51</th>\n      <td>DezXAZ8z7PnrnRJjz3wXBoRgixCa6xjnB7YaB1pPB263</td>\n      <td>2023-12-31 18:40:00</td>\n      <td>2.522069e-04</td>\n      <td>1.368443e-07</td>\n      <td>1.292789e-07</td>\n      <td>0.944715</td>\n    </tr>\n    <tr>\n      <th>54</th>\n      <td>AczG6LcNQH54NCBWjZMv6FNFyT1kuEEiay74okAhvMGs</td>\n      <td>2023-12-31 09:00:00</td>\n      <td>5.537406e-07</td>\n      <td>1.006989e-06</td>\n      <td>5.496325e-07</td>\n      <td>0.545818</td>\n    </tr>\n    <tr>\n      <th>55</th>\n      <td>CuPcmbfVh82HQ1X4mwr8rJ2M97Y8uQ9Yx1WoAkdQFgSS</td>\n      <td>2023-12-30 23:20:00</td>\n      <td>3.528203e-07</td>\n      <td>6.444677e-07</td>\n      <td>4.408327e-07</td>\n      <td>0.684026</td>\n    </tr>\n    <tr>\n      <th>58</th>\n      <td>8rgSvnQKQA9LrWBZhvUoSHUPxurf94bpyEgshaQHXRbL</td>\n      <td>2023-12-30 20:10:00</td>\n      <td>3.736450e-07</td>\n      <td>7.066173e-07</td>\n      <td>1.018837e-06</td>\n      <td>1.441851</td>\n    </tr>\n    <tr>\n      <th>61</th>\n      <td>J34usKXUTz4aCanKftng4H3Szo2xg2hDbPFs5nsQ7adq</td>\n      <td>2023-12-30 19:00:00</td>\n      <td>3.203634e-07</td>\n      <td>3.245287e-07</td>\n      <td>1.912040e-06</td>\n      <td>5.891745</td>\n    </tr>\n    <tr>\n      <th>62</th>\n      <td>2fEE4jwfvpyBaysHTEABFAbzSPzYui2cBCqdRDPFLMRW</td>\n      <td>2023-12-30 19:00:00</td>\n      <td>1.483527e-05</td>\n      <td>2.047257e-05</td>\n      <td>2.655365e-05</td>\n      <td>1.297036</td>\n    </tr>\n    <tr>\n      <th>67</th>\n      <td>J3yPtBUTYS84x5uFvD7M4Bbv1j61i4h1cdXymJLLNQZX</td>\n      <td>2023-12-30 11:20:00</td>\n      <td>5.213136e-07</td>\n      <td>7.154020e-07</td>\n      <td>1.300309e-07</td>\n      <td>0.181759</td>\n    </tr>\n    <tr>\n      <th>69</th>\n      <td>4qmnSzq5Xn5Wf1aC52Z5cGj7MJj9jvZsFgLcHG6NdHoq</td>\n      <td>2023-12-30 10:20:00</td>\n      <td>4.378674e-07</td>\n      <td>3.559267e-07</td>\n      <td>1.952433e-07</td>\n      <td>0.548549</td>\n    </tr>\n    <tr>\n      <th>73</th>\n      <td>8jPA4dUfhEcCPUd1cnXpTwsTZRCF2sxTfguQszJZjFWZ</td>\n      <td>2023-12-30 07:30:00</td>\n      <td>6.596214e-07</td>\n      <td>5.047264e-07</td>\n      <td>1.915470e-06</td>\n      <td>3.795065</td>\n    </tr>\n    <tr>\n      <th>77</th>\n      <td>9mk9KHxvNp968URfYpX6XKixJXZC3nUY85hs6DCC7Yo8</td>\n      <td>2023-12-30 03:30:00</td>\n      <td>2.739154e-02</td>\n      <td>8.797744e-02</td>\n      <td>2.392855e-01</td>\n      <td>2.719851</td>\n    </tr>\n    <tr>\n      <th>78</th>\n      <td>KTMEEZDPyYiJmDeiy8ChLcWHP52jhzMG9g6FQrYDTf8</td>\n      <td>2023-12-30 03:10:00</td>\n      <td>1.965475e-10</td>\n      <td>2.530782e-10</td>\n      <td>3.157486e-10</td>\n      <td>1.247633</td>\n    </tr>\n    <tr>\n      <th>79</th>\n      <td>FW4krU6xrXRRZFtC9QvFjipJ4GZHtvtDc3xfFDtTGzWv</td>\n      <td>2023-12-30 03:00:00</td>\n      <td>1.987214e-07</td>\n      <td>7.454820e-08</td>\n      <td>4.036227e-07</td>\n      <td>5.414251</td>\n    </tr>\n    <tr>\n      <th>81</th>\n      <td>4MPD7cGs9746SkZnqhfRigNmpNq17EgTt76YHKC6GEbN</td>\n      <td>2023-12-29 21:10:00</td>\n      <td>1.075099e-05</td>\n      <td>8.671353e-06</td>\n      <td>1.837243e-05</td>\n      <td>2.118750</td>\n    </tr>\n    <tr>\n      <th>92</th>\n      <td>7MAMEPQdexxy2z5sbohRqzcNAdRmrisnHnETq6yptjdo</td>\n      <td>2023-12-29 08:30:00</td>\n      <td>6.680904e-09</td>\n      <td>1.057787e-08</td>\n      <td>1.041032e-09</td>\n      <td>0.098416</td>\n    </tr>\n    <tr>\n      <th>95</th>\n      <td>2XNuNgqFpNxEWq8wcqRpJFeWBVsLgxa56fMDQVfq7i7Y</td>\n      <td>2023-12-29 07:20:00</td>\n      <td>1.576080e-04</td>\n      <td>2.192451e-04</td>\n      <td>2.914482e-04</td>\n      <td>1.329326</td>\n    </tr>\n    <tr>\n      <th>98</th>\n      <td>Fh6RLkMdHCNEJ2mAr8QygUbJ7S9vmqK7DhMquSQcAq46</td>\n      <td>2023-12-28 23:20:00</td>\n      <td>1.668092e-07</td>\n      <td>1.865731e-07</td>\n      <td>2.021034e-07</td>\n      <td>1.083240</td>\n    </tr>\n    <tr>\n      <th>100</th>\n      <td>DVFNH56sS65UTa7U22sgNCHdXnHy4uagJybz2bGtxuQT</td>\n      <td>2023-12-28 22:30:00</td>\n      <td>1.388321e-04</td>\n      <td>1.640787e-04</td>\n      <td>2.921919e-05</td>\n      <td>0.178080</td>\n    </tr>\n    <tr>\n      <th>101</th>\n      <td>4jZXkSNgTQKCDb36ECZ6a2aNzcUniGcDeXgTdtM2HxAX</td>\n      <td>2023-12-28 21:40:00</td>\n      <td>2.876969e-07</td>\n      <td>7.661682e-07</td>\n      <td>2.546240e-06</td>\n      <td>3.323344</td>\n    </tr>\n    <tr>\n      <th>109</th>\n      <td>FjRUB1HafHsaGQxibEwKpQxXgVXbE4k3pw3XWqKLxAiX</td>\n      <td>2023-12-28 06:50:00</td>\n      <td>2.831815e-06</td>\n      <td>4.022975e-06</td>\n      <td>1.404692e-06</td>\n      <td>0.349167</td>\n    </tr>\n    <tr>\n      <th>110</th>\n      <td>4GorS9FK3EC7FcYwPRiiCtqVpjHarpRpx3zDmeD4Zwao</td>\n      <td>2023-12-28 00:30:00</td>\n      <td>1.528491e-06</td>\n      <td>1.282748e-06</td>\n      <td>1.438024e-06</td>\n      <td>1.121050</td>\n    </tr>\n    <tr>\n      <th>112</th>\n      <td>ApH5gqSK9GUxr7f4a26gTbzrzTDscsqUeuDRVUpwWaib</td>\n      <td>2023-12-27 23:00:00</td>\n      <td>1.591304e-08</td>\n      <td>1.326511e-08</td>\n      <td>2.254483e-09</td>\n      <td>0.169956</td>\n    </tr>\n    <tr>\n      <th>113</th>\n      <td>DdtiWtSRcVktw5BBBvN6VSFbB5Cy94SboJzZjGHRPRpd</td>\n      <td>2023-12-27 22:40:00</td>\n      <td>2.173495e-04</td>\n      <td>2.056630e-04</td>\n      <td>5.031182e-05</td>\n      <td>0.244632</td>\n    </tr>\n    <tr>\n      <th>118</th>\n      <td>ALmnt24ewAyfK7WKnmALY5GnzrdqdCSoPXkg7PEznJAQ</td>\n      <td>2023-12-27 19:40:00</td>\n      <td>1.076097e-06</td>\n      <td>9.389724e-07</td>\n      <td>1.644397e-06</td>\n      <td>1.751273</td>\n    </tr>\n    <tr>\n      <th>119</th>\n      <td>DHcSJc2YxbrbphshHynRCBXWivhQvgNtDrhHHHJPe9Gg</td>\n      <td>2023-12-27 18:50:00</td>\n      <td>1.509835e-07</td>\n      <td>1.970250e-07</td>\n      <td>5.039753e-08</td>\n      <td>0.255793</td>\n    </tr>\n    <tr>\n      <th>120</th>\n      <td>2R4yaPHUsjBQ4ECjS4gDGF6Gpvuc59MCqP8Z3xNNqSsU</td>\n      <td>2023-12-27 17:20:00</td>\n      <td>1.292841e-05</td>\n      <td>1.086500e-05</td>\n      <td>4.629830e-07</td>\n      <td>0.042612</td>\n    </tr>\n    <tr>\n      <th>121</th>\n      <td>22RTbo37y3NrdcgRotRNSnqGa6wLPaDh99cPXuw7X6zF</td>\n      <td>2023-12-27 15:10:00</td>\n      <td>4.020482e-09</td>\n      <td>3.541428e-09</td>\n      <td>2.571273e-09</td>\n      <td>0.726055</td>\n    </tr>\n    <tr>\n      <th>133</th>\n      <td>F8qtcT3qnwQ24CHksuRrSELtm5k9ob8j64xAzj3JjsMs</td>\n      <td>2023-12-26 20:10:00</td>\n      <td>9.459945e-11</td>\n      <td>7.910573e-11</td>\n      <td>1.244927e-10</td>\n      <td>1.573751</td>\n    </tr>\n    <tr>\n      <th>134</th>\n      <td>9hdFtZ23Vd2W6naJGtUpBdrF1thKz6y3mnDw1nfiavkd</td>\n      <td>2023-12-26 18:50:00</td>\n      <td>2.255208e-11</td>\n      <td>4.427327e-11</td>\n      <td>3.222202e-11</td>\n      <td>0.727798</td>\n    </tr>\n    <tr>\n      <th>136</th>\n      <td>AgnHzGspNu7F3nFM4izuPt5g7m1URjVaTaFNgvqSXcjC</td>\n      <td>2023-12-26 11:20:00</td>\n      <td>9.444156e-03</td>\n      <td>1.106686e-02</td>\n      <td>7.301520e-03</td>\n      <td>0.659764</td>\n    </tr>\n    <tr>\n      <th>137</th>\n      <td>87QbDz6Ze5B8L3PoGvqLyJ3JAydi39jNtvzXDEz7zbcK</td>\n      <td>2023-12-26 08:10:00</td>\n      <td>1.911103e-09</td>\n      <td>1.147014e-08</td>\n      <td>5.707533e-08</td>\n      <td>4.975992</td>\n    </tr>\n    <tr>\n      <th>138</th>\n      <td>59JqWigb2AUvqjzY1bPz4RgYosY5pC5VGPCjiKPjqssH</td>\n      <td>2023-12-26 00:30:00</td>\n      <td>1.231740e-08</td>\n      <td>3.646059e-08</td>\n      <td>1.680799e-07</td>\n      <td>4.609906</td>\n    </tr>\n    <tr>\n      <th>139</th>\n      <td>3gkEAjuukyYNeoJENJ1qRRwahefY4dWqYpyU53R66g4F</td>\n      <td>2023-12-25 23:40:00</td>\n      <td>2.128785e-06</td>\n      <td>2.233701e-06</td>\n      <td>4.716690e-06</td>\n      <td>2.111603</td>\n    </tr>\n    <tr>\n      <th>141</th>\n      <td>33ZSZu1PT6ERHxT2uBDSJCU9ByeLXa2qTJhpmtxCZzpG</td>\n      <td>2023-12-25 13:40:00</td>\n      <td>3.202711e-10</td>\n      <td>3.119058e-10</td>\n      <td>6.943302e-10</td>\n      <td>2.226089</td>\n    </tr>\n    <tr>\n      <th>142</th>\n      <td>2EgRd5AdhxeBtQ8iAgYQoSBtrbsuLGmDq1wQrPZr7KLs</td>\n      <td>2023-12-25 13:20:00</td>\n      <td>1.493242e-05</td>\n      <td>1.783999e-05</td>\n      <td>1.455549e-05</td>\n      <td>0.815891</td>\n    </tr>\n  </tbody>\n</table>\n</div>"
     },
     "execution_count": 60,
     "metadata": {},
     "output_type": "execute_result"
    }
   ],
   "source": [
    "first_purchased_changed_price = first_purchased[first_purchased['price'] != first_purchased['buy_price']]\n",
    "first_purchased_changed_price"
   ],
   "metadata": {
    "collapsed": false,
    "ExecuteTime": {
     "end_time": "2024-01-07T21:17:19.921099Z",
     "start_time": "2024-01-07T21:17:19.910201Z"
    }
   },
   "id": "2d289d942a5b6e5b"
  },
  {
   "cell_type": "code",
   "execution_count": 61,
   "outputs": [
    {
     "data": {
      "text/plain": "1.5265831167441624"
     },
     "execution_count": 61,
     "metadata": {},
     "output_type": "execute_result"
    }
   ],
   "source": [
    "first_purchased_changed_price['upside'].mean()"
   ],
   "metadata": {
    "collapsed": false,
    "ExecuteTime": {
     "end_time": "2024-01-07T21:17:31.435556Z",
     "start_time": "2024-01-07T21:17:31.432326Z"
    }
   },
   "id": "e33dcecf50d6ee4c"
  },
  {
   "cell_type": "code",
   "execution_count": 154,
   "outputs": [
    {
     "data": {
      "text/plain": "count    7.000000\nmean     0.875333\nstd      0.923304\nmin      0.015222\n25%      0.070902\n50%      0.619517\n75%      1.590961\nmax      2.168864\nName: sma_vol_sum_1d, dtype: float64"
     },
     "execution_count": 154,
     "metadata": {},
     "output_type": "execute_result"
    }
   ],
   "source": [
    "results_df[results_df['Predicted']=='up'].sma_vol_sum_1d.describe()\n",
    "# fix negative volume\n"
   ],
   "metadata": {
    "collapsed": false,
    "ExecuteTime": {
     "end_time": "2024-01-04T13:18:14.158307Z",
     "start_time": "2024-01-04T13:18:14.150524Z"
    }
   },
   "id": "f29d45cc497bb320"
  },
  {
   "cell_type": "code",
   "execution_count": 155,
   "outputs": [
    {
     "data": {
      "text/plain": "Predicted\nflat    12864\ndown      441\nup          7\nName: count, dtype: int64"
     },
     "execution_count": 155,
     "metadata": {},
     "output_type": "execute_result"
    }
   ],
   "source": [
    "results_df['Predicted'].value_counts()"
   ],
   "metadata": {
    "collapsed": false,
    "ExecuteTime": {
     "end_time": "2024-01-04T13:18:15.135829Z",
     "start_time": "2024-01-04T13:18:15.113352Z"
    }
   },
   "id": "13102803fac1ca11"
  },
  {
   "cell_type": "code",
   "execution_count": 156,
   "outputs": [
    {
     "data": {
      "text/plain": "mint\nEPjFWdd5AufqSSqeM2qN1xzybapC8G4wEGGkZwyTDt1v    300\nEs9vMFrzaCERmJfrF4H2FYD4KCoNkY11McCe8BenwNYB    297\nDezXAZ8z7PnrnRJjz3wXBoRgixCa6xjnB7YaB1pPB263    280\n9gwTegFJJErDpWJKjPfLr2g2zrE3nL1v5zpwbtsk3c6P    273\nLFG1ezantSY2LPX8jRz2qa31pPEhpwN9msFDzZw4T9Q     271\n                                               ... \n5Gd5vzFS31oSb52Jegvncrhr5Bt4MGRHqz2NepyJZcHh      1\nF2mGAvcNr47h4Qx1W8TcvTWhGhA58b2hsHH4uYSZrGYL      1\nFjRUB1HafHsaGQxibEwKpQxXgVXbE4k3pw3XWqKLxAiX      1\nHCKZPSGLvUyWTWwPtmcL41fdR8dNgDmzgx11mgCihVkG      1\n7MAMEPQdexxy2z5sbohRqzcNAdRmrisnHnETq6yptjdo      1\nName: count, Length: 236, dtype: int64"
     },
     "execution_count": 156,
     "metadata": {},
     "output_type": "execute_result"
    }
   ],
   "source": [
    "results_df['mint'].value_counts()"
   ],
   "metadata": {
    "collapsed": false,
    "ExecuteTime": {
     "end_time": "2024-01-04T13:18:17.674586Z",
     "start_time": "2024-01-04T13:18:17.650010Z"
    }
   },
   "id": "498de5f3068d5ac4"
  },
  {
   "cell_type": "code",
   "execution_count": 116,
   "outputs": [
    {
     "data": {
      "text/plain": "      Actual Predicted          time_quant  \\\n165     flat      flat 2023-12-30 09:10:00   \n445     flat      flat 2023-12-30 10:30:00   \n598     flat      flat 2023-12-30 11:10:00   \n1098    flat      flat 2023-12-30 13:20:00   \n1358    flat      flat 2023-12-30 14:30:00   \n...      ...       ...                 ...   \n26648   flat      flat 2024-01-03 21:00:00   \n26804   flat      flat 2024-01-03 21:30:00   \n26914   flat      flat 2024-01-03 21:50:00   \n26976   flat      flat 2024-01-03 22:00:00   \n27510   flat      flat 2024-01-03 23:40:00   \n\n                                               mint     price  future_price  \\\n165    99fp2z9TANArLJR4hcwx8fJSzjz7GQwUn7huGf32nDdv  0.000095      0.000104   \n445    99fp2z9TANArLJR4hcwx8fJSzjz7GQwUn7huGf32nDdv  0.000098      0.000132   \n598    99fp2z9TANArLJR4hcwx8fJSzjz7GQwUn7huGf32nDdv  0.000120      0.000133   \n1098   99fp2z9TANArLJR4hcwx8fJSzjz7GQwUn7huGf32nDdv  0.000125      0.000125   \n1358   99fp2z9TANArLJR4hcwx8fJSzjz7GQwUn7huGf32nDdv  0.000097      0.000141   \n...                                             ...       ...           ...   \n26648  99fp2z9TANArLJR4hcwx8fJSzjz7GQwUn7huGf32nDdv  0.000043      0.000042   \n26804  99fp2z9TANArLJR4hcwx8fJSzjz7GQwUn7huGf32nDdv  0.000037      0.000042   \n26914  99fp2z9TANArLJR4hcwx8fJSzjz7GQwUn7huGf32nDdv  0.000047      0.000042   \n26976  99fp2z9TANArLJR4hcwx8fJSzjz7GQwUn7huGf32nDdv  0.000046      0.000042   \n27510  99fp2z9TANArLJR4hcwx8fJSzjz7GQwUn7huGf32nDdv  0.000047      0.000053   \n\n      label  day_of_week  hour  u_price_sma_10m  ...  ema_vol_sell_1d  \\\n165    flat            5     9         0.930400  ...        90.930654   \n445    flat            5    10         0.939484  ...        94.127106   \n598    flat            5    11         0.809310  ...        93.952888   \n1098   flat            5    13         0.960984  ...        87.483720   \n1358   flat            5    14         1.243228  ...        96.866656   \n...     ...          ...   ...              ...  ...              ...   \n26648  flat            2    21         1.111615  ...        67.862975   \n26804  flat            2    21         1.248536  ...        67.381968   \n26914  flat            2    21         0.973278  ...        66.101457   \n26976  flat            2    22         0.975319  ...        66.101457   \n27510  flat            2    23         0.965762  ...        67.015584   \n\n       sma_vol_sum_10m  ema_vol_sum_10m  sma_vol_sum_1h  ema_vol_sum_1h  \\\n165           0.115989         0.107761        3.788072        5.061999   \n445           0.095148         0.133825        2.479048        2.220667   \n598           0.102302         0.088852        2.424012        2.155592   \n1098          0.012154         0.024919        1.882639        1.614058   \n1358          0.030008         0.050110        1.659913        1.125329   \n...                ...              ...             ...             ...   \n26648         0.153787         0.225146        1.251825        1.382052   \n26804         0.121401         0.102121        1.255153        1.246121   \n26914         0.157165         0.143465        1.290918        1.311373   \n26976         0.578594         0.911004        1.712347        2.070908   \n27510         0.503379         0.289151        1.748061        1.747806   \n\n       sma_vol_sum_4h  ema_vol_sum_4h  sma_vol_sum_1d  ema_vol_sum_1d  \\\n165         28.803518       31.480449      154.270505      152.896013   \n445         24.955202       22.916505      149.483234      151.282205   \n598         29.098655       31.816594      149.376050      151.022980   \n1098        26.609313       26.908793      142.030561      145.353317   \n1358        23.209849       19.930340      141.104119      154.474622   \n...               ...             ...             ...             ...   \n26648        3.707916        3.544978       63.566965      111.606969   \n26804        3.711244        3.520122       63.165621      110.886213   \n26914        3.747009        3.557458       62.526303      109.672463   \n26976        4.168437        4.344125       63.484637      110.383990   \n27510        4.211295        4.602389       61.683999      106.468573   \n\n         upside  \n165    1.095196  \n445    1.352834  \n598    1.109808  \n1098   0.996687  \n1358   1.446352  \n...         ...  \n26648  0.968080  \n26804  1.129669  \n26914  0.902549  \n26976  0.909573  \n27510  1.131750  \n\n[107 rows x 46 columns]",
      "text/html": "<div>\n<style scoped>\n    .dataframe tbody tr th:only-of-type {\n        vertical-align: middle;\n    }\n\n    .dataframe tbody tr th {\n        vertical-align: top;\n    }\n\n    .dataframe thead th {\n        text-align: right;\n    }\n</style>\n<table border=\"1\" class=\"dataframe\">\n  <thead>\n    <tr style=\"text-align: right;\">\n      <th></th>\n      <th>Actual</th>\n      <th>Predicted</th>\n      <th>time_quant</th>\n      <th>mint</th>\n      <th>price</th>\n      <th>future_price</th>\n      <th>label</th>\n      <th>day_of_week</th>\n      <th>hour</th>\n      <th>u_price_sma_10m</th>\n      <th>...</th>\n      <th>ema_vol_sell_1d</th>\n      <th>sma_vol_sum_10m</th>\n      <th>ema_vol_sum_10m</th>\n      <th>sma_vol_sum_1h</th>\n      <th>ema_vol_sum_1h</th>\n      <th>sma_vol_sum_4h</th>\n      <th>ema_vol_sum_4h</th>\n      <th>sma_vol_sum_1d</th>\n      <th>ema_vol_sum_1d</th>\n      <th>upside</th>\n    </tr>\n  </thead>\n  <tbody>\n    <tr>\n      <th>165</th>\n      <td>flat</td>\n      <td>flat</td>\n      <td>2023-12-30 09:10:00</td>\n      <td>99fp2z9TANArLJR4hcwx8fJSzjz7GQwUn7huGf32nDdv</td>\n      <td>0.000095</td>\n      <td>0.000104</td>\n      <td>flat</td>\n      <td>5</td>\n      <td>9</td>\n      <td>0.930400</td>\n      <td>...</td>\n      <td>90.930654</td>\n      <td>0.115989</td>\n      <td>0.107761</td>\n      <td>3.788072</td>\n      <td>5.061999</td>\n      <td>28.803518</td>\n      <td>31.480449</td>\n      <td>154.270505</td>\n      <td>152.896013</td>\n      <td>1.095196</td>\n    </tr>\n    <tr>\n      <th>445</th>\n      <td>flat</td>\n      <td>flat</td>\n      <td>2023-12-30 10:30:00</td>\n      <td>99fp2z9TANArLJR4hcwx8fJSzjz7GQwUn7huGf32nDdv</td>\n      <td>0.000098</td>\n      <td>0.000132</td>\n      <td>flat</td>\n      <td>5</td>\n      <td>10</td>\n      <td>0.939484</td>\n      <td>...</td>\n      <td>94.127106</td>\n      <td>0.095148</td>\n      <td>0.133825</td>\n      <td>2.479048</td>\n      <td>2.220667</td>\n      <td>24.955202</td>\n      <td>22.916505</td>\n      <td>149.483234</td>\n      <td>151.282205</td>\n      <td>1.352834</td>\n    </tr>\n    <tr>\n      <th>598</th>\n      <td>flat</td>\n      <td>flat</td>\n      <td>2023-12-30 11:10:00</td>\n      <td>99fp2z9TANArLJR4hcwx8fJSzjz7GQwUn7huGf32nDdv</td>\n      <td>0.000120</td>\n      <td>0.000133</td>\n      <td>flat</td>\n      <td>5</td>\n      <td>11</td>\n      <td>0.809310</td>\n      <td>...</td>\n      <td>93.952888</td>\n      <td>0.102302</td>\n      <td>0.088852</td>\n      <td>2.424012</td>\n      <td>2.155592</td>\n      <td>29.098655</td>\n      <td>31.816594</td>\n      <td>149.376050</td>\n      <td>151.022980</td>\n      <td>1.109808</td>\n    </tr>\n    <tr>\n      <th>1098</th>\n      <td>flat</td>\n      <td>flat</td>\n      <td>2023-12-30 13:20:00</td>\n      <td>99fp2z9TANArLJR4hcwx8fJSzjz7GQwUn7huGf32nDdv</td>\n      <td>0.000125</td>\n      <td>0.000125</td>\n      <td>flat</td>\n      <td>5</td>\n      <td>13</td>\n      <td>0.960984</td>\n      <td>...</td>\n      <td>87.483720</td>\n      <td>0.012154</td>\n      <td>0.024919</td>\n      <td>1.882639</td>\n      <td>1.614058</td>\n      <td>26.609313</td>\n      <td>26.908793</td>\n      <td>142.030561</td>\n      <td>145.353317</td>\n      <td>0.996687</td>\n    </tr>\n    <tr>\n      <th>1358</th>\n      <td>flat</td>\n      <td>flat</td>\n      <td>2023-12-30 14:30:00</td>\n      <td>99fp2z9TANArLJR4hcwx8fJSzjz7GQwUn7huGf32nDdv</td>\n      <td>0.000097</td>\n      <td>0.000141</td>\n      <td>flat</td>\n      <td>5</td>\n      <td>14</td>\n      <td>1.243228</td>\n      <td>...</td>\n      <td>96.866656</td>\n      <td>0.030008</td>\n      <td>0.050110</td>\n      <td>1.659913</td>\n      <td>1.125329</td>\n      <td>23.209849</td>\n      <td>19.930340</td>\n      <td>141.104119</td>\n      <td>154.474622</td>\n      <td>1.446352</td>\n    </tr>\n    <tr>\n      <th>...</th>\n      <td>...</td>\n      <td>...</td>\n      <td>...</td>\n      <td>...</td>\n      <td>...</td>\n      <td>...</td>\n      <td>...</td>\n      <td>...</td>\n      <td>...</td>\n      <td>...</td>\n      <td>...</td>\n      <td>...</td>\n      <td>...</td>\n      <td>...</td>\n      <td>...</td>\n      <td>...</td>\n      <td>...</td>\n      <td>...</td>\n      <td>...</td>\n      <td>...</td>\n      <td>...</td>\n    </tr>\n    <tr>\n      <th>26648</th>\n      <td>flat</td>\n      <td>flat</td>\n      <td>2024-01-03 21:00:00</td>\n      <td>99fp2z9TANArLJR4hcwx8fJSzjz7GQwUn7huGf32nDdv</td>\n      <td>0.000043</td>\n      <td>0.000042</td>\n      <td>flat</td>\n      <td>2</td>\n      <td>21</td>\n      <td>1.111615</td>\n      <td>...</td>\n      <td>67.862975</td>\n      <td>0.153787</td>\n      <td>0.225146</td>\n      <td>1.251825</td>\n      <td>1.382052</td>\n      <td>3.707916</td>\n      <td>3.544978</td>\n      <td>63.566965</td>\n      <td>111.606969</td>\n      <td>0.968080</td>\n    </tr>\n    <tr>\n      <th>26804</th>\n      <td>flat</td>\n      <td>flat</td>\n      <td>2024-01-03 21:30:00</td>\n      <td>99fp2z9TANArLJR4hcwx8fJSzjz7GQwUn7huGf32nDdv</td>\n      <td>0.000037</td>\n      <td>0.000042</td>\n      <td>flat</td>\n      <td>2</td>\n      <td>21</td>\n      <td>1.248536</td>\n      <td>...</td>\n      <td>67.381968</td>\n      <td>0.121401</td>\n      <td>0.102121</td>\n      <td>1.255153</td>\n      <td>1.246121</td>\n      <td>3.711244</td>\n      <td>3.520122</td>\n      <td>63.165621</td>\n      <td>110.886213</td>\n      <td>1.129669</td>\n    </tr>\n    <tr>\n      <th>26914</th>\n      <td>flat</td>\n      <td>flat</td>\n      <td>2024-01-03 21:50:00</td>\n      <td>99fp2z9TANArLJR4hcwx8fJSzjz7GQwUn7huGf32nDdv</td>\n      <td>0.000047</td>\n      <td>0.000042</td>\n      <td>flat</td>\n      <td>2</td>\n      <td>21</td>\n      <td>0.973278</td>\n      <td>...</td>\n      <td>66.101457</td>\n      <td>0.157165</td>\n      <td>0.143465</td>\n      <td>1.290918</td>\n      <td>1.311373</td>\n      <td>3.747009</td>\n      <td>3.557458</td>\n      <td>62.526303</td>\n      <td>109.672463</td>\n      <td>0.902549</td>\n    </tr>\n    <tr>\n      <th>26976</th>\n      <td>flat</td>\n      <td>flat</td>\n      <td>2024-01-03 22:00:00</td>\n      <td>99fp2z9TANArLJR4hcwx8fJSzjz7GQwUn7huGf32nDdv</td>\n      <td>0.000046</td>\n      <td>0.000042</td>\n      <td>flat</td>\n      <td>2</td>\n      <td>22</td>\n      <td>0.975319</td>\n      <td>...</td>\n      <td>66.101457</td>\n      <td>0.578594</td>\n      <td>0.911004</td>\n      <td>1.712347</td>\n      <td>2.070908</td>\n      <td>4.168437</td>\n      <td>4.344125</td>\n      <td>63.484637</td>\n      <td>110.383990</td>\n      <td>0.909573</td>\n    </tr>\n    <tr>\n      <th>27510</th>\n      <td>flat</td>\n      <td>flat</td>\n      <td>2024-01-03 23:40:00</td>\n      <td>99fp2z9TANArLJR4hcwx8fJSzjz7GQwUn7huGf32nDdv</td>\n      <td>0.000047</td>\n      <td>0.000053</td>\n      <td>flat</td>\n      <td>2</td>\n      <td>23</td>\n      <td>0.965762</td>\n      <td>...</td>\n      <td>67.015584</td>\n      <td>0.503379</td>\n      <td>0.289151</td>\n      <td>1.748061</td>\n      <td>1.747806</td>\n      <td>4.211295</td>\n      <td>4.602389</td>\n      <td>61.683999</td>\n      <td>106.468573</td>\n      <td>1.131750</td>\n    </tr>\n  </tbody>\n</table>\n<p>107 rows × 46 columns</p>\n</div>"
     },
     "execution_count": 116,
     "metadata": {},
     "output_type": "execute_result"
    }
   ],
   "source": [
    "# mint 99fp2z9TANArLJR4hcwx8fJSzjz7GQwUn7huGf32nDdv\n",
    "results_df[results_df['mint']=='99fp2z9TANArLJR4hcwx8fJSzjz7GQwUn7huGf32nDdv']"
   ],
   "metadata": {
    "collapsed": false,
    "ExecuteTime": {
     "end_time": "2024-01-04T13:11:18.622646Z",
     "start_time": "2024-01-04T13:11:18.614034Z"
    }
   },
   "id": "85a6209339a06f78"
  },
  {
   "cell_type": "code",
   "execution_count": 117,
   "outputs": [
    {
     "data": {
      "text/plain": "      Actual Predicted          time_quant  \\\n0       flat      flat 2023-12-30 08:30:00   \n1       flat      flat 2023-12-30 08:30:00   \n2       flat      flat 2023-12-30 08:30:00   \n3       flat      flat 2023-12-30 08:30:00   \n4       flat      flat 2023-12-30 08:30:00   \n...      ...       ...                 ...   \n27727   flat      flat 2024-01-04 00:20:00   \n27728   flat      flat 2024-01-04 00:20:00   \n27729   flat      flat 2024-01-04 00:20:00   \n27730   flat      flat 2024-01-04 00:20:00   \n27731   flat      flat 2024-01-04 00:20:00   \n\n                                               mint         price  \\\n0      12FvihLoAzTtaA98YVuErGftCXtoc83t3YFk4WdKK79T  9.930370e-07   \n1      2XNuNgqFpNxEWq8wcqRpJFeWBVsLgxa56fMDQVfq7i7Y  2.826238e-04   \n2      2x8o3hA5S5fBxCSE9hzVTf3RohcMWHqkDNKNEPuzprD5  2.976297e-05   \n3      2zwuFv4tzMrJMA3Gq5nNH3i4ojWPtCkjmGzTMXe4RpMc  1.944247e-05   \n4      31iQsahfa4CMiirU7REygBzuAWg4R4ah7Y4aDu9ZfXJP  1.039810e-10   \n...                                             ...           ...   \n27727   KTMEEZDPyYiJmDeiy8ChLcWHP52jhzMG9g6FQrYDTf8  7.980008e-11   \n27728   LFG1ezantSY2LPX8jRz2qa31pPEhpwN9msFDzZw4T9Q  2.730993e-07   \n27729   drakduQWnTS89CdTUdgHmZzEkN6reBLYqrk8rzVhU53  5.363368e-08   \n27730   gxNuJSHRScR7WkzQEYqvxVditaKkcc9V32KXPJLCbcT  6.396623e-05   \n27731   skJyor4eEoBsDpxyURP367RjGEK5xbqrjWjjyjQGo2N  8.941823e-07   \n\n       future_price label  day_of_week  hour  u_price_sma_10m  ...  \\\n0      4.359319e-07  flat            5     8         0.747452  ...   \n1      2.169545e-04  flat            5     8         1.087920  ...   \n2      2.607552e-05  flat            5     8         1.026468  ...   \n3      1.500439e-05  flat            5     8         1.069679  ...   \n4      5.917822e-11  flat            5     8         0.808583  ...   \n...             ...   ...          ...   ...              ...  ...   \n27727  3.277159e-11  flat            3     0         1.149582  ...   \n27728  2.105918e-07  flat            3     0         0.942776  ...   \n27729  5.334881e-08  flat            3     0         1.019868  ...   \n27730  5.061710e-05  flat            3     0         0.732243  ...   \n27731  1.985846e-06  flat            3     0         1.664710  ...   \n\n       ema_vol_sell_1d  sma_vol_sum_10m  ema_vol_sum_10m  sma_vol_sum_1h  \\\n0            19.374471         0.242418         0.234116        1.145117   \n1            19.966602         0.652804         0.681182       12.042169   \n2           101.836320         0.521736         0.538792        8.972038   \n3           232.486088         0.651856         0.579489        9.376199   \n4           186.058000         1.543446         1.977391       17.563163   \n...                ...              ...              ...             ...   \n27727        27.644720         2.919935         4.487728        3.786115   \n27728       556.648984         1.150401         1.745633       46.976387   \n27729       162.160206         0.670125         0.947271       12.693423   \n27730       162.375073         0.532225         0.435274        9.465668   \n27731         3.522837         0.099650         0.137254        0.268418   \n\n       ema_vol_sum_1h  sma_vol_sum_4h  ema_vol_sum_4h  sma_vol_sum_1d  \\\n0            1.328542        3.890211        3.748550       24.440557   \n1           10.282466       20.429140       25.838622      132.789408   \n2            6.993093       36.080560       37.152979      212.977115   \n3            8.926900       70.665628       76.172024      361.950123   \n4           20.297679       65.775765       61.970659      426.796282   \n...               ...             ...             ...             ...   \n27727        6.206388        5.761930        8.733140       85.505423   \n27728       54.598590      555.989226      358.029839     1297.308194   \n27729       10.512182       95.411569       86.925002      500.631668   \n27730        6.493125       71.455419       75.697797      556.782302   \n27731        0.385697        4.524898        3.237085       10.558095   \n\n       ema_vol_sum_1d    upside  \n0           29.679349  0.438989  \n1           36.391252  0.767644  \n2          178.242873  0.876106  \n3          448.937875  0.771733  \n4          345.141176  0.569125  \n...               ...       ...  \n27727       44.384374  0.410671  \n27728      928.001224  0.771118  \n27729      319.042967  0.994689  \n27730      309.413279  0.791310  \n27731        7.440468  2.220852  \n\n[27732 rows x 46 columns]",
      "text/html": "<div>\n<style scoped>\n    .dataframe tbody tr th:only-of-type {\n        vertical-align: middle;\n    }\n\n    .dataframe tbody tr th {\n        vertical-align: top;\n    }\n\n    .dataframe thead th {\n        text-align: right;\n    }\n</style>\n<table border=\"1\" class=\"dataframe\">\n  <thead>\n    <tr style=\"text-align: right;\">\n      <th></th>\n      <th>Actual</th>\n      <th>Predicted</th>\n      <th>time_quant</th>\n      <th>mint</th>\n      <th>price</th>\n      <th>future_price</th>\n      <th>label</th>\n      <th>day_of_week</th>\n      <th>hour</th>\n      <th>u_price_sma_10m</th>\n      <th>...</th>\n      <th>ema_vol_sell_1d</th>\n      <th>sma_vol_sum_10m</th>\n      <th>ema_vol_sum_10m</th>\n      <th>sma_vol_sum_1h</th>\n      <th>ema_vol_sum_1h</th>\n      <th>sma_vol_sum_4h</th>\n      <th>ema_vol_sum_4h</th>\n      <th>sma_vol_sum_1d</th>\n      <th>ema_vol_sum_1d</th>\n      <th>upside</th>\n    </tr>\n  </thead>\n  <tbody>\n    <tr>\n      <th>0</th>\n      <td>flat</td>\n      <td>flat</td>\n      <td>2023-12-30 08:30:00</td>\n      <td>12FvihLoAzTtaA98YVuErGftCXtoc83t3YFk4WdKK79T</td>\n      <td>9.930370e-07</td>\n      <td>4.359319e-07</td>\n      <td>flat</td>\n      <td>5</td>\n      <td>8</td>\n      <td>0.747452</td>\n      <td>...</td>\n      <td>19.374471</td>\n      <td>0.242418</td>\n      <td>0.234116</td>\n      <td>1.145117</td>\n      <td>1.328542</td>\n      <td>3.890211</td>\n      <td>3.748550</td>\n      <td>24.440557</td>\n      <td>29.679349</td>\n      <td>0.438989</td>\n    </tr>\n    <tr>\n      <th>1</th>\n      <td>flat</td>\n      <td>flat</td>\n      <td>2023-12-30 08:30:00</td>\n      <td>2XNuNgqFpNxEWq8wcqRpJFeWBVsLgxa56fMDQVfq7i7Y</td>\n      <td>2.826238e-04</td>\n      <td>2.169545e-04</td>\n      <td>flat</td>\n      <td>5</td>\n      <td>8</td>\n      <td>1.087920</td>\n      <td>...</td>\n      <td>19.966602</td>\n      <td>0.652804</td>\n      <td>0.681182</td>\n      <td>12.042169</td>\n      <td>10.282466</td>\n      <td>20.429140</td>\n      <td>25.838622</td>\n      <td>132.789408</td>\n      <td>36.391252</td>\n      <td>0.767644</td>\n    </tr>\n    <tr>\n      <th>2</th>\n      <td>flat</td>\n      <td>flat</td>\n      <td>2023-12-30 08:30:00</td>\n      <td>2x8o3hA5S5fBxCSE9hzVTf3RohcMWHqkDNKNEPuzprD5</td>\n      <td>2.976297e-05</td>\n      <td>2.607552e-05</td>\n      <td>flat</td>\n      <td>5</td>\n      <td>8</td>\n      <td>1.026468</td>\n      <td>...</td>\n      <td>101.836320</td>\n      <td>0.521736</td>\n      <td>0.538792</td>\n      <td>8.972038</td>\n      <td>6.993093</td>\n      <td>36.080560</td>\n      <td>37.152979</td>\n      <td>212.977115</td>\n      <td>178.242873</td>\n      <td>0.876106</td>\n    </tr>\n    <tr>\n      <th>3</th>\n      <td>flat</td>\n      <td>flat</td>\n      <td>2023-12-30 08:30:00</td>\n      <td>2zwuFv4tzMrJMA3Gq5nNH3i4ojWPtCkjmGzTMXe4RpMc</td>\n      <td>1.944247e-05</td>\n      <td>1.500439e-05</td>\n      <td>flat</td>\n      <td>5</td>\n      <td>8</td>\n      <td>1.069679</td>\n      <td>...</td>\n      <td>232.486088</td>\n      <td>0.651856</td>\n      <td>0.579489</td>\n      <td>9.376199</td>\n      <td>8.926900</td>\n      <td>70.665628</td>\n      <td>76.172024</td>\n      <td>361.950123</td>\n      <td>448.937875</td>\n      <td>0.771733</td>\n    </tr>\n    <tr>\n      <th>4</th>\n      <td>flat</td>\n      <td>flat</td>\n      <td>2023-12-30 08:30:00</td>\n      <td>31iQsahfa4CMiirU7REygBzuAWg4R4ah7Y4aDu9ZfXJP</td>\n      <td>1.039810e-10</td>\n      <td>5.917822e-11</td>\n      <td>flat</td>\n      <td>5</td>\n      <td>8</td>\n      <td>0.808583</td>\n      <td>...</td>\n      <td>186.058000</td>\n      <td>1.543446</td>\n      <td>1.977391</td>\n      <td>17.563163</td>\n      <td>20.297679</td>\n      <td>65.775765</td>\n      <td>61.970659</td>\n      <td>426.796282</td>\n      <td>345.141176</td>\n      <td>0.569125</td>\n    </tr>\n    <tr>\n      <th>...</th>\n      <td>...</td>\n      <td>...</td>\n      <td>...</td>\n      <td>...</td>\n      <td>...</td>\n      <td>...</td>\n      <td>...</td>\n      <td>...</td>\n      <td>...</td>\n      <td>...</td>\n      <td>...</td>\n      <td>...</td>\n      <td>...</td>\n      <td>...</td>\n      <td>...</td>\n      <td>...</td>\n      <td>...</td>\n      <td>...</td>\n      <td>...</td>\n      <td>...</td>\n      <td>...</td>\n    </tr>\n    <tr>\n      <th>27727</th>\n      <td>flat</td>\n      <td>flat</td>\n      <td>2024-01-04 00:20:00</td>\n      <td>KTMEEZDPyYiJmDeiy8ChLcWHP52jhzMG9g6FQrYDTf8</td>\n      <td>7.980008e-11</td>\n      <td>3.277159e-11</td>\n      <td>flat</td>\n      <td>3</td>\n      <td>0</td>\n      <td>1.149582</td>\n      <td>...</td>\n      <td>27.644720</td>\n      <td>2.919935</td>\n      <td>4.487728</td>\n      <td>3.786115</td>\n      <td>6.206388</td>\n      <td>5.761930</td>\n      <td>8.733140</td>\n      <td>85.505423</td>\n      <td>44.384374</td>\n      <td>0.410671</td>\n    </tr>\n    <tr>\n      <th>27728</th>\n      <td>flat</td>\n      <td>flat</td>\n      <td>2024-01-04 00:20:00</td>\n      <td>LFG1ezantSY2LPX8jRz2qa31pPEhpwN9msFDzZw4T9Q</td>\n      <td>2.730993e-07</td>\n      <td>2.105918e-07</td>\n      <td>flat</td>\n      <td>3</td>\n      <td>0</td>\n      <td>0.942776</td>\n      <td>...</td>\n      <td>556.648984</td>\n      <td>1.150401</td>\n      <td>1.745633</td>\n      <td>46.976387</td>\n      <td>54.598590</td>\n      <td>555.989226</td>\n      <td>358.029839</td>\n      <td>1297.308194</td>\n      <td>928.001224</td>\n      <td>0.771118</td>\n    </tr>\n    <tr>\n      <th>27729</th>\n      <td>flat</td>\n      <td>flat</td>\n      <td>2024-01-04 00:20:00</td>\n      <td>drakduQWnTS89CdTUdgHmZzEkN6reBLYqrk8rzVhU53</td>\n      <td>5.363368e-08</td>\n      <td>5.334881e-08</td>\n      <td>flat</td>\n      <td>3</td>\n      <td>0</td>\n      <td>1.019868</td>\n      <td>...</td>\n      <td>162.160206</td>\n      <td>0.670125</td>\n      <td>0.947271</td>\n      <td>12.693423</td>\n      <td>10.512182</td>\n      <td>95.411569</td>\n      <td>86.925002</td>\n      <td>500.631668</td>\n      <td>319.042967</td>\n      <td>0.994689</td>\n    </tr>\n    <tr>\n      <th>27730</th>\n      <td>flat</td>\n      <td>flat</td>\n      <td>2024-01-04 00:20:00</td>\n      <td>gxNuJSHRScR7WkzQEYqvxVditaKkcc9V32KXPJLCbcT</td>\n      <td>6.396623e-05</td>\n      <td>5.061710e-05</td>\n      <td>flat</td>\n      <td>3</td>\n      <td>0</td>\n      <td>0.732243</td>\n      <td>...</td>\n      <td>162.375073</td>\n      <td>0.532225</td>\n      <td>0.435274</td>\n      <td>9.465668</td>\n      <td>6.493125</td>\n      <td>71.455419</td>\n      <td>75.697797</td>\n      <td>556.782302</td>\n      <td>309.413279</td>\n      <td>0.791310</td>\n    </tr>\n    <tr>\n      <th>27731</th>\n      <td>flat</td>\n      <td>flat</td>\n      <td>2024-01-04 00:20:00</td>\n      <td>skJyor4eEoBsDpxyURP367RjGEK5xbqrjWjjyjQGo2N</td>\n      <td>8.941823e-07</td>\n      <td>1.985846e-06</td>\n      <td>flat</td>\n      <td>3</td>\n      <td>0</td>\n      <td>1.664710</td>\n      <td>...</td>\n      <td>3.522837</td>\n      <td>0.099650</td>\n      <td>0.137254</td>\n      <td>0.268418</td>\n      <td>0.385697</td>\n      <td>4.524898</td>\n      <td>3.237085</td>\n      <td>10.558095</td>\n      <td>7.440468</td>\n      <td>2.220852</td>\n    </tr>\n  </tbody>\n</table>\n<p>27732 rows × 46 columns</p>\n</div>"
     },
     "execution_count": 117,
     "metadata": {},
     "output_type": "execute_result"
    }
   ],
   "source": [
    "results_df"
   ],
   "metadata": {
    "collapsed": false,
    "ExecuteTime": {
     "end_time": "2024-01-04T13:11:21.306968Z",
     "start_time": "2024-01-04T13:11:21.287117Z"
    }
   },
   "id": "5bbf8e693f460b06"
  },
  {
   "cell_type": "code",
   "execution_count": null,
   "outputs": [],
   "source": [],
   "metadata": {
    "collapsed": false
   },
   "id": "19b1514301d14e46"
  }
 ],
 "metadata": {
  "kernelspec": {
   "display_name": "Python 3",
   "language": "python",
   "name": "python3"
  },
  "language_info": {
   "codemirror_mode": {
    "name": "ipython",
    "version": 2
   },
   "file_extension": ".py",
   "mimetype": "text/x-python",
   "name": "python",
   "nbconvert_exporter": "python",
   "pygments_lexer": "ipython2",
   "version": "2.7.6"
  }
 },
 "nbformat": 4,
 "nbformat_minor": 5
}
