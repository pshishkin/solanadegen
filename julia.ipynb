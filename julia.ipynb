{
 "cells": [
  {
   "cell_type": "code",
   "execution_count": 52,
   "id": "initial_id",
   "metadata": {
    "collapsed": true,
    "ExecuteTime": {
     "end_time": "2023-12-30T21:31:33.484943Z",
     "start_time": "2023-12-30T21:31:30.747720Z"
    }
   },
   "outputs": [
    {
     "data": {
      "text/plain": "                                               signature  \\\n0      3X66ureoMYyQPZVocLqs7fiXZzmuDvDJeCHE8zSiJHtwEw...   \n1      3QcjXvkGSh7VHECsM22G6QwTEw1t9Y6Fdf4uR7LhLZYbgL...   \n2      nGTKFzLwqBPkgWXeSJ2rXZc3kWadBPv99DDvPMv7HsbGG4...   \n3      4RQTgJ7rTfKnZmaVzyDt3Y6N7xU5Yfz78358X4oDQC5ALG...   \n4      3aqPhVBJwhGg6UYmfTcDiGa3RX3pMGzmGujYHxqBcMQTW9...   \n...                                                  ...   \n19995  UAGx2cENmgKCckpGGPfKEvUsGkNbm9Sc6SGmVsx9iZWeek...   \n19996  5anPrrYzXEHeaYj4DD8wWQx9AZ51Ys3JLLBybiqhky9nNh...   \n19997  SXNrC1oMXNaUc6D49sQppyS7JEif14NqEhLFLm1SRUPSfm...   \n19998  5y9q9vaZaNR6Bgo8Et8FCsThMn3Qo6gapi7QJf3SBE3EkH...   \n19999  E4xAhbVdpxDJX131dDRPHK4GBSEWqADt4m4ygRWqNtQUrs...   \n\n                                               mint           timestamp  \\\n0      6ub6VznqxaVozbQdiGYvLcJfmQKBf5LHXX7vzJJWQFhd 2023-12-30 21:30:11   \n1      DVzrCErBzydh92bBzSJX1dKwVvb4omwhrvNz8CwRyxxV 2023-12-30 21:30:04   \n2      DVzrCErBzydh92bBzSJX1dKwVvb4omwhrvNz8CwRyxxV 2023-12-30 21:29:59   \n3      EKCW975DWdt1roK1NVQDf4QGfaGTcQPU5tFD1DMcMe9Q 2023-12-30 21:29:27   \n4       KDriegomzHbJDmGkVWFuXrZWfpiruauhMSTg7N6WZvD 2023-12-30 21:29:07   \n...                                             ...                 ...   \n19995  2QrtFPkSHxJFriLTLsYtfkYKAwyVau33mi6Pz7hzCU6p 2023-12-27 19:52:26   \n19996  22RTbo37y3NrdcgRotRNSnqGa6wLPaDh99cPXuw7X6zF 2023-12-27 19:51:58   \n19997  3de2yRhtD4VbJBb8EQAQffYMPLU4EnSHT1eveBwiL3tn 2023-12-27 19:51:56   \n19998  F9TBTkUELa39d8mpVvJDdcE7VrAcEGgzqBy5xoregCke 2023-12-27 19:51:39   \n19999  99ouK5YUK3JPGCPX9joNtHsMU7NPpU7w91JN4kdQ97po 2023-12-27 19:51:16   \n\n       trades  token_volume  usd_volume  sol_volume  sells   token_spent  \\\n0           1  3.674537e+06    0.000000    0.073733      1  3.674537e+06   \n1           1  6.702123e+02    0.000000    0.008744      1  6.702123e+02   \n2           1  1.991313e+04    0.000000    0.261612      1  1.991313e+04   \n3           1  6.955774e+08    0.000000    5.000009      0  0.000000e+00   \n4           1  2.880980e+04  705.052454    0.000000      0  0.000000e+00   \n...       ...           ...         ...         ...    ...           ...   \n19995       1  1.366299e+06    0.000000    0.014496      1  1.366299e+06   \n19996       1  4.850748e+07    0.000000    0.240007      0  0.000000e+00   \n19997       1  3.062915e+06    0.000000    0.925850      1  3.062915e+06   \n19998       1  1.355083e+00    0.000000    0.020145      0  0.000000e+00   \n19999       1  9.287326e+02    0.000000    0.050705      0  0.000000e+00   \n\n       usd_got   sol_got  purchases     token_got   usd_spent  sol_spent  \\\n0          0.0  0.073733          0  0.000000e+00    0.000000   0.000000   \n1          0.0  0.008744          0  0.000000e+00    0.000000   0.000000   \n2          0.0  0.261612          0  0.000000e+00    0.000000   0.000000   \n3          0.0  0.000000          1  6.955774e+08    0.000000   5.000009   \n4          0.0  0.000000          1  2.880980e+04  705.052454   0.000000   \n...        ...       ...        ...           ...         ...        ...   \n19995      0.0  0.014496          0  0.000000e+00    0.000000   0.000000   \n19996      0.0  0.000000          1  4.850748e+07    0.000000   0.240007   \n19997      0.0  0.925850          0  0.000000e+00    0.000000   0.000000   \n19998      0.0  0.000000          1  1.355083e+00    0.000000   0.020145   \n19999      0.0  0.000000          1  9.287326e+02    0.000000   0.050705   \n\n                     hour  \n0     2023-12-30 21:00:00  \n1     2023-12-30 21:00:00  \n2     2023-12-30 21:00:00  \n3     2023-12-30 21:00:00  \n4     2023-12-30 21:00:00  \n...                   ...  \n19995 2023-12-27 19:00:00  \n19996 2023-12-27 19:00:00  \n19997 2023-12-27 19:00:00  \n19998 2023-12-27 19:00:00  \n19999 2023-12-27 19:00:00  \n\n[20000 rows x 16 columns]",
      "text/html": "<div>\n<style scoped>\n    .dataframe tbody tr th:only-of-type {\n        vertical-align: middle;\n    }\n\n    .dataframe tbody tr th {\n        vertical-align: top;\n    }\n\n    .dataframe thead th {\n        text-align: right;\n    }\n</style>\n<table border=\"1\" class=\"dataframe\">\n  <thead>\n    <tr style=\"text-align: right;\">\n      <th></th>\n      <th>signature</th>\n      <th>mint</th>\n      <th>timestamp</th>\n      <th>trades</th>\n      <th>token_volume</th>\n      <th>usd_volume</th>\n      <th>sol_volume</th>\n      <th>sells</th>\n      <th>token_spent</th>\n      <th>usd_got</th>\n      <th>sol_got</th>\n      <th>purchases</th>\n      <th>token_got</th>\n      <th>usd_spent</th>\n      <th>sol_spent</th>\n      <th>hour</th>\n    </tr>\n  </thead>\n  <tbody>\n    <tr>\n      <th>0</th>\n      <td>3X66ureoMYyQPZVocLqs7fiXZzmuDvDJeCHE8zSiJHtwEw...</td>\n      <td>6ub6VznqxaVozbQdiGYvLcJfmQKBf5LHXX7vzJJWQFhd</td>\n      <td>2023-12-30 21:30:11</td>\n      <td>1</td>\n      <td>3.674537e+06</td>\n      <td>0.000000</td>\n      <td>0.073733</td>\n      <td>1</td>\n      <td>3.674537e+06</td>\n      <td>0.0</td>\n      <td>0.073733</td>\n      <td>0</td>\n      <td>0.000000e+00</td>\n      <td>0.000000</td>\n      <td>0.000000</td>\n      <td>2023-12-30 21:00:00</td>\n    </tr>\n    <tr>\n      <th>1</th>\n      <td>3QcjXvkGSh7VHECsM22G6QwTEw1t9Y6Fdf4uR7LhLZYbgL...</td>\n      <td>DVzrCErBzydh92bBzSJX1dKwVvb4omwhrvNz8CwRyxxV</td>\n      <td>2023-12-30 21:30:04</td>\n      <td>1</td>\n      <td>6.702123e+02</td>\n      <td>0.000000</td>\n      <td>0.008744</td>\n      <td>1</td>\n      <td>6.702123e+02</td>\n      <td>0.0</td>\n      <td>0.008744</td>\n      <td>0</td>\n      <td>0.000000e+00</td>\n      <td>0.000000</td>\n      <td>0.000000</td>\n      <td>2023-12-30 21:00:00</td>\n    </tr>\n    <tr>\n      <th>2</th>\n      <td>nGTKFzLwqBPkgWXeSJ2rXZc3kWadBPv99DDvPMv7HsbGG4...</td>\n      <td>DVzrCErBzydh92bBzSJX1dKwVvb4omwhrvNz8CwRyxxV</td>\n      <td>2023-12-30 21:29:59</td>\n      <td>1</td>\n      <td>1.991313e+04</td>\n      <td>0.000000</td>\n      <td>0.261612</td>\n      <td>1</td>\n      <td>1.991313e+04</td>\n      <td>0.0</td>\n      <td>0.261612</td>\n      <td>0</td>\n      <td>0.000000e+00</td>\n      <td>0.000000</td>\n      <td>0.000000</td>\n      <td>2023-12-30 21:00:00</td>\n    </tr>\n    <tr>\n      <th>3</th>\n      <td>4RQTgJ7rTfKnZmaVzyDt3Y6N7xU5Yfz78358X4oDQC5ALG...</td>\n      <td>EKCW975DWdt1roK1NVQDf4QGfaGTcQPU5tFD1DMcMe9Q</td>\n      <td>2023-12-30 21:29:27</td>\n      <td>1</td>\n      <td>6.955774e+08</td>\n      <td>0.000000</td>\n      <td>5.000009</td>\n      <td>0</td>\n      <td>0.000000e+00</td>\n      <td>0.0</td>\n      <td>0.000000</td>\n      <td>1</td>\n      <td>6.955774e+08</td>\n      <td>0.000000</td>\n      <td>5.000009</td>\n      <td>2023-12-30 21:00:00</td>\n    </tr>\n    <tr>\n      <th>4</th>\n      <td>3aqPhVBJwhGg6UYmfTcDiGa3RX3pMGzmGujYHxqBcMQTW9...</td>\n      <td>KDriegomzHbJDmGkVWFuXrZWfpiruauhMSTg7N6WZvD</td>\n      <td>2023-12-30 21:29:07</td>\n      <td>1</td>\n      <td>2.880980e+04</td>\n      <td>705.052454</td>\n      <td>0.000000</td>\n      <td>0</td>\n      <td>0.000000e+00</td>\n      <td>0.0</td>\n      <td>0.000000</td>\n      <td>1</td>\n      <td>2.880980e+04</td>\n      <td>705.052454</td>\n      <td>0.000000</td>\n      <td>2023-12-30 21:00:00</td>\n    </tr>\n    <tr>\n      <th>...</th>\n      <td>...</td>\n      <td>...</td>\n      <td>...</td>\n      <td>...</td>\n      <td>...</td>\n      <td>...</td>\n      <td>...</td>\n      <td>...</td>\n      <td>...</td>\n      <td>...</td>\n      <td>...</td>\n      <td>...</td>\n      <td>...</td>\n      <td>...</td>\n      <td>...</td>\n      <td>...</td>\n    </tr>\n    <tr>\n      <th>19995</th>\n      <td>UAGx2cENmgKCckpGGPfKEvUsGkNbm9Sc6SGmVsx9iZWeek...</td>\n      <td>2QrtFPkSHxJFriLTLsYtfkYKAwyVau33mi6Pz7hzCU6p</td>\n      <td>2023-12-27 19:52:26</td>\n      <td>1</td>\n      <td>1.366299e+06</td>\n      <td>0.000000</td>\n      <td>0.014496</td>\n      <td>1</td>\n      <td>1.366299e+06</td>\n      <td>0.0</td>\n      <td>0.014496</td>\n      <td>0</td>\n      <td>0.000000e+00</td>\n      <td>0.000000</td>\n      <td>0.000000</td>\n      <td>2023-12-27 19:00:00</td>\n    </tr>\n    <tr>\n      <th>19996</th>\n      <td>5anPrrYzXEHeaYj4DD8wWQx9AZ51Ys3JLLBybiqhky9nNh...</td>\n      <td>22RTbo37y3NrdcgRotRNSnqGa6wLPaDh99cPXuw7X6zF</td>\n      <td>2023-12-27 19:51:58</td>\n      <td>1</td>\n      <td>4.850748e+07</td>\n      <td>0.000000</td>\n      <td>0.240007</td>\n      <td>0</td>\n      <td>0.000000e+00</td>\n      <td>0.0</td>\n      <td>0.000000</td>\n      <td>1</td>\n      <td>4.850748e+07</td>\n      <td>0.000000</td>\n      <td>0.240007</td>\n      <td>2023-12-27 19:00:00</td>\n    </tr>\n    <tr>\n      <th>19997</th>\n      <td>SXNrC1oMXNaUc6D49sQppyS7JEif14NqEhLFLm1SRUPSfm...</td>\n      <td>3de2yRhtD4VbJBb8EQAQffYMPLU4EnSHT1eveBwiL3tn</td>\n      <td>2023-12-27 19:51:56</td>\n      <td>1</td>\n      <td>3.062915e+06</td>\n      <td>0.000000</td>\n      <td>0.925850</td>\n      <td>1</td>\n      <td>3.062915e+06</td>\n      <td>0.0</td>\n      <td>0.925850</td>\n      <td>0</td>\n      <td>0.000000e+00</td>\n      <td>0.000000</td>\n      <td>0.000000</td>\n      <td>2023-12-27 19:00:00</td>\n    </tr>\n    <tr>\n      <th>19998</th>\n      <td>5y9q9vaZaNR6Bgo8Et8FCsThMn3Qo6gapi7QJf3SBE3EkH...</td>\n      <td>F9TBTkUELa39d8mpVvJDdcE7VrAcEGgzqBy5xoregCke</td>\n      <td>2023-12-27 19:51:39</td>\n      <td>1</td>\n      <td>1.355083e+00</td>\n      <td>0.000000</td>\n      <td>0.020145</td>\n      <td>0</td>\n      <td>0.000000e+00</td>\n      <td>0.0</td>\n      <td>0.000000</td>\n      <td>1</td>\n      <td>1.355083e+00</td>\n      <td>0.000000</td>\n      <td>0.020145</td>\n      <td>2023-12-27 19:00:00</td>\n    </tr>\n    <tr>\n      <th>19999</th>\n      <td>E4xAhbVdpxDJX131dDRPHK4GBSEWqADt4m4ygRWqNtQUrs...</td>\n      <td>99ouK5YUK3JPGCPX9joNtHsMU7NPpU7w91JN4kdQ97po</td>\n      <td>2023-12-27 19:51:16</td>\n      <td>1</td>\n      <td>9.287326e+02</td>\n      <td>0.000000</td>\n      <td>0.050705</td>\n      <td>0</td>\n      <td>0.000000e+00</td>\n      <td>0.0</td>\n      <td>0.000000</td>\n      <td>1</td>\n      <td>9.287326e+02</td>\n      <td>0.000000</td>\n      <td>0.050705</td>\n      <td>2023-12-27 19:00:00</td>\n    </tr>\n  </tbody>\n</table>\n<p>20000 rows × 16 columns</p>\n</div>"
     },
     "execution_count": 52,
     "metadata": {},
     "output_type": "execute_result"
    }
   ],
   "source": [
    "import os\n",
    "import psycopg2\n",
    "import pandas as pd\n",
    "from dotenv import load_dotenv\n",
    "\n",
    "load_dotenv()\n",
    "\n",
    "conn = psycopg2.connect(os.getenv('DATABASE_URL'))\n",
    "\n",
    "# Open a cursor to perform database operations\n",
    "cur = conn.cursor()\n",
    "\n",
    "# Execute a query\n",
    "cur.execute(\"\"\"\n",
    "SELECT *, date_trunc('hour', timestamp) as hour FROM trades\n",
    "order by timestamp desc\n",
    "limit 20000\n",
    "\"\"\")\n",
    "\n",
    "# Retrieve query results\n",
    "records = cur.fetchall()\n",
    "\n",
    "# Convert to pandas DataFrame\n",
    "df = pd.DataFrame(records, columns=[desc[0] for desc in cur.description])\n",
    "\n",
    "# Close communication with the database\n",
    "cur.close()\n",
    "conn.close()\n",
    "\n",
    "df"
   ]
  },
  {
   "cell_type": "code",
   "execution_count": 53,
   "outputs": [
    {
     "data": {
      "text/plain": "array(['6ub6VznqxaVozbQdiGYvLcJfmQKBf5LHXX7vzJJWQFhd2023-12-30 21:00:00',\n       'DVzrCErBzydh92bBzSJX1dKwVvb4omwhrvNz8CwRyxxV2023-12-30 21:00:00',\n       'EKCW975DWdt1roK1NVQDf4QGfaGTcQPU5tFD1DMcMe9Q2023-12-30 21:00:00',\n       ...,\n       'DezXAZ8z7PnrnRJjz3wXBoRgixCa6xjnB7YaB1pPB2632023-12-27 19:00:00',\n       'EKpQGSJtjMFqKZ9KQanSqYXRcF8fBopzLHYxdM65zcjm2023-12-27 19:00:00',\n       'Saber2gLauYim4Mvftnrasomsv6NvAuncvMEZwcLpD12023-12-27 19:00:00'],\n      dtype=object)"
     },
     "execution_count": 53,
     "metadata": {},
     "output_type": "execute_result"
    }
   ],
   "source": [
    "# all uniq pairs of mint and hour\n",
    "df['mint_hour'] = df['mint'] + df['hour'].astype(str)\n",
    "df['mint_hour'].unique()"
   ],
   "metadata": {
    "collapsed": false,
    "ExecuteTime": {
     "end_time": "2023-12-30T21:31:34.454487Z",
     "start_time": "2023-12-30T21:31:34.416467Z"
    }
   },
   "id": "52ce501fdc30d10"
  },
  {
   "cell_type": "code",
   "execution_count": 54,
   "outputs": [
    {
     "data": {
      "text/plain": "                                               signature  \\\n0      3X66ureoMYyQPZVocLqs7fiXZzmuDvDJeCHE8zSiJHtwEw...   \n2      nGTKFzLwqBPkgWXeSJ2rXZc3kWadBPv99DDvPMv7HsbGG4...   \n3      4RQTgJ7rTfKnZmaVzyDt3Y6N7xU5Yfz78358X4oDQC5ALG...   \n6      4Uc6GHw4Azy78vWpPap4JKwS77MYVLKHiQ7t6eswQuHZbK...   \n7      5cxFLa3T8u6qKiq1qh4Qqtsjbm6DYwmMLMKgFqmV6uuw7p...   \n...                                                  ...   \n19995  UAGx2cENmgKCckpGGPfKEvUsGkNbm9Sc6SGmVsx9iZWeek...   \n19996  5anPrrYzXEHeaYj4DD8wWQx9AZ51Ys3JLLBybiqhky9nNh...   \n19997  SXNrC1oMXNaUc6D49sQppyS7JEif14NqEhLFLm1SRUPSfm...   \n19998  5y9q9vaZaNR6Bgo8Et8FCsThMn3Qo6gapi7QJf3SBE3EkH...   \n19999  E4xAhbVdpxDJX131dDRPHK4GBSEWqADt4m4ygRWqNtQUrs...   \n\n                                               mint           timestamp  \\\n0      6ub6VznqxaVozbQdiGYvLcJfmQKBf5LHXX7vzJJWQFhd 2023-12-30 21:30:11   \n2      DVzrCErBzydh92bBzSJX1dKwVvb4omwhrvNz8CwRyxxV 2023-12-30 21:29:59   \n3      EKCW975DWdt1roK1NVQDf4QGfaGTcQPU5tFD1DMcMe9Q 2023-12-30 21:29:27   \n6      7kbnvuGBxxj8AG9qp8Scn56muWGaRaFqxg1FsRp3PaFT 2023-12-30 21:28:09   \n7      FaxYQ3LVXP51rDP2yWGLWVrFAAHeSdFF8SGZxwj2dvor 2023-12-30 21:28:09   \n...                                             ...                 ...   \n19995  2QrtFPkSHxJFriLTLsYtfkYKAwyVau33mi6Pz7hzCU6p 2023-12-27 19:52:26   \n19996  22RTbo37y3NrdcgRotRNSnqGa6wLPaDh99cPXuw7X6zF 2023-12-27 19:51:58   \n19997  3de2yRhtD4VbJBb8EQAQffYMPLU4EnSHT1eveBwiL3tn 2023-12-27 19:51:56   \n19998  F9TBTkUELa39d8mpVvJDdcE7VrAcEGgzqBy5xoregCke 2023-12-27 19:51:39   \n19999  99ouK5YUK3JPGCPX9joNtHsMU7NPpU7w91JN4kdQ97po 2023-12-27 19:51:16   \n\n       trades  token_volume  usd_volume  sol_volume  sells   token_spent  \\\n0           1  3.674537e+06         0.0    0.073733      1  3.674537e+06   \n2           1  1.991313e+04         0.0    0.261612      1  1.991313e+04   \n3           1  6.955774e+08         0.0    5.000009      0  0.000000e+00   \n6           1  1.236044e+00         0.0    0.012008      0  0.000000e+00   \n7           1  3.657000e+04         0.0    1.394033      1  3.657000e+04   \n...       ...           ...         ...         ...    ...           ...   \n19995       1  1.366299e+06         0.0    0.014496      1  1.366299e+06   \n19996       1  4.850748e+07         0.0    0.240007      0  0.000000e+00   \n19997       1  3.062915e+06         0.0    0.925850      1  3.062915e+06   \n19998       1  1.355083e+00         0.0    0.020145      0  0.000000e+00   \n19999       1  9.287326e+02         0.0    0.050705      0  0.000000e+00   \n\n       usd_got   sol_got  purchases     token_got  usd_spent  sol_spent  \\\n0          0.0  0.073733          0  0.000000e+00        0.0   0.000000   \n2          0.0  0.261612          0  0.000000e+00        0.0   0.000000   \n3          0.0  0.000000          1  6.955774e+08        0.0   5.000009   \n6          0.0  0.000000          1  1.236044e+00        0.0   0.012008   \n7          0.0  1.394033          0  0.000000e+00        0.0   0.000000   \n...        ...       ...        ...           ...        ...        ...   \n19995      0.0  0.014496          0  0.000000e+00        0.0   0.000000   \n19996      0.0  0.000000          1  4.850748e+07        0.0   0.240007   \n19997      0.0  0.925850          0  0.000000e+00        0.0   0.000000   \n19998      0.0  0.000000          1  1.355083e+00        0.0   0.020145   \n19999      0.0  0.000000          1  9.287326e+02        0.0   0.050705   \n\n                     hour                                          mint_hour  \n0     2023-12-30 21:00:00  6ub6VznqxaVozbQdiGYvLcJfmQKBf5LHXX7vzJJWQFhd20...  \n2     2023-12-30 21:00:00  DVzrCErBzydh92bBzSJX1dKwVvb4omwhrvNz8CwRyxxV20...  \n3     2023-12-30 21:00:00  EKCW975DWdt1roK1NVQDf4QGfaGTcQPU5tFD1DMcMe9Q20...  \n6     2023-12-30 21:00:00  7kbnvuGBxxj8AG9qp8Scn56muWGaRaFqxg1FsRp3PaFT20...  \n7     2023-12-30 21:00:00  FaxYQ3LVXP51rDP2yWGLWVrFAAHeSdFF8SGZxwj2dvor20...  \n...                   ...                                                ...  \n19995 2023-12-27 19:00:00  2QrtFPkSHxJFriLTLsYtfkYKAwyVau33mi6Pz7hzCU6p20...  \n19996 2023-12-27 19:00:00  22RTbo37y3NrdcgRotRNSnqGa6wLPaDh99cPXuw7X6zF20...  \n19997 2023-12-27 19:00:00  3de2yRhtD4VbJBb8EQAQffYMPLU4EnSHT1eveBwiL3tn20...  \n19998 2023-12-27 19:00:00  F9TBTkUELa39d8mpVvJDdcE7VrAcEGgzqBy5xoregCke20...  \n19999 2023-12-27 19:00:00  99ouK5YUK3JPGCPX9joNtHsMU7NPpU7w91JN4kdQ97po20...  \n\n[11034 rows x 17 columns]",
      "text/html": "<div>\n<style scoped>\n    .dataframe tbody tr th:only-of-type {\n        vertical-align: middle;\n    }\n\n    .dataframe tbody tr th {\n        vertical-align: top;\n    }\n\n    .dataframe thead th {\n        text-align: right;\n    }\n</style>\n<table border=\"1\" class=\"dataframe\">\n  <thead>\n    <tr style=\"text-align: right;\">\n      <th></th>\n      <th>signature</th>\n      <th>mint</th>\n      <th>timestamp</th>\n      <th>trades</th>\n      <th>token_volume</th>\n      <th>usd_volume</th>\n      <th>sol_volume</th>\n      <th>sells</th>\n      <th>token_spent</th>\n      <th>usd_got</th>\n      <th>sol_got</th>\n      <th>purchases</th>\n      <th>token_got</th>\n      <th>usd_spent</th>\n      <th>sol_spent</th>\n      <th>hour</th>\n      <th>mint_hour</th>\n    </tr>\n  </thead>\n  <tbody>\n    <tr>\n      <th>0</th>\n      <td>3X66ureoMYyQPZVocLqs7fiXZzmuDvDJeCHE8zSiJHtwEw...</td>\n      <td>6ub6VznqxaVozbQdiGYvLcJfmQKBf5LHXX7vzJJWQFhd</td>\n      <td>2023-12-30 21:30:11</td>\n      <td>1</td>\n      <td>3.674537e+06</td>\n      <td>0.0</td>\n      <td>0.073733</td>\n      <td>1</td>\n      <td>3.674537e+06</td>\n      <td>0.0</td>\n      <td>0.073733</td>\n      <td>0</td>\n      <td>0.000000e+00</td>\n      <td>0.0</td>\n      <td>0.000000</td>\n      <td>2023-12-30 21:00:00</td>\n      <td>6ub6VznqxaVozbQdiGYvLcJfmQKBf5LHXX7vzJJWQFhd20...</td>\n    </tr>\n    <tr>\n      <th>2</th>\n      <td>nGTKFzLwqBPkgWXeSJ2rXZc3kWadBPv99DDvPMv7HsbGG4...</td>\n      <td>DVzrCErBzydh92bBzSJX1dKwVvb4omwhrvNz8CwRyxxV</td>\n      <td>2023-12-30 21:29:59</td>\n      <td>1</td>\n      <td>1.991313e+04</td>\n      <td>0.0</td>\n      <td>0.261612</td>\n      <td>1</td>\n      <td>1.991313e+04</td>\n      <td>0.0</td>\n      <td>0.261612</td>\n      <td>0</td>\n      <td>0.000000e+00</td>\n      <td>0.0</td>\n      <td>0.000000</td>\n      <td>2023-12-30 21:00:00</td>\n      <td>DVzrCErBzydh92bBzSJX1dKwVvb4omwhrvNz8CwRyxxV20...</td>\n    </tr>\n    <tr>\n      <th>3</th>\n      <td>4RQTgJ7rTfKnZmaVzyDt3Y6N7xU5Yfz78358X4oDQC5ALG...</td>\n      <td>EKCW975DWdt1roK1NVQDf4QGfaGTcQPU5tFD1DMcMe9Q</td>\n      <td>2023-12-30 21:29:27</td>\n      <td>1</td>\n      <td>6.955774e+08</td>\n      <td>0.0</td>\n      <td>5.000009</td>\n      <td>0</td>\n      <td>0.000000e+00</td>\n      <td>0.0</td>\n      <td>0.000000</td>\n      <td>1</td>\n      <td>6.955774e+08</td>\n      <td>0.0</td>\n      <td>5.000009</td>\n      <td>2023-12-30 21:00:00</td>\n      <td>EKCW975DWdt1roK1NVQDf4QGfaGTcQPU5tFD1DMcMe9Q20...</td>\n    </tr>\n    <tr>\n      <th>6</th>\n      <td>4Uc6GHw4Azy78vWpPap4JKwS77MYVLKHiQ7t6eswQuHZbK...</td>\n      <td>7kbnvuGBxxj8AG9qp8Scn56muWGaRaFqxg1FsRp3PaFT</td>\n      <td>2023-12-30 21:28:09</td>\n      <td>1</td>\n      <td>1.236044e+00</td>\n      <td>0.0</td>\n      <td>0.012008</td>\n      <td>0</td>\n      <td>0.000000e+00</td>\n      <td>0.0</td>\n      <td>0.000000</td>\n      <td>1</td>\n      <td>1.236044e+00</td>\n      <td>0.0</td>\n      <td>0.012008</td>\n      <td>2023-12-30 21:00:00</td>\n      <td>7kbnvuGBxxj8AG9qp8Scn56muWGaRaFqxg1FsRp3PaFT20...</td>\n    </tr>\n    <tr>\n      <th>7</th>\n      <td>5cxFLa3T8u6qKiq1qh4Qqtsjbm6DYwmMLMKgFqmV6uuw7p...</td>\n      <td>FaxYQ3LVXP51rDP2yWGLWVrFAAHeSdFF8SGZxwj2dvor</td>\n      <td>2023-12-30 21:28:09</td>\n      <td>1</td>\n      <td>3.657000e+04</td>\n      <td>0.0</td>\n      <td>1.394033</td>\n      <td>1</td>\n      <td>3.657000e+04</td>\n      <td>0.0</td>\n      <td>1.394033</td>\n      <td>0</td>\n      <td>0.000000e+00</td>\n      <td>0.0</td>\n      <td>0.000000</td>\n      <td>2023-12-30 21:00:00</td>\n      <td>FaxYQ3LVXP51rDP2yWGLWVrFAAHeSdFF8SGZxwj2dvor20...</td>\n    </tr>\n    <tr>\n      <th>...</th>\n      <td>...</td>\n      <td>...</td>\n      <td>...</td>\n      <td>...</td>\n      <td>...</td>\n      <td>...</td>\n      <td>...</td>\n      <td>...</td>\n      <td>...</td>\n      <td>...</td>\n      <td>...</td>\n      <td>...</td>\n      <td>...</td>\n      <td>...</td>\n      <td>...</td>\n      <td>...</td>\n      <td>...</td>\n    </tr>\n    <tr>\n      <th>19995</th>\n      <td>UAGx2cENmgKCckpGGPfKEvUsGkNbm9Sc6SGmVsx9iZWeek...</td>\n      <td>2QrtFPkSHxJFriLTLsYtfkYKAwyVau33mi6Pz7hzCU6p</td>\n      <td>2023-12-27 19:52:26</td>\n      <td>1</td>\n      <td>1.366299e+06</td>\n      <td>0.0</td>\n      <td>0.014496</td>\n      <td>1</td>\n      <td>1.366299e+06</td>\n      <td>0.0</td>\n      <td>0.014496</td>\n      <td>0</td>\n      <td>0.000000e+00</td>\n      <td>0.0</td>\n      <td>0.000000</td>\n      <td>2023-12-27 19:00:00</td>\n      <td>2QrtFPkSHxJFriLTLsYtfkYKAwyVau33mi6Pz7hzCU6p20...</td>\n    </tr>\n    <tr>\n      <th>19996</th>\n      <td>5anPrrYzXEHeaYj4DD8wWQx9AZ51Ys3JLLBybiqhky9nNh...</td>\n      <td>22RTbo37y3NrdcgRotRNSnqGa6wLPaDh99cPXuw7X6zF</td>\n      <td>2023-12-27 19:51:58</td>\n      <td>1</td>\n      <td>4.850748e+07</td>\n      <td>0.0</td>\n      <td>0.240007</td>\n      <td>0</td>\n      <td>0.000000e+00</td>\n      <td>0.0</td>\n      <td>0.000000</td>\n      <td>1</td>\n      <td>4.850748e+07</td>\n      <td>0.0</td>\n      <td>0.240007</td>\n      <td>2023-12-27 19:00:00</td>\n      <td>22RTbo37y3NrdcgRotRNSnqGa6wLPaDh99cPXuw7X6zF20...</td>\n    </tr>\n    <tr>\n      <th>19997</th>\n      <td>SXNrC1oMXNaUc6D49sQppyS7JEif14NqEhLFLm1SRUPSfm...</td>\n      <td>3de2yRhtD4VbJBb8EQAQffYMPLU4EnSHT1eveBwiL3tn</td>\n      <td>2023-12-27 19:51:56</td>\n      <td>1</td>\n      <td>3.062915e+06</td>\n      <td>0.0</td>\n      <td>0.925850</td>\n      <td>1</td>\n      <td>3.062915e+06</td>\n      <td>0.0</td>\n      <td>0.925850</td>\n      <td>0</td>\n      <td>0.000000e+00</td>\n      <td>0.0</td>\n      <td>0.000000</td>\n      <td>2023-12-27 19:00:00</td>\n      <td>3de2yRhtD4VbJBb8EQAQffYMPLU4EnSHT1eveBwiL3tn20...</td>\n    </tr>\n    <tr>\n      <th>19998</th>\n      <td>5y9q9vaZaNR6Bgo8Et8FCsThMn3Qo6gapi7QJf3SBE3EkH...</td>\n      <td>F9TBTkUELa39d8mpVvJDdcE7VrAcEGgzqBy5xoregCke</td>\n      <td>2023-12-27 19:51:39</td>\n      <td>1</td>\n      <td>1.355083e+00</td>\n      <td>0.0</td>\n      <td>0.020145</td>\n      <td>0</td>\n      <td>0.000000e+00</td>\n      <td>0.0</td>\n      <td>0.000000</td>\n      <td>1</td>\n      <td>1.355083e+00</td>\n      <td>0.0</td>\n      <td>0.020145</td>\n      <td>2023-12-27 19:00:00</td>\n      <td>F9TBTkUELa39d8mpVvJDdcE7VrAcEGgzqBy5xoregCke20...</td>\n    </tr>\n    <tr>\n      <th>19999</th>\n      <td>E4xAhbVdpxDJX131dDRPHK4GBSEWqADt4m4ygRWqNtQUrs...</td>\n      <td>99ouK5YUK3JPGCPX9joNtHsMU7NPpU7w91JN4kdQ97po</td>\n      <td>2023-12-27 19:51:16</td>\n      <td>1</td>\n      <td>9.287326e+02</td>\n      <td>0.0</td>\n      <td>0.050705</td>\n      <td>0</td>\n      <td>0.000000e+00</td>\n      <td>0.0</td>\n      <td>0.000000</td>\n      <td>1</td>\n      <td>9.287326e+02</td>\n      <td>0.0</td>\n      <td>0.050705</td>\n      <td>2023-12-27 19:00:00</td>\n      <td>99ouK5YUK3JPGCPX9joNtHsMU7NPpU7w91JN4kdQ97po20...</td>\n    </tr>\n  </tbody>\n</table>\n<p>11034 rows × 17 columns</p>\n</div>"
     },
     "execution_count": 54,
     "metadata": {},
     "output_type": "execute_result"
    }
   ],
   "source": [
    "# Removing rows where both usd_volume and sol_volume are 0\n",
    "df = df[~((df['usd_volume'] == 0) & (df['sol_volume'] == 0))]\n",
    "threashold_sol = 0.01\n",
    "df_sol = df[(df['sol_volume'] > threashold_sol)]\n",
    "df_sol"
   ],
   "metadata": {
    "collapsed": false,
    "ExecuteTime": {
     "end_time": "2023-12-30T21:31:35.817745Z",
     "start_time": "2023-12-30T21:31:35.781984Z"
    }
   }
  },
  {
   "cell_type": "code",
   "execution_count": 59,
   "outputs": [
    {
     "data": {
      "text/plain": "                                                                           timestamp  \\\nmint                                         hour                                      \n12AjTG16m3oWzjVy2kP2C1bUEzZv8PayQDM9csRR1obM 2023-12-27 21:00:00 2023-12-27 21:40:58   \n                                             2023-12-28 00:00:00 2023-12-28 00:26:21   \n                                             2023-12-28 04:00:00 2023-12-28 04:05:07   \n                                             2023-12-28 11:00:00 2023-12-28 11:53:55   \n                                             2023-12-28 12:00:00 2023-12-28 12:41:00   \n...                                                                              ...   \nzAaZYjcakDKqAm9rsxR2BjCqYLVjnPHW5oK4xtZdL8L  2023-12-28 03:00:00 2023-12-28 03:37:54   \n                                             2023-12-28 04:00:00 2023-12-28 04:00:17   \nzNziqUmrdQchP8C7CZkukrJXL9kWu8XsSbAzcAB45KM  2023-12-29 08:00:00 2023-12-29 08:42:56   \nzebeczgi5fSEtbpfQKVZKCJ3WgYXxjkMUkNNx7fLKAF  2023-12-28 02:00:00 2023-12-28 02:38:24   \n                                             2023-12-29 12:00:00 2023-12-29 12:54:41   \n\n                                                                  trades  \\\nmint                                         hour                          \n12AjTG16m3oWzjVy2kP2C1bUEzZv8PayQDM9csRR1obM 2023-12-27 21:00:00     1.0   \n                                             2023-12-28 00:00:00     1.0   \n                                             2023-12-28 04:00:00     1.0   \n                                             2023-12-28 11:00:00     1.0   \n                                             2023-12-28 12:00:00     1.0   \n...                                                                  ...   \nzAaZYjcakDKqAm9rsxR2BjCqYLVjnPHW5oK4xtZdL8L  2023-12-28 03:00:00     1.0   \n                                             2023-12-28 04:00:00     1.0   \nzNziqUmrdQchP8C7CZkukrJXL9kWu8XsSbAzcAB45KM  2023-12-29 08:00:00     1.0   \nzebeczgi5fSEtbpfQKVZKCJ3WgYXxjkMUkNNx7fLKAF  2023-12-28 02:00:00     1.0   \n                                             2023-12-29 12:00:00     1.0   \n\n                                                                  token_volume  \\\nmint                                         hour                                \n12AjTG16m3oWzjVy2kP2C1bUEzZv8PayQDM9csRR1obM 2023-12-27 21:00:00  1.471510e+10   \n                                             2023-12-28 00:00:00  3.294886e+10   \n                                             2023-12-28 04:00:00  3.907064e+10   \n                                             2023-12-28 11:00:00  4.287068e+09   \n                                             2023-12-28 12:00:00  1.199266e+11   \n...                                                                        ...   \nzAaZYjcakDKqAm9rsxR2BjCqYLVjnPHW5oK4xtZdL8L  2023-12-28 03:00:00  2.657380e+03   \n                                             2023-12-28 04:00:00  1.454696e+04   \nzNziqUmrdQchP8C7CZkukrJXL9kWu8XsSbAzcAB45KM  2023-12-29 08:00:00  6.946423e+05   \nzebeczgi5fSEtbpfQKVZKCJ3WgYXxjkMUkNNx7fLKAF  2023-12-28 02:00:00  2.009042e+02   \n                                             2023-12-29 12:00:00  3.000000e+04   \n\n                                                                  sol_volume  \\\nmint                                         hour                              \n12AjTG16m3oWzjVy2kP2C1bUEzZv8PayQDM9csRR1obM 2023-12-27 21:00:00    0.249302   \n                                             2023-12-28 00:00:00    0.500145   \n                                             2023-12-28 04:00:00    0.514537   \n                                             2023-12-28 11:00:00    0.060007   \n                                             2023-12-28 12:00:00    1.500145   \n...                                                                      ...   \nzAaZYjcakDKqAm9rsxR2BjCqYLVjnPHW5oK4xtZdL8L  2023-12-28 03:00:00    0.351013   \n                                             2023-12-28 04:00:00    1.000007   \nzNziqUmrdQchP8C7CZkukrJXL9kWu8XsSbAzcAB45KM  2023-12-29 08:00:00    0.016153   \nzebeczgi5fSEtbpfQKVZKCJ3WgYXxjkMUkNNx7fLKAF  2023-12-28 02:00:00    0.016672   \n                                             2023-12-29 12:00:00    2.378402   \n\n                                                                  sells  \\\nmint                                         hour                         \n12AjTG16m3oWzjVy2kP2C1bUEzZv8PayQDM9csRR1obM 2023-12-27 21:00:00    1.0   \n                                             2023-12-28 00:00:00    0.0   \n                                             2023-12-28 04:00:00    1.0   \n                                             2023-12-28 11:00:00    0.0   \n                                             2023-12-28 12:00:00    0.0   \n...                                                                 ...   \nzAaZYjcakDKqAm9rsxR2BjCqYLVjnPHW5oK4xtZdL8L  2023-12-28 03:00:00    1.0   \n                                             2023-12-28 04:00:00    0.0   \nzNziqUmrdQchP8C7CZkukrJXL9kWu8XsSbAzcAB45KM  2023-12-29 08:00:00    1.0   \nzebeczgi5fSEtbpfQKVZKCJ3WgYXxjkMUkNNx7fLKAF  2023-12-28 02:00:00    1.0   \n                                             2023-12-29 12:00:00    1.0   \n\n                                                                   token_spent  \\\nmint                                         hour                                \n12AjTG16m3oWzjVy2kP2C1bUEzZv8PayQDM9csRR1obM 2023-12-27 21:00:00  1.471510e+10   \n                                             2023-12-28 00:00:00  0.000000e+00   \n                                             2023-12-28 04:00:00  3.907064e+10   \n                                             2023-12-28 11:00:00  0.000000e+00   \n                                             2023-12-28 12:00:00  0.000000e+00   \n...                                                                        ...   \nzAaZYjcakDKqAm9rsxR2BjCqYLVjnPHW5oK4xtZdL8L  2023-12-28 03:00:00  2.657380e+03   \n                                             2023-12-28 04:00:00  0.000000e+00   \nzNziqUmrdQchP8C7CZkukrJXL9kWu8XsSbAzcAB45KM  2023-12-29 08:00:00  6.946423e+05   \nzebeczgi5fSEtbpfQKVZKCJ3WgYXxjkMUkNNx7fLKAF  2023-12-28 02:00:00  2.009042e+02   \n                                             2023-12-29 12:00:00  3.000000e+04   \n\n                                                                   sol_got  \\\nmint                                         hour                            \n12AjTG16m3oWzjVy2kP2C1bUEzZv8PayQDM9csRR1obM 2023-12-27 21:00:00  0.249302   \n                                             2023-12-28 00:00:00  0.000000   \n                                             2023-12-28 04:00:00  0.514537   \n                                             2023-12-28 11:00:00  0.000000   \n                                             2023-12-28 12:00:00  0.000000   \n...                                                                    ...   \nzAaZYjcakDKqAm9rsxR2BjCqYLVjnPHW5oK4xtZdL8L  2023-12-28 03:00:00  0.351013   \n                                             2023-12-28 04:00:00  0.000000   \nzNziqUmrdQchP8C7CZkukrJXL9kWu8XsSbAzcAB45KM  2023-12-29 08:00:00  0.016153   \nzebeczgi5fSEtbpfQKVZKCJ3WgYXxjkMUkNNx7fLKAF  2023-12-28 02:00:00  0.016672   \n                                             2023-12-29 12:00:00  2.378402   \n\n                                                                  purchases  \\\nmint                                         hour                             \n12AjTG16m3oWzjVy2kP2C1bUEzZv8PayQDM9csRR1obM 2023-12-27 21:00:00        0.0   \n                                             2023-12-28 00:00:00        1.0   \n                                             2023-12-28 04:00:00        0.0   \n                                             2023-12-28 11:00:00        1.0   \n                                             2023-12-28 12:00:00        1.0   \n...                                                                     ...   \nzAaZYjcakDKqAm9rsxR2BjCqYLVjnPHW5oK4xtZdL8L  2023-12-28 03:00:00        0.0   \n                                             2023-12-28 04:00:00        1.0   \nzNziqUmrdQchP8C7CZkukrJXL9kWu8XsSbAzcAB45KM  2023-12-29 08:00:00        0.0   \nzebeczgi5fSEtbpfQKVZKCJ3WgYXxjkMUkNNx7fLKAF  2023-12-28 02:00:00        0.0   \n                                             2023-12-29 12:00:00        0.0   \n\n                                                                     token_got  \\\nmint                                         hour                                \n12AjTG16m3oWzjVy2kP2C1bUEzZv8PayQDM9csRR1obM 2023-12-27 21:00:00  0.000000e+00   \n                                             2023-12-28 00:00:00  3.294886e+10   \n                                             2023-12-28 04:00:00  0.000000e+00   \n                                             2023-12-28 11:00:00  4.287068e+09   \n                                             2023-12-28 12:00:00  1.199266e+11   \n...                                                                        ...   \nzAaZYjcakDKqAm9rsxR2BjCqYLVjnPHW5oK4xtZdL8L  2023-12-28 03:00:00  0.000000e+00   \n                                             2023-12-28 04:00:00  1.454696e+04   \nzNziqUmrdQchP8C7CZkukrJXL9kWu8XsSbAzcAB45KM  2023-12-29 08:00:00  0.000000e+00   \nzebeczgi5fSEtbpfQKVZKCJ3WgYXxjkMUkNNx7fLKAF  2023-12-28 02:00:00  0.000000e+00   \n                                             2023-12-29 12:00:00  0.000000e+00   \n\n                                                                  sol_spent  \nmint                                         hour                            \n12AjTG16m3oWzjVy2kP2C1bUEzZv8PayQDM9csRR1obM 2023-12-27 21:00:00   0.000000  \n                                             2023-12-28 00:00:00   0.500145  \n                                             2023-12-28 04:00:00   0.000000  \n                                             2023-12-28 11:00:00   0.060007  \n                                             2023-12-28 12:00:00   1.500145  \n...                                                                     ...  \nzAaZYjcakDKqAm9rsxR2BjCqYLVjnPHW5oK4xtZdL8L  2023-12-28 03:00:00   0.000000  \n                                             2023-12-28 04:00:00   1.000007  \nzNziqUmrdQchP8C7CZkukrJXL9kWu8XsSbAzcAB45KM  2023-12-29 08:00:00   0.000000  \nzebeczgi5fSEtbpfQKVZKCJ3WgYXxjkMUkNNx7fLKAF  2023-12-28 02:00:00   0.000000  \n                                             2023-12-29 12:00:00   0.000000  \n\n[5885 rows x 10 columns]",
      "text/html": "<div>\n<style scoped>\n    .dataframe tbody tr th:only-of-type {\n        vertical-align: middle;\n    }\n\n    .dataframe tbody tr th {\n        vertical-align: top;\n    }\n\n    .dataframe thead th {\n        text-align: right;\n    }\n</style>\n<table border=\"1\" class=\"dataframe\">\n  <thead>\n    <tr style=\"text-align: right;\">\n      <th></th>\n      <th></th>\n      <th>timestamp</th>\n      <th>trades</th>\n      <th>token_volume</th>\n      <th>sol_volume</th>\n      <th>sells</th>\n      <th>token_spent</th>\n      <th>sol_got</th>\n      <th>purchases</th>\n      <th>token_got</th>\n      <th>sol_spent</th>\n    </tr>\n    <tr>\n      <th>mint</th>\n      <th>hour</th>\n      <th></th>\n      <th></th>\n      <th></th>\n      <th></th>\n      <th></th>\n      <th></th>\n      <th></th>\n      <th></th>\n      <th></th>\n      <th></th>\n    </tr>\n  </thead>\n  <tbody>\n    <tr>\n      <th rowspan=\"5\" valign=\"top\">12AjTG16m3oWzjVy2kP2C1bUEzZv8PayQDM9csRR1obM</th>\n      <th>2023-12-27 21:00:00</th>\n      <td>2023-12-27 21:40:58</td>\n      <td>1.0</td>\n      <td>1.471510e+10</td>\n      <td>0.249302</td>\n      <td>1.0</td>\n      <td>1.471510e+10</td>\n      <td>0.249302</td>\n      <td>0.0</td>\n      <td>0.000000e+00</td>\n      <td>0.000000</td>\n    </tr>\n    <tr>\n      <th>2023-12-28 00:00:00</th>\n      <td>2023-12-28 00:26:21</td>\n      <td>1.0</td>\n      <td>3.294886e+10</td>\n      <td>0.500145</td>\n      <td>0.0</td>\n      <td>0.000000e+00</td>\n      <td>0.000000</td>\n      <td>1.0</td>\n      <td>3.294886e+10</td>\n      <td>0.500145</td>\n    </tr>\n    <tr>\n      <th>2023-12-28 04:00:00</th>\n      <td>2023-12-28 04:05:07</td>\n      <td>1.0</td>\n      <td>3.907064e+10</td>\n      <td>0.514537</td>\n      <td>1.0</td>\n      <td>3.907064e+10</td>\n      <td>0.514537</td>\n      <td>0.0</td>\n      <td>0.000000e+00</td>\n      <td>0.000000</td>\n    </tr>\n    <tr>\n      <th>2023-12-28 11:00:00</th>\n      <td>2023-12-28 11:53:55</td>\n      <td>1.0</td>\n      <td>4.287068e+09</td>\n      <td>0.060007</td>\n      <td>0.0</td>\n      <td>0.000000e+00</td>\n      <td>0.000000</td>\n      <td>1.0</td>\n      <td>4.287068e+09</td>\n      <td>0.060007</td>\n    </tr>\n    <tr>\n      <th>2023-12-28 12:00:00</th>\n      <td>2023-12-28 12:41:00</td>\n      <td>1.0</td>\n      <td>1.199266e+11</td>\n      <td>1.500145</td>\n      <td>0.0</td>\n      <td>0.000000e+00</td>\n      <td>0.000000</td>\n      <td>1.0</td>\n      <td>1.199266e+11</td>\n      <td>1.500145</td>\n    </tr>\n    <tr>\n      <th>...</th>\n      <th>...</th>\n      <td>...</td>\n      <td>...</td>\n      <td>...</td>\n      <td>...</td>\n      <td>...</td>\n      <td>...</td>\n      <td>...</td>\n      <td>...</td>\n      <td>...</td>\n      <td>...</td>\n    </tr>\n    <tr>\n      <th rowspan=\"2\" valign=\"top\">zAaZYjcakDKqAm9rsxR2BjCqYLVjnPHW5oK4xtZdL8L</th>\n      <th>2023-12-28 03:00:00</th>\n      <td>2023-12-28 03:37:54</td>\n      <td>1.0</td>\n      <td>2.657380e+03</td>\n      <td>0.351013</td>\n      <td>1.0</td>\n      <td>2.657380e+03</td>\n      <td>0.351013</td>\n      <td>0.0</td>\n      <td>0.000000e+00</td>\n      <td>0.000000</td>\n    </tr>\n    <tr>\n      <th>2023-12-28 04:00:00</th>\n      <td>2023-12-28 04:00:17</td>\n      <td>1.0</td>\n      <td>1.454696e+04</td>\n      <td>1.000007</td>\n      <td>0.0</td>\n      <td>0.000000e+00</td>\n      <td>0.000000</td>\n      <td>1.0</td>\n      <td>1.454696e+04</td>\n      <td>1.000007</td>\n    </tr>\n    <tr>\n      <th>zNziqUmrdQchP8C7CZkukrJXL9kWu8XsSbAzcAB45KM</th>\n      <th>2023-12-29 08:00:00</th>\n      <td>2023-12-29 08:42:56</td>\n      <td>1.0</td>\n      <td>6.946423e+05</td>\n      <td>0.016153</td>\n      <td>1.0</td>\n      <td>6.946423e+05</td>\n      <td>0.016153</td>\n      <td>0.0</td>\n      <td>0.000000e+00</td>\n      <td>0.000000</td>\n    </tr>\n    <tr>\n      <th rowspan=\"2\" valign=\"top\">zebeczgi5fSEtbpfQKVZKCJ3WgYXxjkMUkNNx7fLKAF</th>\n      <th>2023-12-28 02:00:00</th>\n      <td>2023-12-28 02:38:24</td>\n      <td>1.0</td>\n      <td>2.009042e+02</td>\n      <td>0.016672</td>\n      <td>1.0</td>\n      <td>2.009042e+02</td>\n      <td>0.016672</td>\n      <td>0.0</td>\n      <td>0.000000e+00</td>\n      <td>0.000000</td>\n    </tr>\n    <tr>\n      <th>2023-12-29 12:00:00</th>\n      <td>2023-12-29 12:54:41</td>\n      <td>1.0</td>\n      <td>3.000000e+04</td>\n      <td>2.378402</td>\n      <td>1.0</td>\n      <td>3.000000e+04</td>\n      <td>2.378402</td>\n      <td>0.0</td>\n      <td>0.000000e+00</td>\n      <td>0.000000</td>\n    </tr>\n  </tbody>\n</table>\n<p>5885 rows × 10 columns</p>\n</div>"
     },
     "execution_count": 59,
     "metadata": {},
     "output_type": "execute_result"
    }
   ],
   "source": [
    "df_sol_clean = df_sol.drop(['signature','mint_hour','usd_volume','usd_spent','usd_got'],axis=1)\n",
    "# for each unique pair of mint and hour calculate average token_volume\n",
    "df_grouped = df_sol_clean.groupby(['mint','hour']).mean()\n",
    "df_grouped"
   ],
   "metadata": {
    "collapsed": false,
    "ExecuteTime": {
     "end_time": "2023-12-30T21:34:51.919460Z",
     "start_time": "2023-12-30T21:34:51.891846Z"
    }
   }
  },
  {
   "cell_type": "code",
   "execution_count": 60,
   "outputs": [
    {
     "data": {
      "text/plain": "mint                                          hour               \n12AjTG16m3oWzjVy2kP2C1bUEzZv8PayQDM9csRR1obM  2023-12-27 21:00:00    5.902531e+10\n                                              2023-12-28 00:00:00    6.587861e+10\n                                              2023-12-28 04:00:00    7.593354e+10\n                                              2023-12-28 11:00:00    7.144315e+10\n                                              2023-12-28 12:00:00    7.994331e+10\n                                                                         ...     \nzAaZYjcakDKqAm9rsxR2BjCqYLVjnPHW5oK4xtZdL8L   2023-12-28 03:00:00    7.570610e+03\n                                              2023-12-28 04:00:00    1.454686e+04\nzNziqUmrdQchP8C7CZkukrJXL9kWu8XsSbAzcAB45KM   2023-12-29 08:00:00    4.300310e+07\nzebeczgi5fSEtbpfQKVZKCJ3WgYXxjkMUkNNx7fLKAF   2023-12-28 02:00:00    1.205022e+04\n                                              2023-12-29 12:00:00    1.261351e+04\nLength: 5885, dtype: float64"
     },
     "execution_count": 60,
     "metadata": {},
     "output_type": "execute_result"
    }
   ],
   "source": [
    "token_avg_price_sol = df_grouped['token_volume'] / df_grouped['sol_volume']\n",
    "token_avg_price_sol"
   ],
   "metadata": {
    "collapsed": false,
    "ExecuteTime": {
     "end_time": "2023-12-30T21:37:26.218264Z",
     "start_time": "2023-12-30T21:37:26.211330Z"
    }
   },
   "id": "71fd6326d43d7b41"
  },
  {
   "cell_type": "code",
   "execution_count": 79,
   "outputs": [
    {
     "ename": "ModuleNotFoundError",
     "evalue": "No module named 'matplotlib'",
     "output_type": "error",
     "traceback": [
      "\u001B[0;31m---------------------------------------------------------------------------\u001B[0m",
      "\u001B[0;31mModuleNotFoundError\u001B[0m                       Traceback (most recent call last)",
      "Cell \u001B[0;32mIn[79], line 3\u001B[0m\n\u001B[1;32m      1\u001B[0m \u001B[38;5;66;03m# time gap between trades in hours\u001B[39;00m\n\u001B[1;32m      2\u001B[0m token_avg_price_sol[\u001B[38;5;124m'\u001B[39m\u001B[38;5;124m12AjTG16m3oWzjVy2kP2C1bUEzZv8PayQDM9csRR1obM\u001B[39m\u001B[38;5;124m'\u001B[39m,:]\u001B[38;5;241m.\u001B[39mindex\u001B[38;5;241m.\u001B[39mto_series()\u001B[38;5;241m.\u001B[39mdiff()\u001B[38;5;241m.\u001B[39mdt\u001B[38;5;241m.\u001B[39mtotal_seconds() \u001B[38;5;241m/\u001B[39m \u001B[38;5;241m3600\u001B[39m\n\u001B[0;32m----> 3\u001B[0m \u001B[38;5;28;01mimport\u001B[39;00m \u001B[38;5;21;01mmatplotlib\u001B[39;00m\u001B[38;5;21;01m.\u001B[39;00m\u001B[38;5;21;01mpyplot\u001B[39;00m \u001B[38;5;28;01mas\u001B[39;00m \u001B[38;5;21;01mplt\u001B[39;00m\n\u001B[1;32m      4\u001B[0m token_avg_price_sol\u001B[38;5;241m.\u001B[39mplot()\n",
      "\u001B[0;31mModuleNotFoundError\u001B[0m: No module named 'matplotlib'"
     ]
    }
   ],
   "source": [
    "# time gap between trades in hours\n",
    "token_avg_price_sol['12AjTG16m3oWzjVy2kP2C1bUEzZv8PayQDM9csRR1obM',:].index.to_series().diff().dt.total_seconds() / 3600\n",
    "\n",
    "token_avg_price_sol.plot()\n",
    "\n"
   ],
   "metadata": {
    "collapsed": false,
    "ExecuteTime": {
     "end_time": "2023-12-30T21:49:55.899197Z",
     "start_time": "2023-12-30T21:49:55.880937Z"
    }
   }
  },
  {
   "cell_type": "code",
   "execution_count": null,
   "outputs": [],
   "source": [],
   "metadata": {
    "collapsed": false
   }
  }
 ],
 "metadata": {
  "kernelspec": {
   "display_name": "Python 3",
   "language": "python",
   "name": "python3"
  },
  "language_info": {
   "codemirror_mode": {
    "name": "ipython",
    "version": 2
   },
   "file_extension": ".py",
   "mimetype": "text/x-python",
   "name": "python",
   "nbconvert_exporter": "python",
   "pygments_lexer": "ipython2",
   "version": "2.7.6"
  }
 },
 "nbformat": 4,
 "nbformat_minor": 5
}
