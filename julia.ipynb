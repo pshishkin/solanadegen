{
 "cells": [
  {
   "cell_type": "code",
   "execution_count": 5,
   "id": "initial_id",
   "metadata": {
    "collapsed": true,
    "ExecuteTime": {
     "end_time": "2023-12-30T20:38:56.793109Z",
     "start_time": "2023-12-30T20:38:53.160148Z"
    }
   },
   "outputs": [
    {
     "data": {
      "text/plain": "                                               signature  \\\n0      3nL84rorrzhEeFrSMT2oSDQbCRPEB2YbR1n1QYdsypfpXv...   \n1      76emBXpt1zRfV66wz4kq7dnv7KSsEsAdjqf5ebCKCmNPbo...   \n2      BKmUjPQKHq74VS8pkZHCXbNxNBSQ7FMt7QYV2AMBCJvGcP...   \n3      XkzM3hfs4zBMaHPSHBkT7N4pwDgvQBK8BSkGqhEnSSZb8s...   \n4      2uJ7MdfVSy9YGvPzxfdihCHMYGTW4mwcLJNRUX6EVVni3y...   \n...                                                  ...   \n19995  Z2ff3WfdhzmQhMKFubSTYtfXkTRtr3eZhRPeHDzCLEEi9r...   \n19996  4aNuXxUvSuPL85Y4ZDer2fU7UtripCWjiZ55ZNks3Tv1pP...   \n19997  3ixJ4e7CeBwqwZDB9CWjkqk3LjctXkP2aSz9kxA72vDKT5...   \n19998  4KnGaxVTqxnBmAJq3bioYxm1UKXxAaUqrfCtJQoi1PpFwz...   \n19999  TiwMfQWRUVoWCUiTHS2gPV9W9JFz8haEuPCwaRWLgEgCzg...   \n\n                                               mint           timestamp  \\\n0       mSoLzYCxHdYgdzU16g5QSh3i5K3z3KZK7ytfqcJm7So 2023-12-30 20:38:13   \n1       mSoLzYCxHdYgdzU16g5QSh3i5K3z3KZK7ytfqcJm7So 2023-12-30 20:37:58   \n2      7GCihgDB8fe6KNjn2MYtkzZcRjQy3t9GHdC8uHYmW2hr 2023-12-30 20:37:48   \n3      6fdCC8xfrXNy6PmNaVcxdEY5XNCTAha2V54zYYnmBCey 2023-12-30 20:37:24   \n4       Taki7fi3Zicv7Du1xNAWLaf6mRK7ikdn77HeGzgwvo4 2023-12-30 20:37:18   \n...                                             ...                 ...   \n19995  2zwuFv4tzMrJMA3Gq5nNH3i4ojWPtCkjmGzTMXe4RpMc 2023-12-27 19:17:39   \n19996  F9TBTkUELa39d8mpVvJDdcE7VrAcEGgzqBy5xoregCke 2023-12-27 19:17:25   \n19997  DezXAZ8z7PnrnRJjz3wXBoRgixCa6xjnB7YaB1pPB263 2023-12-27 19:17:16   \n19998  FFpHUvhPWpeLoMnJdi1VcMsknWZYJpGLqU7mTUET1N1S 2023-12-27 19:16:52   \n19999  BUsZvKYKzV41SXw4mTScs115cTHtHttepVvAZ1aMQhj4 2023-12-27 19:16:45   \n\n       trades  token_volume  usd_volume  sol_volume  sells   token_spent  \\\n0           1  1.886000e-06    0.000000    0.000000      0  0.000000e+00   \n1           1  9.430000e-07    0.000000    0.000000      0  0.000000e+00   \n2           1  2.175836e+04    0.000000    0.002054      1  2.175836e+04   \n3           1  2.637432e+01    0.000000    0.000000      0  0.000000e+00   \n4           1  8.000000e+03    0.000000    3.420828      1  8.000000e+03   \n...       ...           ...         ...         ...    ...           ...   \n19995       1  6.167074e+02    3.812527    0.000000      1  6.167074e+02   \n19996       1  6.111635e+01    0.000000    1.000061      0  0.000000e+00   \n19997       1  1.000000e+07    0.000000    1.367493      1  1.000000e+07   \n19998       1  5.549860e+03    0.000000    0.006005      1  5.549860e+03   \n19999       1  8.778093e+05    0.000000    0.073197      1  8.778093e+05   \n\n        usd_got   sol_got  purchases     token_got  usd_spent  sol_spent  \\\n0      0.000000  0.000000          1  1.886000e-06        0.0   0.000000   \n1      0.000000  0.000000          1  9.430000e-07        0.0   0.000000   \n2      0.000000 -0.002054          0  0.000000e+00        0.0   0.000000   \n3      0.000000  0.000000          1  2.637432e+01        0.0   0.000000   \n4      0.000000  3.420828          0  0.000000e+00        0.0   0.000000   \n...         ...       ...        ...           ...        ...        ...   \n19995  3.812527  0.000000          0  0.000000e+00        0.0   0.000000   \n19996  0.000000  0.000000          1  6.111635e+01        0.0   1.000061   \n19997  0.000000  1.367493          0  0.000000e+00        0.0   0.000000   \n19998  0.000000  0.006005          0  0.000000e+00        0.0   0.000000   \n19999  0.000000  0.073197          0  0.000000e+00        0.0   0.000000   \n\n                     hour  \n0     2023-12-30 20:00:00  \n1     2023-12-30 20:00:00  \n2     2023-12-30 20:00:00  \n3     2023-12-30 20:00:00  \n4     2023-12-30 20:00:00  \n...                   ...  \n19995 2023-12-27 19:00:00  \n19996 2023-12-27 19:00:00  \n19997 2023-12-27 19:00:00  \n19998 2023-12-27 19:00:00  \n19999 2023-12-27 19:00:00  \n\n[20000 rows x 16 columns]",
      "text/html": "<div>\n<style scoped>\n    .dataframe tbody tr th:only-of-type {\n        vertical-align: middle;\n    }\n\n    .dataframe tbody tr th {\n        vertical-align: top;\n    }\n\n    .dataframe thead th {\n        text-align: right;\n    }\n</style>\n<table border=\"1\" class=\"dataframe\">\n  <thead>\n    <tr style=\"text-align: right;\">\n      <th></th>\n      <th>signature</th>\n      <th>mint</th>\n      <th>timestamp</th>\n      <th>trades</th>\n      <th>token_volume</th>\n      <th>usd_volume</th>\n      <th>sol_volume</th>\n      <th>sells</th>\n      <th>token_spent</th>\n      <th>usd_got</th>\n      <th>sol_got</th>\n      <th>purchases</th>\n      <th>token_got</th>\n      <th>usd_spent</th>\n      <th>sol_spent</th>\n      <th>hour</th>\n    </tr>\n  </thead>\n  <tbody>\n    <tr>\n      <th>0</th>\n      <td>3nL84rorrzhEeFrSMT2oSDQbCRPEB2YbR1n1QYdsypfpXv...</td>\n      <td>mSoLzYCxHdYgdzU16g5QSh3i5K3z3KZK7ytfqcJm7So</td>\n      <td>2023-12-30 20:38:13</td>\n      <td>1</td>\n      <td>1.886000e-06</td>\n      <td>0.000000</td>\n      <td>0.000000</td>\n      <td>0</td>\n      <td>0.000000e+00</td>\n      <td>0.000000</td>\n      <td>0.000000</td>\n      <td>1</td>\n      <td>1.886000e-06</td>\n      <td>0.0</td>\n      <td>0.000000</td>\n      <td>2023-12-30 20:00:00</td>\n    </tr>\n    <tr>\n      <th>1</th>\n      <td>76emBXpt1zRfV66wz4kq7dnv7KSsEsAdjqf5ebCKCmNPbo...</td>\n      <td>mSoLzYCxHdYgdzU16g5QSh3i5K3z3KZK7ytfqcJm7So</td>\n      <td>2023-12-30 20:37:58</td>\n      <td>1</td>\n      <td>9.430000e-07</td>\n      <td>0.000000</td>\n      <td>0.000000</td>\n      <td>0</td>\n      <td>0.000000e+00</td>\n      <td>0.000000</td>\n      <td>0.000000</td>\n      <td>1</td>\n      <td>9.430000e-07</td>\n      <td>0.0</td>\n      <td>0.000000</td>\n      <td>2023-12-30 20:00:00</td>\n    </tr>\n    <tr>\n      <th>2</th>\n      <td>BKmUjPQKHq74VS8pkZHCXbNxNBSQ7FMt7QYV2AMBCJvGcP...</td>\n      <td>7GCihgDB8fe6KNjn2MYtkzZcRjQy3t9GHdC8uHYmW2hr</td>\n      <td>2023-12-30 20:37:48</td>\n      <td>1</td>\n      <td>2.175836e+04</td>\n      <td>0.000000</td>\n      <td>0.002054</td>\n      <td>1</td>\n      <td>2.175836e+04</td>\n      <td>0.000000</td>\n      <td>-0.002054</td>\n      <td>0</td>\n      <td>0.000000e+00</td>\n      <td>0.0</td>\n      <td>0.000000</td>\n      <td>2023-12-30 20:00:00</td>\n    </tr>\n    <tr>\n      <th>3</th>\n      <td>XkzM3hfs4zBMaHPSHBkT7N4pwDgvQBK8BSkGqhEnSSZb8s...</td>\n      <td>6fdCC8xfrXNy6PmNaVcxdEY5XNCTAha2V54zYYnmBCey</td>\n      <td>2023-12-30 20:37:24</td>\n      <td>1</td>\n      <td>2.637432e+01</td>\n      <td>0.000000</td>\n      <td>0.000000</td>\n      <td>0</td>\n      <td>0.000000e+00</td>\n      <td>0.000000</td>\n      <td>0.000000</td>\n      <td>1</td>\n      <td>2.637432e+01</td>\n      <td>0.0</td>\n      <td>0.000000</td>\n      <td>2023-12-30 20:00:00</td>\n    </tr>\n    <tr>\n      <th>4</th>\n      <td>2uJ7MdfVSy9YGvPzxfdihCHMYGTW4mwcLJNRUX6EVVni3y...</td>\n      <td>Taki7fi3Zicv7Du1xNAWLaf6mRK7ikdn77HeGzgwvo4</td>\n      <td>2023-12-30 20:37:18</td>\n      <td>1</td>\n      <td>8.000000e+03</td>\n      <td>0.000000</td>\n      <td>3.420828</td>\n      <td>1</td>\n      <td>8.000000e+03</td>\n      <td>0.000000</td>\n      <td>3.420828</td>\n      <td>0</td>\n      <td>0.000000e+00</td>\n      <td>0.0</td>\n      <td>0.000000</td>\n      <td>2023-12-30 20:00:00</td>\n    </tr>\n    <tr>\n      <th>...</th>\n      <td>...</td>\n      <td>...</td>\n      <td>...</td>\n      <td>...</td>\n      <td>...</td>\n      <td>...</td>\n      <td>...</td>\n      <td>...</td>\n      <td>...</td>\n      <td>...</td>\n      <td>...</td>\n      <td>...</td>\n      <td>...</td>\n      <td>...</td>\n      <td>...</td>\n      <td>...</td>\n    </tr>\n    <tr>\n      <th>19995</th>\n      <td>Z2ff3WfdhzmQhMKFubSTYtfXkTRtr3eZhRPeHDzCLEEi9r...</td>\n      <td>2zwuFv4tzMrJMA3Gq5nNH3i4ojWPtCkjmGzTMXe4RpMc</td>\n      <td>2023-12-27 19:17:39</td>\n      <td>1</td>\n      <td>6.167074e+02</td>\n      <td>3.812527</td>\n      <td>0.000000</td>\n      <td>1</td>\n      <td>6.167074e+02</td>\n      <td>3.812527</td>\n      <td>0.000000</td>\n      <td>0</td>\n      <td>0.000000e+00</td>\n      <td>0.0</td>\n      <td>0.000000</td>\n      <td>2023-12-27 19:00:00</td>\n    </tr>\n    <tr>\n      <th>19996</th>\n      <td>4aNuXxUvSuPL85Y4ZDer2fU7UtripCWjiZ55ZNks3Tv1pP...</td>\n      <td>F9TBTkUELa39d8mpVvJDdcE7VrAcEGgzqBy5xoregCke</td>\n      <td>2023-12-27 19:17:25</td>\n      <td>1</td>\n      <td>6.111635e+01</td>\n      <td>0.000000</td>\n      <td>1.000061</td>\n      <td>0</td>\n      <td>0.000000e+00</td>\n      <td>0.000000</td>\n      <td>0.000000</td>\n      <td>1</td>\n      <td>6.111635e+01</td>\n      <td>0.0</td>\n      <td>1.000061</td>\n      <td>2023-12-27 19:00:00</td>\n    </tr>\n    <tr>\n      <th>19997</th>\n      <td>3ixJ4e7CeBwqwZDB9CWjkqk3LjctXkP2aSz9kxA72vDKT5...</td>\n      <td>DezXAZ8z7PnrnRJjz3wXBoRgixCa6xjnB7YaB1pPB263</td>\n      <td>2023-12-27 19:17:16</td>\n      <td>1</td>\n      <td>1.000000e+07</td>\n      <td>0.000000</td>\n      <td>1.367493</td>\n      <td>1</td>\n      <td>1.000000e+07</td>\n      <td>0.000000</td>\n      <td>1.367493</td>\n      <td>0</td>\n      <td>0.000000e+00</td>\n      <td>0.0</td>\n      <td>0.000000</td>\n      <td>2023-12-27 19:00:00</td>\n    </tr>\n    <tr>\n      <th>19998</th>\n      <td>4KnGaxVTqxnBmAJq3bioYxm1UKXxAaUqrfCtJQoi1PpFwz...</td>\n      <td>FFpHUvhPWpeLoMnJdi1VcMsknWZYJpGLqU7mTUET1N1S</td>\n      <td>2023-12-27 19:16:52</td>\n      <td>1</td>\n      <td>5.549860e+03</td>\n      <td>0.000000</td>\n      <td>0.006005</td>\n      <td>1</td>\n      <td>5.549860e+03</td>\n      <td>0.000000</td>\n      <td>0.006005</td>\n      <td>0</td>\n      <td>0.000000e+00</td>\n      <td>0.0</td>\n      <td>0.000000</td>\n      <td>2023-12-27 19:00:00</td>\n    </tr>\n    <tr>\n      <th>19999</th>\n      <td>TiwMfQWRUVoWCUiTHS2gPV9W9JFz8haEuPCwaRWLgEgCzg...</td>\n      <td>BUsZvKYKzV41SXw4mTScs115cTHtHttepVvAZ1aMQhj4</td>\n      <td>2023-12-27 19:16:45</td>\n      <td>1</td>\n      <td>8.778093e+05</td>\n      <td>0.000000</td>\n      <td>0.073197</td>\n      <td>1</td>\n      <td>8.778093e+05</td>\n      <td>0.000000</td>\n      <td>0.073197</td>\n      <td>0</td>\n      <td>0.000000e+00</td>\n      <td>0.0</td>\n      <td>0.000000</td>\n      <td>2023-12-27 19:00:00</td>\n    </tr>\n  </tbody>\n</table>\n<p>20000 rows × 16 columns</p>\n</div>"
     },
     "execution_count": 5,
     "metadata": {},
     "output_type": "execute_result"
    }
   ],
   "source": [
    "import os\n",
    "import psycopg2\n",
    "import pandas as pd\n",
    "from dotenv import load_dotenv\n",
    "\n",
    "load_dotenv()\n",
    "\n",
    "conn = psycopg2.connect(os.getenv('DATABASE_URL'))\n",
    "\n",
    "# Open a cursor to perform database operations\n",
    "cur = conn.cursor()\n",
    "\n",
    "# Execute a query\n",
    "cur.execute(\"\"\"\n",
    "SELECT *, date_trunc('hour', timestamp) as hour FROM trades\n",
    "order by timestamp desc\n",
    "limit 20000\n",
    "\"\"\")\n",
    "\n",
    "# Retrieve query results\n",
    "records = cur.fetchall()\n",
    "\n",
    "# Convert to pandas DataFrame\n",
    "df = pd.DataFrame(records, columns=[desc[0] for desc in cur.description])\n",
    "\n",
    "# Close communication with the database\n",
    "cur.close()\n",
    "conn.close()\n",
    "\n",
    "df"
   ]
  },
  {
   "cell_type": "code",
   "execution_count": 6,
   "outputs": [
    {
     "data": {
      "text/plain": "array(['mSoLzYCxHdYgdzU16g5QSh3i5K3z3KZK7ytfqcJm7So2023-12-30 20:00:00',\n       '7GCihgDB8fe6KNjn2MYtkzZcRjQy3t9GHdC8uHYmW2hr2023-12-30 20:00:00',\n       '6fdCC8xfrXNy6PmNaVcxdEY5XNCTAha2V54zYYnmBCey2023-12-30 20:00:00',\n       ...,\n       '89TUsfeHmtdv96P81BS9HGm4LcUXhmvWk8gWg67Efe6W2023-12-27 19:00:00',\n       'FFpHUvhPWpeLoMnJdi1VcMsknWZYJpGLqU7mTUET1N1S2023-12-27 19:00:00',\n       'BUsZvKYKzV41SXw4mTScs115cTHtHttepVvAZ1aMQhj42023-12-27 19:00:00'],\n      dtype=object)"
     },
     "execution_count": 6,
     "metadata": {},
     "output_type": "execute_result"
    }
   ],
   "source": [
    "# all uniq pairs of mint and hour\n",
    "df['mint_hour'] = df['mint'] + df['hour'].astype(str)\n",
    "df['mint_hour'].unique()"
   ],
   "metadata": {
    "collapsed": false,
    "ExecuteTime": {
     "end_time": "2023-12-30T20:38:58.015630Z",
     "start_time": "2023-12-30T20:38:57.990647Z"
    }
   },
   "id": "52ce501fdc30d10"
  },
  {
   "cell_type": "code",
   "execution_count": null,
   "outputs": [],
   "source": [],
   "metadata": {
    "collapsed": false
   },
   "id": "71fd6326d43d7b41"
  }
 ],
 "metadata": {
  "kernelspec": {
   "display_name": "Python 3",
   "language": "python",
   "name": "python3"
  },
  "language_info": {
   "codemirror_mode": {
    "name": "ipython",
    "version": 2
   },
   "file_extension": ".py",
   "mimetype": "text/x-python",
   "name": "python",
   "nbconvert_exporter": "python",
   "pygments_lexer": "ipython2",
   "version": "2.7.6"
  }
 },
 "nbformat": 4,
 "nbformat_minor": 5
}
