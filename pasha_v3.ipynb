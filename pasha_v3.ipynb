{
 "cells": [
  {
   "cell_type": "code",
   "execution_count": 4,
   "outputs": [
    {
     "name": "stderr",
     "output_type": "stream",
     "text": [
      "2024-01-07 20:02:23,837 - INFO - Getting data from db\n",
      "2024-01-07 20:02:38,623 - INFO - Got 10000 records from db\n",
      "2024-01-07 20:02:38,624 - INFO - From 2024-01-07 06:47:04 to 2024-01-07 19:59:10\n",
      "2024-01-07 20:02:38,629 - INFO - Filtered df by program_id, got 9578 records\n",
      "2024-01-07 20:02:38,637 - INFO - Using memory: 4.883437156677246 MB\n",
      "2024-01-07 20:02:38,643 - INFO - Before rare tokens filtering 9578 trades, 681 mints\n",
      "2024-01-07 20:02:38,646 - INFO - After rare tokens filtering 5712 trades, 38 mints\n",
      "2024-01-07 20:02:40,354 - INFO - Got price tables for 38 mints\n",
      "2024-01-07 20:02:40,510 - INFO - Assigned labels to 1707 records\n",
      "2024-01-07 20:02:40,511 - INFO - label\n",
      "na      1601\n",
      "flat     100\n",
      "up         6\n",
      "Name: count, dtype: int64\n",
      "2024-01-07 20:02:40,512 - INFO - Assigning features\n",
      "2024-01-07 20:02:51,051 - INFO - Features assigned\n"
     ]
    }
   ],
   "source": [
    "from dataprep import DatasetBuilder\n",
    "from datetime import timedelta\n",
    "\n",
    "PREDICTION_TIMEDELTA = timedelta(hours=12)\n",
    "QUANT_TIMEDELTA = timedelta(minutes=10)\n",
    "BUY_TIMEDELTA = timedelta(seconds=0)\n",
    "CHANGE_MAGNITUDE = 2.\n",
    "\n",
    "builder = DatasetBuilder(10000, BUY_TIMEDELTA, (QUANT_TIMEDELTA, PREDICTION_TIMEDELTA), CHANGE_MAGNITUDE)\n",
    "dataset = builder.build_dataset()\n"
   ],
   "metadata": {
    "collapsed": false,
    "ExecuteTime": {
     "end_time": "2024-01-07T20:02:51.060065Z",
     "start_time": "2024-01-07T20:02:23.839235Z"
    }
   },
   "id": "efcea48a30cd5d32"
  },
  {
   "cell_type": "code",
   "execution_count": 6,
   "outputs": [
    {
     "name": "stderr",
     "output_type": "stream",
     "text": [
      "2024-01-07 20:03:03,457 - INFO - Assigned labels to 1707 records\n",
      "2024-01-07 20:03:03,458 - INFO - label\n",
      "flat    1528\n",
      "na       139\n",
      "up        20\n",
      "down      20\n",
      "Name: count, dtype: int64\n"
     ]
    }
   ],
   "source": [
    "PREDICTION_TIMEDELTA = timedelta(hours=1)\n",
    "# CHANGE_MAGNITUDE = 4.\n",
    "\n",
    "dataset = builder.reassign_values(BUY_TIMEDELTA, (QUANT_TIMEDELTA, PREDICTION_TIMEDELTA), CHANGE_MAGNITUDE)\n"
   ],
   "metadata": {
    "collapsed": false,
    "ExecuteTime": {
     "end_time": "2024-01-07T20:03:03.466780Z",
     "start_time": "2024-01-07T20:03:03.458215Z"
    }
   },
   "id": "fb2725437b2b9501"
  },
  {
   "cell_type": "code",
   "execution_count": 160,
   "outputs": [
    {
     "data": {
      "text/plain": "               time_quant                                          mint  \\\n32149 2023-12-31 03:00:00  H5n9BQfULHEEtvLVf2WErUHsXHhRaUkYqVhNzxUkWJGf   \n\n          price  future_price label  day_of_week  hour  u_price_sma_10m  \\\n32149  0.000004      0.000023    up            6     3         0.071429   \n\n       u_price_ema_10m  u_price_rsi_10m  ...  sma_vol_sell_1d  \\\n32149         0.133333            100.0  ...         2.144877   \n\n       ema_vol_sell_1d  sma_vol_sum_10m  ema_vol_sum_10m  sma_vol_sum_1h  \\\n32149         1.429918         0.766028         1.429918        0.766028   \n\n       ema_vol_sum_1h  sma_vol_sum_4h  ema_vol_sum_4h  sma_vol_sum_1d  \\\n32149        1.429918        0.766028        1.429918        2.144877   \n\n       ema_vol_sum_1d  \n32149        1.429918  \n\n[1 rows x 43 columns]",
      "text/html": "<div>\n<style scoped>\n    .dataframe tbody tr th:only-of-type {\n        vertical-align: middle;\n    }\n\n    .dataframe tbody tr th {\n        vertical-align: top;\n    }\n\n    .dataframe thead th {\n        text-align: right;\n    }\n</style>\n<table border=\"1\" class=\"dataframe\">\n  <thead>\n    <tr style=\"text-align: right;\">\n      <th></th>\n      <th>time_quant</th>\n      <th>mint</th>\n      <th>price</th>\n      <th>future_price</th>\n      <th>label</th>\n      <th>day_of_week</th>\n      <th>hour</th>\n      <th>u_price_sma_10m</th>\n      <th>u_price_ema_10m</th>\n      <th>u_price_rsi_10m</th>\n      <th>...</th>\n      <th>sma_vol_sell_1d</th>\n      <th>ema_vol_sell_1d</th>\n      <th>sma_vol_sum_10m</th>\n      <th>ema_vol_sum_10m</th>\n      <th>sma_vol_sum_1h</th>\n      <th>ema_vol_sum_1h</th>\n      <th>sma_vol_sum_4h</th>\n      <th>ema_vol_sum_4h</th>\n      <th>sma_vol_sum_1d</th>\n      <th>ema_vol_sum_1d</th>\n    </tr>\n  </thead>\n  <tbody>\n    <tr>\n      <th>32149</th>\n      <td>2023-12-31 03:00:00</td>\n      <td>H5n9BQfULHEEtvLVf2WErUHsXHhRaUkYqVhNzxUkWJGf</td>\n      <td>0.000004</td>\n      <td>0.000023</td>\n      <td>up</td>\n      <td>6</td>\n      <td>3</td>\n      <td>0.071429</td>\n      <td>0.133333</td>\n      <td>100.0</td>\n      <td>...</td>\n      <td>2.144877</td>\n      <td>1.429918</td>\n      <td>0.766028</td>\n      <td>1.429918</td>\n      <td>0.766028</td>\n      <td>1.429918</td>\n      <td>0.766028</td>\n      <td>1.429918</td>\n      <td>2.144877</td>\n      <td>1.429918</td>\n    </tr>\n  </tbody>\n</table>\n<p>1 rows × 43 columns</p>\n</div>"
     },
     "execution_count": 160,
     "metadata": {},
     "output_type": "execute_result"
    }
   ],
   "source": [
    "dataset[(dataset['label'] == 'up') & (dataset['mint'] == 'H5n9BQfULHEEtvLVf2WErUHsXHhRaUkYqVhNzxUkWJGf')]"
   ],
   "metadata": {
    "collapsed": false,
    "ExecuteTime": {
     "end_time": "2024-01-04T21:08:26.472394Z",
     "start_time": "2024-01-04T21:08:26.445797Z"
    }
   },
   "id": "4826623dcd12af48"
  },
  {
   "cell_type": "code",
   "execution_count": 182,
   "outputs": [
    {
     "data": {
      "text/plain": "251"
     },
     "execution_count": 182,
     "metadata": {},
     "output_type": "execute_result"
    }
   ],
   "source": [
    "dataset[dataset['label'] == 'up']['mint'].nunique()\n"
   ],
   "metadata": {
    "collapsed": false,
    "ExecuteTime": {
     "end_time": "2024-01-07T18:39:19.824763Z",
     "start_time": "2024-01-07T18:39:19.790419Z"
    }
   },
   "id": "43cf93a151512c70"
  },
  {
   "cell_type": "code",
   "execution_count": 7,
   "outputs": [
    {
     "data": {
      "text/plain": "67      0.0\n83      0.0\n102     0.0\n119     0.0\n137     0.0\n470     0.0\n489     0.0\n509     0.0\n529     0.0\n595     0.0\n738     0.0\n897     0.0\n921     0.0\n946     0.0\n971     0.0\n996     0.0\n1019    0.0\n1219    0.0\n1245    0.0\n1273    0.0\nName: sma_vol_sum_1d, dtype: float64"
     },
     "execution_count": 7,
     "metadata": {},
     "output_type": "execute_result"
    }
   ],
   "source": [
    "dataset[dataset['label'] == 'up']['sma_vol_sum_1d']"
   ],
   "metadata": {
    "collapsed": false,
    "ExecuteTime": {
     "end_time": "2024-01-07T20:03:14.802582Z",
     "start_time": "2024-01-07T20:03:14.793205Z"
    }
   },
   "id": "552463f0316c247b"
  },
  {
   "cell_type": "code",
   "execution_count": 163,
   "outputs": [
    {
     "data": {
      "text/plain": "                          time_quant         price  future_price  \\\ncount                          62939  6.293900e+04  6.293900e+04   \nmean   2023-12-30 22:18:30.704014848  1.316129e+00  2.580461e+00   \nmin              2023-12-25 12:10:00  5.033276e-16  0.000000e+00   \n25%              2023-12-28 06:30:00  6.368994e-07  2.428878e-07   \n50%              2023-12-30 23:50:00  9.436820e-06  6.411196e-06   \n75%              2024-01-02 15:20:00  2.694610e-04  1.820457e-04   \nmax              2024-01-04 20:30:00  7.973648e+04  7.973648e+04   \nstd                              NaN  3.178315e+02  4.494780e+02   \n\n        day_of_week          hour  u_price_sma_10m  u_price_ema_10m  \\\ncount  62939.000000  62939.000000     6.293900e+04     6.293900e+04   \nmean       2.537632     12.060884     1.850514e+04     1.639581e+04   \nmin        0.000000      0.000000     7.142857e-02     1.333333e-01   \n25%        1.000000      6.000000     9.347716e-01     9.450214e-01   \n50%        2.000000     13.000000     1.001588e+00     1.001402e+00   \n75%        4.000000     18.000000     1.079816e+00     1.069047e+00   \nmax        6.000000     23.000000     6.893875e+08     6.434283e+08   \nstd        1.814929      6.923577     3.089496e+06     2.798239e+06   \n\n       u_price_rsi_10m  u_price_sma_1h  u_price_ema_1h  ...  sma_vol_sell_1d  \\\ncount     62939.000000    6.293900e+04    6.293900e+04  ...     62939.000000   \nmean         50.028052    2.317471e+04    2.259919e+04  ...      1047.021861   \nmin          -1.000000    7.142857e-02    1.333333e-01  ...         0.000000   \n25%          37.169250    8.191692e-01    8.450480e-01  ...        12.421879   \n50%          50.084206    9.998309e-01    9.999996e-01  ...        74.729568   \n75%          63.408416    1.117967e+00    1.105632e+00  ...       364.469267   \nmax         100.000000    1.590894e+08    2.245803e+08  ...     23719.146537   \nstd          24.255918    1.858894e+06    1.889151e+06  ...      3088.839045   \n\n       ema_vol_sell_1d  sma_vol_sum_10m  ema_vol_sum_10m  sma_vol_sum_1h  \\\ncount     62939.000000     62939.000000     62939.000000    62939.000000   \nmean       1078.149477        14.822857        15.045026       86.364668   \nmin           0.000000         0.000000         0.000000        0.000000   \n25%           9.617463         0.431318         0.472118        2.807457   \n50%          61.105127         1.674622         1.746368        9.923401   \n75%         354.372947         6.645911         6.812351       41.850739   \nmax       23719.146537      1841.891338      3902.586454     7052.229021   \nstd        3107.335087        59.459111        64.305393      284.829112   \n\n       ema_vol_sum_1h  sma_vol_sum_4h  ema_vol_sum_4h  sma_vol_sum_1d  \\\ncount    62939.000000    62939.000000    62939.000000    62939.000000   \nmean        86.953946      343.131495      345.498984     1971.086964   \nmin          0.000000        0.000000        0.000000        0.000000   \n25%          3.003352        9.532557       10.643176       22.456876   \n50%         10.297181       33.440673       35.944117      133.520813   \n75%         42.386476      150.172365      155.486040      615.757641   \nmax       7052.229021    14536.656683    14536.656683    62966.127975   \nstd        296.082572     1067.127756     1084.300337     6439.577929   \n\n       ema_vol_sum_1d  \ncount    62939.000000  \nmean      2081.591560  \nmin          0.000000  \n25%         16.560848  \n50%        111.228035  \n75%        609.893656  \nmax      62966.127975  \nstd       6927.127999  \n\n[8 rows x 41 columns]",
      "text/html": "<div>\n<style scoped>\n    .dataframe tbody tr th:only-of-type {\n        vertical-align: middle;\n    }\n\n    .dataframe tbody tr th {\n        vertical-align: top;\n    }\n\n    .dataframe thead th {\n        text-align: right;\n    }\n</style>\n<table border=\"1\" class=\"dataframe\">\n  <thead>\n    <tr style=\"text-align: right;\">\n      <th></th>\n      <th>time_quant</th>\n      <th>price</th>\n      <th>future_price</th>\n      <th>day_of_week</th>\n      <th>hour</th>\n      <th>u_price_sma_10m</th>\n      <th>u_price_ema_10m</th>\n      <th>u_price_rsi_10m</th>\n      <th>u_price_sma_1h</th>\n      <th>u_price_ema_1h</th>\n      <th>...</th>\n      <th>sma_vol_sell_1d</th>\n      <th>ema_vol_sell_1d</th>\n      <th>sma_vol_sum_10m</th>\n      <th>ema_vol_sum_10m</th>\n      <th>sma_vol_sum_1h</th>\n      <th>ema_vol_sum_1h</th>\n      <th>sma_vol_sum_4h</th>\n      <th>ema_vol_sum_4h</th>\n      <th>sma_vol_sum_1d</th>\n      <th>ema_vol_sum_1d</th>\n    </tr>\n  </thead>\n  <tbody>\n    <tr>\n      <th>count</th>\n      <td>62939</td>\n      <td>6.293900e+04</td>\n      <td>6.293900e+04</td>\n      <td>62939.000000</td>\n      <td>62939.000000</td>\n      <td>6.293900e+04</td>\n      <td>6.293900e+04</td>\n      <td>62939.000000</td>\n      <td>6.293900e+04</td>\n      <td>6.293900e+04</td>\n      <td>...</td>\n      <td>62939.000000</td>\n      <td>62939.000000</td>\n      <td>62939.000000</td>\n      <td>62939.000000</td>\n      <td>62939.000000</td>\n      <td>62939.000000</td>\n      <td>62939.000000</td>\n      <td>62939.000000</td>\n      <td>62939.000000</td>\n      <td>62939.000000</td>\n    </tr>\n    <tr>\n      <th>mean</th>\n      <td>2023-12-30 22:18:30.704014848</td>\n      <td>1.316129e+00</td>\n      <td>2.580461e+00</td>\n      <td>2.537632</td>\n      <td>12.060884</td>\n      <td>1.850514e+04</td>\n      <td>1.639581e+04</td>\n      <td>50.028052</td>\n      <td>2.317471e+04</td>\n      <td>2.259919e+04</td>\n      <td>...</td>\n      <td>1047.021861</td>\n      <td>1078.149477</td>\n      <td>14.822857</td>\n      <td>15.045026</td>\n      <td>86.364668</td>\n      <td>86.953946</td>\n      <td>343.131495</td>\n      <td>345.498984</td>\n      <td>1971.086964</td>\n      <td>2081.591560</td>\n    </tr>\n    <tr>\n      <th>min</th>\n      <td>2023-12-25 12:10:00</td>\n      <td>5.033276e-16</td>\n      <td>0.000000e+00</td>\n      <td>0.000000</td>\n      <td>0.000000</td>\n      <td>7.142857e-02</td>\n      <td>1.333333e-01</td>\n      <td>-1.000000</td>\n      <td>7.142857e-02</td>\n      <td>1.333333e-01</td>\n      <td>...</td>\n      <td>0.000000</td>\n      <td>0.000000</td>\n      <td>0.000000</td>\n      <td>0.000000</td>\n      <td>0.000000</td>\n      <td>0.000000</td>\n      <td>0.000000</td>\n      <td>0.000000</td>\n      <td>0.000000</td>\n      <td>0.000000</td>\n    </tr>\n    <tr>\n      <th>25%</th>\n      <td>2023-12-28 06:30:00</td>\n      <td>6.368994e-07</td>\n      <td>2.428878e-07</td>\n      <td>1.000000</td>\n      <td>6.000000</td>\n      <td>9.347716e-01</td>\n      <td>9.450214e-01</td>\n      <td>37.169250</td>\n      <td>8.191692e-01</td>\n      <td>8.450480e-01</td>\n      <td>...</td>\n      <td>12.421879</td>\n      <td>9.617463</td>\n      <td>0.431318</td>\n      <td>0.472118</td>\n      <td>2.807457</td>\n      <td>3.003352</td>\n      <td>9.532557</td>\n      <td>10.643176</td>\n      <td>22.456876</td>\n      <td>16.560848</td>\n    </tr>\n    <tr>\n      <th>50%</th>\n      <td>2023-12-30 23:50:00</td>\n      <td>9.436820e-06</td>\n      <td>6.411196e-06</td>\n      <td>2.000000</td>\n      <td>13.000000</td>\n      <td>1.001588e+00</td>\n      <td>1.001402e+00</td>\n      <td>50.084206</td>\n      <td>9.998309e-01</td>\n      <td>9.999996e-01</td>\n      <td>...</td>\n      <td>74.729568</td>\n      <td>61.105127</td>\n      <td>1.674622</td>\n      <td>1.746368</td>\n      <td>9.923401</td>\n      <td>10.297181</td>\n      <td>33.440673</td>\n      <td>35.944117</td>\n      <td>133.520813</td>\n      <td>111.228035</td>\n    </tr>\n    <tr>\n      <th>75%</th>\n      <td>2024-01-02 15:20:00</td>\n      <td>2.694610e-04</td>\n      <td>1.820457e-04</td>\n      <td>4.000000</td>\n      <td>18.000000</td>\n      <td>1.079816e+00</td>\n      <td>1.069047e+00</td>\n      <td>63.408416</td>\n      <td>1.117967e+00</td>\n      <td>1.105632e+00</td>\n      <td>...</td>\n      <td>364.469267</td>\n      <td>354.372947</td>\n      <td>6.645911</td>\n      <td>6.812351</td>\n      <td>41.850739</td>\n      <td>42.386476</td>\n      <td>150.172365</td>\n      <td>155.486040</td>\n      <td>615.757641</td>\n      <td>609.893656</td>\n    </tr>\n    <tr>\n      <th>max</th>\n      <td>2024-01-04 20:30:00</td>\n      <td>7.973648e+04</td>\n      <td>7.973648e+04</td>\n      <td>6.000000</td>\n      <td>23.000000</td>\n      <td>6.893875e+08</td>\n      <td>6.434283e+08</td>\n      <td>100.000000</td>\n      <td>1.590894e+08</td>\n      <td>2.245803e+08</td>\n      <td>...</td>\n      <td>23719.146537</td>\n      <td>23719.146537</td>\n      <td>1841.891338</td>\n      <td>3902.586454</td>\n      <td>7052.229021</td>\n      <td>7052.229021</td>\n      <td>14536.656683</td>\n      <td>14536.656683</td>\n      <td>62966.127975</td>\n      <td>62966.127975</td>\n    </tr>\n    <tr>\n      <th>std</th>\n      <td>NaN</td>\n      <td>3.178315e+02</td>\n      <td>4.494780e+02</td>\n      <td>1.814929</td>\n      <td>6.923577</td>\n      <td>3.089496e+06</td>\n      <td>2.798239e+06</td>\n      <td>24.255918</td>\n      <td>1.858894e+06</td>\n      <td>1.889151e+06</td>\n      <td>...</td>\n      <td>3088.839045</td>\n      <td>3107.335087</td>\n      <td>59.459111</td>\n      <td>64.305393</td>\n      <td>284.829112</td>\n      <td>296.082572</td>\n      <td>1067.127756</td>\n      <td>1084.300337</td>\n      <td>6439.577929</td>\n      <td>6927.127999</td>\n    </tr>\n  </tbody>\n</table>\n<p>8 rows × 41 columns</p>\n</div>"
     },
     "execution_count": 163,
     "metadata": {},
     "output_type": "execute_result"
    }
   ],
   "source": [
    "dataset.describe()"
   ],
   "metadata": {
    "collapsed": false,
    "ExecuteTime": {
     "end_time": "2024-01-04T21:08:30.029930Z",
     "start_time": "2024-01-04T21:08:29.920072Z"
    }
   },
   "id": "91fbb5d998719382"
  },
  {
   "cell_type": "code",
   "execution_count": 8,
   "outputs": [
    {
     "name": "stdout",
     "output_type": "stream",
     "text": [
      "dataset len: 1707\n",
      "train_test_dataset len: 1568\n",
      "train_test_dataset len: 1568\n",
      "unique_mints len: 38\n"
     ]
    }
   ],
   "source": [
    "from sklearn.model_selection import TimeSeriesSplit\n",
    "\n",
    "print(\"dataset len: %d\" % len(dataset))\n",
    "train_test_dataset = dataset[dataset['label'] != 'na']\n",
    "print(\"train_test_dataset len: %d\" % len(train_test_dataset))\n",
    "# train_test_dataset = train_test_dataset[train_test_dataset['sma_vol_sum_1h'] > 1]\n",
    "print(\"train_test_dataset len: %d\" % len(train_test_dataset))\n",
    "unique_mints = train_test_dataset['mint'].unique()\n",
    "print(\"unique_mints len: %d\" % len(unique_mints))\n"
   ],
   "metadata": {
    "collapsed": false,
    "ExecuteTime": {
     "end_time": "2024-01-07T20:03:27.781667Z",
     "start_time": "2024-01-07T20:03:27.576107Z"
    }
   },
   "id": "cd9ba54930ee096f"
  },
  {
   "cell_type": "code",
   "execution_count": 9,
   "outputs": [
    {
     "name": "stdout",
     "output_type": "stream",
     "text": [
      "3\n",
      "20\n"
     ]
    }
   ],
   "source": [
    "# how many mints have up label\n",
    "print(train_test_dataset[train_test_dataset['label'] == 'up']['mint'].nunique())\n",
    "print(len(train_test_dataset[train_test_dataset['label'] == 'up']))"
   ],
   "metadata": {
    "collapsed": false,
    "ExecuteTime": {
     "end_time": "2024-01-07T20:03:29.745147Z",
     "start_time": "2024-01-07T20:03:29.738443Z"
    }
   },
   "id": "783473e3cc65b98b"
  },
  {
   "cell_type": "code",
   "execution_count": 10,
   "outputs": [
    {
     "data": {
      "text/plain": "67      0.0\n83      0.0\n102     0.0\n119     0.0\n137     0.0\n470     0.0\n489     0.0\n509     0.0\n529     0.0\n595     0.0\n738     0.0\n897     0.0\n921     0.0\n946     0.0\n971     0.0\n996     0.0\n1019    0.0\n1219    0.0\n1245    0.0\n1273    0.0\nName: sma_vol_sum_1d, dtype: float64"
     },
     "execution_count": 10,
     "metadata": {},
     "output_type": "execute_result"
    }
   ],
   "source": [
    "train_test_dataset[train_test_dataset['label'] == 'up']['sma_vol_sum_1d']\n"
   ],
   "metadata": {
    "collapsed": false,
    "ExecuteTime": {
     "end_time": "2024-01-07T20:03:30.916873Z",
     "start_time": "2024-01-07T20:03:30.913351Z"
    }
   },
   "id": "65c53e8dae31421d"
  },
  {
   "cell_type": "code",
   "execution_count": 11,
   "outputs": [
    {
     "data": {
      "text/plain": "count    20.0\nmean      0.0\nstd       0.0\nmin       0.0\n25%       0.0\n50%       0.0\n75%       0.0\nmax       0.0\nName: sma_vol_sum_1d, dtype: float64"
     },
     "execution_count": 11,
     "metadata": {},
     "output_type": "execute_result"
    }
   ],
   "source": [
    "train_test_dataset[train_test_dataset['label'] == 'up']['sma_vol_sum_1d'].describe()"
   ],
   "metadata": {
    "collapsed": false,
    "ExecuteTime": {
     "end_time": "2024-01-07T20:03:31.382653Z",
     "start_time": "2024-01-07T20:03:31.377814Z"
    }
   },
   "id": "bd3d63b2b2a9694a"
  },
  {
   "cell_type": "code",
   "execution_count": 12,
   "outputs": [
    {
     "data": {
      "text/plain": "              time_quant                                          mint  \\\n0    2024-01-07 06:50:00  25vHoSeyJeroPYaTf72o97rCKmyEoGK7iNNHDAv6zYy6   \n1    2024-01-07 06:50:00  2g4o5LLBFr2JHjwLveRFA8aeaHiX4qTjCmmcSBZCqEGa   \n2    2024-01-07 06:50:00  4jZXkSNgTQKCDb36ECZ6a2aNzcUniGcDeXgTdtM2HxAX   \n3    2024-01-07 06:50:00  4vqYQTjmKjxrWGtbL2tVkbAU1EVAz9JwcYtd2VE3PbVU   \n4    2024-01-07 06:50:00  7EYnhQoR9YM3N7UoaKRoA44Uy8JeaZV3qyouov87awMs   \n...                  ...                                           ...   \n1563 2024-01-07 18:40:00  J1toso1uCk3RLmjorhTtrVwY9HJ7X8V9yYac6Y7kGCPn   \n1564 2024-01-07 18:40:00   LFG1ezantSY2LPX8jRz2qa31pPEhpwN9msFDzZw4T9Q   \n1565 2024-01-07 18:40:00   RUSHazfGVYTM4fvKmeQeTYSg1sk49yaJn3kL3gTcbpF   \n1566 2024-01-07 18:40:00   mSoLzYCxHdYgdzU16g5QSh3i5K3z3KZK7ytfqcJm7So   \n1567 2024-01-07 18:40:00   tx4Xec7ueAEYz4csDqfGGwQxkMTR3qmkr4mixdxN72K   \n\n             price     buy_price    sell_price label  day_of_week  hour  \\\n0     3.084264e-04  3.084264e-04  2.942814e-04  flat            6     6   \n1     1.840529e-04  1.840529e-04  1.671621e-04  flat            6     6   \n2     6.422157e-06  6.422157e-06  6.812797e-06  flat            6     6   \n3     6.271011e-06  6.271011e-06  6.679585e-06  flat            6     6   \n4     8.061215e-04  8.061215e-04  8.218271e-04  flat            6     6   \n...            ...           ...           ...   ...          ...   ...   \n1563  1.078984e+00  1.078984e+00  1.080368e+00  flat            6    18   \n1564  3.730076e-07  3.730076e-07  3.681774e-07  flat            6    18   \n1565  4.425337e-06  4.425337e-06  4.361772e-06  flat            6    18   \n1566  1.158440e+00  1.158440e+00  1.158812e+00  flat            6    18   \n1567  1.084675e-07  1.084675e-07  9.888713e-08  flat            6    18   \n\n      u_price_sma_10m  u_price_ema_10m  ...  sma_vol_sell_1d  ema_vol_sell_1d  \\\n0            1.000000         1.000000  ...              0.0              0.0   \n1            1.000000         1.000000  ...              0.0              0.0   \n2            1.000000         1.000000  ...              0.0              0.0   \n3            1.000000         1.000000  ...              0.0              0.0   \n4            1.000000         1.000000  ...              0.0              0.0   \n...               ...              ...  ...              ...              ...   \n1563         1.001844         1.001333  ...              0.0              0.0   \n1564         1.082755         1.075966  ...              0.0              0.0   \n1565         0.994040         0.994252  ...              0.0              0.0   \n1566         1.000341         1.000320  ...              0.0              0.0   \n1567         3.996558         3.163284  ...              0.0              0.0   \n\n      sma_vol_sum_10m  ema_vol_sum_10m  sma_vol_sum_1h  ema_vol_sum_1h  \\\n0            0.000000         0.000000        0.000000        0.000000   \n1            0.000000         0.000000        0.000000        0.000000   \n2            0.000000         0.000000        0.000000        0.000000   \n3            0.000000         0.000000        0.000000        0.000000   \n4            0.000000         0.000000        0.000000        0.000000   \n...               ...              ...             ...             ...   \n1563         5.215824         5.711659       24.750087       39.201202   \n1564         7.325812        12.210080       22.693497       44.014059   \n1565         1.990332         1.514195       15.316597       13.774930   \n1566         9.610094         9.100868      100.562470      107.808700   \n1567         1.229739         1.200291        1.709443        2.088421   \n\n      sma_vol_sum_4h  ema_vol_sum_4h  sma_vol_sum_1d  ema_vol_sum_1d  \n0           0.000000        0.000000             0.0             0.0  \n1           0.000000        0.000000             0.0             0.0  \n2           0.000000        0.000000             0.0             0.0  \n3           0.000000        0.000000             0.0             0.0  \n4           0.000000        0.000000             0.0             0.0  \n...              ...             ...             ...             ...  \n1563       81.829808       49.265540             0.0             0.0  \n1564       60.692510       28.435990             0.0             0.0  \n1565       83.347397       90.236338             0.0             0.0  \n1566      122.728726      111.617468             0.0             0.0  \n1567        9.401935        2.507183             0.0             0.0  \n\n[1568 rows x 44 columns]",
      "text/html": "<div>\n<style scoped>\n    .dataframe tbody tr th:only-of-type {\n        vertical-align: middle;\n    }\n\n    .dataframe tbody tr th {\n        vertical-align: top;\n    }\n\n    .dataframe thead th {\n        text-align: right;\n    }\n</style>\n<table border=\"1\" class=\"dataframe\">\n  <thead>\n    <tr style=\"text-align: right;\">\n      <th></th>\n      <th>time_quant</th>\n      <th>mint</th>\n      <th>price</th>\n      <th>buy_price</th>\n      <th>sell_price</th>\n      <th>label</th>\n      <th>day_of_week</th>\n      <th>hour</th>\n      <th>u_price_sma_10m</th>\n      <th>u_price_ema_10m</th>\n      <th>...</th>\n      <th>sma_vol_sell_1d</th>\n      <th>ema_vol_sell_1d</th>\n      <th>sma_vol_sum_10m</th>\n      <th>ema_vol_sum_10m</th>\n      <th>sma_vol_sum_1h</th>\n      <th>ema_vol_sum_1h</th>\n      <th>sma_vol_sum_4h</th>\n      <th>ema_vol_sum_4h</th>\n      <th>sma_vol_sum_1d</th>\n      <th>ema_vol_sum_1d</th>\n    </tr>\n  </thead>\n  <tbody>\n    <tr>\n      <th>0</th>\n      <td>2024-01-07 06:50:00</td>\n      <td>25vHoSeyJeroPYaTf72o97rCKmyEoGK7iNNHDAv6zYy6</td>\n      <td>3.084264e-04</td>\n      <td>3.084264e-04</td>\n      <td>2.942814e-04</td>\n      <td>flat</td>\n      <td>6</td>\n      <td>6</td>\n      <td>1.000000</td>\n      <td>1.000000</td>\n      <td>...</td>\n      <td>0.0</td>\n      <td>0.0</td>\n      <td>0.000000</td>\n      <td>0.000000</td>\n      <td>0.000000</td>\n      <td>0.000000</td>\n      <td>0.000000</td>\n      <td>0.000000</td>\n      <td>0.0</td>\n      <td>0.0</td>\n    </tr>\n    <tr>\n      <th>1</th>\n      <td>2024-01-07 06:50:00</td>\n      <td>2g4o5LLBFr2JHjwLveRFA8aeaHiX4qTjCmmcSBZCqEGa</td>\n      <td>1.840529e-04</td>\n      <td>1.840529e-04</td>\n      <td>1.671621e-04</td>\n      <td>flat</td>\n      <td>6</td>\n      <td>6</td>\n      <td>1.000000</td>\n      <td>1.000000</td>\n      <td>...</td>\n      <td>0.0</td>\n      <td>0.0</td>\n      <td>0.000000</td>\n      <td>0.000000</td>\n      <td>0.000000</td>\n      <td>0.000000</td>\n      <td>0.000000</td>\n      <td>0.000000</td>\n      <td>0.0</td>\n      <td>0.0</td>\n    </tr>\n    <tr>\n      <th>2</th>\n      <td>2024-01-07 06:50:00</td>\n      <td>4jZXkSNgTQKCDb36ECZ6a2aNzcUniGcDeXgTdtM2HxAX</td>\n      <td>6.422157e-06</td>\n      <td>6.422157e-06</td>\n      <td>6.812797e-06</td>\n      <td>flat</td>\n      <td>6</td>\n      <td>6</td>\n      <td>1.000000</td>\n      <td>1.000000</td>\n      <td>...</td>\n      <td>0.0</td>\n      <td>0.0</td>\n      <td>0.000000</td>\n      <td>0.000000</td>\n      <td>0.000000</td>\n      <td>0.000000</td>\n      <td>0.000000</td>\n      <td>0.000000</td>\n      <td>0.0</td>\n      <td>0.0</td>\n    </tr>\n    <tr>\n      <th>3</th>\n      <td>2024-01-07 06:50:00</td>\n      <td>4vqYQTjmKjxrWGtbL2tVkbAU1EVAz9JwcYtd2VE3PbVU</td>\n      <td>6.271011e-06</td>\n      <td>6.271011e-06</td>\n      <td>6.679585e-06</td>\n      <td>flat</td>\n      <td>6</td>\n      <td>6</td>\n      <td>1.000000</td>\n      <td>1.000000</td>\n      <td>...</td>\n      <td>0.0</td>\n      <td>0.0</td>\n      <td>0.000000</td>\n      <td>0.000000</td>\n      <td>0.000000</td>\n      <td>0.000000</td>\n      <td>0.000000</td>\n      <td>0.000000</td>\n      <td>0.0</td>\n      <td>0.0</td>\n    </tr>\n    <tr>\n      <th>4</th>\n      <td>2024-01-07 06:50:00</td>\n      <td>7EYnhQoR9YM3N7UoaKRoA44Uy8JeaZV3qyouov87awMs</td>\n      <td>8.061215e-04</td>\n      <td>8.061215e-04</td>\n      <td>8.218271e-04</td>\n      <td>flat</td>\n      <td>6</td>\n      <td>6</td>\n      <td>1.000000</td>\n      <td>1.000000</td>\n      <td>...</td>\n      <td>0.0</td>\n      <td>0.0</td>\n      <td>0.000000</td>\n      <td>0.000000</td>\n      <td>0.000000</td>\n      <td>0.000000</td>\n      <td>0.000000</td>\n      <td>0.000000</td>\n      <td>0.0</td>\n      <td>0.0</td>\n    </tr>\n    <tr>\n      <th>...</th>\n      <td>...</td>\n      <td>...</td>\n      <td>...</td>\n      <td>...</td>\n      <td>...</td>\n      <td>...</td>\n      <td>...</td>\n      <td>...</td>\n      <td>...</td>\n      <td>...</td>\n      <td>...</td>\n      <td>...</td>\n      <td>...</td>\n      <td>...</td>\n      <td>...</td>\n      <td>...</td>\n      <td>...</td>\n      <td>...</td>\n      <td>...</td>\n      <td>...</td>\n      <td>...</td>\n    </tr>\n    <tr>\n      <th>1563</th>\n      <td>2024-01-07 18:40:00</td>\n      <td>J1toso1uCk3RLmjorhTtrVwY9HJ7X8V9yYac6Y7kGCPn</td>\n      <td>1.078984e+00</td>\n      <td>1.078984e+00</td>\n      <td>1.080368e+00</td>\n      <td>flat</td>\n      <td>6</td>\n      <td>18</td>\n      <td>1.001844</td>\n      <td>1.001333</td>\n      <td>...</td>\n      <td>0.0</td>\n      <td>0.0</td>\n      <td>5.215824</td>\n      <td>5.711659</td>\n      <td>24.750087</td>\n      <td>39.201202</td>\n      <td>81.829808</td>\n      <td>49.265540</td>\n      <td>0.0</td>\n      <td>0.0</td>\n    </tr>\n    <tr>\n      <th>1564</th>\n      <td>2024-01-07 18:40:00</td>\n      <td>LFG1ezantSY2LPX8jRz2qa31pPEhpwN9msFDzZw4T9Q</td>\n      <td>3.730076e-07</td>\n      <td>3.730076e-07</td>\n      <td>3.681774e-07</td>\n      <td>flat</td>\n      <td>6</td>\n      <td>18</td>\n      <td>1.082755</td>\n      <td>1.075966</td>\n      <td>...</td>\n      <td>0.0</td>\n      <td>0.0</td>\n      <td>7.325812</td>\n      <td>12.210080</td>\n      <td>22.693497</td>\n      <td>44.014059</td>\n      <td>60.692510</td>\n      <td>28.435990</td>\n      <td>0.0</td>\n      <td>0.0</td>\n    </tr>\n    <tr>\n      <th>1565</th>\n      <td>2024-01-07 18:40:00</td>\n      <td>RUSHazfGVYTM4fvKmeQeTYSg1sk49yaJn3kL3gTcbpF</td>\n      <td>4.425337e-06</td>\n      <td>4.425337e-06</td>\n      <td>4.361772e-06</td>\n      <td>flat</td>\n      <td>6</td>\n      <td>18</td>\n      <td>0.994040</td>\n      <td>0.994252</td>\n      <td>...</td>\n      <td>0.0</td>\n      <td>0.0</td>\n      <td>1.990332</td>\n      <td>1.514195</td>\n      <td>15.316597</td>\n      <td>13.774930</td>\n      <td>83.347397</td>\n      <td>90.236338</td>\n      <td>0.0</td>\n      <td>0.0</td>\n    </tr>\n    <tr>\n      <th>1566</th>\n      <td>2024-01-07 18:40:00</td>\n      <td>mSoLzYCxHdYgdzU16g5QSh3i5K3z3KZK7ytfqcJm7So</td>\n      <td>1.158440e+00</td>\n      <td>1.158440e+00</td>\n      <td>1.158812e+00</td>\n      <td>flat</td>\n      <td>6</td>\n      <td>18</td>\n      <td>1.000341</td>\n      <td>1.000320</td>\n      <td>...</td>\n      <td>0.0</td>\n      <td>0.0</td>\n      <td>9.610094</td>\n      <td>9.100868</td>\n      <td>100.562470</td>\n      <td>107.808700</td>\n      <td>122.728726</td>\n      <td>111.617468</td>\n      <td>0.0</td>\n      <td>0.0</td>\n    </tr>\n    <tr>\n      <th>1567</th>\n      <td>2024-01-07 18:40:00</td>\n      <td>tx4Xec7ueAEYz4csDqfGGwQxkMTR3qmkr4mixdxN72K</td>\n      <td>1.084675e-07</td>\n      <td>1.084675e-07</td>\n      <td>9.888713e-08</td>\n      <td>flat</td>\n      <td>6</td>\n      <td>18</td>\n      <td>3.996558</td>\n      <td>3.163284</td>\n      <td>...</td>\n      <td>0.0</td>\n      <td>0.0</td>\n      <td>1.229739</td>\n      <td>1.200291</td>\n      <td>1.709443</td>\n      <td>2.088421</td>\n      <td>9.401935</td>\n      <td>2.507183</td>\n      <td>0.0</td>\n      <td>0.0</td>\n    </tr>\n  </tbody>\n</table>\n<p>1568 rows × 44 columns</p>\n</div>"
     },
     "execution_count": 12,
     "metadata": {},
     "output_type": "execute_result"
    }
   ],
   "source": [
    "train_test_dataset"
   ],
   "metadata": {
    "collapsed": false,
    "ExecuteTime": {
     "end_time": "2024-01-07T20:03:31.847773Z",
     "start_time": "2024-01-07T20:03:31.835183Z"
    }
   },
   "id": "ab86e197b0b04654"
  },
  {
   "cell_type": "code",
   "execution_count": 13,
   "outputs": [
    {
     "name": "stdout",
     "output_type": "stream",
     "text": [
      "feature_names: ['day_of_week', 'hour', 'u_price_sma_10m', 'u_price_ema_10m', 'u_price_rsi_10m', 'u_price_sma_1h', 'u_price_ema_1h', 'u_price_rsi_1h', 'u_price_sma_4h', 'u_price_ema_4h', 'u_price_rsi_4h', 'u_price_sma_1d', 'u_price_ema_1d', 'u_price_rsi_1d', 'sma_vol_buy_10m', 'ema_vol_buy_10m', 'sma_vol_buy_1h', 'ema_vol_buy_1h', 'sma_vol_buy_4h', 'ema_vol_buy_4h', 'sma_vol_buy_1d', 'ema_vol_buy_1d', 'sma_vol_sell_10m', 'ema_vol_sell_10m', 'sma_vol_sell_1h', 'ema_vol_sell_1h', 'sma_vol_sell_4h', 'ema_vol_sell_4h', 'sma_vol_sell_1d', 'ema_vol_sell_1d', 'sma_vol_sum_10m', 'ema_vol_sum_10m', 'sma_vol_sum_1h', 'ema_vol_sum_1h', 'sma_vol_sum_4h', 'ema_vol_sum_4h', 'sma_vol_sum_1d', 'ema_vol_sum_1d']\n"
     ]
    }
   ],
   "source": [
    "column_names = list(train_test_dataset.columns)\n",
    "# feature names start after 'label'\n",
    "label_index = column_names.index('label')\n",
    "feature_names = column_names[label_index+1:]\n",
    "print(f\"feature_names: {feature_names}\")"
   ],
   "metadata": {
    "collapsed": false,
    "ExecuteTime": {
     "end_time": "2024-01-07T20:03:32.454847Z",
     "start_time": "2024-01-07T20:03:32.426448Z"
    }
   },
   "id": "34b9df2488215da7"
  },
  {
   "cell_type": "code",
   "execution_count": 14,
   "outputs": [
    {
     "name": "stdout",
     "output_type": "stream",
     "text": [
      "train_start 2024-01-07 06:50:00, train_end 2024-01-07 14:13:45, test_start 2024-01-07 15:13:45, test_end 2024-01-07 16:42:30\n",
      "train_data (881) quants from 2024-01-07 06:50:00 to 2024-01-07 14:10:00\n",
      "test_data (240) quants from 2024-01-07 15:20:00 to 2024-01-07 16:40:00\n",
      "train_start 2024-01-07 06:50:00, train_end 2024-01-07 15:42:30, test_start 2024-01-07 16:42:30, test_end 2024-01-07 18:11:15\n",
      "train_data (1101) quants from 2024-01-07 06:50:00 to 2024-01-07 15:40:00\n",
      "test_data (228) quants from 2024-01-07 16:50:00 to 2024-01-07 18:10:00\n",
      "train_start 2024-01-07 06:50:00, train_end 2024-01-07 17:11:15, test_start 2024-01-07 18:11:15, test_end 2024-01-07 19:40:00\n",
      "train_data (1342) quants from 2024-01-07 06:50:00 to 2024-01-07 17:10:00\n",
      "test_data (78) quants from 2024-01-07 18:20:00 to 2024-01-07 18:40:00\n"
     ]
    }
   ],
   "source": [
    "import pandas as pd\n",
    "from catboost import CatBoostClassifier, Pool\n",
    "from sklearn.model_selection import TimeSeriesSplit\n",
    "from sklearn.metrics import confusion_matrix\n",
    "import matplotlib.pyplot as plt\n",
    "import seaborn as sns\n",
    "\n",
    "# Convert 'mint' to a categorical feature\n",
    "# train_test_dataset['mint'] = train_test_dataset['mint'].astype('category')\n",
    "\n",
    "# Define features and target\n",
    "# feature_names = ['mint', 'hour', 'trades', 'token_volume', 'sol_volume', 'price'] + list(features.columns[2:])\n",
    "# cat_feature_names = ['mint']\n",
    "# feature_names = ['trades', 'token_volume', 'sol_volume', 'price'] + list(features.columns[2:])\n",
    "cat_feature_names = []\n",
    "target = 'label'\n",
    "\n",
    "# Initialize CatBoost Classifier\n",
    "model = CatBoostClassifier(loss_function='MultiClass', verbose=False)\n",
    "\n",
    "# TimeSeriesSplit for cross-validation\n",
    "nsplits = 3\n",
    "\n",
    "# To store predictions and actuals\n",
    "actuals = []\n",
    "raw_predictions = []\n",
    "up_probabilities = []\n",
    "down_probabilities = []\n",
    "details_df = pd.DataFrame() \n",
    "train_len = 0\n",
    "up_train_len = 0\n",
    "\n",
    "def split_tscv(ordered_df, nsplits):\n",
    "    min_quant = ordered_df['time_quant'].min()\n",
    "    max_quant = ordered_df['time_quant'].max()\n",
    "    range_quant = (max_quant - min_quant) / (nsplits + 1) / 2\n",
    "    for i in range(nsplits):\n",
    "        train_start = min_quant \n",
    "        train_end = min_quant + (i + 1) * range_quant + (max_quant - min_quant) / 2\n",
    "        test_start = train_end + PREDICTION_TIMEDELTA\n",
    "        test_end = test_start + range_quant\n",
    "        print(f'train_start {train_start}, train_end {train_end}, test_start {test_start}, test_end {test_end}')\n",
    "        train_df = ordered_df[(ordered_df['time_quant'] >= train_start) & (ordered_df['time_quant'] < train_end)]\n",
    "        test_df = ordered_df[(ordered_df['time_quant'] >= test_start) & (ordered_df['time_quant'] < test_end)]\n",
    "        yield train_df, test_df\n",
    "    \n",
    "    \n",
    "split_tscv(train_test_dataset, nsplits)\n",
    "\n",
    "for train_data, test_data in split_tscv(train_test_dataset, nsplits):\n",
    "    print(f'train_data ({len(train_data)}) quants from {min(train_data[\"time_quant\"])} to {max(train_data[\"time_quant\"])}')\n",
    "    if len(test_data) == 0:\n",
    "        print(f'No data left for test data')\n",
    "        break\n",
    "    print(f'test_data ({len(test_data)}) quants from {min(test_data[\"time_quant\"])} to {max(test_data[\"time_quant\"])}')\n",
    "\n",
    "    train_len += len(train_data)\n",
    "    up_train_len += len(train_data[train_data[target] == 'up'])\n",
    "\n",
    "    # Create Pool\n",
    "    train_pool = Pool(data=train_data[feature_names], label=train_data[target], cat_features=cat_feature_names)\n",
    "    test_pool = Pool(data=test_data[feature_names], label=test_data[target], cat_features=cat_feature_names)\n",
    "\n",
    "    # Train model\n",
    "    model.fit(train_pool)\n",
    "\n",
    "    # Predict\n",
    "    classes = model.classes_\n",
    "    probs = model.predict_proba(test_pool)\n",
    "    classes_to_index = {c: i for i, c in enumerate(classes)}\n",
    "    \n",
    "    for probs_row in probs:\n",
    "        raw_predictions.append(classes[probs_row.argmax()])\n",
    "        up_probabilities.append(probs_row[classes_to_index['up']])\n",
    "        down_probabilities.append(probs_row[classes_to_index['down']])\n",
    "\n",
    "    actuals.extend(test_data[target].values)\n",
    "    if len(details_df) == 0:\n",
    "        details_df = test_data\n",
    "    else:\n",
    "        details_df = pd.concat([details_df, test_data])\n",
    "    \n"
   ],
   "metadata": {
    "collapsed": false,
    "ExecuteTime": {
     "end_time": "2024-01-07T20:03:44.489688Z",
     "start_time": "2024-01-07T20:03:33.705733Z"
    }
   },
   "id": "62eb4dc2618fa53e"
  },
  {
   "cell_type": "code",
   "execution_count": 198,
   "outputs": [
    {
     "name": "stdout",
     "output_type": "stream",
     "text": [
      "desired_up_amount: 448 of 1165\n",
      "up_threshold: 0.18733007171798466\n",
      "pred len 86889, actuals len 86889, comparison_df len 86889, details len 86889, results_df len 86889\n",
      "Confusion Matrix:\n",
      "        up   flat  down\n",
      "up     51   1072    42\n",
      "flat  322  77376  1062\n",
      "down   76   5734  1154\n",
      "ROI1: 117.15% of 100%\n",
      "ROI2: 45.43% of 100%\n",
      "Bench ROI2: 5.36% of 100%\n",
      "Used: 0.52% (449 of 86889 trades)\n",
      "\n",
      "purchased upsides: 2.3345237325347252, top 10 upsides ['129', '42', '29', '24', '24', '21', '21', '17', '17', '16']\n",
      "all upsides: 38574.93220678135, top 10 upsides ['673911303', '673553912', '671021262', '666829715', '666323198', '4532', '1821', '819', '733', '612']\n"
     ]
    }
   ],
   "source": [
    "import numpy as np\n",
    "\n",
    "desired_up_amount = int(up_train_len * 1. / train_len * len(actuals) * 0.3)\n",
    "print(f\"desired_up_amount: {desired_up_amount} of {actuals.count('up')}\")\n",
    "\n",
    "delta_probabilities = list(np.array(up_probabilities) - np.array(down_probabilities) / CHANGE_MAGNITUDE)\n",
    "\n",
    "up_threshold = sorted(delta_probabilities, reverse=True)[desired_up_amount]\n",
    "print(f\"up_threshold: {up_threshold}\")\n",
    "\n",
    "predictions = []\n",
    "for raw_pred, up_prob in zip(raw_predictions, delta_probabilities):\n",
    "    if up_prob < up_threshold:\n",
    "        predictions.append(raw_pred if raw_pred != 'up' else 'flat')\n",
    "    else:\n",
    "        predictions.append('up')\n",
    "\n",
    "# Confusion Matrix\n",
    "conf_matrix = confusion_matrix(actuals, predictions, labels=['up', 'flat', 'down'])\n",
    "conf_matrix_df = pd.DataFrame(conf_matrix, index=['up', 'flat', 'down'], columns=['up', 'flat', 'down'])\n",
    "\n",
    "# Last iteration's predictions and actuals\n",
    "comparison_df = pd.DataFrame({'Actual': actuals, 'Predicted': predictions, 'UpP': up_probabilities, 'DownP': down_probabilities})\n",
    "# comparison_df = comparison_df.reset_index(drop=True)\n",
    "\n",
    "# add details to results_df\n",
    "results_df = pd.concat([comparison_df.reset_index(drop=True), details_df.reset_index(drop=True)], axis=1)\n",
    "print(f\"pred len {len(predictions)}, actuals len {len(actuals)}, \"\n",
    "      f\"comparison_df len {len(comparison_df)}, details len {len(details_df)}, results_df len {len(results_df)}\")\n",
    "\n",
    "#join prices to results_df\n",
    "# results_df = results_df.join(prices[['mint', 'hour', 'price'+prediction_type['suffix']]].set_index(['mint', 'hour']), on=['mint', 'hour'])\n",
    "results_df['upside'] = results_df['future_price'] / results_df['price']\n",
    "# if price is inf, set upside to 0\n",
    "results_df['upside'] = results_df['upside'].replace([np.inf, -np.inf], 1)\n",
    "\n",
    "purchased_upsides = results_df[(results_df['Predicted']=='up')]['upside']\n",
    "all_upsides = results_df['upside']\n",
    "\n",
    "\n",
    "# Output\n",
    "print(\"Confusion Matrix:\\n\", conf_matrix_df)\n",
    "print(\"ROI1: %.2f%% of 100%%\\n\"\n",
    "      \"ROI2: %.2f%% of 100%%\\n\"\n",
    "      \"Bench ROI2: %.2f%% of 100%%\\n\"\n",
    "      \"Used: %.2f%% (%d of %d trades)\\n\"\n",
    "      %(\n",
    "        (100 * (CHANGE_MAGNITUDE * 1. * conf_matrix_df.loc['up', 'up'].sum() + conf_matrix_df.loc['flat', 'up'].sum()) / conf_matrix_df.loc[:, 'up'].sum()),\n",
    "        (100 * (CHANGE_MAGNITUDE * 1. * conf_matrix_df.loc['up', 'up'].sum()) / conf_matrix_df.loc[:, 'up'].sum()),\n",
    "        (100 * (CHANGE_MAGNITUDE * 1. * conf_matrix_df.loc['up', :].sum()) / conf_matrix_df.loc[:, :].sum().sum()),\n",
    "        (100 * (1. * conf_matrix_df.loc[:, 'up'].sum()) / conf_matrix_df.loc[:, :].sum().sum()),\n",
    "        conf_matrix_df.loc[:, 'up'].sum(),\n",
    "        conf_matrix_df.loc[:, :].sum().sum(),\n",
    "      )\n",
    "      )\n",
    "print(f'purchased upsides: {purchased_upsides.mean()}, top 10 upsides {[\"%.0f\" % u for u in list(purchased_upsides.sort_values(ascending=False).head(10))]}')\n",
    "print(f'all upsides: {all_upsides.mean()}, top 10 upsides {[\"%.0f\" % u for u in list(all_upsides.sort_values(ascending=False).head(10))]}')"
   ],
   "metadata": {
    "collapsed": false,
    "ExecuteTime": {
     "end_time": "2024-01-07T18:45:13.468998Z",
     "start_time": "2024-01-07T18:45:13.303636Z"
    }
   },
   "id": "fef1b11c7c2205ff"
  },
  {
   "cell_type": "code",
   "execution_count": 201,
   "outputs": [
    {
     "name": "stdout",
     "output_type": "stream",
     "text": [
      "Confusion Matrix:\n",
      "        up   flat  down\n",
      "up     51   1072    42\n",
      "flat  322  77376  1062\n",
      "down   76   5734  1154\n",
      "ROI1: 117.15% of 100%\n",
      "ROI2: 45.43% of 100%\n",
      "Bench ROI2: 5.36% of 100%\n",
      "Used: 0.52% (449 of 86889 trades)\n",
      "\n",
      "purchased upsides: 2.3345237325347252, top 10 upsides ['129', '42', '29', '24', '24', '21', '21', '17', '17', '16']\n",
      "all upsides: 38574.93220678135, top 10 upsides ['673911303', '673553912', '671021262', '666829715', '666323198', '4532', '1821', '819', '733', '612']\n"
     ]
    }
   ],
   "source": [
    "print(\"Confusion Matrix:\\n\", conf_matrix_df)\n",
    "print(\"ROI1: %.2f%% of 100%%\\n\"\n",
    "      \"ROI2: %.2f%% of 100%%\\n\"\n",
    "      \"Bench ROI2: %.2f%% of 100%%\\n\"\n",
    "      \"Used: %.2f%% (%d of %d trades)\\n\"\n",
    "      %(\n",
    "        (100 * (CHANGE_MAGNITUDE * 1. * conf_matrix_df.loc['up', 'up'].sum() + conf_matrix_df.loc['flat', 'up'].sum()) / conf_matrix_df.loc[:, 'up'].sum()),\n",
    "        (100 * (CHANGE_MAGNITUDE * 1. * conf_matrix_df.loc['up', 'up'].sum()) / conf_matrix_df.loc[:, 'up'].sum()),\n",
    "        (100 * (CHANGE_MAGNITUDE * 1. * conf_matrix_df.loc['up', :].sum()) / conf_matrix_df.loc[:, :].sum().sum()),\n",
    "        (100 * (1. * conf_matrix_df.loc[:, 'up'].sum()) / conf_matrix_df.loc[:, :].sum().sum()),\n",
    "        conf_matrix_df.loc[:, 'up'].sum(),\n",
    "        conf_matrix_df.loc[:, :].sum().sum(),\n",
    "      )\n",
    "      )\n",
    "print(f'purchased upsides: {purchased_upsides.mean()}, top 10 upsides {[\"%.0f\" % u for u in list(purchased_upsides.sort_values(ascending=False).head(10))]}')\n",
    "print(f'all upsides: {all_upsides.mean()}, top 10 upsides {[\"%.0f\" % u for u in list(all_upsides.sort_values(ascending=False).head(10))]}')"
   ],
   "metadata": {
    "collapsed": false,
    "ExecuteTime": {
     "end_time": "2024-01-07T19:00:52.672293Z",
     "start_time": "2024-01-07T19:00:52.625166Z"
    }
   },
   "id": "94a5c8e242f78fdf"
  },
  {
   "cell_type": "code",
   "execution_count": 192,
   "outputs": [
    {
     "data": {
      "text/plain": "          Feature Id  Importances\n0        day_of_week    14.017219\n1     u_price_sma_1d     6.998254\n2               hour     6.393075\n3     sma_vol_buy_1d     4.207718\n4    sma_vol_sell_1d     3.716417\n5     u_price_ema_1d     3.418869\n6     sma_vol_buy_1h     3.262728\n7    sma_vol_sell_1h     2.834086\n8     ema_vol_buy_4h     2.791655\n9    ema_vol_sell_1d     2.754407\n10    u_price_ema_4h     2.665849\n11    u_price_sma_4h     2.600587\n12   sma_vol_buy_10m     2.576241\n13    ema_vol_buy_1d     2.471733\n14   ema_vol_sell_4h     2.223838\n15    u_price_ema_1h     2.195759\n16    sma_vol_sum_1d     2.183134\n17    u_price_sma_1h     2.147232\n18   u_price_rsi_10m     2.090416\n19    sma_vol_buy_4h     2.028427\n20    u_price_rsi_1h     1.905290\n21   sma_vol_sell_4h     1.879948\n22    u_price_rsi_1d     1.869367\n23    ema_vol_buy_1h     1.850999\n24    u_price_rsi_4h     1.840931\n25  sma_vol_sell_10m     1.802944\n26    sma_vol_sum_1h     1.727117\n27   ema_vol_sell_1h     1.622644\n28    ema_vol_sum_1d     1.598142\n29    ema_vol_sum_4h     1.395980\n30   u_price_ema_10m     1.337795\n31   u_price_sma_10m     1.336386\n32  ema_vol_sell_10m     1.194868\n33   sma_vol_sum_10m     1.087593\n34    ema_vol_sum_1h     1.086572\n35   ema_vol_buy_10m     1.010979\n36    sma_vol_sum_4h     0.964970\n37   ema_vol_sum_10m     0.909831",
      "text/html": "<div>\n<style scoped>\n    .dataframe tbody tr th:only-of-type {\n        vertical-align: middle;\n    }\n\n    .dataframe tbody tr th {\n        vertical-align: top;\n    }\n\n    .dataframe thead th {\n        text-align: right;\n    }\n</style>\n<table border=\"1\" class=\"dataframe\">\n  <thead>\n    <tr style=\"text-align: right;\">\n      <th></th>\n      <th>Feature Id</th>\n      <th>Importances</th>\n    </tr>\n  </thead>\n  <tbody>\n    <tr>\n      <th>0</th>\n      <td>day_of_week</td>\n      <td>14.017219</td>\n    </tr>\n    <tr>\n      <th>1</th>\n      <td>u_price_sma_1d</td>\n      <td>6.998254</td>\n    </tr>\n    <tr>\n      <th>2</th>\n      <td>hour</td>\n      <td>6.393075</td>\n    </tr>\n    <tr>\n      <th>3</th>\n      <td>sma_vol_buy_1d</td>\n      <td>4.207718</td>\n    </tr>\n    <tr>\n      <th>4</th>\n      <td>sma_vol_sell_1d</td>\n      <td>3.716417</td>\n    </tr>\n    <tr>\n      <th>5</th>\n      <td>u_price_ema_1d</td>\n      <td>3.418869</td>\n    </tr>\n    <tr>\n      <th>6</th>\n      <td>sma_vol_buy_1h</td>\n      <td>3.262728</td>\n    </tr>\n    <tr>\n      <th>7</th>\n      <td>sma_vol_sell_1h</td>\n      <td>2.834086</td>\n    </tr>\n    <tr>\n      <th>8</th>\n      <td>ema_vol_buy_4h</td>\n      <td>2.791655</td>\n    </tr>\n    <tr>\n      <th>9</th>\n      <td>ema_vol_sell_1d</td>\n      <td>2.754407</td>\n    </tr>\n    <tr>\n      <th>10</th>\n      <td>u_price_ema_4h</td>\n      <td>2.665849</td>\n    </tr>\n    <tr>\n      <th>11</th>\n      <td>u_price_sma_4h</td>\n      <td>2.600587</td>\n    </tr>\n    <tr>\n      <th>12</th>\n      <td>sma_vol_buy_10m</td>\n      <td>2.576241</td>\n    </tr>\n    <tr>\n      <th>13</th>\n      <td>ema_vol_buy_1d</td>\n      <td>2.471733</td>\n    </tr>\n    <tr>\n      <th>14</th>\n      <td>ema_vol_sell_4h</td>\n      <td>2.223838</td>\n    </tr>\n    <tr>\n      <th>15</th>\n      <td>u_price_ema_1h</td>\n      <td>2.195759</td>\n    </tr>\n    <tr>\n      <th>16</th>\n      <td>sma_vol_sum_1d</td>\n      <td>2.183134</td>\n    </tr>\n    <tr>\n      <th>17</th>\n      <td>u_price_sma_1h</td>\n      <td>2.147232</td>\n    </tr>\n    <tr>\n      <th>18</th>\n      <td>u_price_rsi_10m</td>\n      <td>2.090416</td>\n    </tr>\n    <tr>\n      <th>19</th>\n      <td>sma_vol_buy_4h</td>\n      <td>2.028427</td>\n    </tr>\n    <tr>\n      <th>20</th>\n      <td>u_price_rsi_1h</td>\n      <td>1.905290</td>\n    </tr>\n    <tr>\n      <th>21</th>\n      <td>sma_vol_sell_4h</td>\n      <td>1.879948</td>\n    </tr>\n    <tr>\n      <th>22</th>\n      <td>u_price_rsi_1d</td>\n      <td>1.869367</td>\n    </tr>\n    <tr>\n      <th>23</th>\n      <td>ema_vol_buy_1h</td>\n      <td>1.850999</td>\n    </tr>\n    <tr>\n      <th>24</th>\n      <td>u_price_rsi_4h</td>\n      <td>1.840931</td>\n    </tr>\n    <tr>\n      <th>25</th>\n      <td>sma_vol_sell_10m</td>\n      <td>1.802944</td>\n    </tr>\n    <tr>\n      <th>26</th>\n      <td>sma_vol_sum_1h</td>\n      <td>1.727117</td>\n    </tr>\n    <tr>\n      <th>27</th>\n      <td>ema_vol_sell_1h</td>\n      <td>1.622644</td>\n    </tr>\n    <tr>\n      <th>28</th>\n      <td>ema_vol_sum_1d</td>\n      <td>1.598142</td>\n    </tr>\n    <tr>\n      <th>29</th>\n      <td>ema_vol_sum_4h</td>\n      <td>1.395980</td>\n    </tr>\n    <tr>\n      <th>30</th>\n      <td>u_price_ema_10m</td>\n      <td>1.337795</td>\n    </tr>\n    <tr>\n      <th>31</th>\n      <td>u_price_sma_10m</td>\n      <td>1.336386</td>\n    </tr>\n    <tr>\n      <th>32</th>\n      <td>ema_vol_sell_10m</td>\n      <td>1.194868</td>\n    </tr>\n    <tr>\n      <th>33</th>\n      <td>sma_vol_sum_10m</td>\n      <td>1.087593</td>\n    </tr>\n    <tr>\n      <th>34</th>\n      <td>ema_vol_sum_1h</td>\n      <td>1.086572</td>\n    </tr>\n    <tr>\n      <th>35</th>\n      <td>ema_vol_buy_10m</td>\n      <td>1.010979</td>\n    </tr>\n    <tr>\n      <th>36</th>\n      <td>sma_vol_sum_4h</td>\n      <td>0.964970</td>\n    </tr>\n    <tr>\n      <th>37</th>\n      <td>ema_vol_sum_10m</td>\n      <td>0.909831</td>\n    </tr>\n  </tbody>\n</table>\n</div>"
     },
     "execution_count": 192,
     "metadata": {},
     "output_type": "execute_result"
    }
   ],
   "source": [
    "# feature importance\n",
    "model.get_feature_importance(prettified=True)"
   ],
   "metadata": {
    "collapsed": false,
    "ExecuteTime": {
     "end_time": "2024-01-07T18:41:07.730167Z",
     "start_time": "2024-01-07T18:41:07.719024Z"
    }
   },
   "id": "aa3a8642a70c940b"
  },
  {
   "cell_type": "code",
   "execution_count": 199,
   "outputs": [
    {
     "data": {
      "text/plain": "                                               mint          time_quant  \\\n83815  DqTKHDkRttkuHoFUJWZ3zUbxRrdsndTwe7qKwDG6SYCS 2024-01-06 05:20:00   \n83104  4M1cAJY21mzQSnoGu9gNW8dE7gf9ArJCi5VWoCLH1w1v 2024-01-06 02:40:00   \n83003  4M1cAJY21mzQSnoGu9gNW8dE7gf9ArJCi5VWoCLH1w1v 2024-01-06 02:20:00   \n82956  4M1cAJY21mzQSnoGu9gNW8dE7gf9ArJCi5VWoCLH1w1v 2024-01-06 02:10:00   \n77413  C9o9XkXyBXNodn2A7JsyAiTepT6Vkhsxi5N1GZV4VaSB 2024-01-05 09:10:00   \n77069  EkHr62PC6Y1axrLS7cR8YC4BZeW19mtHxQLCLMrf9vnq 2024-01-05 07:40:00   \n66931  2g4o5LLBFr2JHjwLveRFA8aeaHiX4qTjCmmcSBZCqEGa 2024-01-03 23:40:00   \n66877  2g4o5LLBFr2JHjwLveRFA8aeaHiX4qTjCmmcSBZCqEGa 2024-01-03 23:30:00   \n66665  DWq5ZpbAHkCmhVLLsGs3MzC9d4E7KVhxB7TA1tkHhQq5 2024-01-03 22:50:00   \n64917  DWq5ZpbAHkCmhVLLsGs3MzC9d4E7KVhxB7TA1tkHhQq5 2024-01-03 18:10:00   \n61101  AVLhahDcDQ4m4vHM4ug63oh7xc8Jtk49Dm5hoe9Sazqr 2024-01-03 06:40:00   \n59328  2Ps1ComVNjCc6fUEqWGoWcyWjG1Y8s8A97B11EjzEXHC 2024-01-03 01:00:00   \n58705  2Ps1ComVNjCc6fUEqWGoWcyWjG1Y8s8A97B11EjzEXHC 2024-01-02 23:00:00   \n58560  7k6cZGzuBjstHqaY2RLZ2h33jWF5oKWR6zHbFpfkt3Re 2024-01-02 22:30:00   \n58327  14JnYcbAooDAZVb72DgmFGVZGDon5Ko4SN6ELrpU6ood 2024-01-02 21:50:00   \n57504  14JnYcbAooDAZVb72DgmFGVZGDon5Ko4SN6ELrpU6ood 2024-01-02 19:10:00   \n55170  GACxkcy9WDWHhB15oKLHp3PPzQV4zLt2m7dcGPoZLkZY 2024-01-02 11:00:00   \n55122  GACxkcy9WDWHhB15oKLHp3PPzQV4zLt2m7dcGPoZLkZY 2024-01-02 10:50:00   \n55109  97ZYFrpfucrUERoeP1vuJpyrMizaCUNUYkKdxf4QYPNh 2024-01-02 10:50:00   \n54671  GACxkcy9WDWHhB15oKLHp3PPzQV4zLt2m7dcGPoZLkZY 2024-01-02 09:00:00   \n54324  GACxkcy9WDWHhB15oKLHp3PPzQV4zLt2m7dcGPoZLkZY 2024-01-02 07:40:00   \n52908  AVLhahDcDQ4m4vHM4ug63oh7xc8Jtk49Dm5hoe9Sazqr 2024-01-02 02:50:00   \n40634  6Ym4et2GipDrU1jZ9zbsn1a36qbyg4vM7hmQinsTH6S2 2023-12-31 08:30:00   \n40596  6Ym4et2GipDrU1jZ9zbsn1a36qbyg4vM7hmQinsTH6S2 2023-12-31 08:20:00   \n37729  J34usKXUTz4aCanKftng4H3Szo2xg2hDbPFs5nsQ7adq 2023-12-30 19:10:00   \n37677  J34usKXUTz4aCanKftng4H3Szo2xg2hDbPFs5nsQ7adq 2023-12-30 19:00:00   \n35128  E2x5XH8eHkZGiaA8mFicU5CoGUJxSRKiXjEW5Nybf8Nn 2023-12-30 10:50:00   \n34427  8jPA4dUfhEcCPUd1cnXpTwsTZRCF2sxTfguQszJZjFWZ 2023-12-30 08:10:00   \n33133  9mk9KHxvNp968URfYpX6XKixJXZC3nUY85hs6DCC7Yo8 2023-12-30 03:30:00   \n32633   gxNuJSHRScR7WkzQEYqvxVditaKkcc9V32KXPJLCbcT 2023-12-30 01:30:00   \n32467   gxNuJSHRScR7WkzQEYqvxVditaKkcc9V32KXPJLCbcT 2023-12-30 00:50:00   \n32420   gxNuJSHRScR7WkzQEYqvxVditaKkcc9V32KXPJLCbcT 2023-12-30 00:40:00   \n31437  4MPD7cGs9746SkZnqhfRigNmpNq17EgTt76YHKC6GEbN 2023-12-29 21:20:00   \n30076  FvVDc6gZmYho6DLLuJ3ptHS6rxb797Cxf1insiUnu2BL 2023-12-29 16:40:00   \n29980  FvVDc6gZmYho6DLLuJ3ptHS6rxb797Cxf1insiUnu2BL 2023-12-29 16:20:00   \n28945  FvVDc6gZmYho6DLLuJ3ptHS6rxb797Cxf1insiUnu2BL 2023-12-29 12:30:00   \n28858  HF4b3Ttibi67z7McyugUgiQUc2Z3XRECTY5QFYiqbZXF 2023-12-29 12:10:00   \n27147  FvVDc6gZmYho6DLLuJ3ptHS6rxb797Cxf1insiUnu2BL 2023-12-29 04:50:00   \n26229  2FprjEk4MTSY9CxpKuENbGDdy69R15GHhtHpG5Durdbq 2023-12-29 01:10:00   \n26060  EVoLsbmQXT6R3b11WjPpGEXyCjw1zmmir271XqDbKRsg 2023-12-29 00:20:00   \n25685  FvVDc6gZmYho6DLLuJ3ptHS6rxb797Cxf1insiUnu2BL 2023-12-28 22:50:00   \n25315  4jZXkSNgTQKCDb36ECZ6a2aNzcUniGcDeXgTdtM2HxAX 2023-12-28 21:40:00   \n11999  CUwif1FiX5b3bwwb2n5Bm35AixvnR8LJjGUVmEwNZNgR 2023-12-26 23:20:00   \n11951  CUwif1FiX5b3bwwb2n5Bm35AixvnR8LJjGUVmEwNZNgR 2023-12-26 23:10:00   \n11811  BzS2tLd5fzx94EBQoLCnmQbafX4meiahziaCR8xvMjxf 2023-12-26 22:40:00   \n11676  CUwif1FiX5b3bwwb2n5Bm35AixvnR8LJjGUVmEwNZNgR 2023-12-26 22:10:00   \n11574  BzS2tLd5fzx94EBQoLCnmQbafX4meiahziaCR8xvMjxf 2023-12-26 21:50:00   \n11521  CUwif1FiX5b3bwwb2n5Bm35AixvnR8LJjGUVmEwNZNgR 2023-12-26 21:40:00   \n7844   87QbDz6Ze5B8L3PoGvqLyJ3JAydi39jNtvzXDEz7zbcK 2023-12-26 08:10:00   \n5685   59JqWigb2AUvqjzY1bPz4RgYosY5pC5VGPCjiKPjqssH 2023-12-26 00:30:00   \n1882   HUdqc5MR5h3FssESabPnQ1GTgTcPvnNudAuLj5J6a9sU 2023-12-25 12:20:00   \n\n              price  future_price      upside  \n83815  1.952371e-08  8.255744e-07   42.285727  \n83104  1.082376e-05  4.485706e-05    4.144315  \n83003  7.486412e-06  3.940618e-05    5.263694  \n82956  9.044381e-06  3.940618e-05    4.356979  \n77413  5.480164e-05  2.210055e-04    4.032827  \n77069  4.017580e-07  1.751642e-06    4.359943  \n66931  8.110538e-07  4.559834e-06    5.622110  \n66877  8.453150e-07  4.559834e-06    5.394242  \n66665  2.361699e-06  1.644946e-05    6.965097  \n64917  2.371680e-06  1.212623e-05    5.112927  \n61101  1.482533e-06  9.592400e-06    6.470276  \n59328  2.091527e-07  1.337685e-06    6.395731  \n58705  1.254237e-07  1.021704e-06    8.146022  \n58560  1.241381e-05  5.032475e-05    4.053931  \n58327  5.657210e-08  5.282535e-07    9.337704  \n57504  1.642084e-08  4.834221e-07   29.439542  \n55170  6.391965e-09  4.502332e-08    7.043736  \n55122  6.436829e-09  4.502332e-08    6.994642  \n55109  3.643729e-08  2.247822e-07    6.169014  \n54671  6.857247e-09  5.584101e-08    8.143356  \n54324  7.609976e-09  5.936446e-08    7.800873  \n52908  1.461313e-07  1.745297e-06   11.943349  \n40634  5.207013e-08  6.555626e-07   12.589993  \n40596  2.731869e-08  6.555626e-07   23.996852  \n37729  3.245287e-07  3.801649e-06   11.714369  \n37677  3.203634e-07  3.048127e-06    9.514592  \n35128  1.003010e-07  1.296488e-05  129.259726  \n34427  3.896971e-07  1.759827e-06    4.515885  \n33133  2.739154e-02  2.246195e-01    8.200324  \n32633  3.114076e-05  2.523964e-04    8.105017  \n32467  1.380980e-05  2.854570e-04   20.670610  \n32420  1.449023e-05  2.474649e-04   17.078049  \n31437  8.671353e-06  4.300547e-05    4.959488  \n30076  3.269423e-09  6.816458e-08   20.849114  \n29980  2.489064e-09  4.141720e-08   16.639666  \n28945  2.193188e-09  5.250520e-08   23.940124  \n28858  7.537080e-07  5.190010e-06    6.885969  \n27147  3.792405e-09  1.694089e-08    4.467057  \n26229  2.302388e-03  1.172161e-02    5.091067  \n26060  2.198067e-04  1.042539e-03    4.742981  \n25685  2.660825e-09  3.047747e-08   11.454141  \n25315  2.876969e-07  1.640900e-06    5.703570  \n11999  1.572431e-06  7.568911e-06    4.813510  \n11951  1.623960e-06  7.143670e-06    4.398920  \n11811  3.111117e-07  3.140009e-06   10.092866  \n11676  1.210432e-06  6.961297e-06    5.751086  \n11574  6.862414e-07  4.712628e-06    6.867304  \n11521  4.707550e-07  7.703600e-06   16.364351  \n7844   1.911103e-09  1.454661e-08    7.611631  \n5685   1.231740e-08  8.053917e-08    6.538651  \n1882   2.299578e-07  1.547485e-06    6.729431  ",
      "text/html": "<div>\n<style scoped>\n    .dataframe tbody tr th:only-of-type {\n        vertical-align: middle;\n    }\n\n    .dataframe tbody tr th {\n        vertical-align: top;\n    }\n\n    .dataframe thead th {\n        text-align: right;\n    }\n</style>\n<table border=\"1\" class=\"dataframe\">\n  <thead>\n    <tr style=\"text-align: right;\">\n      <th></th>\n      <th>mint</th>\n      <th>time_quant</th>\n      <th>price</th>\n      <th>future_price</th>\n      <th>upside</th>\n    </tr>\n  </thead>\n  <tbody>\n    <tr>\n      <th>83815</th>\n      <td>DqTKHDkRttkuHoFUJWZ3zUbxRrdsndTwe7qKwDG6SYCS</td>\n      <td>2024-01-06 05:20:00</td>\n      <td>1.952371e-08</td>\n      <td>8.255744e-07</td>\n      <td>42.285727</td>\n    </tr>\n    <tr>\n      <th>83104</th>\n      <td>4M1cAJY21mzQSnoGu9gNW8dE7gf9ArJCi5VWoCLH1w1v</td>\n      <td>2024-01-06 02:40:00</td>\n      <td>1.082376e-05</td>\n      <td>4.485706e-05</td>\n      <td>4.144315</td>\n    </tr>\n    <tr>\n      <th>83003</th>\n      <td>4M1cAJY21mzQSnoGu9gNW8dE7gf9ArJCi5VWoCLH1w1v</td>\n      <td>2024-01-06 02:20:00</td>\n      <td>7.486412e-06</td>\n      <td>3.940618e-05</td>\n      <td>5.263694</td>\n    </tr>\n    <tr>\n      <th>82956</th>\n      <td>4M1cAJY21mzQSnoGu9gNW8dE7gf9ArJCi5VWoCLH1w1v</td>\n      <td>2024-01-06 02:10:00</td>\n      <td>9.044381e-06</td>\n      <td>3.940618e-05</td>\n      <td>4.356979</td>\n    </tr>\n    <tr>\n      <th>77413</th>\n      <td>C9o9XkXyBXNodn2A7JsyAiTepT6Vkhsxi5N1GZV4VaSB</td>\n      <td>2024-01-05 09:10:00</td>\n      <td>5.480164e-05</td>\n      <td>2.210055e-04</td>\n      <td>4.032827</td>\n    </tr>\n    <tr>\n      <th>77069</th>\n      <td>EkHr62PC6Y1axrLS7cR8YC4BZeW19mtHxQLCLMrf9vnq</td>\n      <td>2024-01-05 07:40:00</td>\n      <td>4.017580e-07</td>\n      <td>1.751642e-06</td>\n      <td>4.359943</td>\n    </tr>\n    <tr>\n      <th>66931</th>\n      <td>2g4o5LLBFr2JHjwLveRFA8aeaHiX4qTjCmmcSBZCqEGa</td>\n      <td>2024-01-03 23:40:00</td>\n      <td>8.110538e-07</td>\n      <td>4.559834e-06</td>\n      <td>5.622110</td>\n    </tr>\n    <tr>\n      <th>66877</th>\n      <td>2g4o5LLBFr2JHjwLveRFA8aeaHiX4qTjCmmcSBZCqEGa</td>\n      <td>2024-01-03 23:30:00</td>\n      <td>8.453150e-07</td>\n      <td>4.559834e-06</td>\n      <td>5.394242</td>\n    </tr>\n    <tr>\n      <th>66665</th>\n      <td>DWq5ZpbAHkCmhVLLsGs3MzC9d4E7KVhxB7TA1tkHhQq5</td>\n      <td>2024-01-03 22:50:00</td>\n      <td>2.361699e-06</td>\n      <td>1.644946e-05</td>\n      <td>6.965097</td>\n    </tr>\n    <tr>\n      <th>64917</th>\n      <td>DWq5ZpbAHkCmhVLLsGs3MzC9d4E7KVhxB7TA1tkHhQq5</td>\n      <td>2024-01-03 18:10:00</td>\n      <td>2.371680e-06</td>\n      <td>1.212623e-05</td>\n      <td>5.112927</td>\n    </tr>\n    <tr>\n      <th>61101</th>\n      <td>AVLhahDcDQ4m4vHM4ug63oh7xc8Jtk49Dm5hoe9Sazqr</td>\n      <td>2024-01-03 06:40:00</td>\n      <td>1.482533e-06</td>\n      <td>9.592400e-06</td>\n      <td>6.470276</td>\n    </tr>\n    <tr>\n      <th>59328</th>\n      <td>2Ps1ComVNjCc6fUEqWGoWcyWjG1Y8s8A97B11EjzEXHC</td>\n      <td>2024-01-03 01:00:00</td>\n      <td>2.091527e-07</td>\n      <td>1.337685e-06</td>\n      <td>6.395731</td>\n    </tr>\n    <tr>\n      <th>58705</th>\n      <td>2Ps1ComVNjCc6fUEqWGoWcyWjG1Y8s8A97B11EjzEXHC</td>\n      <td>2024-01-02 23:00:00</td>\n      <td>1.254237e-07</td>\n      <td>1.021704e-06</td>\n      <td>8.146022</td>\n    </tr>\n    <tr>\n      <th>58560</th>\n      <td>7k6cZGzuBjstHqaY2RLZ2h33jWF5oKWR6zHbFpfkt3Re</td>\n      <td>2024-01-02 22:30:00</td>\n      <td>1.241381e-05</td>\n      <td>5.032475e-05</td>\n      <td>4.053931</td>\n    </tr>\n    <tr>\n      <th>58327</th>\n      <td>14JnYcbAooDAZVb72DgmFGVZGDon5Ko4SN6ELrpU6ood</td>\n      <td>2024-01-02 21:50:00</td>\n      <td>5.657210e-08</td>\n      <td>5.282535e-07</td>\n      <td>9.337704</td>\n    </tr>\n    <tr>\n      <th>57504</th>\n      <td>14JnYcbAooDAZVb72DgmFGVZGDon5Ko4SN6ELrpU6ood</td>\n      <td>2024-01-02 19:10:00</td>\n      <td>1.642084e-08</td>\n      <td>4.834221e-07</td>\n      <td>29.439542</td>\n    </tr>\n    <tr>\n      <th>55170</th>\n      <td>GACxkcy9WDWHhB15oKLHp3PPzQV4zLt2m7dcGPoZLkZY</td>\n      <td>2024-01-02 11:00:00</td>\n      <td>6.391965e-09</td>\n      <td>4.502332e-08</td>\n      <td>7.043736</td>\n    </tr>\n    <tr>\n      <th>55122</th>\n      <td>GACxkcy9WDWHhB15oKLHp3PPzQV4zLt2m7dcGPoZLkZY</td>\n      <td>2024-01-02 10:50:00</td>\n      <td>6.436829e-09</td>\n      <td>4.502332e-08</td>\n      <td>6.994642</td>\n    </tr>\n    <tr>\n      <th>55109</th>\n      <td>97ZYFrpfucrUERoeP1vuJpyrMizaCUNUYkKdxf4QYPNh</td>\n      <td>2024-01-02 10:50:00</td>\n      <td>3.643729e-08</td>\n      <td>2.247822e-07</td>\n      <td>6.169014</td>\n    </tr>\n    <tr>\n      <th>54671</th>\n      <td>GACxkcy9WDWHhB15oKLHp3PPzQV4zLt2m7dcGPoZLkZY</td>\n      <td>2024-01-02 09:00:00</td>\n      <td>6.857247e-09</td>\n      <td>5.584101e-08</td>\n      <td>8.143356</td>\n    </tr>\n    <tr>\n      <th>54324</th>\n      <td>GACxkcy9WDWHhB15oKLHp3PPzQV4zLt2m7dcGPoZLkZY</td>\n      <td>2024-01-02 07:40:00</td>\n      <td>7.609976e-09</td>\n      <td>5.936446e-08</td>\n      <td>7.800873</td>\n    </tr>\n    <tr>\n      <th>52908</th>\n      <td>AVLhahDcDQ4m4vHM4ug63oh7xc8Jtk49Dm5hoe9Sazqr</td>\n      <td>2024-01-02 02:50:00</td>\n      <td>1.461313e-07</td>\n      <td>1.745297e-06</td>\n      <td>11.943349</td>\n    </tr>\n    <tr>\n      <th>40634</th>\n      <td>6Ym4et2GipDrU1jZ9zbsn1a36qbyg4vM7hmQinsTH6S2</td>\n      <td>2023-12-31 08:30:00</td>\n      <td>5.207013e-08</td>\n      <td>6.555626e-07</td>\n      <td>12.589993</td>\n    </tr>\n    <tr>\n      <th>40596</th>\n      <td>6Ym4et2GipDrU1jZ9zbsn1a36qbyg4vM7hmQinsTH6S2</td>\n      <td>2023-12-31 08:20:00</td>\n      <td>2.731869e-08</td>\n      <td>6.555626e-07</td>\n      <td>23.996852</td>\n    </tr>\n    <tr>\n      <th>37729</th>\n      <td>J34usKXUTz4aCanKftng4H3Szo2xg2hDbPFs5nsQ7adq</td>\n      <td>2023-12-30 19:10:00</td>\n      <td>3.245287e-07</td>\n      <td>3.801649e-06</td>\n      <td>11.714369</td>\n    </tr>\n    <tr>\n      <th>37677</th>\n      <td>J34usKXUTz4aCanKftng4H3Szo2xg2hDbPFs5nsQ7adq</td>\n      <td>2023-12-30 19:00:00</td>\n      <td>3.203634e-07</td>\n      <td>3.048127e-06</td>\n      <td>9.514592</td>\n    </tr>\n    <tr>\n      <th>35128</th>\n      <td>E2x5XH8eHkZGiaA8mFicU5CoGUJxSRKiXjEW5Nybf8Nn</td>\n      <td>2023-12-30 10:50:00</td>\n      <td>1.003010e-07</td>\n      <td>1.296488e-05</td>\n      <td>129.259726</td>\n    </tr>\n    <tr>\n      <th>34427</th>\n      <td>8jPA4dUfhEcCPUd1cnXpTwsTZRCF2sxTfguQszJZjFWZ</td>\n      <td>2023-12-30 08:10:00</td>\n      <td>3.896971e-07</td>\n      <td>1.759827e-06</td>\n      <td>4.515885</td>\n    </tr>\n    <tr>\n      <th>33133</th>\n      <td>9mk9KHxvNp968URfYpX6XKixJXZC3nUY85hs6DCC7Yo8</td>\n      <td>2023-12-30 03:30:00</td>\n      <td>2.739154e-02</td>\n      <td>2.246195e-01</td>\n      <td>8.200324</td>\n    </tr>\n    <tr>\n      <th>32633</th>\n      <td>gxNuJSHRScR7WkzQEYqvxVditaKkcc9V32KXPJLCbcT</td>\n      <td>2023-12-30 01:30:00</td>\n      <td>3.114076e-05</td>\n      <td>2.523964e-04</td>\n      <td>8.105017</td>\n    </tr>\n    <tr>\n      <th>32467</th>\n      <td>gxNuJSHRScR7WkzQEYqvxVditaKkcc9V32KXPJLCbcT</td>\n      <td>2023-12-30 00:50:00</td>\n      <td>1.380980e-05</td>\n      <td>2.854570e-04</td>\n      <td>20.670610</td>\n    </tr>\n    <tr>\n      <th>32420</th>\n      <td>gxNuJSHRScR7WkzQEYqvxVditaKkcc9V32KXPJLCbcT</td>\n      <td>2023-12-30 00:40:00</td>\n      <td>1.449023e-05</td>\n      <td>2.474649e-04</td>\n      <td>17.078049</td>\n    </tr>\n    <tr>\n      <th>31437</th>\n      <td>4MPD7cGs9746SkZnqhfRigNmpNq17EgTt76YHKC6GEbN</td>\n      <td>2023-12-29 21:20:00</td>\n      <td>8.671353e-06</td>\n      <td>4.300547e-05</td>\n      <td>4.959488</td>\n    </tr>\n    <tr>\n      <th>30076</th>\n      <td>FvVDc6gZmYho6DLLuJ3ptHS6rxb797Cxf1insiUnu2BL</td>\n      <td>2023-12-29 16:40:00</td>\n      <td>3.269423e-09</td>\n      <td>6.816458e-08</td>\n      <td>20.849114</td>\n    </tr>\n    <tr>\n      <th>29980</th>\n      <td>FvVDc6gZmYho6DLLuJ3ptHS6rxb797Cxf1insiUnu2BL</td>\n      <td>2023-12-29 16:20:00</td>\n      <td>2.489064e-09</td>\n      <td>4.141720e-08</td>\n      <td>16.639666</td>\n    </tr>\n    <tr>\n      <th>28945</th>\n      <td>FvVDc6gZmYho6DLLuJ3ptHS6rxb797Cxf1insiUnu2BL</td>\n      <td>2023-12-29 12:30:00</td>\n      <td>2.193188e-09</td>\n      <td>5.250520e-08</td>\n      <td>23.940124</td>\n    </tr>\n    <tr>\n      <th>28858</th>\n      <td>HF4b3Ttibi67z7McyugUgiQUc2Z3XRECTY5QFYiqbZXF</td>\n      <td>2023-12-29 12:10:00</td>\n      <td>7.537080e-07</td>\n      <td>5.190010e-06</td>\n      <td>6.885969</td>\n    </tr>\n    <tr>\n      <th>27147</th>\n      <td>FvVDc6gZmYho6DLLuJ3ptHS6rxb797Cxf1insiUnu2BL</td>\n      <td>2023-12-29 04:50:00</td>\n      <td>3.792405e-09</td>\n      <td>1.694089e-08</td>\n      <td>4.467057</td>\n    </tr>\n    <tr>\n      <th>26229</th>\n      <td>2FprjEk4MTSY9CxpKuENbGDdy69R15GHhtHpG5Durdbq</td>\n      <td>2023-12-29 01:10:00</td>\n      <td>2.302388e-03</td>\n      <td>1.172161e-02</td>\n      <td>5.091067</td>\n    </tr>\n    <tr>\n      <th>26060</th>\n      <td>EVoLsbmQXT6R3b11WjPpGEXyCjw1zmmir271XqDbKRsg</td>\n      <td>2023-12-29 00:20:00</td>\n      <td>2.198067e-04</td>\n      <td>1.042539e-03</td>\n      <td>4.742981</td>\n    </tr>\n    <tr>\n      <th>25685</th>\n      <td>FvVDc6gZmYho6DLLuJ3ptHS6rxb797Cxf1insiUnu2BL</td>\n      <td>2023-12-28 22:50:00</td>\n      <td>2.660825e-09</td>\n      <td>3.047747e-08</td>\n      <td>11.454141</td>\n    </tr>\n    <tr>\n      <th>25315</th>\n      <td>4jZXkSNgTQKCDb36ECZ6a2aNzcUniGcDeXgTdtM2HxAX</td>\n      <td>2023-12-28 21:40:00</td>\n      <td>2.876969e-07</td>\n      <td>1.640900e-06</td>\n      <td>5.703570</td>\n    </tr>\n    <tr>\n      <th>11999</th>\n      <td>CUwif1FiX5b3bwwb2n5Bm35AixvnR8LJjGUVmEwNZNgR</td>\n      <td>2023-12-26 23:20:00</td>\n      <td>1.572431e-06</td>\n      <td>7.568911e-06</td>\n      <td>4.813510</td>\n    </tr>\n    <tr>\n      <th>11951</th>\n      <td>CUwif1FiX5b3bwwb2n5Bm35AixvnR8LJjGUVmEwNZNgR</td>\n      <td>2023-12-26 23:10:00</td>\n      <td>1.623960e-06</td>\n      <td>7.143670e-06</td>\n      <td>4.398920</td>\n    </tr>\n    <tr>\n      <th>11811</th>\n      <td>BzS2tLd5fzx94EBQoLCnmQbafX4meiahziaCR8xvMjxf</td>\n      <td>2023-12-26 22:40:00</td>\n      <td>3.111117e-07</td>\n      <td>3.140009e-06</td>\n      <td>10.092866</td>\n    </tr>\n    <tr>\n      <th>11676</th>\n      <td>CUwif1FiX5b3bwwb2n5Bm35AixvnR8LJjGUVmEwNZNgR</td>\n      <td>2023-12-26 22:10:00</td>\n      <td>1.210432e-06</td>\n      <td>6.961297e-06</td>\n      <td>5.751086</td>\n    </tr>\n    <tr>\n      <th>11574</th>\n      <td>BzS2tLd5fzx94EBQoLCnmQbafX4meiahziaCR8xvMjxf</td>\n      <td>2023-12-26 21:50:00</td>\n      <td>6.862414e-07</td>\n      <td>4.712628e-06</td>\n      <td>6.867304</td>\n    </tr>\n    <tr>\n      <th>11521</th>\n      <td>CUwif1FiX5b3bwwb2n5Bm35AixvnR8LJjGUVmEwNZNgR</td>\n      <td>2023-12-26 21:40:00</td>\n      <td>4.707550e-07</td>\n      <td>7.703600e-06</td>\n      <td>16.364351</td>\n    </tr>\n    <tr>\n      <th>7844</th>\n      <td>87QbDz6Ze5B8L3PoGvqLyJ3JAydi39jNtvzXDEz7zbcK</td>\n      <td>2023-12-26 08:10:00</td>\n      <td>1.911103e-09</td>\n      <td>1.454661e-08</td>\n      <td>7.611631</td>\n    </tr>\n    <tr>\n      <th>5685</th>\n      <td>59JqWigb2AUvqjzY1bPz4RgYosY5pC5VGPCjiKPjqssH</td>\n      <td>2023-12-26 00:30:00</td>\n      <td>1.231740e-08</td>\n      <td>8.053917e-08</td>\n      <td>6.538651</td>\n    </tr>\n    <tr>\n      <th>1882</th>\n      <td>HUdqc5MR5h3FssESabPnQ1GTgTcPvnNudAuLj5J6a9sU</td>\n      <td>2023-12-25 12:20:00</td>\n      <td>2.299578e-07</td>\n      <td>1.547485e-06</td>\n      <td>6.729431</td>\n    </tr>\n  </tbody>\n</table>\n</div>"
     },
     "execution_count": 199,
     "metadata": {},
     "output_type": "execute_result"
    }
   ],
   "source": [
    "# what was guessed correctly\n",
    "guessed = results_df[(results_df['Actual']=='up') & (results_df['Predicted']=='up')].sort_values(by=['time_quant', 'mint'], ascending=False)\n",
    "guessed[['mint', 'time_quant', 'price', 'future_price', 'upside']]"
   ],
   "metadata": {
    "collapsed": false,
    "ExecuteTime": {
     "end_time": "2024-01-07T18:46:21.337378Z",
     "start_time": "2024-01-07T18:46:21.311564Z"
    }
   },
   "id": "610d77d03127299e"
  },
  {
   "cell_type": "code",
   "execution_count": 151,
   "outputs": [
    {
     "data": {
      "text/plain": "count                                                1\nunique                                               1\ntop       14JnYcbAooDAZVb72DgmFGVZGDon5Ko4SN6ELrpU6ood\nfreq                                                 1\nName: mint, dtype: object"
     },
     "execution_count": 151,
     "metadata": {},
     "output_type": "execute_result"
    }
   ],
   "source": [
    "guessed.mint.describe()"
   ],
   "metadata": {
    "collapsed": false,
    "ExecuteTime": {
     "end_time": "2024-01-04T13:18:12.134111Z",
     "start_time": "2024-01-04T13:18:12.125494Z"
    }
   },
   "id": "eb5aa523d3a36f3b"
  },
  {
   "cell_type": "code",
   "execution_count": 200,
   "outputs": [
    {
     "data": {
      "text/plain": "            UpP     DownP                                          mint  \\\n85426  0.308238  0.213523  3ZLC6dCEt1QkcjBLDh9GZzGuUStbstxhB5pDoeNkd1ZG   \n85103  0.282219  0.348003  FAx3C1DSNnhU8Prm5d5Bi7m3FrTFaeB8QtJPxbGxv5kj   \n85066  0.283088  0.250266  FAx3C1DSNnhU8Prm5d5Bi7m3FrTFaeB8QtJPxbGxv5kj   \n84962  0.302585  0.169702  FAx3C1DSNnhU8Prm5d5Bi7m3FrTFaeB8QtJPxbGxv5kj   \n83815  0.331651  0.287971  DqTKHDkRttkuHoFUJWZ3zUbxRrdsndTwe7qKwDG6SYCS   \n...         ...       ...                                           ...   \n1325   0.332081  0.044260  J4CGQ1gsGDo4tLkxVfgiHTm2x84mU8iizpWojPsAttwQ   \n1223   0.281991  0.034533  J4CGQ1gsGDo4tLkxVfgiHTm2x84mU8iizpWojPsAttwQ   \n1065   0.278773  0.038554  J4CGQ1gsGDo4tLkxVfgiHTm2x84mU8iizpWojPsAttwQ   \n544    0.191596  0.012777  9gwTegFJJErDpWJKjPfLr2g2zrE3nL1v5zpwbtsk3c6P   \n432    0.317903  0.010648  9gwTegFJJErDpWJKjPfLr2g2zrE3nL1v5zpwbtsk3c6P   \n\n               time_quant         price  future_price     upside  \\\n85426 2024-01-06 12:10:00  5.437741e-07  9.996867e-07   1.838423   \n85103 2024-01-06 10:30:00  1.108842e-06  1.265267e-07   0.114107   \n85066 2024-01-06 10:20:00  6.256772e-07  1.265267e-07   0.202224   \n84962 2024-01-06 09:50:00  7.109725e-07  1.265267e-07   0.177963   \n83815 2024-01-06 05:20:00  1.952371e-08  8.255744e-07  42.285727   \n...                   ...           ...           ...        ...   \n1325  2023-12-25 09:50:00  4.631944e-05  2.750722e-05   0.593859   \n1223  2023-12-25 09:20:00  5.277763e-05  2.750722e-05   0.521191   \n1065  2023-12-25 08:40:00  5.973443e-05  2.774487e-05   0.464470   \n544   2023-12-25 06:20:00  1.903132e-05  5.235259e-05   2.750866   \n432   2023-12-25 05:50:00  1.908861e-05  5.244989e-05   2.747706   \n\n       sma_vol_sum_1d  \n85426        0.070182  \n85103        0.113126  \n85066        0.037181  \n84962        0.006459  \n83815        0.092460  \n...               ...  \n1325        18.053652  \n1223        18.003699  \n1065        17.853812  \n544         51.647935  \n432         51.497968  \n\n[449 rows x 8 columns]",
      "text/html": "<div>\n<style scoped>\n    .dataframe tbody tr th:only-of-type {\n        vertical-align: middle;\n    }\n\n    .dataframe tbody tr th {\n        vertical-align: top;\n    }\n\n    .dataframe thead th {\n        text-align: right;\n    }\n</style>\n<table border=\"1\" class=\"dataframe\">\n  <thead>\n    <tr style=\"text-align: right;\">\n      <th></th>\n      <th>UpP</th>\n      <th>DownP</th>\n      <th>mint</th>\n      <th>time_quant</th>\n      <th>price</th>\n      <th>future_price</th>\n      <th>upside</th>\n      <th>sma_vol_sum_1d</th>\n    </tr>\n  </thead>\n  <tbody>\n    <tr>\n      <th>85426</th>\n      <td>0.308238</td>\n      <td>0.213523</td>\n      <td>3ZLC6dCEt1QkcjBLDh9GZzGuUStbstxhB5pDoeNkd1ZG</td>\n      <td>2024-01-06 12:10:00</td>\n      <td>5.437741e-07</td>\n      <td>9.996867e-07</td>\n      <td>1.838423</td>\n      <td>0.070182</td>\n    </tr>\n    <tr>\n      <th>85103</th>\n      <td>0.282219</td>\n      <td>0.348003</td>\n      <td>FAx3C1DSNnhU8Prm5d5Bi7m3FrTFaeB8QtJPxbGxv5kj</td>\n      <td>2024-01-06 10:30:00</td>\n      <td>1.108842e-06</td>\n      <td>1.265267e-07</td>\n      <td>0.114107</td>\n      <td>0.113126</td>\n    </tr>\n    <tr>\n      <th>85066</th>\n      <td>0.283088</td>\n      <td>0.250266</td>\n      <td>FAx3C1DSNnhU8Prm5d5Bi7m3FrTFaeB8QtJPxbGxv5kj</td>\n      <td>2024-01-06 10:20:00</td>\n      <td>6.256772e-07</td>\n      <td>1.265267e-07</td>\n      <td>0.202224</td>\n      <td>0.037181</td>\n    </tr>\n    <tr>\n      <th>84962</th>\n      <td>0.302585</td>\n      <td>0.169702</td>\n      <td>FAx3C1DSNnhU8Prm5d5Bi7m3FrTFaeB8QtJPxbGxv5kj</td>\n      <td>2024-01-06 09:50:00</td>\n      <td>7.109725e-07</td>\n      <td>1.265267e-07</td>\n      <td>0.177963</td>\n      <td>0.006459</td>\n    </tr>\n    <tr>\n      <th>83815</th>\n      <td>0.331651</td>\n      <td>0.287971</td>\n      <td>DqTKHDkRttkuHoFUJWZ3zUbxRrdsndTwe7qKwDG6SYCS</td>\n      <td>2024-01-06 05:20:00</td>\n      <td>1.952371e-08</td>\n      <td>8.255744e-07</td>\n      <td>42.285727</td>\n      <td>0.092460</td>\n    </tr>\n    <tr>\n      <th>...</th>\n      <td>...</td>\n      <td>...</td>\n      <td>...</td>\n      <td>...</td>\n      <td>...</td>\n      <td>...</td>\n      <td>...</td>\n      <td>...</td>\n    </tr>\n    <tr>\n      <th>1325</th>\n      <td>0.332081</td>\n      <td>0.044260</td>\n      <td>J4CGQ1gsGDo4tLkxVfgiHTm2x84mU8iizpWojPsAttwQ</td>\n      <td>2023-12-25 09:50:00</td>\n      <td>4.631944e-05</td>\n      <td>2.750722e-05</td>\n      <td>0.593859</td>\n      <td>18.053652</td>\n    </tr>\n    <tr>\n      <th>1223</th>\n      <td>0.281991</td>\n      <td>0.034533</td>\n      <td>J4CGQ1gsGDo4tLkxVfgiHTm2x84mU8iizpWojPsAttwQ</td>\n      <td>2023-12-25 09:20:00</td>\n      <td>5.277763e-05</td>\n      <td>2.750722e-05</td>\n      <td>0.521191</td>\n      <td>18.003699</td>\n    </tr>\n    <tr>\n      <th>1065</th>\n      <td>0.278773</td>\n      <td>0.038554</td>\n      <td>J4CGQ1gsGDo4tLkxVfgiHTm2x84mU8iizpWojPsAttwQ</td>\n      <td>2023-12-25 08:40:00</td>\n      <td>5.973443e-05</td>\n      <td>2.774487e-05</td>\n      <td>0.464470</td>\n      <td>17.853812</td>\n    </tr>\n    <tr>\n      <th>544</th>\n      <td>0.191596</td>\n      <td>0.012777</td>\n      <td>9gwTegFJJErDpWJKjPfLr2g2zrE3nL1v5zpwbtsk3c6P</td>\n      <td>2023-12-25 06:20:00</td>\n      <td>1.903132e-05</td>\n      <td>5.235259e-05</td>\n      <td>2.750866</td>\n      <td>51.647935</td>\n    </tr>\n    <tr>\n      <th>432</th>\n      <td>0.317903</td>\n      <td>0.010648</td>\n      <td>9gwTegFJJErDpWJKjPfLr2g2zrE3nL1v5zpwbtsk3c6P</td>\n      <td>2023-12-25 05:50:00</td>\n      <td>1.908861e-05</td>\n      <td>5.244989e-05</td>\n      <td>2.747706</td>\n      <td>51.497968</td>\n    </tr>\n  </tbody>\n</table>\n<p>449 rows × 8 columns</p>\n</div>"
     },
     "execution_count": 200,
     "metadata": {},
     "output_type": "execute_result"
    }
   ],
   "source": [
    "purchased = results_df[results_df['Predicted']=='up'].sort_values(by=['time_quant', 'mint'], ascending=False)\n",
    "purchased[['UpP', 'DownP', 'mint', 'time_quant', 'price', 'future_price', 'upside', 'sma_vol_sum_1d']].sort_values(by=['time_quant'], ascending=False)  "
   ],
   "metadata": {
    "collapsed": false,
    "ExecuteTime": {
     "end_time": "2024-01-07T18:46:28.487550Z",
     "start_time": "2024-01-07T18:46:28.458542Z"
    }
   },
   "id": "770de9eb31dcc677"
  },
  {
   "cell_type": "code",
   "execution_count": 195,
   "outputs": [
    {
     "data": {
      "text/plain": "count                                              150\nunique                                              71\ntop       87QbDz6Ze5B8L3PoGvqLyJ3JAydi39jNtvzXDEz7zbcK\nfreq                                                14\nName: mint, dtype: object"
     },
     "execution_count": 195,
     "metadata": {},
     "output_type": "execute_result"
    }
   ],
   "source": [
    "purchased.mint.describe()\n"
   ],
   "metadata": {
    "collapsed": false,
    "ExecuteTime": {
     "end_time": "2024-01-07T18:44:02.034183Z",
     "start_time": "2024-01-07T18:44:02.026727Z"
    }
   },
   "id": "8c7e3d155a4a0fba"
  },
  {
   "cell_type": "code",
   "execution_count": 154,
   "outputs": [
    {
     "data": {
      "text/plain": "count    7.000000\nmean     0.875333\nstd      0.923304\nmin      0.015222\n25%      0.070902\n50%      0.619517\n75%      1.590961\nmax      2.168864\nName: sma_vol_sum_1d, dtype: float64"
     },
     "execution_count": 154,
     "metadata": {},
     "output_type": "execute_result"
    }
   ],
   "source": [
    "results_df[results_df['Predicted']=='up'].sma_vol_sum_1d.describe()\n",
    "# fix negative volume\n"
   ],
   "metadata": {
    "collapsed": false,
    "ExecuteTime": {
     "end_time": "2024-01-04T13:18:14.158307Z",
     "start_time": "2024-01-04T13:18:14.150524Z"
    }
   },
   "id": "f29d45cc497bb320"
  },
  {
   "cell_type": "code",
   "execution_count": 155,
   "outputs": [
    {
     "data": {
      "text/plain": "Predicted\nflat    12864\ndown      441\nup          7\nName: count, dtype: int64"
     },
     "execution_count": 155,
     "metadata": {},
     "output_type": "execute_result"
    }
   ],
   "source": [
    "results_df['Predicted'].value_counts()"
   ],
   "metadata": {
    "collapsed": false,
    "ExecuteTime": {
     "end_time": "2024-01-04T13:18:15.135829Z",
     "start_time": "2024-01-04T13:18:15.113352Z"
    }
   },
   "id": "13102803fac1ca11"
  },
  {
   "cell_type": "code",
   "execution_count": 156,
   "outputs": [
    {
     "data": {
      "text/plain": "mint\nEPjFWdd5AufqSSqeM2qN1xzybapC8G4wEGGkZwyTDt1v    300\nEs9vMFrzaCERmJfrF4H2FYD4KCoNkY11McCe8BenwNYB    297\nDezXAZ8z7PnrnRJjz3wXBoRgixCa6xjnB7YaB1pPB263    280\n9gwTegFJJErDpWJKjPfLr2g2zrE3nL1v5zpwbtsk3c6P    273\nLFG1ezantSY2LPX8jRz2qa31pPEhpwN9msFDzZw4T9Q     271\n                                               ... \n5Gd5vzFS31oSb52Jegvncrhr5Bt4MGRHqz2NepyJZcHh      1\nF2mGAvcNr47h4Qx1W8TcvTWhGhA58b2hsHH4uYSZrGYL      1\nFjRUB1HafHsaGQxibEwKpQxXgVXbE4k3pw3XWqKLxAiX      1\nHCKZPSGLvUyWTWwPtmcL41fdR8dNgDmzgx11mgCihVkG      1\n7MAMEPQdexxy2z5sbohRqzcNAdRmrisnHnETq6yptjdo      1\nName: count, Length: 236, dtype: int64"
     },
     "execution_count": 156,
     "metadata": {},
     "output_type": "execute_result"
    }
   ],
   "source": [
    "results_df['mint'].value_counts()"
   ],
   "metadata": {
    "collapsed": false,
    "ExecuteTime": {
     "end_time": "2024-01-04T13:18:17.674586Z",
     "start_time": "2024-01-04T13:18:17.650010Z"
    }
   },
   "id": "498de5f3068d5ac4"
  },
  {
   "cell_type": "code",
   "execution_count": 116,
   "outputs": [
    {
     "data": {
      "text/plain": "      Actual Predicted          time_quant  \\\n165     flat      flat 2023-12-30 09:10:00   \n445     flat      flat 2023-12-30 10:30:00   \n598     flat      flat 2023-12-30 11:10:00   \n1098    flat      flat 2023-12-30 13:20:00   \n1358    flat      flat 2023-12-30 14:30:00   \n...      ...       ...                 ...   \n26648   flat      flat 2024-01-03 21:00:00   \n26804   flat      flat 2024-01-03 21:30:00   \n26914   flat      flat 2024-01-03 21:50:00   \n26976   flat      flat 2024-01-03 22:00:00   \n27510   flat      flat 2024-01-03 23:40:00   \n\n                                               mint     price  future_price  \\\n165    99fp2z9TANArLJR4hcwx8fJSzjz7GQwUn7huGf32nDdv  0.000095      0.000104   \n445    99fp2z9TANArLJR4hcwx8fJSzjz7GQwUn7huGf32nDdv  0.000098      0.000132   \n598    99fp2z9TANArLJR4hcwx8fJSzjz7GQwUn7huGf32nDdv  0.000120      0.000133   \n1098   99fp2z9TANArLJR4hcwx8fJSzjz7GQwUn7huGf32nDdv  0.000125      0.000125   \n1358   99fp2z9TANArLJR4hcwx8fJSzjz7GQwUn7huGf32nDdv  0.000097      0.000141   \n...                                             ...       ...           ...   \n26648  99fp2z9TANArLJR4hcwx8fJSzjz7GQwUn7huGf32nDdv  0.000043      0.000042   \n26804  99fp2z9TANArLJR4hcwx8fJSzjz7GQwUn7huGf32nDdv  0.000037      0.000042   \n26914  99fp2z9TANArLJR4hcwx8fJSzjz7GQwUn7huGf32nDdv  0.000047      0.000042   \n26976  99fp2z9TANArLJR4hcwx8fJSzjz7GQwUn7huGf32nDdv  0.000046      0.000042   \n27510  99fp2z9TANArLJR4hcwx8fJSzjz7GQwUn7huGf32nDdv  0.000047      0.000053   \n\n      label  day_of_week  hour  u_price_sma_10m  ...  ema_vol_sell_1d  \\\n165    flat            5     9         0.930400  ...        90.930654   \n445    flat            5    10         0.939484  ...        94.127106   \n598    flat            5    11         0.809310  ...        93.952888   \n1098   flat            5    13         0.960984  ...        87.483720   \n1358   flat            5    14         1.243228  ...        96.866656   \n...     ...          ...   ...              ...  ...              ...   \n26648  flat            2    21         1.111615  ...        67.862975   \n26804  flat            2    21         1.248536  ...        67.381968   \n26914  flat            2    21         0.973278  ...        66.101457   \n26976  flat            2    22         0.975319  ...        66.101457   \n27510  flat            2    23         0.965762  ...        67.015584   \n\n       sma_vol_sum_10m  ema_vol_sum_10m  sma_vol_sum_1h  ema_vol_sum_1h  \\\n165           0.115989         0.107761        3.788072        5.061999   \n445           0.095148         0.133825        2.479048        2.220667   \n598           0.102302         0.088852        2.424012        2.155592   \n1098          0.012154         0.024919        1.882639        1.614058   \n1358          0.030008         0.050110        1.659913        1.125329   \n...                ...              ...             ...             ...   \n26648         0.153787         0.225146        1.251825        1.382052   \n26804         0.121401         0.102121        1.255153        1.246121   \n26914         0.157165         0.143465        1.290918        1.311373   \n26976         0.578594         0.911004        1.712347        2.070908   \n27510         0.503379         0.289151        1.748061        1.747806   \n\n       sma_vol_sum_4h  ema_vol_sum_4h  sma_vol_sum_1d  ema_vol_sum_1d  \\\n165         28.803518       31.480449      154.270505      152.896013   \n445         24.955202       22.916505      149.483234      151.282205   \n598         29.098655       31.816594      149.376050      151.022980   \n1098        26.609313       26.908793      142.030561      145.353317   \n1358        23.209849       19.930340      141.104119      154.474622   \n...               ...             ...             ...             ...   \n26648        3.707916        3.544978       63.566965      111.606969   \n26804        3.711244        3.520122       63.165621      110.886213   \n26914        3.747009        3.557458       62.526303      109.672463   \n26976        4.168437        4.344125       63.484637      110.383990   \n27510        4.211295        4.602389       61.683999      106.468573   \n\n         upside  \n165    1.095196  \n445    1.352834  \n598    1.109808  \n1098   0.996687  \n1358   1.446352  \n...         ...  \n26648  0.968080  \n26804  1.129669  \n26914  0.902549  \n26976  0.909573  \n27510  1.131750  \n\n[107 rows x 46 columns]",
      "text/html": "<div>\n<style scoped>\n    .dataframe tbody tr th:only-of-type {\n        vertical-align: middle;\n    }\n\n    .dataframe tbody tr th {\n        vertical-align: top;\n    }\n\n    .dataframe thead th {\n        text-align: right;\n    }\n</style>\n<table border=\"1\" class=\"dataframe\">\n  <thead>\n    <tr style=\"text-align: right;\">\n      <th></th>\n      <th>Actual</th>\n      <th>Predicted</th>\n      <th>time_quant</th>\n      <th>mint</th>\n      <th>price</th>\n      <th>future_price</th>\n      <th>label</th>\n      <th>day_of_week</th>\n      <th>hour</th>\n      <th>u_price_sma_10m</th>\n      <th>...</th>\n      <th>ema_vol_sell_1d</th>\n      <th>sma_vol_sum_10m</th>\n      <th>ema_vol_sum_10m</th>\n      <th>sma_vol_sum_1h</th>\n      <th>ema_vol_sum_1h</th>\n      <th>sma_vol_sum_4h</th>\n      <th>ema_vol_sum_4h</th>\n      <th>sma_vol_sum_1d</th>\n      <th>ema_vol_sum_1d</th>\n      <th>upside</th>\n    </tr>\n  </thead>\n  <tbody>\n    <tr>\n      <th>165</th>\n      <td>flat</td>\n      <td>flat</td>\n      <td>2023-12-30 09:10:00</td>\n      <td>99fp2z9TANArLJR4hcwx8fJSzjz7GQwUn7huGf32nDdv</td>\n      <td>0.000095</td>\n      <td>0.000104</td>\n      <td>flat</td>\n      <td>5</td>\n      <td>9</td>\n      <td>0.930400</td>\n      <td>...</td>\n      <td>90.930654</td>\n      <td>0.115989</td>\n      <td>0.107761</td>\n      <td>3.788072</td>\n      <td>5.061999</td>\n      <td>28.803518</td>\n      <td>31.480449</td>\n      <td>154.270505</td>\n      <td>152.896013</td>\n      <td>1.095196</td>\n    </tr>\n    <tr>\n      <th>445</th>\n      <td>flat</td>\n      <td>flat</td>\n      <td>2023-12-30 10:30:00</td>\n      <td>99fp2z9TANArLJR4hcwx8fJSzjz7GQwUn7huGf32nDdv</td>\n      <td>0.000098</td>\n      <td>0.000132</td>\n      <td>flat</td>\n      <td>5</td>\n      <td>10</td>\n      <td>0.939484</td>\n      <td>...</td>\n      <td>94.127106</td>\n      <td>0.095148</td>\n      <td>0.133825</td>\n      <td>2.479048</td>\n      <td>2.220667</td>\n      <td>24.955202</td>\n      <td>22.916505</td>\n      <td>149.483234</td>\n      <td>151.282205</td>\n      <td>1.352834</td>\n    </tr>\n    <tr>\n      <th>598</th>\n      <td>flat</td>\n      <td>flat</td>\n      <td>2023-12-30 11:10:00</td>\n      <td>99fp2z9TANArLJR4hcwx8fJSzjz7GQwUn7huGf32nDdv</td>\n      <td>0.000120</td>\n      <td>0.000133</td>\n      <td>flat</td>\n      <td>5</td>\n      <td>11</td>\n      <td>0.809310</td>\n      <td>...</td>\n      <td>93.952888</td>\n      <td>0.102302</td>\n      <td>0.088852</td>\n      <td>2.424012</td>\n      <td>2.155592</td>\n      <td>29.098655</td>\n      <td>31.816594</td>\n      <td>149.376050</td>\n      <td>151.022980</td>\n      <td>1.109808</td>\n    </tr>\n    <tr>\n      <th>1098</th>\n      <td>flat</td>\n      <td>flat</td>\n      <td>2023-12-30 13:20:00</td>\n      <td>99fp2z9TANArLJR4hcwx8fJSzjz7GQwUn7huGf32nDdv</td>\n      <td>0.000125</td>\n      <td>0.000125</td>\n      <td>flat</td>\n      <td>5</td>\n      <td>13</td>\n      <td>0.960984</td>\n      <td>...</td>\n      <td>87.483720</td>\n      <td>0.012154</td>\n      <td>0.024919</td>\n      <td>1.882639</td>\n      <td>1.614058</td>\n      <td>26.609313</td>\n      <td>26.908793</td>\n      <td>142.030561</td>\n      <td>145.353317</td>\n      <td>0.996687</td>\n    </tr>\n    <tr>\n      <th>1358</th>\n      <td>flat</td>\n      <td>flat</td>\n      <td>2023-12-30 14:30:00</td>\n      <td>99fp2z9TANArLJR4hcwx8fJSzjz7GQwUn7huGf32nDdv</td>\n      <td>0.000097</td>\n      <td>0.000141</td>\n      <td>flat</td>\n      <td>5</td>\n      <td>14</td>\n      <td>1.243228</td>\n      <td>...</td>\n      <td>96.866656</td>\n      <td>0.030008</td>\n      <td>0.050110</td>\n      <td>1.659913</td>\n      <td>1.125329</td>\n      <td>23.209849</td>\n      <td>19.930340</td>\n      <td>141.104119</td>\n      <td>154.474622</td>\n      <td>1.446352</td>\n    </tr>\n    <tr>\n      <th>...</th>\n      <td>...</td>\n      <td>...</td>\n      <td>...</td>\n      <td>...</td>\n      <td>...</td>\n      <td>...</td>\n      <td>...</td>\n      <td>...</td>\n      <td>...</td>\n      <td>...</td>\n      <td>...</td>\n      <td>...</td>\n      <td>...</td>\n      <td>...</td>\n      <td>...</td>\n      <td>...</td>\n      <td>...</td>\n      <td>...</td>\n      <td>...</td>\n      <td>...</td>\n      <td>...</td>\n    </tr>\n    <tr>\n      <th>26648</th>\n      <td>flat</td>\n      <td>flat</td>\n      <td>2024-01-03 21:00:00</td>\n      <td>99fp2z9TANArLJR4hcwx8fJSzjz7GQwUn7huGf32nDdv</td>\n      <td>0.000043</td>\n      <td>0.000042</td>\n      <td>flat</td>\n      <td>2</td>\n      <td>21</td>\n      <td>1.111615</td>\n      <td>...</td>\n      <td>67.862975</td>\n      <td>0.153787</td>\n      <td>0.225146</td>\n      <td>1.251825</td>\n      <td>1.382052</td>\n      <td>3.707916</td>\n      <td>3.544978</td>\n      <td>63.566965</td>\n      <td>111.606969</td>\n      <td>0.968080</td>\n    </tr>\n    <tr>\n      <th>26804</th>\n      <td>flat</td>\n      <td>flat</td>\n      <td>2024-01-03 21:30:00</td>\n      <td>99fp2z9TANArLJR4hcwx8fJSzjz7GQwUn7huGf32nDdv</td>\n      <td>0.000037</td>\n      <td>0.000042</td>\n      <td>flat</td>\n      <td>2</td>\n      <td>21</td>\n      <td>1.248536</td>\n      <td>...</td>\n      <td>67.381968</td>\n      <td>0.121401</td>\n      <td>0.102121</td>\n      <td>1.255153</td>\n      <td>1.246121</td>\n      <td>3.711244</td>\n      <td>3.520122</td>\n      <td>63.165621</td>\n      <td>110.886213</td>\n      <td>1.129669</td>\n    </tr>\n    <tr>\n      <th>26914</th>\n      <td>flat</td>\n      <td>flat</td>\n      <td>2024-01-03 21:50:00</td>\n      <td>99fp2z9TANArLJR4hcwx8fJSzjz7GQwUn7huGf32nDdv</td>\n      <td>0.000047</td>\n      <td>0.000042</td>\n      <td>flat</td>\n      <td>2</td>\n      <td>21</td>\n      <td>0.973278</td>\n      <td>...</td>\n      <td>66.101457</td>\n      <td>0.157165</td>\n      <td>0.143465</td>\n      <td>1.290918</td>\n      <td>1.311373</td>\n      <td>3.747009</td>\n      <td>3.557458</td>\n      <td>62.526303</td>\n      <td>109.672463</td>\n      <td>0.902549</td>\n    </tr>\n    <tr>\n      <th>26976</th>\n      <td>flat</td>\n      <td>flat</td>\n      <td>2024-01-03 22:00:00</td>\n      <td>99fp2z9TANArLJR4hcwx8fJSzjz7GQwUn7huGf32nDdv</td>\n      <td>0.000046</td>\n      <td>0.000042</td>\n      <td>flat</td>\n      <td>2</td>\n      <td>22</td>\n      <td>0.975319</td>\n      <td>...</td>\n      <td>66.101457</td>\n      <td>0.578594</td>\n      <td>0.911004</td>\n      <td>1.712347</td>\n      <td>2.070908</td>\n      <td>4.168437</td>\n      <td>4.344125</td>\n      <td>63.484637</td>\n      <td>110.383990</td>\n      <td>0.909573</td>\n    </tr>\n    <tr>\n      <th>27510</th>\n      <td>flat</td>\n      <td>flat</td>\n      <td>2024-01-03 23:40:00</td>\n      <td>99fp2z9TANArLJR4hcwx8fJSzjz7GQwUn7huGf32nDdv</td>\n      <td>0.000047</td>\n      <td>0.000053</td>\n      <td>flat</td>\n      <td>2</td>\n      <td>23</td>\n      <td>0.965762</td>\n      <td>...</td>\n      <td>67.015584</td>\n      <td>0.503379</td>\n      <td>0.289151</td>\n      <td>1.748061</td>\n      <td>1.747806</td>\n      <td>4.211295</td>\n      <td>4.602389</td>\n      <td>61.683999</td>\n      <td>106.468573</td>\n      <td>1.131750</td>\n    </tr>\n  </tbody>\n</table>\n<p>107 rows × 46 columns</p>\n</div>"
     },
     "execution_count": 116,
     "metadata": {},
     "output_type": "execute_result"
    }
   ],
   "source": [
    "# mint 99fp2z9TANArLJR4hcwx8fJSzjz7GQwUn7huGf32nDdv\n",
    "results_df[results_df['mint']=='99fp2z9TANArLJR4hcwx8fJSzjz7GQwUn7huGf32nDdv']"
   ],
   "metadata": {
    "collapsed": false,
    "ExecuteTime": {
     "end_time": "2024-01-04T13:11:18.622646Z",
     "start_time": "2024-01-04T13:11:18.614034Z"
    }
   },
   "id": "85a6209339a06f78"
  },
  {
   "cell_type": "code",
   "execution_count": 117,
   "outputs": [
    {
     "data": {
      "text/plain": "      Actual Predicted          time_quant  \\\n0       flat      flat 2023-12-30 08:30:00   \n1       flat      flat 2023-12-30 08:30:00   \n2       flat      flat 2023-12-30 08:30:00   \n3       flat      flat 2023-12-30 08:30:00   \n4       flat      flat 2023-12-30 08:30:00   \n...      ...       ...                 ...   \n27727   flat      flat 2024-01-04 00:20:00   \n27728   flat      flat 2024-01-04 00:20:00   \n27729   flat      flat 2024-01-04 00:20:00   \n27730   flat      flat 2024-01-04 00:20:00   \n27731   flat      flat 2024-01-04 00:20:00   \n\n                                               mint         price  \\\n0      12FvihLoAzTtaA98YVuErGftCXtoc83t3YFk4WdKK79T  9.930370e-07   \n1      2XNuNgqFpNxEWq8wcqRpJFeWBVsLgxa56fMDQVfq7i7Y  2.826238e-04   \n2      2x8o3hA5S5fBxCSE9hzVTf3RohcMWHqkDNKNEPuzprD5  2.976297e-05   \n3      2zwuFv4tzMrJMA3Gq5nNH3i4ojWPtCkjmGzTMXe4RpMc  1.944247e-05   \n4      31iQsahfa4CMiirU7REygBzuAWg4R4ah7Y4aDu9ZfXJP  1.039810e-10   \n...                                             ...           ...   \n27727   KTMEEZDPyYiJmDeiy8ChLcWHP52jhzMG9g6FQrYDTf8  7.980008e-11   \n27728   LFG1ezantSY2LPX8jRz2qa31pPEhpwN9msFDzZw4T9Q  2.730993e-07   \n27729   drakduQWnTS89CdTUdgHmZzEkN6reBLYqrk8rzVhU53  5.363368e-08   \n27730   gxNuJSHRScR7WkzQEYqvxVditaKkcc9V32KXPJLCbcT  6.396623e-05   \n27731   skJyor4eEoBsDpxyURP367RjGEK5xbqrjWjjyjQGo2N  8.941823e-07   \n\n       future_price label  day_of_week  hour  u_price_sma_10m  ...  \\\n0      4.359319e-07  flat            5     8         0.747452  ...   \n1      2.169545e-04  flat            5     8         1.087920  ...   \n2      2.607552e-05  flat            5     8         1.026468  ...   \n3      1.500439e-05  flat            5     8         1.069679  ...   \n4      5.917822e-11  flat            5     8         0.808583  ...   \n...             ...   ...          ...   ...              ...  ...   \n27727  3.277159e-11  flat            3     0         1.149582  ...   \n27728  2.105918e-07  flat            3     0         0.942776  ...   \n27729  5.334881e-08  flat            3     0         1.019868  ...   \n27730  5.061710e-05  flat            3     0         0.732243  ...   \n27731  1.985846e-06  flat            3     0         1.664710  ...   \n\n       ema_vol_sell_1d  sma_vol_sum_10m  ema_vol_sum_10m  sma_vol_sum_1h  \\\n0            19.374471         0.242418         0.234116        1.145117   \n1            19.966602         0.652804         0.681182       12.042169   \n2           101.836320         0.521736         0.538792        8.972038   \n3           232.486088         0.651856         0.579489        9.376199   \n4           186.058000         1.543446         1.977391       17.563163   \n...                ...              ...              ...             ...   \n27727        27.644720         2.919935         4.487728        3.786115   \n27728       556.648984         1.150401         1.745633       46.976387   \n27729       162.160206         0.670125         0.947271       12.693423   \n27730       162.375073         0.532225         0.435274        9.465668   \n27731         3.522837         0.099650         0.137254        0.268418   \n\n       ema_vol_sum_1h  sma_vol_sum_4h  ema_vol_sum_4h  sma_vol_sum_1d  \\\n0            1.328542        3.890211        3.748550       24.440557   \n1           10.282466       20.429140       25.838622      132.789408   \n2            6.993093       36.080560       37.152979      212.977115   \n3            8.926900       70.665628       76.172024      361.950123   \n4           20.297679       65.775765       61.970659      426.796282   \n...               ...             ...             ...             ...   \n27727        6.206388        5.761930        8.733140       85.505423   \n27728       54.598590      555.989226      358.029839     1297.308194   \n27729       10.512182       95.411569       86.925002      500.631668   \n27730        6.493125       71.455419       75.697797      556.782302   \n27731        0.385697        4.524898        3.237085       10.558095   \n\n       ema_vol_sum_1d    upside  \n0           29.679349  0.438989  \n1           36.391252  0.767644  \n2          178.242873  0.876106  \n3          448.937875  0.771733  \n4          345.141176  0.569125  \n...               ...       ...  \n27727       44.384374  0.410671  \n27728      928.001224  0.771118  \n27729      319.042967  0.994689  \n27730      309.413279  0.791310  \n27731        7.440468  2.220852  \n\n[27732 rows x 46 columns]",
      "text/html": "<div>\n<style scoped>\n    .dataframe tbody tr th:only-of-type {\n        vertical-align: middle;\n    }\n\n    .dataframe tbody tr th {\n        vertical-align: top;\n    }\n\n    .dataframe thead th {\n        text-align: right;\n    }\n</style>\n<table border=\"1\" class=\"dataframe\">\n  <thead>\n    <tr style=\"text-align: right;\">\n      <th></th>\n      <th>Actual</th>\n      <th>Predicted</th>\n      <th>time_quant</th>\n      <th>mint</th>\n      <th>price</th>\n      <th>future_price</th>\n      <th>label</th>\n      <th>day_of_week</th>\n      <th>hour</th>\n      <th>u_price_sma_10m</th>\n      <th>...</th>\n      <th>ema_vol_sell_1d</th>\n      <th>sma_vol_sum_10m</th>\n      <th>ema_vol_sum_10m</th>\n      <th>sma_vol_sum_1h</th>\n      <th>ema_vol_sum_1h</th>\n      <th>sma_vol_sum_4h</th>\n      <th>ema_vol_sum_4h</th>\n      <th>sma_vol_sum_1d</th>\n      <th>ema_vol_sum_1d</th>\n      <th>upside</th>\n    </tr>\n  </thead>\n  <tbody>\n    <tr>\n      <th>0</th>\n      <td>flat</td>\n      <td>flat</td>\n      <td>2023-12-30 08:30:00</td>\n      <td>12FvihLoAzTtaA98YVuErGftCXtoc83t3YFk4WdKK79T</td>\n      <td>9.930370e-07</td>\n      <td>4.359319e-07</td>\n      <td>flat</td>\n      <td>5</td>\n      <td>8</td>\n      <td>0.747452</td>\n      <td>...</td>\n      <td>19.374471</td>\n      <td>0.242418</td>\n      <td>0.234116</td>\n      <td>1.145117</td>\n      <td>1.328542</td>\n      <td>3.890211</td>\n      <td>3.748550</td>\n      <td>24.440557</td>\n      <td>29.679349</td>\n      <td>0.438989</td>\n    </tr>\n    <tr>\n      <th>1</th>\n      <td>flat</td>\n      <td>flat</td>\n      <td>2023-12-30 08:30:00</td>\n      <td>2XNuNgqFpNxEWq8wcqRpJFeWBVsLgxa56fMDQVfq7i7Y</td>\n      <td>2.826238e-04</td>\n      <td>2.169545e-04</td>\n      <td>flat</td>\n      <td>5</td>\n      <td>8</td>\n      <td>1.087920</td>\n      <td>...</td>\n      <td>19.966602</td>\n      <td>0.652804</td>\n      <td>0.681182</td>\n      <td>12.042169</td>\n      <td>10.282466</td>\n      <td>20.429140</td>\n      <td>25.838622</td>\n      <td>132.789408</td>\n      <td>36.391252</td>\n      <td>0.767644</td>\n    </tr>\n    <tr>\n      <th>2</th>\n      <td>flat</td>\n      <td>flat</td>\n      <td>2023-12-30 08:30:00</td>\n      <td>2x8o3hA5S5fBxCSE9hzVTf3RohcMWHqkDNKNEPuzprD5</td>\n      <td>2.976297e-05</td>\n      <td>2.607552e-05</td>\n      <td>flat</td>\n      <td>5</td>\n      <td>8</td>\n      <td>1.026468</td>\n      <td>...</td>\n      <td>101.836320</td>\n      <td>0.521736</td>\n      <td>0.538792</td>\n      <td>8.972038</td>\n      <td>6.993093</td>\n      <td>36.080560</td>\n      <td>37.152979</td>\n      <td>212.977115</td>\n      <td>178.242873</td>\n      <td>0.876106</td>\n    </tr>\n    <tr>\n      <th>3</th>\n      <td>flat</td>\n      <td>flat</td>\n      <td>2023-12-30 08:30:00</td>\n      <td>2zwuFv4tzMrJMA3Gq5nNH3i4ojWPtCkjmGzTMXe4RpMc</td>\n      <td>1.944247e-05</td>\n      <td>1.500439e-05</td>\n      <td>flat</td>\n      <td>5</td>\n      <td>8</td>\n      <td>1.069679</td>\n      <td>...</td>\n      <td>232.486088</td>\n      <td>0.651856</td>\n      <td>0.579489</td>\n      <td>9.376199</td>\n      <td>8.926900</td>\n      <td>70.665628</td>\n      <td>76.172024</td>\n      <td>361.950123</td>\n      <td>448.937875</td>\n      <td>0.771733</td>\n    </tr>\n    <tr>\n      <th>4</th>\n      <td>flat</td>\n      <td>flat</td>\n      <td>2023-12-30 08:30:00</td>\n      <td>31iQsahfa4CMiirU7REygBzuAWg4R4ah7Y4aDu9ZfXJP</td>\n      <td>1.039810e-10</td>\n      <td>5.917822e-11</td>\n      <td>flat</td>\n      <td>5</td>\n      <td>8</td>\n      <td>0.808583</td>\n      <td>...</td>\n      <td>186.058000</td>\n      <td>1.543446</td>\n      <td>1.977391</td>\n      <td>17.563163</td>\n      <td>20.297679</td>\n      <td>65.775765</td>\n      <td>61.970659</td>\n      <td>426.796282</td>\n      <td>345.141176</td>\n      <td>0.569125</td>\n    </tr>\n    <tr>\n      <th>...</th>\n      <td>...</td>\n      <td>...</td>\n      <td>...</td>\n      <td>...</td>\n      <td>...</td>\n      <td>...</td>\n      <td>...</td>\n      <td>...</td>\n      <td>...</td>\n      <td>...</td>\n      <td>...</td>\n      <td>...</td>\n      <td>...</td>\n      <td>...</td>\n      <td>...</td>\n      <td>...</td>\n      <td>...</td>\n      <td>...</td>\n      <td>...</td>\n      <td>...</td>\n      <td>...</td>\n    </tr>\n    <tr>\n      <th>27727</th>\n      <td>flat</td>\n      <td>flat</td>\n      <td>2024-01-04 00:20:00</td>\n      <td>KTMEEZDPyYiJmDeiy8ChLcWHP52jhzMG9g6FQrYDTf8</td>\n      <td>7.980008e-11</td>\n      <td>3.277159e-11</td>\n      <td>flat</td>\n      <td>3</td>\n      <td>0</td>\n      <td>1.149582</td>\n      <td>...</td>\n      <td>27.644720</td>\n      <td>2.919935</td>\n      <td>4.487728</td>\n      <td>3.786115</td>\n      <td>6.206388</td>\n      <td>5.761930</td>\n      <td>8.733140</td>\n      <td>85.505423</td>\n      <td>44.384374</td>\n      <td>0.410671</td>\n    </tr>\n    <tr>\n      <th>27728</th>\n      <td>flat</td>\n      <td>flat</td>\n      <td>2024-01-04 00:20:00</td>\n      <td>LFG1ezantSY2LPX8jRz2qa31pPEhpwN9msFDzZw4T9Q</td>\n      <td>2.730993e-07</td>\n      <td>2.105918e-07</td>\n      <td>flat</td>\n      <td>3</td>\n      <td>0</td>\n      <td>0.942776</td>\n      <td>...</td>\n      <td>556.648984</td>\n      <td>1.150401</td>\n      <td>1.745633</td>\n      <td>46.976387</td>\n      <td>54.598590</td>\n      <td>555.989226</td>\n      <td>358.029839</td>\n      <td>1297.308194</td>\n      <td>928.001224</td>\n      <td>0.771118</td>\n    </tr>\n    <tr>\n      <th>27729</th>\n      <td>flat</td>\n      <td>flat</td>\n      <td>2024-01-04 00:20:00</td>\n      <td>drakduQWnTS89CdTUdgHmZzEkN6reBLYqrk8rzVhU53</td>\n      <td>5.363368e-08</td>\n      <td>5.334881e-08</td>\n      <td>flat</td>\n      <td>3</td>\n      <td>0</td>\n      <td>1.019868</td>\n      <td>...</td>\n      <td>162.160206</td>\n      <td>0.670125</td>\n      <td>0.947271</td>\n      <td>12.693423</td>\n      <td>10.512182</td>\n      <td>95.411569</td>\n      <td>86.925002</td>\n      <td>500.631668</td>\n      <td>319.042967</td>\n      <td>0.994689</td>\n    </tr>\n    <tr>\n      <th>27730</th>\n      <td>flat</td>\n      <td>flat</td>\n      <td>2024-01-04 00:20:00</td>\n      <td>gxNuJSHRScR7WkzQEYqvxVditaKkcc9V32KXPJLCbcT</td>\n      <td>6.396623e-05</td>\n      <td>5.061710e-05</td>\n      <td>flat</td>\n      <td>3</td>\n      <td>0</td>\n      <td>0.732243</td>\n      <td>...</td>\n      <td>162.375073</td>\n      <td>0.532225</td>\n      <td>0.435274</td>\n      <td>9.465668</td>\n      <td>6.493125</td>\n      <td>71.455419</td>\n      <td>75.697797</td>\n      <td>556.782302</td>\n      <td>309.413279</td>\n      <td>0.791310</td>\n    </tr>\n    <tr>\n      <th>27731</th>\n      <td>flat</td>\n      <td>flat</td>\n      <td>2024-01-04 00:20:00</td>\n      <td>skJyor4eEoBsDpxyURP367RjGEK5xbqrjWjjyjQGo2N</td>\n      <td>8.941823e-07</td>\n      <td>1.985846e-06</td>\n      <td>flat</td>\n      <td>3</td>\n      <td>0</td>\n      <td>1.664710</td>\n      <td>...</td>\n      <td>3.522837</td>\n      <td>0.099650</td>\n      <td>0.137254</td>\n      <td>0.268418</td>\n      <td>0.385697</td>\n      <td>4.524898</td>\n      <td>3.237085</td>\n      <td>10.558095</td>\n      <td>7.440468</td>\n      <td>2.220852</td>\n    </tr>\n  </tbody>\n</table>\n<p>27732 rows × 46 columns</p>\n</div>"
     },
     "execution_count": 117,
     "metadata": {},
     "output_type": "execute_result"
    }
   ],
   "source": [
    "results_df"
   ],
   "metadata": {
    "collapsed": false,
    "ExecuteTime": {
     "end_time": "2024-01-04T13:11:21.306968Z",
     "start_time": "2024-01-04T13:11:21.287117Z"
    }
   },
   "id": "5bbf8e693f460b06"
  },
  {
   "cell_type": "code",
   "execution_count": null,
   "outputs": [],
   "source": [],
   "metadata": {
    "collapsed": false
   },
   "id": "19b1514301d14e46"
  }
 ],
 "metadata": {
  "kernelspec": {
   "display_name": "Python 3",
   "language": "python",
   "name": "python3"
  },
  "language_info": {
   "codemirror_mode": {
    "name": "ipython",
    "version": 2
   },
   "file_extension": ".py",
   "mimetype": "text/x-python",
   "name": "python",
   "nbconvert_exporter": "python",
   "pygments_lexer": "ipython2",
   "version": "2.7.6"
  }
 },
 "nbformat": 4,
 "nbformat_minor": 5
}
